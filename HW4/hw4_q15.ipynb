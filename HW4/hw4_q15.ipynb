{
 "cells": [
  {
   "cell_type": "code",
   "execution_count": 1,
   "metadata": {},
   "outputs": [],
   "source": [
    "import numpy as np\n",
    "from liblinear.liblinearutil import *\n",
    "from itertools import combinations_with_replacement"
   ]
  },
  {
   "cell_type": "code",
   "execution_count": 2,
   "metadata": {},
   "outputs": [],
   "source": [
    "train_filePath = 'hw4_train.dat'\n",
    "test_filePath = 'hw4_test.dat'\n",
    "\n",
    "def readFile(path):\n",
    "    X = []\n",
    "    y = []\n",
    "    for line in open(path).readlines():\n",
    "        data = line.strip().split(' ')\n",
    "        y.append(float(data[-1]))\n",
    "        X.append(list(map(float, data[:-1])))\n",
    "\n",
    "    return np.array(X), np.array(y)\n",
    "\n",
    "def transform(data, Q) : \n",
    "    data_tf = np.column_stack((np.ones(len(data)), data))\n",
    "    c = range(len(data[0]))\n",
    "    for i in range(2, Q + 1):\n",
    "        orderList = [e for e in combinations_with_replacement(c, i)]\n",
    "        for j in orderList:\n",
    "            temp = np.ones(len(data))\n",
    "            for k in range(len(j)):\n",
    "                temp = np.multiply(temp, data[:, j[k]])\n",
    "            \n",
    "            data_tf = np.column_stack((data_tf, temp))\n",
    "        \n",
    "    return data_tf\n",
    "\n",
    "def ZeroOneError(X_pred, y):\n",
    "    err = np.mean(y != X_pred)\n",
    "\n",
    "    return err"
   ]
  },
  {
   "cell_type": "code",
   "execution_count": 3,
   "metadata": {},
   "outputs": [
    {
     "name": "stdout",
     "output_type": "stream",
     "text": [
      "(120, 84)\n",
      "(80, 84)\n"
     ]
    }
   ],
   "source": [
    "X_train, y_train = readFile(train_filePath)\n",
    "X_test, y_test = readFile(test_filePath)\n",
    "\n",
    "X_train_tf = transform(X_train, 3)\n",
    "X_test_tf = transform(X_test, 3)\n",
    "\n",
    "X_train_tf_split, y_train_split = X_train_tf[:120], y_train[:120]\n",
    "X_val, y_val = X_train_tf[120:], y_train[120:]\n",
    "\n",
    "print(X_train_tf_split.shape)\n",
    "print(X_val.shape)"
   ]
  },
  {
   "cell_type": "code",
   "execution_count": 4,
   "metadata": {},
   "outputs": [
    {
     "name": "stdout",
     "output_type": "stream",
     "text": [
      "Accuracy = 92.75% (742/800) (classification)\n",
      "Eout =  0.0725\n"
     ]
    }
   ],
   "source": [
    "minEval = np.inf\n",
    "best_log10_lambda = 0\n",
    "for log10_lambda in (-4, -2, 0, 2, 4):\n",
    "    c = 1 / 2 / (10 ** log10_lambda)\n",
    "    model = train(y_train_split, X_train_tf_split, '-s 0 -c ' + str(c) + ' -e 0.000001')\n",
    "    Pred_val, _, _ = predict(y_val, X_val, model, ' -q')\n",
    "    Eval = ZeroOneError(Pred_val, y_val)\n",
    "\n",
    "    if Eval == minEval and log10_lambda > best_log10_lambda:\n",
    "        best_log10_lambda = log10_lambda\n",
    "    elif Eval < minEval:\n",
    "        minEval = Eval\n",
    "        best_log10_lambda = log10_lambda\n",
    "\n",
    "c = 1 / 2 / (10 ** best_log10_lambda)\n",
    "model = train(y_train, X_train_tf, '-s 0 -c ' + str(c) + ' -e 0.000001')\n",
    "Pred_test, _, _ = predict(y_test, X_test_tf, model)\n",
    "Eout = ZeroOneError(Pred_test, y_test)\n",
    "\n",
    "print('Eout = ', Eout)"
   ]
  }
 ],
 "metadata": {
  "interpreter": {
   "hash": "b3140c15f8c543afaecd51f7585697eb95506ea7acc11748be6f09d14f5b0914"
  },
  "kernelspec": {
   "display_name": "Python 3.6.7 64-bit ('ML': conda)",
   "language": "python",
   "name": "python3"
  },
  "language_info": {
   "codemirror_mode": {
    "name": "ipython",
    "version": 3
   },
   "file_extension": ".py",
   "mimetype": "text/x-python",
   "name": "python",
   "nbconvert_exporter": "python",
   "pygments_lexer": "ipython3",
   "version": "3.6.7"
  },
  "orig_nbformat": 4
 },
 "nbformat": 4,
 "nbformat_minor": 2
}
