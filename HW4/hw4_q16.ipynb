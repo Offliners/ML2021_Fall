{
 "cells": [
  {
   "cell_type": "code",
   "execution_count": 29,
   "metadata": {},
   "outputs": [],
   "source": [
    "import numpy as np\n",
    "from liblinear.liblinearutil import *"
   ]
  },
  {
   "cell_type": "code",
   "execution_count": 30,
   "metadata": {},
   "outputs": [],
   "source": [
    "train_filePath = 'hw4_train.dat'\n",
    "test_filePath = 'hw4_test.dat'\n",
    "\n",
    "def readFile(path):\n",
    "    X = []\n",
    "    y = []\n",
    "    for line in open(path).readlines():\n",
    "        data = line.strip().split(' ')\n",
    "        y.append(float(data[-1]))\n",
    "        X.append(list(map(float, data[:-1])))\n",
    "\n",
    "    return np.array(X), np.array(y)\n",
    "\n",
    "def transform(data, Q) : \n",
    "    data_tf = np.column_stack((np.ones(len(data)), data))\n",
    "    for i in range(2, Q + 1): \n",
    "        exp = np.power(data, i)                  \n",
    "        data_tf = np.column_stack((data_tf, exp))\n",
    "\n",
    "        idx = set(range(len(data[0])))\n",
    "        for j in range(len(data[0])):\n",
    "            idx = idx - {j}\n",
    "            temp = np.transpose(data[:, list(idx)])\n",
    "            first = np.power(data[:, j], i - 1)\n",
    "            for col in temp:\n",
    "                data_tf = np.column_stack((data_tf, np.multiply(first, col)))\n",
    "    \n",
    "    return data_tf\n",
    "\n",
    "def ZeroOneError(X_pred, y):\n",
    "    err = np.mean(y != X_pred)\n",
    "\n",
    "    return err\n",
    "\n",
    "def CrossValidation(X, y, V):\n",
    "    return np.vstack((X[:V * 40],X[(V + 1) * 40:])),\\\n",
    "           np.hstack((y[:V * 40],y[(V + 1) * 40:])),\\\n",
    "           X[V * 40:(V + 1) * 40],\\\n",
    "           y[V * 40:(V + 1) * 40]"
   ]
  },
  {
   "cell_type": "code",
   "execution_count": 31,
   "metadata": {},
   "outputs": [
    {
     "name": "stdout",
     "output_type": "stream",
     "text": [
      "(200, 49)\n",
      "(800, 49)\n"
     ]
    }
   ],
   "source": [
    "X_train, y_train = readFile(train_filePath)\n",
    "X_test, y_test = readFile(test_filePath)\n",
    "\n",
    "X_train_tf = transform(X_train, 3)\n",
    "X_test_tf = transform(X_test, 3)\n",
    "\n",
    "print(X_train_tf.shape)\n",
    "print(X_test_tf.shape)"
   ]
  },
  {
   "cell_type": "code",
   "execution_count": 32,
   "metadata": {},
   "outputs": [
    {
     "name": "stdout",
     "output_type": "stream",
     "text": [
      "The best Ecv =  0.10500000000000001\n"
     ]
    }
   ],
   "source": [
    "minEcv = np.inf\n",
    "best_log10_lambda = 0\n",
    "best_Ecv = 0\n",
    "V = 5\n",
    "for log10_lambda in (-4, -2, 0, 2, 4):\n",
    "    Ecv = 0\n",
    "    C = 1 / 2 / (10 ** log10_lambda)\n",
    "    for v in range(V):\n",
    "        X_train_split, y_train_split, X_val, y_val = CrossValidation(X_train_tf, y_train, v)\n",
    "        model = train(y_train_split, X_train_split, '-s 0 -c ' + str(C) + ' -e 0.000001 -q')\n",
    "        Pred_val, _, _ = predict(y_val, X_val, model, ' -q')\n",
    "        Eval = ZeroOneError(Pred_val, y_val)\n",
    "        Ecv += Eval\n",
    "\n",
    "    Ecv = Ecv / V\n",
    "    if Ecv == minEcv and log10_lambda > best_log10_lambda:\n",
    "        best_log10_lambda = log10_lambda\n",
    "        best_Ecv = Ecv\n",
    "    elif Ecv < minEcv:\n",
    "        minEcv = Ecv\n",
    "        best_log10_lambda = log10_lambda\n",
    "        best_Ecv = Ecv\n",
    "\n",
    "print('The best Ecv = ', best_Ecv)"
   ]
  }
 ],
 "metadata": {
  "interpreter": {
   "hash": "b3140c15f8c543afaecd51f7585697eb95506ea7acc11748be6f09d14f5b0914"
  },
  "kernelspec": {
   "display_name": "Python 3.6.7 64-bit ('ML': conda)",
   "language": "python",
   "name": "python3"
  },
  "language_info": {
   "codemirror_mode": {
    "name": "ipython",
    "version": 3
   },
   "file_extension": ".py",
   "mimetype": "text/x-python",
   "name": "python",
   "nbconvert_exporter": "python",
   "pygments_lexer": "ipython3",
   "version": "3.6.7"
  },
  "orig_nbformat": 4
 },
 "nbformat": 4,
 "nbformat_minor": 2
}
