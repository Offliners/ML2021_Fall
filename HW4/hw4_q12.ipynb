{
 "cells": [
  {
   "cell_type": "code",
   "execution_count": 1,
   "metadata": {},
   "outputs": [],
   "source": [
    "import numpy as np\n",
    "from liblinear.liblinearutil import *"
   ]
  },
  {
   "cell_type": "code",
   "execution_count": 2,
   "metadata": {},
   "outputs": [],
   "source": [
    "train_filePath = 'hw4_train.dat'\n",
    "test_filePath = 'hw4_test.dat'\n",
    "\n",
    "def readFile(path):\n",
    "    X = []\n",
    "    y = []\n",
    "    for line in open(path).readlines():\n",
    "        data = line.strip().split(' ')\n",
    "        y.append(float(data[-1]))\n",
    "        X.append(list(map(float, data[:-1])))\n",
    "\n",
    "    return np.array(X), np.array(y)\n",
    "\n",
    "def transform(data, Q) : \n",
    "    data_tf = np.column_stack((np.ones(len(data)), data))\n",
    "    for i in range(2, Q + 1): \n",
    "        idx = set(range(len(data[0])))\n",
    "        for j in range(len(data[0])):\n",
    "            idx = idx - {j}\n",
    "            temp = np.transpose(data[:, list(idx)])\n",
    "            first = np.power(data[:, j], i - 1)\n",
    "            for col in temp:\n",
    "                data_tf = np.column_stack((data_tf, np.multiply(first, col)))\n",
    "\n",
    "        exp = np.power(data, i)                  \n",
    "        data_tf = np.column_stack((data_tf, exp))\n",
    "    \n",
    "    return data_tf\n",
    "\n",
    "def ZeroOneError(X_pred, y):\n",
    "    pred = [np.sign(e) for e in X_pred]\n",
    "    y_pred = [np.sign(e) for e in pred]\n",
    "    err = np.mean(y != y_pred)\n",
    "\n",
    "    return err"
   ]
  },
  {
   "cell_type": "code",
   "execution_count": 3,
   "metadata": {},
   "outputs": [
    {
     "name": "stdout",
     "output_type": "stream",
     "text": [
      "(200, 49)\n",
      "(800, 49)\n"
     ]
    }
   ],
   "source": [
    "X_train, y_train = readFile(train_filePath)\n",
    "X_test, y_test = readFile(test_filePath)\n",
    "\n",
    "X_train_tf = transform(X_train, 3)\n",
    "X_test_tf = transform(X_test, 3)\n",
    "\n",
    "print(X_train_tf.shape)\n",
    "print(X_test_tf.shape)"
   ]
  },
  {
   "cell_type": "code",
   "execution_count": 4,
   "metadata": {},
   "outputs": [
    {
     "name": "stdout",
     "output_type": "stream",
     "text": [
      "Accuracy = 88.125% (705/800) (classification)\n",
      "Accuracy = 89.5% (716/800) (classification)\n",
      "Accuracy = 91.75% (734/800) (classification)\n",
      "Accuracy = 91.5% (732/800) (classification)\n",
      "Accuracy = 82.625% (661/800) (classification)\n",
      "The best log_10(λ*) =  4\n"
     ]
    }
   ],
   "source": [
    "minEout = np.inf\n",
    "best_log10_lambda = 0\n",
    "for log10_lambda in (-4, -2, 0, 2, 4):\n",
    "    c = 0.5 * (1 / 10 ** log10_lambda)\n",
    "    model = train(y_train, X_train_tf, '-s 0 -c ' + str(c) + ' -e 0.000001')\n",
    "    Pred_test, _, _ = predict(y_test, X_test_tf, model)\n",
    "    Eout = ZeroOneError(y_test, Pred_test)\n",
    "     \n",
    "    if Eout < minEout:\n",
    "        minEout = Eout\n",
    "        best_log10_lambda = log10_lambda\n",
    "    else:\n",
    "        best_log10_lambda = max(best_log10_lambda, log10_lambda)\n",
    "\n",
    "print('The best log_10(λ*) = ', best_log10_lambda)"
   ]
  }
 ],
 "metadata": {
  "interpreter": {
   "hash": "b3140c15f8c543afaecd51f7585697eb95506ea7acc11748be6f09d14f5b0914"
  },
  "kernelspec": {
   "display_name": "Python 3.6.7 64-bit ('ML': conda)",
   "language": "python",
   "name": "python3"
  },
  "language_info": {
   "codemirror_mode": {
    "name": "ipython",
    "version": 3
   },
   "file_extension": ".py",
   "mimetype": "text/x-python",
   "name": "python",
   "nbconvert_exporter": "python",
   "pygments_lexer": "ipython3",
   "version": "3.6.7"
  },
  "orig_nbformat": 4
 },
 "nbformat": 4,
 "nbformat_minor": 2
}
