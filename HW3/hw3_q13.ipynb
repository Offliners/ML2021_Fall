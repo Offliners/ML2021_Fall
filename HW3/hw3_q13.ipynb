{
 "cells": [
  {
   "cell_type": "code",
   "execution_count": 14,
   "metadata": {},
   "outputs": [],
   "source": [
    "import numpy as np"
   ]
  },
  {
   "cell_type": "code",
   "execution_count": 15,
   "metadata": {},
   "outputs": [],
   "source": [
    "train_filePath = 'hw3_train.dat'\n",
    "test_filePath = 'hw3_test.dat'\n",
    "\n",
    "def readFile(path):\n",
    "    X = []\n",
    "    y = []\n",
    "    for line in open(path).readlines():\n",
    "        data = line.strip().split('\\t')\n",
    "        y.append(float(data[-1]))\n",
    "        X.append(list(map(float, data[:-1])))\n",
    "\n",
    "    return np.array(X), np.array(y)\n",
    "\n",
    "def transform(data, Q) : \n",
    "    data_tf = np.column_stack((np.ones(len(data)), data))\n",
    "    for i in range(2, Q + 1): \n",
    "        exp = np.power(data, i)                  \n",
    "        data_tf = np.column_stack((data_tf, exp)) \n",
    "    \n",
    "    return data_tf\n",
    "\n",
    "def LinearRegression(X, y):\n",
    "    dagger = np.linalg.pinv(X)\n",
    "    wlin = np.matmul(dagger, y)\n",
    "    pred = np.matmul(X, wlin)\n",
    "    \n",
    "    return pred, wlin\n",
    "\n",
    "def ZeroOneError(X_pred, y):\n",
    "    pred = [np.sign(e) for e in X_pred]\n",
    "    y_pred = [np.sign(e) for e in pred]\n",
    "    err = np.mean(y != y_pred)\n",
    "\n",
    "    return err\n",
    "\n"
   ]
  },
  {
   "cell_type": "code",
   "execution_count": 16,
   "metadata": {},
   "outputs": [
    {
     "name": "stdout",
     "output_type": "stream",
     "text": [
      "(1000, 81)\n",
      "(3000, 81)\n"
     ]
    }
   ],
   "source": [
    "X_train, y_train = readFile(train_filePath)\n",
    "X_test, y_test = readFile(test_filePath)\n",
    "\n",
    "X_train_tf = transform(X_train, 8)\n",
    "X_test_tf = transform(X_test, 8)\n",
    "\n",
    "print(X_train_tf.shape)\n",
    "print(X_test_tf.shape)"
   ]
  },
  {
   "cell_type": "code",
   "execution_count": 17,
   "metadata": {},
   "outputs": [
    {
     "name": "stdout",
     "output_type": "stream",
     "text": [
      "0.4576666666666667\n"
     ]
    }
   ],
   "source": [
    "Pred_train, wlin = LinearRegression(X_train_tf, y_train)\n",
    "Ein = ZeroOneError(Pred_train, y_train)\n",
    "\n",
    "Pred_test = np.matmul(X_test_tf, wlin)\n",
    "Eout = ZeroOneError(Pred_test, y_test)\n",
    "\n",
    "print(abs(Ein - Eout))"
   ]
  }
 ],
 "metadata": {
  "interpreter": {
   "hash": "b3140c15f8c543afaecd51f7585697eb95506ea7acc11748be6f09d14f5b0914"
  },
  "kernelspec": {
   "display_name": "Python 3.6.7 64-bit ('ML': conda)",
   "language": "python",
   "name": "python3"
  },
  "language_info": {
   "codemirror_mode": {
    "name": "ipython",
    "version": 3
   },
   "file_extension": ".py",
   "mimetype": "text/x-python",
   "name": "python",
   "nbconvert_exporter": "python",
   "pygments_lexer": "ipython3",
   "version": "3.6.7"
  },
  "orig_nbformat": 4
 },
 "nbformat": 4,
 "nbformat_minor": 2
}
