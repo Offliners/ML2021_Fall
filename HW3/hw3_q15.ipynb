{
 "cells": [
  {
   "cell_type": "code",
   "execution_count": 34,
   "metadata": {},
   "outputs": [],
   "source": [
    "import numpy as np"
   ]
  },
  {
   "cell_type": "code",
   "execution_count": 35,
   "metadata": {},
   "outputs": [],
   "source": [
    "train_filePath = 'hw3_train.dat'\n",
    "test_filePath = 'hw3_test.dat'\n",
    "\n",
    "def readFile(path):\n",
    "    X = []\n",
    "    y = []\n",
    "    for line in open(path).readlines():\n",
    "        data = line.strip().split('\\t')\n",
    "        y.append(float(data[-1]))\n",
    "        X.append(list(map(float, data[:-1])))\n",
    "\n",
    "    return np.array(X), np.array(y)\n",
    "\n",
    "def transform(data, dim) :              \n",
    "    data_tf = np.column_stack(((np.ones(len(data)), data[:, list(range(dim))])))\n",
    "    \n",
    "    return data_tf\n",
    "\n",
    "def LinearRegression(X, y):\n",
    "    dagger = np.linalg.pinv(X)\n",
    "    wlin = np.matmul(dagger, y)\n",
    "    pred = np.matmul(X, wlin)\n",
    "    \n",
    "    return pred, wlin\n",
    "\n",
    "def ZeroOneError(X_pred, y):\n",
    "    pred = [np.sign(e) for e in X_pred]\n",
    "    y_pred = [np.sign(e) for e in pred]\n",
    "    err = np.mean(y != y_pred)\n",
    "\n",
    "    return err\n",
    "\n"
   ]
  },
  {
   "cell_type": "code",
   "execution_count": 36,
   "metadata": {},
   "outputs": [],
   "source": [
    "X_train, y_train = readFile(train_filePath)\n",
    "X_test, y_test = readFile(test_filePath)"
   ]
  },
  {
   "cell_type": "code",
   "execution_count": 37,
   "metadata": {},
   "outputs": [
    {
     "name": "stdout",
     "output_type": "stream",
     "text": [
      "Order 1 : 0.13666666666666666\n",
      "Order 2 : 0.13433333333333336\n",
      "Order 3 : 0.1323333333333333\n",
      "Order 4 : 0.1443333333333333\n",
      "Order 5 : 0.2523333333333333\n",
      "Order 6 : 0.3223333333333333\n",
      "Order 7 : 0.26466666666666666\n",
      "Order 8 : 0.2653333333333333\n",
      "Order 9 : 0.2483333333333333\n",
      "Order 10 : 0.3226666666666666\n",
      "Min error order is 3\n"
     ]
    }
   ],
   "source": [
    "minError = np.Inf\n",
    "order = 0\n",
    "for i in range(10):\n",
    "    X_train_tf = transform(X_train, i + 1)\n",
    "    X_test_tf = transform(X_test, i + 1)\n",
    "\n",
    "    Pred_train, wlin = LinearRegression(X_train_tf, y_train)\n",
    "    Ein = ZeroOneError(Pred_train, y_train)\n",
    "\n",
    "    Pred_test = np.matmul(X_test_tf, wlin)\n",
    "    Eout = ZeroOneError(Pred_test, y_test)\n",
    "\n",
    "    err = abs(Ein - Eout)\n",
    "    print(f\"Order {i + 1} : {err}\")\n",
    "\n",
    "    if err < minError:\n",
    "        minError = err\n",
    "        order = i + 1\n",
    "\n",
    "print(f\"Min error order is {order}\")"
   ]
  }
 ],
 "metadata": {
  "interpreter": {
   "hash": "b3140c15f8c543afaecd51f7585697eb95506ea7acc11748be6f09d14f5b0914"
  },
  "kernelspec": {
   "display_name": "Python 3.6.7 64-bit ('ML': conda)",
   "language": "python",
   "name": "python3"
  },
  "language_info": {
   "codemirror_mode": {
    "name": "ipython",
    "version": 3
   },
   "file_extension": ".py",
   "mimetype": "text/x-python",
   "name": "python",
   "nbconvert_exporter": "python",
   "pygments_lexer": "ipython3",
   "version": "3.6.7"
  },
  "orig_nbformat": 4
 },
 "nbformat": 4,
 "nbformat_minor": 2
}
