{
  "nbformat": 4,
  "nbformat_minor": 0,
  "metadata": {
    "colab": {
      "name": "HTML2021_Fall.ipynb",
      "provenance": [],
      "include_colab_link": true
    },
    "kernelspec": {
      "name": "python3",
      "display_name": "Python 3"
    },
    "language_info": {
      "name": "python"
    },
    "accelerator": "GPU"
  },
  "cells": [
    {
      "cell_type": "markdown",
      "metadata": {
        "id": "view-in-github",
        "colab_type": "text"
      },
      "source": [
        "<a href=\"https://colab.research.google.com/github/Offliners/HTML_2021Fall/blob/main/Final%20Project/HTML2021_Fall_svm_dnn_testKNN.ipynb\" target=\"_parent\"><img src=\"https://colab.research.google.com/assets/colab-badge.svg\" alt=\"Open In Colab\"/></a>"
      ]
    },
    {
      "cell_type": "markdown",
      "source": [
        "# **Directory**\n",
        "\n",
        "```\n",
        "data_dir\n",
        "    ├── data\n",
        "    │   ├── Test_IDs.csv\n",
        "    │   ├── ...\n",
        "    │   ├── status.csv\n",
        "    ├── statistics\n",
        "    │   ├── Churn Category_stat.png\n",
        "    │   ├── ...\n",
        "    │   ├── miss rate_stat.png\n",
        "```"
      ],
      "metadata": {
        "id": "PD40tT3p379e"
      }
    },
    {
      "cell_type": "markdown",
      "source": [
        "# **Display information of GPU**"
      ],
      "metadata": {
        "id": "ldW8_oif3EEr"
      }
    },
    {
      "cell_type": "code",
      "source": [
        "!nvidia-smi"
      ],
      "metadata": {
        "colab": {
          "base_uri": "https://localhost:8080/"
        },
        "id": "Qf0PLuNJf95W",
        "outputId": "17feed53-1ede-4982-c4ae-64e8e66c3a9e"
      },
      "execution_count": 1,
      "outputs": [
        {
          "output_type": "stream",
          "name": "stdout",
          "text": [
            "Sat Jan 15 05:27:55 2022       \n",
            "+-----------------------------------------------------------------------------+\n",
            "| NVIDIA-SMI 495.46       Driver Version: 460.32.03    CUDA Version: 11.2     |\n",
            "|-------------------------------+----------------------+----------------------+\n",
            "| GPU  Name        Persistence-M| Bus-Id        Disp.A | Volatile Uncorr. ECC |\n",
            "| Fan  Temp  Perf  Pwr:Usage/Cap|         Memory-Usage | GPU-Util  Compute M. |\n",
            "|                               |                      |               MIG M. |\n",
            "|===============================+======================+======================|\n",
            "|   0  Tesla T4            Off  | 00000000:00:04.0 Off |                    0 |\n",
            "| N/A   43C    P8    10W /  70W |      0MiB / 15109MiB |      0%      Default |\n",
            "|                               |                      |                  N/A |\n",
            "+-------------------------------+----------------------+----------------------+\n",
            "                                                                               \n",
            "+-----------------------------------------------------------------------------+\n",
            "| Processes:                                                                  |\n",
            "|  GPU   GI   CI        PID   Type   Process name                  GPU Memory |\n",
            "|        ID   ID                                                   Usage      |\n",
            "|=============================================================================|\n",
            "|  No running processes found                                                 |\n",
            "+-----------------------------------------------------------------------------+\n"
          ]
        }
      ]
    },
    {
      "cell_type": "markdown",
      "source": [
        "# **Download Dataset**"
      ],
      "metadata": {
        "id": "JxUhMWWmJPHv"
      }
    },
    {
      "cell_type": "code",
      "source": [
        "!mkdir \"./data\"\n",
        "!mkdir \"./statistics\"\n",
        "!gdown --id 1X5yz7QLAu4nttnCea4ALf6alae6Clv_o --output \"./data/dataset.zip\"\n",
        "!unzip -q \"./data/dataset.zip\" -d \"./data\"\n",
        "!rm \"./data/dataset.zip\""
      ],
      "metadata": {
        "colab": {
          "base_uri": "https://localhost:8080/"
        },
        "id": "zjX-fvNeKG3p",
        "outputId": "d27df643-44c8-404f-a0b0-a2480bb7b56f"
      },
      "execution_count": 2,
      "outputs": [
        {
          "output_type": "stream",
          "name": "stdout",
          "text": [
            "Downloading...\n",
            "From: https://drive.google.com/uc?id=1X5yz7QLAu4nttnCea4ALf6alae6Clv_o\n",
            "To: /content/data/dataset.zip\n",
            "\r  0% 0.00/660k [00:00<?, ?B/s]\r100% 660k/660k [00:00<00:00, 95.4MB/s]\n"
          ]
        }
      ]
    },
    {
      "cell_type": "markdown",
      "source": [
        "# **Import Some Packages**"
      ],
      "metadata": {
        "id": "hosMVZZWI_6B"
      }
    },
    {
      "cell_type": "code",
      "execution_count": 302,
      "metadata": {
        "id": "-lrHo2qeI-p9"
      },
      "outputs": [],
      "source": [
        "import time\n",
        "import numpy as np\n",
        "import pandas as pd\n",
        "from glob import glob\n",
        "from collections import Counter\n",
        "import collections\n",
        "import matplotlib.pyplot as plt\n",
        "from sklearn.preprocessing import LabelEncoder\n",
        "from sklearn.preprocessing import StandardScaler\n",
        "from sklearn import metrics\n",
        "from sklearn.model_selection import train_test_split\n",
        "from sklearn.metrics import plot_confusion_matrix, classification_report\n",
        "from sklearn.impute import KNNImputer\n",
        "\n",
        "# SMOTE\n",
        "from imblearn.over_sampling import ADASYN\n",
        "\n",
        "# SVM\n",
        "from sklearn.svm import SVC\n",
        "\n",
        "# DNN\n",
        "import torch\n",
        "import torch.nn as nn\n",
        "from torch.utils.data import Dataset, DataLoader \n",
        "from torchsummary import summary\n",
        "from torch.optim.lr_scheduler import StepLR\n",
        "\n",
        "# XGBoost\n",
        "from xgboost import XGBClassifier"
      ]
    },
    {
      "cell_type": "markdown",
      "source": [
        "# **Set a Random Seed**"
      ],
      "metadata": {
        "id": "HH36XbKB0P3c"
      }
    },
    {
      "cell_type": "code",
      "source": [
        "# Set a random seed for reproducibility\n",
        "seed = 0\n",
        "np.random.seed(seed)\n",
        "torch.manual_seed(seed)\n",
        "if torch.cuda.is_available():\n",
        "    torch.cuda.manual_seed(seed)\n",
        "    torch.cuda.manual_seed_all(seed)  \n",
        "torch.backends.cudnn.benchmark = False\n",
        "torch.backends.cudnn.deterministic = True"
      ],
      "metadata": {
        "id": "sM7IyXfL0ekd"
      },
      "execution_count": 303,
      "outputs": []
    },
    {
      "cell_type": "markdown",
      "source": [
        "# **CSV Files Combination**"
      ],
      "metadata": {
        "id": "Q69ecrSlJpyT"
      }
    },
    {
      "cell_type": "code",
      "source": [
        "train_path = './data/Train_IDs.csv'  # path to training data\n",
        "test_path = './data/Test_IDs.csv'    # path to testing data\n",
        "\n",
        "files = glob('./data/*.csv')\n",
        "data_csv = []\n",
        "data_csv.append(train_path)\n",
        "for csv in files:\n",
        "    if ('IDs' not in csv) and ('sample' not in csv) and ('population' not in csv) and ('result' not in csv):\n",
        "        data_csv.append(csv)\n",
        "  \n",
        "print(data_csv)\n",
        "df_list = [pd.read_csv(file) for file in data_csv]"
      ],
      "metadata": {
        "colab": {
          "base_uri": "https://localhost:8080/"
        },
        "id": "PubV0z-fNFWK",
        "outputId": "5bd10dec-2e0b-4e37-a496-f9f2d1c0dd41"
      },
      "execution_count": 304,
      "outputs": [
        {
          "output_type": "stream",
          "name": "stdout",
          "text": [
            "['./data/Train_IDs.csv', './data/services.csv', './data/location.csv', './data/satisfaction.csv', './data/demographics.csv', './data/status.csv']\n"
          ]
        }
      ]
    },
    {
      "cell_type": "code",
      "source": [
        "result_total = df_list[0]\n",
        "for df in df_list[1:]:\n",
        "    result_total = pd.merge(result_total, df, how='outer', on='Customer ID')\n",
        "\n",
        "result_total.to_csv('./data/result_total.csv') # Save combined all result to result_total.csv"
      ],
      "metadata": {
        "id": "gsRnzcD243J2"
      },
      "execution_count": 305,
      "outputs": []
    },
    {
      "cell_type": "code",
      "source": [
        "# There are 7043 total customer data\n",
        "print(result_total)"
      ],
      "metadata": {
        "id": "HmdXTPLLuLnc",
        "outputId": "e93d9054-d829-414c-c9be-37143ed35c68",
        "colab": {
          "base_uri": "https://localhost:8080/"
        }
      },
      "execution_count": 306,
      "outputs": [
        {
          "output_type": "stream",
          "name": "stdout",
          "text": [
            "     Customer ID  Count_x  ... Number of Dependents Churn Category\n",
            "0     0650-BWOZN      1.0  ...                  0.0     Competitor\n",
            "1     0562-FGDCR      1.0  ...                  0.0     Competitor\n",
            "2     6688-UZPWD      1.0  ...                  NaN       No Churn\n",
            "3     2905-KFQUV      1.0  ...                  0.0     Competitor\n",
            "4     9720-JJJOR      1.0  ...                  0.0       No Churn\n",
            "...          ...      ...  ...                  ...            ...\n",
            "7038  6778-EICRF      NaN  ...                  0.0            NaN\n",
            "7039  0772-GYEQQ      NaN  ...                  2.0            NaN\n",
            "7040  5666-CYCYZ      NaN  ...                  0.0            NaN\n",
            "7041  4893-GYUJU      NaN  ...                  0.0            NaN\n",
            "7042  3426-NIYYL      NaN  ...                  2.0            NaN\n",
            "\n",
            "[7043 rows x 48 columns]\n"
          ]
        }
      ]
    },
    {
      "cell_type": "code",
      "source": [
        "# Train_IDs has 5634 customer data\n",
        "result_train_total = df_list[0]\n",
        "for df in df_list[1:]:\n",
        "    result_train = pd.merge(result_train_total, df, how='left', on='Customer ID')\n",
        "\n",
        "print(result_train_total)"
      ],
      "metadata": {
        "id": "NZaWPORIXIDp",
        "outputId": "e40f3e9d-b4d8-43ee-a8c5-47ef0c7a6736",
        "colab": {
          "base_uri": "https://localhost:8080/"
        }
      },
      "execution_count": 307,
      "outputs": [
        {
          "output_type": "stream",
          "name": "stdout",
          "text": [
            "     Customer ID\n",
            "0     0650-BWOZN\n",
            "1     0562-FGDCR\n",
            "2     6688-UZPWD\n",
            "3     2905-KFQUV\n",
            "4     9720-JJJOR\n",
            "...          ...\n",
            "5629  1178-PZGAB\n",
            "5630  4806-KEXQR\n",
            "5631  8809-RIHDD\n",
            "5632  6663-JOCQO\n",
            "5633  7010-ZMVBF\n",
            "\n",
            "[5634 rows x 1 columns]\n"
          ]
        }
      ]
    },
    {
      "cell_type": "code",
      "source": [
        "# Train_IDs has 4226 customer data with label\n",
        "result_train = df_list[0]\n",
        "for df in df_list[1:]:\n",
        "    result_train = pd.merge(result_train, df, how='right', on='Customer ID')\n",
        "\n",
        "print(result_train)"
      ],
      "metadata": {
        "id": "XC9OTia4vQyw",
        "outputId": "e03db91b-7bfc-443c-dd12-952f23c2ae8e",
        "colab": {
          "base_uri": "https://localhost:8080/"
        }
      },
      "execution_count": 308,
      "outputs": [
        {
          "output_type": "stream",
          "name": "stdout",
          "text": [
            "     Customer ID  Count_x  ... Number of Dependents Churn Category\n",
            "0     0650-BWOZN      NaN  ...                  0.0     Competitor\n",
            "1     0562-FGDCR      1.0  ...                  0.0     Competitor\n",
            "2     6688-UZPWD      1.0  ...                  NaN       No Churn\n",
            "3     2905-KFQUV      1.0  ...                  0.0     Competitor\n",
            "4     9720-JJJOR      NaN  ...                  0.0       No Churn\n",
            "...          ...      ...  ...                  ...            ...\n",
            "4221  3313-QKNKB      NaN  ...                  NaN       No Churn\n",
            "4222  8668-KNZTI      NaN  ...                  NaN       No Churn\n",
            "4223  8809-RIHDD      NaN  ...                  2.0       No Churn\n",
            "4224  6663-JOCQO      NaN  ...                  3.0       No Churn\n",
            "4225  7010-ZMVBF      1.0  ...                  0.0       No Churn\n",
            "\n",
            "[4226 rows x 48 columns]\n"
          ]
        }
      ]
    },
    {
      "cell_type": "code",
      "source": [
        "# Train_IDs has 1408 customer data without label\n",
        "result_train_miss = df_list[0]\n",
        "for df in df_list[1:]:\n",
        "    result_train_miss = pd.merge(result_train_miss, df, how='left', on='Customer ID')\n",
        "\n",
        "result_train_miss = result_train_miss[result_train_miss['Churn Category'].isna()]\n",
        "\n",
        "print(result_train_miss)"
      ],
      "metadata": {
        "id": "PNP-ViR3XR3O",
        "outputId": "a2cdd8dc-b0a7-4908-a162-5182bfd68447",
        "colab": {
          "base_uri": "https://localhost:8080/"
        }
      },
      "execution_count": 309,
      "outputs": [
        {
          "output_type": "stream",
          "name": "stdout",
          "text": [
            "     Customer ID  Count_x  ... Number of Dependents Churn Category\n",
            "6     0394-YONDK      1.0  ...                  NaN            NaN\n",
            "7     0396-HUJBP      1.0  ...                  0.0            NaN\n",
            "11    0684-AOSIH      1.0  ...                  2.0            NaN\n",
            "14    1679-JRFBR      1.0  ...                  0.0            NaN\n",
            "18    5533-NHFRF      NaN  ...                  0.0            NaN\n",
            "...          ...      ...  ...                  ...            ...\n",
            "5603  6330-JKLPC      1.0  ...                  NaN            NaN\n",
            "5618  4549-ZDQYY      NaN  ...                  0.0            NaN\n",
            "5622  9127-QRZMH      1.0  ...                  0.0            NaN\n",
            "5629  1178-PZGAB      1.0  ...                  0.0            NaN\n",
            "5630  4806-KEXQR      1.0  ...                  0.0            NaN\n",
            "\n",
            "[1408 rows x 48 columns]\n"
          ]
        }
      ]
    },
    {
      "cell_type": "code",
      "source": [
        "# Test_Ids has 1409 customer data\n",
        "df_test = pd.read_csv(test_path)\n",
        "result_test = df_test\n",
        "for df in df_list[1:]:\n",
        "    result_test = pd.merge(result_test, df, how='left', on='Customer ID')\n",
        "\n",
        "print(result_test)"
      ],
      "metadata": {
        "id": "fE-wQXgit9JQ",
        "outputId": "b75ace8b-a770-426b-ec6d-aa3b6fa99446",
        "colab": {
          "base_uri": "https://localhost:8080/"
        }
      },
      "execution_count": 310,
      "outputs": [
        {
          "output_type": "stream",
          "name": "stdout",
          "text": [
            "     Customer ID  Count_x  ... Number of Dependents Churn Category\n",
            "0     9938-EKRGF      1.0  ...                  0.0            NaN\n",
            "1     7379-POKDZ      1.0  ...                  0.0            NaN\n",
            "2     0654-HMSHN      1.0  ...                  NaN            NaN\n",
            "3     2045-BMBTJ      1.0  ...                  3.0            NaN\n",
            "4     0701-TJSEF      1.0  ...                  0.0            NaN\n",
            "...          ...      ...  ...                  ...            ...\n",
            "1404  4587-VVTOX      1.0  ...                  NaN            NaN\n",
            "1405  7716-YTYHG      NaN  ...                  0.0            NaN\n",
            "1406  7649-PHJVR      NaN  ...                  0.0            NaN\n",
            "1407  7855-DIWPO      1.0  ...                  3.0            NaN\n",
            "1408  8197-BFWVU      1.0  ...                  NaN            NaN\n",
            "\n",
            "[1409 rows x 48 columns]\n"
          ]
        }
      ]
    },
    {
      "cell_type": "code",
      "source": [
        "print(result_total.dropna()) # Find customer with full data infomation"
      ],
      "metadata": {
        "colab": {
          "base_uri": "https://localhost:8080/"
        },
        "id": "7wbcLdCPLMBV",
        "outputId": "12c0e918-97d4-483c-db17-1d51b9f7e711"
      },
      "execution_count": 311,
      "outputs": [
        {
          "output_type": "stream",
          "name": "stdout",
          "text": [
            "     Customer ID  Count_x  ... Number of Dependents   Churn Category\n",
            "666   0454-OKRCT      1.0  ...                  2.0         No Churn\n",
            "678   1735-XMJVH      1.0  ...                  0.0         No Churn\n",
            "1799  1245-HARPS      1.0  ...                  0.0  Dissatisfaction\n",
            "2805  8445-DNBAE      1.0  ...                  0.0       Competitor\n",
            "2883  8708-XPXHZ      1.0  ...                  0.0         No Churn\n",
            "3062  9522-ZSINC      1.0  ...                  0.0         No Churn\n",
            "4297  0836-SEYLU      1.0  ...                  0.0         No Churn\n",
            "5146  7274-RTAPZ      1.0  ...                  1.0         No Churn\n",
            "\n",
            "[8 rows x 48 columns]\n"
          ]
        }
      ]
    },
    {
      "cell_type": "code",
      "source": [
        "result_cols = result_total.columns\n",
        "print(result_cols)"
      ],
      "metadata": {
        "colab": {
          "base_uri": "https://localhost:8080/"
        },
        "id": "h42U-NQJkntr",
        "outputId": "489aff6c-a295-48f8-d200-c60c5250a971"
      },
      "execution_count": 312,
      "outputs": [
        {
          "output_type": "stream",
          "name": "stdout",
          "text": [
            "Index(['Customer ID', 'Count_x', 'Quarter', 'Referred a Friend',\n",
            "       'Number of Referrals', 'Tenure in Months', 'Offer', 'Phone Service',\n",
            "       'Avg Monthly Long Distance Charges', 'Multiple Lines',\n",
            "       'Internet Service', 'Internet Type', 'Avg Monthly GB Download',\n",
            "       'Online Security', 'Online Backup', 'Device Protection Plan',\n",
            "       'Premium Tech Support', 'Streaming TV', 'Streaming Movies',\n",
            "       'Streaming Music', 'Unlimited Data', 'Contract', 'Paperless Billing',\n",
            "       'Payment Method', 'Monthly Charge', 'Total Charges', 'Total Refunds',\n",
            "       'Total Extra Data Charges', 'Total Long Distance Charges',\n",
            "       'Total Revenue', 'Count_y', 'Country', 'State', 'City', 'Zip Code',\n",
            "       'Lat Long', 'Latitude', 'Longitude', 'Satisfaction Score', 'Count',\n",
            "       'Gender', 'Age', 'Under 30', 'Senior Citizen', 'Married', 'Dependents',\n",
            "       'Number of Dependents', 'Churn Category'],\n",
            "      dtype='object')\n"
          ]
        }
      ]
    },
    {
      "cell_type": "code",
      "source": [
        "missing = result_train.isnull().sum().reset_index().rename(columns={0:'missNum'})\n",
        "missing['missRate'] = missing['missNum'] / result_train.shape[0]\n",
        "miss_analy = missing[missing.missRate > 0].sort_values(by='missRate', ascending=False)\n",
        "\n",
        "fig = plt.figure(figsize=(18, 6))\n",
        "plt.bar(np.arange(miss_analy.shape[0]), list(miss_analy.missRate.values), align='center')\n",
        "\n",
        "plt.title('Histogram of missing value of variables of training dataset')\n",
        "plt.xlabel('variables names')\n",
        "plt.ylabel('missing rate')\n",
        "plt.xticks(np.arange(miss_analy.shape[0]), list(miss_analy['index']))\n",
        "plt.xticks(rotation=90)\n",
        "for x, y in enumerate(list(miss_analy.missRate.values)):\n",
        "    plt.text(x, y + 0.12, '{:.2%}'.format(y), ha='center', rotation=90)    \n",
        "\n",
        "plt.ylim([0, 0.8])  \n",
        "plt.savefig(f'./statistics/miss rate_train_stat.png')  \n",
        "plt.show()\n",
        "plt.close()"
      ],
      "metadata": {
        "id": "HDjocf2IYbFs",
        "outputId": "be167c91-f1b5-4037-a082-2545d8293b5a",
        "colab": {
          "base_uri": "https://localhost:8080/",
          "height": 574
        }
      },
      "execution_count": 313,
      "outputs": [
        {
          "output_type": "display_data",
          "data": {
            "image/png": "[encoded data removed]",
            "text/plain": [
              "<Figure size 1296x432 with 1 Axes>"
            ]
          },
          "metadata": {
            "needs_background": "light"
          }
        }
      ]
    },
    {
      "cell_type": "code",
      "source": [
        "missing = result_test.isnull().sum().reset_index().rename(columns={0:'missNum'})\n",
        "missing['missRate'] = missing['missNum'] / result_test.shape[0]\n",
        "miss_analy = missing[missing.missRate > 0].sort_values(by='missRate', ascending=False)\n",
        "\n",
        "fig = plt.figure(figsize=(18, 6))\n",
        "plt.bar(np.arange(miss_analy.shape[0]), list(miss_analy.missRate.values), align='center')\n",
        "\n",
        "plt.title('Histogram of missing value of variables of test dataset')\n",
        "plt.xlabel('variables names')\n",
        "plt.ylabel('missing rate')\n",
        "plt.xticks(np.arange(miss_analy.shape[0]), list(miss_analy['index']))\n",
        "plt.xticks(rotation=90)\n",
        "for x, y in enumerate(list(miss_analy.missRate.values)):\n",
        "    plt.text(x, y + 0.12, '{:.2%}'.format(y), ha='center', rotation=90)    \n",
        "\n",
        "plt.ylim([0, 1.4])  \n",
        "plt.savefig(f'./statistics/miss rate_test_stat.png')  \n",
        "plt.show()\n",
        "plt.close()"
      ],
      "metadata": {
        "colab": {
          "base_uri": "https://localhost:8080/",
          "height": 574
        },
        "id": "BVN8BclJkD1J",
        "outputId": "ece0fc78-70b8-4d12-b3f7-65972dfc9edc"
      },
      "execution_count": 314,
      "outputs": [
        {
          "output_type": "display_data",
          "data": {
            "image/png": "[encoded data removed]",
            "text/plain": [
              "<Figure size 1296x432 with 1 Axes>"
            ]
          },
          "metadata": {
            "needs_background": "light"
          }
        }
      ]
    },
    {
      "cell_type": "markdown",
      "source": [
        "# **Statistics and Data Preprocessing**"
      ],
      "metadata": {
        "id": "eYyJOoclqCFk"
      }
    },
    {
      "cell_type": "code",
      "source": [
        "result_train_copy = result_train.copy(deep=True)\n",
        "result_test_copy = result_test.copy(deep=True)\n",
        "def label_statistics(label):\n",
        "    freq = result_train.groupby(label).size() \n",
        "\n",
        "    names = [name for name, _ in freq.items()]\n",
        "    names.append('Nan')\n",
        "    counts = [count for _, count in freq.items()]\n",
        "    counts.append(len(result_train[label]) - sum(counts))\n",
        "\n",
        "    fig = plt.figure(figsize=(8, 6))\n",
        "    x = np.arange(len(names))\n",
        "    plt.bar(x, counts)\n",
        "    plt.xticks(x, names, rotation=15)\n",
        "    plt.title(f'Statistics of {label}')\n",
        "    plt.savefig(f'./statistics/Statistics of {label}.png')\n",
        "    print(f'Statistics of {label}.png saved')\n",
        "    plt.close()"
      ],
      "metadata": {
        "id": "ho-LNzp4g_Eb"
      },
      "execution_count": 343,
      "outputs": []
    },
    {
      "cell_type": "code",
      "source": [
        "need_statistics_col = ['Churn Category', 'Satisfaction Score', \n",
        "       'Gender', 'Under 30', 'Senior Citizen', 'Married', 'Dependents',\n",
        "       'Number of Dependents', 'Country', 'State', 'City', 'Quarter',\n",
        "       'Referred a Friend', 'Number of Referrals', 'Offer',\n",
        "       'Phone Service', 'Multiple Lines', 'Internet Service', 'Internet Type',\n",
        "       'Online Security', 'Online Backup', 'Device Protection Plan',\n",
        "       'Premium Tech Support', 'Streaming TV', 'Streaming Movies',\n",
        "       'Streaming Music', 'Unlimited Data', 'Contract', 'Paperless Billing',\n",
        "       'Payment Method', 'Zip Code']\n",
        "\n",
        "# Replace NaN with the most frequent label\n",
        "for need_col in need_statistics_col:\n",
        "    label_statistics(need_col)\n",
        "\n",
        "    # Encode target labels with value\n",
        "    le = LabelEncoder()\n",
        "    result_train_copy[need_col] = le.fit_transform(result_train_copy[need_col])\n",
        "    result_test_copy[need_col] = le.fit_transform(result_test_copy[need_col])\n",
        "\n",
        "    if need_col == 'Churn Category':\n",
        "        encoder_map = dict(zip(le.classes_, le.transform(le.classes_)))"
      ],
      "metadata": {
        "colab": {
          "base_uri": "https://localhost:8080/"
        },
        "id": "Pl4omt-mIGDW",
        "outputId": "b9bfde4a-acd3-4bd7-94e7-d6d266a4d20f"
      },
      "execution_count": 344,
      "outputs": [
        {
          "output_type": "stream",
          "name": "stdout",
          "text": [
            "Statistics of Churn Category.png saved\n",
            "Statistics of Satisfaction Score.png saved\n",
            "Statistics of Gender.png saved\n",
            "Statistics of Under 30.png saved\n",
            "Statistics of Senior Citizen.png saved\n",
            "Statistics of Married.png saved\n",
            "Statistics of Dependents.png saved\n",
            "Statistics of Number of Dependents.png saved\n",
            "Statistics of Country.png saved\n",
            "Statistics of State.png saved\n",
            "Statistics of City.png saved\n",
            "Statistics of Quarter.png saved\n",
            "Statistics of Referred a Friend.png saved\n",
            "Statistics of Number of Referrals.png saved\n",
            "Statistics of Offer.png saved\n",
            "Statistics of Phone Service.png saved\n",
            "Statistics of Multiple Lines.png saved\n",
            "Statistics of Internet Service.png saved\n",
            "Statistics of Internet Type.png saved\n",
            "Statistics of Online Security.png saved\n",
            "Statistics of Online Backup.png saved\n",
            "Statistics of Device Protection Plan.png saved\n",
            "Statistics of Premium Tech Support.png saved\n",
            "Statistics of Streaming TV.png saved\n",
            "Statistics of Streaming Movies.png saved\n",
            "Statistics of Streaming Music.png saved\n",
            "Statistics of Unlimited Data.png saved\n",
            "Statistics of Contract.png saved\n",
            "Statistics of Paperless Billing.png saved\n",
            "Statistics of Payment Method.png saved\n",
            "Statistics of Zip Code.png saved\n"
          ]
        }
      ]
    },
    {
      "cell_type": "code",
      "source": [
        "population = pd.read_csv('./data/population.csv')\n",
        "population = population.drop('Zip Code', axis=1)\n",
        "population.rename({'ID':'Zip Code'}, axis=1, inplace=True)\n",
        "result_train_copy = pd.merge(result_train_copy, population, how='left', on='Zip Code')\n",
        "result_test_copy = pd.merge(result_test_copy, population, how='left', on='Zip Code')\n",
        "\n",
        "need_avg_col = [item for item in result_cols if item not in need_statistics_col]\n",
        "need_avg_col.append('Population')\n",
        "\n",
        "def data_imputation(dataset):\n",
        "    dataset = dataset.drop('Customer ID', axis=1)\n",
        "    dataset = dataset.drop('Lat Long', axis=1)\n",
        "\n",
        "    imputer = KNNImputer(n_neighbors=2)\n",
        "    dataset = imputer.fit_transform(dataset)\n",
        "\n",
        "    column_names = list(result_cols.values)\n",
        "    column_names.remove('Customer ID')\n",
        "    column_names.remove('Lat Long')\n",
        "    column_names.append('Population')\n",
        "    dataset = pd.DataFrame(dataset, columns=column_names)\n",
        "\n",
        "    print(dataset)\n",
        "\n",
        "    return dataset\n",
        "\n",
        "result_train_copy = data_imputation(result_train_copy)\n",
        "result_test_copy = data_imputation(result_test_copy)"
      ],
      "metadata": {
        "id": "hjvCj4CgJPoJ"
      },
      "execution_count": 345,
      "outputs": []
    },
    {
      "cell_type": "code",
      "source": [
        "# Find the correlation of columns\n",
        "cor_matrix = result_train_copy.corr().abs()\n",
        "print(cor_matrix['Churn Category'])"
      ],
      "metadata": {
        "id": "WdnuvMdMS7_L",
        "outputId": "d6299d82-782d-4636-f2db-6a566e124813",
        "colab": {
          "base_uri": "https://localhost:8080/"
        }
      },
      "execution_count": 348,
      "outputs": [
        {
          "output_type": "stream",
          "name": "stdout",
          "text": [
            "Count_x                                   NaN\n",
            "Quarter                              0.026687\n",
            "Referred a Friend                    0.034992\n",
            "Number of Referrals                  0.065368\n",
            "Tenure in Months                     0.151752\n",
            "Offer                                0.035282\n",
            "Phone Service                        0.004287\n",
            "Avg Monthly Long Distance Charges    0.022644\n",
            "Multiple Lines                       0.021953\n",
            "Internet Service                     0.021609\n",
            "Internet Type                        0.038484\n",
            "Avg Monthly GB Download              0.046546\n",
            "Online Security                      0.061089\n",
            "Online Backup                        0.031315\n",
            "Device Protection Plan               0.028059\n",
            "Premium Tech Support                 0.053844\n",
            "Streaming TV                         0.008534\n",
            "Streaming Movies                     0.000321\n",
            "Streaming Music                      0.015176\n",
            "Unlimited Data                       0.013768\n",
            "Contract                             0.111203\n",
            "Paperless Billing                    0.009588\n",
            "Payment Method                       0.048995\n",
            "Monthly Charge                       0.081298\n",
            "Total Charges                        0.093158\n",
            "Total Refunds                        0.009032\n",
            "Total Extra Data Charges             0.021892\n",
            "Total Long Distance Charges          0.094721\n",
            "Total Revenue                        0.101382\n",
            "Count_y                                   NaN\n",
            "Country                              0.043073\n",
            "State                                0.054701\n",
            "City                                 0.035223\n",
            "Zip Code                             0.045957\n",
            "Latitude                             0.079943\n",
            "Longitude                            0.055401\n",
            "Satisfaction Score                   0.248098\n",
            "Count                                     NaN\n",
            "Gender                               0.005451\n",
            "Age                                  0.084448\n",
            "Under 30                             0.043659\n",
            "Senior Citizen                       0.004644\n",
            "Married                              0.037126\n",
            "Dependents                           0.087645\n",
            "Number of Dependents                 0.052063\n",
            "Churn Category                       1.000000\n",
            "Population                           0.014222\n",
            "Name: Churn Category, dtype: float64\n"
          ]
        }
      ]
    },
    {
      "cell_type": "code",
      "source": [
        "useless_feature = [index for index, value in cor_matrix['Churn Category'].items() if value < 0.05 or pd.isnull(value)]\n",
        "print(useless_feature)"
      ],
      "metadata": {
        "id": "EUWHiNXdKhGP",
        "outputId": "fde842b1-1af7-4afe-cd2a-30d39371a53a",
        "colab": {
          "base_uri": "https://localhost:8080/"
        }
      },
      "execution_count": 349,
      "outputs": [
        {
          "output_type": "stream",
          "name": "stdout",
          "text": [
            "['Count_x', 'Quarter', 'Referred a Friend', 'Offer', 'Phone Service', 'Avg Monthly Long Distance Charges', 'Multiple Lines', 'Internet Service', 'Internet Type', 'Avg Monthly GB Download', 'Online Backup', 'Device Protection Plan', 'Streaming TV', 'Streaming Movies', 'Streaming Music', 'Unlimited Data', 'Paperless Billing', 'Payment Method', 'Total Refunds', 'Total Extra Data Charges', 'Count_y', 'Country', 'City', 'Zip Code', 'Count', 'Gender', 'Under 30', 'Senior Citizen', 'Married', 'Population']\n"
          ]
        }
      ]
    },
    {
      "cell_type": "code",
      "source": [
        "def dropColumns(label):\n",
        "    global result_train_copy, result_test_copy\n",
        "    result_train_copy = result_train_copy.drop(label, axis=1)\n",
        "    result_test_copy = result_test_copy.drop(label, axis=1)"
      ],
      "metadata": {
        "id": "K5quNy8vHQzb"
      },
      "execution_count": 350,
      "outputs": []
    },
    {
      "cell_type": "code",
      "source": [
        "# Throw away the data columns whose correlation to Churn Category is less than 0.55\n",
        "for item in useless_feature:\n",
        "    dropColumns(item)"
      ],
      "metadata": {
        "id": "Cis3gTDOG9Im"
      },
      "execution_count": 351,
      "outputs": []
    },
    {
      "cell_type": "code",
      "source": [
        "result_train_copy.to_csv('./data/result_after_preprocessing.csv') # Save after preprocessing result to result_after_preprocessing.csv\n",
        "feature_amount = len(result_train_copy.columns)\n",
        "\n",
        "print(result_train_copy)\n",
        "print(result_test_copy)"
      ],
      "metadata": {
        "colab": {
          "base_uri": "https://localhost:8080/"
        },
        "id": "-DsDpzq_Lgp3",
        "outputId": "db2a622a-210c-403d-830e-4c77f5112c66"
      },
      "execution_count": 352,
      "outputs": [
        {
          "output_type": "stream",
          "name": "stdout",
          "text": [
            "      Number of Referrals  ...  Churn Category\n",
            "0                    11.0  ...             1.0\n",
            "1                     0.0  ...             1.0\n",
            "2                     4.0  ...             3.0\n",
            "3                     0.0  ...             1.0\n",
            "4                    11.0  ...             3.0\n",
            "...                   ...  ...             ...\n",
            "4221                 11.0  ...             3.0\n",
            "4222                 11.0  ...             3.0\n",
            "4223                 11.0  ...             3.0\n",
            "4224                 11.0  ...             3.0\n",
            "4225                  8.0  ...             3.0\n",
            "\n",
            "[4226 rows x 17 columns]\n",
            "     Customer ID  Number of Referrals  ...  Number of Dependents  Churn Category\n",
            "0     9938-EKRGF                    1  ...                     0               0\n",
            "1     7379-POKDZ                    0  ...                     0               0\n",
            "2     0654-HMSHN                    9  ...                     6               0\n",
            "3     2045-BMBTJ                    1  ...                     3               0\n",
            "4     0701-TJSEF                    1  ...                     0               0\n",
            "...          ...                  ...  ...                   ...             ...\n",
            "1404  4587-VVTOX                    0  ...                     6               0\n",
            "1405  7716-YTYHG                   11  ...                     0               0\n",
            "1406  7649-PHJVR                    1  ...                     0               0\n",
            "1407  7855-DIWPO                    1  ...                     3               0\n",
            "1408  8197-BFWVU                    0  ...                     6               0\n",
            "\n",
            "[1409 rows x 19 columns]\n"
          ]
        }
      ]
    },
    {
      "cell_type": "markdown",
      "source": [
        "# **Balance Data**"
      ],
      "metadata": {
        "id": "bPTqADO2Ox2F"
      }
    },
    {
      "cell_type": "code",
      "source": [
        "y_train = result_train_copy['Churn Category'].values\n",
        "X_train = result_train_copy.drop('Churn Category', axis=1)"
      ],
      "metadata": {
        "id": "RiyIrSnaNq6F"
      },
      "execution_count": 353,
      "outputs": []
    },
    {
      "cell_type": "code",
      "source": [
        "print(f\"normal data distribution: {Counter(y_train)}\")\n",
        "\n",
        "class_weight = dict(Counter(y_train))\n",
        "\n",
        "smo = ADASYN(random_state=seed)\n",
        "X_train, y_train = smo.fit_resample(X_train, y_train)\n",
        "\n",
        "print(f\"SMOTE data distribution: {Counter(y_train)}\")"
      ],
      "metadata": {
        "id": "LmlxI28WQUG2",
        "outputId": "6371dcff-9106-4573-d4d5-34b62006864b",
        "colab": {
          "base_uri": "https://localhost:8080/"
        }
      },
      "execution_count": 354,
      "outputs": [
        {
          "output_type": "stream",
          "name": "stdout",
          "text": [
            "normal data distribution: Counter({3.0: 3118, 1.0: 490, 0.0: 201, 2.0: 177, 5.0: 124, 4.0: 116})\n",
            "SMOTE data distribution: Counter({2.0: 3184, 3.0: 3118, 4.0: 3116, 0.0: 3105, 5.0: 3089, 1.0: 3055})\n"
          ]
        }
      ]
    },
    {
      "cell_type": "markdown",
      "source": [
        "# **SVM Train**"
      ],
      "metadata": {
        "id": "3HpyuY-RQEz1"
      }
    },
    {
      "cell_type": "code",
      "source": [
        "sc = StandardScaler()\n",
        "ss = StandardScaler().fit(X_train)\n",
        "X_train_std = ss.transform(X_train)\n",
        "\n",
        "train_x, val_x, train_y, val_y = train_test_split(X_train_std, y_train, test_size=0.2, random_state=seed)\n",
        "\n",
        "class_weight = {k: train_x.shape[0] / v for k, v in class_weight.items()}\n",
        "class_weight = collections.OrderedDict(sorted(class_weight.items()))\n",
        "print(class_weight)"
      ],
      "metadata": {
        "id": "euCLdtvkO-nO",
        "colab": {
          "base_uri": "https://localhost:8080/"
        },
        "outputId": "c17283af-5d30-4f2f-bbc4-beff1aede4f5"
      },
      "execution_count": 355,
      "outputs": [
        {
          "output_type": "stream",
          "name": "stdout",
          "text": [
            "OrderedDict([(0.0, 74.29353233830845), (1.0, 30.475510204081633), (2.0, 84.36723163841808), (3.0, 4.789288005131494), (4.0, 128.73275862068965), (5.0, 120.4274193548387)])\n"
          ]
        }
      ]
    },
    {
      "cell_type": "code",
      "source": [
        "svm = SVC(kernel='rbf', gamma=0.1, C=10, class_weight=class_weight)\n",
        "\n",
        "start_time = time.time()\n",
        "model = svm.fit(train_x, train_y)\n",
        "end_time = time.time()\n",
        "\n",
        "print(f'Training use {round(end_time - start_time, 3)}s')"
      ],
      "metadata": {
        "colab": {
          "base_uri": "https://localhost:8080/"
        },
        "id": "VXuL_lKqW_mD",
        "outputId": "14581d61-3867-4a68-9b3e-2eb6c2885b06"
      },
      "execution_count": 356,
      "outputs": [
        {
          "output_type": "stream",
          "name": "stdout",
          "text": [
            "Training use 9.891s\n"
          ]
        }
      ]
    },
    {
      "cell_type": "code",
      "source": [
        "y_train_predict = svm.predict(train_x)\n",
        "Ein = np.mean(np.array(y_train_predict) != train_y)\n",
        "F1in = metrics.f1_score(train_y, y_train_predict, average='macro')  \n",
        "print(f'Ein = {round(Ein, 5)}')\n",
        "print(f'F1_in = {round(F1in, 5)}')\n",
        "\n",
        "y_val_predict = svm.predict(val_x)\n",
        "Eval = np.mean(np.array(y_val_predict) != val_y)\n",
        "F1val = metrics.f1_score(val_y, y_val_predict, average='macro')  \n",
        "print(f'Eval = {round(Eval, 5)}')\n",
        "print(f'F1_val = {round(F1val, 5)}')"
      ],
      "metadata": {
        "colab": {
          "base_uri": "https://localhost:8080/"
        },
        "id": "WivcNevbY1lB",
        "outputId": "c48efb3b-13d7-4f57-d909-81979de3f55f"
      },
      "execution_count": 357,
      "outputs": [
        {
          "output_type": "stream",
          "name": "stdout",
          "text": [
            "Ein = 0.10286\n",
            "F1_in = 0.89989\n",
            "Eval = 0.15747\n",
            "F1_val = 0.84203\n"
          ]
        }
      ]
    },
    {
      "cell_type": "code",
      "source": [
        "plot_confusion_matrix(model, train_x, train_y)\n",
        "plot_confusion_matrix(model, val_x, val_y)\n",
        "print(encoder_map)"
      ],
      "metadata": {
        "id": "yWM9fKw1MLr1",
        "outputId": "80175b79-86e0-4fc7-8fc5-ad36508448a7",
        "colab": {
          "base_uri": "https://localhost:8080/",
          "height": 649
        }
      },
      "execution_count": 358,
      "outputs": [
        {
          "output_type": "stream",
          "name": "stderr",
          "text": [
            "/usr/local/lib/python3.7/dist-packages/sklearn/utils/deprecation.py:87: FutureWarning: Function plot_confusion_matrix is deprecated; Function `plot_confusion_matrix` is deprecated in 1.0 and will be removed in 1.2. Use one of the class methods: ConfusionMatrixDisplay.from_predictions or ConfusionMatrixDisplay.from_estimator.\n",
            "  warnings.warn(msg, category=FutureWarning)\n",
            "/usr/local/lib/python3.7/dist-packages/sklearn/utils/deprecation.py:87: FutureWarning: Function plot_confusion_matrix is deprecated; Function `plot_confusion_matrix` is deprecated in 1.0 and will be removed in 1.2. Use one of the class methods: ConfusionMatrixDisplay.from_predictions or ConfusionMatrixDisplay.from_estimator.\n",
            "  warnings.warn(msg, category=FutureWarning)\n"
          ]
        },
        {
          "output_type": "stream",
          "name": "stdout",
          "text": [
            "{nan: 0}\n"
          ]
        },
        {
          "output_type": "display_data",
          "data": {
            "image/png": "[encoded data removed]",
            "text/plain": [
              "<Figure size 432x288 with 2 Axes>"
            ]
          },
          "metadata": {
            "needs_background": "light"
          }
        },
        {
          "output_type": "display_data",
          "data": {
            "image/png": "[encoded data removed]",
            "text/plain": [
              "<Figure size 432x288 with 2 Axes>"
            ]
          },
          "metadata": {
            "needs_background": "light"
          }
        }
      ]
    },
    {
      "cell_type": "code",
      "source": [
        "print(classification_report(train_y, y_train_predict))\n",
        "print(classification_report(val_y, y_val_predict))"
      ],
      "metadata": {
        "id": "LMiWePsbSW4Y",
        "outputId": "98787d25-7710-4778-f9d3-56912b53ad6a",
        "colab": {
          "base_uri": "https://localhost:8080/"
        }
      },
      "execution_count": 359,
      "outputs": [
        {
          "output_type": "stream",
          "name": "stdout",
          "text": [
            "              precision    recall  f1-score   support\n",
            "\n",
            "         0.0       0.96      0.99      0.98      2492\n",
            "         1.0       0.97      0.94      0.95      2409\n",
            "         2.0       0.93      0.87      0.90      2561\n",
            "         3.0       1.00      0.76      0.86      2503\n",
            "         4.0       0.69      0.99      0.81      2493\n",
            "         5.0       0.96      0.83      0.89      2475\n",
            "\n",
            "    accuracy                           0.90     14933\n",
            "   macro avg       0.92      0.90      0.90     14933\n",
            "weighted avg       0.92      0.90      0.90     14933\n",
            "\n",
            "              precision    recall  f1-score   support\n",
            "\n",
            "         0.0       0.87      0.97      0.92       613\n",
            "         1.0       0.87      0.83      0.85       646\n",
            "         2.0       0.88      0.83      0.86       623\n",
            "         3.0       0.98      0.64      0.77       615\n",
            "         4.0       0.67      0.98      0.79       623\n",
            "         5.0       0.92      0.80      0.86       614\n",
            "\n",
            "    accuracy                           0.84      3734\n",
            "   macro avg       0.87      0.84      0.84      3734\n",
            "weighted avg       0.87      0.84      0.84      3734\n",
            "\n"
          ]
        }
      ]
    },
    {
      "cell_type": "markdown",
      "source": [
        "# **SVM Test**"
      ],
      "metadata": {
        "id": "ViqMiLyMavbf"
      }
    },
    {
      "cell_type": "code",
      "source": [
        "X_test = result_test_copy.drop('Customer ID', axis=1)\n",
        "X_test = X_test.drop('Churn Category', axis=1)\n",
        "ss = StandardScaler().fit(X_test)\n",
        "X_test_std = ss.transform(X_test)\n",
        "y_test = svm.predict(X_test_std)"
      ],
      "metadata": {
        "id": "dxd93_hUauU5",
        "outputId": "c8be8fec-75fc-4285-beba-c2b68087ebd9",
        "colab": {
          "base_uri": "https://localhost:8080/",
          "height": 382
        }
      },
      "execution_count": 360,
      "outputs": [
        {
          "output_type": "error",
          "ename": "ValueError",
          "evalue": "ignored",
          "traceback": [
            "\u001b[0;31m---------------------------------------------------------------------------\u001b[0m",
            "\u001b[0;31mValueError\u001b[0m                                Traceback (most recent call last)",
            "\u001b[0;32m<ipython-input-360-b1fc0cd111a4>\u001b[0m in \u001b[0;36m<module>\u001b[0;34m()\u001b[0m\n\u001b[1;32m      1\u001b[0m \u001b[0mX_test\u001b[0m \u001b[0;34m=\u001b[0m \u001b[0mresult_test_copy\u001b[0m\u001b[0;34m.\u001b[0m\u001b[0mdrop\u001b[0m\u001b[0;34m(\u001b[0m\u001b[0;34m'Customer ID'\u001b[0m\u001b[0;34m,\u001b[0m \u001b[0maxis\u001b[0m\u001b[0;34m=\u001b[0m\u001b[0;36m1\u001b[0m\u001b[0;34m)\u001b[0m\u001b[0;34m\u001b[0m\u001b[0;34m\u001b[0m\u001b[0m\n\u001b[1;32m      2\u001b[0m \u001b[0mX_test\u001b[0m \u001b[0;34m=\u001b[0m \u001b[0mX_test\u001b[0m\u001b[0;34m.\u001b[0m\u001b[0mdrop\u001b[0m\u001b[0;34m(\u001b[0m\u001b[0;34m'Churn Category'\u001b[0m\u001b[0;34m,\u001b[0m \u001b[0maxis\u001b[0m\u001b[0;34m=\u001b[0m\u001b[0;36m1\u001b[0m\u001b[0;34m)\u001b[0m\u001b[0;34m\u001b[0m\u001b[0;34m\u001b[0m\u001b[0m\n\u001b[0;32m----> 3\u001b[0;31m \u001b[0mss\u001b[0m \u001b[0;34m=\u001b[0m \u001b[0mStandardScaler\u001b[0m\u001b[0;34m(\u001b[0m\u001b[0;34m)\u001b[0m\u001b[0;34m.\u001b[0m\u001b[0mfit\u001b[0m\u001b[0;34m(\u001b[0m\u001b[0mX_test\u001b[0m\u001b[0;34m)\u001b[0m\u001b[0;34m\u001b[0m\u001b[0;34m\u001b[0m\u001b[0m\n\u001b[0m\u001b[1;32m      4\u001b[0m \u001b[0mX_test_std\u001b[0m \u001b[0;34m=\u001b[0m \u001b[0mss\u001b[0m\u001b[0;34m.\u001b[0m\u001b[0mtransform\u001b[0m\u001b[0;34m(\u001b[0m\u001b[0mX_test\u001b[0m\u001b[0;34m)\u001b[0m\u001b[0;34m\u001b[0m\u001b[0;34m\u001b[0m\u001b[0m\n\u001b[1;32m      5\u001b[0m \u001b[0my_test\u001b[0m \u001b[0;34m=\u001b[0m \u001b[0msvm\u001b[0m\u001b[0;34m.\u001b[0m\u001b[0mpredict\u001b[0m\u001b[0;34m(\u001b[0m\u001b[0mX_test_std\u001b[0m\u001b[0;34m)\u001b[0m\u001b[0;34m\u001b[0m\u001b[0;34m\u001b[0m\u001b[0m\n",
            "\u001b[0;32m/usr/local/lib/python3.7/dist-packages/sklearn/preprocessing/_data.py\u001b[0m in \u001b[0;36mfit\u001b[0;34m(self, X, y, sample_weight)\u001b[0m\n\u001b[1;32m    804\u001b[0m         \u001b[0;31m# Reset internal state before fitting\u001b[0m\u001b[0;34m\u001b[0m\u001b[0;34m\u001b[0m\u001b[0;34m\u001b[0m\u001b[0m\n\u001b[1;32m    805\u001b[0m         \u001b[0mself\u001b[0m\u001b[0;34m.\u001b[0m\u001b[0m_reset\u001b[0m\u001b[0;34m(\u001b[0m\u001b[0;34m)\u001b[0m\u001b[0;34m\u001b[0m\u001b[0;34m\u001b[0m\u001b[0m\n\u001b[0;32m--> 806\u001b[0;31m         \u001b[0;32mreturn\u001b[0m \u001b[0mself\u001b[0m\u001b[0;34m.\u001b[0m\u001b[0mpartial_fit\u001b[0m\u001b[0;34m(\u001b[0m\u001b[0mX\u001b[0m\u001b[0;34m,\u001b[0m \u001b[0my\u001b[0m\u001b[0;34m,\u001b[0m \u001b[0msample_weight\u001b[0m\u001b[0;34m)\u001b[0m\u001b[0;34m\u001b[0m\u001b[0;34m\u001b[0m\u001b[0m\n\u001b[0m\u001b[1;32m    807\u001b[0m \u001b[0;34m\u001b[0m\u001b[0m\n\u001b[1;32m    808\u001b[0m     \u001b[0;32mdef\u001b[0m \u001b[0mpartial_fit\u001b[0m\u001b[0;34m(\u001b[0m\u001b[0mself\u001b[0m\u001b[0;34m,\u001b[0m \u001b[0mX\u001b[0m\u001b[0;34m,\u001b[0m \u001b[0my\u001b[0m\u001b[0;34m=\u001b[0m\u001b[0;32mNone\u001b[0m\u001b[0;34m,\u001b[0m \u001b[0msample_weight\u001b[0m\u001b[0;34m=\u001b[0m\u001b[0;32mNone\u001b[0m\u001b[0;34m)\u001b[0m\u001b[0;34m:\u001b[0m\u001b[0;34m\u001b[0m\u001b[0;34m\u001b[0m\u001b[0m\n",
            "\u001b[0;32m/usr/local/lib/python3.7/dist-packages/sklearn/preprocessing/_data.py\u001b[0m in \u001b[0;36mpartial_fit\u001b[0;34m(self, X, y, sample_weight)\u001b[0m\n\u001b[1;32m    845\u001b[0m             \u001b[0mdtype\u001b[0m\u001b[0;34m=\u001b[0m\u001b[0mFLOAT_DTYPES\u001b[0m\u001b[0;34m,\u001b[0m\u001b[0;34m\u001b[0m\u001b[0;34m\u001b[0m\u001b[0m\n\u001b[1;32m    846\u001b[0m             \u001b[0mforce_all_finite\u001b[0m\u001b[0;34m=\u001b[0m\u001b[0;34m\"allow-nan\"\u001b[0m\u001b[0;34m,\u001b[0m\u001b[0;34m\u001b[0m\u001b[0;34m\u001b[0m\u001b[0m\n\u001b[0;32m--> 847\u001b[0;31m             \u001b[0mreset\u001b[0m\u001b[0;34m=\u001b[0m\u001b[0mfirst_call\u001b[0m\u001b[0;34m,\u001b[0m\u001b[0;34m\u001b[0m\u001b[0;34m\u001b[0m\u001b[0m\n\u001b[0m\u001b[1;32m    848\u001b[0m         )\n\u001b[1;32m    849\u001b[0m         \u001b[0mn_features\u001b[0m \u001b[0;34m=\u001b[0m \u001b[0mX\u001b[0m\u001b[0;34m.\u001b[0m\u001b[0mshape\u001b[0m\u001b[0;34m[\u001b[0m\u001b[0;36m1\u001b[0m\u001b[0;34m]\u001b[0m\u001b[0;34m\u001b[0m\u001b[0;34m\u001b[0m\u001b[0m\n",
            "\u001b[0;32m/usr/local/lib/python3.7/dist-packages/sklearn/base.py\u001b[0m in \u001b[0;36m_validate_data\u001b[0;34m(self, X, y, reset, validate_separately, **check_params)\u001b[0m\n\u001b[1;32m    564\u001b[0m             \u001b[0;32mraise\u001b[0m \u001b[0mValueError\u001b[0m\u001b[0;34m(\u001b[0m\u001b[0;34m\"Validation should be done on X, y or both.\"\u001b[0m\u001b[0;34m)\u001b[0m\u001b[0;34m\u001b[0m\u001b[0;34m\u001b[0m\u001b[0m\n\u001b[1;32m    565\u001b[0m         \u001b[0;32melif\u001b[0m \u001b[0;32mnot\u001b[0m \u001b[0mno_val_X\u001b[0m \u001b[0;32mand\u001b[0m \u001b[0mno_val_y\u001b[0m\u001b[0;34m:\u001b[0m\u001b[0;34m\u001b[0m\u001b[0;34m\u001b[0m\u001b[0m\n\u001b[0;32m--> 566\u001b[0;31m             \u001b[0mX\u001b[0m \u001b[0;34m=\u001b[0m \u001b[0mcheck_array\u001b[0m\u001b[0;34m(\u001b[0m\u001b[0mX\u001b[0m\u001b[0;34m,\u001b[0m \u001b[0;34m**\u001b[0m\u001b[0mcheck_params\u001b[0m\u001b[0;34m)\u001b[0m\u001b[0;34m\u001b[0m\u001b[0;34m\u001b[0m\u001b[0m\n\u001b[0m\u001b[1;32m    567\u001b[0m             \u001b[0mout\u001b[0m \u001b[0;34m=\u001b[0m \u001b[0mX\u001b[0m\u001b[0;34m\u001b[0m\u001b[0;34m\u001b[0m\u001b[0m\n\u001b[1;32m    568\u001b[0m         \u001b[0;32melif\u001b[0m \u001b[0mno_val_X\u001b[0m \u001b[0;32mand\u001b[0m \u001b[0;32mnot\u001b[0m \u001b[0mno_val_y\u001b[0m\u001b[0;34m:\u001b[0m\u001b[0;34m\u001b[0m\u001b[0;34m\u001b[0m\u001b[0m\n",
            "\u001b[0;32m/usr/local/lib/python3.7/dist-packages/sklearn/utils/validation.py\u001b[0m in \u001b[0;36mcheck_array\u001b[0;34m(array, accept_sparse, accept_large_sparse, dtype, order, copy, force_all_finite, ensure_2d, allow_nd, ensure_min_samples, ensure_min_features, estimator)\u001b[0m\n\u001b[1;32m    744\u001b[0m                     \u001b[0marray\u001b[0m \u001b[0;34m=\u001b[0m \u001b[0marray\u001b[0m\u001b[0;34m.\u001b[0m\u001b[0mastype\u001b[0m\u001b[0;34m(\u001b[0m\u001b[0mdtype\u001b[0m\u001b[0;34m,\u001b[0m \u001b[0mcasting\u001b[0m\u001b[0;34m=\u001b[0m\u001b[0;34m\"unsafe\"\u001b[0m\u001b[0;34m,\u001b[0m \u001b[0mcopy\u001b[0m\u001b[0;34m=\u001b[0m\u001b[0;32mFalse\u001b[0m\u001b[0;34m)\u001b[0m\u001b[0;34m\u001b[0m\u001b[0;34m\u001b[0m\u001b[0m\n\u001b[1;32m    745\u001b[0m                 \u001b[0;32melse\u001b[0m\u001b[0;34m:\u001b[0m\u001b[0;34m\u001b[0m\u001b[0;34m\u001b[0m\u001b[0m\n\u001b[0;32m--> 746\u001b[0;31m                     \u001b[0marray\u001b[0m \u001b[0;34m=\u001b[0m \u001b[0mnp\u001b[0m\u001b[0;34m.\u001b[0m\u001b[0masarray\u001b[0m\u001b[0;34m(\u001b[0m\u001b[0marray\u001b[0m\u001b[0;34m,\u001b[0m \u001b[0morder\u001b[0m\u001b[0;34m=\u001b[0m\u001b[0morder\u001b[0m\u001b[0;34m,\u001b[0m \u001b[0mdtype\u001b[0m\u001b[0;34m=\u001b[0m\u001b[0mdtype\u001b[0m\u001b[0;34m)\u001b[0m\u001b[0;34m\u001b[0m\u001b[0;34m\u001b[0m\u001b[0m\n\u001b[0m\u001b[1;32m    747\u001b[0m             \u001b[0;32mexcept\u001b[0m \u001b[0mComplexWarning\u001b[0m \u001b[0;32mas\u001b[0m \u001b[0mcomplex_warning\u001b[0m\u001b[0;34m:\u001b[0m\u001b[0;34m\u001b[0m\u001b[0;34m\u001b[0m\u001b[0m\n\u001b[1;32m    748\u001b[0m                 raise ValueError(\n",
            "\u001b[0;32m/usr/local/lib/python3.7/dist-packages/numpy/core/_asarray.py\u001b[0m in \u001b[0;36masarray\u001b[0;34m(a, dtype, order)\u001b[0m\n\u001b[1;32m     81\u001b[0m \u001b[0;34m\u001b[0m\u001b[0m\n\u001b[1;32m     82\u001b[0m     \"\"\"\n\u001b[0;32m---> 83\u001b[0;31m     \u001b[0;32mreturn\u001b[0m \u001b[0marray\u001b[0m\u001b[0;34m(\u001b[0m\u001b[0ma\u001b[0m\u001b[0;34m,\u001b[0m \u001b[0mdtype\u001b[0m\u001b[0;34m,\u001b[0m \u001b[0mcopy\u001b[0m\u001b[0;34m=\u001b[0m\u001b[0;32mFalse\u001b[0m\u001b[0;34m,\u001b[0m \u001b[0morder\u001b[0m\u001b[0;34m=\u001b[0m\u001b[0morder\u001b[0m\u001b[0;34m)\u001b[0m\u001b[0;34m\u001b[0m\u001b[0;34m\u001b[0m\u001b[0m\n\u001b[0m\u001b[1;32m     84\u001b[0m \u001b[0;34m\u001b[0m\u001b[0m\n\u001b[1;32m     85\u001b[0m \u001b[0;34m\u001b[0m\u001b[0m\n",
            "\u001b[0;32m/usr/local/lib/python3.7/dist-packages/pandas/core/generic.py\u001b[0m in \u001b[0;36m__array__\u001b[0;34m(self, dtype)\u001b[0m\n\u001b[1;32m   1779\u001b[0m \u001b[0;34m\u001b[0m\u001b[0m\n\u001b[1;32m   1780\u001b[0m     \u001b[0;32mdef\u001b[0m \u001b[0m__array__\u001b[0m\u001b[0;34m(\u001b[0m\u001b[0mself\u001b[0m\u001b[0;34m,\u001b[0m \u001b[0mdtype\u001b[0m\u001b[0;34m=\u001b[0m\u001b[0;32mNone\u001b[0m\u001b[0;34m)\u001b[0m \u001b[0;34m->\u001b[0m \u001b[0mnp\u001b[0m\u001b[0;34m.\u001b[0m\u001b[0mndarray\u001b[0m\u001b[0;34m:\u001b[0m\u001b[0;34m\u001b[0m\u001b[0;34m\u001b[0m\u001b[0m\n\u001b[0;32m-> 1781\u001b[0;31m         \u001b[0;32mreturn\u001b[0m \u001b[0mnp\u001b[0m\u001b[0;34m.\u001b[0m\u001b[0masarray\u001b[0m\u001b[0;34m(\u001b[0m\u001b[0mself\u001b[0m\u001b[0;34m.\u001b[0m\u001b[0m_values\u001b[0m\u001b[0;34m,\u001b[0m \u001b[0mdtype\u001b[0m\u001b[0;34m=\u001b[0m\u001b[0mdtype\u001b[0m\u001b[0;34m)\u001b[0m\u001b[0;34m\u001b[0m\u001b[0;34m\u001b[0m\u001b[0m\n\u001b[0m\u001b[1;32m   1782\u001b[0m \u001b[0;34m\u001b[0m\u001b[0m\n\u001b[1;32m   1783\u001b[0m     \u001b[0;32mdef\u001b[0m \u001b[0m__array_wrap__\u001b[0m\u001b[0;34m(\u001b[0m\u001b[0mself\u001b[0m\u001b[0;34m,\u001b[0m \u001b[0mresult\u001b[0m\u001b[0;34m,\u001b[0m \u001b[0mcontext\u001b[0m\u001b[0;34m=\u001b[0m\u001b[0;32mNone\u001b[0m\u001b[0;34m)\u001b[0m\u001b[0;34m:\u001b[0m\u001b[0;34m\u001b[0m\u001b[0;34m\u001b[0m\u001b[0m\n",
            "\u001b[0;32m/usr/local/lib/python3.7/dist-packages/numpy/core/_asarray.py\u001b[0m in \u001b[0;36masarray\u001b[0;34m(a, dtype, order)\u001b[0m\n\u001b[1;32m     81\u001b[0m \u001b[0;34m\u001b[0m\u001b[0m\n\u001b[1;32m     82\u001b[0m     \"\"\"\n\u001b[0;32m---> 83\u001b[0;31m     \u001b[0;32mreturn\u001b[0m \u001b[0marray\u001b[0m\u001b[0;34m(\u001b[0m\u001b[0ma\u001b[0m\u001b[0;34m,\u001b[0m \u001b[0mdtype\u001b[0m\u001b[0;34m,\u001b[0m \u001b[0mcopy\u001b[0m\u001b[0;34m=\u001b[0m\u001b[0;32mFalse\u001b[0m\u001b[0;34m,\u001b[0m \u001b[0morder\u001b[0m\u001b[0;34m=\u001b[0m\u001b[0morder\u001b[0m\u001b[0;34m)\u001b[0m\u001b[0;34m\u001b[0m\u001b[0;34m\u001b[0m\u001b[0m\n\u001b[0m\u001b[1;32m     84\u001b[0m \u001b[0;34m\u001b[0m\u001b[0m\n\u001b[1;32m     85\u001b[0m \u001b[0;34m\u001b[0m\u001b[0m\n",
            "\u001b[0;31mValueError\u001b[0m: could not convert string to float: '34.231318, -117.662032'"
          ]
        }
      ]
    },
    {
      "cell_type": "code",
      "source": [
        "plot_confusion_matrix(model, X_test_std, y_test)\n",
        "print(encoder_map)"
      ],
      "metadata": {
        "id": "098w16TfMkqn"
      },
      "execution_count": null,
      "outputs": []
    },
    {
      "cell_type": "code",
      "source": [
        "submit_result = './svm_result.csv'\n",
        "\n",
        "new_encoder_map = {'No Churn':0, 'Competitor': 1, 'Dissatisfaction':2, 'Attitude': 3, 'Price':4, 'Other':5}\n",
        "\n",
        "with open(submit_result, 'w') as f:\n",
        "    f.write('Customer ID,Churn Category\\n')\n",
        "    for i in range(len(df_test.values)):\n",
        "        id = str(df_test.values[i]).replace('[\\'', '')\n",
        "        id = id.replace('\\']', '')\n",
        "        pred = new_encoder_map.get(list(encoder_map.keys())[list(encoder_map.values()).index(y_test[i])])\n",
        "        f.write(f'{id},{pred}\\n')"
      ],
      "metadata": {
        "id": "6N35sOjrcpNd"
      },
      "execution_count": null,
      "outputs": []
    },
    {
      "cell_type": "code",
      "source": [
        "from google.colab import files\n",
        "\n",
        "files.download(submit_result)"
      ],
      "metadata": {
        "id": "0tLUThI7nWnj"
      },
      "execution_count": null,
      "outputs": []
    },
    {
      "cell_type": "markdown",
      "source": [
        "# **Deep Neural Network Train**"
      ],
      "metadata": {
        "id": "ZFjmDSVGQPwo"
      }
    },
    {
      "cell_type": "code",
      "source": [
        "class IBMDataset(Dataset):\n",
        "    def __init__(self, X, y=None):\n",
        "        self.data = torch.from_numpy(X).float()\n",
        "        if y is not None:\n",
        "            y = y.astype(np.int)\n",
        "            self.label = torch.LongTensor(y)\n",
        "        else:\n",
        "            self.label = None\n",
        "\n",
        "    def __getitem__(self, idx):\n",
        "        if self.label is not None:\n",
        "            return self.data[idx], self.label[idx]\n",
        "        else:\n",
        "            return self.data[idx]\n",
        "\n",
        "    def __len__(self):\n",
        "        return len(self.data)"
      ],
      "metadata": {
        "id": "G5F9W_RkSub3"
      },
      "execution_count": 361,
      "outputs": []
    },
    {
      "cell_type": "code",
      "source": [
        "class Classifier(nn.Module):\n",
        "    def __init__(self):\n",
        "        super(Classifier, self).__init__()\n",
        "        self.layer1 = nn.Linear(feature_amount - 1, 512)\n",
        "        self.layer2 = nn.Linear(512, 256)\n",
        "        self.layer3 = nn.Linear(256, 128)\n",
        "        self.bn1 = nn.BatchNorm1d(512)\n",
        "        self.bn2 = nn.BatchNorm1d(256)\n",
        "        self.bn3 = nn.BatchNorm1d(128)\n",
        "        self.out = nn.Linear(128, 6)\n",
        "        self.dp = nn.Dropout(0.2)\n",
        "        self.act_fn = nn.LeakyReLU()\n",
        "\n",
        "    def forward(self, x):\n",
        "        x = self.layer1(x)\n",
        "        x = self.act_fn(x)\n",
        "        x = self.bn1(x)\n",
        "        x = self.dp(x)\n",
        "\n",
        "        x = self.layer2(x)\n",
        "        x = self.act_fn(x)\n",
        "        x = self.bn2(x)\n",
        "        x = self.dp(x)\n",
        "\n",
        "        x = self.layer3(x)\n",
        "        x = self.act_fn(x)\n",
        "        x = self.bn3(x)\n",
        "        x = self.dp(x)\n",
        "        \n",
        "        x = self.out(x)\n",
        "        \n",
        "        return x\n",
        "\n",
        "# classifier = Classifier()\n",
        "# summary(classifier, X_train.shape, device=\"cpu\")"
      ],
      "metadata": {
        "id": "K_ofbzUUQdOX"
      },
      "execution_count": 362,
      "outputs": []
    },
    {
      "cell_type": "code",
      "source": [
        "def get_pseudo_labels(dataset, model, threshold=0.65):\n",
        "    device = \"cuda\" if torch.cuda.is_available() else \"cpu\"\n",
        "\n",
        "    data_loader = DataLoader(dataset, batch_size=batch_size, shuffle=False)\n",
        "\n",
        "    model.eval()\n",
        "    softmax = nn.Softmax(dim=-1)\n",
        "\n",
        "    resIndice = []\n",
        "    cntI = 0\n",
        "    for i, data in enumerate(data_loader):\n",
        "        inputs, labels = data\n",
        "\n",
        "        wi\n",
        "        inputs, labels = inputs.to(device), labels.to(device)\n",
        "\n",
        "        with torch.no_grad():\n",
        "            logits = model(img.to(device))\n",
        "\n",
        "        probs = softmax(logits)\n",
        "        isGTthreshold = torch.gt(torch.max(probs, 1).values, threshold)\n",
        "        for cntJ in range(isGTthreshold.shape[0]):\n",
        "            if isGTthreshold[cntJ]:\n",
        "                index = cntI*batch_size + cntJ\n",
        "                dataset.samples[index] = (dataset.samples[index][0], torch.max(probs, 1).indices[cntJ].item())\n",
        "                resIndice.append(index)\n",
        "    \n",
        "        cntI = cntI + 1\n",
        "\n",
        "    model.train()\n",
        "    pseudo_dataset = torch.utils.data.Subset(dataset, resIndice)\n",
        "    return pseudo_dataset"
      ],
      "metadata": {
        "id": "Qh3PCk2FdEkf"
      },
      "execution_count": 363,
      "outputs": []
    },
    {
      "cell_type": "code",
      "source": [
        "VAL_RATIO = 0.2\n",
        "BATCH_SIZE = 64\n",
        "\n",
        "sc = StandardScaler()\n",
        "ss = StandardScaler().fit(X_train)\n",
        "X_train_std = ss.transform(X_train)\n",
        "\n",
        "percent = int(X_train_std.shape[0] * (1 - VAL_RATIO))\n",
        "train_x, train_y, val_x, val_y = X_train_std[:percent], y_train[:percent], X_train_std[percent:], y_train[percent:]\n",
        "print('Size of training set: {}'.format(train_x.shape))\n",
        "print('Size of validation set: {}'.format(val_x.shape))"
      ],
      "metadata": {
        "id": "3lDEMsTdTVd3",
        "outputId": "ff74100a-60e9-47a8-9a90-4ccb87078434",
        "colab": {
          "base_uri": "https://localhost:8080/"
        }
      },
      "execution_count": 364,
      "outputs": [
        {
          "output_type": "stream",
          "name": "stdout",
          "text": [
            "Size of training set: (14933, 16)\n",
            "Size of validation set: (3734, 16)\n"
          ]
        }
      ]
    },
    {
      "cell_type": "code",
      "source": [
        "train_set = IBMDataset(train_x, train_y)\n",
        "val_set = IBMDataset(val_x, val_y)\n",
        "train_loader = DataLoader(train_set, batch_size=BATCH_SIZE, shuffle=True) # only shuffle the training data\n",
        "val_loader = DataLoader(val_set, batch_size=BATCH_SIZE, shuffle=False)"
      ],
      "metadata": {
        "id": "RaPDAgDzTcrs"
      },
      "execution_count": 365,
      "outputs": []
    },
    {
      "cell_type": "code",
      "source": [
        "# get device \n",
        "device = 'cuda' if torch.cuda.is_available() else 'cpu'\n",
        "print(f'DEVICE: {device}')\n",
        "\n",
        "# training parameters\n",
        "num_epoch = 3000             # number of training epoch\n",
        "learning_rate = 0.001       # learning rate\n",
        "callback_num = 400\n",
        "\n",
        "# the path where checkpoint saved\n",
        "model_path = './best_model.ckpt'\n",
        "\n",
        "# create model, define a loss function, and optimizer\n",
        "model = Classifier().to(device)\n",
        "class_weight = [v for k, v in class_weight.items()]\n",
        "criterion = nn.CrossEntropyLoss(weight=torch.FloatTensor(class_weight).to(device)) \n",
        "optimizer = torch.optim.Adam(model.parameters(), weight_decay=5e-4, lr=learning_rate)\n",
        "scheduler = StepLR(optimizer, step_size=len(train_loader) * 400, gamma=0.1)"
      ],
      "metadata": {
        "id": "CMbU0r5fRwai",
        "outputId": "bbc2b57f-6344-4592-8596-b028c94e4598",
        "colab": {
          "base_uri": "https://localhost:8080/"
        }
      },
      "execution_count": 366,
      "outputs": [
        {
          "output_type": "stream",
          "name": "stdout",
          "text": [
            "DEVICE: cuda\n"
          ]
        }
      ]
    },
    {
      "cell_type": "code",
      "source": [
        "best_acc = 0.0\n",
        "count = 0\n",
        "start_time = time.time()\n",
        "train_acc_list = []\n",
        "train_loss_list = []\n",
        "val_acc_list = []\n",
        "val_loss_list = []\n",
        "for epoch in range(num_epoch):\n",
        "    train_acc = 0.0\n",
        "    train_loss = 0.0\n",
        "    val_acc = 0.0\n",
        "    val_loss = 0.0\n",
        "\n",
        "    # training\n",
        "    model.train() # set the model to training mode\n",
        "    for i, data in enumerate(train_loader):\n",
        "        inputs, labels = data\n",
        "        inputs, labels = inputs.to(device), labels.to(device)\n",
        "        optimizer.zero_grad() \n",
        "        outputs = model(inputs) \n",
        "        batch_loss = criterion(outputs, labels)\n",
        "        _, train_pred = torch.max(outputs, 1) # get the index of the class with the highest probability\n",
        "        batch_loss.backward() \n",
        "        optimizer.step()\n",
        "        scheduler.step()\n",
        "\n",
        "        train_acc += (train_pred.cpu() == labels.cpu()).sum().item()\n",
        "        train_loss += batch_loss.item()\n",
        "\n",
        "    # validation\n",
        "    if len(val_set) > 0:\n",
        "        model.eval() # set the model to evaluation mode\n",
        "        with torch.no_grad():\n",
        "            for i, data in enumerate(val_loader):\n",
        "                inputs, labels = data\n",
        "                inputs, labels = inputs.to(device), labels.to(device)\n",
        "                outputs = model(inputs)\n",
        "                batch_loss = criterion(outputs, labels) \n",
        "                _, val_pred = torch.max(outputs, 1) \n",
        "            \n",
        "                val_acc += (val_pred.cpu() == labels.cpu()).sum().item() # get the index of the class with the highest probability\n",
        "                val_loss += batch_loss.item()\n",
        "\n",
        "            print('[{:03d}/{:03d}] Train Acc: {:3.6f} Loss: {:3.6f} | Val Acc: {:3.6f} loss: {:3.6f}'.format(\n",
        "                epoch + 1, num_epoch, train_acc/len(train_set), train_loss/len(train_loader), val_acc/len(val_set), val_loss/len(val_loader)\n",
        "            ))\n",
        "\n",
        "            # Record Training and validation info\n",
        "            train_acc_list.append(train_acc/len(train_set))\n",
        "            train_loss_list.append(train_loss/len(train_loader))\n",
        "            val_acc_list.append(val_acc/len(val_set))\n",
        "            val_loss_list.append(val_loss/len(val_loader))\n",
        "\n",
        "            # if the model improves, save a checkpoint at this epoch\n",
        "            count += 1\n",
        "            if val_acc > best_acc:\n",
        "                count = 0\n",
        "                best_acc = val_acc\n",
        "                torch.save(model.state_dict(), model_path)\n",
        "                print('saving model with acc {:.3f}'.format(best_acc/len(val_set)))\n",
        "    else:\n",
        "        print('[{:03d}/{:03d}] Train Acc: {:3.6f} Loss: {:3.6f}'.format(\n",
        "            epoch + 1, num_epoch, train_acc/len(train_set), train_loss/len(train_loader)\n",
        "        ))\n",
        "\n",
        "    if count > callback_num:\n",
        "        break\n",
        "\n",
        "# if not validating, save the last epoch\n",
        "if len(val_set) == 0:\n",
        "    torch.save(model.state_dict(), model_path)\n",
        "    print('saving model at last epoch')\n",
        "\n",
        "end_time = time.time()"
      ],
      "metadata": {
        "id": "zYGRiadPSNDo",
        "outputId": "ebb73f0a-c387-4606-a64d-0b24e3f63cd6",
        "colab": {
          "base_uri": "https://localhost:8080/"
        }
      },
      "execution_count": null,
      "outputs": [
        {
          "output_type": "stream",
          "name": "stdout",
          "text": [
            "[001/3000] Train Acc: 0.410031 Loss: 1.243376 | Val Acc: 0.183449 loss: 2.807854\n",
            "saving model with acc 0.183\n",
            "[002/3000] Train Acc: 0.492332 Loss: 0.927216 | Val Acc: 0.186931 loss: 3.062533\n",
            "saving model with acc 0.187\n",
            "[003/3000] Train Acc: 0.537400 Loss: 0.787722 | Val Acc: 0.183182 loss: 3.304644\n",
            "[004/3000] Train Acc: 0.567870 Loss: 0.716153 | Val Acc: 0.189877 loss: 3.124463\n",
            "saving model with acc 0.190\n",
            "[005/3000] Train Acc: 0.595125 Loss: 0.656532 | Val Acc: 0.192823 loss: 3.061072\n",
            "saving model with acc 0.193\n",
            "[006/3000] Train Acc: 0.612603 Loss: 0.605101 | Val Acc: 0.201125 loss: 3.004975\n",
            "saving model with acc 0.201\n",
            "[007/3000] Train Acc: 0.632827 Loss: 0.561242 | Val Acc: 0.232458 loss: 2.874687\n",
            "saving model with acc 0.232\n",
            "[008/3000] Train Acc: 0.643809 Loss: 0.538121 | Val Acc: 0.216658 loss: 2.910852\n",
            "[009/3000] Train Acc: 0.650773 Loss: 0.513074 | Val Acc: 0.235672 loss: 2.702391\n",
            "saving model with acc 0.236\n",
            "[010/3000] Train Acc: 0.657738 Loss: 0.503849 | Val Acc: 0.238082 loss: 2.591197\n",
            "saving model with acc 0.238\n",
            "[011/3000] Train Acc: 0.673944 Loss: 0.476007 | Val Acc: 0.247456 loss: 2.690785\n",
            "saving model with acc 0.247\n",
            "[012/3000] Train Acc: 0.671131 Loss: 0.468339 | Val Acc: 0.259507 loss: 2.632664\n",
            "saving model with acc 0.260\n",
            "[013/3000] Train Acc: 0.683721 Loss: 0.461512 | Val Acc: 0.251205 loss: 2.716542\n",
            "[014/3000] Train Acc: 0.681578 Loss: 0.448535 | Val Acc: 0.274772 loss: 2.461159\n",
            "saving model with acc 0.275\n",
            "[015/3000] Train Acc: 0.691757 Loss: 0.434310 | Val Acc: 0.303428 loss: 2.343441\n",
            "saving model with acc 0.303\n",
            "[016/3000] Train Acc: 0.694435 Loss: 0.423759 | Val Acc: 0.310927 loss: 2.480333\n",
            "saving model with acc 0.311\n",
            "[017/3000] Train Acc: 0.698855 Loss: 0.419317 | Val Acc: 0.284413 loss: 2.382072\n",
            "[018/3000] Train Acc: 0.699592 Loss: 0.428506 | Val Acc: 0.263792 loss: 2.443444\n",
            "[019/3000] Train Acc: 0.708230 Loss: 0.395988 | Val Acc: 0.329405 loss: 2.266360\n",
            "saving model with acc 0.329\n",
            "[020/3000] Train Acc: 0.711244 Loss: 0.392775 | Val Acc: 0.375736 loss: 2.162093\n",
            "saving model with acc 0.376\n",
            "[021/3000] Train Acc: 0.714726 Loss: 0.385828 | Val Acc: 0.342796 loss: 2.303877\n",
            "[022/3000] Train Acc: 0.718610 Loss: 0.385876 | Val Acc: 0.328066 loss: 2.376933\n",
            "[023/3000] Train Acc: 0.718275 Loss: 0.384346 | Val Acc: 0.333155 loss: 2.379739\n",
            "[024/3000] Train Acc: 0.720217 Loss: 0.380424 | Val Acc: 0.350562 loss: 2.265829\n",
            "[025/3000] Train Acc: 0.720083 Loss: 0.389516 | Val Acc: 0.357258 loss: 2.214617\n",
            "[026/3000] Train Acc: 0.719212 Loss: 0.371705 | Val Acc: 0.404392 loss: 2.086172\n",
            "saving model with acc 0.404\n",
            "[027/3000] Train Acc: 0.722829 Loss: 0.375362 | Val Acc: 0.386449 loss: 2.281073\n",
            "[028/3000] Train Acc: 0.730865 Loss: 0.362932 | Val Acc: 0.361275 loss: 2.261751\n",
            "[029/3000] Train Acc: 0.736289 Loss: 0.356422 | Val Acc: 0.414033 loss: 2.047034\n",
            "saving model with acc 0.414\n",
            "[030/3000] Train Acc: 0.728655 Loss: 0.362345 | Val Acc: 0.408141 loss: 2.092709\n",
            "[031/3000] Train Acc: 0.727650 Loss: 0.361427 | Val Acc: 0.371719 loss: 2.134907\n",
            "[032/3000] Train Acc: 0.734414 Loss: 0.360185 | Val Acc: 0.392341 loss: 2.122541\n",
            "[033/3000] Train Acc: 0.731266 Loss: 0.358754 | Val Acc: 0.379218 loss: 2.191816\n",
            "[034/3000] Train Acc: 0.731869 Loss: 0.359426 | Val Acc: 0.399839 loss: 2.099902\n",
            "[035/3000] Train Acc: 0.742784 Loss: 0.336492 | Val Acc: 0.386984 loss: 2.126568\n",
            "[036/3000] Train Acc: 0.731400 Loss: 0.349994 | Val Acc: 0.352169 loss: 2.140399\n",
            "[037/3000] Train Acc: 0.736155 Loss: 0.351211 | Val Acc: 0.381628 loss: 2.159586\n",
            "[038/3000] Train Acc: 0.735083 Loss: 0.354251 | Val Acc: 0.401714 loss: 2.154742\n",
            "[039/3000] Train Acc: 0.733945 Loss: 0.351496 | Val Acc: 0.427156 loss: 2.012996\n",
            "saving model with acc 0.427\n",
            "[040/3000] Train Acc: 0.730396 Loss: 0.349831 | Val Acc: 0.396626 loss: 2.158521\n",
            "[041/3000] Train Acc: 0.737159 Loss: 0.344941 | Val Acc: 0.364756 loss: 2.246681\n",
            "[042/3000] Train Acc: 0.739034 Loss: 0.337243 | Val Acc: 0.410552 loss: 2.118610\n",
            "[043/3000] Train Acc: 0.739771 Loss: 0.348750 | Val Acc: 0.395822 loss: 2.086105\n",
            "[044/3000] Train Acc: 0.741043 Loss: 0.334581 | Val Acc: 0.383771 loss: 2.091955\n",
            "[045/3000] Train Acc: 0.741780 Loss: 0.337084 | Val Acc: 0.375201 loss: 2.244806\n",
            "[046/3000] Train Acc: 0.746601 Loss: 0.326522 | Val Acc: 0.392341 loss: 2.033734\n",
            "[047/3000] Train Acc: 0.739704 Loss: 0.345247 | Val Acc: 0.381360 loss: 2.090962\n",
            "[048/3000] Train Acc: 0.745731 Loss: 0.336579 | Val Acc: 0.426352 loss: 2.000932\n",
            "[049/3000] Train Acc: 0.752628 Loss: 0.326260 | Val Acc: 0.425013 loss: 2.062599\n",
            "[050/3000] Train Acc: 0.752093 Loss: 0.324770 | Val Acc: 0.434119 loss: 2.105541\n",
            "saving model with acc 0.434\n",
            "[051/3000] Train Acc: 0.749615 Loss: 0.325062 | Val Acc: 0.419389 loss: 1.916164\n",
            "[052/3000] Train Acc: 0.743789 Loss: 0.334106 | Val Acc: 0.410284 loss: 1.959719\n",
            "[053/3000] Train Acc: 0.747472 Loss: 0.331893 | Val Acc: 0.432244 loss: 2.010354\n",
            "[054/3000] Train Acc: 0.749414 Loss: 0.327728 | Val Acc: 0.446170 loss: 1.908295\n",
            "saving model with acc 0.446\n",
            "[055/3000] Train Acc: 0.746468 Loss: 0.334961 | Val Acc: 0.430370 loss: 1.908868\n",
            "[056/3000] Train Acc: 0.749749 Loss: 0.313460 | Val Acc: 0.458757 loss: 1.847424\n",
            "saving model with acc 0.459\n",
            "[057/3000] Train Acc: 0.747405 Loss: 0.334928 | Val Acc: 0.409213 loss: 2.008557\n",
            "[058/3000] Train Acc: 0.748878 Loss: 0.323304 | Val Acc: 0.437333 loss: 1.962119\n",
            "[059/3000] Train Acc: 0.750285 Loss: 0.319902 | Val Acc: 0.414301 loss: 2.126569\n",
            "[060/3000] Train Acc: 0.750017 Loss: 0.321887 | Val Acc: 0.439475 loss: 1.965941\n",
            "[061/3000] Train Acc: 0.755039 Loss: 0.320741 | Val Acc: 0.410284 loss: 2.165763\n",
            "[062/3000] Train Acc: 0.753700 Loss: 0.317677 | Val Acc: 0.412426 loss: 2.093828\n",
            "[063/3000] Train Acc: 0.749883 Loss: 0.322085 | Val Acc: 0.411355 loss: 2.112116\n",
            "[064/3000] Train Acc: 0.752026 Loss: 0.319917 | Val Acc: 0.455811 loss: 2.017077\n",
            "[065/3000] Train Acc: 0.750285 Loss: 0.327284 | Val Acc: 0.399572 loss: 1.996666\n",
            "[066/3000] Train Acc: 0.745999 Loss: 0.326076 | Val Acc: 0.469738 loss: 2.016029\n",
            "saving model with acc 0.470\n",
            "[067/3000] Train Acc: 0.741110 Loss: 0.327089 | Val Acc: 0.439207 loss: 1.993011\n",
            "[068/3000] Train Acc: 0.756981 Loss: 0.307831 | Val Acc: 0.441350 loss: 2.023204\n",
            "[069/3000] Train Acc: 0.748008 Loss: 0.332871 | Val Acc: 0.438404 loss: 1.998633\n",
            "[070/3000] Train Acc: 0.752963 Loss: 0.317570 | Val Acc: 0.419389 loss: 2.067826\n",
            "[071/3000] Train Acc: 0.750084 Loss: 0.323726 | Val Acc: 0.463310 loss: 1.973083\n",
            "[072/3000] Train Acc: 0.747874 Loss: 0.323462 | Val Acc: 0.444028 loss: 1.950812\n",
            "[073/3000] Train Acc: 0.751758 Loss: 0.318671 | Val Acc: 0.400107 loss: 2.113208\n",
            "[074/3000] Train Acc: 0.753499 Loss: 0.314300 | Val Acc: 0.430637 loss: 2.037648\n",
            "[075/3000] Train Acc: 0.757450 Loss: 0.311013 | Val Acc: 0.445903 loss: 2.016045\n",
            "[076/3000] Train Acc: 0.760329 Loss: 0.318500 | Val Acc: 0.484735 loss: 1.825415\n",
            "saving model with acc 0.485\n",
            "[077/3000] Train Acc: 0.751758 Loss: 0.323447 | Val Acc: 0.407874 loss: 1.888525\n",
            "[078/3000] Train Acc: 0.754972 Loss: 0.309087 | Val Acc: 0.464649 loss: 1.913707\n",
            "[079/3000] Train Acc: 0.758320 Loss: 0.311605 | Val Acc: 0.423674 loss: 2.092514\n",
            "[080/3000] Train Acc: 0.759325 Loss: 0.307528 | Val Acc: 0.420996 loss: 2.108571\n",
            "[081/3000] Train Acc: 0.755173 Loss: 0.307732 | Val Acc: 0.430102 loss: 2.025306\n",
            "[082/3000] Train Acc: 0.756111 Loss: 0.313590 | Val Acc: 0.470273 loss: 1.912453\n",
            "[083/3000] Train Acc: 0.757383 Loss: 0.317514 | Val Acc: 0.433048 loss: 2.014661\n",
            "[084/3000] Train Acc: 0.763142 Loss: 0.308585 | Val Acc: 0.466792 loss: 1.897901\n",
            "[085/3000] Train Acc: 0.758120 Loss: 0.310197 | Val Acc: 0.462775 loss: 1.905888\n",
            "[086/3000] Train Acc: 0.765888 Loss: 0.297179 | Val Acc: 0.423139 loss: 1.903044\n",
            "[087/3000] Train Acc: 0.757986 Loss: 0.302052 | Val Acc: 0.470541 loss: 1.937170\n",
            "[088/3000] Train Acc: 0.754838 Loss: 0.317774 | Val Acc: 0.419389 loss: 1.866723\n",
            "[089/3000] Train Acc: 0.755240 Loss: 0.309855 | Val Acc: 0.438672 loss: 1.958634\n",
            "[090/3000] Train Acc: 0.758655 Loss: 0.303639 | Val Acc: 0.444563 loss: 1.993290\n",
            "[091/3000] Train Acc: 0.757249 Loss: 0.313360 | Val Acc: 0.447509 loss: 1.894059\n",
            "[092/3000] Train Acc: 0.759459 Loss: 0.307627 | Val Acc: 0.460632 loss: 1.918838\n",
            "[093/3000] Train Acc: 0.765218 Loss: 0.309201 | Val Acc: 0.474826 loss: 1.905507\n",
            "[094/3000] Train Acc: 0.753499 Loss: 0.317552 | Val Acc: 0.465720 loss: 1.977982\n",
            "[095/3000] Train Acc: 0.763410 Loss: 0.307049 | Val Acc: 0.486342 loss: 1.816245\n",
            "saving model with acc 0.486\n",
            "[096/3000] Train Acc: 0.761334 Loss: 0.300510 | Val Acc: 0.418854 loss: 1.827152\n",
            "[097/3000] Train Acc: 0.757986 Loss: 0.310036 | Val Acc: 0.438136 loss: 1.905812\n",
            "[098/3000] Train Acc: 0.759459 Loss: 0.307591 | Val Acc: 0.429031 loss: 1.976730\n",
            "[099/3000] Train Acc: 0.756312 Loss: 0.315071 | Val Acc: 0.409748 loss: 2.120016\n",
            "[100/3000] Train Acc: 0.761334 Loss: 0.306853 | Val Acc: 0.470809 loss: 1.965719\n",
            "[101/3000] Train Acc: 0.760396 Loss: 0.300829 | Val Acc: 0.448313 loss: 2.029010\n",
            "[102/3000] Train Acc: 0.761334 Loss: 0.304881 | Val Acc: 0.471612 loss: 1.890348\n",
            "[103/3000] Train Acc: 0.764147 Loss: 0.297044 | Val Acc: 0.470809 loss: 1.889834\n",
            "[104/3000] Train Acc: 0.759325 Loss: 0.318978 | Val Acc: 0.438672 loss: 1.945603\n",
            "[105/3000] Train Acc: 0.760798 Loss: 0.312926 | Val Acc: 0.441618 loss: 1.946340\n",
            "[106/3000] Train Acc: 0.763008 Loss: 0.305110 | Val Acc: 0.434922 loss: 1.904935\n",
            "[107/3000] Train Acc: 0.765151 Loss: 0.298115 | Val Acc: 0.457151 loss: 2.003405\n",
            "[108/3000] Train Acc: 0.758187 Loss: 0.300745 | Val Acc: 0.449384 loss: 1.909241\n",
            "[109/3000] Train Acc: 0.769035 Loss: 0.293809 | Val Acc: 0.474290 loss: 1.790168\n",
            "[110/3000] Train Acc: 0.766222 Loss: 0.304627 | Val Acc: 0.479111 loss: 1.981518\n",
            "[111/3000] Train Acc: 0.764481 Loss: 0.314857 | Val Acc: 0.415104 loss: 2.040373\n",
            "[112/3000] Train Acc: 0.759995 Loss: 0.314699 | Val Acc: 0.485806 loss: 1.838740\n",
            "[113/3000] Train Acc: 0.761602 Loss: 0.298454 | Val Acc: 0.474022 loss: 1.951213\n",
            "[114/3000] Train Acc: 0.767361 Loss: 0.303085 | Val Acc: 0.451527 loss: 1.943724\n",
            "[115/3000] Train Acc: 0.767562 Loss: 0.295330 | Val Acc: 0.446706 loss: 2.006600\n",
            "[116/3000] Train Acc: 0.767160 Loss: 0.294259 | Val Acc: 0.449116 loss: 2.038489\n",
            "[117/3000] Train Acc: 0.771848 Loss: 0.301121 | Val Acc: 0.478575 loss: 1.909262\n",
            "[118/3000] Train Acc: 0.769571 Loss: 0.298713 | Val Acc: 0.454205 loss: 1.977684\n",
            "[119/3000] Train Acc: 0.763611 Loss: 0.303996 | Val Acc: 0.460632 loss: 1.892786\n",
            "[120/3000] Train Acc: 0.759392 Loss: 0.314693 | Val Acc: 0.461703 loss: 1.871051\n",
            "[121/3000] Train Acc: 0.763879 Loss: 0.299335 | Val Acc: 0.431173 loss: 1.993029\n",
            "[122/3000] Train Acc: 0.765888 Loss: 0.298178 | Val Acc: 0.451259 loss: 1.923582\n",
            "[123/3000] Train Acc: 0.770776 Loss: 0.284003 | Val Acc: 0.440011 loss: 1.996604\n",
            "[124/3000] Train Acc: 0.771044 Loss: 0.287029 | Val Acc: 0.467595 loss: 1.914119\n",
            "[125/3000] Train Acc: 0.765687 Loss: 0.298816 | Val Acc: 0.447242 loss: 2.004487\n",
            "[126/3000] Train Acc: 0.762071 Loss: 0.299485 | Val Acc: 0.428763 loss: 2.048102\n",
            "[127/3000] Train Acc: 0.759861 Loss: 0.309434 | Val Acc: 0.449384 loss: 1.957061\n",
            "[128/3000] Train Acc: 0.762138 Loss: 0.301226 | Val Acc: 0.449384 loss: 1.938488\n",
            "[129/3000] Train Acc: 0.764481 Loss: 0.293471 | Val Acc: 0.480450 loss: 1.996382\n",
            "[130/3000] Train Acc: 0.763008 Loss: 0.296413 | Val Acc: 0.458222 loss: 1.865986\n",
            "[131/3000] Train Acc: 0.763946 Loss: 0.299882 | Val Acc: 0.440546 loss: 2.061644\n",
            "[132/3000] Train Acc: 0.767093 Loss: 0.288851 | Val Acc: 0.408677 loss: 2.112801\n",
            "[133/3000] Train Acc: 0.766155 Loss: 0.298424 | Val Acc: 0.478843 loss: 1.771511\n",
            "[134/3000] Train Acc: 0.764816 Loss: 0.304420 | Val Acc: 0.459293 loss: 1.933671\n",
            "[135/3000] Train Acc: 0.767495 Loss: 0.292768 | Val Acc: 0.465720 loss: 1.949132\n",
            "[136/3000] Train Acc: 0.760798 Loss: 0.304142 | Val Acc: 0.458490 loss: 1.946351\n",
            "[137/3000] Train Acc: 0.767026 Loss: 0.300292 | Val Acc: 0.466524 loss: 1.952782\n",
            "[138/3000] Train Acc: 0.761535 Loss: 0.313825 | Val Acc: 0.412962 loss: 1.990297\n",
            "[139/3000] Train Acc: 0.761267 Loss: 0.300731 | Val Acc: 0.468666 loss: 1.902470\n",
            "[140/3000] Train Acc: 0.767897 Loss: 0.293033 | Val Acc: 0.479379 loss: 1.839689\n",
            "[141/3000] Train Acc: 0.775932 Loss: 0.283399 | Val Acc: 0.461703 loss: 1.903736\n",
            "[142/3000] Train Acc: 0.775129 Loss: 0.280870 | Val Acc: 0.468399 loss: 1.915884\n",
            "[143/3000] Train Acc: 0.767629 Loss: 0.297951 | Val Acc: 0.437065 loss: 2.033686\n",
            "[144/3000] Train Acc: 0.764816 Loss: 0.298339 | Val Acc: 0.469738 loss: 1.910737\n",
            "[145/3000] Train Acc: 0.764950 Loss: 0.299501 | Val Acc: 0.445635 loss: 2.082298\n",
            "[146/3000] Train Acc: 0.754436 Loss: 0.318016 | Val Acc: 0.449384 loss: 2.011740\n",
            "[147/3000] Train Acc: 0.760999 Loss: 0.304734 | Val Acc: 0.429298 loss: 2.075007\n",
            "[148/3000] Train Acc: 0.765687 Loss: 0.297621 | Val Acc: 0.454740 loss: 1.953639\n",
            "[149/3000] Train Acc: 0.770575 Loss: 0.291996 | Val Acc: 0.448581 loss: 1.939067\n",
            "[150/3000] Train Acc: 0.769973 Loss: 0.292678 | Val Acc: 0.465185 loss: 1.882042\n",
            "[151/3000] Train Acc: 0.764213 Loss: 0.293294 | Val Acc: 0.407606 loss: 1.947236\n",
            "[152/3000] Train Acc: 0.772986 Loss: 0.283993 | Val Acc: 0.466792 loss: 1.861537\n",
            "[153/3000] Train Acc: 0.773455 Loss: 0.288195 | Val Acc: 0.480450 loss: 1.922312\n",
            "[154/3000] Train Acc: 0.769571 Loss: 0.293147 | Val Acc: 0.454740 loss: 2.033235\n",
            "[155/3000] Train Acc: 0.769504 Loss: 0.296437 | Val Acc: 0.460900 loss: 1.971705\n",
            "[156/3000] Train Acc: 0.758789 Loss: 0.307924 | Val Acc: 0.486610 loss: 1.948981\n",
            "saving model with acc 0.487\n",
            "[157/3000] Train Acc: 0.766691 Loss: 0.300720 | Val Acc: 0.446170 loss: 2.045851\n",
            "[158/3000] Train Acc: 0.762138 Loss: 0.298493 | Val Acc: 0.440814 loss: 1.995672\n",
            "[159/3000] Train Acc: 0.767294 Loss: 0.301497 | Val Acc: 0.446170 loss: 1.978280\n",
            "[160/3000] Train Acc: 0.766155 Loss: 0.289440 | Val Acc: 0.482325 loss: 1.793414\n",
            "[161/3000] Train Acc: 0.770977 Loss: 0.290506 | Val Acc: 0.478843 loss: 1.873304\n",
            "[162/3000] Train Acc: 0.763477 Loss: 0.293239 | Val Acc: 0.433315 loss: 1.927021\n",
            "[163/3000] Train Acc: 0.769906 Loss: 0.299784 | Val Acc: 0.502142 loss: 1.787869\n",
            "saving model with acc 0.502\n",
            "[164/3000] Train Acc: 0.770441 Loss: 0.289896 | Val Acc: 0.404660 loss: 1.969671\n",
            "[165/3000] Train Acc: 0.767964 Loss: 0.298332 | Val Acc: 0.483128 loss: 1.922496\n",
            "[166/3000] Train Acc: 0.769906 Loss: 0.288351 | Val Acc: 0.440546 loss: 2.021913\n",
            "[167/3000] Train Acc: 0.774459 Loss: 0.293185 | Val Acc: 0.435458 loss: 2.032128\n",
            "[168/3000] Train Acc: 0.772048 Loss: 0.290981 | Val Acc: 0.471880 loss: 1.899294\n",
            "[169/3000] Train Acc: 0.766557 Loss: 0.287175 | Val Acc: 0.485538 loss: 1.867004\n",
            "[170/3000] Train Acc: 0.773120 Loss: 0.291412 | Val Acc: 0.458490 loss: 1.908384\n",
            "[171/3000] Train Acc: 0.761803 Loss: 0.302387 | Val Acc: 0.480182 loss: 1.897190\n",
            "[172/3000] Train Acc: 0.769504 Loss: 0.287749 | Val Acc: 0.496251 loss: 1.799416\n",
            "[173/3000] Train Acc: 0.765955 Loss: 0.306425 | Val Acc: 0.444563 loss: 1.972380\n",
            "[174/3000] Train Acc: 0.766356 Loss: 0.292632 | Val Acc: 0.450187 loss: 1.819885\n",
            "[175/3000] Train Acc: 0.768298 Loss: 0.296275 | Val Acc: 0.444563 loss: 1.971579\n",
            "[176/3000] Train Acc: 0.776468 Loss: 0.282640 | Val Acc: 0.424746 loss: 1.890444\n",
            "[177/3000] Train Acc: 0.772785 Loss: 0.289316 | Val Acc: 0.488484 loss: 1.782036\n",
            "[178/3000] Train Acc: 0.766155 Loss: 0.298080 | Val Acc: 0.477504 loss: 1.926010\n",
            "[179/3000] Train Acc: 0.769236 Loss: 0.294094 | Val Acc: 0.473219 loss: 1.955726\n",
            "[180/3000] Train Acc: 0.771245 Loss: 0.297902 | Val Acc: 0.451794 loss: 1.883198\n",
            "[181/3000] Train Acc: 0.766557 Loss: 0.292911 | Val Acc: 0.466792 loss: 1.997768\n",
            "[182/3000] Train Acc: 0.770173 Loss: 0.289511 | Val Acc: 0.439743 loss: 1.924908\n",
            "[183/3000] Train Acc: 0.769638 Loss: 0.293277 | Val Acc: 0.429031 loss: 2.093728\n",
            "[184/3000] Train Acc: 0.770508 Loss: 0.295659 | Val Acc: 0.481521 loss: 1.884867\n",
            "[185/3000] Train Acc: 0.769169 Loss: 0.291408 | Val Acc: 0.467595 loss: 1.918211\n",
            "[186/3000] Train Acc: 0.766289 Loss: 0.299726 | Val Acc: 0.480450 loss: 1.943139\n",
            "[187/3000] Train Acc: 0.767897 Loss: 0.298315 | Val Acc: 0.472951 loss: 1.893472\n",
            "[188/3000] Train Acc: 0.769370 Loss: 0.292567 | Val Acc: 0.439475 loss: 2.068181\n",
            "[189/3000] Train Acc: 0.771379 Loss: 0.286916 | Val Acc: 0.488216 loss: 1.841651\n",
            "[190/3000] Train Acc: 0.773321 Loss: 0.286272 | Val Acc: 0.468399 loss: 1.932310\n",
            "[191/3000] Train Acc: 0.774794 Loss: 0.289194 | Val Acc: 0.414301 loss: 1.916517\n",
            "[192/3000] Train Acc: 0.770709 Loss: 0.293207 | Val Acc: 0.446974 loss: 1.886527\n",
            "[193/3000] Train Acc: 0.762606 Loss: 0.304531 | Val Acc: 0.468666 loss: 1.891799\n",
            "[194/3000] Train Acc: 0.769303 Loss: 0.290039 | Val Acc: 0.478575 loss: 1.806235\n",
            "[195/3000] Train Acc: 0.775866 Loss: 0.276510 | Val Acc: 0.474290 loss: 1.889053\n",
            "[196/3000] Train Acc: 0.769973 Loss: 0.290074 | Val Acc: 0.466524 loss: 1.827719\n",
            "[197/3000] Train Acc: 0.770910 Loss: 0.289402 | Val Acc: 0.501875 loss: 1.826404\n",
            "[198/3000] Train Acc: 0.766490 Loss: 0.298292 | Val Acc: 0.475897 loss: 1.846749\n",
            "[199/3000] Train Acc: 0.769973 Loss: 0.293258 | Val Acc: 0.438672 loss: 2.053572\n",
            "[200/3000] Train Acc: 0.772986 Loss: 0.285266 | Val Acc: 0.430370 loss: 1.940991\n",
            "[201/3000] Train Acc: 0.770374 Loss: 0.292189 | Val Acc: 0.444028 loss: 1.991491\n",
            "[202/3000] Train Acc: 0.768365 Loss: 0.292585 | Val Acc: 0.437868 loss: 1.967918\n",
            "[203/3000] Train Acc: 0.774727 Loss: 0.284529 | Val Acc: 0.436797 loss: 2.096068\n",
            "[204/3000] Train Acc: 0.779415 Loss: 0.282647 | Val Acc: 0.490091 loss: 1.957227\n",
            "[205/3000] Train Acc: 0.778410 Loss: 0.280188 | Val Acc: 0.480182 loss: 1.846938\n",
            "[206/3000] Train Acc: 0.767964 Loss: 0.287186 | Val Acc: 0.446438 loss: 1.971627\n",
            "[207/3000] Train Acc: 0.767830 Loss: 0.298822 | Val Acc: 0.423139 loss: 2.133125\n",
            "[208/3000] Train Acc: 0.764816 Loss: 0.301709 | Val Acc: 0.470005 loss: 1.943954\n",
            "[209/3000] Train Acc: 0.768767 Loss: 0.287087 | Val Acc: 0.481521 loss: 1.865622\n",
            "[210/3000] Train Acc: 0.771915 Loss: 0.284853 | Val Acc: 0.505088 loss: 1.767783\n",
            "saving model with acc 0.505\n",
            "[211/3000] Train Acc: 0.771312 Loss: 0.292376 | Val Acc: 0.450455 loss: 2.041655\n",
            "[212/3000] Train Acc: 0.771647 Loss: 0.280734 | Val Acc: 0.473755 loss: 1.882180\n",
            "[213/3000] Train Acc: 0.776803 Loss: 0.275182 | Val Acc: 0.478307 loss: 1.877739\n",
            "[214/3000] Train Acc: 0.775598 Loss: 0.280506 | Val Acc: 0.487145 loss: 1.917396\n",
            "[215/3000] Train Acc: 0.763142 Loss: 0.300763 | Val Acc: 0.487413 loss: 1.971590\n",
            "[216/3000] Train Acc: 0.772852 Loss: 0.285729 | Val Acc: 0.450455 loss: 2.025585\n",
            "[217/3000] Train Acc: 0.770575 Loss: 0.293011 | Val Acc: 0.431709 loss: 1.950869\n",
            "[218/3000] Train Acc: 0.772316 Loss: 0.289446 | Val Acc: 0.485538 loss: 1.918422\n",
            "[219/3000] Train Acc: 0.776870 Loss: 0.280183 | Val Acc: 0.422603 loss: 1.948789\n",
            "[220/3000] Train Acc: 0.775531 Loss: 0.287093 | Val Acc: 0.481521 loss: 1.844840\n",
            "[221/3000] Train Acc: 0.775062 Loss: 0.283894 | Val Acc: 0.468399 loss: 1.883098\n",
            "[222/3000] Train Acc: 0.775397 Loss: 0.283282 | Val Acc: 0.438404 loss: 1.947853\n",
            "[223/3000] Train Acc: 0.772316 Loss: 0.295542 | Val Acc: 0.466792 loss: 1.837214\n",
            "[224/3000] Train Acc: 0.767227 Loss: 0.292378 | Val Acc: 0.459561 loss: 1.902437\n",
            "[225/3000] Train Acc: 0.769169 Loss: 0.299422 | Val Acc: 0.464381 loss: 1.907561\n",
            "[226/3000] Train Acc: 0.774258 Loss: 0.280470 | Val Acc: 0.470273 loss: 1.919986\n",
            "[227/3000] Train Acc: 0.776937 Loss: 0.286111 | Val Acc: 0.453937 loss: 1.973507\n",
            "[228/3000] Train Acc: 0.772249 Loss: 0.286575 | Val Acc: 0.458757 loss: 1.930291\n",
            "[229/3000] Train Acc: 0.772316 Loss: 0.292124 | Val Acc: 0.443760 loss: 1.792031\n",
            "[230/3000] Train Acc: 0.773790 Loss: 0.286853 | Val Acc: 0.452598 loss: 1.994247\n",
            "[231/3000] Train Acc: 0.775732 Loss: 0.289672 | Val Acc: 0.489288 loss: 1.826187\n",
            "[232/3000] Train Acc: 0.771915 Loss: 0.280605 | Val Acc: 0.483931 loss: 1.856513\n",
            "[233/3000] Train Acc: 0.781959 Loss: 0.271130 | Val Acc: 0.452598 loss: 2.020978\n",
            "[234/3000] Train Acc: 0.776602 Loss: 0.288397 | Val Acc: 0.461703 loss: 1.907576\n",
            "[235/3000] Train Acc: 0.771446 Loss: 0.289566 | Val Acc: 0.491162 loss: 1.774888\n",
            "[236/3000] Train Acc: 0.769772 Loss: 0.290144 | Val Acc: 0.437333 loss: 2.138394\n",
            "[237/3000] Train Acc: 0.778410 Loss: 0.281417 | Val Acc: 0.485003 loss: 1.881179\n",
            "[238/3000] Train Acc: 0.769638 Loss: 0.288953 | Val Acc: 0.448848 loss: 1.990098\n",
            "[239/3000] Train Acc: 0.771178 Loss: 0.295923 | Val Acc: 0.442153 loss: 2.073404\n",
            "[240/3000] Train Acc: 0.770374 Loss: 0.286721 | Val Acc: 0.469202 loss: 1.952025\n",
            "[241/3000] Train Acc: 0.771111 Loss: 0.292355 | Val Acc: 0.463846 loss: 2.002453\n",
            "[242/3000] Train Acc: 0.774057 Loss: 0.292152 | Val Acc: 0.502410 loss: 1.733184\n",
            "[243/3000] Train Acc: 0.770977 Loss: 0.291410 | Val Acc: 0.454740 loss: 1.985799\n",
            "[244/3000] Train Acc: 0.766155 Loss: 0.293737 | Val Acc: 0.465453 loss: 1.854893\n",
            "[245/3000] Train Acc: 0.775129 Loss: 0.283339 | Val Acc: 0.494912 loss: 1.810226\n",
            "[246/3000] Train Acc: 0.776267 Loss: 0.282418 | Val Acc: 0.496786 loss: 1.755153\n",
            "[247/3000] Train Acc: 0.770776 Loss: 0.285146 | Val Acc: 0.493037 loss: 1.820776\n",
            "[248/3000] Train Acc: 0.773990 Loss: 0.289443 | Val Acc: 0.479379 loss: 1.900841\n",
            "[249/3000] Train Acc: 0.778142 Loss: 0.279360 | Val Acc: 0.507499 loss: 1.878962\n",
            "saving model with acc 0.507\n",
            "[250/3000] Train Acc: 0.770910 Loss: 0.297781 | Val Acc: 0.497858 loss: 1.782984\n",
            "[251/3000] Train Acc: 0.768767 Loss: 0.287356 | Val Acc: 0.477772 loss: 1.900172\n",
            "[252/3000] Train Acc: 0.775999 Loss: 0.280138 | Val Acc: 0.438404 loss: 1.881514\n",
            "[253/3000] Train Acc: 0.781357 Loss: 0.279995 | Val Acc: 0.465453 loss: 1.858221\n",
            "[254/3000] Train Acc: 0.781959 Loss: 0.274052 | Val Acc: 0.462507 loss: 1.884644\n",
            "[255/3000] Train Acc: 0.769035 Loss: 0.293018 | Val Acc: 0.502678 loss: 1.786360\n",
            "[256/3000] Train Acc: 0.769772 Loss: 0.290551 | Val Acc: 0.463846 loss: 1.916784\n",
            "[257/3000] Train Acc: 0.773522 Loss: 0.281764 | Val Acc: 0.508302 loss: 1.891306\n",
            "saving model with acc 0.508\n",
            "[258/3000] Train Acc: 0.775397 Loss: 0.285264 | Val Acc: 0.474290 loss: 1.979930\n",
            "[259/3000] Train Acc: 0.765553 Loss: 0.300513 | Val Acc: 0.468131 loss: 1.875687\n",
            "[260/3000] Train Acc: 0.766289 Loss: 0.306060 | Val Acc: 0.502946 loss: 1.718935\n",
            "[261/3000] Train Acc: 0.771312 Loss: 0.291615 | Val Acc: 0.480986 loss: 1.914502\n",
            "[262/3000] Train Acc: 0.779616 Loss: 0.281609 | Val Acc: 0.460632 loss: 1.962493\n",
            "[263/3000] Train Acc: 0.779817 Loss: 0.279839 | Val Acc: 0.441350 loss: 1.916674\n",
            "[264/3000] Train Acc: 0.772919 Loss: 0.291279 | Val Acc: 0.451259 loss: 1.989771\n",
            "[265/3000] Train Acc: 0.780888 Loss: 0.280371 | Val Acc: 0.490359 loss: 1.845098\n",
            "[266/3000] Train Acc: 0.772852 Loss: 0.285493 | Val Acc: 0.501607 loss: 1.822473\n",
            "[267/3000] Train Acc: 0.775464 Loss: 0.281492 | Val Acc: 0.441618 loss: 1.973019\n",
            "[268/3000] Train Acc: 0.768901 Loss: 0.295628 | Val Acc: 0.468399 loss: 1.939526\n",
            "[269/3000] Train Acc: 0.769437 Loss: 0.303359 | Val Acc: 0.433851 loss: 1.943076\n",
            "[270/3000] Train Acc: 0.782495 Loss: 0.273734 | Val Acc: 0.493037 loss: 1.801520\n",
            "[271/3000] Train Acc: 0.772249 Loss: 0.287179 | Val Acc: 0.464917 loss: 1.895633\n",
            "[272/3000] Train Acc: 0.775866 Loss: 0.281801 | Val Acc: 0.448313 loss: 1.947946\n",
            "[273/3000] Train Acc: 0.779482 Loss: 0.280831 | Val Acc: 0.474558 loss: 1.936148\n",
            "[274/3000] Train Acc: 0.778276 Loss: 0.278940 | Val Acc: 0.433048 loss: 2.042102\n",
            "[275/3000] Train Acc: 0.774191 Loss: 0.291625 | Val Acc: 0.495179 loss: 1.782995\n",
            "[276/3000] Train Acc: 0.770441 Loss: 0.292724 | Val Acc: 0.486074 loss: 1.843704\n",
            "[277/3000] Train Acc: 0.768767 Loss: 0.290530 | Val Acc: 0.453669 loss: 2.033725\n",
            "[278/3000] Train Acc: 0.775999 Loss: 0.289016 | Val Acc: 0.499197 loss: 1.955097\n",
            "[279/3000] Train Acc: 0.773589 Loss: 0.281038 | Val Acc: 0.500268 loss: 1.756532\n",
            "[280/3000] Train Acc: 0.775330 Loss: 0.285086 | Val Acc: 0.430637 loss: 1.967530\n",
            "[281/3000] Train Acc: 0.773187 Loss: 0.281180 | Val Acc: 0.464649 loss: 1.941178\n",
            "[282/3000] Train Acc: 0.778276 Loss: 0.282641 | Val Acc: 0.489823 loss: 1.856229\n",
            "[283/3000] Train Acc: 0.770709 Loss: 0.287965 | Val Acc: 0.449116 loss: 1.855527\n",
            "[284/3000] Train Acc: 0.776200 Loss: 0.286506 | Val Acc: 0.493305 loss: 1.791069\n",
            "[285/3000] Train Acc: 0.774459 Loss: 0.291128 | Val Acc: 0.441618 loss: 1.787092\n",
            "[286/3000] Train Acc: 0.778276 Loss: 0.285672 | Val Acc: 0.457418 loss: 1.948675\n",
            "[287/3000] Train Acc: 0.774526 Loss: 0.289888 | Val Acc: 0.492769 loss: 1.855078\n",
            "[288/3000] Train Acc: 0.773723 Loss: 0.283539 | Val Acc: 0.470809 loss: 1.931550\n",
            "[289/3000] Train Acc: 0.779549 Loss: 0.286390 | Val Acc: 0.484467 loss: 1.822211\n",
            "[290/3000] Train Acc: 0.774727 Loss: 0.282886 | Val Acc: 0.479379 loss: 1.889006\n",
            "[291/3000] Train Acc: 0.776535 Loss: 0.283458 | Val Acc: 0.454740 loss: 1.898205\n",
            "[292/3000] Train Acc: 0.770642 Loss: 0.283903 | Val Acc: 0.457151 loss: 1.953498\n",
            "[293/3000] Train Acc: 0.774727 Loss: 0.280978 | Val Acc: 0.496251 loss: 1.770193\n",
            "[294/3000] Train Acc: 0.781625 Loss: 0.270903 | Val Acc: 0.450455 loss: 1.992988\n",
            "[295/3000] Train Acc: 0.775464 Loss: 0.286074 | Val Acc: 0.482592 loss: 1.781199\n",
            "[296/3000] Train Acc: 0.772048 Loss: 0.290149 | Val Acc: 0.450187 loss: 2.105733\n",
            "[297/3000] Train Acc: 0.774258 Loss: 0.282739 | Val Acc: 0.484735 loss: 1.909738\n",
            "[298/3000] Train Acc: 0.776870 Loss: 0.281342 | Val Acc: 0.478843 loss: 1.980115\n",
            "[299/3000] Train Acc: 0.773388 Loss: 0.282910 | Val Acc: 0.473755 loss: 1.853498\n",
            "[300/3000] Train Acc: 0.774459 Loss: 0.283536 | Val Acc: 0.482325 loss: 1.855810\n",
            "[301/3000] Train Acc: 0.776267 Loss: 0.274544 | Val Acc: 0.486342 loss: 1.861865\n",
            "[302/3000] Train Acc: 0.776133 Loss: 0.285123 | Val Acc: 0.445635 loss: 1.972999\n",
            "[303/3000] Train Acc: 0.778008 Loss: 0.278778 | Val Acc: 0.438136 loss: 1.842868\n",
            "[304/3000] Train Acc: 0.779080 Loss: 0.277922 | Val Acc: 0.477236 loss: 1.948144\n",
            "[305/3000] Train Acc: 0.775999 Loss: 0.285838 | Val Acc: 0.476433 loss: 1.954813\n",
            "[306/3000] Train Acc: 0.779549 Loss: 0.277037 | Val Acc: 0.504017 loss: 1.758854\n",
            "[307/3000] Train Acc: 0.779013 Loss: 0.278665 | Val Acc: 0.502410 loss: 1.787609\n",
            "[308/3000] Train Acc: 0.777808 Loss: 0.278369 | Val Acc: 0.518747 loss: 1.851027\n",
            "saving model with acc 0.519\n",
            "[309/3000] Train Acc: 0.772450 Loss: 0.298017 | Val Acc: 0.452866 loss: 2.041908\n",
            "[310/3000] Train Acc: 0.770106 Loss: 0.290814 | Val Acc: 0.454472 loss: 1.923376\n",
            "[311/3000] Train Acc: 0.777607 Loss: 0.286491 | Val Acc: 0.439475 loss: 2.025220\n",
            "[312/3000] Train Acc: 0.773723 Loss: 0.295122 | Val Acc: 0.496518 loss: 1.726568\n",
            "[313/3000] Train Acc: 0.766892 Loss: 0.293163 | Val Acc: 0.482057 loss: 1.943021\n",
            "[314/3000] Train Acc: 0.778008 Loss: 0.277143 | Val Acc: 0.457954 loss: 1.982620\n",
            "[315/3000] Train Acc: 0.769906 Loss: 0.283891 | Val Acc: 0.457418 loss: 1.954937\n",
            "[316/3000] Train Acc: 0.774593 Loss: 0.280276 | Val Acc: 0.468131 loss: 1.916880\n",
            "[317/3000] Train Acc: 0.776803 Loss: 0.288702 | Val Acc: 0.410284 loss: 1.938326\n",
            "[318/3000] Train Acc: 0.778209 Loss: 0.282759 | Val Acc: 0.485806 loss: 1.825290\n",
            "[319/3000] Train Acc: 0.784772 Loss: 0.269638 | Val Acc: 0.451259 loss: 1.905020\n",
            "[320/3000] Train Acc: 0.775866 Loss: 0.290603 | Val Acc: 0.450991 loss: 1.844539\n",
            "[321/3000] Train Acc: 0.774593 Loss: 0.281962 | Val Acc: 0.477236 loss: 1.772810\n",
            "[322/3000] Train Acc: 0.774526 Loss: 0.288014 | Val Acc: 0.470273 loss: 1.869683\n",
            "[323/3000] Train Acc: 0.780888 Loss: 0.287724 | Val Acc: 0.495179 loss: 1.877206\n",
            "[324/3000] Train Acc: 0.773790 Loss: 0.275480 | Val Acc: 0.492501 loss: 1.733319\n",
            "[325/3000] Train Acc: 0.775464 Loss: 0.284320 | Val Acc: 0.450991 loss: 1.901901\n",
            "[326/3000] Train Acc: 0.777071 Loss: 0.283345 | Val Acc: 0.434922 loss: 2.071936\n",
            "[327/3000] Train Acc: 0.777875 Loss: 0.283059 | Val Acc: 0.458490 loss: 1.865516\n",
            "[328/3000] Train Acc: 0.774727 Loss: 0.282529 | Val Acc: 0.480986 loss: 1.835431\n",
            "[329/3000] Train Acc: 0.768365 Loss: 0.294692 | Val Acc: 0.431976 loss: 2.065234\n",
            "[330/3000] Train Acc: 0.776334 Loss: 0.282861 | Val Acc: 0.462507 loss: 1.898985\n",
            "[331/3000] Train Acc: 0.782026 Loss: 0.282331 | Val Acc: 0.464917 loss: 1.883432\n",
            "[332/3000] Train Acc: 0.778008 Loss: 0.283740 | Val Acc: 0.465720 loss: 1.767266\n",
            "[333/3000] Train Acc: 0.779883 Loss: 0.271779 | Val Acc: 0.525174 loss: 1.667896\n",
            "saving model with acc 0.525\n",
            "[334/3000] Train Acc: 0.782696 Loss: 0.270291 | Val Acc: 0.473755 loss: 1.812684\n",
            "[335/3000] Train Acc: 0.779415 Loss: 0.280984 | Val Acc: 0.499464 loss: 1.820880\n",
            "[336/3000] Train Acc: 0.776602 Loss: 0.285702 | Val Acc: 0.484199 loss: 1.851925\n",
            "[337/3000] Train Acc: 0.770843 Loss: 0.297433 | Val Acc: 0.427959 loss: 1.961046\n",
            "[338/3000] Train Acc: 0.770709 Loss: 0.284053 | Val Acc: 0.472683 loss: 1.813486\n",
            "[339/3000] Train Acc: 0.779013 Loss: 0.276304 | Val Acc: 0.483931 loss: 1.864853\n",
            "[340/3000] Train Acc: 0.773990 Loss: 0.293128 | Val Acc: 0.482860 loss: 1.858851\n",
            "[341/3000] Train Acc: 0.779080 Loss: 0.281473 | Val Acc: 0.501607 loss: 1.786560\n",
            "[342/3000] Train Acc: 0.769303 Loss: 0.292320 | Val Acc: 0.431976 loss: 2.057201\n",
            "[343/3000] Train Acc: 0.782093 Loss: 0.283492 | Val Acc: 0.470273 loss: 1.889194\n",
            "[344/3000] Train Acc: 0.779147 Loss: 0.273186 | Val Acc: 0.478575 loss: 1.851098\n",
            "[345/3000] Train Acc: 0.776736 Loss: 0.283212 | Val Acc: 0.493037 loss: 1.891363\n",
            "[346/3000] Train Acc: 0.775062 Loss: 0.276467 | Val Acc: 0.479646 loss: 1.895989\n",
            "[347/3000] Train Acc: 0.782830 Loss: 0.274770 | Val Acc: 0.436261 loss: 2.026759\n",
            "[348/3000] Train Acc: 0.784370 Loss: 0.272024 | Val Acc: 0.467327 loss: 1.839829\n",
            "[349/3000] Train Acc: 0.775196 Loss: 0.285282 | Val Acc: 0.443492 loss: 1.859105\n",
            "[350/3000] Train Acc: 0.772718 Loss: 0.291567 | Val Acc: 0.438939 loss: 2.046714\n",
            "[351/3000] Train Acc: 0.776602 Loss: 0.284186 | Val Acc: 0.464649 loss: 1.941103\n",
            "[352/3000] Train Acc: 0.779080 Loss: 0.273885 | Val Acc: 0.473219 loss: 1.921824\n",
            "[353/3000] Train Acc: 0.781759 Loss: 0.270458 | Val Acc: 0.509373 loss: 1.731047\n",
            "[354/3000] Train Acc: 0.780218 Loss: 0.270723 | Val Acc: 0.467863 loss: 1.977263\n",
            "[355/3000] Train Acc: 0.778611 Loss: 0.282717 | Val Acc: 0.463310 loss: 2.012030\n",
            "[356/3000] Train Acc: 0.779281 Loss: 0.281211 | Val Acc: 0.444296 loss: 1.883694\n",
            "[357/3000] Train Acc: 0.782093 Loss: 0.277358 | Val Acc: 0.439475 loss: 1.903858\n",
            "[358/3000] Train Acc: 0.782763 Loss: 0.271995 | Val Acc: 0.470809 loss: 1.955368\n",
            "[359/3000] Train Acc: 0.787852 Loss: 0.279484 | Val Acc: 0.510445 loss: 1.828639\n",
            "[360/3000] Train Acc: 0.782160 Loss: 0.277515 | Val Acc: 0.441082 loss: 1.944548\n",
            "[361/3000] Train Acc: 0.779750 Loss: 0.280260 | Val Acc: 0.463042 loss: 1.779014\n",
            "[362/3000] Train Acc: 0.768700 Loss: 0.292972 | Val Acc: 0.445635 loss: 1.984391\n",
            "[363/3000] Train Acc: 0.772048 Loss: 0.287770 | Val Acc: 0.436261 loss: 1.966704\n",
            "[364/3000] Train Acc: 0.774124 Loss: 0.283571 | Val Acc: 0.489555 loss: 1.787461\n",
            "[365/3000] Train Acc: 0.775799 Loss: 0.283379 | Val Acc: 0.438136 loss: 2.050997\n",
            "[366/3000] Train Acc: 0.777406 Loss: 0.282361 | Val Acc: 0.483664 loss: 1.792581\n",
            "[367/3000] Train Acc: 0.787652 Loss: 0.268596 | Val Acc: 0.459561 loss: 1.874817\n",
            "[368/3000] Train Acc: 0.784370 Loss: 0.279863 | Val Acc: 0.469470 loss: 1.888660\n",
            "[369/3000] Train Acc: 0.775062 Loss: 0.281252 | Val Acc: 0.444563 loss: 1.851176\n",
            "[370/3000] Train Acc: 0.779883 Loss: 0.273568 | Val Acc: 0.485003 loss: 1.917210\n",
            "[371/3000] Train Acc: 0.781223 Loss: 0.273926 | Val Acc: 0.492501 loss: 1.845752\n",
            "[372/3000] Train Acc: 0.777205 Loss: 0.287944 | Val Acc: 0.425281 loss: 2.192717\n",
            "[373/3000] Train Acc: 0.775397 Loss: 0.291099 | Val Acc: 0.510445 loss: 1.810266\n",
            "[374/3000] Train Acc: 0.767160 Loss: 0.298859 | Val Acc: 0.479914 loss: 1.839810\n",
            "[375/3000] Train Acc: 0.768365 Loss: 0.290511 | Val Acc: 0.432244 loss: 2.061508\n",
            "[376/3000] Train Acc: 0.771178 Loss: 0.281499 | Val Acc: 0.450991 loss: 1.979275\n",
            "[377/3000] Train Acc: 0.782964 Loss: 0.273711 | Val Acc: 0.495179 loss: 1.699452\n",
            "[378/3000] Train Acc: 0.778276 Loss: 0.276517 | Val Acc: 0.436529 loss: 1.834533\n",
            "[379/3000] Train Acc: 0.773924 Loss: 0.283686 | Val Acc: 0.495179 loss: 1.837407\n",
            "[380/3000] Train Acc: 0.772048 Loss: 0.290010 | Val Acc: 0.473219 loss: 1.913414\n",
            "[381/3000] Train Acc: 0.780285 Loss: 0.275975 | Val Acc: 0.493573 loss: 1.895785\n",
            "[382/3000] Train Acc: 0.778008 Loss: 0.272384 | Val Acc: 0.463578 loss: 1.900671\n",
            "[383/3000] Train Acc: 0.782562 Loss: 0.272286 | Val Acc: 0.463042 loss: 1.929283\n",
            "[384/3000] Train Acc: 0.774057 Loss: 0.289363 | Val Acc: 0.475362 loss: 1.878154\n",
            "[385/3000] Train Acc: 0.777674 Loss: 0.284631 | Val Acc: 0.492501 loss: 1.797288\n",
            "[386/3000] Train Acc: 0.778946 Loss: 0.281189 | Val Acc: 0.458490 loss: 1.840060\n",
            "[387/3000] Train Acc: 0.781290 Loss: 0.286953 | Val Acc: 0.463310 loss: 1.876857\n",
            "[388/3000] Train Acc: 0.786111 Loss: 0.270125 | Val Acc: 0.471880 loss: 1.829149\n",
            "[389/3000] Train Acc: 0.777272 Loss: 0.282797 | Val Acc: 0.486877 loss: 1.770832\n",
            "[390/3000] Train Acc: 0.779080 Loss: 0.280692 | Val Acc: 0.454472 loss: 1.821729\n",
            "[391/3000] Train Acc: 0.777674 Loss: 0.284823 | Val Acc: 0.482592 loss: 1.806365\n",
            "[392/3000] Train Acc: 0.776937 Loss: 0.282681 | Val Acc: 0.450723 loss: 1.991754\n",
            "[393/3000] Train Acc: 0.780151 Loss: 0.285866 | Val Acc: 0.467863 loss: 1.834899\n",
            "[394/3000] Train Acc: 0.781424 Loss: 0.273610 | Val Acc: 0.479914 loss: 1.787506\n",
            "[395/3000] Train Acc: 0.776066 Loss: 0.283363 | Val Acc: 0.485270 loss: 1.814371\n",
            "[396/3000] Train Acc: 0.774325 Loss: 0.272361 | Val Acc: 0.463042 loss: 1.775079\n",
            "[397/3000] Train Acc: 0.777138 Loss: 0.283109 | Val Acc: 0.425013 loss: 2.131590\n",
            "[398/3000] Train Acc: 0.774057 Loss: 0.298060 | Val Acc: 0.432780 loss: 2.113060\n",
            "[399/3000] Train Acc: 0.772584 Loss: 0.300539 | Val Acc: 0.461435 loss: 1.916546\n",
            "[400/3000] Train Acc: 0.772852 Loss: 0.295689 | Val Acc: 0.463846 loss: 1.958619\n",
            "[401/3000] Train Acc: 0.789794 Loss: 0.246431 | Val Acc: 0.491430 loss: 1.811965\n",
            "[402/3000] Train Acc: 0.798031 Loss: 0.237334 | Val Acc: 0.489555 loss: 1.849762\n",
            "[403/3000] Train Acc: 0.800442 Loss: 0.231471 | Val Acc: 0.501607 loss: 1.816565\n",
            "[404/3000] Train Acc: 0.799571 Loss: 0.224152 | Val Acc: 0.510445 loss: 1.777365\n",
            "[405/3000] Train Acc: 0.806469 Loss: 0.222939 | Val Acc: 0.508570 loss: 1.783499\n",
            "[406/3000] Train Acc: 0.810889 Loss: 0.215244 | Val Acc: 0.536690 loss: 1.673610\n",
            "saving model with acc 0.537\n",
            "[407/3000] Train Acc: 0.812295 Loss: 0.212529 | Val Acc: 0.506427 loss: 1.775419\n",
            "[408/3000] Train Acc: 0.812831 Loss: 0.209447 | Val Acc: 0.522764 loss: 1.727015\n",
            "[409/3000] Train Acc: 0.813500 Loss: 0.208501 | Val Acc: 0.519282 loss: 1.757292\n",
            "[410/3000] Train Acc: 0.816313 Loss: 0.211585 | Val Acc: 0.530798 loss: 1.672926\n",
            "[411/3000] Train Acc: 0.817652 Loss: 0.204758 | Val Acc: 0.512855 loss: 1.756245\n",
            "[412/3000] Train Acc: 0.819058 Loss: 0.203988 | Val Acc: 0.541778 loss: 1.638800\n",
            "saving model with acc 0.542\n",
            "[413/3000] Train Acc: 0.818925 Loss: 0.202120 | Val Acc: 0.525442 loss: 1.716067\n",
            "[414/3000] Train Acc: 0.820934 Loss: 0.204538 | Val Acc: 0.538832 loss: 1.666383\n",
            "[415/3000] Train Acc: 0.822742 Loss: 0.195683 | Val Acc: 0.553294 loss: 1.663292\n",
            "saving model with acc 0.553\n",
            "[416/3000] Train Acc: 0.819326 Loss: 0.201668 | Val Acc: 0.541243 loss: 1.660580\n",
            "[417/3000] Train Acc: 0.821871 Loss: 0.201073 | Val Acc: 0.544456 loss: 1.655082\n",
            "[418/3000] Train Acc: 0.826358 Loss: 0.194268 | Val Acc: 0.522496 loss: 1.737025\n",
            "[419/3000] Train Acc: 0.825219 Loss: 0.194842 | Val Acc: 0.540975 loss: 1.670895\n",
            "[420/3000] Train Acc: 0.826559 Loss: 0.193593 | Val Acc: 0.536154 loss: 1.715942\n",
            "[421/3000] Train Acc: 0.830242 Loss: 0.191189 | Val Acc: 0.554097 loss: 1.646118\n",
            "saving model with acc 0.554\n",
            "[422/3000] Train Acc: 0.827764 Loss: 0.195634 | Val Acc: 0.533744 loss: 1.743977\n",
            "[423/3000] Train Acc: 0.827831 Loss: 0.193075 | Val Acc: 0.534815 loss: 1.681712\n",
            "[424/3000] Train Acc: 0.829639 Loss: 0.194627 | Val Acc: 0.548741 loss: 1.615101\n",
            "[425/3000] Train Acc: 0.827965 Loss: 0.193463 | Val Acc: 0.543653 loss: 1.659440\n",
            "[426/3000] Train Acc: 0.827630 Loss: 0.195499 | Val Acc: 0.554365 loss: 1.652756\n",
            "saving model with acc 0.554\n",
            "[427/3000] Train Acc: 0.834795 Loss: 0.186069 | Val Acc: 0.555704 loss: 1.627917\n",
            "saving model with acc 0.556\n",
            "[428/3000] Train Acc: 0.832117 Loss: 0.195282 | Val Acc: 0.559186 loss: 1.611832\n",
            "saving model with acc 0.559\n",
            "[429/3000] Train Acc: 0.833456 Loss: 0.188855 | Val Acc: 0.563739 loss: 1.572751\n",
            "saving model with acc 0.564\n",
            "[430/3000] Train Acc: 0.832452 Loss: 0.191262 | Val Acc: 0.560793 loss: 1.615769\n",
            "[431/3000] Train Acc: 0.833322 Loss: 0.188923 | Val Acc: 0.564006 loss: 1.608470\n",
            "saving model with acc 0.564\n",
            "[432/3000] Train Acc: 0.836001 Loss: 0.186088 | Val Acc: 0.551419 loss: 1.633989\n",
            "[433/3000] Train Acc: 0.832586 Loss: 0.191388 | Val Acc: 0.553830 loss: 1.671825\n",
            "[434/3000] Train Acc: 0.836470 Loss: 0.186681 | Val Acc: 0.546599 loss: 1.667970\n",
            "[435/3000] Train Acc: 0.832987 Loss: 0.188653 | Val Acc: 0.555437 loss: 1.659539\n",
            "[436/3000] Train Acc: 0.831514 Loss: 0.188910 | Val Acc: 0.543653 loss: 1.695729\n",
            "[437/3000] Train Acc: 0.839483 Loss: 0.184994 | Val Acc: 0.560525 loss: 1.620850\n",
            "[438/3000] Train Acc: 0.836871 Loss: 0.185971 | Val Acc: 0.557847 loss: 1.635237\n",
            "[439/3000] Train Acc: 0.836737 Loss: 0.185364 | Val Acc: 0.546599 loss: 1.662006\n",
            "[440/3000] Train Acc: 0.833724 Loss: 0.187817 | Val Acc: 0.558918 loss: 1.645612\n",
            "[441/3000] Train Acc: 0.836470 Loss: 0.187096 | Val Acc: 0.547134 loss: 1.722734\n",
            "[442/3000] Train Acc: 0.839818 Loss: 0.187367 | Val Acc: 0.543385 loss: 1.672934\n",
            "[443/3000] Train Acc: 0.836603 Loss: 0.183905 | Val Acc: 0.550616 loss: 1.677261\n",
            "[444/3000] Train Acc: 0.836135 Loss: 0.182432 | Val Acc: 0.543385 loss: 1.667971\n",
            "[445/3000] Train Acc: 0.836938 Loss: 0.182499 | Val Acc: 0.546331 loss: 1.669834\n",
            "[446/3000] Train Acc: 0.837809 Loss: 0.183512 | Val Acc: 0.554901 loss: 1.637974\n",
            "[447/3000] Train Acc: 0.838479 Loss: 0.180711 | Val Acc: 0.546063 loss: 1.689882\n",
            "[448/3000] Train Acc: 0.840354 Loss: 0.183618 | Val Acc: 0.554901 loss: 1.630643\n",
            "[449/3000] Train Acc: 0.840621 Loss: 0.185593 | Val Acc: 0.547938 loss: 1.684460\n",
            "[450/3000] Train Acc: 0.836068 Loss: 0.187019 | Val Acc: 0.554901 loss: 1.651993\n",
            "[451/3000] Train Acc: 0.841894 Loss: 0.182059 | Val Acc: 0.563471 loss: 1.620048\n",
            "[452/3000] Train Acc: 0.841224 Loss: 0.181373 | Val Acc: 0.554901 loss: 1.667052\n",
            "[453/3000] Train Acc: 0.839751 Loss: 0.181981 | Val Acc: 0.559454 loss: 1.611812\n",
            "[454/3000] Train Acc: 0.839550 Loss: 0.184253 | Val Acc: 0.546063 loss: 1.677859\n",
            "[455/3000] Train Acc: 0.840287 Loss: 0.181392 | Val Acc: 0.547938 loss: 1.654848\n",
            "[456/3000] Train Acc: 0.841090 Loss: 0.179031 | Val Acc: 0.565613 loss: 1.593343\n",
            "saving model with acc 0.566\n",
            "[457/3000] Train Acc: 0.840086 Loss: 0.178019 | Val Acc: 0.546331 loss: 1.690369\n",
            "[458/3000] Train Acc: 0.840220 Loss: 0.178538 | Val Acc: 0.549545 loss: 1.651827\n",
            "[459/3000] Train Acc: 0.845979 Loss: 0.174818 | Val Acc: 0.537225 loss: 1.710579\n",
            "[460/3000] Train Acc: 0.843501 Loss: 0.178894 | Val Acc: 0.547402 loss: 1.666814\n",
            "[461/3000] Train Acc: 0.842363 Loss: 0.179953 | Val Acc: 0.562667 loss: 1.646367\n",
            "[462/3000] Train Acc: 0.841224 Loss: 0.180900 | Val Acc: 0.554365 loss: 1.656237\n",
            "[463/3000] Train Acc: 0.845778 Loss: 0.179870 | Val Acc: 0.547670 loss: 1.664199\n",
            "[464/3000] Train Acc: 0.844974 Loss: 0.178162 | Val Acc: 0.547402 loss: 1.710938\n",
            "[465/3000] Train Acc: 0.843501 Loss: 0.179188 | Val Acc: 0.555169 loss: 1.638189\n",
            "[466/3000] Train Acc: 0.839751 Loss: 0.182457 | Val Acc: 0.545795 loss: 1.695173\n",
            "[467/3000] Train Acc: 0.845242 Loss: 0.175587 | Val Acc: 0.544189 loss: 1.715882\n",
            "[468/3000] Train Acc: 0.841961 Loss: 0.179467 | Val Acc: 0.547670 loss: 1.705266\n",
            "[469/3000] Train Acc: 0.846715 Loss: 0.175876 | Val Acc: 0.561061 loss: 1.651428\n",
            "[470/3000] Train Acc: 0.843501 Loss: 0.180526 | Val Acc: 0.559721 loss: 1.674687\n",
            "[471/3000] Train Acc: 0.842630 Loss: 0.178329 | Val Acc: 0.552758 loss: 1.685415\n",
            "[472/3000] Train Acc: 0.844706 Loss: 0.177660 | Val Acc: 0.555437 loss: 1.701290\n",
            "[473/3000] Train Acc: 0.843367 Loss: 0.177758 | Val Acc: 0.586235 loss: 1.560334\n",
            "saving model with acc 0.586\n",
            "[474/3000] Train Acc: 0.844104 Loss: 0.181339 | Val Acc: 0.555704 loss: 1.659585\n",
            "[475/3000] Train Acc: 0.845309 Loss: 0.177046 | Val Acc: 0.560525 loss: 1.630959\n",
            "[476/3000] Train Acc: 0.843702 Loss: 0.176303 | Val Acc: 0.551955 loss: 1.649445\n",
            "[477/3000] Train Acc: 0.845108 Loss: 0.176020 | Val Acc: 0.550080 loss: 1.650480\n",
            "[478/3000] Train Acc: 0.848724 Loss: 0.174984 | Val Acc: 0.554097 loss: 1.672886\n",
            "[479/3000] Train Acc: 0.846648 Loss: 0.175694 | Val Acc: 0.554365 loss: 1.678686\n",
            "[480/3000] Train Acc: 0.845309 Loss: 0.178054 | Val Acc: 0.549813 loss: 1.696141\n",
            "[481/3000] Train Acc: 0.847117 Loss: 0.173777 | Val Acc: 0.562667 loss: 1.621080\n",
            "[482/3000] Train Acc: 0.844171 Loss: 0.178772 | Val Acc: 0.546331 loss: 1.707127\n",
            "[483/3000] Train Acc: 0.842162 Loss: 0.184670 | Val Acc: 0.550884 loss: 1.704372\n",
            "[484/3000] Train Acc: 0.845912 Loss: 0.174064 | Val Acc: 0.560793 loss: 1.630336\n",
            "[485/3000] Train Acc: 0.845376 Loss: 0.178368 | Val Acc: 0.554097 loss: 1.670486\n",
            "[486/3000] Train Acc: 0.848256 Loss: 0.171830 | Val Acc: 0.567488 loss: 1.621243\n",
            "[487/3000] Train Acc: 0.845376 Loss: 0.175308 | Val Acc: 0.556508 loss: 1.646359\n",
            "[488/3000] Train Acc: 0.841693 Loss: 0.178901 | Val Acc: 0.553562 loss: 1.656265\n",
            "[489/3000] Train Acc: 0.846916 Loss: 0.173841 | Val Acc: 0.559454 loss: 1.664180\n",
            "[490/3000] Train Acc: 0.849729 Loss: 0.171689 | Val Acc: 0.566417 loss: 1.597082\n",
            "[491/3000] Train Acc: 0.845778 Loss: 0.177130 | Val Acc: 0.569630 loss: 1.616981\n",
            "[492/3000] Train Acc: 0.845376 Loss: 0.173843 | Val Acc: 0.554097 loss: 1.646902\n",
            "[493/3000] Train Acc: 0.847586 Loss: 0.174624 | Val Acc: 0.557311 loss: 1.647275\n",
            "[494/3000] Train Acc: 0.846046 Loss: 0.174327 | Val Acc: 0.558382 loss: 1.661987\n",
            "[495/3000] Train Acc: 0.851671 Loss: 0.168115 | Val Acc: 0.556240 loss: 1.677067\n",
            "[496/3000] Train Acc: 0.846247 Loss: 0.171219 | Val Acc: 0.560525 loss: 1.607331\n",
            "[497/3000] Train Acc: 0.850599 Loss: 0.171086 | Val Acc: 0.546599 loss: 1.738692\n",
            "[498/3000] Train Acc: 0.847653 Loss: 0.168667 | Val Acc: 0.558918 loss: 1.644711\n",
            "[499/3000] Train Acc: 0.851135 Loss: 0.168457 | Val Acc: 0.573380 loss: 1.588984\n",
            "[500/3000] Train Acc: 0.847720 Loss: 0.172780 | Val Acc: 0.559989 loss: 1.637139\n",
            "[501/3000] Train Acc: 0.848523 Loss: 0.170408 | Val Acc: 0.558650 loss: 1.664806\n",
            "[502/3000] Train Acc: 0.851872 Loss: 0.171662 | Val Acc: 0.555704 loss: 1.662502\n",
            "[503/3000] Train Acc: 0.847519 Loss: 0.176991 | Val Acc: 0.557847 loss: 1.681184\n",
            "[504/3000] Train Acc: 0.847720 Loss: 0.173351 | Val Acc: 0.566149 loss: 1.655631\n",
            "[505/3000] Train Acc: 0.852943 Loss: 0.172220 | Val Acc: 0.558918 loss: 1.687875\n",
            "[506/3000] Train Acc: 0.852876 Loss: 0.171671 | Val Acc: 0.568559 loss: 1.604787\n",
            "[507/3000] Train Acc: 0.849796 Loss: 0.172200 | Val Acc: 0.563203 loss: 1.619054\n",
            "[508/3000] Train Acc: 0.851202 Loss: 0.170882 | Val Acc: 0.561061 loss: 1.654737\n",
            "[509/3000] Train Acc: 0.850532 Loss: 0.167579 | Val Acc: 0.556776 loss: 1.703401\n",
            "[510/3000] Train Acc: 0.850666 Loss: 0.172357 | Val Acc: 0.565345 loss: 1.624301\n",
            "[511/3000] Train Acc: 0.849327 Loss: 0.172730 | Val Acc: 0.570166 loss: 1.613100\n",
            "[512/3000] Train Acc: 0.849729 Loss: 0.172751 | Val Acc: 0.561596 loss: 1.660000\n",
            "[513/3000] Train Acc: 0.848456 Loss: 0.174309 | Val Acc: 0.566417 loss: 1.621455\n",
            "[514/3000] Train Acc: 0.850867 Loss: 0.170908 | Val Acc: 0.562400 loss: 1.631280\n",
            "[515/3000] Train Acc: 0.849461 Loss: 0.173095 | Val Acc: 0.563739 loss: 1.642694\n",
            "[516/3000] Train Acc: 0.848389 Loss: 0.169634 | Val Acc: 0.564274 loss: 1.638577\n",
            "[517/3000] Train Acc: 0.851738 Loss: 0.171743 | Val Acc: 0.577933 loss: 1.625881\n",
            "[518/3000] Train Acc: 0.852675 Loss: 0.171561 | Val Acc: 0.584360 loss: 1.559186\n",
            "[519/3000] Train Acc: 0.849394 Loss: 0.172159 | Val Acc: 0.578468 loss: 1.554231\n",
            "[520/3000] Train Acc: 0.849729 Loss: 0.172013 | Val Acc: 0.553562 loss: 1.718239\n",
            "[521/3000] Train Acc: 0.851202 Loss: 0.172486 | Val Acc: 0.565881 loss: 1.604388\n",
            "[522/3000] Train Acc: 0.849260 Loss: 0.172557 | Val Acc: 0.568827 loss: 1.617430\n",
            "[523/3000] Train Acc: 0.852809 Loss: 0.169439 | Val Acc: 0.565881 loss: 1.633871\n",
            "[524/3000] Train Acc: 0.851537 Loss: 0.170563 | Val Acc: 0.559454 loss: 1.679999\n",
            "[525/3000] Train Acc: 0.851403 Loss: 0.174143 | Val Acc: 0.563739 loss: 1.647263\n",
            "[526/3000] Train Acc: 0.851805 Loss: 0.169228 | Val Acc: 0.569630 loss: 1.635703\n",
            "[527/3000] Train Acc: 0.850064 Loss: 0.170273 | Val Acc: 0.562935 loss: 1.647114\n",
            "[528/3000] Train Acc: 0.850331 Loss: 0.169770 | Val Acc: 0.566417 loss: 1.646663\n",
            "[529/3000] Train Acc: 0.850532 Loss: 0.171039 | Val Acc: 0.562667 loss: 1.646665\n",
            "[530/3000] Train Acc: 0.848323 Loss: 0.170639 | Val Acc: 0.566149 loss: 1.669905\n",
            "[531/3000] Train Acc: 0.852541 Loss: 0.169071 | Val Acc: 0.568559 loss: 1.601215\n",
            "[532/3000] Train Acc: 0.849863 Loss: 0.172961 | Val Acc: 0.569898 loss: 1.604510\n",
            "[533/3000] Train Acc: 0.852943 Loss: 0.170127 | Val Acc: 0.571505 loss: 1.593211\n",
            "[534/3000] Train Acc: 0.851470 Loss: 0.168802 | Val Acc: 0.574183 loss: 1.584447\n",
            "[535/3000] Train Acc: 0.853881 Loss: 0.169187 | Val Acc: 0.554633 loss: 1.707440\n",
            "[536/3000] Train Acc: 0.852273 Loss: 0.167434 | Val Acc: 0.563739 loss: 1.683617\n",
            "[537/3000] Train Acc: 0.851805 Loss: 0.167530 | Val Acc: 0.544724 loss: 1.742380\n",
            "[538/3000] Train Acc: 0.853814 Loss: 0.171224 | Val Acc: 0.552223 loss: 1.698650\n",
            "[539/3000] Train Acc: 0.856626 Loss: 0.166443 | Val Acc: 0.556508 loss: 1.703293\n",
            "[540/3000] Train Acc: 0.854349 Loss: 0.170248 | Val Acc: 0.555704 loss: 1.695513\n",
            "[541/3000] Train Acc: 0.850398 Loss: 0.169143 | Val Acc: 0.566149 loss: 1.626361\n",
            "[542/3000] Train Acc: 0.851738 Loss: 0.167190 | Val Acc: 0.573112 loss: 1.607755\n",
            "[543/3000] Train Acc: 0.854149 Loss: 0.163666 | Val Acc: 0.560793 loss: 1.697793\n",
            "[544/3000] Train Acc: 0.851604 Loss: 0.172335 | Val Acc: 0.561864 loss: 1.686920\n",
            "[545/3000] Train Acc: 0.853948 Loss: 0.167262 | Val Acc: 0.572041 loss: 1.635904\n",
            "[546/3000] Train Acc: 0.851068 Loss: 0.171576 | Val Acc: 0.562935 loss: 1.646801\n",
            "[547/3000] Train Acc: 0.854818 Loss: 0.168030 | Val Acc: 0.571237 loss: 1.602644\n",
            "[548/3000] Train Acc: 0.854550 Loss: 0.167482 | Val Acc: 0.574183 loss: 1.604157\n",
            "[549/3000] Train Acc: 0.852073 Loss: 0.166153 | Val Acc: 0.570702 loss: 1.600978\n",
            "[550/3000] Train Acc: 0.855488 Loss: 0.163975 | Val Acc: 0.567756 loss: 1.658019\n",
            "[551/3000] Train Acc: 0.853412 Loss: 0.168863 | Val Acc: 0.570434 loss: 1.587354\n",
            "[552/3000] Train Acc: 0.855622 Loss: 0.165414 | Val Acc: 0.554097 loss: 1.730376\n",
            "[553/3000] Train Acc: 0.854885 Loss: 0.171214 | Val Acc: 0.574719 loss: 1.607526\n",
            "[554/3000] Train Acc: 0.853345 Loss: 0.164934 | Val Acc: 0.562935 loss: 1.669228\n",
            "[555/3000] Train Acc: 0.853948 Loss: 0.168432 | Val Acc: 0.553830 loss: 1.718294\n",
            "[556/3000] Train Acc: 0.856559 Loss: 0.164777 | Val Acc: 0.577397 loss: 1.623185\n",
            "[557/3000] Train Acc: 0.853412 Loss: 0.170619 | Val Acc: 0.560257 loss: 1.686537\n",
            "[558/3000] Train Acc: 0.857430 Loss: 0.165405 | Val Acc: 0.580878 loss: 1.611490\n",
            "[559/3000] Train Acc: 0.852608 Loss: 0.171067 | Val Acc: 0.576058 loss: 1.567504\n",
            "[560/3000] Train Acc: 0.853881 Loss: 0.167517 | Val Acc: 0.591859 loss: 1.559687\n",
            "saving model with acc 0.592\n",
            "[561/3000] Train Acc: 0.854550 Loss: 0.169821 | Val Acc: 0.576058 loss: 1.644391\n",
            "[562/3000] Train Acc: 0.853077 Loss: 0.166397 | Val Acc: 0.566685 loss: 1.633709\n",
            "[563/3000] Train Acc: 0.854483 Loss: 0.164438 | Val Acc: 0.565881 loss: 1.664859\n",
            "[564/3000] Train Acc: 0.855488 Loss: 0.168573 | Val Acc: 0.559721 loss: 1.707602\n",
            "[565/3000] Train Acc: 0.856827 Loss: 0.166972 | Val Acc: 0.572576 loss: 1.619696\n",
            "[566/3000] Train Acc: 0.855756 Loss: 0.164630 | Val Acc: 0.569095 loss: 1.659349\n",
            "[567/3000] Train Acc: 0.857229 Loss: 0.166815 | Val Acc: 0.569630 loss: 1.676449\n",
            "[568/3000] Train Acc: 0.857832 Loss: 0.168373 | Val Acc: 0.555437 loss: 1.694103\n",
            "[569/3000] Train Acc: 0.854617 Loss: 0.166131 | Val Acc: 0.560257 loss: 1.686547\n",
            "[570/3000] Train Acc: 0.856358 Loss: 0.167146 | Val Acc: 0.565613 loss: 1.659442\n",
            "[571/3000] Train Acc: 0.855019 Loss: 0.168278 | Val Acc: 0.573648 loss: 1.628928\n",
            "[572/3000] Train Acc: 0.857966 Loss: 0.162199 | Val Acc: 0.553562 loss: 1.721023\n",
            "[573/3000] Train Acc: 0.857698 Loss: 0.165605 | Val Acc: 0.546063 loss: 1.717779\n",
            "[574/3000] Train Acc: 0.857899 Loss: 0.170610 | Val Acc: 0.544456 loss: 1.737785\n",
            "[575/3000] Train Acc: 0.858836 Loss: 0.166353 | Val Acc: 0.572309 loss: 1.637281\n",
            "[576/3000] Train Acc: 0.857028 Loss: 0.165192 | Val Acc: 0.552223 loss: 1.706713\n",
            "[577/3000] Train Acc: 0.854684 Loss: 0.168919 | Val Acc: 0.563739 loss: 1.674092\n",
            "[578/3000] Train Acc: 0.857095 Loss: 0.164133 | Val Acc: 0.554633 loss: 1.737898\n",
            "[579/3000] Train Acc: 0.858903 Loss: 0.163335 | Val Acc: 0.572844 loss: 1.618886\n",
            "[580/3000] Train Acc: 0.856158 Loss: 0.168514 | Val Acc: 0.571237 loss: 1.616903\n",
            "[581/3000] Train Acc: 0.858434 Loss: 0.165516 | Val Acc: 0.572844 loss: 1.621144\n",
            "[582/3000] Train Acc: 0.852742 Loss: 0.168143 | Val Acc: 0.570969 loss: 1.562292\n",
            "[583/3000] Train Acc: 0.856559 Loss: 0.164856 | Val Acc: 0.564274 loss: 1.642803\n",
            "[584/3000] Train Acc: 0.854282 Loss: 0.164943 | Val Acc: 0.578200 loss: 1.624489\n",
            "[585/3000] Train Acc: 0.856224 Loss: 0.167422 | Val Acc: 0.566685 loss: 1.661715\n",
            "[586/3000] Train Acc: 0.853546 Loss: 0.172056 | Val Acc: 0.562667 loss: 1.713811\n",
            "[587/3000] Train Acc: 0.856760 Loss: 0.163712 | Val Acc: 0.562132 loss: 1.654634\n",
            "[588/3000] Train Acc: 0.857028 Loss: 0.162794 | Val Acc: 0.558382 loss: 1.709039\n",
            "[589/3000] Train Acc: 0.857028 Loss: 0.162170 | Val Acc: 0.560257 loss: 1.655309\n",
            "[590/3000] Train Acc: 0.854282 Loss: 0.169903 | Val Acc: 0.569363 loss: 1.676098\n",
            "[591/3000] Train Acc: 0.856358 Loss: 0.165609 | Val Acc: 0.566952 loss: 1.675696\n",
            "[592/3000] Train Acc: 0.860108 Loss: 0.162361 | Val Acc: 0.574183 loss: 1.631749\n",
            "[593/3000] Train Acc: 0.857229 Loss: 0.161849 | Val Acc: 0.563203 loss: 1.731908\n",
            "[594/3000] Train Acc: 0.855153 Loss: 0.168412 | Val Acc: 0.568559 loss: 1.648337\n",
            "[595/3000] Train Acc: 0.853077 Loss: 0.168867 | Val Acc: 0.554097 loss: 1.758823\n",
            "[596/3000] Train Acc: 0.860309 Loss: 0.164344 | Val Acc: 0.568559 loss: 1.626747\n",
            "[597/3000] Train Acc: 0.856224 Loss: 0.164877 | Val Acc: 0.574451 loss: 1.669375\n",
            "[598/3000] Train Acc: 0.858568 Loss: 0.165802 | Val Acc: 0.572041 loss: 1.612219\n",
            "[599/3000] Train Acc: 0.858233 Loss: 0.166636 | Val Acc: 0.577397 loss: 1.559322\n",
            "[600/3000] Train Acc: 0.858166 Loss: 0.167243 | Val Acc: 0.588645 loss: 1.576552\n",
            "[601/3000] Train Acc: 0.856158 Loss: 0.166242 | Val Acc: 0.581682 loss: 1.593641\n",
            "[602/3000] Train Acc: 0.855019 Loss: 0.168247 | Val Acc: 0.559186 loss: 1.663819\n",
            "[603/3000] Train Acc: 0.857631 Loss: 0.163840 | Val Acc: 0.582753 loss: 1.583633\n",
            "[604/3000] Train Acc: 0.859774 Loss: 0.165335 | Val Acc: 0.587306 loss: 1.588825\n",
            "[605/3000] Train Acc: 0.856358 Loss: 0.163012 | Val Acc: 0.579539 loss: 1.591959\n",
            "[606/3000] Train Acc: 0.855622 Loss: 0.166437 | Val Acc: 0.578200 loss: 1.596582\n",
            "[607/3000] Train Acc: 0.857899 Loss: 0.165866 | Val Acc: 0.577933 loss: 1.615164\n",
            "[608/3000] Train Acc: 0.856693 Loss: 0.162012 | Val Acc: 0.580878 loss: 1.569143\n",
            "[609/3000] Train Acc: 0.856224 Loss: 0.167430 | Val Acc: 0.564542 loss: 1.671056\n",
            "[610/3000] Train Acc: 0.856894 Loss: 0.165425 | Val Acc: 0.572309 loss: 1.627311\n",
            "[611/3000] Train Acc: 0.863658 Loss: 0.163498 | Val Acc: 0.566685 loss: 1.647129\n",
            "[612/3000] Train Acc: 0.859841 Loss: 0.166910 | Val Acc: 0.567220 loss: 1.646345\n",
            "[613/3000] Train Acc: 0.860443 Loss: 0.163323 | Val Acc: 0.566685 loss: 1.673570\n",
            "[614/3000] Train Acc: 0.858970 Loss: 0.163237 | Val Acc: 0.561328 loss: 1.710551\n",
            "[615/3000] Train Acc: 0.860510 Loss: 0.161571 | Val Acc: 0.552491 loss: 1.743621\n",
            "[616/3000] Train Acc: 0.860845 Loss: 0.164748 | Val Acc: 0.554633 loss: 1.749020\n",
            "[617/3000] Train Acc: 0.856024 Loss: 0.165471 | Val Acc: 0.564810 loss: 1.662409\n",
            "[618/3000] Train Acc: 0.861381 Loss: 0.161194 | Val Acc: 0.561864 loss: 1.674044\n",
            "[619/3000] Train Acc: 0.860376 Loss: 0.163607 | Val Acc: 0.561061 loss: 1.679482\n",
            "[620/3000] Train Acc: 0.860644 Loss: 0.166451 | Val Acc: 0.571237 loss: 1.622790\n",
            "[621/3000] Train Acc: 0.857832 Loss: 0.164058 | Val Acc: 0.576861 loss: 1.625433\n",
            "[622/3000] Train Acc: 0.859975 Loss: 0.161373 | Val Acc: 0.558115 loss: 1.679277\n",
            "[623/3000] Train Acc: 0.861180 Loss: 0.163726 | Val Acc: 0.576058 loss: 1.589250\n",
            "[624/3000] Train Acc: 0.857497 Loss: 0.164480 | Val Acc: 0.572844 loss: 1.577867\n",
            "[625/3000] Train Acc: 0.861716 Loss: 0.161964 | Val Acc: 0.571237 loss: 1.616839\n",
            "[626/3000] Train Acc: 0.860644 Loss: 0.164428 | Val Acc: 0.572309 loss: 1.595558\n",
            "[627/3000] Train Acc: 0.861381 Loss: 0.163757 | Val Acc: 0.570969 loss: 1.640300\n",
            "[628/3000] Train Acc: 0.860644 Loss: 0.161677 | Val Acc: 0.569095 loss: 1.647971\n",
            "[629/3000] Train Acc: 0.861314 Loss: 0.162141 | Val Acc: 0.573112 loss: 1.615345\n",
            "[630/3000] Train Acc: 0.860778 Loss: 0.160315 | Val Acc: 0.571773 loss: 1.660417\n",
            "[631/3000] Train Acc: 0.858903 Loss: 0.160644 | Val Acc: 0.565613 loss: 1.653202\n",
            "[632/3000] Train Acc: 0.861046 Loss: 0.165214 | Val Acc: 0.559454 loss: 1.695107\n",
            "[633/3000] Train Acc: 0.858033 Loss: 0.164526 | Val Acc: 0.568024 loss: 1.682427\n",
            "[634/3000] Train Acc: 0.856760 Loss: 0.163328 | Val Acc: 0.580878 loss: 1.634883\n",
            "[635/3000] Train Acc: 0.856492 Loss: 0.168008 | Val Acc: 0.571505 loss: 1.646538\n",
            "[636/3000] Train Acc: 0.862720 Loss: 0.163626 | Val Acc: 0.564274 loss: 1.679374\n",
            "[637/3000] Train Acc: 0.862318 Loss: 0.160432 | Val Acc: 0.564274 loss: 1.671550\n",
            "[638/3000] Train Acc: 0.859506 Loss: 0.163467 | Val Acc: 0.575254 loss: 1.608354\n",
            "[639/3000] Train Acc: 0.859372 Loss: 0.161442 | Val Acc: 0.555437 loss: 1.705033\n",
            "[640/3000] Train Acc: 0.859908 Loss: 0.161172 | Val Acc: 0.567488 loss: 1.677994\n",
            "[641/3000] Train Acc: 0.862720 Loss: 0.162296 | Val Acc: 0.573915 loss: 1.609985\n",
            "[642/3000] Train Acc: 0.856425 Loss: 0.166223 | Val Acc: 0.570969 loss: 1.669676\n",
            "[643/3000] Train Acc: 0.861582 Loss: 0.164239 | Val Acc: 0.580075 loss: 1.615339\n",
            "[644/3000] Train Acc: 0.862050 Loss: 0.160144 | Val Acc: 0.563739 loss: 1.649272\n",
            "[645/3000] Train Acc: 0.859573 Loss: 0.163394 | Val Acc: 0.565078 loss: 1.657633\n",
            "[646/3000] Train Acc: 0.860711 Loss: 0.161522 | Val Acc: 0.570702 loss: 1.696161\n",
            "[647/3000] Train Acc: 0.861582 Loss: 0.159650 | Val Acc: 0.574183 loss: 1.649097\n",
            "[648/3000] Train Acc: 0.861180 Loss: 0.162870 | Val Acc: 0.559186 loss: 1.665438\n",
            "[649/3000] Train Acc: 0.862318 Loss: 0.158392 | Val Acc: 0.545795 loss: 1.757902\n",
            "[650/3000] Train Acc: 0.864997 Loss: 0.159901 | Val Acc: 0.528923 loss: 1.648505\n",
            "[651/3000] Train Acc: 0.859841 Loss: 0.164205 | Val Acc: 0.545795 loss: 1.821119\n",
            "[652/3000] Train Acc: 0.860644 Loss: 0.163482 | Val Acc: 0.557311 loss: 1.681295\n",
            "[653/3000] Train Acc: 0.863457 Loss: 0.163897 | Val Acc: 0.565345 loss: 1.640141\n",
            "[654/3000] Train Acc: 0.860979 Loss: 0.159835 | Val Acc: 0.576593 loss: 1.627834\n",
            "[655/3000] Train Acc: 0.863926 Loss: 0.159354 | Val Acc: 0.566149 loss: 1.673309\n",
            "[656/3000] Train Acc: 0.861046 Loss: 0.164399 | Val Acc: 0.576058 loss: 1.666146\n",
            "[657/3000] Train Acc: 0.859305 Loss: 0.165710 | Val Acc: 0.584092 loss: 1.626927\n",
            "[658/3000] Train Acc: 0.862251 Loss: 0.163049 | Val Acc: 0.580343 loss: 1.628358\n",
            "[659/3000] Train Acc: 0.862318 Loss: 0.161749 | Val Acc: 0.575522 loss: 1.608278\n",
            "[660/3000] Train Acc: 0.863591 Loss: 0.161561 | Val Acc: 0.562400 loss: 1.717294\n",
            "[661/3000] Train Acc: 0.856760 Loss: 0.171740 | Val Acc: 0.558382 loss: 1.710429\n",
            "[662/3000] Train Acc: 0.858501 Loss: 0.162145 | Val Acc: 0.574719 loss: 1.643443\n",
            "[663/3000] Train Acc: 0.859640 Loss: 0.165604 | Val Acc: 0.568024 loss: 1.674059\n",
            "[664/3000] Train Acc: 0.858903 Loss: 0.163152 | Val Acc: 0.569630 loss: 1.651649\n",
            "[665/3000] Train Acc: 0.859975 Loss: 0.163648 | Val Acc: 0.561596 loss: 1.728578\n",
            "[666/3000] Train Acc: 0.862921 Loss: 0.163835 | Val Acc: 0.562400 loss: 1.711225\n",
            "[667/3000] Train Acc: 0.863390 Loss: 0.161225 | Val Acc: 0.568559 loss: 1.730935\n",
            "[668/3000] Train Acc: 0.859707 Loss: 0.162566 | Val Acc: 0.561061 loss: 1.716010\n",
            "[669/3000] Train Acc: 0.862452 Loss: 0.159230 | Val Acc: 0.553294 loss: 1.722467\n",
            "[670/3000] Train Acc: 0.860778 Loss: 0.160806 | Val Acc: 0.568291 loss: 1.706712\n",
            "[671/3000] Train Acc: 0.862720 Loss: 0.162039 | Val Acc: 0.564542 loss: 1.686928\n",
            "[672/3000] Train Acc: 0.862653 Loss: 0.163584 | Val Acc: 0.567488 loss: 1.649636\n",
            "[673/3000] Train Acc: 0.860175 Loss: 0.162380 | Val Acc: 0.572844 loss: 1.667755\n",
            "[674/3000] Train Acc: 0.861850 Loss: 0.163974 | Val Acc: 0.577933 loss: 1.661554\n",
            "[675/3000] Train Acc: 0.859640 Loss: 0.163778 | Val Acc: 0.580611 loss: 1.646406\n",
            "[676/3000] Train Acc: 0.859104 Loss: 0.156766 | Val Acc: 0.560793 loss: 1.713556\n",
            "[677/3000] Train Acc: 0.860711 Loss: 0.163746 | Val Acc: 0.570969 loss: 1.688742\n",
            "[678/3000] Train Acc: 0.866135 Loss: 0.161025 | Val Acc: 0.560793 loss: 1.706006\n",
            "[679/3000] Train Acc: 0.862184 Loss: 0.161177 | Val Acc: 0.560257 loss: 1.708873\n",
            "[680/3000] Train Acc: 0.862050 Loss: 0.160032 | Val Acc: 0.571773 loss: 1.668834\n",
            "[681/3000] Train Acc: 0.860979 Loss: 0.164359 | Val Acc: 0.574183 loss: 1.658955\n",
            "[682/3000] Train Acc: 0.861046 Loss: 0.160671 | Val Acc: 0.568291 loss: 1.674720\n",
            "[683/3000] Train Acc: 0.858501 Loss: 0.164711 | Val Acc: 0.578200 loss: 1.629136\n",
            "[684/3000] Train Acc: 0.860711 Loss: 0.161301 | Val Acc: 0.576861 loss: 1.606281\n",
            "[685/3000] Train Acc: 0.864327 Loss: 0.156805 | Val Acc: 0.598018 loss: 1.520285\n",
            "saving model with acc 0.598\n",
            "[686/3000] Train Acc: 0.862653 Loss: 0.159534 | Val Acc: 0.568559 loss: 1.679589\n",
            "[687/3000] Train Acc: 0.859640 Loss: 0.166273 | Val Acc: 0.574987 loss: 1.643522\n",
            "[688/3000] Train Acc: 0.859774 Loss: 0.162759 | Val Acc: 0.551152 loss: 1.780033\n",
            "[689/3000] Train Acc: 0.862720 Loss: 0.163236 | Val Acc: 0.563203 loss: 1.669377\n",
            "[690/3000] Train Acc: 0.866403 Loss: 0.157828 | Val Acc: 0.558115 loss: 1.696909\n",
            "[691/3000] Train Acc: 0.863457 Loss: 0.157869 | Val Acc: 0.559454 loss: 1.694840\n",
            "[692/3000] Train Acc: 0.862988 Loss: 0.159273 | Val Acc: 0.572576 loss: 1.636997\n",
            "[693/3000] Train Acc: 0.862385 Loss: 0.161959 | Val Acc: 0.565881 loss: 1.656754\n",
            "[694/3000] Train Acc: 0.858300 Loss: 0.160416 | Val Acc: 0.564274 loss: 1.671738\n",
            "[695/3000] Train Acc: 0.860845 Loss: 0.162947 | Val Acc: 0.595340 loss: 1.518097\n",
            "[696/3000] Train Acc: 0.860108 Loss: 0.164076 | Val Acc: 0.581950 loss: 1.593542\n",
            "[697/3000] Train Acc: 0.861046 Loss: 0.158807 | Val Acc: 0.568024 loss: 1.661426\n",
            "[698/3000] Train Acc: 0.858635 Loss: 0.166494 | Val Acc: 0.569095 loss: 1.649979\n",
            "[699/3000] Train Acc: 0.864930 Loss: 0.156681 | Val Acc: 0.585699 loss: 1.603043\n",
            "[700/3000] Train Acc: 0.862452 Loss: 0.166801 | Val Acc: 0.529995 loss: 1.699490\n",
            "[701/3000] Train Acc: 0.860309 Loss: 0.161424 | Val Acc: 0.550884 loss: 1.727068\n",
            "[702/3000] Train Acc: 0.863859 Loss: 0.161213 | Val Acc: 0.561328 loss: 1.669272\n",
            "[703/3000] Train Acc: 0.863055 Loss: 0.159296 | Val Acc: 0.569363 loss: 1.638572\n",
            "[704/3000] Train Acc: 0.866403 Loss: 0.162176 | Val Acc: 0.589716 loss: 1.535867\n",
            "[705/3000] Train Acc: 0.862586 Loss: 0.161517 | Val Acc: 0.572844 loss: 1.670390\n",
            "[706/3000] Train Acc: 0.862988 Loss: 0.161740 | Val Acc: 0.579539 loss: 1.615722\n",
            "[707/3000] Train Acc: 0.864461 Loss: 0.160921 | Val Acc: 0.572844 loss: 1.641039\n",
            "[708/3000] Train Acc: 0.864327 Loss: 0.160263 | Val Acc: 0.569630 loss: 1.641702\n",
            "[709/3000] Train Acc: 0.861381 Loss: 0.163091 | Val Acc: 0.566417 loss: 1.657598\n",
            "[710/3000] Train Acc: 0.863524 Loss: 0.159816 | Val Acc: 0.558382 loss: 1.685670\n",
            "[711/3000] Train Acc: 0.861046 Loss: 0.162502 | Val Acc: 0.560793 loss: 1.676781\n",
            "[712/3000] Train Acc: 0.863992 Loss: 0.162350 | Val Acc: 0.562667 loss: 1.649489\n",
            "[713/3000] Train Acc: 0.863323 Loss: 0.159648 | Val Acc: 0.576326 loss: 1.631841\n",
            "[714/3000] Train Acc: 0.861917 Loss: 0.158468 | Val Acc: 0.546867 loss: 1.754140\n",
            "[715/3000] Train Acc: 0.863725 Loss: 0.160091 | Val Acc: 0.554633 loss: 1.718331\n",
            "[716/3000] Train Acc: 0.862586 Loss: 0.162388 | Val Acc: 0.572041 loss: 1.628088\n",
            "[717/3000] Train Acc: 0.857564 Loss: 0.169305 | Val Acc: 0.554097 loss: 1.694103\n",
            "[718/3000] Train Acc: 0.861515 Loss: 0.167373 | Val Acc: 0.571237 loss: 1.603110\n",
            "[719/3000] Train Acc: 0.861783 Loss: 0.161052 | Val Acc: 0.565078 loss: 1.673240\n",
            "[720/3000] Train Acc: 0.862117 Loss: 0.163549 | Val Acc: 0.544992 loss: 1.774273\n",
            "[721/3000] Train Acc: 0.866403 Loss: 0.156288 | Val Acc: 0.551419 loss: 1.757279\n",
            "[722/3000] Train Acc: 0.864595 Loss: 0.157557 | Val Acc: 0.555704 loss: 1.727818\n",
            "[723/3000] Train Acc: 0.861113 Loss: 0.161163 | Val Acc: 0.561864 loss: 1.678741\n",
            "[724/3000] Train Acc: 0.862519 Loss: 0.160263 | Val Acc: 0.559721 loss: 1.681736\n",
            "[725/3000] Train Acc: 0.862050 Loss: 0.159093 | Val Acc: 0.563471 loss: 1.695679\n",
            "[726/3000] Train Acc: 0.863992 Loss: 0.158390 | Val Acc: 0.556508 loss: 1.683256\n",
            "[727/3000] Train Acc: 0.862050 Loss: 0.160159 | Val Acc: 0.552223 loss: 1.727862\n",
            "[728/3000] Train Acc: 0.862385 Loss: 0.162815 | Val Acc: 0.553562 loss: 1.740524\n",
            "[729/3000] Train Acc: 0.861649 Loss: 0.167747 | Val Acc: 0.570434 loss: 1.682957\n",
            "[730/3000] Train Acc: 0.864059 Loss: 0.162560 | Val Acc: 0.583824 loss: 1.596242\n",
            "[731/3000] Train Acc: 0.861381 Loss: 0.161741 | Val Acc: 0.569630 loss: 1.655009\n",
            "[732/3000] Train Acc: 0.865131 Loss: 0.160222 | Val Acc: 0.573648 loss: 1.651738\n",
            "[733/3000] Train Acc: 0.864327 Loss: 0.159389 | Val Acc: 0.562935 loss: 1.695940\n",
            "[734/3000] Train Acc: 0.867877 Loss: 0.159771 | Val Acc: 0.554901 loss: 1.758271\n",
            "[735/3000] Train Acc: 0.862385 Loss: 0.160027 | Val Acc: 0.553830 loss: 1.749745\n",
            "[736/3000] Train Acc: 0.865734 Loss: 0.156882 | Val Acc: 0.569095 loss: 1.716773\n",
            "[737/3000] Train Acc: 0.861984 Loss: 0.164034 | Val Acc: 0.562132 loss: 1.746649\n",
            "[738/3000] Train Acc: 0.862251 Loss: 0.159757 | Val Acc: 0.570969 loss: 1.631684\n",
            "[739/3000] Train Acc: 0.862117 Loss: 0.160780 | Val Acc: 0.563471 loss: 1.704733\n",
            "[740/3000] Train Acc: 0.864394 Loss: 0.160981 | Val Acc: 0.568024 loss: 1.657333\n",
            "[741/3000] Train Acc: 0.859104 Loss: 0.165257 | Val Acc: 0.565613 loss: 1.687043\n",
            "[742/3000] Train Acc: 0.866068 Loss: 0.159265 | Val Acc: 0.573380 loss: 1.622057\n"
          ]
        }
      ]
    },
    {
      "cell_type": "code",
      "source": [
        "print(f'Training use {round(end_time - start_time, 3)}s')"
      ],
      "metadata": {
        "id": "NLnpYLpwYlop"
      },
      "execution_count": null,
      "outputs": []
    },
    {
      "cell_type": "code",
      "source": [
        "def plot_learning_curve(train_record, valid_record, title=''):\n",
        "    total_steps = len(train_record)\n",
        "    x = range(total_steps)\n",
        "    plt.figure(figsize=(6, 4))\n",
        "    plt.plot(x, train_record, c='tab:red', label='train')\n",
        "    plt.plot(x, valid_record, c='tab:cyan', label='valid')\n",
        "    plt.ylim(0.0, max(valid_record) + 1)\n",
        "    plt.xlabel('Training epoch')\n",
        "    plt.ylabel(title)\n",
        "    plt.title('Learning curve of {}'.format(title))\n",
        "    plt.legend()\n",
        "    plt.show()"
      ],
      "metadata": {
        "id": "ZX4SmxBQIIcU"
      },
      "execution_count": null,
      "outputs": []
    },
    {
      "cell_type": "code",
      "source": [
        "plot_learning_curve(train_acc_list, val_acc_list, 'Acc')"
      ],
      "metadata": {
        "id": "CukLL-yVJFdu"
      },
      "execution_count": null,
      "outputs": []
    },
    {
      "cell_type": "code",
      "source": [
        "plot_learning_curve(train_loss_list, val_loss_list, 'Loss')"
      ],
      "metadata": {
        "id": "LUDXf-nKJQKU"
      },
      "execution_count": null,
      "outputs": []
    },
    {
      "cell_type": "code",
      "source": [
        "model = Classifier().to(device)\n",
        "model.load_state_dict(torch.load(model_path, map_location=device))\n",
        "\n",
        "model.eval() # set the model to evaluation mode\n",
        "train_predict = []\n",
        "err = 0\n",
        "for i, data in enumerate(train_loader):\n",
        "    inputs, labels = data\n",
        "    inputs, labels = inputs.to(device), labels.to(device)\n",
        "    outputs = model(inputs)\n",
        "    _, test_pred = torch.max(outputs, 1) # get the index of the class with the highest probability\n",
        "\n",
        "    for y in test_pred.cpu().numpy():\n",
        "        train_predict.append(y)\n",
        "\n",
        "Ein = np.mean(np.array(train_predict) != train_y)\n",
        "F1in = metrics.f1_score(train_y, train_predict, average='macro')  \n",
        "print(f'Ein = {round(Ein, 5)}')\n",
        "print(f'F1_in = {round(F1in, 5)}')\n",
        "\n",
        "val_predict = []\n",
        "for i, data in enumerate(val_loader):\n",
        "    inputs = data[0]\n",
        "    inputs = inputs.to(device)\n",
        "    outputs = model(inputs)\n",
        "    _, test_pred = torch.max(outputs, 1) # get the index of the class with the highest probability\n",
        "\n",
        "    for y in test_pred.cpu().numpy():\n",
        "        val_predict.append(y)\n",
        "\n",
        "Eval = np.mean(np.array(val_predict) != val_y)\n",
        "F1val = metrics.f1_score(val_y, val_predict, average='macro')  \n",
        "print(f'Eval = {round(Eval, 5)}')\n",
        "print(f'F1_val = {round(F1val, 5)}')"
      ],
      "metadata": {
        "id": "zCQ8Si4Yg5nh"
      },
      "execution_count": null,
      "outputs": []
    },
    {
      "cell_type": "markdown",
      "source": [
        "# **Deep Neural Network Test**"
      ],
      "metadata": {
        "id": "ynT-KFltscT8"
      }
    },
    {
      "cell_type": "code",
      "source": [
        "sc = StandardScaler()\n",
        "ss = StandardScaler().fit(X_test)\n",
        "X_test_std = ss.transform(X_test)\n",
        "\n",
        "# create testing dataset\n",
        "test_set = IBMDataset(X_test_std, None)\n",
        "test_loader = DataLoader(test_set, batch_size=BATCH_SIZE, shuffle=False)\n",
        "\n",
        "# create model and load weights from checkpoint\n",
        "model = Classifier().to(device)\n",
        "model.load_state_dict(torch.load(model_path, map_location=device))"
      ],
      "metadata": {
        "id": "lukrC4MJWTjM"
      },
      "execution_count": null,
      "outputs": []
    },
    {
      "cell_type": "code",
      "source": [
        "predict = []\n",
        "model.eval() # set the model to evaluation mode\n",
        "for i, data in enumerate(test_loader):\n",
        "    inputs = data\n",
        "    inputs = inputs.to(device)\n",
        "    outputs = model(inputs)\n",
        "    _, test_pred = torch.max(outputs, 1) # get the index of the class with the highest probability\n",
        "\n",
        "    for y in test_pred.cpu().numpy():\n",
        "        predict.append(y)\n",
        "\n",
        "print(encoder_map)\n",
        "print(np.bincount(predict))"
      ],
      "metadata": {
        "id": "OlQ1d1fdVt_V"
      },
      "execution_count": null,
      "outputs": []
    },
    {
      "cell_type": "code",
      "source": [
        "submit_result = './dnn_result.csv'\n",
        "\n",
        "new_encoder_map = {'No Churn':0, 'Competitor': 1, 'Dissatisfaction':2, 'Attitude': 3, 'Price':4, 'Other':5}\n",
        "\n",
        "with open(submit_result, 'w') as f:\n",
        "    f.write('Customer ID,Churn Category\\n')\n",
        "    for i in range(len(df_test.values)):\n",
        "        id = str(df_test.values[i]).replace('[\\'', '')\n",
        "        id = id.replace('\\']', '')\n",
        "        pred = new_encoder_map.get(list(encoder_map.keys())[list(encoder_map.values()).index(predict[i])])\n",
        "        f.write(f'{id},{pred}\\n')"
      ],
      "metadata": {
        "id": "11ImkbPjn6qP"
      },
      "execution_count": null,
      "outputs": []
    },
    {
      "cell_type": "code",
      "source": [
        "from google.colab import files\n",
        "\n",
        "files.download(submit_result)\n",
        "files.download(model_path)"
      ],
      "metadata": {
        "id": "YICyBRaGo43O"
      },
      "execution_count": null,
      "outputs": []
    },
    {
      "cell_type": "markdown",
      "source": [
        "# **XGBoost Train**"
      ],
      "metadata": {
        "id": "sahIvrRMTlTP"
      }
    },
    {
      "cell_type": "code",
      "source": [
        "pass"
      ],
      "metadata": {
        "id": "YkGN8Jq-TsPF"
      },
      "execution_count": null,
      "outputs": []
    }
  ]
}