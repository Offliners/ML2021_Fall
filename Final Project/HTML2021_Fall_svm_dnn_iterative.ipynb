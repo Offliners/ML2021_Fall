{
  "nbformat": 4,
  "nbformat_minor": 0,
  "metadata": {
    "colab": {
      "name": "HTML2021_Fall.ipynb",
      "provenance": [],
      "include_colab_link": true
    },
    "kernelspec": {
      "name": "python3",
      "display_name": "Python 3"
    },
    "language_info": {
      "name": "python"
    },
    "accelerator": "GPU"
  },
  "cells": [
    {
      "cell_type": "markdown",
      "metadata": {
        "id": "view-in-github",
        "colab_type": "text"
      },
      "source": [
        "<a href=\"https://colab.research.google.com/github/Offliners/HTML_2021Fall/blob/main/Final%20Project/HTML2021_Fall_svm_dnn_iterative.ipynb\" target=\"_parent\"><img src=\"https://colab.research.google.com/assets/colab-badge.svg\" alt=\"Open In Colab\"/></a>"
      ]
    },
    {
      "cell_type": "markdown",
      "source": [
        "# **Directory**\n",
        "\n",
        "```\n",
        "data_dir\n",
        "    ├── data\n",
        "    │   ├── Test_IDs.csv\n",
        "    │   ├── ...\n",
        "    │   ├── status.csv\n",
        "    ├── statistics\n",
        "    │   ├── Churn Category_stat.png\n",
        "    │   ├── ...\n",
        "    │   ├── miss rate_stat.png\n",
        "```"
      ],
      "metadata": {
        "id": "PD40tT3p379e"
      }
    },
    {
      "cell_type": "markdown",
      "source": [
        "# **Display information of GPU**"
      ],
      "metadata": {
        "id": "ldW8_oif3EEr"
      }
    },
    {
      "cell_type": "code",
      "source": [
        "!nvidia-smi"
      ],
      "metadata": {
        "colab": {
          "base_uri": "https://localhost:8080/"
        },
        "id": "Qf0PLuNJf95W",
        "outputId": "d7594d90-ad74-4032-cf57-059f01337530"
      },
      "execution_count": 1,
      "outputs": [
        {
          "output_type": "stream",
          "name": "stdout",
          "text": [
            "Sat Jan 15 08:56:50 2022       \n",
            "+-----------------------------------------------------------------------------+\n",
            "| NVIDIA-SMI 495.46       Driver Version: 460.32.03    CUDA Version: 11.2     |\n",
            "|-------------------------------+----------------------+----------------------+\n",
            "| GPU  Name        Persistence-M| Bus-Id        Disp.A | Volatile Uncorr. ECC |\n",
            "| Fan  Temp  Perf  Pwr:Usage/Cap|         Memory-Usage | GPU-Util  Compute M. |\n",
            "|                               |                      |               MIG M. |\n",
            "|===============================+======================+======================|\n",
            "|   0  Tesla T4            Off  | 00000000:00:04.0 Off |                    0 |\n",
            "| N/A   33C    P8     9W /  70W |      0MiB / 15109MiB |      0%      Default |\n",
            "|                               |                      |                  N/A |\n",
            "+-------------------------------+----------------------+----------------------+\n",
            "                                                                               \n",
            "+-----------------------------------------------------------------------------+\n",
            "| Processes:                                                                  |\n",
            "|  GPU   GI   CI        PID   Type   Process name                  GPU Memory |\n",
            "|        ID   ID                                                   Usage      |\n",
            "|=============================================================================|\n",
            "|  No running processes found                                                 |\n",
            "+-----------------------------------------------------------------------------+\n"
          ]
        }
      ]
    },
    {
      "cell_type": "markdown",
      "source": [
        "# **Download Dataset**"
      ],
      "metadata": {
        "id": "JxUhMWWmJPHv"
      }
    },
    {
      "cell_type": "code",
      "source": [
        "!mkdir \"./data\"\n",
        "!mkdir \"./statistics\"\n",
        "!gdown --id 1X5yz7QLAu4nttnCea4ALf6alae6Clv_o --output \"./data/dataset.zip\"\n",
        "!unzip -q \"./data/dataset.zip\" -d \"./data\"\n",
        "!rm \"./data/dataset.zip\""
      ],
      "metadata": {
        "colab": {
          "base_uri": "https://localhost:8080/"
        },
        "id": "zjX-fvNeKG3p",
        "outputId": "d524b00d-f653-4f56-b4eb-e26c8b5cb25f"
      },
      "execution_count": 2,
      "outputs": [
        {
          "output_type": "stream",
          "name": "stdout",
          "text": [
            "Downloading...\n",
            "From: https://drive.google.com/uc?id=1X5yz7QLAu4nttnCea4ALf6alae6Clv_o\n",
            "To: /content/data/dataset.zip\n",
            "\r  0% 0.00/660k [00:00<?, ?B/s]\r100% 660k/660k [00:00<00:00, 96.9MB/s]\n"
          ]
        }
      ]
    },
    {
      "cell_type": "markdown",
      "source": [
        "# **Import Some Packages**"
      ],
      "metadata": {
        "id": "hosMVZZWI_6B"
      }
    },
    {
      "cell_type": "code",
      "execution_count": 258,
      "metadata": {
        "id": "-lrHo2qeI-p9"
      },
      "outputs": [],
      "source": [
        "import time\n",
        "import numpy as np\n",
        "import pandas as pd\n",
        "from glob import glob\n",
        "from collections import Counter\n",
        "import collections\n",
        "import matplotlib.pyplot as plt\n",
        "from sklearn.preprocessing import LabelEncoder\n",
        "from sklearn.preprocessing import StandardScaler\n",
        "from sklearn import metrics\n",
        "from sklearn.model_selection import train_test_split\n",
        "from sklearn.metrics import plot_confusion_matrix, classification_report\n",
        "from sklearn.experimental import enable_iterative_imputer\n",
        "from sklearn.impute import IterativeImputer\n",
        "\n",
        "# SMOTE\n",
        "from imblearn.over_sampling import ADASYN\n",
        "\n",
        "# SVM\n",
        "from sklearn.svm import SVC\n",
        "\n",
        "# DNN\n",
        "import torch\n",
        "import torch.nn as nn\n",
        "from torch.utils.data import Dataset, DataLoader \n",
        "from torchsummary import summary\n",
        "from torch.optim.lr_scheduler import StepLR\n",
        "\n",
        "# XGBoost\n",
        "from xgboost import XGBClassifier"
      ]
    },
    {
      "cell_type": "markdown",
      "source": [
        "# **Set a Random Seed**"
      ],
      "metadata": {
        "id": "HH36XbKB0P3c"
      }
    },
    {
      "cell_type": "code",
      "source": [
        "# Set a random seed for reproducibility\n",
        "seed = 0\n",
        "np.random.seed(seed)\n",
        "torch.manual_seed(seed)\n",
        "if torch.cuda.is_available():\n",
        "    torch.cuda.manual_seed(seed)\n",
        "    torch.cuda.manual_seed_all(seed)  \n",
        "torch.backends.cudnn.benchmark = False\n",
        "torch.backends.cudnn.deterministic = True"
      ],
      "metadata": {
        "id": "sM7IyXfL0ekd"
      },
      "execution_count": 259,
      "outputs": []
    },
    {
      "cell_type": "markdown",
      "source": [
        "# **CSV Files Combination**"
      ],
      "metadata": {
        "id": "Q69ecrSlJpyT"
      }
    },
    {
      "cell_type": "code",
      "source": [
        "train_path = './data/Train_IDs.csv'  # path to training data\n",
        "test_path = './data/Test_IDs.csv'    # path to testing data\n",
        "\n",
        "files = glob('./data/*.csv')\n",
        "data_csv = []\n",
        "data_csv.append(train_path)\n",
        "for csv in files:\n",
        "    if ('IDs' not in csv) and ('sample' not in csv) and ('population' not in csv) and ('result' not in csv):\n",
        "        data_csv.append(csv)\n",
        "  \n",
        "print(data_csv)\n",
        "df_list = [pd.read_csv(file) for file in data_csv]"
      ],
      "metadata": {
        "colab": {
          "base_uri": "https://localhost:8080/"
        },
        "id": "PubV0z-fNFWK",
        "outputId": "de28e69d-0a88-404e-f610-0fe354d2a545"
      },
      "execution_count": 260,
      "outputs": [
        {
          "output_type": "stream",
          "name": "stdout",
          "text": [
            "['./data/Train_IDs.csv', './data/services.csv', './data/location.csv', './data/satisfaction.csv', './data/demographics.csv', './data/status.csv']\n"
          ]
        }
      ]
    },
    {
      "cell_type": "code",
      "source": [
        "result_total = df_list[0]\n",
        "for df in df_list[1:]:\n",
        "    result_total = pd.merge(result_total, df, how='outer', on='Customer ID')\n",
        "\n",
        "result_total.to_csv('./data/result_total.csv') # Save combined all result to result_total.csv"
      ],
      "metadata": {
        "id": "gsRnzcD243J2"
      },
      "execution_count": 261,
      "outputs": []
    },
    {
      "cell_type": "code",
      "source": [
        "# There are 7043 total customer data\n",
        "print(result_total)"
      ],
      "metadata": {
        "id": "HmdXTPLLuLnc",
        "outputId": "9f3b6711-8091-4308-fefe-e01169d187cc",
        "colab": {
          "base_uri": "https://localhost:8080/"
        }
      },
      "execution_count": 262,
      "outputs": [
        {
          "output_type": "stream",
          "name": "stdout",
          "text": [
            "     Customer ID  Count_x  ... Number of Dependents Churn Category\n",
            "0     0650-BWOZN      1.0  ...                  0.0     Competitor\n",
            "1     0562-FGDCR      1.0  ...                  0.0     Competitor\n",
            "2     6688-UZPWD      1.0  ...                  NaN       No Churn\n",
            "3     2905-KFQUV      1.0  ...                  0.0     Competitor\n",
            "4     9720-JJJOR      1.0  ...                  0.0       No Churn\n",
            "...          ...      ...  ...                  ...            ...\n",
            "7038  6778-EICRF      NaN  ...                  0.0            NaN\n",
            "7039  0772-GYEQQ      NaN  ...                  2.0            NaN\n",
            "7040  5666-CYCYZ      NaN  ...                  0.0            NaN\n",
            "7041  4893-GYUJU      NaN  ...                  0.0            NaN\n",
            "7042  3426-NIYYL      NaN  ...                  2.0            NaN\n",
            "\n",
            "[7043 rows x 48 columns]\n"
          ]
        }
      ]
    },
    {
      "cell_type": "code",
      "source": [
        "# Train_IDs has 5634 customer data\n",
        "result_train_total = df_list[0]\n",
        "for df in df_list[1:]:\n",
        "    result_train_total = pd.merge(result_train_total, df, how='left', on='Customer ID')\n",
        "\n",
        "print(result_train_total)"
      ],
      "metadata": {
        "id": "NZaWPORIXIDp",
        "outputId": "91394614-f0c3-482b-e665-72475a33fd87",
        "colab": {
          "base_uri": "https://localhost:8080/"
        }
      },
      "execution_count": 263,
      "outputs": [
        {
          "output_type": "stream",
          "name": "stdout",
          "text": [
            "     Customer ID  Count_x  ... Number of Dependents Churn Category\n",
            "0     0650-BWOZN      1.0  ...                  0.0     Competitor\n",
            "1     0562-FGDCR      1.0  ...                  0.0     Competitor\n",
            "2     6688-UZPWD      1.0  ...                  NaN       No Churn\n",
            "3     2905-KFQUV      1.0  ...                  0.0     Competitor\n",
            "4     9720-JJJOR      1.0  ...                  0.0       No Churn\n",
            "...          ...      ...  ...                  ...            ...\n",
            "5629  1178-PZGAB      1.0  ...                  0.0            NaN\n",
            "5630  4806-KEXQR      1.0  ...                  0.0            NaN\n",
            "5631  8809-RIHDD      1.0  ...                  2.0       No Churn\n",
            "5632  6663-JOCQO      1.0  ...                  3.0       No Churn\n",
            "5633  7010-ZMVBF      1.0  ...                  0.0       No Churn\n",
            "\n",
            "[5634 rows x 48 columns]\n"
          ]
        }
      ]
    },
    {
      "cell_type": "code",
      "source": [
        "# Train_IDs has 4226 customer data with label\n",
        "result_train = df_list[0]\n",
        "for df in df_list[1:]:\n",
        "    result_train = pd.merge(result_train, df, how='right', on='Customer ID')\n",
        "\n",
        "print(result_train)"
      ],
      "metadata": {
        "id": "XC9OTia4vQyw",
        "outputId": "633d39af-c9bd-41df-fca9-1058093e7599",
        "colab": {
          "base_uri": "https://localhost:8080/"
        }
      },
      "execution_count": 264,
      "outputs": [
        {
          "output_type": "stream",
          "name": "stdout",
          "text": [
            "     Customer ID  Count_x  ... Number of Dependents Churn Category\n",
            "0     0650-BWOZN      NaN  ...                  0.0     Competitor\n",
            "1     0562-FGDCR      1.0  ...                  0.0     Competitor\n",
            "2     6688-UZPWD      1.0  ...                  NaN       No Churn\n",
            "3     2905-KFQUV      1.0  ...                  0.0     Competitor\n",
            "4     9720-JJJOR      NaN  ...                  0.0       No Churn\n",
            "...          ...      ...  ...                  ...            ...\n",
            "4221  3313-QKNKB      NaN  ...                  NaN       No Churn\n",
            "4222  8668-KNZTI      NaN  ...                  NaN       No Churn\n",
            "4223  8809-RIHDD      NaN  ...                  2.0       No Churn\n",
            "4224  6663-JOCQO      NaN  ...                  3.0       No Churn\n",
            "4225  7010-ZMVBF      1.0  ...                  0.0       No Churn\n",
            "\n",
            "[4226 rows x 48 columns]\n"
          ]
        }
      ]
    },
    {
      "cell_type": "code",
      "source": [
        "# Train_IDs has 1408 customer data without label\n",
        "result_train_miss = df_list[0]\n",
        "for df in df_list[1:]:\n",
        "    result_train_miss = pd.merge(result_train_miss, df, how='left', on='Customer ID')\n",
        "\n",
        "result_train_miss = result_train_miss[result_train_miss['Churn Category'].isna()]\n",
        "\n",
        "print(result_train_miss)"
      ],
      "metadata": {
        "id": "PNP-ViR3XR3O",
        "outputId": "c281b4a1-219b-4f2c-a288-9c0c39cb4e31",
        "colab": {
          "base_uri": "https://localhost:8080/"
        }
      },
      "execution_count": 265,
      "outputs": [
        {
          "output_type": "stream",
          "name": "stdout",
          "text": [
            "     Customer ID  Count_x  ... Number of Dependents Churn Category\n",
            "6     0394-YONDK      1.0  ...                  NaN            NaN\n",
            "7     0396-HUJBP      1.0  ...                  0.0            NaN\n",
            "11    0684-AOSIH      1.0  ...                  2.0            NaN\n",
            "14    1679-JRFBR      1.0  ...                  0.0            NaN\n",
            "18    5533-NHFRF      NaN  ...                  0.0            NaN\n",
            "...          ...      ...  ...                  ...            ...\n",
            "5603  6330-JKLPC      1.0  ...                  NaN            NaN\n",
            "5618  4549-ZDQYY      NaN  ...                  0.0            NaN\n",
            "5622  9127-QRZMH      1.0  ...                  0.0            NaN\n",
            "5629  1178-PZGAB      1.0  ...                  0.0            NaN\n",
            "5630  4806-KEXQR      1.0  ...                  0.0            NaN\n",
            "\n",
            "[1408 rows x 48 columns]\n"
          ]
        }
      ]
    },
    {
      "cell_type": "code",
      "source": [
        "# Test_Ids has 1409 customer data\n",
        "df_test = pd.read_csv(test_path)\n",
        "result_test = df_test\n",
        "for df in df_list[1:]:\n",
        "    result_test = pd.merge(result_test, df, how='left', on='Customer ID')\n",
        "\n",
        "print(result_test)"
      ],
      "metadata": {
        "id": "fE-wQXgit9JQ",
        "outputId": "9501a5ad-90a6-4330-fe2f-fa9388562f2b",
        "colab": {
          "base_uri": "https://localhost:8080/"
        }
      },
      "execution_count": 266,
      "outputs": [
        {
          "output_type": "stream",
          "name": "stdout",
          "text": [
            "     Customer ID  Count_x  ... Number of Dependents Churn Category\n",
            "0     9938-EKRGF      1.0  ...                  0.0            NaN\n",
            "1     7379-POKDZ      1.0  ...                  0.0            NaN\n",
            "2     0654-HMSHN      1.0  ...                  NaN            NaN\n",
            "3     2045-BMBTJ      1.0  ...                  3.0            NaN\n",
            "4     0701-TJSEF      1.0  ...                  0.0            NaN\n",
            "...          ...      ...  ...                  ...            ...\n",
            "1404  4587-VVTOX      1.0  ...                  NaN            NaN\n",
            "1405  7716-YTYHG      NaN  ...                  0.0            NaN\n",
            "1406  7649-PHJVR      NaN  ...                  0.0            NaN\n",
            "1407  7855-DIWPO      1.0  ...                  3.0            NaN\n",
            "1408  8197-BFWVU      1.0  ...                  NaN            NaN\n",
            "\n",
            "[1409 rows x 48 columns]\n"
          ]
        }
      ]
    },
    {
      "cell_type": "code",
      "source": [
        "print(result_total.dropna()) # Find customer with full data infomation"
      ],
      "metadata": {
        "colab": {
          "base_uri": "https://localhost:8080/"
        },
        "id": "7wbcLdCPLMBV",
        "outputId": "ae5de729-1813-4e10-af68-98d566a83550"
      },
      "execution_count": 267,
      "outputs": [
        {
          "output_type": "stream",
          "name": "stdout",
          "text": [
            "     Customer ID  Count_x  ... Number of Dependents   Churn Category\n",
            "666   0454-OKRCT      1.0  ...                  2.0         No Churn\n",
            "678   1735-XMJVH      1.0  ...                  0.0         No Churn\n",
            "1799  1245-HARPS      1.0  ...                  0.0  Dissatisfaction\n",
            "2805  8445-DNBAE      1.0  ...                  0.0       Competitor\n",
            "2883  8708-XPXHZ      1.0  ...                  0.0         No Churn\n",
            "3062  9522-ZSINC      1.0  ...                  0.0         No Churn\n",
            "4297  0836-SEYLU      1.0  ...                  0.0         No Churn\n",
            "5146  7274-RTAPZ      1.0  ...                  1.0         No Churn\n",
            "\n",
            "[8 rows x 48 columns]\n"
          ]
        }
      ]
    },
    {
      "cell_type": "code",
      "source": [
        "result_cols = result_total.columns\n",
        "print(result_cols)"
      ],
      "metadata": {
        "colab": {
          "base_uri": "https://localhost:8080/"
        },
        "id": "h42U-NQJkntr",
        "outputId": "e7978c03-e23f-4f38-80d6-803e7da08d62"
      },
      "execution_count": 268,
      "outputs": [
        {
          "output_type": "stream",
          "name": "stdout",
          "text": [
            "Index(['Customer ID', 'Count_x', 'Quarter', 'Referred a Friend',\n",
            "       'Number of Referrals', 'Tenure in Months', 'Offer', 'Phone Service',\n",
            "       'Avg Monthly Long Distance Charges', 'Multiple Lines',\n",
            "       'Internet Service', 'Internet Type', 'Avg Monthly GB Download',\n",
            "       'Online Security', 'Online Backup', 'Device Protection Plan',\n",
            "       'Premium Tech Support', 'Streaming TV', 'Streaming Movies',\n",
            "       'Streaming Music', 'Unlimited Data', 'Contract', 'Paperless Billing',\n",
            "       'Payment Method', 'Monthly Charge', 'Total Charges', 'Total Refunds',\n",
            "       'Total Extra Data Charges', 'Total Long Distance Charges',\n",
            "       'Total Revenue', 'Count_y', 'Country', 'State', 'City', 'Zip Code',\n",
            "       'Lat Long', 'Latitude', 'Longitude', 'Satisfaction Score', 'Count',\n",
            "       'Gender', 'Age', 'Under 30', 'Senior Citizen', 'Married', 'Dependents',\n",
            "       'Number of Dependents', 'Churn Category'],\n",
            "      dtype='object')\n"
          ]
        }
      ]
    },
    {
      "cell_type": "code",
      "source": [
        "missing = result_train_total.isnull().sum().reset_index().rename(columns={0:'missNum'})\n",
        "missing['missRate'] = missing['missNum'] / result_train_total.shape[0]\n",
        "miss_analy = missing[missing.missRate > 0].sort_values(by='missRate', ascending=False)\n",
        "\n",
        "fig = plt.figure(figsize=(18, 6))\n",
        "plt.bar(np.arange(miss_analy.shape[0]), list(miss_analy.missRate.values), align='center')\n",
        "\n",
        "plt.title('Histogram of missing value of variables of training dataset')\n",
        "plt.xlabel('variables names')\n",
        "plt.ylabel('missing rate')\n",
        "plt.xticks(np.arange(miss_analy.shape[0]), list(miss_analy['index']))\n",
        "plt.xticks(rotation=90)\n",
        "for x, y in enumerate(list(miss_analy.missRate.values)):\n",
        "    plt.text(x, y + 0.12, '{:.2%}'.format(y), ha='center', rotation=90)    \n",
        "\n",
        "plt.ylim([0, 0.8])  \n",
        "plt.savefig(f'./statistics/miss rate_train_stat.png')  \n",
        "plt.show()\n",
        "plt.close()"
      ],
      "metadata": {
        "id": "HDjocf2IYbFs",
        "outputId": "af8db113-3b81-40d3-9fb6-c05b282446ae",
        "colab": {
          "base_uri": "https://localhost:8080/",
          "height": 574
        }
      },
      "execution_count": 269,
      "outputs": [
        {
          "output_type": "display_data",
          "data": {
            "image/png": "[encoded data removed]",
            "text/plain": [
              "<Figure size 1296x432 with 1 Axes>"
            ]
          },
          "metadata": {
            "needs_background": "light"
          }
        }
      ]
    },
    {
      "cell_type": "code",
      "source": [
        "missing = result_train.isnull().sum().reset_index().rename(columns={0:'missNum'})\n",
        "missing['missRate'] = missing['missNum'] / result_train.shape[0]\n",
        "miss_analy = missing[missing.missRate > 0].sort_values(by='missRate', ascending=False)\n",
        "\n",
        "fig = plt.figure(figsize=(18, 6))\n",
        "plt.bar(np.arange(miss_analy.shape[0]), list(miss_analy.missRate.values), align='center')\n",
        "\n",
        "plt.title('Histogram of missing value of variables of training dataset with label')\n",
        "plt.xlabel('variables names')\n",
        "plt.ylabel('missing rate')\n",
        "plt.xticks(np.arange(miss_analy.shape[0]), list(miss_analy['index']))\n",
        "plt.xticks(rotation=90)\n",
        "for x, y in enumerate(list(miss_analy.missRate.values)):\n",
        "    plt.text(x, y + 0.12, '{:.2%}'.format(y), ha='center', rotation=90)    \n",
        "\n",
        "plt.ylim([0, 0.8])  \n",
        "plt.savefig(f'./statistics/miss rate_train_stat.png')  \n",
        "plt.show()\n",
        "plt.close()"
      ],
      "metadata": {
        "colab": {
          "base_uri": "https://localhost:8080/",
          "height": 574
        },
        "id": "IkqLkqWstyE-",
        "outputId": "89489470-cf1c-44c7-93d4-96a51a16acec"
      },
      "execution_count": 270,
      "outputs": [
        {
          "output_type": "display_data",
          "data": {
            "image/png": "[encoded data removed]",
            "text/plain": [
              "<Figure size 1296x432 with 1 Axes>"
            ]
          },
          "metadata": {
            "needs_background": "light"
          }
        }
      ]
    },
    {
      "cell_type": "code",
      "source": [
        "missing = result_train_miss.isnull().sum().reset_index().rename(columns={0:'missNum'})\n",
        "missing['missRate'] = missing['missNum'] / result_train_miss.shape[0]\n",
        "miss_analy = missing[missing.missRate > 0].sort_values(by='missRate', ascending=False)\n",
        "\n",
        "fig = plt.figure(figsize=(18, 6))\n",
        "plt.bar(np.arange(miss_analy.shape[0]), list(miss_analy.missRate.values), align='center')\n",
        "\n",
        "plt.title('Histogram of missing value of variables of training dataset without label')\n",
        "plt.xlabel('variables names')\n",
        "plt.ylabel('missing rate')\n",
        "plt.xticks(np.arange(miss_analy.shape[0]), list(miss_analy['index']))\n",
        "plt.xticks(rotation=90)\n",
        "for x, y in enumerate(list(miss_analy.missRate.values)):\n",
        "    plt.text(x, y + 0.12, '{:.2%}'.format(y), ha='center', rotation=90)    \n",
        "\n",
        "plt.ylim([0, 1.4])  \n",
        "plt.savefig(f'./statistics/miss rate_train_stat.png')  \n",
        "plt.show()\n",
        "plt.close()"
      ],
      "metadata": {
        "colab": {
          "base_uri": "https://localhost:8080/",
          "height": 574
        },
        "id": "8zfPtzuwt7hA",
        "outputId": "ef75f631-b86f-420e-ae60-9424e3999436"
      },
      "execution_count": 271,
      "outputs": [
        {
          "output_type": "display_data",
          "data": {
            "image/png": "[encoded data removed]",
            "text/plain": [
              "<Figure size 1296x432 with 1 Axes>"
            ]
          },
          "metadata": {
            "needs_background": "light"
          }
        }
      ]
    },
    {
      "cell_type": "code",
      "source": [
        "missing = result_test.isnull().sum().reset_index().rename(columns={0:'missNum'})\n",
        "missing['missRate'] = missing['missNum'] / result_test.shape[0]\n",
        "miss_analy = missing[missing.missRate > 0].sort_values(by='missRate', ascending=False)\n",
        "\n",
        "fig = plt.figure(figsize=(18, 6))\n",
        "plt.bar(np.arange(miss_analy.shape[0]), list(miss_analy.missRate.values), align='center')\n",
        "\n",
        "plt.title('Histogram of missing value of variables of test dataset')\n",
        "plt.xlabel('variables names')\n",
        "plt.ylabel('missing rate')\n",
        "plt.xticks(np.arange(miss_analy.shape[0]), list(miss_analy['index']))\n",
        "plt.xticks(rotation=90)\n",
        "for x, y in enumerate(list(miss_analy.missRate.values)):\n",
        "    plt.text(x, y + 0.12, '{:.2%}'.format(y), ha='center', rotation=90)    \n",
        "\n",
        "plt.ylim([0, 1.4])  \n",
        "plt.savefig(f'./statistics/miss rate_test_stat.png')  \n",
        "plt.show()\n",
        "plt.close()"
      ],
      "metadata": {
        "colab": {
          "base_uri": "https://localhost:8080/",
          "height": 574
        },
        "id": "BVN8BclJkD1J",
        "outputId": "6c20c9b7-e303-47da-91fc-b75368307bef"
      },
      "execution_count": 272,
      "outputs": [
        {
          "output_type": "display_data",
          "data": {
            "image/png": "[encoded data removed]",
            "text/plain": [
              "<Figure size 1296x432 with 1 Axes>"
            ]
          },
          "metadata": {
            "needs_background": "light"
          }
        }
      ]
    },
    {
      "cell_type": "markdown",
      "source": [
        "# **Statistics and Data Preprocessing**"
      ],
      "metadata": {
        "id": "eYyJOoclqCFk"
      }
    },
    {
      "cell_type": "code",
      "source": [
        "result_train_total_copy = result_train_total.copy(deep=True)\n",
        "result_train_copy = result_train.copy(deep=True)\n",
        "result_train_miss_copy = result_train_miss.copy(deep=True)\n",
        "result_test_copy = result_test.copy(deep=True)\n",
        "def label_statistics(label):\n",
        "    freq = result_train_total.groupby(label).size()\n",
        "\n",
        "    names = [name for name, _ in freq.items()]\n",
        "    names.append('Nan')\n",
        "    counts = [count for _, count in freq.items()]\n",
        "    counts.append(len(result_train[label]) - sum(counts))\n",
        "\n",
        "    fig = plt.figure(figsize=(8, 6))\n",
        "    x = np.arange(len(names))\n",
        "    plt.bar(x, counts)\n",
        "    plt.xticks(x, names, rotation=15)\n",
        "    plt.title(f'Statistics of {label}')\n",
        "    plt.savefig(f'./statistics/Statistics of {label}.png')\n",
        "    print(f'Statistics of {label}.png saved')\n",
        "    plt.close()"
      ],
      "metadata": {
        "id": "ho-LNzp4g_Eb"
      },
      "execution_count": 273,
      "outputs": []
    },
    {
      "cell_type": "code",
      "source": [
        "need_statistics_col = ['Churn Category', 'Satisfaction Score', \n",
        "       'Gender', 'Under 30', 'Senior Citizen', 'Married', 'Dependents',\n",
        "       'Number of Dependents', 'Country', 'State', 'City', 'Quarter',\n",
        "       'Referred a Friend', 'Number of Referrals', 'Offer',\n",
        "       'Phone Service', 'Multiple Lines', 'Internet Service', 'Internet Type',\n",
        "       'Online Security', 'Online Backup', 'Device Protection Plan',\n",
        "       'Premium Tech Support', 'Streaming TV', 'Streaming Movies',\n",
        "       'Streaming Music', 'Unlimited Data', 'Contract', 'Paperless Billing',\n",
        "       'Payment Method', 'Zip Code']\n",
        "\n",
        "# Replace NaN with the most frequent label\n",
        "for need_col in need_statistics_col:\n",
        "    label_statistics(need_col)\n",
        "\n",
        "    # Encode target labels with value\n",
        "    le = LabelEncoder()\n",
        "    result_train_copy[need_col] = le.fit_transform(result_train_copy[need_col])\n",
        "\n",
        "    if need_col == 'Churn Category':\n",
        "        encoder_map = dict(zip(le.classes_, le.transform(le.classes_)))\n",
        "\n",
        "    result_test_copy[need_col] = le.fit_transform(result_test_copy[need_col])"
      ],
      "metadata": {
        "colab": {
          "base_uri": "https://localhost:8080/"
        },
        "id": "Pl4omt-mIGDW",
        "outputId": "a6142308-f4d2-44ca-8b46-df1404953c6e"
      },
      "execution_count": 274,
      "outputs": [
        {
          "output_type": "stream",
          "name": "stdout",
          "text": [
            "Statistics of Churn Category.png saved\n",
            "Statistics of Satisfaction Score.png saved\n",
            "Statistics of Gender.png saved\n",
            "Statistics of Under 30.png saved\n",
            "Statistics of Senior Citizen.png saved\n",
            "Statistics of Married.png saved\n",
            "Statistics of Dependents.png saved\n",
            "Statistics of Number of Dependents.png saved\n",
            "Statistics of Country.png saved\n",
            "Statistics of State.png saved\n",
            "Statistics of City.png saved\n",
            "Statistics of Quarter.png saved\n",
            "Statistics of Referred a Friend.png saved\n",
            "Statistics of Number of Referrals.png saved\n",
            "Statistics of Offer.png saved\n",
            "Statistics of Phone Service.png saved\n",
            "Statistics of Multiple Lines.png saved\n",
            "Statistics of Internet Service.png saved\n",
            "Statistics of Internet Type.png saved\n",
            "Statistics of Online Security.png saved\n",
            "Statistics of Online Backup.png saved\n",
            "Statistics of Device Protection Plan.png saved\n",
            "Statistics of Premium Tech Support.png saved\n",
            "Statistics of Streaming TV.png saved\n",
            "Statistics of Streaming Movies.png saved\n",
            "Statistics of Streaming Music.png saved\n",
            "Statistics of Unlimited Data.png saved\n",
            "Statistics of Contract.png saved\n",
            "Statistics of Paperless Billing.png saved\n",
            "Statistics of Payment Method.png saved\n",
            "Statistics of Zip Code.png saved\n"
          ]
        }
      ]
    },
    {
      "cell_type": "code",
      "source": [
        "population = pd.read_csv('./data/population.csv')\n",
        "population = population.drop('Zip Code', axis=1)\n",
        "population.rename({'ID':'Zip Code'}, axis=1, inplace=True)\n",
        "result_train_copy = pd.merge(result_train_copy, population, how='left', on='Zip Code')\n",
        "result_test_copy = pd.merge(result_test_copy, population, how='left', on='Zip Code')\n",
        "\n",
        "need_avg_col = [item for item in result_cols if item not in need_statistics_col]\n",
        "need_avg_col.append('Population')\n",
        "\n",
        "def data_imputation(dataset):\n",
        "    dataset = dataset.drop('Customer ID', axis=1)\n",
        "    dataset = dataset.drop('Lat Long', axis=1)\n",
        "\n",
        "    imputer = IterativeImputer(max_iter=10, random_state=seed)\n",
        "    dataset = imputer.fit_transform(dataset)\n",
        "\n",
        "    column_names = list(result_cols.values)\n",
        "    column_names.remove('Customer ID')\n",
        "    column_names.remove('Lat Long')\n",
        "    column_names.append('Population')\n",
        "    dataset = pd.DataFrame(dataset, columns=column_names)\n",
        "\n",
        "    print(dataset)\n",
        "\n",
        "    return dataset\n",
        "\n",
        "result_train_copy = data_imputation(result_train_copy)\n",
        "result_test_copy = data_imputation(result_test_copy)"
      ],
      "metadata": {
        "id": "hjvCj4CgJPoJ",
        "colab": {
          "base_uri": "https://localhost:8080/"
        },
        "outputId": "208b8493-cefb-4619-b3b5-bf2b43cd7255"
      },
      "execution_count": 275,
      "outputs": [
        {
          "output_type": "stream",
          "name": "stdout",
          "text": [
            "      Count_x  Quarter  ...  Churn Category  Population\n",
            "0         1.0      1.0  ...             1.0       660.0\n",
            "1         1.0      0.0  ...             1.0     37280.0\n",
            "2         1.0      0.0  ...             3.0      2899.0\n",
            "3         1.0      0.0  ...             1.0     26831.0\n",
            "4         1.0      1.0  ...             3.0       660.0\n",
            "...       ...      ...  ...             ...         ...\n",
            "4221      1.0      1.0  ...             3.0       660.0\n",
            "4222      1.0      1.0  ...             3.0       660.0\n",
            "4223      1.0      1.0  ...             3.0       660.0\n",
            "4224      1.0      1.0  ...             3.0       660.0\n",
            "4225      1.0      0.0  ...             3.0     27047.0\n",
            "\n",
            "[4226 rows x 47 columns]\n",
            "      Count_x  Quarter  ...  Churn Category  Population\n",
            "0         1.0      0.0  ...             0.0     26753.0\n",
            "1         1.0      0.0  ...             0.0     46858.0\n",
            "2         1.0      1.0  ...             0.0     23661.0\n",
            "3         1.0      0.0  ...             0.0     46858.0\n",
            "4         1.0      0.0  ...             0.0     46858.0\n",
            "...       ...      ...  ...             ...         ...\n",
            "1404      1.0      0.0  ...             0.0      1779.0\n",
            "1405      1.0      1.0  ...             0.0     43684.0\n",
            "1406      1.0      0.0  ...             0.0     46858.0\n",
            "1407      1.0      0.0  ...             0.0     46532.0\n",
            "1408      1.0      0.0  ...             0.0     38128.0\n",
            "\n",
            "[1409 rows x 47 columns]\n"
          ]
        }
      ]
    },
    {
      "cell_type": "code",
      "source": [
        "# Find the correlation of columns\n",
        "cor_matrix = result_train_copy.corr().abs()\n",
        "print(cor_matrix['Churn Category'])"
      ],
      "metadata": {
        "id": "WdnuvMdMS7_L",
        "outputId": "e5faedd0-f0fd-4fba-89e8-d9a25b516311",
        "colab": {
          "base_uri": "https://localhost:8080/"
        }
      },
      "execution_count": 276,
      "outputs": [
        {
          "output_type": "stream",
          "name": "stdout",
          "text": [
            "Count_x                                   NaN\n",
            "Quarter                              0.026687\n",
            "Referred a Friend                    0.034992\n",
            "Number of Referrals                  0.065368\n",
            "Tenure in Months                     0.193480\n",
            "Offer                                0.035282\n",
            "Phone Service                        0.004287\n",
            "Avg Monthly Long Distance Charges    0.003838\n",
            "Multiple Lines                       0.021953\n",
            "Internet Service                     0.021609\n",
            "Internet Type                        0.038484\n",
            "Avg Monthly GB Download              0.048119\n",
            "Online Security                      0.061089\n",
            "Online Backup                        0.031315\n",
            "Device Protection Plan               0.028059\n",
            "Premium Tech Support                 0.053844\n",
            "Streaming TV                         0.008534\n",
            "Streaming Movies                     0.000321\n",
            "Streaming Music                      0.015176\n",
            "Unlimited Data                       0.013768\n",
            "Contract                             0.111203\n",
            "Paperless Billing                    0.009588\n",
            "Payment Method                       0.048995\n",
            "Monthly Charge                       0.075027\n",
            "Total Charges                        0.106969\n",
            "Total Refunds                        0.021698\n",
            "Total Extra Data Charges             0.040603\n",
            "Total Long Distance Charges          0.128899\n",
            "Total Revenue                        0.123196\n",
            "Count_y                                   NaN\n",
            "Country                              0.043073\n",
            "State                                0.054701\n",
            "City                                 0.035223\n",
            "Zip Code                             0.045957\n",
            "Latitude                             0.105716\n",
            "Longitude                            0.069401\n",
            "Satisfaction Score                   0.248098\n",
            "Count                                     NaN\n",
            "Gender                               0.005451\n",
            "Age                                  0.076507\n",
            "Under 30                             0.043659\n",
            "Senior Citizen                       0.004644\n",
            "Married                              0.037126\n",
            "Dependents                           0.087645\n",
            "Number of Dependents                 0.052063\n",
            "Churn Category                       1.000000\n",
            "Population                           0.014188\n",
            "Name: Churn Category, dtype: float64\n"
          ]
        }
      ]
    },
    {
      "cell_type": "code",
      "source": [
        "useless_feature = [index for index, value in cor_matrix['Churn Category'].items() if pd.isnull(value)]\n",
        "print(useless_feature)"
      ],
      "metadata": {
        "id": "EUWHiNXdKhGP",
        "outputId": "8f4c532e-2a1b-42db-f049-0e1e7389d203",
        "colab": {
          "base_uri": "https://localhost:8080/"
        }
      },
      "execution_count": 277,
      "outputs": [
        {
          "output_type": "stream",
          "name": "stdout",
          "text": [
            "['Count_x', 'Count_y', 'Count']\n"
          ]
        }
      ]
    },
    {
      "cell_type": "code",
      "source": [
        "def dropColumns(label):\n",
        "    global result_train_copy, result_test_copy\n",
        "    result_train_copy = result_train_copy.drop(label, axis=1)\n",
        "    result_test_copy = result_test_copy.drop(label, axis=1)"
      ],
      "metadata": {
        "id": "K5quNy8vHQzb"
      },
      "execution_count": 278,
      "outputs": []
    },
    {
      "cell_type": "code",
      "source": [
        "# Throw away the data columns whose correlation to Churn Category is less than 0.55\n",
        "for item in useless_feature:\n",
        "    dropColumns(item)"
      ],
      "metadata": {
        "id": "Cis3gTDOG9Im"
      },
      "execution_count": 279,
      "outputs": []
    },
    {
      "cell_type": "code",
      "source": [
        "result_train_copy.to_csv('./data/result_after_preprocessing.csv') # Save after preprocessing result to result_after_preprocessing.csv\n",
        "feature_amount = len(result_train_copy.columns)\n",
        "\n",
        "print(result_train_copy)\n",
        "print(result_test_copy)"
      ],
      "metadata": {
        "colab": {
          "base_uri": "https://localhost:8080/"
        },
        "id": "-DsDpzq_Lgp3",
        "outputId": "ba3c6ce7-aa9e-4298-face-becf53a83a8f"
      },
      "execution_count": 280,
      "outputs": [
        {
          "output_type": "stream",
          "name": "stdout",
          "text": [
            "      Quarter  Referred a Friend  ...  Churn Category  Population\n",
            "0         1.0                2.0  ...             1.0       660.0\n",
            "1         0.0                0.0  ...             1.0     37280.0\n",
            "2         0.0                1.0  ...             3.0      2899.0\n",
            "3         0.0                0.0  ...             1.0     26831.0\n",
            "4         1.0                2.0  ...             3.0       660.0\n",
            "...       ...                ...  ...             ...         ...\n",
            "4221      1.0                2.0  ...             3.0       660.0\n",
            "4222      1.0                2.0  ...             3.0       660.0\n",
            "4223      1.0                2.0  ...             3.0       660.0\n",
            "4224      1.0                2.0  ...             3.0       660.0\n",
            "4225      0.0                1.0  ...             3.0     27047.0\n",
            "\n",
            "[4226 rows x 44 columns]\n",
            "      Quarter  Referred a Friend  ...  Churn Category  Population\n",
            "0         0.0                1.0  ...             0.0     26753.0\n",
            "1         0.0                0.0  ...             0.0     46858.0\n",
            "2         1.0                1.0  ...             0.0     23661.0\n",
            "3         0.0                1.0  ...             0.0     46858.0\n",
            "4         0.0                1.0  ...             0.0     46858.0\n",
            "...       ...                ...  ...             ...         ...\n",
            "1404      0.0                0.0  ...             0.0      1779.0\n",
            "1405      1.0                2.0  ...             0.0     43684.0\n",
            "1406      0.0                2.0  ...             0.0     46858.0\n",
            "1407      0.0                1.0  ...             0.0     46532.0\n",
            "1408      0.0                0.0  ...             0.0     38128.0\n",
            "\n",
            "[1409 rows x 44 columns]\n"
          ]
        }
      ]
    },
    {
      "cell_type": "markdown",
      "source": [
        "# **Balance Data**"
      ],
      "metadata": {
        "id": "bPTqADO2Ox2F"
      }
    },
    {
      "cell_type": "code",
      "source": [
        "y_train = result_train_copy['Churn Category'].values\n",
        "X_train = result_train_copy.drop('Churn Category', axis=1)"
      ],
      "metadata": {
        "id": "RiyIrSnaNq6F"
      },
      "execution_count": 281,
      "outputs": []
    },
    {
      "cell_type": "code",
      "source": [
        "print(f\"normal data distribution: {Counter(y_train)}\")\n",
        "\n",
        "class_weight = dict(Counter(y_train))\n",
        "\n",
        "smo = ADASYN(random_state=seed)\n",
        "X_train, y_train = smo.fit_resample(X_train, y_train)\n",
        "\n",
        "print(f\"SMOTE data distribution: {Counter(y_train)}\")"
      ],
      "metadata": {
        "id": "LmlxI28WQUG2",
        "outputId": "6dbc87f5-a8be-449e-9189-f28e84fdc96e",
        "colab": {
          "base_uri": "https://localhost:8080/"
        }
      },
      "execution_count": 282,
      "outputs": [
        {
          "output_type": "stream",
          "name": "stdout",
          "text": [
            "normal data distribution: Counter({3.0: 3118, 1.0: 490, 0.0: 201, 2.0: 177, 5.0: 124, 4.0: 116})\n",
            "SMOTE data distribution: Counter({1.0: 3168, 0.0: 3165, 2.0: 3139, 5.0: 3124, 4.0: 3120, 3.0: 3118})\n"
          ]
        }
      ]
    },
    {
      "cell_type": "markdown",
      "source": [
        "# **Split Data**"
      ],
      "metadata": {
        "id": "UXGFeitBu5sI"
      }
    },
    {
      "cell_type": "code",
      "source": [
        "sc = StandardScaler()\n",
        "ss = StandardScaler().fit(X_train)\n",
        "X_train_std = ss.transform(X_train)\n",
        "\n",
        "train_x, val_x, train_y, val_y = train_test_split(X_train_std, y_train, test_size=0.2, random_state=seed)\n",
        "\n",
        "class_weight = {k: train_x.shape[0] / v for k, v in class_weight.items()}\n",
        "class_weight = collections.OrderedDict(sorted(class_weight.items()))\n",
        "print(class_weight)"
      ],
      "metadata": {
        "id": "euCLdtvkO-nO",
        "colab": {
          "base_uri": "https://localhost:8080/"
        },
        "outputId": "680e5812-e4a0-4145-f9e6-adbe4861e5c7"
      },
      "execution_count": 283,
      "outputs": [
        {
          "output_type": "stream",
          "name": "stdout",
          "text": [
            "OrderedDict([(0.0, 74.96019900497512), (1.0, 30.748979591836736), (2.0, 85.12429378531074), (3.0, 4.832264271969211), (4.0, 129.88793103448276), (5.0, 121.50806451612904)])\n"
          ]
        }
      ]
    },
    {
      "cell_type": "markdown",
      "source": [
        "# **SVM Train**"
      ],
      "metadata": {
        "id": "3HpyuY-RQEz1"
      }
    },
    {
      "cell_type": "code",
      "source": [
        "svm = SVC(kernel='rbf', gamma=0.1, C=10, class_weight=class_weight)\n",
        "\n",
        "start_time = time.time()\n",
        "model = svm.fit(train_x, train_y)\n",
        "end_time = time.time()\n",
        "\n",
        "print(f'Training use {round(end_time - start_time, 3)}s')"
      ],
      "metadata": {
        "colab": {
          "base_uri": "https://localhost:8080/"
        },
        "id": "VXuL_lKqW_mD",
        "outputId": "37c41df6-6a34-4093-c44b-d04a54aec920"
      },
      "execution_count": 284,
      "outputs": [
        {
          "output_type": "stream",
          "name": "stdout",
          "text": [
            "Training use 14.355s\n"
          ]
        }
      ]
    },
    {
      "cell_type": "code",
      "source": [
        "y_train_predict = svm.predict(train_x)\n",
        "Ein = np.mean(np.array(y_train_predict) != train_y)\n",
        "F1in = metrics.f1_score(train_y, y_train_predict, average='macro')  \n",
        "print(f'Ein = {round(Ein, 5)}')\n",
        "print(f'F1_in = {round(F1in, 5)}')\n",
        "\n",
        "y_val_predict = svm.predict(val_x)\n",
        "Eval = np.mean(np.array(y_val_predict) != val_y)\n",
        "F1val = metrics.f1_score(val_y, y_val_predict, average='macro')  \n",
        "print(f'Eval = {round(Eval, 5)}')\n",
        "print(f'F1_val = {round(F1val, 5)}')"
      ],
      "metadata": {
        "colab": {
          "base_uri": "https://localhost:8080/"
        },
        "id": "WivcNevbY1lB",
        "outputId": "207d97b9-7776-4d3a-c690-b7976ce285cc"
      },
      "execution_count": 285,
      "outputs": [
        {
          "output_type": "stream",
          "name": "stdout",
          "text": [
            "Ein = 0.0\n",
            "F1_in = 1.0\n",
            "Eval = 0.00531\n",
            "F1_val = 0.99475\n"
          ]
        }
      ]
    },
    {
      "cell_type": "code",
      "source": [
        "plot_confusion_matrix(model, train_x, train_y)\n",
        "plot_confusion_matrix(model, val_x, val_y)\n",
        "print(encoder_map)"
      ],
      "metadata": {
        "id": "yWM9fKw1MLr1",
        "outputId": "35c97fba-d693-4e2e-9b6c-aee6bfca23e5",
        "colab": {
          "base_uri": "https://localhost:8080/",
          "height": 650
        }
      },
      "execution_count": 286,
      "outputs": [
        {
          "output_type": "stream",
          "name": "stderr",
          "text": [
            "/usr/local/lib/python3.7/dist-packages/sklearn/utils/deprecation.py:87: FutureWarning: Function plot_confusion_matrix is deprecated; Function `plot_confusion_matrix` is deprecated in 1.0 and will be removed in 1.2. Use one of the class methods: ConfusionMatrixDisplay.from_predictions or ConfusionMatrixDisplay.from_estimator.\n",
            "  warnings.warn(msg, category=FutureWarning)\n",
            "/usr/local/lib/python3.7/dist-packages/sklearn/utils/deprecation.py:87: FutureWarning: Function plot_confusion_matrix is deprecated; Function `plot_confusion_matrix` is deprecated in 1.0 and will be removed in 1.2. Use one of the class methods: ConfusionMatrixDisplay.from_predictions or ConfusionMatrixDisplay.from_estimator.\n",
            "  warnings.warn(msg, category=FutureWarning)\n"
          ]
        },
        {
          "output_type": "stream",
          "name": "stdout",
          "text": [
            "{'Attitude': 0, 'Competitor': 1, 'Dissatisfaction': 2, 'No Churn': 3, 'Other': 4, 'Price': 5}\n"
          ]
        },
        {
          "output_type": "display_data",
          "data": {
            "image/png": "[encoded data removed]",
            "text/plain": [
              "<Figure size 432x288 with 2 Axes>"
            ]
          },
          "metadata": {
            "needs_background": "light"
          }
        },
        {
          "output_type": "display_data",
          "data": {
            "image/png": "[encoded data removed]",
            "text/plain": [
              "<Figure size 432x288 with 2 Axes>"
            ]
          },
          "metadata": {
            "needs_background": "light"
          }
        }
      ]
    },
    {
      "cell_type": "code",
      "source": [
        "print(classification_report(train_y, y_train_predict))\n",
        "print(classification_report(val_y, y_val_predict))"
      ],
      "metadata": {
        "id": "LMiWePsbSW4Y",
        "outputId": "3147f403-da56-440f-9034-c274bc79bcbc",
        "colab": {
          "base_uri": "https://localhost:8080/"
        }
      },
      "execution_count": 287,
      "outputs": [
        {
          "output_type": "stream",
          "name": "stdout",
          "text": [
            "              precision    recall  f1-score   support\n",
            "\n",
            "         0.0       1.00      1.00      1.00      2530\n",
            "         1.0       1.00      1.00      1.00      2513\n",
            "         2.0       1.00      1.00      1.00      2511\n",
            "         3.0       1.00      1.00      1.00      2506\n",
            "         4.0       1.00      1.00      1.00      2498\n",
            "         5.0       1.00      1.00      1.00      2509\n",
            "\n",
            "    accuracy                           1.00     15067\n",
            "   macro avg       1.00      1.00      1.00     15067\n",
            "weighted avg       1.00      1.00      1.00     15067\n",
            "\n",
            "              precision    recall  f1-score   support\n",
            "\n",
            "         0.0       0.99      1.00      0.99       635\n",
            "         1.0       0.99      0.98      0.99       655\n",
            "         2.0       1.00      1.00      1.00       628\n",
            "         3.0       0.99      0.99      0.99       612\n",
            "         4.0       1.00      1.00      1.00       622\n",
            "         5.0       1.00      1.00      1.00       615\n",
            "\n",
            "    accuracy                           0.99      3767\n",
            "   macro avg       0.99      0.99      0.99      3767\n",
            "weighted avg       0.99      0.99      0.99      3767\n",
            "\n"
          ]
        }
      ]
    },
    {
      "cell_type": "markdown",
      "source": [
        "# **SVM Test**"
      ],
      "metadata": {
        "id": "ViqMiLyMavbf"
      }
    },
    {
      "cell_type": "code",
      "source": [
        "X_test = result_test_copy.drop('Churn Category', axis=1)\n",
        "ss = StandardScaler().fit(X_test)\n",
        "X_test_std = ss.transform(X_test)\n",
        "y_test = svm.predict(X_test_std)"
      ],
      "metadata": {
        "id": "dxd93_hUauU5"
      },
      "execution_count": 288,
      "outputs": []
    },
    {
      "cell_type": "code",
      "source": [
        "plot_confusion_matrix(model, X_test_std, y_test)\n",
        "print(encoder_map)"
      ],
      "metadata": {
        "id": "098w16TfMkqn",
        "colab": {
          "base_uri": "https://localhost:8080/",
          "height": 351
        },
        "outputId": "fea2bfc0-66e9-4609-cd8b-a86ec74d6f4b"
      },
      "execution_count": 289,
      "outputs": [
        {
          "output_type": "stream",
          "name": "stderr",
          "text": [
            "/usr/local/lib/python3.7/dist-packages/sklearn/utils/deprecation.py:87: FutureWarning: Function plot_confusion_matrix is deprecated; Function `plot_confusion_matrix` is deprecated in 1.0 and will be removed in 1.2. Use one of the class methods: ConfusionMatrixDisplay.from_predictions or ConfusionMatrixDisplay.from_estimator.\n",
            "  warnings.warn(msg, category=FutureWarning)\n"
          ]
        },
        {
          "output_type": "stream",
          "name": "stdout",
          "text": [
            "{'Attitude': 0, 'Competitor': 1, 'Dissatisfaction': 2, 'No Churn': 3, 'Other': 4, 'Price': 5}\n"
          ]
        },
        {
          "output_type": "display_data",
          "data": {
            "image/png": "[encoded data removed]",
            "text/plain": [
              "<Figure size 432x288 with 2 Axes>"
            ]
          },
          "metadata": {
            "needs_background": "light"
          }
        }
      ]
    },
    {
      "cell_type": "code",
      "source": [
        "submit_result = './svm_result.csv'\n",
        "\n",
        "new_encoder_map = {'No Churn':0, 'Competitor': 1, 'Dissatisfaction':2, 'Attitude': 3, 'Price':4, 'Other':5}\n",
        "\n",
        "with open(submit_result, 'w') as f:\n",
        "    f.write('Customer ID,Churn Category\\n')\n",
        "    for i in range(len(df_test.values)):\n",
        "        id = str(df_test.values[i]).replace('[\\'', '')\n",
        "        id = id.replace('\\']', '')\n",
        "        pred = new_encoder_map.get(list(encoder_map.keys())[list(encoder_map.values()).index(y_test[i])])\n",
        "        f.write(f'{id},{pred}\\n')"
      ],
      "metadata": {
        "id": "6N35sOjrcpNd"
      },
      "execution_count": 290,
      "outputs": []
    },
    {
      "cell_type": "code",
      "source": [
        "from google.colab import files\n",
        "\n",
        "files.download(submit_result)"
      ],
      "metadata": {
        "id": "0tLUThI7nWnj",
        "colab": {
          "base_uri": "https://localhost:8080/",
          "height": 17
        },
        "outputId": "97a28356-3d12-4270-9aa2-c80d62875419"
      },
      "execution_count": 291,
      "outputs": [
        {
          "output_type": "display_data",
          "data": {
            "application/javascript": [
              "\n",
              "    async function download(id, filename, size) {\n",
              "      if (!google.colab.kernel.accessAllowed) {\n",
              "        return;\n",
              "      }\n",
              "      const div = document.createElement('div');\n",
              "      const label = document.createElement('label');\n",
              "      label.textContent = `Downloading \"${filename}\": `;\n",
              "      div.appendChild(label);\n",
              "      const progress = document.createElement('progress');\n",
              "      progress.max = size;\n",
              "      div.appendChild(progress);\n",
              "      document.body.appendChild(div);\n",
              "\n",
              "      const buffers = [];\n",
              "      let downloaded = 0;\n",
              "\n",
              "      const channel = await google.colab.kernel.comms.open(id);\n",
              "      // Send a message to notify the kernel that we're ready.\n",
              "      channel.send({})\n",
              "\n",
              "      for await (const message of channel.messages) {\n",
              "        // Send a message to notify the kernel that we're ready.\n",
              "        channel.send({})\n",
              "        if (message.buffers) {\n",
              "          for (const buffer of message.buffers) {\n",
              "            buffers.push(buffer);\n",
              "            downloaded += buffer.byteLength;\n",
              "            progress.value = downloaded;\n",
              "          }\n",
              "        }\n",
              "      }\n",
              "      const blob = new Blob(buffers, {type: 'application/binary'});\n",
              "      const a = document.createElement('a');\n",
              "      a.href = window.URL.createObjectURL(blob);\n",
              "      a.download = filename;\n",
              "      div.appendChild(a);\n",
              "      a.click();\n",
              "      div.remove();\n",
              "    }\n",
              "  "
            ],
            "text/plain": [
              "<IPython.core.display.Javascript object>"
            ]
          },
          "metadata": {}
        },
        {
          "output_type": "display_data",
          "data": {
            "application/javascript": [
              "download(\"download_6fe0f776-e646-4471-ae79-50da69e6c17c\", \"svm_result.csv\", 18344)"
            ],
            "text/plain": [
              "<IPython.core.display.Javascript object>"
            ]
          },
          "metadata": {}
        }
      ]
    },
    {
      "cell_type": "markdown",
      "source": [
        "# **Deep Neural Network Train**"
      ],
      "metadata": {
        "id": "ZFjmDSVGQPwo"
      }
    },
    {
      "cell_type": "code",
      "source": [
        "class IBMDataset(Dataset):\n",
        "    def __init__(self, X, y=None):\n",
        "        self.data = torch.from_numpy(X).float()\n",
        "        if y is not None:\n",
        "            y = y.astype(np.int)\n",
        "            self.label = torch.LongTensor(y)\n",
        "        else:\n",
        "            self.label = None\n",
        "\n",
        "    def __getitem__(self, idx):\n",
        "        if self.label is not None:\n",
        "            return self.data[idx], self.label[idx]\n",
        "        else:\n",
        "            return self.data[idx]\n",
        "\n",
        "    def __len__(self):\n",
        "        return len(self.data)"
      ],
      "metadata": {
        "id": "G5F9W_RkSub3"
      },
      "execution_count": 292,
      "outputs": []
    },
    {
      "cell_type": "code",
      "source": [
        "class Classifier(nn.Module):\n",
        "    def __init__(self):\n",
        "        super(Classifier, self).__init__()\n",
        "        self.layer1 = nn.Linear(feature_amount - 1, 512)\n",
        "        self.layer2 = nn.Linear(512, 256)\n",
        "        self.layer3 = nn.Linear(256, 128)\n",
        "        self.bn1 = nn.BatchNorm1d(512)\n",
        "        self.bn2 = nn.BatchNorm1d(256)\n",
        "        self.bn3 = nn.BatchNorm1d(128)\n",
        "        self.out = nn.Linear(128, 6)\n",
        "        self.dp = nn.Dropout(0.2)\n",
        "        self.act_fn = nn.LeakyReLU()\n",
        "\n",
        "    def forward(self, x):\n",
        "        x = self.layer1(x)\n",
        "        x = self.act_fn(x)\n",
        "        x = self.bn1(x)\n",
        "        x = self.dp(x)\n",
        "\n",
        "        x = self.layer2(x)\n",
        "        x = self.act_fn(x)\n",
        "        x = self.bn2(x)\n",
        "        x = self.dp(x)\n",
        "\n",
        "        x = self.layer3(x)\n",
        "        x = self.act_fn(x)\n",
        "        x = self.bn3(x)\n",
        "        x = self.dp(x)\n",
        "        \n",
        "        x = self.out(x)\n",
        "        \n",
        "        return x\n",
        "\n",
        "# classifier = Classifier()\n",
        "# summary(classifier, X_train.shape, device=\"cpu\")"
      ],
      "metadata": {
        "id": "K_ofbzUUQdOX"
      },
      "execution_count": 293,
      "outputs": []
    },
    {
      "cell_type": "code",
      "source": [
        "def get_pseudo_labels(dataset, model, threshold=0.65):\n",
        "    device = \"cuda\" if torch.cuda.is_available() else \"cpu\"\n",
        "\n",
        "    data_loader = DataLoader(dataset, batch_size=batch_size, shuffle=False)\n",
        "\n",
        "    model.eval()\n",
        "    softmax = nn.Softmax(dim=-1)\n",
        "\n",
        "    resIndice = []\n",
        "    cntI = 0\n",
        "    for i, data in enumerate(data_loader):\n",
        "        inputs, labels = data\n",
        "\n",
        "        wi\n",
        "        inputs, labels = inputs.to(device), labels.to(device)\n",
        "\n",
        "        with torch.no_grad():\n",
        "            logits = model(img.to(device))\n",
        "\n",
        "        probs = softmax(logits)\n",
        "        isGTthreshold = torch.gt(torch.max(probs, 1).values, threshold)\n",
        "        for cntJ in range(isGTthreshold.shape[0]):\n",
        "            if isGTthreshold[cntJ]:\n",
        "                index = cntI*batch_size + cntJ\n",
        "                dataset.samples[index] = (dataset.samples[index][0], torch.max(probs, 1).indices[cntJ].item())\n",
        "                resIndice.append(index)\n",
        "    \n",
        "        cntI = cntI + 1\n",
        "\n",
        "    model.train()\n",
        "    pseudo_dataset = torch.utils.data.Subset(dataset, resIndice)\n",
        "    return pseudo_dataset"
      ],
      "metadata": {
        "id": "Qh3PCk2FdEkf"
      },
      "execution_count": 294,
      "outputs": []
    },
    {
      "cell_type": "code",
      "source": [
        "VAL_RATIO = 0.2\n",
        "BATCH_SIZE = 64\n",
        "\n",
        "sc = StandardScaler()\n",
        "ss = StandardScaler().fit(X_train)\n",
        "X_train_std = ss.transform(X_train)\n",
        "\n",
        "percent = int(X_train_std.shape[0] * (1 - VAL_RATIO))\n",
        "train_x, train_y, val_x, val_y = X_train_std[:percent], y_train[:percent], X_train_std[percent:], y_train[percent:]\n",
        "print('Size of training set: {}'.format(train_x.shape))\n",
        "print('Size of validation set: {}'.format(val_x.shape))"
      ],
      "metadata": {
        "id": "3lDEMsTdTVd3",
        "outputId": "d51ee37e-6fe8-4f0e-c65f-1c2eb03e8756",
        "colab": {
          "base_uri": "https://localhost:8080/"
        }
      },
      "execution_count": 295,
      "outputs": [
        {
          "output_type": "stream",
          "name": "stdout",
          "text": [
            "Size of training set: (15067, 43)\n",
            "Size of validation set: (3767, 43)\n"
          ]
        }
      ]
    },
    {
      "cell_type": "code",
      "source": [
        "train_set = IBMDataset(train_x, train_y)\n",
        "val_set = IBMDataset(val_x, val_y)\n",
        "train_loader = DataLoader(train_set, batch_size=BATCH_SIZE, shuffle=True) # only shuffle the training data\n",
        "val_loader = DataLoader(val_set, batch_size=BATCH_SIZE, shuffle=False)"
      ],
      "metadata": {
        "id": "RaPDAgDzTcrs"
      },
      "execution_count": 296,
      "outputs": []
    },
    {
      "cell_type": "code",
      "source": [
        "# get device \n",
        "device = 'cuda' if torch.cuda.is_available() else 'cpu'\n",
        "print(f'DEVICE: {device}')\n",
        "\n",
        "# training parameters\n",
        "num_epoch = 3000             # number of training epoch\n",
        "learning_rate = 0.001       # learning rate\n",
        "callback_num = 400\n",
        "\n",
        "# the path where checkpoint saved\n",
        "model_path = './best_model.ckpt'\n",
        "\n",
        "# create model, define a loss function, and optimizer\n",
        "model = Classifier().to(device)\n",
        "class_weight = [v for k, v in class_weight.items()]\n",
        "criterion = nn.CrossEntropyLoss(weight=torch.FloatTensor(class_weight).to(device)) \n",
        "optimizer = torch.optim.Adam(model.parameters(), weight_decay=5e-4, lr=learning_rate)\n",
        "scheduler = StepLR(optimizer, step_size=len(train_loader) * 400, gamma=0.1)"
      ],
      "metadata": {
        "id": "CMbU0r5fRwai",
        "outputId": "6eff49e9-6ad8-4977-d80d-07031750a29b",
        "colab": {
          "base_uri": "https://localhost:8080/"
        }
      },
      "execution_count": 297,
      "outputs": [
        {
          "output_type": "stream",
          "name": "stdout",
          "text": [
            "DEVICE: cuda\n"
          ]
        }
      ]
    },
    {
      "cell_type": "code",
      "source": [
        "best_acc = 0.0\n",
        "count = 0\n",
        "start_time = time.time()\n",
        "train_acc_list = []\n",
        "train_loss_list = []\n",
        "val_acc_list = []\n",
        "val_loss_list = []\n",
        "for epoch in range(num_epoch):\n",
        "    train_acc = 0.0\n",
        "    train_loss = 0.0\n",
        "    val_acc = 0.0\n",
        "    val_loss = 0.0\n",
        "\n",
        "    # training\n",
        "    model.train() # set the model to training mode\n",
        "    for i, data in enumerate(train_loader):\n",
        "        inputs, labels = data\n",
        "        inputs, labels = inputs.to(device), labels.to(device)\n",
        "        optimizer.zero_grad() \n",
        "        outputs = model(inputs) \n",
        "        batch_loss = criterion(outputs, labels)\n",
        "        _, train_pred = torch.max(outputs, 1) # get the index of the class with the highest probability\n",
        "        batch_loss.backward() \n",
        "        optimizer.step()\n",
        "        scheduler.step()\n",
        "\n",
        "        train_acc += (train_pred.cpu() == labels.cpu()).sum().item()\n",
        "        train_loss += batch_loss.item()\n",
        "\n",
        "    # validation\n",
        "    if len(val_set) > 0:\n",
        "        model.eval() # set the model to evaluation mode\n",
        "        with torch.no_grad():\n",
        "            for i, data in enumerate(val_loader):\n",
        "                inputs, labels = data\n",
        "                inputs, labels = inputs.to(device), labels.to(device)\n",
        "                outputs = model(inputs)\n",
        "                batch_loss = criterion(outputs, labels) \n",
        "                _, val_pred = torch.max(outputs, 1) \n",
        "            \n",
        "                val_acc += (val_pred.cpu() == labels.cpu()).sum().item() # get the index of the class with the highest probability\n",
        "                val_loss += batch_loss.item()\n",
        "\n",
        "            print('[{:03d}/{:03d}] Train Acc: {:3.6f} Loss: {:3.6f} | Val Acc: {:3.6f} loss: {:3.6f}'.format(\n",
        "                epoch + 1, num_epoch, train_acc/len(train_set), train_loss/len(train_loader), val_acc/len(val_set), val_loss/len(val_loader)\n",
        "            ))\n",
        "\n",
        "            # Record Training and validation info\n",
        "            train_acc_list.append(train_acc/len(train_set))\n",
        "            train_loss_list.append(train_loss/len(train_loader))\n",
        "            val_acc_list.append(val_acc/len(val_set))\n",
        "            val_loss_list.append(val_loss/len(val_loader))\n",
        "\n",
        "            # if the model improves, save a checkpoint at this epoch\n",
        "            count += 1\n",
        "            if val_acc > best_acc:\n",
        "                count = 0\n",
        "                best_acc = val_acc\n",
        "                torch.save(model.state_dict(), model_path)\n",
        "                print('saving model with acc {:.3f}'.format(best_acc/len(val_set)))\n",
        "    else:\n",
        "        print('[{:03d}/{:03d}] Train Acc: {:3.6f} Loss: {:3.6f}'.format(\n",
        "            epoch + 1, num_epoch, train_acc/len(train_set), train_loss/len(train_loader)\n",
        "        ))\n",
        "\n",
        "    if count > callback_num:\n",
        "        break\n",
        "\n",
        "# if not validating, save the last epoch\n",
        "if len(val_set) == 0:\n",
        "    torch.save(model.state_dict(), model_path)\n",
        "    print('saving model at last epoch')\n",
        "\n",
        "end_time = time.time()"
      ],
      "metadata": {
        "id": "zYGRiadPSNDo",
        "outputId": "a48c8545-32d3-4baa-d90b-885583794e78",
        "colab": {
          "base_uri": "https://localhost:8080/"
        }
      },
      "execution_count": 298,
      "outputs": [
        {
          "output_type": "stream",
          "name": "stdout",
          "text": [
            "[001/3000] Train Acc: 0.533218 Loss: 0.902576 | Val Acc: 0.202814 loss: 2.750416\n",
            "saving model with acc 0.203\n",
            "[002/3000] Train Acc: 0.683945 Loss: 0.422800 | Val Acc: 0.230157 loss: 2.501297\n",
            "saving model with acc 0.230\n",
            "[003/3000] Train Acc: 0.735050 Loss: 0.306176 | Val Acc: 0.279533 loss: 2.298515\n",
            "saving model with acc 0.280\n",
            "[004/3000] Train Acc: 0.772616 Loss: 0.242483 | Val Acc: 0.316698 loss: 1.908680\n",
            "saving model with acc 0.317\n",
            "[005/3000] Train Acc: 0.792991 Loss: 0.203227 | Val Acc: 0.425803 loss: 1.687097\n",
            "saving model with acc 0.426\n",
            "[006/3000] Train Acc: 0.812040 Loss: 0.180404 | Val Acc: 0.412795 loss: 1.914216\n",
            "[007/3000] Train Acc: 0.826774 Loss: 0.161925 | Val Acc: 0.461906 loss: 1.650376\n",
            "saving model with acc 0.462\n",
            "[008/3000] Train Acc: 0.827039 Loss: 0.167946 | Val Acc: 0.443324 loss: 1.690688\n",
            "[009/3000] Train Acc: 0.832282 Loss: 0.148989 | Val Acc: 0.501991 loss: 1.438587\n",
            "saving model with acc 0.502\n",
            "[010/3000] Train Acc: 0.850269 Loss: 0.130812 | Val Acc: 0.577383 loss: 1.360310\n",
            "saving model with acc 0.577\n",
            "[011/3000] Train Acc: 0.852990 Loss: 0.127659 | Val Acc: 0.639501 loss: 1.094414\n",
            "saving model with acc 0.640\n",
            "[012/3000] Train Acc: 0.863145 Loss: 0.122884 | Val Acc: 0.585612 loss: 1.282377\n",
            "[013/3000] Train Acc: 0.874693 Loss: 0.110281 | Val Acc: 0.605787 loss: 1.290298\n",
            "[014/3000] Train Acc: 0.858963 Loss: 0.131336 | Val Acc: 0.657287 loss: 1.073726\n",
            "saving model with acc 0.657\n",
            "[015/3000] Train Acc: 0.877215 Loss: 0.113006 | Val Acc: 0.661269 loss: 0.993644\n",
            "saving model with acc 0.661\n",
            "[016/3000] Train Acc: 0.877215 Loss: 0.106650 | Val Acc: 0.628617 loss: 1.209694\n",
            "[017/3000] Train Acc: 0.888830 Loss: 0.090003 | Val Acc: 0.664454 loss: 1.060482\n",
            "saving model with acc 0.664\n",
            "[018/3000] Train Acc: 0.867923 Loss: 0.126669 | Val Acc: 0.634192 loss: 1.164511\n",
            "[019/3000] Train Acc: 0.873764 Loss: 0.116182 | Val Acc: 0.584550 loss: 1.329466\n",
            "[020/3000] Train Acc: 0.893874 Loss: 0.092021 | Val Acc: 0.671357 loss: 1.051118\n",
            "saving model with acc 0.671\n",
            "[021/3000] Train Acc: 0.897458 Loss: 0.089492 | Val Acc: 0.667640 loss: 1.154104\n",
            "[022/3000] Train Acc: 0.893808 Loss: 0.095410 | Val Acc: 0.606849 loss: 1.433789\n",
            "[023/3000] Train Acc: 0.895467 Loss: 0.094043 | Val Acc: 0.710645 loss: 0.866046\n",
            "saving model with acc 0.711\n",
            "[024/3000] Train Acc: 0.887370 Loss: 0.098828 | Val Acc: 0.689939 loss: 1.110915\n",
            "[025/3000] Train Acc: 0.897458 Loss: 0.087034 | Val Acc: 0.691532 loss: 0.999114\n",
            "[026/3000] Train Acc: 0.893542 Loss: 0.090743 | Val Acc: 0.636846 loss: 1.233559\n",
            "[027/3000] Train Acc: 0.903498 Loss: 0.081473 | Val Acc: 0.629413 loss: 1.286251\n",
            "[028/3000] Train Acc: 0.892679 Loss: 0.100224 | Val Acc: 0.691001 loss: 0.944937\n",
            "[029/3000] Train Acc: 0.897856 Loss: 0.092001 | Val Acc: 0.713565 loss: 0.950898\n",
            "saving model with acc 0.714\n",
            "[030/3000] Train Acc: 0.900246 Loss: 0.086837 | Val Acc: 0.691797 loss: 1.052080\n",
            "[031/3000] Train Acc: 0.893940 Loss: 0.099156 | Val Acc: 0.703478 loss: 0.990338\n",
            "[032/3000] Train Acc: 0.908542 Loss: 0.078080 | Val Acc: 0.676931 loss: 1.044143\n",
            "[033/3000] Train Acc: 0.911927 Loss: 0.082192 | Val Acc: 0.681444 loss: 1.120618\n",
            "[034/3000] Train Acc: 0.912259 Loss: 0.076463 | Val Acc: 0.693921 loss: 0.994259\n",
            "[035/3000] Train Acc: 0.914382 Loss: 0.074181 | Val Acc: 0.629679 loss: 1.278681\n",
            "[036/3000] Train Acc: 0.901971 Loss: 0.087773 | Val Acc: 0.699230 loss: 1.040333\n",
            "[037/3000] Train Acc: 0.905688 Loss: 0.086882 | Val Acc: 0.630210 loss: 1.358149\n",
            "[038/3000] Train Acc: 0.899781 Loss: 0.088253 | Val Acc: 0.762145 loss: 0.781165\n",
            "saving model with acc 0.762\n",
            "[039/3000] Train Acc: 0.918962 Loss: 0.068430 | Val Acc: 0.662065 loss: 1.230413\n",
            "[040/3000] Train Acc: 0.912391 Loss: 0.084913 | Val Acc: 0.706929 loss: 0.950111\n",
            "[041/3000] Train Acc: 0.903232 Loss: 0.083912 | Val Acc: 0.698965 loss: 0.993589\n",
            "[042/3000] Train Acc: 0.906551 Loss: 0.084501 | Val Acc: 0.737722 loss: 0.806764\n",
            "[043/3000] Train Acc: 0.914781 Loss: 0.075567 | Val Acc: 0.702150 loss: 0.996655\n",
            "[044/3000] Train Acc: 0.906750 Loss: 0.085809 | Val Acc: 0.739315 loss: 0.780829\n",
            "[045/3000] Train Acc: 0.914714 Loss: 0.074213 | Val Acc: 0.774091 loss: 0.729467\n",
            "saving model with acc 0.774\n",
            "[046/3000] Train Acc: 0.907015 Loss: 0.083049 | Val Acc: 0.632864 loss: 1.195271\n",
            "[047/3000] Train Acc: 0.902303 Loss: 0.089040 | Val Acc: 0.624635 loss: 1.287212\n",
            "[048/3000] Train Acc: 0.913586 Loss: 0.073252 | Val Acc: 0.760552 loss: 0.714402\n",
            "[049/3000] Train Acc: 0.916772 Loss: 0.077014 | Val Acc: 0.662862 loss: 1.124186\n",
            "[050/3000] Train Acc: 0.905422 Loss: 0.087959 | Val Acc: 0.711441 loss: 0.899472\n",
            "[051/3000] Train Acc: 0.907082 Loss: 0.086087 | Val Acc: 0.694717 loss: 0.926790\n",
            "[052/3000] Train Acc: 0.916573 Loss: 0.070878 | Val Acc: 0.693921 loss: 1.100353\n",
            "[053/3000] Train Acc: 0.909338 Loss: 0.079448 | Val Acc: 0.711176 loss: 1.031070\n",
            "[054/3000] Train Acc: 0.919161 Loss: 0.066242 | Val Acc: 0.742766 loss: 0.884885\n",
            "[055/3000] Train Acc: 0.912524 Loss: 0.073267 | Val Acc: 0.731882 loss: 0.862492\n",
            "[056/3000] Train Acc: 0.917568 Loss: 0.076437 | Val Acc: 0.684099 loss: 1.024895\n",
            "[057/3000] Train Acc: 0.909206 Loss: 0.083416 | Val Acc: 0.723387 loss: 0.944849\n",
            "[058/3000] Train Acc: 0.914648 Loss: 0.070940 | Val Acc: 0.795593 loss: 0.654322\n",
            "saving model with acc 0.796\n",
            "[059/3000] Train Acc: 0.921019 Loss: 0.073012 | Val Acc: 0.675869 loss: 1.019572\n",
            "[060/3000] Train Acc: 0.908210 Loss: 0.087875 | Val Acc: 0.663127 loss: 1.114206\n",
            "[061/3000] Train Acc: 0.913188 Loss: 0.079102 | Val Acc: 0.781258 loss: 0.710237\n",
            "[062/3000] Train Acc: 0.914051 Loss: 0.072176 | Val Acc: 0.727104 loss: 0.914531\n",
            "[063/3000] Train Acc: 0.921418 Loss: 0.071294 | Val Acc: 0.693125 loss: 0.981477\n",
            "[064/3000] Train Acc: 0.910201 Loss: 0.083112 | Val Acc: 0.680382 loss: 1.042138\n",
            "[065/3000] Train Acc: 0.914117 Loss: 0.081437 | Val Acc: 0.705070 loss: 1.042770\n",
            "[066/3000] Train Acc: 0.917966 Loss: 0.075900 | Val Acc: 0.648792 loss: 1.105722\n",
            "[067/3000] Train Acc: 0.921750 Loss: 0.075838 | Val Acc: 0.788426 loss: 0.713205\n",
            "[068/3000] Train Acc: 0.915843 Loss: 0.075932 | Val Acc: 0.682506 loss: 1.133159\n",
            "[069/3000] Train Acc: 0.914582 Loss: 0.076829 | Val Acc: 0.715423 loss: 0.887794\n",
            "[070/3000] Train Acc: 0.914714 Loss: 0.073819 | Val Acc: 0.733475 loss: 0.862204\n",
            "[071/3000] Train Acc: 0.918365 Loss: 0.071994 | Val Acc: 0.729493 loss: 0.863260\n",
            "[072/3000] Train Acc: 0.918298 Loss: 0.073572 | Val Acc: 0.697106 loss: 1.042059\n",
            "[073/3000] Train Acc: 0.923741 Loss: 0.066947 | Val Acc: 0.685161 loss: 1.185606\n",
            "[074/3000] Train Acc: 0.925267 Loss: 0.072934 | Val Acc: 0.658614 loss: 1.116769\n",
            "[075/3000] Train Acc: 0.904294 Loss: 0.088139 | Val Acc: 0.654101 loss: 1.354199\n",
            "[076/3000] Train Acc: 0.918696 Loss: 0.069987 | Val Acc: 0.681975 loss: 1.135473\n",
            "[077/3000] Train Acc: 0.916506 Loss: 0.072133 | Val Acc: 0.769843 loss: 0.666553\n",
            "[078/3000] Train Acc: 0.924670 Loss: 0.070784 | Val Acc: 0.668436 loss: 1.042153\n",
            "[079/3000] Train Acc: 0.921285 Loss: 0.068985 | Val Acc: 0.722325 loss: 0.860025\n",
            "[080/3000] Train Acc: 0.914781 Loss: 0.080243 | Val Acc: 0.655163 loss: 1.115530\n",
            "[081/3000] Train Acc: 0.920356 Loss: 0.071886 | Val Acc: 0.726838 loss: 0.818879\n",
            "[082/3000] Train Acc: 0.919095 Loss: 0.070151 | Val Acc: 0.728962 loss: 0.847268\n",
            "[083/3000] Train Acc: 0.917170 Loss: 0.068988 | Val Acc: 0.660473 loss: 1.097522\n",
            "[084/3000] Train Acc: 0.932037 Loss: 0.058666 | Val Acc: 0.759490 loss: 0.875191\n",
            "[085/3000] Train Acc: 0.915312 Loss: 0.086966 | Val Acc: 0.723918 loss: 0.878406\n",
            "[086/3000] Train Acc: 0.920289 Loss: 0.073292 | Val Acc: 0.672153 loss: 1.119346\n",
            "[087/3000] Train Acc: 0.919095 Loss: 0.073336 | Val Acc: 0.651447 loss: 1.318437\n",
            "[088/3000] Train Acc: 0.922015 Loss: 0.065891 | Val Acc: 0.779400 loss: 0.691148\n",
            "[089/3000] Train Acc: 0.933696 Loss: 0.058221 | Val Acc: 0.702947 loss: 0.909530\n",
            "[090/3000] Train Acc: 0.926130 Loss: 0.066889 | Val Acc: 0.704805 loss: 0.951927\n",
            "[091/3000] Train Acc: 0.909869 Loss: 0.079849 | Val Acc: 0.690204 loss: 0.973156\n",
            "[092/3000] Train Acc: 0.932501 Loss: 0.061388 | Val Acc: 0.750730 loss: 0.815707\n",
            "[093/3000] Train Acc: 0.931971 Loss: 0.063724 | Val Acc: 0.715689 loss: 0.934539\n",
            "[094/3000] Train Acc: 0.922413 Loss: 0.072589 | Val Acc: 0.719936 loss: 0.967705\n",
            "[095/3000] Train Acc: 0.920820 Loss: 0.074414 | Val Acc: 0.677462 loss: 1.025906\n",
            "[096/3000] Train Acc: 0.908409 Loss: 0.082126 | Val Acc: 0.715689 loss: 0.859744\n",
            "[097/3000] Train Acc: 0.920223 Loss: 0.068721 | Val Acc: 0.708521 loss: 0.959305\n",
            "[098/3000] Train Acc: 0.932966 Loss: 0.061141 | Val Acc: 0.739581 loss: 0.765824\n",
            "[099/3000] Train Acc: 0.927922 Loss: 0.066158 | Val Acc: 0.793204 loss: 0.678579\n",
            "[100/3000] Train Acc: 0.918365 Loss: 0.074304 | Val Acc: 0.750995 loss: 0.769741\n",
            "[101/3000] Train Acc: 0.912524 Loss: 0.076194 | Val Acc: 0.780993 loss: 0.656890\n",
            "[102/3000] Train Acc: 0.931639 Loss: 0.060248 | Val Acc: 0.792673 loss: 0.629675\n",
            "[103/3000] Train Acc: 0.931506 Loss: 0.062091 | Val Acc: 0.700027 loss: 0.980325\n",
            "[104/3000] Train Acc: 0.930378 Loss: 0.064770 | Val Acc: 0.710911 loss: 0.992132\n",
            "[105/3000] Train Acc: 0.927988 Loss: 0.066424 | Val Acc: 0.766658 loss: 0.717190\n",
            "[106/3000] Train Acc: 0.925931 Loss: 0.067320 | Val Acc: 0.710114 loss: 0.945478\n",
            "[107/3000] Train Acc: 0.918962 Loss: 0.071182 | Val Acc: 0.716485 loss: 0.846440\n",
            "[108/3000] Train Acc: 0.922546 Loss: 0.069602 | Val Acc: 0.655694 loss: 1.111455\n",
            "[109/3000] Train Acc: 0.916108 Loss: 0.076556 | Val Acc: 0.789753 loss: 0.660130\n",
            "[110/3000] Train Acc: 0.925267 Loss: 0.067515 | Val Acc: 0.740642 loss: 0.808083\n",
            "[111/3000] Train Acc: 0.923342 Loss: 0.070906 | Val Acc: 0.730024 loss: 0.793540\n",
            "[112/3000] Train Acc: 0.925599 Loss: 0.063693 | Val Acc: 0.763738 loss: 0.715419\n",
            "[113/3000] Train Acc: 0.918896 Loss: 0.075240 | Val Acc: 0.658614 loss: 1.135299\n",
            "[114/3000] Train Acc: 0.916042 Loss: 0.070392 | Val Acc: 0.696310 loss: 0.862054\n",
            "[115/3000] Train Acc: 0.933563 Loss: 0.061853 | Val Acc: 0.679055 loss: 1.032062\n",
            "[116/3000] Train Acc: 0.921086 Loss: 0.074973 | Val Acc: 0.745686 loss: 0.862056\n",
            "[117/3000] Train Acc: 0.929515 Loss: 0.063694 | Val Acc: 0.741439 loss: 0.842276\n",
            "[118/3000] Train Acc: 0.921750 Loss: 0.074300 | Val Acc: 0.716220 loss: 0.957489\n",
            "[119/3000] Train Acc: 0.932634 Loss: 0.062305 | Val Acc: 0.677728 loss: 1.094210\n",
            "[120/3000] Train Acc: 0.928652 Loss: 0.060177 | Val Acc: 0.689939 loss: 1.031687\n",
            "[121/3000] Train Acc: 0.925997 Loss: 0.071749 | Val Acc: 0.641890 loss: 1.145622\n",
            "[122/3000] Train Acc: 0.919626 Loss: 0.075358 | Val Acc: 0.763207 loss: 0.743875\n",
            "[123/3000] Train Acc: 0.930709 Loss: 0.059586 | Val Acc: 0.694452 loss: 1.051422\n",
            "[124/3000] Train Acc: 0.934758 Loss: 0.063058 | Val Acc: 0.729493 loss: 0.870458\n",
            "[125/3000] Train Acc: 0.927258 Loss: 0.060313 | Val Acc: 0.736926 loss: 0.844044\n",
            "[126/3000] Train Acc: 0.925732 Loss: 0.062672 | Val Acc: 0.719140 loss: 0.929492\n",
            "[127/3000] Train Acc: 0.920754 Loss: 0.073752 | Val Acc: 0.742766 loss: 0.780173\n",
            "[128/3000] Train Acc: 0.928718 Loss: 0.060906 | Val Acc: 0.698434 loss: 0.939845\n",
            "[129/3000] Train Acc: 0.913785 Loss: 0.076036 | Val Acc: 0.762145 loss: 0.729523\n",
            "[130/3000] Train Acc: 0.915909 Loss: 0.077508 | Val Acc: 0.754712 loss: 0.762138\n",
            "[131/3000] Train Acc: 0.920820 Loss: 0.069361 | Val Acc: 0.689673 loss: 0.978641\n",
            "[132/3000] Train Acc: 0.925931 Loss: 0.072422 | Val Acc: 0.686488 loss: 1.051312\n",
            "[133/3000] Train Acc: 0.929117 Loss: 0.062391 | Val Acc: 0.713831 loss: 0.899358\n",
            "[134/3000] Train Acc: 0.932302 Loss: 0.058330 | Val Acc: 0.701354 loss: 1.190832\n",
            "[135/3000] Train Acc: 0.919626 Loss: 0.072730 | Val Acc: 0.711176 loss: 0.958458\n",
            "[136/3000] Train Acc: 0.926528 Loss: 0.065576 | Val Acc: 0.726042 loss: 0.877248\n",
            "[137/3000] Train Acc: 0.922347 Loss: 0.068301 | Val Acc: 0.740377 loss: 0.792967\n",
            "[138/3000] Train Acc: 0.937147 Loss: 0.055146 | Val Acc: 0.745686 loss: 0.758071\n",
            "[139/3000] Train Acc: 0.924670 Loss: 0.072200 | Val Acc: 0.780462 loss: 0.652261\n",
            "[140/3000] Train Acc: 0.926926 Loss: 0.071396 | Val Acc: 0.644545 loss: 1.200994\n",
            "[141/3000] Train Acc: 0.925400 Loss: 0.069803 | Val Acc: 0.741704 loss: 0.793993\n",
            "[142/3000] Train Acc: 0.923011 Loss: 0.069841 | Val Acc: 0.732148 loss: 0.764262\n",
            "[143/3000] Train Acc: 0.923608 Loss: 0.066862 | Val Acc: 0.678789 loss: 1.022241\n",
            "[144/3000] Train Acc: 0.932900 Loss: 0.056846 | Val Acc: 0.818954 loss: 0.579642\n",
            "saving model with acc 0.819\n",
            "[145/3000] Train Acc: 0.927789 Loss: 0.065887 | Val Acc: 0.725776 loss: 0.864933\n",
            "[146/3000] Train Acc: 0.934094 Loss: 0.060778 | Val Acc: 0.736660 loss: 0.845942\n",
            "[147/3000] Train Acc: 0.922081 Loss: 0.067029 | Val Acc: 0.708256 loss: 0.921492\n",
            "[148/3000] Train Acc: 0.929050 Loss: 0.064960 | Val Acc: 0.704539 loss: 1.032810\n",
            "[149/3000] Train Acc: 0.925533 Loss: 0.064951 | Val Acc: 0.675604 loss: 1.073403\n",
            "[150/3000] Train Acc: 0.926329 Loss: 0.067844 | Val Acc: 0.672418 loss: 0.986961\n",
            "[151/3000] Train Acc: 0.927988 Loss: 0.061232 | Val Acc: 0.735333 loss: 0.817022\n",
            "[152/3000] Train Acc: 0.925068 Loss: 0.067582 | Val Acc: 0.736395 loss: 0.819266\n",
            "[153/3000] Train Acc: 0.931041 Loss: 0.059944 | Val Acc: 0.794266 loss: 0.651873\n",
            "[154/3000] Train Acc: 0.931174 Loss: 0.066831 | Val Acc: 0.695514 loss: 1.066503\n",
            "[155/3000] Train Acc: 0.936749 Loss: 0.057990 | Val Acc: 0.780993 loss: 0.654543\n",
            "[156/3000] Train Acc: 0.921152 Loss: 0.072632 | Val Acc: 0.674542 loss: 1.024415\n",
            "[157/3000] Train Acc: 0.927524 Loss: 0.064878 | Val Acc: 0.789488 loss: 0.688185\n",
            "[158/3000] Train Acc: 0.929050 Loss: 0.064022 | Val Acc: 0.768251 loss: 0.714099\n",
            "[159/3000] Train Acc: 0.926794 Loss: 0.068419 | Val Acc: 0.728697 loss: 0.832944\n",
            "[160/3000] Train Acc: 0.920223 Loss: 0.066883 | Val Acc: 0.730289 loss: 1.004360\n",
            "[161/3000] Train Acc: 0.931705 Loss: 0.059604 | Val Acc: 0.696841 loss: 1.118696\n",
            "[162/3000] Train Acc: 0.920820 Loss: 0.076192 | Val Acc: 0.695248 loss: 1.124893\n",
            "[163/3000] Train Acc: 0.923940 Loss: 0.068647 | Val Acc: 0.727635 loss: 0.916936\n",
            "[164/3000] Train Acc: 0.925201 Loss: 0.064777 | Val Acc: 0.694186 loss: 1.023382\n",
            "[165/3000] Train Acc: 0.926395 Loss: 0.062741 | Val Acc: 0.735599 loss: 0.816798\n",
            "[166/3000] Train Acc: 0.934094 Loss: 0.055537 | Val Acc: 0.783117 loss: 0.766569\n",
            "[167/3000] Train Acc: 0.931639 Loss: 0.061509 | Val Acc: 0.732679 loss: 0.859831\n",
            "[168/3000] Train Acc: 0.927059 Loss: 0.073737 | Val Acc: 0.697106 loss: 1.020137\n",
            "[169/3000] Train Acc: 0.928851 Loss: 0.062983 | Val Acc: 0.707194 loss: 0.948552\n",
            "[170/3000] Train Acc: 0.926595 Loss: 0.065297 | Val Acc: 0.693125 loss: 0.960506\n",
            "[171/3000] Train Acc: 0.926794 Loss: 0.068953 | Val Acc: 0.664189 loss: 1.011477\n",
            "[172/3000] Train Acc: 0.929316 Loss: 0.066019 | Val Acc: 0.736395 loss: 0.867624\n",
            "[173/3000] Train Acc: 0.934559 Loss: 0.056667 | Val Acc: 0.635784 loss: 1.310101\n",
            "[174/3000] Train Acc: 0.927789 Loss: 0.072575 | Val Acc: 0.719936 loss: 0.875030\n",
            "[175/3000] Train Acc: 0.925798 Loss: 0.068588 | Val Acc: 0.616140 loss: 1.348099\n",
            "[176/3000] Train Acc: 0.924869 Loss: 0.069763 | Val Acc: 0.753916 loss: 0.779677\n",
            "[177/3000] Train Acc: 0.936085 Loss: 0.058211 | Val Acc: 0.703212 loss: 0.980479\n",
            "[178/3000] Train Acc: 0.932833 Loss: 0.061611 | Val Acc: 0.767189 loss: 0.800870\n",
            "[179/3000] Train Acc: 0.935355 Loss: 0.062681 | Val Acc: 0.741970 loss: 0.790417\n",
            "[180/3000] Train Acc: 0.921816 Loss: 0.072080 | Val Acc: 0.680648 loss: 1.072202\n",
            "[181/3000] Train Acc: 0.928187 Loss: 0.066402 | Val Acc: 0.776214 loss: 0.725552\n",
            "[182/3000] Train Acc: 0.928984 Loss: 0.065113 | Val Acc: 0.742501 loss: 0.731085\n",
            "[183/3000] Train Acc: 0.930577 Loss: 0.062988 | Val Acc: 0.762676 loss: 0.750707\n",
            "[184/3000] Train Acc: 0.942192 Loss: 0.051001 | Val Acc: 0.763738 loss: 0.734560\n",
            "[185/3000] Train Acc: 0.920356 Loss: 0.071041 | Val Acc: 0.724449 loss: 0.859847\n",
            "[186/3000] Train Acc: 0.940599 Loss: 0.052636 | Val Acc: 0.717547 loss: 0.898134\n",
            "[187/3000] Train Acc: 0.928387 Loss: 0.071038 | Val Acc: 0.659942 loss: 1.196743\n",
            "[188/3000] Train Acc: 0.925798 Loss: 0.067026 | Val Acc: 0.783117 loss: 0.651213\n",
            "[189/3000] Train Acc: 0.934957 Loss: 0.056382 | Val Acc: 0.705336 loss: 0.945766\n",
            "[190/3000] Train Acc: 0.931240 Loss: 0.057083 | Val Acc: 0.745155 loss: 0.734196\n",
            "[191/3000] Train Acc: 0.923608 Loss: 0.073154 | Val Acc: 0.675869 loss: 1.125692\n",
            "[192/3000] Train Acc: 0.933298 Loss: 0.058686 | Val Acc: 0.747014 loss: 0.772809\n",
            "[193/3000] Train Acc: 0.938209 Loss: 0.058690 | Val Acc: 0.722591 loss: 0.905266\n",
            "[194/3000] Train Acc: 0.927789 Loss: 0.065384 | Val Acc: 0.694452 loss: 0.984947\n",
            "[195/3000] Train Acc: 0.928718 Loss: 0.068767 | Val Acc: 0.727635 loss: 0.835266\n",
            "[196/3000] Train Acc: 0.932634 Loss: 0.059835 | Val Acc: 0.719936 loss: 0.965253\n",
            "[197/3000] Train Acc: 0.928918 Loss: 0.068242 | Val Acc: 0.666578 loss: 1.114509\n",
            "[198/3000] Train Acc: 0.926329 Loss: 0.062766 | Val Acc: 0.748341 loss: 0.809960\n",
            "[199/3000] Train Acc: 0.933497 Loss: 0.060404 | Val Acc: 0.762941 loss: 0.720464\n",
            "[200/3000] Train Acc: 0.936351 Loss: 0.062089 | Val Acc: 0.708256 loss: 1.091362\n",
            "[201/3000] Train Acc: 0.924603 Loss: 0.073411 | Val Acc: 0.724449 loss: 0.934574\n",
            "[202/3000] Train Acc: 0.925599 Loss: 0.063571 | Val Acc: 0.693921 loss: 0.990083\n",
            "[203/3000] Train Acc: 0.926130 Loss: 0.070988 | Val Acc: 0.797452 loss: 0.659097\n",
            "[204/3000] Train Acc: 0.923608 Loss: 0.069692 | Val Acc: 0.699230 loss: 0.930081\n",
            "[205/3000] Train Acc: 0.935355 Loss: 0.061534 | Val Acc: 0.727104 loss: 0.952407\n",
            "[206/3000] Train Acc: 0.931639 Loss: 0.060983 | Val Acc: 0.813910 loss: 0.594064\n",
            "[207/3000] Train Acc: 0.931971 Loss: 0.063814 | Val Acc: 0.735599 loss: 0.848440\n",
            "[208/3000] Train Acc: 0.932103 Loss: 0.064695 | Val Acc: 0.767720 loss: 0.762140\n",
            "[209/3000] Train Acc: 0.928586 Loss: 0.068534 | Val Acc: 0.684630 loss: 1.013748\n",
            "[210/3000] Train Acc: 0.918564 Loss: 0.068786 | Val Acc: 0.697372 loss: 1.076416\n",
            "[211/3000] Train Acc: 0.926993 Loss: 0.060036 | Val Acc: 0.727369 loss: 0.815304\n",
            "[212/3000] Train Acc: 0.931506 Loss: 0.064402 | Val Acc: 0.756305 loss: 0.752836\n",
            "[213/3000] Train Acc: 0.937546 Loss: 0.061230 | Val Acc: 0.660473 loss: 1.206821\n",
            "[214/3000] Train Acc: 0.929847 Loss: 0.065219 | Val Acc: 0.768516 loss: 0.744818\n",
            "[215/3000] Train Acc: 0.917701 Loss: 0.078371 | Val Acc: 0.722060 loss: 0.884076\n",
            "[216/3000] Train Acc: 0.926329 Loss: 0.068268 | Val Acc: 0.715423 loss: 0.925761\n",
            "[217/3000] Train Acc: 0.937015 Loss: 0.058387 | Val Acc: 0.751526 loss: 0.735864\n",
            "[218/3000] Train Acc: 0.932236 Loss: 0.064092 | Val Acc: 0.697637 loss: 1.044224\n",
            "[219/3000] Train Acc: 0.930245 Loss: 0.067501 | Val Acc: 0.753916 loss: 0.756134\n",
            "[220/3000] Train Acc: 0.935621 Loss: 0.053460 | Val Acc: 0.741173 loss: 0.795976\n",
            "[221/3000] Train Acc: 0.917568 Loss: 0.071017 | Val Acc: 0.750730 loss: 0.781816\n",
            "[222/3000] Train Acc: 0.939736 Loss: 0.054650 | Val Acc: 0.766658 loss: 0.694742\n",
            "[223/3000] Train Acc: 0.926528 Loss: 0.068860 | Val Acc: 0.712503 loss: 0.874100\n",
            "[224/3000] Train Acc: 0.922015 Loss: 0.079755 | Val Acc: 0.664985 loss: 1.247594\n",
            "[225/3000] Train Acc: 0.929581 Loss: 0.062964 | Val Acc: 0.769047 loss: 0.726480\n",
            "[226/3000] Train Acc: 0.930444 Loss: 0.059670 | Val Acc: 0.791611 loss: 0.662753\n",
            "[227/3000] Train Acc: 0.934227 Loss: 0.058328 | Val Acc: 0.699496 loss: 0.969416\n",
            "[228/3000] Train Acc: 0.931440 Loss: 0.064117 | Val Acc: 0.719140 loss: 0.875683\n",
            "[229/3000] Train Acc: 0.932900 Loss: 0.065263 | Val Acc: 0.718874 loss: 0.837447\n",
            "[230/3000] Train Acc: 0.936484 Loss: 0.059068 | Val Acc: 0.738253 loss: 0.968464\n",
            "[231/3000] Train Acc: 0.930112 Loss: 0.065348 | Val Acc: 0.667109 loss: 1.300489\n",
            "[232/3000] Train Acc: 0.933165 Loss: 0.060984 | Val Acc: 0.738784 loss: 0.820157\n",
            "[233/3000] Train Acc: 0.933032 Loss: 0.059523 | Val Acc: 0.745952 loss: 0.850899\n",
            "[234/3000] Train Acc: 0.923475 Loss: 0.068993 | Val Acc: 0.775684 loss: 0.669717\n",
            "[235/3000] Train Acc: 0.928387 Loss: 0.063097 | Val Acc: 0.783117 loss: 0.640558\n",
            "[236/3000] Train Acc: 0.926395 Loss: 0.067229 | Val Acc: 0.795859 loss: 0.673148\n",
            "[237/3000] Train Acc: 0.932369 Loss: 0.057224 | Val Acc: 0.738784 loss: 0.845313\n",
            "[238/3000] Train Acc: 0.931904 Loss: 0.066032 | Val Acc: 0.777011 loss: 0.678685\n",
            "[239/3000] Train Acc: 0.935953 Loss: 0.064480 | Val Acc: 0.740377 loss: 0.820539\n",
            "[240/3000] Train Acc: 0.929316 Loss: 0.065345 | Val Acc: 0.770374 loss: 0.696140\n",
            "[241/3000] Train Acc: 0.939404 Loss: 0.051443 | Val Acc: 0.741439 loss: 0.884233\n",
            "[242/3000] Train Acc: 0.923674 Loss: 0.072790 | Val Acc: 0.730555 loss: 0.841449\n",
            "[243/3000] Train Acc: 0.930112 Loss: 0.062474 | Val Acc: 0.726042 loss: 0.961858\n",
            "[244/3000] Train Acc: 0.930112 Loss: 0.068747 | Val Acc: 0.835147 loss: 0.517913\n",
            "saving model with acc 0.835\n",
            "[245/3000] Train Acc: 0.918696 Loss: 0.072709 | Val Acc: 0.788160 loss: 0.684578\n",
            "[246/3000] Train Acc: 0.928851 Loss: 0.059490 | Val Acc: 0.771436 loss: 0.753602\n",
            "[247/3000] Train Acc: 0.931108 Loss: 0.058420 | Val Acc: 0.725246 loss: 0.961918\n",
            "[248/3000] Train Acc: 0.933364 Loss: 0.058141 | Val Acc: 0.761879 loss: 0.779531\n",
            "[249/3000] Train Acc: 0.923011 Loss: 0.078510 | Val Acc: 0.730289 loss: 0.835563\n",
            "[250/3000] Train Acc: 0.928387 Loss: 0.070862 | Val Acc: 0.665251 loss: 1.123709\n",
            "[251/3000] Train Acc: 0.930444 Loss: 0.064419 | Val Acc: 0.814176 loss: 0.550428\n",
            "[252/3000] Train Acc: 0.932236 Loss: 0.062190 | Val Acc: 0.734802 loss: 0.790425\n",
            "[253/3000] Train Acc: 0.931572 Loss: 0.061864 | Val Acc: 0.778338 loss: 0.711135\n",
            "[254/3000] Train Acc: 0.933696 Loss: 0.058595 | Val Acc: 0.783913 loss: 0.655417\n",
            "[255/3000] Train Acc: 0.916042 Loss: 0.079120 | Val Acc: 0.737722 loss: 0.813612\n",
            "[256/3000] Train Acc: 0.928519 Loss: 0.062974 | Val Acc: 0.744359 loss: 0.826106\n",
            "[257/3000] Train Acc: 0.929382 Loss: 0.066288 | Val Acc: 0.776214 loss: 0.717354\n",
            "[258/3000] Train Acc: 0.931904 Loss: 0.065889 | Val Acc: 0.772763 loss: 0.693465\n",
            "[259/3000] Train Acc: 0.927590 Loss: 0.065664 | Val Acc: 0.732148 loss: 0.877786\n",
            "[260/3000] Train Acc: 0.931108 Loss: 0.061929 | Val Acc: 0.727900 loss: 0.857497\n",
            "[261/3000] Train Acc: 0.941063 Loss: 0.052329 | Val Acc: 0.768251 loss: 0.771336\n",
            "[262/3000] Train Acc: 0.938939 Loss: 0.056642 | Val Acc: 0.833555 loss: 0.522641\n",
            "[263/3000] Train Acc: 0.933497 Loss: 0.066022 | Val Acc: 0.758959 loss: 0.805506\n",
            "[264/3000] Train Acc: 0.931174 Loss: 0.067843 | Val Acc: 0.784975 loss: 0.582528\n",
            "[265/3000] Train Acc: 0.937877 Loss: 0.051635 | Val Acc: 0.720733 loss: 0.851872\n",
            "[266/3000] Train Acc: 0.931240 Loss: 0.061184 | Val Acc: 0.762941 loss: 0.718261\n",
            "[267/3000] Train Acc: 0.935156 Loss: 0.057379 | Val Acc: 0.681444 loss: 1.048792\n",
            "[268/3000] Train Acc: 0.930112 Loss: 0.069523 | Val Acc: 0.766658 loss: 0.765198\n",
            "[269/3000] Train Acc: 0.935488 Loss: 0.055427 | Val Acc: 0.763738 loss: 0.770062\n",
            "[270/3000] Train Acc: 0.931971 Loss: 0.057895 | Val Acc: 0.777807 loss: 0.652033\n",
            "[271/3000] Train Acc: 0.911197 Loss: 0.081679 | Val Acc: 0.767985 loss: 0.708157\n",
            "[272/3000] Train Acc: 0.933630 Loss: 0.055317 | Val Acc: 0.734006 loss: 0.836490\n",
            "[273/3000] Train Acc: 0.940532 Loss: 0.056084 | Val Acc: 0.729758 loss: 0.853397\n",
            "[274/3000] Train Acc: 0.933298 Loss: 0.057303 | Val Acc: 0.829042 loss: 0.569638\n",
            "[275/3000] Train Acc: 0.923409 Loss: 0.070867 | Val Acc: 0.737457 loss: 0.872349\n",
            "[276/3000] Train Acc: 0.934028 Loss: 0.054861 | Val Acc: 0.700823 loss: 1.008185\n",
            "[277/3000] Train Acc: 0.936948 Loss: 0.055623 | Val Acc: 0.782055 loss: 0.667629\n",
            "[278/3000] Train Acc: 0.933563 Loss: 0.058824 | Val Acc: 0.797982 loss: 0.610911\n",
            "[279/3000] Train Acc: 0.913918 Loss: 0.075140 | Val Acc: 0.744093 loss: 0.816659\n",
            "[280/3000] Train Acc: 0.933032 Loss: 0.063806 | Val Acc: 0.817096 loss: 0.568074\n",
            "[281/3000] Train Acc: 0.930577 Loss: 0.063726 | Val Acc: 0.705336 loss: 0.893820\n",
            "[282/3000] Train Acc: 0.934293 Loss: 0.064450 | Val Acc: 0.720733 loss: 0.873790\n",
            "[283/3000] Train Acc: 0.932369 Loss: 0.065460 | Val Acc: 0.714362 loss: 0.907550\n",
            "[284/3000] Train Acc: 0.932767 Loss: 0.060289 | Val Acc: 0.782055 loss: 0.717863\n",
            "[285/3000] Train Acc: 0.940532 Loss: 0.054679 | Val Acc: 0.793470 loss: 0.632122\n",
            "[286/3000] Train Acc: 0.914316 Loss: 0.077264 | Val Acc: 0.682241 loss: 1.063755\n",
            "[287/3000] Train Acc: 0.937081 Loss: 0.057825 | Val Acc: 0.785506 loss: 0.683723\n",
            "[288/3000] Train Acc: 0.941793 Loss: 0.053640 | Val Acc: 0.743828 loss: 0.850752\n",
            "[289/3000] Train Acc: 0.936616 Loss: 0.058089 | Val Acc: 0.757101 loss: 0.814475\n",
            "[290/3000] Train Acc: 0.924869 Loss: 0.067559 | Val Acc: 0.741970 loss: 0.765201\n",
            "[291/3000] Train Acc: 0.931108 Loss: 0.067719 | Val Acc: 0.754447 loss: 0.763573\n",
            "[292/3000] Train Acc: 0.929648 Loss: 0.067000 | Val Acc: 0.676135 loss: 1.066722\n",
            "[293/3000] Train Acc: 0.926395 Loss: 0.071208 | Val Acc: 0.704008 loss: 0.980469\n",
            "[294/3000] Train Acc: 0.931971 Loss: 0.059860 | Val Acc: 0.739050 loss: 0.860225\n",
            "[295/3000] Train Acc: 0.932634 Loss: 0.058713 | Val Acc: 0.741439 loss: 0.836213\n",
            "[296/3000] Train Acc: 0.928652 Loss: 0.073105 | Val Acc: 0.712503 loss: 0.917398\n",
            "[297/3000] Train Acc: 0.929316 Loss: 0.064578 | Val Acc: 0.706663 loss: 0.927228\n",
            "[298/3000] Train Acc: 0.936550 Loss: 0.053954 | Val Acc: 0.797452 loss: 0.646068\n",
            "[299/3000] Train Acc: 0.934094 Loss: 0.058429 | Val Acc: 0.775684 loss: 0.679366\n",
            "[300/3000] Train Acc: 0.936882 Loss: 0.056620 | Val Acc: 0.760021 loss: 0.736081\n",
            "[301/3000] Train Acc: 0.932568 Loss: 0.055296 | Val Acc: 0.750199 loss: 0.816233\n",
            "[302/3000] Train Acc: 0.925864 Loss: 0.080024 | Val Acc: 0.781789 loss: 0.763167\n",
            "[303/3000] Train Acc: 0.932900 Loss: 0.060466 | Val Acc: 0.732413 loss: 0.861358\n",
            "[304/3000] Train Acc: 0.924603 Loss: 0.066305 | Val Acc: 0.732679 loss: 0.819676\n",
            "[305/3000] Train Acc: 0.935953 Loss: 0.059342 | Val Acc: 0.742501 loss: 0.789567\n",
            "[306/3000] Train Acc: 0.926395 Loss: 0.070557 | Val Acc: 0.764800 loss: 0.743773\n",
            "[307/3000] Train Acc: 0.927789 Loss: 0.068247 | Val Acc: 0.762410 loss: 0.674807\n",
            "[308/3000] Train Acc: 0.934360 Loss: 0.063274 | Val Acc: 0.790550 loss: 0.712249\n",
            "[309/3000] Train Acc: 0.916705 Loss: 0.071834 | Val Acc: 0.715954 loss: 0.838720\n",
            "[310/3000] Train Acc: 0.932767 Loss: 0.058183 | Val Acc: 0.731882 loss: 0.814085\n",
            "[311/3000] Train Acc: 0.933895 Loss: 0.061147 | Val Acc: 0.715423 loss: 0.938674\n",
            "[312/3000] Train Acc: 0.937546 Loss: 0.057249 | Val Acc: 0.754712 loss: 0.791825\n",
            "[313/3000] Train Acc: 0.936285 Loss: 0.065586 | Val Acc: 0.745952 loss: 0.889232\n",
            "[314/3000] Train Acc: 0.937214 Loss: 0.059428 | Val Acc: 0.773029 loss: 0.730817\n",
            "[315/3000] Train Acc: 0.930245 Loss: 0.062924 | Val Acc: 0.753650 loss: 0.781128\n",
            "[316/3000] Train Acc: 0.933032 Loss: 0.062649 | Val Acc: 0.666313 loss: 1.199674\n",
            "[317/3000] Train Acc: 0.930842 Loss: 0.057074 | Val Acc: 0.730555 loss: 0.852463\n",
            "[318/3000] Train Acc: 0.930179 Loss: 0.065413 | Val Acc: 0.768782 loss: 0.716724\n",
            "[319/3000] Train Acc: 0.925864 Loss: 0.063384 | Val Acc: 0.719671 loss: 0.959320\n",
            "[320/3000] Train Acc: 0.931572 Loss: 0.063279 | Val Acc: 0.704539 loss: 0.986217\n",
            "[321/3000] Train Acc: 0.936019 Loss: 0.062785 | Val Acc: 0.763472 loss: 0.745405\n",
            "[322/3000] Train Acc: 0.931771 Loss: 0.059967 | Val Acc: 0.728697 loss: 0.833558\n",
            "[323/3000] Train Acc: 0.940665 Loss: 0.053010 | Val Acc: 0.775949 loss: 0.738309\n",
            "[324/3000] Train Acc: 0.929448 Loss: 0.066677 | Val Acc: 0.745155 loss: 0.802176\n",
            "[325/3000] Train Acc: 0.933630 Loss: 0.060049 | Val Acc: 0.762676 loss: 0.725222\n",
            "[326/3000] Train Acc: 0.928718 Loss: 0.075672 | Val Acc: 0.800106 loss: 0.596698\n",
            "[327/3000] Train Acc: 0.929714 Loss: 0.063833 | Val Acc: 0.744624 loss: 0.812386\n",
            "[328/3000] Train Acc: 0.933099 Loss: 0.060366 | Val Acc: 0.687019 loss: 1.096267\n",
            "[329/3000] Train Acc: 0.928519 Loss: 0.062940 | Val Acc: 0.727900 loss: 0.925821\n",
            "[330/3000] Train Acc: 0.930179 Loss: 0.063530 | Val Acc: 0.760287 loss: 0.752641\n",
            "[331/3000] Train Acc: 0.932170 Loss: 0.063437 | Val Acc: 0.638439 loss: 1.228680\n",
            "[332/3000] Train Acc: 0.936351 Loss: 0.059933 | Val Acc: 0.815238 loss: 0.534411\n",
            "[333/3000] Train Acc: 0.937944 Loss: 0.062387 | Val Acc: 0.666047 loss: 1.213571\n",
            "[334/3000] Train Acc: 0.918763 Loss: 0.071439 | Val Acc: 0.729758 loss: 0.932570\n",
            "[335/3000] Train Acc: 0.936882 Loss: 0.055337 | Val Acc: 0.728697 loss: 0.852962\n",
            "[336/3000] Train Acc: 0.933763 Loss: 0.060576 | Val Acc: 0.692594 loss: 1.049887\n",
            "[337/3000] Train Acc: 0.933232 Loss: 0.067309 | Val Acc: 0.765861 loss: 0.734007\n",
            "[338/3000] Train Acc: 0.936484 Loss: 0.062243 | Val Acc: 0.827714 loss: 0.508076\n",
            "[339/3000] Train Acc: 0.938010 Loss: 0.056476 | Val Acc: 0.767985 loss: 0.747693\n",
            "[340/3000] Train Acc: 0.943984 Loss: 0.052917 | Val Acc: 0.737457 loss: 0.858951\n",
            "[341/3000] Train Acc: 0.932037 Loss: 0.063548 | Val Acc: 0.795062 loss: 0.723849\n",
            "[342/3000] Train Acc: 0.922081 Loss: 0.070940 | Val Acc: 0.815238 loss: 0.639976\n",
            "[343/3000] Train Acc: 0.930112 Loss: 0.065592 | Val Acc: 0.766923 loss: 0.795450\n",
            "[344/3000] Train Acc: 0.929515 Loss: 0.059549 | Val Acc: 0.795328 loss: 0.647835\n",
            "[345/3000] Train Acc: 0.915378 Loss: 0.075279 | Val Acc: 0.778869 loss: 0.721422\n",
            "[346/3000] Train Acc: 0.926794 Loss: 0.070843 | Val Acc: 0.721795 loss: 1.053490\n",
            "[347/3000] Train Acc: 0.937347 Loss: 0.052402 | Val Acc: 0.717813 loss: 0.902049\n",
            "[348/3000] Train Acc: 0.929050 Loss: 0.061536 | Val Acc: 0.714627 loss: 0.918096\n",
            "[349/3000] Train Acc: 0.919626 Loss: 0.065508 | Val Acc: 0.800637 loss: 0.645690\n",
            "[350/3000] Train Acc: 0.931639 Loss: 0.063573 | Val Acc: 0.689939 loss: 1.062216\n",
            "[351/3000] Train Acc: 0.936351 Loss: 0.058673 | Val Acc: 0.784178 loss: 0.718638\n",
            "[352/3000] Train Acc: 0.931705 Loss: 0.058551 | Val Acc: 0.695514 loss: 1.013528\n",
            "[353/3000] Train Acc: 0.932369 Loss: 0.063764 | Val Acc: 0.702416 loss: 0.959869\n",
            "[354/3000] Train Acc: 0.932501 Loss: 0.059752 | Val Acc: 0.737722 loss: 0.898478\n",
            "[355/3000] Train Acc: 0.929847 Loss: 0.064849 | Val Acc: 0.731351 loss: 0.872144\n",
            "[356/3000] Train Acc: 0.932369 Loss: 0.059758 | Val Acc: 0.749137 loss: 0.886974\n",
            "[357/3000] Train Acc: 0.931705 Loss: 0.062084 | Val Acc: 0.764534 loss: 0.714900\n",
            "[358/3000] Train Acc: 0.933630 Loss: 0.057613 | Val Acc: 0.739846 loss: 0.814842\n",
            "[359/3000] Train Acc: 0.942988 Loss: 0.052226 | Val Acc: 0.687550 loss: 1.317290\n",
            "[360/3000] Train Acc: 0.923077 Loss: 0.075221 | Val Acc: 0.652243 loss: 1.197797\n",
            "[361/3000] Train Acc: 0.925665 Loss: 0.074915 | Val Acc: 0.756305 loss: 0.732611\n",
            "[362/3000] Train Acc: 0.935953 Loss: 0.051828 | Val Acc: 0.741173 loss: 0.789521\n",
            "[363/3000] Train Acc: 0.937015 Loss: 0.060895 | Val Acc: 0.790815 loss: 0.720119\n",
            "[364/3000] Train Acc: 0.932568 Loss: 0.065687 | Val Acc: 0.751261 loss: 0.768299\n",
            "[365/3000] Train Acc: 0.933431 Loss: 0.062372 | Val Acc: 0.717282 loss: 0.962826\n",
            "[366/3000] Train Acc: 0.935422 Loss: 0.060290 | Val Acc: 0.748872 loss: 0.833610\n",
            "[367/3000] Train Acc: 0.934293 Loss: 0.063731 | Val Acc: 0.729758 loss: 0.865429\n",
            "[368/3000] Train Acc: 0.930842 Loss: 0.064635 | Val Acc: 0.752057 loss: 0.788570\n",
            "[369/3000] Train Acc: 0.932037 Loss: 0.060847 | Val Acc: 0.725511 loss: 0.911379\n",
            "[370/3000] Train Acc: 0.928652 Loss: 0.060766 | Val Acc: 0.700292 loss: 1.012348\n",
            "[371/3000] Train Acc: 0.926794 Loss: 0.074225 | Val Acc: 0.731351 loss: 0.826216\n",
            "[372/3000] Train Acc: 0.932236 Loss: 0.058221 | Val Acc: 0.702947 loss: 0.978817\n",
            "[373/3000] Train Acc: 0.930776 Loss: 0.066715 | Val Acc: 0.633926 loss: 1.188023\n",
            "[374/3000] Train Acc: 0.929780 Loss: 0.066241 | Val Acc: 0.651978 loss: 1.320104\n",
            "[375/3000] Train Acc: 0.937214 Loss: 0.055431 | Val Acc: 0.712503 loss: 0.947120\n",
            "[376/3000] Train Acc: 0.934493 Loss: 0.059183 | Val Acc: 0.778604 loss: 0.739273\n",
            "[377/3000] Train Acc: 0.930643 Loss: 0.068851 | Val Acc: 0.695514 loss: 0.902841\n",
            "[378/3000] Train Acc: 0.930444 Loss: 0.061839 | Val Acc: 0.690470 loss: 1.162854\n",
            "[379/3000] Train Acc: 0.928254 Loss: 0.063849 | Val Acc: 0.786037 loss: 0.670336\n",
            "[380/3000] Train Acc: 0.931705 Loss: 0.063194 | Val Acc: 0.681710 loss: 1.086377\n",
            "[381/3000] Train Acc: 0.933630 Loss: 0.060119 | Val Acc: 0.709318 loss: 0.947250\n",
            "[382/3000] Train Acc: 0.938143 Loss: 0.058686 | Val Acc: 0.766127 loss: 0.708241\n",
            "[383/3000] Train Acc: 0.931041 Loss: 0.057281 | Val Acc: 0.708256 loss: 0.999553\n",
            "[384/3000] Train Acc: 0.933630 Loss: 0.061311 | Val Acc: 0.677993 loss: 1.069148\n",
            "[385/3000] Train Acc: 0.919559 Loss: 0.075264 | Val Acc: 0.723387 loss: 0.915953\n",
            "[386/3000] Train Acc: 0.931572 Loss: 0.068436 | Val Acc: 0.752854 loss: 0.766230\n",
            "[387/3000] Train Acc: 0.936816 Loss: 0.052427 | Val Acc: 0.762676 loss: 0.763287\n",
            "[388/3000] Train Acc: 0.935754 Loss: 0.055154 | Val Acc: 0.740642 loss: 0.863723\n",
            "[389/3000] Train Acc: 0.928387 Loss: 0.071748 | Val Acc: 0.775684 loss: 0.745680\n",
            "[390/3000] Train Acc: 0.938541 Loss: 0.054214 | Val Acc: 0.686488 loss: 1.050042\n",
            "[391/3000] Train Acc: 0.938010 Loss: 0.053915 | Val Acc: 0.738784 loss: 0.829688\n",
            "[392/3000] Train Acc: 0.934426 Loss: 0.060301 | Val Acc: 0.736395 loss: 0.912760\n",
            "[393/3000] Train Acc: 0.930577 Loss: 0.066430 | Val Acc: 0.765861 loss: 0.679730\n",
            "[394/3000] Train Acc: 0.936019 Loss: 0.060640 | Val Acc: 0.659942 loss: 1.365020\n",
            "[395/3000] Train Acc: 0.925599 Loss: 0.063273 | Val Acc: 0.788160 loss: 0.731839\n",
            "[396/3000] Train Acc: 0.933630 Loss: 0.058414 | Val Acc: 0.771436 loss: 0.729246\n",
            "[397/3000] Train Acc: 0.928055 Loss: 0.065402 | Val Acc: 0.792673 loss: 0.663044\n",
            "[398/3000] Train Acc: 0.933032 Loss: 0.057683 | Val Acc: 0.732413 loss: 0.851225\n",
            "[399/3000] Train Acc: 0.928785 Loss: 0.067409 | Val Acc: 0.743563 loss: 0.758820\n",
            "[400/3000] Train Acc: 0.934758 Loss: 0.058413 | Val Acc: 0.744624 loss: 0.762947\n",
            "[401/3000] Train Acc: 0.943784 Loss: 0.041480 | Val Acc: 0.766658 loss: 0.652050\n",
            "[402/3000] Train Acc: 0.955200 Loss: 0.032835 | Val Acc: 0.797982 loss: 0.613204\n",
            "[403/3000] Train Acc: 0.958253 Loss: 0.028620 | Val Acc: 0.791080 loss: 0.657643\n",
            "[404/3000] Train Acc: 0.962700 Loss: 0.026708 | Val Acc: 0.794001 loss: 0.630982\n",
            "[405/3000] Train Acc: 0.966018 Loss: 0.024932 | Val Acc: 0.817361 loss: 0.560061\n",
            "[406/3000] Train Acc: 0.965952 Loss: 0.026689 | Val Acc: 0.801434 loss: 0.588424\n",
            "[407/3000] Train Acc: 0.971594 Loss: 0.020907 | Val Acc: 0.830369 loss: 0.520970\n",
            "[408/3000] Train Acc: 0.970664 Loss: 0.020140 | Val Acc: 0.802495 loss: 0.601992\n",
            "[409/3000] Train Acc: 0.970532 Loss: 0.020614 | Val Acc: 0.819485 loss: 0.566614\n",
            "[410/3000] Train Acc: 0.971660 Loss: 0.019093 | Val Acc: 0.823732 loss: 0.574231\n",
            "[411/3000] Train Acc: 0.971660 Loss: 0.018385 | Val Acc: 0.831165 loss: 0.532768\n",
            "[412/3000] Train Acc: 0.973983 Loss: 0.018415 | Val Acc: 0.841518 loss: 0.512090\n",
            "saving model with acc 0.842\n",
            "[413/3000] Train Acc: 0.974049 Loss: 0.018750 | Val Acc: 0.846562 loss: 0.492537\n",
            "saving model with acc 0.847\n",
            "[414/3000] Train Acc: 0.976505 Loss: 0.017553 | Val Acc: 0.853995 loss: 0.462223\n",
            "saving model with acc 0.854\n",
            "[415/3000] Train Acc: 0.977434 Loss: 0.016774 | Val Acc: 0.829042 loss: 0.540734\n",
            "[416/3000] Train Acc: 0.976239 Loss: 0.018545 | Val Acc: 0.839395 loss: 0.498131\n",
            "[417/3000] Train Acc: 0.979624 Loss: 0.015444 | Val Acc: 0.856119 loss: 0.465026\n",
            "saving model with acc 0.856\n",
            "[418/3000] Train Acc: 0.976505 Loss: 0.019044 | Val Acc: 0.838598 loss: 0.507276\n",
            "[419/3000] Train Acc: 0.975908 Loss: 0.017148 | Val Acc: 0.842846 loss: 0.502397\n",
            "[420/3000] Train Acc: 0.975178 Loss: 0.018912 | Val Acc: 0.851341 loss: 0.446106\n",
            "[421/3000] Train Acc: 0.978363 Loss: 0.017172 | Val Acc: 0.839926 loss: 0.508332\n",
            "[422/3000] Train Acc: 0.979359 Loss: 0.015155 | Val Acc: 0.813379 loss: 0.579508\n",
            "[423/3000] Train Acc: 0.977368 Loss: 0.016593 | Val Acc: 0.863552 loss: 0.423771\n",
            "saving model with acc 0.864\n",
            "[424/3000] Train Acc: 0.978231 Loss: 0.016457 | Val Acc: 0.821343 loss: 0.541690\n",
            "[425/3000] Train Acc: 0.980885 Loss: 0.014486 | Val Acc: 0.844969 loss: 0.487632\n",
            "[426/3000] Train Acc: 0.979691 Loss: 0.016324 | Val Acc: 0.846031 loss: 0.504355\n",
            "[427/3000] Train Acc: 0.978762 Loss: 0.014921 | Val Acc: 0.846031 loss: 0.510692\n",
            "[428/3000] Train Acc: 0.983208 Loss: 0.014525 | Val Acc: 0.834882 loss: 0.524942\n",
            "[429/3000] Train Acc: 0.980089 Loss: 0.014063 | Val Acc: 0.860101 loss: 0.432342\n",
            "[430/3000] Train Acc: 0.982478 Loss: 0.012981 | Val Acc: 0.849482 loss: 0.466955\n",
            "[431/3000] Train Acc: 0.982744 Loss: 0.012159 | Val Acc: 0.847093 loss: 0.483221\n",
            "[432/3000] Train Acc: 0.982346 Loss: 0.013085 | Val Acc: 0.877091 loss: 0.381941\n",
            "saving model with acc 0.877\n",
            "[433/3000] Train Acc: 0.982080 Loss: 0.013819 | Val Acc: 0.868861 loss: 0.407959\n",
            "[434/3000] Train Acc: 0.979890 Loss: 0.015670 | Val Acc: 0.827449 loss: 0.548423\n",
            "[435/3000] Train Acc: 0.980487 Loss: 0.014617 | Val Acc: 0.859835 loss: 0.461414\n",
            "[436/3000] Train Acc: 0.981615 Loss: 0.015507 | Val Acc: 0.849482 loss: 0.471521\n",
            "[437/3000] Train Acc: 0.981549 Loss: 0.014942 | Val Acc: 0.842049 loss: 0.491964\n",
            "[438/3000] Train Acc: 0.980554 Loss: 0.013511 | Val Acc: 0.868861 loss: 0.414610\n",
            "[439/3000] Train Acc: 0.981881 Loss: 0.013964 | Val Acc: 0.846031 loss: 0.479331\n",
            "[440/3000] Train Acc: 0.981682 Loss: 0.014215 | Val Acc: 0.850279 loss: 0.465169\n",
            "[441/3000] Train Acc: 0.985199 Loss: 0.010749 | Val Acc: 0.868596 loss: 0.429549\n",
            "[442/3000] Train Acc: 0.983076 Loss: 0.011724 | Val Acc: 0.855588 loss: 0.466185\n",
            "[443/3000] Train Acc: 0.983806 Loss: 0.012737 | Val Acc: 0.854526 loss: 0.470591\n",
            "[444/3000] Train Acc: 0.984536 Loss: 0.010682 | Val Acc: 0.865410 loss: 0.446081\n",
            "[445/3000] Train Acc: 0.983407 Loss: 0.012865 | Val Acc: 0.858243 loss: 0.460076\n",
            "[446/3000] Train Acc: 0.984270 Loss: 0.011114 | Val Acc: 0.855853 loss: 0.461800\n",
            "[447/3000] Train Acc: 0.983673 Loss: 0.012227 | Val Acc: 0.860897 loss: 0.457168\n",
            "[448/3000] Train Acc: 0.981084 Loss: 0.013455 | Val Acc: 0.864083 loss: 0.430253\n",
            "[449/3000] Train Acc: 0.984934 Loss: 0.011340 | Val Acc: 0.861959 loss: 0.432414\n",
            "[450/3000] Train Acc: 0.985664 Loss: 0.011928 | Val Acc: 0.855323 loss: 0.498152\n",
            "[451/3000] Train Acc: 0.988120 Loss: 0.009392 | Val Acc: 0.872578 loss: 0.416068\n",
            "[452/3000] Train Acc: 0.986859 Loss: 0.010760 | Val Acc: 0.863552 loss: 0.437499\n",
            "[453/3000] Train Acc: 0.986460 Loss: 0.014439 | Val Acc: 0.840457 loss: 0.493156\n",
            "[454/3000] Train Acc: 0.983938 Loss: 0.013216 | Val Acc: 0.861163 loss: 0.452574\n",
            "[455/3000] Train Acc: 0.985465 Loss: 0.011175 | Val Acc: 0.879480 loss: 0.387010\n",
            "saving model with acc 0.879\n",
            "[456/3000] Train Acc: 0.986062 Loss: 0.011865 | Val Acc: 0.848686 loss: 0.471010\n",
            "[457/3000] Train Acc: 0.983806 Loss: 0.013489 | Val Acc: 0.878152 loss: 0.396902\n",
            "[458/3000] Train Acc: 0.985332 Loss: 0.011367 | Val Acc: 0.869127 loss: 0.417868\n",
            "[459/3000] Train Acc: 0.983806 Loss: 0.011957 | Val Acc: 0.859039 loss: 0.449355\n",
            "[460/3000] Train Acc: 0.987390 Loss: 0.011636 | Val Acc: 0.863817 loss: 0.428071\n",
            "[461/3000] Train Acc: 0.987124 Loss: 0.011124 | Val Acc: 0.848420 loss: 0.468818\n",
            "[462/3000] Train Acc: 0.985730 Loss: 0.010968 | Val Acc: 0.846297 loss: 0.477582\n",
            "[463/3000] Train Acc: 0.985730 Loss: 0.012084 | Val Acc: 0.868065 loss: 0.404448\n",
            "[464/3000] Train Acc: 0.986261 Loss: 0.011288 | Val Acc: 0.871250 loss: 0.413394\n",
            "[465/3000] Train Acc: 0.986991 Loss: 0.011246 | Val Acc: 0.856119 loss: 0.473329\n",
            "[466/3000] Train Acc: 0.986726 Loss: 0.011942 | Val Acc: 0.834882 loss: 0.537321\n",
            "[467/3000] Train Acc: 0.985465 Loss: 0.015994 | Val Acc: 0.847093 loss: 0.491335\n",
            "[468/3000] Train Acc: 0.984934 Loss: 0.012940 | Val Acc: 0.818158 loss: 0.583803\n",
            "[469/3000] Train Acc: 0.987456 Loss: 0.011183 | Val Acc: 0.858774 loss: 0.476042\n",
            "[470/3000] Train Acc: 0.988053 Loss: 0.010591 | Val Acc: 0.860101 loss: 0.435782\n",
            "[471/3000] Train Acc: 0.986660 Loss: 0.009493 | Val Acc: 0.858243 loss: 0.470320\n",
            "[472/3000] Train Acc: 0.988518 Loss: 0.009677 | Val Acc: 0.857977 loss: 0.460062\n",
            "[473/3000] Train Acc: 0.987722 Loss: 0.011810 | Val Acc: 0.848951 loss: 0.513221\n",
            "[474/3000] Train Acc: 0.985930 Loss: 0.013439 | Val Acc: 0.849748 loss: 0.508229\n",
            "[475/3000] Train Acc: 0.985730 Loss: 0.011112 | Val Acc: 0.844704 loss: 0.539072\n",
            "[476/3000] Train Acc: 0.988850 Loss: 0.009577 | Val Acc: 0.873640 loss: 0.408388\n",
            "[477/3000] Train Acc: 0.988385 Loss: 0.010658 | Val Acc: 0.864879 loss: 0.444898\n",
            "[478/3000] Train Acc: 0.987788 Loss: 0.010445 | Val Acc: 0.853464 loss: 0.481997\n",
            "[479/3000] Train Acc: 0.987589 Loss: 0.008555 | Val Acc: 0.851606 loss: 0.512534\n",
            "[480/3000] Train Acc: 0.986660 Loss: 0.013247 | Val Acc: 0.876294 loss: 0.381454\n",
            "[481/3000] Train Acc: 0.988186 Loss: 0.008724 | Val Acc: 0.857181 loss: 0.447276\n",
            "[482/3000] Train Acc: 0.985266 Loss: 0.013055 | Val Acc: 0.846297 loss: 0.512892\n",
            "[483/3000] Train Acc: 0.986195 Loss: 0.010216 | Val Acc: 0.845235 loss: 0.491102\n",
            "[484/3000] Train Acc: 0.985664 Loss: 0.011926 | Val Acc: 0.860897 loss: 0.443663\n",
            "[485/3000] Train Acc: 0.988518 Loss: 0.009493 | Val Acc: 0.869658 loss: 0.425386\n",
            "[486/3000] Train Acc: 0.987191 Loss: 0.010716 | Val Acc: 0.872047 loss: 0.423431\n",
            "[487/3000] Train Acc: 0.986195 Loss: 0.012802 | Val Acc: 0.868596 loss: 0.402323\n",
            "[488/3000] Train Acc: 0.988584 Loss: 0.010350 | Val Acc: 0.827714 loss: 0.531729\n",
            "[489/3000] Train Acc: 0.986593 Loss: 0.012555 | Val Acc: 0.852137 loss: 0.445979\n",
            "[490/3000] Train Acc: 0.985730 Loss: 0.011912 | Val Acc: 0.837537 loss: 0.506259\n",
            "[491/3000] Train Acc: 0.988252 Loss: 0.010582 | Val Acc: 0.868065 loss: 0.404652\n",
            "[492/3000] Train Acc: 0.987589 Loss: 0.010967 | Val Acc: 0.811256 loss: 0.572641\n",
            "[493/3000] Train Acc: 0.985465 Loss: 0.012564 | Val Acc: 0.860632 loss: 0.415886\n",
            "[494/3000] Train Acc: 0.989646 Loss: 0.010261 | Val Acc: 0.843377 loss: 0.446315\n",
            "[495/3000] Train Acc: 0.989978 Loss: 0.011816 | Val Acc: 0.883727 loss: 0.350820\n",
            "saving model with acc 0.884\n",
            "[496/3000] Train Acc: 0.987058 Loss: 0.011585 | Val Acc: 0.868861 loss: 0.393176\n",
            "[497/3000] Train Acc: 0.988651 Loss: 0.009542 | Val Acc: 0.883196 loss: 0.357080\n",
            "[498/3000] Train Acc: 0.990044 Loss: 0.008610 | Val Acc: 0.868861 loss: 0.386228\n",
            "[499/3000] Train Acc: 0.988584 Loss: 0.010909 | Val Acc: 0.831962 loss: 0.519149\n",
            "[500/3000] Train Acc: 0.988452 Loss: 0.009271 | Val Acc: 0.855057 loss: 0.438596\n",
            "[501/3000] Train Acc: 0.988518 Loss: 0.011922 | Val Acc: 0.859835 loss: 0.451682\n",
            "[502/3000] Train Acc: 0.988186 Loss: 0.010614 | Val Acc: 0.867003 loss: 0.425143\n",
            "[503/3000] Train Acc: 0.987124 Loss: 0.012555 | Val Acc: 0.870454 loss: 0.387462\n",
            "[504/3000] Train Acc: 0.989779 Loss: 0.009546 | Val Acc: 0.879214 loss: 0.373437\n",
            "[505/3000] Train Acc: 0.988518 Loss: 0.011552 | Val Acc: 0.880011 loss: 0.349681\n",
            "[506/3000] Train Acc: 0.988319 Loss: 0.010547 | Val Acc: 0.851606 loss: 0.463724\n",
            "[507/3000] Train Acc: 0.987655 Loss: 0.009923 | Val Acc: 0.871781 loss: 0.411835\n",
            "[508/3000] Train Acc: 0.988983 Loss: 0.011815 | Val Acc: 0.836475 loss: 0.525473\n",
            "[509/3000] Train Acc: 0.984668 Loss: 0.011868 | Val Acc: 0.811256 loss: 0.596413\n",
            "[510/3000] Train Acc: 0.987323 Loss: 0.010392 | Val Acc: 0.865410 loss: 0.427518\n",
            "[511/3000] Train Acc: 0.989115 Loss: 0.009434 | Val Acc: 0.854526 loss: 0.444752\n",
            "[512/3000] Train Acc: 0.988252 Loss: 0.011306 | Val Acc: 0.872843 loss: 0.407920\n",
            "[513/3000] Train Acc: 0.990044 Loss: 0.008307 | Val Acc: 0.878418 loss: 0.388238\n",
            "[514/3000] Train Acc: 0.990642 Loss: 0.009283 | Val Acc: 0.884789 loss: 0.370234\n",
            "saving model with acc 0.885\n",
            "[515/3000] Train Acc: 0.987722 Loss: 0.010188 | Val Acc: 0.877091 loss: 0.384400\n",
            "[516/3000] Train Acc: 0.987921 Loss: 0.011613 | Val Acc: 0.863552 loss: 0.424353\n",
            "[517/3000] Train Acc: 0.987788 Loss: 0.010557 | Val Acc: 0.873640 loss: 0.406714\n",
            "[518/3000] Train Acc: 0.988651 Loss: 0.010028 | Val Acc: 0.853464 loss: 0.462012\n",
            "[519/3000] Train Acc: 0.990708 Loss: 0.007218 | Val Acc: 0.850544 loss: 0.497628\n",
            "[520/3000] Train Acc: 0.989713 Loss: 0.009544 | Val Acc: 0.848155 loss: 0.459466\n",
            "[521/3000] Train Acc: 0.989115 Loss: 0.011246 | Val Acc: 0.881072 loss: 0.381158\n",
            "[522/3000] Train Acc: 0.987257 Loss: 0.012448 | Val Acc: 0.889302 loss: 0.360369\n",
            "saving model with acc 0.889\n",
            "[523/3000] Train Acc: 0.988651 Loss: 0.011758 | Val Acc: 0.879214 loss: 0.384966\n",
            "[524/3000] Train Acc: 0.987390 Loss: 0.009618 | Val Acc: 0.861694 loss: 0.443803\n",
            "[525/3000] Train Acc: 0.988584 Loss: 0.010992 | Val Acc: 0.871250 loss: 0.406393\n",
            "[526/3000] Train Acc: 0.989978 Loss: 0.009665 | Val Acc: 0.884258 loss: 0.366728\n",
            "[527/3000] Train Acc: 0.988120 Loss: 0.009266 | Val Acc: 0.873905 loss: 0.399760\n",
            "[528/3000] Train Acc: 0.984934 Loss: 0.011841 | Val Acc: 0.865410 loss: 0.400264\n",
            "[529/3000] Train Acc: 0.989381 Loss: 0.011156 | Val Acc: 0.861428 loss: 0.405664\n",
            "[530/3000] Train Acc: 0.987058 Loss: 0.009934 | Val Acc: 0.875232 loss: 0.390821\n",
            "[531/3000] Train Acc: 0.987655 Loss: 0.009939 | Val Acc: 0.849748 loss: 0.479088\n",
            "[532/3000] Train Acc: 0.985730 Loss: 0.010766 | Val Acc: 0.861428 loss: 0.429643\n",
            "[533/3000] Train Acc: 0.987921 Loss: 0.010663 | Val Acc: 0.807274 loss: 0.576431\n",
            "[534/3000] Train Acc: 0.988916 Loss: 0.009765 | Val Acc: 0.831696 loss: 0.511902\n",
            "[535/3000] Train Acc: 0.987655 Loss: 0.011529 | Val Acc: 0.885054 loss: 0.343287\n",
            "[536/3000] Train Acc: 0.987456 Loss: 0.010362 | Val Acc: 0.881869 loss: 0.369713\n",
            "[537/3000] Train Acc: 0.989912 Loss: 0.008961 | Val Acc: 0.871516 loss: 0.405064\n",
            "[538/3000] Train Acc: 0.990841 Loss: 0.011007 | Val Acc: 0.859039 loss: 0.412699\n",
            "[539/3000] Train Acc: 0.988916 Loss: 0.010657 | Val Acc: 0.876294 loss: 0.377824\n",
            "[540/3000] Train Acc: 0.991106 Loss: 0.009695 | Val Acc: 0.881072 loss: 0.359768\n",
            "[541/3000] Train Acc: 0.989779 Loss: 0.010198 | Val Acc: 0.877621 loss: 0.386177\n",
            "[542/3000] Train Acc: 0.990111 Loss: 0.009779 | Val Acc: 0.876560 loss: 0.375835\n",
            "[543/3000] Train Acc: 0.988518 Loss: 0.009016 | Val Acc: 0.876560 loss: 0.378021\n",
            "[544/3000] Train Acc: 0.990310 Loss: 0.009396 | Val Acc: 0.867268 loss: 0.405165\n",
            "[545/3000] Train Acc: 0.989182 Loss: 0.011379 | Val Acc: 0.873109 loss: 0.390844\n",
            "[546/3000] Train Acc: 0.990775 Loss: 0.008168 | Val Acc: 0.851341 loss: 0.446489\n",
            "[547/3000] Train Acc: 0.987522 Loss: 0.010647 | Val Acc: 0.866472 loss: 0.392233\n",
            "[548/3000] Train Acc: 0.992036 Loss: 0.007959 | Val Acc: 0.844439 loss: 0.440887\n",
            "[549/3000] Train Acc: 0.990443 Loss: 0.008690 | Val Acc: 0.873109 loss: 0.396137\n",
            "[550/3000] Train Acc: 0.990044 Loss: 0.010241 | Val Acc: 0.896204 loss: 0.319175\n",
            "saving model with acc 0.896\n",
            "[551/3000] Train Acc: 0.989779 Loss: 0.008586 | Val Acc: 0.882400 loss: 0.364127\n",
            "[552/3000] Train Acc: 0.989381 Loss: 0.010548 | Val Acc: 0.870454 loss: 0.388673\n",
            "[553/3000] Train Acc: 0.984469 Loss: 0.010725 | Val Acc: 0.858508 loss: 0.428970\n",
            "[554/3000] Train Acc: 0.989978 Loss: 0.008188 | Val Acc: 0.870719 loss: 0.402046\n",
            "[555/3000] Train Acc: 0.990111 Loss: 0.009722 | Val Acc: 0.857446 loss: 0.448671\n",
            "[556/3000] Train Acc: 0.988252 Loss: 0.009133 | Val Acc: 0.866472 loss: 0.421618\n",
            "[557/3000] Train Acc: 0.990642 Loss: 0.009247 | Val Acc: 0.858243 loss: 0.465395\n",
            "[558/3000] Train Acc: 0.991969 Loss: 0.008223 | Val Acc: 0.867534 loss: 0.420844\n",
            "[559/3000] Train Acc: 0.989978 Loss: 0.008354 | Val Acc: 0.870188 loss: 0.401102\n",
            "[560/3000] Train Acc: 0.989447 Loss: 0.011664 | Val Acc: 0.869127 loss: 0.398136\n",
            "[561/3000] Train Acc: 0.992235 Loss: 0.007612 | Val Acc: 0.867268 loss: 0.407337\n",
            "[562/3000] Train Acc: 0.991239 Loss: 0.008682 | Val Acc: 0.890364 loss: 0.337272\n",
            "[563/3000] Train Acc: 0.989115 Loss: 0.008678 | Val Acc: 0.877356 loss: 0.359582\n",
            "[564/3000] Train Acc: 0.989713 Loss: 0.010550 | Val Acc: 0.867003 loss: 0.406468\n",
            "[565/3000] Train Acc: 0.990775 Loss: 0.008367 | Val Acc: 0.853464 loss: 0.463696\n",
            "[566/3000] Train Acc: 0.989646 Loss: 0.010115 | Val Acc: 0.842580 loss: 0.449925\n",
            "[567/3000] Train Acc: 0.989978 Loss: 0.008141 | Val Acc: 0.850544 loss: 0.476741\n",
            "[568/3000] Train Acc: 0.989779 Loss: 0.009534 | Val Acc: 0.844969 loss: 0.484561\n",
            "[569/3000] Train Acc: 0.987788 Loss: 0.010713 | Val Acc: 0.884523 loss: 0.352665\n",
            "[570/3000] Train Acc: 0.986660 Loss: 0.010327 | Val Acc: 0.854792 loss: 0.445395\n",
            "[571/3000] Train Acc: 0.987722 Loss: 0.010577 | Val Acc: 0.857446 loss: 0.449798\n",
            "[572/3000] Train Acc: 0.989978 Loss: 0.011187 | Val Acc: 0.859570 loss: 0.422114\n",
            "[573/3000] Train Acc: 0.990775 Loss: 0.008425 | Val Acc: 0.854261 loss: 0.441102\n",
            "[574/3000] Train Acc: 0.989115 Loss: 0.008141 | Val Acc: 0.881072 loss: 0.363981\n",
            "[575/3000] Train Acc: 0.987257 Loss: 0.011794 | Val Acc: 0.871781 loss: 0.411973\n",
            "[576/3000] Train Acc: 0.990708 Loss: 0.009427 | Val Acc: 0.862490 loss: 0.438254\n",
            "[577/3000] Train Acc: 0.988850 Loss: 0.010091 | Val Acc: 0.876029 loss: 0.387992\n",
            "[578/3000] Train Acc: 0.990907 Loss: 0.009969 | Val Acc: 0.866737 loss: 0.413909\n",
            "[579/3000] Train Acc: 0.988518 Loss: 0.009834 | Val Acc: 0.855853 loss: 0.468071\n",
            "[580/3000] Train Acc: 0.987987 Loss: 0.010740 | Val Acc: 0.865145 loss: 0.434007\n",
            "[581/3000] Train Acc: 0.989514 Loss: 0.009592 | Val Acc: 0.866207 loss: 0.410514\n",
            "[582/3000] Train Acc: 0.990907 Loss: 0.008411 | Val Acc: 0.887444 loss: 0.356855\n",
            "[583/3000] Train Acc: 0.989049 Loss: 0.010411 | Val Acc: 0.872578 loss: 0.425282\n",
            "[584/3000] Train Acc: 0.992102 Loss: 0.009557 | Val Acc: 0.846297 loss: 0.512935\n",
            "[585/3000] Train Acc: 0.989381 Loss: 0.008609 | Val Acc: 0.874436 loss: 0.392035\n",
            "[586/3000] Train Acc: 0.989182 Loss: 0.010293 | Val Acc: 0.867003 loss: 0.398353\n",
            "[587/3000] Train Acc: 0.988717 Loss: 0.010144 | Val Acc: 0.874436 loss: 0.398278\n",
            "[588/3000] Train Acc: 0.990244 Loss: 0.009278 | Val Acc: 0.874170 loss: 0.397325\n",
            "[589/3000] Train Acc: 0.989381 Loss: 0.010491 | Val Acc: 0.883462 loss: 0.375418\n",
            "[590/3000] Train Acc: 0.990642 Loss: 0.009442 | Val Acc: 0.857712 loss: 0.419484\n",
            "[591/3000] Train Acc: 0.989182 Loss: 0.011346 | Val Acc: 0.870719 loss: 0.423560\n",
            "[592/3000] Train Acc: 0.987854 Loss: 0.010408 | Val Acc: 0.848420 loss: 0.455279\n",
            "[593/3000] Train Acc: 0.990044 Loss: 0.009647 | Val Acc: 0.889567 loss: 0.336794\n",
            "[594/3000] Train Acc: 0.988452 Loss: 0.009712 | Val Acc: 0.889036 loss: 0.326319\n",
            "[595/3000] Train Acc: 0.990974 Loss: 0.008958 | Val Acc: 0.873374 loss: 0.410996\n",
            "[596/3000] Train Acc: 0.990775 Loss: 0.010727 | Val Acc: 0.814176 loss: 0.624248\n",
            "[597/3000] Train Acc: 0.989115 Loss: 0.010459 | Val Acc: 0.841253 loss: 0.494843\n",
            "[598/3000] Train Acc: 0.988252 Loss: 0.011145 | Val Acc: 0.873905 loss: 0.405804\n",
            "[599/3000] Train Acc: 0.990708 Loss: 0.008363 | Val Acc: 0.877887 loss: 0.384329\n",
            "[600/3000] Train Acc: 0.990708 Loss: 0.008180 | Val Acc: 0.839129 loss: 0.499629\n",
            "[601/3000] Train Acc: 0.990244 Loss: 0.010276 | Val Acc: 0.863552 loss: 0.423024\n",
            "[602/3000] Train Acc: 0.990907 Loss: 0.009080 | Val Acc: 0.863552 loss: 0.448423\n",
            "[603/3000] Train Acc: 0.992036 Loss: 0.007072 | Val Acc: 0.869392 loss: 0.402236\n",
            "[604/3000] Train Acc: 0.990244 Loss: 0.009609 | Val Acc: 0.869392 loss: 0.412216\n",
            "[605/3000] Train Acc: 0.992500 Loss: 0.007799 | Val Acc: 0.837271 loss: 0.488238\n",
            "[606/3000] Train Acc: 0.991505 Loss: 0.008714 | Val Acc: 0.887975 loss: 0.339769\n",
            "[607/3000] Train Acc: 0.990642 Loss: 0.007548 | Val Acc: 0.878949 loss: 0.366258\n",
            "[608/3000] Train Acc: 0.991571 Loss: 0.008246 | Val Acc: 0.839926 loss: 0.479928\n",
            "[609/3000] Train Acc: 0.988385 Loss: 0.009839 | Val Acc: 0.856384 loss: 0.421916\n",
            "[610/3000] Train Acc: 0.990575 Loss: 0.010871 | Val Acc: 0.862490 loss: 0.402835\n",
            "[611/3000] Train Acc: 0.990177 Loss: 0.010195 | Val Acc: 0.880807 loss: 0.343363\n",
            "[612/3000] Train Acc: 0.989845 Loss: 0.010501 | Val Acc: 0.889833 loss: 0.350077\n",
            "[613/3000] Train Acc: 0.991306 Loss: 0.007634 | Val Acc: 0.894080 loss: 0.321478\n",
            "[614/3000] Train Acc: 0.989447 Loss: 0.011214 | Val Acc: 0.873109 loss: 0.402488\n",
            "[615/3000] Train Acc: 0.990111 Loss: 0.009542 | Val Acc: 0.896204 loss: 0.311191\n",
            "[616/3000] Train Acc: 0.990841 Loss: 0.007645 | Val Acc: 0.874967 loss: 0.396727\n",
            "[617/3000] Train Acc: 0.988916 Loss: 0.007941 | Val Acc: 0.856650 loss: 0.472780\n",
            "[618/3000] Train Acc: 0.990244 Loss: 0.008672 | Val Acc: 0.867799 loss: 0.438946\n",
            "[619/3000] Train Acc: 0.990642 Loss: 0.008392 | Val Acc: 0.869923 loss: 0.428515\n",
            "[620/3000] Train Acc: 0.990642 Loss: 0.009086 | Val Acc: 0.841784 loss: 0.519333\n",
            "[621/3000] Train Acc: 0.988385 Loss: 0.008092 | Val Acc: 0.843377 loss: 0.533747\n",
            "[622/3000] Train Acc: 0.990111 Loss: 0.009370 | Val Acc: 0.870985 loss: 0.413146\n",
            "[623/3000] Train Acc: 0.988452 Loss: 0.010805 | Val Acc: 0.890364 loss: 0.347942\n",
            "[624/3000] Train Acc: 0.989447 Loss: 0.009831 | Val Acc: 0.873109 loss: 0.421849\n",
            "[625/3000] Train Acc: 0.991438 Loss: 0.010715 | Val Acc: 0.897000 loss: 0.329508\n",
            "saving model with acc 0.897\n",
            "[626/3000] Train Acc: 0.987456 Loss: 0.010526 | Val Acc: 0.878683 loss: 0.393176\n",
            "[627/3000] Train Acc: 0.990974 Loss: 0.010002 | Val Acc: 0.889302 loss: 0.356700\n",
            "[628/3000] Train Acc: 0.989646 Loss: 0.010098 | Val Acc: 0.884258 loss: 0.350298\n",
            "[629/3000] Train Acc: 0.988850 Loss: 0.009738 | Val Acc: 0.893284 loss: 0.340842\n",
            "[630/3000] Train Acc: 0.990775 Loss: 0.010034 | Val Acc: 0.882400 loss: 0.375103\n",
            "[631/3000] Train Acc: 0.988053 Loss: 0.009077 | Val Acc: 0.889567 loss: 0.351611\n",
            "[632/3000] Train Acc: 0.990111 Loss: 0.007990 | Val Acc: 0.894877 loss: 0.327883\n",
            "[633/3000] Train Acc: 0.991372 Loss: 0.007875 | Val Acc: 0.895407 loss: 0.326537\n",
            "[634/3000] Train Acc: 0.990376 Loss: 0.009419 | Val Acc: 0.888771 loss: 0.351089\n",
            "[635/3000] Train Acc: 0.990775 Loss: 0.008186 | Val Acc: 0.882134 loss: 0.388107\n",
            "[636/3000] Train Acc: 0.987722 Loss: 0.009884 | Val Acc: 0.873374 loss: 0.422204\n",
            "[637/3000] Train Acc: 0.990177 Loss: 0.009415 | Val Acc: 0.868596 loss: 0.432662\n",
            "[638/3000] Train Acc: 0.990509 Loss: 0.010553 | Val Acc: 0.874701 loss: 0.407363\n",
            "[639/3000] Train Acc: 0.989912 Loss: 0.010373 | Val Acc: 0.885054 loss: 0.371592\n",
            "[640/3000] Train Acc: 0.990509 Loss: 0.009058 | Val Acc: 0.867534 loss: 0.424991\n",
            "[641/3000] Train Acc: 0.991040 Loss: 0.008865 | Val Acc: 0.885851 loss: 0.370659\n",
            "[642/3000] Train Acc: 0.991770 Loss: 0.007419 | Val Acc: 0.874170 loss: 0.411309\n",
            "[643/3000] Train Acc: 0.989912 Loss: 0.008836 | Val Acc: 0.877887 loss: 0.409860\n",
            "[644/3000] Train Acc: 0.992102 Loss: 0.007054 | Val Acc: 0.865410 loss: 0.443923\n",
            "[645/3000] Train Acc: 0.990775 Loss: 0.008981 | Val Acc: 0.851341 loss: 0.459409\n",
            "[646/3000] Train Acc: 0.990509 Loss: 0.011662 | Val Acc: 0.870985 loss: 0.409683\n",
            "[647/3000] Train Acc: 0.988651 Loss: 0.008579 | Val Acc: 0.865410 loss: 0.461325\n",
            "[648/3000] Train Acc: 0.990111 Loss: 0.008264 | Val Acc: 0.883993 loss: 0.372755\n",
            "[649/3000] Train Acc: 0.991372 Loss: 0.007840 | Val Acc: 0.867003 loss: 0.436327\n",
            "[650/3000] Train Acc: 0.990775 Loss: 0.008970 | Val Acc: 0.877091 loss: 0.397699\n",
            "[651/3000] Train Acc: 0.990775 Loss: 0.011430 | Val Acc: 0.874436 loss: 0.400644\n",
            "[652/3000] Train Acc: 0.990642 Loss: 0.008264 | Val Acc: 0.871250 loss: 0.413981\n",
            "[653/3000] Train Acc: 0.989580 Loss: 0.010086 | Val Acc: 0.800903 loss: 0.621505\n",
            "[654/3000] Train Acc: 0.992567 Loss: 0.009388 | Val Acc: 0.846828 loss: 0.511694\n",
            "[655/3000] Train Acc: 0.989912 Loss: 0.011463 | Val Acc: 0.871250 loss: 0.415533\n",
            "[656/3000] Train Acc: 0.989845 Loss: 0.008826 | Val Acc: 0.838067 loss: 0.536017\n",
            "[657/3000] Train Acc: 0.991239 Loss: 0.008657 | Val Acc: 0.860101 loss: 0.467921\n",
            "[658/3000] Train Acc: 0.990708 Loss: 0.008367 | Val Acc: 0.844704 loss: 0.537846\n",
            "[659/3000] Train Acc: 0.990376 Loss: 0.010560 | Val Acc: 0.839395 loss: 0.525282\n",
            "[660/3000] Train Acc: 0.991040 Loss: 0.012014 | Val Acc: 0.862756 loss: 0.436099\n",
            "[661/3000] Train Acc: 0.989978 Loss: 0.008409 | Val Acc: 0.879745 loss: 0.412623\n",
            "[662/3000] Train Acc: 0.989447 Loss: 0.010755 | Val Acc: 0.853730 loss: 0.486087\n",
            "[663/3000] Train Acc: 0.988120 Loss: 0.009451 | Val Acc: 0.865941 loss: 0.433761\n",
            "[664/3000] Train Acc: 0.990244 Loss: 0.008607 | Val Acc: 0.855057 loss: 0.467205\n",
            "[665/3000] Train Acc: 0.992434 Loss: 0.006957 | Val Acc: 0.853995 loss: 0.488369\n",
            "[666/3000] Train Acc: 0.990376 Loss: 0.009794 | Val Acc: 0.883196 loss: 0.371983\n",
            "[667/3000] Train Acc: 0.992102 Loss: 0.008230 | Val Acc: 0.883462 loss: 0.374823\n",
            "[668/3000] Train Acc: 0.988916 Loss: 0.012246 | Val Acc: 0.889036 loss: 0.353585\n",
            "[669/3000] Train Acc: 0.991903 Loss: 0.009219 | Val Acc: 0.880542 loss: 0.384488\n",
            "[670/3000] Train Acc: 0.989713 Loss: 0.009770 | Val Acc: 0.880542 loss: 0.372803\n",
            "[671/3000] Train Acc: 0.990376 Loss: 0.008990 | Val Acc: 0.869923 loss: 0.417206\n",
            "[672/3000] Train Acc: 0.990775 Loss: 0.007670 | Val Acc: 0.847624 loss: 0.481810\n",
            "[673/3000] Train Acc: 0.989646 Loss: 0.008645 | Val Acc: 0.818158 loss: 0.564477\n",
            "[674/3000] Train Acc: 0.989514 Loss: 0.007754 | Val Acc: 0.841518 loss: 0.548232\n",
            "[675/3000] Train Acc: 0.990376 Loss: 0.007767 | Val Acc: 0.876825 loss: 0.405381\n",
            "[676/3000] Train Acc: 0.991372 Loss: 0.008824 | Val Acc: 0.865410 loss: 0.446260\n",
            "[677/3000] Train Acc: 0.988783 Loss: 0.011012 | Val Acc: 0.860366 loss: 0.480940\n",
            "[678/3000] Train Acc: 0.989248 Loss: 0.009066 | Val Acc: 0.852933 loss: 0.493201\n",
            "[679/3000] Train Acc: 0.992168 Loss: 0.009532 | Val Acc: 0.865676 loss: 0.459345\n",
            "[680/3000] Train Acc: 0.991571 Loss: 0.007703 | Val Acc: 0.859039 loss: 0.462638\n",
            "[681/3000] Train Acc: 0.991372 Loss: 0.007762 | Val Acc: 0.868596 loss: 0.448833\n",
            "[682/3000] Train Acc: 0.988717 Loss: 0.011119 | Val Acc: 0.865145 loss: 0.449201\n",
            "[683/3000] Train Acc: 0.991770 Loss: 0.008999 | Val Acc: 0.839129 loss: 0.525355\n",
            "[684/3000] Train Acc: 0.990775 Loss: 0.010632 | Val Acc: 0.869923 loss: 0.442349\n",
            "[685/3000] Train Acc: 0.991571 Loss: 0.009777 | Val Acc: 0.867003 loss: 0.452626\n",
            "[686/3000] Train Acc: 0.990244 Loss: 0.009365 | Val Acc: 0.844173 loss: 0.495857\n",
            "[687/3000] Train Acc: 0.991704 Loss: 0.009850 | Val Acc: 0.872047 loss: 0.413977\n",
            "[688/3000] Train Acc: 0.990775 Loss: 0.008899 | Val Acc: 0.846562 loss: 0.493800\n",
            "[689/3000] Train Acc: 0.991173 Loss: 0.008295 | Val Acc: 0.835678 loss: 0.503826\n",
            "[690/3000] Train Acc: 0.989248 Loss: 0.009781 | Val Acc: 0.867003 loss: 0.436163\n",
            "[691/3000] Train Acc: 0.988916 Loss: 0.009809 | Val Acc: 0.870454 loss: 0.423561\n",
            "[692/3000] Train Acc: 0.991637 Loss: 0.007549 | Val Acc: 0.854526 loss: 0.489720\n",
            "[693/3000] Train Acc: 0.990907 Loss: 0.008717 | Val Acc: 0.851872 loss: 0.499563\n",
            "[694/3000] Train Acc: 0.990376 Loss: 0.009802 | Val Acc: 0.855588 loss: 0.497811\n",
            "[695/3000] Train Acc: 0.991704 Loss: 0.008045 | Val Acc: 0.865145 loss: 0.440381\n",
            "[696/3000] Train Acc: 0.988850 Loss: 0.010217 | Val Acc: 0.865941 loss: 0.462560\n",
            "[697/3000] Train Acc: 0.990443 Loss: 0.007840 | Val Acc: 0.855853 loss: 0.502857\n",
            "[698/3000] Train Acc: 0.991106 Loss: 0.008228 | Val Acc: 0.864083 loss: 0.450823\n",
            "[699/3000] Train Acc: 0.991770 Loss: 0.008573 | Val Acc: 0.887444 loss: 0.360500\n",
            "[700/3000] Train Acc: 0.988717 Loss: 0.009206 | Val Acc: 0.857712 loss: 0.452669\n",
            "[701/3000] Train Acc: 0.992633 Loss: 0.007029 | Val Acc: 0.852402 loss: 0.475521\n",
            "[702/3000] Train Acc: 0.991106 Loss: 0.007496 | Val Acc: 0.870719 loss: 0.409275\n",
            "[703/3000] Train Acc: 0.990310 Loss: 0.009860 | Val Acc: 0.848155 loss: 0.458440\n",
            "[704/3000] Train Acc: 0.986527 Loss: 0.012571 | Val Acc: 0.867268 loss: 0.406685\n",
            "[705/3000] Train Acc: 0.990907 Loss: 0.008136 | Val Acc: 0.876825 loss: 0.377374\n",
            "[706/3000] Train Acc: 0.990177 Loss: 0.010310 | Val Acc: 0.892753 loss: 0.347489\n",
            "[707/3000] Train Acc: 0.990044 Loss: 0.010734 | Val Acc: 0.890895 loss: 0.341204\n",
            "[708/3000] Train Acc: 0.991239 Loss: 0.008723 | Val Acc: 0.892222 loss: 0.325721\n",
            "[709/3000] Train Acc: 0.990111 Loss: 0.008211 | Val Acc: 0.854261 loss: 0.441374\n",
            "[710/3000] Train Acc: 0.991040 Loss: 0.007861 | Val Acc: 0.901248 loss: 0.318654\n",
            "saving model with acc 0.901\n",
            "[711/3000] Train Acc: 0.991704 Loss: 0.006852 | Val Acc: 0.880011 loss: 0.380641\n",
            "[712/3000] Train Acc: 0.991438 Loss: 0.008395 | Val Acc: 0.858774 loss: 0.481223\n",
            "[713/3000] Train Acc: 0.992500 Loss: 0.008043 | Val Acc: 0.888771 loss: 0.363199\n",
            "[714/3000] Train Acc: 0.992301 Loss: 0.007243 | Val Acc: 0.867268 loss: 0.437025\n",
            "[715/3000] Train Acc: 0.991903 Loss: 0.008559 | Val Acc: 0.854792 loss: 0.466903\n",
            "[716/3000] Train Acc: 0.988584 Loss: 0.012301 | Val Acc: 0.867268 loss: 0.440351\n",
            "[717/3000] Train Acc: 0.990376 Loss: 0.009414 | Val Acc: 0.876825 loss: 0.402577\n",
            "[718/3000] Train Acc: 0.992434 Loss: 0.007823 | Val Acc: 0.860366 loss: 0.486007\n",
            "[719/3000] Train Acc: 0.990044 Loss: 0.008194 | Val Acc: 0.871250 loss: 0.431370\n",
            "[720/3000] Train Acc: 0.990708 Loss: 0.009304 | Val Acc: 0.880807 loss: 0.394428\n",
            "[721/3000] Train Acc: 0.989912 Loss: 0.012373 | Val Acc: 0.873905 loss: 0.412316\n",
            "[722/3000] Train Acc: 0.990310 Loss: 0.011477 | Val Acc: 0.868596 loss: 0.401564\n",
            "[723/3000] Train Acc: 0.990111 Loss: 0.010058 | Val Acc: 0.852137 loss: 0.482797\n",
            "[724/3000] Train Acc: 0.992036 Loss: 0.008343 | Val Acc: 0.859570 loss: 0.435297\n",
            "[725/3000] Train Acc: 0.989314 Loss: 0.011065 | Val Acc: 0.869127 loss: 0.421353\n",
            "[726/3000] Train Acc: 0.989646 Loss: 0.008947 | Val Acc: 0.859835 loss: 0.460025\n",
            "[727/3000] Train Acc: 0.992766 Loss: 0.006833 | Val Acc: 0.850810 loss: 0.489419\n",
            "[728/3000] Train Acc: 0.992766 Loss: 0.007563 | Val Acc: 0.863021 loss: 0.460340\n",
            "[729/3000] Train Acc: 0.990642 Loss: 0.008718 | Val Acc: 0.881338 loss: 0.371918\n",
            "[730/3000] Train Acc: 0.991704 Loss: 0.007921 | Val Acc: 0.835944 loss: 0.520374\n",
            "[731/3000] Train Acc: 0.992168 Loss: 0.007839 | Val Acc: 0.833289 loss: 0.525670\n",
            "[732/3000] Train Acc: 0.989978 Loss: 0.009535 | Val Acc: 0.869127 loss: 0.426810\n",
            "[733/3000] Train Acc: 0.989248 Loss: 0.009511 | Val Acc: 0.878152 loss: 0.393721\n",
            "[734/3000] Train Acc: 0.990111 Loss: 0.009604 | Val Acc: 0.888505 loss: 0.369489\n",
            "[735/3000] Train Acc: 0.987124 Loss: 0.014389 | Val Acc: 0.867003 loss: 0.439621\n",
            "[736/3000] Train Acc: 0.990907 Loss: 0.008837 | Val Acc: 0.854792 loss: 0.480874\n",
            "[737/3000] Train Acc: 0.990310 Loss: 0.010698 | Val Acc: 0.871516 loss: 0.428084\n",
            "[738/3000] Train Acc: 0.990575 Loss: 0.008632 | Val Acc: 0.867003 loss: 0.435623\n",
            "[739/3000] Train Acc: 0.989314 Loss: 0.009897 | Val Acc: 0.880542 loss: 0.387036\n",
            "[740/3000] Train Acc: 0.992699 Loss: 0.008808 | Val Acc: 0.888240 loss: 0.365058\n",
            "[741/3000] Train Acc: 0.992434 Loss: 0.008936 | Val Acc: 0.890629 loss: 0.346412\n",
            "[742/3000] Train Acc: 0.991040 Loss: 0.007752 | Val Acc: 0.886913 loss: 0.373414\n",
            "[743/3000] Train Acc: 0.991106 Loss: 0.008016 | Val Acc: 0.883462 loss: 0.384878\n",
            "[744/3000] Train Acc: 0.990111 Loss: 0.010981 | Val Acc: 0.886913 loss: 0.379370\n",
            "[745/3000] Train Acc: 0.991239 Loss: 0.008207 | Val Acc: 0.874967 loss: 0.406339\n",
            "[746/3000] Train Acc: 0.991372 Loss: 0.009915 | Val Acc: 0.893815 loss: 0.354183\n",
            "[747/3000] Train Acc: 0.990443 Loss: 0.010073 | Val Acc: 0.876294 loss: 0.423730\n",
            "[748/3000] Train Acc: 0.992367 Loss: 0.008085 | Val Acc: 0.864083 loss: 0.463193\n",
            "[749/3000] Train Acc: 0.991438 Loss: 0.011294 | Val Acc: 0.878949 loss: 0.395452\n",
            "[750/3000] Train Acc: 0.992434 Loss: 0.009139 | Val Acc: 0.843908 loss: 0.563571\n",
            "[751/3000] Train Acc: 0.990841 Loss: 0.008660 | Val Acc: 0.861694 loss: 0.470990\n",
            "[752/3000] Train Acc: 0.991239 Loss: 0.008362 | Val Acc: 0.861163 loss: 0.484831\n",
            "[753/3000] Train Acc: 0.991173 Loss: 0.008104 | Val Acc: 0.871781 loss: 0.431758\n",
            "[754/3000] Train Acc: 0.989978 Loss: 0.009662 | Val Acc: 0.892222 loss: 0.338568\n",
            "[755/3000] Train Acc: 0.989912 Loss: 0.009989 | Val Acc: 0.843908 loss: 0.477810\n",
            "[756/3000] Train Acc: 0.991637 Loss: 0.009726 | Val Acc: 0.835944 loss: 0.518962\n",
            "[757/3000] Train Acc: 0.991836 Loss: 0.010766 | Val Acc: 0.852668 loss: 0.524648\n",
            "[758/3000] Train Acc: 0.990841 Loss: 0.007767 | Val Acc: 0.843377 loss: 0.475230\n",
            "[759/3000] Train Acc: 0.991505 Loss: 0.007260 | Val Acc: 0.872312 loss: 0.443665\n",
            "[760/3000] Train Acc: 0.992699 Loss: 0.007639 | Val Acc: 0.862490 loss: 0.450544\n",
            "[761/3000] Train Acc: 0.991637 Loss: 0.008376 | Val Acc: 0.863552 loss: 0.466304\n",
            "[762/3000] Train Acc: 0.991173 Loss: 0.008668 | Val Acc: 0.879214 loss: 0.391113\n",
            "[763/3000] Train Acc: 0.988518 Loss: 0.009042 | Val Acc: 0.870719 loss: 0.435883\n",
            "[764/3000] Train Acc: 0.984270 Loss: 0.013596 | Val Acc: 0.831165 loss: 0.531913\n",
            "[765/3000] Train Acc: 0.988916 Loss: 0.008456 | Val Acc: 0.878152 loss: 0.403039\n",
            "[766/3000] Train Acc: 0.990310 Loss: 0.010592 | Val Acc: 0.842049 loss: 0.485529\n",
            "[767/3000] Train Acc: 0.992301 Loss: 0.008783 | Val Acc: 0.870188 loss: 0.412309\n",
            "[768/3000] Train Acc: 0.989182 Loss: 0.015164 | Val Acc: 0.882665 loss: 0.361116\n",
            "[769/3000] Train Acc: 0.990708 Loss: 0.007966 | Val Acc: 0.882134 loss: 0.368954\n",
            "[770/3000] Train Acc: 0.992766 Loss: 0.006583 | Val Acc: 0.880276 loss: 0.403980\n",
            "[771/3000] Train Acc: 0.992567 Loss: 0.006672 | Val Acc: 0.880807 loss: 0.379932\n",
            "[772/3000] Train Acc: 0.991969 Loss: 0.009535 | Val Acc: 0.894877 loss: 0.335727\n",
            "[773/3000] Train Acc: 0.990509 Loss: 0.008771 | Val Acc: 0.862756 loss: 0.474023\n",
            "[774/3000] Train Acc: 0.990111 Loss: 0.008380 | Val Acc: 0.856650 loss: 0.451387\n",
            "[775/3000] Train Acc: 0.991106 Loss: 0.007538 | Val Acc: 0.854526 loss: 0.460377\n",
            "[776/3000] Train Acc: 0.990310 Loss: 0.009382 | Val Acc: 0.778338 loss: 1.028924\n",
            "[777/3000] Train Acc: 0.990177 Loss: 0.011474 | Val Acc: 0.886116 loss: 0.367168\n",
            "[778/3000] Train Acc: 0.987323 Loss: 0.010481 | Val Acc: 0.864348 loss: 0.421665\n",
            "[779/3000] Train Acc: 0.991704 Loss: 0.008432 | Val Acc: 0.881603 loss: 0.389033\n",
            "[780/3000] Train Acc: 0.986062 Loss: 0.013239 | Val Acc: 0.883993 loss: 0.380734\n",
            "[781/3000] Train Acc: 0.988584 Loss: 0.010149 | Val Acc: 0.873374 loss: 0.399178\n",
            "[782/3000] Train Acc: 0.992102 Loss: 0.008087 | Val Acc: 0.872843 loss: 0.406449\n",
            "[783/3000] Train Acc: 0.991040 Loss: 0.010205 | Val Acc: 0.862225 loss: 0.442690\n",
            "[784/3000] Train Acc: 0.990775 Loss: 0.008331 | Val Acc: 0.878418 loss: 0.374406\n",
            "[785/3000] Train Acc: 0.991106 Loss: 0.007488 | Val Acc: 0.869658 loss: 0.419982\n",
            "[786/3000] Train Acc: 0.991173 Loss: 0.008964 | Val Acc: 0.854261 loss: 0.443208\n",
            "[787/3000] Train Acc: 0.990575 Loss: 0.009596 | Val Acc: 0.882400 loss: 0.375041\n",
            "[788/3000] Train Acc: 0.990841 Loss: 0.009732 | Val Acc: 0.866472 loss: 0.442502\n",
            "[789/3000] Train Acc: 0.992367 Loss: 0.008582 | Val Acc: 0.868330 loss: 0.460016\n",
            "[790/3000] Train Acc: 0.992699 Loss: 0.007022 | Val Acc: 0.840457 loss: 0.528159\n",
            "[791/3000] Train Acc: 0.993164 Loss: 0.008470 | Val Acc: 0.847890 loss: 0.550916\n",
            "[792/3000] Train Acc: 0.990044 Loss: 0.011424 | Val Acc: 0.813114 loss: 0.603946\n",
            "[793/3000] Train Acc: 0.989447 Loss: 0.010594 | Val Acc: 0.875232 loss: 0.416767\n",
            "[794/3000] Train Acc: 0.992168 Loss: 0.007272 | Val Acc: 0.876825 loss: 0.404936\n",
            "[795/3000] Train Acc: 0.991770 Loss: 0.009043 | Val Acc: 0.850810 loss: 0.461276\n",
            "[796/3000] Train Acc: 0.992434 Loss: 0.007937 | Val Acc: 0.867268 loss: 0.426872\n",
            "[797/3000] Train Acc: 0.992500 Loss: 0.008614 | Val Acc: 0.873640 loss: 0.390974\n",
            "[798/3000] Train Acc: 0.993363 Loss: 0.007622 | Val Acc: 0.867003 loss: 0.459481\n",
            "[799/3000] Train Acc: 0.989978 Loss: 0.010285 | Val Acc: 0.873905 loss: 0.406928\n",
            "[800/3000] Train Acc: 0.992434 Loss: 0.008659 | Val Acc: 0.878418 loss: 0.392264\n",
            "[801/3000] Train Acc: 0.991571 Loss: 0.007458 | Val Acc: 0.871781 loss: 0.409300\n",
            "[802/3000] Train Acc: 0.992500 Loss: 0.007319 | Val Acc: 0.890364 loss: 0.341859\n",
            "[803/3000] Train Acc: 0.994359 Loss: 0.005685 | Val Acc: 0.870188 loss: 0.416052\n",
            "[804/3000] Train Acc: 0.992567 Loss: 0.006139 | Val Acc: 0.880807 loss: 0.385875\n",
            "[805/3000] Train Acc: 0.992766 Loss: 0.008058 | Val Acc: 0.876825 loss: 0.391943\n",
            "[806/3000] Train Acc: 0.993230 Loss: 0.006149 | Val Acc: 0.885851 loss: 0.360726\n",
            "[807/3000] Train Acc: 0.993097 Loss: 0.007669 | Val Acc: 0.875498 loss: 0.385207\n",
            "[808/3000] Train Acc: 0.993562 Loss: 0.007069 | Val Acc: 0.875763 loss: 0.393791\n",
            "[809/3000] Train Acc: 0.994093 Loss: 0.006559 | Val Acc: 0.883462 loss: 0.359486\n",
            "[810/3000] Train Acc: 0.994823 Loss: 0.005626 | Val Acc: 0.881338 loss: 0.370654\n",
            "[811/3000] Train Acc: 0.993894 Loss: 0.005594 | Val Acc: 0.879480 loss: 0.392157\n",
            "[812/3000] Train Acc: 0.994359 Loss: 0.005262 | Val Acc: 0.878152 loss: 0.375809\n",
            "[813/3000] Train Acc: 0.993761 Loss: 0.006427 | Val Acc: 0.880011 loss: 0.381236\n",
            "[814/3000] Train Acc: 0.993363 Loss: 0.007728 | Val Acc: 0.879745 loss: 0.381160\n",
            "[815/3000] Train Acc: 0.994159 Loss: 0.005675 | Val Acc: 0.874170 loss: 0.399205\n",
            "[816/3000] Train Acc: 0.994889 Loss: 0.005831 | Val Acc: 0.880276 loss: 0.369755\n",
            "[817/3000] Train Acc: 0.993828 Loss: 0.006979 | Val Acc: 0.883727 loss: 0.361831\n",
            "[818/3000] Train Acc: 0.994292 Loss: 0.005631 | Val Acc: 0.880807 loss: 0.379025\n",
            "[819/3000] Train Acc: 0.994226 Loss: 0.006177 | Val Acc: 0.886382 loss: 0.354694\n",
            "[820/3000] Train Acc: 0.994226 Loss: 0.005208 | Val Acc: 0.881338 loss: 0.374618\n",
            "[821/3000] Train Acc: 0.993828 Loss: 0.005520 | Val Acc: 0.873905 loss: 0.400396\n",
            "[822/3000] Train Acc: 0.994425 Loss: 0.006650 | Val Acc: 0.881869 loss: 0.378305\n",
            "[823/3000] Train Acc: 0.995155 Loss: 0.004757 | Val Acc: 0.874170 loss: 0.411839\n",
            "[824/3000] Train Acc: 0.994889 Loss: 0.005523 | Val Acc: 0.873109 loss: 0.396975\n",
            "[825/3000] Train Acc: 0.995022 Loss: 0.004543 | Val Acc: 0.873640 loss: 0.401281\n",
            "[826/3000] Train Acc: 0.993628 Loss: 0.005426 | Val Acc: 0.878949 loss: 0.375202\n",
            "[827/3000] Train Acc: 0.994491 Loss: 0.005601 | Val Acc: 0.873640 loss: 0.398670\n",
            "[828/3000] Train Acc: 0.995620 Loss: 0.003840 | Val Acc: 0.881338 loss: 0.375166\n",
            "[829/3000] Train Acc: 0.994757 Loss: 0.005032 | Val Acc: 0.880011 loss: 0.380351\n",
            "[830/3000] Train Acc: 0.995288 Loss: 0.006932 | Val Acc: 0.874436 loss: 0.389280\n",
            "[831/3000] Train Acc: 0.995089 Loss: 0.004597 | Val Acc: 0.879214 loss: 0.371630\n",
            "[832/3000] Train Acc: 0.995553 Loss: 0.005055 | Val Acc: 0.887975 loss: 0.357116\n",
            "[833/3000] Train Acc: 0.996416 Loss: 0.005116 | Val Acc: 0.865676 loss: 0.435210\n",
            "[834/3000] Train Acc: 0.995420 Loss: 0.004990 | Val Acc: 0.881072 loss: 0.380168\n",
            "[835/3000] Train Acc: 0.994558 Loss: 0.005635 | Val Acc: 0.879745 loss: 0.381984\n",
            "[836/3000] Train Acc: 0.994558 Loss: 0.005324 | Val Acc: 0.887178 loss: 0.369269\n",
            "[837/3000] Train Acc: 0.995420 Loss: 0.005265 | Val Acc: 0.871250 loss: 0.415968\n",
            "[838/3000] Train Acc: 0.995155 Loss: 0.004491 | Val Acc: 0.894611 loss: 0.324309\n",
            "[839/3000] Train Acc: 0.995885 Loss: 0.005491 | Val Acc: 0.883993 loss: 0.386086\n",
            "[840/3000] Train Acc: 0.994690 Loss: 0.005498 | Val Acc: 0.886382 loss: 0.360414\n",
            "[841/3000] Train Acc: 0.994956 Loss: 0.004830 | Val Acc: 0.882665 loss: 0.387181\n",
            "[842/3000] Train Acc: 0.995620 Loss: 0.004973 | Val Acc: 0.889036 loss: 0.347444\n",
            "[843/3000] Train Acc: 0.995288 Loss: 0.005936 | Val Acc: 0.893549 loss: 0.340114\n",
            "[844/3000] Train Acc: 0.995022 Loss: 0.005149 | Val Acc: 0.884258 loss: 0.368513\n",
            "[845/3000] Train Acc: 0.994956 Loss: 0.005380 | Val Acc: 0.883727 loss: 0.384951\n",
            "[846/3000] Train Acc: 0.995089 Loss: 0.005702 | Val Acc: 0.878949 loss: 0.404871\n",
            "[847/3000] Train Acc: 0.995221 Loss: 0.005131 | Val Acc: 0.897266 loss: 0.325200\n",
            "[848/3000] Train Acc: 0.995553 Loss: 0.005336 | Val Acc: 0.889567 loss: 0.337987\n",
            "[849/3000] Train Acc: 0.995155 Loss: 0.005674 | Val Acc: 0.878152 loss: 0.402556\n",
            "[850/3000] Train Acc: 0.995022 Loss: 0.004946 | Val Acc: 0.894611 loss: 0.339957\n",
            "[851/3000] Train Acc: 0.996018 Loss: 0.004527 | Val Acc: 0.892753 loss: 0.344336\n",
            "[852/3000] Train Acc: 0.995885 Loss: 0.004312 | Val Acc: 0.884789 loss: 0.360423\n",
            "[853/3000] Train Acc: 0.995420 Loss: 0.004986 | Val Acc: 0.868596 loss: 0.415204\n",
            "[854/3000] Train Acc: 0.995420 Loss: 0.004174 | Val Acc: 0.876294 loss: 0.405318\n",
            "[855/3000] Train Acc: 0.995022 Loss: 0.004294 | Val Acc: 0.877356 loss: 0.399914\n",
            "[856/3000] Train Acc: 0.994956 Loss: 0.004799 | Val Acc: 0.892222 loss: 0.339514\n",
            "[857/3000] Train Acc: 0.996151 Loss: 0.006278 | Val Acc: 0.885054 loss: 0.361979\n",
            "[858/3000] Train Acc: 0.995420 Loss: 0.004835 | Val Acc: 0.870188 loss: 0.413785\n",
            "[859/3000] Train Acc: 0.994159 Loss: 0.006823 | Val Acc: 0.879745 loss: 0.395907\n",
            "[860/3000] Train Acc: 0.996681 Loss: 0.004521 | Val Acc: 0.888505 loss: 0.344943\n",
            "[861/3000] Train Acc: 0.996217 Loss: 0.003829 | Val Acc: 0.886116 loss: 0.361420\n",
            "[862/3000] Train Acc: 0.994690 Loss: 0.005212 | Val Acc: 0.890629 loss: 0.340352\n",
            "[863/3000] Train Acc: 0.994889 Loss: 0.004353 | Val Acc: 0.882931 loss: 0.371802\n",
            "[864/3000] Train Acc: 0.995686 Loss: 0.004610 | Val Acc: 0.880276 loss: 0.376264\n",
            "[865/3000] Train Acc: 0.996350 Loss: 0.004401 | Val Acc: 0.875763 loss: 0.403188\n",
            "[866/3000] Train Acc: 0.994624 Loss: 0.005785 | Val Acc: 0.885320 loss: 0.361099\n",
            "[867/3000] Train Acc: 0.995022 Loss: 0.005307 | Val Acc: 0.869658 loss: 0.422677\n",
            "[868/3000] Train Acc: 0.995420 Loss: 0.005043 | Val Acc: 0.893549 loss: 0.341739\n",
            "[869/3000] Train Acc: 0.995089 Loss: 0.005200 | Val Acc: 0.880807 loss: 0.387220\n",
            "[870/3000] Train Acc: 0.996615 Loss: 0.004450 | Val Acc: 0.885585 loss: 0.359535\n",
            "[871/3000] Train Acc: 0.995487 Loss: 0.004560 | Val Acc: 0.883993 loss: 0.351312\n",
            "[872/3000] Train Acc: 0.995420 Loss: 0.005332 | Val Acc: 0.884789 loss: 0.363316\n",
            "[873/3000] Train Acc: 0.995089 Loss: 0.004027 | Val Acc: 0.864879 loss: 0.433560\n",
            "[874/3000] Train Acc: 0.995885 Loss: 0.004271 | Val Acc: 0.872047 loss: 0.413480\n",
            "[875/3000] Train Acc: 0.995354 Loss: 0.005378 | Val Acc: 0.894080 loss: 0.332729\n",
            "[876/3000] Train Acc: 0.995221 Loss: 0.005489 | Val Acc: 0.884258 loss: 0.380879\n",
            "[877/3000] Train Acc: 0.994491 Loss: 0.005251 | Val Acc: 0.886382 loss: 0.362866\n",
            "[878/3000] Train Acc: 0.995553 Loss: 0.003797 | Val Acc: 0.885851 loss: 0.366820\n",
            "[879/3000] Train Acc: 0.996151 Loss: 0.004608 | Val Acc: 0.882931 loss: 0.372686\n",
            "[880/3000] Train Acc: 0.996416 Loss: 0.004428 | Val Acc: 0.886647 loss: 0.357061\n",
            "[881/3000] Train Acc: 0.996084 Loss: 0.005009 | Val Acc: 0.891426 loss: 0.336890\n",
            "[882/3000] Train Acc: 0.994956 Loss: 0.004927 | Val Acc: 0.878949 loss: 0.388076\n",
            "[883/3000] Train Acc: 0.996416 Loss: 0.003944 | Val Acc: 0.899655 loss: 0.313074\n",
            "[884/3000] Train Acc: 0.996217 Loss: 0.004165 | Val Acc: 0.893018 loss: 0.338615\n",
            "[885/3000] Train Acc: 0.995022 Loss: 0.005279 | Val Acc: 0.877621 loss: 0.390311\n",
            "[886/3000] Train Acc: 0.996084 Loss: 0.004124 | Val Acc: 0.870985 loss: 0.431570\n",
            "[887/3000] Train Acc: 0.996151 Loss: 0.004708 | Val Acc: 0.900186 loss: 0.307860\n",
            "[888/3000] Train Acc: 0.995951 Loss: 0.004961 | Val Acc: 0.883727 loss: 0.375684\n",
            "[889/3000] Train Acc: 0.996350 Loss: 0.003633 | Val Acc: 0.894080 loss: 0.340332\n",
            "[890/3000] Train Acc: 0.996350 Loss: 0.003932 | Val Acc: 0.881338 loss: 0.392410\n",
            "[891/3000] Train Acc: 0.995354 Loss: 0.005639 | Val Acc: 0.890629 loss: 0.352803\n",
            "[892/3000] Train Acc: 0.995752 Loss: 0.004276 | Val Acc: 0.895142 loss: 0.327032\n",
            "[893/3000] Train Acc: 0.997013 Loss: 0.003611 | Val Acc: 0.882931 loss: 0.379863\n",
            "[894/3000] Train Acc: 0.995752 Loss: 0.004544 | Val Acc: 0.886913 loss: 0.366982\n",
            "[895/3000] Train Acc: 0.995752 Loss: 0.004169 | Val Acc: 0.879480 loss: 0.391275\n",
            "[896/3000] Train Acc: 0.996084 Loss: 0.004327 | Val Acc: 0.881072 loss: 0.393310\n",
            "[897/3000] Train Acc: 0.995885 Loss: 0.005024 | Val Acc: 0.897797 loss: 0.327769\n",
            "[898/3000] Train Acc: 0.996217 Loss: 0.005003 | Val Acc: 0.894080 loss: 0.328373\n",
            "[899/3000] Train Acc: 0.995553 Loss: 0.004393 | Val Acc: 0.887975 loss: 0.362862\n",
            "[900/3000] Train Acc: 0.995553 Loss: 0.005306 | Val Acc: 0.900717 loss: 0.316035\n",
            "[901/3000] Train Acc: 0.997146 Loss: 0.005151 | Val Acc: 0.886382 loss: 0.358634\n",
            "[902/3000] Train Acc: 0.995819 Loss: 0.004090 | Val Acc: 0.885320 loss: 0.364263\n",
            "[903/3000] Train Acc: 0.996814 Loss: 0.004481 | Val Acc: 0.895142 loss: 0.347977\n",
            "[904/3000] Train Acc: 0.996283 Loss: 0.003972 | Val Acc: 0.903371 loss: 0.304279\n",
            "saving model with acc 0.903\n",
            "[905/3000] Train Acc: 0.995354 Loss: 0.004661 | Val Acc: 0.889302 loss: 0.352045\n",
            "[906/3000] Train Acc: 0.995420 Loss: 0.004609 | Val Acc: 0.898593 loss: 0.321751\n",
            "[907/3000] Train Acc: 0.996681 Loss: 0.004339 | Val Acc: 0.887709 loss: 0.350939\n",
            "[908/3000] Train Acc: 0.996416 Loss: 0.003533 | Val Acc: 0.890895 loss: 0.355094\n",
            "[909/3000] Train Acc: 0.996283 Loss: 0.003600 | Val Acc: 0.888771 loss: 0.361410\n",
            "[910/3000] Train Acc: 0.996748 Loss: 0.003697 | Val Acc: 0.887709 loss: 0.362776\n",
            "[911/3000] Train Acc: 0.996615 Loss: 0.004632 | Val Acc: 0.895673 loss: 0.335932\n",
            "[912/3000] Train Acc: 0.996283 Loss: 0.004269 | Val Acc: 0.889567 loss: 0.344039\n",
            "[913/3000] Train Acc: 0.996615 Loss: 0.004112 | Val Acc: 0.887444 loss: 0.361065\n",
            "[914/3000] Train Acc: 0.995288 Loss: 0.005392 | Val Acc: 0.889302 loss: 0.350434\n",
            "[915/3000] Train Acc: 0.996350 Loss: 0.004974 | Val Acc: 0.884523 loss: 0.371925\n",
            "[916/3000] Train Acc: 0.995951 Loss: 0.004754 | Val Acc: 0.889567 loss: 0.358550\n",
            "[917/3000] Train Acc: 0.996416 Loss: 0.003550 | Val Acc: 0.887178 loss: 0.356564\n",
            "[918/3000] Train Acc: 0.996084 Loss: 0.004855 | Val Acc: 0.899655 loss: 0.320171\n",
            "[919/3000] Train Acc: 0.996814 Loss: 0.005162 | Val Acc: 0.896204 loss: 0.327378\n",
            "[920/3000] Train Acc: 0.996549 Loss: 0.004231 | Val Acc: 0.886913 loss: 0.349345\n",
            "[921/3000] Train Acc: 0.996350 Loss: 0.003945 | Val Acc: 0.901513 loss: 0.317200\n",
            "[922/3000] Train Acc: 0.997146 Loss: 0.004472 | Val Acc: 0.891160 loss: 0.355872\n",
            "[923/3000] Train Acc: 0.997146 Loss: 0.003869 | Val Acc: 0.894346 loss: 0.343469\n",
            "[924/3000] Train Acc: 0.995620 Loss: 0.003908 | Val Acc: 0.890098 loss: 0.379697\n",
            "[925/3000] Train Acc: 0.996881 Loss: 0.004568 | Val Acc: 0.901248 loss: 0.323563\n",
            "[926/3000] Train Acc: 0.996615 Loss: 0.004224 | Val Acc: 0.893815 loss: 0.344063\n",
            "[927/3000] Train Acc: 0.995553 Loss: 0.003892 | Val Acc: 0.896469 loss: 0.338442\n",
            "[928/3000] Train Acc: 0.996814 Loss: 0.003579 | Val Acc: 0.891691 loss: 0.361737\n",
            "[929/3000] Train Acc: 0.996217 Loss: 0.004132 | Val Acc: 0.895407 loss: 0.333839\n",
            "[930/3000] Train Acc: 0.996881 Loss: 0.004024 | Val Acc: 0.899920 loss: 0.324160\n",
            "[931/3000] Train Acc: 0.996748 Loss: 0.004233 | Val Acc: 0.878683 loss: 0.389596\n",
            "[932/3000] Train Acc: 0.997412 Loss: 0.004036 | Val Acc: 0.887178 loss: 0.364854\n",
            "[933/3000] Train Acc: 0.995752 Loss: 0.005003 | Val Acc: 0.892487 loss: 0.348404\n",
            "[934/3000] Train Acc: 0.996350 Loss: 0.004054 | Val Acc: 0.881603 loss: 0.389574\n",
            "[935/3000] Train Acc: 0.997013 Loss: 0.003607 | Val Acc: 0.884789 loss: 0.377733\n",
            "[936/3000] Train Acc: 0.997013 Loss: 0.003655 | Val Acc: 0.880276 loss: 0.390399\n",
            "[937/3000] Train Acc: 0.995885 Loss: 0.004089 | Val Acc: 0.881072 loss: 0.370123\n",
            "[938/3000] Train Acc: 0.996217 Loss: 0.004324 | Val Acc: 0.879745 loss: 0.394447\n",
            "[939/3000] Train Acc: 0.996549 Loss: 0.003876 | Val Acc: 0.882931 loss: 0.375481\n",
            "[940/3000] Train Acc: 0.996416 Loss: 0.004789 | Val Acc: 0.876825 loss: 0.391680\n",
            "[941/3000] Train Acc: 0.996681 Loss: 0.003771 | Val Acc: 0.885054 loss: 0.373820\n",
            "[942/3000] Train Acc: 0.996151 Loss: 0.004224 | Val Acc: 0.884258 loss: 0.369602\n",
            "[943/3000] Train Acc: 0.996018 Loss: 0.003843 | Val Acc: 0.889567 loss: 0.352695\n",
            "[944/3000] Train Acc: 0.996283 Loss: 0.003637 | Val Acc: 0.879214 loss: 0.387829\n",
            "[945/3000] Train Acc: 0.997212 Loss: 0.003438 | Val Acc: 0.895142 loss: 0.328122\n",
            "[946/3000] Train Acc: 0.996350 Loss: 0.004275 | Val Acc: 0.897000 loss: 0.326313\n",
            "[947/3000] Train Acc: 0.995288 Loss: 0.005185 | Val Acc: 0.893549 loss: 0.337514\n",
            "[948/3000] Train Acc: 0.995420 Loss: 0.004220 | Val Acc: 0.883727 loss: 0.365214\n",
            "[949/3000] Train Acc: 0.996217 Loss: 0.003478 | Val Acc: 0.884789 loss: 0.366364\n",
            "[950/3000] Train Acc: 0.996881 Loss: 0.004111 | Val Acc: 0.878418 loss: 0.394778\n",
            "[951/3000] Train Acc: 0.996151 Loss: 0.004839 | Val Acc: 0.902840 loss: 0.313224\n",
            "[952/3000] Train Acc: 0.996350 Loss: 0.003552 | Val Acc: 0.892222 loss: 0.351890\n",
            "[953/3000] Train Acc: 0.996615 Loss: 0.003860 | Val Acc: 0.882931 loss: 0.374004\n",
            "[954/3000] Train Acc: 0.996681 Loss: 0.004010 | Val Acc: 0.896735 loss: 0.325247\n",
            "[955/3000] Train Acc: 0.996681 Loss: 0.004233 | Val Acc: 0.895673 loss: 0.330875\n",
            "[956/3000] Train Acc: 0.996283 Loss: 0.004117 | Val Acc: 0.876029 loss: 0.401105\n",
            "[957/3000] Train Acc: 0.996549 Loss: 0.003977 | Val Acc: 0.898328 loss: 0.319797\n",
            "[958/3000] Train Acc: 0.995951 Loss: 0.004298 | Val Acc: 0.886647 loss: 0.368081\n",
            "[959/3000] Train Acc: 0.996615 Loss: 0.003835 | Val Acc: 0.891956 loss: 0.351438\n",
            "[960/3000] Train Acc: 0.996283 Loss: 0.004220 | Val Acc: 0.892222 loss: 0.353502\n",
            "[961/3000] Train Acc: 0.996482 Loss: 0.003801 | Val Acc: 0.888505 loss: 0.354233\n",
            "[962/3000] Train Acc: 0.995022 Loss: 0.006110 | Val Acc: 0.881338 loss: 0.379204\n",
            "[963/3000] Train Acc: 0.995819 Loss: 0.004771 | Val Acc: 0.892753 loss: 0.341485\n",
            "[964/3000] Train Acc: 0.996416 Loss: 0.004099 | Val Acc: 0.886913 loss: 0.355064\n",
            "[965/3000] Train Acc: 0.996549 Loss: 0.003726 | Val Acc: 0.898062 loss: 0.320943\n",
            "[966/3000] Train Acc: 0.996283 Loss: 0.003858 | Val Acc: 0.885054 loss: 0.368848\n",
            "[967/3000] Train Acc: 0.995686 Loss: 0.005285 | Val Acc: 0.882134 loss: 0.372249\n",
            "[968/3000] Train Acc: 0.996151 Loss: 0.004098 | Val Acc: 0.882134 loss: 0.376627\n",
            "[969/3000] Train Acc: 0.996615 Loss: 0.003821 | Val Acc: 0.895938 loss: 0.340895\n",
            "[970/3000] Train Acc: 0.996084 Loss: 0.003999 | Val Acc: 0.885585 loss: 0.367270\n",
            "[971/3000] Train Acc: 0.995553 Loss: 0.004998 | Val Acc: 0.886116 loss: 0.366246\n",
            "[972/3000] Train Acc: 0.996018 Loss: 0.004591 | Val Acc: 0.894877 loss: 0.335175\n",
            "[973/3000] Train Acc: 0.997146 Loss: 0.003652 | Val Acc: 0.888771 loss: 0.355966\n",
            "[974/3000] Train Acc: 0.995819 Loss: 0.004823 | Val Acc: 0.893549 loss: 0.345705\n",
            "[975/3000] Train Acc: 0.996615 Loss: 0.004334 | Val Acc: 0.898328 loss: 0.320114\n",
            "[976/3000] Train Acc: 0.996881 Loss: 0.003986 | Val Acc: 0.886382 loss: 0.370437\n",
            "[977/3000] Train Acc: 0.996350 Loss: 0.003589 | Val Acc: 0.899124 loss: 0.328978\n",
            "[978/3000] Train Acc: 0.996283 Loss: 0.004073 | Val Acc: 0.893284 loss: 0.343463\n",
            "[979/3000] Train Acc: 0.996814 Loss: 0.003709 | Val Acc: 0.898593 loss: 0.325811\n",
            "[980/3000] Train Acc: 0.997478 Loss: 0.003546 | Val Acc: 0.882665 loss: 0.375483\n",
            "[981/3000] Train Acc: 0.997677 Loss: 0.003268 | Val Acc: 0.896204 loss: 0.339824\n",
            "[982/3000] Train Acc: 0.995487 Loss: 0.004104 | Val Acc: 0.888240 loss: 0.364114\n",
            "[983/3000] Train Acc: 0.996283 Loss: 0.003965 | Val Acc: 0.891691 loss: 0.351928\n",
            "[984/3000] Train Acc: 0.996615 Loss: 0.003774 | Val Acc: 0.891160 loss: 0.348057\n",
            "[985/3000] Train Acc: 0.997478 Loss: 0.003710 | Val Acc: 0.891956 loss: 0.345512\n",
            "[986/3000] Train Acc: 0.996947 Loss: 0.003624 | Val Acc: 0.884523 loss: 0.382983\n",
            "[987/3000] Train Acc: 0.996947 Loss: 0.003938 | Val Acc: 0.893018 loss: 0.352080\n",
            "[988/3000] Train Acc: 0.997146 Loss: 0.003842 | Val Acc: 0.881072 loss: 0.384651\n",
            "[989/3000] Train Acc: 0.996482 Loss: 0.003940 | Val Acc: 0.886647 loss: 0.367639\n",
            "[990/3000] Train Acc: 0.996482 Loss: 0.004502 | Val Acc: 0.888771 loss: 0.349128\n",
            "[991/3000] Train Acc: 0.996615 Loss: 0.004094 | Val Acc: 0.888771 loss: 0.356778\n",
            "[992/3000] Train Acc: 0.996084 Loss: 0.005020 | Val Acc: 0.895407 loss: 0.338647\n",
            "[993/3000] Train Acc: 0.995686 Loss: 0.005492 | Val Acc: 0.887709 loss: 0.360247\n",
            "[994/3000] Train Acc: 0.996416 Loss: 0.004356 | Val Acc: 0.890364 loss: 0.349248\n",
            "[995/3000] Train Acc: 0.996549 Loss: 0.003990 | Val Acc: 0.884789 loss: 0.375036\n",
            "[996/3000] Train Acc: 0.995752 Loss: 0.005091 | Val Acc: 0.882665 loss: 0.373983\n",
            "[997/3000] Train Acc: 0.996814 Loss: 0.003561 | Val Acc: 0.894080 loss: 0.344882\n",
            "[998/3000] Train Acc: 0.997013 Loss: 0.004055 | Val Acc: 0.879745 loss: 0.385785\n",
            "[999/3000] Train Acc: 0.996549 Loss: 0.004254 | Val Acc: 0.890895 loss: 0.350743\n",
            "[1000/3000] Train Acc: 0.996151 Loss: 0.004401 | Val Acc: 0.874701 loss: 0.407260\n",
            "[1001/3000] Train Acc: 0.996947 Loss: 0.004229 | Val Acc: 0.885585 loss: 0.365925\n",
            "[1002/3000] Train Acc: 0.996416 Loss: 0.003919 | Val Acc: 0.880276 loss: 0.391559\n",
            "[1003/3000] Train Acc: 0.996217 Loss: 0.004186 | Val Acc: 0.864879 loss: 0.422050\n",
            "[1004/3000] Train Acc: 0.996681 Loss: 0.004528 | Val Acc: 0.887709 loss: 0.362826\n",
            "[1005/3000] Train Acc: 0.997080 Loss: 0.003726 | Val Acc: 0.882931 loss: 0.368711\n",
            "[1006/3000] Train Acc: 0.996416 Loss: 0.005185 | Val Acc: 0.890895 loss: 0.346868\n",
            "[1007/3000] Train Acc: 0.996748 Loss: 0.003886 | Val Acc: 0.893018 loss: 0.339791\n",
            "[1008/3000] Train Acc: 0.996681 Loss: 0.003768 | Val Acc: 0.888505 loss: 0.360783\n",
            "[1009/3000] Train Acc: 0.996681 Loss: 0.003700 | Val Acc: 0.888771 loss: 0.348989\n",
            "[1010/3000] Train Acc: 0.996018 Loss: 0.004183 | Val Acc: 0.893815 loss: 0.334127\n",
            "[1011/3000] Train Acc: 0.996814 Loss: 0.004209 | Val Acc: 0.896204 loss: 0.331114\n",
            "[1012/3000] Train Acc: 0.995885 Loss: 0.004191 | Val Acc: 0.884789 loss: 0.371551\n",
            "[1013/3000] Train Acc: 0.996283 Loss: 0.003879 | Val Acc: 0.899920 loss: 0.311829\n",
            "[1014/3000] Train Acc: 0.996549 Loss: 0.004717 | Val Acc: 0.884523 loss: 0.367159\n",
            "[1015/3000] Train Acc: 0.995885 Loss: 0.004490 | Val Acc: 0.891426 loss: 0.341646\n",
            "[1016/3000] Train Acc: 0.996283 Loss: 0.004585 | Val Acc: 0.892487 loss: 0.344852\n",
            "[1017/3000] Train Acc: 0.997013 Loss: 0.003118 | Val Acc: 0.886116 loss: 0.353041\n",
            "[1018/3000] Train Acc: 0.996881 Loss: 0.004536 | Val Acc: 0.890629 loss: 0.353984\n",
            "[1019/3000] Train Acc: 0.997212 Loss: 0.003835 | Val Acc: 0.890629 loss: 0.347266\n",
            "[1020/3000] Train Acc: 0.995951 Loss: 0.003629 | Val Acc: 0.889833 loss: 0.351004\n",
            "[1021/3000] Train Acc: 0.996350 Loss: 0.003962 | Val Acc: 0.896204 loss: 0.336412\n",
            "[1022/3000] Train Acc: 0.996681 Loss: 0.003902 | Val Acc: 0.893284 loss: 0.345015\n",
            "[1023/3000] Train Acc: 0.996615 Loss: 0.003882 | Val Acc: 0.895142 loss: 0.346528\n",
            "[1024/3000] Train Acc: 0.996416 Loss: 0.005753 | Val Acc: 0.885320 loss: 0.371324\n",
            "[1025/3000] Train Acc: 0.996881 Loss: 0.004218 | Val Acc: 0.885054 loss: 0.385965\n",
            "[1026/3000] Train Acc: 0.996482 Loss: 0.003831 | Val Acc: 0.891160 loss: 0.357185\n",
            "[1027/3000] Train Acc: 0.996482 Loss: 0.003867 | Val Acc: 0.886116 loss: 0.360251\n",
            "[1028/3000] Train Acc: 0.996084 Loss: 0.004136 | Val Acc: 0.883993 loss: 0.371209\n",
            "[1029/3000] Train Acc: 0.996283 Loss: 0.004624 | Val Acc: 0.888505 loss: 0.359813\n",
            "[1030/3000] Train Acc: 0.995620 Loss: 0.005420 | Val Acc: 0.897266 loss: 0.331870\n",
            "[1031/3000] Train Acc: 0.996350 Loss: 0.004039 | Val Acc: 0.867268 loss: 0.408756\n",
            "[1032/3000] Train Acc: 0.997478 Loss: 0.003369 | Val Acc: 0.891160 loss: 0.356575\n",
            "[1033/3000] Train Acc: 0.996482 Loss: 0.005266 | Val Acc: 0.894877 loss: 0.332168\n",
            "[1034/3000] Train Acc: 0.997279 Loss: 0.004627 | Val Acc: 0.892487 loss: 0.344812\n",
            "[1035/3000] Train Acc: 0.996217 Loss: 0.003069 | Val Acc: 0.895407 loss: 0.342716\n",
            "[1036/3000] Train Acc: 0.997412 Loss: 0.003794 | Val Acc: 0.892753 loss: 0.345017\n",
            "[1037/3000] Train Acc: 0.996350 Loss: 0.005575 | Val Acc: 0.877356 loss: 0.389109\n",
            "[1038/3000] Train Acc: 0.996084 Loss: 0.004627 | Val Acc: 0.898062 loss: 0.322440\n",
            "[1039/3000] Train Acc: 0.996283 Loss: 0.003770 | Val Acc: 0.890364 loss: 0.345869\n",
            "[1040/3000] Train Acc: 0.996814 Loss: 0.004480 | Val Acc: 0.902044 loss: 0.302577\n",
            "[1041/3000] Train Acc: 0.997677 Loss: 0.003142 | Val Acc: 0.877091 loss: 0.387843\n",
            "[1042/3000] Train Acc: 0.997080 Loss: 0.004421 | Val Acc: 0.889567 loss: 0.343838\n",
            "[1043/3000] Train Acc: 0.996482 Loss: 0.004928 | Val Acc: 0.897266 loss: 0.323480\n",
            "[1044/3000] Train Acc: 0.996416 Loss: 0.004198 | Val Acc: 0.895407 loss: 0.333239\n",
            "[1045/3000] Train Acc: 0.997412 Loss: 0.003394 | Val Acc: 0.875498 loss: 0.399382\n",
            "[1046/3000] Train Acc: 0.997013 Loss: 0.003321 | Val Acc: 0.884258 loss: 0.356637\n",
            "[1047/3000] Train Acc: 0.998075 Loss: 0.003280 | Val Acc: 0.873640 loss: 0.395518\n",
            "[1048/3000] Train Acc: 0.996482 Loss: 0.003953 | Val Acc: 0.899920 loss: 0.304612\n",
            "[1049/3000] Train Acc: 0.996748 Loss: 0.004991 | Val Acc: 0.894346 loss: 0.332530\n",
            "[1050/3000] Train Acc: 0.997212 Loss: 0.003737 | Val Acc: 0.876294 loss: 0.381691\n",
            "[1051/3000] Train Acc: 0.996881 Loss: 0.004118 | Val Acc: 0.897000 loss: 0.313023\n",
            "[1052/3000] Train Acc: 0.996615 Loss: 0.003888 | Val Acc: 0.873374 loss: 0.398606\n",
            "[1053/3000] Train Acc: 0.997544 Loss: 0.003768 | Val Acc: 0.888240 loss: 0.352207\n",
            "[1054/3000] Train Acc: 0.996549 Loss: 0.004998 | Val Acc: 0.901779 loss: 0.301847\n",
            "[1055/3000] Train Acc: 0.997279 Loss: 0.003700 | Val Acc: 0.886382 loss: 0.351039\n",
            "[1056/3000] Train Acc: 0.997080 Loss: 0.003490 | Val Acc: 0.901248 loss: 0.305587\n",
            "[1057/3000] Train Acc: 0.997146 Loss: 0.003831 | Val Acc: 0.897266 loss: 0.327066\n",
            "[1058/3000] Train Acc: 0.996881 Loss: 0.004410 | Val Acc: 0.891426 loss: 0.358826\n",
            "[1059/3000] Train Acc: 0.996881 Loss: 0.003815 | Val Acc: 0.900186 loss: 0.309110\n",
            "[1060/3000] Train Acc: 0.996151 Loss: 0.004436 | Val Acc: 0.903371 loss: 0.302943\n",
            "[1061/3000] Train Acc: 0.996482 Loss: 0.004232 | Val Acc: 0.895938 loss: 0.313811\n",
            "[1062/3000] Train Acc: 0.996681 Loss: 0.004707 | Val Acc: 0.889302 loss: 0.336527\n",
            "[1063/3000] Train Acc: 0.996084 Loss: 0.004323 | Val Acc: 0.899124 loss: 0.308763\n",
            "[1064/3000] Train Acc: 0.995221 Loss: 0.003964 | Val Acc: 0.887178 loss: 0.348989\n",
            "[1065/3000] Train Acc: 0.996615 Loss: 0.003745 | Val Acc: 0.894080 loss: 0.325612\n",
            "[1066/3000] Train Acc: 0.996615 Loss: 0.005007 | Val Acc: 0.895673 loss: 0.326367\n",
            "[1067/3000] Train Acc: 0.997345 Loss: 0.004047 | Val Acc: 0.894877 loss: 0.315777\n",
            "[1068/3000] Train Acc: 0.996217 Loss: 0.004166 | Val Acc: 0.888771 loss: 0.341692\n",
            "[1069/3000] Train Acc: 0.997544 Loss: 0.004015 | Val Acc: 0.902044 loss: 0.299094\n",
            "[1070/3000] Train Acc: 0.996217 Loss: 0.003999 | Val Acc: 0.894346 loss: 0.327739\n",
            "[1071/3000] Train Acc: 0.995553 Loss: 0.003967 | Val Acc: 0.893549 loss: 0.323592\n",
            "[1072/3000] Train Acc: 0.996549 Loss: 0.005147 | Val Acc: 0.902575 loss: 0.291517\n",
            "[1073/3000] Train Acc: 0.996615 Loss: 0.004213 | Val Acc: 0.906291 loss: 0.288202\n",
            "saving model with acc 0.906\n",
            "[1074/3000] Train Acc: 0.997080 Loss: 0.003858 | Val Acc: 0.895938 loss: 0.323749\n",
            "[1075/3000] Train Acc: 0.996549 Loss: 0.004678 | Val Acc: 0.898859 loss: 0.305441\n",
            "[1076/3000] Train Acc: 0.997212 Loss: 0.003541 | Val Acc: 0.885851 loss: 0.351195\n",
            "[1077/3000] Train Acc: 0.997345 Loss: 0.003549 | Val Acc: 0.897266 loss: 0.305829\n",
            "[1078/3000] Train Acc: 0.996283 Loss: 0.003814 | Val Acc: 0.895673 loss: 0.316575\n",
            "[1079/3000] Train Acc: 0.996283 Loss: 0.005044 | Val Acc: 0.901513 loss: 0.294255\n",
            "[1080/3000] Train Acc: 0.995885 Loss: 0.005535 | Val Acc: 0.902840 loss: 0.295281\n",
            "[1081/3000] Train Acc: 0.996482 Loss: 0.003388 | Val Acc: 0.885054 loss: 0.347183\n",
            "[1082/3000] Train Acc: 0.996482 Loss: 0.004391 | Val Acc: 0.898328 loss: 0.302312\n",
            "[1083/3000] Train Acc: 0.996681 Loss: 0.004141 | Val Acc: 0.884789 loss: 0.349136\n",
            "[1084/3000] Train Acc: 0.996881 Loss: 0.003605 | Val Acc: 0.889833 loss: 0.339374\n",
            "[1085/3000] Train Acc: 0.996881 Loss: 0.004544 | Val Acc: 0.884789 loss: 0.349595\n",
            "[1086/3000] Train Acc: 0.996947 Loss: 0.003291 | Val Acc: 0.893549 loss: 0.333607\n",
            "[1087/3000] Train Acc: 0.995553 Loss: 0.004920 | Val Acc: 0.891426 loss: 0.335416\n",
            "[1088/3000] Train Acc: 0.995885 Loss: 0.004189 | Val Acc: 0.887178 loss: 0.348193\n",
            "[1089/3000] Train Acc: 0.996283 Loss: 0.005074 | Val Acc: 0.891956 loss: 0.334664\n",
            "[1090/3000] Train Acc: 0.997080 Loss: 0.003398 | Val Acc: 0.890098 loss: 0.349088\n",
            "[1091/3000] Train Acc: 0.996549 Loss: 0.004253 | Val Acc: 0.893815 loss: 0.334074\n",
            "[1092/3000] Train Acc: 0.996748 Loss: 0.003513 | Val Acc: 0.898593 loss: 0.308350\n",
            "[1093/3000] Train Acc: 0.996482 Loss: 0.004101 | Val Acc: 0.912928 loss: 0.261324\n",
            "saving model with acc 0.913\n",
            "[1094/3000] Train Acc: 0.997013 Loss: 0.003328 | Val Acc: 0.882665 loss: 0.365993\n",
            "[1095/3000] Train Acc: 0.996681 Loss: 0.004357 | Val Acc: 0.892487 loss: 0.332452\n",
            "[1096/3000] Train Acc: 0.997013 Loss: 0.005007 | Val Acc: 0.887444 loss: 0.352091\n",
            "[1097/3000] Train Acc: 0.997876 Loss: 0.003284 | Val Acc: 0.891160 loss: 0.334600\n",
            "[1098/3000] Train Acc: 0.996482 Loss: 0.004499 | Val Acc: 0.892753 loss: 0.326394\n",
            "[1099/3000] Train Acc: 0.996814 Loss: 0.003159 | Val Acc: 0.896204 loss: 0.322814\n",
            "[1100/3000] Train Acc: 0.996748 Loss: 0.003213 | Val Acc: 0.903637 loss: 0.295479\n",
            "[1101/3000] Train Acc: 0.997544 Loss: 0.003085 | Val Acc: 0.907088 loss: 0.291371\n",
            "[1102/3000] Train Acc: 0.995819 Loss: 0.004568 | Val Acc: 0.894346 loss: 0.332839\n",
            "[1103/3000] Train Acc: 0.997212 Loss: 0.004219 | Val Acc: 0.903371 loss: 0.302261\n",
            "[1104/3000] Train Acc: 0.996947 Loss: 0.004198 | Val Acc: 0.886913 loss: 0.338527\n",
            "[1105/3000] Train Acc: 0.995819 Loss: 0.004809 | Val Acc: 0.894080 loss: 0.331756\n",
            "[1106/3000] Train Acc: 0.996350 Loss: 0.004020 | Val Acc: 0.896204 loss: 0.321591\n",
            "[1107/3000] Train Acc: 0.996482 Loss: 0.003506 | Val Acc: 0.880276 loss: 0.397819\n",
            "[1108/3000] Train Acc: 0.997345 Loss: 0.003993 | Val Acc: 0.881603 loss: 0.372651\n",
            "[1109/3000] Train Acc: 0.996482 Loss: 0.003589 | Val Acc: 0.901248 loss: 0.303682\n",
            "[1110/3000] Train Acc: 0.997146 Loss: 0.003720 | Val Acc: 0.881603 loss: 0.376882\n",
            "[1111/3000] Train Acc: 0.996615 Loss: 0.003971 | Val Acc: 0.886647 loss: 0.355317\n",
            "[1112/3000] Train Acc: 0.997279 Loss: 0.003640 | Val Acc: 0.883196 loss: 0.372828\n",
            "[1113/3000] Train Acc: 0.996549 Loss: 0.004652 | Val Acc: 0.898593 loss: 0.308174\n",
            "[1114/3000] Train Acc: 0.997146 Loss: 0.004298 | Val Acc: 0.902310 loss: 0.304363\n",
            "[1115/3000] Train Acc: 0.997544 Loss: 0.003562 | Val Acc: 0.898062 loss: 0.311855\n",
            "[1116/3000] Train Acc: 0.996018 Loss: 0.005368 | Val Acc: 0.893815 loss: 0.326960\n",
            "[1117/3000] Train Acc: 0.996881 Loss: 0.003681 | Val Acc: 0.887975 loss: 0.349893\n",
            "[1118/3000] Train Acc: 0.995885 Loss: 0.004479 | Val Acc: 0.909477 loss: 0.290295\n",
            "[1119/3000] Train Acc: 0.996947 Loss: 0.003352 | Val Acc: 0.902044 loss: 0.291326\n",
            "[1120/3000] Train Acc: 0.996681 Loss: 0.003899 | Val Acc: 0.894877 loss: 0.319729\n",
            "[1121/3000] Train Acc: 0.997279 Loss: 0.003525 | Val Acc: 0.883196 loss: 0.367437\n",
            "[1122/3000] Train Acc: 0.996283 Loss: 0.004617 | Val Acc: 0.898593 loss: 0.312594\n",
            "[1123/3000] Train Acc: 0.996947 Loss: 0.004192 | Val Acc: 0.899655 loss: 0.307488\n",
            "[1124/3000] Train Acc: 0.997412 Loss: 0.003546 | Val Acc: 0.898859 loss: 0.316592\n",
            "[1125/3000] Train Acc: 0.996814 Loss: 0.003335 | Val Acc: 0.894346 loss: 0.319232\n",
            "[1126/3000] Train Acc: 0.996748 Loss: 0.004527 | Val Acc: 0.898593 loss: 0.307866\n",
            "[1127/3000] Train Acc: 0.996283 Loss: 0.005926 | Val Acc: 0.887444 loss: 0.343962\n",
            "[1128/3000] Train Acc: 0.997279 Loss: 0.003216 | Val Acc: 0.905230 loss: 0.293395\n",
            "[1129/3000] Train Acc: 0.996947 Loss: 0.003844 | Val Acc: 0.906026 loss: 0.288380\n",
            "[1130/3000] Train Acc: 0.996748 Loss: 0.003566 | Val Acc: 0.894611 loss: 0.326889\n",
            "[1131/3000] Train Acc: 0.996947 Loss: 0.003664 | Val Acc: 0.890629 loss: 0.326098\n",
            "[1132/3000] Train Acc: 0.996947 Loss: 0.003451 | Val Acc: 0.899124 loss: 0.306079\n",
            "[1133/3000] Train Acc: 0.995752 Loss: 0.003886 | Val Acc: 0.895673 loss: 0.321626\n",
            "[1134/3000] Train Acc: 0.997279 Loss: 0.003469 | Val Acc: 0.882931 loss: 0.352443\n",
            "[1135/3000] Train Acc: 0.996814 Loss: 0.005131 | Val Acc: 0.893284 loss: 0.323510\n",
            "[1136/3000] Train Acc: 0.995819 Loss: 0.004403 | Val Acc: 0.889302 loss: 0.339982\n",
            "[1137/3000] Train Acc: 0.996549 Loss: 0.003629 | Val Acc: 0.888505 loss: 0.349206\n",
            "[1138/3000] Train Acc: 0.997080 Loss: 0.004125 | Val Acc: 0.883727 loss: 0.355532\n",
            "[1139/3000] Train Acc: 0.997743 Loss: 0.003540 | Val Acc: 0.903637 loss: 0.294599\n",
            "[1140/3000] Train Acc: 0.996881 Loss: 0.003977 | Val Acc: 0.900717 loss: 0.308448\n",
            "[1141/3000] Train Acc: 0.996947 Loss: 0.005180 | Val Acc: 0.889302 loss: 0.333093\n",
            "[1142/3000] Train Acc: 0.997080 Loss: 0.004720 | Val Acc: 0.889833 loss: 0.340313\n",
            "[1143/3000] Train Acc: 0.996947 Loss: 0.003927 | Val Acc: 0.892753 loss: 0.323095\n",
            "[1144/3000] Train Acc: 0.996814 Loss: 0.003183 | Val Acc: 0.903371 loss: 0.289122\n",
            "[1145/3000] Train Acc: 0.996350 Loss: 0.003796 | Val Acc: 0.894611 loss: 0.318312\n",
            "[1146/3000] Train Acc: 0.997013 Loss: 0.004590 | Val Acc: 0.874170 loss: 0.387059\n",
            "[1147/3000] Train Acc: 0.996881 Loss: 0.004717 | Val Acc: 0.893284 loss: 0.325558\n",
            "[1148/3000] Train Acc: 0.996350 Loss: 0.003315 | Val Acc: 0.883196 loss: 0.348558\n",
            "[1149/3000] Train Acc: 0.995951 Loss: 0.004442 | Val Acc: 0.891691 loss: 0.324540\n",
            "[1150/3000] Train Acc: 0.996283 Loss: 0.003474 | Val Acc: 0.884523 loss: 0.355582\n",
            "[1151/3000] Train Acc: 0.997345 Loss: 0.003842 | Val Acc: 0.882134 loss: 0.373443\n",
            "[1152/3000] Train Acc: 0.995089 Loss: 0.004784 | Val Acc: 0.898328 loss: 0.315784\n",
            "[1153/3000] Train Acc: 0.997146 Loss: 0.004086 | Val Acc: 0.893549 loss: 0.318357\n",
            "[1154/3000] Train Acc: 0.997611 Loss: 0.003694 | Val Acc: 0.880542 loss: 0.364249\n",
            "[1155/3000] Train Acc: 0.997146 Loss: 0.003538 | Val Acc: 0.891691 loss: 0.334311\n",
            "[1156/3000] Train Acc: 0.997080 Loss: 0.003398 | Val Acc: 0.888240 loss: 0.338988\n",
            "[1157/3000] Train Acc: 0.997478 Loss: 0.003760 | Val Acc: 0.886647 loss: 0.348470\n",
            "[1158/3000] Train Acc: 0.996881 Loss: 0.004256 | Val Acc: 0.911335 loss: 0.278122\n",
            "[1159/3000] Train Acc: 0.996151 Loss: 0.004226 | Val Acc: 0.901513 loss: 0.286984\n",
            "[1160/3000] Train Acc: 0.997478 Loss: 0.003834 | Val Acc: 0.898328 loss: 0.310694\n",
            "[1161/3000] Train Acc: 0.996416 Loss: 0.004379 | Val Acc: 0.893815 loss: 0.320349\n",
            "[1162/3000] Train Acc: 0.997544 Loss: 0.003013 | Val Acc: 0.894877 loss: 0.307609\n",
            "[1163/3000] Train Acc: 0.996416 Loss: 0.004368 | Val Acc: 0.897531 loss: 0.315989\n",
            "[1164/3000] Train Acc: 0.997611 Loss: 0.003687 | Val Acc: 0.873374 loss: 0.382431\n",
            "[1165/3000] Train Acc: 0.997013 Loss: 0.003955 | Val Acc: 0.893284 loss: 0.335487\n",
            "[1166/3000] Train Acc: 0.997279 Loss: 0.003708 | Val Acc: 0.883993 loss: 0.355450\n",
            "[1167/3000] Train Acc: 0.997146 Loss: 0.003748 | Val Acc: 0.894877 loss: 0.326486\n",
            "[1168/3000] Train Acc: 0.997743 Loss: 0.003079 | Val Acc: 0.883462 loss: 0.357250\n",
            "[1169/3000] Train Acc: 0.996549 Loss: 0.003773 | Val Acc: 0.886382 loss: 0.351970\n",
            "[1170/3000] Train Acc: 0.997345 Loss: 0.003899 | Val Acc: 0.894611 loss: 0.327510\n",
            "[1171/3000] Train Acc: 0.996814 Loss: 0.003710 | Val Acc: 0.883196 loss: 0.359470\n",
            "[1172/3000] Train Acc: 0.996681 Loss: 0.004018 | Val Acc: 0.897531 loss: 0.311642\n",
            "[1173/3000] Train Acc: 0.996947 Loss: 0.004030 | Val Acc: 0.908681 loss: 0.276493\n",
            "[1174/3000] Train Acc: 0.996217 Loss: 0.004195 | Val Acc: 0.903637 loss: 0.304946\n",
            "[1175/3000] Train Acc: 0.997146 Loss: 0.004456 | Val Acc: 0.907884 loss: 0.293402\n",
            "[1176/3000] Train Acc: 0.997146 Loss: 0.003437 | Val Acc: 0.897266 loss: 0.312115\n",
            "[1177/3000] Train Acc: 0.997013 Loss: 0.004563 | Val Acc: 0.895407 loss: 0.326750\n",
            "[1178/3000] Train Acc: 0.996151 Loss: 0.004105 | Val Acc: 0.894346 loss: 0.322319\n",
            "[1179/3000] Train Acc: 0.997146 Loss: 0.003340 | Val Acc: 0.891160 loss: 0.327718\n",
            "[1180/3000] Train Acc: 0.997212 Loss: 0.003672 | Val Acc: 0.884523 loss: 0.353042\n",
            "[1181/3000] Train Acc: 0.997212 Loss: 0.003815 | Val Acc: 0.893815 loss: 0.331062\n",
            "[1182/3000] Train Acc: 0.996416 Loss: 0.003836 | Val Acc: 0.897266 loss: 0.319791\n",
            "[1183/3000] Train Acc: 0.995885 Loss: 0.005756 | Val Acc: 0.904433 loss: 0.288101\n",
            "[1184/3000] Train Acc: 0.996217 Loss: 0.003590 | Val Acc: 0.899124 loss: 0.317855\n",
            "[1185/3000] Train Acc: 0.997743 Loss: 0.003968 | Val Acc: 0.906557 loss: 0.285224\n",
            "[1186/3000] Train Acc: 0.996416 Loss: 0.004113 | Val Acc: 0.903902 loss: 0.298686\n",
            "[1187/3000] Train Acc: 0.997478 Loss: 0.003682 | Val Acc: 0.885320 loss: 0.373797\n",
            "[1188/3000] Train Acc: 0.996416 Loss: 0.004652 | Val Acc: 0.897797 loss: 0.316630\n",
            "[1189/3000] Train Acc: 0.996748 Loss: 0.003473 | Val Acc: 0.890629 loss: 0.349414\n",
            "[1190/3000] Train Acc: 0.997013 Loss: 0.003185 | Val Acc: 0.899389 loss: 0.307714\n",
            "[1191/3000] Train Acc: 0.996681 Loss: 0.003524 | Val Acc: 0.891426 loss: 0.329441\n",
            "[1192/3000] Train Acc: 0.997080 Loss: 0.003986 | Val Acc: 0.904964 loss: 0.283898\n",
            "[1193/3000] Train Acc: 0.997345 Loss: 0.003419 | Val Acc: 0.902044 loss: 0.295515\n",
            "[1194/3000] Train Acc: 0.996615 Loss: 0.003584 | Val Acc: 0.892753 loss: 0.333702\n",
            "[1195/3000] Train Acc: 0.997412 Loss: 0.004116 | Val Acc: 0.893284 loss: 0.329038\n",
            "[1196/3000] Train Acc: 0.995155 Loss: 0.004745 | Val Acc: 0.898062 loss: 0.310369\n",
            "[1197/3000] Train Acc: 0.995885 Loss: 0.003957 | Val Acc: 0.883462 loss: 0.361050\n",
            "[1198/3000] Train Acc: 0.997146 Loss: 0.003591 | Val Acc: 0.886913 loss: 0.347569\n",
            "[1199/3000] Train Acc: 0.996681 Loss: 0.003611 | Val Acc: 0.883993 loss: 0.360011\n",
            "[1200/3000] Train Acc: 0.997544 Loss: 0.003880 | Val Acc: 0.896735 loss: 0.320345\n",
            "[1201/3000] Train Acc: 0.997212 Loss: 0.004631 | Val Acc: 0.896735 loss: 0.319950\n",
            "[1202/3000] Train Acc: 0.997478 Loss: 0.003506 | Val Acc: 0.891160 loss: 0.324519\n",
            "[1203/3000] Train Acc: 0.996151 Loss: 0.003481 | Val Acc: 0.882665 loss: 0.367659\n",
            "[1204/3000] Train Acc: 0.997412 Loss: 0.003448 | Val Acc: 0.891160 loss: 0.330120\n",
            "[1205/3000] Train Acc: 0.997279 Loss: 0.003968 | Val Acc: 0.900451 loss: 0.315203\n",
            "[1206/3000] Train Acc: 0.996881 Loss: 0.004279 | Val Acc: 0.900717 loss: 0.305702\n",
            "[1207/3000] Train Acc: 0.996549 Loss: 0.004069 | Val Acc: 0.878152 loss: 0.369825\n",
            "[1208/3000] Train Acc: 0.996084 Loss: 0.005873 | Val Acc: 0.896469 loss: 0.312072\n",
            "[1209/3000] Train Acc: 0.997212 Loss: 0.004901 | Val Acc: 0.888505 loss: 0.337445\n",
            "[1210/3000] Train Acc: 0.997677 Loss: 0.003791 | Val Acc: 0.880807 loss: 0.373501\n",
            "[1211/3000] Train Acc: 0.996350 Loss: 0.004871 | Val Acc: 0.889833 loss: 0.345536\n",
            "[1212/3000] Train Acc: 0.997412 Loss: 0.003533 | Val Acc: 0.890364 loss: 0.334509\n",
            "[1213/3000] Train Acc: 0.997080 Loss: 0.004694 | Val Acc: 0.880276 loss: 0.369677\n",
            "[1214/3000] Train Acc: 0.997611 Loss: 0.003209 | Val Acc: 0.898328 loss: 0.313600\n",
            "[1215/3000] Train Acc: 0.997013 Loss: 0.003817 | Val Acc: 0.894611 loss: 0.318814\n",
            "[1216/3000] Train Acc: 0.997146 Loss: 0.002996 | Val Acc: 0.893018 loss: 0.332150\n",
            "[1217/3000] Train Acc: 0.997611 Loss: 0.003346 | Val Acc: 0.889036 loss: 0.341597\n",
            "[1218/3000] Train Acc: 0.997544 Loss: 0.003120 | Val Acc: 0.896204 loss: 0.321174\n",
            "[1219/3000] Train Acc: 0.996881 Loss: 0.003642 | Val Acc: 0.883993 loss: 0.361035\n",
            "[1220/3000] Train Acc: 0.997544 Loss: 0.003820 | Val Acc: 0.887178 loss: 0.350112\n",
            "[1221/3000] Train Acc: 0.997412 Loss: 0.004032 | Val Acc: 0.897266 loss: 0.314458\n",
            "[1222/3000] Train Acc: 0.997279 Loss: 0.003502 | Val Acc: 0.894877 loss: 0.324878\n",
            "[1223/3000] Train Acc: 0.997478 Loss: 0.003130 | Val Acc: 0.904964 loss: 0.291662\n",
            "[1224/3000] Train Acc: 0.996814 Loss: 0.003920 | Val Acc: 0.883993 loss: 0.350929\n",
            "[1225/3000] Train Acc: 0.997412 Loss: 0.003459 | Val Acc: 0.873374 loss: 0.377551\n",
            "[1226/3000] Train Acc: 0.997412 Loss: 0.003508 | Val Acc: 0.884789 loss: 0.351257\n",
            "[1227/3000] Train Acc: 0.996615 Loss: 0.004364 | Val Acc: 0.900186 loss: 0.302176\n",
            "[1228/3000] Train Acc: 0.997013 Loss: 0.004084 | Val Acc: 0.893815 loss: 0.326299\n",
            "[1229/3000] Train Acc: 0.997345 Loss: 0.003037 | Val Acc: 0.894346 loss: 0.317191\n",
            "[1230/3000] Train Acc: 0.996416 Loss: 0.003540 | Val Acc: 0.879480 loss: 0.371081\n",
            "[1231/3000] Train Acc: 0.997544 Loss: 0.003693 | Val Acc: 0.893018 loss: 0.328438\n",
            "[1232/3000] Train Acc: 0.996681 Loss: 0.003165 | Val Acc: 0.895673 loss: 0.308488\n",
            "[1233/3000] Train Acc: 0.996350 Loss: 0.005073 | Val Acc: 0.889036 loss: 0.330599\n",
            "[1234/3000] Train Acc: 0.996748 Loss: 0.004088 | Val Acc: 0.897531 loss: 0.317410\n",
            "[1235/3000] Train Acc: 0.996881 Loss: 0.004481 | Val Acc: 0.898859 loss: 0.312550\n",
            "[1236/3000] Train Acc: 0.997013 Loss: 0.004135 | Val Acc: 0.884258 loss: 0.357046\n",
            "[1237/3000] Train Acc: 0.996881 Loss: 0.003513 | Val Acc: 0.887178 loss: 0.341107\n",
            "[1238/3000] Train Acc: 0.996482 Loss: 0.003559 | Val Acc: 0.896204 loss: 0.313586\n",
            "[1239/3000] Train Acc: 0.996947 Loss: 0.003563 | Val Acc: 0.885585 loss: 0.347579\n",
            "[1240/3000] Train Acc: 0.997677 Loss: 0.003195 | Val Acc: 0.900982 loss: 0.300546\n",
            "[1241/3000] Train Acc: 0.996881 Loss: 0.003943 | Val Acc: 0.886382 loss: 0.339755\n",
            "[1242/3000] Train Acc: 0.997212 Loss: 0.003792 | Val Acc: 0.901513 loss: 0.304404\n",
            "[1243/3000] Train Acc: 0.997345 Loss: 0.003808 | Val Acc: 0.895938 loss: 0.319500\n",
            "[1244/3000] Train Acc: 0.997279 Loss: 0.002922 | Val Acc: 0.890364 loss: 0.331094\n",
            "[1245/3000] Train Acc: 0.996549 Loss: 0.003804 | Val Acc: 0.886913 loss: 0.344340\n",
            "[1246/3000] Train Acc: 0.997279 Loss: 0.003885 | Val Acc: 0.898859 loss: 0.312394\n",
            "[1247/3000] Train Acc: 0.997345 Loss: 0.004070 | Val Acc: 0.881338 loss: 0.356652\n",
            "[1248/3000] Train Acc: 0.997478 Loss: 0.003046 | Val Acc: 0.898859 loss: 0.312573\n",
            "[1249/3000] Train Acc: 0.997013 Loss: 0.002954 | Val Acc: 0.907884 loss: 0.276718\n",
            "[1250/3000] Train Acc: 0.997212 Loss: 0.003929 | Val Acc: 0.881869 loss: 0.364220\n",
            "[1251/3000] Train Acc: 0.996881 Loss: 0.004071 | Val Acc: 0.898328 loss: 0.308045\n",
            "[1252/3000] Train Acc: 0.996482 Loss: 0.003640 | Val Acc: 0.894611 loss: 0.323568\n",
            "[1253/3000] Train Acc: 0.997212 Loss: 0.003586 | Val Acc: 0.901513 loss: 0.294773\n",
            "[1254/3000] Train Acc: 0.996283 Loss: 0.004109 | Val Acc: 0.899389 loss: 0.299483\n",
            "[1255/3000] Train Acc: 0.997080 Loss: 0.004047 | Val Acc: 0.890629 loss: 0.333788\n",
            "[1256/3000] Train Acc: 0.996881 Loss: 0.003651 | Val Acc: 0.882665 loss: 0.359525\n",
            "[1257/3000] Train Acc: 0.997212 Loss: 0.003611 | Val Acc: 0.889302 loss: 0.337531\n",
            "[1258/3000] Train Acc: 0.997412 Loss: 0.004084 | Val Acc: 0.881072 loss: 0.365747\n",
            "[1259/3000] Train Acc: 0.997544 Loss: 0.003026 | Val Acc: 0.893284 loss: 0.324597\n",
            "[1260/3000] Train Acc: 0.997544 Loss: 0.003480 | Val Acc: 0.891691 loss: 0.326837\n",
            "[1261/3000] Train Acc: 0.996615 Loss: 0.003843 | Val Acc: 0.894346 loss: 0.326291\n",
            "[1262/3000] Train Acc: 0.997013 Loss: 0.003706 | Val Acc: 0.890098 loss: 0.340275\n",
            "[1263/3000] Train Acc: 0.997345 Loss: 0.004377 | Val Acc: 0.887444 loss: 0.336491\n",
            "[1264/3000] Train Acc: 0.997345 Loss: 0.003657 | Val Acc: 0.909212 loss: 0.260619\n",
            "[1265/3000] Train Acc: 0.997212 Loss: 0.003023 | Val Acc: 0.886382 loss: 0.354622\n",
            "[1266/3000] Train Acc: 0.996814 Loss: 0.003751 | Val Acc: 0.895407 loss: 0.330208\n",
            "[1267/3000] Train Acc: 0.997544 Loss: 0.004557 | Val Acc: 0.894080 loss: 0.328350\n",
            "[1268/3000] Train Acc: 0.996681 Loss: 0.003678 | Val Acc: 0.894877 loss: 0.319760\n",
            "[1269/3000] Train Acc: 0.997478 Loss: 0.004811 | Val Acc: 0.880807 loss: 0.364669\n",
            "[1270/3000] Train Acc: 0.997876 Loss: 0.002959 | Val Acc: 0.888240 loss: 0.349537\n",
            "[1271/3000] Train Acc: 0.996881 Loss: 0.004208 | Val Acc: 0.897266 loss: 0.321426\n",
            "[1272/3000] Train Acc: 0.996482 Loss: 0.003643 | Val Acc: 0.881072 loss: 0.366720\n",
            "[1273/3000] Train Acc: 0.997412 Loss: 0.003680 | Val Acc: 0.900186 loss: 0.313473\n",
            "[1274/3000] Train Acc: 0.997345 Loss: 0.003957 | Val Acc: 0.899655 loss: 0.307959\n",
            "[1275/3000] Train Acc: 0.996947 Loss: 0.003503 | Val Acc: 0.895142 loss: 0.316541\n",
            "[1276/3000] Train Acc: 0.997212 Loss: 0.003999 | Val Acc: 0.891691 loss: 0.332383\n",
            "[1277/3000] Train Acc: 0.997146 Loss: 0.003390 | Val Acc: 0.898593 loss: 0.318527\n",
            "[1278/3000] Train Acc: 0.996748 Loss: 0.003957 | Val Acc: 0.883196 loss: 0.361380\n",
            "[1279/3000] Train Acc: 0.997080 Loss: 0.003662 | Val Acc: 0.893018 loss: 0.327690\n",
            "[1280/3000] Train Acc: 0.996748 Loss: 0.003802 | Val Acc: 0.897000 loss: 0.309715\n",
            "[1281/3000] Train Acc: 0.997146 Loss: 0.005091 | Val Acc: 0.890364 loss: 0.331531\n",
            "[1282/3000] Train Acc: 0.996151 Loss: 0.004253 | Val Acc: 0.891691 loss: 0.337653\n",
            "[1283/3000] Train Acc: 0.997146 Loss: 0.004550 | Val Acc: 0.898593 loss: 0.309413\n",
            "[1284/3000] Train Acc: 0.997146 Loss: 0.004338 | Val Acc: 0.883196 loss: 0.357170\n",
            "[1285/3000] Train Acc: 0.997677 Loss: 0.003476 | Val Acc: 0.904964 loss: 0.289448\n",
            "[1286/3000] Train Acc: 0.997279 Loss: 0.003699 | Val Acc: 0.891160 loss: 0.345191\n",
            "[1287/3000] Train Acc: 0.997478 Loss: 0.003438 | Val Acc: 0.897266 loss: 0.314135\n",
            "[1288/3000] Train Acc: 0.997412 Loss: 0.003196 | Val Acc: 0.891956 loss: 0.327374\n",
            "[1289/3000] Train Acc: 0.996681 Loss: 0.003678 | Val Acc: 0.891160 loss: 0.337942\n",
            "[1290/3000] Train Acc: 0.996814 Loss: 0.003837 | Val Acc: 0.885585 loss: 0.356104\n",
            "[1291/3000] Train Acc: 0.997146 Loss: 0.004055 | Val Acc: 0.892753 loss: 0.318959\n",
            "[1292/3000] Train Acc: 0.997810 Loss: 0.003230 | Val Acc: 0.901513 loss: 0.299973\n",
            "[1293/3000] Train Acc: 0.997345 Loss: 0.005001 | Val Acc: 0.886647 loss: 0.339981\n",
            "[1294/3000] Train Acc: 0.997544 Loss: 0.003857 | Val Acc: 0.905761 loss: 0.277290\n",
            "[1295/3000] Train Acc: 0.997080 Loss: 0.003412 | Val Acc: 0.904433 loss: 0.278819\n",
            "[1296/3000] Train Acc: 0.997279 Loss: 0.003941 | Val Acc: 0.898859 loss: 0.304731\n",
            "[1297/3000] Train Acc: 0.996881 Loss: 0.004748 | Val Acc: 0.902044 loss: 0.293088\n",
            "[1298/3000] Train Acc: 0.996681 Loss: 0.003065 | Val Acc: 0.901248 loss: 0.309755\n",
            "[1299/3000] Train Acc: 0.996814 Loss: 0.003724 | Val Acc: 0.893018 loss: 0.324422\n",
            "[1300/3000] Train Acc: 0.997080 Loss: 0.003829 | Val Acc: 0.891160 loss: 0.325909\n",
            "[1301/3000] Train Acc: 0.997345 Loss: 0.003262 | Val Acc: 0.900186 loss: 0.295879\n",
            "[1302/3000] Train Acc: 0.996350 Loss: 0.004578 | Val Acc: 0.900186 loss: 0.311987\n",
            "[1303/3000] Train Acc: 0.996947 Loss: 0.003684 | Val Acc: 0.886116 loss: 0.341914\n",
            "[1304/3000] Train Acc: 0.997212 Loss: 0.004437 | Val Acc: 0.895938 loss: 0.322000\n",
            "[1305/3000] Train Acc: 0.997611 Loss: 0.003247 | Val Acc: 0.903371 loss: 0.299901\n",
            "[1306/3000] Train Acc: 0.997345 Loss: 0.003984 | Val Acc: 0.895407 loss: 0.318893\n",
            "[1307/3000] Train Acc: 0.996549 Loss: 0.005520 | Val Acc: 0.895673 loss: 0.323115\n",
            "[1308/3000] Train Acc: 0.997544 Loss: 0.003651 | Val Acc: 0.890098 loss: 0.342365\n",
            "[1309/3000] Train Acc: 0.997212 Loss: 0.004508 | Val Acc: 0.899124 loss: 0.304790\n",
            "[1310/3000] Train Acc: 0.997478 Loss: 0.003280 | Val Acc: 0.893549 loss: 0.328775\n",
            "[1311/3000] Train Acc: 0.997677 Loss: 0.003192 | Val Acc: 0.898593 loss: 0.312986\n",
            "[1312/3000] Train Acc: 0.997943 Loss: 0.003239 | Val Acc: 0.897000 loss: 0.308303\n",
            "[1313/3000] Train Acc: 0.997279 Loss: 0.004123 | Val Acc: 0.894877 loss: 0.320184\n",
            "[1314/3000] Train Acc: 0.997876 Loss: 0.003432 | Val Acc: 0.895938 loss: 0.327196\n",
            "[1315/3000] Train Acc: 0.996748 Loss: 0.003763 | Val Acc: 0.886116 loss: 0.351101\n",
            "[1316/3000] Train Acc: 0.997279 Loss: 0.003824 | Val Acc: 0.889302 loss: 0.342953\n",
            "[1317/3000] Train Acc: 0.997013 Loss: 0.003756 | Val Acc: 0.896204 loss: 0.313502\n",
            "[1318/3000] Train Acc: 0.996814 Loss: 0.003925 | Val Acc: 0.893549 loss: 0.335680\n",
            "[1319/3000] Train Acc: 0.996748 Loss: 0.004351 | Val Acc: 0.899124 loss: 0.308523\n",
            "[1320/3000] Train Acc: 0.997345 Loss: 0.002988 | Val Acc: 0.900717 loss: 0.301050\n",
            "[1321/3000] Train Acc: 0.998075 Loss: 0.004108 | Val Acc: 0.892487 loss: 0.336468\n",
            "[1322/3000] Train Acc: 0.996814 Loss: 0.004761 | Val Acc: 0.887178 loss: 0.348589\n",
            "[1323/3000] Train Acc: 0.996947 Loss: 0.003513 | Val Acc: 0.905230 loss: 0.281473\n",
            "[1324/3000] Train Acc: 0.996018 Loss: 0.003996 | Val Acc: 0.883196 loss: 0.361938\n",
            "[1325/3000] Train Acc: 0.997279 Loss: 0.003472 | Val Acc: 0.896735 loss: 0.309896\n",
            "[1326/3000] Train Acc: 0.997544 Loss: 0.003574 | Val Acc: 0.893284 loss: 0.329755\n",
            "[1327/3000] Train Acc: 0.996947 Loss: 0.003692 | Val Acc: 0.897797 loss: 0.314310\n",
            "[1328/3000] Train Acc: 0.997013 Loss: 0.004179 | Val Acc: 0.895407 loss: 0.326667\n",
            "[1329/3000] Train Acc: 0.996681 Loss: 0.003923 | Val Acc: 0.906026 loss: 0.292377\n",
            "[1330/3000] Train Acc: 0.997743 Loss: 0.003134 | Val Acc: 0.887975 loss: 0.341824\n",
            "[1331/3000] Train Acc: 0.996748 Loss: 0.004376 | Val Acc: 0.898593 loss: 0.305479\n",
            "[1332/3000] Train Acc: 0.996748 Loss: 0.004353 | Val Acc: 0.897266 loss: 0.307140\n",
            "[1333/3000] Train Acc: 0.996549 Loss: 0.003950 | Val Acc: 0.899389 loss: 0.311224\n",
            "[1334/3000] Train Acc: 0.997611 Loss: 0.003639 | Val Acc: 0.893549 loss: 0.326921\n",
            "[1335/3000] Train Acc: 0.997478 Loss: 0.003442 | Val Acc: 0.892753 loss: 0.329412\n",
            "[1336/3000] Train Acc: 0.997611 Loss: 0.003715 | Val Acc: 0.899389 loss: 0.306530\n",
            "[1337/3000] Train Acc: 0.996814 Loss: 0.003218 | Val Acc: 0.902310 loss: 0.292223\n",
            "[1338/3000] Train Acc: 0.997146 Loss: 0.003564 | Val Acc: 0.879480 loss: 0.379316\n",
            "[1339/3000] Train Acc: 0.996748 Loss: 0.003599 | Val Acc: 0.887975 loss: 0.344985\n",
            "[1340/3000] Train Acc: 0.997013 Loss: 0.003395 | Val Acc: 0.881338 loss: 0.359899\n",
            "[1341/3000] Train Acc: 0.997544 Loss: 0.003519 | Val Acc: 0.894080 loss: 0.329246\n",
            "[1342/3000] Train Acc: 0.997013 Loss: 0.003124 | Val Acc: 0.899920 loss: 0.313204\n",
            "[1343/3000] Train Acc: 0.997279 Loss: 0.003168 | Val Acc: 0.900186 loss: 0.302752\n",
            "[1344/3000] Train Acc: 0.997743 Loss: 0.003265 | Val Acc: 0.899920 loss: 0.303380\n",
            "[1345/3000] Train Acc: 0.997478 Loss: 0.003321 | Val Acc: 0.908681 loss: 0.269935\n",
            "[1346/3000] Train Acc: 0.996681 Loss: 0.003638 | Val Acc: 0.885320 loss: 0.351665\n",
            "[1347/3000] Train Acc: 0.997743 Loss: 0.003515 | Val Acc: 0.890098 loss: 0.334863\n",
            "[1348/3000] Train Acc: 0.997013 Loss: 0.003682 | Val Acc: 0.897266 loss: 0.308850\n",
            "[1349/3000] Train Acc: 0.997345 Loss: 0.004105 | Val Acc: 0.902840 loss: 0.291058\n",
            "[1350/3000] Train Acc: 0.997412 Loss: 0.003546 | Val Acc: 0.900186 loss: 0.303994\n",
            "[1351/3000] Train Acc: 0.997611 Loss: 0.003045 | Val Acc: 0.895673 loss: 0.319287\n",
            "[1352/3000] Train Acc: 0.997013 Loss: 0.003594 | Val Acc: 0.893018 loss: 0.324376\n",
            "[1353/3000] Train Acc: 0.996416 Loss: 0.003438 | Val Acc: 0.899655 loss: 0.304237\n",
            "[1354/3000] Train Acc: 0.996681 Loss: 0.004476 | Val Acc: 0.896735 loss: 0.313330\n",
            "[1355/3000] Train Acc: 0.998407 Loss: 0.002951 | Val Acc: 0.897266 loss: 0.304744\n",
            "[1356/3000] Train Acc: 0.997544 Loss: 0.003717 | Val Acc: 0.891956 loss: 0.336021\n",
            "[1357/3000] Train Acc: 0.998075 Loss: 0.003362 | Val Acc: 0.896469 loss: 0.313476\n",
            "[1358/3000] Train Acc: 0.997876 Loss: 0.003247 | Val Acc: 0.898859 loss: 0.315477\n",
            "[1359/3000] Train Acc: 0.997412 Loss: 0.003600 | Val Acc: 0.893549 loss: 0.333026\n",
            "[1360/3000] Train Acc: 0.997080 Loss: 0.003642 | Val Acc: 0.887975 loss: 0.341685\n",
            "[1361/3000] Train Acc: 0.997345 Loss: 0.003355 | Val Acc: 0.885054 loss: 0.350601\n",
            "[1362/3000] Train Acc: 0.997677 Loss: 0.003342 | Val Acc: 0.900717 loss: 0.295790\n",
            "[1363/3000] Train Acc: 0.996549 Loss: 0.003052 | Val Acc: 0.900982 loss: 0.302539\n",
            "[1364/3000] Train Acc: 0.997345 Loss: 0.002832 | Val Acc: 0.883993 loss: 0.357003\n",
            "[1365/3000] Train Acc: 0.997013 Loss: 0.003744 | Val Acc: 0.892753 loss: 0.321749\n",
            "[1366/3000] Train Acc: 0.997212 Loss: 0.003136 | Val Acc: 0.891426 loss: 0.334535\n",
            "[1367/3000] Train Acc: 0.997146 Loss: 0.003877 | Val Acc: 0.899389 loss: 0.307478\n",
            "[1368/3000] Train Acc: 0.996881 Loss: 0.003526 | Val Acc: 0.895142 loss: 0.324199\n",
            "[1369/3000] Train Acc: 0.997412 Loss: 0.003501 | Val Acc: 0.891426 loss: 0.329718\n",
            "[1370/3000] Train Acc: 0.997544 Loss: 0.003759 | Val Acc: 0.894346 loss: 0.320737\n",
            "[1371/3000] Train Acc: 0.997743 Loss: 0.003075 | Val Acc: 0.895938 loss: 0.314404\n",
            "[1372/3000] Train Acc: 0.997345 Loss: 0.004820 | Val Acc: 0.900451 loss: 0.297548\n",
            "[1373/3000] Train Acc: 0.996881 Loss: 0.003415 | Val Acc: 0.891160 loss: 0.337730\n",
            "[1374/3000] Train Acc: 0.996814 Loss: 0.003314 | Val Acc: 0.880011 loss: 0.364910\n",
            "[1375/3000] Train Acc: 0.997212 Loss: 0.004348 | Val Acc: 0.903637 loss: 0.292560\n",
            "[1376/3000] Train Acc: 0.996881 Loss: 0.004303 | Val Acc: 0.891691 loss: 0.325549\n",
            "[1377/3000] Train Acc: 0.997279 Loss: 0.003965 | Val Acc: 0.907619 loss: 0.280551\n",
            "[1378/3000] Train Acc: 0.997345 Loss: 0.003048 | Val Acc: 0.904699 loss: 0.290929\n",
            "[1379/3000] Train Acc: 0.997345 Loss: 0.003853 | Val Acc: 0.896469 loss: 0.317548\n",
            "[1380/3000] Train Acc: 0.996947 Loss: 0.003469 | Val Acc: 0.895938 loss: 0.323266\n",
            "[1381/3000] Train Acc: 0.997810 Loss: 0.003230 | Val Acc: 0.883993 loss: 0.344981\n",
            "[1382/3000] Train Acc: 0.997345 Loss: 0.003772 | Val Acc: 0.902310 loss: 0.299127\n",
            "[1383/3000] Train Acc: 0.997279 Loss: 0.004208 | Val Acc: 0.893549 loss: 0.320772\n",
            "[1384/3000] Train Acc: 0.997412 Loss: 0.003396 | Val Acc: 0.894346 loss: 0.320496\n",
            "[1385/3000] Train Acc: 0.996947 Loss: 0.003602 | Val Acc: 0.893549 loss: 0.316815\n",
            "[1386/3000] Train Acc: 0.997013 Loss: 0.003602 | Val Acc: 0.903106 loss: 0.293857\n",
            "[1387/3000] Train Acc: 0.997478 Loss: 0.003199 | Val Acc: 0.898859 loss: 0.307328\n",
            "[1388/3000] Train Acc: 0.997544 Loss: 0.002900 | Val Acc: 0.887975 loss: 0.339433\n",
            "[1389/3000] Train Acc: 0.996814 Loss: 0.003512 | Val Acc: 0.889567 loss: 0.335692\n",
            "[1390/3000] Train Acc: 0.997544 Loss: 0.004016 | Val Acc: 0.897266 loss: 0.312464\n",
            "[1391/3000] Train Acc: 0.997146 Loss: 0.003595 | Val Acc: 0.889302 loss: 0.337401\n",
            "[1392/3000] Train Acc: 0.997345 Loss: 0.003125 | Val Acc: 0.896469 loss: 0.332051\n",
            "[1393/3000] Train Acc: 0.997279 Loss: 0.002755 | Val Acc: 0.892753 loss: 0.325869\n",
            "[1394/3000] Train Acc: 0.996217 Loss: 0.004158 | Val Acc: 0.900717 loss: 0.308830\n",
            "[1395/3000] Train Acc: 0.997212 Loss: 0.003688 | Val Acc: 0.892222 loss: 0.329620\n",
            "[1396/3000] Train Acc: 0.997146 Loss: 0.003794 | Val Acc: 0.900982 loss: 0.306665\n",
            "[1397/3000] Train Acc: 0.997743 Loss: 0.003219 | Val Acc: 0.878949 loss: 0.376852\n",
            "[1398/3000] Train Acc: 0.997212 Loss: 0.004405 | Val Acc: 0.899124 loss: 0.318528\n",
            "[1399/3000] Train Acc: 0.997212 Loss: 0.003730 | Val Acc: 0.885851 loss: 0.350865\n",
            "[1400/3000] Train Acc: 0.997677 Loss: 0.003211 | Val Acc: 0.893284 loss: 0.332598\n",
            "[1401/3000] Train Acc: 0.997279 Loss: 0.003925 | Val Acc: 0.884258 loss: 0.344036\n",
            "[1402/3000] Train Acc: 0.996947 Loss: 0.003628 | Val Acc: 0.891426 loss: 0.334713\n",
            "[1403/3000] Train Acc: 0.997212 Loss: 0.003451 | Val Acc: 0.888771 loss: 0.342137\n",
            "[1404/3000] Train Acc: 0.996881 Loss: 0.004256 | Val Acc: 0.889036 loss: 0.339297\n",
            "[1405/3000] Train Acc: 0.997478 Loss: 0.003260 | Val Acc: 0.889302 loss: 0.340061\n",
            "[1406/3000] Train Acc: 0.996416 Loss: 0.005085 | Val Acc: 0.889302 loss: 0.347163\n",
            "[1407/3000] Train Acc: 0.996947 Loss: 0.003177 | Val Acc: 0.893815 loss: 0.328727\n",
            "[1408/3000] Train Acc: 0.996217 Loss: 0.003917 | Val Acc: 0.884258 loss: 0.347112\n",
            "[1409/3000] Train Acc: 0.996416 Loss: 0.004434 | Val Acc: 0.890895 loss: 0.331152\n",
            "[1410/3000] Train Acc: 0.997080 Loss: 0.003889 | Val Acc: 0.898062 loss: 0.312137\n",
            "[1411/3000] Train Acc: 0.997876 Loss: 0.003227 | Val Acc: 0.898593 loss: 0.300532\n",
            "[1412/3000] Train Acc: 0.997345 Loss: 0.004046 | Val Acc: 0.896735 loss: 0.312369\n",
            "[1413/3000] Train Acc: 0.997345 Loss: 0.002975 | Val Acc: 0.889302 loss: 0.334627\n",
            "[1414/3000] Train Acc: 0.996748 Loss: 0.003485 | Val Acc: 0.893284 loss: 0.338678\n",
            "[1415/3000] Train Acc: 0.996947 Loss: 0.003954 | Val Acc: 0.891956 loss: 0.317055\n",
            "[1416/3000] Train Acc: 0.998274 Loss: 0.002921 | Val Acc: 0.894080 loss: 0.327672\n",
            "[1417/3000] Train Acc: 0.997478 Loss: 0.003538 | Val Acc: 0.887975 loss: 0.349956\n",
            "[1418/3000] Train Acc: 0.997412 Loss: 0.002891 | Val Acc: 0.896469 loss: 0.315589\n",
            "[1419/3000] Train Acc: 0.997013 Loss: 0.003247 | Val Acc: 0.898328 loss: 0.306462\n",
            "[1420/3000] Train Acc: 0.997810 Loss: 0.004054 | Val Acc: 0.893284 loss: 0.314456\n",
            "[1421/3000] Train Acc: 0.997544 Loss: 0.003155 | Val Acc: 0.894611 loss: 0.319872\n",
            "[1422/3000] Train Acc: 0.997478 Loss: 0.002787 | Val Acc: 0.902044 loss: 0.297935\n",
            "[1423/3000] Train Acc: 0.996416 Loss: 0.004682 | Val Acc: 0.892753 loss: 0.330807\n",
            "[1424/3000] Train Acc: 0.997279 Loss: 0.003465 | Val Acc: 0.881072 loss: 0.368473\n",
            "[1425/3000] Train Acc: 0.997345 Loss: 0.002961 | Val Acc: 0.883462 loss: 0.354542\n",
            "[1426/3000] Train Acc: 0.997412 Loss: 0.003104 | Val Acc: 0.875232 loss: 0.388791\n",
            "[1427/3000] Train Acc: 0.997013 Loss: 0.003756 | Val Acc: 0.902044 loss: 0.297860\n",
            "[1428/3000] Train Acc: 0.997212 Loss: 0.004553 | Val Acc: 0.888240 loss: 0.339384\n",
            "[1429/3000] Train Acc: 0.997146 Loss: 0.004138 | Val Acc: 0.888771 loss: 0.338263\n",
            "[1430/3000] Train Acc: 0.997279 Loss: 0.002921 | Val Acc: 0.886913 loss: 0.342258\n",
            "[1431/3000] Train Acc: 0.997544 Loss: 0.003834 | Val Acc: 0.878152 loss: 0.380620\n",
            "[1432/3000] Train Acc: 0.996549 Loss: 0.004991 | Val Acc: 0.893815 loss: 0.323048\n",
            "[1433/3000] Train Acc: 0.997677 Loss: 0.004005 | Val Acc: 0.893284 loss: 0.321918\n",
            "[1434/3000] Train Acc: 0.997412 Loss: 0.003400 | Val Acc: 0.900982 loss: 0.295332\n",
            "[1435/3000] Train Acc: 0.997743 Loss: 0.003148 | Val Acc: 0.895407 loss: 0.321413\n",
            "[1436/3000] Train Acc: 0.997212 Loss: 0.003731 | Val Acc: 0.890098 loss: 0.337062\n",
            "[1437/3000] Train Acc: 0.996947 Loss: 0.003478 | Val Acc: 0.888771 loss: 0.334844\n",
            "[1438/3000] Train Acc: 0.997544 Loss: 0.003378 | Val Acc: 0.890629 loss: 0.342648\n",
            "[1439/3000] Train Acc: 0.997412 Loss: 0.003473 | Val Acc: 0.879480 loss: 0.378403\n",
            "[1440/3000] Train Acc: 0.997544 Loss: 0.004316 | Val Acc: 0.892487 loss: 0.329194\n",
            "[1441/3000] Train Acc: 0.997345 Loss: 0.003896 | Val Acc: 0.889302 loss: 0.337529\n",
            "[1442/3000] Train Acc: 0.997743 Loss: 0.003054 | Val Acc: 0.904433 loss: 0.289546\n",
            "[1443/3000] Train Acc: 0.996151 Loss: 0.003539 | Val Acc: 0.890629 loss: 0.345481\n",
            "[1444/3000] Train Acc: 0.996681 Loss: 0.004277 | Val Acc: 0.904699 loss: 0.292202\n",
            "[1445/3000] Train Acc: 0.997279 Loss: 0.003430 | Val Acc: 0.895407 loss: 0.316442\n",
            "[1446/3000] Train Acc: 0.997146 Loss: 0.004099 | Val Acc: 0.888240 loss: 0.363714\n",
            "[1447/3000] Train Acc: 0.997146 Loss: 0.004319 | Val Acc: 0.902575 loss: 0.308338\n",
            "[1448/3000] Train Acc: 0.997412 Loss: 0.003650 | Val Acc: 0.889833 loss: 0.335507\n",
            "[1449/3000] Train Acc: 0.996748 Loss: 0.003362 | Val Acc: 0.900186 loss: 0.303756\n",
            "[1450/3000] Train Acc: 0.997611 Loss: 0.003857 | Val Acc: 0.872578 loss: 0.394460\n",
            "[1451/3000] Train Acc: 0.997943 Loss: 0.003110 | Val Acc: 0.891160 loss: 0.332607\n",
            "[1452/3000] Train Acc: 0.998075 Loss: 0.003012 | Val Acc: 0.893549 loss: 0.331848\n",
            "[1453/3000] Train Acc: 0.997345 Loss: 0.004810 | Val Acc: 0.889302 loss: 0.340370\n",
            "[1454/3000] Train Acc: 0.998208 Loss: 0.003725 | Val Acc: 0.898593 loss: 0.312941\n",
            "[1455/3000] Train Acc: 0.997611 Loss: 0.003364 | Val Acc: 0.887444 loss: 0.347491\n",
            "[1456/3000] Train Acc: 0.997478 Loss: 0.003973 | Val Acc: 0.898328 loss: 0.311332\n",
            "[1457/3000] Train Acc: 0.997080 Loss: 0.004235 | Val Acc: 0.896469 loss: 0.314096\n",
            "[1458/3000] Train Acc: 0.996947 Loss: 0.004052 | Val Acc: 0.893018 loss: 0.324046\n",
            "[1459/3000] Train Acc: 0.996482 Loss: 0.004250 | Val Acc: 0.892222 loss: 0.333693\n",
            "[1460/3000] Train Acc: 0.996947 Loss: 0.003157 | Val Acc: 0.893284 loss: 0.322703\n",
            "[1461/3000] Train Acc: 0.997810 Loss: 0.003087 | Val Acc: 0.894080 loss: 0.324432\n",
            "[1462/3000] Train Acc: 0.996482 Loss: 0.004407 | Val Acc: 0.888240 loss: 0.342376\n",
            "[1463/3000] Train Acc: 0.996549 Loss: 0.004501 | Val Acc: 0.893284 loss: 0.323833\n",
            "[1464/3000] Train Acc: 0.997412 Loss: 0.003085 | Val Acc: 0.890098 loss: 0.335990\n",
            "[1465/3000] Train Acc: 0.997611 Loss: 0.002584 | Val Acc: 0.894080 loss: 0.320893\n",
            "[1466/3000] Train Acc: 0.997212 Loss: 0.003736 | Val Acc: 0.895142 loss: 0.317913\n",
            "[1467/3000] Train Acc: 0.997943 Loss: 0.003404 | Val Acc: 0.891426 loss: 0.334748\n",
            "[1468/3000] Train Acc: 0.995951 Loss: 0.004778 | Val Acc: 0.890895 loss: 0.324377\n",
            "[1469/3000] Train Acc: 0.997279 Loss: 0.003574 | Val Acc: 0.895142 loss: 0.324267\n",
            "[1470/3000] Train Acc: 0.996549 Loss: 0.004142 | Val Acc: 0.886647 loss: 0.348871\n",
            "[1471/3000] Train Acc: 0.997544 Loss: 0.003775 | Val Acc: 0.898062 loss: 0.314805\n",
            "[1472/3000] Train Acc: 0.997677 Loss: 0.003046 | Val Acc: 0.879480 loss: 0.371179\n",
            "[1473/3000] Train Acc: 0.996947 Loss: 0.003353 | Val Acc: 0.893018 loss: 0.324246\n",
            "[1474/3000] Train Acc: 0.997080 Loss: 0.003770 | Val Acc: 0.892753 loss: 0.323897\n",
            "[1475/3000] Train Acc: 0.997544 Loss: 0.003810 | Val Acc: 0.885851 loss: 0.341056\n",
            "[1476/3000] Train Acc: 0.997611 Loss: 0.002884 | Val Acc: 0.893018 loss: 0.326912\n",
            "[1477/3000] Train Acc: 0.996748 Loss: 0.004669 | Val Acc: 0.884789 loss: 0.351397\n",
            "[1478/3000] Train Acc: 0.997279 Loss: 0.003248 | Val Acc: 0.895142 loss: 0.315275\n",
            "[1479/3000] Train Acc: 0.997279 Loss: 0.003666 | Val Acc: 0.889833 loss: 0.336716\n",
            "[1480/3000] Train Acc: 0.997544 Loss: 0.003540 | Val Acc: 0.882931 loss: 0.380633\n",
            "[1481/3000] Train Acc: 0.996881 Loss: 0.005335 | Val Acc: 0.896735 loss: 0.315831\n",
            "[1482/3000] Train Acc: 0.996814 Loss: 0.003759 | Val Acc: 0.893815 loss: 0.335932\n",
            "[1483/3000] Train Acc: 0.996814 Loss: 0.003843 | Val Acc: 0.890629 loss: 0.326438\n",
            "[1484/3000] Train Acc: 0.997080 Loss: 0.003474 | Val Acc: 0.889036 loss: 0.357105\n",
            "[1485/3000] Train Acc: 0.997743 Loss: 0.003684 | Val Acc: 0.897266 loss: 0.311698\n",
            "[1486/3000] Train Acc: 0.997743 Loss: 0.003097 | Val Acc: 0.898328 loss: 0.311449\n",
            "[1487/3000] Train Acc: 0.997478 Loss: 0.003301 | Val Acc: 0.895142 loss: 0.325126\n",
            "[1488/3000] Train Acc: 0.997345 Loss: 0.003776 | Val Acc: 0.893018 loss: 0.329097\n",
            "[1489/3000] Train Acc: 0.997345 Loss: 0.003763 | Val Acc: 0.895938 loss: 0.324627\n",
            "[1490/3000] Train Acc: 0.996549 Loss: 0.003719 | Val Acc: 0.893549 loss: 0.319501\n",
            "[1491/3000] Train Acc: 0.997677 Loss: 0.003614 | Val Acc: 0.898859 loss: 0.317194\n",
            "[1492/3000] Train Acc: 0.997212 Loss: 0.003111 | Val Acc: 0.887444 loss: 0.338663\n",
            "[1493/3000] Train Acc: 0.997544 Loss: 0.003248 | Val Acc: 0.890629 loss: 0.331869\n",
            "[1494/3000] Train Acc: 0.997345 Loss: 0.003521 | Val Acc: 0.889833 loss: 0.340696\n"
          ]
        }
      ]
    },
    {
      "cell_type": "code",
      "source": [
        "print(f'Training use {round(end_time - start_time, 3)}s')"
      ],
      "metadata": {
        "id": "NLnpYLpwYlop",
        "colab": {
          "base_uri": "https://localhost:8080/"
        },
        "outputId": "a923859d-a588-4115-ab8c-bcda26e72ad8"
      },
      "execution_count": 299,
      "outputs": [
        {
          "output_type": "stream",
          "name": "stdout",
          "text": [
            "Training use 1322.42s\n"
          ]
        }
      ]
    },
    {
      "cell_type": "code",
      "source": [
        "def plot_learning_curve(train_record, valid_record, title=''):\n",
        "    total_steps = len(train_record)\n",
        "    x = range(total_steps)\n",
        "    plt.figure(figsize=(6, 4))\n",
        "    plt.plot(x, train_record, c='tab:red', label='train')\n",
        "    plt.plot(x, valid_record, c='tab:cyan', label='valid')\n",
        "    plt.ylim(0.0, max(valid_record) + 1)\n",
        "    plt.xlabel('Training epoch')\n",
        "    plt.ylabel(title)\n",
        "    plt.title('Learning curve of {}'.format(title))\n",
        "    plt.legend()\n",
        "    plt.show()"
      ],
      "metadata": {
        "id": "ZX4SmxBQIIcU"
      },
      "execution_count": 300,
      "outputs": []
    },
    {
      "cell_type": "code",
      "source": [
        "plot_learning_curve(train_acc_list, val_acc_list, 'Acc')"
      ],
      "metadata": {
        "id": "CukLL-yVJFdu",
        "colab": {
          "base_uri": "https://localhost:8080/",
          "height": 295
        },
        "outputId": "8cf51470-de96-431f-bb04-9cfa295908ff"
      },
      "execution_count": 301,
      "outputs": [
        {
          "output_type": "display_data",
          "data": {
            "image/png": "[encoded data removed]",
            "text/plain": [
              "<Figure size 432x288 with 1 Axes>"
            ]
          },
          "metadata": {
            "needs_background": "light"
          }
        }
      ]
    },
    {
      "cell_type": "code",
      "source": [
        "plot_learning_curve(train_loss_list, val_loss_list, 'Loss')"
      ],
      "metadata": {
        "id": "LUDXf-nKJQKU",
        "colab": {
          "base_uri": "https://localhost:8080/",
          "height": 295
        },
        "outputId": "50fe9737-b0a7-4460-9d48-d942a1287081"
      },
      "execution_count": 302,
      "outputs": [
        {
          "output_type": "display_data",
          "data": {
            "image/png": "[encoded data removed]",
            "text/plain": [
              "<Figure size 432x288 with 1 Axes>"
            ]
          },
          "metadata": {
            "needs_background": "light"
          }
        }
      ]
    },
    {
      "cell_type": "code",
      "source": [
        "model = Classifier().to(device)\n",
        "model.load_state_dict(torch.load(model_path, map_location=device))\n",
        "\n",
        "model.eval() # set the model to evaluation mode\n",
        "train_predict = []\n",
        "err = 0\n",
        "for i, data in enumerate(train_loader):\n",
        "    inputs, labels = data\n",
        "    inputs, labels = inputs.to(device), labels.to(device)\n",
        "    outputs = model(inputs)\n",
        "    _, test_pred = torch.max(outputs, 1) # get the index of the class with the highest probability\n",
        "\n",
        "    for y in test_pred.cpu().numpy():\n",
        "        train_predict.append(y)\n",
        "\n",
        "Ein = np.mean(np.array(train_predict) != train_y)\n",
        "F1in = metrics.f1_score(train_y, train_predict, average='macro')  \n",
        "print(f'Ein = {round(Ein, 5)}')\n",
        "print(f'F1_in = {round(F1in, 5)}')\n",
        "\n",
        "val_predict = []\n",
        "for i, data in enumerate(val_loader):\n",
        "    inputs = data[0]\n",
        "    inputs = inputs.to(device)\n",
        "    outputs = model(inputs)\n",
        "    _, test_pred = torch.max(outputs, 1) # get the index of the class with the highest probability\n",
        "\n",
        "    for y in test_pred.cpu().numpy():\n",
        "        val_predict.append(y)\n",
        "\n",
        "Eval = np.mean(np.array(val_predict) != val_y)\n",
        "F1val = metrics.f1_score(val_y, val_predict, average='macro')  \n",
        "print(f'Eval = {round(Eval, 5)}')\n",
        "print(f'F1_val = {round(F1val, 5)}')"
      ],
      "metadata": {
        "id": "zCQ8Si4Yg5nh",
        "colab": {
          "base_uri": "https://localhost:8080/"
        },
        "outputId": "faec5175-f80c-4525-9548-8d77aa723f22"
      },
      "execution_count": 303,
      "outputs": [
        {
          "output_type": "stream",
          "name": "stdout",
          "text": [
            "Ein = 0.79704\n",
            "F1_in = 0.16999\n",
            "Eval = 0.08707\n",
            "F1_val = 0.31813\n"
          ]
        }
      ]
    },
    {
      "cell_type": "markdown",
      "source": [
        "# **Deep Neural Network Test**"
      ],
      "metadata": {
        "id": "ynT-KFltscT8"
      }
    },
    {
      "cell_type": "code",
      "source": [
        "sc = StandardScaler()\n",
        "ss = StandardScaler().fit(X_test)\n",
        "X_test_std = ss.transform(X_test)\n",
        "\n",
        "# create testing dataset\n",
        "test_set = IBMDataset(X_test_std, None)\n",
        "test_loader = DataLoader(test_set, batch_size=BATCH_SIZE, shuffle=False)\n",
        "\n",
        "# create model and load weights from checkpoint\n",
        "model = Classifier().to(device)\n",
        "model.load_state_dict(torch.load(model_path, map_location=device))"
      ],
      "metadata": {
        "id": "lukrC4MJWTjM",
        "colab": {
          "base_uri": "https://localhost:8080/"
        },
        "outputId": "b7c3cfc2-8516-404a-8466-5fca517217de"
      },
      "execution_count": 304,
      "outputs": [
        {
          "output_type": "execute_result",
          "data": {
            "text/plain": [
              "<All keys matched successfully>"
            ]
          },
          "metadata": {},
          "execution_count": 304
        }
      ]
    },
    {
      "cell_type": "code",
      "source": [
        "predict = []\n",
        "model.eval() # set the model to evaluation mode\n",
        "for i, data in enumerate(test_loader):\n",
        "    inputs = data\n",
        "    inputs = inputs.to(device)\n",
        "    outputs = model(inputs)\n",
        "    _, test_pred = torch.max(outputs, 1) # get the index of the class with the highest probability\n",
        "\n",
        "    for y in test_pred.cpu().numpy():\n",
        "        predict.append(y)\n",
        "\n",
        "print(encoder_map)\n",
        "print(np.bincount(predict))"
      ],
      "metadata": {
        "id": "OlQ1d1fdVt_V",
        "colab": {
          "base_uri": "https://localhost:8080/"
        },
        "outputId": "5e27fcd2-f25e-4b33-8eab-37b6de9cf4c1"
      },
      "execution_count": 305,
      "outputs": [
        {
          "output_type": "stream",
          "name": "stdout",
          "text": [
            "{'Attitude': 0, 'Competitor': 1, 'Dissatisfaction': 2, 'No Churn': 3, 'Other': 4, 'Price': 5}\n",
            "[ 99 362 129 736  39  44]\n"
          ]
        }
      ]
    },
    {
      "cell_type": "code",
      "source": [
        "submit_result = './dnn_result.csv'\n",
        "\n",
        "new_encoder_map = {'No Churn':0, 'Competitor': 1, 'Dissatisfaction':2, 'Attitude': 3, 'Price':4, 'Other':5}\n",
        "\n",
        "with open(submit_result, 'w') as f:\n",
        "    f.write('Customer ID,Churn Category\\n')\n",
        "    for i in range(len(df_test.values)):\n",
        "        id = str(df_test.values[i]).replace('[\\'', '')\n",
        "        id = id.replace('\\']', '')\n",
        "        pred = new_encoder_map.get(list(encoder_map.keys())[list(encoder_map.values()).index(predict[i])])\n",
        "        f.write(f'{id},{pred}\\n')"
      ],
      "metadata": {
        "id": "11ImkbPjn6qP"
      },
      "execution_count": 306,
      "outputs": []
    },
    {
      "cell_type": "code",
      "source": [
        "from google.colab import files\n",
        "\n",
        "files.download(submit_result)\n",
        "files.download(model_path)"
      ],
      "metadata": {
        "id": "YICyBRaGo43O",
        "colab": {
          "base_uri": "https://localhost:8080/",
          "height": 17
        },
        "outputId": "62aadefe-375d-46db-ae22-2cdfce90e832"
      },
      "execution_count": 307,
      "outputs": [
        {
          "output_type": "display_data",
          "data": {
            "application/javascript": [
              "\n",
              "    async function download(id, filename, size) {\n",
              "      if (!google.colab.kernel.accessAllowed) {\n",
              "        return;\n",
              "      }\n",
              "      const div = document.createElement('div');\n",
              "      const label = document.createElement('label');\n",
              "      label.textContent = `Downloading \"${filename}\": `;\n",
              "      div.appendChild(label);\n",
              "      const progress = document.createElement('progress');\n",
              "      progress.max = size;\n",
              "      div.appendChild(progress);\n",
              "      document.body.appendChild(div);\n",
              "\n",
              "      const buffers = [];\n",
              "      let downloaded = 0;\n",
              "\n",
              "      const channel = await google.colab.kernel.comms.open(id);\n",
              "      // Send a message to notify the kernel that we're ready.\n",
              "      channel.send({})\n",
              "\n",
              "      for await (const message of channel.messages) {\n",
              "        // Send a message to notify the kernel that we're ready.\n",
              "        channel.send({})\n",
              "        if (message.buffers) {\n",
              "          for (const buffer of message.buffers) {\n",
              "            buffers.push(buffer);\n",
              "            downloaded += buffer.byteLength;\n",
              "            progress.value = downloaded;\n",
              "          }\n",
              "        }\n",
              "      }\n",
              "      const blob = new Blob(buffers, {type: 'application/binary'});\n",
              "      const a = document.createElement('a');\n",
              "      a.href = window.URL.createObjectURL(blob);\n",
              "      a.download = filename;\n",
              "      div.appendChild(a);\n",
              "      a.click();\n",
              "      div.remove();\n",
              "    }\n",
              "  "
            ],
            "text/plain": [
              "<IPython.core.display.Javascript object>"
            ]
          },
          "metadata": {}
        },
        {
          "output_type": "display_data",
          "data": {
            "application/javascript": [
              "download(\"download_98c4457d-251d-4614-b9d6-565444bc9c7b\", \"dnn_result.csv\", 18344)"
            ],
            "text/plain": [
              "<IPython.core.display.Javascript object>"
            ]
          },
          "metadata": {}
        },
        {
          "output_type": "display_data",
          "data": {
            "application/javascript": [
              "\n",
              "    async function download(id, filename, size) {\n",
              "      if (!google.colab.kernel.accessAllowed) {\n",
              "        return;\n",
              "      }\n",
              "      const div = document.createElement('div');\n",
              "      const label = document.createElement('label');\n",
              "      label.textContent = `Downloading \"${filename}\": `;\n",
              "      div.appendChild(label);\n",
              "      const progress = document.createElement('progress');\n",
              "      progress.max = size;\n",
              "      div.appendChild(progress);\n",
              "      document.body.appendChild(div);\n",
              "\n",
              "      const buffers = [];\n",
              "      let downloaded = 0;\n",
              "\n",
              "      const channel = await google.colab.kernel.comms.open(id);\n",
              "      // Send a message to notify the kernel that we're ready.\n",
              "      channel.send({})\n",
              "\n",
              "      for await (const message of channel.messages) {\n",
              "        // Send a message to notify the kernel that we're ready.\n",
              "        channel.send({})\n",
              "        if (message.buffers) {\n",
              "          for (const buffer of message.buffers) {\n",
              "            buffers.push(buffer);\n",
              "            downloaded += buffer.byteLength;\n",
              "            progress.value = downloaded;\n",
              "          }\n",
              "        }\n",
              "      }\n",
              "      const blob = new Blob(buffers, {type: 'application/binary'});\n",
              "      const a = document.createElement('a');\n",
              "      a.href = window.URL.createObjectURL(blob);\n",
              "      a.download = filename;\n",
              "      div.appendChild(a);\n",
              "      a.click();\n",
              "      div.remove();\n",
              "    }\n",
              "  "
            ],
            "text/plain": [
              "<IPython.core.display.Javascript object>"
            ]
          },
          "metadata": {}
        },
        {
          "output_type": "display_data",
          "data": {
            "application/javascript": [
              "download(\"download_4e163edb-a0be-47fa-9558-92b6fc6964bb\", \"best_model.ckpt\", 770848)"
            ],
            "text/plain": [
              "<IPython.core.display.Javascript object>"
            ]
          },
          "metadata": {}
        }
      ]
    }
  ]
}