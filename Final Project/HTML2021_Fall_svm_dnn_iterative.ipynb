{
  "nbformat": 4,
  "nbformat_minor": 0,
  "metadata": {
    "colab": {
      "name": "HTML2021_Fall.ipynb",
      "provenance": [],
      "include_colab_link": true
    },
    "kernelspec": {
      "name": "python3",
      "display_name": "Python 3"
    },
    "language_info": {
      "name": "python"
    },
    "accelerator": "GPU"
  },
  "cells": [
    {
      "cell_type": "markdown",
      "metadata": {
        "id": "view-in-github",
        "colab_type": "text"
      },
      "source": [
        "<a href=\"https://colab.research.google.com/github/Offliners/HTML_2021Fall/blob/main/Final%20Project/HTML2021_Fall_svm_dnn_iterative.ipynb\" target=\"_parent\"><img src=\"https://colab.research.google.com/assets/colab-badge.svg\" alt=\"Open In Colab\"/></a>"
      ]
    },
    {
      "cell_type": "markdown",
      "source": [
        "# **Directory**\n",
        "\n",
        "```\n",
        "data_dir\n",
        "    ├── data\n",
        "    │   ├── Test_IDs.csv\n",
        "    │   ├── ...\n",
        "    │   ├── status.csv\n",
        "    ├── statistics\n",
        "    │   ├── Churn Category_stat.png\n",
        "    │   ├── ...\n",
        "    │   ├── miss rate_stat.png\n",
        "```"
      ],
      "metadata": {
        "id": "PD40tT3p379e"
      }
    },
    {
      "cell_type": "markdown",
      "source": [
        "# **Display information of GPU**"
      ],
      "metadata": {
        "id": "ldW8_oif3EEr"
      }
    },
    {
      "cell_type": "code",
      "source": [
        "!nvidia-smi"
      ],
      "metadata": {
        "colab": {
          "base_uri": "https://localhost:8080/"
        },
        "id": "Qf0PLuNJf95W",
        "outputId": "d7594d90-ad74-4032-cf57-059f01337530"
      },
      "execution_count": 1,
      "outputs": [
        {
          "output_type": "stream",
          "name": "stdout",
          "text": [
            "Sat Jan 15 08:56:50 2022       \n",
            "+-----------------------------------------------------------------------------+\n",
            "| NVIDIA-SMI 495.46       Driver Version: 460.32.03    CUDA Version: 11.2     |\n",
            "|-------------------------------+----------------------+----------------------+\n",
            "| GPU  Name        Persistence-M| Bus-Id        Disp.A | Volatile Uncorr. ECC |\n",
            "| Fan  Temp  Perf  Pwr:Usage/Cap|         Memory-Usage | GPU-Util  Compute M. |\n",
            "|                               |                      |               MIG M. |\n",
            "|===============================+======================+======================|\n",
            "|   0  Tesla T4            Off  | 00000000:00:04.0 Off |                    0 |\n",
            "| N/A   33C    P8     9W /  70W |      0MiB / 15109MiB |      0%      Default |\n",
            "|                               |                      |                  N/A |\n",
            "+-------------------------------+----------------------+----------------------+\n",
            "                                                                               \n",
            "+-----------------------------------------------------------------------------+\n",
            "| Processes:                                                                  |\n",
            "|  GPU   GI   CI        PID   Type   Process name                  GPU Memory |\n",
            "|        ID   ID                                                   Usage      |\n",
            "|=============================================================================|\n",
            "|  No running processes found                                                 |\n",
            "+-----------------------------------------------------------------------------+\n"
          ]
        }
      ]
    },
    {
      "cell_type": "markdown",
      "source": [
        "# **Download Dataset**"
      ],
      "metadata": {
        "id": "JxUhMWWmJPHv"
      }
    },
    {
      "cell_type": "code",
      "source": [
        "!mkdir \"./data\"\n",
        "!mkdir \"./statistics\"\n",
        "!gdown --id 1X5yz7QLAu4nttnCea4ALf6alae6Clv_o --output \"./data/dataset.zip\"\n",
        "!unzip -q \"./data/dataset.zip\" -d \"./data\"\n",
        "!rm \"./data/dataset.zip\""
      ],
      "metadata": {
        "colab": {
          "base_uri": "https://localhost:8080/"
        },
        "id": "zjX-fvNeKG3p",
        "outputId": "d524b00d-f653-4f56-b4eb-e26c8b5cb25f"
      },
      "execution_count": 2,
      "outputs": [
        {
          "output_type": "stream",
          "name": "stdout",
          "text": [
            "Downloading...\n",
            "From: https://drive.google.com/uc?id=1X5yz7QLAu4nttnCea4ALf6alae6Clv_o\n",
            "To: /content/data/dataset.zip\n",
            "\r  0% 0.00/660k [00:00<?, ?B/s]\r100% 660k/660k [00:00<00:00, 96.9MB/s]\n"
          ]
        }
      ]
    },
    {
      "cell_type": "markdown",
      "source": [
        "# **Import Some Packages**"
      ],
      "metadata": {
        "id": "hosMVZZWI_6B"
      }
    },
    {
      "cell_type": "code",
      "execution_count": 208,
      "metadata": {
        "id": "-lrHo2qeI-p9"
      },
      "outputs": [],
      "source": [
        "import time\n",
        "import numpy as np\n",
        "import pandas as pd\n",
        "from glob import glob\n",
        "from collections import Counter\n",
        "import collections\n",
        "import matplotlib.pyplot as plt\n",
        "from sklearn.preprocessing import LabelEncoder\n",
        "from sklearn.preprocessing import StandardScaler\n",
        "from sklearn import metrics\n",
        "from sklearn.model_selection import train_test_split\n",
        "from sklearn.metrics import plot_confusion_matrix, classification_report\n",
        "from sklearn.experimental import enable_iterative_imputer\n",
        "from sklearn.impute import IterativeImputer\n",
        "\n",
        "# SMOTE\n",
        "from imblearn.over_sampling import ADASYN\n",
        "\n",
        "# SVM\n",
        "from sklearn.svm import SVC\n",
        "\n",
        "# DNN\n",
        "import torch\n",
        "import torch.nn as nn\n",
        "from torch.utils.data import Dataset, DataLoader \n",
        "from torchsummary import summary\n",
        "from torch.optim.lr_scheduler import StepLR\n",
        "\n",
        "# XGBoost\n",
        "from xgboost import XGBClassifier"
      ]
    },
    {
      "cell_type": "markdown",
      "source": [
        "# **Set a Random Seed**"
      ],
      "metadata": {
        "id": "HH36XbKB0P3c"
      }
    },
    {
      "cell_type": "code",
      "source": [
        "# Set a random seed for reproducibility\n",
        "seed = 0\n",
        "np.random.seed(seed)\n",
        "torch.manual_seed(seed)\n",
        "if torch.cuda.is_available():\n",
        "    torch.cuda.manual_seed(seed)\n",
        "    torch.cuda.manual_seed_all(seed)  \n",
        "torch.backends.cudnn.benchmark = False\n",
        "torch.backends.cudnn.deterministic = True"
      ],
      "metadata": {
        "id": "sM7IyXfL0ekd"
      },
      "execution_count": 209,
      "outputs": []
    },
    {
      "cell_type": "markdown",
      "source": [
        "# **CSV Files Combination**"
      ],
      "metadata": {
        "id": "Q69ecrSlJpyT"
      }
    },
    {
      "cell_type": "code",
      "source": [
        "train_path = './data/Train_IDs.csv'  # path to training data\n",
        "test_path = './data/Test_IDs.csv'    # path to testing data\n",
        "\n",
        "files = glob('./data/*.csv')\n",
        "data_csv = []\n",
        "data_csv.append(train_path)\n",
        "for csv in files:\n",
        "    if ('IDs' not in csv) and ('sample' not in csv) and ('population' not in csv) and ('result' not in csv):\n",
        "        data_csv.append(csv)\n",
        "  \n",
        "print(data_csv)\n",
        "df_list = [pd.read_csv(file) for file in data_csv]"
      ],
      "metadata": {
        "colab": {
          "base_uri": "https://localhost:8080/"
        },
        "id": "PubV0z-fNFWK",
        "outputId": "fd8594b6-a436-4bbf-e950-0e028e036974"
      },
      "execution_count": 210,
      "outputs": [
        {
          "output_type": "stream",
          "name": "stdout",
          "text": [
            "['./data/Train_IDs.csv', './data/services.csv', './data/location.csv', './data/satisfaction.csv', './data/demographics.csv', './data/status.csv']\n"
          ]
        }
      ]
    },
    {
      "cell_type": "code",
      "source": [
        "result_total = df_list[0]\n",
        "for df in df_list[1:]:\n",
        "    result_total = pd.merge(result_total, df, how='outer', on='Customer ID')\n",
        "\n",
        "result_total.to_csv('./data/result_total.csv') # Save combined all result to result_total.csv"
      ],
      "metadata": {
        "id": "gsRnzcD243J2"
      },
      "execution_count": 211,
      "outputs": []
    },
    {
      "cell_type": "code",
      "source": [
        "# There are 7043 total customer data\n",
        "print(result_total)"
      ],
      "metadata": {
        "id": "HmdXTPLLuLnc",
        "outputId": "46a90e04-b6eb-4814-a9a9-72970bd5c8ef",
        "colab": {
          "base_uri": "https://localhost:8080/"
        }
      },
      "execution_count": 212,
      "outputs": [
        {
          "output_type": "stream",
          "name": "stdout",
          "text": [
            "     Customer ID  Count_x  ... Number of Dependents Churn Category\n",
            "0     0650-BWOZN      1.0  ...                  0.0     Competitor\n",
            "1     0562-FGDCR      1.0  ...                  0.0     Competitor\n",
            "2     6688-UZPWD      1.0  ...                  NaN       No Churn\n",
            "3     2905-KFQUV      1.0  ...                  0.0     Competitor\n",
            "4     9720-JJJOR      1.0  ...                  0.0       No Churn\n",
            "...          ...      ...  ...                  ...            ...\n",
            "7038  6778-EICRF      NaN  ...                  0.0            NaN\n",
            "7039  0772-GYEQQ      NaN  ...                  2.0            NaN\n",
            "7040  5666-CYCYZ      NaN  ...                  0.0            NaN\n",
            "7041  4893-GYUJU      NaN  ...                  0.0            NaN\n",
            "7042  3426-NIYYL      NaN  ...                  2.0            NaN\n",
            "\n",
            "[7043 rows x 48 columns]\n"
          ]
        }
      ]
    },
    {
      "cell_type": "code",
      "source": [
        "# Train_IDs has 5634 customer data\n",
        "result_train_total = df_list[0]\n",
        "for df in df_list[1:]:\n",
        "    result_train_total = pd.merge(result_train_total, df, how='left', on='Customer ID')\n",
        "\n",
        "print(result_train_total)"
      ],
      "metadata": {
        "id": "NZaWPORIXIDp",
        "outputId": "2142b9b6-ec61-4512-9acc-daaa8791913f",
        "colab": {
          "base_uri": "https://localhost:8080/"
        }
      },
      "execution_count": 213,
      "outputs": [
        {
          "output_type": "stream",
          "name": "stdout",
          "text": [
            "     Customer ID  Count_x  ... Number of Dependents Churn Category\n",
            "0     0650-BWOZN      1.0  ...                  0.0     Competitor\n",
            "1     0562-FGDCR      1.0  ...                  0.0     Competitor\n",
            "2     6688-UZPWD      1.0  ...                  NaN       No Churn\n",
            "3     2905-KFQUV      1.0  ...                  0.0     Competitor\n",
            "4     9720-JJJOR      1.0  ...                  0.0       No Churn\n",
            "...          ...      ...  ...                  ...            ...\n",
            "5629  1178-PZGAB      1.0  ...                  0.0            NaN\n",
            "5630  4806-KEXQR      1.0  ...                  0.0            NaN\n",
            "5631  8809-RIHDD      1.0  ...                  2.0       No Churn\n",
            "5632  6663-JOCQO      1.0  ...                  3.0       No Churn\n",
            "5633  7010-ZMVBF      1.0  ...                  0.0       No Churn\n",
            "\n",
            "[5634 rows x 48 columns]\n"
          ]
        }
      ]
    },
    {
      "cell_type": "code",
      "source": [
        "# Train_IDs has 4226 customer data with label\n",
        "result_train = df_list[0]\n",
        "for df in df_list[1:]:\n",
        "    result_train = pd.merge(result_train, df, how='right', on='Customer ID')\n",
        "\n",
        "print(result_train)"
      ],
      "metadata": {
        "id": "XC9OTia4vQyw",
        "outputId": "23722c37-02e8-46ae-9f1e-4d98ba8e6e03",
        "colab": {
          "base_uri": "https://localhost:8080/"
        }
      },
      "execution_count": 214,
      "outputs": [
        {
          "output_type": "stream",
          "name": "stdout",
          "text": [
            "     Customer ID  Count_x  ... Number of Dependents Churn Category\n",
            "0     0650-BWOZN      NaN  ...                  0.0     Competitor\n",
            "1     0562-FGDCR      1.0  ...                  0.0     Competitor\n",
            "2     6688-UZPWD      1.0  ...                  NaN       No Churn\n",
            "3     2905-KFQUV      1.0  ...                  0.0     Competitor\n",
            "4     9720-JJJOR      NaN  ...                  0.0       No Churn\n",
            "...          ...      ...  ...                  ...            ...\n",
            "4221  3313-QKNKB      NaN  ...                  NaN       No Churn\n",
            "4222  8668-KNZTI      NaN  ...                  NaN       No Churn\n",
            "4223  8809-RIHDD      NaN  ...                  2.0       No Churn\n",
            "4224  6663-JOCQO      NaN  ...                  3.0       No Churn\n",
            "4225  7010-ZMVBF      1.0  ...                  0.0       No Churn\n",
            "\n",
            "[4226 rows x 48 columns]\n"
          ]
        }
      ]
    },
    {
      "cell_type": "code",
      "source": [
        "# Train_IDs has 1408 customer data without label\n",
        "result_train_miss = df_list[0]\n",
        "for df in df_list[1:]:\n",
        "    result_train_miss = pd.merge(result_train_miss, df, how='left', on='Customer ID')\n",
        "\n",
        "result_train_miss = result_train_miss[result_train_miss['Churn Category'].isna()]\n",
        "\n",
        "print(result_train_miss)"
      ],
      "metadata": {
        "id": "PNP-ViR3XR3O",
        "outputId": "e4128016-1c5d-4eb4-d2bb-93aa75f87e4e",
        "colab": {
          "base_uri": "https://localhost:8080/"
        }
      },
      "execution_count": 215,
      "outputs": [
        {
          "output_type": "stream",
          "name": "stdout",
          "text": [
            "     Customer ID  Count_x  ... Number of Dependents Churn Category\n",
            "6     0394-YONDK      1.0  ...                  NaN            NaN\n",
            "7     0396-HUJBP      1.0  ...                  0.0            NaN\n",
            "11    0684-AOSIH      1.0  ...                  2.0            NaN\n",
            "14    1679-JRFBR      1.0  ...                  0.0            NaN\n",
            "18    5533-NHFRF      NaN  ...                  0.0            NaN\n",
            "...          ...      ...  ...                  ...            ...\n",
            "5603  6330-JKLPC      1.0  ...                  NaN            NaN\n",
            "5618  4549-ZDQYY      NaN  ...                  0.0            NaN\n",
            "5622  9127-QRZMH      1.0  ...                  0.0            NaN\n",
            "5629  1178-PZGAB      1.0  ...                  0.0            NaN\n",
            "5630  4806-KEXQR      1.0  ...                  0.0            NaN\n",
            "\n",
            "[1408 rows x 48 columns]\n"
          ]
        }
      ]
    },
    {
      "cell_type": "code",
      "source": [
        "# Test_Ids has 1409 customer data\n",
        "df_test = pd.read_csv(test_path)\n",
        "result_test = df_test\n",
        "for df in df_list[1:]:\n",
        "    result_test = pd.merge(result_test, df, how='left', on='Customer ID')\n",
        "\n",
        "print(result_test)"
      ],
      "metadata": {
        "id": "fE-wQXgit9JQ",
        "outputId": "2d16d0bd-8451-45c7-ad36-7305826bcbea",
        "colab": {
          "base_uri": "https://localhost:8080/"
        }
      },
      "execution_count": 216,
      "outputs": [
        {
          "output_type": "stream",
          "name": "stdout",
          "text": [
            "     Customer ID  Count_x  ... Number of Dependents Churn Category\n",
            "0     9938-EKRGF      1.0  ...                  0.0            NaN\n",
            "1     7379-POKDZ      1.0  ...                  0.0            NaN\n",
            "2     0654-HMSHN      1.0  ...                  NaN            NaN\n",
            "3     2045-BMBTJ      1.0  ...                  3.0            NaN\n",
            "4     0701-TJSEF      1.0  ...                  0.0            NaN\n",
            "...          ...      ...  ...                  ...            ...\n",
            "1404  4587-VVTOX      1.0  ...                  NaN            NaN\n",
            "1405  7716-YTYHG      NaN  ...                  0.0            NaN\n",
            "1406  7649-PHJVR      NaN  ...                  0.0            NaN\n",
            "1407  7855-DIWPO      1.0  ...                  3.0            NaN\n",
            "1408  8197-BFWVU      1.0  ...                  NaN            NaN\n",
            "\n",
            "[1409 rows x 48 columns]\n"
          ]
        }
      ]
    },
    {
      "cell_type": "code",
      "source": [
        "print(result_total.dropna()) # Find customer with full data infomation"
      ],
      "metadata": {
        "colab": {
          "base_uri": "https://localhost:8080/"
        },
        "id": "7wbcLdCPLMBV",
        "outputId": "a14b09cd-d8c5-47e2-b245-27d5a4fef7e0"
      },
      "execution_count": 217,
      "outputs": [
        {
          "output_type": "stream",
          "name": "stdout",
          "text": [
            "     Customer ID  Count_x  ... Number of Dependents   Churn Category\n",
            "666   0454-OKRCT      1.0  ...                  2.0         No Churn\n",
            "678   1735-XMJVH      1.0  ...                  0.0         No Churn\n",
            "1799  1245-HARPS      1.0  ...                  0.0  Dissatisfaction\n",
            "2805  8445-DNBAE      1.0  ...                  0.0       Competitor\n",
            "2883  8708-XPXHZ      1.0  ...                  0.0         No Churn\n",
            "3062  9522-ZSINC      1.0  ...                  0.0         No Churn\n",
            "4297  0836-SEYLU      1.0  ...                  0.0         No Churn\n",
            "5146  7274-RTAPZ      1.0  ...                  1.0         No Churn\n",
            "\n",
            "[8 rows x 48 columns]\n"
          ]
        }
      ]
    },
    {
      "cell_type": "code",
      "source": [
        "result_cols = result_total.columns\n",
        "print(result_cols)"
      ],
      "metadata": {
        "colab": {
          "base_uri": "https://localhost:8080/"
        },
        "id": "h42U-NQJkntr",
        "outputId": "39090665-5f49-4c2a-9b83-b806042e8758"
      },
      "execution_count": 218,
      "outputs": [
        {
          "output_type": "stream",
          "name": "stdout",
          "text": [
            "Index(['Customer ID', 'Count_x', 'Quarter', 'Referred a Friend',\n",
            "       'Number of Referrals', 'Tenure in Months', 'Offer', 'Phone Service',\n",
            "       'Avg Monthly Long Distance Charges', 'Multiple Lines',\n",
            "       'Internet Service', 'Internet Type', 'Avg Monthly GB Download',\n",
            "       'Online Security', 'Online Backup', 'Device Protection Plan',\n",
            "       'Premium Tech Support', 'Streaming TV', 'Streaming Movies',\n",
            "       'Streaming Music', 'Unlimited Data', 'Contract', 'Paperless Billing',\n",
            "       'Payment Method', 'Monthly Charge', 'Total Charges', 'Total Refunds',\n",
            "       'Total Extra Data Charges', 'Total Long Distance Charges',\n",
            "       'Total Revenue', 'Count_y', 'Country', 'State', 'City', 'Zip Code',\n",
            "       'Lat Long', 'Latitude', 'Longitude', 'Satisfaction Score', 'Count',\n",
            "       'Gender', 'Age', 'Under 30', 'Senior Citizen', 'Married', 'Dependents',\n",
            "       'Number of Dependents', 'Churn Category'],\n",
            "      dtype='object')\n"
          ]
        }
      ]
    },
    {
      "cell_type": "code",
      "source": [
        "missing = result_train_total.isnull().sum().reset_index().rename(columns={0:'missNum'})\n",
        "missing['missRate'] = missing['missNum'] / result_train_total.shape[0]\n",
        "miss_analy = missing[missing.missRate > 0].sort_values(by='missRate', ascending=False)\n",
        "\n",
        "fig = plt.figure(figsize=(18, 6))\n",
        "plt.bar(np.arange(miss_analy.shape[0]), list(miss_analy.missRate.values), align='center')\n",
        "\n",
        "plt.title('Histogram of missing value of variables of training dataset')\n",
        "plt.xlabel('variables names')\n",
        "plt.ylabel('missing rate')\n",
        "plt.xticks(np.arange(miss_analy.shape[0]), list(miss_analy['index']))\n",
        "plt.xticks(rotation=90)\n",
        "for x, y in enumerate(list(miss_analy.missRate.values)):\n",
        "    plt.text(x, y + 0.12, '{:.2%}'.format(y), ha='center', rotation=90)    \n",
        "\n",
        "plt.ylim([0, 0.8])  \n",
        "plt.savefig(f'./statistics/miss rate_train_stat.png')  \n",
        "plt.show()\n",
        "plt.close()"
      ],
      "metadata": {
        "id": "HDjocf2IYbFs",
        "outputId": "d37ea98a-03d3-4f7b-8e05-73b0d425c388",
        "colab": {
          "base_uri": "https://localhost:8080/",
          "height": 574
        }
      },
      "execution_count": 219,
      "outputs": [
        {
          "output_type": "display_data",
          "data": {
            "image/png": "[encoded data removed]",
            "text/plain": [
              "<Figure size 1296x432 with 1 Axes>"
            ]
          },
          "metadata": {
            "needs_background": "light"
          }
        }
      ]
    },
    {
      "cell_type": "code",
      "source": [
        "missing = result_train.isnull().sum().reset_index().rename(columns={0:'missNum'})\n",
        "missing['missRate'] = missing['missNum'] / result_train.shape[0]\n",
        "miss_analy = missing[missing.missRate > 0].sort_values(by='missRate', ascending=False)\n",
        "\n",
        "fig = plt.figure(figsize=(18, 6))\n",
        "plt.bar(np.arange(miss_analy.shape[0]), list(miss_analy.missRate.values), align='center')\n",
        "\n",
        "plt.title('Histogram of missing value of variables of training dataset with label')\n",
        "plt.xlabel('variables names')\n",
        "plt.ylabel('missing rate')\n",
        "plt.xticks(np.arange(miss_analy.shape[0]), list(miss_analy['index']))\n",
        "plt.xticks(rotation=90)\n",
        "for x, y in enumerate(list(miss_analy.missRate.values)):\n",
        "    plt.text(x, y + 0.12, '{:.2%}'.format(y), ha='center', rotation=90)    \n",
        "\n",
        "plt.ylim([0, 0.8])  \n",
        "plt.savefig(f'./statistics/miss rate_train_stat.png')  \n",
        "plt.show()\n",
        "plt.close()"
      ],
      "metadata": {
        "id": "IkqLkqWstyE-",
        "outputId": "8adb3e80-b724-4ad5-cc97-866dbdcabec3",
        "colab": {
          "base_uri": "https://localhost:8080/",
          "height": 574
        }
      },
      "execution_count": 220,
      "outputs": [
        {
          "output_type": "display_data",
          "data": {
            "image/png": "[encoded data removed]",
            "text/plain": [
              "<Figure size 1296x432 with 1 Axes>"
            ]
          },
          "metadata": {
            "needs_background": "light"
          }
        }
      ]
    },
    {
      "cell_type": "code",
      "source": [
        "missing = result_train_miss.isnull().sum().reset_index().rename(columns={0:'missNum'})\n",
        "missing['missRate'] = missing['missNum'] / result_train_miss.shape[0]\n",
        "miss_analy = missing[missing.missRate > 0].sort_values(by='missRate', ascending=False)\n",
        "\n",
        "fig = plt.figure(figsize=(18, 6))\n",
        "plt.bar(np.arange(miss_analy.shape[0]), list(miss_analy.missRate.values), align='center')\n",
        "\n",
        "plt.title('Histogram of missing value of variables of training dataset without label')\n",
        "plt.xlabel('variables names')\n",
        "plt.ylabel('missing rate')\n",
        "plt.xticks(np.arange(miss_analy.shape[0]), list(miss_analy['index']))\n",
        "plt.xticks(rotation=90)\n",
        "for x, y in enumerate(list(miss_analy.missRate.values)):\n",
        "    plt.text(x, y + 0.12, '{:.2%}'.format(y), ha='center', rotation=90)    \n",
        "\n",
        "plt.ylim([0, 1.4])  \n",
        "plt.savefig(f'./statistics/miss rate_train_stat.png')  \n",
        "plt.show()\n",
        "plt.close()"
      ],
      "metadata": {
        "id": "8zfPtzuwt7hA",
        "outputId": "32a1577b-aacd-42b5-b46e-494aa753a24e",
        "colab": {
          "base_uri": "https://localhost:8080/",
          "height": 574
        }
      },
      "execution_count": 221,
      "outputs": [
        {
          "output_type": "display_data",
          "data": {
            "image/png": "[encoded data removed]",
            "text/plain": [
              "<Figure size 1296x432 with 1 Axes>"
            ]
          },
          "metadata": {
            "needs_background": "light"
          }
        }
      ]
    },
    {
      "cell_type": "code",
      "source": [
        "missing = result_test.isnull().sum().reset_index().rename(columns={0:'missNum'})\n",
        "missing['missRate'] = missing['missNum'] / result_test.shape[0]\n",
        "miss_analy = missing[missing.missRate > 0].sort_values(by='missRate', ascending=False)\n",
        "\n",
        "fig = plt.figure(figsize=(18, 6))\n",
        "plt.bar(np.arange(miss_analy.shape[0]), list(miss_analy.missRate.values), align='center')\n",
        "\n",
        "plt.title('Histogram of missing value of variables of test dataset')\n",
        "plt.xlabel('variables names')\n",
        "plt.ylabel('missing rate')\n",
        "plt.xticks(np.arange(miss_analy.shape[0]), list(miss_analy['index']))\n",
        "plt.xticks(rotation=90)\n",
        "for x, y in enumerate(list(miss_analy.missRate.values)):\n",
        "    plt.text(x, y + 0.12, '{:.2%}'.format(y), ha='center', rotation=90)    \n",
        "\n",
        "plt.ylim([0, 1.4])  \n",
        "plt.savefig(f'./statistics/miss rate_test_stat.png')  \n",
        "plt.show()\n",
        "plt.close()"
      ],
      "metadata": {
        "colab": {
          "base_uri": "https://localhost:8080/",
          "height": 574
        },
        "id": "BVN8BclJkD1J",
        "outputId": "d002269f-d9ab-4683-a6ae-cf8d6204abf4"
      },
      "execution_count": 222,
      "outputs": [
        {
          "output_type": "display_data",
          "data": {
            "image/png": "[encoded data removed]",
            "text/plain": [
              "<Figure size 1296x432 with 1 Axes>"
            ]
          },
          "metadata": {
            "needs_background": "light"
          }
        }
      ]
    },
    {
      "cell_type": "markdown",
      "source": [
        "# **Statistics and Data Preprocessing**"
      ],
      "metadata": {
        "id": "eYyJOoclqCFk"
      }
    },
    {
      "cell_type": "code",
      "source": [
        "result_train_total_copy = result_train_total.copy(deep=True)\n",
        "result_train_copy = result_train.copy(deep=True)\n",
        "result_train_miss_copy = result_train_miss.copy(deep=True)\n",
        "result_test_copy = result_test.copy(deep=True)\n",
        "def label_statistics(label):\n",
        "    freq = result_train_total.groupby(label).size()\n",
        "\n",
        "    names = [name for name, _ in freq.items()]\n",
        "    names.append('Nan')\n",
        "    counts = [count for _, count in freq.items()]\n",
        "    counts.append(len(result_train[label]) - sum(counts))\n",
        "\n",
        "    fig = plt.figure(figsize=(8, 6))\n",
        "    x = np.arange(len(names))\n",
        "    plt.bar(x, counts)\n",
        "    plt.xticks(x, names, rotation=15)\n",
        "    plt.title(f'Statistics of {label}')\n",
        "    plt.savefig(f'./statistics/Statistics of {label}.png')\n",
        "    print(f'Statistics of {label}.png saved')\n",
        "    plt.close()"
      ],
      "metadata": {
        "id": "ho-LNzp4g_Eb"
      },
      "execution_count": 223,
      "outputs": []
    },
    {
      "cell_type": "code",
      "source": [
        "need_statistics_col = ['Churn Category', 'Satisfaction Score', \n",
        "       'Gender', 'Under 30', 'Senior Citizen', 'Married', 'Dependents',\n",
        "       'Number of Dependents', 'Country', 'State', 'City', 'Quarter',\n",
        "       'Referred a Friend', 'Number of Referrals', 'Offer',\n",
        "       'Phone Service', 'Multiple Lines', 'Internet Service', 'Internet Type',\n",
        "       'Online Security', 'Online Backup', 'Device Protection Plan',\n",
        "       'Premium Tech Support', 'Streaming TV', 'Streaming Movies',\n",
        "       'Streaming Music', 'Unlimited Data', 'Contract', 'Paperless Billing',\n",
        "       'Payment Method', 'Zip Code']\n",
        "\n",
        "# Replace NaN with the most frequent label\n",
        "for need_col in need_statistics_col:\n",
        "    label_statistics(need_col)\n",
        "\n",
        "    # Encode target labels with value\n",
        "    le = LabelEncoder()\n",
        "    result_train_copy[need_col] = le.fit_transform(result_train_copy[need_col])\n",
        "\n",
        "    if need_col == 'Churn Category':\n",
        "        encoder_map = dict(zip(le.classes_, le.transform(le.classes_)))\n",
        "\n",
        "    result_test_copy[need_col] = le.fit_transform(result_test_copy[need_col])"
      ],
      "metadata": {
        "colab": {
          "base_uri": "https://localhost:8080/"
        },
        "id": "Pl4omt-mIGDW",
        "outputId": "f8de857f-bb1d-46de-a80e-f28787522754"
      },
      "execution_count": 224,
      "outputs": [
        {
          "output_type": "stream",
          "name": "stdout",
          "text": [
            "Statistics of Churn Category.png saved\n",
            "Statistics of Satisfaction Score.png saved\n",
            "Statistics of Gender.png saved\n",
            "Statistics of Under 30.png saved\n",
            "Statistics of Senior Citizen.png saved\n",
            "Statistics of Married.png saved\n",
            "Statistics of Dependents.png saved\n",
            "Statistics of Number of Dependents.png saved\n",
            "Statistics of Country.png saved\n",
            "Statistics of State.png saved\n",
            "Statistics of City.png saved\n",
            "Statistics of Quarter.png saved\n",
            "Statistics of Referred a Friend.png saved\n",
            "Statistics of Number of Referrals.png saved\n",
            "Statistics of Offer.png saved\n",
            "Statistics of Phone Service.png saved\n",
            "Statistics of Multiple Lines.png saved\n",
            "Statistics of Internet Service.png saved\n",
            "Statistics of Internet Type.png saved\n",
            "Statistics of Online Security.png saved\n",
            "Statistics of Online Backup.png saved\n",
            "Statistics of Device Protection Plan.png saved\n",
            "Statistics of Premium Tech Support.png saved\n",
            "Statistics of Streaming TV.png saved\n",
            "Statistics of Streaming Movies.png saved\n",
            "Statistics of Streaming Music.png saved\n",
            "Statistics of Unlimited Data.png saved\n",
            "Statistics of Contract.png saved\n",
            "Statistics of Paperless Billing.png saved\n",
            "Statistics of Payment Method.png saved\n",
            "Statistics of Zip Code.png saved\n"
          ]
        }
      ]
    },
    {
      "cell_type": "code",
      "source": [
        "population = pd.read_csv('./data/population.csv')\n",
        "population = population.drop('Zip Code', axis=1)\n",
        "population.rename({'ID':'Zip Code'}, axis=1, inplace=True)\n",
        "result_train_copy = pd.merge(result_train_copy, population, how='left', on='Zip Code')\n",
        "result_test_copy = pd.merge(result_test_copy, population, how='left', on='Zip Code')\n",
        "\n",
        "need_avg_col = [item for item in result_cols if item not in need_statistics_col]\n",
        "need_avg_col.append('Population')\n",
        "\n",
        "def data_imputation(dataset):\n",
        "    dataset = dataset.drop('Customer ID', axis=1)\n",
        "    dataset = dataset.drop('Lat Long', axis=1)\n",
        "\n",
        "    imputer = IterativeImputer(max_iter=10, random_state=seed)\n",
        "    dataset = imputer.fit_transform(dataset)\n",
        "\n",
        "    column_names = list(result_cols.values)\n",
        "    column_names.remove('Customer ID')\n",
        "    column_names.remove('Lat Long')\n",
        "    column_names.append('Population')\n",
        "    dataset = pd.DataFrame(dataset, columns=column_names)\n",
        "\n",
        "    print(dataset)\n",
        "\n",
        "    return dataset\n",
        "\n",
        "result_train_copy = data_imputation(result_train_copy)\n",
        "result_test_copy = data_imputation(result_test_copy)"
      ],
      "metadata": {
        "id": "hjvCj4CgJPoJ",
        "outputId": "495f43c5-a590-483c-8fe4-63c7be095eb1",
        "colab": {
          "base_uri": "https://localhost:8080/"
        }
      },
      "execution_count": 225,
      "outputs": [
        {
          "output_type": "stream",
          "name": "stdout",
          "text": [
            "      Count_x  Quarter  ...  Churn Category  Population\n",
            "0         1.0      1.0  ...             1.0       660.0\n",
            "1         1.0      0.0  ...             1.0     37280.0\n",
            "2         1.0      0.0  ...             3.0      2899.0\n",
            "3         1.0      0.0  ...             1.0     26831.0\n",
            "4         1.0      1.0  ...             3.0       660.0\n",
            "...       ...      ...  ...             ...         ...\n",
            "4221      1.0      1.0  ...             3.0       660.0\n",
            "4222      1.0      1.0  ...             3.0       660.0\n",
            "4223      1.0      1.0  ...             3.0       660.0\n",
            "4224      1.0      1.0  ...             3.0       660.0\n",
            "4225      1.0      0.0  ...             3.0     27047.0\n",
            "\n",
            "[4226 rows x 47 columns]\n",
            "      Count_x  Quarter  ...  Churn Category  Population\n",
            "0         1.0      0.0  ...             0.0     26753.0\n",
            "1         1.0      0.0  ...             0.0     46858.0\n",
            "2         1.0      1.0  ...             0.0     23661.0\n",
            "3         1.0      0.0  ...             0.0     46858.0\n",
            "4         1.0      0.0  ...             0.0     46858.0\n",
            "...       ...      ...  ...             ...         ...\n",
            "1404      1.0      0.0  ...             0.0      1779.0\n",
            "1405      1.0      1.0  ...             0.0     43684.0\n",
            "1406      1.0      0.0  ...             0.0     46858.0\n",
            "1407      1.0      0.0  ...             0.0     46532.0\n",
            "1408      1.0      0.0  ...             0.0     38128.0\n",
            "\n",
            "[1409 rows x 47 columns]\n"
          ]
        }
      ]
    },
    {
      "cell_type": "code",
      "source": [
        "# Find the correlation of columns\n",
        "cor_matrix = result_train_copy.corr().abs()\n",
        "print(cor_matrix['Churn Category'])"
      ],
      "metadata": {
        "id": "WdnuvMdMS7_L",
        "outputId": "3e7b0a97-3f04-4d81-d459-4c6198bd0e5a",
        "colab": {
          "base_uri": "https://localhost:8080/"
        }
      },
      "execution_count": 226,
      "outputs": [
        {
          "output_type": "stream",
          "name": "stdout",
          "text": [
            "Count_x                                   NaN\n",
            "Quarter                              0.026687\n",
            "Referred a Friend                    0.034992\n",
            "Number of Referrals                  0.065368\n",
            "Tenure in Months                     0.193480\n",
            "Offer                                0.035282\n",
            "Phone Service                        0.004287\n",
            "Avg Monthly Long Distance Charges    0.003838\n",
            "Multiple Lines                       0.021953\n",
            "Internet Service                     0.021609\n",
            "Internet Type                        0.038484\n",
            "Avg Monthly GB Download              0.048119\n",
            "Online Security                      0.061089\n",
            "Online Backup                        0.031315\n",
            "Device Protection Plan               0.028059\n",
            "Premium Tech Support                 0.053844\n",
            "Streaming TV                         0.008534\n",
            "Streaming Movies                     0.000321\n",
            "Streaming Music                      0.015176\n",
            "Unlimited Data                       0.013768\n",
            "Contract                             0.111203\n",
            "Paperless Billing                    0.009588\n",
            "Payment Method                       0.048995\n",
            "Monthly Charge                       0.075027\n",
            "Total Charges                        0.106969\n",
            "Total Refunds                        0.021698\n",
            "Total Extra Data Charges             0.040603\n",
            "Total Long Distance Charges          0.128899\n",
            "Total Revenue                        0.123196\n",
            "Count_y                                   NaN\n",
            "Country                              0.043073\n",
            "State                                0.054701\n",
            "City                                 0.035223\n",
            "Zip Code                             0.045957\n",
            "Latitude                             0.105716\n",
            "Longitude                            0.069401\n",
            "Satisfaction Score                   0.248098\n",
            "Count                                     NaN\n",
            "Gender                               0.005451\n",
            "Age                                  0.076507\n",
            "Under 30                             0.043659\n",
            "Senior Citizen                       0.004644\n",
            "Married                              0.037126\n",
            "Dependents                           0.087645\n",
            "Number of Dependents                 0.052063\n",
            "Churn Category                       1.000000\n",
            "Population                           0.014188\n",
            "Name: Churn Category, dtype: float64\n"
          ]
        }
      ]
    },
    {
      "cell_type": "code",
      "source": [
        "useless_feature = [index for index, value in cor_matrix['Churn Category'].items() if pd.isnull(value)]\n",
        "print(useless_feature)"
      ],
      "metadata": {
        "id": "EUWHiNXdKhGP",
        "outputId": "7f5ad089-4d63-4b9f-b5f9-22f4c5df8a35",
        "colab": {
          "base_uri": "https://localhost:8080/"
        }
      },
      "execution_count": 227,
      "outputs": [
        {
          "output_type": "stream",
          "name": "stdout",
          "text": [
            "['Count_x', 'Count_y', 'Count']\n"
          ]
        }
      ]
    },
    {
      "cell_type": "code",
      "source": [
        "def dropColumns(label):\n",
        "    global result_train_copy, result_test_copy\n",
        "    result_train_copy = result_train_copy.drop(label, axis=1)\n",
        "    result_test_copy = result_test_copy.drop(label, axis=1)"
      ],
      "metadata": {
        "id": "K5quNy8vHQzb"
      },
      "execution_count": 228,
      "outputs": []
    },
    {
      "cell_type": "code",
      "source": [
        "# Throw away the data columns whose correlation to Churn Category is less than 0.55\n",
        "for item in useless_feature:\n",
        "    dropColumns(item)"
      ],
      "metadata": {
        "id": "Cis3gTDOG9Im"
      },
      "execution_count": 229,
      "outputs": []
    },
    {
      "cell_type": "code",
      "source": [
        "result_train_copy.to_csv('./data/result_after_preprocessing.csv') # Save after preprocessing result to result_after_preprocessing.csv\n",
        "feature_amount = len(result_train_copy.columns)\n",
        "\n",
        "print(result_train_copy)\n",
        "print(result_test_copy)"
      ],
      "metadata": {
        "colab": {
          "base_uri": "https://localhost:8080/"
        },
        "id": "-DsDpzq_Lgp3",
        "outputId": "2646290c-b35d-498b-ea1a-4953aaca239a"
      },
      "execution_count": 230,
      "outputs": [
        {
          "output_type": "stream",
          "name": "stdout",
          "text": [
            "      Quarter  Referred a Friend  ...  Churn Category  Population\n",
            "0         1.0                2.0  ...             1.0       660.0\n",
            "1         0.0                0.0  ...             1.0     37280.0\n",
            "2         0.0                1.0  ...             3.0      2899.0\n",
            "3         0.0                0.0  ...             1.0     26831.0\n",
            "4         1.0                2.0  ...             3.0       660.0\n",
            "...       ...                ...  ...             ...         ...\n",
            "4221      1.0                2.0  ...             3.0       660.0\n",
            "4222      1.0                2.0  ...             3.0       660.0\n",
            "4223      1.0                2.0  ...             3.0       660.0\n",
            "4224      1.0                2.0  ...             3.0       660.0\n",
            "4225      0.0                1.0  ...             3.0     27047.0\n",
            "\n",
            "[4226 rows x 44 columns]\n",
            "      Quarter  Referred a Friend  ...  Churn Category  Population\n",
            "0         0.0                1.0  ...             0.0     26753.0\n",
            "1         0.0                0.0  ...             0.0     46858.0\n",
            "2         1.0                1.0  ...             0.0     23661.0\n",
            "3         0.0                1.0  ...             0.0     46858.0\n",
            "4         0.0                1.0  ...             0.0     46858.0\n",
            "...       ...                ...  ...             ...         ...\n",
            "1404      0.0                0.0  ...             0.0      1779.0\n",
            "1405      1.0                2.0  ...             0.0     43684.0\n",
            "1406      0.0                2.0  ...             0.0     46858.0\n",
            "1407      0.0                1.0  ...             0.0     46532.0\n",
            "1408      0.0                0.0  ...             0.0     38128.0\n",
            "\n",
            "[1409 rows x 44 columns]\n"
          ]
        }
      ]
    },
    {
      "cell_type": "markdown",
      "source": [
        "# **Balance Data**"
      ],
      "metadata": {
        "id": "bPTqADO2Ox2F"
      }
    },
    {
      "cell_type": "code",
      "source": [
        "y_train = result_train_copy['Churn Category'].values\n",
        "X_train = result_train_copy.drop('Churn Category', axis=1)"
      ],
      "metadata": {
        "id": "RiyIrSnaNq6F"
      },
      "execution_count": 231,
      "outputs": []
    },
    {
      "cell_type": "code",
      "source": [
        "print(f\"normal data distribution: {Counter(y_train)}\")\n",
        "\n",
        "class_weight = dict(Counter(y_train))\n",
        "\n",
        "# smo = ADASYN(random_state=seed)\n",
        "# X_train, y_train = smo.fit_resample(X_train, y_train)\n",
        "\n",
        "# print(f\"SMOTE data distribution: {Counter(y_train)}\")"
      ],
      "metadata": {
        "id": "LmlxI28WQUG2",
        "outputId": "e62d5d30-241a-45c5-f32b-b40cc9dece2e",
        "colab": {
          "base_uri": "https://localhost:8080/"
        }
      },
      "execution_count": 232,
      "outputs": [
        {
          "output_type": "stream",
          "name": "stdout",
          "text": [
            "normal data distribution: Counter({3.0: 3118, 1.0: 490, 0.0: 201, 2.0: 177, 5.0: 124, 4.0: 116})\n"
          ]
        }
      ]
    },
    {
      "cell_type": "markdown",
      "source": [
        "# **Split Data**"
      ],
      "metadata": {
        "id": "UXGFeitBu5sI"
      }
    },
    {
      "cell_type": "code",
      "source": [
        "sc = StandardScaler()\n",
        "ss = StandardScaler().fit(X_train)\n",
        "X_train_std = ss.transform(X_train)\n",
        "\n",
        "train_x, val_x, train_y, val_y = train_test_split(X_train_std, y_train, test_size=0.2, random_state=seed)\n",
        "\n",
        "class_weight = {k: train_x.shape[0] / v for k, v in class_weight.items()}\n",
        "class_weight = collections.OrderedDict(sorted(class_weight.items()))\n",
        "print(class_weight)"
      ],
      "metadata": {
        "id": "euCLdtvkO-nO",
        "colab": {
          "base_uri": "https://localhost:8080/"
        },
        "outputId": "7888f2e0-dd31-442f-de48-299ec4641319"
      },
      "execution_count": 233,
      "outputs": [
        {
          "output_type": "stream",
          "name": "stdout",
          "text": [
            "OrderedDict([(0.0, 16.81592039800995), (1.0, 6.8979591836734695), (2.0, 19.096045197740114), (3.0, 1.084028223220013), (4.0, 29.137931034482758), (5.0, 27.258064516129032)])\n"
          ]
        }
      ]
    },
    {
      "cell_type": "markdown",
      "source": [
        "# **SVM Train**"
      ],
      "metadata": {
        "id": "3HpyuY-RQEz1"
      }
    },
    {
      "cell_type": "code",
      "source": [
        "svm = SVC(kernel='rbf', gamma=0.1, C=10, class_weight=class_weight)\n",
        "\n",
        "start_time = time.time()\n",
        "model = svm.fit(train_x, train_y)\n",
        "end_time = time.time()\n",
        "\n",
        "print(f'Training use {round(end_time - start_time, 3)}s')"
      ],
      "metadata": {
        "colab": {
          "base_uri": "https://localhost:8080/"
        },
        "id": "VXuL_lKqW_mD",
        "outputId": "85c98134-f431-4864-9362-7ead00f1658c"
      },
      "execution_count": 234,
      "outputs": [
        {
          "output_type": "stream",
          "name": "stdout",
          "text": [
            "Training use 2.227s\n"
          ]
        }
      ]
    },
    {
      "cell_type": "code",
      "source": [
        "y_train_predict = svm.predict(train_x)\n",
        "Ein = np.mean(np.array(y_train_predict) != train_y)\n",
        "F1in = metrics.f1_score(train_y, y_train_predict, average='macro')  \n",
        "print(f'Ein = {round(Ein, 5)}')\n",
        "print(f'F1_in = {round(F1in, 5)}')\n",
        "\n",
        "y_val_predict = svm.predict(val_x)\n",
        "Eval = np.mean(np.array(y_val_predict) != val_y)\n",
        "F1val = metrics.f1_score(val_y, y_val_predict, average='macro')  \n",
        "print(f'Eval = {round(Eval, 5)}')\n",
        "print(f'F1_val = {round(F1val, 5)}')"
      ],
      "metadata": {
        "colab": {
          "base_uri": "https://localhost:8080/"
        },
        "id": "WivcNevbY1lB",
        "outputId": "164d666a-3830-40c8-b568-7499b5a90971"
      },
      "execution_count": 235,
      "outputs": [
        {
          "output_type": "stream",
          "name": "stdout",
          "text": [
            "Ein = 0.0003\n",
            "F1_in = 0.99943\n",
            "Eval = 0.1643\n",
            "F1_val = 0.53077\n"
          ]
        }
      ]
    },
    {
      "cell_type": "code",
      "source": [
        "plot_confusion_matrix(model, train_x, train_y)\n",
        "plot_confusion_matrix(model, val_x, val_y)\n",
        "print(encoder_map)"
      ],
      "metadata": {
        "id": "yWM9fKw1MLr1",
        "outputId": "06b08108-422b-463b-eb5c-eb61d2a14631",
        "colab": {
          "base_uri": "https://localhost:8080/",
          "height": 648
        }
      },
      "execution_count": 236,
      "outputs": [
        {
          "output_type": "stream",
          "name": "stderr",
          "text": [
            "/usr/local/lib/python3.7/dist-packages/sklearn/utils/deprecation.py:87: FutureWarning: Function plot_confusion_matrix is deprecated; Function `plot_confusion_matrix` is deprecated in 1.0 and will be removed in 1.2. Use one of the class methods: ConfusionMatrixDisplay.from_predictions or ConfusionMatrixDisplay.from_estimator.\n",
            "  warnings.warn(msg, category=FutureWarning)\n",
            "/usr/local/lib/python3.7/dist-packages/sklearn/utils/deprecation.py:87: FutureWarning: Function plot_confusion_matrix is deprecated; Function `plot_confusion_matrix` is deprecated in 1.0 and will be removed in 1.2. Use one of the class methods: ConfusionMatrixDisplay.from_predictions or ConfusionMatrixDisplay.from_estimator.\n",
            "  warnings.warn(msg, category=FutureWarning)\n"
          ]
        },
        {
          "output_type": "stream",
          "name": "stdout",
          "text": [
            "{'Attitude': 0, 'Competitor': 1, 'Dissatisfaction': 2, 'No Churn': 3, 'Other': 4, 'Price': 5}\n"
          ]
        },
        {
          "output_type": "display_data",
          "data": {
            "image/png": "[encoded data removed]",
            "text/plain": [
              "<Figure size 432x288 with 2 Axes>"
            ]
          },
          "metadata": {
            "needs_background": "light"
          }
        },
        {
          "output_type": "display_data",
          "data": {
            "image/png": "[encoded data removed]",
            "text/plain": [
              "<Figure size 432x288 with 2 Axes>"
            ]
          },
          "metadata": {
            "needs_background": "light"
          }
        }
      ]
    },
    {
      "cell_type": "code",
      "source": [
        "print(classification_report(train_y, y_train_predict))\n",
        "print(classification_report(val_y, y_val_predict))"
      ],
      "metadata": {
        "id": "LMiWePsbSW4Y",
        "outputId": "9f368049-6d6d-439e-d47b-6643c9cf8312",
        "colab": {
          "base_uri": "https://localhost:8080/"
        }
      },
      "execution_count": 237,
      "outputs": [
        {
          "output_type": "stream",
          "name": "stdout",
          "text": [
            "              precision    recall  f1-score   support\n",
            "\n",
            "         0.0       1.00      1.00      1.00       162\n",
            "         1.0       1.00      1.00      1.00       390\n",
            "         2.0       0.99      1.00      1.00       155\n",
            "         3.0       1.00      1.00      1.00      2483\n",
            "         4.0       1.00      1.00      1.00        94\n",
            "         5.0       1.00      1.00      1.00        96\n",
            "\n",
            "    accuracy                           1.00      3380\n",
            "   macro avg       1.00      1.00      1.00      3380\n",
            "weighted avg       1.00      1.00      1.00      3380\n",
            "\n",
            "              precision    recall  f1-score   support\n",
            "\n",
            "         0.0       0.71      0.26      0.38        39\n",
            "         1.0       0.78      0.47      0.59       100\n",
            "         2.0       0.64      0.32      0.42        22\n",
            "         3.0       0.85      0.99      0.91       635\n",
            "         4.0       0.78      0.32      0.45        22\n",
            "         5.0       0.89      0.29      0.43        28\n",
            "\n",
            "    accuracy                           0.84       846\n",
            "   macro avg       0.77      0.44      0.53       846\n",
            "weighted avg       0.83      0.84      0.81       846\n",
            "\n"
          ]
        }
      ]
    },
    {
      "cell_type": "markdown",
      "source": [
        "# **SVM Test**"
      ],
      "metadata": {
        "id": "ViqMiLyMavbf"
      }
    },
    {
      "cell_type": "code",
      "source": [
        "X_test = result_test_copy.drop('Churn Category', axis=1)\n",
        "ss = StandardScaler().fit(X_test)\n",
        "X_test_std = ss.transform(X_test)\n",
        "y_test = svm.predict(X_test_std)"
      ],
      "metadata": {
        "id": "dxd93_hUauU5"
      },
      "execution_count": 238,
      "outputs": []
    },
    {
      "cell_type": "code",
      "source": [
        "plot_confusion_matrix(model, X_test_std, y_test)\n",
        "print(encoder_map)"
      ],
      "metadata": {
        "id": "098w16TfMkqn",
        "outputId": "6c94ca9c-7a92-48f3-c2f1-10427e3c8b52",
        "colab": {
          "base_uri": "https://localhost:8080/",
          "height": 351
        }
      },
      "execution_count": 239,
      "outputs": [
        {
          "output_type": "stream",
          "name": "stderr",
          "text": [
            "/usr/local/lib/python3.7/dist-packages/sklearn/utils/deprecation.py:87: FutureWarning: Function plot_confusion_matrix is deprecated; Function `plot_confusion_matrix` is deprecated in 1.0 and will be removed in 1.2. Use one of the class methods: ConfusionMatrixDisplay.from_predictions or ConfusionMatrixDisplay.from_estimator.\n",
            "  warnings.warn(msg, category=FutureWarning)\n"
          ]
        },
        {
          "output_type": "stream",
          "name": "stdout",
          "text": [
            "{'Attitude': 0, 'Competitor': 1, 'Dissatisfaction': 2, 'No Churn': 3, 'Other': 4, 'Price': 5}\n"
          ]
        },
        {
          "output_type": "display_data",
          "data": {
            "image/png": "[encoded data removed]",
            "text/plain": [
              "<Figure size 432x288 with 2 Axes>"
            ]
          },
          "metadata": {
            "needs_background": "light"
          }
        }
      ]
    },
    {
      "cell_type": "code",
      "source": [
        "submit_result = './svm_result.csv'\n",
        "\n",
        "new_encoder_map = {'No Churn':0, 'Competitor': 1, 'Dissatisfaction':2, 'Attitude': 3, 'Price':4, 'Other':5}\n",
        "\n",
        "with open(submit_result, 'w') as f:\n",
        "    f.write('Customer ID,Churn Category\\n')\n",
        "    for i in range(len(df_test.values)):\n",
        "        id = str(df_test.values[i]).replace('[\\'', '')\n",
        "        id = id.replace('\\']', '')\n",
        "        pred = new_encoder_map.get(list(encoder_map.keys())[list(encoder_map.values()).index(y_test[i])])\n",
        "        f.write(f'{id},{pred}\\n')"
      ],
      "metadata": {
        "id": "6N35sOjrcpNd"
      },
      "execution_count": 240,
      "outputs": []
    },
    {
      "cell_type": "code",
      "source": [
        "from google.colab import files\n",
        "\n",
        "files.download(submit_result)"
      ],
      "metadata": {
        "id": "0tLUThI7nWnj",
        "outputId": "ee396928-7f9c-46ff-b36f-3fd501fce327",
        "colab": {
          "base_uri": "https://localhost:8080/",
          "height": 17
        }
      },
      "execution_count": 241,
      "outputs": [
        {
          "output_type": "display_data",
          "data": {
            "application/javascript": [
              "\n",
              "    async function download(id, filename, size) {\n",
              "      if (!google.colab.kernel.accessAllowed) {\n",
              "        return;\n",
              "      }\n",
              "      const div = document.createElement('div');\n",
              "      const label = document.createElement('label');\n",
              "      label.textContent = `Downloading \"${filename}\": `;\n",
              "      div.appendChild(label);\n",
              "      const progress = document.createElement('progress');\n",
              "      progress.max = size;\n",
              "      div.appendChild(progress);\n",
              "      document.body.appendChild(div);\n",
              "\n",
              "      const buffers = [];\n",
              "      let downloaded = 0;\n",
              "\n",
              "      const channel = await google.colab.kernel.comms.open(id);\n",
              "      // Send a message to notify the kernel that we're ready.\n",
              "      channel.send({})\n",
              "\n",
              "      for await (const message of channel.messages) {\n",
              "        // Send a message to notify the kernel that we're ready.\n",
              "        channel.send({})\n",
              "        if (message.buffers) {\n",
              "          for (const buffer of message.buffers) {\n",
              "            buffers.push(buffer);\n",
              "            downloaded += buffer.byteLength;\n",
              "            progress.value = downloaded;\n",
              "          }\n",
              "        }\n",
              "      }\n",
              "      const blob = new Blob(buffers, {type: 'application/binary'});\n",
              "      const a = document.createElement('a');\n",
              "      a.href = window.URL.createObjectURL(blob);\n",
              "      a.download = filename;\n",
              "      div.appendChild(a);\n",
              "      a.click();\n",
              "      div.remove();\n",
              "    }\n",
              "  "
            ],
            "text/plain": [
              "<IPython.core.display.Javascript object>"
            ]
          },
          "metadata": {}
        },
        {
          "output_type": "display_data",
          "data": {
            "application/javascript": [
              "download(\"download_b013265d-69a0-41b7-ad03-83ad7a68a072\", \"svm_result.csv\", 18344)"
            ],
            "text/plain": [
              "<IPython.core.display.Javascript object>"
            ]
          },
          "metadata": {}
        }
      ]
    },
    {
      "cell_type": "markdown",
      "source": [
        "# **Deep Neural Network Train**"
      ],
      "metadata": {
        "id": "ZFjmDSVGQPwo"
      }
    },
    {
      "cell_type": "code",
      "source": [
        "class IBMDataset(Dataset):\n",
        "    def __init__(self, X, y=None):\n",
        "        self.data = torch.from_numpy(X).float()\n",
        "        if y is not None:\n",
        "            y = y.astype(np.int)\n",
        "            self.label = torch.LongTensor(y)\n",
        "        else:\n",
        "            self.label = None\n",
        "\n",
        "    def __getitem__(self, idx):\n",
        "        if self.label is not None:\n",
        "            return self.data[idx], self.label[idx]\n",
        "        else:\n",
        "            return self.data[idx]\n",
        "\n",
        "    def __len__(self):\n",
        "        return len(self.data)"
      ],
      "metadata": {
        "id": "G5F9W_RkSub3"
      },
      "execution_count": 242,
      "outputs": []
    },
    {
      "cell_type": "code",
      "source": [
        "class Classifier(nn.Module):\n",
        "    def __init__(self):\n",
        "        super(Classifier, self).__init__()\n",
        "        self.layer1 = nn.Linear(feature_amount - 1, 512)\n",
        "        self.layer2 = nn.Linear(512, 256)\n",
        "        self.layer3 = nn.Linear(256, 128)\n",
        "        self.bn1 = nn.BatchNorm1d(512)\n",
        "        self.bn2 = nn.BatchNorm1d(256)\n",
        "        self.bn3 = nn.BatchNorm1d(128)\n",
        "        self.out = nn.Linear(128, 6)\n",
        "        self.dp = nn.Dropout(0.2)\n",
        "        self.act_fn = nn.LeakyReLU()\n",
        "\n",
        "    def forward(self, x):\n",
        "        x = self.layer1(x)\n",
        "        x = self.act_fn(x)\n",
        "        x = self.bn1(x)\n",
        "        x = self.dp(x)\n",
        "\n",
        "        x = self.layer2(x)\n",
        "        x = self.act_fn(x)\n",
        "        x = self.bn2(x)\n",
        "        x = self.dp(x)\n",
        "\n",
        "        x = self.layer3(x)\n",
        "        x = self.act_fn(x)\n",
        "        x = self.bn3(x)\n",
        "        x = self.dp(x)\n",
        "        \n",
        "        x = self.out(x)\n",
        "        \n",
        "        return x\n",
        "\n",
        "# classifier = Classifier()\n",
        "# summary(classifier, X_train.shape, device=\"cpu\")"
      ],
      "metadata": {
        "id": "K_ofbzUUQdOX"
      },
      "execution_count": 243,
      "outputs": []
    },
    {
      "cell_type": "code",
      "source": [
        "def get_pseudo_labels(dataset, model, threshold=0.65):\n",
        "    device = \"cuda\" if torch.cuda.is_available() else \"cpu\"\n",
        "\n",
        "    data_loader = DataLoader(dataset, batch_size=batch_size, shuffle=False)\n",
        "\n",
        "    model.eval()\n",
        "    softmax = nn.Softmax(dim=-1)\n",
        "\n",
        "    resIndice = []\n",
        "    cntI = 0\n",
        "    for i, data in enumerate(data_loader):\n",
        "        inputs, labels = data\n",
        "\n",
        "        wi\n",
        "        inputs, labels = inputs.to(device), labels.to(device)\n",
        "\n",
        "        with torch.no_grad():\n",
        "            logits = model(img.to(device))\n",
        "\n",
        "        probs = softmax(logits)\n",
        "        isGTthreshold = torch.gt(torch.max(probs, 1).values, threshold)\n",
        "        for cntJ in range(isGTthreshold.shape[0]):\n",
        "            if isGTthreshold[cntJ]:\n",
        "                index = cntI*batch_size + cntJ\n",
        "                dataset.samples[index] = (dataset.samples[index][0], torch.max(probs, 1).indices[cntJ].item())\n",
        "                resIndice.append(index)\n",
        "    \n",
        "        cntI = cntI + 1\n",
        "\n",
        "    model.train()\n",
        "    pseudo_dataset = torch.utils.data.Subset(dataset, resIndice)\n",
        "    return pseudo_dataset"
      ],
      "metadata": {
        "id": "Qh3PCk2FdEkf"
      },
      "execution_count": 244,
      "outputs": []
    },
    {
      "cell_type": "code",
      "source": [
        "VAL_RATIO = 0.2\n",
        "BATCH_SIZE = 64\n",
        "\n",
        "sc = StandardScaler()\n",
        "ss = StandardScaler().fit(X_train)\n",
        "X_train_std = ss.transform(X_train)\n",
        "\n",
        "percent = int(X_train_std.shape[0] * (1 - VAL_RATIO))\n",
        "train_x, train_y, val_x, val_y = X_train_std[:percent], y_train[:percent], X_train_std[percent:], y_train[percent:]\n",
        "print('Size of training set: {}'.format(train_x.shape))\n",
        "print('Size of validation set: {}'.format(val_x.shape))"
      ],
      "metadata": {
        "id": "3lDEMsTdTVd3",
        "outputId": "a5150213-8f86-4c37-ba9d-4e4cc43871cb",
        "colab": {
          "base_uri": "https://localhost:8080/"
        }
      },
      "execution_count": 245,
      "outputs": [
        {
          "output_type": "stream",
          "name": "stdout",
          "text": [
            "Size of training set: (3380, 43)\n",
            "Size of validation set: (846, 43)\n"
          ]
        }
      ]
    },
    {
      "cell_type": "code",
      "source": [
        "train_set = IBMDataset(train_x, train_y)\n",
        "val_set = IBMDataset(val_x, val_y)\n",
        "train_loader = DataLoader(train_set, batch_size=BATCH_SIZE, shuffle=True) # only shuffle the training data\n",
        "val_loader = DataLoader(val_set, batch_size=BATCH_SIZE, shuffle=False)"
      ],
      "metadata": {
        "id": "RaPDAgDzTcrs"
      },
      "execution_count": 246,
      "outputs": []
    },
    {
      "cell_type": "code",
      "source": [
        "# get device \n",
        "device = 'cuda' if torch.cuda.is_available() else 'cpu'\n",
        "print(f'DEVICE: {device}')\n",
        "\n",
        "# training parameters\n",
        "num_epoch = 3000             # number of training epoch\n",
        "learning_rate = 0.001       # learning rate\n",
        "callback_num = 400\n",
        "\n",
        "# the path where checkpoint saved\n",
        "model_path = './best_model.ckpt'\n",
        "\n",
        "# create model, define a loss function, and optimizer\n",
        "model = Classifier().to(device)\n",
        "class_weight = [v for k, v in class_weight.items()]\n",
        "criterion = nn.CrossEntropyLoss(weight=torch.FloatTensor(class_weight).to(device)) \n",
        "optimizer = torch.optim.Adam(model.parameters(), weight_decay=5e-4, lr=learning_rate)\n",
        "scheduler = StepLR(optimizer, step_size=len(train_loader) * 400, gamma=0.1)"
      ],
      "metadata": {
        "id": "CMbU0r5fRwai",
        "outputId": "f072f601-41ab-4313-ee5b-110767ba2f49",
        "colab": {
          "base_uri": "https://localhost:8080/"
        }
      },
      "execution_count": 247,
      "outputs": [
        {
          "output_type": "stream",
          "name": "stdout",
          "text": [
            "DEVICE: cuda\n"
          ]
        }
      ]
    },
    {
      "cell_type": "code",
      "source": [
        "best_acc = 0.0\n",
        "count = 0\n",
        "start_time = time.time()\n",
        "train_acc_list = []\n",
        "train_loss_list = []\n",
        "val_acc_list = []\n",
        "val_loss_list = []\n",
        "for epoch in range(num_epoch):\n",
        "    train_acc = 0.0\n",
        "    train_loss = 0.0\n",
        "    val_acc = 0.0\n",
        "    val_loss = 0.0\n",
        "\n",
        "    # training\n",
        "    model.train() # set the model to training mode\n",
        "    for i, data in enumerate(train_loader):\n",
        "        inputs, labels = data\n",
        "        inputs, labels = inputs.to(device), labels.to(device)\n",
        "        optimizer.zero_grad() \n",
        "        outputs = model(inputs) \n",
        "        batch_loss = criterion(outputs, labels)\n",
        "        _, train_pred = torch.max(outputs, 1) # get the index of the class with the highest probability\n",
        "        batch_loss.backward() \n",
        "        optimizer.step()\n",
        "        scheduler.step()\n",
        "\n",
        "        train_acc += (train_pred.cpu() == labels.cpu()).sum().item()\n",
        "        train_loss += batch_loss.item()\n",
        "\n",
        "    # validation\n",
        "    if len(val_set) > 0:\n",
        "        model.eval() # set the model to evaluation mode\n",
        "        with torch.no_grad():\n",
        "            for i, data in enumerate(val_loader):\n",
        "                inputs, labels = data\n",
        "                inputs, labels = inputs.to(device), labels.to(device)\n",
        "                outputs = model(inputs)\n",
        "                batch_loss = criterion(outputs, labels) \n",
        "                _, val_pred = torch.max(outputs, 1) \n",
        "            \n",
        "                val_acc += (val_pred.cpu() == labels.cpu()).sum().item() # get the index of the class with the highest probability\n",
        "                val_loss += batch_loss.item()\n",
        "\n",
        "            print('[{:03d}/{:03d}] Train Acc: {:3.6f} Loss: {:3.6f} | Val Acc: {:3.6f} loss: {:3.6f}'.format(\n",
        "                epoch + 1, num_epoch, train_acc/len(train_set), train_loss/len(train_loader), val_acc/len(val_set), val_loss/len(val_loader)\n",
        "            ))\n",
        "\n",
        "            # Record Training and validation info\n",
        "            train_acc_list.append(train_acc/len(train_set))\n",
        "            train_loss_list.append(train_loss/len(train_loader))\n",
        "            val_acc_list.append(val_acc/len(val_set))\n",
        "            val_loss_list.append(val_loss/len(val_loader))\n",
        "\n",
        "            # if the model improves, save a checkpoint at this epoch\n",
        "            count += 1\n",
        "            if val_acc > best_acc:\n",
        "                count = 0\n",
        "                best_acc = val_acc\n",
        "                torch.save(model.state_dict(), model_path)\n",
        "                print('saving model with acc {:.3f}'.format(best_acc/len(val_set)))\n",
        "    else:\n",
        "        print('[{:03d}/{:03d}] Train Acc: {:3.6f} Loss: {:3.6f}'.format(\n",
        "            epoch + 1, num_epoch, train_acc/len(train_set), train_loss/len(train_loader)\n",
        "        ))\n",
        "\n",
        "    if count > callback_num:\n",
        "        break\n",
        "\n",
        "# if not validating, save the last epoch\n",
        "if len(val_set) == 0:\n",
        "    torch.save(model.state_dict(), model_path)\n",
        "    print('saving model at last epoch')\n",
        "\n",
        "end_time = time.time()"
      ],
      "metadata": {
        "id": "zYGRiadPSNDo",
        "outputId": "d4dd668c-e457-42b2-9bdb-b7a855379a41",
        "colab": {
          "base_uri": "https://localhost:8080/"
        }
      },
      "execution_count": 248,
      "outputs": [
        {
          "output_type": "stream",
          "name": "stdout",
          "text": [
            "[001/3000] Train Acc: 0.276331 Loss: 1.827848 | Val Acc: 0.306147 loss: 1.755035\n",
            "saving model with acc 0.306\n",
            "[002/3000] Train Acc: 0.363314 Loss: 1.599628 | Val Acc: 0.463357 loss: 1.686181\n",
            "saving model with acc 0.463\n",
            "[003/3000] Train Acc: 0.413018 Loss: 1.492951 | Val Acc: 0.369976 loss: 1.711253\n",
            "[004/3000] Train Acc: 0.455030 Loss: 1.380390 | Val Acc: 0.557920 loss: 1.576925\n",
            "saving model with acc 0.558\n",
            "[005/3000] Train Acc: 0.496450 Loss: 1.256928 | Val Acc: 0.380615 loss: 1.897439\n",
            "[006/3000] Train Acc: 0.520414 Loss: 1.196366 | Val Acc: 0.445626 loss: 1.616604\n",
            "[007/3000] Train Acc: 0.576627 Loss: 1.051685 | Val Acc: 0.496454 loss: 1.619539\n",
            "[008/3000] Train Acc: 0.603550 Loss: 0.979404 | Val Acc: 0.567376 loss: 1.623191\n",
            "saving model with acc 0.567\n",
            "[009/3000] Train Acc: 0.637574 Loss: 0.902759 | Val Acc: 0.659574 loss: 1.676412\n",
            "saving model with acc 0.660\n",
            "[010/3000] Train Acc: 0.684320 Loss: 0.820605 | Val Acc: 0.645390 loss: 1.716684\n",
            "[011/3000] Train Acc: 0.700888 Loss: 0.746964 | Val Acc: 0.710402 loss: 1.625321\n",
            "saving model with acc 0.710\n",
            "[012/3000] Train Acc: 0.723964 Loss: 0.709357 | Val Acc: 0.627660 loss: 1.645444\n",
            "[013/3000] Train Acc: 0.721598 Loss: 0.669453 | Val Acc: 0.718676 loss: 1.785648\n",
            "saving model with acc 0.719\n",
            "[014/3000] Train Acc: 0.769231 Loss: 0.598996 | Val Acc: 0.667849 loss: 1.624441\n",
            "[015/3000] Train Acc: 0.784320 Loss: 0.560338 | Val Acc: 0.613475 loss: 1.880783\n",
            "[016/3000] Train Acc: 0.768343 Loss: 0.567320 | Val Acc: 0.780142 loss: 1.764850\n",
            "saving model with acc 0.780\n",
            "[017/3000] Train Acc: 0.809763 Loss: 0.527109 | Val Acc: 0.676123 loss: 1.850486\n",
            "[018/3000] Train Acc: 0.782840 Loss: 0.523745 | Val Acc: 0.728132 loss: 1.707686\n",
            "[019/3000] Train Acc: 0.819231 Loss: 0.466953 | Val Acc: 0.769504 loss: 1.823573\n",
            "[020/3000] Train Acc: 0.832840 Loss: 0.403961 | Val Acc: 0.736407 loss: 1.949030\n",
            "[021/3000] Train Acc: 0.817751 Loss: 0.437715 | Val Acc: 0.781324 loss: 1.869506\n",
            "saving model with acc 0.781\n",
            "[022/3000] Train Acc: 0.833728 Loss: 0.404742 | Val Acc: 0.810875 loss: 1.784203\n",
            "saving model with acc 0.811\n",
            "[023/3000] Train Acc: 0.851775 Loss: 0.379753 | Val Acc: 0.804965 loss: 1.941571\n",
            "[024/3000] Train Acc: 0.837574 Loss: 0.393503 | Val Acc: 0.658392 loss: 2.123854\n",
            "[025/3000] Train Acc: 0.842899 Loss: 0.376257 | Val Acc: 0.757683 loss: 2.061255\n",
            "[026/3000] Train Acc: 0.841716 Loss: 0.387015 | Val Acc: 0.716312 loss: 2.213460\n",
            "[027/3000] Train Acc: 0.870414 Loss: 0.339265 | Val Acc: 0.819149 loss: 2.263895\n",
            "saving model with acc 0.819\n",
            "[028/3000] Train Acc: 0.863314 Loss: 0.326237 | Val Acc: 0.787234 loss: 2.089703\n",
            "[029/3000] Train Acc: 0.868047 Loss: 0.310106 | Val Acc: 0.806147 loss: 2.069191\n",
            "[030/3000] Train Acc: 0.848521 Loss: 0.378983 | Val Acc: 0.755319 loss: 2.272773\n",
            "[031/3000] Train Acc: 0.860355 Loss: 0.334191 | Val Acc: 0.817967 loss: 2.035264\n",
            "[032/3000] Train Acc: 0.868639 Loss: 0.304002 | Val Acc: 0.803783 loss: 2.287909\n",
            "[033/3000] Train Acc: 0.892012 Loss: 0.263825 | Val Acc: 0.783688 loss: 2.229698\n",
            "[034/3000] Train Acc: 0.865976 Loss: 0.319890 | Val Acc: 0.797872 loss: 2.330171\n",
            "[035/3000] Train Acc: 0.901479 Loss: 0.262386 | Val Acc: 0.806147 loss: 2.163062\n",
            "[036/3000] Train Acc: 0.883136 Loss: 0.286860 | Val Acc: 0.809693 loss: 2.152285\n",
            "[037/3000] Train Acc: 0.890828 Loss: 0.276803 | Val Acc: 0.802600 loss: 2.161310\n",
            "[038/3000] Train Acc: 0.888462 Loss: 0.273407 | Val Acc: 0.664303 loss: 2.455839\n",
            "[039/3000] Train Acc: 0.889349 Loss: 0.272611 | Val Acc: 0.832151 loss: 2.139449\n",
            "saving model with acc 0.832\n",
            "[040/3000] Train Acc: 0.896154 Loss: 0.265709 | Val Acc: 0.827423 loss: 2.193028\n",
            "[041/3000] Train Acc: 0.892604 Loss: 0.290174 | Val Acc: 0.807329 loss: 2.093113\n",
            "[042/3000] Train Acc: 0.893787 Loss: 0.254619 | Val Acc: 0.830969 loss: 2.178229\n",
            "[043/3000] Train Acc: 0.890237 Loss: 0.266254 | Val Acc: 0.806147 loss: 2.235062\n",
            "[044/3000] Train Acc: 0.905917 Loss: 0.286960 | Val Acc: 0.823877 loss: 2.260582\n",
            "[045/3000] Train Acc: 0.891716 Loss: 0.258380 | Val Acc: 0.835697 loss: 2.135326\n",
            "saving model with acc 0.836\n",
            "[046/3000] Train Acc: 0.924852 Loss: 0.224689 | Val Acc: 0.825059 loss: 2.166092\n",
            "[047/3000] Train Acc: 0.915089 Loss: 0.240062 | Val Acc: 0.810875 loss: 2.300399\n",
            "[048/3000] Train Acc: 0.919231 Loss: 0.205196 | Val Acc: 0.809693 loss: 2.294476\n",
            "[049/3000] Train Acc: 0.925740 Loss: 0.221428 | Val Acc: 0.809693 loss: 2.383040\n",
            "[050/3000] Train Acc: 0.910059 Loss: 0.222041 | Val Acc: 0.815603 loss: 2.342374\n",
            "[051/3000] Train Acc: 0.913018 Loss: 0.240771 | Val Acc: 0.833333 loss: 2.248630\n",
            "[052/3000] Train Acc: 0.915089 Loss: 0.275277 | Val Acc: 0.787234 loss: 2.333072\n",
            "[053/3000] Train Acc: 0.880473 Loss: 0.302000 | Val Acc: 0.708038 loss: 2.573280\n",
            "[054/3000] Train Acc: 0.911243 Loss: 0.230655 | Val Acc: 0.813239 loss: 2.353984\n",
            "[055/3000] Train Acc: 0.910947 Loss: 0.234886 | Val Acc: 0.793144 loss: 2.581439\n",
            "[056/3000] Train Acc: 0.902071 Loss: 0.243295 | Val Acc: 0.835697 loss: 2.367421\n",
            "[057/3000] Train Acc: 0.935503 Loss: 0.178394 | Val Acc: 0.821513 loss: 2.437772\n",
            "[058/3000] Train Acc: 0.915976 Loss: 0.241083 | Val Acc: 0.638298 loss: 2.696172\n",
            "[059/3000] Train Acc: 0.913609 Loss: 0.189910 | Val Acc: 0.825059 loss: 2.382512\n",
            "[060/3000] Train Acc: 0.908876 Loss: 0.237444 | Val Acc: 0.835697 loss: 2.326316\n",
            "[061/3000] Train Acc: 0.921598 Loss: 0.219614 | Val Acc: 0.816785 loss: 2.319641\n",
            "[062/3000] Train Acc: 0.913018 Loss: 0.197067 | Val Acc: 0.734043 loss: 2.517942\n",
            "[063/3000] Train Acc: 0.924260 Loss: 0.198469 | Val Acc: 0.841608 loss: 2.387221\n",
            "saving model with acc 0.842\n",
            "[064/3000] Train Acc: 0.914201 Loss: 0.224111 | Val Acc: 0.832151 loss: 2.298645\n",
            "[065/3000] Train Acc: 0.926331 Loss: 0.182933 | Val Acc: 0.826241 loss: 2.401182\n",
            "[066/3000] Train Acc: 0.917160 Loss: 0.216941 | Val Acc: 0.835697 loss: 2.383741\n",
            "[067/3000] Train Acc: 0.939941 Loss: 0.174370 | Val Acc: 0.821513 loss: 2.426159\n",
            "[068/3000] Train Acc: 0.923077 Loss: 0.192786 | Val Acc: 0.828605 loss: 2.321135\n",
            "[069/3000] Train Acc: 0.916568 Loss: 0.223872 | Val Acc: 0.820331 loss: 2.402770\n",
            "[070/3000] Train Acc: 0.896746 Loss: 0.258912 | Val Acc: 0.816785 loss: 2.256370\n",
            "[071/3000] Train Acc: 0.921893 Loss: 0.219026 | Val Acc: 0.776596 loss: 2.450247\n",
            "[072/3000] Train Acc: 0.928107 Loss: 0.180027 | Val Acc: 0.842790 loss: 2.424390\n",
            "saving model with acc 0.843\n",
            "[073/3000] Train Acc: 0.941420 Loss: 0.171210 | Val Acc: 0.730496 loss: 2.489617\n",
            "[074/3000] Train Acc: 0.940237 Loss: 0.172187 | Val Acc: 0.825059 loss: 2.516821\n",
            "[075/3000] Train Acc: 0.947041 Loss: 0.169585 | Val Acc: 0.852246 loss: 2.299142\n",
            "saving model with acc 0.852\n",
            "[076/3000] Train Acc: 0.931361 Loss: 0.188548 | Val Acc: 0.817967 loss: 2.443491\n",
            "[077/3000] Train Acc: 0.935207 Loss: 0.186218 | Val Acc: 0.825059 loss: 2.441798\n",
            "[078/3000] Train Acc: 0.898521 Loss: 0.276365 | Val Acc: 0.829787 loss: 2.407608\n",
            "[079/3000] Train Acc: 0.938166 Loss: 0.170334 | Val Acc: 0.823877 loss: 2.292165\n",
            "[080/3000] Train Acc: 0.928994 Loss: 0.174534 | Val Acc: 0.695035 loss: 2.616083\n",
            "[081/3000] Train Acc: 0.941124 Loss: 0.172477 | Val Acc: 0.838061 loss: 2.327176\n",
            "[082/3000] Train Acc: 0.938462 Loss: 0.174205 | Val Acc: 0.828605 loss: 2.357449\n",
            "[083/3000] Train Acc: 0.933432 Loss: 0.169556 | Val Acc: 0.853428 loss: 2.341142\n",
            "saving model with acc 0.853\n",
            "[084/3000] Train Acc: 0.927811 Loss: 0.214986 | Val Acc: 0.840426 loss: 2.391178\n",
            "[085/3000] Train Acc: 0.929882 Loss: 0.192304 | Val Acc: 0.843972 loss: 2.309372\n",
            "[086/3000] Train Acc: 0.949408 Loss: 0.164053 | Val Acc: 0.846336 loss: 2.381969\n",
            "[087/3000] Train Acc: 0.936391 Loss: 0.152691 | Val Acc: 0.789598 loss: 2.487491\n",
            "[088/3000] Train Acc: 0.941420 Loss: 0.191267 | Val Acc: 0.825059 loss: 2.610354\n",
            "[089/3000] Train Acc: 0.953254 Loss: 0.128585 | Val Acc: 0.836879 loss: 2.508798\n",
            "[090/3000] Train Acc: 0.938166 Loss: 0.175703 | Val Acc: 0.828605 loss: 2.634221\n",
            "[091/3000] Train Acc: 0.944970 Loss: 0.156538 | Val Acc: 0.821513 loss: 2.396451\n",
            "[092/3000] Train Acc: 0.929290 Loss: 0.191304 | Val Acc: 0.708038 loss: 2.568051\n",
            "[093/3000] Train Acc: 0.941420 Loss: 0.146627 | Val Acc: 0.854610 loss: 2.431859\n",
            "saving model with acc 0.855\n",
            "[094/3000] Train Acc: 0.942308 Loss: 0.129504 | Val Acc: 0.852246 loss: 2.442020\n",
            "[095/3000] Train Acc: 0.938166 Loss: 0.173539 | Val Acc: 0.809693 loss: 2.516537\n",
            "[096/3000] Train Acc: 0.937870 Loss: 0.156970 | Val Acc: 0.834515 loss: 2.602210\n",
            "[097/3000] Train Acc: 0.936982 Loss: 0.157771 | Val Acc: 0.790780 loss: 2.636599\n",
            "[098/3000] Train Acc: 0.951479 Loss: 0.142052 | Val Acc: 0.828605 loss: 2.543049\n",
            "[099/3000] Train Acc: 0.952367 Loss: 0.132850 | Val Acc: 0.835697 loss: 2.550880\n",
            "[100/3000] Train Acc: 0.954438 Loss: 0.125690 | Val Acc: 0.832151 loss: 2.615345\n",
            "[101/3000] Train Acc: 0.957101 Loss: 0.128342 | Val Acc: 0.847518 loss: 2.656876\n",
            "[102/3000] Train Acc: 0.953254 Loss: 0.119340 | Val Acc: 0.845154 loss: 2.535909\n",
            "[103/3000] Train Acc: 0.953254 Loss: 0.135532 | Val Acc: 0.846336 loss: 2.411849\n",
            "[104/3000] Train Acc: 0.934615 Loss: 0.187322 | Val Acc: 0.851064 loss: 2.422530\n",
            "[105/3000] Train Acc: 0.946746 Loss: 0.159769 | Val Acc: 0.852246 loss: 2.469379\n",
            "[106/3000] Train Acc: 0.925444 Loss: 0.168202 | Val Acc: 0.827423 loss: 2.595450\n",
            "[107/3000] Train Acc: 0.933136 Loss: 0.213339 | Val Acc: 0.846336 loss: 2.476259\n",
            "[108/3000] Train Acc: 0.938166 Loss: 0.157382 | Val Acc: 0.828605 loss: 2.449983\n",
            "[109/3000] Train Acc: 0.938166 Loss: 0.158382 | Val Acc: 0.828605 loss: 2.522000\n",
            "[110/3000] Train Acc: 0.923964 Loss: 0.205801 | Val Acc: 0.835697 loss: 2.496490\n",
            "[111/3000] Train Acc: 0.943195 Loss: 0.149017 | Val Acc: 0.842790 loss: 2.402896\n",
            "[112/3000] Train Acc: 0.931657 Loss: 0.163012 | Val Acc: 0.834515 loss: 2.446050\n",
            "[113/3000] Train Acc: 0.939941 Loss: 0.156191 | Val Acc: 0.852246 loss: 2.322295\n",
            "[114/3000] Train Acc: 0.927219 Loss: 0.168712 | Val Acc: 0.842790 loss: 2.351681\n",
            "[115/3000] Train Acc: 0.937278 Loss: 0.184520 | Val Acc: 0.825059 loss: 2.581120\n",
            "[116/3000] Train Acc: 0.946154 Loss: 0.203971 | Val Acc: 0.800236 loss: 2.627626\n",
            "[117/3000] Train Acc: 0.930769 Loss: 0.179845 | Val Acc: 0.838061 loss: 2.520779\n",
            "[118/3000] Train Acc: 0.952367 Loss: 0.128871 | Val Acc: 0.845154 loss: 2.404832\n",
            "[119/3000] Train Acc: 0.953254 Loss: 0.140397 | Val Acc: 0.854610 loss: 2.434371\n",
            "[120/3000] Train Acc: 0.955030 Loss: 0.106107 | Val Acc: 0.828605 loss: 2.482340\n",
            "[121/3000] Train Acc: 0.944970 Loss: 0.170997 | Val Acc: 0.709220 loss: 2.574518\n",
            "[122/3000] Train Acc: 0.953550 Loss: 0.127668 | Val Acc: 0.839243 loss: 2.453598\n",
            "[123/3000] Train Acc: 0.952959 Loss: 0.131711 | Val Acc: 0.687943 loss: 2.802393\n",
            "[124/3000] Train Acc: 0.959172 Loss: 0.136965 | Val Acc: 0.843972 loss: 2.778137\n",
            "[125/3000] Train Acc: 0.950592 Loss: 0.159356 | Val Acc: 0.713948 loss: 2.872427\n",
            "[126/3000] Train Acc: 0.948817 Loss: 0.133110 | Val Acc: 0.825059 loss: 2.568336\n",
            "[127/3000] Train Acc: 0.956213 Loss: 0.100558 | Val Acc: 0.845154 loss: 2.687105\n",
            "[128/3000] Train Acc: 0.962426 Loss: 0.122831 | Val Acc: 0.840426 loss: 2.520277\n",
            "[129/3000] Train Acc: 0.943787 Loss: 0.168830 | Val Acc: 0.866430 loss: 2.608493\n",
            "saving model with acc 0.866\n",
            "[130/3000] Train Acc: 0.948225 Loss: 0.149147 | Val Acc: 0.845154 loss: 2.536550\n",
            "[131/3000] Train Acc: 0.950000 Loss: 0.139200 | Val Acc: 0.825059 loss: 2.663003\n",
            "[132/3000] Train Acc: 0.931657 Loss: 0.197314 | Val Acc: 0.840426 loss: 2.625692\n",
            "[133/3000] Train Acc: 0.927515 Loss: 0.197168 | Val Acc: 0.847518 loss: 2.657113\n",
            "[134/3000] Train Acc: 0.953846 Loss: 0.120426 | Val Acc: 0.819149 loss: 2.626530\n",
            "[135/3000] Train Acc: 0.940237 Loss: 0.174689 | Val Acc: 0.829787 loss: 2.584343\n",
            "[136/3000] Train Acc: 0.946450 Loss: 0.156023 | Val Acc: 0.843972 loss: 2.458102\n",
            "[137/3000] Train Acc: 0.947929 Loss: 0.140064 | Val Acc: 0.838061 loss: 2.359606\n",
            "[138/3000] Train Acc: 0.948521 Loss: 0.152961 | Val Acc: 0.823877 loss: 2.526337\n",
            "[139/3000] Train Acc: 0.957101 Loss: 0.122157 | Val Acc: 0.838061 loss: 2.502219\n",
            "[140/3000] Train Acc: 0.946746 Loss: 0.168977 | Val Acc: 0.820331 loss: 2.465572\n",
            "[141/3000] Train Acc: 0.950592 Loss: 0.143355 | Val Acc: 0.842790 loss: 2.406974\n",
            "[142/3000] Train Acc: 0.953550 Loss: 0.124259 | Val Acc: 0.838061 loss: 2.671138\n",
            "[143/3000] Train Acc: 0.939941 Loss: 0.166588 | Val Acc: 0.826241 loss: 2.543901\n",
            "[144/3000] Train Acc: 0.953550 Loss: 0.130554 | Val Acc: 0.713948 loss: 2.652159\n",
            "[145/3000] Train Acc: 0.934320 Loss: 0.152832 | Val Acc: 0.820331 loss: 2.478478\n",
            "[146/3000] Train Acc: 0.941420 Loss: 0.139252 | Val Acc: 0.838061 loss: 2.538421\n",
            "[147/3000] Train Acc: 0.960355 Loss: 0.122403 | Val Acc: 0.840426 loss: 2.602515\n",
            "[148/3000] Train Acc: 0.949704 Loss: 0.140889 | Val Acc: 0.817967 loss: 2.613777\n",
            "[149/3000] Train Acc: 0.957101 Loss: 0.123475 | Val Acc: 0.834515 loss: 2.591025\n",
            "[150/3000] Train Acc: 0.943195 Loss: 0.171607 | Val Acc: 0.832151 loss: 2.669455\n",
            "[151/3000] Train Acc: 0.944970 Loss: 0.184117 | Val Acc: 0.849882 loss: 2.615065\n",
            "[152/3000] Train Acc: 0.951183 Loss: 0.127832 | Val Acc: 0.838061 loss: 2.595304\n",
            "[153/3000] Train Acc: 0.956213 Loss: 0.122129 | Val Acc: 0.843972 loss: 2.511710\n",
            "[154/3000] Train Acc: 0.955621 Loss: 0.124589 | Val Acc: 0.851064 loss: 2.566218\n",
            "[155/3000] Train Acc: 0.962130 Loss: 0.112667 | Val Acc: 0.848700 loss: 2.555771\n",
            "[156/3000] Train Acc: 0.957692 Loss: 0.123561 | Val Acc: 0.841608 loss: 2.607223\n",
            "[157/3000] Train Acc: 0.953254 Loss: 0.124923 | Val Acc: 0.739953 loss: 2.697901\n",
            "[158/3000] Train Acc: 0.945266 Loss: 0.158454 | Val Acc: 0.841608 loss: 2.584941\n",
            "[159/3000] Train Acc: 0.949408 Loss: 0.161903 | Val Acc: 0.836879 loss: 2.633406\n",
            "[160/3000] Train Acc: 0.953550 Loss: 0.126403 | Val Acc: 0.859338 loss: 2.616993\n",
            "[161/3000] Train Acc: 0.936095 Loss: 0.179187 | Val Acc: 0.829787 loss: 2.664545\n",
            "[162/3000] Train Acc: 0.937870 Loss: 0.143520 | Val Acc: 0.846336 loss: 2.607156\n",
            "[163/3000] Train Acc: 0.939645 Loss: 0.173234 | Val Acc: 0.839243 loss: 2.623845\n",
            "[164/3000] Train Acc: 0.940828 Loss: 0.146270 | Val Acc: 0.774232 loss: 2.786032\n",
            "[165/3000] Train Acc: 0.957101 Loss: 0.126381 | Val Acc: 0.847518 loss: 2.562569\n",
            "[166/3000] Train Acc: 0.959763 Loss: 0.102447 | Val Acc: 0.860520 loss: 2.584671\n",
            "[167/3000] Train Acc: 0.953254 Loss: 0.121600 | Val Acc: 0.851064 loss: 2.558800\n",
            "[168/3000] Train Acc: 0.965089 Loss: 0.098067 | Val Acc: 0.855792 loss: 2.637334\n",
            "[169/3000] Train Acc: 0.955917 Loss: 0.144086 | Val Acc: 0.799054 loss: 2.653111\n",
            "[170/3000] Train Acc: 0.939941 Loss: 0.186501 | Val Acc: 0.847518 loss: 2.533464\n",
            "[171/3000] Train Acc: 0.945562 Loss: 0.162820 | Val Acc: 0.791962 loss: 2.611160\n",
            "[172/3000] Train Acc: 0.949408 Loss: 0.133339 | Val Acc: 0.839243 loss: 2.543247\n",
            "[173/3000] Train Acc: 0.961834 Loss: 0.103814 | Val Acc: 0.855792 loss: 2.583147\n",
            "[174/3000] Train Acc: 0.956805 Loss: 0.137251 | Val Acc: 0.829787 loss: 2.409131\n",
            "[175/3000] Train Acc: 0.942899 Loss: 0.155982 | Val Acc: 0.815603 loss: 2.376116\n",
            "[176/3000] Train Acc: 0.952367 Loss: 0.149674 | Val Acc: 0.842790 loss: 2.345522\n",
            "[177/3000] Train Acc: 0.955030 Loss: 0.097215 | Val Acc: 0.836879 loss: 2.482246\n",
            "[178/3000] Train Acc: 0.967456 Loss: 0.084122 | Val Acc: 0.852246 loss: 2.566206\n",
            "[179/3000] Train Acc: 0.954734 Loss: 0.126623 | Val Acc: 0.809693 loss: 2.774157\n",
            "[180/3000] Train Acc: 0.950000 Loss: 0.136613 | Val Acc: 0.830969 loss: 2.667278\n",
            "[181/3000] Train Acc: 0.955030 Loss: 0.140159 | Val Acc: 0.813239 loss: 2.742898\n",
            "[182/3000] Train Acc: 0.959172 Loss: 0.134117 | Val Acc: 0.839243 loss: 2.580316\n",
            "[183/3000] Train Acc: 0.967160 Loss: 0.105421 | Val Acc: 0.841608 loss: 2.440383\n",
            "[184/3000] Train Acc: 0.960355 Loss: 0.136907 | Val Acc: 0.840426 loss: 2.683071\n",
            "[185/3000] Train Acc: 0.958580 Loss: 0.118160 | Val Acc: 0.835697 loss: 2.594901\n",
            "[186/3000] Train Acc: 0.963314 Loss: 0.106622 | Val Acc: 0.848700 loss: 2.602145\n",
            "[187/3000] Train Acc: 0.959172 Loss: 0.147858 | Val Acc: 0.847518 loss: 2.613565\n",
            "[188/3000] Train Acc: 0.954142 Loss: 0.122832 | Val Acc: 0.841608 loss: 2.692436\n",
            "[189/3000] Train Acc: 0.949408 Loss: 0.128023 | Val Acc: 0.838061 loss: 2.612394\n",
            "[190/3000] Train Acc: 0.957692 Loss: 0.130498 | Val Acc: 0.853428 loss: 2.655184\n",
            "[191/3000] Train Acc: 0.952959 Loss: 0.121315 | Val Acc: 0.715130 loss: 2.802653\n",
            "[192/3000] Train Acc: 0.953254 Loss: 0.136507 | Val Acc: 0.849882 loss: 2.701658\n",
            "[193/3000] Train Acc: 0.958580 Loss: 0.118899 | Val Acc: 0.847518 loss: 2.661633\n",
            "[194/3000] Train Acc: 0.957396 Loss: 0.137545 | Val Acc: 0.717494 loss: 2.903392\n",
            "[195/3000] Train Acc: 0.950000 Loss: 0.137439 | Val Acc: 0.846336 loss: 2.649395\n",
            "[196/3000] Train Acc: 0.944675 Loss: 0.162131 | Val Acc: 0.843972 loss: 2.677286\n",
            "[197/3000] Train Acc: 0.953846 Loss: 0.145243 | Val Acc: 0.846336 loss: 2.485427\n",
            "[198/3000] Train Acc: 0.956213 Loss: 0.131300 | Val Acc: 0.864066 loss: 2.460263\n",
            "[199/3000] Train Acc: 0.947337 Loss: 0.178086 | Val Acc: 0.823877 loss: 2.756955\n",
            "[200/3000] Train Acc: 0.948225 Loss: 0.161787 | Val Acc: 0.838061 loss: 2.549714\n",
            "[201/3000] Train Acc: 0.957101 Loss: 0.112644 | Val Acc: 0.847518 loss: 2.552686\n",
            "[202/3000] Train Acc: 0.969231 Loss: 0.092725 | Val Acc: 0.858156 loss: 2.651651\n",
            "[203/3000] Train Acc: 0.961538 Loss: 0.111391 | Val Acc: 0.730496 loss: 2.722327\n",
            "[204/3000] Train Acc: 0.958284 Loss: 0.084530 | Val Acc: 0.842790 loss: 2.530908\n",
            "[205/3000] Train Acc: 0.966864 Loss: 0.105850 | Val Acc: 0.810875 loss: 2.621287\n",
            "[206/3000] Train Acc: 0.968639 Loss: 0.081930 | Val Acc: 0.835697 loss: 2.580157\n",
            "[207/3000] Train Acc: 0.963609 Loss: 0.108503 | Val Acc: 0.846336 loss: 2.708956\n",
            "[208/3000] Train Acc: 0.952663 Loss: 0.143727 | Val Acc: 0.845154 loss: 2.615916\n",
            "[209/3000] Train Acc: 0.949704 Loss: 0.142283 | Val Acc: 0.834515 loss: 2.582683\n",
            "[210/3000] Train Acc: 0.948521 Loss: 0.161517 | Val Acc: 0.853428 loss: 2.743223\n",
            "[211/3000] Train Acc: 0.944083 Loss: 0.158527 | Val Acc: 0.851064 loss: 2.593670\n",
            "[212/3000] Train Acc: 0.944083 Loss: 0.123017 | Val Acc: 0.852246 loss: 2.614142\n",
            "[213/3000] Train Acc: 0.958580 Loss: 0.117854 | Val Acc: 0.842790 loss: 2.494325\n",
            "[214/3000] Train Acc: 0.959763 Loss: 0.112142 | Val Acc: 0.851064 loss: 2.610809\n",
            "[215/3000] Train Acc: 0.955030 Loss: 0.110465 | Val Acc: 0.846336 loss: 2.640870\n",
            "[216/3000] Train Acc: 0.959172 Loss: 0.102543 | Val Acc: 0.859338 loss: 2.576116\n",
            "[217/3000] Train Acc: 0.966272 Loss: 0.089534 | Val Acc: 0.840426 loss: 2.777577\n",
            "[218/3000] Train Acc: 0.969822 Loss: 0.097263 | Val Acc: 0.848700 loss: 2.648584\n",
            "[219/3000] Train Acc: 0.960355 Loss: 0.097093 | Val Acc: 0.860520 loss: 2.731403\n",
            "[220/3000] Train Acc: 0.969527 Loss: 0.079463 | Val Acc: 0.849882 loss: 2.734543\n",
            "[221/3000] Train Acc: 0.974260 Loss: 0.085044 | Val Acc: 0.855792 loss: 2.674872\n",
            "[222/3000] Train Acc: 0.961834 Loss: 0.109957 | Val Acc: 0.836879 loss: 2.766387\n",
            "[223/3000] Train Acc: 0.959467 Loss: 0.122691 | Val Acc: 0.826241 loss: 2.772016\n",
            "[224/3000] Train Acc: 0.957692 Loss: 0.127912 | Val Acc: 0.848700 loss: 2.838106\n",
            "[225/3000] Train Acc: 0.967160 Loss: 0.123386 | Val Acc: 0.840426 loss: 2.690971\n",
            "[226/3000] Train Acc: 0.950592 Loss: 0.136711 | Val Acc: 0.838061 loss: 2.606472\n",
            "[227/3000] Train Acc: 0.952071 Loss: 0.113814 | Val Acc: 0.847518 loss: 2.581406\n",
            "[228/3000] Train Acc: 0.953846 Loss: 0.110129 | Val Acc: 0.847518 loss: 2.827711\n",
            "[229/3000] Train Acc: 0.944083 Loss: 0.177104 | Val Acc: 0.854610 loss: 2.743993\n",
            "[230/3000] Train Acc: 0.951479 Loss: 0.170965 | Val Acc: 0.827423 loss: 2.639225\n",
            "[231/3000] Train Acc: 0.940237 Loss: 0.154843 | Val Acc: 0.821513 loss: 2.681420\n",
            "[232/3000] Train Acc: 0.943491 Loss: 0.195428 | Val Acc: 0.843972 loss: 2.815576\n",
            "[233/3000] Train Acc: 0.951479 Loss: 0.146505 | Val Acc: 0.745863 loss: 2.696077\n",
            "[234/3000] Train Acc: 0.938462 Loss: 0.171334 | Val Acc: 0.841608 loss: 2.553154\n",
            "[235/3000] Train Acc: 0.961538 Loss: 0.097468 | Val Acc: 0.840426 loss: 2.595063\n",
            "[236/3000] Train Acc: 0.959467 Loss: 0.104828 | Val Acc: 0.860520 loss: 2.540927\n",
            "[237/3000] Train Acc: 0.950296 Loss: 0.118527 | Val Acc: 0.847518 loss: 2.638163\n",
            "[238/3000] Train Acc: 0.959763 Loss: 0.120131 | Val Acc: 0.832151 loss: 2.828359\n",
            "[239/3000] Train Acc: 0.955325 Loss: 0.113605 | Val Acc: 0.854610 loss: 2.766446\n",
            "[240/3000] Train Acc: 0.960651 Loss: 0.123074 | Val Acc: 0.825059 loss: 2.800784\n",
            "[241/3000] Train Acc: 0.968343 Loss: 0.107396 | Val Acc: 0.854610 loss: 2.830164\n",
            "[242/3000] Train Acc: 0.977811 Loss: 0.064160 | Val Acc: 0.859338 loss: 2.669727\n",
            "[243/3000] Train Acc: 0.959467 Loss: 0.119299 | Val Acc: 0.840426 loss: 2.766361\n",
            "[244/3000] Train Acc: 0.964793 Loss: 0.117322 | Val Acc: 0.834515 loss: 2.632285\n",
            "[245/3000] Train Acc: 0.960059 Loss: 0.101264 | Val Acc: 0.851064 loss: 2.635869\n",
            "[246/3000] Train Acc: 0.963609 Loss: 0.144963 | Val Acc: 0.842790 loss: 2.685489\n",
            "[247/3000] Train Acc: 0.950592 Loss: 0.124965 | Val Acc: 0.853428 loss: 2.634327\n",
            "[248/3000] Train Acc: 0.951775 Loss: 0.143605 | Val Acc: 0.698582 loss: 2.953961\n",
            "[249/3000] Train Acc: 0.954438 Loss: 0.129707 | Val Acc: 0.858156 loss: 2.536144\n",
            "[250/3000] Train Acc: 0.971598 Loss: 0.079828 | Val Acc: 0.854610 loss: 2.500325\n",
            "[251/3000] Train Acc: 0.958284 Loss: 0.123464 | Val Acc: 0.843972 loss: 2.591341\n",
            "[252/3000] Train Acc: 0.974260 Loss: 0.087184 | Val Acc: 0.855792 loss: 2.468746\n",
            "[253/3000] Train Acc: 0.965976 Loss: 0.088874 | Val Acc: 0.848700 loss: 2.524044\n",
            "[254/3000] Train Acc: 0.965976 Loss: 0.127711 | Val Acc: 0.853428 loss: 2.473388\n",
            "[255/3000] Train Acc: 0.955917 Loss: 0.110883 | Val Acc: 0.858156 loss: 2.551973\n",
            "[256/3000] Train Acc: 0.959467 Loss: 0.122113 | Val Acc: 0.852246 loss: 2.649067\n",
            "[257/3000] Train Acc: 0.963314 Loss: 0.107719 | Val Acc: 0.840426 loss: 2.389620\n",
            "[258/3000] Train Acc: 0.960059 Loss: 0.101876 | Val Acc: 0.851064 loss: 2.369095\n",
            "[259/3000] Train Acc: 0.965385 Loss: 0.094987 | Val Acc: 0.865248 loss: 2.562585\n",
            "[260/3000] Train Acc: 0.965089 Loss: 0.142844 | Val Acc: 0.841608 loss: 2.573367\n",
            "[261/3000] Train Acc: 0.962722 Loss: 0.103484 | Val Acc: 0.852246 loss: 2.576469\n",
            "[262/3000] Train Acc: 0.970118 Loss: 0.079911 | Val Acc: 0.788416 loss: 2.658128\n",
            "[263/3000] Train Acc: 0.951775 Loss: 0.131409 | Val Acc: 0.861702 loss: 2.495365\n",
            "[264/3000] Train Acc: 0.963314 Loss: 0.113343 | Val Acc: 0.838061 loss: 2.355074\n",
            "[265/3000] Train Acc: 0.964497 Loss: 0.080153 | Val Acc: 0.862884 loss: 2.385605\n",
            "[266/3000] Train Acc: 0.963314 Loss: 0.124557 | Val Acc: 0.833333 loss: 2.473752\n",
            "[267/3000] Train Acc: 0.952959 Loss: 0.161471 | Val Acc: 0.864066 loss: 2.499749\n",
            "[268/3000] Train Acc: 0.959172 Loss: 0.107863 | Val Acc: 0.855792 loss: 2.440628\n",
            "[269/3000] Train Acc: 0.964201 Loss: 0.104573 | Val Acc: 0.840426 loss: 2.439419\n",
            "[270/3000] Train Acc: 0.965976 Loss: 0.087541 | Val Acc: 0.855792 loss: 2.581108\n",
            "[271/3000] Train Acc: 0.971302 Loss: 0.092933 | Val Acc: 0.732861 loss: 2.791402\n",
            "[272/3000] Train Acc: 0.960355 Loss: 0.137933 | Val Acc: 0.843972 loss: 2.447933\n",
            "[273/3000] Train Acc: 0.960059 Loss: 0.100124 | Val Acc: 0.716312 loss: 2.513991\n",
            "[274/3000] Train Acc: 0.974852 Loss: 0.074209 | Val Acc: 0.841608 loss: 2.418960\n",
            "[275/3000] Train Acc: 0.965976 Loss: 0.127342 | Val Acc: 0.851064 loss: 2.316903\n",
            "[276/3000] Train Acc: 0.959172 Loss: 0.112992 | Val Acc: 0.835697 loss: 2.518112\n",
            "[277/3000] Train Acc: 0.961834 Loss: 0.101567 | Val Acc: 0.848700 loss: 2.428893\n",
            "[278/3000] Train Acc: 0.961243 Loss: 0.129099 | Val Acc: 0.848700 loss: 2.281641\n",
            "[279/3000] Train Acc: 0.963018 Loss: 0.098674 | Val Acc: 0.851064 loss: 2.283747\n",
            "[280/3000] Train Acc: 0.958580 Loss: 0.130480 | Val Acc: 0.843972 loss: 2.518530\n",
            "[281/3000] Train Acc: 0.960059 Loss: 0.164259 | Val Acc: 0.852246 loss: 2.410329\n",
            "[282/3000] Train Acc: 0.937870 Loss: 0.156438 | Val Acc: 0.835697 loss: 2.348291\n",
            "[283/3000] Train Acc: 0.952663 Loss: 0.123079 | Val Acc: 0.846336 loss: 2.387510\n",
            "[284/3000] Train Acc: 0.951183 Loss: 0.124013 | Val Acc: 0.856974 loss: 2.549467\n",
            "[285/3000] Train Acc: 0.968935 Loss: 0.094811 | Val Acc: 0.853428 loss: 2.511106\n",
            "[286/3000] Train Acc: 0.955917 Loss: 0.146044 | Val Acc: 0.854610 loss: 2.618001\n",
            "[287/3000] Train Acc: 0.952367 Loss: 0.130484 | Val Acc: 0.730496 loss: 2.877260\n",
            "[288/3000] Train Acc: 0.967160 Loss: 0.096574 | Val Acc: 0.849882 loss: 2.474349\n",
            "[289/3000] Train Acc: 0.969822 Loss: 0.096877 | Val Acc: 0.841608 loss: 2.619273\n",
            "[290/3000] Train Acc: 0.962426 Loss: 0.102122 | Val Acc: 0.846336 loss: 2.566989\n",
            "[291/3000] Train Acc: 0.959763 Loss: 0.107156 | Val Acc: 0.835697 loss: 2.518553\n",
            "[292/3000] Train Acc: 0.954734 Loss: 0.102360 | Val Acc: 0.846336 loss: 2.580934\n",
            "[293/3000] Train Acc: 0.976331 Loss: 0.073493 | Val Acc: 0.842790 loss: 2.718428\n",
            "[294/3000] Train Acc: 0.971006 Loss: 0.122054 | Val Acc: 0.739953 loss: 2.975471\n",
            "[295/3000] Train Acc: 0.954142 Loss: 0.132643 | Val Acc: 0.847518 loss: 2.605121\n",
            "[296/3000] Train Acc: 0.958580 Loss: 0.099403 | Val Acc: 0.853428 loss: 2.499123\n",
            "[297/3000] Train Acc: 0.964497 Loss: 0.092784 | Val Acc: 0.853428 loss: 2.576818\n",
            "[298/3000] Train Acc: 0.958876 Loss: 0.107908 | Val Acc: 0.859338 loss: 2.545285\n",
            "[299/3000] Train Acc: 0.969822 Loss: 0.090194 | Val Acc: 0.853428 loss: 2.469754\n",
            "[300/3000] Train Acc: 0.965976 Loss: 0.102566 | Val Acc: 0.826241 loss: 2.531865\n",
            "[301/3000] Train Acc: 0.965976 Loss: 0.072278 | Val Acc: 0.869976 loss: 2.498418\n",
            "saving model with acc 0.870\n",
            "[302/3000] Train Acc: 0.977219 Loss: 0.074171 | Val Acc: 0.849882 loss: 2.542275\n",
            "[303/3000] Train Acc: 0.965680 Loss: 0.084218 | Val Acc: 0.854610 loss: 2.380187\n",
            "[304/3000] Train Acc: 0.968343 Loss: 0.113143 | Val Acc: 0.841608 loss: 2.438443\n",
            "[305/3000] Train Acc: 0.964497 Loss: 0.104884 | Val Acc: 0.842790 loss: 2.593068\n",
            "[306/3000] Train Acc: 0.961834 Loss: 0.108787 | Val Acc: 0.858156 loss: 2.594617\n",
            "[307/3000] Train Acc: 0.965680 Loss: 0.088081 | Val Acc: 0.852246 loss: 2.587345\n",
            "[308/3000] Train Acc: 0.965385 Loss: 0.089701 | Val Acc: 0.834515 loss: 2.472528\n",
            "[309/3000] Train Acc: 0.950000 Loss: 0.162848 | Val Acc: 0.820331 loss: 2.618605\n",
            "[310/3000] Train Acc: 0.952367 Loss: 0.132919 | Val Acc: 0.745863 loss: 2.609466\n",
            "[311/3000] Train Acc: 0.962426 Loss: 0.126697 | Val Acc: 0.846336 loss: 2.466666\n",
            "[312/3000] Train Acc: 0.968639 Loss: 0.081097 | Val Acc: 0.849882 loss: 2.503968\n",
            "[313/3000] Train Acc: 0.970118 Loss: 0.085275 | Val Acc: 0.840426 loss: 2.550248\n",
            "[314/3000] Train Acc: 0.963018 Loss: 0.097075 | Val Acc: 0.843972 loss: 2.497069\n",
            "[315/3000] Train Acc: 0.962130 Loss: 0.131947 | Val Acc: 0.852246 loss: 2.660029\n",
            "[316/3000] Train Acc: 0.970710 Loss: 0.063005 | Val Acc: 0.849882 loss: 2.553208\n",
            "[317/3000] Train Acc: 0.970118 Loss: 0.078155 | Val Acc: 0.845154 loss: 2.700035\n",
            "[318/3000] Train Acc: 0.961538 Loss: 0.141056 | Val Acc: 0.840426 loss: 2.720991\n",
            "[319/3000] Train Acc: 0.954438 Loss: 0.126007 | Val Acc: 0.835697 loss: 2.519193\n",
            "[320/3000] Train Acc: 0.961538 Loss: 0.086284 | Val Acc: 0.853428 loss: 2.771042\n",
            "[321/3000] Train Acc: 0.959467 Loss: 0.081604 | Val Acc: 0.854610 loss: 2.624725\n",
            "[322/3000] Train Acc: 0.975444 Loss: 0.082975 | Val Acc: 0.853428 loss: 2.585948\n",
            "[323/3000] Train Acc: 0.963609 Loss: 0.086748 | Val Acc: 0.840426 loss: 2.561629\n",
            "[324/3000] Train Acc: 0.959763 Loss: 0.128800 | Val Acc: 0.852246 loss: 2.706879\n",
            "[325/3000] Train Acc: 0.956509 Loss: 0.094451 | Val Acc: 0.841608 loss: 2.577436\n",
            "[326/3000] Train Acc: 0.958284 Loss: 0.173088 | Val Acc: 0.859338 loss: 2.574926\n",
            "[327/3000] Train Acc: 0.952367 Loss: 0.143813 | Val Acc: 0.842790 loss: 2.415734\n",
            "[328/3000] Train Acc: 0.950592 Loss: 0.147018 | Val Acc: 0.849882 loss: 2.500672\n",
            "[329/3000] Train Acc: 0.971006 Loss: 0.085687 | Val Acc: 0.849882 loss: 2.546924\n",
            "[330/3000] Train Acc: 0.973669 Loss: 0.092145 | Val Acc: 0.851064 loss: 2.602740\n",
            "[331/3000] Train Acc: 0.964793 Loss: 0.098191 | Val Acc: 0.849882 loss: 2.614616\n",
            "[332/3000] Train Acc: 0.964793 Loss: 0.096896 | Val Acc: 0.851064 loss: 2.446065\n",
            "[333/3000] Train Acc: 0.968639 Loss: 0.116615 | Val Acc: 0.843972 loss: 2.651557\n",
            "[334/3000] Train Acc: 0.957692 Loss: 0.136110 | Val Acc: 0.843972 loss: 2.569317\n",
            "[335/3000] Train Acc: 0.958284 Loss: 0.123793 | Val Acc: 0.847518 loss: 2.466982\n",
            "[336/3000] Train Acc: 0.957101 Loss: 0.121032 | Val Acc: 0.841608 loss: 2.431219\n",
            "[337/3000] Train Acc: 0.964793 Loss: 0.102277 | Val Acc: 0.858156 loss: 2.375757\n",
            "[338/3000] Train Acc: 0.971893 Loss: 0.080417 | Val Acc: 0.859338 loss: 2.395241\n",
            "[339/3000] Train Acc: 0.962426 Loss: 0.111469 | Val Acc: 0.841608 loss: 2.486936\n",
            "[340/3000] Train Acc: 0.965385 Loss: 0.097693 | Val Acc: 0.855792 loss: 2.341943\n",
            "[341/3000] Train Acc: 0.972485 Loss: 0.090381 | Val Acc: 0.641844 loss: 2.682033\n",
            "[342/3000] Train Acc: 0.950592 Loss: 0.131273 | Val Acc: 0.854610 loss: 2.530337\n",
            "[343/3000] Train Acc: 0.957101 Loss: 0.130287 | Val Acc: 0.848700 loss: 2.511158\n",
            "[344/3000] Train Acc: 0.970118 Loss: 0.082707 | Val Acc: 0.854610 loss: 2.345930\n",
            "[345/3000] Train Acc: 0.959763 Loss: 0.108334 | Val Acc: 0.858156 loss: 2.446251\n",
            "[346/3000] Train Acc: 0.969822 Loss: 0.090671 | Val Acc: 0.868794 loss: 2.396540\n",
            "[347/3000] Train Acc: 0.955030 Loss: 0.130939 | Val Acc: 0.855792 loss: 2.422173\n",
            "[348/3000] Train Acc: 0.969527 Loss: 0.095112 | Val Acc: 0.860520 loss: 2.395937\n",
            "[349/3000] Train Acc: 0.963314 Loss: 0.104648 | Val Acc: 0.851064 loss: 2.432165\n",
            "[350/3000] Train Acc: 0.973077 Loss: 0.088490 | Val Acc: 0.836879 loss: 2.499265\n",
            "[351/3000] Train Acc: 0.963314 Loss: 0.107130 | Val Acc: 0.843972 loss: 2.534724\n",
            "[352/3000] Train Acc: 0.962130 Loss: 0.112768 | Val Acc: 0.856974 loss: 2.645280\n",
            "[353/3000] Train Acc: 0.961243 Loss: 0.114295 | Val Acc: 0.854610 loss: 2.476194\n",
            "[354/3000] Train Acc: 0.969822 Loss: 0.089043 | Val Acc: 0.852246 loss: 2.460476\n",
            "[355/3000] Train Acc: 0.963609 Loss: 0.084747 | Val Acc: 0.839243 loss: 2.483549\n",
            "[356/3000] Train Acc: 0.960651 Loss: 0.093307 | Val Acc: 0.853428 loss: 2.407984\n",
            "[357/3000] Train Acc: 0.968047 Loss: 0.092409 | Val Acc: 0.840426 loss: 2.487584\n",
            "[358/3000] Train Acc: 0.957692 Loss: 0.093606 | Val Acc: 0.849882 loss: 2.565209\n",
            "[359/3000] Train Acc: 0.973964 Loss: 0.077993 | Val Acc: 0.847518 loss: 2.670470\n",
            "[360/3000] Train Acc: 0.970118 Loss: 0.106134 | Val Acc: 0.845154 loss: 2.660608\n",
            "[361/3000] Train Acc: 0.971006 Loss: 0.086210 | Val Acc: 0.853428 loss: 2.642183\n",
            "[362/3000] Train Acc: 0.953254 Loss: 0.120801 | Val Acc: 0.854610 loss: 2.529752\n",
            "[363/3000] Train Acc: 0.963018 Loss: 0.102464 | Val Acc: 0.852246 loss: 2.669223\n",
            "[364/3000] Train Acc: 0.973077 Loss: 0.083967 | Val Acc: 0.854610 loss: 2.556402\n",
            "[365/3000] Train Acc: 0.973669 Loss: 0.091506 | Val Acc: 0.843972 loss: 2.463709\n",
            "[366/3000] Train Acc: 0.963609 Loss: 0.084545 | Val Acc: 0.845154 loss: 2.358321\n",
            "[367/3000] Train Acc: 0.973077 Loss: 0.076575 | Val Acc: 0.855792 loss: 2.465275\n",
            "[368/3000] Train Acc: 0.970710 Loss: 0.095736 | Val Acc: 0.854610 loss: 2.552742\n",
            "[369/3000] Train Acc: 0.966568 Loss: 0.119883 | Val Acc: 0.848700 loss: 2.481918\n",
            "[370/3000] Train Acc: 0.970710 Loss: 0.107482 | Val Acc: 0.854610 loss: 2.539597\n",
            "[371/3000] Train Acc: 0.970710 Loss: 0.089524 | Val Acc: 0.856974 loss: 2.680696\n",
            "[372/3000] Train Acc: 0.973373 Loss: 0.075623 | Val Acc: 0.859338 loss: 2.565815\n",
            "[373/3000] Train Acc: 0.977811 Loss: 0.082332 | Val Acc: 0.868794 loss: 2.608912\n",
            "[374/3000] Train Acc: 0.968047 Loss: 0.090500 | Val Acc: 0.829787 loss: 2.589832\n",
            "[375/3000] Train Acc: 0.952071 Loss: 0.153699 | Val Acc: 0.832151 loss: 2.787247\n",
            "[376/3000] Train Acc: 0.945858 Loss: 0.154794 | Val Acc: 0.852246 loss: 2.378471\n",
            "[377/3000] Train Acc: 0.961243 Loss: 0.117282 | Val Acc: 0.841608 loss: 2.379866\n",
            "[378/3000] Train Acc: 0.950888 Loss: 0.115991 | Val Acc: 0.852246 loss: 2.478538\n",
            "[379/3000] Train Acc: 0.957692 Loss: 0.145189 | Val Acc: 0.839243 loss: 2.596285\n",
            "[380/3000] Train Acc: 0.951479 Loss: 0.114604 | Val Acc: 0.852246 loss: 2.251635\n",
            "[381/3000] Train Acc: 0.970710 Loss: 0.076257 | Val Acc: 0.827423 loss: 2.585477\n",
            "[382/3000] Train Acc: 0.957101 Loss: 0.129636 | Val Acc: 0.853428 loss: 2.489055\n",
            "[383/3000] Train Acc: 0.968047 Loss: 0.083704 | Val Acc: 0.741135 loss: 2.506114\n",
            "[384/3000] Train Acc: 0.963905 Loss: 0.102331 | Val Acc: 0.854610 loss: 2.587225\n",
            "[385/3000] Train Acc: 0.965385 Loss: 0.107273 | Val Acc: 0.858156 loss: 2.520322\n",
            "[386/3000] Train Acc: 0.962130 Loss: 0.105329 | Val Acc: 0.854610 loss: 2.419420\n",
            "[387/3000] Train Acc: 0.958580 Loss: 0.148554 | Val Acc: 0.871158 loss: 2.509250\n",
            "saving model with acc 0.871\n",
            "[388/3000] Train Acc: 0.969527 Loss: 0.109724 | Val Acc: 0.856974 loss: 2.682165\n",
            "[389/3000] Train Acc: 0.960947 Loss: 0.112525 | Val Acc: 0.847518 loss: 2.767648\n",
            "[390/3000] Train Acc: 0.951775 Loss: 0.162453 | Val Acc: 0.839243 loss: 2.530501\n",
            "[391/3000] Train Acc: 0.956213 Loss: 0.114490 | Val Acc: 0.853428 loss: 2.285140\n",
            "[392/3000] Train Acc: 0.957692 Loss: 0.110873 | Val Acc: 0.851064 loss: 2.475805\n",
            "[393/3000] Train Acc: 0.973669 Loss: 0.079746 | Val Acc: 0.853428 loss: 2.406044\n",
            "[394/3000] Train Acc: 0.967751 Loss: 0.097808 | Val Acc: 0.851064 loss: 2.531445\n",
            "[395/3000] Train Acc: 0.963609 Loss: 0.085133 | Val Acc: 0.861702 loss: 2.545310\n",
            "[396/3000] Train Acc: 0.963314 Loss: 0.094220 | Val Acc: 0.858156 loss: 2.538401\n",
            "[397/3000] Train Acc: 0.960059 Loss: 0.143630 | Val Acc: 0.856974 loss: 2.481950\n",
            "[398/3000] Train Acc: 0.970710 Loss: 0.097478 | Val Acc: 0.871158 loss: 2.460989\n",
            "[399/3000] Train Acc: 0.971893 Loss: 0.106663 | Val Acc: 0.851064 loss: 2.583241\n",
            "[400/3000] Train Acc: 0.970118 Loss: 0.096526 | Val Acc: 0.834515 loss: 2.501435\n",
            "[401/3000] Train Acc: 0.969527 Loss: 0.076044 | Val Acc: 0.847518 loss: 2.457317\n",
            "[402/3000] Train Acc: 0.972781 Loss: 0.057771 | Val Acc: 0.845154 loss: 2.413721\n",
            "[403/3000] Train Acc: 0.976627 Loss: 0.065200 | Val Acc: 0.848700 loss: 2.384134\n",
            "[404/3000] Train Acc: 0.978107 Loss: 0.061220 | Val Acc: 0.853428 loss: 2.398364\n",
            "[405/3000] Train Acc: 0.977515 Loss: 0.052617 | Val Acc: 0.862884 loss: 2.464514\n",
            "[406/3000] Train Acc: 0.981065 Loss: 0.065747 | Val Acc: 0.852246 loss: 2.412143\n",
            "[407/3000] Train Acc: 0.982840 Loss: 0.041592 | Val Acc: 0.852246 loss: 2.369285\n",
            "[408/3000] Train Acc: 0.982249 Loss: 0.048050 | Val Acc: 0.854610 loss: 2.410988\n",
            "[409/3000] Train Acc: 0.985503 Loss: 0.051686 | Val Acc: 0.851064 loss: 2.399867\n",
            "[410/3000] Train Acc: 0.980769 Loss: 0.042754 | Val Acc: 0.848700 loss: 2.434387\n",
            "[411/3000] Train Acc: 0.984615 Loss: 0.042533 | Val Acc: 0.856974 loss: 2.433277\n",
            "[412/3000] Train Acc: 0.981953 Loss: 0.047565 | Val Acc: 0.853428 loss: 2.418818\n",
            "[413/3000] Train Acc: 0.989349 Loss: 0.025746 | Val Acc: 0.853428 loss: 2.425583\n",
            "[414/3000] Train Acc: 0.982840 Loss: 0.055212 | Val Acc: 0.860520 loss: 2.437935\n",
            "[415/3000] Train Acc: 0.986686 Loss: 0.036111 | Val Acc: 0.867612 loss: 2.459239\n",
            "[416/3000] Train Acc: 0.981953 Loss: 0.046036 | Val Acc: 0.858156 loss: 2.393060\n",
            "[417/3000] Train Acc: 0.984615 Loss: 0.040274 | Val Acc: 0.861702 loss: 2.394519\n",
            "[418/3000] Train Acc: 0.989053 Loss: 0.038760 | Val Acc: 0.866430 loss: 2.449675\n",
            "[419/3000] Train Acc: 0.989941 Loss: 0.025631 | Val Acc: 0.865248 loss: 2.445035\n",
            "[420/3000] Train Acc: 0.990533 Loss: 0.029625 | Val Acc: 0.868794 loss: 2.436718\n",
            "[421/3000] Train Acc: 0.985503 Loss: 0.034219 | Val Acc: 0.862884 loss: 2.454992\n",
            "[422/3000] Train Acc: 0.987278 Loss: 0.029271 | Val Acc: 0.866430 loss: 2.410021\n",
            "[423/3000] Train Acc: 0.987574 Loss: 0.035481 | Val Acc: 0.859338 loss: 2.448174\n",
            "[424/3000] Train Acc: 0.990237 Loss: 0.027458 | Val Acc: 0.861702 loss: 2.518718\n",
            "[425/3000] Train Acc: 0.989053 Loss: 0.042355 | Val Acc: 0.864066 loss: 2.473568\n",
            "[426/3000] Train Acc: 0.984615 Loss: 0.032360 | Val Acc: 0.868794 loss: 2.379001\n",
            "[427/3000] Train Acc: 0.986095 Loss: 0.030894 | Val Acc: 0.865248 loss: 2.485882\n",
            "[428/3000] Train Acc: 0.992308 Loss: 0.026088 | Val Acc: 0.872340 loss: 2.450895\n",
            "saving model with acc 0.872\n",
            "[429/3000] Train Acc: 0.988757 Loss: 0.029276 | Val Acc: 0.873522 loss: 2.449776\n",
            "saving model with acc 0.874\n",
            "[430/3000] Train Acc: 0.986391 Loss: 0.042085 | Val Acc: 0.866430 loss: 2.439731\n",
            "[431/3000] Train Acc: 0.989645 Loss: 0.028316 | Val Acc: 0.871158 loss: 2.444008\n",
            "[432/3000] Train Acc: 0.988166 Loss: 0.039960 | Val Acc: 0.864066 loss: 2.463126\n",
            "[433/3000] Train Acc: 0.987870 Loss: 0.039351 | Val Acc: 0.865248 loss: 2.446707\n",
            "[434/3000] Train Acc: 0.989645 Loss: 0.025918 | Val Acc: 0.862884 loss: 2.382136\n",
            "[435/3000] Train Acc: 0.990237 Loss: 0.034739 | Val Acc: 0.869976 loss: 2.440017\n",
            "[436/3000] Train Acc: 0.989053 Loss: 0.028728 | Val Acc: 0.860520 loss: 2.476512\n",
            "[437/3000] Train Acc: 0.991420 Loss: 0.025692 | Val Acc: 0.872340 loss: 2.427779\n",
            "[438/3000] Train Acc: 0.990533 Loss: 0.030943 | Val Acc: 0.872340 loss: 2.444059\n",
            "[439/3000] Train Acc: 0.992604 Loss: 0.020750 | Val Acc: 0.865248 loss: 2.495510\n",
            "[440/3000] Train Acc: 0.989349 Loss: 0.033470 | Val Acc: 0.868794 loss: 2.425381\n",
            "[441/3000] Train Acc: 0.990237 Loss: 0.023534 | Val Acc: 0.864066 loss: 2.409990\n",
            "[442/3000] Train Acc: 0.987870 Loss: 0.040326 | Val Acc: 0.869976 loss: 2.449157\n",
            "[443/3000] Train Acc: 0.988757 Loss: 0.027067 | Val Acc: 0.865248 loss: 2.390958\n",
            "[444/3000] Train Acc: 0.991124 Loss: 0.025411 | Val Acc: 0.871158 loss: 2.406483\n",
            "[445/3000] Train Acc: 0.992308 Loss: 0.023022 | Val Acc: 0.869976 loss: 2.467011\n",
            "[446/3000] Train Acc: 0.993787 Loss: 0.017916 | Val Acc: 0.867612 loss: 2.515172\n",
            "[447/3000] Train Acc: 0.988462 Loss: 0.032121 | Val Acc: 0.868794 loss: 2.501443\n",
            "[448/3000] Train Acc: 0.989941 Loss: 0.027066 | Val Acc: 0.869976 loss: 2.469482\n",
            "[449/3000] Train Acc: 0.988757 Loss: 0.031126 | Val Acc: 0.865248 loss: 2.475990\n",
            "[450/3000] Train Acc: 0.989645 Loss: 0.031716 | Val Acc: 0.866430 loss: 2.468838\n",
            "[451/3000] Train Acc: 0.988462 Loss: 0.036569 | Val Acc: 0.869976 loss: 2.460638\n",
            "[452/3000] Train Acc: 0.993491 Loss: 0.023524 | Val Acc: 0.872340 loss: 2.435404\n",
            "[453/3000] Train Acc: 0.992012 Loss: 0.028884 | Val Acc: 0.868794 loss: 2.461968\n",
            "[454/3000] Train Acc: 0.992308 Loss: 0.019296 | Val Acc: 0.869976 loss: 2.452577\n",
            "[455/3000] Train Acc: 0.990533 Loss: 0.034503 | Val Acc: 0.868794 loss: 2.454828\n",
            "[456/3000] Train Acc: 0.994675 Loss: 0.025155 | Val Acc: 0.871158 loss: 2.436447\n",
            "[457/3000] Train Acc: 0.989053 Loss: 0.026988 | Val Acc: 0.866430 loss: 2.458898\n",
            "[458/3000] Train Acc: 0.992012 Loss: 0.026442 | Val Acc: 0.872340 loss: 2.511850\n",
            "[459/3000] Train Acc: 0.993195 Loss: 0.021175 | Val Acc: 0.873522 loss: 2.452160\n",
            "[460/3000] Train Acc: 0.992899 Loss: 0.024911 | Val Acc: 0.874704 loss: 2.496113\n",
            "saving model with acc 0.875\n",
            "[461/3000] Train Acc: 0.992012 Loss: 0.027580 | Val Acc: 0.871158 loss: 2.532314\n",
            "[462/3000] Train Acc: 0.991420 Loss: 0.030445 | Val Acc: 0.874704 loss: 2.485586\n",
            "[463/3000] Train Acc: 0.988462 Loss: 0.033067 | Val Acc: 0.872340 loss: 2.456552\n",
            "[464/3000] Train Acc: 0.994379 Loss: 0.015178 | Val Acc: 0.872340 loss: 2.527176\n",
            "[465/3000] Train Acc: 0.996450 Loss: 0.016573 | Val Acc: 0.873522 loss: 2.444917\n",
            "[466/3000] Train Acc: 0.992899 Loss: 0.019264 | Val Acc: 0.873522 loss: 2.494383\n",
            "[467/3000] Train Acc: 0.992604 Loss: 0.025232 | Val Acc: 0.872340 loss: 2.443838\n",
            "[468/3000] Train Acc: 0.993491 Loss: 0.018752 | Val Acc: 0.873522 loss: 2.480420\n",
            "[469/3000] Train Acc: 0.992012 Loss: 0.018510 | Val Acc: 0.874704 loss: 2.558846\n",
            "[470/3000] Train Acc: 0.992899 Loss: 0.026297 | Val Acc: 0.872340 loss: 2.468632\n",
            "[471/3000] Train Acc: 0.994083 Loss: 0.020848 | Val Acc: 0.873522 loss: 2.450009\n",
            "[472/3000] Train Acc: 0.994675 Loss: 0.018165 | Val Acc: 0.873522 loss: 2.486882\n",
            "[473/3000] Train Acc: 0.991124 Loss: 0.021250 | Val Acc: 0.872340 loss: 2.462555\n",
            "[474/3000] Train Acc: 0.992899 Loss: 0.026379 | Val Acc: 0.867612 loss: 2.462359\n",
            "[475/3000] Train Acc: 0.989645 Loss: 0.026302 | Val Acc: 0.877069 loss: 2.488503\n",
            "saving model with acc 0.877\n",
            "[476/3000] Train Acc: 0.991420 Loss: 0.019369 | Val Acc: 0.875887 loss: 2.465453\n",
            "[477/3000] Train Acc: 0.992308 Loss: 0.019807 | Val Acc: 0.878251 loss: 2.473714\n",
            "saving model with acc 0.878\n",
            "[478/3000] Train Acc: 0.993195 Loss: 0.026037 | Val Acc: 0.874704 loss: 2.532451\n",
            "[479/3000] Train Acc: 0.993787 Loss: 0.017444 | Val Acc: 0.868794 loss: 2.506496\n",
            "[480/3000] Train Acc: 0.993195 Loss: 0.016496 | Val Acc: 0.873522 loss: 2.513422\n",
            "[481/3000] Train Acc: 0.992308 Loss: 0.020247 | Val Acc: 0.875887 loss: 2.508560\n",
            "[482/3000] Train Acc: 0.992012 Loss: 0.028711 | Val Acc: 0.871158 loss: 2.517648\n",
            "[483/3000] Train Acc: 0.996154 Loss: 0.020255 | Val Acc: 0.874704 loss: 2.502756\n",
            "[484/3000] Train Acc: 0.994675 Loss: 0.018725 | Val Acc: 0.873522 loss: 2.537942\n",
            "[485/3000] Train Acc: 0.992308 Loss: 0.021017 | Val Acc: 0.875887 loss: 2.555755\n",
            "[486/3000] Train Acc: 0.994083 Loss: 0.018800 | Val Acc: 0.873522 loss: 2.577609\n",
            "[487/3000] Train Acc: 0.990533 Loss: 0.028208 | Val Acc: 0.872340 loss: 2.555911\n",
            "[488/3000] Train Acc: 0.989645 Loss: 0.027886 | Val Acc: 0.869976 loss: 2.516323\n",
            "[489/3000] Train Acc: 0.992899 Loss: 0.019065 | Val Acc: 0.873522 loss: 2.571966\n",
            "[490/3000] Train Acc: 0.994379 Loss: 0.015175 | Val Acc: 0.875887 loss: 2.590290\n",
            "[491/3000] Train Acc: 0.989941 Loss: 0.023854 | Val Acc: 0.873522 loss: 2.523653\n",
            "[492/3000] Train Acc: 0.991716 Loss: 0.015846 | Val Acc: 0.874704 loss: 2.567481\n",
            "[493/3000] Train Acc: 0.992308 Loss: 0.014938 | Val Acc: 0.872340 loss: 2.608232\n",
            "[494/3000] Train Acc: 0.994675 Loss: 0.013352 | Val Acc: 0.874704 loss: 2.585868\n",
            "[495/3000] Train Acc: 0.993491 Loss: 0.023116 | Val Acc: 0.872340 loss: 2.581313\n",
            "[496/3000] Train Acc: 0.994083 Loss: 0.019825 | Val Acc: 0.874704 loss: 2.572127\n",
            "[497/3000] Train Acc: 0.992899 Loss: 0.021297 | Val Acc: 0.874704 loss: 2.542456\n",
            "[498/3000] Train Acc: 0.991124 Loss: 0.021920 | Val Acc: 0.872340 loss: 2.559873\n",
            "[499/3000] Train Acc: 0.994379 Loss: 0.014300 | Val Acc: 0.872340 loss: 2.599334\n",
            "[500/3000] Train Acc: 0.997041 Loss: 0.010774 | Val Acc: 0.874704 loss: 2.631037\n",
            "[501/3000] Train Acc: 0.996450 Loss: 0.013256 | Val Acc: 0.872340 loss: 2.578129\n",
            "[502/3000] Train Acc: 0.994675 Loss: 0.016124 | Val Acc: 0.871158 loss: 2.576657\n",
            "[503/3000] Train Acc: 0.995562 Loss: 0.015976 | Val Acc: 0.872340 loss: 2.619748\n",
            "[504/3000] Train Acc: 0.994083 Loss: 0.012079 | Val Acc: 0.873522 loss: 2.526339\n",
            "[505/3000] Train Acc: 0.989941 Loss: 0.021486 | Val Acc: 0.871158 loss: 2.587229\n",
            "[506/3000] Train Acc: 0.993195 Loss: 0.013644 | Val Acc: 0.871158 loss: 2.662044\n",
            "[507/3000] Train Acc: 0.994675 Loss: 0.019721 | Val Acc: 0.869976 loss: 2.673763\n",
            "[508/3000] Train Acc: 0.993491 Loss: 0.014015 | Val Acc: 0.873522 loss: 2.594355\n",
            "[509/3000] Train Acc: 0.994970 Loss: 0.021935 | Val Acc: 0.871158 loss: 2.634043\n",
            "[510/3000] Train Acc: 0.991420 Loss: 0.023970 | Val Acc: 0.869976 loss: 2.619418\n",
            "[511/3000] Train Acc: 0.996450 Loss: 0.018340 | Val Acc: 0.874704 loss: 2.582043\n",
            "[512/3000] Train Acc: 0.995858 Loss: 0.012806 | Val Acc: 0.877069 loss: 2.592351\n",
            "[513/3000] Train Acc: 0.991420 Loss: 0.018870 | Val Acc: 0.871158 loss: 2.650946\n",
            "[514/3000] Train Acc: 0.992604 Loss: 0.021157 | Val Acc: 0.871158 loss: 2.699113\n",
            "[515/3000] Train Acc: 0.995858 Loss: 0.011654 | Val Acc: 0.872340 loss: 2.616850\n",
            "[516/3000] Train Acc: 0.993491 Loss: 0.020733 | Val Acc: 0.869976 loss: 2.711258\n",
            "[517/3000] Train Acc: 0.994675 Loss: 0.013311 | Val Acc: 0.871158 loss: 2.640808\n",
            "[518/3000] Train Acc: 0.991420 Loss: 0.016884 | Val Acc: 0.875887 loss: 2.612689\n",
            "[519/3000] Train Acc: 0.992899 Loss: 0.018558 | Val Acc: 0.877069 loss: 2.635206\n",
            "[520/3000] Train Acc: 0.995858 Loss: 0.012772 | Val Acc: 0.877069 loss: 2.662008\n",
            "[521/3000] Train Acc: 0.993491 Loss: 0.020146 | Val Acc: 0.878251 loss: 2.662778\n",
            "[522/3000] Train Acc: 0.994970 Loss: 0.013896 | Val Acc: 0.869976 loss: 2.710692\n",
            "[523/3000] Train Acc: 0.997633 Loss: 0.011903 | Val Acc: 0.872340 loss: 2.683240\n",
            "[524/3000] Train Acc: 0.992899 Loss: 0.026377 | Val Acc: 0.871158 loss: 2.733014\n",
            "[525/3000] Train Acc: 0.993491 Loss: 0.025631 | Val Acc: 0.871158 loss: 2.638487\n",
            "[526/3000] Train Acc: 0.993195 Loss: 0.018557 | Val Acc: 0.877069 loss: 2.640569\n",
            "[527/3000] Train Acc: 0.991420 Loss: 0.020590 | Val Acc: 0.877069 loss: 2.654600\n",
            "[528/3000] Train Acc: 0.992604 Loss: 0.017810 | Val Acc: 0.877069 loss: 2.659233\n",
            "[529/3000] Train Acc: 0.994083 Loss: 0.019714 | Val Acc: 0.874704 loss: 2.674798\n",
            "[530/3000] Train Acc: 0.991124 Loss: 0.033189 | Val Acc: 0.874704 loss: 2.599085\n",
            "[531/3000] Train Acc: 0.992308 Loss: 0.021091 | Val Acc: 0.872340 loss: 2.723746\n",
            "[532/3000] Train Acc: 0.995266 Loss: 0.015783 | Val Acc: 0.875887 loss: 2.713523\n",
            "[533/3000] Train Acc: 0.995562 Loss: 0.014578 | Val Acc: 0.873522 loss: 2.729337\n",
            "[534/3000] Train Acc: 0.993491 Loss: 0.027120 | Val Acc: 0.874704 loss: 2.685270\n",
            "[535/3000] Train Acc: 0.993491 Loss: 0.018322 | Val Acc: 0.884161 loss: 2.657394\n",
            "saving model with acc 0.884\n",
            "[536/3000] Train Acc: 0.993195 Loss: 0.015400 | Val Acc: 0.874704 loss: 2.716507\n",
            "[537/3000] Train Acc: 0.996154 Loss: 0.010234 | Val Acc: 0.877069 loss: 2.717146\n",
            "[538/3000] Train Acc: 0.995562 Loss: 0.016761 | Val Acc: 0.875887 loss: 2.688936\n",
            "[539/3000] Train Acc: 0.994083 Loss: 0.015756 | Val Acc: 0.878251 loss: 2.701190\n",
            "[540/3000] Train Acc: 0.993491 Loss: 0.016080 | Val Acc: 0.881797 loss: 2.612731\n",
            "[541/3000] Train Acc: 0.993195 Loss: 0.021323 | Val Acc: 0.874704 loss: 2.660191\n",
            "[542/3000] Train Acc: 0.993195 Loss: 0.012708 | Val Acc: 0.875887 loss: 2.644083\n",
            "[543/3000] Train Acc: 0.993491 Loss: 0.014544 | Val Acc: 0.875887 loss: 2.670116\n",
            "[544/3000] Train Acc: 0.996746 Loss: 0.007718 | Val Acc: 0.874704 loss: 2.685856\n",
            "[545/3000] Train Acc: 0.996450 Loss: 0.012618 | Val Acc: 0.874704 loss: 2.682474\n",
            "[546/3000] Train Acc: 0.991420 Loss: 0.024649 | Val Acc: 0.880615 loss: 2.669948\n",
            "[547/3000] Train Acc: 0.992308 Loss: 0.020080 | Val Acc: 0.877069 loss: 2.708282\n",
            "[548/3000] Train Acc: 0.992308 Loss: 0.022619 | Val Acc: 0.879433 loss: 2.723471\n",
            "[549/3000] Train Acc: 0.996746 Loss: 0.013923 | Val Acc: 0.872340 loss: 2.666465\n",
            "[550/3000] Train Acc: 0.996450 Loss: 0.011808 | Val Acc: 0.872340 loss: 2.711663\n",
            "[551/3000] Train Acc: 0.993787 Loss: 0.011002 | Val Acc: 0.875887 loss: 2.632940\n",
            "[552/3000] Train Acc: 0.995266 Loss: 0.016402 | Val Acc: 0.872340 loss: 2.706559\n",
            "[553/3000] Train Acc: 0.996154 Loss: 0.008061 | Val Acc: 0.867612 loss: 2.731095\n",
            "[554/3000] Train Acc: 0.996154 Loss: 0.009536 | Val Acc: 0.868794 loss: 2.705709\n",
            "[555/3000] Train Acc: 0.995562 Loss: 0.018459 | Val Acc: 0.867612 loss: 2.694688\n",
            "[556/3000] Train Acc: 0.995266 Loss: 0.012268 | Val Acc: 0.868794 loss: 2.706989\n",
            "[557/3000] Train Acc: 0.994379 Loss: 0.014154 | Val Acc: 0.873522 loss: 2.734031\n",
            "[558/3000] Train Acc: 0.992899 Loss: 0.015412 | Val Acc: 0.873522 loss: 2.668608\n",
            "[559/3000] Train Acc: 0.992308 Loss: 0.021313 | Val Acc: 0.873522 loss: 2.720181\n",
            "[560/3000] Train Acc: 0.994379 Loss: 0.014670 | Val Acc: 0.871158 loss: 2.652037\n",
            "[561/3000] Train Acc: 0.994083 Loss: 0.008892 | Val Acc: 0.874704 loss: 2.661604\n",
            "[562/3000] Train Acc: 0.996746 Loss: 0.013823 | Val Acc: 0.871158 loss: 2.680121\n",
            "[563/3000] Train Acc: 0.997337 Loss: 0.012482 | Val Acc: 0.872340 loss: 2.690752\n",
            "[564/3000] Train Acc: 0.996450 Loss: 0.011921 | Val Acc: 0.871158 loss: 2.714698\n",
            "[565/3000] Train Acc: 0.995266 Loss: 0.010259 | Val Acc: 0.872340 loss: 2.704092\n",
            "[566/3000] Train Acc: 0.994675 Loss: 0.009665 | Val Acc: 0.868794 loss: 2.720660\n",
            "[567/3000] Train Acc: 0.994970 Loss: 0.013129 | Val Acc: 0.869976 loss: 2.737925\n",
            "[568/3000] Train Acc: 0.994675 Loss: 0.017530 | Val Acc: 0.875887 loss: 2.719509\n",
            "[569/3000] Train Acc: 0.993491 Loss: 0.017673 | Val Acc: 0.868794 loss: 2.728979\n",
            "[570/3000] Train Acc: 0.992308 Loss: 0.030040 | Val Acc: 0.866430 loss: 2.783507\n",
            "[571/3000] Train Acc: 0.992899 Loss: 0.012277 | Val Acc: 0.873522 loss: 2.793631\n",
            "[572/3000] Train Acc: 0.994083 Loss: 0.012991 | Val Acc: 0.869976 loss: 2.683050\n",
            "[573/3000] Train Acc: 0.994083 Loss: 0.013439 | Val Acc: 0.868794 loss: 2.721095\n",
            "[574/3000] Train Acc: 0.995266 Loss: 0.014157 | Val Acc: 0.872340 loss: 2.720824\n",
            "[575/3000] Train Acc: 0.994675 Loss: 0.011474 | Val Acc: 0.872340 loss: 2.675677\n",
            "[576/3000] Train Acc: 0.993491 Loss: 0.013438 | Val Acc: 0.871158 loss: 2.687160\n",
            "[577/3000] Train Acc: 0.995562 Loss: 0.013858 | Val Acc: 0.868794 loss: 2.697193\n",
            "[578/3000] Train Acc: 0.994083 Loss: 0.014937 | Val Acc: 0.868794 loss: 2.686929\n",
            "[579/3000] Train Acc: 0.997337 Loss: 0.012323 | Val Acc: 0.871158 loss: 2.690273\n",
            "[580/3000] Train Acc: 0.997041 Loss: 0.012463 | Val Acc: 0.869976 loss: 2.724464\n",
            "[581/3000] Train Acc: 0.996450 Loss: 0.010186 | Val Acc: 0.871158 loss: 2.658413\n",
            "[582/3000] Train Acc: 0.995266 Loss: 0.011025 | Val Acc: 0.871158 loss: 2.746218\n",
            "[583/3000] Train Acc: 0.997929 Loss: 0.010557 | Val Acc: 0.874704 loss: 2.703974\n",
            "[584/3000] Train Acc: 0.991716 Loss: 0.027895 | Val Acc: 0.873522 loss: 2.701062\n",
            "[585/3000] Train Acc: 0.996746 Loss: 0.011077 | Val Acc: 0.873522 loss: 2.668268\n",
            "[586/3000] Train Acc: 0.996154 Loss: 0.016306 | Val Acc: 0.868794 loss: 2.752349\n",
            "[587/3000] Train Acc: 0.995562 Loss: 0.013124 | Val Acc: 0.874704 loss: 2.723449\n",
            "[588/3000] Train Acc: 0.995858 Loss: 0.016224 | Val Acc: 0.874704 loss: 2.746520\n",
            "[589/3000] Train Acc: 0.993787 Loss: 0.021211 | Val Acc: 0.869976 loss: 2.735410\n",
            "[590/3000] Train Acc: 0.993195 Loss: 0.023172 | Val Acc: 0.872340 loss: 2.726224\n",
            "[591/3000] Train Acc: 0.995858 Loss: 0.012420 | Val Acc: 0.874704 loss: 2.730424\n",
            "[592/3000] Train Acc: 0.994379 Loss: 0.017701 | Val Acc: 0.868794 loss: 2.750538\n",
            "[593/3000] Train Acc: 0.995562 Loss: 0.016055 | Val Acc: 0.867612 loss: 2.696577\n",
            "[594/3000] Train Acc: 0.995858 Loss: 0.010067 | Val Acc: 0.874704 loss: 2.679407\n",
            "[595/3000] Train Acc: 0.996450 Loss: 0.010884 | Val Acc: 0.869976 loss: 2.732313\n",
            "[596/3000] Train Acc: 0.996450 Loss: 0.010990 | Val Acc: 0.871158 loss: 2.692723\n",
            "[597/3000] Train Acc: 0.996746 Loss: 0.009322 | Val Acc: 0.873522 loss: 2.683564\n",
            "[598/3000] Train Acc: 0.997633 Loss: 0.010644 | Val Acc: 0.869976 loss: 2.734764\n",
            "[599/3000] Train Acc: 0.994083 Loss: 0.018454 | Val Acc: 0.869976 loss: 2.776209\n",
            "[600/3000] Train Acc: 0.995858 Loss: 0.011759 | Val Acc: 0.871158 loss: 2.724590\n",
            "[601/3000] Train Acc: 0.995858 Loss: 0.012847 | Val Acc: 0.865248 loss: 2.735320\n",
            "[602/3000] Train Acc: 0.995562 Loss: 0.016337 | Val Acc: 0.875887 loss: 2.667233\n",
            "[603/3000] Train Acc: 0.993787 Loss: 0.019084 | Val Acc: 0.868794 loss: 2.759643\n",
            "[604/3000] Train Acc: 0.995858 Loss: 0.015378 | Val Acc: 0.869976 loss: 2.700909\n",
            "[605/3000] Train Acc: 0.994970 Loss: 0.013402 | Val Acc: 0.877069 loss: 2.650933\n",
            "[606/3000] Train Acc: 0.992899 Loss: 0.022791 | Val Acc: 0.874704 loss: 2.647496\n",
            "[607/3000] Train Acc: 0.994970 Loss: 0.012381 | Val Acc: 0.874704 loss: 2.616933\n",
            "[608/3000] Train Acc: 0.994379 Loss: 0.015575 | Val Acc: 0.872340 loss: 2.689463\n",
            "[609/3000] Train Acc: 0.996450 Loss: 0.013989 | Val Acc: 0.874704 loss: 2.738698\n",
            "[610/3000] Train Acc: 0.999408 Loss: 0.008159 | Val Acc: 0.868794 loss: 2.712599\n",
            "[611/3000] Train Acc: 0.996450 Loss: 0.022732 | Val Acc: 0.873522 loss: 2.651650\n",
            "[612/3000] Train Acc: 0.994675 Loss: 0.019711 | Val Acc: 0.869976 loss: 2.628445\n",
            "[613/3000] Train Acc: 0.996154 Loss: 0.018406 | Val Acc: 0.874704 loss: 2.663457\n",
            "[614/3000] Train Acc: 0.995858 Loss: 0.018744 | Val Acc: 0.871158 loss: 2.708075\n",
            "[615/3000] Train Acc: 0.994379 Loss: 0.012609 | Val Acc: 0.868794 loss: 2.724853\n",
            "[616/3000] Train Acc: 0.992012 Loss: 0.021603 | Val Acc: 0.869976 loss: 2.654780\n",
            "[617/3000] Train Acc: 0.995266 Loss: 0.029466 | Val Acc: 0.872340 loss: 2.659956\n",
            "[618/3000] Train Acc: 0.995858 Loss: 0.013784 | Val Acc: 0.869976 loss: 2.692073\n",
            "[619/3000] Train Acc: 0.996450 Loss: 0.017508 | Val Acc: 0.873522 loss: 2.659701\n",
            "[620/3000] Train Acc: 0.993491 Loss: 0.022720 | Val Acc: 0.868794 loss: 2.679494\n",
            "[621/3000] Train Acc: 0.996450 Loss: 0.013043 | Val Acc: 0.869976 loss: 2.676657\n",
            "[622/3000] Train Acc: 0.995266 Loss: 0.012950 | Val Acc: 0.869976 loss: 2.632473\n",
            "[623/3000] Train Acc: 0.997337 Loss: 0.009808 | Val Acc: 0.872340 loss: 2.644062\n",
            "[624/3000] Train Acc: 0.996746 Loss: 0.009840 | Val Acc: 0.871158 loss: 2.657728\n",
            "[625/3000] Train Acc: 0.995562 Loss: 0.013217 | Val Acc: 0.866430 loss: 2.683951\n",
            "[626/3000] Train Acc: 0.997633 Loss: 0.010584 | Val Acc: 0.869976 loss: 2.674807\n",
            "[627/3000] Train Acc: 0.997041 Loss: 0.011213 | Val Acc: 0.867612 loss: 2.705676\n",
            "[628/3000] Train Acc: 0.997929 Loss: 0.011302 | Val Acc: 0.872340 loss: 2.647955\n",
            "[629/3000] Train Acc: 0.996450 Loss: 0.012387 | Val Acc: 0.873522 loss: 2.650156\n",
            "[630/3000] Train Acc: 0.994970 Loss: 0.012589 | Val Acc: 0.869976 loss: 2.720846\n",
            "[631/3000] Train Acc: 0.993491 Loss: 0.021869 | Val Acc: 0.872340 loss: 2.684109\n",
            "[632/3000] Train Acc: 0.995562 Loss: 0.016528 | Val Acc: 0.868794 loss: 2.734760\n",
            "[633/3000] Train Acc: 0.997337 Loss: 0.011563 | Val Acc: 0.871158 loss: 2.678453\n",
            "[634/3000] Train Acc: 0.996450 Loss: 0.009049 | Val Acc: 0.869976 loss: 2.650098\n",
            "[635/3000] Train Acc: 0.996450 Loss: 0.013000 | Val Acc: 0.872340 loss: 2.673963\n",
            "[636/3000] Train Acc: 0.996746 Loss: 0.008163 | Val Acc: 0.872340 loss: 2.664182\n",
            "[637/3000] Train Acc: 0.996154 Loss: 0.013781 | Val Acc: 0.869976 loss: 2.730292\n",
            "[638/3000] Train Acc: 0.992308 Loss: 0.022275 | Val Acc: 0.862884 loss: 2.670879\n",
            "[639/3000] Train Acc: 0.994675 Loss: 0.016518 | Val Acc: 0.871158 loss: 2.655535\n",
            "[640/3000] Train Acc: 0.995266 Loss: 0.013575 | Val Acc: 0.867612 loss: 2.682857\n",
            "[641/3000] Train Acc: 0.995266 Loss: 0.013189 | Val Acc: 0.873522 loss: 2.593310\n",
            "[642/3000] Train Acc: 0.992012 Loss: 0.016653 | Val Acc: 0.872340 loss: 2.643209\n",
            "[643/3000] Train Acc: 0.994675 Loss: 0.012673 | Val Acc: 0.871158 loss: 2.603020\n",
            "[644/3000] Train Acc: 0.997337 Loss: 0.010737 | Val Acc: 0.873522 loss: 2.622853\n",
            "[645/3000] Train Acc: 0.992308 Loss: 0.018073 | Val Acc: 0.872340 loss: 2.639239\n",
            "[646/3000] Train Acc: 0.995562 Loss: 0.009563 | Val Acc: 0.873522 loss: 2.635807\n",
            "[647/3000] Train Acc: 0.995562 Loss: 0.012088 | Val Acc: 0.867612 loss: 2.577376\n",
            "[648/3000] Train Acc: 0.994379 Loss: 0.018972 | Val Acc: 0.874704 loss: 2.623065\n",
            "[649/3000] Train Acc: 0.996746 Loss: 0.009922 | Val Acc: 0.871158 loss: 2.589008\n",
            "[650/3000] Train Acc: 0.995562 Loss: 0.011756 | Val Acc: 0.865248 loss: 2.616302\n",
            "[651/3000] Train Acc: 0.997041 Loss: 0.014681 | Val Acc: 0.866430 loss: 2.655097\n",
            "[652/3000] Train Acc: 0.994083 Loss: 0.014456 | Val Acc: 0.865248 loss: 2.584993\n",
            "[653/3000] Train Acc: 0.996746 Loss: 0.011824 | Val Acc: 0.871158 loss: 2.581267\n",
            "[654/3000] Train Acc: 0.996154 Loss: 0.009844 | Val Acc: 0.872340 loss: 2.650024\n",
            "[655/3000] Train Acc: 0.997337 Loss: 0.013188 | Val Acc: 0.865248 loss: 2.653818\n",
            "[656/3000] Train Acc: 0.992899 Loss: 0.019181 | Val Acc: 0.869976 loss: 2.622197\n",
            "[657/3000] Train Acc: 0.998521 Loss: 0.008428 | Val Acc: 0.869976 loss: 2.665406\n",
            "[658/3000] Train Acc: 0.997337 Loss: 0.009304 | Val Acc: 0.869976 loss: 2.690915\n",
            "[659/3000] Train Acc: 0.998225 Loss: 0.010018 | Val Acc: 0.867612 loss: 2.657933\n",
            "[660/3000] Train Acc: 0.994379 Loss: 0.015477 | Val Acc: 0.869976 loss: 2.656024\n",
            "[661/3000] Train Acc: 0.997041 Loss: 0.011209 | Val Acc: 0.862884 loss: 2.700092\n",
            "[662/3000] Train Acc: 0.997633 Loss: 0.006025 | Val Acc: 0.865248 loss: 2.677446\n",
            "[663/3000] Train Acc: 0.993787 Loss: 0.016032 | Val Acc: 0.865248 loss: 2.678725\n",
            "[664/3000] Train Acc: 0.997041 Loss: 0.011244 | Val Acc: 0.869976 loss: 2.606614\n",
            "[665/3000] Train Acc: 0.995858 Loss: 0.010478 | Val Acc: 0.869976 loss: 2.625032\n",
            "[666/3000] Train Acc: 0.995562 Loss: 0.013859 | Val Acc: 0.869976 loss: 2.556748\n",
            "[667/3000] Train Acc: 0.995562 Loss: 0.016032 | Val Acc: 0.872340 loss: 2.594834\n",
            "[668/3000] Train Acc: 0.994675 Loss: 0.026040 | Val Acc: 0.869976 loss: 2.685315\n",
            "[669/3000] Train Acc: 0.992012 Loss: 0.024485 | Val Acc: 0.868794 loss: 2.603791\n",
            "[670/3000] Train Acc: 0.996746 Loss: 0.010695 | Val Acc: 0.868794 loss: 2.597175\n",
            "[671/3000] Train Acc: 0.997633 Loss: 0.008844 | Val Acc: 0.868794 loss: 2.565311\n",
            "[672/3000] Train Acc: 0.997337 Loss: 0.010972 | Val Acc: 0.866430 loss: 2.624220\n",
            "[673/3000] Train Acc: 0.995266 Loss: 0.013075 | Val Acc: 0.866430 loss: 2.649611\n",
            "[674/3000] Train Acc: 0.993491 Loss: 0.013756 | Val Acc: 0.867612 loss: 2.620345\n",
            "[675/3000] Train Acc: 0.997337 Loss: 0.009010 | Val Acc: 0.867612 loss: 2.651027\n",
            "[676/3000] Train Acc: 0.994970 Loss: 0.014840 | Val Acc: 0.869976 loss: 2.645569\n",
            "[677/3000] Train Acc: 0.995266 Loss: 0.019426 | Val Acc: 0.867612 loss: 2.724086\n",
            "[678/3000] Train Acc: 0.996746 Loss: 0.011837 | Val Acc: 0.867612 loss: 2.630099\n",
            "[679/3000] Train Acc: 0.992899 Loss: 0.034831 | Val Acc: 0.873522 loss: 2.591999\n",
            "[680/3000] Train Acc: 0.997337 Loss: 0.010179 | Val Acc: 0.871158 loss: 2.649545\n",
            "[681/3000] Train Acc: 0.994379 Loss: 0.013676 | Val Acc: 0.871158 loss: 2.657846\n",
            "[682/3000] Train Acc: 0.997337 Loss: 0.010800 | Val Acc: 0.869976 loss: 2.651383\n",
            "[683/3000] Train Acc: 0.996154 Loss: 0.014109 | Val Acc: 0.871158 loss: 2.608867\n",
            "[684/3000] Train Acc: 0.996450 Loss: 0.011603 | Val Acc: 0.872340 loss: 2.634627\n",
            "[685/3000] Train Acc: 0.996450 Loss: 0.007811 | Val Acc: 0.867612 loss: 2.619204\n",
            "[686/3000] Train Acc: 0.997633 Loss: 0.009178 | Val Acc: 0.871158 loss: 2.628740\n",
            "[687/3000] Train Acc: 0.993195 Loss: 0.019136 | Val Acc: 0.869976 loss: 2.704353\n",
            "[688/3000] Train Acc: 0.993787 Loss: 0.018051 | Val Acc: 0.867612 loss: 2.603716\n",
            "[689/3000] Train Acc: 0.996746 Loss: 0.010969 | Val Acc: 0.872340 loss: 2.643106\n",
            "[690/3000] Train Acc: 0.996154 Loss: 0.012129 | Val Acc: 0.872340 loss: 2.590457\n",
            "[691/3000] Train Acc: 0.996746 Loss: 0.016488 | Val Acc: 0.868794 loss: 2.631122\n",
            "[692/3000] Train Acc: 0.992899 Loss: 0.019405 | Val Acc: 0.862884 loss: 2.602505\n",
            "[693/3000] Train Acc: 0.995858 Loss: 0.016251 | Val Acc: 0.868794 loss: 2.560826\n",
            "[694/3000] Train Acc: 0.993195 Loss: 0.017274 | Val Acc: 0.865248 loss: 2.645358\n",
            "[695/3000] Train Acc: 0.994379 Loss: 0.011730 | Val Acc: 0.868794 loss: 2.608344\n",
            "[696/3000] Train Acc: 0.996154 Loss: 0.009323 | Val Acc: 0.865248 loss: 2.609356\n",
            "[697/3000] Train Acc: 0.996450 Loss: 0.009310 | Val Acc: 0.867612 loss: 2.611891\n",
            "[698/3000] Train Acc: 0.993195 Loss: 0.022107 | Val Acc: 0.871158 loss: 2.615561\n",
            "[699/3000] Train Acc: 0.998521 Loss: 0.010443 | Val Acc: 0.868794 loss: 2.638779\n",
            "[700/3000] Train Acc: 0.996746 Loss: 0.008562 | Val Acc: 0.866430 loss: 2.656738\n",
            "[701/3000] Train Acc: 0.997633 Loss: 0.008007 | Val Acc: 0.869976 loss: 2.610744\n",
            "[702/3000] Train Acc: 0.994083 Loss: 0.019469 | Val Acc: 0.871158 loss: 2.594374\n",
            "[703/3000] Train Acc: 0.992604 Loss: 0.014982 | Val Acc: 0.865248 loss: 2.576381\n",
            "[704/3000] Train Acc: 0.994379 Loss: 0.013803 | Val Acc: 0.864066 loss: 2.600778\n",
            "[705/3000] Train Acc: 0.994379 Loss: 0.023986 | Val Acc: 0.864066 loss: 2.684185\n",
            "[706/3000] Train Acc: 0.997337 Loss: 0.009015 | Val Acc: 0.864066 loss: 2.646971\n",
            "[707/3000] Train Acc: 0.994379 Loss: 0.018899 | Val Acc: 0.864066 loss: 2.681617\n",
            "[708/3000] Train Acc: 0.997041 Loss: 0.011098 | Val Acc: 0.859338 loss: 2.638337\n",
            "[709/3000] Train Acc: 0.995858 Loss: 0.008441 | Val Acc: 0.862884 loss: 2.563749\n",
            "[710/3000] Train Acc: 0.993787 Loss: 0.020450 | Val Acc: 0.862884 loss: 2.651981\n",
            "[711/3000] Train Acc: 0.996154 Loss: 0.013231 | Val Acc: 0.871158 loss: 2.588304\n",
            "[712/3000] Train Acc: 0.993787 Loss: 0.012592 | Val Acc: 0.868794 loss: 2.583718\n",
            "[713/3000] Train Acc: 0.995266 Loss: 0.013846 | Val Acc: 0.866430 loss: 2.580978\n",
            "[714/3000] Train Acc: 0.995562 Loss: 0.016559 | Val Acc: 0.869976 loss: 2.606519\n",
            "[715/3000] Train Acc: 0.994083 Loss: 0.017259 | Val Acc: 0.868794 loss: 2.645201\n",
            "[716/3000] Train Acc: 0.995266 Loss: 0.014045 | Val Acc: 0.864066 loss: 2.619342\n",
            "[717/3000] Train Acc: 0.995266 Loss: 0.013949 | Val Acc: 0.865248 loss: 2.622301\n",
            "[718/3000] Train Acc: 0.998521 Loss: 0.010457 | Val Acc: 0.868794 loss: 2.579358\n",
            "[719/3000] Train Acc: 0.995266 Loss: 0.013231 | Val Acc: 0.866430 loss: 2.579166\n",
            "[720/3000] Train Acc: 0.994970 Loss: 0.012232 | Val Acc: 0.868794 loss: 2.543897\n",
            "[721/3000] Train Acc: 0.995858 Loss: 0.013692 | Val Acc: 0.866430 loss: 2.537663\n",
            "[722/3000] Train Acc: 0.996450 Loss: 0.019754 | Val Acc: 0.871158 loss: 2.627792\n",
            "[723/3000] Train Acc: 0.992604 Loss: 0.027247 | Val Acc: 0.867612 loss: 2.596914\n",
            "[724/3000] Train Acc: 0.994083 Loss: 0.015820 | Val Acc: 0.865248 loss: 2.602117\n",
            "[725/3000] Train Acc: 0.995858 Loss: 0.017304 | Val Acc: 0.869976 loss: 2.552445\n",
            "[726/3000] Train Acc: 0.995266 Loss: 0.016305 | Val Acc: 0.868794 loss: 2.574886\n",
            "[727/3000] Train Acc: 0.996154 Loss: 0.013051 | Val Acc: 0.871158 loss: 2.504601\n",
            "[728/3000] Train Acc: 0.996154 Loss: 0.013383 | Val Acc: 0.869976 loss: 2.568588\n",
            "[729/3000] Train Acc: 0.996746 Loss: 0.013009 | Val Acc: 0.869976 loss: 2.577064\n",
            "[730/3000] Train Acc: 0.992604 Loss: 0.022564 | Val Acc: 0.871158 loss: 2.647005\n",
            "[731/3000] Train Acc: 0.994675 Loss: 0.021701 | Val Acc: 0.874704 loss: 2.586913\n",
            "[732/3000] Train Acc: 0.995562 Loss: 0.010140 | Val Acc: 0.875887 loss: 2.653095\n",
            "[733/3000] Train Acc: 0.996154 Loss: 0.009076 | Val Acc: 0.871158 loss: 2.600903\n",
            "[734/3000] Train Acc: 0.996746 Loss: 0.007715 | Val Acc: 0.872340 loss: 2.637919\n",
            "[735/3000] Train Acc: 0.997633 Loss: 0.014417 | Val Acc: 0.869976 loss: 2.657220\n",
            "[736/3000] Train Acc: 0.998225 Loss: 0.007057 | Val Acc: 0.867612 loss: 2.621369\n",
            "[737/3000] Train Acc: 0.996450 Loss: 0.016501 | Val Acc: 0.874704 loss: 2.622184\n",
            "[738/3000] Train Acc: 0.998521 Loss: 0.008488 | Val Acc: 0.873522 loss: 2.625219\n",
            "[739/3000] Train Acc: 0.998225 Loss: 0.009008 | Val Acc: 0.869976 loss: 2.632347\n",
            "[740/3000] Train Acc: 0.993787 Loss: 0.014617 | Val Acc: 0.869976 loss: 2.655930\n",
            "[741/3000] Train Acc: 0.996154 Loss: 0.011796 | Val Acc: 0.872340 loss: 2.542108\n",
            "[742/3000] Train Acc: 0.995562 Loss: 0.019043 | Val Acc: 0.871158 loss: 2.584305\n",
            "[743/3000] Train Acc: 0.996154 Loss: 0.010473 | Val Acc: 0.869976 loss: 2.603220\n",
            "[744/3000] Train Acc: 0.997041 Loss: 0.009400 | Val Acc: 0.872340 loss: 2.599588\n",
            "[745/3000] Train Acc: 0.998225 Loss: 0.008258 | Val Acc: 0.871158 loss: 2.613689\n",
            "[746/3000] Train Acc: 0.997929 Loss: 0.008986 | Val Acc: 0.873522 loss: 2.626045\n",
            "[747/3000] Train Acc: 0.992604 Loss: 0.017195 | Val Acc: 0.865248 loss: 2.734324\n",
            "[748/3000] Train Acc: 0.996450 Loss: 0.008152 | Val Acc: 0.874704 loss: 2.648043\n",
            "[749/3000] Train Acc: 0.998225 Loss: 0.009627 | Val Acc: 0.872340 loss: 2.668672\n",
            "[750/3000] Train Acc: 0.995858 Loss: 0.014282 | Val Acc: 0.871158 loss: 2.659574\n",
            "[751/3000] Train Acc: 0.996450 Loss: 0.008385 | Val Acc: 0.871158 loss: 2.687180\n",
            "[752/3000] Train Acc: 0.998521 Loss: 0.008583 | Val Acc: 0.872340 loss: 2.671865\n",
            "[753/3000] Train Acc: 0.996746 Loss: 0.011154 | Val Acc: 0.874704 loss: 2.697260\n",
            "[754/3000] Train Acc: 0.998521 Loss: 0.006598 | Val Acc: 0.868794 loss: 2.619039\n",
            "[755/3000] Train Acc: 0.996746 Loss: 0.009127 | Val Acc: 0.868794 loss: 2.728648\n",
            "[756/3000] Train Acc: 0.997337 Loss: 0.008486 | Val Acc: 0.877069 loss: 2.682122\n",
            "[757/3000] Train Acc: 0.997041 Loss: 0.011013 | Val Acc: 0.871158 loss: 2.635471\n",
            "[758/3000] Train Acc: 0.997337 Loss: 0.010267 | Val Acc: 0.872340 loss: 2.705808\n",
            "[759/3000] Train Acc: 0.994970 Loss: 0.008409 | Val Acc: 0.871158 loss: 2.656153\n",
            "[760/3000] Train Acc: 0.997633 Loss: 0.010944 | Val Acc: 0.873522 loss: 2.685082\n",
            "[761/3000] Train Acc: 0.995858 Loss: 0.013272 | Val Acc: 0.875887 loss: 2.665374\n",
            "[762/3000] Train Acc: 0.996746 Loss: 0.018646 | Val Acc: 0.872340 loss: 2.611458\n",
            "[763/3000] Train Acc: 0.996746 Loss: 0.012247 | Val Acc: 0.869976 loss: 2.576742\n",
            "[764/3000] Train Acc: 0.996746 Loss: 0.013245 | Val Acc: 0.867612 loss: 2.616334\n",
            "[765/3000] Train Acc: 0.996746 Loss: 0.019501 | Val Acc: 0.865248 loss: 2.689216\n",
            "[766/3000] Train Acc: 0.997041 Loss: 0.018865 | Val Acc: 0.873522 loss: 2.614489\n",
            "[767/3000] Train Acc: 0.996154 Loss: 0.016229 | Val Acc: 0.873522 loss: 2.629228\n",
            "[768/3000] Train Acc: 0.995858 Loss: 0.014025 | Val Acc: 0.873522 loss: 2.613009\n",
            "[769/3000] Train Acc: 0.995858 Loss: 0.010238 | Val Acc: 0.871158 loss: 2.639222\n",
            "[770/3000] Train Acc: 0.995562 Loss: 0.012156 | Val Acc: 0.871158 loss: 2.611657\n",
            "[771/3000] Train Acc: 0.998521 Loss: 0.010514 | Val Acc: 0.875887 loss: 2.568242\n",
            "[772/3000] Train Acc: 0.993195 Loss: 0.014505 | Val Acc: 0.872340 loss: 2.623721\n",
            "[773/3000] Train Acc: 0.994083 Loss: 0.012864 | Val Acc: 0.872340 loss: 2.607124\n",
            "[774/3000] Train Acc: 0.995562 Loss: 0.011096 | Val Acc: 0.871158 loss: 2.615455\n",
            "[775/3000] Train Acc: 0.997041 Loss: 0.009366 | Val Acc: 0.872340 loss: 2.628964\n",
            "[776/3000] Train Acc: 0.994675 Loss: 0.014666 | Val Acc: 0.872340 loss: 2.626499\n",
            "[777/3000] Train Acc: 0.995266 Loss: 0.010912 | Val Acc: 0.871158 loss: 2.646751\n",
            "[778/3000] Train Acc: 0.993491 Loss: 0.022260 | Val Acc: 0.872340 loss: 2.614723\n",
            "[779/3000] Train Acc: 0.994379 Loss: 0.010864 | Val Acc: 0.869976 loss: 2.651977\n",
            "[780/3000] Train Acc: 0.997041 Loss: 0.007080 | Val Acc: 0.871158 loss: 2.581258\n",
            "[781/3000] Train Acc: 0.996450 Loss: 0.008001 | Val Acc: 0.873522 loss: 2.595315\n",
            "[782/3000] Train Acc: 0.993787 Loss: 0.016458 | Val Acc: 0.868794 loss: 2.607935\n",
            "[783/3000] Train Acc: 0.997633 Loss: 0.008750 | Val Acc: 0.868794 loss: 2.588790\n",
            "[784/3000] Train Acc: 0.994379 Loss: 0.016208 | Val Acc: 0.871158 loss: 2.567359\n",
            "[785/3000] Train Acc: 0.997041 Loss: 0.009350 | Val Acc: 0.873522 loss: 2.640030\n",
            "[786/3000] Train Acc: 0.996450 Loss: 0.013984 | Val Acc: 0.867612 loss: 2.689598\n",
            "[787/3000] Train Acc: 0.996746 Loss: 0.007896 | Val Acc: 0.868794 loss: 2.617490\n",
            "[788/3000] Train Acc: 0.996746 Loss: 0.010366 | Val Acc: 0.871158 loss: 2.622526\n",
            "[789/3000] Train Acc: 0.997041 Loss: 0.006985 | Val Acc: 0.872340 loss: 2.593252\n",
            "[790/3000] Train Acc: 0.997929 Loss: 0.011391 | Val Acc: 0.868794 loss: 2.597889\n",
            "[791/3000] Train Acc: 0.996746 Loss: 0.007636 | Val Acc: 0.866430 loss: 2.611437\n",
            "[792/3000] Train Acc: 0.994970 Loss: 0.015050 | Val Acc: 0.867612 loss: 2.661065\n",
            "[793/3000] Train Acc: 0.997337 Loss: 0.007468 | Val Acc: 0.867612 loss: 2.655703\n",
            "[794/3000] Train Acc: 0.997337 Loss: 0.010216 | Val Acc: 0.869976 loss: 2.616781\n",
            "[795/3000] Train Acc: 0.996154 Loss: 0.008606 | Val Acc: 0.867612 loss: 2.555690\n",
            "[796/3000] Train Acc: 0.992012 Loss: 0.022593 | Val Acc: 0.866430 loss: 2.652673\n",
            "[797/3000] Train Acc: 0.999408 Loss: 0.007038 | Val Acc: 0.865248 loss: 2.581384\n",
            "[798/3000] Train Acc: 0.996450 Loss: 0.011153 | Val Acc: 0.868794 loss: 2.602430\n",
            "[799/3000] Train Acc: 0.995858 Loss: 0.008857 | Val Acc: 0.871158 loss: 2.573377\n",
            "[800/3000] Train Acc: 0.997337 Loss: 0.006722 | Val Acc: 0.868794 loss: 2.548816\n",
            "[801/3000] Train Acc: 0.997337 Loss: 0.007855 | Val Acc: 0.869976 loss: 2.543119\n",
            "[802/3000] Train Acc: 0.997041 Loss: 0.015903 | Val Acc: 0.872340 loss: 2.619100\n",
            "[803/3000] Train Acc: 0.997041 Loss: 0.008082 | Val Acc: 0.875887 loss: 2.601522\n",
            "[804/3000] Train Acc: 0.998225 Loss: 0.007916 | Val Acc: 0.873522 loss: 2.519876\n",
            "[805/3000] Train Acc: 0.996450 Loss: 0.009059 | Val Acc: 0.869976 loss: 2.581650\n",
            "[806/3000] Train Acc: 0.995858 Loss: 0.007799 | Val Acc: 0.873522 loss: 2.572532\n",
            "[807/3000] Train Acc: 0.998225 Loss: 0.008749 | Val Acc: 0.874704 loss: 2.559352\n",
            "[808/3000] Train Acc: 0.997633 Loss: 0.007489 | Val Acc: 0.869976 loss: 2.514519\n",
            "[809/3000] Train Acc: 0.995858 Loss: 0.010599 | Val Acc: 0.871158 loss: 2.579808\n",
            "[810/3000] Train Acc: 0.997041 Loss: 0.015829 | Val Acc: 0.872340 loss: 2.526851\n",
            "[811/3000] Train Acc: 0.997929 Loss: 0.011239 | Val Acc: 0.875887 loss: 2.532029\n",
            "[812/3000] Train Acc: 0.996746 Loss: 0.009601 | Val Acc: 0.873522 loss: 2.543932\n",
            "[813/3000] Train Acc: 0.995562 Loss: 0.008347 | Val Acc: 0.868794 loss: 2.544750\n",
            "[814/3000] Train Acc: 0.997337 Loss: 0.006974 | Val Acc: 0.869976 loss: 2.608719\n",
            "[815/3000] Train Acc: 0.996450 Loss: 0.007356 | Val Acc: 0.868794 loss: 2.547168\n",
            "[816/3000] Train Acc: 0.996746 Loss: 0.007847 | Val Acc: 0.869976 loss: 2.561355\n",
            "[817/3000] Train Acc: 0.997929 Loss: 0.006667 | Val Acc: 0.874704 loss: 2.566217\n",
            "[818/3000] Train Acc: 0.994083 Loss: 0.014923 | Val Acc: 0.871158 loss: 2.552001\n",
            "[819/3000] Train Acc: 0.998521 Loss: 0.005889 | Val Acc: 0.873522 loss: 2.548180\n",
            "[820/3000] Train Acc: 0.998817 Loss: 0.005997 | Val Acc: 0.873522 loss: 2.491854\n",
            "[821/3000] Train Acc: 0.997337 Loss: 0.009487 | Val Acc: 0.866430 loss: 2.601065\n",
            "[822/3000] Train Acc: 0.998521 Loss: 0.005695 | Val Acc: 0.871158 loss: 2.534690\n",
            "[823/3000] Train Acc: 0.996746 Loss: 0.009319 | Val Acc: 0.871158 loss: 2.573575\n",
            "[824/3000] Train Acc: 0.997337 Loss: 0.006818 | Val Acc: 0.872340 loss: 2.542603\n",
            "[825/3000] Train Acc: 0.995858 Loss: 0.008028 | Val Acc: 0.874704 loss: 2.583594\n",
            "[826/3000] Train Acc: 0.997633 Loss: 0.014954 | Val Acc: 0.869976 loss: 2.576898\n",
            "[827/3000] Train Acc: 0.998521 Loss: 0.006348 | Val Acc: 0.869976 loss: 2.551516\n",
            "[828/3000] Train Acc: 0.998225 Loss: 0.006147 | Val Acc: 0.871158 loss: 2.587275\n",
            "[829/3000] Train Acc: 0.995266 Loss: 0.012175 | Val Acc: 0.868794 loss: 2.626365\n",
            "[830/3000] Train Acc: 0.998225 Loss: 0.006924 | Val Acc: 0.873522 loss: 2.601897\n",
            "[831/3000] Train Acc: 0.998521 Loss: 0.010377 | Val Acc: 0.871158 loss: 2.546405\n",
            "[832/3000] Train Acc: 0.997929 Loss: 0.007456 | Val Acc: 0.869976 loss: 2.585545\n",
            "[833/3000] Train Acc: 0.996746 Loss: 0.010972 | Val Acc: 0.869976 loss: 2.565548\n",
            "[834/3000] Train Acc: 0.995562 Loss: 0.008546 | Val Acc: 0.868794 loss: 2.585689\n",
            "[835/3000] Train Acc: 0.997041 Loss: 0.008983 | Val Acc: 0.868794 loss: 2.630771\n",
            "[836/3000] Train Acc: 0.997633 Loss: 0.007352 | Val Acc: 0.868794 loss: 2.555608\n",
            "[837/3000] Train Acc: 0.996450 Loss: 0.013362 | Val Acc: 0.868794 loss: 2.590267\n",
            "[838/3000] Train Acc: 0.997337 Loss: 0.015752 | Val Acc: 0.871158 loss: 2.564682\n",
            "[839/3000] Train Acc: 0.996746 Loss: 0.008157 | Val Acc: 0.872340 loss: 2.503562\n",
            "[840/3000] Train Acc: 0.997041 Loss: 0.008303 | Val Acc: 0.873522 loss: 2.559672\n",
            "[841/3000] Train Acc: 0.997041 Loss: 0.007322 | Val Acc: 0.871158 loss: 2.593031\n",
            "[842/3000] Train Acc: 0.997633 Loss: 0.006843 | Val Acc: 0.871158 loss: 2.538730\n",
            "[843/3000] Train Acc: 0.998521 Loss: 0.006194 | Val Acc: 0.875887 loss: 2.625653\n",
            "[844/3000] Train Acc: 0.997633 Loss: 0.007866 | Val Acc: 0.872340 loss: 2.567131\n",
            "[845/3000] Train Acc: 0.998817 Loss: 0.004886 | Val Acc: 0.871158 loss: 2.540796\n",
            "[846/3000] Train Acc: 0.996746 Loss: 0.009726 | Val Acc: 0.868794 loss: 2.560738\n",
            "[847/3000] Train Acc: 0.997633 Loss: 0.007158 | Val Acc: 0.869976 loss: 2.523250\n",
            "[848/3000] Train Acc: 0.997337 Loss: 0.007546 | Val Acc: 0.867612 loss: 2.601408\n",
            "[849/3000] Train Acc: 0.996746 Loss: 0.009470 | Val Acc: 0.871158 loss: 2.583145\n",
            "[850/3000] Train Acc: 0.997633 Loss: 0.011194 | Val Acc: 0.868794 loss: 2.574069\n",
            "[851/3000] Train Acc: 0.995858 Loss: 0.011572 | Val Acc: 0.871158 loss: 2.565494\n",
            "[852/3000] Train Acc: 0.996746 Loss: 0.009443 | Val Acc: 0.871158 loss: 2.562398\n",
            "[853/3000] Train Acc: 0.998225 Loss: 0.018767 | Val Acc: 0.872340 loss: 2.519886\n",
            "[854/3000] Train Acc: 0.997633 Loss: 0.007406 | Val Acc: 0.869976 loss: 2.594573\n",
            "[855/3000] Train Acc: 0.998225 Loss: 0.005750 | Val Acc: 0.872340 loss: 2.571088\n",
            "[856/3000] Train Acc: 0.999112 Loss: 0.006916 | Val Acc: 0.871158 loss: 2.572018\n",
            "[857/3000] Train Acc: 0.998817 Loss: 0.005920 | Val Acc: 0.869976 loss: 2.591067\n",
            "[858/3000] Train Acc: 0.997633 Loss: 0.005893 | Val Acc: 0.869976 loss: 2.577216\n",
            "[859/3000] Train Acc: 0.998521 Loss: 0.005597 | Val Acc: 0.868794 loss: 2.565985\n",
            "[860/3000] Train Acc: 0.997633 Loss: 0.014020 | Val Acc: 0.871158 loss: 2.580107\n",
            "[861/3000] Train Acc: 0.997337 Loss: 0.012490 | Val Acc: 0.871158 loss: 2.568942\n",
            "[862/3000] Train Acc: 0.998225 Loss: 0.007747 | Val Acc: 0.867612 loss: 2.570216\n",
            "[863/3000] Train Acc: 0.997041 Loss: 0.015033 | Val Acc: 0.871158 loss: 2.592500\n",
            "[864/3000] Train Acc: 0.998521 Loss: 0.006230 | Val Acc: 0.871158 loss: 2.545456\n",
            "[865/3000] Train Acc: 0.998225 Loss: 0.006182 | Val Acc: 0.874704 loss: 2.562222\n",
            "[866/3000] Train Acc: 0.997929 Loss: 0.008348 | Val Acc: 0.872340 loss: 2.571423\n",
            "[867/3000] Train Acc: 0.995562 Loss: 0.009424 | Val Acc: 0.871158 loss: 2.608776\n",
            "[868/3000] Train Acc: 0.996746 Loss: 0.007733 | Val Acc: 0.868794 loss: 2.608976\n",
            "[869/3000] Train Acc: 0.998225 Loss: 0.007682 | Val Acc: 0.872340 loss: 2.569148\n",
            "[870/3000] Train Acc: 0.998521 Loss: 0.013807 | Val Acc: 0.873522 loss: 2.554360\n",
            "[871/3000] Train Acc: 0.998225 Loss: 0.007952 | Val Acc: 0.871158 loss: 2.575433\n",
            "[872/3000] Train Acc: 0.996746 Loss: 0.007211 | Val Acc: 0.872340 loss: 2.561496\n",
            "[873/3000] Train Acc: 0.997337 Loss: 0.008872 | Val Acc: 0.869976 loss: 2.621960\n",
            "[874/3000] Train Acc: 0.998225 Loss: 0.006699 | Val Acc: 0.872340 loss: 2.563978\n",
            "[875/3000] Train Acc: 0.997041 Loss: 0.009604 | Val Acc: 0.873522 loss: 2.552827\n",
            "[876/3000] Train Acc: 0.996450 Loss: 0.007960 | Val Acc: 0.874704 loss: 2.566709\n",
            "[877/3000] Train Acc: 0.997929 Loss: 0.005542 | Val Acc: 0.873522 loss: 2.583617\n",
            "[878/3000] Train Acc: 0.997633 Loss: 0.008453 | Val Acc: 0.874704 loss: 2.547866\n",
            "[879/3000] Train Acc: 0.996450 Loss: 0.007766 | Val Acc: 0.871158 loss: 2.567334\n",
            "[880/3000] Train Acc: 0.995562 Loss: 0.017655 | Val Acc: 0.874704 loss: 2.549666\n",
            "[881/3000] Train Acc: 0.997041 Loss: 0.006680 | Val Acc: 0.869976 loss: 2.561911\n",
            "[882/3000] Train Acc: 0.997041 Loss: 0.014426 | Val Acc: 0.871158 loss: 2.579628\n",
            "[883/3000] Train Acc: 0.997337 Loss: 0.007763 | Val Acc: 0.871158 loss: 2.568416\n",
            "[884/3000] Train Acc: 0.997929 Loss: 0.008311 | Val Acc: 0.871158 loss: 2.540019\n",
            "[885/3000] Train Acc: 0.998225 Loss: 0.006218 | Val Acc: 0.873522 loss: 2.535316\n",
            "[886/3000] Train Acc: 0.996450 Loss: 0.007825 | Val Acc: 0.871158 loss: 2.568089\n",
            "[887/3000] Train Acc: 0.994379 Loss: 0.015482 | Val Acc: 0.872340 loss: 2.592480\n",
            "[888/3000] Train Acc: 0.997041 Loss: 0.009168 | Val Acc: 0.872340 loss: 2.567079\n",
            "[889/3000] Train Acc: 0.999112 Loss: 0.006010 | Val Acc: 0.868794 loss: 2.540445\n",
            "[890/3000] Train Acc: 0.997633 Loss: 0.009680 | Val Acc: 0.872340 loss: 2.605071\n",
            "[891/3000] Train Acc: 0.997929 Loss: 0.010226 | Val Acc: 0.868794 loss: 2.590448\n",
            "[892/3000] Train Acc: 0.997633 Loss: 0.005857 | Val Acc: 0.872340 loss: 2.543618\n",
            "[893/3000] Train Acc: 0.996450 Loss: 0.011031 | Val Acc: 0.869976 loss: 2.594056\n",
            "[894/3000] Train Acc: 0.998225 Loss: 0.006285 | Val Acc: 0.868794 loss: 2.546014\n",
            "[895/3000] Train Acc: 0.997633 Loss: 0.008610 | Val Acc: 0.873522 loss: 2.548045\n",
            "[896/3000] Train Acc: 0.997633 Loss: 0.007274 | Val Acc: 0.867612 loss: 2.586403\n",
            "[897/3000] Train Acc: 0.998521 Loss: 0.005435 | Val Acc: 0.872340 loss: 2.564650\n",
            "[898/3000] Train Acc: 0.997633 Loss: 0.007199 | Val Acc: 0.866430 loss: 2.581572\n",
            "[899/3000] Train Acc: 0.996450 Loss: 0.010457 | Val Acc: 0.872340 loss: 2.576511\n",
            "[900/3000] Train Acc: 0.995562 Loss: 0.009338 | Val Acc: 0.871158 loss: 2.627060\n",
            "[901/3000] Train Acc: 0.996746 Loss: 0.008870 | Val Acc: 0.872340 loss: 2.607723\n",
            "[902/3000] Train Acc: 0.997337 Loss: 0.007875 | Val Acc: 0.868794 loss: 2.560796\n",
            "[903/3000] Train Acc: 0.998521 Loss: 0.006076 | Val Acc: 0.869976 loss: 2.602051\n",
            "[904/3000] Train Acc: 0.998225 Loss: 0.007693 | Val Acc: 0.868794 loss: 2.577010\n",
            "[905/3000] Train Acc: 0.999112 Loss: 0.005504 | Val Acc: 0.869976 loss: 2.568071\n",
            "[906/3000] Train Acc: 0.998521 Loss: 0.006160 | Val Acc: 0.869976 loss: 2.559804\n",
            "[907/3000] Train Acc: 0.997633 Loss: 0.007040 | Val Acc: 0.868794 loss: 2.552141\n",
            "[908/3000] Train Acc: 0.999112 Loss: 0.006296 | Val Acc: 0.867612 loss: 2.635835\n",
            "[909/3000] Train Acc: 0.996746 Loss: 0.007643 | Val Acc: 0.871158 loss: 2.545960\n",
            "[910/3000] Train Acc: 0.996746 Loss: 0.008259 | Val Acc: 0.869976 loss: 2.518026\n",
            "[911/3000] Train Acc: 0.999704 Loss: 0.006151 | Val Acc: 0.872340 loss: 2.584915\n",
            "[912/3000] Train Acc: 0.996746 Loss: 0.011866 | Val Acc: 0.872340 loss: 2.587351\n",
            "[913/3000] Train Acc: 0.997633 Loss: 0.009436 | Val Acc: 0.869976 loss: 2.582207\n",
            "[914/3000] Train Acc: 0.997041 Loss: 0.008841 | Val Acc: 0.869976 loss: 2.570736\n",
            "[915/3000] Train Acc: 0.996746 Loss: 0.010358 | Val Acc: 0.872340 loss: 2.643392\n",
            "[916/3000] Train Acc: 0.998225 Loss: 0.006963 | Val Acc: 0.867612 loss: 2.604362\n",
            "[917/3000] Train Acc: 0.998521 Loss: 0.008124 | Val Acc: 0.872340 loss: 2.634604\n",
            "[918/3000] Train Acc: 0.997929 Loss: 0.007801 | Val Acc: 0.868794 loss: 2.594610\n",
            "[919/3000] Train Acc: 0.998521 Loss: 0.008921 | Val Acc: 0.868794 loss: 2.618572\n",
            "[920/3000] Train Acc: 0.996154 Loss: 0.007658 | Val Acc: 0.868794 loss: 2.598836\n",
            "[921/3000] Train Acc: 0.998521 Loss: 0.007597 | Val Acc: 0.867612 loss: 2.593515\n",
            "[922/3000] Train Acc: 0.996746 Loss: 0.008405 | Val Acc: 0.869976 loss: 2.618949\n",
            "[923/3000] Train Acc: 0.997929 Loss: 0.007672 | Val Acc: 0.869976 loss: 2.577554\n",
            "[924/3000] Train Acc: 1.000000 Loss: 0.005392 | Val Acc: 0.868794 loss: 2.573008\n",
            "[925/3000] Train Acc: 0.998817 Loss: 0.009445 | Val Acc: 0.873522 loss: 2.582577\n",
            "[926/3000] Train Acc: 0.998225 Loss: 0.005580 | Val Acc: 0.867612 loss: 2.605730\n",
            "[927/3000] Train Acc: 0.998225 Loss: 0.008167 | Val Acc: 0.869976 loss: 2.609355\n",
            "[928/3000] Train Acc: 0.997337 Loss: 0.009680 | Val Acc: 0.872340 loss: 2.554777\n",
            "[929/3000] Train Acc: 0.997929 Loss: 0.008938 | Val Acc: 0.868794 loss: 2.562381\n",
            "[930/3000] Train Acc: 0.997633 Loss: 0.008543 | Val Acc: 0.874704 loss: 2.551323\n",
            "[931/3000] Train Acc: 0.998817 Loss: 0.006513 | Val Acc: 0.869976 loss: 2.589316\n",
            "[932/3000] Train Acc: 0.997041 Loss: 0.007524 | Val Acc: 0.868794 loss: 2.573923\n",
            "[933/3000] Train Acc: 0.997633 Loss: 0.012899 | Val Acc: 0.871158 loss: 2.575025\n",
            "[934/3000] Train Acc: 0.998225 Loss: 0.008051 | Val Acc: 0.871158 loss: 2.601804\n",
            "[935/3000] Train Acc: 0.997929 Loss: 0.005026 | Val Acc: 0.867612 loss: 2.622529\n",
            "[936/3000] Train Acc: 0.997041 Loss: 0.012124 | Val Acc: 0.868794 loss: 2.555189\n"
          ]
        }
      ]
    },
    {
      "cell_type": "code",
      "source": [
        "print(f'Training use {round(end_time - start_time, 3)}s')"
      ],
      "metadata": {
        "id": "NLnpYLpwYlop",
        "outputId": "55eadc28-e6b7-4ea2-9195-9f7d99249e64",
        "colab": {
          "base_uri": "https://localhost:8080/"
        }
      },
      "execution_count": 249,
      "outputs": [
        {
          "output_type": "stream",
          "name": "stdout",
          "text": [
            "Training use 188.597s\n"
          ]
        }
      ]
    },
    {
      "cell_type": "code",
      "source": [
        "def plot_learning_curve(train_record, valid_record, title=''):\n",
        "    total_steps = len(train_record)\n",
        "    x = range(total_steps)\n",
        "    plt.figure(figsize=(6, 4))\n",
        "    plt.plot(x, train_record, c='tab:red', label='train')\n",
        "    plt.plot(x, valid_record, c='tab:cyan', label='valid')\n",
        "    plt.ylim(0.0, max(valid_record) + 1)\n",
        "    plt.xlabel('Training epoch')\n",
        "    plt.ylabel(title)\n",
        "    plt.title('Learning curve of {}'.format(title))\n",
        "    plt.legend()\n",
        "    plt.show()"
      ],
      "metadata": {
        "id": "ZX4SmxBQIIcU"
      },
      "execution_count": 250,
      "outputs": []
    },
    {
      "cell_type": "code",
      "source": [
        "plot_learning_curve(train_acc_list, val_acc_list, 'Acc')"
      ],
      "metadata": {
        "id": "CukLL-yVJFdu",
        "outputId": "8f38f068-3e2d-438d-b789-9731dcde9ff7",
        "colab": {
          "base_uri": "https://localhost:8080/",
          "height": 295
        }
      },
      "execution_count": 251,
      "outputs": [
        {
          "output_type": "display_data",
          "data": {
            "image/png": "[encoded data removed]",
            "text/plain": [
              "<Figure size 432x288 with 1 Axes>"
            ]
          },
          "metadata": {
            "needs_background": "light"
          }
        }
      ]
    },
    {
      "cell_type": "code",
      "source": [
        "plot_learning_curve(train_loss_list, val_loss_list, 'Loss')"
      ],
      "metadata": {
        "id": "LUDXf-nKJQKU",
        "outputId": "9b24c20b-77ec-4ec9-e315-7d46de517289",
        "colab": {
          "base_uri": "https://localhost:8080/",
          "height": 295
        }
      },
      "execution_count": 252,
      "outputs": [
        {
          "output_type": "display_data",
          "data": {
            "image/png": "[encoded data removed]",
            "text/plain": [
              "<Figure size 432x288 with 1 Axes>"
            ]
          },
          "metadata": {
            "needs_background": "light"
          }
        }
      ]
    },
    {
      "cell_type": "code",
      "source": [
        "model = Classifier().to(device)\n",
        "model.load_state_dict(torch.load(model_path, map_location=device))\n",
        "\n",
        "model.eval() # set the model to evaluation mode\n",
        "train_predict = []\n",
        "err = 0\n",
        "for i, data in enumerate(train_loader):\n",
        "    inputs, labels = data\n",
        "    inputs, labels = inputs.to(device), labels.to(device)\n",
        "    outputs = model(inputs)\n",
        "    _, test_pred = torch.max(outputs, 1) # get the index of the class with the highest probability\n",
        "\n",
        "    for y in test_pred.cpu().numpy():\n",
        "        train_predict.append(y)\n",
        "\n",
        "Ein = np.mean(np.array(train_predict) != train_y)\n",
        "F1in = metrics.f1_score(train_y, train_predict, average='macro')  \n",
        "print(f'Ein = {round(Ein, 5)}')\n",
        "print(f'F1_in = {round(F1in, 5)}')\n",
        "\n",
        "val_predict = []\n",
        "for i, data in enumerate(val_loader):\n",
        "    inputs = data[0]\n",
        "    inputs = inputs.to(device)\n",
        "    outputs = model(inputs)\n",
        "    _, test_pred = torch.max(outputs, 1) # get the index of the class with the highest probability\n",
        "\n",
        "    for y in test_pred.cpu().numpy():\n",
        "        val_predict.append(y)\n",
        "\n",
        "Eval = np.mean(np.array(val_predict) != val_y)\n",
        "F1val = metrics.f1_score(val_y, val_predict, average='macro')  \n",
        "print(f'Eval = {round(Eval, 5)}')\n",
        "print(f'F1_val = {round(F1val, 5)}')"
      ],
      "metadata": {
        "id": "zCQ8Si4Yg5nh",
        "outputId": "43acee42-a090-42ff-bdac-13b78204a08d",
        "colab": {
          "base_uri": "https://localhost:8080/"
        }
      },
      "execution_count": 253,
      "outputs": [
        {
          "output_type": "stream",
          "name": "stdout",
          "text": [
            "Ein = 0.43521\n",
            "F1_in = 0.17846\n",
            "Eval = 0.11584\n",
            "F1_val = 0.65307\n"
          ]
        }
      ]
    },
    {
      "cell_type": "markdown",
      "source": [
        "# **Deep Neural Network Test**"
      ],
      "metadata": {
        "id": "ynT-KFltscT8"
      }
    },
    {
      "cell_type": "code",
      "source": [
        "sc = StandardScaler()\n",
        "ss = StandardScaler().fit(X_test)\n",
        "X_test_std = ss.transform(X_test)\n",
        "\n",
        "# create testing dataset\n",
        "test_set = IBMDataset(X_test_std, None)\n",
        "test_loader = DataLoader(test_set, batch_size=BATCH_SIZE, shuffle=False)\n",
        "\n",
        "# create model and load weights from checkpoint\n",
        "model = Classifier().to(device)\n",
        "model.load_state_dict(torch.load(model_path, map_location=device))"
      ],
      "metadata": {
        "id": "lukrC4MJWTjM",
        "outputId": "3ed96721-b9ca-4de0-e015-bbd1698f7c98",
        "colab": {
          "base_uri": "https://localhost:8080/"
        }
      },
      "execution_count": 254,
      "outputs": [
        {
          "output_type": "execute_result",
          "data": {
            "text/plain": [
              "<All keys matched successfully>"
            ]
          },
          "metadata": {},
          "execution_count": 254
        }
      ]
    },
    {
      "cell_type": "code",
      "source": [
        "predict = []\n",
        "model.eval() # set the model to evaluation mode\n",
        "for i, data in enumerate(test_loader):\n",
        "    inputs = data\n",
        "    inputs = inputs.to(device)\n",
        "    outputs = model(inputs)\n",
        "    _, test_pred = torch.max(outputs, 1) # get the index of the class with the highest probability\n",
        "\n",
        "    for y in test_pred.cpu().numpy():\n",
        "        predict.append(y)\n",
        "\n",
        "print(encoder_map)\n",
        "print(np.bincount(predict))"
      ],
      "metadata": {
        "id": "OlQ1d1fdVt_V",
        "outputId": "dd43c1c4-bf46-4f77-99d0-25ceadf39f97",
        "colab": {
          "base_uri": "https://localhost:8080/"
        }
      },
      "execution_count": 255,
      "outputs": [
        {
          "output_type": "stream",
          "name": "stdout",
          "text": [
            "{'Attitude': 0, 'Competitor': 1, 'Dissatisfaction': 2, 'No Churn': 3, 'Other': 4, 'Price': 5}\n",
            "[  79  179   59 1039   19   34]\n"
          ]
        }
      ]
    },
    {
      "cell_type": "code",
      "source": [
        "submit_result = './dnn_result.csv'\n",
        "\n",
        "new_encoder_map = {'No Churn':0, 'Competitor': 1, 'Dissatisfaction':2, 'Attitude': 3, 'Price':4, 'Other':5}\n",
        "\n",
        "with open(submit_result, 'w') as f:\n",
        "    f.write('Customer ID,Churn Category\\n')\n",
        "    for i in range(len(df_test.values)):\n",
        "        id = str(df_test.values[i]).replace('[\\'', '')\n",
        "        id = id.replace('\\']', '')\n",
        "        pred = new_encoder_map.get(list(encoder_map.keys())[list(encoder_map.values()).index(predict[i])])\n",
        "        f.write(f'{id},{pred}\\n')"
      ],
      "metadata": {
        "id": "11ImkbPjn6qP"
      },
      "execution_count": 256,
      "outputs": []
    },
    {
      "cell_type": "code",
      "source": [
        "from google.colab import files\n",
        "\n",
        "files.download(submit_result)\n",
        "files.download(model_path)"
      ],
      "metadata": {
        "id": "YICyBRaGo43O",
        "outputId": "e9b7f2e6-d174-4698-9a6c-c17566c42971",
        "colab": {
          "base_uri": "https://localhost:8080/",
          "height": 17
        }
      },
      "execution_count": 257,
      "outputs": [
        {
          "output_type": "display_data",
          "data": {
            "application/javascript": [
              "\n",
              "    async function download(id, filename, size) {\n",
              "      if (!google.colab.kernel.accessAllowed) {\n",
              "        return;\n",
              "      }\n",
              "      const div = document.createElement('div');\n",
              "      const label = document.createElement('label');\n",
              "      label.textContent = `Downloading \"${filename}\": `;\n",
              "      div.appendChild(label);\n",
              "      const progress = document.createElement('progress');\n",
              "      progress.max = size;\n",
              "      div.appendChild(progress);\n",
              "      document.body.appendChild(div);\n",
              "\n",
              "      const buffers = [];\n",
              "      let downloaded = 0;\n",
              "\n",
              "      const channel = await google.colab.kernel.comms.open(id);\n",
              "      // Send a message to notify the kernel that we're ready.\n",
              "      channel.send({})\n",
              "\n",
              "      for await (const message of channel.messages) {\n",
              "        // Send a message to notify the kernel that we're ready.\n",
              "        channel.send({})\n",
              "        if (message.buffers) {\n",
              "          for (const buffer of message.buffers) {\n",
              "            buffers.push(buffer);\n",
              "            downloaded += buffer.byteLength;\n",
              "            progress.value = downloaded;\n",
              "          }\n",
              "        }\n",
              "      }\n",
              "      const blob = new Blob(buffers, {type: 'application/binary'});\n",
              "      const a = document.createElement('a');\n",
              "      a.href = window.URL.createObjectURL(blob);\n",
              "      a.download = filename;\n",
              "      div.appendChild(a);\n",
              "      a.click();\n",
              "      div.remove();\n",
              "    }\n",
              "  "
            ],
            "text/plain": [
              "<IPython.core.display.Javascript object>"
            ]
          },
          "metadata": {}
        },
        {
          "output_type": "display_data",
          "data": {
            "application/javascript": [
              "download(\"download_ad4fdcaa-0a71-479b-bd59-ebdbde9cb848\", \"dnn_result.csv\", 18344)"
            ],
            "text/plain": [
              "<IPython.core.display.Javascript object>"
            ]
          },
          "metadata": {}
        },
        {
          "output_type": "display_data",
          "data": {
            "application/javascript": [
              "\n",
              "    async function download(id, filename, size) {\n",
              "      if (!google.colab.kernel.accessAllowed) {\n",
              "        return;\n",
              "      }\n",
              "      const div = document.createElement('div');\n",
              "      const label = document.createElement('label');\n",
              "      label.textContent = `Downloading \"${filename}\": `;\n",
              "      div.appendChild(label);\n",
              "      const progress = document.createElement('progress');\n",
              "      progress.max = size;\n",
              "      div.appendChild(progress);\n",
              "      document.body.appendChild(div);\n",
              "\n",
              "      const buffers = [];\n",
              "      let downloaded = 0;\n",
              "\n",
              "      const channel = await google.colab.kernel.comms.open(id);\n",
              "      // Send a message to notify the kernel that we're ready.\n",
              "      channel.send({})\n",
              "\n",
              "      for await (const message of channel.messages) {\n",
              "        // Send a message to notify the kernel that we're ready.\n",
              "        channel.send({})\n",
              "        if (message.buffers) {\n",
              "          for (const buffer of message.buffers) {\n",
              "            buffers.push(buffer);\n",
              "            downloaded += buffer.byteLength;\n",
              "            progress.value = downloaded;\n",
              "          }\n",
              "        }\n",
              "      }\n",
              "      const blob = new Blob(buffers, {type: 'application/binary'});\n",
              "      const a = document.createElement('a');\n",
              "      a.href = window.URL.createObjectURL(blob);\n",
              "      a.download = filename;\n",
              "      div.appendChild(a);\n",
              "      a.click();\n",
              "      div.remove();\n",
              "    }\n",
              "  "
            ],
            "text/plain": [
              "<IPython.core.display.Javascript object>"
            ]
          },
          "metadata": {}
        },
        {
          "output_type": "display_data",
          "data": {
            "application/javascript": [
              "download(\"download_cb121b41-a83a-4ffa-b285-67ef3e8194f5\", \"best_model.ckpt\", 770848)"
            ],
            "text/plain": [
              "<IPython.core.display.Javascript object>"
            ]
          },
          "metadata": {}
        }
      ]
    }
  ]
}