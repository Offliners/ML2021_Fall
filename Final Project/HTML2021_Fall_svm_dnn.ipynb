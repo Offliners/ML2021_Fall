{
  "nbformat": 4,
  "nbformat_minor": 0,
  "metadata": {
    "colab": {
      "name": "HTML2021_Fall.ipynb",
      "provenance": [],
      "include_colab_link": true
    },
    "kernelspec": {
      "name": "python3",
      "display_name": "Python 3"
    },
    "language_info": {
      "name": "python"
    },
    "accelerator": "GPU"
  },
  "cells": [
    {
      "cell_type": "markdown",
      "metadata": {
        "id": "view-in-github",
        "colab_type": "text"
      },
      "source": [
        "<a href=\"https://colab.research.google.com/github/Offliners/HTML_2021Fall/blob/main/Final%20Project/HTML2021_Fall_svm_dnn.ipynb\" target=\"_parent\"><img src=\"https://colab.research.google.com/assets/colab-badge.svg\" alt=\"Open In Colab\"/></a>"
      ]
    },
    {
      "cell_type": "markdown",
      "source": [
        "# **Directory**\n",
        "\n",
        "```\n",
        "data_dir\n",
        "    ├── data\n",
        "    │   ├── Test_IDs.csv\n",
        "    │   ├── ...\n",
        "    │   ├── status.csv\n",
        "    ├── statistics\n",
        "    │   ├── Churn Category_stat.png\n",
        "    │   ├── ...\n",
        "    │   ├── miss rate_stat.png\n",
        "```"
      ],
      "metadata": {
        "id": "PD40tT3p379e"
      }
    },
    {
      "cell_type": "markdown",
      "source": [
        "# **Display information of GPU**"
      ],
      "metadata": {
        "id": "ldW8_oif3EEr"
      }
    },
    {
      "cell_type": "code",
      "source": [
        "!nvidia-smi"
      ],
      "metadata": {
        "colab": {
          "base_uri": "https://localhost:8080/"
        },
        "id": "Qf0PLuNJf95W",
        "outputId": "407f1d5e-2802-4f40-93a4-4f3dfb43c5f0"
      },
      "execution_count": 1,
      "outputs": [
        {
          "output_type": "stream",
          "name": "stdout",
          "text": [
            "Thu Jan 13 02:00:07 2022       \n",
            "+-----------------------------------------------------------------------------+\n",
            "| NVIDIA-SMI 495.46       Driver Version: 460.32.03    CUDA Version: 11.2     |\n",
            "|-------------------------------+----------------------+----------------------+\n",
            "| GPU  Name        Persistence-M| Bus-Id        Disp.A | Volatile Uncorr. ECC |\n",
            "| Fan  Temp  Perf  Pwr:Usage/Cap|         Memory-Usage | GPU-Util  Compute M. |\n",
            "|                               |                      |               MIG M. |\n",
            "|===============================+======================+======================|\n",
            "|   0  Tesla T4            Off  | 00000000:00:04.0 Off |                    0 |\n",
            "| N/A   35C    P8     9W /  70W |      0MiB / 15109MiB |      0%      Default |\n",
            "|                               |                      |                  N/A |\n",
            "+-------------------------------+----------------------+----------------------+\n",
            "                                                                               \n",
            "+-----------------------------------------------------------------------------+\n",
            "| Processes:                                                                  |\n",
            "|  GPU   GI   CI        PID   Type   Process name                  GPU Memory |\n",
            "|        ID   ID                                                   Usage      |\n",
            "|=============================================================================|\n",
            "|  No running processes found                                                 |\n",
            "+-----------------------------------------------------------------------------+\n"
          ]
        }
      ]
    },
    {
      "cell_type": "markdown",
      "source": [
        "# **Download Dataset**"
      ],
      "metadata": {
        "id": "JxUhMWWmJPHv"
      }
    },
    {
      "cell_type": "code",
      "source": [
        "!mkdir \"./data\"\n",
        "!mkdir \"./statistics\"\n",
        "!gdown --id 1X5yz7QLAu4nttnCea4ALf6alae6Clv_o --output \"./data/dataset.zip\"\n",
        "!unzip -q \"./data/dataset.zip\" -d \"./data\"\n",
        "!rm \"./data/dataset.zip\""
      ],
      "metadata": {
        "colab": {
          "base_uri": "https://localhost:8080/"
        },
        "id": "zjX-fvNeKG3p",
        "outputId": "296c8f94-1de3-43e8-b6d8-c77a177adc31"
      },
      "execution_count": 2,
      "outputs": [
        {
          "output_type": "stream",
          "name": "stdout",
          "text": [
            "Downloading...\n",
            "From: https://drive.google.com/uc?id=1X5yz7QLAu4nttnCea4ALf6alae6Clv_o\n",
            "To: /content/data/dataset.zip\n",
            "\r  0% 0.00/660k [00:00<?, ?B/s]\r100% 660k/660k [00:00<00:00, 89.0MB/s]\n"
          ]
        }
      ]
    },
    {
      "cell_type": "markdown",
      "source": [
        "# **Import Some Packages**"
      ],
      "metadata": {
        "id": "hosMVZZWI_6B"
      }
    },
    {
      "cell_type": "code",
      "execution_count": 83,
      "metadata": {
        "id": "-lrHo2qeI-p9"
      },
      "outputs": [],
      "source": [
        "import time\n",
        "import numpy as np\n",
        "import pandas as pd\n",
        "from glob import glob\n",
        "from collections import Counter\n",
        "import matplotlib.pyplot as plt\n",
        "from sklearn.preprocessing import LabelEncoder\n",
        "from sklearn.svm import SVC\n",
        "from sklearn.preprocessing import StandardScaler, MinMaxScaler\n",
        "from sklearn import metrics\n",
        "from sklearn.metrics import plot_confusion_matrix, classification_report\n",
        "from imblearn.over_sampling import ADASYN\n",
        "import torch\n",
        "import torch.nn as nn\n",
        "from torch.utils.data import Dataset, DataLoader \n",
        "from torchsummary import summary\n",
        "from torch.optim.lr_scheduler import StepLR\n",
        "from google.colab import files"
      ]
    },
    {
      "cell_type": "markdown",
      "source": [
        "# **Set a Random Seed**"
      ],
      "metadata": {
        "id": "HH36XbKB0P3c"
      }
    },
    {
      "cell_type": "code",
      "source": [
        "# Set a random seed for reproducibility\n",
        "seed = 0\n",
        "np.random.seed(seed)\n",
        "torch.manual_seed(seed)\n",
        "if torch.cuda.is_available():\n",
        "    torch.cuda.manual_seed(seed)\n",
        "    torch.cuda.manual_seed_all(seed)  \n",
        "torch.backends.cudnn.benchmark = False\n",
        "torch.backends.cudnn.deterministic = True"
      ],
      "metadata": {
        "id": "sM7IyXfL0ekd"
      },
      "execution_count": 53,
      "outputs": []
    },
    {
      "cell_type": "markdown",
      "source": [
        "# **CSV Files Combination**"
      ],
      "metadata": {
        "id": "Q69ecrSlJpyT"
      }
    },
    {
      "cell_type": "code",
      "source": [
        "train_path = './data/Train_IDs.csv'  # path to training data\n",
        "test_path = './data/Test_IDs.csv'    # path to testing data\n",
        "\n",
        "files = glob('./data/*.csv')\n",
        "data_csv = []\n",
        "data_csv.append(train_path)\n",
        "for csv in files:\n",
        "    if ('IDs' not in csv) and ('sample' not in csv) and ('population' not in csv) and ('result' not in csv):\n",
        "        data_csv.append(csv)\n",
        "  \n",
        "print(data_csv)\n",
        "df_list = [pd.read_csv(file) for file in data_csv]"
      ],
      "metadata": {
        "colab": {
          "base_uri": "https://localhost:8080/"
        },
        "id": "PubV0z-fNFWK",
        "outputId": "5028cbfa-fe0b-4a7e-b4f3-8a155a241b72"
      },
      "execution_count": 54,
      "outputs": [
        {
          "output_type": "stream",
          "name": "stdout",
          "text": [
            "['./data/Train_IDs.csv', './data/location.csv', './data/services.csv', './data/demographics.csv', './data/status.csv', './data/satisfaction.csv']\n"
          ]
        }
      ]
    },
    {
      "cell_type": "code",
      "source": [
        "result_total = df_list[0]\n",
        "for df in df_list[1:]:\n",
        "    result_total = pd.merge(result_total, df, how='outer', on='Customer ID')\n",
        "\n",
        "result_total.to_csv('./data/result_total.csv') # Save combined all result to result_total.csv"
      ],
      "metadata": {
        "id": "gsRnzcD243J2"
      },
      "execution_count": 55,
      "outputs": []
    },
    {
      "cell_type": "code",
      "source": [
        "# There are 7043 total customer data\n",
        "print(result_total)"
      ],
      "metadata": {
        "id": "HmdXTPLLuLnc",
        "outputId": "1b905b0f-f8a0-4b52-8499-70921a1c1283",
        "colab": {
          "base_uri": "https://localhost:8080/"
        }
      },
      "execution_count": 56,
      "outputs": [
        {
          "output_type": "stream",
          "name": "stdout",
          "text": [
            "     Customer ID  Count_x  ... Churn Category Satisfaction Score\n",
            "0     0650-BWOZN      NaN  ...     Competitor                1.0\n",
            "1     0562-FGDCR      1.0  ...     Competitor                1.0\n",
            "2     6688-UZPWD      1.0  ...       No Churn                NaN\n",
            "3     2905-KFQUV      1.0  ...     Competitor                3.0\n",
            "4     9720-JJJOR      1.0  ...       No Churn                NaN\n",
            "...          ...      ...  ...            ...                ...\n",
            "7038  3426-NIYYL      NaN  ...            NaN                NaN\n",
            "7039  5666-CYCYZ      NaN  ...            NaN                3.0\n",
            "7040  8263-JQAIK      NaN  ...            NaN                3.0\n",
            "7041  2754-SDJRD      NaN  ...            NaN                1.0\n",
            "7042  3251-YMVWZ      NaN  ...            NaN                3.0\n",
            "\n",
            "[7043 rows x 48 columns]\n"
          ]
        }
      ]
    },
    {
      "cell_type": "code",
      "source": [
        "# Train_IDs has 5634 customer data\n",
        "result_train = df_list[0]\n",
        "for df in df_list[1:]:\n",
        "    result_train = pd.merge(result_train, df, how='left', on='Customer ID')\n",
        "\n",
        "print(result_train)"
      ],
      "metadata": {
        "id": "XC9OTia4vQyw",
        "outputId": "500a5589-35a7-46c0-b218-0cdf4c80632a",
        "colab": {
          "base_uri": "https://localhost:8080/"
        }
      },
      "execution_count": 57,
      "outputs": [
        {
          "output_type": "stream",
          "name": "stdout",
          "text": [
            "     Customer ID  Count_x  ... Churn Category Satisfaction Score\n",
            "0     0650-BWOZN      NaN  ...     Competitor                1.0\n",
            "1     0562-FGDCR      1.0  ...     Competitor                1.0\n",
            "2     6688-UZPWD      1.0  ...       No Churn                NaN\n",
            "3     2905-KFQUV      1.0  ...     Competitor                3.0\n",
            "4     9720-JJJOR      1.0  ...       No Churn                NaN\n",
            "...          ...      ...  ...            ...                ...\n",
            "5629  1178-PZGAB      NaN  ...            NaN                3.0\n",
            "5630  4806-KEXQR      1.0  ...            NaN                3.0\n",
            "5631  8809-RIHDD      NaN  ...       No Churn                4.0\n",
            "5632  6663-JOCQO      NaN  ...       No Churn                NaN\n",
            "5633  7010-ZMVBF      1.0  ...       No Churn                4.0\n",
            "\n",
            "[5634 rows x 48 columns]\n"
          ]
        }
      ]
    },
    {
      "cell_type": "code",
      "source": [
        "# Test_Ids has 1409 customer data\n",
        "df_test = pd.read_csv(test_path)\n",
        "result_test = df_test\n",
        "for df in df_list[1:]:\n",
        "    result_test = pd.merge(result_test, df, how='left', on='Customer ID')\n",
        "\n",
        "print(result_test)"
      ],
      "metadata": {
        "id": "fE-wQXgit9JQ",
        "outputId": "8cc102ac-9d9c-4039-80f4-bc63edc5cbbe",
        "colab": {
          "base_uri": "https://localhost:8080/"
        }
      },
      "execution_count": 58,
      "outputs": [
        {
          "output_type": "stream",
          "name": "stdout",
          "text": [
            "     Customer ID  Count_x  ... Churn Category Satisfaction Score\n",
            "0     9938-EKRGF      1.0  ...            NaN                3.0\n",
            "1     7379-POKDZ      1.0  ...            NaN                4.0\n",
            "2     0654-HMSHN      1.0  ...            NaN                5.0\n",
            "3     2045-BMBTJ      NaN  ...            NaN                NaN\n",
            "4     0701-TJSEF      1.0  ...            NaN                NaN\n",
            "...          ...      ...  ...            ...                ...\n",
            "1404  4587-VVTOX      1.0  ...            NaN                4.0\n",
            "1405  7716-YTYHG      1.0  ...            NaN                NaN\n",
            "1406  7649-PHJVR      NaN  ...            NaN                1.0\n",
            "1407  7855-DIWPO      1.0  ...            NaN                NaN\n",
            "1408  8197-BFWVU      1.0  ...            NaN                3.0\n",
            "\n",
            "[1409 rows x 48 columns]\n"
          ]
        }
      ]
    },
    {
      "cell_type": "code",
      "source": [
        "print(result_total.dropna()) # Find customer with full data infomation"
      ],
      "metadata": {
        "colab": {
          "base_uri": "https://localhost:8080/"
        },
        "id": "7wbcLdCPLMBV",
        "outputId": "18946338-0fb2-4fbb-846c-29f29886507a"
      },
      "execution_count": 59,
      "outputs": [
        {
          "output_type": "stream",
          "name": "stdout",
          "text": [
            "     Customer ID  Count_x  ...   Churn Category Satisfaction Score\n",
            "666   0454-OKRCT      1.0  ...         No Churn                4.0\n",
            "678   1735-XMJVH      1.0  ...         No Churn                5.0\n",
            "1799  1245-HARPS      1.0  ...  Dissatisfaction                1.0\n",
            "2805  8445-DNBAE      1.0  ...       Competitor                1.0\n",
            "2883  8708-XPXHZ      1.0  ...         No Churn                3.0\n",
            "3062  9522-ZSINC      1.0  ...         No Churn                4.0\n",
            "4297  0836-SEYLU      1.0  ...         No Churn                3.0\n",
            "5146  7274-RTAPZ      1.0  ...         No Churn                5.0\n",
            "\n",
            "[8 rows x 48 columns]\n"
          ]
        }
      ]
    },
    {
      "cell_type": "code",
      "source": [
        "result_cols = result_total.columns\n",
        "print(result_cols)"
      ],
      "metadata": {
        "colab": {
          "base_uri": "https://localhost:8080/"
        },
        "id": "h42U-NQJkntr",
        "outputId": "64c00fa6-80f7-4123-b3c0-36067af9abac"
      },
      "execution_count": 60,
      "outputs": [
        {
          "output_type": "stream",
          "name": "stdout",
          "text": [
            "Index(['Customer ID', 'Count_x', 'Country', 'State', 'City', 'Zip Code',\n",
            "       'Lat Long', 'Latitude', 'Longitude', 'Count_y', 'Quarter',\n",
            "       'Referred a Friend', 'Number of Referrals', 'Tenure in Months', 'Offer',\n",
            "       'Phone Service', 'Avg Monthly Long Distance Charges', 'Multiple Lines',\n",
            "       'Internet Service', 'Internet Type', 'Avg Monthly GB Download',\n",
            "       'Online Security', 'Online Backup', 'Device Protection Plan',\n",
            "       'Premium Tech Support', 'Streaming TV', 'Streaming Movies',\n",
            "       'Streaming Music', 'Unlimited Data', 'Contract', 'Paperless Billing',\n",
            "       'Payment Method', 'Monthly Charge', 'Total Charges', 'Total Refunds',\n",
            "       'Total Extra Data Charges', 'Total Long Distance Charges',\n",
            "       'Total Revenue', 'Count', 'Gender', 'Age', 'Under 30', 'Senior Citizen',\n",
            "       'Married', 'Dependents', 'Number of Dependents', 'Churn Category',\n",
            "       'Satisfaction Score'],\n",
            "      dtype='object')\n"
          ]
        }
      ]
    },
    {
      "cell_type": "code",
      "source": [
        "missing = result_train.isnull().sum().reset_index().rename(columns={0:'missNum'})\n",
        "missing['missRate'] = missing['missNum'] / result_train.shape[0]\n",
        "miss_analy = missing[missing.missRate > 0].sort_values(by='missRate', ascending=False)\n",
        "\n",
        "fig = plt.figure(figsize=(18, 6))\n",
        "plt.bar(np.arange(miss_analy.shape[0]), list(miss_analy.missRate.values), align='center')\n",
        "\n",
        "plt.title('Histogram of missing value of variables of training dataset')\n",
        "plt.xlabel('variables names')\n",
        "plt.ylabel('missing rate')\n",
        "plt.xticks(np.arange(miss_analy.shape[0]), list(miss_analy['index']))\n",
        "plt.xticks(rotation=90)\n",
        "for x, y in enumerate(list(miss_analy.missRate.values)):\n",
        "    plt.text(x, y + 0.12, '{:.2%}'.format(y), ha='center', rotation=90)    \n",
        "\n",
        "plt.ylim([0, 1.2])  \n",
        "plt.savefig(f'./statistics/miss rate_train_stat.png')  \n",
        "plt.show()\n",
        "plt.close()"
      ],
      "metadata": {
        "id": "HDjocf2IYbFs",
        "outputId": "e1d6df71-4453-410f-9f69-0d4e08d09574",
        "colab": {
          "base_uri": "https://localhost:8080/",
          "height": 574
        }
      },
      "execution_count": 61,
      "outputs": [
        {
          "output_type": "display_data",
          "data": {
            "image/png": "[encoded data removed]",
            "text/plain": [
              "<Figure size 1296x432 with 1 Axes>"
            ]
          },
          "metadata": {
            "needs_background": "light"
          }
        }
      ]
    },
    {
      "cell_type": "code",
      "source": [
        "missing = result_test.isnull().sum().reset_index().rename(columns={0:'missNum'})\n",
        "missing['missRate'] = missing['missNum'] / result_test.shape[0]\n",
        "miss_analy = missing[missing.missRate > 0].sort_values(by='missRate', ascending=False)\n",
        "\n",
        "fig = plt.figure(figsize=(18, 6))\n",
        "plt.bar(np.arange(miss_analy.shape[0]), list(miss_analy.missRate.values), align='center')\n",
        "\n",
        "plt.title('Histogram of missing value of variables of test dataset')\n",
        "plt.xlabel('variables names')\n",
        "plt.ylabel('missing rate')\n",
        "plt.xticks(np.arange(miss_analy.shape[0]), list(miss_analy['index']))\n",
        "plt.xticks(rotation=90)\n",
        "for x, y in enumerate(list(miss_analy.missRate.values)):\n",
        "    plt.text(x, y + 0.12, '{:.2%}'.format(y), ha='center', rotation=90)    \n",
        "\n",
        "plt.ylim([0, 1.4])  \n",
        "plt.savefig(f'./statistics/miss rate_test_stat.png')  \n",
        "plt.show()\n",
        "plt.close()"
      ],
      "metadata": {
        "colab": {
          "base_uri": "https://localhost:8080/",
          "height": 574
        },
        "id": "BVN8BclJkD1J",
        "outputId": "7c7ea201-d643-4812-f37a-c82b4c73ece4"
      },
      "execution_count": 62,
      "outputs": [
        {
          "output_type": "display_data",
          "data": {
            "image/png": "[encoded data removed]",
            "text/plain": [
              "<Figure size 1296x432 with 1 Axes>"
            ]
          },
          "metadata": {
            "needs_background": "light"
          }
        }
      ]
    },
    {
      "cell_type": "markdown",
      "source": [
        "# **Statistics and Data Preprocessing**"
      ],
      "metadata": {
        "id": "eYyJOoclqCFk"
      }
    },
    {
      "cell_type": "code",
      "source": [
        "result_train_copy = result_train.copy(deep=True)\n",
        "result_test_copy = result_test.copy(deep=True)\n",
        "def label_statistics(label):\n",
        "    freq = result_train.groupby(label).size() \n",
        "\n",
        "    names = [name for name, _ in freq.items()]\n",
        "    counts = [count for _, count in freq.items()]\n",
        "\n",
        "    fig = plt.figure(figsize=(8, 6))\n",
        "    x = np.arange(len(names))\n",
        "    plt.bar(x, counts)\n",
        "    plt.xticks(x, names, rotation=15)\n",
        "    plt.title(f'Statistics of {label}')\n",
        "    plt.savefig(f'./statistics/Statistics of {label}.png')\n",
        "    print(f'Statistics of {label}.png saved')\n",
        "    plt.close()\n",
        "\n",
        "    # Replace NaN with random choice label with the original distribution\n",
        "    probability = [p / np.sum(counts) for p in counts]\n",
        "    result_train_copy[label] = result_train_copy[label].apply(lambda x: np.random.choice(names, p=probability) if pd.isnull(x) else x)\n",
        "    result_test_copy[label] = result_test_copy[label].apply(lambda x: np.random.choice(names, p=probability) if pd.isnull(x) else x)"
      ],
      "metadata": {
        "id": "ho-LNzp4g_Eb"
      },
      "execution_count": 63,
      "outputs": []
    },
    {
      "cell_type": "code",
      "source": [
        "need_statistics_col = ['Churn Category', 'Satisfaction Score', \n",
        "       'Gender', 'Under 30', 'Senior Citizen', 'Married', 'Dependents',\n",
        "       'Number of Dependents', 'Country', 'State', 'City', 'Quarter',\n",
        "       'Referred a Friend', 'Number of Referrals', 'Offer',\n",
        "       'Phone Service', 'Multiple Lines', 'Internet Service', 'Internet Type',\n",
        "       'Online Security', 'Online Backup', 'Device Protection Plan',\n",
        "       'Premium Tech Support', 'Streaming TV', 'Streaming Movies',\n",
        "       'Streaming Music', 'Unlimited Data', 'Contract', 'Paperless Billing',\n",
        "       'Payment Method', 'Count_x', 'Count_y', 'Count', 'Zip Code']\n",
        "\n",
        "# Replace NaN with the most frequent label\n",
        "for need_col in need_statistics_col:\n",
        "    label_statistics(need_col)\n",
        "\n",
        "    # Encode target labels with value\n",
        "    le = LabelEncoder()\n",
        "    result_train_copy[need_col] = le.fit_transform(result_train_copy[need_col])\n",
        "    result_test_copy[need_col] = le.fit_transform(result_test_copy[need_col])\n",
        "\n",
        "    if need_col == 'Churn Category':\n",
        "        encoder_map = dict(zip(le.classes_, le.transform(le.classes_)))"
      ],
      "metadata": {
        "colab": {
          "base_uri": "https://localhost:8080/"
        },
        "id": "Pl4omt-mIGDW",
        "outputId": "bef8c950-17de-4a57-ed4c-12a6679a620e"
      },
      "execution_count": 64,
      "outputs": [
        {
          "output_type": "stream",
          "name": "stdout",
          "text": [
            "Statistics of Churn Category.png saved\n",
            "Statistics of Satisfaction Score.png saved\n",
            "Statistics of Gender.png saved\n",
            "Statistics of Under 30.png saved\n",
            "Statistics of Senior Citizen.png saved\n",
            "Statistics of Married.png saved\n",
            "Statistics of Dependents.png saved\n",
            "Statistics of Number of Dependents.png saved\n",
            "Statistics of Country.png saved\n",
            "Statistics of State.png saved\n",
            "Statistics of City.png saved\n",
            "Statistics of Quarter.png saved\n",
            "Statistics of Referred a Friend.png saved\n",
            "Statistics of Number of Referrals.png saved\n",
            "Statistics of Offer.png saved\n",
            "Statistics of Phone Service.png saved\n",
            "Statistics of Multiple Lines.png saved\n",
            "Statistics of Internet Service.png saved\n",
            "Statistics of Internet Type.png saved\n",
            "Statistics of Online Security.png saved\n",
            "Statistics of Online Backup.png saved\n",
            "Statistics of Device Protection Plan.png saved\n",
            "Statistics of Premium Tech Support.png saved\n",
            "Statistics of Streaming TV.png saved\n",
            "Statistics of Streaming Movies.png saved\n",
            "Statistics of Streaming Music.png saved\n",
            "Statistics of Unlimited Data.png saved\n",
            "Statistics of Contract.png saved\n",
            "Statistics of Paperless Billing.png saved\n",
            "Statistics of Payment Method.png saved\n",
            "Statistics of Count_x.png saved\n",
            "Statistics of Count_y.png saved\n",
            "Statistics of Count.png saved\n",
            "Statistics of Zip Code.png saved\n"
          ]
        }
      ]
    },
    {
      "cell_type": "code",
      "source": [
        "need_avg_col = [item for item in result_cols if item not in need_statistics_col]\n",
        "\n",
        "# Replace NaN with median value or 0\n",
        "for avg_col in need_avg_col[1:]:\n",
        "    if avg_col == 'Lat Long':\n",
        "        continue\n",
        "    else:\n",
        "        result_train_copy[avg_col] = result_train_copy[avg_col].fillna(result_train_copy[avg_col].median()) \n",
        "        result_test_copy[avg_col] = result_test_copy[avg_col].fillna(result_train_copy[avg_col].median())\n",
        "\n",
        "population = pd.read_csv('./data/population.csv')\n",
        "population = population.drop('ID', axis=1)\n",
        "result_train_copy = pd.merge(result_train_copy, population, how='left', on='Zip Code')\n",
        "result_test_copy = pd.merge(result_test_copy, population, how='left', on='Zip Code')"
      ],
      "metadata": {
        "id": "hjvCj4CgJPoJ"
      },
      "execution_count": 65,
      "outputs": []
    },
    {
      "cell_type": "code",
      "source": [
        "# Find the correlation of columns\n",
        "cor_matrix = result_train_copy.corr().abs()\n",
        "print(cor_matrix['Churn Category'])"
      ],
      "metadata": {
        "id": "WdnuvMdMS7_L",
        "outputId": "6af1539c-86d4-4e03-b6be-a61e9eec226f",
        "colab": {
          "base_uri": "https://localhost:8080/"
        }
      },
      "execution_count": 66,
      "outputs": [
        {
          "output_type": "stream",
          "name": "stdout",
          "text": [
            "Count_x                                   NaN\n",
            "Country                                   NaN\n",
            "State                                     NaN\n",
            "City                                 0.001694\n",
            "Zip Code                             0.016175\n",
            "Latitude                             0.050255\n",
            "Longitude                            0.029237\n",
            "Count_y                                   NaN\n",
            "Quarter                                   NaN\n",
            "Referred a Friend                    0.039161\n",
            "Number of Referrals                  0.081623\n",
            "Tenure in Months                     0.124967\n",
            "Offer                                0.064084\n",
            "Phone Service                        0.007903\n",
            "Avg Monthly Long Distance Charges    0.012097\n",
            "Multiple Lines                       0.025724\n",
            "Internet Service                     0.093695\n",
            "Internet Type                        0.041499\n",
            "Avg Monthly GB Download              0.040774\n",
            "Online Security                      0.057228\n",
            "Online Backup                        0.013486\n",
            "Device Protection Plan               0.003886\n",
            "Premium Tech Support                 0.065226\n",
            "Streaming TV                         0.011442\n",
            "Streaming Movies                     0.038226\n",
            "Streaming Music                      0.020193\n",
            "Unlimited Data                       0.069493\n",
            "Contract                             0.137617\n",
            "Paperless Billing                    0.078954\n",
            "Payment Method                       0.035229\n",
            "Monthly Charge                       0.092739\n",
            "Total Charges                        0.058857\n",
            "Total Refunds                        0.014575\n",
            "Total Extra Data Charges             0.015636\n",
            "Total Long Distance Charges          0.092469\n",
            "Total Revenue                        0.080331\n",
            "Count                                     NaN\n",
            "Gender                               0.001889\n",
            "Age                                  0.046805\n",
            "Under 30                             0.024823\n",
            "Senior Citizen                       0.059089\n",
            "Married                              0.018871\n",
            "Dependents                           0.074275\n",
            "Number of Dependents                 0.053742\n",
            "Churn Category                       1.000000\n",
            "Satisfaction Score                   0.254697\n",
            "Population                                NaN\n",
            "Name: Churn Category, dtype: float64\n"
          ]
        }
      ]
    },
    {
      "cell_type": "code",
      "source": [
        "useless_feature = [index for index, value in cor_matrix['Churn Category'].items() if value < 0.01 or pd.isnull(value)]\n",
        "useless_feature.append('Lat Long')\n",
        "print(useless_feature)"
      ],
      "metadata": {
        "id": "EUWHiNXdKhGP",
        "outputId": "a0bf69c8-f152-43d8-e4ea-9753806c5b16",
        "colab": {
          "base_uri": "https://localhost:8080/"
        }
      },
      "execution_count": 67,
      "outputs": [
        {
          "output_type": "stream",
          "name": "stdout",
          "text": [
            "['Count_x', 'Country', 'State', 'City', 'Count_y', 'Quarter', 'Phone Service', 'Device Protection Plan', 'Count', 'Gender', 'Population', 'Lat Long']\n"
          ]
        }
      ]
    },
    {
      "cell_type": "code",
      "source": [
        "def dropColumns(label):\n",
        "    global result_train_copy, result_test_copy\n",
        "    result_train_copy = result_train_copy.drop(label, axis=1)\n",
        "    result_test_copy = result_test_copy.drop(label, axis=1)"
      ],
      "metadata": {
        "id": "K5quNy8vHQzb"
      },
      "execution_count": 68,
      "outputs": []
    },
    {
      "cell_type": "code",
      "source": [
        "# Throw away the data columns whose correlation to Churn Category is less than 0.55\n",
        "for item in useless_feature:\n",
        "    dropColumns(item)"
      ],
      "metadata": {
        "id": "Cis3gTDOG9Im"
      },
      "execution_count": 69,
      "outputs": []
    },
    {
      "cell_type": "code",
      "source": [
        "result_train_copy.to_csv('./data/result_after_preprocessing.csv') # Save after preprocessing result to result_after_preprocessing.csv\n",
        "feature_amount = len(result_train_copy.columns)\n",
        "\n",
        "print(result_train_copy)\n",
        "print(result_test_copy)"
      ],
      "metadata": {
        "colab": {
          "base_uri": "https://localhost:8080/"
        },
        "id": "-DsDpzq_Lgp3",
        "outputId": "b29e9cb7-7604-42e5-e1e5-3654c16e74dd"
      },
      "execution_count": 70,
      "outputs": [
        {
          "output_type": "stream",
          "name": "stdout",
          "text": [
            "     Customer ID  Zip Code  ...  Churn Category  Satisfaction Score\n",
            "0     0650-BWOZN        96  ...               1                   0\n",
            "1     0562-FGDCR       741  ...               1                   0\n",
            "2     6688-UZPWD       526  ...               3                   2\n",
            "3     2905-KFQUV      1078  ...               1                   2\n",
            "4     9720-JJJOR      1565  ...               3                   2\n",
            "...          ...       ...  ...             ...                 ...\n",
            "5629  1178-PZGAB      1437  ...               1                   2\n",
            "5630  4806-KEXQR       777  ...               0                   2\n",
            "5631  8809-RIHDD       171  ...               3                   3\n",
            "5632  6663-JOCQO      1074  ...               3                   3\n",
            "5633  7010-ZMVBF       809  ...               3                   3\n",
            "\n",
            "[5634 rows x 37 columns]\n",
            "     Customer ID  Zip Code  ...  Churn Category  Satisfaction Score\n",
            "0     9938-EKRGF       203  ...               3                   2\n",
            "1     7379-POKDZ       148  ...               3                   3\n",
            "2     0654-HMSHN       229  ...               2                   4\n",
            "3     2045-BMBTJ       298  ...               3                   3\n",
            "4     0701-TJSEF       190  ...               3                   2\n",
            "...          ...       ...  ...             ...                 ...\n",
            "1404  4587-VVTOX       588  ...               5                   3\n",
            "1405  7716-YTYHG       904  ...               3                   3\n",
            "1406  7649-PHJVR       426  ...               3                   0\n",
            "1407  7855-DIWPO       321  ...               3                   4\n",
            "1408  8197-BFWVU        57  ...               1                   2\n",
            "\n",
            "[1409 rows x 37 columns]\n"
          ]
        }
      ]
    },
    {
      "cell_type": "markdown",
      "source": [
        "# **Balance Data**"
      ],
      "metadata": {
        "id": "bPTqADO2Ox2F"
      }
    },
    {
      "cell_type": "code",
      "source": [
        "y_train = result_train_copy['Churn Category'].values\n",
        "X_train = result_train_copy.drop('Customer ID', axis=1)\n",
        "X_train = X_train.drop('Churn Category', axis=1)"
      ],
      "metadata": {
        "id": "RiyIrSnaNq6F"
      },
      "execution_count": 71,
      "outputs": []
    },
    {
      "cell_type": "code",
      "source": [
        "print(f\"normal data distribution: {Counter(y_train)}\")\n",
        "\n",
        "class_weight = dict(Counter(y_train))\n",
        "\n",
        "smo = ADASYN(random_state=seed)\n",
        "X_train, y_train = smo.fit_resample(X_train, y_train)\n",
        "\n",
        "print(f\"SMOTE data distribution: {Counter(y_train)}\")"
      ],
      "metadata": {
        "id": "LmlxI28WQUG2",
        "outputId": "3d622302-83d0-4bc3-bdd1-3e29bd9d0223",
        "colab": {
          "base_uri": "https://localhost:8080/"
        }
      },
      "execution_count": 72,
      "outputs": [
        {
          "output_type": "stream",
          "name": "stdout",
          "text": [
            "normal data distribution: Counter({3: 4133, 1: 662, 0: 271, 2: 222, 4: 175, 5: 171})\n",
            "SMOTE data distribution: Counter({4: 4205, 3: 4133, 5: 4115, 2: 4090, 1: 4078, 0: 4027})\n"
          ]
        }
      ]
    },
    {
      "cell_type": "markdown",
      "source": [
        "# **SVM Train**"
      ],
      "metadata": {
        "id": "3HpyuY-RQEz1"
      }
    },
    {
      "cell_type": "code",
      "source": [
        "sc = StandardScaler()\n",
        "ss = StandardScaler().fit(X_train)\n",
        "X_train_std = ss.transform(X_train)\n",
        "\n",
        "\n",
        "class_weight = {k: X_train.shape[0] / v for k, v in class_weight.items()}\n",
        "print(class_weight)\n",
        "\n",
        "# param_grid = {\n",
        "#     'C':  [1, 10, 100, 1000], 'gamma': [0.01, 0.001, 0.0001],\n",
        "#     'kernel': ['rbf'], 'class_weight':['balanced', class_weight]\n",
        "# }"
      ],
      "metadata": {
        "id": "euCLdtvkO-nO",
        "outputId": "b847a70e-8c6e-4184-aea0-2d3c957f55fe",
        "colab": {
          "base_uri": "https://localhost:8080/"
        }
      },
      "execution_count": 73,
      "outputs": [
        {
          "output_type": "stream",
          "name": "stdout",
          "text": [
            "{1: 37.23262839879154, 3: 5.963706750544398, 2: 111.02702702702703, 4: 140.84571428571428, 5: 144.140350877193, 0: 90.9520295202952}\n"
          ]
        }
      ]
    },
    {
      "cell_type": "code",
      "source": [
        "svm = SVC(kernel='rbf', gamma=0.01, C=10, class_weight=class_weight)\n",
        "\n",
        "# SVM with class weight\n",
        "# svm = SVC(kernel='rbf', gamma=0.7, class_weight={0:10, 1:10, 2:10, 3:1, 4:10, 5:10})\n",
        "\n",
        "start_time = time.time()\n",
        "model = svm.fit(X_train_std, y_train)\n",
        "end_time = time.time()\n",
        "\n",
        "print(f'Training use {round(end_time - start_time, 3)}s')"
      ],
      "metadata": {
        "colab": {
          "base_uri": "https://localhost:8080/"
        },
        "id": "VXuL_lKqW_mD",
        "outputId": "39ed97d6-8499-400e-ca64-8222a74156ae"
      },
      "execution_count": 74,
      "outputs": [
        {
          "output_type": "stream",
          "name": "stdout",
          "text": [
            "Training use 59.305s\n"
          ]
        }
      ]
    },
    {
      "cell_type": "code",
      "source": [
        "y_train_predict = svm.predict(X_train_std)\n",
        "Ein = np.mean(np.array(y_train_predict) != y_train)\n",
        "F1in = metrics.f1_score(y_train, y_train_predict, average='macro')  \n",
        "print(f'Ein = {round(Ein, 5)}')\n",
        "print(f'F1_in = {round(F1in, 5)}')"
      ],
      "metadata": {
        "colab": {
          "base_uri": "https://localhost:8080/"
        },
        "id": "WivcNevbY1lB",
        "outputId": "522f0a7b-d5a5-486b-e3f1-6eadf74354dc"
      },
      "execution_count": 75,
      "outputs": [
        {
          "output_type": "stream",
          "name": "stdout",
          "text": [
            "Ein = 0.0157\n",
            "F1_in = 0.98415\n"
          ]
        }
      ]
    },
    {
      "cell_type": "code",
      "source": [
        "plot_confusion_matrix(model, X_train_std, y_train)\n",
        "print(encoder_map)"
      ],
      "metadata": {
        "id": "yWM9fKw1MLr1",
        "outputId": "71b9a463-1d9d-4a93-f478-b940f4a00280",
        "colab": {
          "base_uri": "https://localhost:8080/",
          "height": 351
        }
      },
      "execution_count": 76,
      "outputs": [
        {
          "output_type": "stream",
          "name": "stderr",
          "text": [
            "/usr/local/lib/python3.7/dist-packages/sklearn/utils/deprecation.py:87: FutureWarning: Function plot_confusion_matrix is deprecated; Function `plot_confusion_matrix` is deprecated in 1.0 and will be removed in 1.2. Use one of the class methods: ConfusionMatrixDisplay.from_predictions or ConfusionMatrixDisplay.from_estimator.\n",
            "  warnings.warn(msg, category=FutureWarning)\n"
          ]
        },
        {
          "output_type": "stream",
          "name": "stdout",
          "text": [
            "{'Attitude': 0, 'Competitor': 1, 'Dissatisfaction': 2, 'No Churn': 3, 'Other': 4, 'Price': 5}\n"
          ]
        },
        {
          "output_type": "display_data",
          "data": {
            "image/png": "[encoded data removed]",
            "text/plain": [
              "<Figure size 432x288 with 2 Axes>"
            ]
          },
          "metadata": {
            "needs_background": "light"
          }
        }
      ]
    },
    {
      "cell_type": "code",
      "source": [
        "print(classification_report(y_train, y_train_predict))"
      ],
      "metadata": {
        "id": "LMiWePsbSW4Y",
        "outputId": "2681aa93-22f7-4561-90dc-07c8958c1ebd",
        "colab": {
          "base_uri": "https://localhost:8080/"
        }
      },
      "execution_count": 77,
      "outputs": [
        {
          "output_type": "stream",
          "name": "stdout",
          "text": [
            "              precision    recall  f1-score   support\n",
            "\n",
            "           0       0.97      1.00      0.98      4027\n",
            "           1       0.98      0.95      0.96      4078\n",
            "           2       0.98      1.00      0.99      4090\n",
            "           3       1.00      0.96      0.98      4133\n",
            "           4       0.99      1.00      0.99      4205\n",
            "           5       0.99      1.00      0.99      4115\n",
            "\n",
            "    accuracy                           0.98     24648\n",
            "   macro avg       0.98      0.98      0.98     24648\n",
            "weighted avg       0.98      0.98      0.98     24648\n",
            "\n"
          ]
        }
      ]
    },
    {
      "cell_type": "markdown",
      "source": [
        "# **SVM Test**"
      ],
      "metadata": {
        "id": "ViqMiLyMavbf"
      }
    },
    {
      "cell_type": "code",
      "source": [
        "X_test = result_test_copy.drop('Customer ID', axis=1)\n",
        "X_test = X_test.drop('Churn Category', axis=1)\n",
        "ss = StandardScaler().fit(X_test)\n",
        "X_test_std = ss.transform(X_test)\n",
        "y_test = svm.predict(X_test_std)"
      ],
      "metadata": {
        "id": "dxd93_hUauU5"
      },
      "execution_count": 78,
      "outputs": []
    },
    {
      "cell_type": "code",
      "source": [
        "plot_confusion_matrix(model, X_test_std, y_test)\n",
        "print(encoder_map)"
      ],
      "metadata": {
        "id": "098w16TfMkqn",
        "outputId": "c4434761-b610-4bbe-9f83-3b121e796390",
        "colab": {
          "base_uri": "https://localhost:8080/",
          "height": 351
        }
      },
      "execution_count": 79,
      "outputs": [
        {
          "output_type": "stream",
          "name": "stderr",
          "text": [
            "/usr/local/lib/python3.7/dist-packages/sklearn/utils/deprecation.py:87: FutureWarning: Function plot_confusion_matrix is deprecated; Function `plot_confusion_matrix` is deprecated in 1.0 and will be removed in 1.2. Use one of the class methods: ConfusionMatrixDisplay.from_predictions or ConfusionMatrixDisplay.from_estimator.\n",
            "  warnings.warn(msg, category=FutureWarning)\n"
          ]
        },
        {
          "output_type": "stream",
          "name": "stdout",
          "text": [
            "{'Attitude': 0, 'Competitor': 1, 'Dissatisfaction': 2, 'No Churn': 3, 'Other': 4, 'Price': 5}\n"
          ]
        },
        {
          "output_type": "display_data",
          "data": {
            "image/png": "[encoded data removed]",
            "text/plain": [
              "<Figure size 432x288 with 2 Axes>"
            ]
          },
          "metadata": {
            "needs_background": "light"
          }
        }
      ]
    },
    {
      "cell_type": "code",
      "source": [
        "submit_result = './svm_result.csv'\n",
        "\n",
        "new_encoder_map = {'No Churn':0, 'Competitor': 1, 'Dissatisfaction':2, 'Attitude': 3, 'Price':4, 'Other':5}\n",
        "\n",
        "with open(submit_result, 'w') as f:\n",
        "    f.write('Customer ID,Churn Category\\n')\n",
        "    for i in range(len(df_test.values)):\n",
        "        id = str(df_test.values[i]).replace('[\\'', '')\n",
        "        id = id.replace('\\']', '')\n",
        "        pred = new_encoder_map.get(list(encoder_map.keys())[list(encoder_map.values()).index(y_test[i])])\n",
        "        f.write(f'{id},{pred}\\n')"
      ],
      "metadata": {
        "id": "6N35sOjrcpNd"
      },
      "execution_count": 84,
      "outputs": []
    },
    {
      "cell_type": "code",
      "source": [
        "files.download(submit_result)"
      ],
      "metadata": {
        "colab": {
          "base_uri": "https://localhost:8080/",
          "height": 17
        },
        "id": "0tLUThI7nWnj",
        "outputId": "a9178f5e-e983-4d17-c0cb-3d4f385b0f39"
      },
      "execution_count": 85,
      "outputs": [
        {
          "output_type": "display_data",
          "data": {
            "application/javascript": [
              "\n",
              "    async function download(id, filename, size) {\n",
              "      if (!google.colab.kernel.accessAllowed) {\n",
              "        return;\n",
              "      }\n",
              "      const div = document.createElement('div');\n",
              "      const label = document.createElement('label');\n",
              "      label.textContent = `Downloading \"${filename}\": `;\n",
              "      div.appendChild(label);\n",
              "      const progress = document.createElement('progress');\n",
              "      progress.max = size;\n",
              "      div.appendChild(progress);\n",
              "      document.body.appendChild(div);\n",
              "\n",
              "      const buffers = [];\n",
              "      let downloaded = 0;\n",
              "\n",
              "      const channel = await google.colab.kernel.comms.open(id);\n",
              "      // Send a message to notify the kernel that we're ready.\n",
              "      channel.send({})\n",
              "\n",
              "      for await (const message of channel.messages) {\n",
              "        // Send a message to notify the kernel that we're ready.\n",
              "        channel.send({})\n",
              "        if (message.buffers) {\n",
              "          for (const buffer of message.buffers) {\n",
              "            buffers.push(buffer);\n",
              "            downloaded += buffer.byteLength;\n",
              "            progress.value = downloaded;\n",
              "          }\n",
              "        }\n",
              "      }\n",
              "      const blob = new Blob(buffers, {type: 'application/binary'});\n",
              "      const a = document.createElement('a');\n",
              "      a.href = window.URL.createObjectURL(blob);\n",
              "      a.download = filename;\n",
              "      div.appendChild(a);\n",
              "      a.click();\n",
              "      div.remove();\n",
              "    }\n",
              "  "
            ],
            "text/plain": [
              "<IPython.core.display.Javascript object>"
            ]
          },
          "metadata": {}
        },
        {
          "output_type": "display_data",
          "data": {
            "application/javascript": [
              "download(\"download_2d4fea51-4382-4e9d-8a4f-b79b78a40163\", \"svm_result.csv\", 18344)"
            ],
            "text/plain": [
              "<IPython.core.display.Javascript object>"
            ]
          },
          "metadata": {}
        }
      ]
    },
    {
      "cell_type": "markdown",
      "source": [
        "# **Deep Neural Network Train**"
      ],
      "metadata": {
        "id": "ZFjmDSVGQPwo"
      }
    },
    {
      "cell_type": "code",
      "source": [
        "class IBMDataset(Dataset):\n",
        "    def __init__(self, X, y=None):\n",
        "        self.data = torch.from_numpy(X).float()\n",
        "        if y is not None:\n",
        "            y = y.astype(np.int)\n",
        "            self.label = torch.LongTensor(y)\n",
        "        else:\n",
        "            self.label = None\n",
        "\n",
        "    def __getitem__(self, idx):\n",
        "        if self.label is not None:\n",
        "            return self.data[idx], self.label[idx]\n",
        "        else:\n",
        "            return self.data[idx]\n",
        "\n",
        "    def __len__(self):\n",
        "        return len(self.data)"
      ],
      "metadata": {
        "id": "G5F9W_RkSub3"
      },
      "execution_count": 86,
      "outputs": []
    },
    {
      "cell_type": "code",
      "source": [
        "class Classifier(nn.Module):\n",
        "    def __init__(self):\n",
        "        super(Classifier, self).__init__()\n",
        "        self.layer1 = nn.Linear(feature_amount - 2, 512)\n",
        "        self.layer2 = nn.Linear(512, 256)\n",
        "        self.layer3 = nn.Linear(256, 128)\n",
        "        self.bn1 = nn.BatchNorm1d(512)\n",
        "        self.bn2 = nn.BatchNorm1d(256)\n",
        "        self.bn3 = nn.BatchNorm1d(128)\n",
        "        self.out = nn.Linear(128, 6)\n",
        "        self.dp = nn.Dropout(0.1)\n",
        "        self.act_fn = nn.LeakyReLU()\n",
        "\n",
        "    def forward(self, x):\n",
        "        x = self.layer1(x)\n",
        "        x = self.act_fn(x)\n",
        "        x = self.bn1(x)\n",
        "        x = self.dp(x)\n",
        "\n",
        "        x = self.layer2(x)\n",
        "        x = self.act_fn(x)\n",
        "        x = self.bn2(x)\n",
        "        x = self.dp(x)\n",
        "\n",
        "        x = self.layer3(x)\n",
        "        x = self.act_fn(x)\n",
        "        x = self.bn3(x)\n",
        "        x = self.dp(x)\n",
        "        \n",
        "        x = self.out(x)\n",
        "        \n",
        "        return x\n",
        "\n",
        "# classifier = Classifier()\n",
        "# summary(classifier, X_train.shape, device=\"cpu\")"
      ],
      "metadata": {
        "id": "K_ofbzUUQdOX"
      },
      "execution_count": 87,
      "outputs": []
    },
    {
      "cell_type": "code",
      "source": [
        "VAL_RATIO = 0.2\n",
        "BATCH_SIZE = 64\n",
        "\n",
        "sc = StandardScaler()\n",
        "ss = StandardScaler().fit(X_train)\n",
        "X_train_std = ss.transform(X_train)\n",
        "\n",
        "percent = int(X_train_std.shape[0] * (1 - VAL_RATIO))\n",
        "train_x, train_y, val_x, val_y = X_train_std[:percent], y_train[:percent], X_train_std[percent:], y_train[percent:]\n",
        "print('Size of training set: {}'.format(train_x.shape))\n",
        "print('Size of validation set: {}'.format(val_x.shape))"
      ],
      "metadata": {
        "id": "3lDEMsTdTVd3",
        "outputId": "686d0b66-9579-4f0d-ac74-ca6e142a1a8f",
        "colab": {
          "base_uri": "https://localhost:8080/"
        }
      },
      "execution_count": 88,
      "outputs": [
        {
          "output_type": "stream",
          "name": "stdout",
          "text": [
            "Size of training set: (19718, 35)\n",
            "Size of validation set: (4930, 35)\n"
          ]
        }
      ]
    },
    {
      "cell_type": "code",
      "source": [
        "train_set = IBMDataset(train_x, train_y)\n",
        "val_set = IBMDataset(val_x, val_y)\n",
        "train_loader = DataLoader(train_set, batch_size=BATCH_SIZE, shuffle=True) # only shuffle the training data\n",
        "val_loader = DataLoader(val_set, batch_size=BATCH_SIZE, shuffle=False)"
      ],
      "metadata": {
        "id": "RaPDAgDzTcrs"
      },
      "execution_count": 89,
      "outputs": []
    },
    {
      "cell_type": "code",
      "source": [
        "# get device \n",
        "device = 'cuda' if torch.cuda.is_available() else 'cpu'\n",
        "print(f'DEVICE: {device}')\n",
        "\n",
        "# training parameters\n",
        "num_epoch = 3000             # number of training epoch\n",
        "learning_rate = 0.001       # learning rate\n",
        "callback_num = 500\n",
        "\n",
        "# the path where checkpoint saved\n",
        "model_path = './best_model.ckpt'\n",
        "\n",
        "# create model, define a loss function, and optimizer\n",
        "model = Classifier().to(device)\n",
        "criterion = nn.CrossEntropyLoss() \n",
        "optimizer = torch.optim.Adam(model.parameters(), lr=learning_rate)\n",
        "scheduler = StepLR(optimizer, step_size=len(train_loader) * 200, gamma=0.1)"
      ],
      "metadata": {
        "id": "CMbU0r5fRwai",
        "outputId": "64b38e16-2e24-4c75-807d-b0d2104d11ce",
        "colab": {
          "base_uri": "https://localhost:8080/"
        }
      },
      "execution_count": 90,
      "outputs": [
        {
          "output_type": "stream",
          "name": "stdout",
          "text": [
            "DEVICE: cuda\n"
          ]
        }
      ]
    },
    {
      "cell_type": "code",
      "source": [
        "best_acc = 0.0\n",
        "count = 0\n",
        "start_time = time.time()\n",
        "train_acc_list = []\n",
        "train_loss_list = []\n",
        "val_acc_list = []\n",
        "val_loss_list = []\n",
        "for epoch in range(num_epoch):\n",
        "    train_acc = 0.0\n",
        "    train_loss = 0.0\n",
        "    val_acc = 0.0\n",
        "    val_loss = 0.0\n",
        "\n",
        "    # training\n",
        "    model.train() # set the model to training mode\n",
        "    for i, data in enumerate(train_loader):\n",
        "        inputs, labels = data\n",
        "        inputs, labels = inputs.to(device), labels.to(device)\n",
        "        optimizer.zero_grad() \n",
        "        outputs = model(inputs) \n",
        "        batch_loss = criterion(outputs, labels)\n",
        "        _, train_pred = torch.max(outputs, 1) # get the index of the class with the highest probability\n",
        "        batch_loss.backward() \n",
        "        optimizer.step()\n",
        "        scheduler.step()\n",
        "\n",
        "        train_acc += (train_pred.cpu() == labels.cpu()).sum().item()\n",
        "        train_loss += batch_loss.item()\n",
        "\n",
        "    # validation\n",
        "    if len(val_set) > 0:\n",
        "        model.eval() # set the model to evaluation mode\n",
        "        with torch.no_grad():\n",
        "            for i, data in enumerate(val_loader):\n",
        "                inputs, labels = data\n",
        "                inputs, labels = inputs.to(device), labels.to(device)\n",
        "                outputs = model(inputs)\n",
        "                batch_loss = criterion(outputs, labels) \n",
        "                _, val_pred = torch.max(outputs, 1) \n",
        "            \n",
        "                val_acc += (val_pred.cpu() == labels.cpu()).sum().item() # get the index of the class with the highest probability\n",
        "                val_loss += batch_loss.item()\n",
        "\n",
        "            print('[{:03d}/{:03d}] Train Acc: {:3.6f} Loss: {:3.6f} | Val Acc: {:3.6f} loss: {:3.6f}'.format(\n",
        "                epoch + 1, num_epoch, train_acc/len(train_set), train_loss/len(train_loader), val_acc/len(val_set), val_loss/len(val_loader)\n",
        "            ))\n",
        "\n",
        "            # Record Training and validation info\n",
        "            train_acc_list.append(train_acc/len(train_set))\n",
        "            train_loss_list.append(train_loss/len(train_loader))\n",
        "            val_acc_list.append(val_acc/len(val_set))\n",
        "            val_loss_list.append(val_loss/len(val_loader))\n",
        "\n",
        "            # if the model improves, save a checkpoint at this epoch\n",
        "            count += 1\n",
        "            if val_acc > best_acc:\n",
        "                count = 0\n",
        "                best_acc = val_acc\n",
        "                torch.save(model.state_dict(), model_path)\n",
        "                print('saving model with acc {:.3f}'.format(best_acc/len(val_set)))\n",
        "    else:\n",
        "        print('[{:03d}/{:03d}] Train Acc: {:3.6f} Loss: {:3.6f}'.format(\n",
        "            epoch + 1, num_epoch, train_acc/len(train_set), train_loss/len(train_loader)\n",
        "        ))\n",
        "\n",
        "    if count > callback_num:\n",
        "        break\n",
        "\n",
        "# if not validating, save the last epoch\n",
        "if len(val_set) == 0:\n",
        "    torch.save(model.state_dict(), model_path)\n",
        "    print('saving model at last epoch')\n",
        "\n",
        "end_time = time.time()"
      ],
      "metadata": {
        "id": "zYGRiadPSNDo",
        "outputId": "abfcd047-328c-4c8a-d64c-dc6a63fc4c48",
        "colab": {
          "base_uri": "https://localhost:8080/"
        }
      },
      "execution_count": 91,
      "outputs": [
        {
          "output_type": "stream",
          "name": "stdout",
          "text": [
            "[001/3000] Train Acc: 0.562481 Loss: 1.157717 | Val Acc: 0.101623 loss: 3.415726\n",
            "saving model with acc 0.102\n",
            "[002/3000] Train Acc: 0.699665 Loss: 0.830245 | Val Acc: 0.114199 loss: 4.105799\n",
            "saving model with acc 0.114\n",
            "[003/3000] Train Acc: 0.763769 Loss: 0.660088 | Val Acc: 0.132454 loss: 4.324862\n",
            "saving model with acc 0.132\n",
            "[004/3000] Train Acc: 0.802668 Loss: 0.553775 | Val Acc: 0.124341 loss: 4.552528\n",
            "[005/3000] Train Acc: 0.832488 Loss: 0.484477 | Val Acc: 0.143002 loss: 4.417385\n",
            "saving model with acc 0.143\n",
            "[006/3000] Train Acc: 0.853028 Loss: 0.423237 | Val Acc: 0.143611 loss: 4.524062\n",
            "saving model with acc 0.144\n",
            "[007/3000] Train Acc: 0.867380 Loss: 0.384129 | Val Acc: 0.148682 loss: 4.487220\n",
            "saving model with acc 0.149\n",
            "[008/3000] Train Acc: 0.877726 Loss: 0.359117 | Val Acc: 0.148073 loss: 4.378463\n",
            "[009/3000] Train Acc: 0.883558 Loss: 0.333044 | Val Acc: 0.151927 loss: 4.573868\n",
            "saving model with acc 0.152\n",
            "[010/3000] Train Acc: 0.894614 Loss: 0.302751 | Val Acc: 0.160649 loss: 4.507945\n",
            "saving model with acc 0.161\n",
            "[011/3000] Train Acc: 0.896338 Loss: 0.305587 | Val Acc: 0.157809 loss: 4.467442\n",
            "[012/3000] Train Acc: 0.901816 Loss: 0.281014 | Val Acc: 0.170385 loss: 4.258647\n",
            "saving model with acc 0.170\n",
            "[013/3000] Train Acc: 0.908966 Loss: 0.257684 | Val Acc: 0.183367 loss: 4.491308\n",
            "saving model with acc 0.183\n",
            "[014/3000] Train Acc: 0.914849 Loss: 0.239927 | Val Acc: 0.202840 loss: 4.735225\n",
            "saving model with acc 0.203\n",
            "[015/3000] Train Acc: 0.917842 Loss: 0.228786 | Val Acc: 0.187424 loss: 4.358736\n",
            "[016/3000] Train Acc: 0.926362 Loss: 0.215683 | Val Acc: 0.190467 loss: 4.269480\n",
            "[017/3000] Train Acc: 0.918450 Loss: 0.232223 | Val Acc: 0.195132 loss: 4.319395\n",
            "[018/3000] Train Acc: 0.931484 Loss: 0.201547 | Val Acc: 0.182961 loss: 4.922767\n",
            "[019/3000] Train Acc: 0.930672 Loss: 0.196699 | Val Acc: 0.225152 loss: 4.563928\n",
            "saving model with acc 0.225\n",
            "[020/3000] Train Acc: 0.935186 Loss: 0.181062 | Val Acc: 0.203245 loss: 4.516935\n",
            "[021/3000] Train Acc: 0.929912 Loss: 0.194440 | Val Acc: 0.223529 loss: 4.503761\n",
            "[022/3000] Train Acc: 0.937265 Loss: 0.175021 | Val Acc: 0.234077 loss: 4.404512\n",
            "saving model with acc 0.234\n",
            "[023/3000] Train Acc: 0.946648 Loss: 0.151823 | Val Acc: 0.221704 loss: 4.622366\n",
            "[024/3000] Train Acc: 0.938483 Loss: 0.177631 | Val Acc: 0.241582 loss: 4.494889\n",
            "saving model with acc 0.242\n",
            "[025/3000] Train Acc: 0.933360 Loss: 0.190601 | Val Acc: 0.228398 loss: 4.805759\n",
            "[026/3000] Train Acc: 0.935693 Loss: 0.185252 | Val Acc: 0.262272 loss: 4.292257\n",
            "saving model with acc 0.262\n",
            "[027/3000] Train Acc: 0.943148 Loss: 0.167398 | Val Acc: 0.243408 loss: 4.317466\n",
            "[028/3000] Train Acc: 0.942996 Loss: 0.168454 | Val Acc: 0.222515 loss: 4.614252\n",
            "[029/3000] Train Acc: 0.945786 Loss: 0.153644 | Val Acc: 0.234483 loss: 4.837982\n",
            "[030/3000] Train Acc: 0.948423 Loss: 0.145078 | Val Acc: 0.268154 loss: 4.504694\n",
            "saving model with acc 0.268\n",
            "[031/3000] Train Acc: 0.944467 Loss: 0.168734 | Val Acc: 0.246045 loss: 4.382620\n",
            "[032/3000] Train Acc: 0.947865 Loss: 0.147296 | Val Acc: 0.242799 loss: 4.716640\n",
            "[033/3000] Train Acc: 0.955827 Loss: 0.127641 | Val Acc: 0.244422 loss: 4.756432\n",
            "[034/3000] Train Acc: 0.954154 Loss: 0.133777 | Val Acc: 0.267343 loss: 4.696609\n",
            "[035/3000] Train Acc: 0.956486 Loss: 0.127842 | Val Acc: 0.265720 loss: 4.936509\n",
            "[036/3000] Train Acc: 0.949843 Loss: 0.142271 | Val Acc: 0.262677 loss: 4.630625\n",
            "[037/3000] Train Acc: 0.952125 Loss: 0.135216 | Val Acc: 0.263489 loss: 4.592841\n",
            "[038/3000] Train Acc: 0.950198 Loss: 0.138444 | Val Acc: 0.255172 loss: 4.611333\n",
            "[039/3000] Train Acc: 0.954356 Loss: 0.138282 | Val Acc: 0.267748 loss: 4.750150\n",
            "[040/3000] Train Acc: 0.952632 Loss: 0.140260 | Val Acc: 0.264503 loss: 4.795110\n",
            "[041/3000] Train Acc: 0.948017 Loss: 0.152258 | Val Acc: 0.243611 loss: 5.355127\n",
            "[042/3000] Train Acc: 0.954052 Loss: 0.138784 | Val Acc: 0.265112 loss: 4.954526\n",
            "[043/3000] Train Acc: 0.957754 Loss: 0.122704 | Val Acc: 0.241379 loss: 5.181879\n",
            "[044/3000] Train Acc: 0.961964 Loss: 0.114987 | Val Acc: 0.256795 loss: 4.851384\n",
            "[045/3000] Train Acc: 0.959225 Loss: 0.114950 | Val Acc: 0.265720 loss: 5.139451\n",
            "[046/3000] Train Acc: 0.963130 Loss: 0.110788 | Val Acc: 0.260243 loss: 4.957366\n",
            "[047/3000] Train Acc: 0.959073 Loss: 0.125066 | Val Acc: 0.254564 loss: 4.972670\n",
            "[048/3000] Train Acc: 0.956182 Loss: 0.132466 | Val Acc: 0.256795 loss: 4.986657\n",
            "[049/3000] Train Acc: 0.959225 Loss: 0.117891 | Val Acc: 0.262475 loss: 5.045910\n",
            "[050/3000] Train Acc: 0.959834 Loss: 0.129973 | Val Acc: 0.280933 loss: 4.849195\n",
            "saving model with acc 0.281\n",
            "[051/3000] Train Acc: 0.962471 Loss: 0.108547 | Val Acc: 0.279108 loss: 4.811016\n",
            "[052/3000] Train Acc: 0.962826 Loss: 0.110425 | Val Acc: 0.272211 loss: 4.901943\n",
            "[053/3000] Train Acc: 0.961304 Loss: 0.107625 | Val Acc: 0.269168 loss: 5.080785\n",
            "[054/3000] Train Acc: 0.967187 Loss: 0.097087 | Val Acc: 0.266734 loss: 5.194849\n",
            "[055/3000] Train Acc: 0.960087 Loss: 0.108710 | Val Acc: 0.282961 loss: 4.786332\n",
            "saving model with acc 0.283\n",
            "[056/3000] Train Acc: 0.968354 Loss: 0.097603 | Val Acc: 0.284178 loss: 5.018307\n",
            "saving model with acc 0.284\n",
            "[057/3000] Train Acc: 0.964550 Loss: 0.106847 | Val Acc: 0.288438 loss: 5.016584\n",
            "saving model with acc 0.288\n",
            "[058/3000] Train Acc: 0.957196 Loss: 0.122896 | Val Acc: 0.263692 loss: 5.172285\n",
            "[059/3000] Train Acc: 0.964195 Loss: 0.102179 | Val Acc: 0.284178 loss: 4.952190\n",
            "[060/3000] Train Acc: 0.965919 Loss: 0.103193 | Val Acc: 0.262069 loss: 5.296771\n",
            "[061/3000] Train Acc: 0.963992 Loss: 0.110378 | Val Acc: 0.276876 loss: 4.975473\n",
            "[062/3000] Train Acc: 0.961964 Loss: 0.111637 | Val Acc: 0.299594 loss: 4.546063\n",
            "saving model with acc 0.300\n",
            "[063/3000] Train Acc: 0.964550 Loss: 0.108177 | Val Acc: 0.250913 loss: 5.168696\n",
            "[064/3000] Train Acc: 0.965311 Loss: 0.100594 | Val Acc: 0.285193 loss: 5.067728\n",
            "[065/3000] Train Acc: 0.964246 Loss: 0.101421 | Val Acc: 0.289047 loss: 4.864209\n",
            "[066/3000] Train Acc: 0.964297 Loss: 0.103748 | Val Acc: 0.279716 loss: 5.017141\n",
            "[067/3000] Train Acc: 0.971042 Loss: 0.087865 | Val Acc: 0.322110 loss: 4.457794\n",
            "saving model with acc 0.322\n",
            "[068/3000] Train Acc: 0.972918 Loss: 0.087313 | Val Acc: 0.305274 loss: 4.713328\n",
            "[069/3000] Train Acc: 0.969774 Loss: 0.082641 | Val Acc: 0.290467 loss: 4.855651\n",
            "[070/3000] Train Acc: 0.969774 Loss: 0.085980 | Val Acc: 0.297160 loss: 4.996751\n",
            "[071/3000] Train Acc: 0.970180 Loss: 0.082455 | Val Acc: 0.280527 loss: 5.261916\n",
            "[072/3000] Train Acc: 0.970636 Loss: 0.095053 | Val Acc: 0.284178 loss: 5.396988\n",
            "[073/3000] Train Acc: 0.965311 Loss: 0.103347 | Val Acc: 0.280730 loss: 5.333821\n",
            "[074/3000] Train Acc: 0.966021 Loss: 0.097711 | Val Acc: 0.289858 loss: 5.191251\n",
            "[075/3000] Train Acc: 0.971853 Loss: 0.091963 | Val Acc: 0.292698 loss: 5.046706\n",
            "[076/3000] Train Acc: 0.973425 Loss: 0.093749 | Val Acc: 0.306491 loss: 5.150998\n",
            "[077/3000] Train Acc: 0.966427 Loss: 0.098840 | Val Acc: 0.279919 loss: 5.150173\n",
            "[078/3000] Train Acc: 0.965260 Loss: 0.101429 | Val Acc: 0.302231 loss: 5.267764\n",
            "[079/3000] Train Acc: 0.968658 Loss: 0.095316 | Val Acc: 0.330832 loss: 4.834458\n",
            "saving model with acc 0.331\n",
            "[080/3000] Train Acc: 0.967847 Loss: 0.106180 | Val Acc: 0.273225 loss: 5.362880\n",
            "[081/3000] Train Acc: 0.967238 Loss: 0.100573 | Val Acc: 0.300609 loss: 5.003652\n",
            "[082/3000] Train Acc: 0.967593 Loss: 0.099798 | Val Acc: 0.306897 loss: 5.144823\n",
            "[083/3000] Train Acc: 0.972310 Loss: 0.078441 | Val Acc: 0.281136 loss: 5.283542\n",
            "[084/3000] Train Acc: 0.975251 Loss: 0.073417 | Val Acc: 0.296957 loss: 5.202314\n",
            "[085/3000] Train Acc: 0.972056 Loss: 0.091701 | Val Acc: 0.273022 loss: 5.787698\n",
            "[086/3000] Train Acc: 0.969571 Loss: 0.088404 | Val Acc: 0.298783 loss: 5.219312\n",
            "[087/3000] Train Acc: 0.967644 Loss: 0.100561 | Val Acc: 0.300000 loss: 5.069308\n",
            "[088/3000] Train Acc: 0.970230 Loss: 0.093357 | Val Acc: 0.281947 loss: 5.252987\n",
            "[089/3000] Train Acc: 0.972056 Loss: 0.087998 | Val Acc: 0.291481 loss: 5.092277\n",
            "[090/3000] Train Acc: 0.970180 Loss: 0.092826 | Val Acc: 0.307099 loss: 5.120038\n",
            "[091/3000] Train Acc: 0.973324 Loss: 0.080825 | Val Acc: 0.310142 loss: 4.979992\n",
            "[092/3000] Train Acc: 0.962775 Loss: 0.108331 | Val Acc: 0.295943 loss: 5.168945\n",
            "[093/3000] Train Acc: 0.971600 Loss: 0.088729 | Val Acc: 0.300811 loss: 5.172436\n",
            "[094/3000] Train Acc: 0.969470 Loss: 0.090317 | Val Acc: 0.303651 loss: 4.932068\n",
            "[095/3000] Train Acc: 0.971042 Loss: 0.083751 | Val Acc: 0.298174 loss: 5.023368\n",
            "[096/3000] Train Acc: 0.976113 Loss: 0.072753 | Val Acc: 0.297972 loss: 5.304679\n",
            "[097/3000] Train Acc: 0.969470 Loss: 0.092763 | Val Acc: 0.287424 loss: 5.655228\n",
            "[098/3000] Train Acc: 0.972462 Loss: 0.075964 | Val Acc: 0.258621 loss: 5.934717\n",
            "[099/3000] Train Acc: 0.974997 Loss: 0.081517 | Val Acc: 0.276673 loss: 5.497577\n",
            "[100/3000] Train Acc: 0.972208 Loss: 0.080619 | Val Acc: 0.286207 loss: 5.253177\n",
            "[101/3000] Train Acc: 0.970382 Loss: 0.085231 | Val Acc: 0.325355 loss: 4.837792\n",
            "[102/3000] Train Acc: 0.975606 Loss: 0.074660 | Val Acc: 0.293915 loss: 5.132567\n",
            "[103/3000] Train Acc: 0.974541 Loss: 0.082304 | Val Acc: 0.318256 loss: 4.988930\n",
            "[104/3000] Train Acc: 0.972056 Loss: 0.089929 | Val Acc: 0.305680 loss: 5.149881\n",
            "[105/3000] Train Acc: 0.972259 Loss: 0.084454 | Val Acc: 0.297566 loss: 5.508935\n",
            "[106/3000] Train Acc: 0.976874 Loss: 0.071296 | Val Acc: 0.315416 loss: 5.165786\n",
            "[107/3000] Train Acc: 0.973882 Loss: 0.075659 | Val Acc: 0.307302 loss: 5.005768\n",
            "[108/3000] Train Acc: 0.974287 Loss: 0.090195 | Val Acc: 0.283164 loss: 5.498316\n",
            "[109/3000] Train Acc: 0.973121 Loss: 0.080451 | Val Acc: 0.284787 loss: 5.595013\n",
            "[110/3000] Train Acc: 0.975606 Loss: 0.080426 | Val Acc: 0.302434 loss: 5.496109\n",
            "[111/3000] Train Acc: 0.972766 Loss: 0.079912 | Val Acc: 0.294929 loss: 5.248228\n",
            "[112/3000] Train Acc: 0.972411 Loss: 0.083971 | Val Acc: 0.291278 loss: 5.605166\n",
            "[113/3000] Train Acc: 0.971143 Loss: 0.091120 | Val Acc: 0.303043 loss: 5.215228\n",
            "[114/3000] Train Acc: 0.974592 Loss: 0.076134 | Val Acc: 0.293103 loss: 5.407161\n",
            "[115/3000] Train Acc: 0.977787 Loss: 0.063454 | Val Acc: 0.317039 loss: 4.998676\n",
            "[116/3000] Train Acc: 0.978040 Loss: 0.066138 | Val Acc: 0.301623 loss: 5.484003\n",
            "[117/3000] Train Acc: 0.978446 Loss: 0.069991 | Val Acc: 0.297160 loss: 5.476297\n",
            "[118/3000] Train Acc: 0.977026 Loss: 0.075060 | Val Acc: 0.331034 loss: 4.896428\n",
            "saving model with acc 0.331\n",
            "[119/3000] Train Acc: 0.976012 Loss: 0.071082 | Val Acc: 0.286207 loss: 5.764791\n",
            "[120/3000] Train Acc: 0.974997 Loss: 0.075696 | Val Acc: 0.278093 loss: 5.895463\n",
            "[121/3000] Train Acc: 0.976620 Loss: 0.078738 | Val Acc: 0.280730 loss: 5.645244\n",
            "[122/3000] Train Acc: 0.975048 Loss: 0.085571 | Val Acc: 0.316836 loss: 5.404020\n",
            "[123/3000] Train Acc: 0.974642 Loss: 0.084960 | Val Acc: 0.302637 loss: 5.478507\n",
            "[124/3000] Train Acc: 0.974845 Loss: 0.075982 | Val Acc: 0.289655 loss: 5.503333\n",
            "[125/3000] Train Acc: 0.977330 Loss: 0.069717 | Val Acc: 0.313793 loss: 5.308064\n",
            "[126/3000] Train Acc: 0.976164 Loss: 0.077853 | Val Acc: 0.306897 loss: 5.367693\n",
            "[127/3000] Train Acc: 0.977280 Loss: 0.072299 | Val Acc: 0.294320 loss: 5.559916\n",
            "[128/3000] Train Acc: 0.976671 Loss: 0.072287 | Val Acc: 0.306897 loss: 5.381597\n",
            "[129/3000] Train Acc: 0.976823 Loss: 0.072577 | Val Acc: 0.300811 loss: 5.334444\n",
            "[130/3000] Train Acc: 0.979613 Loss: 0.070431 | Val Acc: 0.308722 loss: 5.684119\n",
            "[131/3000] Train Acc: 0.976823 Loss: 0.075915 | Val Acc: 0.304868 loss: 5.685791\n",
            "[132/3000] Train Acc: 0.976012 Loss: 0.066533 | Val Acc: 0.301217 loss: 5.558999\n",
            "[133/3000] Train Acc: 0.979765 Loss: 0.076461 | Val Acc: 0.299797 loss: 5.545440\n",
            "[134/3000] Train Acc: 0.976062 Loss: 0.070290 | Val Acc: 0.298580 loss: 5.542826\n",
            "[135/3000] Train Acc: 0.979308 Loss: 0.063105 | Val Acc: 0.305477 loss: 5.431904\n",
            "[136/3000] Train Acc: 0.979055 Loss: 0.066772 | Val Acc: 0.293103 loss: 5.907121\n",
            "[137/3000] Train Acc: 0.977939 Loss: 0.071269 | Val Acc: 0.332454 loss: 4.974324\n",
            "saving model with acc 0.332\n",
            "[138/3000] Train Acc: 0.979917 Loss: 0.070834 | Val Acc: 0.337525 loss: 5.170396\n",
            "saving model with acc 0.338\n",
            "[139/3000] Train Acc: 0.975150 Loss: 0.078871 | Val Acc: 0.306491 loss: 5.426329\n",
            "[140/3000] Train Acc: 0.979815 Loss: 0.066671 | Val Acc: 0.317039 loss: 5.439622\n",
            "[141/3000] Train Acc: 0.975657 Loss: 0.069428 | Val Acc: 0.306694 loss: 5.394577\n",
            "[142/3000] Train Acc: 0.978598 Loss: 0.071084 | Val Acc: 0.300000 loss: 5.731575\n",
            "[143/3000] Train Acc: 0.974795 Loss: 0.079369 | Val Acc: 0.284787 loss: 5.893466\n",
            "[144/3000] Train Acc: 0.979258 Loss: 0.064468 | Val Acc: 0.284584 loss: 5.841023\n",
            "[145/3000] Train Acc: 0.978750 Loss: 0.061445 | Val Acc: 0.287221 loss: 5.848736\n",
            "[146/3000] Train Acc: 0.978801 Loss: 0.068409 | Val Acc: 0.303651 loss: 5.760839\n",
            "[147/3000] Train Acc: 0.977838 Loss: 0.066067 | Val Acc: 0.298377 loss: 5.651790\n",
            "[148/3000] Train Acc: 0.982199 Loss: 0.059230 | Val Acc: 0.304260 loss: 5.487380\n",
            "[149/3000] Train Acc: 0.979968 Loss: 0.054761 | Val Acc: 0.307302 loss: 5.377952\n",
            "[150/3000] Train Acc: 0.982453 Loss: 0.058213 | Val Acc: 0.294118 loss: 5.719111\n",
            "[151/3000] Train Acc: 0.978497 Loss: 0.076903 | Val Acc: 0.289047 loss: 5.879124\n",
            "[152/3000] Train Acc: 0.980982 Loss: 0.059028 | Val Acc: 0.317241 loss: 5.218800\n",
            "[153/3000] Train Acc: 0.979968 Loss: 0.068824 | Val Acc: 0.291075 loss: 5.567630\n",
            "[154/3000] Train Acc: 0.980170 Loss: 0.062592 | Val Acc: 0.309939 loss: 5.472073\n",
            "[155/3000] Train Acc: 0.978750 Loss: 0.067094 | Val Acc: 0.324746 loss: 5.293868\n",
            "[156/3000] Train Acc: 0.977685 Loss: 0.065638 | Val Acc: 0.310142 loss: 5.433011\n",
            "[157/3000] Train Acc: 0.980170 Loss: 0.062674 | Val Acc: 0.317241 loss: 5.241297\n",
            "[158/3000] Train Acc: 0.981286 Loss: 0.069473 | Val Acc: 0.306694 loss: 5.637793\n",
            "[159/3000] Train Acc: 0.977787 Loss: 0.074321 | Val Acc: 0.279108 loss: 5.792605\n",
            "[160/3000] Train Acc: 0.979815 Loss: 0.064051 | Val Acc: 0.294929 loss: 5.465038\n",
            "[161/3000] Train Acc: 0.979055 Loss: 0.065914 | Val Acc: 0.300811 loss: 5.541158\n",
            "[162/3000] Train Acc: 0.976316 Loss: 0.071845 | Val Acc: 0.316024 loss: 5.350561\n",
            "[163/3000] Train Acc: 0.976620 Loss: 0.072290 | Val Acc: 0.304260 loss: 5.394803\n",
            "[164/3000] Train Acc: 0.983061 Loss: 0.058049 | Val Acc: 0.295943 loss: 6.103198\n",
            "[165/3000] Train Acc: 0.977685 Loss: 0.069116 | Val Acc: 0.324138 loss: 5.467917\n",
            "[166/3000] Train Acc: 0.979613 Loss: 0.071455 | Val Acc: 0.316430 loss: 5.646583\n",
            "[167/3000] Train Acc: 0.976722 Loss: 0.068597 | Val Acc: 0.303043 loss: 5.826413\n",
            "[168/3000] Train Acc: 0.979105 Loss: 0.066080 | Val Acc: 0.309736 loss: 5.307211\n",
            "[169/3000] Train Acc: 0.980678 Loss: 0.058663 | Val Acc: 0.334280 loss: 4.998299\n",
            "[170/3000] Train Acc: 0.981641 Loss: 0.057305 | Val Acc: 0.329412 loss: 5.264437\n",
            "[171/3000] Train Acc: 0.980728 Loss: 0.057460 | Val Acc: 0.310142 loss: 5.463096\n",
            "[172/3000] Train Acc: 0.983467 Loss: 0.058634 | Val Acc: 0.310345 loss: 5.367684\n",
            "[173/3000] Train Acc: 0.983112 Loss: 0.055416 | Val Acc: 0.333063 loss: 5.219836\n",
            "[174/3000] Train Acc: 0.979765 Loss: 0.071573 | Val Acc: 0.313996 loss: 5.641091\n",
            "[175/3000] Train Acc: 0.978395 Loss: 0.072660 | Val Acc: 0.348479 loss: 5.174179\n",
            "saving model with acc 0.348\n",
            "[176/3000] Train Acc: 0.979511 Loss: 0.062085 | Val Acc: 0.312982 loss: 5.704131\n",
            "[177/3000] Train Acc: 0.979511 Loss: 0.073358 | Val Acc: 0.332252 loss: 5.246409\n",
            "[178/3000] Train Acc: 0.981489 Loss: 0.066969 | Val Acc: 0.298783 loss: 6.019756\n",
            "[179/3000] Train Acc: 0.981185 Loss: 0.067824 | Val Acc: 0.307708 loss: 5.641646\n",
            "[180/3000] Train Acc: 0.978193 Loss: 0.063692 | Val Acc: 0.315213 loss: 5.461295\n",
            "[181/3000] Train Acc: 0.980323 Loss: 0.055559 | Val Acc: 0.319067 loss: 5.418822\n",
            "[182/3000] Train Acc: 0.983720 Loss: 0.051704 | Val Acc: 0.321907 loss: 5.377423\n",
            "[183/3000] Train Acc: 0.980931 Loss: 0.061380 | Val Acc: 0.315010 loss: 5.638169\n",
            "[184/3000] Train Acc: 0.981895 Loss: 0.069615 | Val Acc: 0.329615 loss: 5.285587\n",
            "[185/3000] Train Acc: 0.980678 Loss: 0.066293 | Val Acc: 0.329209 loss: 5.296186\n",
            "[186/3000] Train Acc: 0.981033 Loss: 0.055715 | Val Acc: 0.331643 loss: 5.493936\n",
            "[187/3000] Train Acc: 0.982453 Loss: 0.052263 | Val Acc: 0.318661 loss: 5.299023\n",
            "[188/3000] Train Acc: 0.983163 Loss: 0.063142 | Val Acc: 0.291278 loss: 5.958986\n",
            "[189/3000] Train Acc: 0.981844 Loss: 0.063831 | Val Acc: 0.327789 loss: 5.452327\n",
            "[190/3000] Train Acc: 0.982047 Loss: 0.054169 | Val Acc: 0.330020 loss: 5.471563\n",
            "[191/3000] Train Acc: 0.983518 Loss: 0.058470 | Val Acc: 0.308925 loss: 5.859229\n",
            "[192/3000] Train Acc: 0.981996 Loss: 0.062613 | Val Acc: 0.292698 loss: 5.869698\n",
            "[193/3000] Train Acc: 0.980221 Loss: 0.072354 | Val Acc: 0.312982 loss: 5.865256\n",
            "[194/3000] Train Acc: 0.981590 Loss: 0.057830 | Val Acc: 0.311359 loss: 5.792820\n",
            "[195/3000] Train Acc: 0.985191 Loss: 0.050248 | Val Acc: 0.324949 loss: 5.621030\n",
            "[196/3000] Train Acc: 0.983112 Loss: 0.052042 | Val Acc: 0.289858 loss: 5.956410\n",
            "[197/3000] Train Acc: 0.984380 Loss: 0.056520 | Val Acc: 0.308722 loss: 5.819397\n",
            "[198/3000] Train Acc: 0.979410 Loss: 0.071856 | Val Acc: 0.317039 loss: 5.757717\n",
            "[199/3000] Train Acc: 0.981083 Loss: 0.055567 | Val Acc: 0.335091 loss: 5.494510\n",
            "[200/3000] Train Acc: 0.983010 Loss: 0.058343 | Val Acc: 0.323732 loss: 5.592584\n",
            "[201/3000] Train Acc: 0.982706 Loss: 0.055661 | Val Acc: 0.318864 loss: 5.814268\n",
            "[202/3000] Train Acc: 0.986662 Loss: 0.042073 | Val Acc: 0.314402 loss: 5.692695\n",
            "[203/3000] Train Acc: 0.987727 Loss: 0.036393 | Val Acc: 0.339757 loss: 5.406651\n",
            "[204/3000] Train Acc: 0.988741 Loss: 0.043286 | Val Acc: 0.315822 loss: 5.974681\n",
            "[205/3000] Train Acc: 0.988031 Loss: 0.036939 | Val Acc: 0.344828 loss: 5.300544\n",
            "[206/3000] Train Acc: 0.989705 Loss: 0.032819 | Val Acc: 0.322515 loss: 5.683948\n",
            "[207/3000] Train Acc: 0.987727 Loss: 0.049905 | Val Acc: 0.317647 loss: 5.797763\n",
            "[208/3000] Train Acc: 0.988488 Loss: 0.035900 | Val Acc: 0.316633 loss: 5.881829\n",
            "[209/3000] Train Acc: 0.989401 Loss: 0.039590 | Val Acc: 0.308722 loss: 5.922908\n",
            "[210/3000] Train Acc: 0.989756 Loss: 0.035453 | Val Acc: 0.322312 loss: 5.833785\n",
            "[211/3000] Train Acc: 0.989603 Loss: 0.029863 | Val Acc: 0.321501 loss: 5.788854\n",
            "[212/3000] Train Acc: 0.990009 Loss: 0.040505 | Val Acc: 0.332860 loss: 5.643970\n",
            "[213/3000] Train Acc: 0.990212 Loss: 0.033113 | Val Acc: 0.343813 loss: 5.381407\n",
            "[214/3000] Train Acc: 0.990922 Loss: 0.034659 | Val Acc: 0.338134 loss: 5.395486\n",
            "[215/3000] Train Acc: 0.991023 Loss: 0.028107 | Val Acc: 0.318256 loss: 6.006572\n",
            "[216/3000] Train Acc: 0.990668 Loss: 0.026658 | Val Acc: 0.327383 loss: 5.649404\n",
            "[217/3000] Train Acc: 0.991125 Loss: 0.032544 | Val Acc: 0.323732 loss: 5.606327\n",
            "[218/3000] Train Acc: 0.991074 Loss: 0.026979 | Val Acc: 0.312982 loss: 5.960550\n",
            "[219/3000] Train Acc: 0.991733 Loss: 0.038555 | Val Acc: 0.341379 loss: 5.590344\n",
            "[220/3000] Train Acc: 0.991733 Loss: 0.033177 | Val Acc: 0.331440 loss: 5.667522\n",
            "[221/3000] Train Acc: 0.991378 Loss: 0.024728 | Val Acc: 0.329412 loss: 5.774791\n",
            "[222/3000] Train Acc: 0.991733 Loss: 0.032483 | Val Acc: 0.308316 loss: 6.310802\n",
            "[223/3000] Train Acc: 0.991125 Loss: 0.026630 | Val Acc: 0.330223 loss: 5.780456\n",
            "[224/3000] Train Acc: 0.991886 Loss: 0.026221 | Val Acc: 0.319067 loss: 5.834948\n",
            "[225/3000] Train Acc: 0.990922 Loss: 0.035832 | Val Acc: 0.337931 loss: 5.445109\n",
            "[226/3000] Train Acc: 0.992443 Loss: 0.026359 | Val Acc: 0.342394 loss: 5.612987\n",
            "[227/3000] Train Acc: 0.991581 Loss: 0.026455 | Val Acc: 0.327789 loss: 5.843515\n",
            "[228/3000] Train Acc: 0.993306 Loss: 0.028327 | Val Acc: 0.340162 loss: 5.490183\n",
            "[229/3000] Train Acc: 0.992748 Loss: 0.024921 | Val Acc: 0.322515 loss: 5.813183\n",
            "[230/3000] Train Acc: 0.992190 Loss: 0.032038 | Val Acc: 0.330020 loss: 5.702555\n",
            "[231/3000] Train Acc: 0.991176 Loss: 0.037126 | Val Acc: 0.342596 loss: 5.443546\n",
            "[232/3000] Train Acc: 0.993306 Loss: 0.024121 | Val Acc: 0.327586 loss: 5.843834\n",
            "[233/3000] Train Acc: 0.993508 Loss: 0.022053 | Val Acc: 0.320892 loss: 5.798982\n",
            "[234/3000] Train Acc: 0.993711 Loss: 0.023118 | Val Acc: 0.336714 loss: 5.612751\n",
            "[235/3000] Train Acc: 0.993508 Loss: 0.024614 | Val Acc: 0.315822 loss: 5.951890\n",
            "[236/3000] Train Acc: 0.993356 Loss: 0.027841 | Val Acc: 0.331440 loss: 5.547464\n",
            "[237/3000] Train Acc: 0.993458 Loss: 0.031809 | Val Acc: 0.316836 loss: 5.851308\n",
            "[238/3000] Train Acc: 0.993965 Loss: 0.028187 | Val Acc: 0.341582 loss: 5.343581\n",
            "[239/3000] Train Acc: 0.993255 Loss: 0.023851 | Val Acc: 0.332657 loss: 5.581629\n",
            "[240/3000] Train Acc: 0.993610 Loss: 0.022406 | Val Acc: 0.331237 loss: 5.661048\n",
            "[241/3000] Train Acc: 0.993204 Loss: 0.033094 | Val Acc: 0.317039 loss: 5.923630\n",
            "[242/3000] Train Acc: 0.992748 Loss: 0.030956 | Val Acc: 0.338945 loss: 5.454537\n",
            "[243/3000] Train Acc: 0.993762 Loss: 0.021588 | Val Acc: 0.309128 loss: 6.136299\n",
            "[244/3000] Train Acc: 0.993559 Loss: 0.029403 | Val Acc: 0.324746 loss: 5.703472\n",
            "[245/3000] Train Acc: 0.993103 Loss: 0.023663 | Val Acc: 0.325558 loss: 5.861157\n",
            "[246/3000] Train Acc: 0.993762 Loss: 0.020195 | Val Acc: 0.331440 loss: 5.576329\n",
            "[247/3000] Train Acc: 0.993508 Loss: 0.026876 | Val Acc: 0.333469 loss: 5.679224\n",
            "[248/3000] Train Acc: 0.994218 Loss: 0.018481 | Val Acc: 0.321095 loss: 5.861048\n",
            "[249/3000] Train Acc: 0.993863 Loss: 0.021843 | Val Acc: 0.336917 loss: 5.531952\n",
            "[250/3000] Train Acc: 0.993508 Loss: 0.027903 | Val Acc: 0.348884 loss: 5.305657\n",
            "saving model with acc 0.349\n",
            "[251/3000] Train Acc: 0.993863 Loss: 0.025147 | Val Acc: 0.348479 loss: 5.494034\n",
            "[252/3000] Train Acc: 0.993356 Loss: 0.034748 | Val Acc: 0.333469 loss: 5.558805\n",
            "[253/3000] Train Acc: 0.995334 Loss: 0.016853 | Val Acc: 0.326369 loss: 5.754968\n",
            "[254/3000] Train Acc: 0.993813 Loss: 0.021240 | Val Acc: 0.322515 loss: 6.052872\n",
            "[255/3000] Train Acc: 0.993153 Loss: 0.039160 | Val Acc: 0.358215 loss: 5.268575\n",
            "saving model with acc 0.358\n",
            "[256/3000] Train Acc: 0.993153 Loss: 0.024664 | Val Acc: 0.352941 loss: 5.175083\n",
            "[257/3000] Train Acc: 0.994573 Loss: 0.030456 | Val Acc: 0.336511 loss: 5.880553\n",
            "[258/3000] Train Acc: 0.994168 Loss: 0.020699 | Val Acc: 0.329615 loss: 5.573617\n",
            "[259/3000] Train Acc: 0.994168 Loss: 0.019573 | Val Acc: 0.305274 loss: 6.323567\n",
            "[260/3000] Train Acc: 0.993863 Loss: 0.021999 | Val Acc: 0.332454 loss: 5.676682\n",
            "[261/3000] Train Acc: 0.993965 Loss: 0.017989 | Val Acc: 0.336105 loss: 5.763819\n",
            "[262/3000] Train Acc: 0.994776 Loss: 0.025063 | Val Acc: 0.348073 loss: 5.350402\n",
            "[263/3000] Train Acc: 0.994472 Loss: 0.023366 | Val Acc: 0.335700 loss: 5.671452\n",
            "[264/3000] Train Acc: 0.993965 Loss: 0.019887 | Val Acc: 0.339959 loss: 5.624896\n",
            "[265/3000] Train Acc: 0.994675 Loss: 0.019987 | Val Acc: 0.324138 loss: 6.239689\n",
            "[266/3000] Train Acc: 0.994117 Loss: 0.020744 | Val Acc: 0.324544 loss: 5.727044\n",
            "[267/3000] Train Acc: 0.993661 Loss: 0.027044 | Val Acc: 0.320690 loss: 5.911673\n",
            "[268/3000] Train Acc: 0.994573 Loss: 0.024393 | Val Acc: 0.337728 loss: 5.590937\n",
            "[269/3000] Train Acc: 0.994776 Loss: 0.018554 | Val Acc: 0.344422 loss: 5.590297\n",
            "[270/3000] Train Acc: 0.994573 Loss: 0.027082 | Val Acc: 0.344828 loss: 5.629226\n",
            "[271/3000] Train Acc: 0.995030 Loss: 0.017158 | Val Acc: 0.343002 loss: 5.684517\n",
            "[272/3000] Train Acc: 0.993052 Loss: 0.036338 | Val Acc: 0.338945 loss: 5.814605\n",
            "[273/3000] Train Acc: 0.994218 Loss: 0.018665 | Val Acc: 0.328600 loss: 6.113833\n",
            "[274/3000] Train Acc: 0.995537 Loss: 0.024014 | Val Acc: 0.330426 loss: 6.181916\n",
            "[275/3000] Train Acc: 0.993255 Loss: 0.020358 | Val Acc: 0.345639 loss: 5.759758\n",
            "[276/3000] Train Acc: 0.994928 Loss: 0.017264 | Val Acc: 0.329006 loss: 5.816709\n",
            "[277/3000] Train Acc: 0.994371 Loss: 0.016855 | Val Acc: 0.350304 loss: 5.585626\n",
            "[278/3000] Train Acc: 0.994218 Loss: 0.021828 | Val Acc: 0.310345 loss: 6.591838\n",
            "[279/3000] Train Acc: 0.994016 Loss: 0.023295 | Val Acc: 0.353955 loss: 5.343658\n",
            "[280/3000] Train Acc: 0.995233 Loss: 0.024536 | Val Acc: 0.335903 loss: 5.921611\n",
            "[281/3000] Train Acc: 0.994878 Loss: 0.016755 | Val Acc: 0.329006 loss: 6.066010\n",
            "[282/3000] Train Acc: 0.994320 Loss: 0.020925 | Val Acc: 0.326369 loss: 6.361998\n",
            "[283/3000] Train Acc: 0.994371 Loss: 0.034164 | Val Acc: 0.324949 loss: 6.081105\n",
            "[284/3000] Train Acc: 0.995131 Loss: 0.028530 | Val Acc: 0.336105 loss: 5.703393\n",
            "[285/3000] Train Acc: 0.995081 Loss: 0.018507 | Val Acc: 0.344422 loss: 5.894001\n",
            "[286/3000] Train Acc: 0.994421 Loss: 0.022099 | Val Acc: 0.326369 loss: 6.335939\n",
            "[287/3000] Train Acc: 0.995639 Loss: 0.022210 | Val Acc: 0.325152 loss: 6.207428\n",
            "[288/3000] Train Acc: 0.995081 Loss: 0.019397 | Val Acc: 0.320487 loss: 6.393398\n",
            "[289/3000] Train Acc: 0.993965 Loss: 0.027564 | Val Acc: 0.325152 loss: 6.244955\n",
            "[290/3000] Train Acc: 0.994016 Loss: 0.022965 | Val Acc: 0.340365 loss: 5.776366\n",
            "[291/3000] Train Acc: 0.995081 Loss: 0.024787 | Val Acc: 0.340568 loss: 5.828299\n",
            "[292/3000] Train Acc: 0.995537 Loss: 0.019981 | Val Acc: 0.342596 loss: 5.842599\n",
            "[293/3000] Train Acc: 0.995030 Loss: 0.025904 | Val Acc: 0.332454 loss: 5.944219\n",
            "[294/3000] Train Acc: 0.994421 Loss: 0.027725 | Val Acc: 0.344219 loss: 5.752122\n",
            "[295/3000] Train Acc: 0.994928 Loss: 0.034138 | Val Acc: 0.330832 loss: 6.217727\n",
            "[296/3000] Train Acc: 0.995943 Loss: 0.025994 | Val Acc: 0.320487 loss: 6.193035\n",
            "[297/3000] Train Acc: 0.994776 Loss: 0.024853 | Val Acc: 0.326572 loss: 6.200588\n",
            "[298/3000] Train Acc: 0.994928 Loss: 0.029497 | Val Acc: 0.352130 loss: 5.560537\n",
            "[299/3000] Train Acc: 0.994979 Loss: 0.020008 | Val Acc: 0.345639 loss: 5.672959\n",
            "[300/3000] Train Acc: 0.994776 Loss: 0.017865 | Val Acc: 0.345639 loss: 5.577104\n",
            "[301/3000] Train Acc: 0.994472 Loss: 0.018017 | Val Acc: 0.338540 loss: 5.873183\n",
            "[302/3000] Train Acc: 0.993965 Loss: 0.026475 | Val Acc: 0.350913 loss: 5.585259\n",
            "[303/3000] Train Acc: 0.995283 Loss: 0.015624 | Val Acc: 0.328195 loss: 6.245394\n",
            "[304/3000] Train Acc: 0.995588 Loss: 0.027435 | Val Acc: 0.329209 loss: 6.149758\n",
            "[305/3000] Train Acc: 0.994573 Loss: 0.025422 | Val Acc: 0.333671 loss: 6.032452\n",
            "[306/3000] Train Acc: 0.995233 Loss: 0.024711 | Val Acc: 0.347667 loss: 5.789663\n",
            "[307/3000] Train Acc: 0.995334 Loss: 0.016896 | Val Acc: 0.330629 loss: 5.945112\n",
            "[308/3000] Train Acc: 0.995233 Loss: 0.031511 | Val Acc: 0.336917 loss: 5.883426\n",
            "[309/3000] Train Acc: 0.994878 Loss: 0.026745 | Val Acc: 0.329817 loss: 6.048237\n",
            "[310/3000] Train Acc: 0.994675 Loss: 0.019068 | Val Acc: 0.332657 loss: 6.293705\n",
            "[311/3000] Train Acc: 0.995385 Loss: 0.018254 | Val Acc: 0.320081 loss: 6.193113\n",
            "[312/3000] Train Acc: 0.995689 Loss: 0.020821 | Val Acc: 0.342596 loss: 5.870539\n",
            "[313/3000] Train Acc: 0.995588 Loss: 0.019283 | Val Acc: 0.341176 loss: 5.867963\n",
            "[314/3000] Train Acc: 0.996095 Loss: 0.021130 | Val Acc: 0.355984 loss: 5.530688\n",
            "[315/3000] Train Acc: 0.994421 Loss: 0.021149 | Val Acc: 0.353753 loss: 5.654942\n",
            "[316/3000] Train Acc: 0.995486 Loss: 0.023522 | Val Acc: 0.344625 loss: 5.737586\n",
            "[317/3000] Train Acc: 0.995233 Loss: 0.016441 | Val Acc: 0.340974 loss: 5.941672\n",
            "[318/3000] Train Acc: 0.996602 Loss: 0.030182 | Val Acc: 0.337728 loss: 6.067177\n",
            "[319/3000] Train Acc: 0.995994 Loss: 0.018431 | Val Acc: 0.321907 loss: 6.300085\n",
            "[320/3000] Train Acc: 0.995486 Loss: 0.024374 | Val Acc: 0.338337 loss: 6.106716\n",
            "[321/3000] Train Acc: 0.995334 Loss: 0.024142 | Val Acc: 0.339959 loss: 5.977727\n",
            "[322/3000] Train Acc: 0.994776 Loss: 0.018735 | Val Acc: 0.336714 loss: 5.881626\n",
            "[323/3000] Train Acc: 0.995689 Loss: 0.018867 | Val Acc: 0.354564 loss: 5.680382\n",
            "[324/3000] Train Acc: 0.995436 Loss: 0.017179 | Val Acc: 0.331034 loss: 6.247348\n",
            "[325/3000] Train Acc: 0.995537 Loss: 0.024757 | Val Acc: 0.354158 loss: 5.674818\n",
            "[326/3000] Train Acc: 0.994472 Loss: 0.018009 | Val Acc: 0.336917 loss: 5.966579\n",
            "[327/3000] Train Acc: 0.996349 Loss: 0.011679 | Val Acc: 0.324138 loss: 6.218478\n",
            "[328/3000] Train Acc: 0.995689 Loss: 0.018389 | Val Acc: 0.326369 loss: 6.081368\n",
            "[329/3000] Train Acc: 0.995639 Loss: 0.013650 | Val Acc: 0.340365 loss: 5.981222\n",
            "[330/3000] Train Acc: 0.995740 Loss: 0.014203 | Val Acc: 0.330629 loss: 6.100577\n",
            "[331/3000] Train Acc: 0.995588 Loss: 0.028629 | Val Acc: 0.334888 loss: 5.923174\n",
            "[332/3000] Train Acc: 0.995689 Loss: 0.021787 | Val Acc: 0.327181 loss: 6.078186\n",
            "[333/3000] Train Acc: 0.995537 Loss: 0.014777 | Val Acc: 0.326775 loss: 6.351622\n",
            "[334/3000] Train Acc: 0.995233 Loss: 0.017304 | Val Acc: 0.334077 loss: 6.140600\n",
            "[335/3000] Train Acc: 0.995588 Loss: 0.027422 | Val Acc: 0.338540 loss: 5.904620\n",
            "[336/3000] Train Acc: 0.995841 Loss: 0.019374 | Val Acc: 0.340568 loss: 5.945712\n",
            "[337/3000] Train Acc: 0.995537 Loss: 0.024580 | Val Acc: 0.341176 loss: 5.943113\n",
            "[338/3000] Train Acc: 0.995131 Loss: 0.015345 | Val Acc: 0.334483 loss: 6.078020\n",
            "[339/3000] Train Acc: 0.994979 Loss: 0.017021 | Val Acc: 0.335700 loss: 5.940624\n",
            "[340/3000] Train Acc: 0.996349 Loss: 0.013976 | Val Acc: 0.334888 loss: 5.960205\n",
            "[341/3000] Train Acc: 0.996653 Loss: 0.016158 | Val Acc: 0.347870 loss: 5.792035\n",
            "[342/3000] Train Acc: 0.995182 Loss: 0.022164 | Val Acc: 0.337525 loss: 6.082609\n",
            "[343/3000] Train Acc: 0.995588 Loss: 0.020866 | Val Acc: 0.338540 loss: 5.978925\n",
            "[344/3000] Train Acc: 0.996349 Loss: 0.015516 | Val Acc: 0.334280 loss: 6.104293\n",
            "[345/3000] Train Acc: 0.996349 Loss: 0.019511 | Val Acc: 0.356592 loss: 5.592011\n",
            "[346/3000] Train Acc: 0.995588 Loss: 0.014565 | Val Acc: 0.336308 loss: 5.940389\n",
            "[347/3000] Train Acc: 0.995588 Loss: 0.027015 | Val Acc: 0.333874 loss: 6.270045\n",
            "[348/3000] Train Acc: 0.995537 Loss: 0.023856 | Val Acc: 0.340568 loss: 6.106696\n",
            "[349/3000] Train Acc: 0.996044 Loss: 0.016852 | Val Acc: 0.332860 loss: 6.097610\n",
            "[350/3000] Train Acc: 0.996196 Loss: 0.020566 | Val Acc: 0.340365 loss: 5.976696\n",
            "[351/3000] Train Acc: 0.995740 Loss: 0.013229 | Val Acc: 0.346653 loss: 5.833906\n",
            "[352/3000] Train Acc: 0.995385 Loss: 0.031294 | Val Acc: 0.361460 loss: 5.766583\n",
            "saving model with acc 0.361\n",
            "[353/3000] Train Acc: 0.996044 Loss: 0.020527 | Val Acc: 0.354361 loss: 5.843202\n",
            "[354/3000] Train Acc: 0.995030 Loss: 0.016697 | Val Acc: 0.355781 loss: 5.629802\n",
            "[355/3000] Train Acc: 0.995791 Loss: 0.021831 | Val Acc: 0.355375 loss: 5.658538\n",
            "[356/3000] Train Acc: 0.996044 Loss: 0.027472 | Val Acc: 0.358621 loss: 5.664451\n",
            "[357/3000] Train Acc: 0.995740 Loss: 0.022428 | Val Acc: 0.358215 loss: 5.388835\n",
            "[358/3000] Train Acc: 0.996044 Loss: 0.017746 | Val Acc: 0.352535 loss: 5.580766\n",
            "[359/3000] Train Acc: 0.995131 Loss: 0.016777 | Val Acc: 0.346856 loss: 5.956026\n",
            "[360/3000] Train Acc: 0.995994 Loss: 0.015694 | Val Acc: 0.361055 loss: 5.622269\n",
            "[361/3000] Train Acc: 0.996399 Loss: 0.021264 | Val Acc: 0.355172 loss: 5.675480\n",
            "[362/3000] Train Acc: 0.995740 Loss: 0.018267 | Val Acc: 0.342191 loss: 5.848167\n",
            "[363/3000] Train Acc: 0.996704 Loss: 0.018411 | Val Acc: 0.361258 loss: 5.733113\n",
            "[364/3000] Train Acc: 0.996196 Loss: 0.022259 | Val Acc: 0.346045 loss: 5.883649\n",
            "[365/3000] Train Acc: 0.996247 Loss: 0.016164 | Val Acc: 0.346856 loss: 5.835974\n",
            "[366/3000] Train Acc: 0.995537 Loss: 0.014270 | Val Acc: 0.345842 loss: 5.677749\n",
            "[367/3000] Train Acc: 0.996349 Loss: 0.020349 | Val Acc: 0.361663 loss: 5.580630\n",
            "saving model with acc 0.362\n",
            "[368/3000] Train Acc: 0.995892 Loss: 0.018634 | Val Acc: 0.341988 loss: 5.983207\n",
            "[369/3000] Train Acc: 0.996349 Loss: 0.028709 | Val Acc: 0.363895 loss: 5.582533\n",
            "saving model with acc 0.364\n",
            "[370/3000] Train Acc: 0.996095 Loss: 0.023959 | Val Acc: 0.352130 loss: 5.812767\n",
            "[371/3000] Train Acc: 0.995892 Loss: 0.014767 | Val Acc: 0.334888 loss: 6.283440\n",
            "[372/3000] Train Acc: 0.995791 Loss: 0.014232 | Val Acc: 0.347870 loss: 5.971645\n",
            "[373/3000] Train Acc: 0.995791 Loss: 0.014192 | Val Acc: 0.340974 loss: 6.119673\n",
            "[374/3000] Train Acc: 0.996450 Loss: 0.019209 | Val Acc: 0.336714 loss: 6.122748\n",
            "[375/3000] Train Acc: 0.996704 Loss: 0.023944 | Val Acc: 0.328195 loss: 6.359456\n",
            "[376/3000] Train Acc: 0.996196 Loss: 0.017179 | Val Acc: 0.348073 loss: 5.849900\n",
            "[377/3000] Train Acc: 0.996095 Loss: 0.023693 | Val Acc: 0.346856 loss: 5.868069\n",
            "[378/3000] Train Acc: 0.996602 Loss: 0.017407 | Val Acc: 0.345436 loss: 6.067520\n",
            "[379/3000] Train Acc: 0.996044 Loss: 0.021744 | Val Acc: 0.349493 loss: 5.878878\n",
            "[380/3000] Train Acc: 0.995689 Loss: 0.013811 | Val Acc: 0.349493 loss: 5.806401\n",
            "[381/3000] Train Acc: 0.995841 Loss: 0.013698 | Val Acc: 0.353753 loss: 5.645479\n",
            "[382/3000] Train Acc: 0.996602 Loss: 0.019732 | Val Acc: 0.347667 loss: 5.958305\n",
            "[383/3000] Train Acc: 0.995639 Loss: 0.014815 | Val Acc: 0.354970 loss: 5.517016\n",
            "[384/3000] Train Acc: 0.996095 Loss: 0.027257 | Val Acc: 0.334280 loss: 5.989954\n",
            "[385/3000] Train Acc: 0.995994 Loss: 0.015554 | Val Acc: 0.343611 loss: 5.951223\n",
            "[386/3000] Train Acc: 0.995689 Loss: 0.019405 | Val Acc: 0.338540 loss: 5.759938\n",
            "[387/3000] Train Acc: 0.996450 Loss: 0.013910 | Val Acc: 0.331846 loss: 6.013712\n",
            "[388/3000] Train Acc: 0.995740 Loss: 0.017440 | Val Acc: 0.365923 loss: 5.388588\n",
            "saving model with acc 0.366\n",
            "[389/3000] Train Acc: 0.995791 Loss: 0.033548 | Val Acc: 0.329615 loss: 6.522233\n",
            "[390/3000] Train Acc: 0.996044 Loss: 0.017776 | Val Acc: 0.333671 loss: 6.126724\n",
            "[391/3000] Train Acc: 0.996653 Loss: 0.022769 | Val Acc: 0.339757 loss: 5.939251\n",
            "[392/3000] Train Acc: 0.996754 Loss: 0.020408 | Val Acc: 0.349696 loss: 5.664219\n",
            "[393/3000] Train Acc: 0.995131 Loss: 0.030566 | Val Acc: 0.323529 loss: 6.397323\n",
            "[394/3000] Train Acc: 0.996196 Loss: 0.017568 | Val Acc: 0.335091 loss: 6.075585\n",
            "[395/3000] Train Acc: 0.995588 Loss: 0.030457 | Val Acc: 0.329412 loss: 6.090721\n",
            "[396/3000] Train Acc: 0.995791 Loss: 0.019825 | Val Acc: 0.331440 loss: 6.127987\n",
            "[397/3000] Train Acc: 0.995740 Loss: 0.012861 | Val Acc: 0.317444 loss: 6.303688\n",
            "[398/3000] Train Acc: 0.996501 Loss: 0.011848 | Val Acc: 0.340568 loss: 6.044877\n",
            "[399/3000] Train Acc: 0.995588 Loss: 0.018328 | Val Acc: 0.348884 loss: 5.824947\n",
            "[400/3000] Train Acc: 0.995233 Loss: 0.018277 | Val Acc: 0.347870 loss: 5.585846\n",
            "[401/3000] Train Acc: 0.995994 Loss: 0.014653 | Val Acc: 0.345030 loss: 5.811423\n",
            "[402/3000] Train Acc: 0.996095 Loss: 0.022457 | Val Acc: 0.328398 loss: 6.203216\n",
            "[403/3000] Train Acc: 0.996602 Loss: 0.015831 | Val Acc: 0.319878 loss: 6.693077\n",
            "[404/3000] Train Acc: 0.996501 Loss: 0.016649 | Val Acc: 0.343205 loss: 5.946767\n",
            "[405/3000] Train Acc: 0.995588 Loss: 0.028310 | Val Acc: 0.350304 loss: 5.801648\n",
            "[406/3000] Train Acc: 0.996044 Loss: 0.027278 | Val Acc: 0.335903 loss: 5.920694\n",
            "[407/3000] Train Acc: 0.996653 Loss: 0.028148 | Val Acc: 0.328398 loss: 6.232208\n",
            "[408/3000] Train Acc: 0.996349 Loss: 0.011749 | Val Acc: 0.360852 loss: 5.517397\n",
            "[409/3000] Train Acc: 0.996095 Loss: 0.019455 | Val Acc: 0.337525 loss: 5.924386\n",
            "[410/3000] Train Acc: 0.996095 Loss: 0.016986 | Val Acc: 0.339351 loss: 6.010648\n",
            "[411/3000] Train Acc: 0.995994 Loss: 0.020099 | Val Acc: 0.330426 loss: 6.161254\n",
            "[412/3000] Train Acc: 0.996653 Loss: 0.012074 | Val Acc: 0.344422 loss: 5.911067\n",
            "[413/3000] Train Acc: 0.996551 Loss: 0.014766 | Val Acc: 0.337931 loss: 5.849961\n",
            "[414/3000] Train Acc: 0.996349 Loss: 0.017053 | Val Acc: 0.349493 loss: 5.866457\n",
            "[415/3000] Train Acc: 0.995537 Loss: 0.018203 | Val Acc: 0.340771 loss: 5.897558\n",
            "[416/3000] Train Acc: 0.995841 Loss: 0.014376 | Val Acc: 0.339148 loss: 5.880608\n",
            "[417/3000] Train Acc: 0.996856 Loss: 0.014378 | Val Acc: 0.338540 loss: 6.179995\n",
            "[418/3000] Train Acc: 0.996450 Loss: 0.024667 | Val Acc: 0.345233 loss: 5.968990\n",
            "[419/3000] Train Acc: 0.995892 Loss: 0.020545 | Val Acc: 0.337931 loss: 5.921305\n",
            "[420/3000] Train Acc: 0.996501 Loss: 0.017804 | Val Acc: 0.328195 loss: 6.126701\n",
            "[421/3000] Train Acc: 0.996247 Loss: 0.012943 | Val Acc: 0.350507 loss: 5.894630\n",
            "[422/3000] Train Acc: 0.996754 Loss: 0.019266 | Val Acc: 0.345639 loss: 5.862393\n",
            "[423/3000] Train Acc: 0.996856 Loss: 0.022631 | Val Acc: 0.336308 loss: 6.231703\n",
            "[424/3000] Train Acc: 0.995740 Loss: 0.015699 | Val Acc: 0.347465 loss: 5.934770\n",
            "[425/3000] Train Acc: 0.996704 Loss: 0.012792 | Val Acc: 0.335294 loss: 5.993930\n",
            "[426/3000] Train Acc: 0.995892 Loss: 0.011822 | Val Acc: 0.344016 loss: 5.854811\n",
            "[427/3000] Train Acc: 0.996906 Loss: 0.014099 | Val Acc: 0.334483 loss: 6.107083\n",
            "[428/3000] Train Acc: 0.996501 Loss: 0.018992 | Val Acc: 0.348276 loss: 5.843986\n",
            "[429/3000] Train Acc: 0.996044 Loss: 0.016083 | Val Acc: 0.346045 loss: 6.016789\n",
            "[430/3000] Train Acc: 0.996349 Loss: 0.015768 | Val Acc: 0.335700 loss: 6.143551\n",
            "[431/3000] Train Acc: 0.996044 Loss: 0.014488 | Val Acc: 0.326775 loss: 6.208883\n",
            "[432/3000] Train Acc: 0.996298 Loss: 0.013395 | Val Acc: 0.345030 loss: 5.938770\n",
            "[433/3000] Train Acc: 0.996196 Loss: 0.019546 | Val Acc: 0.333266 loss: 6.134477\n",
            "[434/3000] Train Acc: 0.995994 Loss: 0.016881 | Val Acc: 0.338337 loss: 6.036118\n",
            "[435/3000] Train Acc: 0.996501 Loss: 0.026555 | Val Acc: 0.346247 loss: 5.801601\n",
            "[436/3000] Train Acc: 0.996399 Loss: 0.020929 | Val Acc: 0.333874 loss: 6.053711\n",
            "[437/3000] Train Acc: 0.996298 Loss: 0.020562 | Val Acc: 0.323529 loss: 6.285982\n",
            "[438/3000] Train Acc: 0.995994 Loss: 0.023806 | Val Acc: 0.340162 loss: 5.988091\n",
            "[439/3000] Train Acc: 0.996704 Loss: 0.017200 | Val Acc: 0.364097 loss: 5.538781\n",
            "[440/3000] Train Acc: 0.996399 Loss: 0.015830 | Val Acc: 0.328195 loss: 6.315073\n",
            "[441/3000] Train Acc: 0.996754 Loss: 0.018607 | Val Acc: 0.351521 loss: 5.606437\n",
            "[442/3000] Train Acc: 0.996247 Loss: 0.021072 | Val Acc: 0.337323 loss: 6.125483\n",
            "[443/3000] Train Acc: 0.996653 Loss: 0.022542 | Val Acc: 0.323327 loss: 6.235925\n",
            "[444/3000] Train Acc: 0.996349 Loss: 0.026503 | Val Acc: 0.346856 loss: 5.854549\n",
            "[445/3000] Train Acc: 0.996044 Loss: 0.017253 | Val Acc: 0.337323 loss: 6.147767\n",
            "[446/3000] Train Acc: 0.996501 Loss: 0.014000 | Val Acc: 0.338134 loss: 6.048054\n",
            "[447/3000] Train Acc: 0.996349 Loss: 0.018142 | Val Acc: 0.332454 loss: 6.125633\n",
            "[448/3000] Train Acc: 0.996450 Loss: 0.016393 | Val Acc: 0.322110 loss: 6.558474\n",
            "[449/3000] Train Acc: 0.997261 Loss: 0.020215 | Val Acc: 0.348073 loss: 5.827882\n",
            "[450/3000] Train Acc: 0.996805 Loss: 0.017135 | Val Acc: 0.345842 loss: 5.921460\n",
            "[451/3000] Train Acc: 0.995994 Loss: 0.014644 | Val Acc: 0.342596 loss: 5.948800\n",
            "[452/3000] Train Acc: 0.996247 Loss: 0.021457 | Val Acc: 0.335091 loss: 6.239949\n",
            "[453/3000] Train Acc: 0.996704 Loss: 0.015497 | Val Acc: 0.334686 loss: 5.982151\n",
            "[454/3000] Train Acc: 0.996957 Loss: 0.011669 | Val Acc: 0.339148 loss: 6.130072\n",
            "[455/3000] Train Acc: 0.996551 Loss: 0.016183 | Val Acc: 0.349087 loss: 5.785395\n",
            "[456/3000] Train Acc: 0.996298 Loss: 0.016782 | Val Acc: 0.348682 loss: 5.650449\n",
            "[457/3000] Train Acc: 0.995943 Loss: 0.017423 | Val Acc: 0.322921 loss: 6.472122\n",
            "[458/3000] Train Acc: 0.996349 Loss: 0.011139 | Val Acc: 0.341379 loss: 6.039020\n",
            "[459/3000] Train Acc: 0.996551 Loss: 0.015761 | Val Acc: 0.339554 loss: 5.959571\n",
            "[460/3000] Train Acc: 0.996450 Loss: 0.017455 | Val Acc: 0.337931 loss: 5.882578\n",
            "[461/3000] Train Acc: 0.996095 Loss: 0.011778 | Val Acc: 0.350101 loss: 5.814226\n",
            "[462/3000] Train Acc: 0.996095 Loss: 0.023045 | Val Acc: 0.338945 loss: 6.102913\n",
            "[463/3000] Train Acc: 0.996146 Loss: 0.028927 | Val Acc: 0.346247 loss: 5.850912\n",
            "[464/3000] Train Acc: 0.996704 Loss: 0.015299 | Val Acc: 0.338540 loss: 6.008350\n",
            "[465/3000] Train Acc: 0.995943 Loss: 0.014225 | Val Acc: 0.338337 loss: 6.099708\n",
            "[466/3000] Train Acc: 0.996602 Loss: 0.013921 | Val Acc: 0.331440 loss: 6.148773\n",
            "[467/3000] Train Acc: 0.995689 Loss: 0.015294 | Val Acc: 0.349087 loss: 5.757053\n",
            "[468/3000] Train Acc: 0.996146 Loss: 0.021035 | Val Acc: 0.333671 loss: 6.044139\n",
            "[469/3000] Train Acc: 0.996501 Loss: 0.013153 | Val Acc: 0.331237 loss: 6.083125\n",
            "[470/3000] Train Acc: 0.995841 Loss: 0.016806 | Val Acc: 0.360243 loss: 5.452069\n",
            "[471/3000] Train Acc: 0.996146 Loss: 0.012326 | Val Acc: 0.343002 loss: 5.868641\n",
            "[472/3000] Train Acc: 0.996399 Loss: 0.013999 | Val Acc: 0.341379 loss: 6.101400\n",
            "[473/3000] Train Acc: 0.997109 Loss: 0.014987 | Val Acc: 0.346045 loss: 5.903397\n",
            "[474/3000] Train Acc: 0.996602 Loss: 0.021425 | Val Acc: 0.345639 loss: 5.944195\n",
            "[475/3000] Train Acc: 0.995943 Loss: 0.012824 | Val Acc: 0.330426 loss: 6.173135\n",
            "[476/3000] Train Acc: 0.997211 Loss: 0.016150 | Val Acc: 0.348682 loss: 5.840829\n",
            "[477/3000] Train Acc: 0.996349 Loss: 0.029231 | Val Acc: 0.337728 loss: 6.139619\n",
            "[478/3000] Train Acc: 0.996551 Loss: 0.014185 | Val Acc: 0.332657 loss: 5.977694\n",
            "[479/3000] Train Acc: 0.996551 Loss: 0.016578 | Val Acc: 0.347465 loss: 5.847346\n",
            "[480/3000] Train Acc: 0.996957 Loss: 0.015183 | Val Acc: 0.334280 loss: 6.195421\n",
            "[481/3000] Train Acc: 0.996551 Loss: 0.014902 | Val Acc: 0.335091 loss: 6.145644\n",
            "[482/3000] Train Acc: 0.996754 Loss: 0.010499 | Val Acc: 0.354361 loss: 5.755373\n",
            "[483/3000] Train Acc: 0.996653 Loss: 0.014357 | Val Acc: 0.345842 loss: 5.909212\n",
            "[484/3000] Train Acc: 0.996805 Loss: 0.011418 | Val Acc: 0.348073 loss: 5.919025\n",
            "[485/3000] Train Acc: 0.996044 Loss: 0.018100 | Val Acc: 0.329006 loss: 6.251359\n",
            "[486/3000] Train Acc: 0.996298 Loss: 0.011303 | Val Acc: 0.339554 loss: 5.994943\n",
            "[487/3000] Train Acc: 0.996602 Loss: 0.016916 | Val Acc: 0.345639 loss: 5.684869\n",
            "[488/3000] Train Acc: 0.996146 Loss: 0.012751 | Val Acc: 0.340568 loss: 5.957036\n",
            "[489/3000] Train Acc: 0.997008 Loss: 0.018673 | Val Acc: 0.340365 loss: 5.995858\n",
            "[490/3000] Train Acc: 0.996095 Loss: 0.019610 | Val Acc: 0.357606 loss: 5.632895\n",
            "[491/3000] Train Acc: 0.996146 Loss: 0.016704 | Val Acc: 0.333874 loss: 5.914216\n",
            "[492/3000] Train Acc: 0.995841 Loss: 0.016035 | Val Acc: 0.340568 loss: 6.075535\n",
            "[493/3000] Train Acc: 0.996399 Loss: 0.018856 | Val Acc: 0.347870 loss: 5.913336\n",
            "[494/3000] Train Acc: 0.996044 Loss: 0.026167 | Val Acc: 0.359838 loss: 5.496949\n",
            "[495/3000] Train Acc: 0.996551 Loss: 0.012735 | Val Acc: 0.338540 loss: 6.042707\n",
            "[496/3000] Train Acc: 0.996653 Loss: 0.019083 | Val Acc: 0.336511 loss: 6.233247\n",
            "[497/3000] Train Acc: 0.996501 Loss: 0.016151 | Val Acc: 0.350710 loss: 5.742423\n",
            "[498/3000] Train Acc: 0.995385 Loss: 0.012477 | Val Acc: 0.345436 loss: 5.777327\n",
            "[499/3000] Train Acc: 0.997109 Loss: 0.019400 | Val Acc: 0.338337 loss: 5.787047\n",
            "[500/3000] Train Acc: 0.996349 Loss: 0.013329 | Val Acc: 0.343002 loss: 5.997373\n",
            "[501/3000] Train Acc: 0.996551 Loss: 0.022515 | Val Acc: 0.352333 loss: 5.804801\n",
            "[502/3000] Train Acc: 0.995740 Loss: 0.015291 | Val Acc: 0.324544 loss: 6.529884\n",
            "[503/3000] Train Acc: 0.996501 Loss: 0.020616 | Val Acc: 0.335903 loss: 5.955272\n",
            "[504/3000] Train Acc: 0.995385 Loss: 0.020301 | Val Acc: 0.340162 loss: 6.051567\n",
            "[505/3000] Train Acc: 0.996247 Loss: 0.034661 | Val Acc: 0.359432 loss: 5.636033\n",
            "[506/3000] Train Acc: 0.996501 Loss: 0.021481 | Val Acc: 0.327992 loss: 6.174674\n",
            "[507/3000] Train Acc: 0.996501 Loss: 0.012283 | Val Acc: 0.322718 loss: 6.473417\n",
            "[508/3000] Train Acc: 0.997109 Loss: 0.016739 | Val Acc: 0.329615 loss: 6.117680\n",
            "[509/3000] Train Acc: 0.996551 Loss: 0.020562 | Val Acc: 0.334686 loss: 6.177965\n",
            "[510/3000] Train Acc: 0.996247 Loss: 0.012052 | Val Acc: 0.341785 loss: 6.006007\n",
            "[511/3000] Train Acc: 0.997059 Loss: 0.010736 | Val Acc: 0.350710 loss: 5.833446\n",
            "[512/3000] Train Acc: 0.996450 Loss: 0.015630 | Val Acc: 0.336105 loss: 6.266502\n",
            "[513/3000] Train Acc: 0.996298 Loss: 0.014236 | Val Acc: 0.344625 loss: 5.868783\n",
            "[514/3000] Train Acc: 0.996146 Loss: 0.014284 | Val Acc: 0.341176 loss: 6.093342\n",
            "[515/3000] Train Acc: 0.995943 Loss: 0.022278 | Val Acc: 0.332049 loss: 6.307120\n",
            "[516/3000] Train Acc: 0.996805 Loss: 0.026017 | Val Acc: 0.334686 loss: 6.259095\n",
            "[517/3000] Train Acc: 0.997008 Loss: 0.010895 | Val Acc: 0.339757 loss: 5.981897\n",
            "[518/3000] Train Acc: 0.996957 Loss: 0.011529 | Val Acc: 0.333266 loss: 6.247282\n",
            "[519/3000] Train Acc: 0.996349 Loss: 0.017216 | Val Acc: 0.354158 loss: 5.751826\n",
            "[520/3000] Train Acc: 0.996298 Loss: 0.025539 | Val Acc: 0.343813 loss: 5.971188\n",
            "[521/3000] Train Acc: 0.996704 Loss: 0.018621 | Val Acc: 0.338742 loss: 6.024478\n",
            "[522/3000] Train Acc: 0.996754 Loss: 0.020632 | Val Acc: 0.343205 loss: 6.116285\n",
            "[523/3000] Train Acc: 0.996501 Loss: 0.016073 | Val Acc: 0.337525 loss: 6.062055\n",
            "[524/3000] Train Acc: 0.996551 Loss: 0.027756 | Val Acc: 0.327789 loss: 6.227146\n",
            "[525/3000] Train Acc: 0.996805 Loss: 0.012825 | Val Acc: 0.344016 loss: 5.898322\n",
            "[526/3000] Train Acc: 0.996754 Loss: 0.012841 | Val Acc: 0.343205 loss: 5.954914\n",
            "[527/3000] Train Acc: 0.995740 Loss: 0.016998 | Val Acc: 0.369574 loss: 5.295792\n",
            "saving model with acc 0.370\n",
            "[528/3000] Train Acc: 0.996095 Loss: 0.024783 | Val Acc: 0.340771 loss: 5.997307\n",
            "[529/3000] Train Acc: 0.997312 Loss: 0.014981 | Val Acc: 0.337120 loss: 6.278729\n",
            "[530/3000] Train Acc: 0.995689 Loss: 0.017622 | Val Acc: 0.343002 loss: 5.923638\n",
            "[531/3000] Train Acc: 0.996957 Loss: 0.012130 | Val Acc: 0.351724 loss: 5.879900\n",
            "[532/3000] Train Acc: 0.996704 Loss: 0.015782 | Val Acc: 0.330629 loss: 6.209563\n",
            "[533/3000] Train Acc: 0.996602 Loss: 0.011170 | Val Acc: 0.327992 loss: 6.418058\n",
            "[534/3000] Train Acc: 0.996805 Loss: 0.029769 | Val Acc: 0.335497 loss: 6.051441\n",
            "[535/3000] Train Acc: 0.997312 Loss: 0.015448 | Val Acc: 0.339554 loss: 6.175172\n",
            "[536/3000] Train Acc: 0.996298 Loss: 0.010678 | Val Acc: 0.368966 loss: 5.449857\n",
            "[537/3000] Train Acc: 0.996044 Loss: 0.023797 | Val Acc: 0.337525 loss: 6.091623\n",
            "[538/3000] Train Acc: 0.996551 Loss: 0.016732 | Val Acc: 0.351318 loss: 5.579880\n",
            "[539/3000] Train Acc: 0.996551 Loss: 0.013083 | Val Acc: 0.344219 loss: 5.898523\n",
            "[540/3000] Train Acc: 0.996906 Loss: 0.012938 | Val Acc: 0.320284 loss: 6.591974\n",
            "[541/3000] Train Acc: 0.996704 Loss: 0.016350 | Val Acc: 0.327586 loss: 6.269699\n",
            "[542/3000] Train Acc: 0.996805 Loss: 0.014975 | Val Acc: 0.340771 loss: 6.159924\n",
            "[543/3000] Train Acc: 0.997211 Loss: 0.009937 | Val Acc: 0.341582 loss: 5.980138\n",
            "[544/3000] Train Acc: 0.997109 Loss: 0.014956 | Val Acc: 0.346450 loss: 5.849112\n",
            "[545/3000] Train Acc: 0.995537 Loss: 0.039417 | Val Acc: 0.345030 loss: 6.088246\n",
            "[546/3000] Train Acc: 0.996196 Loss: 0.030825 | Val Acc: 0.342596 loss: 5.723067\n",
            "[547/3000] Train Acc: 0.997059 Loss: 0.016116 | Val Acc: 0.341379 loss: 6.011140\n",
            "[548/3000] Train Acc: 0.997109 Loss: 0.021656 | Val Acc: 0.335497 loss: 6.101599\n",
            "[549/3000] Train Acc: 0.996957 Loss: 0.011586 | Val Acc: 0.335091 loss: 6.089182\n",
            "[550/3000] Train Acc: 0.996146 Loss: 0.011856 | Val Acc: 0.336917 loss: 5.976360\n",
            "[551/3000] Train Acc: 0.996856 Loss: 0.012401 | Val Acc: 0.327789 loss: 6.201532\n",
            "[552/3000] Train Acc: 0.997160 Loss: 0.009295 | Val Acc: 0.340974 loss: 5.976081\n",
            "[553/3000] Train Acc: 0.996501 Loss: 0.013733 | Val Acc: 0.339554 loss: 6.018630\n",
            "[554/3000] Train Acc: 0.996298 Loss: 0.013562 | Val Acc: 0.342596 loss: 6.043602\n",
            "[555/3000] Train Acc: 0.996602 Loss: 0.014156 | Val Acc: 0.351927 loss: 5.767313\n",
            "[556/3000] Train Acc: 0.996602 Loss: 0.016440 | Val Acc: 0.329209 loss: 6.279185\n",
            "[557/3000] Train Acc: 0.996044 Loss: 0.011589 | Val Acc: 0.335294 loss: 6.153602\n",
            "[558/3000] Train Acc: 0.996095 Loss: 0.018291 | Val Acc: 0.341988 loss: 5.961370\n",
            "[559/3000] Train Acc: 0.996298 Loss: 0.011163 | Val Acc: 0.340162 loss: 6.114394\n",
            "[560/3000] Train Acc: 0.995791 Loss: 0.014309 | Val Acc: 0.341988 loss: 5.980593\n",
            "[561/3000] Train Acc: 0.996754 Loss: 0.012253 | Val Acc: 0.342799 loss: 5.990981\n",
            "[562/3000] Train Acc: 0.996906 Loss: 0.009902 | Val Acc: 0.344219 loss: 6.110239\n",
            "[563/3000] Train Acc: 0.996551 Loss: 0.013933 | Val Acc: 0.341988 loss: 5.811139\n",
            "[564/3000] Train Acc: 0.997363 Loss: 0.010778 | Val Acc: 0.338742 loss: 6.175143\n",
            "[565/3000] Train Acc: 0.996957 Loss: 0.017463 | Val Acc: 0.341785 loss: 6.032912\n",
            "[566/3000] Train Acc: 0.997008 Loss: 0.015120 | Val Acc: 0.346450 loss: 5.841527\n",
            "[567/3000] Train Acc: 0.996856 Loss: 0.022740 | Val Acc: 0.356795 loss: 5.511741\n",
            "[568/3000] Train Acc: 0.996856 Loss: 0.016448 | Val Acc: 0.335903 loss: 6.111686\n",
            "[569/3000] Train Acc: 0.996754 Loss: 0.016462 | Val Acc: 0.330832 loss: 6.369938\n",
            "[570/3000] Train Acc: 0.997059 Loss: 0.018039 | Val Acc: 0.344625 loss: 6.065663\n",
            "[571/3000] Train Acc: 0.997211 Loss: 0.008818 | Val Acc: 0.342799 loss: 5.947414\n",
            "[572/3000] Train Acc: 0.996957 Loss: 0.017164 | Val Acc: 0.345030 loss: 5.860155\n",
            "[573/3000] Train Acc: 0.996298 Loss: 0.024937 | Val Acc: 0.364300 loss: 5.646548\n",
            "[574/3000] Train Acc: 0.996146 Loss: 0.018843 | Val Acc: 0.346450 loss: 6.023082\n",
            "[575/3000] Train Acc: 0.996247 Loss: 0.019917 | Val Acc: 0.349290 loss: 5.958800\n",
            "[576/3000] Train Acc: 0.996856 Loss: 0.021185 | Val Acc: 0.347059 loss: 5.914551\n",
            "[577/3000] Train Acc: 0.996602 Loss: 0.021661 | Val Acc: 0.351927 loss: 5.831225\n",
            "[578/3000] Train Acc: 0.996551 Loss: 0.026772 | Val Acc: 0.329615 loss: 6.484249\n",
            "[579/3000] Train Acc: 0.996450 Loss: 0.017997 | Val Acc: 0.333266 loss: 6.263330\n",
            "[580/3000] Train Acc: 0.997515 Loss: 0.010760 | Val Acc: 0.347059 loss: 5.922387\n",
            "[581/3000] Train Acc: 0.997414 Loss: 0.013244 | Val Acc: 0.343002 loss: 5.968026\n",
            "[582/3000] Train Acc: 0.996906 Loss: 0.018702 | Val Acc: 0.348073 loss: 5.749206\n",
            "[583/3000] Train Acc: 0.996805 Loss: 0.015971 | Val Acc: 0.334483 loss: 5.959974\n",
            "[584/3000] Train Acc: 0.995943 Loss: 0.025087 | Val Acc: 0.349899 loss: 5.792399\n",
            "[585/3000] Train Acc: 0.996906 Loss: 0.014791 | Val Acc: 0.325761 loss: 6.425017\n",
            "[586/3000] Train Acc: 0.996653 Loss: 0.022432 | Val Acc: 0.348479 loss: 5.821968\n",
            "[587/3000] Train Acc: 0.996653 Loss: 0.020208 | Val Acc: 0.332860 loss: 6.279327\n",
            "[588/3000] Train Acc: 0.996704 Loss: 0.012334 | Val Acc: 0.355578 loss: 5.620156\n",
            "[589/3000] Train Acc: 0.997515 Loss: 0.022189 | Val Acc: 0.333671 loss: 6.307544\n",
            "[590/3000] Train Acc: 0.997160 Loss: 0.011057 | Val Acc: 0.328398 loss: 6.228083\n",
            "[591/3000] Train Acc: 0.996704 Loss: 0.013286 | Val Acc: 0.343002 loss: 5.991708\n",
            "[592/3000] Train Acc: 0.996501 Loss: 0.021568 | Val Acc: 0.332454 loss: 6.202109\n",
            "[593/3000] Train Acc: 0.996602 Loss: 0.019190 | Val Acc: 0.339148 loss: 6.082901\n",
            "[594/3000] Train Acc: 0.997008 Loss: 0.014225 | Val Acc: 0.340568 loss: 6.129896\n",
            "[595/3000] Train Acc: 0.996298 Loss: 0.021062 | Val Acc: 0.328803 loss: 6.450692\n",
            "[596/3000] Train Acc: 0.996805 Loss: 0.017151 | Val Acc: 0.328600 loss: 6.258957\n",
            "[597/3000] Train Acc: 0.996399 Loss: 0.025084 | Val Acc: 0.324949 loss: 6.604176\n",
            "[598/3000] Train Acc: 0.996551 Loss: 0.011728 | Val Acc: 0.345233 loss: 6.066709\n",
            "[599/3000] Train Acc: 0.996957 Loss: 0.010783 | Val Acc: 0.355984 loss: 5.692384\n",
            "[600/3000] Train Acc: 0.996704 Loss: 0.015930 | Val Acc: 0.344016 loss: 5.844560\n",
            "[601/3000] Train Acc: 0.996653 Loss: 0.019585 | Val Acc: 0.332860 loss: 6.376787\n",
            "[602/3000] Train Acc: 0.997769 Loss: 0.017293 | Val Acc: 0.331034 loss: 6.268485\n",
            "[603/3000] Train Acc: 0.997160 Loss: 0.020607 | Val Acc: 0.358215 loss: 5.645745\n",
            "[604/3000] Train Acc: 0.996704 Loss: 0.018766 | Val Acc: 0.348073 loss: 5.858575\n",
            "[605/3000] Train Acc: 0.996856 Loss: 0.011518 | Val Acc: 0.339351 loss: 6.197607\n",
            "[606/3000] Train Acc: 0.996349 Loss: 0.011160 | Val Acc: 0.334888 loss: 6.130953\n",
            "[607/3000] Train Acc: 0.996957 Loss: 0.011477 | Val Acc: 0.340568 loss: 5.931024\n",
            "[608/3000] Train Acc: 0.996957 Loss: 0.013667 | Val Acc: 0.347059 loss: 5.835901\n",
            "[609/3000] Train Acc: 0.997160 Loss: 0.011363 | Val Acc: 0.340365 loss: 5.987921\n",
            "[610/3000] Train Acc: 0.997059 Loss: 0.009397 | Val Acc: 0.346653 loss: 5.789237\n",
            "[611/3000] Train Acc: 0.996805 Loss: 0.013359 | Val Acc: 0.329615 loss: 6.308780\n",
            "[612/3000] Train Acc: 0.996704 Loss: 0.013908 | Val Acc: 0.338540 loss: 6.182055\n",
            "[613/3000] Train Acc: 0.997059 Loss: 0.009835 | Val Acc: 0.352941 loss: 5.711197\n",
            "[614/3000] Train Acc: 0.996501 Loss: 0.015006 | Val Acc: 0.333266 loss: 6.066663\n",
            "[615/3000] Train Acc: 0.996450 Loss: 0.020411 | Val Acc: 0.333671 loss: 6.164169\n",
            "[616/3000] Train Acc: 0.996653 Loss: 0.021507 | Val Acc: 0.350710 loss: 5.898331\n",
            "[617/3000] Train Acc: 0.997059 Loss: 0.016135 | Val Acc: 0.345030 loss: 5.941841\n",
            "[618/3000] Train Acc: 0.996957 Loss: 0.008933 | Val Acc: 0.343002 loss: 5.901129\n",
            "[619/3000] Train Acc: 0.996906 Loss: 0.018979 | Val Acc: 0.356998 loss: 5.851802\n",
            "[620/3000] Train Acc: 0.996653 Loss: 0.014365 | Val Acc: 0.347870 loss: 5.891392\n",
            "[621/3000] Train Acc: 0.995486 Loss: 0.017799 | Val Acc: 0.333063 loss: 6.174861\n",
            "[622/3000] Train Acc: 0.997261 Loss: 0.011539 | Val Acc: 0.351927 loss: 5.685395\n",
            "[623/3000] Train Acc: 0.996501 Loss: 0.022707 | Val Acc: 0.345030 loss: 5.808412\n",
            "[624/3000] Train Acc: 0.997312 Loss: 0.010194 | Val Acc: 0.339757 loss: 5.868327\n",
            "[625/3000] Train Acc: 0.997464 Loss: 0.015871 | Val Acc: 0.355984 loss: 5.693011\n",
            "[626/3000] Train Acc: 0.997008 Loss: 0.009986 | Val Acc: 0.336308 loss: 6.280361\n",
            "[627/3000] Train Acc: 0.996602 Loss: 0.021931 | Val Acc: 0.349087 loss: 5.777384\n",
            "[628/3000] Train Acc: 0.996653 Loss: 0.029597 | Val Acc: 0.329615 loss: 6.614839\n",
            "[629/3000] Train Acc: 0.996501 Loss: 0.015671 | Val Acc: 0.342394 loss: 6.010926\n",
            "[630/3000] Train Acc: 0.995892 Loss: 0.018564 | Val Acc: 0.355172 loss: 5.754584\n",
            "[631/3000] Train Acc: 0.996247 Loss: 0.020953 | Val Acc: 0.348682 loss: 5.820798\n",
            "[632/3000] Train Acc: 0.996450 Loss: 0.015137 | Val Acc: 0.344219 loss: 6.011230\n",
            "[633/3000] Train Acc: 0.996602 Loss: 0.012992 | Val Acc: 0.327992 loss: 6.367077\n",
            "[634/3000] Train Acc: 0.996501 Loss: 0.014762 | Val Acc: 0.339959 loss: 5.924867\n",
            "[635/3000] Train Acc: 0.996906 Loss: 0.030672 | Val Acc: 0.344422 loss: 6.011253\n",
            "[636/3000] Train Acc: 0.995994 Loss: 0.014213 | Val Acc: 0.353550 loss: 5.787686\n",
            "[637/3000] Train Acc: 0.997059 Loss: 0.014177 | Val Acc: 0.344625 loss: 6.124932\n",
            "[638/3000] Train Acc: 0.997008 Loss: 0.014961 | Val Acc: 0.342394 loss: 5.912584\n",
            "[639/3000] Train Acc: 0.996957 Loss: 0.010637 | Val Acc: 0.349290 loss: 5.803972\n",
            "[640/3000] Train Acc: 0.996653 Loss: 0.015634 | Val Acc: 0.356998 loss: 5.840360\n",
            "[641/3000] Train Acc: 0.996044 Loss: 0.023768 | Val Acc: 0.348884 loss: 5.800843\n",
            "[642/3000] Train Acc: 0.996399 Loss: 0.026026 | Val Acc: 0.345639 loss: 5.889502\n",
            "[643/3000] Train Acc: 0.996602 Loss: 0.025856 | Val Acc: 0.341379 loss: 6.070481\n",
            "[644/3000] Train Acc: 0.996856 Loss: 0.012498 | Val Acc: 0.347262 loss: 5.918090\n",
            "[645/3000] Train Acc: 0.996856 Loss: 0.016675 | Val Acc: 0.358012 loss: 5.820707\n",
            "[646/3000] Train Acc: 0.996957 Loss: 0.017953 | Val Acc: 0.334280 loss: 6.027029\n",
            "[647/3000] Train Acc: 0.997261 Loss: 0.009980 | Val Acc: 0.342394 loss: 6.056499\n",
            "[648/3000] Train Acc: 0.996501 Loss: 0.018238 | Val Acc: 0.355781 loss: 5.726575\n",
            "[649/3000] Train Acc: 0.997211 Loss: 0.021006 | Val Acc: 0.325355 loss: 6.165246\n",
            "[650/3000] Train Acc: 0.996754 Loss: 0.027996 | Val Acc: 0.338134 loss: 6.238099\n",
            "[651/3000] Train Acc: 0.996399 Loss: 0.017173 | Val Acc: 0.353347 loss: 5.666879\n",
            "[652/3000] Train Acc: 0.996349 Loss: 0.021118 | Val Acc: 0.346045 loss: 5.937450\n",
            "[653/3000] Train Acc: 0.997008 Loss: 0.019034 | Val Acc: 0.366734 loss: 5.411745\n",
            "[654/3000] Train Acc: 0.996196 Loss: 0.025737 | Val Acc: 0.340568 loss: 5.961710\n",
            "[655/3000] Train Acc: 0.996551 Loss: 0.020161 | Val Acc: 0.341379 loss: 6.020770\n",
            "[656/3000] Train Acc: 0.996653 Loss: 0.035601 | Val Acc: 0.345639 loss: 5.911206\n",
            "[657/3000] Train Acc: 0.997616 Loss: 0.009056 | Val Acc: 0.345639 loss: 6.115660\n",
            "[658/3000] Train Acc: 0.997363 Loss: 0.014712 | Val Acc: 0.335903 loss: 6.005762\n",
            "[659/3000] Train Acc: 0.997464 Loss: 0.009348 | Val Acc: 0.343002 loss: 5.946534\n",
            "[660/3000] Train Acc: 0.996805 Loss: 0.021189 | Val Acc: 0.341785 loss: 6.121470\n",
            "[661/3000] Train Acc: 0.996906 Loss: 0.017000 | Val Acc: 0.337525 loss: 6.251788\n",
            "[662/3000] Train Acc: 0.997211 Loss: 0.019185 | Val Acc: 0.331237 loss: 6.228758\n",
            "[663/3000] Train Acc: 0.996146 Loss: 0.017020 | Val Acc: 0.334280 loss: 6.312544\n",
            "[664/3000] Train Acc: 0.995689 Loss: 0.014429 | Val Acc: 0.347262 loss: 5.940777\n",
            "[665/3000] Train Acc: 0.996957 Loss: 0.013987 | Val Acc: 0.340568 loss: 6.037248\n",
            "[666/3000] Train Acc: 0.996044 Loss: 0.024033 | Val Acc: 0.348682 loss: 5.800100\n",
            "[667/3000] Train Acc: 0.996044 Loss: 0.027374 | Val Acc: 0.336105 loss: 6.042633\n",
            "[668/3000] Train Acc: 0.996399 Loss: 0.012578 | Val Acc: 0.353347 loss: 5.787809\n",
            "[669/3000] Train Acc: 0.996551 Loss: 0.013305 | Val Acc: 0.340365 loss: 6.042780\n",
            "[670/3000] Train Acc: 0.996602 Loss: 0.012416 | Val Acc: 0.334888 loss: 6.006212\n",
            "[671/3000] Train Acc: 0.995841 Loss: 0.014055 | Val Acc: 0.332860 loss: 6.354554\n",
            "[672/3000] Train Acc: 0.996805 Loss: 0.011770 | Val Acc: 0.345030 loss: 5.991339\n",
            "[673/3000] Train Acc: 0.996044 Loss: 0.014954 | Val Acc: 0.348276 loss: 5.771767\n",
            "[674/3000] Train Acc: 0.996501 Loss: 0.019756 | Val Acc: 0.345436 loss: 5.852906\n",
            "[675/3000] Train Acc: 0.996602 Loss: 0.017378 | Val Acc: 0.340974 loss: 5.999435\n",
            "[676/3000] Train Acc: 0.995892 Loss: 0.015388 | Val Acc: 0.341988 loss: 5.933719\n",
            "[677/3000] Train Acc: 0.996602 Loss: 0.014834 | Val Acc: 0.345639 loss: 5.861854\n",
            "[678/3000] Train Acc: 0.996957 Loss: 0.012162 | Val Acc: 0.333874 loss: 6.095284\n",
            "[679/3000] Train Acc: 0.996551 Loss: 0.011777 | Val Acc: 0.352535 loss: 5.767271\n",
            "[680/3000] Train Acc: 0.996704 Loss: 0.026742 | Val Acc: 0.344016 loss: 6.030302\n",
            "[681/3000] Train Acc: 0.996501 Loss: 0.016859 | Val Acc: 0.360446 loss: 5.603826\n",
            "[682/3000] Train Acc: 0.996095 Loss: 0.014821 | Val Acc: 0.335700 loss: 6.049510\n",
            "[683/3000] Train Acc: 0.996653 Loss: 0.010380 | Val Acc: 0.347465 loss: 5.855122\n",
            "[684/3000] Train Acc: 0.996906 Loss: 0.019230 | Val Acc: 0.347667 loss: 6.018975\n",
            "[685/3000] Train Acc: 0.996805 Loss: 0.012166 | Val Acc: 0.371805 loss: 5.372927\n",
            "saving model with acc 0.372\n",
            "[686/3000] Train Acc: 0.996551 Loss: 0.011416 | Val Acc: 0.334280 loss: 6.363106\n",
            "[687/3000] Train Acc: 0.996653 Loss: 0.018899 | Val Acc: 0.348479 loss: 5.764361\n",
            "[688/3000] Train Acc: 0.996805 Loss: 0.017108 | Val Acc: 0.340568 loss: 5.906161\n",
            "[689/3000] Train Acc: 0.997008 Loss: 0.018395 | Val Acc: 0.346856 loss: 6.029896\n",
            "[690/3000] Train Acc: 0.997059 Loss: 0.008873 | Val Acc: 0.339554 loss: 6.129370\n",
            "[691/3000] Train Acc: 0.997211 Loss: 0.013222 | Val Acc: 0.353550 loss: 5.647290\n",
            "[692/3000] Train Acc: 0.996805 Loss: 0.016381 | Val Acc: 0.345639 loss: 6.174280\n",
            "[693/3000] Train Acc: 0.997109 Loss: 0.015012 | Val Acc: 0.333671 loss: 6.106529\n",
            "[694/3000] Train Acc: 0.996298 Loss: 0.013344 | Val Acc: 0.353347 loss: 5.639761\n",
            "[695/3000] Train Acc: 0.996196 Loss: 0.018761 | Val Acc: 0.345030 loss: 5.719168\n",
            "[696/3000] Train Acc: 0.997160 Loss: 0.012959 | Val Acc: 0.340568 loss: 6.009927\n",
            "[697/3000] Train Acc: 0.996653 Loss: 0.019323 | Val Acc: 0.332049 loss: 6.056838\n",
            "[698/3000] Train Acc: 0.995740 Loss: 0.016905 | Val Acc: 0.335294 loss: 6.257099\n",
            "[699/3000] Train Acc: 0.997008 Loss: 0.021915 | Val Acc: 0.328600 loss: 6.278201\n",
            "[700/3000] Train Acc: 0.996044 Loss: 0.018170 | Val Acc: 0.350507 loss: 5.989312\n",
            "[701/3000] Train Acc: 0.996399 Loss: 0.018791 | Val Acc: 0.342799 loss: 5.963112\n",
            "[702/3000] Train Acc: 0.996501 Loss: 0.011828 | Val Acc: 0.343002 loss: 6.002909\n",
            "[703/3000] Train Acc: 0.997008 Loss: 0.014700 | Val Acc: 0.344219 loss: 5.924690\n",
            "[704/3000] Train Acc: 0.997109 Loss: 0.015229 | Val Acc: 0.347465 loss: 5.882670\n",
            "[705/3000] Train Acc: 0.996653 Loss: 0.014033 | Val Acc: 0.343205 loss: 5.875930\n",
            "[706/3000] Train Acc: 0.996501 Loss: 0.023361 | Val Acc: 0.334077 loss: 6.252616\n",
            "[707/3000] Train Acc: 0.996653 Loss: 0.017739 | Val Acc: 0.336714 loss: 6.274278\n",
            "[708/3000] Train Acc: 0.996805 Loss: 0.014425 | Val Acc: 0.339757 loss: 6.023910\n",
            "[709/3000] Train Acc: 0.997261 Loss: 0.009638 | Val Acc: 0.353144 loss: 5.873893\n",
            "[710/3000] Train Acc: 0.996450 Loss: 0.016454 | Val Acc: 0.347667 loss: 5.878560\n",
            "[711/3000] Train Acc: 0.997109 Loss: 0.011693 | Val Acc: 0.333874 loss: 6.150575\n",
            "[712/3000] Train Acc: 0.996957 Loss: 0.014617 | Val Acc: 0.340771 loss: 6.130410\n",
            "[713/3000] Train Acc: 0.996247 Loss: 0.014762 | Val Acc: 0.349493 loss: 5.980785\n",
            "[714/3000] Train Acc: 0.997008 Loss: 0.009895 | Val Acc: 0.338337 loss: 6.186596\n",
            "[715/3000] Train Acc: 0.997211 Loss: 0.011037 | Val Acc: 0.335294 loss: 5.910470\n",
            "[716/3000] Train Acc: 0.997464 Loss: 0.020586 | Val Acc: 0.342799 loss: 5.932556\n",
            "[717/3000] Train Acc: 0.996196 Loss: 0.016140 | Val Acc: 0.341176 loss: 6.041657\n",
            "[718/3000] Train Acc: 0.996044 Loss: 0.015391 | Val Acc: 0.348682 loss: 5.937718\n",
            "[719/3000] Train Acc: 0.996399 Loss: 0.020646 | Val Acc: 0.344219 loss: 5.991893\n",
            "[720/3000] Train Acc: 0.996044 Loss: 0.016560 | Val Acc: 0.340568 loss: 5.952390\n",
            "[721/3000] Train Acc: 0.996704 Loss: 0.020097 | Val Acc: 0.354361 loss: 5.610137\n",
            "[722/3000] Train Acc: 0.997109 Loss: 0.018428 | Val Acc: 0.358215 loss: 5.687370\n",
            "[723/3000] Train Acc: 0.996450 Loss: 0.020816 | Val Acc: 0.327383 loss: 6.669449\n",
            "[724/3000] Train Acc: 0.996704 Loss: 0.013933 | Val Acc: 0.351724 loss: 5.843413\n",
            "[725/3000] Train Acc: 0.997109 Loss: 0.017143 | Val Acc: 0.340974 loss: 6.258435\n",
            "[726/3000] Train Acc: 0.996196 Loss: 0.016548 | Val Acc: 0.348682 loss: 5.951549\n",
            "[727/3000] Train Acc: 0.996602 Loss: 0.013787 | Val Acc: 0.341582 loss: 6.014299\n",
            "[728/3000] Train Acc: 0.996704 Loss: 0.018771 | Val Acc: 0.355781 loss: 5.799508\n",
            "[729/3000] Train Acc: 0.997109 Loss: 0.013737 | Val Acc: 0.343205 loss: 5.977639\n",
            "[730/3000] Train Acc: 0.996856 Loss: 0.017124 | Val Acc: 0.341379 loss: 5.937727\n",
            "[731/3000] Train Acc: 0.996653 Loss: 0.020123 | Val Acc: 0.330426 loss: 6.134683\n",
            "[732/3000] Train Acc: 0.995943 Loss: 0.013101 | Val Acc: 0.333874 loss: 6.232873\n",
            "[733/3000] Train Acc: 0.996856 Loss: 0.029489 | Val Acc: 0.353955 loss: 5.750392\n",
            "[734/3000] Train Acc: 0.996704 Loss: 0.010929 | Val Acc: 0.344016 loss: 6.007079\n",
            "[735/3000] Train Acc: 0.996856 Loss: 0.009938 | Val Acc: 0.345639 loss: 5.847255\n",
            "[736/3000] Train Acc: 0.997312 Loss: 0.011485 | Val Acc: 0.347059 loss: 5.990092\n",
            "[737/3000] Train Acc: 0.996298 Loss: 0.014584 | Val Acc: 0.338337 loss: 6.027885\n",
            "[738/3000] Train Acc: 0.997160 Loss: 0.010167 | Val Acc: 0.356187 loss: 5.637952\n",
            "[739/3000] Train Acc: 0.997059 Loss: 0.017712 | Val Acc: 0.345233 loss: 5.699924\n",
            "[740/3000] Train Acc: 0.996754 Loss: 0.015123 | Val Acc: 0.340771 loss: 5.979726\n",
            "[741/3000] Train Acc: 0.996551 Loss: 0.018589 | Val Acc: 0.333874 loss: 6.131209\n",
            "[742/3000] Train Acc: 0.996551 Loss: 0.033944 | Val Acc: 0.327789 loss: 6.467086\n",
            "[743/3000] Train Acc: 0.995892 Loss: 0.014392 | Val Acc: 0.358215 loss: 5.694435\n",
            "[744/3000] Train Acc: 0.996501 Loss: 0.010816 | Val Acc: 0.347667 loss: 5.870297\n",
            "[745/3000] Train Acc: 0.996754 Loss: 0.019879 | Val Acc: 0.338337 loss: 6.286849\n",
            "[746/3000] Train Acc: 0.997414 Loss: 0.009732 | Val Acc: 0.336105 loss: 6.324416\n",
            "[747/3000] Train Acc: 0.997109 Loss: 0.009625 | Val Acc: 0.343611 loss: 5.949163\n",
            "[748/3000] Train Acc: 0.996095 Loss: 0.012607 | Val Acc: 0.344422 loss: 6.018304\n",
            "[749/3000] Train Acc: 0.996957 Loss: 0.013162 | Val Acc: 0.337728 loss: 6.207048\n",
            "[750/3000] Train Acc: 0.996957 Loss: 0.018040 | Val Acc: 0.336917 loss: 6.296820\n",
            "[751/3000] Train Acc: 0.996704 Loss: 0.018651 | Val Acc: 0.356592 loss: 5.640054\n",
            "[752/3000] Train Acc: 0.996501 Loss: 0.020321 | Val Acc: 0.351318 loss: 5.922539\n",
            "[753/3000] Train Acc: 0.997414 Loss: 0.021788 | Val Acc: 0.343205 loss: 5.943082\n",
            "[754/3000] Train Acc: 0.996196 Loss: 0.018036 | Val Acc: 0.340974 loss: 5.941442\n",
            "[755/3000] Train Acc: 0.997160 Loss: 0.010985 | Val Acc: 0.351521 loss: 5.732770\n",
            "[756/3000] Train Acc: 0.996146 Loss: 0.013866 | Val Acc: 0.338134 loss: 6.004213\n",
            "[757/3000] Train Acc: 0.996856 Loss: 0.017870 | Val Acc: 0.349493 loss: 5.782451\n",
            "[758/3000] Train Acc: 0.996653 Loss: 0.017082 | Val Acc: 0.327992 loss: 6.499773\n",
            "[759/3000] Train Acc: 0.996349 Loss: 0.012889 | Val Acc: 0.336917 loss: 6.275453\n",
            "[760/3000] Train Acc: 0.997109 Loss: 0.014323 | Val Acc: 0.354158 loss: 5.828917\n",
            "[761/3000] Train Acc: 0.996856 Loss: 0.012411 | Val Acc: 0.346045 loss: 5.845615\n",
            "[762/3000] Train Acc: 0.996957 Loss: 0.010316 | Val Acc: 0.347262 loss: 5.905838\n",
            "[763/3000] Train Acc: 0.996349 Loss: 0.023258 | Val Acc: 0.337120 loss: 6.075172\n",
            "[764/3000] Train Acc: 0.997566 Loss: 0.017873 | Val Acc: 0.326166 loss: 6.340964\n",
            "[765/3000] Train Acc: 0.996196 Loss: 0.013107 | Val Acc: 0.347465 loss: 5.956760\n",
            "[766/3000] Train Acc: 0.997211 Loss: 0.022830 | Val Acc: 0.340974 loss: 5.873566\n",
            "[767/3000] Train Acc: 0.997211 Loss: 0.017655 | Val Acc: 0.339959 loss: 5.905626\n",
            "[768/3000] Train Acc: 0.996044 Loss: 0.017463 | Val Acc: 0.347465 loss: 5.943030\n",
            "[769/3000] Train Acc: 0.995841 Loss: 0.020259 | Val Acc: 0.340771 loss: 6.015744\n",
            "[770/3000] Train Acc: 0.996653 Loss: 0.013775 | Val Acc: 0.349899 loss: 5.698802\n",
            "[771/3000] Train Acc: 0.995283 Loss: 0.021630 | Val Acc: 0.354361 loss: 5.622291\n",
            "[772/3000] Train Acc: 0.996704 Loss: 0.019093 | Val Acc: 0.347870 loss: 5.896701\n",
            "[773/3000] Train Acc: 0.996704 Loss: 0.027132 | Val Acc: 0.345639 loss: 5.938667\n",
            "[774/3000] Train Acc: 0.997059 Loss: 0.009919 | Val Acc: 0.354767 loss: 5.737488\n",
            "[775/3000] Train Acc: 0.996653 Loss: 0.019399 | Val Acc: 0.352130 loss: 5.752561\n",
            "[776/3000] Train Acc: 0.997312 Loss: 0.018090 | Val Acc: 0.349696 loss: 5.880366\n",
            "[777/3000] Train Acc: 0.997008 Loss: 0.027966 | Val Acc: 0.349290 loss: 5.883542\n",
            "[778/3000] Train Acc: 0.997515 Loss: 0.011285 | Val Acc: 0.343408 loss: 5.862486\n",
            "[779/3000] Train Acc: 0.996856 Loss: 0.015498 | Val Acc: 0.340365 loss: 6.198336\n",
            "[780/3000] Train Acc: 0.997667 Loss: 0.013926 | Val Acc: 0.327789 loss: 6.326040\n",
            "[781/3000] Train Acc: 0.996450 Loss: 0.020675 | Val Acc: 0.351521 loss: 5.778620\n",
            "[782/3000] Train Acc: 0.996856 Loss: 0.012127 | Val Acc: 0.327789 loss: 6.420853\n",
            "[783/3000] Train Acc: 0.996653 Loss: 0.013802 | Val Acc: 0.324746 loss: 6.285739\n",
            "[784/3000] Train Acc: 0.996551 Loss: 0.027637 | Val Acc: 0.345436 loss: 5.894820\n",
            "[785/3000] Train Acc: 0.996450 Loss: 0.013307 | Val Acc: 0.352535 loss: 5.892472\n",
            "[786/3000] Train Acc: 0.997211 Loss: 0.011943 | Val Acc: 0.332657 loss: 6.273040\n",
            "[787/3000] Train Acc: 0.996856 Loss: 0.017017 | Val Acc: 0.360649 loss: 5.624092\n",
            "[788/3000] Train Acc: 0.996602 Loss: 0.011263 | Val Acc: 0.341176 loss: 6.019829\n",
            "[789/3000] Train Acc: 0.996095 Loss: 0.017772 | Val Acc: 0.352130 loss: 5.854833\n",
            "[790/3000] Train Acc: 0.997211 Loss: 0.014008 | Val Acc: 0.344016 loss: 5.840517\n",
            "[791/3000] Train Acc: 0.996653 Loss: 0.016919 | Val Acc: 0.354564 loss: 5.694021\n",
            "[792/3000] Train Acc: 0.996247 Loss: 0.016512 | Val Acc: 0.345842 loss: 5.946125\n",
            "[793/3000] Train Acc: 0.996856 Loss: 0.021852 | Val Acc: 0.347262 loss: 5.763402\n",
            "[794/3000] Train Acc: 0.996906 Loss: 0.016040 | Val Acc: 0.346653 loss: 5.781953\n",
            "[795/3000] Train Acc: 0.996095 Loss: 0.017902 | Val Acc: 0.340162 loss: 5.905642\n",
            "[796/3000] Train Acc: 0.997718 Loss: 0.008664 | Val Acc: 0.339351 loss: 6.076510\n",
            "[797/3000] Train Acc: 0.996602 Loss: 0.010876 | Val Acc: 0.335700 loss: 6.083094\n",
            "[798/3000] Train Acc: 0.996653 Loss: 0.029625 | Val Acc: 0.356998 loss: 5.642632\n",
            "[799/3000] Train Acc: 0.997008 Loss: 0.012848 | Val Acc: 0.349696 loss: 5.829419\n",
            "[800/3000] Train Acc: 0.997312 Loss: 0.015143 | Val Acc: 0.353753 loss: 5.609809\n",
            "[801/3000] Train Acc: 0.997464 Loss: 0.008206 | Val Acc: 0.353347 loss: 5.883069\n",
            "[802/3000] Train Acc: 0.996501 Loss: 0.028448 | Val Acc: 0.338134 loss: 6.136678\n",
            "[803/3000] Train Acc: 0.996551 Loss: 0.018792 | Val Acc: 0.362069 loss: 5.410489\n",
            "[804/3000] Train Acc: 0.995740 Loss: 0.012591 | Val Acc: 0.346247 loss: 5.786388\n",
            "[805/3000] Train Acc: 0.996602 Loss: 0.024425 | Val Acc: 0.358215 loss: 5.664233\n",
            "[806/3000] Train Acc: 0.996196 Loss: 0.020357 | Val Acc: 0.356592 loss: 5.641325\n",
            "[807/3000] Train Acc: 0.996805 Loss: 0.011496 | Val Acc: 0.348884 loss: 5.640747\n",
            "[808/3000] Train Acc: 0.996450 Loss: 0.024466 | Val Acc: 0.332049 loss: 6.261569\n",
            "[809/3000] Train Acc: 0.997515 Loss: 0.015807 | Val Acc: 0.332454 loss: 6.305493\n",
            "[810/3000] Train Acc: 0.996501 Loss: 0.024103 | Val Acc: 0.330223 loss: 6.225115\n",
            "[811/3000] Train Acc: 0.996805 Loss: 0.027274 | Val Acc: 0.344016 loss: 6.042215\n",
            "[812/3000] Train Acc: 0.996754 Loss: 0.018883 | Val Acc: 0.340771 loss: 6.024859\n",
            "[813/3000] Train Acc: 0.996754 Loss: 0.011575 | Val Acc: 0.348276 loss: 5.834239\n",
            "[814/3000] Train Acc: 0.996704 Loss: 0.022445 | Val Acc: 0.352333 loss: 5.833581\n",
            "[815/3000] Train Acc: 0.995892 Loss: 0.017817 | Val Acc: 0.340365 loss: 6.230932\n",
            "[816/3000] Train Acc: 0.996957 Loss: 0.009977 | Val Acc: 0.351521 loss: 5.691822\n",
            "[817/3000] Train Acc: 0.996602 Loss: 0.015516 | Val Acc: 0.353753 loss: 5.886320\n",
            "[818/3000] Train Acc: 0.996349 Loss: 0.026351 | Val Acc: 0.340365 loss: 6.181499\n",
            "[819/3000] Train Acc: 0.996906 Loss: 0.010452 | Val Acc: 0.336511 loss: 6.269588\n",
            "[820/3000] Train Acc: 0.996247 Loss: 0.021777 | Val Acc: 0.339148 loss: 6.220029\n",
            "[821/3000] Train Acc: 0.996805 Loss: 0.015849 | Val Acc: 0.340365 loss: 5.959832\n",
            "[822/3000] Train Acc: 0.996957 Loss: 0.017313 | Val Acc: 0.344828 loss: 5.825334\n",
            "[823/3000] Train Acc: 0.996196 Loss: 0.012869 | Val Acc: 0.322718 loss: 6.743405\n",
            "[824/3000] Train Acc: 0.996602 Loss: 0.010182 | Val Acc: 0.350304 loss: 5.901489\n",
            "[825/3000] Train Acc: 0.996856 Loss: 0.013148 | Val Acc: 0.337931 loss: 6.135153\n",
            "[826/3000] Train Acc: 0.996349 Loss: 0.017588 | Val Acc: 0.348073 loss: 5.939292\n",
            "[827/3000] Train Acc: 0.996805 Loss: 0.021077 | Val Acc: 0.350507 loss: 5.848273\n",
            "[828/3000] Train Acc: 0.996399 Loss: 0.010292 | Val Acc: 0.321704 loss: 6.740541\n",
            "[829/3000] Train Acc: 0.996551 Loss: 0.012181 | Val Acc: 0.342596 loss: 6.030192\n",
            "[830/3000] Train Acc: 0.997261 Loss: 0.008637 | Val Acc: 0.341379 loss: 6.069951\n",
            "[831/3000] Train Acc: 0.996146 Loss: 0.017897 | Val Acc: 0.333671 loss: 6.259009\n",
            "[832/3000] Train Acc: 0.996754 Loss: 0.014997 | Val Acc: 0.332049 loss: 6.368037\n",
            "[833/3000] Train Acc: 0.996704 Loss: 0.015075 | Val Acc: 0.344828 loss: 5.871891\n",
            "[834/3000] Train Acc: 0.997008 Loss: 0.021021 | Val Acc: 0.361460 loss: 5.579306\n",
            "[835/3000] Train Acc: 0.996754 Loss: 0.019755 | Val Acc: 0.346045 loss: 5.835965\n",
            "[836/3000] Train Acc: 0.996501 Loss: 0.015867 | Val Acc: 0.336714 loss: 6.042550\n",
            "[837/3000] Train Acc: 0.997008 Loss: 0.023647 | Val Acc: 0.343205 loss: 6.047451\n",
            "[838/3000] Train Acc: 0.996399 Loss: 0.023303 | Val Acc: 0.353347 loss: 5.763571\n",
            "[839/3000] Train Acc: 0.997515 Loss: 0.018028 | Val Acc: 0.329209 loss: 6.330048\n",
            "[840/3000] Train Acc: 0.996247 Loss: 0.015633 | Val Acc: 0.334483 loss: 6.161503\n",
            "[841/3000] Train Acc: 0.996754 Loss: 0.029200 | Val Acc: 0.351724 loss: 5.796658\n",
            "[842/3000] Train Acc: 0.996906 Loss: 0.013266 | Val Acc: 0.332860 loss: 6.353710\n",
            "[843/3000] Train Acc: 0.996349 Loss: 0.010763 | Val Acc: 0.346856 loss: 5.980514\n",
            "[844/3000] Train Acc: 0.996399 Loss: 0.012201 | Val Acc: 0.348479 loss: 5.638765\n",
            "[845/3000] Train Acc: 0.996957 Loss: 0.021754 | Val Acc: 0.352333 loss: 5.761487\n",
            "[846/3000] Train Acc: 0.995841 Loss: 0.011839 | Val Acc: 0.349696 loss: 5.764358\n",
            "[847/3000] Train Acc: 0.996501 Loss: 0.013988 | Val Acc: 0.355375 loss: 5.639456\n",
            "[848/3000] Train Acc: 0.997261 Loss: 0.018797 | Val Acc: 0.348479 loss: 5.967543\n",
            "[849/3000] Train Acc: 0.996349 Loss: 0.012280 | Val Acc: 0.343002 loss: 6.183223\n",
            "[850/3000] Train Acc: 0.995639 Loss: 0.018684 | Val Acc: 0.348276 loss: 5.943507\n",
            "[851/3000] Train Acc: 0.996957 Loss: 0.015649 | Val Acc: 0.337728 loss: 6.103931\n",
            "[852/3000] Train Acc: 0.997059 Loss: 0.011990 | Val Acc: 0.330020 loss: 6.263574\n",
            "[853/3000] Train Acc: 0.996501 Loss: 0.014068 | Val Acc: 0.332252 loss: 6.254726\n",
            "[854/3000] Train Acc: 0.996501 Loss: 0.016952 | Val Acc: 0.342596 loss: 6.062846\n",
            "[855/3000] Train Acc: 0.997211 Loss: 0.009214 | Val Acc: 0.338134 loss: 6.121216\n",
            "[856/3000] Train Acc: 0.996551 Loss: 0.019186 | Val Acc: 0.335091 loss: 6.099439\n",
            "[857/3000] Train Acc: 0.996399 Loss: 0.011916 | Val Acc: 0.329209 loss: 6.349542\n",
            "[858/3000] Train Acc: 0.996196 Loss: 0.024228 | Val Acc: 0.347262 loss: 5.906310\n",
            "[859/3000] Train Acc: 0.996399 Loss: 0.021103 | Val Acc: 0.341988 loss: 5.898972\n",
            "[860/3000] Train Acc: 0.997211 Loss: 0.012136 | Val Acc: 0.334280 loss: 6.197988\n",
            "[861/3000] Train Acc: 0.997211 Loss: 0.009794 | Val Acc: 0.338945 loss: 6.162243\n",
            "[862/3000] Train Acc: 0.996957 Loss: 0.016020 | Val Acc: 0.345030 loss: 5.882047\n",
            "[863/3000] Train Acc: 0.997059 Loss: 0.022228 | Val Acc: 0.345639 loss: 5.935714\n",
            "[864/3000] Train Acc: 0.996856 Loss: 0.022201 | Val Acc: 0.349899 loss: 5.674822\n",
            "[865/3000] Train Acc: 0.996146 Loss: 0.010953 | Val Acc: 0.353955 loss: 5.765475\n",
            "[866/3000] Train Acc: 0.996805 Loss: 0.015571 | Val Acc: 0.365517 loss: 5.378374\n",
            "[867/3000] Train Acc: 0.996551 Loss: 0.015882 | Val Acc: 0.336308 loss: 6.027318\n",
            "[868/3000] Train Acc: 0.997160 Loss: 0.012010 | Val Acc: 0.341988 loss: 6.170236\n",
            "[869/3000] Train Acc: 0.996044 Loss: 0.012415 | Val Acc: 0.344828 loss: 5.870069\n",
            "[870/3000] Train Acc: 0.997008 Loss: 0.019738 | Val Acc: 0.359229 loss: 5.486651\n",
            "[871/3000] Train Acc: 0.996450 Loss: 0.020090 | Val Acc: 0.347262 loss: 6.257448\n",
            "[872/3000] Train Acc: 0.995994 Loss: 0.017009 | Val Acc: 0.342596 loss: 6.042638\n",
            "[873/3000] Train Acc: 0.997211 Loss: 0.014910 | Val Acc: 0.342596 loss: 5.942455\n",
            "[874/3000] Train Acc: 0.996501 Loss: 0.012860 | Val Acc: 0.353347 loss: 5.612530\n",
            "[875/3000] Train Acc: 0.996044 Loss: 0.018144 | Val Acc: 0.352333 loss: 5.794332\n",
            "[876/3000] Train Acc: 0.995892 Loss: 0.020778 | Val Acc: 0.350304 loss: 5.882394\n",
            "[877/3000] Train Acc: 0.996754 Loss: 0.020474 | Val Acc: 0.340162 loss: 6.243869\n",
            "[878/3000] Train Acc: 0.996196 Loss: 0.025505 | Val Acc: 0.344422 loss: 5.940885\n",
            "[879/3000] Train Acc: 0.997616 Loss: 0.010064 | Val Acc: 0.347667 loss: 5.951992\n",
            "[880/3000] Train Acc: 0.996704 Loss: 0.011734 | Val Acc: 0.338337 loss: 6.031349\n",
            "[881/3000] Train Acc: 0.997160 Loss: 0.010215 | Val Acc: 0.347667 loss: 5.835256\n",
            "[882/3000] Train Acc: 0.996856 Loss: 0.013688 | Val Acc: 0.336105 loss: 6.160808\n",
            "[883/3000] Train Acc: 0.996856 Loss: 0.013283 | Val Acc: 0.348276 loss: 5.834924\n",
            "[884/3000] Train Acc: 0.996754 Loss: 0.024893 | Val Acc: 0.335497 loss: 6.101183\n",
            "[885/3000] Train Acc: 0.996450 Loss: 0.011878 | Val Acc: 0.355578 loss: 5.767656\n",
            "[886/3000] Train Acc: 0.996957 Loss: 0.013739 | Val Acc: 0.343002 loss: 6.066981\n",
            "[887/3000] Train Acc: 0.996349 Loss: 0.016337 | Val Acc: 0.345436 loss: 5.779405\n",
            "[888/3000] Train Acc: 0.996298 Loss: 0.017852 | Val Acc: 0.331237 loss: 6.072797\n",
            "[889/3000] Train Acc: 0.996551 Loss: 0.021827 | Val Acc: 0.345233 loss: 5.897453\n",
            "[890/3000] Train Acc: 0.996450 Loss: 0.015588 | Val Acc: 0.333063 loss: 6.298548\n",
            "[891/3000] Train Acc: 0.996044 Loss: 0.019129 | Val Acc: 0.344422 loss: 5.966393\n",
            "[892/3000] Train Acc: 0.996298 Loss: 0.025294 | Val Acc: 0.338134 loss: 5.935514\n",
            "[893/3000] Train Acc: 0.996399 Loss: 0.014328 | Val Acc: 0.343002 loss: 6.100658\n",
            "[894/3000] Train Acc: 0.997261 Loss: 0.016242 | Val Acc: 0.351116 loss: 5.783482\n",
            "[895/3000] Train Acc: 0.996653 Loss: 0.011223 | Val Acc: 0.332860 loss: 6.366418\n",
            "[896/3000] Train Acc: 0.997109 Loss: 0.014771 | Val Acc: 0.363286 loss: 5.526918\n",
            "[897/3000] Train Acc: 0.997160 Loss: 0.013526 | Val Acc: 0.347667 loss: 5.851161\n",
            "[898/3000] Train Acc: 0.996551 Loss: 0.015651 | Val Acc: 0.343611 loss: 5.886635\n",
            "[899/3000] Train Acc: 0.996957 Loss: 0.018952 | Val Acc: 0.331034 loss: 6.239009\n",
            "[900/3000] Train Acc: 0.996095 Loss: 0.018719 | Val Acc: 0.355375 loss: 5.574621\n",
            "[901/3000] Train Acc: 0.996501 Loss: 0.030571 | Val Acc: 0.359432 loss: 5.692826\n",
            "[902/3000] Train Acc: 0.997059 Loss: 0.022585 | Val Acc: 0.340162 loss: 6.167747\n",
            "[903/3000] Train Acc: 0.997008 Loss: 0.015975 | Val Acc: 0.333063 loss: 6.085641\n",
            "[904/3000] Train Acc: 0.997059 Loss: 0.016087 | Val Acc: 0.336917 loss: 6.074537\n",
            "[905/3000] Train Acc: 0.996501 Loss: 0.015973 | Val Acc: 0.328195 loss: 6.469452\n",
            "[906/3000] Train Acc: 0.996653 Loss: 0.014429 | Val Acc: 0.343002 loss: 6.082829\n",
            "[907/3000] Train Acc: 0.997211 Loss: 0.010601 | Val Acc: 0.338134 loss: 6.068549\n",
            "[908/3000] Train Acc: 0.996957 Loss: 0.018682 | Val Acc: 0.357201 loss: 5.745636\n",
            "[909/3000] Train Acc: 0.997008 Loss: 0.026222 | Val Acc: 0.360041 loss: 5.413534\n",
            "[910/3000] Train Acc: 0.997211 Loss: 0.012755 | Val Acc: 0.341379 loss: 6.058560\n",
            "[911/3000] Train Acc: 0.996247 Loss: 0.025341 | Val Acc: 0.353347 loss: 5.730833\n",
            "[912/3000] Train Acc: 0.995892 Loss: 0.013320 | Val Acc: 0.327789 loss: 6.240862\n",
            "[913/3000] Train Acc: 0.996501 Loss: 0.010100 | Val Acc: 0.341379 loss: 5.978881\n",
            "[914/3000] Train Acc: 0.996957 Loss: 0.021416 | Val Acc: 0.362475 loss: 5.565819\n",
            "[915/3000] Train Acc: 0.996196 Loss: 0.011509 | Val Acc: 0.338742 loss: 6.055221\n",
            "[916/3000] Train Acc: 0.996704 Loss: 0.012851 | Val Acc: 0.347667 loss: 5.678141\n",
            "[917/3000] Train Acc: 0.997566 Loss: 0.017929 | Val Acc: 0.337931 loss: 6.150426\n",
            "[918/3000] Train Acc: 0.995994 Loss: 0.016679 | Val Acc: 0.339757 loss: 6.171313\n",
            "[919/3000] Train Acc: 0.997059 Loss: 0.010253 | Val Acc: 0.342799 loss: 5.948214\n",
            "[920/3000] Train Acc: 0.996856 Loss: 0.015828 | Val Acc: 0.353347 loss: 5.773893\n",
            "[921/3000] Train Acc: 0.996653 Loss: 0.011069 | Val Acc: 0.338742 loss: 6.141867\n",
            "[922/3000] Train Acc: 0.996349 Loss: 0.014524 | Val Acc: 0.336714 loss: 6.256567\n",
            "[923/3000] Train Acc: 0.997160 Loss: 0.013254 | Val Acc: 0.335497 loss: 6.027266\n",
            "[924/3000] Train Acc: 0.995994 Loss: 0.012000 | Val Acc: 0.346856 loss: 5.988899\n",
            "[925/3000] Train Acc: 0.996704 Loss: 0.010835 | Val Acc: 0.335497 loss: 6.070105\n",
            "[926/3000] Train Acc: 0.996805 Loss: 0.014871 | Val Acc: 0.345030 loss: 6.105209\n",
            "[927/3000] Train Acc: 0.997008 Loss: 0.020396 | Val Acc: 0.348682 loss: 5.892824\n",
            "[928/3000] Train Acc: 0.996906 Loss: 0.013891 | Val Acc: 0.353347 loss: 5.546501\n",
            "[929/3000] Train Acc: 0.996349 Loss: 0.019880 | Val Acc: 0.342191 loss: 5.932046\n",
            "[930/3000] Train Acc: 0.996399 Loss: 0.011829 | Val Acc: 0.329412 loss: 6.373272\n",
            "[931/3000] Train Acc: 0.997008 Loss: 0.023036 | Val Acc: 0.341379 loss: 6.116838\n",
            "[932/3000] Train Acc: 0.997414 Loss: 0.014341 | Val Acc: 0.336917 loss: 6.022355\n",
            "[933/3000] Train Acc: 0.996754 Loss: 0.013941 | Val Acc: 0.339959 loss: 5.814941\n",
            "[934/3000] Train Acc: 0.997769 Loss: 0.010167 | Val Acc: 0.335294 loss: 6.096815\n",
            "[935/3000] Train Acc: 0.996298 Loss: 0.014544 | Val Acc: 0.344219 loss: 6.002588\n",
            "[936/3000] Train Acc: 0.996704 Loss: 0.016062 | Val Acc: 0.354158 loss: 5.640736\n",
            "[937/3000] Train Acc: 0.996501 Loss: 0.012324 | Val Acc: 0.330020 loss: 6.285275\n",
            "[938/3000] Train Acc: 0.996298 Loss: 0.025434 | Val Acc: 0.341379 loss: 6.132400\n",
            "[939/3000] Train Acc: 0.996399 Loss: 0.016807 | Val Acc: 0.323935 loss: 6.485844\n",
            "[940/3000] Train Acc: 0.997718 Loss: 0.023196 | Val Acc: 0.348682 loss: 5.900843\n",
            "[941/3000] Train Acc: 0.997109 Loss: 0.016252 | Val Acc: 0.341379 loss: 5.952901\n",
            "[942/3000] Train Acc: 0.996146 Loss: 0.018653 | Val Acc: 0.339148 loss: 6.078948\n",
            "[943/3000] Train Acc: 0.995841 Loss: 0.018237 | Val Acc: 0.347870 loss: 5.793014\n",
            "[944/3000] Train Acc: 0.996602 Loss: 0.020149 | Val Acc: 0.349087 loss: 5.738900\n",
            "[945/3000] Train Acc: 0.996704 Loss: 0.022942 | Val Acc: 0.326369 loss: 6.547159\n",
            "[946/3000] Train Acc: 0.996856 Loss: 0.013106 | Val Acc: 0.342191 loss: 5.974945\n",
            "[947/3000] Train Acc: 0.996602 Loss: 0.013039 | Val Acc: 0.332454 loss: 6.360607\n",
            "[948/3000] Train Acc: 0.996349 Loss: 0.013968 | Val Acc: 0.348479 loss: 5.842733\n",
            "[949/3000] Train Acc: 0.996399 Loss: 0.017559 | Val Acc: 0.341176 loss: 6.010227\n",
            "[950/3000] Train Acc: 0.995943 Loss: 0.016278 | Val Acc: 0.343813 loss: 5.910841\n",
            "[951/3000] Train Acc: 0.997414 Loss: 0.019237 | Val Acc: 0.356592 loss: 5.769028\n",
            "[952/3000] Train Acc: 0.996247 Loss: 0.016363 | Val Acc: 0.335903 loss: 6.218306\n",
            "[953/3000] Train Acc: 0.997059 Loss: 0.015244 | Val Acc: 0.334888 loss: 6.149487\n",
            "[954/3000] Train Acc: 0.997008 Loss: 0.015611 | Val Acc: 0.332454 loss: 6.077947\n",
            "[955/3000] Train Acc: 0.997819 Loss: 0.018654 | Val Acc: 0.338540 loss: 6.032201\n",
            "[956/3000] Train Acc: 0.996298 Loss: 0.029645 | Val Acc: 0.338134 loss: 6.280822\n",
            "[957/3000] Train Acc: 0.996754 Loss: 0.016684 | Val Acc: 0.352738 loss: 5.912590\n",
            "[958/3000] Train Acc: 0.997261 Loss: 0.012902 | Val Acc: 0.343813 loss: 5.968590\n",
            "[959/3000] Train Acc: 0.996704 Loss: 0.015290 | Val Acc: 0.346450 loss: 6.021327\n",
            "[960/3000] Train Acc: 0.996501 Loss: 0.014478 | Val Acc: 0.340974 loss: 5.955179\n",
            "[961/3000] Train Acc: 0.996805 Loss: 0.012308 | Val Acc: 0.336308 loss: 6.229681\n",
            "[962/3000] Train Acc: 0.996602 Loss: 0.010782 | Val Acc: 0.341582 loss: 6.042368\n",
            "[963/3000] Train Acc: 0.995841 Loss: 0.014022 | Val Acc: 0.342596 loss: 5.911242\n",
            "[964/3000] Train Acc: 0.996602 Loss: 0.014195 | Val Acc: 0.350304 loss: 5.795943\n",
            "[965/3000] Train Acc: 0.996754 Loss: 0.014697 | Val Acc: 0.333874 loss: 6.195648\n",
            "[966/3000] Train Acc: 0.996349 Loss: 0.013850 | Val Acc: 0.344625 loss: 5.903494\n",
            "[967/3000] Train Acc: 0.996501 Loss: 0.015564 | Val Acc: 0.345436 loss: 5.886999\n",
            "[968/3000] Train Acc: 0.997261 Loss: 0.015204 | Val Acc: 0.355375 loss: 5.602375\n",
            "[969/3000] Train Acc: 0.996602 Loss: 0.013436 | Val Acc: 0.332860 loss: 6.236119\n",
            "[970/3000] Train Acc: 0.996754 Loss: 0.013880 | Val Acc: 0.354767 loss: 5.584515\n",
            "[971/3000] Train Acc: 0.996653 Loss: 0.015315 | Val Acc: 0.346450 loss: 5.927785\n",
            "[972/3000] Train Acc: 0.995791 Loss: 0.017931 | Val Acc: 0.338540 loss: 6.102161\n",
            "[973/3000] Train Acc: 0.996551 Loss: 0.010466 | Val Acc: 0.343611 loss: 5.948074\n",
            "[974/3000] Train Acc: 0.996247 Loss: 0.012650 | Val Acc: 0.349493 loss: 5.783933\n",
            "[975/3000] Train Acc: 0.996653 Loss: 0.014227 | Val Acc: 0.352333 loss: 5.740631\n",
            "[976/3000] Train Acc: 0.997312 Loss: 0.018481 | Val Acc: 0.318864 loss: 6.539006\n",
            "[977/3000] Train Acc: 0.996501 Loss: 0.011895 | Val Acc: 0.342394 loss: 6.116403\n",
            "[978/3000] Train Acc: 0.996044 Loss: 0.016801 | Val Acc: 0.332454 loss: 6.219911\n",
            "[979/3000] Train Acc: 0.996754 Loss: 0.014520 | Val Acc: 0.344016 loss: 6.032542\n",
            "[980/3000] Train Acc: 0.996653 Loss: 0.016172 | Val Acc: 0.345842 loss: 5.779623\n",
            "[981/3000] Train Acc: 0.996095 Loss: 0.011559 | Val Acc: 0.347667 loss: 5.702847\n",
            "[982/3000] Train Acc: 0.996146 Loss: 0.018659 | Val Acc: 0.351318 loss: 5.836334\n",
            "[983/3000] Train Acc: 0.996653 Loss: 0.022921 | Val Acc: 0.349899 loss: 5.797981\n",
            "[984/3000] Train Acc: 0.996044 Loss: 0.015965 | Val Acc: 0.341785 loss: 6.073884\n",
            "[985/3000] Train Acc: 0.997363 Loss: 0.018258 | Val Acc: 0.349493 loss: 5.879297\n",
            "[986/3000] Train Acc: 0.996349 Loss: 0.017909 | Val Acc: 0.338945 loss: 5.880847\n",
            "[987/3000] Train Acc: 0.997059 Loss: 0.012678 | Val Acc: 0.332454 loss: 6.344800\n",
            "[988/3000] Train Acc: 0.996704 Loss: 0.015416 | Val Acc: 0.336308 loss: 6.216682\n",
            "[989/3000] Train Acc: 0.995588 Loss: 0.016947 | Val Acc: 0.351724 loss: 5.839369\n",
            "[990/3000] Train Acc: 0.996501 Loss: 0.011535 | Val Acc: 0.343813 loss: 6.040313\n",
            "[991/3000] Train Acc: 0.995436 Loss: 0.013745 | Val Acc: 0.339554 loss: 6.035009\n",
            "[992/3000] Train Acc: 0.996906 Loss: 0.025818 | Val Acc: 0.365314 loss: 5.534630\n",
            "[993/3000] Train Acc: 0.996450 Loss: 0.011753 | Val Acc: 0.338337 loss: 6.108340\n",
            "[994/3000] Train Acc: 0.996805 Loss: 0.017738 | Val Acc: 0.352130 loss: 5.780589\n",
            "[995/3000] Train Acc: 0.996044 Loss: 0.018397 | Val Acc: 0.344219 loss: 5.800516\n",
            "[996/3000] Train Acc: 0.996906 Loss: 0.010889 | Val Acc: 0.333469 loss: 6.094885\n",
            "[997/3000] Train Acc: 0.996754 Loss: 0.018327 | Val Acc: 0.341379 loss: 5.965022\n",
            "[998/3000] Train Acc: 0.997515 Loss: 0.012767 | Val Acc: 0.342191 loss: 6.018232\n",
            "[999/3000] Train Acc: 0.996450 Loss: 0.013723 | Val Acc: 0.346653 loss: 5.936023\n",
            "[1000/3000] Train Acc: 0.996602 Loss: 0.011628 | Val Acc: 0.338945 loss: 6.023011\n",
            "[1001/3000] Train Acc: 0.996551 Loss: 0.020558 | Val Acc: 0.351318 loss: 5.801769\n",
            "[1002/3000] Train Acc: 0.997059 Loss: 0.018929 | Val Acc: 0.341379 loss: 5.909989\n",
            "[1003/3000] Train Acc: 0.996247 Loss: 0.019554 | Val Acc: 0.331643 loss: 6.171366\n",
            "[1004/3000] Train Acc: 0.996551 Loss: 0.013815 | Val Acc: 0.349696 loss: 5.931470\n",
            "[1005/3000] Train Acc: 0.997109 Loss: 0.013863 | Val Acc: 0.352535 loss: 5.728386\n",
            "[1006/3000] Train Acc: 0.996856 Loss: 0.018101 | Val Acc: 0.349493 loss: 5.834744\n",
            "[1007/3000] Train Acc: 0.996754 Loss: 0.012528 | Val Acc: 0.360446 loss: 5.553814\n",
            "[1008/3000] Train Acc: 0.996957 Loss: 0.014774 | Val Acc: 0.349696 loss: 5.632426\n",
            "[1009/3000] Train Acc: 0.996450 Loss: 0.019297 | Val Acc: 0.349899 loss: 5.757316\n",
            "[1010/3000] Train Acc: 0.996095 Loss: 0.028156 | Val Acc: 0.333671 loss: 6.177452\n",
            "[1011/3000] Train Acc: 0.996906 Loss: 0.012122 | Val Acc: 0.344828 loss: 5.751012\n",
            "[1012/3000] Train Acc: 0.996095 Loss: 0.020868 | Val Acc: 0.343205 loss: 6.010631\n",
            "[1013/3000] Train Acc: 0.996957 Loss: 0.009514 | Val Acc: 0.334483 loss: 6.120242\n",
            "[1014/3000] Train Acc: 0.997059 Loss: 0.010736 | Val Acc: 0.329412 loss: 6.344682\n",
            "[1015/3000] Train Acc: 0.996653 Loss: 0.024043 | Val Acc: 0.351724 loss: 5.892071\n",
            "[1016/3000] Train Acc: 0.996653 Loss: 0.011617 | Val Acc: 0.355172 loss: 5.756353\n",
            "[1017/3000] Train Acc: 0.996805 Loss: 0.016794 | Val Acc: 0.344422 loss: 5.851509\n",
            "[1018/3000] Train Acc: 0.996349 Loss: 0.023755 | Val Acc: 0.341582 loss: 6.064944\n",
            "[1019/3000] Train Acc: 0.997312 Loss: 0.013673 | Val Acc: 0.341988 loss: 5.919195\n",
            "[1020/3000] Train Acc: 0.996957 Loss: 0.010915 | Val Acc: 0.346450 loss: 6.028130\n",
            "[1021/3000] Train Acc: 0.996653 Loss: 0.015898 | Val Acc: 0.335700 loss: 6.139964\n",
            "[1022/3000] Train Acc: 0.996856 Loss: 0.014348 | Val Acc: 0.348073 loss: 5.906795\n",
            "[1023/3000] Train Acc: 0.997008 Loss: 0.016424 | Val Acc: 0.338945 loss: 5.992775\n",
            "[1024/3000] Train Acc: 0.997515 Loss: 0.009266 | Val Acc: 0.344625 loss: 6.033084\n",
            "[1025/3000] Train Acc: 0.995943 Loss: 0.023616 | Val Acc: 0.329209 loss: 6.596144\n",
            "[1026/3000] Train Acc: 0.996653 Loss: 0.018327 | Val Acc: 0.348073 loss: 5.876938\n",
            "[1027/3000] Train Acc: 0.996704 Loss: 0.009388 | Val Acc: 0.347465 loss: 5.835127\n",
            "[1028/3000] Train Acc: 0.996501 Loss: 0.017892 | Val Acc: 0.333063 loss: 6.264347\n",
            "[1029/3000] Train Acc: 0.996399 Loss: 0.012830 | Val Acc: 0.340771 loss: 6.070200\n",
            "[1030/3000] Train Acc: 0.996602 Loss: 0.016310 | Val Acc: 0.337323 loss: 6.097018\n",
            "[1031/3000] Train Acc: 0.995994 Loss: 0.020466 | Val Acc: 0.337728 loss: 6.176254\n",
            "[1032/3000] Train Acc: 0.997160 Loss: 0.010612 | Val Acc: 0.343002 loss: 6.000078\n",
            "[1033/3000] Train Acc: 0.997261 Loss: 0.011842 | Val Acc: 0.346247 loss: 5.902660\n",
            "[1034/3000] Train Acc: 0.996704 Loss: 0.015326 | Val Acc: 0.356795 loss: 5.725003\n",
            "[1035/3000] Train Acc: 0.996957 Loss: 0.021898 | Val Acc: 0.343002 loss: 5.836488\n",
            "[1036/3000] Train Acc: 0.997059 Loss: 0.010064 | Val Acc: 0.342191 loss: 6.053947\n",
            "[1037/3000] Train Acc: 0.996095 Loss: 0.023002 | Val Acc: 0.353550 loss: 5.665343\n",
            "[1038/3000] Train Acc: 0.995943 Loss: 0.026368 | Val Acc: 0.340568 loss: 5.939180\n",
            "[1039/3000] Train Acc: 0.995943 Loss: 0.016766 | Val Acc: 0.343205 loss: 5.944700\n",
            "[1040/3000] Train Acc: 0.997059 Loss: 0.017844 | Val Acc: 0.337120 loss: 6.196998\n",
            "[1041/3000] Train Acc: 0.996399 Loss: 0.011306 | Val Acc: 0.336105 loss: 6.087646\n",
            "[1042/3000] Train Acc: 0.996247 Loss: 0.025687 | Val Acc: 0.335091 loss: 6.288903\n",
            "[1043/3000] Train Acc: 0.996805 Loss: 0.014299 | Val Acc: 0.351927 loss: 5.728019\n",
            "[1044/3000] Train Acc: 0.995892 Loss: 0.013939 | Val Acc: 0.337120 loss: 6.315777\n",
            "[1045/3000] Train Acc: 0.996856 Loss: 0.011243 | Val Acc: 0.345030 loss: 6.130869\n",
            "[1046/3000] Train Acc: 0.996146 Loss: 0.012979 | Val Acc: 0.349290 loss: 5.938650\n",
            "[1047/3000] Train Acc: 0.996906 Loss: 0.016596 | Val Acc: 0.333874 loss: 6.204412\n",
            "[1048/3000] Train Acc: 0.996602 Loss: 0.019343 | Val Acc: 0.318864 loss: 6.481764\n",
            "[1049/3000] Train Acc: 0.996196 Loss: 0.019676 | Val Acc: 0.343002 loss: 5.969121\n",
            "[1050/3000] Train Acc: 0.996044 Loss: 0.013866 | Val Acc: 0.336917 loss: 6.077997\n",
            "[1051/3000] Train Acc: 0.995841 Loss: 0.016986 | Val Acc: 0.338134 loss: 6.316789\n",
            "[1052/3000] Train Acc: 0.996551 Loss: 0.025715 | Val Acc: 0.351318 loss: 6.058260\n",
            "[1053/3000] Train Acc: 0.997261 Loss: 0.010263 | Val Acc: 0.350913 loss: 5.760284\n",
            "[1054/3000] Train Acc: 0.996602 Loss: 0.019722 | Val Acc: 0.340974 loss: 6.155725\n",
            "[1055/3000] Train Acc: 0.996551 Loss: 0.010889 | Val Acc: 0.334686 loss: 6.068542\n",
            "[1056/3000] Train Acc: 0.996551 Loss: 0.017646 | Val Acc: 0.331034 loss: 6.202222\n",
            "[1057/3000] Train Acc: 0.997059 Loss: 0.019273 | Val Acc: 0.351116 loss: 5.935973\n",
            "[1058/3000] Train Acc: 0.996146 Loss: 0.013457 | Val Acc: 0.334280 loss: 6.126372\n",
            "[1059/3000] Train Acc: 0.997160 Loss: 0.018387 | Val Acc: 0.350710 loss: 5.881263\n",
            "[1060/3000] Train Acc: 0.997261 Loss: 0.021800 | Val Acc: 0.341379 loss: 6.182320\n",
            "[1061/3000] Train Acc: 0.996906 Loss: 0.023790 | Val Acc: 0.325761 loss: 6.293990\n",
            "[1062/3000] Train Acc: 0.996602 Loss: 0.018791 | Val Acc: 0.350913 loss: 5.971874\n",
            "[1063/3000] Train Acc: 0.996298 Loss: 0.023896 | Val Acc: 0.348276 loss: 5.669447\n",
            "[1064/3000] Train Acc: 0.997211 Loss: 0.009302 | Val Acc: 0.341988 loss: 6.066972\n",
            "[1065/3000] Train Acc: 0.996399 Loss: 0.020084 | Val Acc: 0.340365 loss: 5.892133\n",
            "[1066/3000] Train Acc: 0.997008 Loss: 0.009806 | Val Acc: 0.359635 loss: 5.740251\n",
            "[1067/3000] Train Acc: 0.996653 Loss: 0.014897 | Val Acc: 0.337120 loss: 6.168949\n",
            "[1068/3000] Train Acc: 0.996247 Loss: 0.012514 | Val Acc: 0.348682 loss: 5.708459\n",
            "[1069/3000] Train Acc: 0.997363 Loss: 0.013164 | Val Acc: 0.350101 loss: 5.750885\n",
            "[1070/3000] Train Acc: 0.997464 Loss: 0.013074 | Val Acc: 0.333266 loss: 6.143587\n",
            "[1071/3000] Train Acc: 0.996247 Loss: 0.011035 | Val Acc: 0.353753 loss: 5.926701\n",
            "[1072/3000] Train Acc: 0.996856 Loss: 0.012846 | Val Acc: 0.332049 loss: 6.307362\n",
            "[1073/3000] Train Acc: 0.997160 Loss: 0.011788 | Val Acc: 0.333671 loss: 6.174421\n",
            "[1074/3000] Train Acc: 0.997566 Loss: 0.016361 | Val Acc: 0.345233 loss: 6.040240\n",
            "[1075/3000] Train Acc: 0.996653 Loss: 0.011516 | Val Acc: 0.352333 loss: 5.710447\n",
            "[1076/3000] Train Acc: 0.996450 Loss: 0.016968 | Val Acc: 0.351318 loss: 5.886254\n",
            "[1077/3000] Train Acc: 0.997312 Loss: 0.010407 | Val Acc: 0.339554 loss: 5.971089\n",
            "[1078/3000] Train Acc: 0.996349 Loss: 0.014971 | Val Acc: 0.362880 loss: 5.409168\n",
            "[1079/3000] Train Acc: 0.996957 Loss: 0.013934 | Val Acc: 0.338134 loss: 6.056327\n",
            "[1080/3000] Train Acc: 0.996551 Loss: 0.016396 | Val Acc: 0.357606 loss: 5.634727\n",
            "[1081/3000] Train Acc: 0.996044 Loss: 0.016695 | Val Acc: 0.341582 loss: 6.004347\n",
            "[1082/3000] Train Acc: 0.997211 Loss: 0.010619 | Val Acc: 0.346045 loss: 5.921669\n",
            "[1083/3000] Train Acc: 0.997008 Loss: 0.010162 | Val Acc: 0.326978 loss: 6.434331\n",
            "[1084/3000] Train Acc: 0.996095 Loss: 0.013396 | Val Acc: 0.345639 loss: 5.900271\n",
            "[1085/3000] Train Acc: 0.996551 Loss: 0.010833 | Val Acc: 0.328398 loss: 6.285379\n",
            "[1086/3000] Train Acc: 0.996704 Loss: 0.012011 | Val Acc: 0.352738 loss: 5.815505\n",
            "[1087/3000] Train Acc: 0.996551 Loss: 0.019894 | Val Acc: 0.342799 loss: 5.959822\n",
            "[1088/3000] Train Acc: 0.996957 Loss: 0.009523 | Val Acc: 0.353347 loss: 5.773553\n",
            "[1089/3000] Train Acc: 0.996957 Loss: 0.017358 | Val Acc: 0.349696 loss: 5.603170\n",
            "[1090/3000] Train Acc: 0.997109 Loss: 0.009846 | Val Acc: 0.334280 loss: 6.065739\n",
            "[1091/3000] Train Acc: 0.997109 Loss: 0.014590 | Val Acc: 0.313996 loss: 6.600966\n",
            "[1092/3000] Train Acc: 0.997261 Loss: 0.011184 | Val Acc: 0.342394 loss: 5.957523\n",
            "[1093/3000] Train Acc: 0.996501 Loss: 0.012140 | Val Acc: 0.327383 loss: 6.459408\n",
            "[1094/3000] Train Acc: 0.996095 Loss: 0.024510 | Val Acc: 0.345842 loss: 6.049807\n",
            "[1095/3000] Train Acc: 0.997059 Loss: 0.023039 | Val Acc: 0.353550 loss: 5.584583\n",
            "[1096/3000] Train Acc: 0.996754 Loss: 0.025665 | Val Acc: 0.364503 loss: 5.470728\n",
            "[1097/3000] Train Acc: 0.996196 Loss: 0.013997 | Val Acc: 0.361258 loss: 5.485577\n",
            "[1098/3000] Train Acc: 0.997261 Loss: 0.018660 | Val Acc: 0.344625 loss: 5.917869\n",
            "[1099/3000] Train Acc: 0.996247 Loss: 0.012299 | Val Acc: 0.369574 loss: 5.468085\n",
            "[1100/3000] Train Acc: 0.997363 Loss: 0.014107 | Val Acc: 0.343205 loss: 5.968081\n",
            "[1101/3000] Train Acc: 0.996399 Loss: 0.011827 | Val Acc: 0.352333 loss: 5.757234\n",
            "[1102/3000] Train Acc: 0.997059 Loss: 0.014475 | Val Acc: 0.346045 loss: 5.895894\n",
            "[1103/3000] Train Acc: 0.996602 Loss: 0.015531 | Val Acc: 0.362069 loss: 5.514041\n",
            "[1104/3000] Train Acc: 0.997109 Loss: 0.010264 | Val Acc: 0.345436 loss: 5.797067\n",
            "[1105/3000] Train Acc: 0.997211 Loss: 0.013168 | Val Acc: 0.337323 loss: 6.036566\n",
            "[1106/3000] Train Acc: 0.996653 Loss: 0.022362 | Val Acc: 0.337931 loss: 6.024478\n",
            "[1107/3000] Train Acc: 0.997616 Loss: 0.015118 | Val Acc: 0.348682 loss: 5.854348\n",
            "[1108/3000] Train Acc: 0.996704 Loss: 0.022513 | Val Acc: 0.344625 loss: 5.889248\n",
            "[1109/3000] Train Acc: 0.996754 Loss: 0.036181 | Val Acc: 0.341176 loss: 5.960503\n",
            "[1110/3000] Train Acc: 0.995791 Loss: 0.025902 | Val Acc: 0.342191 loss: 6.080007\n",
            "[1111/3000] Train Acc: 0.996704 Loss: 0.015655 | Val Acc: 0.334280 loss: 5.980239\n",
            "[1112/3000] Train Acc: 0.997515 Loss: 0.009929 | Val Acc: 0.327586 loss: 6.439191\n",
            "[1113/3000] Train Acc: 0.997261 Loss: 0.028915 | Val Acc: 0.330223 loss: 6.564002\n",
            "[1114/3000] Train Acc: 0.995639 Loss: 0.014405 | Val Acc: 0.341988 loss: 5.934006\n",
            "[1115/3000] Train Acc: 0.996906 Loss: 0.020561 | Val Acc: 0.330426 loss: 6.318612\n",
            "[1116/3000] Train Acc: 0.996704 Loss: 0.010292 | Val Acc: 0.336917 loss: 6.135310\n",
            "[1117/3000] Train Acc: 0.997109 Loss: 0.014904 | Val Acc: 0.322110 loss: 6.497991\n",
            "[1118/3000] Train Acc: 0.997414 Loss: 0.018291 | Val Acc: 0.332049 loss: 6.239773\n",
            "[1119/3000] Train Acc: 0.996349 Loss: 0.017837 | Val Acc: 0.344219 loss: 5.996834\n",
            "[1120/3000] Train Acc: 0.996906 Loss: 0.018413 | Val Acc: 0.364503 loss: 5.648230\n",
            "[1121/3000] Train Acc: 0.996754 Loss: 0.014418 | Val Acc: 0.352130 loss: 5.912069\n",
            "[1122/3000] Train Acc: 0.996501 Loss: 0.017856 | Val Acc: 0.351116 loss: 5.884799\n",
            "[1123/3000] Train Acc: 0.996957 Loss: 0.018799 | Val Acc: 0.329006 loss: 6.273316\n",
            "[1124/3000] Train Acc: 0.996754 Loss: 0.016436 | Val Acc: 0.328600 loss: 6.180970\n",
            "[1125/3000] Train Acc: 0.996602 Loss: 0.012955 | Val Acc: 0.347870 loss: 5.865122\n",
            "[1126/3000] Train Acc: 0.996856 Loss: 0.014742 | Val Acc: 0.334077 loss: 6.178444\n",
            "[1127/3000] Train Acc: 0.996754 Loss: 0.012876 | Val Acc: 0.337120 loss: 6.336868\n",
            "[1128/3000] Train Acc: 0.996856 Loss: 0.012210 | Val Acc: 0.341176 loss: 6.093337\n",
            "[1129/3000] Train Acc: 0.996754 Loss: 0.018065 | Val Acc: 0.342596 loss: 5.894889\n",
            "[1130/3000] Train Acc: 0.996906 Loss: 0.009828 | Val Acc: 0.339351 loss: 6.159104\n",
            "[1131/3000] Train Acc: 0.996450 Loss: 0.015410 | Val Acc: 0.331440 loss: 6.227544\n",
            "[1132/3000] Train Acc: 0.997769 Loss: 0.012996 | Val Acc: 0.344625 loss: 6.012309\n",
            "[1133/3000] Train Acc: 0.996602 Loss: 0.024302 | Val Acc: 0.349696 loss: 5.872604\n",
            "[1134/3000] Train Acc: 0.996906 Loss: 0.014284 | Val Acc: 0.342191 loss: 6.056575\n",
            "[1135/3000] Train Acc: 0.996399 Loss: 0.011273 | Val Acc: 0.329412 loss: 6.120007\n",
            "[1136/3000] Train Acc: 0.996906 Loss: 0.020904 | Val Acc: 0.322312 loss: 6.566740\n",
            "[1137/3000] Train Acc: 0.996906 Loss: 0.022159 | Val Acc: 0.335903 loss: 6.088945\n",
            "[1138/3000] Train Acc: 0.996754 Loss: 0.019709 | Val Acc: 0.344422 loss: 5.844875\n",
            "[1139/3000] Train Acc: 0.997008 Loss: 0.014383 | Val Acc: 0.337931 loss: 6.129253\n",
            "[1140/3000] Train Acc: 0.996298 Loss: 0.021967 | Val Acc: 0.349696 loss: 6.057664\n",
            "[1141/3000] Train Acc: 0.997160 Loss: 0.021381 | Val Acc: 0.333671 loss: 6.209944\n",
            "[1142/3000] Train Acc: 0.996247 Loss: 0.015847 | Val Acc: 0.345030 loss: 6.028888\n",
            "[1143/3000] Train Acc: 0.996501 Loss: 0.016501 | Val Acc: 0.337728 loss: 6.050086\n",
            "[1144/3000] Train Acc: 0.996906 Loss: 0.016851 | Val Acc: 0.342596 loss: 6.064068\n",
            "[1145/3000] Train Acc: 0.997008 Loss: 0.012117 | Val Acc: 0.339959 loss: 6.102367\n",
            "[1146/3000] Train Acc: 0.995841 Loss: 0.024897 | Val Acc: 0.341988 loss: 6.082651\n",
            "[1147/3000] Train Acc: 0.996602 Loss: 0.017945 | Val Acc: 0.343813 loss: 6.050580\n",
            "[1148/3000] Train Acc: 0.996754 Loss: 0.033033 | Val Acc: 0.343002 loss: 6.005371\n",
            "[1149/3000] Train Acc: 0.996044 Loss: 0.015296 | Val Acc: 0.343813 loss: 6.010237\n",
            "[1150/3000] Train Acc: 0.997109 Loss: 0.011894 | Val Acc: 0.340568 loss: 5.988711\n",
            "[1151/3000] Train Acc: 0.996450 Loss: 0.016437 | Val Acc: 0.356187 loss: 5.680922\n",
            "[1152/3000] Train Acc: 0.995994 Loss: 0.014234 | Val Acc: 0.354158 loss: 5.497245\n",
            "[1153/3000] Train Acc: 0.997211 Loss: 0.010397 | Val Acc: 0.337120 loss: 6.211411\n",
            "[1154/3000] Train Acc: 0.997160 Loss: 0.010562 | Val Acc: 0.336917 loss: 6.150926\n",
            "[1155/3000] Train Acc: 0.997211 Loss: 0.014574 | Val Acc: 0.340974 loss: 6.027063\n",
            "[1156/3000] Train Acc: 0.997059 Loss: 0.019717 | Val Acc: 0.351724 loss: 5.856764\n",
            "[1157/3000] Train Acc: 0.997363 Loss: 0.023401 | Val Acc: 0.338337 loss: 5.941636\n",
            "[1158/3000] Train Acc: 0.995892 Loss: 0.014443 | Val Acc: 0.346653 loss: 5.898662\n",
            "[1159/3000] Train Acc: 0.996247 Loss: 0.018357 | Val Acc: 0.353955 loss: 5.886556\n",
            "[1160/3000] Train Acc: 0.996146 Loss: 0.021119 | Val Acc: 0.365112 loss: 5.568987\n",
            "[1161/3000] Train Acc: 0.997059 Loss: 0.012579 | Val Acc: 0.335497 loss: 6.363614\n",
            "[1162/3000] Train Acc: 0.996602 Loss: 0.011310 | Val Acc: 0.343205 loss: 6.009384\n",
            "[1163/3000] Train Acc: 0.997008 Loss: 0.017069 | Val Acc: 0.350710 loss: 5.816223\n",
            "[1164/3000] Train Acc: 0.996501 Loss: 0.010488 | Val Acc: 0.354970 loss: 5.866732\n",
            "[1165/3000] Train Acc: 0.997008 Loss: 0.021804 | Val Acc: 0.357201 loss: 5.818901\n",
            "[1166/3000] Train Acc: 0.996754 Loss: 0.015049 | Val Acc: 0.343408 loss: 6.040189\n",
            "[1167/3000] Train Acc: 0.996196 Loss: 0.022960 | Val Acc: 0.347465 loss: 5.847946\n",
            "[1168/3000] Train Acc: 0.996247 Loss: 0.018075 | Val Acc: 0.349899 loss: 5.887853\n",
            "[1169/3000] Train Acc: 0.996399 Loss: 0.025010 | Val Acc: 0.339757 loss: 6.243122\n",
            "[1170/3000] Train Acc: 0.997109 Loss: 0.016681 | Val Acc: 0.355375 loss: 5.681603\n",
            "[1171/3000] Train Acc: 0.996856 Loss: 0.011963 | Val Acc: 0.348276 loss: 5.779565\n",
            "[1172/3000] Train Acc: 0.996349 Loss: 0.016951 | Val Acc: 0.351724 loss: 5.729487\n",
            "[1173/3000] Train Acc: 0.997109 Loss: 0.009404 | Val Acc: 0.357201 loss: 5.617709\n",
            "[1174/3000] Train Acc: 0.996653 Loss: 0.018708 | Val Acc: 0.338540 loss: 6.061515\n",
            "[1175/3000] Train Acc: 0.996856 Loss: 0.020414 | Val Acc: 0.337120 loss: 5.994321\n",
            "[1176/3000] Train Acc: 0.996196 Loss: 0.028432 | Val Acc: 0.341988 loss: 6.081025\n",
            "[1177/3000] Train Acc: 0.997059 Loss: 0.012339 | Val Acc: 0.335903 loss: 6.122055\n",
            "[1178/3000] Train Acc: 0.996349 Loss: 0.021472 | Val Acc: 0.338540 loss: 6.106064\n",
            "[1179/3000] Train Acc: 0.997059 Loss: 0.010115 | Val Acc: 0.340365 loss: 6.090595\n",
            "[1180/3000] Train Acc: 0.996501 Loss: 0.011965 | Val Acc: 0.333671 loss: 6.137727\n",
            "[1181/3000] Train Acc: 0.996856 Loss: 0.013548 | Val Acc: 0.345436 loss: 5.924173\n",
            "[1182/3000] Train Acc: 0.996551 Loss: 0.017345 | Val Acc: 0.336105 loss: 6.141340\n",
            "[1183/3000] Train Acc: 0.996704 Loss: 0.036186 | Val Acc: 0.337728 loss: 6.137801\n",
            "[1184/3000] Train Acc: 0.997109 Loss: 0.026560 | Val Acc: 0.343813 loss: 5.934237\n",
            "[1185/3000] Train Acc: 0.997414 Loss: 0.012490 | Val Acc: 0.342596 loss: 5.957811\n",
            "[1186/3000] Train Acc: 0.996602 Loss: 0.019572 | Val Acc: 0.348682 loss: 6.019211\n"
          ]
        }
      ]
    },
    {
      "cell_type": "code",
      "source": [
        "print(f'Training use {round(end_time - start_time, 3)}s')"
      ],
      "metadata": {
        "id": "NLnpYLpwYlop",
        "outputId": "182df372-114a-4c88-f243-938fa311fd24",
        "colab": {
          "base_uri": "https://localhost:8080/"
        }
      },
      "execution_count": 92,
      "outputs": [
        {
          "output_type": "stream",
          "name": "stdout",
          "text": [
            "Training use 1446.252s\n"
          ]
        }
      ]
    },
    {
      "cell_type": "code",
      "source": [
        "def plot_learning_curve(train_record, valid_record, title=''):\n",
        "    total_steps = len(train_record)\n",
        "    x = range(total_steps)\n",
        "    plt.figure(figsize=(6, 4))\n",
        "    plt.plot(x, train_record, c='tab:red', label='train')\n",
        "    plt.plot(x, valid_record, c='tab:cyan', label='valid')\n",
        "    plt.ylim(0.0, max(valid_record) + 1)\n",
        "    plt.xlabel('Training epoch')\n",
        "    plt.ylabel(title)\n",
        "    plt.title('Learning curve of {}'.format(title))\n",
        "    plt.legend()\n",
        "    plt.show()"
      ],
      "metadata": {
        "id": "ZX4SmxBQIIcU"
      },
      "execution_count": 93,
      "outputs": []
    },
    {
      "cell_type": "code",
      "source": [
        "plot_learning_curve(train_acc_list, val_acc_list, 'Acc')"
      ],
      "metadata": {
        "id": "CukLL-yVJFdu",
        "outputId": "9a6cfd55-27e3-43f3-e46c-938c52167b24",
        "colab": {
          "base_uri": "https://localhost:8080/",
          "height": 295
        }
      },
      "execution_count": 94,
      "outputs": [
        {
          "output_type": "display_data",
          "data": {
            "image/png": "[encoded data removed]",
            "text/plain": [
              "<Figure size 432x288 with 1 Axes>"
            ]
          },
          "metadata": {
            "needs_background": "light"
          }
        }
      ]
    },
    {
      "cell_type": "code",
      "source": [
        "plot_learning_curve(train_loss_list, val_loss_list, 'Loss')"
      ],
      "metadata": {
        "id": "LUDXf-nKJQKU",
        "outputId": "31085e87-9a58-4a26-e997-e74ae2744584",
        "colab": {
          "base_uri": "https://localhost:8080/",
          "height": 295
        }
      },
      "execution_count": 95,
      "outputs": [
        {
          "output_type": "display_data",
          "data": {
            "image/png": "[encoded data removed]",
            "text/plain": [
              "<Figure size 432x288 with 1 Axes>"
            ]
          },
          "metadata": {
            "needs_background": "light"
          }
        }
      ]
    },
    {
      "cell_type": "markdown",
      "source": [
        "# **Deep Neural Network Test**"
      ],
      "metadata": {
        "id": "ynT-KFltscT8"
      }
    },
    {
      "cell_type": "code",
      "source": [
        "sc = StandardScaler()\n",
        "ss = StandardScaler().fit(X_test)\n",
        "X_test_std = ss.transform(X_test)\n",
        "\n",
        "# create testing dataset\n",
        "test_set = IBMDataset(X_test_std, None)\n",
        "test_loader = DataLoader(test_set, batch_size=BATCH_SIZE, shuffle=False)\n",
        "\n",
        "# create model and load weights from checkpoint\n",
        "model = Classifier().to(device)\n",
        "model.load_state_dict(torch.load(model_path, map_location=device))"
      ],
      "metadata": {
        "id": "lukrC4MJWTjM",
        "outputId": "49f0dac1-0416-4bc1-da40-216131a97730",
        "colab": {
          "base_uri": "https://localhost:8080/"
        }
      },
      "execution_count": 96,
      "outputs": [
        {
          "output_type": "execute_result",
          "data": {
            "text/plain": [
              "<All keys matched successfully>"
            ]
          },
          "metadata": {},
          "execution_count": 96
        }
      ]
    },
    {
      "cell_type": "code",
      "source": [
        "predict = []\n",
        "model.eval() # set the model to evaluation mode\n",
        "for i, data in enumerate(test_loader):\n",
        "    inputs = data\n",
        "    inputs = inputs.to(device)\n",
        "    outputs = model(inputs)\n",
        "    _, test_pred = torch.max(outputs, 1) # get the index of the class with the highest probability\n",
        "\n",
        "    for y in test_pred.cpu().numpy():\n",
        "        predict.append(y)\n",
        "\n",
        "print(encoder_map)\n",
        "print(np.bincount(predict))"
      ],
      "metadata": {
        "id": "OlQ1d1fdVt_V",
        "outputId": "cfc58a07-ae39-4c4a-9e42-c43a3cf60cd1",
        "colab": {
          "base_uri": "https://localhost:8080/"
        }
      },
      "execution_count": 101,
      "outputs": [
        {
          "output_type": "stream",
          "name": "stdout",
          "text": [
            "{'Attitude': 0, 'Competitor': 1, 'Dissatisfaction': 2, 'No Churn': 3, 'Other': 4, 'Price': 5}\n",
            "[166 409 123 613  79  19]\n"
          ]
        }
      ]
    },
    {
      "cell_type": "code",
      "source": [
        "submit_result = './dnn_result.csv'\n",
        "\n",
        "new_encoder_map = {'No Churn':0, 'Competitor': 1, 'Dissatisfaction':2, 'Attitude': 3, 'Price':4, 'Other':5}\n",
        "\n",
        "with open(submit_result, 'w') as f:\n",
        "    f.write('Customer ID,Churn Category\\n')\n",
        "    for i in range(len(df_test.values)):\n",
        "        id = str(df_test.values[i]).replace('[\\'', '')\n",
        "        id = id.replace('\\']', '')\n",
        "        pred = new_encoder_map.get(list(encoder_map.keys())[list(encoder_map.values()).index(predict[i])])\n",
        "        f.write(f'{id},{pred}\\n')"
      ],
      "metadata": {
        "id": "11ImkbPjn6qP"
      },
      "execution_count": 102,
      "outputs": []
    },
    {
      "cell_type": "code",
      "source": [
        "files.download(submit_result)\n",
        "files.download(model_path)"
      ],
      "metadata": {
        "id": "YICyBRaGo43O",
        "outputId": "38357714-c6fb-498e-bf43-bd436415d891",
        "colab": {
          "base_uri": "https://localhost:8080/",
          "height": 17
        }
      },
      "execution_count": 103,
      "outputs": [
        {
          "output_type": "display_data",
          "data": {
            "application/javascript": [
              "\n",
              "    async function download(id, filename, size) {\n",
              "      if (!google.colab.kernel.accessAllowed) {\n",
              "        return;\n",
              "      }\n",
              "      const div = document.createElement('div');\n",
              "      const label = document.createElement('label');\n",
              "      label.textContent = `Downloading \"${filename}\": `;\n",
              "      div.appendChild(label);\n",
              "      const progress = document.createElement('progress');\n",
              "      progress.max = size;\n",
              "      div.appendChild(progress);\n",
              "      document.body.appendChild(div);\n",
              "\n",
              "      const buffers = [];\n",
              "      let downloaded = 0;\n",
              "\n",
              "      const channel = await google.colab.kernel.comms.open(id);\n",
              "      // Send a message to notify the kernel that we're ready.\n",
              "      channel.send({})\n",
              "\n",
              "      for await (const message of channel.messages) {\n",
              "        // Send a message to notify the kernel that we're ready.\n",
              "        channel.send({})\n",
              "        if (message.buffers) {\n",
              "          for (const buffer of message.buffers) {\n",
              "            buffers.push(buffer);\n",
              "            downloaded += buffer.byteLength;\n",
              "            progress.value = downloaded;\n",
              "          }\n",
              "        }\n",
              "      }\n",
              "      const blob = new Blob(buffers, {type: 'application/binary'});\n",
              "      const a = document.createElement('a');\n",
              "      a.href = window.URL.createObjectURL(blob);\n",
              "      a.download = filename;\n",
              "      div.appendChild(a);\n",
              "      a.click();\n",
              "      div.remove();\n",
              "    }\n",
              "  "
            ],
            "text/plain": [
              "<IPython.core.display.Javascript object>"
            ]
          },
          "metadata": {}
        },
        {
          "output_type": "display_data",
          "data": {
            "application/javascript": [
              "download(\"download_0ff794bf-f05d-4c15-8760-2bf67218685c\", \"dnn_result.csv\", 18344)"
            ],
            "text/plain": [
              "<IPython.core.display.Javascript object>"
            ]
          },
          "metadata": {}
        },
        {
          "output_type": "display_data",
          "data": {
            "application/javascript": [
              "\n",
              "    async function download(id, filename, size) {\n",
              "      if (!google.colab.kernel.accessAllowed) {\n",
              "        return;\n",
              "      }\n",
              "      const div = document.createElement('div');\n",
              "      const label = document.createElement('label');\n",
              "      label.textContent = `Downloading \"${filename}\": `;\n",
              "      div.appendChild(label);\n",
              "      const progress = document.createElement('progress');\n",
              "      progress.max = size;\n",
              "      div.appendChild(progress);\n",
              "      document.body.appendChild(div);\n",
              "\n",
              "      const buffers = [];\n",
              "      let downloaded = 0;\n",
              "\n",
              "      const channel = await google.colab.kernel.comms.open(id);\n",
              "      // Send a message to notify the kernel that we're ready.\n",
              "      channel.send({})\n",
              "\n",
              "      for await (const message of channel.messages) {\n",
              "        // Send a message to notify the kernel that we're ready.\n",
              "        channel.send({})\n",
              "        if (message.buffers) {\n",
              "          for (const buffer of message.buffers) {\n",
              "            buffers.push(buffer);\n",
              "            downloaded += buffer.byteLength;\n",
              "            progress.value = downloaded;\n",
              "          }\n",
              "        }\n",
              "      }\n",
              "      const blob = new Blob(buffers, {type: 'application/binary'});\n",
              "      const a = document.createElement('a');\n",
              "      a.href = window.URL.createObjectURL(blob);\n",
              "      a.download = filename;\n",
              "      div.appendChild(a);\n",
              "      a.click();\n",
              "      div.remove();\n",
              "    }\n",
              "  "
            ],
            "text/plain": [
              "<IPython.core.display.Javascript object>"
            ]
          },
          "metadata": {}
        },
        {
          "output_type": "display_data",
          "data": {
            "application/javascript": [
              "download(\"download_2f9e913d-9a10-4f9e-9b56-a6f69ec89b83\", \"best_model.ckpt\", 754464)"
            ],
            "text/plain": [
              "<IPython.core.display.Javascript object>"
            ]
          },
          "metadata": {}
        }
      ]
    },
    {
      "cell_type": "markdown",
      "source": [
        "# **XGBoost Train**"
      ],
      "metadata": {
        "id": "sahIvrRMTlTP"
      }
    },
    {
      "cell_type": "code",
      "source": [
        "pass"
      ],
      "metadata": {
        "id": "YkGN8Jq-TsPF"
      },
      "execution_count": 104,
      "outputs": []
    }
  ]
}