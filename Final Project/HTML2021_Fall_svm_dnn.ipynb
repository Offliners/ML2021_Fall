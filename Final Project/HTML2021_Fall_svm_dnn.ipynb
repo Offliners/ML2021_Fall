{
  "nbformat": 4,
  "nbformat_minor": 0,
  "metadata": {
    "colab": {
      "name": "HTML2021_Fall.ipynb",
      "provenance": [],
      "include_colab_link": true
    },
    "kernelspec": {
      "name": "python3",
      "display_name": "Python 3"
    },
    "language_info": {
      "name": "python"
    },
    "accelerator": "GPU"
  },
  "cells": [
    {
      "cell_type": "markdown",
      "metadata": {
        "id": "view-in-github",
        "colab_type": "text"
      },
      "source": [
        "<a href=\"https://colab.research.google.com/github/Offliners/HTML_2021Fall/blob/main/Final%20Project/HTML2021_Fall_svm_dnn.ipynb\" target=\"_parent\"><img src=\"https://colab.research.google.com/assets/colab-badge.svg\" alt=\"Open In Colab\"/></a>"
      ]
    },
    {
      "cell_type": "markdown",
      "source": [
        "# **Directory**\n",
        "\n",
        "```\n",
        "data_dir\n",
        "    ├── data\n",
        "    │   ├── Test_IDs.csv\n",
        "    │   ├── ...\n",
        "    │   ├── status.csv\n",
        "    ├── statistics\n",
        "    │   ├── Churn Category_stat.png\n",
        "    │   ├── ...\n",
        "    │   ├── miss rate_stat.png\n",
        "```"
      ],
      "metadata": {
        "id": "PD40tT3p379e"
      }
    },
    {
      "cell_type": "markdown",
      "source": [
        "# **Display information of GPU**"
      ],
      "metadata": {
        "id": "ldW8_oif3EEr"
      }
    },
    {
      "cell_type": "code",
      "source": [
        "!nvidia-smi"
      ],
      "metadata": {
        "colab": {
          "base_uri": "https://localhost:8080/"
        },
        "id": "Qf0PLuNJf95W",
        "outputId": "c99114e3-f9b6-4afe-b679-88e14776a0e4"
      },
      "execution_count": 1,
      "outputs": [
        {
          "output_type": "stream",
          "name": "stdout",
          "text": [
            "Wed Jan 12 19:08:07 2022       \n",
            "+-----------------------------------------------------------------------------+\n",
            "| NVIDIA-SMI 495.46       Driver Version: 460.32.03    CUDA Version: 11.2     |\n",
            "|-------------------------------+----------------------+----------------------+\n",
            "| GPU  Name        Persistence-M| Bus-Id        Disp.A | Volatile Uncorr. ECC |\n",
            "| Fan  Temp  Perf  Pwr:Usage/Cap|         Memory-Usage | GPU-Util  Compute M. |\n",
            "|                               |                      |               MIG M. |\n",
            "|===============================+======================+======================|\n",
            "|   0  Tesla K80           Off  | 00000000:00:04.0 Off |                    0 |\n",
            "| N/A   35C    P8    28W / 149W |      0MiB / 11441MiB |      0%      Default |\n",
            "|                               |                      |                  N/A |\n",
            "+-------------------------------+----------------------+----------------------+\n",
            "                                                                               \n",
            "+-----------------------------------------------------------------------------+\n",
            "| Processes:                                                                  |\n",
            "|  GPU   GI   CI        PID   Type   Process name                  GPU Memory |\n",
            "|        ID   ID                                                   Usage      |\n",
            "|=============================================================================|\n",
            "|  No running processes found                                                 |\n",
            "+-----------------------------------------------------------------------------+\n"
          ]
        }
      ]
    },
    {
      "cell_type": "markdown",
      "source": [
        "# **Download Dataset**"
      ],
      "metadata": {
        "id": "JxUhMWWmJPHv"
      }
    },
    {
      "cell_type": "code",
      "source": [
        "!mkdir \"./data\"\n",
        "!mkdir \"./statistics\"\n",
        "!gdown --id 1X5yz7QLAu4nttnCea4ALf6alae6Clv_o --output \"./data/dataset.zip\"\n",
        "!unzip -q \"./data/dataset.zip\" -d \"./data\"\n",
        "!rm \"./data/dataset.zip\""
      ],
      "metadata": {
        "colab": {
          "base_uri": "https://localhost:8080/"
        },
        "id": "zjX-fvNeKG3p",
        "outputId": "47cc2b97-2d33-4fed-b396-dc7fc459404c"
      },
      "execution_count": 2,
      "outputs": [
        {
          "output_type": "stream",
          "name": "stdout",
          "text": [
            "Downloading...\n",
            "From: https://drive.google.com/uc?id=1X5yz7QLAu4nttnCea4ALf6alae6Clv_o\n",
            "To: /content/data/dataset.zip\n",
            "\r  0% 0.00/660k [00:00<?, ?B/s]\r100% 660k/660k [00:00<00:00, 37.8MB/s]\n"
          ]
        }
      ]
    },
    {
      "cell_type": "markdown",
      "source": [
        "# **Import Some Packages**"
      ],
      "metadata": {
        "id": "hosMVZZWI_6B"
      }
    },
    {
      "cell_type": "code",
      "execution_count": 3,
      "metadata": {
        "id": "-lrHo2qeI-p9"
      },
      "outputs": [],
      "source": [
        "import time\n",
        "import numpy as np\n",
        "import pandas as pd\n",
        "from glob import glob\n",
        "from collections import Counter\n",
        "import matplotlib.pyplot as plt\n",
        "from sklearn.preprocessing import LabelEncoder\n",
        "from sklearn.svm import SVC\n",
        "from sklearn.preprocessing import StandardScaler, MinMaxScaler\n",
        "from sklearn import metrics\n",
        "from sklearn.metrics import plot_confusion_matrix, classification_report\n",
        "from imblearn.over_sampling import ADASYN\n",
        "import torch\n",
        "import torch.nn as nn\n",
        "from torch.utils.data import Dataset, DataLoader \n",
        "from torchsummary import summary\n",
        "from torch.optim.lr_scheduler import StepLR"
      ]
    },
    {
      "cell_type": "markdown",
      "source": [
        "# **Set a Random Seed**"
      ],
      "metadata": {
        "id": "HH36XbKB0P3c"
      }
    },
    {
      "cell_type": "code",
      "source": [
        "# Set a random seed for reproducibility\n",
        "seed = 0\n",
        "np.random.seed(seed)\n",
        "torch.manual_seed(seed)\n",
        "if torch.cuda.is_available():\n",
        "    torch.cuda.manual_seed(seed)\n",
        "    torch.cuda.manual_seed_all(seed)  \n",
        "torch.backends.cudnn.benchmark = False\n",
        "torch.backends.cudnn.deterministic = True"
      ],
      "metadata": {
        "id": "sM7IyXfL0ekd"
      },
      "execution_count": 4,
      "outputs": []
    },
    {
      "cell_type": "markdown",
      "source": [
        "# **CSV Files Combination**"
      ],
      "metadata": {
        "id": "Q69ecrSlJpyT"
      }
    },
    {
      "cell_type": "code",
      "source": [
        "train_path = './data/Train_IDs.csv'  # path to training data\n",
        "test_path = './data/Test_IDs.csv'    # path to testing data\n",
        "\n",
        "files = glob('./data/*.csv')\n",
        "data_csv = []\n",
        "data_csv.append(train_path)\n",
        "for csv in files:\n",
        "    if ('IDs' not in csv) and ('sample' not in csv) and ('population' not in csv) and ('result' not in csv):\n",
        "        data_csv.append(csv)\n",
        "  \n",
        "print(data_csv)\n",
        "df_list = [pd.read_csv(file) for file in data_csv]"
      ],
      "metadata": {
        "colab": {
          "base_uri": "https://localhost:8080/"
        },
        "id": "PubV0z-fNFWK",
        "outputId": "a246203a-7a9d-44c3-fe3c-ef9f9e50891d"
      },
      "execution_count": 5,
      "outputs": [
        {
          "output_type": "stream",
          "name": "stdout",
          "text": [
            "['./data/Train_IDs.csv', './data/location.csv', './data/services.csv', './data/demographics.csv', './data/status.csv', './data/satisfaction.csv']\n"
          ]
        }
      ]
    },
    {
      "cell_type": "code",
      "source": [
        "result_total = df_list[0]\n",
        "for df in df_list[1:]:\n",
        "    result_total = pd.merge(result_total, df, how='outer', on='Customer ID')\n",
        "\n",
        "result_total.to_csv('./data/result_total.csv') # Save combined all result to result_total.csv"
      ],
      "metadata": {
        "id": "gsRnzcD243J2"
      },
      "execution_count": 6,
      "outputs": []
    },
    {
      "cell_type": "code",
      "source": [
        "# There are 7043 total customer data\n",
        "print(result_total)"
      ],
      "metadata": {
        "id": "HmdXTPLLuLnc",
        "outputId": "07026482-e51f-42fa-cfca-d3957e8d4d24",
        "colab": {
          "base_uri": "https://localhost:8080/"
        }
      },
      "execution_count": 7,
      "outputs": [
        {
          "output_type": "stream",
          "name": "stdout",
          "text": [
            "     Customer ID  Count_x  ... Churn Category Satisfaction Score\n",
            "0     0650-BWOZN      NaN  ...     Competitor                1.0\n",
            "1     0562-FGDCR      1.0  ...     Competitor                1.0\n",
            "2     6688-UZPWD      1.0  ...       No Churn                NaN\n",
            "3     2905-KFQUV      1.0  ...     Competitor                3.0\n",
            "4     9720-JJJOR      1.0  ...       No Churn                NaN\n",
            "...          ...      ...  ...            ...                ...\n",
            "7038  3426-NIYYL      NaN  ...            NaN                NaN\n",
            "7039  5666-CYCYZ      NaN  ...            NaN                3.0\n",
            "7040  8263-JQAIK      NaN  ...            NaN                3.0\n",
            "7041  2754-SDJRD      NaN  ...            NaN                1.0\n",
            "7042  3251-YMVWZ      NaN  ...            NaN                3.0\n",
            "\n",
            "[7043 rows x 48 columns]\n"
          ]
        }
      ]
    },
    {
      "cell_type": "code",
      "source": [
        "# Train_IDs has 5634 customer data\n",
        "result_train = df_list[0]\n",
        "for df in df_list[1:]:\n",
        "    result_train = pd.merge(result_train, df, how='left', on='Customer ID')\n",
        "\n",
        "print(result_train)"
      ],
      "metadata": {
        "id": "XC9OTia4vQyw",
        "outputId": "bdfc080b-8197-4b85-9a2d-8fe4affccd5a",
        "colab": {
          "base_uri": "https://localhost:8080/"
        }
      },
      "execution_count": 8,
      "outputs": [
        {
          "output_type": "stream",
          "name": "stdout",
          "text": [
            "     Customer ID  Count_x  ... Churn Category Satisfaction Score\n",
            "0     0650-BWOZN      NaN  ...     Competitor                1.0\n",
            "1     0562-FGDCR      1.0  ...     Competitor                1.0\n",
            "2     6688-UZPWD      1.0  ...       No Churn                NaN\n",
            "3     2905-KFQUV      1.0  ...     Competitor                3.0\n",
            "4     9720-JJJOR      1.0  ...       No Churn                NaN\n",
            "...          ...      ...  ...            ...                ...\n",
            "5629  1178-PZGAB      NaN  ...            NaN                3.0\n",
            "5630  4806-KEXQR      1.0  ...            NaN                3.0\n",
            "5631  8809-RIHDD      NaN  ...       No Churn                4.0\n",
            "5632  6663-JOCQO      NaN  ...       No Churn                NaN\n",
            "5633  7010-ZMVBF      1.0  ...       No Churn                4.0\n",
            "\n",
            "[5634 rows x 48 columns]\n"
          ]
        }
      ]
    },
    {
      "cell_type": "code",
      "source": [
        "# Test_Ids has 1409 customer data\n",
        "df_test = pd.read_csv(test_path)\n",
        "result_test = df_test\n",
        "for df in df_list[1:]:\n",
        "    result_test = pd.merge(result_test, df, how='left', on='Customer ID')\n",
        "\n",
        "print(result_test)"
      ],
      "metadata": {
        "id": "fE-wQXgit9JQ",
        "outputId": "e2b3f0f3-1f04-4a30-e1ba-d9564be181ed",
        "colab": {
          "base_uri": "https://localhost:8080/"
        }
      },
      "execution_count": 9,
      "outputs": [
        {
          "output_type": "stream",
          "name": "stdout",
          "text": [
            "     Customer ID  Count_x  ... Churn Category Satisfaction Score\n",
            "0     9938-EKRGF      1.0  ...            NaN                3.0\n",
            "1     7379-POKDZ      1.0  ...            NaN                4.0\n",
            "2     0654-HMSHN      1.0  ...            NaN                5.0\n",
            "3     2045-BMBTJ      NaN  ...            NaN                NaN\n",
            "4     0701-TJSEF      1.0  ...            NaN                NaN\n",
            "...          ...      ...  ...            ...                ...\n",
            "1404  4587-VVTOX      1.0  ...            NaN                4.0\n",
            "1405  7716-YTYHG      1.0  ...            NaN                NaN\n",
            "1406  7649-PHJVR      NaN  ...            NaN                1.0\n",
            "1407  7855-DIWPO      1.0  ...            NaN                NaN\n",
            "1408  8197-BFWVU      1.0  ...            NaN                3.0\n",
            "\n",
            "[1409 rows x 48 columns]\n"
          ]
        }
      ]
    },
    {
      "cell_type": "code",
      "source": [
        "print(result_total.dropna()) # Find customer with full data infomation"
      ],
      "metadata": {
        "colab": {
          "base_uri": "https://localhost:8080/"
        },
        "id": "7wbcLdCPLMBV",
        "outputId": "d69c11c7-941d-4525-fb19-60002780f125"
      },
      "execution_count": 10,
      "outputs": [
        {
          "output_type": "stream",
          "name": "stdout",
          "text": [
            "     Customer ID  Count_x  ...   Churn Category Satisfaction Score\n",
            "666   0454-OKRCT      1.0  ...         No Churn                4.0\n",
            "678   1735-XMJVH      1.0  ...         No Churn                5.0\n",
            "1799  1245-HARPS      1.0  ...  Dissatisfaction                1.0\n",
            "2805  8445-DNBAE      1.0  ...       Competitor                1.0\n",
            "2883  8708-XPXHZ      1.0  ...         No Churn                3.0\n",
            "3062  9522-ZSINC      1.0  ...         No Churn                4.0\n",
            "4297  0836-SEYLU      1.0  ...         No Churn                3.0\n",
            "5146  7274-RTAPZ      1.0  ...         No Churn                5.0\n",
            "\n",
            "[8 rows x 48 columns]\n"
          ]
        }
      ]
    },
    {
      "cell_type": "code",
      "source": [
        "result_cols = result_total.columns\n",
        "print(result_cols)"
      ],
      "metadata": {
        "colab": {
          "base_uri": "https://localhost:8080/"
        },
        "id": "h42U-NQJkntr",
        "outputId": "e4bdde7b-dc2c-40ec-b195-1d82e7d00fa0"
      },
      "execution_count": 11,
      "outputs": [
        {
          "output_type": "stream",
          "name": "stdout",
          "text": [
            "Index(['Customer ID', 'Count_x', 'Country', 'State', 'City', 'Zip Code',\n",
            "       'Lat Long', 'Latitude', 'Longitude', 'Count_y', 'Quarter',\n",
            "       'Referred a Friend', 'Number of Referrals', 'Tenure in Months', 'Offer',\n",
            "       'Phone Service', 'Avg Monthly Long Distance Charges', 'Multiple Lines',\n",
            "       'Internet Service', 'Internet Type', 'Avg Monthly GB Download',\n",
            "       'Online Security', 'Online Backup', 'Device Protection Plan',\n",
            "       'Premium Tech Support', 'Streaming TV', 'Streaming Movies',\n",
            "       'Streaming Music', 'Unlimited Data', 'Contract', 'Paperless Billing',\n",
            "       'Payment Method', 'Monthly Charge', 'Total Charges', 'Total Refunds',\n",
            "       'Total Extra Data Charges', 'Total Long Distance Charges',\n",
            "       'Total Revenue', 'Count', 'Gender', 'Age', 'Under 30', 'Senior Citizen',\n",
            "       'Married', 'Dependents', 'Number of Dependents', 'Churn Category',\n",
            "       'Satisfaction Score'],\n",
            "      dtype='object')\n"
          ]
        }
      ]
    },
    {
      "cell_type": "code",
      "source": [
        "missing = result_train.isnull().sum().reset_index().rename(columns={0:'missNum'})\n",
        "missing['missRate'] = missing['missNum'] / result_train.shape[0]\n",
        "miss_analy = missing[missing.missRate > 0].sort_values(by='missRate', ascending=False)\n",
        "\n",
        "fig = plt.figure(figsize=(18, 6))\n",
        "plt.bar(np.arange(miss_analy.shape[0]), list(miss_analy.missRate.values), align='center')\n",
        "\n",
        "plt.title('Histogram of missing value of variables of training dataset')\n",
        "plt.xlabel('variables names')\n",
        "plt.ylabel('missing rate')\n",
        "plt.xticks(np.arange(miss_analy.shape[0]), list(miss_analy['index']))\n",
        "plt.xticks(rotation=90)\n",
        "for x, y in enumerate(list(miss_analy.missRate.values)):\n",
        "    plt.text(x, y + 0.12, '{:.2%}'.format(y), ha='center', rotation=90)    \n",
        "\n",
        "plt.ylim([0, 1.2])  \n",
        "plt.savefig(f'./statistics/miss rate_train_stat.png')  \n",
        "plt.show()\n",
        "plt.close()"
      ],
      "metadata": {
        "id": "HDjocf2IYbFs",
        "outputId": "28d1191f-b449-4440-ebab-770b60749f77",
        "colab": {
          "base_uri": "https://localhost:8080/",
          "height": 498
        }
      },
      "execution_count": 12,
      "outputs": [
        {
          "output_type": "display_data",
          "data": {
            "image/png": "[encoded data removed]",
            "text/plain": [
              "<Figure size 1296x432 with 1 Axes>"
            ]
          },
          "metadata": {
            "needs_background": "light"
          }
        }
      ]
    },
    {
      "cell_type": "code",
      "source": [
        "missing = result_test.isnull().sum().reset_index().rename(columns={0:'missNum'})\n",
        "missing['missRate'] = missing['missNum'] / result_test.shape[0]\n",
        "miss_analy = missing[missing.missRate > 0].sort_values(by='missRate', ascending=False)\n",
        "\n",
        "fig = plt.figure(figsize=(18, 6))\n",
        "plt.bar(np.arange(miss_analy.shape[0]), list(miss_analy.missRate.values), align='center')\n",
        "\n",
        "plt.title('Histogram of missing value of variables of test dataset')\n",
        "plt.xlabel('variables names')\n",
        "plt.ylabel('missing rate')\n",
        "plt.xticks(np.arange(miss_analy.shape[0]), list(miss_analy['index']))\n",
        "plt.xticks(rotation=90)\n",
        "for x, y in enumerate(list(miss_analy.missRate.values)):\n",
        "    plt.text(x, y + 0.12, '{:.2%}'.format(y), ha='center', rotation=90)    \n",
        "\n",
        "plt.ylim([0, 1.4])  \n",
        "plt.savefig(f'./statistics/miss rate_test_stat.png')  \n",
        "plt.show()\n",
        "plt.close()"
      ],
      "metadata": {
        "colab": {
          "base_uri": "https://localhost:8080/",
          "height": 498
        },
        "id": "BVN8BclJkD1J",
        "outputId": "a716ea21-6f5b-43e3-819d-701c6cfb08be"
      },
      "execution_count": 13,
      "outputs": [
        {
          "output_type": "display_data",
          "data": {
            "image/png": "[encoded data removed]",
            "text/plain": [
              "<Figure size 1296x432 with 1 Axes>"
            ]
          },
          "metadata": {
            "needs_background": "light"
          }
        }
      ]
    },
    {
      "cell_type": "markdown",
      "source": [
        "# **Statistics and Data Preprocessing**"
      ],
      "metadata": {
        "id": "eYyJOoclqCFk"
      }
    },
    {
      "cell_type": "code",
      "source": [
        "result_train_copy = result_train.copy(deep=True)\n",
        "result_test_copy = result_test.copy(deep=True)\n",
        "def label_statistics(label):\n",
        "    freq = result_train.groupby(label).size() \n",
        "\n",
        "    names = [name for name, _ in freq.items()]\n",
        "    counts = [count for _, count in freq.items()]\n",
        "\n",
        "    fig = plt.figure(figsize=(8, 6))\n",
        "    x = np.arange(len(names))\n",
        "    plt.bar(x, counts)\n",
        "    plt.xticks(x, names, rotation=15)\n",
        "    plt.title(f'Statistics of {label}')\n",
        "    plt.savefig(f'./statistics/Statistics of {label}.png')\n",
        "    print(f'Statistics of {label}.png saved')\n",
        "    plt.close()\n",
        "\n",
        "    # Replace NaN with random choice label with the original distribution\n",
        "    probability = [p / np.sum(counts) for p in counts]\n",
        "    result_train_copy[label] = result_train_copy[label].apply(lambda x: np.random.choice(names, p=probability) if pd.isnull(x) else x)\n",
        "    result_test_copy[label] = result_test_copy[label].apply(lambda x: np.random.choice(names, p=probability) if pd.isnull(x) else x)"
      ],
      "metadata": {
        "id": "ho-LNzp4g_Eb"
      },
      "execution_count": 14,
      "outputs": []
    },
    {
      "cell_type": "code",
      "source": [
        "need_statistics_col = ['Churn Category', 'Satisfaction Score', \n",
        "       'Gender', 'Under 30', 'Senior Citizen', 'Married', 'Dependents',\n",
        "       'Number of Dependents', 'Country', 'State', 'City', 'Quarter',\n",
        "       'Referred a Friend', 'Number of Referrals', 'Offer',\n",
        "       'Phone Service', 'Multiple Lines', 'Internet Service', 'Internet Type',\n",
        "       'Online Security', 'Online Backup', 'Device Protection Plan',\n",
        "       'Premium Tech Support', 'Streaming TV', 'Streaming Movies',\n",
        "       'Streaming Music', 'Unlimited Data', 'Contract', 'Paperless Billing',\n",
        "       'Payment Method']\n",
        "\n",
        "# Replace NaN with the most frequent label\n",
        "for need_col in need_statistics_col:\n",
        "    label_statistics(need_col)\n",
        "\n",
        "    # Encode target labels with value\n",
        "    le = LabelEncoder()\n",
        "    result_train_copy[need_col] = le.fit_transform(result_train_copy[need_col])\n",
        "    result_test_copy[need_col] = le.fit_transform(result_test_copy[need_col])\n",
        "\n",
        "    if need_col == 'Churn Category':\n",
        "        encoder_map = dict(zip(le.classes_, le.transform(le.classes_)))"
      ],
      "metadata": {
        "colab": {
          "base_uri": "https://localhost:8080/"
        },
        "id": "Pl4omt-mIGDW",
        "outputId": "446289d4-83a1-4f2f-f241-88a854b4b071"
      },
      "execution_count": 15,
      "outputs": [
        {
          "output_type": "stream",
          "name": "stdout",
          "text": [
            "Statistics of Churn Category.png saved\n",
            "Statistics of Satisfaction Score.png saved\n",
            "Statistics of Gender.png saved\n",
            "Statistics of Under 30.png saved\n",
            "Statistics of Senior Citizen.png saved\n",
            "Statistics of Married.png saved\n",
            "Statistics of Dependents.png saved\n",
            "Statistics of Number of Dependents.png saved\n",
            "Statistics of Country.png saved\n",
            "Statistics of State.png saved\n",
            "Statistics of City.png saved\n",
            "Statistics of Quarter.png saved\n",
            "Statistics of Referred a Friend.png saved\n",
            "Statistics of Number of Referrals.png saved\n",
            "Statistics of Offer.png saved\n",
            "Statistics of Phone Service.png saved\n",
            "Statistics of Multiple Lines.png saved\n",
            "Statistics of Internet Service.png saved\n",
            "Statistics of Internet Type.png saved\n",
            "Statistics of Online Security.png saved\n",
            "Statistics of Online Backup.png saved\n",
            "Statistics of Device Protection Plan.png saved\n",
            "Statistics of Premium Tech Support.png saved\n",
            "Statistics of Streaming TV.png saved\n",
            "Statistics of Streaming Movies.png saved\n",
            "Statistics of Streaming Music.png saved\n",
            "Statistics of Unlimited Data.png saved\n",
            "Statistics of Contract.png saved\n",
            "Statistics of Paperless Billing.png saved\n",
            "Statistics of Payment Method.png saved\n"
          ]
        }
      ]
    },
    {
      "cell_type": "code",
      "source": [
        "need_avg_col = [item for item in result_cols if item not in need_statistics_col]\n",
        "\n",
        "# Replace NaN with median value or 0\n",
        "for avg_col in need_avg_col[1:]:\n",
        "    if avg_col == 'Zip Code' or avg_col == 'Lat Long':\n",
        "        continue\n",
        "    elif 'Count' in avg_col:\n",
        "        result_train_copy[avg_col] = result_train_copy[avg_col].fillna(0)\n",
        "        result_test_copy[avg_col] = result_test_copy[avg_col].fillna(0)\n",
        "    else:\n",
        "        result_train_copy[avg_col] = result_train_copy[avg_col].fillna(result_train_copy[avg_col].median()) \n",
        "        result_test_copy[avg_col] = result_test_copy[avg_col].fillna(result_train_copy[avg_col].median())"
      ],
      "metadata": {
        "id": "hjvCj4CgJPoJ"
      },
      "execution_count": 16,
      "outputs": []
    },
    {
      "cell_type": "code",
      "source": [
        "# Find the correlation of columns\n",
        "cor_matrix = result_train_copy.corr().abs()\n",
        "print(cor_matrix['Churn Category'])"
      ],
      "metadata": {
        "id": "WdnuvMdMS7_L",
        "outputId": "d00d08df-9927-4839-edc7-2264626d5187",
        "colab": {
          "base_uri": "https://localhost:8080/"
        }
      },
      "execution_count": 17,
      "outputs": [
        {
          "output_type": "stream",
          "name": "stdout",
          "text": [
            "Count_x                              0.024353\n",
            "Country                                   NaN\n",
            "State                                     NaN\n",
            "City                                 0.001694\n",
            "Zip Code                             0.016380\n",
            "Latitude                             0.050255\n",
            "Longitude                            0.029237\n",
            "Count_y                              0.001317\n",
            "Quarter                                   NaN\n",
            "Referred a Friend                    0.039161\n",
            "Number of Referrals                  0.081623\n",
            "Tenure in Months                     0.124967\n",
            "Offer                                0.064084\n",
            "Phone Service                        0.007903\n",
            "Avg Monthly Long Distance Charges    0.012097\n",
            "Multiple Lines                       0.025724\n",
            "Internet Service                     0.093695\n",
            "Internet Type                        0.041499\n",
            "Avg Monthly GB Download              0.040774\n",
            "Online Security                      0.057228\n",
            "Online Backup                        0.013486\n",
            "Device Protection Plan               0.003886\n",
            "Premium Tech Support                 0.065226\n",
            "Streaming TV                         0.011442\n",
            "Streaming Movies                     0.038226\n",
            "Streaming Music                      0.020193\n",
            "Unlimited Data                       0.069493\n",
            "Contract                             0.137617\n",
            "Paperless Billing                    0.078954\n",
            "Payment Method                       0.035229\n",
            "Monthly Charge                       0.092739\n",
            "Total Charges                        0.058857\n",
            "Total Refunds                        0.014575\n",
            "Total Extra Data Charges             0.015636\n",
            "Total Long Distance Charges          0.092469\n",
            "Total Revenue                        0.080331\n",
            "Count                                0.040754\n",
            "Gender                               0.001889\n",
            "Age                                  0.046805\n",
            "Under 30                             0.024823\n",
            "Senior Citizen                       0.059089\n",
            "Married                              0.018871\n",
            "Dependents                           0.074275\n",
            "Number of Dependents                 0.053742\n",
            "Churn Category                       1.000000\n",
            "Satisfaction Score                   0.254697\n",
            "Name: Churn Category, dtype: float64\n"
          ]
        }
      ]
    },
    {
      "cell_type": "code",
      "source": [
        "useless_feature = [index for index, value in cor_matrix['Churn Category'].items() if value < 0.02 or pd.isnull(value)]\n",
        "useless_feature.append('Lat Long')\n",
        "print(useless_feature)"
      ],
      "metadata": {
        "id": "EUWHiNXdKhGP",
        "outputId": "deead7e1-f3a6-40c6-8960-52208d5d3b43",
        "colab": {
          "base_uri": "https://localhost:8080/"
        }
      },
      "execution_count": 18,
      "outputs": [
        {
          "output_type": "stream",
          "name": "stdout",
          "text": [
            "['Country', 'State', 'City', 'Zip Code', 'Count_y', 'Quarter', 'Phone Service', 'Avg Monthly Long Distance Charges', 'Online Backup', 'Device Protection Plan', 'Streaming TV', 'Total Refunds', 'Total Extra Data Charges', 'Gender', 'Married', 'Lat Long']\n"
          ]
        }
      ]
    },
    {
      "cell_type": "code",
      "source": [
        "def dropColumns(label):\n",
        "    global result_train_copy, result_test_copy\n",
        "    result_train_copy = result_train_copy.drop(label, axis=1)\n",
        "    result_test_copy = result_test_copy.drop(label, axis=1)"
      ],
      "metadata": {
        "id": "K5quNy8vHQzb"
      },
      "execution_count": 19,
      "outputs": []
    },
    {
      "cell_type": "code",
      "source": [
        "# Throw away the data columns whose correlation to Churn Category is less than 0.55\n",
        "for item in useless_feature:\n",
        "    dropColumns(item)"
      ],
      "metadata": {
        "id": "Cis3gTDOG9Im"
      },
      "execution_count": 20,
      "outputs": []
    },
    {
      "cell_type": "code",
      "source": [
        "result_train_copy.to_csv('./data/result_after_preprocessing.csv') # Save after preprocessing result to result_after_preprocessing.csv\n",
        "feature_amount = len(result_train_copy.columns)\n",
        "\n",
        "print(result_train_copy)\n",
        "print(result_test_copy)"
      ],
      "metadata": {
        "colab": {
          "base_uri": "https://localhost:8080/"
        },
        "id": "-DsDpzq_Lgp3",
        "outputId": "1f9720e3-5847-4453-8336-7432127acb91"
      },
      "execution_count": 21,
      "outputs": [
        {
          "output_type": "stream",
          "name": "stdout",
          "text": [
            "     Customer ID  Count_x  ...  Churn Category  Satisfaction Score\n",
            "0     0650-BWOZN      0.0  ...               1                   0\n",
            "1     0562-FGDCR      1.0  ...               1                   0\n",
            "2     6688-UZPWD      1.0  ...               3                   2\n",
            "3     2905-KFQUV      1.0  ...               1                   2\n",
            "4     9720-JJJOR      1.0  ...               3                   2\n",
            "...          ...      ...  ...             ...                 ...\n",
            "5629  1178-PZGAB      0.0  ...               1                   2\n",
            "5630  4806-KEXQR      1.0  ...               0                   2\n",
            "5631  8809-RIHDD      0.0  ...               3                   3\n",
            "5632  6663-JOCQO      0.0  ...               3                   3\n",
            "5633  7010-ZMVBF      1.0  ...               3                   3\n",
            "\n",
            "[5634 rows x 32 columns]\n",
            "     Customer ID  Count_x  ...  Churn Category  Satisfaction Score\n",
            "0     9938-EKRGF      1.0  ...               3                   2\n",
            "1     7379-POKDZ      1.0  ...               3                   3\n",
            "2     0654-HMSHN      1.0  ...               2                   4\n",
            "3     2045-BMBTJ      0.0  ...               3                   3\n",
            "4     0701-TJSEF      1.0  ...               3                   2\n",
            "...          ...      ...  ...             ...                 ...\n",
            "1404  4587-VVTOX      1.0  ...               5                   3\n",
            "1405  7716-YTYHG      1.0  ...               3                   3\n",
            "1406  7649-PHJVR      0.0  ...               3                   0\n",
            "1407  7855-DIWPO      1.0  ...               3                   4\n",
            "1408  8197-BFWVU      1.0  ...               1                   2\n",
            "\n",
            "[1409 rows x 32 columns]\n"
          ]
        }
      ]
    },
    {
      "cell_type": "markdown",
      "source": [
        "# **Balance Data**"
      ],
      "metadata": {
        "id": "bPTqADO2Ox2F"
      }
    },
    {
      "cell_type": "code",
      "source": [
        "y_train = result_train_copy['Churn Category'].values\n",
        "X_train = result_train_copy.drop('Customer ID', axis=1)\n",
        "X_train = X_train.drop('Churn Category', axis=1)"
      ],
      "metadata": {
        "id": "RiyIrSnaNq6F"
      },
      "execution_count": 22,
      "outputs": []
    },
    {
      "cell_type": "code",
      "source": [
        "print(f\"normal data distribution: {Counter(y_train)}\")\n",
        "\n",
        "smo = ADASYN(random_state=seed)\n",
        "X_train, y_train = smo.fit_resample(X_train, y_train)\n",
        "\n",
        "print(f\"SMOTE data distribution: {Counter(y_train)}\")"
      ],
      "metadata": {
        "id": "LmlxI28WQUG2",
        "outputId": "03bc9200-4e9f-4faf-d3d5-558023674a5e",
        "colab": {
          "base_uri": "https://localhost:8080/"
        }
      },
      "execution_count": 23,
      "outputs": [
        {
          "output_type": "stream",
          "name": "stdout",
          "text": [
            "normal data distribution: Counter({3: 4133, 1: 662, 0: 271, 2: 222, 4: 175, 5: 171})\n",
            "SMOTE data distribution: Counter({2: 4184, 5: 4165, 4: 4142, 3: 4133, 1: 4110, 0: 4048})\n"
          ]
        }
      ]
    },
    {
      "cell_type": "markdown",
      "source": [
        "# **SVM Train**"
      ],
      "metadata": {
        "id": "3HpyuY-RQEz1"
      }
    },
    {
      "cell_type": "code",
      "source": [
        "sc = StandardScaler()\n",
        "ss = StandardScaler().fit(X_train)\n",
        "X_train_std = ss.transform(X_train)\n",
        "mms = MinMaxScaler(feature_range=(0, 1)).fit(X_train_std)\n",
        "X_train_std = mms.transform(X_train_std)"
      ],
      "metadata": {
        "id": "euCLdtvkO-nO"
      },
      "execution_count": 24,
      "outputs": []
    },
    {
      "cell_type": "code",
      "source": [
        "svm = SVC(kernel='rbf', gamma=0.7, C=10, decision_function_shape='ovr')\n",
        "\n",
        "# SVM with class weight\n",
        "# svm = SVC(kernel='rbf', gamma=0.7, class_weight={0:10, 1:10, 2:10, 3:1, 4:10, 5:10})\n",
        "\n",
        "start_time = time.time()\n",
        "model = svm.fit(X_train_std, y_train)\n",
        "end_time = time.time()\n",
        "\n",
        "print(f'Training use {round(end_time - start_time, 3)}s')"
      ],
      "metadata": {
        "colab": {
          "base_uri": "https://localhost:8080/"
        },
        "id": "VXuL_lKqW_mD",
        "outputId": "933ea8ca-5825-41f5-cf8b-07386aa21471"
      },
      "execution_count": 25,
      "outputs": [
        {
          "output_type": "stream",
          "name": "stdout",
          "text": [
            "Training use 40.624s\n"
          ]
        }
      ]
    },
    {
      "cell_type": "code",
      "source": [
        "y_train_predict = svm.predict(X_train_std)\n",
        "Ein = np.mean(np.array(y_train_predict) != y_train)\n",
        "F1in = metrics.f1_score(y_train, y_train_predict, average='macro')  \n",
        "print(f'Ein = {round(Ein, 5)}')\n",
        "print(f'F1_in = {round(F1in, 5)}')"
      ],
      "metadata": {
        "colab": {
          "base_uri": "https://localhost:8080/"
        },
        "id": "WivcNevbY1lB",
        "outputId": "86154d2e-8b4a-4c11-b6d7-7b3e7ce085ca"
      },
      "execution_count": 26,
      "outputs": [
        {
          "output_type": "stream",
          "name": "stdout",
          "text": [
            "Ein = 0.01453\n",
            "F1_in = 0.98542\n"
          ]
        }
      ]
    },
    {
      "cell_type": "code",
      "source": [
        "plot_confusion_matrix(model, X_train_std, y_train)\n",
        "print(encoder_map)"
      ],
      "metadata": {
        "id": "yWM9fKw1MLr1",
        "outputId": "98344f29-9681-410c-ff46-a4cac251e363",
        "colab": {
          "base_uri": "https://localhost:8080/",
          "height": 351
        }
      },
      "execution_count": 27,
      "outputs": [
        {
          "output_type": "stream",
          "name": "stderr",
          "text": [
            "/usr/local/lib/python3.7/dist-packages/sklearn/utils/deprecation.py:87: FutureWarning: Function plot_confusion_matrix is deprecated; Function `plot_confusion_matrix` is deprecated in 1.0 and will be removed in 1.2. Use one of the class methods: ConfusionMatrixDisplay.from_predictions or ConfusionMatrixDisplay.from_estimator.\n",
            "  warnings.warn(msg, category=FutureWarning)\n"
          ]
        },
        {
          "output_type": "stream",
          "name": "stdout",
          "text": [
            "{'Attitude': 0, 'Competitor': 1, 'Dissatisfaction': 2, 'No Churn': 3, 'Other': 4, 'Price': 5}\n"
          ]
        },
        {
          "output_type": "display_data",
          "data": {
            "image/png": "[encoded data removed]",
            "text/plain": [
              "<Figure size 432x288 with 2 Axes>"
            ]
          },
          "metadata": {
            "needs_background": "light"
          }
        }
      ]
    },
    {
      "cell_type": "code",
      "source": [
        "print(classification_report(y_train, y_train_predict))"
      ],
      "metadata": {
        "id": "LMiWePsbSW4Y",
        "outputId": "820d9c7a-d569-4114-caa3-fd187317ded3",
        "colab": {
          "base_uri": "https://localhost:8080/"
        }
      },
      "execution_count": 28,
      "outputs": [
        {
          "output_type": "stream",
          "name": "stdout",
          "text": [
            "              precision    recall  f1-score   support\n",
            "\n",
            "           0       0.98      0.99      0.98      4048\n",
            "           1       0.99      0.96      0.97      4110\n",
            "           2       0.98      0.99      0.99      4184\n",
            "           3       1.00      0.99      1.00      4133\n",
            "           4       0.99      0.99      0.99      4142\n",
            "           5       0.98      0.99      0.99      4165\n",
            "\n",
            "    accuracy                           0.99     24782\n",
            "   macro avg       0.99      0.99      0.99     24782\n",
            "weighted avg       0.99      0.99      0.99     24782\n",
            "\n"
          ]
        }
      ]
    },
    {
      "cell_type": "markdown",
      "source": [
        "# **SVM Test**"
      ],
      "metadata": {
        "id": "ViqMiLyMavbf"
      }
    },
    {
      "cell_type": "code",
      "source": [
        "X_test = result_test_copy.drop('Customer ID', axis=1)\n",
        "X_test = X_test.drop('Churn Category', axis=1)\n",
        "ss = StandardScaler().fit(X_test)\n",
        "X_test_std = ss.transform(X_test)\n",
        "mms = MinMaxScaler(feature_range=(0, 1)).fit(X_test_std)\n",
        "X_test_std = mms.transform(X_test_std)\n",
        "y_test = svm.predict(X_test_std)"
      ],
      "metadata": {
        "id": "dxd93_hUauU5"
      },
      "execution_count": 29,
      "outputs": []
    },
    {
      "cell_type": "code",
      "source": [
        "plot_confusion_matrix(model, X_test_std, y_test)\n",
        "print(encoder_map)"
      ],
      "metadata": {
        "id": "098w16TfMkqn",
        "outputId": "a7499ff7-259e-44ac-8eb4-ba0a044f3469",
        "colab": {
          "base_uri": "https://localhost:8080/",
          "height": 351
        }
      },
      "execution_count": 30,
      "outputs": [
        {
          "output_type": "stream",
          "name": "stderr",
          "text": [
            "/usr/local/lib/python3.7/dist-packages/sklearn/utils/deprecation.py:87: FutureWarning: Function plot_confusion_matrix is deprecated; Function `plot_confusion_matrix` is deprecated in 1.0 and will be removed in 1.2. Use one of the class methods: ConfusionMatrixDisplay.from_predictions or ConfusionMatrixDisplay.from_estimator.\n",
            "  warnings.warn(msg, category=FutureWarning)\n"
          ]
        },
        {
          "output_type": "stream",
          "name": "stdout",
          "text": [
            "{'Attitude': 0, 'Competitor': 1, 'Dissatisfaction': 2, 'No Churn': 3, 'Other': 4, 'Price': 5}\n"
          ]
        },
        {
          "output_type": "display_data",
          "data": {
            "image/png": "[encoded data removed]",
            "text/plain": [
              "<Figure size 432x288 with 2 Axes>"
            ]
          },
          "metadata": {
            "needs_background": "light"
          }
        }
      ]
    },
    {
      "cell_type": "code",
      "source": [
        "submit_result = './svm_result.csv'\n",
        "\n",
        "new_encoder_map = {'No Churn':0, 'Competitor': 1, 'Dissatisfaction':2, 'Attitude': 3, 'Price':4, 'Other':5}\n",
        "\n",
        "with open(submit_result, 'w') as f:\n",
        "    f.write('Customer ID,Churn Category\\n')\n",
        "    for i in range(len(df_test.values)):\n",
        "        id = str(df_test.values[i]).replace('[\\'', '')\n",
        "        id = id.replace('\\']', '')\n",
        "        pred = new_encoder_map.get(list(encoder_map.keys())[list(encoder_map.values()).index(y_test[i])])\n",
        "        f.write(f'{id},{pred}\\n')"
      ],
      "metadata": {
        "id": "6N35sOjrcpNd"
      },
      "execution_count": 31,
      "outputs": []
    },
    {
      "cell_type": "code",
      "source": [
        "from google.colab import files\n",
        "\n",
        "files.download(submit_result)"
      ],
      "metadata": {
        "colab": {
          "base_uri": "https://localhost:8080/",
          "height": 34
        },
        "id": "0tLUThI7nWnj",
        "outputId": "e19217bd-0fad-48e2-fa93-0a92048dfbc2"
      },
      "execution_count": 32,
      "outputs": [
        {
          "output_type": "display_data",
          "data": {
            "application/javascript": [
              "\n",
              "    async function download(id, filename, size) {\n",
              "      if (!google.colab.kernel.accessAllowed) {\n",
              "        return;\n",
              "      }\n",
              "      const div = document.createElement('div');\n",
              "      const label = document.createElement('label');\n",
              "      label.textContent = `Downloading \"${filename}\": `;\n",
              "      div.appendChild(label);\n",
              "      const progress = document.createElement('progress');\n",
              "      progress.max = size;\n",
              "      div.appendChild(progress);\n",
              "      document.body.appendChild(div);\n",
              "\n",
              "      const buffers = [];\n",
              "      let downloaded = 0;\n",
              "\n",
              "      const channel = await google.colab.kernel.comms.open(id);\n",
              "      // Send a message to notify the kernel that we're ready.\n",
              "      channel.send({})\n",
              "\n",
              "      for await (const message of channel.messages) {\n",
              "        // Send a message to notify the kernel that we're ready.\n",
              "        channel.send({})\n",
              "        if (message.buffers) {\n",
              "          for (const buffer of message.buffers) {\n",
              "            buffers.push(buffer);\n",
              "            downloaded += buffer.byteLength;\n",
              "            progress.value = downloaded;\n",
              "          }\n",
              "        }\n",
              "      }\n",
              "      const blob = new Blob(buffers, {type: 'application/binary'});\n",
              "      const a = document.createElement('a');\n",
              "      a.href = window.URL.createObjectURL(blob);\n",
              "      a.download = filename;\n",
              "      div.appendChild(a);\n",
              "      a.click();\n",
              "      div.remove();\n",
              "    }\n",
              "  "
            ],
            "text/plain": [
              "<IPython.core.display.Javascript object>"
            ]
          },
          "metadata": {}
        },
        {
          "output_type": "display_data",
          "data": {
            "application/javascript": [
              "download(\"download_f5016865-84ff-4fde-aa9b-418b6315f8f7\", \"svm_result.csv\", 18344)"
            ],
            "text/plain": [
              "<IPython.core.display.Javascript object>"
            ]
          },
          "metadata": {}
        }
      ]
    },
    {
      "cell_type": "markdown",
      "source": [
        "# **Deep Neural Network Train**"
      ],
      "metadata": {
        "id": "ZFjmDSVGQPwo"
      }
    },
    {
      "cell_type": "code",
      "source": [
        "class IBMDataset(Dataset):\n",
        "    def __init__(self, X, y=None):\n",
        "        self.data = torch.from_numpy(X).float()\n",
        "        if y is not None:\n",
        "            y = y.astype(np.int)\n",
        "            self.label = torch.LongTensor(y)\n",
        "        else:\n",
        "            self.label = None\n",
        "\n",
        "    def __getitem__(self, idx):\n",
        "        if self.label is not None:\n",
        "            return self.data[idx], self.label[idx]\n",
        "        else:\n",
        "            return self.data[idx]\n",
        "\n",
        "    def __len__(self):\n",
        "        return len(self.data)"
      ],
      "metadata": {
        "id": "G5F9W_RkSub3"
      },
      "execution_count": 45,
      "outputs": []
    },
    {
      "cell_type": "code",
      "source": [
        "class Classifier(nn.Module):\n",
        "    def __init__(self):\n",
        "        super(Classifier, self).__init__()\n",
        "        self.layer1 = nn.Linear(feature_amount - 2, 512)\n",
        "        self.layer2 = nn.Linear(512, 256)\n",
        "        self.layer3 = nn.Linear(256, 128)\n",
        "        self.bn1 = nn.BatchNorm1d(512)\n",
        "        self.bn2 = nn.BatchNorm1d(256)\n",
        "        self.bn3 = nn.BatchNorm1d(128)\n",
        "        self.out = nn.Linear(128, 6)\n",
        "        self.dp = nn.Dropout(0.1)\n",
        "        self.act_fn = nn.LeakyReLU()\n",
        "\n",
        "    def forward(self, x):\n",
        "        x = self.layer1(x)\n",
        "        x = self.act_fn(x)\n",
        "        x = self.bn1(x)\n",
        "        x = self.dp(x)\n",
        "\n",
        "        x = self.layer2(x)\n",
        "        x = self.act_fn(x)\n",
        "        x = self.bn2(x)\n",
        "        x = self.dp(x)\n",
        "\n",
        "        x = self.layer3(x)\n",
        "        x = self.act_fn(x)\n",
        "        x = self.bn3(x)\n",
        "        x = self.dp(x)\n",
        "        \n",
        "        x = self.out(x)\n",
        "        \n",
        "        return x\n",
        "\n",
        "# classifier = Classifier()\n",
        "# summary(classifier, X_train.shape, device=\"cpu\")"
      ],
      "metadata": {
        "id": "K_ofbzUUQdOX"
      },
      "execution_count": 46,
      "outputs": []
    },
    {
      "cell_type": "code",
      "source": [
        "VAL_RATIO = 0.2\n",
        "BATCH_SIZE = 64\n",
        "\n",
        "sc = StandardScaler()\n",
        "ss = StandardScaler().fit(X_train)\n",
        "X_train_std = ss.transform(X_train)\n",
        "\n",
        "percent = int(X_train_std.shape[0] * (1 - VAL_RATIO))\n",
        "train_x, train_y, val_x, val_y = X_train_std[:percent], y_train[:percent], X_train_std[percent:], y_train[percent:]\n",
        "print('Size of training set: {}'.format(train_x.shape))\n",
        "print('Size of validation set: {}'.format(val_x.shape))"
      ],
      "metadata": {
        "id": "3lDEMsTdTVd3",
        "outputId": "e701fa71-83db-4a15-e383-1de221baf7ef",
        "colab": {
          "base_uri": "https://localhost:8080/"
        }
      },
      "execution_count": 47,
      "outputs": [
        {
          "output_type": "stream",
          "name": "stdout",
          "text": [
            "Size of training set: (19825, 30)\n",
            "Size of validation set: (4957, 30)\n"
          ]
        }
      ]
    },
    {
      "cell_type": "code",
      "source": [
        "train_set = IBMDataset(train_x, train_y)\n",
        "val_set = IBMDataset(val_x, val_y)\n",
        "train_loader = DataLoader(train_set, batch_size=BATCH_SIZE, shuffle=True) # only shuffle the training data\n",
        "val_loader = DataLoader(val_set, batch_size=BATCH_SIZE, shuffle=False)"
      ],
      "metadata": {
        "id": "RaPDAgDzTcrs"
      },
      "execution_count": 48,
      "outputs": []
    },
    {
      "cell_type": "code",
      "source": [
        "# get device \n",
        "device = 'cuda' if torch.cuda.is_available() else 'cpu'\n",
        "print(f'DEVICE: {device}')\n",
        "\n",
        "# training parameters\n",
        "num_epoch = 3000             # number of training epoch\n",
        "learning_rate = 0.001       # learning rate\n",
        "callback_num = 500\n",
        "\n",
        "# the path where checkpoint saved\n",
        "model_path = './best_model.ckpt'\n",
        "\n",
        "# create model, define a loss function, and optimizer\n",
        "model = Classifier().to(device)\n",
        "criterion = nn.CrossEntropyLoss() \n",
        "optimizer = torch.optim.Adam(model.parameters(), lr=learning_rate)\n",
        "scheduler = StepLR(optimizer, step_size=len(train_loader) * 200, gamma=0.1)"
      ],
      "metadata": {
        "id": "CMbU0r5fRwai",
        "outputId": "57d4af33-b54c-4905-e549-06f530324bf0",
        "colab": {
          "base_uri": "https://localhost:8080/"
        }
      },
      "execution_count": 49,
      "outputs": [
        {
          "output_type": "stream",
          "name": "stdout",
          "text": [
            "DEVICE: cuda\n"
          ]
        }
      ]
    },
    {
      "cell_type": "code",
      "source": [
        "best_acc = 0.0\n",
        "count = 0\n",
        "start_time = time.time()\n",
        "train_acc_list = []\n",
        "train_loss_list = []\n",
        "val_acc_list = []\n",
        "val_loss_list = []\n",
        "for epoch in range(num_epoch):\n",
        "    train_acc = 0.0\n",
        "    train_loss = 0.0\n",
        "    val_acc = 0.0\n",
        "    val_loss = 0.0\n",
        "\n",
        "    # training\n",
        "    model.train() # set the model to training mode\n",
        "    for i, data in enumerate(train_loader):\n",
        "        inputs, labels = data\n",
        "        inputs, labels = inputs.to(device), labels.to(device)\n",
        "        optimizer.zero_grad() \n",
        "        outputs = model(inputs) \n",
        "        batch_loss = criterion(outputs, labels)\n",
        "        _, train_pred = torch.max(outputs, 1) # get the index of the class with the highest probability\n",
        "        batch_loss.backward() \n",
        "        optimizer.step()\n",
        "        scheduler.step()\n",
        "\n",
        "        train_acc += (train_pred.cpu() == labels.cpu()).sum().item()\n",
        "        train_loss += batch_loss.item()\n",
        "\n",
        "    # validation\n",
        "    if len(val_set) > 0:\n",
        "        model.eval() # set the model to evaluation mode\n",
        "        with torch.no_grad():\n",
        "            for i, data in enumerate(val_loader):\n",
        "                inputs, labels = data\n",
        "                inputs, labels = inputs.to(device), labels.to(device)\n",
        "                outputs = model(inputs)\n",
        "                batch_loss = criterion(outputs, labels) \n",
        "                _, val_pred = torch.max(outputs, 1) \n",
        "            \n",
        "                val_acc += (val_pred.cpu() == labels.cpu()).sum().item() # get the index of the class with the highest probability\n",
        "                val_loss += batch_loss.item()\n",
        "\n",
        "            print('[{:03d}/{:03d}] Train Acc: {:3.6f} Loss: {:3.6f} | Val Acc: {:3.6f} loss: {:3.6f}'.format(\n",
        "                epoch + 1, num_epoch, train_acc/len(train_set), train_loss/len(train_loader), val_acc/len(val_set), val_loss/len(val_loader)\n",
        "            ))\n",
        "\n",
        "            # Record Training and validation info\n",
        "            train_acc_list.append(train_acc/len(train_set))\n",
        "            train_loss_list.append(train_loss/len(train_loader))\n",
        "            val_acc_list.append(val_acc/len(val_set))\n",
        "            val_loss_list.append(val_loss/len(val_loader))\n",
        "\n",
        "            # if the model improves, save a checkpoint at this epoch\n",
        "            count += 1\n",
        "            if val_acc > best_acc:\n",
        "                count = 0\n",
        "                best_acc = val_acc\n",
        "                torch.save(model.state_dict(), model_path)\n",
        "                print('saving model with acc {:.3f}'.format(best_acc/len(val_set)))\n",
        "    else:\n",
        "        print('[{:03d}/{:03d}] Train Acc: {:3.6f} Loss: {:3.6f}'.format(\n",
        "            epoch + 1, num_epoch, train_acc/len(train_set), train_loss/len(train_loader)\n",
        "        ))\n",
        "\n",
        "    if count > callback_num:\n",
        "        break\n",
        "\n",
        "# if not validating, save the last epoch\n",
        "if len(val_set) == 0:\n",
        "    torch.save(model.state_dict(), model_path)\n",
        "    print('saving model at last epoch')\n",
        "\n",
        "end_time = time.time()"
      ],
      "metadata": {
        "id": "zYGRiadPSNDo",
        "outputId": "b275b192-ddce-4513-aba7-21ba8853a088",
        "colab": {
          "base_uri": "https://localhost:8080/"
        }
      },
      "execution_count": 50,
      "outputs": [
        {
          "output_type": "stream",
          "name": "stdout",
          "text": [
            "[001/3000] Train Acc: 0.559042 Loss: 1.184268 | Val Acc: 0.110349 loss: 3.348491\n",
            "saving model with acc 0.110\n",
            "[002/3000] Train Acc: 0.684338 Loss: 0.863383 | Val Acc: 0.116805 loss: 4.117027\n",
            "saving model with acc 0.117\n",
            "[003/3000] Train Acc: 0.745725 Loss: 0.703875 | Val Acc: 0.129514 loss: 4.347677\n",
            "saving model with acc 0.130\n",
            "[004/3000] Train Acc: 0.783506 Loss: 0.612651 | Val Acc: 0.133952 loss: 4.326157\n",
            "saving model with acc 0.134\n",
            "[005/3000] Train Acc: 0.817907 Loss: 0.526955 | Val Acc: 0.141214 loss: 4.549896\n",
            "saving model with acc 0.141\n",
            "[006/3000] Train Acc: 0.836620 Loss: 0.469861 | Val Acc: 0.144846 loss: 4.482773\n",
            "saving model with acc 0.145\n",
            "[007/3000] Train Acc: 0.855839 Loss: 0.416672 | Val Acc: 0.150494 loss: 4.394938\n",
            "saving model with acc 0.150\n",
            "[008/3000] Train Acc: 0.870416 Loss: 0.376258 | Val Acc: 0.149284 loss: 4.712227\n",
            "[009/3000] Train Acc: 0.879849 Loss: 0.345859 | Val Acc: 0.157958 loss: 4.395184\n",
            "saving model with acc 0.158\n",
            "[010/3000] Train Acc: 0.886204 Loss: 0.320340 | Val Acc: 0.172080 loss: 4.405959\n",
            "saving model with acc 0.172\n",
            "[011/3000] Train Acc: 0.897150 Loss: 0.296503 | Val Acc: 0.169457 loss: 4.504857\n",
            "[012/3000] Train Acc: 0.902245 Loss: 0.277484 | Val Acc: 0.190438 loss: 4.535533\n",
            "saving model with acc 0.190\n",
            "[013/3000] Train Acc: 0.910013 Loss: 0.258905 | Val Acc: 0.167642 loss: 4.838634\n",
            "[014/3000] Train Acc: 0.912182 Loss: 0.249448 | Val Acc: 0.187210 loss: 4.783665\n",
            "[015/3000] Train Acc: 0.918941 Loss: 0.229337 | Val Acc: 0.205366 loss: 4.556084\n",
            "saving model with acc 0.205\n",
            "[016/3000] Train Acc: 0.919899 Loss: 0.227230 | Val Acc: 0.210208 loss: 4.693560\n",
            "saving model with acc 0.210\n",
            "[017/3000] Train Acc: 0.924691 Loss: 0.214290 | Val Acc: 0.189833 loss: 4.800327\n",
            "[018/3000] Train Acc: 0.927465 Loss: 0.203796 | Val Acc: 0.196692 loss: 4.690626\n",
            "[019/3000] Train Acc: 0.930240 Loss: 0.194552 | Val Acc: 0.215655 loss: 4.597383\n",
            "saving model with acc 0.216\n",
            "[020/3000] Train Acc: 0.933720 Loss: 0.187522 | Val Acc: 0.224934 loss: 4.687622\n",
            "saving model with acc 0.225\n",
            "[021/3000] Train Acc: 0.935032 Loss: 0.184124 | Val Acc: 0.220093 loss: 4.795567\n",
            "[022/3000] Train Acc: 0.941538 Loss: 0.168882 | Val Acc: 0.236030 loss: 4.742658\n",
            "saving model with acc 0.236\n",
            "[023/3000] Train Acc: 0.939470 Loss: 0.169485 | Val Acc: 0.223724 loss: 4.852055\n",
            "[024/3000] Train Acc: 0.946230 Loss: 0.156009 | Val Acc: 0.253177 loss: 4.880921\n",
            "saving model with acc 0.253\n",
            "[025/3000] Train Acc: 0.942699 Loss: 0.159355 | Val Acc: 0.257615 loss: 4.749142\n",
            "saving model with acc 0.258\n",
            "[026/3000] Train Acc: 0.948550 Loss: 0.151157 | Val Acc: 0.251362 loss: 4.818051\n",
            "[027/3000] Train Acc: 0.948247 Loss: 0.145346 | Val Acc: 0.247529 loss: 4.994263\n",
            "[028/3000] Train Acc: 0.950265 Loss: 0.139437 | Val Acc: 0.250353 loss: 4.718277\n",
            "[029/3000] Train Acc: 0.949710 Loss: 0.141677 | Val Acc: 0.232600 loss: 5.067819\n",
            "[030/3000] Train Acc: 0.949407 Loss: 0.143956 | Val Acc: 0.258624 loss: 5.103456\n",
            "saving model with acc 0.259\n",
            "[031/3000] Train Acc: 0.952585 Loss: 0.132377 | Val Acc: 0.258624 loss: 5.021478\n",
            "[032/3000] Train Acc: 0.954805 Loss: 0.127387 | Val Acc: 0.262054 loss: 4.943668\n",
            "saving model with acc 0.262\n",
            "[033/3000] Train Acc: 0.954905 Loss: 0.127300 | Val Acc: 0.271737 loss: 5.221260\n",
            "saving model with acc 0.272\n",
            "[034/3000] Train Acc: 0.953039 Loss: 0.131876 | Val Acc: 0.256809 loss: 5.191982\n",
            "[035/3000] Train Acc: 0.953090 Loss: 0.129644 | Val Acc: 0.262255 loss: 4.971891\n",
            "[036/3000] Train Acc: 0.959243 Loss: 0.114924 | Val Acc: 0.291507 loss: 4.960839\n",
            "saving model with acc 0.292\n",
            "[037/3000] Train Acc: 0.958890 Loss: 0.115858 | Val Acc: 0.266088 loss: 5.124155\n",
            "[038/3000] Train Acc: 0.960858 Loss: 0.111305 | Val Acc: 0.278192 loss: 5.173776\n",
            "[039/3000] Train Acc: 0.958941 Loss: 0.117770 | Val Acc: 0.267501 loss: 5.231144\n",
            "[040/3000] Train Acc: 0.961412 Loss: 0.105461 | Val Acc: 0.266290 loss: 5.491499\n",
            "[041/3000] Train Acc: 0.960555 Loss: 0.110862 | Val Acc: 0.276377 loss: 5.335119\n",
            "[042/3000] Train Acc: 0.960757 Loss: 0.110417 | Val Acc: 0.275570 loss: 5.284462\n",
            "[043/3000] Train Acc: 0.962976 Loss: 0.104253 | Val Acc: 0.270527 loss: 5.613220\n",
            "[044/3000] Train Acc: 0.964086 Loss: 0.102216 | Val Acc: 0.285051 loss: 5.096633\n",
            "[045/3000] Train Acc: 0.964943 Loss: 0.100768 | Val Acc: 0.284245 loss: 5.218632\n",
            "[046/3000] Train Acc: 0.962068 Loss: 0.107659 | Val Acc: 0.284648 loss: 5.067664\n",
            "[047/3000] Train Acc: 0.961261 Loss: 0.105346 | Val Acc: 0.251967 loss: 5.796892\n",
            "[048/3000] Train Acc: 0.967818 Loss: 0.091298 | Val Acc: 0.276377 loss: 5.554010\n",
            "[049/3000] Train Acc: 0.965448 Loss: 0.098363 | Val Acc: 0.284446 loss: 5.271154\n",
            "[050/3000] Train Acc: 0.966910 Loss: 0.095863 | Val Acc: 0.282631 loss: 5.461309\n",
            "[051/3000] Train Acc: 0.963127 Loss: 0.102553 | Val Acc: 0.291910 loss: 5.380877\n",
            "saving model with acc 0.292\n",
            "[052/3000] Train Acc: 0.966154 Loss: 0.092704 | Val Acc: 0.285051 loss: 5.480573\n",
            "[053/3000] Train Acc: 0.967768 Loss: 0.094020 | Val Acc: 0.291709 loss: 5.345786\n",
            "[054/3000] Train Acc: 0.968979 Loss: 0.090237 | Val Acc: 0.291103 loss: 5.383860\n",
            "[055/3000] Train Acc: 0.967919 Loss: 0.090809 | Val Acc: 0.294331 loss: 5.236334\n",
            "saving model with acc 0.294\n",
            "[056/3000] Train Acc: 0.969584 Loss: 0.087309 | Val Acc: 0.293121 loss: 5.515823\n",
            "[057/3000] Train Acc: 0.970290 Loss: 0.081597 | Val Acc: 0.305023 loss: 5.068531\n",
            "saving model with acc 0.305\n",
            "[058/3000] Train Acc: 0.972560 Loss: 0.083310 | Val Acc: 0.295945 loss: 5.431935\n",
            "[059/3000] Train Acc: 0.968827 Loss: 0.087878 | Val Acc: 0.309461 loss: 5.123515\n",
            "saving model with acc 0.309\n",
            "[060/3000] Train Acc: 0.972459 Loss: 0.081384 | Val Acc: 0.311075 loss: 5.638489\n",
            "saving model with acc 0.311\n",
            "[061/3000] Train Acc: 0.970240 Loss: 0.084074 | Val Acc: 0.311882 loss: 5.187958\n",
            "saving model with acc 0.312\n",
            "[062/3000] Train Acc: 0.971248 Loss: 0.080753 | Val Acc: 0.327416 loss: 5.352430\n",
            "saving model with acc 0.327\n",
            "[063/3000] Train Acc: 0.972358 Loss: 0.081218 | Val Acc: 0.297357 loss: 5.603050\n",
            "[064/3000] Train Acc: 0.969685 Loss: 0.083384 | Val Acc: 0.295945 loss: 5.320897\n",
            "[065/3000] Train Acc: 0.968979 Loss: 0.087176 | Val Acc: 0.315312 loss: 5.388973\n",
            "[066/3000] Train Acc: 0.970946 Loss: 0.082950 | Val Acc: 0.304821 loss: 5.553168\n",
            "[067/3000] Train Acc: 0.970643 Loss: 0.082018 | Val Acc: 0.302804 loss: 5.686161\n",
            "[068/3000] Train Acc: 0.972560 Loss: 0.080130 | Val Acc: 0.302199 loss: 5.497614\n",
            "[069/3000] Train Acc: 0.976091 Loss: 0.068223 | Val Acc: 0.301795 loss: 5.514090\n",
            "[070/3000] Train Acc: 0.973266 Loss: 0.076857 | Val Acc: 0.293726 loss: 6.058506\n",
            "[071/3000] Train Acc: 0.974174 Loss: 0.072966 | Val Acc: 0.307242 loss: 5.678587\n",
            "[072/3000] Train Acc: 0.973770 Loss: 0.075192 | Val Acc: 0.283034 loss: 5.919405\n",
            "[073/3000] Train Acc: 0.973014 Loss: 0.078560 | Val Acc: 0.294936 loss: 5.864898\n",
            "[074/3000] Train Acc: 0.974729 Loss: 0.072783 | Val Acc: 0.318136 loss: 5.360510\n",
            "[075/3000] Train Acc: 0.975132 Loss: 0.072781 | Val Acc: 0.303006 loss: 5.831397\n",
            "[076/3000] Train Acc: 0.976192 Loss: 0.068778 | Val Acc: 0.324390 loss: 5.333055\n",
            "[077/3000] Train Acc: 0.975990 Loss: 0.067573 | Val Acc: 0.311882 loss: 5.495740\n",
            "[078/3000] Train Acc: 0.973266 Loss: 0.073480 | Val Acc: 0.297156 loss: 5.720481\n",
            "[079/3000] Train Acc: 0.975788 Loss: 0.068275 | Val Acc: 0.298164 loss: 5.734622\n",
            "[080/3000] Train Acc: 0.974931 Loss: 0.071253 | Val Acc: 0.325802 loss: 5.387762\n",
            "[081/3000] Train Acc: 0.975939 Loss: 0.069818 | Val Acc: 0.313093 loss: 5.690622\n",
            "[082/3000] Train Acc: 0.977352 Loss: 0.068872 | Val Acc: 0.288077 loss: 5.675557\n",
            "[083/3000] Train Acc: 0.975183 Loss: 0.066800 | Val Acc: 0.312487 loss: 5.634983\n",
            "[084/3000] Train Acc: 0.976595 Loss: 0.064441 | Val Acc: 0.306435 loss: 5.888442\n",
            "[085/3000] Train Acc: 0.978209 Loss: 0.061099 | Val Acc: 0.296147 loss: 6.040300\n",
            "[086/3000] Train Acc: 0.975132 Loss: 0.070184 | Val Acc: 0.317732 loss: 5.728247\n",
            "[087/3000] Train Acc: 0.976545 Loss: 0.067720 | Val Acc: 0.317732 loss: 5.970373\n",
            "[088/3000] Train Acc: 0.977251 Loss: 0.067114 | Val Acc: 0.301594 loss: 5.805690\n",
            "[089/3000] Train Acc: 0.978966 Loss: 0.059165 | Val Acc: 0.319346 loss: 5.588055\n",
            "[090/3000] Train Acc: 0.977402 Loss: 0.066345 | Val Acc: 0.307847 loss: 6.199932\n",
            "[091/3000] Train Acc: 0.979521 Loss: 0.058196 | Val Acc: 0.287271 loss: 6.458982\n",
            "[092/3000] Train Acc: 0.978663 Loss: 0.061465 | Val Acc: 0.294130 loss: 6.205024\n",
            "[093/3000] Train Acc: 0.978260 Loss: 0.064014 | Val Acc: 0.300787 loss: 5.803386\n",
            "[094/3000] Train Acc: 0.979874 Loss: 0.060410 | Val Acc: 0.312084 loss: 5.902556\n",
            "[095/3000] Train Acc: 0.977957 Loss: 0.060222 | Val Acc: 0.297962 loss: 6.025972\n",
            "[096/3000] Train Acc: 0.979924 Loss: 0.056549 | Val Acc: 0.314101 loss: 5.941148\n",
            "[097/3000] Train Acc: 0.978714 Loss: 0.058665 | Val Acc: 0.290700 loss: 6.270983\n",
            "[098/3000] Train Acc: 0.980681 Loss: 0.052568 | Val Acc: 0.300585 loss: 6.267415\n",
            "[099/3000] Train Acc: 0.980126 Loss: 0.058118 | Val Acc: 0.276377 loss: 6.561338\n",
            "[100/3000] Train Acc: 0.981337 Loss: 0.054400 | Val Acc: 0.297559 loss: 6.254816\n",
            "[101/3000] Train Acc: 0.979319 Loss: 0.056175 | Val Acc: 0.305225 loss: 6.021138\n",
            "[102/3000] Train Acc: 0.981185 Loss: 0.056190 | Val Acc: 0.310672 loss: 6.432094\n",
            "[103/3000] Train Acc: 0.982144 Loss: 0.055847 | Val Acc: 0.309058 loss: 6.135881\n",
            "[104/3000] Train Acc: 0.979723 Loss: 0.057401 | Val Acc: 0.320355 loss: 5.942462\n",
            "[105/3000] Train Acc: 0.981589 Loss: 0.054834 | Val Acc: 0.317329 loss: 5.971397\n",
            "[106/3000] Train Acc: 0.980782 Loss: 0.053278 | Val Acc: 0.316320 loss: 6.291244\n",
            "[107/3000] Train Acc: 0.980429 Loss: 0.055151 | Val Acc: 0.323986 loss: 5.968307\n",
            "[108/3000] Train Acc: 0.978361 Loss: 0.059530 | Val Acc: 0.346984 loss: 5.799683\n",
            "saving model with acc 0.347\n",
            "[109/3000] Train Acc: 0.980832 Loss: 0.058595 | Val Acc: 0.325600 loss: 6.015923\n",
            "[110/3000] Train Acc: 0.980832 Loss: 0.054692 | Val Acc: 0.311882 loss: 6.278362\n",
            "[111/3000] Train Acc: 0.981337 Loss: 0.052601 | Val Acc: 0.321364 loss: 6.036189\n",
            "[112/3000] Train Acc: 0.983203 Loss: 0.050252 | Val Acc: 0.334678 loss: 5.773532\n",
            "[113/3000] Train Acc: 0.981337 Loss: 0.055671 | Val Acc: 0.308856 loss: 6.289476\n",
            "[114/3000] Train Acc: 0.980227 Loss: 0.060680 | Val Acc: 0.302602 loss: 6.241801\n",
            "[115/3000] Train Acc: 0.981337 Loss: 0.051917 | Val Acc: 0.289893 loss: 6.291469\n",
            "[116/3000] Train Acc: 0.979067 Loss: 0.059429 | Val Acc: 0.324188 loss: 5.803401\n",
            "[117/3000] Train Acc: 0.981135 Loss: 0.056358 | Val Acc: 0.316320 loss: 5.931235\n",
            "[118/3000] Train Acc: 0.982497 Loss: 0.051605 | Val Acc: 0.350615 loss: 5.685149\n",
            "saving model with acc 0.351\n",
            "[119/3000] Train Acc: 0.983657 Loss: 0.049598 | Val Acc: 0.324188 loss: 5.744624\n",
            "[120/3000] Train Acc: 0.981740 Loss: 0.051215 | Val Acc: 0.312689 loss: 5.805753\n",
            "[121/3000] Train Acc: 0.983052 Loss: 0.049161 | Val Acc: 0.333670 loss: 5.843500\n",
            "[122/3000] Train Acc: 0.982144 Loss: 0.050778 | Val Acc: 0.315715 loss: 6.559227\n",
            "[123/3000] Train Acc: 0.982699 Loss: 0.050429 | Val Acc: 0.327012 loss: 6.081148\n",
            "[124/3000] Train Acc: 0.982951 Loss: 0.051257 | Val Acc: 0.300383 loss: 6.302917\n",
            "[125/3000] Train Acc: 0.981992 Loss: 0.054690 | Val Acc: 0.329030 loss: 6.081192\n",
            "[126/3000] Train Acc: 0.983304 Loss: 0.049776 | Val Acc: 0.324188 loss: 6.034578\n",
            "[127/3000] Train Acc: 0.984061 Loss: 0.047982 | Val Acc: 0.316320 loss: 6.164410\n",
            "[128/3000] Train Acc: 0.983758 Loss: 0.049066 | Val Acc: 0.317329 loss: 5.988862\n",
            "[129/3000] Train Acc: 0.982850 Loss: 0.048288 | Val Acc: 0.313294 loss: 6.175895\n",
            "[130/3000] Train Acc: 0.984414 Loss: 0.041826 | Val Acc: 0.329231 loss: 5.901228\n",
            "[131/3000] Train Acc: 0.981892 Loss: 0.052716 | Val Acc: 0.306032 loss: 6.191981\n",
            "[132/3000] Train Acc: 0.983506 Loss: 0.047818 | Val Acc: 0.327819 loss: 5.894907\n",
            "[133/3000] Train Acc: 0.982598 Loss: 0.048108 | Val Acc: 0.333871 loss: 6.098517\n",
            "[134/3000] Train Acc: 0.982699 Loss: 0.048564 | Val Acc: 0.325197 loss: 5.959449\n",
            "[135/3000] Train Acc: 0.983203 Loss: 0.047622 | Val Acc: 0.319145 loss: 6.147309\n",
            "[136/3000] Train Acc: 0.983707 Loss: 0.047556 | Val Acc: 0.321364 loss: 6.009224\n",
            "[137/3000] Train Acc: 0.983657 Loss: 0.049683 | Val Acc: 0.313496 loss: 6.251828\n",
            "[138/3000] Train Acc: 0.983153 Loss: 0.049801 | Val Acc: 0.324390 loss: 6.031197\n",
            "[139/3000] Train Acc: 0.983808 Loss: 0.046472 | Val Acc: 0.303006 loss: 6.099032\n",
            "[140/3000] Train Acc: 0.985069 Loss: 0.042271 | Val Acc: 0.316522 loss: 5.952544\n",
            "[141/3000] Train Acc: 0.984767 Loss: 0.042646 | Val Acc: 0.305830 loss: 6.429661\n",
            "[142/3000] Train Acc: 0.983657 Loss: 0.046120 | Val Acc: 0.311882 loss: 6.184368\n",
            "[143/3000] Train Acc: 0.984767 Loss: 0.041921 | Val Acc: 0.308049 loss: 6.222252\n",
            "[144/3000] Train Acc: 0.984262 Loss: 0.046972 | Val Acc: 0.306637 loss: 6.582789\n",
            "[145/3000] Train Acc: 0.983909 Loss: 0.047039 | Val Acc: 0.306234 loss: 6.592249\n",
            "[146/3000] Train Acc: 0.984918 Loss: 0.042944 | Val Acc: 0.323583 loss: 5.918568\n",
            "[147/3000] Train Acc: 0.986330 Loss: 0.042584 | Val Acc: 0.315513 loss: 6.426182\n",
            "[148/3000] Train Acc: 0.986784 Loss: 0.038210 | Val Acc: 0.307242 loss: 6.345460\n",
            "[149/3000] Train Acc: 0.984716 Loss: 0.045661 | Val Acc: 0.328828 loss: 6.140233\n",
            "[150/3000] Train Acc: 0.986532 Loss: 0.039660 | Val Acc: 0.321969 loss: 6.296653\n",
            "[151/3000] Train Acc: 0.985271 Loss: 0.045156 | Val Acc: 0.308453 loss: 6.322309\n",
            "[152/3000] Train Acc: 0.983758 Loss: 0.045609 | Val Acc: 0.332056 loss: 6.317523\n",
            "[153/3000] Train Acc: 0.984161 Loss: 0.045512 | Val Acc: 0.338309 loss: 5.877264\n",
            "[154/3000] Train Acc: 0.986431 Loss: 0.041996 | Val Acc: 0.317732 loss: 6.181998\n",
            "[155/3000] Train Acc: 0.985221 Loss: 0.043301 | Val Acc: 0.324390 loss: 6.218509\n",
            "[156/3000] Train Acc: 0.984161 Loss: 0.046448 | Val Acc: 0.320355 loss: 6.035092\n",
            "[157/3000] Train Acc: 0.984817 Loss: 0.043387 | Val Acc: 0.315917 loss: 6.070377\n",
            "[158/3000] Train Acc: 0.983960 Loss: 0.046673 | Val Acc: 0.296349 loss: 6.530639\n",
            "[159/3000] Train Acc: 0.986078 Loss: 0.040042 | Val Acc: 0.309260 loss: 6.419719\n",
            "[160/3000] Train Acc: 0.984061 Loss: 0.043929 | Val Acc: 0.318741 loss: 6.588756\n",
            "[161/3000] Train Acc: 0.985372 Loss: 0.043123 | Val Acc: 0.317732 loss: 6.248575\n",
            "[162/3000] Train Acc: 0.984161 Loss: 0.048193 | Val Acc: 0.308251 loss: 6.218543\n",
            "[163/3000] Train Acc: 0.985776 Loss: 0.041262 | Val Acc: 0.322171 loss: 6.078892\n",
            "[164/3000] Train Acc: 0.984868 Loss: 0.043300 | Val Acc: 0.322171 loss: 6.038940\n",
            "[165/3000] Train Acc: 0.987188 Loss: 0.037309 | Val Acc: 0.316724 loss: 6.534240\n",
            "[166/3000] Train Acc: 0.987087 Loss: 0.039023 | Val Acc: 0.325802 loss: 6.193109\n",
            "[167/3000] Train Acc: 0.986280 Loss: 0.039499 | Val Acc: 0.301392 loss: 6.918217\n",
            "[168/3000] Train Acc: 0.985876 Loss: 0.041995 | Val Acc: 0.318741 loss: 6.215852\n",
            "[169/3000] Train Acc: 0.985675 Loss: 0.042140 | Val Acc: 0.328424 loss: 6.011124\n",
            "[170/3000] Train Acc: 0.985422 Loss: 0.042734 | Val Acc: 0.325398 loss: 6.207352\n",
            "[171/3000] Train Acc: 0.986482 Loss: 0.040263 | Val Acc: 0.302401 loss: 6.899545\n",
            "[172/3000] Train Acc: 0.987238 Loss: 0.036107 | Val Acc: 0.309058 loss: 6.502400\n",
            "[173/3000] Train Acc: 0.985523 Loss: 0.040047 | Val Acc: 0.312689 loss: 6.456533\n",
            "[174/3000] Train Acc: 0.986784 Loss: 0.039405 | Val Acc: 0.312286 loss: 6.592548\n",
            "[175/3000] Train Acc: 0.985322 Loss: 0.042516 | Val Acc: 0.328424 loss: 6.392753\n",
            "[176/3000] Train Acc: 0.985675 Loss: 0.039938 | Val Acc: 0.320960 loss: 6.719700\n",
            "[177/3000] Train Acc: 0.986784 Loss: 0.038305 | Val Acc: 0.306032 loss: 6.640737\n",
            "[178/3000] Train Acc: 0.986028 Loss: 0.037551 | Val Acc: 0.314706 loss: 6.630149\n",
            "[179/3000] Train Acc: 0.986028 Loss: 0.039249 | Val Acc: 0.298971 loss: 6.970797\n",
            "[180/3000] Train Acc: 0.985826 Loss: 0.041167 | Val Acc: 0.321565 loss: 6.831360\n",
            "[181/3000] Train Acc: 0.986734 Loss: 0.036524 | Val Acc: 0.329231 loss: 6.410276\n",
            "[182/3000] Train Acc: 0.987188 Loss: 0.036974 | Val Acc: 0.311882 loss: 6.682544\n",
            "[183/3000] Train Acc: 0.988096 Loss: 0.035565 | Val Acc: 0.301795 loss: 6.694555\n",
            "[184/3000] Train Acc: 0.985977 Loss: 0.040625 | Val Acc: 0.284850 loss: 7.350882\n",
            "[185/3000] Train Acc: 0.983607 Loss: 0.045855 | Val Acc: 0.292717 loss: 6.659569\n",
            "[186/3000] Train Acc: 0.986230 Loss: 0.038803 | Val Acc: 0.292717 loss: 6.897739\n",
            "[187/3000] Train Acc: 0.987238 Loss: 0.038710 | Val Acc: 0.300989 loss: 6.983771\n",
            "[188/3000] Train Acc: 0.987844 Loss: 0.037714 | Val Acc: 0.316724 loss: 6.528568\n",
            "[189/3000] Train Acc: 0.987541 Loss: 0.036239 | Val Acc: 0.314706 loss: 6.387555\n",
            "[190/3000] Train Acc: 0.987238 Loss: 0.039854 | Val Acc: 0.300787 loss: 6.633217\n",
            "[191/3000] Train Acc: 0.985422 Loss: 0.039050 | Val Acc: 0.316926 loss: 6.756715\n",
            "[192/3000] Train Acc: 0.987037 Loss: 0.039530 | Val Acc: 0.315715 loss: 6.529604\n",
            "[193/3000] Train Acc: 0.987642 Loss: 0.036216 | Val Acc: 0.306435 loss: 6.612020\n",
            "[194/3000] Train Acc: 0.986734 Loss: 0.040481 | Val Acc: 0.314908 loss: 6.322534\n",
            "[195/3000] Train Acc: 0.987289 Loss: 0.035939 | Val Acc: 0.326407 loss: 6.359342\n",
            "[196/3000] Train Acc: 0.987440 Loss: 0.035609 | Val Acc: 0.334678 loss: 6.044218\n",
            "[197/3000] Train Acc: 0.987591 Loss: 0.035964 | Val Acc: 0.304418 loss: 6.680266\n",
            "[198/3000] Train Acc: 0.987491 Loss: 0.038502 | Val Acc: 0.317329 loss: 6.420082\n",
            "[199/3000] Train Acc: 0.987087 Loss: 0.038687 | Val Acc: 0.313294 loss: 6.631677\n",
            "[200/3000] Train Acc: 0.986431 Loss: 0.038987 | Val Acc: 0.300989 loss: 6.403838\n",
            "[201/3000] Train Acc: 0.989105 Loss: 0.030971 | Val Acc: 0.302602 loss: 6.582237\n",
            "[202/3000] Train Acc: 0.989912 Loss: 0.028715 | Val Acc: 0.317329 loss: 6.071442\n",
            "[203/3000] Train Acc: 0.991778 Loss: 0.023332 | Val Acc: 0.312689 loss: 6.394917\n",
            "[204/3000] Train Acc: 0.992484 Loss: 0.021715 | Val Acc: 0.314505 loss: 6.429716\n",
            "[205/3000] Train Acc: 0.993544 Loss: 0.020916 | Val Acc: 0.325197 loss: 6.281453\n",
            "[206/3000] Train Acc: 0.992736 Loss: 0.021298 | Val Acc: 0.317531 loss: 6.522531\n",
            "[207/3000] Train Acc: 0.992787 Loss: 0.019329 | Val Acc: 0.327618 loss: 6.163701\n",
            "[208/3000] Train Acc: 0.993291 Loss: 0.021012 | Val Acc: 0.331854 loss: 6.295980\n",
            "[209/3000] Train Acc: 0.993796 Loss: 0.018663 | Val Acc: 0.330442 loss: 6.330372\n",
            "[210/3000] Train Acc: 0.993493 Loss: 0.018860 | Val Acc: 0.333670 loss: 6.107954\n",
            "[211/3000] Train Acc: 0.995259 Loss: 0.014756 | Val Acc: 0.317732 loss: 6.475745\n",
            "[212/3000] Train Acc: 0.994502 Loss: 0.017699 | Val Acc: 0.327214 loss: 6.280699\n",
            "[213/3000] Train Acc: 0.994603 Loss: 0.018126 | Val Acc: 0.323785 loss: 6.278096\n",
            "[214/3000] Train Acc: 0.994603 Loss: 0.015026 | Val Acc: 0.324793 loss: 6.234647\n",
            "[215/3000] Train Acc: 0.994754 Loss: 0.015126 | Val Acc: 0.322978 loss: 6.417966\n",
            "[216/3000] Train Acc: 0.995006 Loss: 0.016203 | Val Acc: 0.327012 loss: 6.218295\n",
            "[217/3000] Train Acc: 0.994805 Loss: 0.014584 | Val Acc: 0.321767 loss: 6.568972\n",
            "[218/3000] Train Acc: 0.994905 Loss: 0.014932 | Val Acc: 0.321565 loss: 6.343047\n",
            "[219/3000] Train Acc: 0.995460 Loss: 0.014628 | Val Acc: 0.333871 loss: 6.177718\n",
            "[220/3000] Train Acc: 0.995006 Loss: 0.014579 | Val Acc: 0.336090 loss: 6.150115\n",
            "[221/3000] Train Acc: 0.995259 Loss: 0.014029 | Val Acc: 0.331249 loss: 6.344270\n",
            "[222/3000] Train Acc: 0.995359 Loss: 0.014028 | Val Acc: 0.330644 loss: 6.280001\n",
            "[223/3000] Train Acc: 0.995712 Loss: 0.012732 | Val Acc: 0.334476 loss: 6.284433\n",
            "[224/3000] Train Acc: 0.995763 Loss: 0.012764 | Val Acc: 0.332863 loss: 6.335427\n",
            "[225/3000] Train Acc: 0.995612 Loss: 0.012983 | Val Acc: 0.334476 loss: 6.288190\n",
            "[226/3000] Train Acc: 0.995612 Loss: 0.014757 | Val Acc: 0.328626 loss: 6.420150\n",
            "[227/3000] Train Acc: 0.995712 Loss: 0.012227 | Val Acc: 0.331450 loss: 6.432822\n",
            "[228/3000] Train Acc: 0.995511 Loss: 0.014023 | Val Acc: 0.334073 loss: 6.469215\n",
            "[229/3000] Train Acc: 0.994451 Loss: 0.017025 | Val Acc: 0.326609 loss: 6.487577\n",
            "[230/3000] Train Acc: 0.995712 Loss: 0.013875 | Val Acc: 0.332661 loss: 6.308158\n",
            "[231/3000] Train Acc: 0.995914 Loss: 0.012588 | Val Acc: 0.323986 loss: 6.456954\n",
            "[232/3000] Train Acc: 0.996570 Loss: 0.010254 | Val Acc: 0.338511 loss: 6.209346\n",
            "[233/3000] Train Acc: 0.995057 Loss: 0.013192 | Val Acc: 0.326004 loss: 6.506950\n",
            "[234/3000] Train Acc: 0.995410 Loss: 0.013597 | Val Acc: 0.324188 loss: 6.636912\n",
            "[235/3000] Train Acc: 0.996469 Loss: 0.010905 | Val Acc: 0.327214 loss: 6.424047\n",
            "[236/3000] Train Acc: 0.997024 Loss: 0.010785 | Val Acc: 0.336292 loss: 6.406020\n",
            "[237/3000] Train Acc: 0.995561 Loss: 0.013262 | Val Acc: 0.332661 loss: 6.306372\n",
            "[238/3000] Train Acc: 0.995208 Loss: 0.012551 | Val Acc: 0.323785 loss: 6.484196\n",
            "[239/3000] Train Acc: 0.996671 Loss: 0.010770 | Val Acc: 0.333064 loss: 6.286172\n",
            "[240/3000] Train Acc: 0.996368 Loss: 0.011703 | Val Acc: 0.337503 loss: 6.147429\n",
            "[241/3000] Train Acc: 0.996217 Loss: 0.011971 | Val Acc: 0.333468 loss: 6.332447\n",
            "[242/3000] Train Acc: 0.996671 Loss: 0.009519 | Val Acc: 0.319952 loss: 6.609374\n",
            "[243/3000] Train Acc: 0.996368 Loss: 0.011543 | Val Acc: 0.334880 loss: 6.370299\n",
            "[244/3000] Train Acc: 0.996116 Loss: 0.011385 | Val Acc: 0.328424 loss: 6.487936\n",
            "[245/3000] Train Acc: 0.996419 Loss: 0.011210 | Val Acc: 0.334275 loss: 6.342543\n",
            "[246/3000] Train Acc: 0.996570 Loss: 0.010797 | Val Acc: 0.336494 loss: 6.383642\n",
            "[247/3000] Train Acc: 0.996116 Loss: 0.010822 | Val Acc: 0.328828 loss: 6.326466\n",
            "[248/3000] Train Acc: 0.996772 Loss: 0.010288 | Val Acc: 0.330038 loss: 6.351590\n",
            "[249/3000] Train Acc: 0.996116 Loss: 0.011541 | Val Acc: 0.336494 loss: 6.256882\n",
            "[250/3000] Train Acc: 0.996923 Loss: 0.009926 | Val Acc: 0.332056 loss: 6.498984\n",
            "[251/3000] Train Acc: 0.995712 Loss: 0.013064 | Val Acc: 0.332257 loss: 6.465996\n",
            "[252/3000] Train Acc: 0.996116 Loss: 0.010599 | Val Acc: 0.330644 loss: 6.404497\n",
            "[253/3000] Train Acc: 0.995914 Loss: 0.011800 | Val Acc: 0.336494 loss: 6.177957\n",
            "[254/3000] Train Acc: 0.996520 Loss: 0.010099 | Val Acc: 0.330442 loss: 6.376974\n",
            "[255/3000] Train Acc: 0.997327 Loss: 0.008938 | Val Acc: 0.331652 loss: 6.398384\n",
            "[256/3000] Train Acc: 0.995914 Loss: 0.010471 | Val Acc: 0.332056 loss: 6.558778\n",
            "[257/3000] Train Acc: 0.996822 Loss: 0.009850 | Val Acc: 0.330845 loss: 6.482417\n",
            "[258/3000] Train Acc: 0.996520 Loss: 0.009489 | Val Acc: 0.345774 loss: 6.202755\n",
            "[259/3000] Train Acc: 0.996721 Loss: 0.009827 | Val Acc: 0.333468 loss: 6.441473\n",
            "[260/3000] Train Acc: 0.997125 Loss: 0.008343 | Val Acc: 0.334678 loss: 6.387597\n",
            "[261/3000] Train Acc: 0.996066 Loss: 0.011787 | Val Acc: 0.342142 loss: 6.169091\n",
            "[262/3000] Train Acc: 0.997074 Loss: 0.009264 | Val Acc: 0.340529 loss: 6.329830\n",
            "[263/3000] Train Acc: 0.996469 Loss: 0.010660 | Val Acc: 0.330038 loss: 6.547225\n",
            "[264/3000] Train Acc: 0.996721 Loss: 0.010443 | Val Acc: 0.330845 loss: 6.638632\n",
            "[265/3000] Train Acc: 0.996520 Loss: 0.010835 | Val Acc: 0.338309 loss: 6.407702\n",
            "[266/3000] Train Acc: 0.997226 Loss: 0.008871 | Val Acc: 0.336090 loss: 6.293196\n",
            "[267/3000] Train Acc: 0.997226 Loss: 0.008829 | Val Acc: 0.339318 loss: 6.501391\n",
            "[268/3000] Train Acc: 0.997024 Loss: 0.009279 | Val Acc: 0.332056 loss: 6.417679\n",
            "[269/3000] Train Acc: 0.997074 Loss: 0.008819 | Val Acc: 0.341941 loss: 6.312898\n",
            "[270/3000] Train Acc: 0.997175 Loss: 0.008753 | Val Acc: 0.336090 loss: 6.519824\n",
            "[271/3000] Train Acc: 0.997478 Loss: 0.007917 | Val Acc: 0.325600 loss: 6.628387\n",
            "[272/3000] Train Acc: 0.997024 Loss: 0.009534 | Val Acc: 0.337906 loss: 6.322719\n",
            "[273/3000] Train Acc: 0.996116 Loss: 0.010468 | Val Acc: 0.333871 loss: 6.425621\n",
            "[274/3000] Train Acc: 0.996368 Loss: 0.011100 | Val Acc: 0.339318 loss: 6.320255\n",
            "[275/3000] Train Acc: 0.996772 Loss: 0.009010 | Val Acc: 0.339722 loss: 6.298670\n",
            "[276/3000] Train Acc: 0.997074 Loss: 0.009893 | Val Acc: 0.334275 loss: 6.439795\n",
            "[277/3000] Train Acc: 0.996772 Loss: 0.009228 | Val Acc: 0.344160 loss: 6.200907\n",
            "[278/3000] Train Acc: 0.996772 Loss: 0.009351 | Val Acc: 0.336292 loss: 6.554074\n",
            "[279/3000] Train Acc: 0.997327 Loss: 0.009001 | Val Acc: 0.340730 loss: 6.178819\n",
            "[280/3000] Train Acc: 0.997175 Loss: 0.008554 | Val Acc: 0.337301 loss: 6.571436\n",
            "[281/3000] Train Acc: 0.997327 Loss: 0.008426 | Val Acc: 0.337099 loss: 6.386795\n",
            "[282/3000] Train Acc: 0.997074 Loss: 0.008953 | Val Acc: 0.335687 loss: 6.430311\n",
            "[283/3000] Train Acc: 0.996974 Loss: 0.008982 | Val Acc: 0.344160 loss: 6.367318\n",
            "[284/3000] Train Acc: 0.997276 Loss: 0.008198 | Val Acc: 0.331047 loss: 6.496498\n",
            "[285/3000] Train Acc: 0.997579 Loss: 0.007578 | Val Acc: 0.342546 loss: 6.501311\n",
            "[286/3000] Train Acc: 0.996822 Loss: 0.009535 | Val Acc: 0.331047 loss: 6.596285\n",
            "[287/3000] Train Acc: 0.996772 Loss: 0.008826 | Val Acc: 0.331450 loss: 6.658659\n",
            "[288/3000] Train Acc: 0.997276 Loss: 0.008094 | Val Acc: 0.338511 loss: 6.475973\n",
            "[289/3000] Train Acc: 0.996923 Loss: 0.009019 | Val Acc: 0.341134 loss: 6.459180\n",
            "[290/3000] Train Acc: 0.996620 Loss: 0.009809 | Val Acc: 0.340125 loss: 6.336300\n",
            "[291/3000] Train Acc: 0.997579 Loss: 0.007403 | Val Acc: 0.348194 loss: 6.234125\n",
            "[292/3000] Train Acc: 0.997579 Loss: 0.008315 | Val Acc: 0.338713 loss: 6.427577\n",
            "[293/3000] Train Acc: 0.996368 Loss: 0.011121 | Val Acc: 0.342142 loss: 6.439629\n",
            "[294/3000] Train Acc: 0.997175 Loss: 0.008504 | Val Acc: 0.342546 loss: 6.551193\n",
            "[295/3000] Train Acc: 0.997427 Loss: 0.007873 | Val Acc: 0.338915 loss: 6.569642\n",
            "[296/3000] Train Acc: 0.997478 Loss: 0.007796 | Val Acc: 0.343353 loss: 6.486182\n",
            "[297/3000] Train Acc: 0.996923 Loss: 0.009201 | Val Acc: 0.342546 loss: 6.536993\n",
            "[298/3000] Train Acc: 0.997528 Loss: 0.007193 | Val Acc: 0.337704 loss: 6.835763\n",
            "[299/3000] Train Acc: 0.997478 Loss: 0.007631 | Val Acc: 0.339520 loss: 6.460721\n",
            "[300/3000] Train Acc: 0.997276 Loss: 0.008246 | Val Acc: 0.343151 loss: 6.462926\n",
            "[301/3000] Train Acc: 0.997579 Loss: 0.007993 | Val Acc: 0.334275 loss: 6.825844\n",
            "[302/3000] Train Acc: 0.996873 Loss: 0.009740 | Val Acc: 0.338108 loss: 6.847420\n",
            "[303/3000] Train Acc: 0.997226 Loss: 0.008680 | Val Acc: 0.342142 loss: 6.727370\n",
            "[304/3000] Train Acc: 0.996570 Loss: 0.009369 | Val Acc: 0.339116 loss: 6.685976\n",
            "[305/3000] Train Acc: 0.996721 Loss: 0.009050 | Val Acc: 0.341134 loss: 6.457752\n",
            "[306/3000] Train Acc: 0.997781 Loss: 0.007334 | Val Acc: 0.338309 loss: 6.447598\n",
            "[307/3000] Train Acc: 0.996974 Loss: 0.009350 | Val Acc: 0.349405 loss: 6.326313\n",
            "[308/3000] Train Acc: 0.997377 Loss: 0.008596 | Val Acc: 0.339116 loss: 6.498893\n",
            "[309/3000] Train Acc: 0.997377 Loss: 0.008027 | Val Acc: 0.346984 loss: 6.387826\n",
            "[310/3000] Train Acc: 0.997226 Loss: 0.007238 | Val Acc: 0.333871 loss: 6.714218\n",
            "[311/3000] Train Acc: 0.996974 Loss: 0.009630 | Val Acc: 0.334880 loss: 6.590509\n",
            "[312/3000] Train Acc: 0.997327 Loss: 0.008176 | Val Acc: 0.345168 loss: 6.554183\n",
            "[313/3000] Train Acc: 0.996620 Loss: 0.009196 | Val Acc: 0.335082 loss: 6.570798\n",
            "[314/3000] Train Acc: 0.997377 Loss: 0.008237 | Val Acc: 0.340932 loss: 6.766265\n",
            "[315/3000] Train Acc: 0.997427 Loss: 0.008565 | Val Acc: 0.334678 loss: 6.913284\n",
            "[316/3000] Train Acc: 0.997982 Loss: 0.006925 | Val Acc: 0.337301 loss: 6.627436\n",
            "[317/3000] Train Acc: 0.996822 Loss: 0.008334 | Val Acc: 0.342949 loss: 6.654387\n",
            "[318/3000] Train Acc: 0.997478 Loss: 0.008149 | Val Acc: 0.332056 loss: 6.858623\n",
            "[319/3000] Train Acc: 0.996721 Loss: 0.009176 | Val Acc: 0.349607 loss: 6.515446\n",
            "[320/3000] Train Acc: 0.997024 Loss: 0.008327 | Val Acc: 0.356667 loss: 6.334142\n",
            "saving model with acc 0.357\n",
            "[321/3000] Train Acc: 0.997629 Loss: 0.006706 | Val Acc: 0.342949 loss: 6.660189\n",
            "[322/3000] Train Acc: 0.996721 Loss: 0.009289 | Val Acc: 0.335485 loss: 6.618476\n",
            "[323/3000] Train Acc: 0.996772 Loss: 0.009014 | Val Acc: 0.334476 loss: 6.776878\n",
            "[324/3000] Train Acc: 0.997528 Loss: 0.007795 | Val Acc: 0.338108 loss: 6.633575\n",
            "[325/3000] Train Acc: 0.996974 Loss: 0.008820 | Val Acc: 0.352431 loss: 6.420213\n",
            "[326/3000] Train Acc: 0.997831 Loss: 0.007040 | Val Acc: 0.350414 loss: 6.587615\n",
            "[327/3000] Train Acc: 0.997730 Loss: 0.007468 | Val Acc: 0.340730 loss: 6.784638\n",
            "[328/3000] Train Acc: 0.997478 Loss: 0.008235 | Val Acc: 0.335889 loss: 6.689051\n",
            "[329/3000] Train Acc: 0.997528 Loss: 0.007723 | Val Acc: 0.351826 loss: 6.701096\n",
            "[330/3000] Train Acc: 0.998134 Loss: 0.005660 | Val Acc: 0.336292 loss: 6.634428\n",
            "[331/3000] Train Acc: 0.997831 Loss: 0.006633 | Val Acc: 0.330038 loss: 7.105264\n",
            "[332/3000] Train Acc: 0.997680 Loss: 0.006070 | Val Acc: 0.346782 loss: 6.461971\n",
            "[333/3000] Train Acc: 0.997276 Loss: 0.008019 | Val Acc: 0.328626 loss: 7.097633\n",
            "[334/3000] Train Acc: 0.997175 Loss: 0.007428 | Val Acc: 0.334073 loss: 6.816266\n",
            "[335/3000] Train Acc: 0.998235 Loss: 0.006583 | Val Acc: 0.337301 loss: 6.845389\n",
            "[336/3000] Train Acc: 0.996873 Loss: 0.008375 | Val Acc: 0.342546 loss: 6.757098\n",
            "[337/3000] Train Acc: 0.997831 Loss: 0.006338 | Val Acc: 0.337099 loss: 6.778349\n",
            "[338/3000] Train Acc: 0.997327 Loss: 0.007648 | Val Acc: 0.355457 loss: 6.342970\n",
            "[339/3000] Train Acc: 0.997175 Loss: 0.008732 | Val Acc: 0.345774 loss: 6.545021\n",
            "[340/3000] Train Acc: 0.996822 Loss: 0.008731 | Val Acc: 0.338713 loss: 6.890998\n",
            "[341/3000] Train Acc: 0.997831 Loss: 0.007466 | Val Acc: 0.350212 loss: 6.651719\n",
            "[342/3000] Train Acc: 0.997125 Loss: 0.007842 | Val Acc: 0.342142 loss: 6.777281\n",
            "[343/3000] Train Acc: 0.996721 Loss: 0.009116 | Val Acc: 0.350414 loss: 6.762612\n",
            "[344/3000] Train Acc: 0.997932 Loss: 0.006999 | Val Acc: 0.342546 loss: 6.755923\n",
            "[345/3000] Train Acc: 0.997175 Loss: 0.008644 | Val Acc: 0.326407 loss: 7.164029\n",
            "[346/3000] Train Acc: 0.998083 Loss: 0.005450 | Val Acc: 0.338713 loss: 6.658245\n",
            "[347/3000] Train Acc: 0.997528 Loss: 0.006962 | Val Acc: 0.332863 loss: 6.998006\n",
            "[348/3000] Train Acc: 0.997377 Loss: 0.007762 | Val Acc: 0.343151 loss: 6.636356\n",
            "[349/3000] Train Acc: 0.997528 Loss: 0.007561 | Val Acc: 0.347388 loss: 6.662021\n",
            "[350/3000] Train Acc: 0.997881 Loss: 0.007426 | Val Acc: 0.344563 loss: 6.778292\n",
            "[351/3000] Train Acc: 0.997175 Loss: 0.008658 | Val Acc: 0.349001 loss: 6.696798\n",
            "[352/3000] Train Acc: 0.997528 Loss: 0.007031 | Val Acc: 0.349607 loss: 6.591859\n",
            "[353/3000] Train Acc: 0.997528 Loss: 0.007426 | Val Acc: 0.346379 loss: 6.633803\n",
            "[354/3000] Train Acc: 0.997680 Loss: 0.006665 | Val Acc: 0.346379 loss: 6.781764\n",
            "[355/3000] Train Acc: 0.997629 Loss: 0.007946 | Val Acc: 0.365140 loss: 6.395017\n",
            "saving model with acc 0.365\n",
            "[356/3000] Train Acc: 0.997427 Loss: 0.007444 | Val Acc: 0.355053 loss: 6.532932\n",
            "[357/3000] Train Acc: 0.997427 Loss: 0.007935 | Val Acc: 0.344160 loss: 6.713898\n",
            "[358/3000] Train Acc: 0.998184 Loss: 0.005939 | Val Acc: 0.350414 loss: 6.726811\n",
            "[359/3000] Train Acc: 0.997024 Loss: 0.009328 | Val Acc: 0.341941 loss: 6.833832\n",
            "[360/3000] Train Acc: 0.997125 Loss: 0.008264 | Val Acc: 0.333871 loss: 6.983195\n",
            "[361/3000] Train Acc: 0.997427 Loss: 0.007710 | Val Acc: 0.339722 loss: 6.763935\n",
            "[362/3000] Train Acc: 0.997881 Loss: 0.007597 | Val Acc: 0.341739 loss: 6.710911\n",
            "[363/3000] Train Acc: 0.997528 Loss: 0.008769 | Val Acc: 0.344362 loss: 6.610694\n",
            "[364/3000] Train Acc: 0.997982 Loss: 0.006443 | Val Acc: 0.338511 loss: 6.700369\n",
            "[365/3000] Train Acc: 0.997579 Loss: 0.007068 | Val Acc: 0.339116 loss: 6.724423\n",
            "[366/3000] Train Acc: 0.997276 Loss: 0.008182 | Val Acc: 0.339318 loss: 6.847950\n",
            "[367/3000] Train Acc: 0.997528 Loss: 0.006832 | Val Acc: 0.342344 loss: 6.810924\n",
            "[368/3000] Train Acc: 0.998083 Loss: 0.006002 | Val Acc: 0.328021 loss: 7.174158\n",
            "[369/3000] Train Acc: 0.997478 Loss: 0.006780 | Val Acc: 0.335687 loss: 6.932391\n",
            "[370/3000] Train Acc: 0.997629 Loss: 0.007881 | Val Acc: 0.353843 loss: 6.558352\n",
            "[371/3000] Train Acc: 0.998235 Loss: 0.006075 | Val Acc: 0.346177 loss: 6.865524\n",
            "[372/3000] Train Acc: 0.997427 Loss: 0.008012 | Val Acc: 0.350010 loss: 6.707811\n",
            "[373/3000] Train Acc: 0.997427 Loss: 0.007768 | Val Acc: 0.348800 loss: 6.849746\n",
            "[374/3000] Train Acc: 0.997226 Loss: 0.007893 | Val Acc: 0.342748 loss: 6.977760\n",
            "[375/3000] Train Acc: 0.997478 Loss: 0.006953 | Val Acc: 0.347388 loss: 6.707504\n",
            "[376/3000] Train Acc: 0.997478 Loss: 0.007518 | Val Acc: 0.341134 loss: 6.742127\n",
            "[377/3000] Train Acc: 0.997881 Loss: 0.006472 | Val Acc: 0.343756 loss: 6.782786\n",
            "[378/3000] Train Acc: 0.997427 Loss: 0.008347 | Val Acc: 0.343756 loss: 6.825412\n",
            "[379/3000] Train Acc: 0.997932 Loss: 0.006753 | Val Acc: 0.342949 loss: 6.904918\n",
            "[380/3000] Train Acc: 0.997831 Loss: 0.006806 | Val Acc: 0.352834 loss: 6.679901\n",
            "[381/3000] Train Acc: 0.996923 Loss: 0.009488 | Val Acc: 0.343151 loss: 6.871563\n",
            "[382/3000] Train Acc: 0.997680 Loss: 0.006083 | Val Acc: 0.342748 loss: 6.845103\n",
            "[383/3000] Train Acc: 0.997629 Loss: 0.006265 | Val Acc: 0.350010 loss: 6.731582\n",
            "[384/3000] Train Acc: 0.998285 Loss: 0.005201 | Val Acc: 0.352431 loss: 6.684815\n",
            "[385/3000] Train Acc: 0.997579 Loss: 0.007545 | Val Acc: 0.355255 loss: 6.674578\n",
            "[386/3000] Train Acc: 0.997579 Loss: 0.007712 | Val Acc: 0.344765 loss: 6.805017\n",
            "[387/3000] Train Acc: 0.997528 Loss: 0.007754 | Val Acc: 0.342949 loss: 6.970331\n",
            "[388/3000] Train Acc: 0.997932 Loss: 0.007457 | Val Acc: 0.343555 loss: 6.848459\n",
            "[389/3000] Train Acc: 0.997528 Loss: 0.007978 | Val Acc: 0.348396 loss: 6.723754\n",
            "[390/3000] Train Acc: 0.997831 Loss: 0.006620 | Val Acc: 0.348396 loss: 6.780023\n",
            "[391/3000] Train Acc: 0.997680 Loss: 0.006371 | Val Acc: 0.331249 loss: 7.311768\n",
            "[392/3000] Train Acc: 0.997730 Loss: 0.007289 | Val Acc: 0.338915 loss: 6.971561\n",
            "[393/3000] Train Acc: 0.998134 Loss: 0.006374 | Val Acc: 0.347589 loss: 6.675754\n",
            "[394/3000] Train Acc: 0.997781 Loss: 0.006263 | Val Acc: 0.349203 loss: 6.732016\n",
            "[395/3000] Train Acc: 0.997932 Loss: 0.006372 | Val Acc: 0.349203 loss: 6.674113\n",
            "[396/3000] Train Acc: 0.998033 Loss: 0.006896 | Val Acc: 0.342949 loss: 6.862254\n",
            "[397/3000] Train Acc: 0.997377 Loss: 0.006739 | Val Acc: 0.343958 loss: 6.913525\n",
            "[398/3000] Train Acc: 0.997932 Loss: 0.006520 | Val Acc: 0.345774 loss: 6.681050\n",
            "[399/3000] Train Acc: 0.997478 Loss: 0.006277 | Val Acc: 0.343151 loss: 6.842166\n",
            "[400/3000] Train Acc: 0.997478 Loss: 0.007814 | Val Acc: 0.337906 loss: 6.964427\n",
            "[401/3000] Train Acc: 0.997327 Loss: 0.007651 | Val Acc: 0.347993 loss: 6.736874\n",
            "[402/3000] Train Acc: 0.997377 Loss: 0.007795 | Val Acc: 0.343958 loss: 6.911666\n",
            "[403/3000] Train Acc: 0.997982 Loss: 0.006622 | Val Acc: 0.349405 loss: 6.732302\n",
            "[404/3000] Train Acc: 0.997629 Loss: 0.006841 | Val Acc: 0.342748 loss: 6.797103\n",
            "[405/3000] Train Acc: 0.997125 Loss: 0.008304 | Val Acc: 0.346782 loss: 6.721180\n",
            "[406/3000] Train Acc: 0.997680 Loss: 0.007019 | Val Acc: 0.352633 loss: 6.773719\n",
            "[407/3000] Train Acc: 0.997932 Loss: 0.006773 | Val Acc: 0.349607 loss: 6.822196\n",
            "[408/3000] Train Acc: 0.997781 Loss: 0.007177 | Val Acc: 0.355860 loss: 6.591483\n",
            "[409/3000] Train Acc: 0.997831 Loss: 0.006773 | Val Acc: 0.340529 loss: 6.898929\n",
            "[410/3000] Train Acc: 0.997881 Loss: 0.006633 | Val Acc: 0.336292 loss: 7.038630\n",
            "[411/3000] Train Acc: 0.997781 Loss: 0.006415 | Val Acc: 0.347589 loss: 6.812155\n",
            "[412/3000] Train Acc: 0.997781 Loss: 0.007098 | Val Acc: 0.354247 loss: 6.765726\n",
            "[413/3000] Train Acc: 0.997327 Loss: 0.007962 | Val Acc: 0.347186 loss: 6.758736\n",
            "[414/3000] Train Acc: 0.997680 Loss: 0.007028 | Val Acc: 0.345168 loss: 6.771962\n",
            "[415/3000] Train Acc: 0.997881 Loss: 0.007376 | Val Acc: 0.336897 loss: 7.221196\n",
            "[416/3000] Train Acc: 0.998083 Loss: 0.006161 | Val Acc: 0.347186 loss: 6.871730\n",
            "[417/3000] Train Acc: 0.998083 Loss: 0.006873 | Val Acc: 0.349405 loss: 6.793007\n",
            "[418/3000] Train Acc: 0.997982 Loss: 0.005234 | Val Acc: 0.347589 loss: 6.705955\n",
            "[419/3000] Train Acc: 0.997982 Loss: 0.007025 | Val Acc: 0.341941 loss: 7.006170\n",
            "[420/3000] Train Acc: 0.997327 Loss: 0.006823 | Val Acc: 0.347993 loss: 6.740462\n",
            "[421/3000] Train Acc: 0.997629 Loss: 0.006845 | Val Acc: 0.351624 loss: 6.654533\n",
            "[422/3000] Train Acc: 0.998235 Loss: 0.005339 | Val Acc: 0.351624 loss: 6.503856\n",
            "[423/3000] Train Acc: 0.998083 Loss: 0.006346 | Val Acc: 0.358079 loss: 6.687493\n",
            "[424/3000] Train Acc: 0.997730 Loss: 0.007108 | Val Acc: 0.354852 loss: 6.476756\n",
            "[425/3000] Train Acc: 0.997982 Loss: 0.005733 | Val Acc: 0.355860 loss: 6.363937\n",
            "[426/3000] Train Acc: 0.997427 Loss: 0.007518 | Val Acc: 0.345774 loss: 6.960397\n",
            "[427/3000] Train Acc: 0.996974 Loss: 0.008192 | Val Acc: 0.336292 loss: 6.960072\n",
            "[428/3000] Train Acc: 0.997427 Loss: 0.006443 | Val Acc: 0.336292 loss: 7.138138\n",
            "[429/3000] Train Acc: 0.997730 Loss: 0.006707 | Val Acc: 0.352633 loss: 6.690387\n",
            "[430/3000] Train Acc: 0.997579 Loss: 0.006857 | Val Acc: 0.347589 loss: 6.841849\n",
            "[431/3000] Train Acc: 0.997781 Loss: 0.006797 | Val Acc: 0.351624 loss: 6.786141\n",
            "[432/3000] Train Acc: 0.998033 Loss: 0.005988 | Val Acc: 0.350615 loss: 6.814745\n",
            "[433/3000] Train Acc: 0.997579 Loss: 0.008257 | Val Acc: 0.357071 loss: 6.732628\n",
            "[434/3000] Train Acc: 0.997982 Loss: 0.005654 | Val Acc: 0.346379 loss: 6.978354\n",
            "[435/3000] Train Acc: 0.998033 Loss: 0.005930 | Val Acc: 0.349203 loss: 7.087514\n",
            "[436/3000] Train Acc: 0.997781 Loss: 0.006466 | Val Acc: 0.352027 loss: 6.770588\n",
            "[437/3000] Train Acc: 0.998083 Loss: 0.007066 | Val Acc: 0.347791 loss: 6.869808\n",
            "[438/3000] Train Acc: 0.998487 Loss: 0.004605 | Val Acc: 0.343756 loss: 6.974630\n",
            "[439/3000] Train Acc: 0.997831 Loss: 0.006550 | Val Acc: 0.356062 loss: 6.647564\n",
            "[440/3000] Train Acc: 0.997982 Loss: 0.006200 | Val Acc: 0.352229 loss: 6.576396\n",
            "[441/3000] Train Acc: 0.997932 Loss: 0.006059 | Val Acc: 0.346984 loss: 6.759545\n",
            "[442/3000] Train Acc: 0.998134 Loss: 0.006133 | Val Acc: 0.347388 loss: 6.817477\n",
            "[443/3000] Train Acc: 0.997781 Loss: 0.006543 | Val Acc: 0.343756 loss: 6.982571\n",
            "[444/3000] Train Acc: 0.997881 Loss: 0.006106 | Val Acc: 0.349001 loss: 6.815380\n",
            "[445/3000] Train Acc: 0.998033 Loss: 0.005540 | Val Acc: 0.347993 loss: 6.810571\n",
            "[446/3000] Train Acc: 0.997932 Loss: 0.005169 | Val Acc: 0.357273 loss: 6.674254\n",
            "[447/3000] Train Acc: 0.997881 Loss: 0.006961 | Val Acc: 0.345370 loss: 6.897374\n",
            "[448/3000] Train Acc: 0.998033 Loss: 0.005725 | Val Acc: 0.355053 loss: 6.535438\n",
            "[449/3000] Train Acc: 0.997629 Loss: 0.006294 | Val Acc: 0.340529 loss: 6.990692\n",
            "[450/3000] Train Acc: 0.997730 Loss: 0.006973 | Val Acc: 0.346984 loss: 6.875933\n",
            "[451/3000] Train Acc: 0.997680 Loss: 0.007463 | Val Acc: 0.335283 loss: 7.129338\n",
            "[452/3000] Train Acc: 0.998335 Loss: 0.005410 | Val Acc: 0.350010 loss: 6.925884\n",
            "[453/3000] Train Acc: 0.997932 Loss: 0.006507 | Val Acc: 0.341941 loss: 6.835057\n",
            "[454/3000] Train Acc: 0.997831 Loss: 0.006338 | Val Acc: 0.345370 loss: 7.051970\n",
            "[455/3000] Train Acc: 0.998436 Loss: 0.005435 | Val Acc: 0.350817 loss: 6.739698\n",
            "[456/3000] Train Acc: 0.997831 Loss: 0.006714 | Val Acc: 0.346581 loss: 6.862899\n",
            "[457/3000] Train Acc: 0.997881 Loss: 0.006349 | Val Acc: 0.356869 loss: 6.517647\n",
            "[458/3000] Train Acc: 0.997831 Loss: 0.006696 | Val Acc: 0.345370 loss: 7.169811\n",
            "[459/3000] Train Acc: 0.997781 Loss: 0.006206 | Val Acc: 0.345572 loss: 6.963332\n",
            "[460/3000] Train Acc: 0.997680 Loss: 0.005990 | Val Acc: 0.354247 loss: 6.599731\n",
            "[461/3000] Train Acc: 0.997629 Loss: 0.007227 | Val Acc: 0.358281 loss: 6.429818\n",
            "[462/3000] Train Acc: 0.998285 Loss: 0.005669 | Val Acc: 0.350817 loss: 6.756059\n",
            "[463/3000] Train Acc: 0.998033 Loss: 0.006334 | Val Acc: 0.348194 loss: 6.971810\n",
            "[464/3000] Train Acc: 0.997982 Loss: 0.006146 | Val Acc: 0.350817 loss: 6.580204\n",
            "[465/3000] Train Acc: 0.997932 Loss: 0.006656 | Val Acc: 0.343353 loss: 7.016909\n",
            "[466/3000] Train Acc: 0.998436 Loss: 0.005017 | Val Acc: 0.354247 loss: 6.682729\n",
            "[467/3000] Train Acc: 0.997680 Loss: 0.006797 | Val Acc: 0.351019 loss: 6.796566\n",
            "[468/3000] Train Acc: 0.998033 Loss: 0.006004 | Val Acc: 0.346581 loss: 7.055767\n",
            "[469/3000] Train Acc: 0.998235 Loss: 0.004866 | Val Acc: 0.347791 loss: 6.858198\n",
            "[470/3000] Train Acc: 0.998134 Loss: 0.005253 | Val Acc: 0.355659 loss: 6.676219\n",
            "[471/3000] Train Acc: 0.997579 Loss: 0.007139 | Val Acc: 0.345370 loss: 6.864934\n",
            "[472/3000] Train Acc: 0.998335 Loss: 0.005683 | Val Acc: 0.346177 loss: 6.896488\n",
            "[473/3000] Train Acc: 0.997781 Loss: 0.007859 | Val Acc: 0.341739 loss: 6.836110\n",
            "[474/3000] Train Acc: 0.997680 Loss: 0.006591 | Val Acc: 0.346581 loss: 6.808817\n",
            "[475/3000] Train Acc: 0.997982 Loss: 0.006058 | Val Acc: 0.350010 loss: 6.637883\n",
            "[476/3000] Train Acc: 0.998033 Loss: 0.005423 | Val Acc: 0.341335 loss: 6.903096\n",
            "[477/3000] Train Acc: 0.998184 Loss: 0.006443 | Val Acc: 0.346379 loss: 6.738020\n",
            "[478/3000] Train Acc: 0.998033 Loss: 0.006230 | Val Acc: 0.343555 loss: 6.953994\n",
            "[479/3000] Train Acc: 0.998083 Loss: 0.005984 | Val Acc: 0.335687 loss: 7.014533\n",
            "[480/3000] Train Acc: 0.998235 Loss: 0.005579 | Val Acc: 0.343756 loss: 6.917686\n",
            "[481/3000] Train Acc: 0.997730 Loss: 0.007251 | Val Acc: 0.346581 loss: 7.056697\n",
            "[482/3000] Train Acc: 0.998184 Loss: 0.005272 | Val Acc: 0.346984 loss: 6.683223\n",
            "[483/3000] Train Acc: 0.997629 Loss: 0.006099 | Val Acc: 0.347589 loss: 6.804583\n",
            "[484/3000] Train Acc: 0.997730 Loss: 0.006080 | Val Acc: 0.353238 loss: 6.621929\n",
            "[485/3000] Train Acc: 0.997478 Loss: 0.006320 | Val Acc: 0.347388 loss: 6.965337\n",
            "[486/3000] Train Acc: 0.998285 Loss: 0.005360 | Val Acc: 0.346177 loss: 7.021507\n",
            "[487/3000] Train Acc: 0.998033 Loss: 0.006387 | Val Acc: 0.341335 loss: 6.986621\n",
            "[488/3000] Train Acc: 0.998335 Loss: 0.006132 | Val Acc: 0.354852 loss: 6.611295\n",
            "[489/3000] Train Acc: 0.997982 Loss: 0.006470 | Val Acc: 0.346379 loss: 6.910474\n",
            "[490/3000] Train Acc: 0.997528 Loss: 0.007239 | Val Acc: 0.345168 loss: 6.979787\n",
            "[491/3000] Train Acc: 0.997781 Loss: 0.006172 | Val Acc: 0.344563 loss: 6.955950\n",
            "[492/3000] Train Acc: 0.997781 Loss: 0.006520 | Val Acc: 0.339722 loss: 6.967092\n",
            "[493/3000] Train Acc: 0.998184 Loss: 0.005100 | Val Acc: 0.354045 loss: 6.436851\n",
            "[494/3000] Train Acc: 0.998285 Loss: 0.006090 | Val Acc: 0.352027 loss: 6.637967\n",
            "[495/3000] Train Acc: 0.998033 Loss: 0.006361 | Val Acc: 0.351826 loss: 6.904792\n",
            "[496/3000] Train Acc: 0.997932 Loss: 0.006041 | Val Acc: 0.350010 loss: 6.787578\n",
            "[497/3000] Train Acc: 0.998386 Loss: 0.004605 | Val Acc: 0.357878 loss: 6.469271\n",
            "[498/3000] Train Acc: 0.998335 Loss: 0.005379 | Val Acc: 0.345370 loss: 6.756308\n",
            "[499/3000] Train Acc: 0.997427 Loss: 0.007280 | Val Acc: 0.348598 loss: 6.721285\n",
            "[500/3000] Train Acc: 0.998638 Loss: 0.004948 | Val Acc: 0.345572 loss: 6.998104\n",
            "[501/3000] Train Acc: 0.998134 Loss: 0.005732 | Val Acc: 0.348396 loss: 6.843735\n",
            "[502/3000] Train Acc: 0.997881 Loss: 0.006454 | Val Acc: 0.351624 loss: 6.679789\n",
            "[503/3000] Train Acc: 0.998235 Loss: 0.005239 | Val Acc: 0.347388 loss: 6.739828\n",
            "[504/3000] Train Acc: 0.998033 Loss: 0.005601 | Val Acc: 0.362518 loss: 6.644892\n",
            "[505/3000] Train Acc: 0.998134 Loss: 0.005942 | Val Acc: 0.344563 loss: 6.970093\n",
            "[506/3000] Train Acc: 0.998638 Loss: 0.003979 | Val Acc: 0.350414 loss: 6.699272\n",
            "[507/3000] Train Acc: 0.998033 Loss: 0.006374 | Val Acc: 0.355457 loss: 6.660510\n",
            "[508/3000] Train Acc: 0.998134 Loss: 0.005919 | Val Acc: 0.356062 loss: 6.532557\n",
            "[509/3000] Train Acc: 0.998588 Loss: 0.004884 | Val Acc: 0.355860 loss: 6.926598\n",
            "[510/3000] Train Acc: 0.997881 Loss: 0.006897 | Val Acc: 0.358079 loss: 6.633249\n",
            "[511/3000] Train Acc: 0.997982 Loss: 0.005741 | Val Acc: 0.351422 loss: 6.671667\n",
            "[512/3000] Train Acc: 0.997781 Loss: 0.006120 | Val Acc: 0.346782 loss: 6.833696\n",
            "[513/3000] Train Acc: 0.998033 Loss: 0.005192 | Val Acc: 0.357878 loss: 6.507796\n",
            "[514/3000] Train Acc: 0.998083 Loss: 0.005915 | Val Acc: 0.350817 loss: 6.805481\n",
            "[515/3000] Train Acc: 0.998335 Loss: 0.005232 | Val Acc: 0.351220 loss: 6.880005\n",
            "[516/3000] Train Acc: 0.997781 Loss: 0.006511 | Val Acc: 0.344563 loss: 6.885719\n",
            "[517/3000] Train Acc: 0.998184 Loss: 0.005938 | Val Acc: 0.358886 loss: 6.384977\n",
            "[518/3000] Train Acc: 0.997781 Loss: 0.006601 | Val Acc: 0.346984 loss: 6.934987\n",
            "[519/3000] Train Acc: 0.998134 Loss: 0.006310 | Val Acc: 0.347186 loss: 6.961745\n",
            "[520/3000] Train Acc: 0.997982 Loss: 0.005676 | Val Acc: 0.347186 loss: 6.890787\n",
            "[521/3000] Train Acc: 0.997730 Loss: 0.006527 | Val Acc: 0.347993 loss: 6.809426\n",
            "[522/3000] Train Acc: 0.997982 Loss: 0.005461 | Val Acc: 0.349607 loss: 6.860936\n",
            "[523/3000] Train Acc: 0.998487 Loss: 0.004458 | Val Acc: 0.354448 loss: 6.667163\n",
            "[524/3000] Train Acc: 0.998033 Loss: 0.005882 | Val Acc: 0.350414 loss: 6.810386\n",
            "[525/3000] Train Acc: 0.998335 Loss: 0.004956 | Val Acc: 0.351826 loss: 6.782501\n",
            "[526/3000] Train Acc: 0.998386 Loss: 0.005035 | Val Acc: 0.353641 loss: 6.819268\n",
            "[527/3000] Train Acc: 0.998537 Loss: 0.005177 | Val Acc: 0.350615 loss: 6.934926\n",
            "[528/3000] Train Acc: 0.998335 Loss: 0.004692 | Val Acc: 0.355659 loss: 6.797993\n",
            "[529/3000] Train Acc: 0.997831 Loss: 0.005683 | Val Acc: 0.344967 loss: 6.799239\n",
            "[530/3000] Train Acc: 0.998386 Loss: 0.005607 | Val Acc: 0.354045 loss: 6.841496\n",
            "[531/3000] Train Acc: 0.997629 Loss: 0.005659 | Val Acc: 0.354247 loss: 6.513478\n",
            "[532/3000] Train Acc: 0.998083 Loss: 0.006093 | Val Acc: 0.351624 loss: 6.658522\n",
            "[533/3000] Train Acc: 0.997579 Loss: 0.008060 | Val Acc: 0.349405 loss: 6.865411\n",
            "[534/3000] Train Acc: 0.998083 Loss: 0.006453 | Val Acc: 0.350414 loss: 6.798067\n",
            "[535/3000] Train Acc: 0.998335 Loss: 0.005475 | Val Acc: 0.348194 loss: 6.821183\n",
            "[536/3000] Train Acc: 0.999042 Loss: 0.004106 | Val Acc: 0.349203 loss: 6.803755\n",
            "[537/3000] Train Acc: 0.998235 Loss: 0.006000 | Val Acc: 0.339116 loss: 7.204427\n",
            "[538/3000] Train Acc: 0.998083 Loss: 0.005453 | Val Acc: 0.347186 loss: 6.773470\n",
            "[539/3000] Train Acc: 0.998335 Loss: 0.005078 | Val Acc: 0.347186 loss: 6.839770\n",
            "[540/3000] Train Acc: 0.997579 Loss: 0.007176 | Val Acc: 0.349203 loss: 7.011787\n",
            "[541/3000] Train Acc: 0.998033 Loss: 0.005873 | Val Acc: 0.347589 loss: 7.004602\n",
            "[542/3000] Train Acc: 0.998083 Loss: 0.006241 | Val Acc: 0.337503 loss: 7.299477\n",
            "[543/3000] Train Acc: 0.998436 Loss: 0.005221 | Val Acc: 0.345774 loss: 6.840986\n",
            "[544/3000] Train Acc: 0.997831 Loss: 0.006006 | Val Acc: 0.350414 loss: 6.808044\n",
            "[545/3000] Train Acc: 0.998184 Loss: 0.006015 | Val Acc: 0.352834 loss: 6.832229\n",
            "[546/3000] Train Acc: 0.998235 Loss: 0.005338 | Val Acc: 0.355659 loss: 6.626560\n",
            "[547/3000] Train Acc: 0.998033 Loss: 0.006385 | Val Acc: 0.346782 loss: 7.094978\n",
            "[548/3000] Train Acc: 0.998285 Loss: 0.006019 | Val Acc: 0.342142 loss: 7.088892\n",
            "[549/3000] Train Acc: 0.998335 Loss: 0.004744 | Val Acc: 0.354247 loss: 6.705666\n",
            "[550/3000] Train Acc: 0.998436 Loss: 0.005445 | Val Acc: 0.351019 loss: 6.802530\n",
            "[551/3000] Train Acc: 0.998235 Loss: 0.005493 | Val Acc: 0.346581 loss: 6.948869\n",
            "[552/3000] Train Acc: 0.997781 Loss: 0.006387 | Val Acc: 0.352834 loss: 6.726771\n",
            "[553/3000] Train Acc: 0.998083 Loss: 0.005098 | Val Acc: 0.345168 loss: 6.936786\n",
            "[554/3000] Train Acc: 0.997982 Loss: 0.006732 | Val Acc: 0.351019 loss: 6.716367\n",
            "[555/3000] Train Acc: 0.998033 Loss: 0.006012 | Val Acc: 0.358281 loss: 6.744619\n",
            "[556/3000] Train Acc: 0.998335 Loss: 0.005882 | Val Acc: 0.355860 loss: 6.459483\n",
            "[557/3000] Train Acc: 0.998235 Loss: 0.004836 | Val Acc: 0.343958 loss: 6.995146\n",
            "[558/3000] Train Acc: 0.998235 Loss: 0.005036 | Val Acc: 0.346782 loss: 6.733166\n",
            "[559/3000] Train Acc: 0.997831 Loss: 0.005610 | Val Acc: 0.345975 loss: 6.925767\n",
            "[560/3000] Train Acc: 0.998689 Loss: 0.004350 | Val Acc: 0.349808 loss: 6.650735\n",
            "[561/3000] Train Acc: 0.997427 Loss: 0.007399 | Val Acc: 0.350010 loss: 7.002216\n",
            "[562/3000] Train Acc: 0.997730 Loss: 0.006624 | Val Acc: 0.360702 loss: 6.556211\n",
            "[563/3000] Train Acc: 0.998789 Loss: 0.004112 | Val Acc: 0.352633 loss: 6.909866\n",
            "[564/3000] Train Acc: 0.998386 Loss: 0.004914 | Val Acc: 0.349001 loss: 6.895813\n",
            "[565/3000] Train Acc: 0.997831 Loss: 0.005870 | Val Acc: 0.354448 loss: 6.559720\n",
            "[566/3000] Train Acc: 0.998033 Loss: 0.005500 | Val Acc: 0.351624 loss: 6.834956\n",
            "[567/3000] Train Acc: 0.997982 Loss: 0.006000 | Val Acc: 0.352431 loss: 6.739042\n",
            "[568/3000] Train Acc: 0.998285 Loss: 0.005624 | Val Acc: 0.341941 loss: 6.953005\n",
            "[569/3000] Train Acc: 0.998285 Loss: 0.004652 | Val Acc: 0.342748 loss: 7.147643\n",
            "[570/3000] Train Acc: 0.997932 Loss: 0.005625 | Val Acc: 0.345370 loss: 6.925225\n",
            "[571/3000] Train Acc: 0.998235 Loss: 0.005765 | Val Acc: 0.345572 loss: 6.741869\n",
            "[572/3000] Train Acc: 0.998689 Loss: 0.004698 | Val Acc: 0.355255 loss: 6.637139\n",
            "[573/3000] Train Acc: 0.998033 Loss: 0.005340 | Val Acc: 0.344765 loss: 6.839307\n",
            "[574/3000] Train Acc: 0.998386 Loss: 0.004629 | Val Acc: 0.354247 loss: 6.760707\n",
            "[575/3000] Train Acc: 0.997831 Loss: 0.005624 | Val Acc: 0.341739 loss: 7.104723\n",
            "[576/3000] Train Acc: 0.998386 Loss: 0.004755 | Val Acc: 0.343756 loss: 7.042755\n",
            "[577/3000] Train Acc: 0.998134 Loss: 0.005519 | Val Acc: 0.349808 loss: 6.763018\n",
            "[578/3000] Train Acc: 0.998134 Loss: 0.005967 | Val Acc: 0.346581 loss: 6.813981\n",
            "[579/3000] Train Acc: 0.998789 Loss: 0.004694 | Val Acc: 0.344967 loss: 7.042291\n",
            "[580/3000] Train Acc: 0.998335 Loss: 0.005034 | Val Acc: 0.347993 loss: 6.826219\n",
            "[581/3000] Train Acc: 0.997478 Loss: 0.006874 | Val Acc: 0.336494 loss: 7.086332\n",
            "[582/3000] Train Acc: 0.998285 Loss: 0.004947 | Val Acc: 0.346984 loss: 6.859213\n",
            "[583/3000] Train Acc: 0.998083 Loss: 0.006084 | Val Acc: 0.356869 loss: 6.524588\n",
            "[584/3000] Train Acc: 0.998083 Loss: 0.006125 | Val Acc: 0.348194 loss: 6.769010\n",
            "[585/3000] Train Acc: 0.997680 Loss: 0.006284 | Val Acc: 0.354045 loss: 6.606120\n",
            "[586/3000] Train Acc: 0.997881 Loss: 0.005632 | Val Acc: 0.350212 loss: 6.782725\n",
            "[587/3000] Train Acc: 0.997881 Loss: 0.005730 | Val Acc: 0.340125 loss: 7.277701\n",
            "[588/3000] Train Acc: 0.997781 Loss: 0.006684 | Val Acc: 0.342949 loss: 7.031727\n",
            "[589/3000] Train Acc: 0.998335 Loss: 0.005133 | Val Acc: 0.342142 loss: 7.039846\n",
            "[590/3000] Train Acc: 0.997831 Loss: 0.005934 | Val Acc: 0.352834 loss: 6.864690\n",
            "[591/3000] Train Acc: 0.998235 Loss: 0.005177 | Val Acc: 0.353843 loss: 6.754702\n",
            "[592/3000] Train Acc: 0.997831 Loss: 0.005978 | Val Acc: 0.358685 loss: 6.451364\n",
            "[593/3000] Train Acc: 0.998235 Loss: 0.006680 | Val Acc: 0.345168 loss: 7.076668\n",
            "[594/3000] Train Acc: 0.998537 Loss: 0.004562 | Val Acc: 0.341335 loss: 7.204665\n",
            "[595/3000] Train Acc: 0.997881 Loss: 0.006088 | Val Acc: 0.355053 loss: 6.631283\n",
            "[596/3000] Train Acc: 0.998436 Loss: 0.005515 | Val Acc: 0.349808 loss: 6.747183\n",
            "[597/3000] Train Acc: 0.998184 Loss: 0.005490 | Val Acc: 0.328424 loss: 7.301791\n",
            "[598/3000] Train Acc: 0.997932 Loss: 0.005121 | Val Acc: 0.357676 loss: 6.530618\n",
            "[599/3000] Train Acc: 0.998083 Loss: 0.005807 | Val Acc: 0.350414 loss: 6.773762\n",
            "[600/3000] Train Acc: 0.998235 Loss: 0.006324 | Val Acc: 0.349203 loss: 6.933427\n",
            "[601/3000] Train Acc: 0.997982 Loss: 0.006294 | Val Acc: 0.355053 loss: 6.794221\n",
            "[602/3000] Train Acc: 0.998285 Loss: 0.004964 | Val Acc: 0.353440 loss: 6.852240\n",
            "[603/3000] Train Acc: 0.998184 Loss: 0.005628 | Val Acc: 0.354247 loss: 6.571485\n",
            "[604/3000] Train Acc: 0.998487 Loss: 0.004821 | Val Acc: 0.346984 loss: 6.924544\n",
            "[605/3000] Train Acc: 0.998285 Loss: 0.005745 | Val Acc: 0.344563 loss: 6.873682\n",
            "[606/3000] Train Acc: 0.998588 Loss: 0.004615 | Val Acc: 0.346984 loss: 6.799919\n",
            "[607/3000] Train Acc: 0.997680 Loss: 0.006812 | Val Acc: 0.356264 loss: 6.774393\n",
            "[608/3000] Train Acc: 0.997781 Loss: 0.008181 | Val Acc: 0.344362 loss: 6.950554\n",
            "[609/3000] Train Acc: 0.998033 Loss: 0.005829 | Val Acc: 0.348194 loss: 6.812635\n",
            "[610/3000] Train Acc: 0.998285 Loss: 0.005002 | Val Acc: 0.348598 loss: 6.746962\n",
            "[611/3000] Train Acc: 0.997932 Loss: 0.005919 | Val Acc: 0.356264 loss: 6.540008\n",
            "[612/3000] Train Acc: 0.998134 Loss: 0.005170 | Val Acc: 0.342142 loss: 6.862529\n",
            "[613/3000] Train Acc: 0.997982 Loss: 0.005600 | Val Acc: 0.343555 loss: 6.985885\n",
            "[614/3000] Train Acc: 0.998335 Loss: 0.005040 | Val Acc: 0.344160 loss: 7.103761\n",
            "[615/3000] Train Acc: 0.998537 Loss: 0.004784 | Val Acc: 0.344563 loss: 6.887256\n",
            "[616/3000] Train Acc: 0.998537 Loss: 0.004984 | Val Acc: 0.342949 loss: 6.886330\n",
            "[617/3000] Train Acc: 0.998537 Loss: 0.004648 | Val Acc: 0.347791 loss: 6.947604\n",
            "[618/3000] Train Acc: 0.997528 Loss: 0.007217 | Val Acc: 0.351019 loss: 6.838115\n",
            "[619/3000] Train Acc: 0.997982 Loss: 0.005774 | Val Acc: 0.350615 loss: 6.757616\n",
            "[620/3000] Train Acc: 0.998436 Loss: 0.005912 | Val Acc: 0.349203 loss: 6.665804\n",
            "[621/3000] Train Acc: 0.998134 Loss: 0.006332 | Val Acc: 0.351422 loss: 6.892091\n",
            "[622/3000] Train Acc: 0.998235 Loss: 0.005417 | Val Acc: 0.345975 loss: 7.030515\n",
            "[623/3000] Train Acc: 0.997881 Loss: 0.006047 | Val Acc: 0.351624 loss: 6.831880\n",
            "[624/3000] Train Acc: 0.997881 Loss: 0.006165 | Val Acc: 0.342344 loss: 7.083138\n",
            "[625/3000] Train Acc: 0.998537 Loss: 0.004923 | Val Acc: 0.352229 loss: 6.742209\n",
            "[626/3000] Train Acc: 0.997881 Loss: 0.005500 | Val Acc: 0.345168 loss: 6.874093\n",
            "[627/3000] Train Acc: 0.998033 Loss: 0.006050 | Val Acc: 0.349203 loss: 6.817117\n",
            "[628/3000] Train Acc: 0.998134 Loss: 0.005337 | Val Acc: 0.347791 loss: 6.737545\n",
            "[629/3000] Train Acc: 0.998184 Loss: 0.005352 | Val Acc: 0.345572 loss: 6.922843\n",
            "[630/3000] Train Acc: 0.998235 Loss: 0.005028 | Val Acc: 0.345572 loss: 6.760890\n",
            "[631/3000] Train Acc: 0.998285 Loss: 0.005507 | Val Acc: 0.342344 loss: 7.169054\n",
            "[632/3000] Train Acc: 0.998335 Loss: 0.005234 | Val Acc: 0.344362 loss: 7.120066\n",
            "[633/3000] Train Acc: 0.998033 Loss: 0.006172 | Val Acc: 0.339520 loss: 7.068511\n",
            "[634/3000] Train Acc: 0.997881 Loss: 0.005951 | Val Acc: 0.346379 loss: 6.910187\n",
            "[635/3000] Train Acc: 0.998335 Loss: 0.005978 | Val Acc: 0.340327 loss: 7.130198\n",
            "[636/3000] Train Acc: 0.998184 Loss: 0.005570 | Val Acc: 0.353036 loss: 6.794659\n",
            "[637/3000] Train Acc: 0.998638 Loss: 0.004541 | Val Acc: 0.343353 loss: 6.807535\n",
            "[638/3000] Train Acc: 0.998537 Loss: 0.004781 | Val Acc: 0.357071 loss: 6.633260\n",
            "[639/3000] Train Acc: 0.998436 Loss: 0.005163 | Val Acc: 0.341335 loss: 6.784830\n",
            "[640/3000] Train Acc: 0.998588 Loss: 0.004675 | Val Acc: 0.351826 loss: 6.791582\n",
            "[641/3000] Train Acc: 0.998335 Loss: 0.005000 | Val Acc: 0.345975 loss: 6.846018\n",
            "[642/3000] Train Acc: 0.998537 Loss: 0.005437 | Val Acc: 0.353440 loss: 6.610113\n",
            "[643/3000] Train Acc: 0.997982 Loss: 0.005900 | Val Acc: 0.344967 loss: 6.930743\n",
            "[644/3000] Train Acc: 0.997579 Loss: 0.006301 | Val Acc: 0.345572 loss: 6.909615\n",
            "[645/3000] Train Acc: 0.998638 Loss: 0.004881 | Val Acc: 0.352834 loss: 6.629704\n",
            "[646/3000] Train Acc: 0.998235 Loss: 0.005366 | Val Acc: 0.334880 loss: 7.224996\n",
            "[647/3000] Train Acc: 0.998285 Loss: 0.005045 | Val Acc: 0.350615 loss: 6.845443\n",
            "[648/3000] Train Acc: 0.997932 Loss: 0.005460 | Val Acc: 0.356062 loss: 6.929095\n",
            "[649/3000] Train Acc: 0.998134 Loss: 0.005935 | Val Acc: 0.345572 loss: 6.738923\n",
            "[650/3000] Train Acc: 0.998537 Loss: 0.004770 | Val Acc: 0.352229 loss: 6.749665\n",
            "[651/3000] Train Acc: 0.998235 Loss: 0.004848 | Val Acc: 0.342949 loss: 6.962241\n",
            "[652/3000] Train Acc: 0.998638 Loss: 0.004223 | Val Acc: 0.351422 loss: 6.768868\n",
            "[653/3000] Train Acc: 0.998335 Loss: 0.005327 | Val Acc: 0.346782 loss: 7.021917\n",
            "[654/3000] Train Acc: 0.998285 Loss: 0.005220 | Val Acc: 0.349607 loss: 6.797083\n",
            "[655/3000] Train Acc: 0.997781 Loss: 0.005730 | Val Acc: 0.343958 loss: 7.102271\n",
            "[656/3000] Train Acc: 0.998033 Loss: 0.005247 | Val Acc: 0.343555 loss: 6.912141\n",
            "[657/3000] Train Acc: 0.998335 Loss: 0.005853 | Val Acc: 0.351624 loss: 6.723539\n",
            "[658/3000] Train Acc: 0.997831 Loss: 0.006254 | Val Acc: 0.347791 loss: 6.745364\n",
            "[659/3000] Train Acc: 0.998033 Loss: 0.005460 | Val Acc: 0.355659 loss: 6.774508\n",
            "[660/3000] Train Acc: 0.998285 Loss: 0.004996 | Val Acc: 0.350615 loss: 6.854167\n",
            "[661/3000] Train Acc: 0.998285 Loss: 0.004995 | Val Acc: 0.338511 loss: 6.950444\n",
            "[662/3000] Train Acc: 0.998386 Loss: 0.005681 | Val Acc: 0.350615 loss: 6.861302\n",
            "[663/3000] Train Acc: 0.997730 Loss: 0.005974 | Val Acc: 0.353036 loss: 6.751694\n",
            "[664/3000] Train Acc: 0.998436 Loss: 0.005578 | Val Acc: 0.351826 loss: 6.634053\n",
            "[665/3000] Train Acc: 0.998487 Loss: 0.005094 | Val Acc: 0.353440 loss: 6.759582\n",
            "[666/3000] Train Acc: 0.998134 Loss: 0.005473 | Val Acc: 0.354247 loss: 6.889535\n",
            "[667/3000] Train Acc: 0.998588 Loss: 0.004687 | Val Acc: 0.348396 loss: 6.924478\n",
            "[668/3000] Train Acc: 0.998033 Loss: 0.006428 | Val Acc: 0.342344 loss: 6.888470\n",
            "[669/3000] Train Acc: 0.998184 Loss: 0.005587 | Val Acc: 0.351624 loss: 6.725829\n",
            "[670/3000] Train Acc: 0.998638 Loss: 0.004526 | Val Acc: 0.345774 loss: 6.785614\n",
            "[671/3000] Train Acc: 0.997982 Loss: 0.006984 | Val Acc: 0.345370 loss: 6.779942\n",
            "[672/3000] Train Acc: 0.997781 Loss: 0.006611 | Val Acc: 0.350212 loss: 6.829978\n",
            "[673/3000] Train Acc: 0.997831 Loss: 0.006700 | Val Acc: 0.359492 loss: 6.666435\n",
            "[674/3000] Train Acc: 0.998285 Loss: 0.006170 | Val Acc: 0.349607 loss: 6.791365\n",
            "[675/3000] Train Acc: 0.998083 Loss: 0.006939 | Val Acc: 0.344362 loss: 6.879761\n",
            "[676/3000] Train Acc: 0.997781 Loss: 0.005973 | Val Acc: 0.351624 loss: 6.957811\n",
            "[677/3000] Train Acc: 0.997831 Loss: 0.005230 | Val Acc: 0.348194 loss: 7.005183\n",
            "[678/3000] Train Acc: 0.998487 Loss: 0.005566 | Val Acc: 0.345168 loss: 6.966347\n",
            "[679/3000] Train Acc: 0.998890 Loss: 0.004331 | Val Acc: 0.347589 loss: 6.908947\n",
            "[680/3000] Train Acc: 0.997881 Loss: 0.006422 | Val Acc: 0.343756 loss: 6.977861\n",
            "[681/3000] Train Acc: 0.998134 Loss: 0.005102 | Val Acc: 0.342546 loss: 7.029379\n",
            "[682/3000] Train Acc: 0.998033 Loss: 0.005491 | Val Acc: 0.351422 loss: 6.753066\n",
            "[683/3000] Train Acc: 0.998436 Loss: 0.005297 | Val Acc: 0.346581 loss: 6.868229\n",
            "[684/3000] Train Acc: 0.998134 Loss: 0.005174 | Val Acc: 0.347589 loss: 6.788143\n",
            "[685/3000] Train Acc: 0.998285 Loss: 0.004632 | Val Acc: 0.349001 loss: 6.717499\n",
            "[686/3000] Train Acc: 0.998335 Loss: 0.004999 | Val Acc: 0.338511 loss: 6.941715\n",
            "[687/3000] Train Acc: 0.998487 Loss: 0.004938 | Val Acc: 0.339722 loss: 7.132845\n",
            "[688/3000] Train Acc: 0.997680 Loss: 0.006973 | Val Acc: 0.348396 loss: 6.801860\n",
            "[689/3000] Train Acc: 0.997579 Loss: 0.007929 | Val Acc: 0.354650 loss: 6.579408\n",
            "[690/3000] Train Acc: 0.998588 Loss: 0.004955 | Val Acc: 0.340730 loss: 7.135329\n",
            "[691/3000] Train Acc: 0.997932 Loss: 0.005848 | Val Acc: 0.348598 loss: 6.693730\n",
            "[692/3000] Train Acc: 0.998739 Loss: 0.004735 | Val Acc: 0.353440 loss: 6.711844\n",
            "[693/3000] Train Acc: 0.998134 Loss: 0.005271 | Val Acc: 0.347993 loss: 6.662155\n",
            "[694/3000] Train Acc: 0.998184 Loss: 0.006325 | Val Acc: 0.350212 loss: 6.679271\n",
            "[695/3000] Train Acc: 0.998083 Loss: 0.005814 | Val Acc: 0.344765 loss: 7.101342\n",
            "[696/3000] Train Acc: 0.997831 Loss: 0.006204 | Val Acc: 0.344563 loss: 6.936358\n",
            "[697/3000] Train Acc: 0.998285 Loss: 0.005196 | Val Acc: 0.365342 loss: 6.619200\n",
            "saving model with acc 0.365\n",
            "[698/3000] Train Acc: 0.997730 Loss: 0.005176 | Val Acc: 0.349607 loss: 7.060873\n",
            "[699/3000] Train Acc: 0.997932 Loss: 0.006498 | Val Acc: 0.342748 loss: 7.037457\n",
            "[700/3000] Train Acc: 0.998184 Loss: 0.005840 | Val Acc: 0.352027 loss: 6.828370\n",
            "[701/3000] Train Acc: 0.998235 Loss: 0.004785 | Val Acc: 0.347791 loss: 7.012269\n",
            "[702/3000] Train Acc: 0.997982 Loss: 0.006105 | Val Acc: 0.355659 loss: 6.693044\n",
            "[703/3000] Train Acc: 0.997881 Loss: 0.005872 | Val Acc: 0.354650 loss: 6.854372\n",
            "[704/3000] Train Acc: 0.998083 Loss: 0.004948 | Val Acc: 0.343151 loss: 7.008567\n",
            "[705/3000] Train Acc: 0.998638 Loss: 0.004710 | Val Acc: 0.332459 loss: 7.194438\n",
            "[706/3000] Train Acc: 0.998487 Loss: 0.004881 | Val Acc: 0.351826 loss: 6.937870\n",
            "[707/3000] Train Acc: 0.998588 Loss: 0.004428 | Val Acc: 0.349001 loss: 6.920459\n",
            "[708/3000] Train Acc: 0.997427 Loss: 0.007109 | Val Acc: 0.348598 loss: 6.747520\n",
            "[709/3000] Train Acc: 0.998285 Loss: 0.005255 | Val Acc: 0.346984 loss: 6.906000\n",
            "[710/3000] Train Acc: 0.997982 Loss: 0.005976 | Val Acc: 0.359492 loss: 6.542176\n",
            "[711/3000] Train Acc: 0.998285 Loss: 0.004884 | Val Acc: 0.347388 loss: 6.655537\n",
            "[712/3000] Train Acc: 0.998487 Loss: 0.005676 | Val Acc: 0.345370 loss: 7.081145\n",
            "[713/3000] Train Acc: 0.997327 Loss: 0.006848 | Val Acc: 0.346177 loss: 7.012787\n",
            "[714/3000] Train Acc: 0.997831 Loss: 0.005554 | Val Acc: 0.347388 loss: 6.886335\n",
            "[715/3000] Train Acc: 0.997881 Loss: 0.006241 | Val Acc: 0.346177 loss: 7.126318\n",
            "[716/3000] Train Acc: 0.998083 Loss: 0.005201 | Val Acc: 0.349203 loss: 6.768140\n",
            "[717/3000] Train Acc: 0.998840 Loss: 0.003814 | Val Acc: 0.351019 loss: 6.826488\n",
            "[718/3000] Train Acc: 0.997881 Loss: 0.006106 | Val Acc: 0.355457 loss: 6.784605\n",
            "[719/3000] Train Acc: 0.998487 Loss: 0.004536 | Val Acc: 0.337503 loss: 7.317969\n",
            "[720/3000] Train Acc: 0.998335 Loss: 0.005741 | Val Acc: 0.346177 loss: 7.149996\n",
            "[721/3000] Train Acc: 0.998235 Loss: 0.005214 | Val Acc: 0.338511 loss: 7.170538\n",
            "[722/3000] Train Acc: 0.997881 Loss: 0.005649 | Val Acc: 0.343151 loss: 7.091704\n",
            "[723/3000] Train Acc: 0.998235 Loss: 0.004867 | Val Acc: 0.345572 loss: 6.981668\n",
            "[724/3000] Train Acc: 0.998335 Loss: 0.005689 | Val Acc: 0.350414 loss: 6.986426\n",
            "[725/3000] Train Acc: 0.998083 Loss: 0.005911 | Val Acc: 0.351624 loss: 6.780144\n",
            "[726/3000] Train Acc: 0.998235 Loss: 0.005489 | Val Acc: 0.354045 loss: 6.557636\n",
            "[727/3000] Train Acc: 0.997579 Loss: 0.006883 | Val Acc: 0.346177 loss: 6.858429\n",
            "[728/3000] Train Acc: 0.998285 Loss: 0.006347 | Val Acc: 0.348598 loss: 6.973824\n",
            "[729/3000] Train Acc: 0.998083 Loss: 0.005943 | Val Acc: 0.345774 loss: 6.884349\n",
            "[730/3000] Train Acc: 0.998184 Loss: 0.004606 | Val Acc: 0.350817 loss: 6.672519\n",
            "[731/3000] Train Acc: 0.997982 Loss: 0.005460 | Val Acc: 0.339722 loss: 7.055911\n",
            "[732/3000] Train Acc: 0.998588 Loss: 0.004729 | Val Acc: 0.346581 loss: 6.977439\n",
            "[733/3000] Train Acc: 0.998235 Loss: 0.004755 | Val Acc: 0.338309 loss: 7.082225\n",
            "[734/3000] Train Acc: 0.998285 Loss: 0.005025 | Val Acc: 0.351422 loss: 6.828036\n",
            "[735/3000] Train Acc: 0.997781 Loss: 0.006016 | Val Acc: 0.355053 loss: 6.711768\n",
            "[736/3000] Train Acc: 0.998739 Loss: 0.004335 | Val Acc: 0.341941 loss: 6.893734\n",
            "[737/3000] Train Acc: 0.997680 Loss: 0.007015 | Val Acc: 0.354045 loss: 6.558942\n",
            "[738/3000] Train Acc: 0.998184 Loss: 0.006484 | Val Acc: 0.338511 loss: 7.065124\n",
            "[739/3000] Train Acc: 0.997932 Loss: 0.006396 | Val Acc: 0.356062 loss: 6.670748\n",
            "[740/3000] Train Acc: 0.998033 Loss: 0.005331 | Val Acc: 0.341537 loss: 7.054741\n",
            "[741/3000] Train Acc: 0.998235 Loss: 0.005277 | Val Acc: 0.359290 loss: 6.693482\n",
            "[742/3000] Train Acc: 0.997982 Loss: 0.005990 | Val Acc: 0.351422 loss: 6.860365\n",
            "[743/3000] Train Acc: 0.998235 Loss: 0.004927 | Val Acc: 0.350212 loss: 6.772121\n",
            "[744/3000] Train Acc: 0.998134 Loss: 0.005793 | Val Acc: 0.340730 loss: 7.056592\n",
            "[745/3000] Train Acc: 0.998235 Loss: 0.004897 | Val Acc: 0.348598 loss: 6.805529\n",
            "[746/3000] Train Acc: 0.998083 Loss: 0.006266 | Val Acc: 0.349405 loss: 6.747980\n",
            "[747/3000] Train Acc: 0.998235 Loss: 0.005436 | Val Acc: 0.343353 loss: 7.046652\n",
            "[748/3000] Train Acc: 0.998487 Loss: 0.004972 | Val Acc: 0.346581 loss: 7.092488\n",
            "[749/3000] Train Acc: 0.998537 Loss: 0.004217 | Val Acc: 0.348194 loss: 6.940434\n",
            "[750/3000] Train Acc: 0.997982 Loss: 0.006408 | Val Acc: 0.349607 loss: 6.696195\n",
            "[751/3000] Train Acc: 0.998184 Loss: 0.005627 | Val Acc: 0.346782 loss: 6.955519\n",
            "[752/3000] Train Acc: 0.998537 Loss: 0.005412 | Val Acc: 0.337704 loss: 7.137216\n",
            "[753/3000] Train Acc: 0.998083 Loss: 0.006191 | Val Acc: 0.343555 loss: 6.903453\n",
            "[754/3000] Train Acc: 0.998537 Loss: 0.004586 | Val Acc: 0.338108 loss: 7.140714\n",
            "[755/3000] Train Acc: 0.998235 Loss: 0.005631 | Val Acc: 0.340730 loss: 7.086065\n",
            "[756/3000] Train Acc: 0.998033 Loss: 0.005287 | Val Acc: 0.341941 loss: 7.051717\n",
            "[757/3000] Train Acc: 0.998436 Loss: 0.004792 | Val Acc: 0.345370 loss: 6.851158\n",
            "[758/3000] Train Acc: 0.998739 Loss: 0.004599 | Val Acc: 0.354045 loss: 6.671158\n",
            "[759/3000] Train Acc: 0.998184 Loss: 0.005519 | Val Acc: 0.345975 loss: 6.812015\n",
            "[760/3000] Train Acc: 0.997932 Loss: 0.005091 | Val Acc: 0.347388 loss: 6.989124\n",
            "[761/3000] Train Acc: 0.998638 Loss: 0.004349 | Val Acc: 0.344765 loss: 6.816276\n",
            "[762/3000] Train Acc: 0.998689 Loss: 0.004838 | Val Acc: 0.347993 loss: 7.068134\n",
            "[763/3000] Train Acc: 0.997982 Loss: 0.006630 | Val Acc: 0.344362 loss: 6.817507\n",
            "[764/3000] Train Acc: 0.998033 Loss: 0.006093 | Val Acc: 0.353036 loss: 6.794161\n",
            "[765/3000] Train Acc: 0.998184 Loss: 0.005336 | Val Acc: 0.348800 loss: 7.048898\n",
            "[766/3000] Train Acc: 0.998285 Loss: 0.005015 | Val Acc: 0.343151 loss: 6.991447\n",
            "[767/3000] Train Acc: 0.997932 Loss: 0.006472 | Val Acc: 0.347589 loss: 6.870128\n",
            "[768/3000] Train Acc: 0.997932 Loss: 0.006027 | Val Acc: 0.358483 loss: 6.504577\n",
            "[769/3000] Train Acc: 0.998487 Loss: 0.005137 | Val Acc: 0.342748 loss: 6.900315\n",
            "[770/3000] Train Acc: 0.997881 Loss: 0.005356 | Val Acc: 0.346782 loss: 6.950047\n",
            "[771/3000] Train Acc: 0.998588 Loss: 0.005014 | Val Acc: 0.351422 loss: 6.893101\n",
            "[772/3000] Train Acc: 0.998386 Loss: 0.005443 | Val Acc: 0.344967 loss: 6.812173\n",
            "[773/3000] Train Acc: 0.998638 Loss: 0.005258 | Val Acc: 0.349405 loss: 6.670132\n",
            "[774/3000] Train Acc: 0.998184 Loss: 0.005336 | Val Acc: 0.351220 loss: 6.747658\n",
            "[775/3000] Train Acc: 0.998033 Loss: 0.006075 | Val Acc: 0.358079 loss: 6.912763\n",
            "[776/3000] Train Acc: 0.998335 Loss: 0.005485 | Val Acc: 0.358281 loss: 6.676349\n",
            "[777/3000] Train Acc: 0.998739 Loss: 0.004338 | Val Acc: 0.347993 loss: 6.867660\n",
            "[778/3000] Train Acc: 0.998335 Loss: 0.005164 | Val Acc: 0.345370 loss: 6.941634\n",
            "[779/3000] Train Acc: 0.998184 Loss: 0.005169 | Val Acc: 0.349607 loss: 6.720691\n",
            "[780/3000] Train Acc: 0.998840 Loss: 0.004759 | Val Acc: 0.347388 loss: 6.901271\n",
            "[781/3000] Train Acc: 0.998033 Loss: 0.005710 | Val Acc: 0.343756 loss: 7.066902\n",
            "[782/3000] Train Acc: 0.998285 Loss: 0.006469 | Val Acc: 0.335889 loss: 6.964447\n",
            "[783/3000] Train Acc: 0.998285 Loss: 0.004901 | Val Acc: 0.349203 loss: 6.903096\n",
            "[784/3000] Train Acc: 0.997579 Loss: 0.007350 | Val Acc: 0.357878 loss: 6.600520\n",
            "[785/3000] Train Acc: 0.997932 Loss: 0.006021 | Val Acc: 0.343353 loss: 6.965575\n",
            "[786/3000] Train Acc: 0.998235 Loss: 0.006629 | Val Acc: 0.348194 loss: 6.971372\n",
            "[787/3000] Train Acc: 0.998487 Loss: 0.005084 | Val Acc: 0.347388 loss: 6.871258\n",
            "[788/3000] Train Acc: 0.999142 Loss: 0.004099 | Val Acc: 0.347791 loss: 6.928161\n",
            "[789/3000] Train Acc: 0.998386 Loss: 0.005435 | Val Acc: 0.346177 loss: 7.148814\n",
            "[790/3000] Train Acc: 0.998083 Loss: 0.005500 | Val Acc: 0.347589 loss: 6.945704\n",
            "[791/3000] Train Acc: 0.997730 Loss: 0.006313 | Val Acc: 0.338309 loss: 7.055209\n",
            "[792/3000] Train Acc: 0.998235 Loss: 0.005297 | Val Acc: 0.343353 loss: 6.876496\n",
            "[793/3000] Train Acc: 0.998134 Loss: 0.005592 | Val Acc: 0.350212 loss: 6.719655\n",
            "[794/3000] Train Acc: 0.998386 Loss: 0.004789 | Val Acc: 0.345572 loss: 6.872552\n",
            "[795/3000] Train Acc: 0.997932 Loss: 0.006428 | Val Acc: 0.346379 loss: 6.952451\n",
            "[796/3000] Train Acc: 0.997881 Loss: 0.006197 | Val Acc: 0.338713 loss: 7.200664\n",
            "[797/3000] Train Acc: 0.998285 Loss: 0.006611 | Val Acc: 0.354852 loss: 6.639710\n",
            "[798/3000] Train Acc: 0.998487 Loss: 0.004644 | Val Acc: 0.351624 loss: 6.850170\n",
            "[799/3000] Train Acc: 0.998436 Loss: 0.004747 | Val Acc: 0.347589 loss: 6.880049\n",
            "[800/3000] Train Acc: 0.998235 Loss: 0.005399 | Val Acc: 0.349001 loss: 7.005524\n",
            "[801/3000] Train Acc: 0.998033 Loss: 0.005970 | Val Acc: 0.345572 loss: 7.070866\n",
            "[802/3000] Train Acc: 0.997982 Loss: 0.006011 | Val Acc: 0.341537 loss: 7.285402\n",
            "[803/3000] Train Acc: 0.998386 Loss: 0.004620 | Val Acc: 0.345975 loss: 6.881737\n",
            "[804/3000] Train Acc: 0.998487 Loss: 0.004353 | Val Acc: 0.352834 loss: 6.663141\n",
            "[805/3000] Train Acc: 0.998436 Loss: 0.005009 | Val Acc: 0.351422 loss: 6.844757\n",
            "[806/3000] Train Acc: 0.997982 Loss: 0.006218 | Val Acc: 0.357273 loss: 6.649185\n",
            "[807/3000] Train Acc: 0.998083 Loss: 0.006553 | Val Acc: 0.345572 loss: 6.910497\n",
            "[808/3000] Train Acc: 0.998184 Loss: 0.005790 | Val Acc: 0.352834 loss: 6.812996\n",
            "[809/3000] Train Acc: 0.998285 Loss: 0.005271 | Val Acc: 0.362719 loss: 6.657591\n",
            "[810/3000] Train Acc: 0.998235 Loss: 0.005369 | Val Acc: 0.342949 loss: 6.788043\n",
            "[811/3000] Train Acc: 0.997730 Loss: 0.007563 | Val Acc: 0.342142 loss: 7.027216\n",
            "[812/3000] Train Acc: 0.998083 Loss: 0.005701 | Val Acc: 0.352834 loss: 6.795879\n",
            "[813/3000] Train Acc: 0.998436 Loss: 0.005196 | Val Acc: 0.342546 loss: 7.011636\n",
            "[814/3000] Train Acc: 0.998134 Loss: 0.005876 | Val Acc: 0.353440 loss: 6.683660\n",
            "[815/3000] Train Acc: 0.997881 Loss: 0.005529 | Val Acc: 0.359290 loss: 6.673335\n",
            "[816/3000] Train Acc: 0.998537 Loss: 0.004536 | Val Acc: 0.351220 loss: 6.772674\n",
            "[817/3000] Train Acc: 0.998386 Loss: 0.005169 | Val Acc: 0.348800 loss: 7.094172\n",
            "[818/3000] Train Acc: 0.997680 Loss: 0.006368 | Val Acc: 0.347993 loss: 6.706172\n",
            "[819/3000] Train Acc: 0.997982 Loss: 0.005603 | Val Acc: 0.353036 loss: 6.725664\n",
            "[820/3000] Train Acc: 0.998083 Loss: 0.006483 | Val Acc: 0.350414 loss: 6.643827\n",
            "[821/3000] Train Acc: 0.998335 Loss: 0.004891 | Val Acc: 0.344765 loss: 6.909378\n",
            "[822/3000] Train Acc: 0.998436 Loss: 0.005790 | Val Acc: 0.351624 loss: 6.779388\n",
            "[823/3000] Train Acc: 0.998083 Loss: 0.005351 | Val Acc: 0.354852 loss: 6.543242\n",
            "[824/3000] Train Acc: 0.998033 Loss: 0.005327 | Val Acc: 0.344563 loss: 6.981647\n",
            "[825/3000] Train Acc: 0.997932 Loss: 0.006019 | Val Acc: 0.349405 loss: 6.827898\n",
            "[826/3000] Train Acc: 0.997730 Loss: 0.007271 | Val Acc: 0.339722 loss: 7.139720\n",
            "[827/3000] Train Acc: 0.997781 Loss: 0.005861 | Val Acc: 0.343353 loss: 7.060202\n",
            "[828/3000] Train Acc: 0.998840 Loss: 0.004510 | Val Acc: 0.361711 loss: 6.511050\n",
            "[829/3000] Train Acc: 0.997881 Loss: 0.005760 | Val Acc: 0.349001 loss: 6.969314\n",
            "[830/3000] Train Acc: 0.997982 Loss: 0.005716 | Val Acc: 0.358079 loss: 6.744504\n",
            "[831/3000] Train Acc: 0.998386 Loss: 0.004939 | Val Acc: 0.348396 loss: 6.765065\n",
            "[832/3000] Train Acc: 0.998184 Loss: 0.005901 | Val Acc: 0.357273 loss: 6.753739\n",
            "[833/3000] Train Acc: 0.997579 Loss: 0.006898 | Val Acc: 0.349607 loss: 6.670043\n",
            "[834/3000] Train Acc: 0.998487 Loss: 0.005188 | Val Acc: 0.343353 loss: 6.882459\n",
            "[835/3000] Train Acc: 0.998335 Loss: 0.004908 | Val Acc: 0.351422 loss: 7.012775\n",
            "[836/3000] Train Acc: 0.998235 Loss: 0.005155 | Val Acc: 0.343353 loss: 7.143337\n",
            "[837/3000] Train Acc: 0.998436 Loss: 0.005676 | Val Acc: 0.348800 loss: 6.730199\n",
            "[838/3000] Train Acc: 0.997932 Loss: 0.007284 | Val Acc: 0.345168 loss: 7.220024\n",
            "[839/3000] Train Acc: 0.998285 Loss: 0.004860 | Val Acc: 0.344160 loss: 6.943543\n",
            "[840/3000] Train Acc: 0.997831 Loss: 0.006474 | Val Acc: 0.347186 loss: 6.882857\n",
            "[841/3000] Train Acc: 0.997932 Loss: 0.005594 | Val Acc: 0.344563 loss: 7.035159\n",
            "[842/3000] Train Acc: 0.998335 Loss: 0.005261 | Val Acc: 0.345370 loss: 7.052500\n",
            "[843/3000] Train Acc: 0.997831 Loss: 0.006830 | Val Acc: 0.355659 loss: 6.691913\n",
            "[844/3000] Train Acc: 0.997831 Loss: 0.006078 | Val Acc: 0.346782 loss: 6.871075\n",
            "[845/3000] Train Acc: 0.998638 Loss: 0.004020 | Val Acc: 0.348396 loss: 6.748283\n",
            "[846/3000] Train Acc: 0.998235 Loss: 0.005511 | Val Acc: 0.352431 loss: 6.771291\n",
            "[847/3000] Train Acc: 0.998487 Loss: 0.004675 | Val Acc: 0.343353 loss: 7.004038\n",
            "[848/3000] Train Acc: 0.998083 Loss: 0.005405 | Val Acc: 0.355255 loss: 6.780541\n",
            "[849/3000] Train Acc: 0.997932 Loss: 0.005527 | Val Acc: 0.344563 loss: 7.133302\n",
            "[850/3000] Train Acc: 0.998033 Loss: 0.005992 | Val Acc: 0.356264 loss: 6.831907\n",
            "[851/3000] Train Acc: 0.997982 Loss: 0.005894 | Val Acc: 0.354650 loss: 6.713185\n",
            "[852/3000] Train Acc: 0.997881 Loss: 0.005938 | Val Acc: 0.353843 loss: 6.801032\n",
            "[853/3000] Train Acc: 0.998739 Loss: 0.005193 | Val Acc: 0.351624 loss: 6.623873\n",
            "[854/3000] Train Acc: 0.998033 Loss: 0.005857 | Val Acc: 0.349203 loss: 7.063868\n",
            "[855/3000] Train Acc: 0.997781 Loss: 0.006498 | Val Acc: 0.357071 loss: 6.671127\n",
            "[856/3000] Train Acc: 0.998083 Loss: 0.005977 | Val Acc: 0.344362 loss: 7.078120\n",
            "[857/3000] Train Acc: 0.998184 Loss: 0.005755 | Val Acc: 0.352431 loss: 6.586117\n",
            "[858/3000] Train Acc: 0.998537 Loss: 0.005079 | Val Acc: 0.343958 loss: 7.068700\n",
            "[859/3000] Train Acc: 0.998789 Loss: 0.004708 | Val Acc: 0.352229 loss: 6.924249\n",
            "[860/3000] Train Acc: 0.998789 Loss: 0.004963 | Val Acc: 0.345975 loss: 6.985561\n",
            "[861/3000] Train Acc: 0.997730 Loss: 0.007335 | Val Acc: 0.341537 loss: 6.931455\n",
            "[862/3000] Train Acc: 0.997881 Loss: 0.005923 | Val Acc: 0.353843 loss: 6.732346\n",
            "[863/3000] Train Acc: 0.998335 Loss: 0.005297 | Val Acc: 0.352431 loss: 6.793858\n",
            "[864/3000] Train Acc: 0.998436 Loss: 0.004692 | Val Acc: 0.342949 loss: 6.951762\n",
            "[865/3000] Train Acc: 0.998083 Loss: 0.004935 | Val Acc: 0.346782 loss: 6.859569\n",
            "[866/3000] Train Acc: 0.998537 Loss: 0.004504 | Val Acc: 0.342344 loss: 7.375259\n",
            "[867/3000] Train Acc: 0.998386 Loss: 0.005755 | Val Acc: 0.351019 loss: 6.773506\n",
            "[868/3000] Train Acc: 0.998638 Loss: 0.004448 | Val Acc: 0.352431 loss: 6.663982\n",
            "[869/3000] Train Acc: 0.998184 Loss: 0.005060 | Val Acc: 0.346782 loss: 6.849693\n",
            "[870/3000] Train Acc: 0.998184 Loss: 0.005956 | Val Acc: 0.343555 loss: 6.935141\n",
            "[871/3000] Train Acc: 0.997982 Loss: 0.005633 | Val Acc: 0.350817 loss: 6.624255\n",
            "[872/3000] Train Acc: 0.997881 Loss: 0.005940 | Val Acc: 0.336090 loss: 7.205807\n",
            "[873/3000] Train Acc: 0.998083 Loss: 0.005464 | Val Acc: 0.357071 loss: 6.628516\n",
            "[874/3000] Train Acc: 0.998235 Loss: 0.004946 | Val Acc: 0.346379 loss: 6.893612\n",
            "[875/3000] Train Acc: 0.998285 Loss: 0.004926 | Val Acc: 0.355457 loss: 6.726911\n",
            "[876/3000] Train Acc: 0.997528 Loss: 0.006617 | Val Acc: 0.348598 loss: 7.027858\n",
            "[877/3000] Train Acc: 0.998134 Loss: 0.005101 | Val Acc: 0.346177 loss: 7.017407\n",
            "[878/3000] Train Acc: 0.998285 Loss: 0.005100 | Val Acc: 0.355255 loss: 6.512336\n",
            "[879/3000] Train Acc: 0.998386 Loss: 0.005260 | Val Acc: 0.352027 loss: 6.902191\n",
            "[880/3000] Train Acc: 0.998436 Loss: 0.004873 | Val Acc: 0.343756 loss: 7.040855\n",
            "[881/3000] Train Acc: 0.998537 Loss: 0.004976 | Val Acc: 0.349607 loss: 6.981623\n",
            "[882/3000] Train Acc: 0.998335 Loss: 0.004825 | Val Acc: 0.346581 loss: 6.903302\n",
            "[883/3000] Train Acc: 0.998083 Loss: 0.005646 | Val Acc: 0.340932 loss: 6.901466\n",
            "[884/3000] Train Acc: 0.997781 Loss: 0.005733 | Val Acc: 0.350817 loss: 6.866648\n",
            "[885/3000] Train Acc: 0.997680 Loss: 0.006586 | Val Acc: 0.343353 loss: 6.814720\n",
            "[886/3000] Train Acc: 0.998588 Loss: 0.004415 | Val Acc: 0.348598 loss: 6.923830\n",
            "[887/3000] Train Acc: 0.998134 Loss: 0.005600 | Val Acc: 0.345774 loss: 6.828976\n",
            "[888/3000] Train Acc: 0.998840 Loss: 0.004673 | Val Acc: 0.354448 loss: 6.719409\n",
            "[889/3000] Train Acc: 0.997781 Loss: 0.006958 | Val Acc: 0.349405 loss: 6.908786\n",
            "[890/3000] Train Acc: 0.998335 Loss: 0.004335 | Val Acc: 0.352229 loss: 6.922264\n",
            "[891/3000] Train Acc: 0.998386 Loss: 0.005033 | Val Acc: 0.347993 loss: 6.912525\n",
            "[892/3000] Train Acc: 0.997982 Loss: 0.006235 | Val Acc: 0.335687 loss: 7.229906\n",
            "[893/3000] Train Acc: 0.998335 Loss: 0.004577 | Val Acc: 0.351826 loss: 6.747849\n",
            "[894/3000] Train Acc: 0.998386 Loss: 0.005456 | Val Acc: 0.342344 loss: 7.177633\n",
            "[895/3000] Train Acc: 0.998638 Loss: 0.004847 | Val Acc: 0.351019 loss: 6.667097\n",
            "[896/3000] Train Acc: 0.998436 Loss: 0.004658 | Val Acc: 0.353238 loss: 6.641359\n",
            "[897/3000] Train Acc: 0.997680 Loss: 0.006835 | Val Acc: 0.349203 loss: 6.732839\n",
            "[898/3000] Train Acc: 0.998487 Loss: 0.005350 | Val Acc: 0.343353 loss: 6.971621\n",
            "[899/3000] Train Acc: 0.998689 Loss: 0.004725 | Val Acc: 0.358483 loss: 6.643730\n",
            "[900/3000] Train Acc: 0.997781 Loss: 0.006404 | Val Acc: 0.350817 loss: 6.829097\n",
            "[901/3000] Train Acc: 0.998235 Loss: 0.005547 | Val Acc: 0.352633 loss: 6.684068\n",
            "[902/3000] Train Acc: 0.998487 Loss: 0.005181 | Val Acc: 0.342546 loss: 7.005261\n",
            "[903/3000] Train Acc: 0.998285 Loss: 0.006035 | Val Acc: 0.353641 loss: 6.805142\n",
            "[904/3000] Train Acc: 0.998335 Loss: 0.005325 | Val Acc: 0.346177 loss: 6.878842\n",
            "[905/3000] Train Acc: 0.998436 Loss: 0.005300 | Val Acc: 0.347993 loss: 6.916103\n",
            "[906/3000] Train Acc: 0.997932 Loss: 0.005857 | Val Acc: 0.341537 loss: 7.182613\n",
            "[907/3000] Train Acc: 0.998083 Loss: 0.005405 | Val Acc: 0.348396 loss: 6.737359\n",
            "[908/3000] Train Acc: 0.998588 Loss: 0.005040 | Val Acc: 0.352027 loss: 6.724161\n",
            "[909/3000] Train Acc: 0.998134 Loss: 0.005783 | Val Acc: 0.350212 loss: 6.896946\n",
            "[910/3000] Train Acc: 0.998184 Loss: 0.006372 | Val Acc: 0.353238 loss: 6.919476\n",
            "[911/3000] Train Acc: 0.997881 Loss: 0.006110 | Val Acc: 0.342949 loss: 6.906773\n",
            "[912/3000] Train Acc: 0.998487 Loss: 0.005136 | Val Acc: 0.340125 loss: 7.012569\n",
            "[913/3000] Train Acc: 0.998134 Loss: 0.005341 | Val Acc: 0.345774 loss: 6.942165\n",
            "[914/3000] Train Acc: 0.997629 Loss: 0.006186 | Val Acc: 0.329837 loss: 7.145556\n",
            "[915/3000] Train Acc: 0.998285 Loss: 0.005759 | Val Acc: 0.347186 loss: 6.867281\n",
            "[916/3000] Train Acc: 0.998235 Loss: 0.005169 | Val Acc: 0.343151 loss: 7.055382\n",
            "[917/3000] Train Acc: 0.998386 Loss: 0.005039 | Val Acc: 0.357676 loss: 6.785457\n",
            "[918/3000] Train Acc: 0.998588 Loss: 0.005857 | Val Acc: 0.352834 loss: 6.759198\n",
            "[919/3000] Train Acc: 0.998184 Loss: 0.005384 | Val Acc: 0.357273 loss: 6.657310\n",
            "[920/3000] Train Acc: 0.998134 Loss: 0.005640 | Val Acc: 0.341537 loss: 6.913119\n",
            "[921/3000] Train Acc: 0.998184 Loss: 0.005192 | Val Acc: 0.336696 loss: 7.241480\n",
            "[922/3000] Train Acc: 0.998134 Loss: 0.005655 | Val Acc: 0.345168 loss: 7.002588\n",
            "[923/3000] Train Acc: 0.998083 Loss: 0.005786 | Val Acc: 0.354045 loss: 6.622680\n",
            "[924/3000] Train Acc: 0.997932 Loss: 0.005556 | Val Acc: 0.350615 loss: 6.795609\n",
            "[925/3000] Train Acc: 0.998285 Loss: 0.005100 | Val Acc: 0.347993 loss: 6.978917\n",
            "[926/3000] Train Acc: 0.998487 Loss: 0.004212 | Val Acc: 0.337704 loss: 7.318953\n",
            "[927/3000] Train Acc: 0.998537 Loss: 0.004479 | Val Acc: 0.343756 loss: 6.992932\n",
            "[928/3000] Train Acc: 0.999092 Loss: 0.003812 | Val Acc: 0.342748 loss: 7.010540\n",
            "[929/3000] Train Acc: 0.998335 Loss: 0.005659 | Val Acc: 0.343756 loss: 7.032780\n",
            "[930/3000] Train Acc: 0.998638 Loss: 0.004697 | Val Acc: 0.361711 loss: 6.633372\n",
            "[931/3000] Train Acc: 0.998335 Loss: 0.005293 | Val Acc: 0.346782 loss: 6.975749\n",
            "[932/3000] Train Acc: 0.998335 Loss: 0.005711 | Val Acc: 0.351422 loss: 6.871747\n",
            "[933/3000] Train Acc: 0.997781 Loss: 0.005799 | Val Acc: 0.356869 loss: 6.829220\n",
            "[934/3000] Train Acc: 0.997932 Loss: 0.005193 | Val Acc: 0.341335 loss: 7.172800\n",
            "[935/3000] Train Acc: 0.998335 Loss: 0.004776 | Val Acc: 0.352834 loss: 6.911711\n",
            "[936/3000] Train Acc: 0.998335 Loss: 0.005446 | Val Acc: 0.350212 loss: 6.738986\n",
            "[937/3000] Train Acc: 0.997982 Loss: 0.007374 | Val Acc: 0.341941 loss: 7.100702\n",
            "[938/3000] Train Acc: 0.997629 Loss: 0.007180 | Val Acc: 0.349808 loss: 6.851625\n",
            "[939/3000] Train Acc: 0.998436 Loss: 0.004722 | Val Acc: 0.351624 loss: 6.874312\n",
            "[940/3000] Train Acc: 0.998033 Loss: 0.005632 | Val Acc: 0.348598 loss: 6.897152\n",
            "[941/3000] Train Acc: 0.997982 Loss: 0.005539 | Val Acc: 0.352834 loss: 6.736560\n",
            "[942/3000] Train Acc: 0.998285 Loss: 0.005130 | Val Acc: 0.330845 loss: 7.409706\n",
            "[943/3000] Train Acc: 0.998386 Loss: 0.004832 | Val Acc: 0.348800 loss: 6.991667\n",
            "[944/3000] Train Acc: 0.998890 Loss: 0.004103 | Val Acc: 0.345975 loss: 6.942076\n",
            "[945/3000] Train Acc: 0.998386 Loss: 0.006075 | Val Acc: 0.345774 loss: 6.950059\n",
            "[946/3000] Train Acc: 0.998184 Loss: 0.006141 | Val Acc: 0.352431 loss: 6.762320\n",
            "[947/3000] Train Acc: 0.997226 Loss: 0.006505 | Val Acc: 0.343958 loss: 6.771841\n",
            "[948/3000] Train Acc: 0.998436 Loss: 0.004408 | Val Acc: 0.342142 loss: 7.063820\n",
            "[949/3000] Train Acc: 0.997680 Loss: 0.006531 | Val Acc: 0.347186 loss: 6.941329\n",
            "[950/3000] Train Acc: 0.998335 Loss: 0.005065 | Val Acc: 0.349001 loss: 7.032261\n",
            "[951/3000] Train Acc: 0.997730 Loss: 0.006459 | Val Acc: 0.350414 loss: 6.597251\n",
            "[952/3000] Train Acc: 0.999092 Loss: 0.004110 | Val Acc: 0.340529 loss: 6.918578\n",
            "[953/3000] Train Acc: 0.998083 Loss: 0.006093 | Val Acc: 0.351422 loss: 6.711511\n",
            "[954/3000] Train Acc: 0.997881 Loss: 0.006435 | Val Acc: 0.353843 loss: 6.730323\n",
            "[955/3000] Train Acc: 0.998436 Loss: 0.005223 | Val Acc: 0.353440 loss: 6.863007\n",
            "[956/3000] Train Acc: 0.998285 Loss: 0.005835 | Val Acc: 0.348800 loss: 6.843740\n",
            "[957/3000] Train Acc: 0.998487 Loss: 0.004917 | Val Acc: 0.345168 loss: 7.056660\n",
            "[958/3000] Train Acc: 0.998487 Loss: 0.004371 | Val Acc: 0.346379 loss: 7.041658\n",
            "[959/3000] Train Acc: 0.998537 Loss: 0.004671 | Val Acc: 0.344765 loss: 6.884206\n",
            "[960/3000] Train Acc: 0.997982 Loss: 0.006360 | Val Acc: 0.355457 loss: 6.868817\n",
            "[961/3000] Train Acc: 0.998689 Loss: 0.003823 | Val Acc: 0.342748 loss: 6.999045\n",
            "[962/3000] Train Acc: 0.998386 Loss: 0.005109 | Val Acc: 0.349607 loss: 6.967838\n",
            "[963/3000] Train Acc: 0.998588 Loss: 0.004475 | Val Acc: 0.345774 loss: 7.015440\n",
            "[964/3000] Train Acc: 0.997881 Loss: 0.005773 | Val Acc: 0.349405 loss: 6.828593\n",
            "[965/3000] Train Acc: 0.998083 Loss: 0.006473 | Val Acc: 0.344967 loss: 6.893373\n",
            "[966/3000] Train Acc: 0.998134 Loss: 0.006020 | Val Acc: 0.352229 loss: 6.648599\n",
            "[967/3000] Train Acc: 0.998436 Loss: 0.006189 | Val Acc: 0.347791 loss: 6.902914\n",
            "[968/3000] Train Acc: 0.998184 Loss: 0.005634 | Val Acc: 0.346379 loss: 7.119345\n",
            "[969/3000] Train Acc: 0.998386 Loss: 0.005488 | Val Acc: 0.354852 loss: 6.757821\n",
            "[970/3000] Train Acc: 0.998184 Loss: 0.005800 | Val Acc: 0.348194 loss: 6.940970\n",
            "[971/3000] Train Acc: 0.997982 Loss: 0.005463 | Val Acc: 0.355860 loss: 6.473781\n",
            "[972/3000] Train Acc: 0.998184 Loss: 0.005091 | Val Acc: 0.347791 loss: 6.827809\n",
            "[973/3000] Train Acc: 0.998033 Loss: 0.005799 | Val Acc: 0.347186 loss: 6.892464\n",
            "[974/3000] Train Acc: 0.998436 Loss: 0.004928 | Val Acc: 0.338309 loss: 7.010377\n",
            "[975/3000] Train Acc: 0.998537 Loss: 0.005509 | Val Acc: 0.357474 loss: 6.879644\n",
            "[976/3000] Train Acc: 0.998436 Loss: 0.004428 | Val Acc: 0.337906 loss: 7.240552\n",
            "[977/3000] Train Acc: 0.997579 Loss: 0.006625 | Val Acc: 0.353238 loss: 6.826940\n",
            "[978/3000] Train Acc: 0.997831 Loss: 0.006206 | Val Acc: 0.336897 loss: 7.056020\n",
            "[979/3000] Train Acc: 0.997781 Loss: 0.006678 | Val Acc: 0.354448 loss: 6.727667\n",
            "[980/3000] Train Acc: 0.998386 Loss: 0.004674 | Val Acc: 0.341739 loss: 7.153691\n",
            "[981/3000] Train Acc: 0.998739 Loss: 0.004224 | Val Acc: 0.354852 loss: 6.774163\n",
            "[982/3000] Train Acc: 0.998285 Loss: 0.005224 | Val Acc: 0.349607 loss: 6.898123\n",
            "[983/3000] Train Acc: 0.997982 Loss: 0.006087 | Val Acc: 0.342748 loss: 7.171620\n",
            "[984/3000] Train Acc: 0.998335 Loss: 0.005338 | Val Acc: 0.352633 loss: 6.676803\n",
            "[985/3000] Train Acc: 0.998235 Loss: 0.004972 | Val Acc: 0.357878 loss: 6.701673\n",
            "[986/3000] Train Acc: 0.998083 Loss: 0.005549 | Val Acc: 0.352431 loss: 6.741043\n",
            "[987/3000] Train Acc: 0.997881 Loss: 0.006782 | Val Acc: 0.349001 loss: 6.847627\n",
            "[988/3000] Train Acc: 0.998033 Loss: 0.005566 | Val Acc: 0.339318 loss: 7.345567\n",
            "[989/3000] Train Acc: 0.998235 Loss: 0.005617 | Val Acc: 0.342748 loss: 7.028820\n",
            "[990/3000] Train Acc: 0.997680 Loss: 0.005956 | Val Acc: 0.340529 loss: 7.274278\n",
            "[991/3000] Train Acc: 0.998184 Loss: 0.005152 | Val Acc: 0.344765 loss: 6.809991\n",
            "[992/3000] Train Acc: 0.998134 Loss: 0.005910 | Val Acc: 0.356667 loss: 6.764592\n",
            "[993/3000] Train Acc: 0.998134 Loss: 0.006323 | Val Acc: 0.349203 loss: 6.992945\n",
            "[994/3000] Train Acc: 0.998436 Loss: 0.005098 | Val Acc: 0.353641 loss: 6.577926\n",
            "[995/3000] Train Acc: 0.997629 Loss: 0.005923 | Val Acc: 0.336090 loss: 7.224615\n",
            "[996/3000] Train Acc: 0.998335 Loss: 0.004901 | Val Acc: 0.349203 loss: 6.937428\n",
            "[997/3000] Train Acc: 0.997831 Loss: 0.006152 | Val Acc: 0.359290 loss: 6.606727\n",
            "[998/3000] Train Acc: 0.998335 Loss: 0.005612 | Val Acc: 0.351826 loss: 6.853125\n",
            "[999/3000] Train Acc: 0.998285 Loss: 0.005704 | Val Acc: 0.345572 loss: 7.045310\n",
            "[1000/3000] Train Acc: 0.998235 Loss: 0.005085 | Val Acc: 0.349808 loss: 6.983962\n",
            "[1001/3000] Train Acc: 0.998588 Loss: 0.004798 | Val Acc: 0.343555 loss: 7.113115\n",
            "[1002/3000] Train Acc: 0.998335 Loss: 0.005036 | Val Acc: 0.347186 loss: 6.956425\n",
            "[1003/3000] Train Acc: 0.997730 Loss: 0.007429 | Val Acc: 0.357474 loss: 6.553898\n",
            "[1004/3000] Train Acc: 0.998487 Loss: 0.005059 | Val Acc: 0.356869 loss: 6.776963\n",
            "[1005/3000] Train Acc: 0.998436 Loss: 0.004893 | Val Acc: 0.349808 loss: 6.786238\n",
            "[1006/3000] Train Acc: 0.998537 Loss: 0.005090 | Val Acc: 0.349607 loss: 6.844827\n",
            "[1007/3000] Train Acc: 0.998487 Loss: 0.004727 | Val Acc: 0.346379 loss: 6.958326\n",
            "[1008/3000] Train Acc: 0.998386 Loss: 0.005081 | Val Acc: 0.358886 loss: 6.664026\n",
            "[1009/3000] Train Acc: 0.998487 Loss: 0.005262 | Val Acc: 0.346782 loss: 6.944552\n",
            "[1010/3000] Train Acc: 0.998638 Loss: 0.004545 | Val Acc: 0.354448 loss: 6.639259\n",
            "[1011/3000] Train Acc: 0.997881 Loss: 0.006255 | Val Acc: 0.345975 loss: 6.881332\n",
            "[1012/3000] Train Acc: 0.998840 Loss: 0.004188 | Val Acc: 0.346782 loss: 6.886775\n",
            "[1013/3000] Train Acc: 0.998436 Loss: 0.004897 | Val Acc: 0.350212 loss: 6.869717\n",
            "[1014/3000] Train Acc: 0.998638 Loss: 0.004494 | Val Acc: 0.353641 loss: 6.679898\n",
            "[1015/3000] Train Acc: 0.998134 Loss: 0.004811 | Val Acc: 0.344160 loss: 6.953153\n",
            "[1016/3000] Train Acc: 0.997831 Loss: 0.005708 | Val Acc: 0.359290 loss: 6.584300\n",
            "[1017/3000] Train Acc: 0.998335 Loss: 0.004787 | Val Acc: 0.338309 loss: 7.096235\n",
            "[1018/3000] Train Acc: 0.998134 Loss: 0.005720 | Val Acc: 0.355860 loss: 6.605751\n",
            "[1019/3000] Train Acc: 0.997932 Loss: 0.005928 | Val Acc: 0.349001 loss: 6.838079\n",
            "[1020/3000] Train Acc: 0.998487 Loss: 0.004660 | Val Acc: 0.345975 loss: 6.849502\n",
            "[1021/3000] Train Acc: 0.998184 Loss: 0.005414 | Val Acc: 0.341134 loss: 6.979629\n",
            "[1022/3000] Train Acc: 0.998487 Loss: 0.004402 | Val Acc: 0.348396 loss: 6.701661\n",
            "[1023/3000] Train Acc: 0.998134 Loss: 0.005107 | Val Acc: 0.343353 loss: 7.045571\n",
            "[1024/3000] Train Acc: 0.998386 Loss: 0.005340 | Val Acc: 0.340125 loss: 6.963795\n",
            "[1025/3000] Train Acc: 0.998285 Loss: 0.004985 | Val Acc: 0.348800 loss: 6.939741\n",
            "[1026/3000] Train Acc: 0.998436 Loss: 0.004483 | Val Acc: 0.350817 loss: 6.887642\n",
            "[1027/3000] Train Acc: 0.997932 Loss: 0.006097 | Val Acc: 0.341739 loss: 7.154930\n",
            "[1028/3000] Train Acc: 0.998840 Loss: 0.004532 | Val Acc: 0.350212 loss: 6.864886\n",
            "[1029/3000] Train Acc: 0.998335 Loss: 0.004929 | Val Acc: 0.347589 loss: 6.853876\n",
            "[1030/3000] Train Acc: 0.998386 Loss: 0.005257 | Val Acc: 0.340730 loss: 6.958435\n",
            "[1031/3000] Train Acc: 0.998083 Loss: 0.005744 | Val Acc: 0.352633 loss: 6.830618\n",
            "[1032/3000] Train Acc: 0.997629 Loss: 0.006729 | Val Acc: 0.346379 loss: 7.101593\n",
            "[1033/3000] Train Acc: 0.998537 Loss: 0.004736 | Val Acc: 0.352431 loss: 6.776719\n",
            "[1034/3000] Train Acc: 0.997781 Loss: 0.005538 | Val Acc: 0.345774 loss: 6.977410\n",
            "[1035/3000] Train Acc: 0.998487 Loss: 0.005106 | Val Acc: 0.344362 loss: 6.915616\n",
            "[1036/3000] Train Acc: 0.998436 Loss: 0.004865 | Val Acc: 0.353036 loss: 6.713127\n",
            "[1037/3000] Train Acc: 0.998487 Loss: 0.004788 | Val Acc: 0.344563 loss: 6.970501\n",
            "[1038/3000] Train Acc: 0.998083 Loss: 0.005310 | Val Acc: 0.354247 loss: 6.863025\n",
            "[1039/3000] Train Acc: 0.997881 Loss: 0.006061 | Val Acc: 0.357878 loss: 6.622581\n",
            "[1040/3000] Train Acc: 0.998235 Loss: 0.005613 | Val Acc: 0.342949 loss: 6.930164\n",
            "[1041/3000] Train Acc: 0.998436 Loss: 0.005296 | Val Acc: 0.341537 loss: 7.024409\n",
            "[1042/3000] Train Acc: 0.998184 Loss: 0.005213 | Val Acc: 0.346581 loss: 6.901579\n",
            "[1043/3000] Train Acc: 0.998436 Loss: 0.004762 | Val Acc: 0.347589 loss: 6.975982\n",
            "[1044/3000] Train Acc: 0.997881 Loss: 0.006147 | Val Acc: 0.354045 loss: 6.677314\n",
            "[1045/3000] Train Acc: 0.998235 Loss: 0.005416 | Val Acc: 0.343555 loss: 6.968790\n",
            "[1046/3000] Train Acc: 0.998184 Loss: 0.005393 | Val Acc: 0.352633 loss: 6.793194\n",
            "[1047/3000] Train Acc: 0.998789 Loss: 0.004182 | Val Acc: 0.343555 loss: 6.720606\n",
            "[1048/3000] Train Acc: 0.998033 Loss: 0.004963 | Val Acc: 0.344160 loss: 6.825659\n",
            "[1049/3000] Train Acc: 0.998235 Loss: 0.004661 | Val Acc: 0.348800 loss: 6.852068\n",
            "[1050/3000] Train Acc: 0.998588 Loss: 0.005088 | Val Acc: 0.353036 loss: 6.713633\n",
            "[1051/3000] Train Acc: 0.998285 Loss: 0.005330 | Val Acc: 0.351220 loss: 6.795220\n",
            "[1052/3000] Train Acc: 0.998285 Loss: 0.005600 | Val Acc: 0.349001 loss: 6.775419\n",
            "[1053/3000] Train Acc: 0.998537 Loss: 0.005210 | Val Acc: 0.348800 loss: 6.810847\n",
            "[1054/3000] Train Acc: 0.998638 Loss: 0.004949 | Val Acc: 0.339923 loss: 7.059500\n",
            "[1055/3000] Train Acc: 0.997881 Loss: 0.005832 | Val Acc: 0.345168 loss: 6.964906\n",
            "[1056/3000] Train Acc: 0.998537 Loss: 0.004735 | Val Acc: 0.344160 loss: 6.908051\n",
            "[1057/3000] Train Acc: 0.998285 Loss: 0.005721 | Val Acc: 0.355659 loss: 6.594787\n",
            "[1058/3000] Train Acc: 0.997982 Loss: 0.005443 | Val Acc: 0.342748 loss: 7.148735\n",
            "[1059/3000] Train Acc: 0.997982 Loss: 0.006057 | Val Acc: 0.357878 loss: 6.578486\n",
            "[1060/3000] Train Acc: 0.998638 Loss: 0.004620 | Val Acc: 0.341941 loss: 7.023424\n",
            "[1061/3000] Train Acc: 0.998588 Loss: 0.004183 | Val Acc: 0.351019 loss: 6.819294\n",
            "[1062/3000] Train Acc: 0.998638 Loss: 0.004361 | Val Acc: 0.350817 loss: 6.755716\n",
            "[1063/3000] Train Acc: 0.998235 Loss: 0.006042 | Val Acc: 0.352027 loss: 6.850753\n",
            "[1064/3000] Train Acc: 0.997831 Loss: 0.005660 | Val Acc: 0.338915 loss: 7.010410\n",
            "[1065/3000] Train Acc: 0.997982 Loss: 0.005995 | Val Acc: 0.350212 loss: 6.906942\n",
            "[1066/3000] Train Acc: 0.998739 Loss: 0.004005 | Val Acc: 0.345975 loss: 6.874124\n",
            "[1067/3000] Train Acc: 0.998890 Loss: 0.004323 | Val Acc: 0.342142 loss: 6.820961\n",
            "[1068/3000] Train Acc: 0.998184 Loss: 0.004808 | Val Acc: 0.341134 loss: 7.089906\n",
            "[1069/3000] Train Acc: 0.998436 Loss: 0.005856 | Val Acc: 0.351422 loss: 6.804843\n",
            "[1070/3000] Train Acc: 0.998638 Loss: 0.004232 | Val Acc: 0.344765 loss: 6.898704\n",
            "[1071/3000] Train Acc: 0.998184 Loss: 0.006469 | Val Acc: 0.341537 loss: 7.150877\n",
            "[1072/3000] Train Acc: 0.998386 Loss: 0.005834 | Val Acc: 0.355860 loss: 6.702049\n",
            "[1073/3000] Train Acc: 0.997680 Loss: 0.005952 | Val Acc: 0.354650 loss: 6.698945\n",
            "[1074/3000] Train Acc: 0.998386 Loss: 0.004771 | Val Acc: 0.346379 loss: 6.799992\n",
            "[1075/3000] Train Acc: 0.998386 Loss: 0.004841 | Val Acc: 0.337503 loss: 7.227758\n",
            "[1076/3000] Train Acc: 0.998134 Loss: 0.006194 | Val Acc: 0.344160 loss: 6.987367\n",
            "[1077/3000] Train Acc: 0.997226 Loss: 0.007506 | Val Acc: 0.351220 loss: 6.639333\n",
            "[1078/3000] Train Acc: 0.998386 Loss: 0.004311 | Val Acc: 0.349607 loss: 6.931483\n",
            "[1079/3000] Train Acc: 0.997579 Loss: 0.006260 | Val Acc: 0.352431 loss: 6.744949\n",
            "[1080/3000] Train Acc: 0.998083 Loss: 0.005019 | Val Acc: 0.345370 loss: 6.837071\n",
            "[1081/3000] Train Acc: 0.998386 Loss: 0.004919 | Val Acc: 0.337704 loss: 7.132625\n",
            "[1082/3000] Train Acc: 0.998083 Loss: 0.006598 | Val Acc: 0.352834 loss: 6.691271\n",
            "[1083/3000] Train Acc: 0.998689 Loss: 0.004384 | Val Acc: 0.344362 loss: 7.081742\n",
            "[1084/3000] Train Acc: 0.998335 Loss: 0.005201 | Val Acc: 0.363123 loss: 6.467038\n",
            "[1085/3000] Train Acc: 0.998588 Loss: 0.004733 | Val Acc: 0.346379 loss: 7.046655\n",
            "[1086/3000] Train Acc: 0.998789 Loss: 0.003963 | Val Acc: 0.347791 loss: 6.945237\n",
            "[1087/3000] Train Acc: 0.998588 Loss: 0.004556 | Val Acc: 0.349808 loss: 6.885358\n",
            "[1088/3000] Train Acc: 0.998134 Loss: 0.005927 | Val Acc: 0.343756 loss: 7.117613\n",
            "[1089/3000] Train Acc: 0.998184 Loss: 0.005957 | Val Acc: 0.356869 loss: 6.685615\n",
            "[1090/3000] Train Acc: 0.998235 Loss: 0.005305 | Val Acc: 0.346782 loss: 6.962026\n",
            "[1091/3000] Train Acc: 0.997982 Loss: 0.005660 | Val Acc: 0.354650 loss: 6.766769\n",
            "[1092/3000] Train Acc: 0.997982 Loss: 0.006387 | Val Acc: 0.346782 loss: 7.010978\n",
            "[1093/3000] Train Acc: 0.998487 Loss: 0.004646 | Val Acc: 0.349808 loss: 6.906653\n",
            "[1094/3000] Train Acc: 0.997881 Loss: 0.006064 | Val Acc: 0.356264 loss: 6.756731\n",
            "[1095/3000] Train Acc: 0.998184 Loss: 0.005472 | Val Acc: 0.356667 loss: 6.649135\n",
            "[1096/3000] Train Acc: 0.997982 Loss: 0.006156 | Val Acc: 0.348396 loss: 6.903390\n",
            "[1097/3000] Train Acc: 0.998184 Loss: 0.005762 | Val Acc: 0.347791 loss: 6.789813\n",
            "[1098/3000] Train Acc: 0.997781 Loss: 0.006735 | Val Acc: 0.346984 loss: 6.872996\n",
            "[1099/3000] Train Acc: 0.998941 Loss: 0.004816 | Val Acc: 0.354045 loss: 6.723523\n",
            "[1100/3000] Train Acc: 0.998134 Loss: 0.005353 | Val Acc: 0.338309 loss: 7.220301\n",
            "[1101/3000] Train Acc: 0.998386 Loss: 0.004194 | Val Acc: 0.343555 loss: 6.836808\n",
            "[1102/3000] Train Acc: 0.997932 Loss: 0.006231 | Val Acc: 0.343756 loss: 7.038381\n",
            "[1103/3000] Train Acc: 0.998134 Loss: 0.006161 | Val Acc: 0.342344 loss: 7.103384\n",
            "[1104/3000] Train Acc: 0.998033 Loss: 0.005708 | Val Acc: 0.347993 loss: 6.922448\n",
            "[1105/3000] Train Acc: 0.998285 Loss: 0.004886 | Val Acc: 0.339722 loss: 7.249505\n",
            "[1106/3000] Train Acc: 0.998134 Loss: 0.005536 | Val Acc: 0.351422 loss: 6.863942\n",
            "[1107/3000] Train Acc: 0.998739 Loss: 0.003759 | Val Acc: 0.352027 loss: 7.027872\n",
            "[1108/3000] Train Acc: 0.998638 Loss: 0.004031 | Val Acc: 0.344563 loss: 6.932436\n",
            "[1109/3000] Train Acc: 0.998689 Loss: 0.004640 | Val Acc: 0.350414 loss: 6.663202\n",
            "[1110/3000] Train Acc: 0.998134 Loss: 0.005020 | Val Acc: 0.352633 loss: 6.832168\n",
            "[1111/3000] Train Acc: 0.998739 Loss: 0.004657 | Val Acc: 0.340529 loss: 6.958098\n",
            "[1112/3000] Train Acc: 0.998083 Loss: 0.005244 | Val Acc: 0.355457 loss: 6.846681\n",
            "[1113/3000] Train Acc: 0.997982 Loss: 0.005637 | Val Acc: 0.350414 loss: 7.000272\n",
            "[1114/3000] Train Acc: 0.998033 Loss: 0.006018 | Val Acc: 0.356264 loss: 6.837615\n",
            "[1115/3000] Train Acc: 0.997831 Loss: 0.007126 | Val Acc: 0.354448 loss: 6.678764\n",
            "[1116/3000] Train Acc: 0.998436 Loss: 0.005232 | Val Acc: 0.346177 loss: 6.972817\n",
            "[1117/3000] Train Acc: 0.998083 Loss: 0.005839 | Val Acc: 0.354045 loss: 6.741915\n",
            "[1118/3000] Train Acc: 0.998588 Loss: 0.005458 | Val Acc: 0.347791 loss: 6.855003\n",
            "[1119/3000] Train Acc: 0.997982 Loss: 0.005910 | Val Acc: 0.351019 loss: 6.813505\n",
            "[1120/3000] Train Acc: 0.998235 Loss: 0.005971 | Val Acc: 0.348396 loss: 6.787517\n",
            "[1121/3000] Train Acc: 0.998386 Loss: 0.005456 | Val Acc: 0.357273 loss: 6.691397\n",
            "[1122/3000] Train Acc: 0.998436 Loss: 0.004492 | Val Acc: 0.353843 loss: 6.742737\n",
            "[1123/3000] Train Acc: 0.998184 Loss: 0.005985 | Val Acc: 0.352229 loss: 6.891171\n",
            "[1124/3000] Train Acc: 0.998487 Loss: 0.004974 | Val Acc: 0.343555 loss: 7.296347\n",
            "[1125/3000] Train Acc: 0.998487 Loss: 0.005258 | Val Acc: 0.351624 loss: 6.800808\n",
            "[1126/3000] Train Acc: 0.998134 Loss: 0.005688 | Val Acc: 0.351826 loss: 6.828683\n",
            "[1127/3000] Train Acc: 0.998134 Loss: 0.005309 | Val Acc: 0.344160 loss: 6.894850\n",
            "[1128/3000] Train Acc: 0.998588 Loss: 0.004917 | Val Acc: 0.346379 loss: 6.999308\n",
            "[1129/3000] Train Acc: 0.998487 Loss: 0.004755 | Val Acc: 0.351826 loss: 6.793692\n",
            "[1130/3000] Train Acc: 0.998134 Loss: 0.005632 | Val Acc: 0.343353 loss: 6.914581\n",
            "[1131/3000] Train Acc: 0.997781 Loss: 0.006272 | Val Acc: 0.344765 loss: 7.035642\n",
            "[1132/3000] Train Acc: 0.998436 Loss: 0.004876 | Val Acc: 0.350212 loss: 6.694598\n",
            "[1133/3000] Train Acc: 0.998739 Loss: 0.004711 | Val Acc: 0.340932 loss: 7.077724\n",
            "[1134/3000] Train Acc: 0.998537 Loss: 0.004523 | Val Acc: 0.353641 loss: 6.728416\n",
            "[1135/3000] Train Acc: 0.997730 Loss: 0.006254 | Val Acc: 0.350817 loss: 6.913195\n",
            "[1136/3000] Train Acc: 0.998588 Loss: 0.004899 | Val Acc: 0.345370 loss: 7.034671\n",
            "[1137/3000] Train Acc: 0.997881 Loss: 0.005215 | Val Acc: 0.343555 loss: 6.893763\n",
            "[1138/3000] Train Acc: 0.997881 Loss: 0.006572 | Val Acc: 0.347388 loss: 6.853127\n",
            "[1139/3000] Train Acc: 0.997881 Loss: 0.006790 | Val Acc: 0.354247 loss: 6.720911\n",
            "[1140/3000] Train Acc: 0.998487 Loss: 0.005091 | Val Acc: 0.340529 loss: 7.081919\n",
            "[1141/3000] Train Acc: 0.997528 Loss: 0.006992 | Val Acc: 0.351019 loss: 6.954420\n",
            "[1142/3000] Train Acc: 0.997579 Loss: 0.006884 | Val Acc: 0.354247 loss: 6.635650\n",
            "[1143/3000] Train Acc: 0.998638 Loss: 0.004263 | Val Acc: 0.354650 loss: 6.766655\n",
            "[1144/3000] Train Acc: 0.998638 Loss: 0.004861 | Val Acc: 0.343151 loss: 6.922034\n",
            "[1145/3000] Train Acc: 0.997932 Loss: 0.006234 | Val Acc: 0.353641 loss: 6.819838\n",
            "[1146/3000] Train Acc: 0.998235 Loss: 0.005947 | Val Acc: 0.354247 loss: 6.641089\n",
            "[1147/3000] Train Acc: 0.998235 Loss: 0.005925 | Val Acc: 0.343353 loss: 7.135359\n",
            "[1148/3000] Train Acc: 0.998436 Loss: 0.004700 | Val Acc: 0.352834 loss: 6.728081\n",
            "[1149/3000] Train Acc: 0.998285 Loss: 0.006957 | Val Acc: 0.351422 loss: 6.830808\n",
            "[1150/3000] Train Acc: 0.998083 Loss: 0.005468 | Val Acc: 0.349808 loss: 7.013113\n",
            "[1151/3000] Train Acc: 0.997831 Loss: 0.006207 | Val Acc: 0.350817 loss: 6.928304\n",
            "[1152/3000] Train Acc: 0.998184 Loss: 0.004810 | Val Acc: 0.352027 loss: 6.823032\n",
            "[1153/3000] Train Acc: 0.998436 Loss: 0.004770 | Val Acc: 0.360904 loss: 6.646998\n",
            "[1154/3000] Train Acc: 0.998033 Loss: 0.005449 | Val Acc: 0.349808 loss: 6.821205\n",
            "[1155/3000] Train Acc: 0.998184 Loss: 0.005335 | Val Acc: 0.343555 loss: 7.142532\n",
            "[1156/3000] Train Acc: 0.998083 Loss: 0.005714 | Val Acc: 0.356466 loss: 6.623181\n",
            "[1157/3000] Train Acc: 0.997982 Loss: 0.006405 | Val Acc: 0.347388 loss: 7.017842\n",
            "[1158/3000] Train Acc: 0.998588 Loss: 0.005276 | Val Acc: 0.362719 loss: 6.651148\n",
            "[1159/3000] Train Acc: 0.998285 Loss: 0.005243 | Val Acc: 0.351220 loss: 6.923748\n",
            "[1160/3000] Train Acc: 0.998083 Loss: 0.005762 | Val Acc: 0.348396 loss: 6.984922\n",
            "[1161/3000] Train Acc: 0.998436 Loss: 0.005293 | Val Acc: 0.353641 loss: 6.882009\n",
            "[1162/3000] Train Acc: 0.997982 Loss: 0.005736 | Val Acc: 0.344160 loss: 6.939021\n",
            "[1163/3000] Train Acc: 0.998033 Loss: 0.005450 | Val Acc: 0.343151 loss: 7.184760\n",
            "[1164/3000] Train Acc: 0.997629 Loss: 0.007133 | Val Acc: 0.350817 loss: 6.888332\n",
            "[1165/3000] Train Acc: 0.998285 Loss: 0.005369 | Val Acc: 0.337099 loss: 7.038797\n",
            "[1166/3000] Train Acc: 0.997781 Loss: 0.005939 | Val Acc: 0.340125 loss: 7.022504\n",
            "[1167/3000] Train Acc: 0.998588 Loss: 0.004755 | Val Acc: 0.343151 loss: 7.151635\n",
            "[1168/3000] Train Acc: 0.998335 Loss: 0.005392 | Val Acc: 0.355053 loss: 6.735508\n",
            "[1169/3000] Train Acc: 0.997680 Loss: 0.006202 | Val Acc: 0.354247 loss: 6.774189\n",
            "[1170/3000] Train Acc: 0.998083 Loss: 0.006870 | Val Acc: 0.341537 loss: 6.914661\n",
            "[1171/3000] Train Acc: 0.998285 Loss: 0.005287 | Val Acc: 0.340932 loss: 7.043576\n",
            "[1172/3000] Train Acc: 0.998436 Loss: 0.005031 | Val Acc: 0.342748 loss: 7.202938\n",
            "[1173/3000] Train Acc: 0.998335 Loss: 0.005194 | Val Acc: 0.357676 loss: 6.616478\n",
            "[1174/3000] Train Acc: 0.998235 Loss: 0.004860 | Val Acc: 0.348396 loss: 6.919746\n",
            "[1175/3000] Train Acc: 0.998083 Loss: 0.005720 | Val Acc: 0.362114 loss: 6.432855\n",
            "[1176/3000] Train Acc: 0.998335 Loss: 0.004560 | Val Acc: 0.354650 loss: 6.811218\n",
            "[1177/3000] Train Acc: 0.997680 Loss: 0.006930 | Val Acc: 0.348194 loss: 6.769987\n",
            "[1178/3000] Train Acc: 0.998235 Loss: 0.004940 | Val Acc: 0.344563 loss: 6.940035\n",
            "[1179/3000] Train Acc: 0.998235 Loss: 0.005867 | Val Acc: 0.353036 loss: 6.852923\n",
            "[1180/3000] Train Acc: 0.998134 Loss: 0.005391 | Val Acc: 0.351019 loss: 6.965586\n",
            "[1181/3000] Train Acc: 0.997881 Loss: 0.005535 | Val Acc: 0.350817 loss: 6.837213\n",
            "[1182/3000] Train Acc: 0.998285 Loss: 0.005658 | Val Acc: 0.354650 loss: 6.691889\n",
            "[1183/3000] Train Acc: 0.998386 Loss: 0.005361 | Val Acc: 0.356466 loss: 6.639653\n",
            "[1184/3000] Train Acc: 0.998083 Loss: 0.005461 | Val Acc: 0.356466 loss: 6.841117\n",
            "[1185/3000] Train Acc: 0.998184 Loss: 0.005317 | Val Acc: 0.340932 loss: 7.098092\n",
            "[1186/3000] Train Acc: 0.997932 Loss: 0.005425 | Val Acc: 0.351624 loss: 6.826862\n",
            "[1187/3000] Train Acc: 0.997932 Loss: 0.006552 | Val Acc: 0.342546 loss: 7.068909\n",
            "[1188/3000] Train Acc: 0.998487 Loss: 0.005048 | Val Acc: 0.351422 loss: 6.941910\n",
            "[1189/3000] Train Acc: 0.998285 Loss: 0.005568 | Val Acc: 0.343756 loss: 6.950625\n",
            "[1190/3000] Train Acc: 0.998487 Loss: 0.004576 | Val Acc: 0.345975 loss: 6.948233\n",
            "[1191/3000] Train Acc: 0.998588 Loss: 0.005359 | Val Acc: 0.337906 loss: 7.196182\n",
            "[1192/3000] Train Acc: 0.998436 Loss: 0.004454 | Val Acc: 0.347589 loss: 6.861411\n",
            "[1193/3000] Train Acc: 0.998689 Loss: 0.004699 | Val Acc: 0.343353 loss: 7.041368\n",
            "[1194/3000] Train Acc: 0.998386 Loss: 0.004765 | Val Acc: 0.343353 loss: 7.012686\n",
            "[1195/3000] Train Acc: 0.997680 Loss: 0.007290 | Val Acc: 0.345975 loss: 6.795851\n",
            "[1196/3000] Train Acc: 0.998588 Loss: 0.004630 | Val Acc: 0.340529 loss: 6.993275\n",
            "[1197/3000] Train Acc: 0.998638 Loss: 0.004995 | Val Acc: 0.348800 loss: 6.824781\n",
            "[1198/3000] Train Acc: 0.998184 Loss: 0.005377 | Val Acc: 0.346581 loss: 6.656134\n"
          ]
        }
      ]
    },
    {
      "cell_type": "code",
      "source": [
        "print(f'Training use {round(end_time - start_time, 3)}s')"
      ],
      "metadata": {
        "id": "NLnpYLpwYlop",
        "outputId": "7aacaf8d-4c06-460b-c8d2-5e2f1fe7c734",
        "colab": {
          "base_uri": "https://localhost:8080/"
        }
      },
      "execution_count": 51,
      "outputs": [
        {
          "output_type": "stream",
          "name": "stdout",
          "text": [
            "Training use 1959.01s\n"
          ]
        }
      ]
    },
    {
      "cell_type": "code",
      "source": [
        "def plot_learning_curve(train_record, valid_record, title=''):\n",
        "    total_steps = len(train_record)\n",
        "    x = range(total_steps)\n",
        "    plt.figure(figsize=(6, 4))\n",
        "    plt.plot(x, train_record, c='tab:red', label='train')\n",
        "    plt.plot(x, valid_record, c='tab:cyan', label='valid')\n",
        "    plt.ylim(0.0, max(valid_record) + 1)\n",
        "    plt.xlabel('Training epoch')\n",
        "    plt.ylabel(title)\n",
        "    plt.title('Learning curve of {}'.format(title))\n",
        "    plt.legend()\n",
        "    plt.show()"
      ],
      "metadata": {
        "id": "ZX4SmxBQIIcU"
      },
      "execution_count": 52,
      "outputs": []
    },
    {
      "cell_type": "code",
      "source": [
        "plot_learning_curve(train_acc_list, val_acc_list, 'Acc')"
      ],
      "metadata": {
        "id": "CukLL-yVJFdu",
        "outputId": "fd5df6d7-94a4-46d8-b683-a0fb8a8adc3a",
        "colab": {
          "base_uri": "https://localhost:8080/",
          "height": 295
        }
      },
      "execution_count": 53,
      "outputs": [
        {
          "output_type": "display_data",
          "data": {
            "image/png": "[encoded data removed]",
            "text/plain": [
              "<Figure size 432x288 with 1 Axes>"
            ]
          },
          "metadata": {
            "needs_background": "light"
          }
        }
      ]
    },
    {
      "cell_type": "code",
      "source": [
        "plot_learning_curve(train_loss_list, val_loss_list, 'Loss')"
      ],
      "metadata": {
        "id": "LUDXf-nKJQKU",
        "outputId": "2b420259-f22a-4081-846d-7a8f7c6f6251",
        "colab": {
          "base_uri": "https://localhost:8080/",
          "height": 295
        }
      },
      "execution_count": 54,
      "outputs": [
        {
          "output_type": "display_data",
          "data": {
            "image/png": "[encoded data removed]",
            "text/plain": [
              "<Figure size 432x288 with 1 Axes>"
            ]
          },
          "metadata": {
            "needs_background": "light"
          }
        }
      ]
    },
    {
      "cell_type": "markdown",
      "source": [
        "# **Deep Neural Network Test**"
      ],
      "metadata": {
        "id": "ynT-KFltscT8"
      }
    },
    {
      "cell_type": "code",
      "source": [
        "sc = StandardScaler()\n",
        "ss = StandardScaler().fit(X_test)\n",
        "X_test_std = ss.transform(X_test)\n",
        "\n",
        "# create testing dataset\n",
        "test_set = IBMDataset(X_test_std, None)\n",
        "test_loader = DataLoader(test_set, batch_size=BATCH_SIZE, shuffle=False)\n",
        "\n",
        "# create model and load weights from checkpoint\n",
        "model = Classifier().to(device)\n",
        "model.load_state_dict(torch.load(model_path, map_location=device))"
      ],
      "metadata": {
        "id": "lukrC4MJWTjM",
        "outputId": "9d06aceb-dc01-4d01-c10e-0c0f78a42284",
        "colab": {
          "base_uri": "https://localhost:8080/"
        }
      },
      "execution_count": 55,
      "outputs": [
        {
          "output_type": "execute_result",
          "data": {
            "text/plain": [
              "<All keys matched successfully>"
            ]
          },
          "metadata": {},
          "execution_count": 55
        }
      ]
    },
    {
      "cell_type": "code",
      "source": [
        "predict = []\n",
        "model.eval() # set the model to evaluation mode\n",
        "for i, data in enumerate(test_loader):\n",
        "    inputs = data\n",
        "    inputs = inputs.to(device)\n",
        "    outputs = model(inputs)\n",
        "    _, test_pred = torch.max(outputs, 1) # get the index of the class with the highest probability\n",
        "\n",
        "    for y in test_pred.cpu().numpy():\n",
        "        predict.append(y)"
      ],
      "metadata": {
        "id": "OlQ1d1fdVt_V"
      },
      "execution_count": 56,
      "outputs": []
    },
    {
      "cell_type": "code",
      "source": [
        "submit_result = './dnn_result.csv'\n",
        "\n",
        "new_encoder_map = {'No Churn':0, 'Competitor': 1, 'Dissatisfaction':2, 'Attitude': 3, 'Price':4, 'Other':5}\n",
        "\n",
        "with open(submit_result, 'w') as f:\n",
        "    f.write('Customer ID,Churn Category\\n')\n",
        "    for i in range(len(df_test.values)):\n",
        "        id = str(df_test.values[i]).replace('[\\'', '')\n",
        "        id = id.replace('\\']', '')\n",
        "        pred = new_encoder_map.get(list(encoder_map.keys())[list(encoder_map.values()).index(predict[i])])\n",
        "        f.write(f'{id},{pred}\\n')"
      ],
      "metadata": {
        "id": "11ImkbPjn6qP"
      },
      "execution_count": 57,
      "outputs": []
    },
    {
      "cell_type": "code",
      "source": [
        "from google.colab import files\n",
        "\n",
        "files.download(submit_result)\n",
        "files.download(model_path)"
      ],
      "metadata": {
        "id": "YICyBRaGo43O",
        "outputId": "6f195f33-d473-4352-ce8e-49789b46b76e",
        "colab": {
          "base_uri": "https://localhost:8080/",
          "height": 52
        }
      },
      "execution_count": 58,
      "outputs": [
        {
          "output_type": "display_data",
          "data": {
            "application/javascript": [
              "\n",
              "    async function download(id, filename, size) {\n",
              "      if (!google.colab.kernel.accessAllowed) {\n",
              "        return;\n",
              "      }\n",
              "      const div = document.createElement('div');\n",
              "      const label = document.createElement('label');\n",
              "      label.textContent = `Downloading \"${filename}\": `;\n",
              "      div.appendChild(label);\n",
              "      const progress = document.createElement('progress');\n",
              "      progress.max = size;\n",
              "      div.appendChild(progress);\n",
              "      document.body.appendChild(div);\n",
              "\n",
              "      const buffers = [];\n",
              "      let downloaded = 0;\n",
              "\n",
              "      const channel = await google.colab.kernel.comms.open(id);\n",
              "      // Send a message to notify the kernel that we're ready.\n",
              "      channel.send({})\n",
              "\n",
              "      for await (const message of channel.messages) {\n",
              "        // Send a message to notify the kernel that we're ready.\n",
              "        channel.send({})\n",
              "        if (message.buffers) {\n",
              "          for (const buffer of message.buffers) {\n",
              "            buffers.push(buffer);\n",
              "            downloaded += buffer.byteLength;\n",
              "            progress.value = downloaded;\n",
              "          }\n",
              "        }\n",
              "      }\n",
              "      const blob = new Blob(buffers, {type: 'application/binary'});\n",
              "      const a = document.createElement('a');\n",
              "      a.href = window.URL.createObjectURL(blob);\n",
              "      a.download = filename;\n",
              "      div.appendChild(a);\n",
              "      a.click();\n",
              "      div.remove();\n",
              "    }\n",
              "  "
            ],
            "text/plain": [
              "<IPython.core.display.Javascript object>"
            ]
          },
          "metadata": {}
        },
        {
          "output_type": "display_data",
          "data": {
            "application/javascript": [
              "download(\"download_95f01226-7b0f-40d3-9201-004a49d77dfb\", \"dnn_result.csv\", 18344)"
            ],
            "text/plain": [
              "<IPython.core.display.Javascript object>"
            ]
          },
          "metadata": {}
        },
        {
          "output_type": "display_data",
          "data": {
            "application/javascript": [
              "\n",
              "    async function download(id, filename, size) {\n",
              "      if (!google.colab.kernel.accessAllowed) {\n",
              "        return;\n",
              "      }\n",
              "      const div = document.createElement('div');\n",
              "      const label = document.createElement('label');\n",
              "      label.textContent = `Downloading \"${filename}\": `;\n",
              "      div.appendChild(label);\n",
              "      const progress = document.createElement('progress');\n",
              "      progress.max = size;\n",
              "      div.appendChild(progress);\n",
              "      document.body.appendChild(div);\n",
              "\n",
              "      const buffers = [];\n",
              "      let downloaded = 0;\n",
              "\n",
              "      const channel = await google.colab.kernel.comms.open(id);\n",
              "      // Send a message to notify the kernel that we're ready.\n",
              "      channel.send({})\n",
              "\n",
              "      for await (const message of channel.messages) {\n",
              "        // Send a message to notify the kernel that we're ready.\n",
              "        channel.send({})\n",
              "        if (message.buffers) {\n",
              "          for (const buffer of message.buffers) {\n",
              "            buffers.push(buffer);\n",
              "            downloaded += buffer.byteLength;\n",
              "            progress.value = downloaded;\n",
              "          }\n",
              "        }\n",
              "      }\n",
              "      const blob = new Blob(buffers, {type: 'application/binary'});\n",
              "      const a = document.createElement('a');\n",
              "      a.href = window.URL.createObjectURL(blob);\n",
              "      a.download = filename;\n",
              "      div.appendChild(a);\n",
              "      a.click();\n",
              "      div.remove();\n",
              "    }\n",
              "  "
            ],
            "text/plain": [
              "<IPython.core.display.Javascript object>"
            ]
          },
          "metadata": {}
        },
        {
          "output_type": "display_data",
          "data": {
            "application/javascript": [
              "download(\"download_60c54e8e-f3a6-42dc-bdd6-cd5307cc3107\", \"best_model.ckpt\", 744224)"
            ],
            "text/plain": [
              "<IPython.core.display.Javascript object>"
            ]
          },
          "metadata": {}
        }
      ]
    },
    {
      "cell_type": "markdown",
      "source": [
        "# **XGBoost Train**"
      ],
      "metadata": {
        "id": "sahIvrRMTlTP"
      }
    },
    {
      "cell_type": "code",
      "source": [
        "pass"
      ],
      "metadata": {
        "id": "YkGN8Jq-TsPF"
      },
      "execution_count": 59,
      "outputs": []
    }
  ]
}