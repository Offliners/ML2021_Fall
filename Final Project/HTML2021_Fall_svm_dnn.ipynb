{
  "nbformat": 4,
  "nbformat_minor": 0,
  "metadata": {
    "colab": {
      "name": "HTML2021_Fall.ipynb",
      "provenance": [],
      "include_colab_link": true
    },
    "kernelspec": {
      "name": "python3",
      "display_name": "Python 3"
    },
    "language_info": {
      "name": "python"
    },
    "accelerator": "GPU"
  },
  "cells": [
    {
      "cell_type": "markdown",
      "metadata": {
        "id": "view-in-github",
        "colab_type": "text"
      },
      "source": [
        "<a href=\"https://colab.research.google.com/github/Offliners/HTML_2021Fall/blob/main/Final%20Project/HTML2021_Fall_svm_dnn.ipynb\" target=\"_parent\"><img src=\"https://colab.research.google.com/assets/colab-badge.svg\" alt=\"Open In Colab\"/></a>"
      ]
    },
    {
      "cell_type": "markdown",
      "source": [
        "# **Directory**\n",
        "\n",
        "```\n",
        "data_dir\n",
        "    ├── data\n",
        "    │   ├── Test_IDs.csv\n",
        "    │   ├── ...\n",
        "    │   ├── status.csv\n",
        "    ├── statistics\n",
        "    │   ├── Churn Category_stat.png\n",
        "    │   ├── ...\n",
        "    │   ├── miss rate_stat.png\n",
        "```"
      ],
      "metadata": {
        "id": "PD40tT3p379e"
      }
    },
    {
      "cell_type": "markdown",
      "source": [
        "# **Display information of GPU**"
      ],
      "metadata": {
        "id": "ldW8_oif3EEr"
      }
    },
    {
      "cell_type": "code",
      "source": [
        "!nvidia-smi"
      ],
      "metadata": {
        "colab": {
          "base_uri": "https://localhost:8080/"
        },
        "id": "Qf0PLuNJf95W",
        "outputId": "407f1d5e-2802-4f40-93a4-4f3dfb43c5f0"
      },
      "execution_count": 1,
      "outputs": [
        {
          "output_type": "stream",
          "name": "stdout",
          "text": [
            "Thu Jan 13 02:00:07 2022       \n",
            "+-----------------------------------------------------------------------------+\n",
            "| NVIDIA-SMI 495.46       Driver Version: 460.32.03    CUDA Version: 11.2     |\n",
            "|-------------------------------+----------------------+----------------------+\n",
            "| GPU  Name        Persistence-M| Bus-Id        Disp.A | Volatile Uncorr. ECC |\n",
            "| Fan  Temp  Perf  Pwr:Usage/Cap|         Memory-Usage | GPU-Util  Compute M. |\n",
            "|                               |                      |               MIG M. |\n",
            "|===============================+======================+======================|\n",
            "|   0  Tesla T4            Off  | 00000000:00:04.0 Off |                    0 |\n",
            "| N/A   35C    P8     9W /  70W |      0MiB / 15109MiB |      0%      Default |\n",
            "|                               |                      |                  N/A |\n",
            "+-------------------------------+----------------------+----------------------+\n",
            "                                                                               \n",
            "+-----------------------------------------------------------------------------+\n",
            "| Processes:                                                                  |\n",
            "|  GPU   GI   CI        PID   Type   Process name                  GPU Memory |\n",
            "|        ID   ID                                                   Usage      |\n",
            "|=============================================================================|\n",
            "|  No running processes found                                                 |\n",
            "+-----------------------------------------------------------------------------+\n"
          ]
        }
      ]
    },
    {
      "cell_type": "markdown",
      "source": [
        "# **Download Dataset**"
      ],
      "metadata": {
        "id": "JxUhMWWmJPHv"
      }
    },
    {
      "cell_type": "code",
      "source": [
        "!mkdir \"./data\"\n",
        "!mkdir \"./statistics\"\n",
        "!gdown --id 1X5yz7QLAu4nttnCea4ALf6alae6Clv_o --output \"./data/dataset.zip\"\n",
        "!unzip -q \"./data/dataset.zip\" -d \"./data\"\n",
        "!rm \"./data/dataset.zip\""
      ],
      "metadata": {
        "colab": {
          "base_uri": "https://localhost:8080/"
        },
        "id": "zjX-fvNeKG3p",
        "outputId": "296c8f94-1de3-43e8-b6d8-c77a177adc31"
      },
      "execution_count": 2,
      "outputs": [
        {
          "output_type": "stream",
          "name": "stdout",
          "text": [
            "Downloading...\n",
            "From: https://drive.google.com/uc?id=1X5yz7QLAu4nttnCea4ALf6alae6Clv_o\n",
            "To: /content/data/dataset.zip\n",
            "\r  0% 0.00/660k [00:00<?, ?B/s]\r100% 660k/660k [00:00<00:00, 89.0MB/s]\n"
          ]
        }
      ]
    },
    {
      "cell_type": "markdown",
      "source": [
        "# **Import Some Packages**"
      ],
      "metadata": {
        "id": "hosMVZZWI_6B"
      }
    },
    {
      "cell_type": "code",
      "execution_count": 573,
      "metadata": {
        "id": "-lrHo2qeI-p9"
      },
      "outputs": [],
      "source": [
        "import time\n",
        "import numpy as np\n",
        "import pandas as pd\n",
        "from glob import glob\n",
        "from collections import Counter\n",
        "import collections\n",
        "import matplotlib.pyplot as plt\n",
        "from sklearn.preprocessing import LabelEncoder\n",
        "from sklearn.preprocessing import StandardScaler\n",
        "from sklearn import metrics\n",
        "from sklearn.model_selection import train_test_split\n",
        "from sklearn.metrics import plot_confusion_matrix, classification_report\n",
        "\n",
        "# SMOTE\n",
        "from imblearn.over_sampling import ADASYN\n",
        "\n",
        "# SVM\n",
        "from sklearn.svm import SVC\n",
        "\n",
        "# DNN\n",
        "import torch\n",
        "import torch.nn as nn\n",
        "from torch.utils.data import Dataset, DataLoader \n",
        "from torchsummary import summary\n",
        "from torch.optim.lr_scheduler import StepLR\n",
        "\n",
        "# XGBoost\n",
        "from xgboost import XGBClassifier"
      ]
    },
    {
      "cell_type": "markdown",
      "source": [
        "# **Set a Random Seed**"
      ],
      "metadata": {
        "id": "HH36XbKB0P3c"
      }
    },
    {
      "cell_type": "code",
      "source": [
        "# Set a random seed for reproducibility\n",
        "seed = 0\n",
        "np.random.seed(seed)\n",
        "torch.manual_seed(seed)\n",
        "if torch.cuda.is_available():\n",
        "    torch.cuda.manual_seed(seed)\n",
        "    torch.cuda.manual_seed_all(seed)  \n",
        "torch.backends.cudnn.benchmark = False\n",
        "torch.backends.cudnn.deterministic = True"
      ],
      "metadata": {
        "id": "sM7IyXfL0ekd"
      },
      "execution_count": 574,
      "outputs": []
    },
    {
      "cell_type": "markdown",
      "source": [
        "# **CSV Files Combination**"
      ],
      "metadata": {
        "id": "Q69ecrSlJpyT"
      }
    },
    {
      "cell_type": "code",
      "source": [
        "train_path = './data/Train_IDs.csv'  # path to training data\n",
        "test_path = './data/Test_IDs.csv'    # path to testing data\n",
        "\n",
        "files = glob('./data/*.csv')\n",
        "data_csv = []\n",
        "data_csv.append(train_path)\n",
        "for csv in files:\n",
        "    if ('IDs' not in csv) and ('sample' not in csv) and ('population' not in csv) and ('result' not in csv):\n",
        "        data_csv.append(csv)\n",
        "  \n",
        "print(data_csv)\n",
        "df_list = [pd.read_csv(file) for file in data_csv]"
      ],
      "metadata": {
        "colab": {
          "base_uri": "https://localhost:8080/"
        },
        "id": "PubV0z-fNFWK",
        "outputId": "684f5728-d150-4177-fee5-462be3117b77"
      },
      "execution_count": 575,
      "outputs": [
        {
          "output_type": "stream",
          "name": "stdout",
          "text": [
            "['./data/Train_IDs.csv', './data/location.csv', './data/services.csv', './data/demographics.csv', './data/status.csv', './data/satisfaction.csv']\n"
          ]
        }
      ]
    },
    {
      "cell_type": "code",
      "source": [
        "result_total = df_list[0]\n",
        "for df in df_list[1:]:\n",
        "    result_total = pd.merge(result_total, df, how='outer', on='Customer ID')\n",
        "\n",
        "result_total.to_csv('./data/result_total.csv') # Save combined all result to result_total.csv"
      ],
      "metadata": {
        "id": "gsRnzcD243J2"
      },
      "execution_count": 576,
      "outputs": []
    },
    {
      "cell_type": "code",
      "source": [
        "# There are 7043 total customer data\n",
        "print(result_total)"
      ],
      "metadata": {
        "id": "HmdXTPLLuLnc",
        "outputId": "38d77d11-0456-4524-f883-ae4cd2840015",
        "colab": {
          "base_uri": "https://localhost:8080/"
        }
      },
      "execution_count": 577,
      "outputs": [
        {
          "output_type": "stream",
          "name": "stdout",
          "text": [
            "     Customer ID  Count_x  ... Churn Category Satisfaction Score\n",
            "0     0650-BWOZN      NaN  ...     Competitor                1.0\n",
            "1     0562-FGDCR      1.0  ...     Competitor                1.0\n",
            "2     6688-UZPWD      1.0  ...       No Churn                NaN\n",
            "3     2905-KFQUV      1.0  ...     Competitor                3.0\n",
            "4     9720-JJJOR      1.0  ...       No Churn                NaN\n",
            "...          ...      ...  ...            ...                ...\n",
            "7038  3426-NIYYL      NaN  ...            NaN                NaN\n",
            "7039  5666-CYCYZ      NaN  ...            NaN                3.0\n",
            "7040  8263-JQAIK      NaN  ...            NaN                3.0\n",
            "7041  2754-SDJRD      NaN  ...            NaN                1.0\n",
            "7042  3251-YMVWZ      NaN  ...            NaN                3.0\n",
            "\n",
            "[7043 rows x 48 columns]\n"
          ]
        }
      ]
    },
    {
      "cell_type": "code",
      "source": [
        "# Train_IDs has 5634 customer data\n",
        "result_train = df_list[0]\n",
        "for df in df_list[1:]:\n",
        "    result_train = pd.merge(result_train, df, how='left', on='Customer ID')\n",
        "\n",
        "print(result_train)"
      ],
      "metadata": {
        "id": "XC9OTia4vQyw",
        "outputId": "df965999-a99f-46ce-a89b-3749272e3741",
        "colab": {
          "base_uri": "https://localhost:8080/"
        }
      },
      "execution_count": 578,
      "outputs": [
        {
          "output_type": "stream",
          "name": "stdout",
          "text": [
            "     Customer ID  Count_x  ... Churn Category Satisfaction Score\n",
            "0     0650-BWOZN      NaN  ...     Competitor                1.0\n",
            "1     0562-FGDCR      1.0  ...     Competitor                1.0\n",
            "2     6688-UZPWD      1.0  ...       No Churn                NaN\n",
            "3     2905-KFQUV      1.0  ...     Competitor                3.0\n",
            "4     9720-JJJOR      1.0  ...       No Churn                NaN\n",
            "...          ...      ...  ...            ...                ...\n",
            "5629  1178-PZGAB      NaN  ...            NaN                3.0\n",
            "5630  4806-KEXQR      1.0  ...            NaN                3.0\n",
            "5631  8809-RIHDD      NaN  ...       No Churn                4.0\n",
            "5632  6663-JOCQO      NaN  ...       No Churn                NaN\n",
            "5633  7010-ZMVBF      1.0  ...       No Churn                4.0\n",
            "\n",
            "[5634 rows x 48 columns]\n"
          ]
        }
      ]
    },
    {
      "cell_type": "code",
      "source": [
        "# Test_Ids has 1409 customer data\n",
        "df_test = pd.read_csv(test_path)\n",
        "result_test = df_test\n",
        "for df in df_list[1:]:\n",
        "    result_test = pd.merge(result_test, df, how='left', on='Customer ID')\n",
        "\n",
        "print(result_test)"
      ],
      "metadata": {
        "id": "fE-wQXgit9JQ",
        "outputId": "c646bf16-ac91-44ca-cff3-25ccf3fffd72",
        "colab": {
          "base_uri": "https://localhost:8080/"
        }
      },
      "execution_count": 579,
      "outputs": [
        {
          "output_type": "stream",
          "name": "stdout",
          "text": [
            "     Customer ID  Count_x  ... Churn Category Satisfaction Score\n",
            "0     9938-EKRGF      1.0  ...            NaN                3.0\n",
            "1     7379-POKDZ      1.0  ...            NaN                4.0\n",
            "2     0654-HMSHN      1.0  ...            NaN                5.0\n",
            "3     2045-BMBTJ      NaN  ...            NaN                NaN\n",
            "4     0701-TJSEF      1.0  ...            NaN                NaN\n",
            "...          ...      ...  ...            ...                ...\n",
            "1404  4587-VVTOX      1.0  ...            NaN                4.0\n",
            "1405  7716-YTYHG      1.0  ...            NaN                NaN\n",
            "1406  7649-PHJVR      NaN  ...            NaN                1.0\n",
            "1407  7855-DIWPO      1.0  ...            NaN                NaN\n",
            "1408  8197-BFWVU      1.0  ...            NaN                3.0\n",
            "\n",
            "[1409 rows x 48 columns]\n"
          ]
        }
      ]
    },
    {
      "cell_type": "code",
      "source": [
        "print(result_total.dropna()) # Find customer with full data infomation"
      ],
      "metadata": {
        "colab": {
          "base_uri": "https://localhost:8080/"
        },
        "id": "7wbcLdCPLMBV",
        "outputId": "856a8300-4d5f-4cc0-f0f8-ed071b1781de"
      },
      "execution_count": 580,
      "outputs": [
        {
          "output_type": "stream",
          "name": "stdout",
          "text": [
            "     Customer ID  Count_x  ...   Churn Category Satisfaction Score\n",
            "666   0454-OKRCT      1.0  ...         No Churn                4.0\n",
            "678   1735-XMJVH      1.0  ...         No Churn                5.0\n",
            "1799  1245-HARPS      1.0  ...  Dissatisfaction                1.0\n",
            "2805  8445-DNBAE      1.0  ...       Competitor                1.0\n",
            "2883  8708-XPXHZ      1.0  ...         No Churn                3.0\n",
            "3062  9522-ZSINC      1.0  ...         No Churn                4.0\n",
            "4297  0836-SEYLU      1.0  ...         No Churn                3.0\n",
            "5146  7274-RTAPZ      1.0  ...         No Churn                5.0\n",
            "\n",
            "[8 rows x 48 columns]\n"
          ]
        }
      ]
    },
    {
      "cell_type": "code",
      "source": [
        "result_cols = result_total.columns\n",
        "print(result_cols)"
      ],
      "metadata": {
        "colab": {
          "base_uri": "https://localhost:8080/"
        },
        "id": "h42U-NQJkntr",
        "outputId": "5ea8c8ec-f4bc-415b-dd39-1fc0dec1d2d7"
      },
      "execution_count": 581,
      "outputs": [
        {
          "output_type": "stream",
          "name": "stdout",
          "text": [
            "Index(['Customer ID', 'Count_x', 'Country', 'State', 'City', 'Zip Code',\n",
            "       'Lat Long', 'Latitude', 'Longitude', 'Count_y', 'Quarter',\n",
            "       'Referred a Friend', 'Number of Referrals', 'Tenure in Months', 'Offer',\n",
            "       'Phone Service', 'Avg Monthly Long Distance Charges', 'Multiple Lines',\n",
            "       'Internet Service', 'Internet Type', 'Avg Monthly GB Download',\n",
            "       'Online Security', 'Online Backup', 'Device Protection Plan',\n",
            "       'Premium Tech Support', 'Streaming TV', 'Streaming Movies',\n",
            "       'Streaming Music', 'Unlimited Data', 'Contract', 'Paperless Billing',\n",
            "       'Payment Method', 'Monthly Charge', 'Total Charges', 'Total Refunds',\n",
            "       'Total Extra Data Charges', 'Total Long Distance Charges',\n",
            "       'Total Revenue', 'Count', 'Gender', 'Age', 'Under 30', 'Senior Citizen',\n",
            "       'Married', 'Dependents', 'Number of Dependents', 'Churn Category',\n",
            "       'Satisfaction Score'],\n",
            "      dtype='object')\n"
          ]
        }
      ]
    },
    {
      "cell_type": "code",
      "source": [
        "missing = result_train.isnull().sum().reset_index().rename(columns={0:'missNum'})\n",
        "missing['missRate'] = missing['missNum'] / result_train.shape[0]\n",
        "miss_analy = missing[missing.missRate > 0].sort_values(by='missRate', ascending=False)\n",
        "\n",
        "fig = plt.figure(figsize=(18, 6))\n",
        "plt.bar(np.arange(miss_analy.shape[0]), list(miss_analy.missRate.values), align='center')\n",
        "\n",
        "plt.title('Histogram of missing value of variables of training dataset')\n",
        "plt.xlabel('variables names')\n",
        "plt.ylabel('missing rate')\n",
        "plt.xticks(np.arange(miss_analy.shape[0]), list(miss_analy['index']))\n",
        "plt.xticks(rotation=90)\n",
        "for x, y in enumerate(list(miss_analy.missRate.values)):\n",
        "    plt.text(x, y + 0.12, '{:.2%}'.format(y), ha='center', rotation=90)    \n",
        "\n",
        "plt.ylim([0, 1.2])  \n",
        "plt.savefig(f'./statistics/miss rate_train_stat.png')  \n",
        "plt.show()\n",
        "plt.close()"
      ],
      "metadata": {
        "id": "HDjocf2IYbFs",
        "outputId": "a438ba8b-e3fa-4c32-f54f-5b386de8798d",
        "colab": {
          "base_uri": "https://localhost:8080/",
          "height": 574
        }
      },
      "execution_count": 582,
      "outputs": [
        {
          "output_type": "display_data",
          "data": {
            "image/png": "[encoded data removed]",
            "text/plain": [
              "<Figure size 1296x432 with 1 Axes>"
            ]
          },
          "metadata": {
            "needs_background": "light"
          }
        }
      ]
    },
    {
      "cell_type": "code",
      "source": [
        "missing = result_test.isnull().sum().reset_index().rename(columns={0:'missNum'})\n",
        "missing['missRate'] = missing['missNum'] / result_test.shape[0]\n",
        "miss_analy = missing[missing.missRate > 0].sort_values(by='missRate', ascending=False)\n",
        "\n",
        "fig = plt.figure(figsize=(18, 6))\n",
        "plt.bar(np.arange(miss_analy.shape[0]), list(miss_analy.missRate.values), align='center')\n",
        "\n",
        "plt.title('Histogram of missing value of variables of test dataset')\n",
        "plt.xlabel('variables names')\n",
        "plt.ylabel('missing rate')\n",
        "plt.xticks(np.arange(miss_analy.shape[0]), list(miss_analy['index']))\n",
        "plt.xticks(rotation=90)\n",
        "for x, y in enumerate(list(miss_analy.missRate.values)):\n",
        "    plt.text(x, y + 0.12, '{:.2%}'.format(y), ha='center', rotation=90)    \n",
        "\n",
        "plt.ylim([0, 1.4])  \n",
        "plt.savefig(f'./statistics/miss rate_test_stat.png')  \n",
        "plt.show()\n",
        "plt.close()"
      ],
      "metadata": {
        "colab": {
          "base_uri": "https://localhost:8080/",
          "height": 574
        },
        "id": "BVN8BclJkD1J",
        "outputId": "479972e1-e3d0-46de-966a-23ed99a22db2"
      },
      "execution_count": 583,
      "outputs": [
        {
          "output_type": "display_data",
          "data": {
            "image/png": "[encoded data removed]",
            "text/plain": [
              "<Figure size 1296x432 with 1 Axes>"
            ]
          },
          "metadata": {
            "needs_background": "light"
          }
        }
      ]
    },
    {
      "cell_type": "markdown",
      "source": [
        "# **Statistics and Data Preprocessing**"
      ],
      "metadata": {
        "id": "eYyJOoclqCFk"
      }
    },
    {
      "cell_type": "code",
      "source": [
        "result_train_copy = result_train.copy(deep=True)\n",
        "result_test_copy = result_test.copy(deep=True)\n",
        "def label_statistics(label):\n",
        "    freq = result_train.groupby(label).size() \n",
        "\n",
        "    names = [name for name, _ in freq.items()]\n",
        "    counts = [count for _, count in freq.items()]\n",
        "\n",
        "    fig = plt.figure(figsize=(8, 6))\n",
        "    x = np.arange(len(names))\n",
        "    plt.bar(x, counts)\n",
        "    plt.xticks(x, names, rotation=15)\n",
        "    plt.title(f'Statistics of {label}')\n",
        "    plt.savefig(f'./statistics/Statistics of {label}.png')\n",
        "    print(f'Statistics of {label}.png saved')\n",
        "    plt.close()\n",
        "\n",
        "    # Replace NaN with random choice label with the original distribution\n",
        "    probability = [p / np.sum(counts) for p in counts]\n",
        "    result_train_copy[label] = result_train_copy[label].apply(lambda x: np.random.choice(names, p=probability) if pd.isnull(x) else x)\n",
        "    result_test_copy[label] = result_test_copy[label].apply(lambda x: np.random.choice(names, p=probability) if pd.isnull(x) else x)"
      ],
      "metadata": {
        "id": "ho-LNzp4g_Eb"
      },
      "execution_count": 584,
      "outputs": []
    },
    {
      "cell_type": "code",
      "source": [
        "need_statistics_col = ['Churn Category', 'Satisfaction Score', \n",
        "       'Gender', 'Under 30', 'Senior Citizen', 'Married', 'Dependents',\n",
        "       'Number of Dependents', 'Country', 'State', 'City', 'Quarter',\n",
        "       'Referred a Friend', 'Number of Referrals', 'Offer',\n",
        "       'Phone Service', 'Multiple Lines', 'Internet Service', 'Internet Type',\n",
        "       'Online Security', 'Online Backup', 'Device Protection Plan',\n",
        "       'Premium Tech Support', 'Streaming TV', 'Streaming Movies',\n",
        "       'Streaming Music', 'Unlimited Data', 'Contract', 'Paperless Billing',\n",
        "       'Payment Method', 'Zip Code']\n",
        "\n",
        "# Replace NaN with the most frequent label\n",
        "for need_col in need_statistics_col:\n",
        "    label_statistics(need_col)\n",
        "\n",
        "    # Encode target labels with value\n",
        "    le = LabelEncoder()\n",
        "    result_train_copy[need_col] = le.fit_transform(result_train_copy[need_col])\n",
        "    result_test_copy[need_col] = le.fit_transform(result_test_copy[need_col])\n",
        "\n",
        "    if need_col == 'Churn Category':\n",
        "        encoder_map = dict(zip(le.classes_, le.transform(le.classes_)))"
      ],
      "metadata": {
        "colab": {
          "base_uri": "https://localhost:8080/"
        },
        "id": "Pl4omt-mIGDW",
        "outputId": "8d0373e6-fecd-4ea7-a779-ed02bc7095e3"
      },
      "execution_count": 585,
      "outputs": [
        {
          "output_type": "stream",
          "name": "stdout",
          "text": [
            "Statistics of Churn Category.png saved\n",
            "Statistics of Satisfaction Score.png saved\n",
            "Statistics of Gender.png saved\n",
            "Statistics of Under 30.png saved\n",
            "Statistics of Senior Citizen.png saved\n",
            "Statistics of Married.png saved\n",
            "Statistics of Dependents.png saved\n",
            "Statistics of Number of Dependents.png saved\n",
            "Statistics of Country.png saved\n",
            "Statistics of State.png saved\n",
            "Statistics of City.png saved\n",
            "Statistics of Quarter.png saved\n",
            "Statistics of Referred a Friend.png saved\n",
            "Statistics of Number of Referrals.png saved\n",
            "Statistics of Offer.png saved\n",
            "Statistics of Phone Service.png saved\n",
            "Statistics of Multiple Lines.png saved\n",
            "Statistics of Internet Service.png saved\n",
            "Statistics of Internet Type.png saved\n",
            "Statistics of Online Security.png saved\n",
            "Statistics of Online Backup.png saved\n",
            "Statistics of Device Protection Plan.png saved\n",
            "Statistics of Premium Tech Support.png saved\n",
            "Statistics of Streaming TV.png saved\n",
            "Statistics of Streaming Movies.png saved\n",
            "Statistics of Streaming Music.png saved\n",
            "Statistics of Unlimited Data.png saved\n",
            "Statistics of Contract.png saved\n",
            "Statistics of Paperless Billing.png saved\n",
            "Statistics of Payment Method.png saved\n",
            "Statistics of Zip Code.png saved\n"
          ]
        }
      ]
    },
    {
      "cell_type": "code",
      "source": [
        "need_avg_col = [item for item in result_cols if item not in need_statistics_col]\n",
        "\n",
        "# Replace NaN with median value or 0\n",
        "for avg_col in need_avg_col[1:]:\n",
        "    if avg_col == 'Lat Long':\n",
        "        continue\n",
        "    elif 'Count' in avg_col:\n",
        "        result_train_copy[avg_col] = result_train_copy[avg_col].fillna(0)\n",
        "        result_test_copy[avg_col] = result_test_copy[avg_col].fillna(0)\n",
        "    elif ('Country' in avg_col) or ('Count' in avg_col) or ('State' in avg_col) or ('Quarter' in avg_col):\n",
        "        result_train_copy[avg_col] = result_train_copy[avg_col].fillna(0)\n",
        "        result_test_copy[avg_col] = result_test_copy[avg_col].fillna(0)\n",
        "    else:\n",
        "        result_train_copy[avg_col] = result_train_copy[avg_col].fillna(result_train_copy[avg_col].median()) \n",
        "        result_test_copy[avg_col] = result_test_copy[avg_col].fillna(result_train_copy[avg_col].median())\n",
        "\n",
        "population = pd.read_csv('./data/population.csv')\n",
        "population = population.drop('ID', axis=1)\n",
        "result_train_copy = pd.merge(result_train_copy, population, how='left', on='Zip Code')\n",
        "result_test_copy = pd.merge(result_test_copy, population, how='left', on='Zip Code')"
      ],
      "metadata": {
        "id": "hjvCj4CgJPoJ"
      },
      "execution_count": 586,
      "outputs": []
    },
    {
      "cell_type": "code",
      "source": [
        "# Find the correlation of columns\n",
        "cor_matrix = result_train_copy.corr().abs()\n",
        "print(cor_matrix['Churn Category'])"
      ],
      "metadata": {
        "id": "WdnuvMdMS7_L",
        "outputId": "3fe9b873-f6a4-4783-df58-40b0e584a6c7",
        "colab": {
          "base_uri": "https://localhost:8080/"
        }
      },
      "execution_count": 587,
      "outputs": [
        {
          "output_type": "stream",
          "name": "stdout",
          "text": [
            "Count_x                              0.024353\n",
            "Country                                   NaN\n",
            "State                                     NaN\n",
            "City                                 0.001694\n",
            "Zip Code                             0.013293\n",
            "Latitude                             0.050255\n",
            "Longitude                            0.029237\n",
            "Count_y                              0.001317\n",
            "Quarter                                   NaN\n",
            "Referred a Friend                    0.039161\n",
            "Number of Referrals                  0.081623\n",
            "Tenure in Months                     0.124967\n",
            "Offer                                0.064084\n",
            "Phone Service                        0.007903\n",
            "Avg Monthly Long Distance Charges    0.012097\n",
            "Multiple Lines                       0.025724\n",
            "Internet Service                     0.093695\n",
            "Internet Type                        0.041499\n",
            "Avg Monthly GB Download              0.040774\n",
            "Online Security                      0.057228\n",
            "Online Backup                        0.013486\n",
            "Device Protection Plan               0.003886\n",
            "Premium Tech Support                 0.065226\n",
            "Streaming TV                         0.011442\n",
            "Streaming Movies                     0.038226\n",
            "Streaming Music                      0.020193\n",
            "Unlimited Data                       0.069493\n",
            "Contract                             0.137617\n",
            "Paperless Billing                    0.078954\n",
            "Payment Method                       0.035229\n",
            "Monthly Charge                       0.092739\n",
            "Total Charges                        0.058857\n",
            "Total Refunds                        0.014575\n",
            "Total Extra Data Charges             0.015636\n",
            "Total Long Distance Charges          0.092469\n",
            "Total Revenue                        0.080331\n",
            "Count                                0.040754\n",
            "Gender                               0.001889\n",
            "Age                                  0.046805\n",
            "Under 30                             0.024823\n",
            "Senior Citizen                       0.059089\n",
            "Married                              0.018871\n",
            "Dependents                           0.074275\n",
            "Number of Dependents                 0.053742\n",
            "Churn Category                       1.000000\n",
            "Satisfaction Score                   0.254697\n",
            "Population                                NaN\n",
            "Name: Churn Category, dtype: float64\n"
          ]
        }
      ]
    },
    {
      "cell_type": "code",
      "source": [
        "useless_feature = [index for index, value in cor_matrix['Churn Category'].items() if pd.isnull(value)]\n",
        "useless_feature.append('Lat Long')\n",
        "print(useless_feature)"
      ],
      "metadata": {
        "id": "EUWHiNXdKhGP",
        "outputId": "6bf94e65-6c15-43d5-e3be-e4302cafc9eb",
        "colab": {
          "base_uri": "https://localhost:8080/"
        }
      },
      "execution_count": 588,
      "outputs": [
        {
          "output_type": "stream",
          "name": "stdout",
          "text": [
            "['Country', 'State', 'Quarter', 'Population', 'Lat Long']\n"
          ]
        }
      ]
    },
    {
      "cell_type": "code",
      "source": [
        "def dropColumns(label):\n",
        "    global result_train_copy, result_test_copy\n",
        "    result_train_copy = result_train_copy.drop(label, axis=1)\n",
        "    result_test_copy = result_test_copy.drop(label, axis=1)"
      ],
      "metadata": {
        "id": "K5quNy8vHQzb"
      },
      "execution_count": 589,
      "outputs": []
    },
    {
      "cell_type": "code",
      "source": [
        "# Throw away the data columns whose correlation to Churn Category is less than 0.55\n",
        "for item in useless_feature:\n",
        "    dropColumns(item)"
      ],
      "metadata": {
        "id": "Cis3gTDOG9Im"
      },
      "execution_count": 590,
      "outputs": []
    },
    {
      "cell_type": "code",
      "source": [
        "result_train_copy.to_csv('./data/result_after_preprocessing.csv') # Save after preprocessing result to result_after_preprocessing.csv\n",
        "feature_amount = len(result_train_copy.columns)\n",
        "\n",
        "print(result_train_copy)\n",
        "print(result_test_copy)"
      ],
      "metadata": {
        "colab": {
          "base_uri": "https://localhost:8080/"
        },
        "id": "-DsDpzq_Lgp3",
        "outputId": "a73e3ce5-89ad-4754-ff95-d6cb3809d916"
      },
      "execution_count": 591,
      "outputs": [
        {
          "output_type": "stream",
          "name": "stdout",
          "text": [
            "     Customer ID  Count_x  ...  Churn Category  Satisfaction Score\n",
            "0     0650-BWOZN      0.0  ...               1                   0\n",
            "1     0562-FGDCR      1.0  ...               1                   0\n",
            "2     6688-UZPWD      1.0  ...               3                   2\n",
            "3     2905-KFQUV      1.0  ...               1                   2\n",
            "4     9720-JJJOR      1.0  ...               3                   2\n",
            "...          ...      ...  ...             ...                 ...\n",
            "5629  1178-PZGAB      0.0  ...               1                   2\n",
            "5630  4806-KEXQR      1.0  ...               0                   2\n",
            "5631  8809-RIHDD      0.0  ...               3                   3\n",
            "5632  6663-JOCQO      0.0  ...               3                   3\n",
            "5633  7010-ZMVBF      1.0  ...               3                   3\n",
            "\n",
            "[5634 rows x 44 columns]\n",
            "     Customer ID  Count_x  ...  Churn Category  Satisfaction Score\n",
            "0     9938-EKRGF      1.0  ...               3                   2\n",
            "1     7379-POKDZ      1.0  ...               3                   3\n",
            "2     0654-HMSHN      1.0  ...               2                   4\n",
            "3     2045-BMBTJ      0.0  ...               3                   3\n",
            "4     0701-TJSEF      1.0  ...               3                   2\n",
            "...          ...      ...  ...             ...                 ...\n",
            "1404  4587-VVTOX      1.0  ...               5                   3\n",
            "1405  7716-YTYHG      1.0  ...               3                   3\n",
            "1406  7649-PHJVR      0.0  ...               3                   0\n",
            "1407  7855-DIWPO      1.0  ...               3                   4\n",
            "1408  8197-BFWVU      1.0  ...               1                   2\n",
            "\n",
            "[1409 rows x 44 columns]\n"
          ]
        }
      ]
    },
    {
      "cell_type": "markdown",
      "source": [
        "# **Balance Data**"
      ],
      "metadata": {
        "id": "bPTqADO2Ox2F"
      }
    },
    {
      "cell_type": "code",
      "source": [
        "y_train = result_train_copy['Churn Category'].values\n",
        "X_train = result_train_copy.drop('Customer ID', axis=1)\n",
        "X_train = X_train.drop('Churn Category', axis=1)"
      ],
      "metadata": {
        "id": "RiyIrSnaNq6F"
      },
      "execution_count": 592,
      "outputs": []
    },
    {
      "cell_type": "code",
      "source": [
        "print(f\"normal data distribution: {Counter(y_train)}\")\n",
        "\n",
        "class_weight = dict(Counter(y_train))\n",
        "\n",
        "# smo = ADASYN(random_state=seed)\n",
        "# X_train, y_train = smo.fit_resample(X_train, y_train)\n",
        "\n",
        "# print(f\"SMOTE data distribution: {Counter(y_train)}\")"
      ],
      "metadata": {
        "id": "LmlxI28WQUG2",
        "outputId": "7f6a8f66-4082-4c44-b711-94a35afeb1c8",
        "colab": {
          "base_uri": "https://localhost:8080/"
        }
      },
      "execution_count": 593,
      "outputs": [
        {
          "output_type": "stream",
          "name": "stdout",
          "text": [
            "normal data distribution: Counter({3: 4133, 1: 662, 0: 271, 2: 222, 4: 175, 5: 171})\n"
          ]
        }
      ]
    },
    {
      "cell_type": "markdown",
      "source": [
        "# **SVM Train**"
      ],
      "metadata": {
        "id": "3HpyuY-RQEz1"
      }
    },
    {
      "cell_type": "code",
      "source": [
        "sc = StandardScaler()\n",
        "ss = StandardScaler().fit(X_train)\n",
        "X_train_std = ss.transform(X_train)\n",
        "\n",
        "train_x, val_x, train_y, val_y = train_test_split(X_train_std, y_train, test_size=0.2, random_state=seed)\n",
        "\n",
        "class_weight = {k: train_x.shape[0] / v for k, v in class_weight.items()}\n",
        "class_weight = collections.OrderedDict(sorted(class_weight.items()))\n",
        "print(class_weight)"
      ],
      "metadata": {
        "id": "euCLdtvkO-nO",
        "colab": {
          "base_uri": "https://localhost:8080/"
        },
        "outputId": "2eabc78c-d7a5-4324-b4c0-953b0c8d0baa"
      },
      "execution_count": 594,
      "outputs": [
        {
          "output_type": "stream",
          "name": "stdout",
          "text": [
            "OrderedDict([(0, 16.6309963099631), (1, 6.808157099697885), (2, 20.3018018018018), (3, 1.0904911686426324), (4, 25.754285714285714), (5, 26.35672514619883)])\n"
          ]
        }
      ]
    },
    {
      "cell_type": "code",
      "source": [
        "svm = SVC(kernel='rbf', gamma=0.1, C=10, class_weight=class_weight)\n",
        "\n",
        "start_time = time.time()\n",
        "model = svm.fit(train_x, train_y)\n",
        "end_time = time.time()\n",
        "\n",
        "print(f'Training use {round(end_time - start_time, 3)}s')"
      ],
      "metadata": {
        "colab": {
          "base_uri": "https://localhost:8080/"
        },
        "id": "VXuL_lKqW_mD",
        "outputId": "02e91e0b-9e83-4128-a65d-d34c0f8d073b"
      },
      "execution_count": 595,
      "outputs": [
        {
          "output_type": "stream",
          "name": "stdout",
          "text": [
            "Training use 4.975s\n"
          ]
        }
      ]
    },
    {
      "cell_type": "code",
      "source": [
        "y_train_predict = svm.predict(train_x)\n",
        "Ein = np.mean(np.array(y_train_predict) != train_y)\n",
        "F1in = metrics.f1_score(train_y, y_train_predict, average='macro')  \n",
        "print(f'Ein = {round(Ein, 5)}')\n",
        "print(f'F1_in = {round(F1in, 5)}')\n",
        "\n",
        "y_val_predict = svm.predict(val_x)\n",
        "Eval = np.mean(np.array(y_val_predict) != val_y)\n",
        "F1val = metrics.f1_score(val_y, y_val_predict, average='macro')  \n",
        "print(f'Eval = {round(Eval, 5)}')\n",
        "print(f'F1_val = {round(F1val, 5)}')"
      ],
      "metadata": {
        "colab": {
          "base_uri": "https://localhost:8080/"
        },
        "id": "WivcNevbY1lB",
        "outputId": "1911c2ef-5f0c-4a04-9200-5e8a53685d79"
      },
      "execution_count": 596,
      "outputs": [
        {
          "output_type": "stream",
          "name": "stdout",
          "text": [
            "Ein = 0.0\n",
            "F1_in = 1.0\n",
            "Eval = 0.26176\n",
            "F1_val = 0.17226\n"
          ]
        }
      ]
    },
    {
      "cell_type": "code",
      "source": [
        "plot_confusion_matrix(model, train_x, train_y)\n",
        "plot_confusion_matrix(model, val_x, val_y)\n",
        "print(encoder_map)"
      ],
      "metadata": {
        "id": "yWM9fKw1MLr1",
        "outputId": "5897a6c9-0a63-4f63-ed71-2b707b37506b",
        "colab": {
          "base_uri": "https://localhost:8080/",
          "height": 648
        }
      },
      "execution_count": 597,
      "outputs": [
        {
          "output_type": "stream",
          "name": "stderr",
          "text": [
            "/usr/local/lib/python3.7/dist-packages/sklearn/utils/deprecation.py:87: FutureWarning: Function plot_confusion_matrix is deprecated; Function `plot_confusion_matrix` is deprecated in 1.0 and will be removed in 1.2. Use one of the class methods: ConfusionMatrixDisplay.from_predictions or ConfusionMatrixDisplay.from_estimator.\n",
            "  warnings.warn(msg, category=FutureWarning)\n",
            "/usr/local/lib/python3.7/dist-packages/sklearn/utils/deprecation.py:87: FutureWarning: Function plot_confusion_matrix is deprecated; Function `plot_confusion_matrix` is deprecated in 1.0 and will be removed in 1.2. Use one of the class methods: ConfusionMatrixDisplay.from_predictions or ConfusionMatrixDisplay.from_estimator.\n",
            "  warnings.warn(msg, category=FutureWarning)\n"
          ]
        },
        {
          "output_type": "stream",
          "name": "stdout",
          "text": [
            "{'Attitude': 0, 'Competitor': 1, 'Dissatisfaction': 2, 'No Churn': 3, 'Other': 4, 'Price': 5}\n"
          ]
        },
        {
          "output_type": "display_data",
          "data": {
            "image/png": "[encoded data removed]",
            "text/plain": [
              "<Figure size 432x288 with 2 Axes>"
            ]
          },
          "metadata": {
            "needs_background": "light"
          }
        },
        {
          "output_type": "display_data",
          "data": {
            "image/png": "[encoded data removed]",
            "text/plain": [
              "<Figure size 432x288 with 2 Axes>"
            ]
          },
          "metadata": {
            "needs_background": "light"
          }
        }
      ]
    },
    {
      "cell_type": "code",
      "source": [
        "print(classification_report(train_y, y_train_predict))\n",
        "print(classification_report(val_y, y_val_predict))"
      ],
      "metadata": {
        "id": "LMiWePsbSW4Y",
        "outputId": "12864ba8-738e-4cb3-f51c-514a9b01f3f3",
        "colab": {
          "base_uri": "https://localhost:8080/"
        }
      },
      "execution_count": 598,
      "outputs": [
        {
          "output_type": "stream",
          "name": "stdout",
          "text": [
            "              precision    recall  f1-score   support\n",
            "\n",
            "           0       1.00      1.00      1.00       199\n",
            "           1       1.00      1.00      1.00       543\n",
            "           2       1.00      1.00      1.00       174\n",
            "           3       1.00      1.00      1.00      3304\n",
            "           4       1.00      1.00      1.00       150\n",
            "           5       1.00      1.00      1.00       137\n",
            "\n",
            "    accuracy                           1.00      4507\n",
            "   macro avg       1.00      1.00      1.00      4507\n",
            "weighted avg       1.00      1.00      1.00      4507\n",
            "\n",
            "              precision    recall  f1-score   support\n",
            "\n",
            "           0       0.00      0.00      0.00        72\n",
            "           1       0.37      0.12      0.18       119\n",
            "           2       0.00      0.00      0.00        48\n",
            "           3       0.75      0.99      0.86       829\n",
            "           4       0.00      0.00      0.00        25\n",
            "           5       0.00      0.00      0.00        34\n",
            "\n",
            "    accuracy                           0.74      1127\n",
            "   macro avg       0.19      0.18      0.17      1127\n",
            "weighted avg       0.59      0.74      0.65      1127\n",
            "\n"
          ]
        },
        {
          "output_type": "stream",
          "name": "stderr",
          "text": [
            "/usr/local/lib/python3.7/dist-packages/sklearn/metrics/_classification.py:1318: UndefinedMetricWarning: Precision and F-score are ill-defined and being set to 0.0 in labels with no predicted samples. Use `zero_division` parameter to control this behavior.\n",
            "  _warn_prf(average, modifier, msg_start, len(result))\n",
            "/usr/local/lib/python3.7/dist-packages/sklearn/metrics/_classification.py:1318: UndefinedMetricWarning: Precision and F-score are ill-defined and being set to 0.0 in labels with no predicted samples. Use `zero_division` parameter to control this behavior.\n",
            "  _warn_prf(average, modifier, msg_start, len(result))\n",
            "/usr/local/lib/python3.7/dist-packages/sklearn/metrics/_classification.py:1318: UndefinedMetricWarning: Precision and F-score are ill-defined and being set to 0.0 in labels with no predicted samples. Use `zero_division` parameter to control this behavior.\n",
            "  _warn_prf(average, modifier, msg_start, len(result))\n"
          ]
        }
      ]
    },
    {
      "cell_type": "markdown",
      "source": [
        "# **SVM Test**"
      ],
      "metadata": {
        "id": "ViqMiLyMavbf"
      }
    },
    {
      "cell_type": "code",
      "source": [
        "X_test = result_test_copy.drop('Customer ID', axis=1)\n",
        "X_test = X_test.drop('Churn Category', axis=1)\n",
        "ss = StandardScaler().fit(X_test)\n",
        "X_test_std = ss.transform(X_test)\n",
        "y_test = svm.predict(X_test_std)"
      ],
      "metadata": {
        "id": "dxd93_hUauU5"
      },
      "execution_count": 599,
      "outputs": []
    },
    {
      "cell_type": "code",
      "source": [
        "plot_confusion_matrix(model, X_test_std, y_test)\n",
        "print(encoder_map)"
      ],
      "metadata": {
        "id": "098w16TfMkqn",
        "outputId": "312f0e94-b556-43d9-cfaf-b38df7ba2314",
        "colab": {
          "base_uri": "https://localhost:8080/",
          "height": 351
        }
      },
      "execution_count": 600,
      "outputs": [
        {
          "output_type": "stream",
          "name": "stderr",
          "text": [
            "/usr/local/lib/python3.7/dist-packages/sklearn/utils/deprecation.py:87: FutureWarning: Function plot_confusion_matrix is deprecated; Function `plot_confusion_matrix` is deprecated in 1.0 and will be removed in 1.2. Use one of the class methods: ConfusionMatrixDisplay.from_predictions or ConfusionMatrixDisplay.from_estimator.\n",
            "  warnings.warn(msg, category=FutureWarning)\n"
          ]
        },
        {
          "output_type": "stream",
          "name": "stdout",
          "text": [
            "{'Attitude': 0, 'Competitor': 1, 'Dissatisfaction': 2, 'No Churn': 3, 'Other': 4, 'Price': 5}\n"
          ]
        },
        {
          "output_type": "display_data",
          "data": {
            "image/png": "[encoded data removed]",
            "text/plain": [
              "<Figure size 432x288 with 2 Axes>"
            ]
          },
          "metadata": {
            "needs_background": "light"
          }
        }
      ]
    },
    {
      "cell_type": "code",
      "source": [
        "submit_result = './svm_result.csv'\n",
        "\n",
        "new_encoder_map = {'No Churn':0, 'Competitor': 1, 'Dissatisfaction':2, 'Attitude': 3, 'Price':4, 'Other':5}\n",
        "\n",
        "with open(submit_result, 'w') as f:\n",
        "    f.write('Customer ID,Churn Category\\n')\n",
        "    for i in range(len(df_test.values)):\n",
        "        id = str(df_test.values[i]).replace('[\\'', '')\n",
        "        id = id.replace('\\']', '')\n",
        "        pred = new_encoder_map.get(list(encoder_map.keys())[list(encoder_map.values()).index(y_test[i])])\n",
        "        f.write(f'{id},{pred}\\n')"
      ],
      "metadata": {
        "id": "6N35sOjrcpNd"
      },
      "execution_count": 601,
      "outputs": []
    },
    {
      "cell_type": "code",
      "source": [
        "from google.colab import files\n",
        "\n",
        "files.download(submit_result)"
      ],
      "metadata": {
        "colab": {
          "base_uri": "https://localhost:8080/",
          "height": 17
        },
        "id": "0tLUThI7nWnj",
        "outputId": "55d0d6b6-b40d-4f65-e096-03db21e541b1"
      },
      "execution_count": 602,
      "outputs": [
        {
          "output_type": "display_data",
          "data": {
            "application/javascript": [
              "\n",
              "    async function download(id, filename, size) {\n",
              "      if (!google.colab.kernel.accessAllowed) {\n",
              "        return;\n",
              "      }\n",
              "      const div = document.createElement('div');\n",
              "      const label = document.createElement('label');\n",
              "      label.textContent = `Downloading \"${filename}\": `;\n",
              "      div.appendChild(label);\n",
              "      const progress = document.createElement('progress');\n",
              "      progress.max = size;\n",
              "      div.appendChild(progress);\n",
              "      document.body.appendChild(div);\n",
              "\n",
              "      const buffers = [];\n",
              "      let downloaded = 0;\n",
              "\n",
              "      const channel = await google.colab.kernel.comms.open(id);\n",
              "      // Send a message to notify the kernel that we're ready.\n",
              "      channel.send({})\n",
              "\n",
              "      for await (const message of channel.messages) {\n",
              "        // Send a message to notify the kernel that we're ready.\n",
              "        channel.send({})\n",
              "        if (message.buffers) {\n",
              "          for (const buffer of message.buffers) {\n",
              "            buffers.push(buffer);\n",
              "            downloaded += buffer.byteLength;\n",
              "            progress.value = downloaded;\n",
              "          }\n",
              "        }\n",
              "      }\n",
              "      const blob = new Blob(buffers, {type: 'application/binary'});\n",
              "      const a = document.createElement('a');\n",
              "      a.href = window.URL.createObjectURL(blob);\n",
              "      a.download = filename;\n",
              "      div.appendChild(a);\n",
              "      a.click();\n",
              "      div.remove();\n",
              "    }\n",
              "  "
            ],
            "text/plain": [
              "<IPython.core.display.Javascript object>"
            ]
          },
          "metadata": {}
        },
        {
          "output_type": "display_data",
          "data": {
            "application/javascript": [
              "download(\"download_b98b31d2-dc02-42a5-bd13-901304990bec\", \"svm_result.csv\", 18344)"
            ],
            "text/plain": [
              "<IPython.core.display.Javascript object>"
            ]
          },
          "metadata": {}
        }
      ]
    },
    {
      "cell_type": "markdown",
      "source": [
        "# **Deep Neural Network Train**"
      ],
      "metadata": {
        "id": "ZFjmDSVGQPwo"
      }
    },
    {
      "cell_type": "code",
      "source": [
        "class IBMDataset(Dataset):\n",
        "    def __init__(self, X, y=None):\n",
        "        self.data = torch.from_numpy(X).float()\n",
        "        if y is not None:\n",
        "            y = y.astype(np.int)\n",
        "            self.label = torch.LongTensor(y)\n",
        "        else:\n",
        "            self.label = None\n",
        "\n",
        "    def __getitem__(self, idx):\n",
        "        if self.label is not None:\n",
        "            return self.data[idx], self.label[idx]\n",
        "        else:\n",
        "            return self.data[idx]\n",
        "\n",
        "    def __len__(self):\n",
        "        return len(self.data)"
      ],
      "metadata": {
        "id": "G5F9W_RkSub3"
      },
      "execution_count": 603,
      "outputs": []
    },
    {
      "cell_type": "code",
      "source": [
        "class Classifier(nn.Module):\n",
        "    def __init__(self):\n",
        "        super(Classifier, self).__init__()\n",
        "        self.layer1 = nn.Linear(feature_amount - 2, 256)\n",
        "        self.layer2 = nn.Linear(256, 128)\n",
        "        self.layer3 = nn.Linear(128, 64)\n",
        "        self.bn1 = nn.BatchNorm1d(256)\n",
        "        self.bn2 = nn.BatchNorm1d(128)\n",
        "        self.bn3 = nn.BatchNorm1d(64)\n",
        "        self.out = nn.Linear(64, 6)\n",
        "        self.dp = nn.Dropout(0.1)\n",
        "        self.act_fn = nn.LeakyReLU()\n",
        "\n",
        "    def forward(self, x):\n",
        "        x = self.layer1(x)\n",
        "        x = self.act_fn(x)\n",
        "        x = self.bn1(x)\n",
        "        x = self.dp(x)\n",
        "\n",
        "        x = self.layer2(x)\n",
        "        x = self.act_fn(x)\n",
        "        x = self.bn2(x)\n",
        "        x = self.dp(x)\n",
        "\n",
        "        x = self.layer3(x)\n",
        "        x = self.act_fn(x)\n",
        "        x = self.bn3(x)\n",
        "        x = self.dp(x)\n",
        "        \n",
        "        x = self.out(x)\n",
        "        \n",
        "        return x\n",
        "\n",
        "# classifier = Classifier()\n",
        "# summary(classifier, X_train.shape, device=\"cpu\")"
      ],
      "metadata": {
        "id": "K_ofbzUUQdOX"
      },
      "execution_count": 604,
      "outputs": []
    },
    {
      "cell_type": "code",
      "source": [
        "VAL_RATIO = 0.2\n",
        "BATCH_SIZE = 64\n",
        "\n",
        "sc = StandardScaler()\n",
        "ss = StandardScaler().fit(X_train)\n",
        "X_train_std = ss.transform(X_train)\n",
        "\n",
        "percent = int(X_train_std.shape[0] * (1 - VAL_RATIO))\n",
        "train_x, train_y, val_x, val_y = X_train_std[:percent], y_train[:percent], X_train_std[percent:], y_train[percent:]\n",
        "print('Size of training set: {}'.format(train_x.shape))\n",
        "print('Size of validation set: {}'.format(val_x.shape))"
      ],
      "metadata": {
        "id": "3lDEMsTdTVd3",
        "outputId": "29b2d208-7cbe-4b4e-ed2b-b99dd4399456",
        "colab": {
          "base_uri": "https://localhost:8080/"
        }
      },
      "execution_count": 605,
      "outputs": [
        {
          "output_type": "stream",
          "name": "stdout",
          "text": [
            "Size of training set: (4507, 42)\n",
            "Size of validation set: (1127, 42)\n"
          ]
        }
      ]
    },
    {
      "cell_type": "code",
      "source": [
        "train_set = IBMDataset(train_x, train_y)\n",
        "val_set = IBMDataset(val_x, val_y)\n",
        "train_loader = DataLoader(train_set, batch_size=BATCH_SIZE, shuffle=True) # only shuffle the training data\n",
        "val_loader = DataLoader(val_set, batch_size=BATCH_SIZE, shuffle=False)"
      ],
      "metadata": {
        "id": "RaPDAgDzTcrs"
      },
      "execution_count": 606,
      "outputs": []
    },
    {
      "cell_type": "code",
      "source": [
        "# get device \n",
        "device = 'cuda' if torch.cuda.is_available() else 'cpu'\n",
        "print(f'DEVICE: {device}')\n",
        "\n",
        "# training parameters\n",
        "num_epoch = 3000             # number of training epoch\n",
        "learning_rate = 0.001       # learning rate\n",
        "callback_num = 500\n",
        "\n",
        "# the path where checkpoint saved\n",
        "model_path = './best_model.ckpt'\n",
        "\n",
        "# create model, define a loss function, and optimizer\n",
        "model = Classifier().to(device)\n",
        "class_weight = [v for k, v in class_weight.items()]\n",
        "criterion = nn.CrossEntropyLoss(weight=torch.FloatTensor(class_weight).to(device)) \n",
        "optimizer = torch.optim.Adam(model.parameters(), lr=learning_rate)\n",
        "scheduler = StepLR(optimizer, step_size=len(train_loader) * 200, gamma=0.1)"
      ],
      "metadata": {
        "id": "CMbU0r5fRwai",
        "outputId": "f8a305d7-b065-4a56-9171-ada5b7a58c3e",
        "colab": {
          "base_uri": "https://localhost:8080/"
        }
      },
      "execution_count": 607,
      "outputs": [
        {
          "output_type": "stream",
          "name": "stdout",
          "text": [
            "DEVICE: cuda\n"
          ]
        }
      ]
    },
    {
      "cell_type": "code",
      "source": [
        "best_acc = 0.0\n",
        "count = 0\n",
        "start_time = time.time()\n",
        "train_acc_list = []\n",
        "train_loss_list = []\n",
        "val_acc_list = []\n",
        "val_loss_list = []\n",
        "for epoch in range(num_epoch):\n",
        "    train_acc = 0.0\n",
        "    train_loss = 0.0\n",
        "    val_acc = 0.0\n",
        "    val_loss = 0.0\n",
        "\n",
        "    # training\n",
        "    model.train() # set the model to training mode\n",
        "    for i, data in enumerate(train_loader):\n",
        "        inputs, labels = data\n",
        "        inputs, labels = inputs.to(device), labels.to(device)\n",
        "        optimizer.zero_grad() \n",
        "        outputs = model(inputs) \n",
        "        batch_loss = criterion(outputs, labels)\n",
        "        _, train_pred = torch.max(outputs, 1) # get the index of the class with the highest probability\n",
        "        batch_loss.backward() \n",
        "        optimizer.step()\n",
        "        scheduler.step()\n",
        "\n",
        "        train_acc += (train_pred.cpu() == labels.cpu()).sum().item()\n",
        "        train_loss += batch_loss.item()\n",
        "\n",
        "    # validation\n",
        "    if len(val_set) > 0:\n",
        "        model.eval() # set the model to evaluation mode\n",
        "        with torch.no_grad():\n",
        "            for i, data in enumerate(val_loader):\n",
        "                inputs, labels = data\n",
        "                inputs, labels = inputs.to(device), labels.to(device)\n",
        "                outputs = model(inputs)\n",
        "                batch_loss = criterion(outputs, labels) \n",
        "                _, val_pred = torch.max(outputs, 1) \n",
        "            \n",
        "                val_acc += (val_pred.cpu() == labels.cpu()).sum().item() # get the index of the class with the highest probability\n",
        "                val_loss += batch_loss.item()\n",
        "\n",
        "            print('[{:03d}/{:03d}] Train Acc: {:3.6f} Loss: {:3.6f} | Val Acc: {:3.6f} loss: {:3.6f}'.format(\n",
        "                epoch + 1, num_epoch, train_acc/len(train_set), train_loss/len(train_loader), val_acc/len(val_set), val_loss/len(val_loader)\n",
        "            ))\n",
        "\n",
        "            # Record Training and validation info\n",
        "            train_acc_list.append(train_acc/len(train_set))\n",
        "            train_loss_list.append(train_loss/len(train_loader))\n",
        "            val_acc_list.append(val_acc/len(val_set))\n",
        "            val_loss_list.append(val_loss/len(val_loader))\n",
        "\n",
        "            # if the model improves, save a checkpoint at this epoch\n",
        "            count += 1\n",
        "            if val_acc > best_acc:\n",
        "                count = 0\n",
        "                best_acc = val_acc\n",
        "                torch.save(model.state_dict(), model_path)\n",
        "                print('saving model with acc {:.3f}'.format(best_acc/len(val_set)))\n",
        "    else:\n",
        "        print('[{:03d}/{:03d}] Train Acc: {:3.6f} Loss: {:3.6f}'.format(\n",
        "            epoch + 1, num_epoch, train_acc/len(train_set), train_loss/len(train_loader)\n",
        "        ))\n",
        "\n",
        "    if count > callback_num:\n",
        "        break\n",
        "\n",
        "# if not validating, save the last epoch\n",
        "if len(val_set) == 0:\n",
        "    torch.save(model.state_dict(), model_path)\n",
        "    print('saving model at last epoch')\n",
        "\n",
        "end_time = time.time()"
      ],
      "metadata": {
        "id": "zYGRiadPSNDo",
        "outputId": "b83f625d-d214-4734-8963-5c127b37ff39",
        "colab": {
          "base_uri": "https://localhost:8080/"
        }
      },
      "execution_count": 608,
      "outputs": [
        {
          "output_type": "stream",
          "name": "stdout",
          "text": [
            "[001/3000] Train Acc: 0.252274 Loss: 1.840413 | Val Acc: 0.322981 loss: 1.798882\n",
            "saving model with acc 0.323\n",
            "[002/3000] Train Acc: 0.388729 Loss: 1.609684 | Val Acc: 0.334516 loss: 1.780774\n",
            "saving model with acc 0.335\n",
            "[003/3000] Train Acc: 0.426892 Loss: 1.500432 | Val Acc: 0.396628 loss: 1.797808\n",
            "saving model with acc 0.397\n",
            "[004/3000] Train Acc: 0.463945 Loss: 1.385858 | Val Acc: 0.444543 loss: 1.856057\n",
            "saving model with acc 0.445\n",
            "[005/3000] Train Acc: 0.482583 Loss: 1.304954 | Val Acc: 0.440994 loss: 1.936006\n",
            "[006/3000] Train Acc: 0.519636 Loss: 1.184755 | Val Acc: 0.454303 loss: 2.015686\n",
            "saving model with acc 0.454\n",
            "[007/3000] Train Acc: 0.549590 Loss: 1.081845 | Val Acc: 0.450754 loss: 2.077663\n",
            "[008/3000] Train Acc: 0.564012 Loss: 0.999834 | Val Acc: 0.482697 loss: 2.113117\n",
            "saving model with acc 0.483\n",
            "[009/3000] Train Acc: 0.597515 Loss: 0.877266 | Val Acc: 0.454303 loss: 2.356992\n",
            "[010/3000] Train Acc: 0.590859 Loss: 0.799968 | Val Acc: 0.479148 loss: 2.313784\n",
            "[011/3000] Train Acc: 0.606168 Loss: 0.759743 | Val Acc: 0.470275 loss: 2.445918\n",
            "[012/3000] Train Acc: 0.627690 Loss: 0.740559 | Val Acc: 0.496007 loss: 2.485022\n",
            "saving model with acc 0.496\n",
            "[013/3000] Train Acc: 0.643665 Loss: 0.648460 | Val Acc: 0.496007 loss: 2.605035\n",
            "[014/3000] Train Acc: 0.666963 Loss: 0.606504 | Val Acc: 0.532387 loss: 2.627991\n",
            "saving model with acc 0.532\n",
            "[015/3000] Train Acc: 0.667184 Loss: 0.579831 | Val Acc: 0.488021 loss: 2.863555\n",
            "[016/3000] Train Acc: 0.692256 Loss: 0.548853 | Val Acc: 0.525288 loss: 2.964462\n",
            "[017/3000] Train Acc: 0.708232 Loss: 0.504523 | Val Acc: 0.529725 loss: 3.025970\n",
            "[018/3000] Train Acc: 0.718882 Loss: 0.507262 | Val Acc: 0.539485 loss: 3.110592\n",
            "saving model with acc 0.539\n",
            "[019/3000] Train Acc: 0.717329 Loss: 0.503140 | Val Acc: 0.556344 loss: 3.105973\n",
            "saving model with acc 0.556\n",
            "[020/3000] Train Acc: 0.738629 Loss: 0.432190 | Val Acc: 0.566105 loss: 3.127629\n",
            "saving model with acc 0.566\n",
            "[021/3000] Train Acc: 0.749279 Loss: 0.404472 | Val Acc: 0.554570 loss: 3.244978\n",
            "[022/3000] Train Acc: 0.754604 Loss: 0.427976 | Val Acc: 0.571429 loss: 3.302008\n",
            "saving model with acc 0.571\n",
            "[023/3000] Train Acc: 0.752607 Loss: 0.405892 | Val Acc: 0.555457 loss: 3.361898\n",
            "[024/3000] Train Acc: 0.766363 Loss: 0.366349 | Val Acc: 0.584738 loss: 3.414654\n",
            "saving model with acc 0.585\n",
            "[025/3000] Train Acc: 0.773907 Loss: 0.354724 | Val Acc: 0.587400 loss: 3.442304\n",
            "saving model with acc 0.587\n",
            "[026/3000] Train Acc: 0.775460 Loss: 0.346685 | Val Acc: 0.559006 loss: 3.551596\n",
            "[027/3000] Train Acc: 0.775460 Loss: 0.358715 | Val Acc: 0.585626 loss: 3.613466\n",
            "[028/3000] Train Acc: 0.783892 Loss: 0.343253 | Val Acc: 0.587400 loss: 3.677529\n",
            "[029/3000] Train Acc: 0.791436 Loss: 0.320522 | Val Acc: 0.578527 loss: 3.673243\n",
            "[030/3000] Train Acc: 0.783226 Loss: 0.321723 | Val Acc: 0.586513 loss: 3.702232\n",
            "[031/3000] Train Acc: 0.801420 Loss: 0.304030 | Val Acc: 0.606034 loss: 3.759024\n",
            "saving model with acc 0.606\n",
            "[032/3000] Train Acc: 0.808520 Loss: 0.293187 | Val Acc: 0.588287 loss: 3.978174\n",
            "[033/3000] Train Acc: 0.803195 Loss: 0.307192 | Val Acc: 0.593611 loss: 3.878402\n",
            "[034/3000] Train Acc: 0.804748 Loss: 0.289822 | Val Acc: 0.588287 loss: 3.903725\n",
            "[035/3000] Train Acc: 0.816951 Loss: 0.267560 | Val Acc: 0.611358 loss: 4.032121\n",
            "saving model with acc 0.611\n",
            "[036/3000] Train Acc: 0.809408 Loss: 0.297497 | Val Acc: 0.605146 loss: 4.002003\n",
            "[037/3000] Train Acc: 0.805192 Loss: 0.304932 | Val Acc: 0.584738 loss: 4.164709\n",
            "[038/3000] Train Acc: 0.814955 Loss: 0.270504 | Val Acc: 0.591837 loss: 4.251433\n",
            "[039/3000] Train Acc: 0.826492 Loss: 0.242717 | Val Acc: 0.604259 loss: 4.161589\n",
            "[040/3000] Train Acc: 0.843355 Loss: 0.236657 | Val Acc: 0.609583 loss: 4.265624\n",
            "[041/3000] Train Acc: 0.833148 Loss: 0.264994 | Val Acc: 0.606034 loss: 4.140595\n",
            "[042/3000] Train Acc: 0.823164 Loss: 0.257487 | Val Acc: 0.631766 loss: 4.174191\n",
            "saving model with acc 0.632\n",
            "[043/3000] Train Acc: 0.827602 Loss: 0.253937 | Val Acc: 0.608696 loss: 4.214709\n",
            "[044/3000] Train Acc: 0.837142 Loss: 0.228358 | Val Acc: 0.628217 loss: 4.367008\n",
            "[045/3000] Train Acc: 0.836033 Loss: 0.254487 | Val Acc: 0.598048 loss: 4.289238\n",
            "[046/3000] Train Acc: 0.836920 Loss: 0.225808 | Val Acc: 0.617569 loss: 4.275466\n",
            "[047/3000] Train Acc: 0.854227 Loss: 0.213349 | Val Acc: 0.617569 loss: 4.413504\n",
            "[048/3000] Train Acc: 0.830264 Loss: 0.240543 | Val Acc: 0.595386 loss: 4.435026\n",
            "[049/3000] Train Acc: 0.847570 Loss: 0.198356 | Val Acc: 0.598048 loss: 4.462280\n",
            "[050/3000] Train Acc: 0.853339 Loss: 0.226812 | Val Acc: 0.604259 loss: 4.438435\n",
            "[051/3000] Train Acc: 0.848458 Loss: 0.241301 | Val Acc: 0.612245 loss: 4.459129\n",
            "[052/3000] Train Acc: 0.857777 Loss: 0.205465 | Val Acc: 0.607808 loss: 4.515211\n",
            "[053/3000] Train Acc: 0.854005 Loss: 0.226961 | Val Acc: 0.611358 loss: 4.593165\n",
            "[054/3000] Train Acc: 0.842467 Loss: 0.232572 | Val Acc: 0.604259 loss: 4.651355\n",
            "[055/3000] Train Acc: 0.862658 Loss: 0.189345 | Val Acc: 0.630878 loss: 4.567592\n",
            "[056/3000] Train Acc: 0.878633 Loss: 0.164757 | Val Acc: 0.632653 loss: 4.678679\n",
            "saving model with acc 0.633\n",
            "[057/3000] Train Acc: 0.869093 Loss: 0.186398 | Val Acc: 0.618456 loss: 4.737386\n",
            "[058/3000] Train Acc: 0.856446 Loss: 0.213531 | Val Acc: 0.612245 loss: 4.657188\n",
            "[059/3000] Train Acc: 0.863546 Loss: 0.191322 | Val Acc: 0.616681 loss: 4.773752\n",
            "[060/3000] Train Acc: 0.854227 Loss: 0.238342 | Val Acc: 0.608696 loss: 4.818503\n",
            "[061/3000] Train Acc: 0.848902 Loss: 0.221068 | Val Acc: 0.601597 loss: 4.819553\n",
            "[062/3000] Train Acc: 0.851342 Loss: 0.206906 | Val Acc: 0.617569 loss: 4.810512\n",
            "[063/3000] Train Acc: 0.869536 Loss: 0.172036 | Val Acc: 0.629104 loss: 4.909846\n",
            "[064/3000] Train Acc: 0.869758 Loss: 0.172682 | Val Acc: 0.615794 loss: 4.680551\n",
            "[065/3000] Train Acc: 0.876858 Loss: 0.160854 | Val Acc: 0.621118 loss: 4.717097\n",
            "[066/3000] Train Acc: 0.891946 Loss: 0.139839 | Val Acc: 0.648625 loss: 4.950087\n",
            "saving model with acc 0.649\n",
            "[067/3000] Train Acc: 0.891058 Loss: 0.150682 | Val Acc: 0.637977 loss: 4.959451\n",
            "[068/3000] Train Acc: 0.883515 Loss: 0.143280 | Val Acc: 0.635315 loss: 4.989970\n",
            "[069/3000] Train Acc: 0.892168 Loss: 0.157720 | Val Acc: 0.643301 loss: 5.127933\n",
            "[070/3000] Train Acc: 0.890171 Loss: 0.138472 | Val Acc: 0.639752 loss: 5.236980\n",
            "[071/3000] Train Acc: 0.896605 Loss: 0.147090 | Val Acc: 0.638864 loss: 5.274434\n",
            "[072/3000] Train Acc: 0.884846 Loss: 0.170010 | Val Acc: 0.633540 loss: 5.148638\n",
            "[073/3000] Train Acc: 0.886177 Loss: 0.183417 | Val Acc: 0.639752 loss: 5.040330\n",
            "[074/3000] Train Acc: 0.884624 Loss: 0.186761 | Val Acc: 0.626442 loss: 5.187220\n",
            "[075/3000] Train Acc: 0.870202 Loss: 0.196447 | Val Acc: 0.625555 loss: 5.222783\n",
            "[076/3000] Train Acc: 0.880408 Loss: 0.184638 | Val Acc: 0.641526 loss: 5.025750\n",
            "[077/3000] Train Acc: 0.880630 Loss: 0.192258 | Val Acc: 0.628217 loss: 5.290446\n",
            "[078/3000] Train Acc: 0.872199 Loss: 0.194385 | Val Acc: 0.629991 loss: 5.247548\n",
            "[079/3000] Train Acc: 0.877968 Loss: 0.219938 | Val Acc: 0.629991 loss: 5.199282\n",
            "[080/3000] Train Acc: 0.873530 Loss: 0.192762 | Val Acc: 0.629991 loss: 5.146846\n",
            "[081/3000] Train Acc: 0.875083 Loss: 0.182851 | Val Acc: 0.617569 loss: 5.121295\n",
            "[082/3000] Train Acc: 0.880852 Loss: 0.178682 | Val Acc: 0.619343 loss: 5.077516\n",
            "[083/3000] Train Acc: 0.883293 Loss: 0.162943 | Val Acc: 0.629991 loss: 5.071176\n",
            "[084/3000] Train Acc: 0.883515 Loss: 0.165320 | Val Acc: 0.633540 loss: 5.213841\n",
            "[085/3000] Train Acc: 0.892833 Loss: 0.146285 | Val Acc: 0.664596 loss: 5.260014\n",
            "saving model with acc 0.665\n",
            "[086/3000] Train Acc: 0.900821 Loss: 0.131774 | Val Acc: 0.653949 loss: 5.403292\n",
            "[087/3000] Train Acc: 0.898602 Loss: 0.142961 | Val Acc: 0.654836 loss: 5.414310\n",
            "[088/3000] Train Acc: 0.891724 Loss: 0.158444 | Val Acc: 0.635315 loss: 5.395497\n",
            "[089/3000] Train Acc: 0.899046 Loss: 0.134853 | Val Acc: 0.641526 loss: 5.410138\n",
            "[090/3000] Train Acc: 0.904593 Loss: 0.126982 | Val Acc: 0.642413 loss: 5.421456\n",
            "[091/3000] Train Acc: 0.917018 Loss: 0.121048 | Val Acc: 0.633540 loss: 5.626552\n",
            "[092/3000] Train Acc: 0.904149 Loss: 0.135193 | Val Acc: 0.634428 loss: 5.608087\n",
            "[093/3000] Train Acc: 0.907255 Loss: 0.132555 | Val Acc: 0.641526 loss: 5.670023\n",
            "[094/3000] Train Acc: 0.909474 Loss: 0.138456 | Val Acc: 0.628217 loss: 5.461103\n",
            "[095/3000] Train Acc: 0.906146 Loss: 0.142584 | Val Acc: 0.622005 loss: 5.554484\n",
            "[096/3000] Train Acc: 0.887952 Loss: 0.166189 | Val Acc: 0.642413 loss: 5.652549\n",
            "[097/3000] Train Acc: 0.903705 Loss: 0.143875 | Val Acc: 0.621118 loss: 5.607079\n",
            "[098/3000] Train Acc: 0.893499 Loss: 0.151320 | Val Acc: 0.649512 loss: 5.735256\n",
            "[099/3000] Train Acc: 0.900377 Loss: 0.159378 | Val Acc: 0.648625 loss: 5.687923\n",
            "[100/3000] Train Acc: 0.907699 Loss: 0.143645 | Val Acc: 0.627329 loss: 5.640925\n",
            "[101/3000] Train Acc: 0.893055 Loss: 0.164399 | Val Acc: 0.624667 loss: 5.697793\n",
            "[102/3000] Train Acc: 0.905702 Loss: 0.126168 | Val Acc: 0.637977 loss: 5.756007\n",
            "[103/3000] Train Acc: 0.910584 Loss: 0.118732 | Val Acc: 0.637090 loss: 5.601783\n",
            "[104/3000] Train Acc: 0.915465 Loss: 0.130907 | Val Acc: 0.637977 loss: 5.804369\n",
            "[105/3000] Train Acc: 0.900821 Loss: 0.149415 | Val Acc: 0.646850 loss: 5.865328\n",
            "[106/3000] Train Acc: 0.899490 Loss: 0.132213 | Val Acc: 0.632653 loss: 5.694914\n",
            "[107/3000] Train Acc: 0.899268 Loss: 0.172235 | Val Acc: 0.637090 loss: 5.641390\n",
            "[108/3000] Train Acc: 0.897493 Loss: 0.160160 | Val Acc: 0.627329 loss: 5.785779\n",
            "[109/3000] Train Acc: 0.914577 Loss: 0.104515 | Val Acc: 0.637977 loss: 5.628379\n",
            "[110/3000] Train Acc: 0.912580 Loss: 0.118155 | Val Acc: 0.646850 loss: 5.643949\n",
            "[111/3000] Train Acc: 0.902818 Loss: 0.118332 | Val Acc: 0.657498 loss: 5.762786\n",
            "[112/3000] Train Acc: 0.919902 Loss: 0.102462 | Val Acc: 0.655723 loss: 5.954102\n",
            "[113/3000] Train Acc: 0.921456 Loss: 0.104532 | Val Acc: 0.634428 loss: 5.713955\n",
            "[114/3000] Train Acc: 0.922343 Loss: 0.118680 | Val Acc: 0.651287 loss: 5.992193\n",
            "[115/3000] Train Acc: 0.921456 Loss: 0.102751 | Val Acc: 0.664596 loss: 5.897916\n",
            "[116/3000] Train Acc: 0.922565 Loss: 0.108873 | Val Acc: 0.656610 loss: 6.050983\n",
            "[117/3000] Train Acc: 0.917240 Loss: 0.108005 | Val Acc: 0.646850 loss: 5.969945\n",
            "[118/3000] Train Acc: 0.920124 Loss: 0.102909 | Val Acc: 0.657498 loss: 5.972608\n",
            "[119/3000] Train Acc: 0.927446 Loss: 0.094715 | Val Acc: 0.652174 loss: 5.905061\n",
            "[120/3000] Train Acc: 0.922121 Loss: 0.108872 | Val Acc: 0.651287 loss: 5.873750\n",
            "[121/3000] Train Acc: 0.921012 Loss: 0.143256 | Val Acc: 0.649512 loss: 5.742106\n",
            "[122/3000] Train Acc: 0.910584 Loss: 0.155565 | Val Acc: 0.637090 loss: 5.795832\n",
            "[123/3000] Train Acc: 0.903262 Loss: 0.150904 | Val Acc: 0.649512 loss: 5.905381\n",
            "[124/3000] Train Acc: 0.899046 Loss: 0.160023 | Val Acc: 0.634428 loss: 5.978114\n",
            "[125/3000] Train Acc: 0.898602 Loss: 0.196011 | Val Acc: 0.608696 loss: 5.708998\n",
            "[126/3000] Train Acc: 0.897715 Loss: 0.139400 | Val Acc: 0.643301 loss: 5.816989\n",
            "[127/3000] Train Acc: 0.911471 Loss: 0.123703 | Val Acc: 0.648625 loss: 5.745555\n",
            "[128/3000] Train Acc: 0.911915 Loss: 0.123366 | Val Acc: 0.629104 loss: 5.809239\n",
            "[129/3000] Train Acc: 0.911471 Loss: 0.118507 | Val Acc: 0.647737 loss: 5.836854\n",
            "[130/3000] Train Acc: 0.922343 Loss: 0.094647 | Val Acc: 0.655723 loss: 5.908438\n",
            "[131/3000] Train Acc: 0.930774 Loss: 0.095581 | Val Acc: 0.641526 loss: 6.011647\n",
            "[132/3000] Train Acc: 0.936099 Loss: 0.086188 | Val Acc: 0.653949 loss: 6.126666\n",
            "[133/3000] Train Acc: 0.925006 Loss: 0.115642 | Val Acc: 0.640639 loss: 6.066347\n",
            "[134/3000] Train Acc: 0.918793 Loss: 0.129398 | Val Acc: 0.652174 loss: 6.221353\n",
            "[135/3000] Train Acc: 0.919902 Loss: 0.122728 | Val Acc: 0.634428 loss: 6.042310\n",
            "[136/3000] Train Acc: 0.924784 Loss: 0.101299 | Val Acc: 0.640639 loss: 6.120313\n",
            "[137/3000] Train Acc: 0.923452 Loss: 0.115207 | Val Acc: 0.643301 loss: 6.149370\n",
            "[138/3000] Train Acc: 0.920568 Loss: 0.102345 | Val Acc: 0.663709 loss: 6.230042\n",
            "[139/3000] Train Acc: 0.926337 Loss: 0.107505 | Val Acc: 0.672582 loss: 6.145924\n",
            "saving model with acc 0.673\n",
            "[140/3000] Train Acc: 0.931440 Loss: 0.099110 | Val Acc: 0.657498 loss: 6.260663\n",
            "[141/3000] Train Acc: 0.930774 Loss: 0.094841 | Val Acc: 0.653949 loss: 6.289952\n",
            "[142/3000] Train Acc: 0.930331 Loss: 0.110593 | Val Acc: 0.673469 loss: 6.329087\n",
            "saving model with acc 0.673\n",
            "[143/3000] Train Acc: 0.924340 Loss: 0.111420 | Val Acc: 0.650399 loss: 6.248970\n",
            "[144/3000] Train Acc: 0.922343 Loss: 0.123976 | Val Acc: 0.663709 loss: 6.218875\n",
            "[145/3000] Train Acc: 0.911027 Loss: 0.118128 | Val Acc: 0.659272 loss: 6.263478\n",
            "[146/3000] Train Acc: 0.925449 Loss: 0.122899 | Val Acc: 0.657498 loss: 6.389884\n",
            "[147/3000] Train Acc: 0.910362 Loss: 0.142799 | Val Acc: 0.645963 loss: 6.374076\n",
            "[148/3000] Train Acc: 0.918349 Loss: 0.126803 | Val Acc: 0.652174 loss: 6.486413\n",
            "[149/3000] Train Acc: 0.919237 Loss: 0.120187 | Val Acc: 0.656610 loss: 6.489589\n",
            "[150/3000] Train Acc: 0.920124 Loss: 0.117701 | Val Acc: 0.667258 loss: 6.452665\n",
            "[151/3000] Train Acc: 0.911693 Loss: 0.122700 | Val Acc: 0.656610 loss: 6.180297\n",
            "[152/3000] Train Acc: 0.931662 Loss: 0.085249 | Val Acc: 0.669920 loss: 6.432063\n",
            "[153/3000] Train Acc: 0.929665 Loss: 0.089772 | Val Acc: 0.668146 loss: 6.496800\n",
            "[154/3000] Train Acc: 0.935656 Loss: 0.080503 | Val Acc: 0.671695 loss: 6.649724\n",
            "[155/3000] Train Acc: 0.934768 Loss: 0.097341 | Val Acc: 0.659272 loss: 6.477339\n",
            "[156/3000] Train Acc: 0.925671 Loss: 0.101251 | Val Acc: 0.660160 loss: 6.583393\n",
            "[157/3000] Train Acc: 0.928556 Loss: 0.107468 | Val Acc: 0.660160 loss: 6.416137\n",
            "[158/3000] Train Acc: 0.927224 Loss: 0.101777 | Val Acc: 0.664596 loss: 6.349541\n",
            "[159/3000] Train Acc: 0.934103 Loss: 0.088175 | Val Acc: 0.664596 loss: 6.580102\n",
            "[160/3000] Train Acc: 0.927446 Loss: 0.136924 | Val Acc: 0.662822 loss: 6.493043\n",
            "[161/3000] Train Acc: 0.913468 Loss: 0.134578 | Val Acc: 0.643301 loss: 6.375588\n",
            "[162/3000] Train Acc: 0.906146 Loss: 0.152365 | Val Acc: 0.628217 loss: 6.404613\n",
            "[163/3000] Train Acc: 0.904149 Loss: 0.141610 | Val Acc: 0.626442 loss: 6.406722\n",
            "[164/3000] Train Acc: 0.915687 Loss: 0.123296 | Val Acc: 0.643301 loss: 6.338247\n",
            "[165/3000] Train Acc: 0.922121 Loss: 0.107808 | Val Acc: 0.645075 loss: 6.338302\n",
            "[166/3000] Train Acc: 0.921234 Loss: 0.117451 | Val Acc: 0.646850 loss: 6.451685\n",
            "[167/3000] Train Acc: 0.922121 Loss: 0.114591 | Val Acc: 0.653949 loss: 6.432866\n",
            "[168/3000] Train Acc: 0.924118 Loss: 0.094198 | Val Acc: 0.661934 loss: 6.553846\n",
            "[169/3000] Train Acc: 0.931662 Loss: 0.090182 | Val Acc: 0.653061 loss: 6.675120\n",
            "[170/3000] Train Acc: 0.934768 Loss: 0.088950 | Val Acc: 0.672582 loss: 6.670583\n",
            "[171/3000] Train Acc: 0.933881 Loss: 0.096804 | Val Acc: 0.679681 loss: 6.655207\n",
            "saving model with acc 0.680\n",
            "[172/3000] Train Acc: 0.940315 Loss: 0.066080 | Val Acc: 0.674357 loss: 6.626744\n",
            "[173/3000] Train Acc: 0.938762 Loss: 0.092735 | Val Acc: 0.659272 loss: 6.584319\n",
            "[174/3000] Train Acc: 0.938540 Loss: 0.084725 | Val Acc: 0.671695 loss: 6.717637\n",
            "[175/3000] Train Acc: 0.942534 Loss: 0.082662 | Val Acc: 0.667258 loss: 6.402440\n",
            "[176/3000] Train Acc: 0.938984 Loss: 0.087681 | Val Acc: 0.673469 loss: 6.592453\n",
            "[177/3000] Train Acc: 0.942534 Loss: 0.089492 | Val Acc: 0.680568 loss: 6.690487\n",
            "saving model with acc 0.681\n",
            "[178/3000] Train Acc: 0.947415 Loss: 0.068608 | Val Acc: 0.676131 loss: 6.565165\n",
            "[179/3000] Train Acc: 0.947415 Loss: 0.071065 | Val Acc: 0.661047 loss: 6.703246\n",
            "[180/3000] Train Acc: 0.942978 Loss: 0.067582 | Val Acc: 0.663709 loss: 6.818721\n",
            "[181/3000] Train Acc: 0.951187 Loss: 0.075713 | Val Acc: 0.665484 loss: 6.963330\n",
            "[182/3000] Train Acc: 0.943199 Loss: 0.087509 | Val Acc: 0.656610 loss: 6.747997\n",
            "[183/3000] Train Acc: 0.943421 Loss: 0.077399 | Val Acc: 0.657498 loss: 6.829715\n",
            "[184/3000] Train Acc: 0.943865 Loss: 0.077480 | Val Acc: 0.678793 loss: 6.840929\n",
            "[185/3000] Train Acc: 0.941868 Loss: 0.082386 | Val Acc: 0.669920 loss: 6.830937\n",
            "[186/3000] Train Acc: 0.950300 Loss: 0.071944 | Val Acc: 0.681455 loss: 7.131011\n",
            "saving model with acc 0.681\n",
            "[187/3000] Train Acc: 0.951187 Loss: 0.075704 | Val Acc: 0.685004 loss: 7.003219\n",
            "saving model with acc 0.685\n",
            "[188/3000] Train Acc: 0.943865 Loss: 0.080579 | Val Acc: 0.657498 loss: 6.981338\n",
            "[189/3000] Train Acc: 0.933881 Loss: 0.133127 | Val Acc: 0.658385 loss: 7.014515\n",
            "[190/3000] Train Acc: 0.927002 Loss: 0.112514 | Val Acc: 0.660160 loss: 6.936664\n",
            "[191/3000] Train Acc: 0.935212 Loss: 0.100248 | Val Acc: 0.664596 loss: 6.955641\n",
            "[192/3000] Train Acc: 0.929665 Loss: 0.107544 | Val Acc: 0.649512 loss: 6.809757\n",
            "[193/3000] Train Acc: 0.935212 Loss: 0.097894 | Val Acc: 0.653949 loss: 6.930654\n",
            "[194/3000] Train Acc: 0.920124 Loss: 0.139201 | Val Acc: 0.645075 loss: 6.867149\n",
            "[195/3000] Train Acc: 0.926115 Loss: 0.106653 | Val Acc: 0.662822 loss: 7.027190\n",
            "[196/3000] Train Acc: 0.931218 Loss: 0.098395 | Val Acc: 0.650399 loss: 6.893753\n",
            "[197/3000] Train Acc: 0.933881 Loss: 0.110161 | Val Acc: 0.635315 loss: 6.842652\n",
            "[198/3000] Train Acc: 0.931440 Loss: 0.109248 | Val Acc: 0.658385 loss: 6.803689\n",
            "[199/3000] Train Acc: 0.942090 Loss: 0.080456 | Val Acc: 0.656610 loss: 6.673166\n",
            "[200/3000] Train Acc: 0.938318 Loss: 0.071778 | Val Acc: 0.659272 loss: 6.842717\n",
            "[201/3000] Train Acc: 0.953628 Loss: 0.071647 | Val Acc: 0.657498 loss: 6.865958\n",
            "[202/3000] Train Acc: 0.950965 Loss: 0.074496 | Val Acc: 0.654836 loss: 6.767406\n",
            "[203/3000] Train Acc: 0.958287 Loss: 0.059976 | Val Acc: 0.661047 loss: 6.839843\n",
            "[204/3000] Train Acc: 0.953184 Loss: 0.056119 | Val Acc: 0.653949 loss: 6.839498\n",
            "[205/3000] Train Acc: 0.951631 Loss: 0.060320 | Val Acc: 0.661047 loss: 6.885534\n",
            "[206/3000] Train Acc: 0.954737 Loss: 0.055121 | Val Acc: 0.663709 loss: 6.978113\n",
            "[207/3000] Train Acc: 0.957621 Loss: 0.049636 | Val Acc: 0.652174 loss: 6.937724\n",
            "[208/3000] Train Acc: 0.953850 Loss: 0.065250 | Val Acc: 0.660160 loss: 6.861774\n",
            "[209/3000] Train Acc: 0.954515 Loss: 0.055193 | Val Acc: 0.660160 loss: 6.889521\n",
            "[210/3000] Train Acc: 0.958731 Loss: 0.053028 | Val Acc: 0.661047 loss: 6.863843\n",
            "[211/3000] Train Acc: 0.964056 Loss: 0.049070 | Val Acc: 0.663709 loss: 6.976709\n",
            "[212/3000] Train Acc: 0.957178 Loss: 0.052562 | Val Acc: 0.657498 loss: 6.851953\n",
            "[213/3000] Train Acc: 0.956512 Loss: 0.058683 | Val Acc: 0.654836 loss: 6.900816\n",
            "[214/3000] Train Acc: 0.960284 Loss: 0.051029 | Val Acc: 0.662822 loss: 6.953422\n",
            "[215/3000] Train Acc: 0.961615 Loss: 0.047740 | Val Acc: 0.660160 loss: 6.982422\n",
            "[216/3000] Train Acc: 0.966275 Loss: 0.049950 | Val Acc: 0.657498 loss: 7.005166\n",
            "[217/3000] Train Acc: 0.962947 Loss: 0.045657 | Val Acc: 0.669920 loss: 6.978037\n",
            "[218/3000] Train Acc: 0.961172 Loss: 0.045335 | Val Acc: 0.674357 loss: 7.051166\n",
            "[219/3000] Train Acc: 0.960062 Loss: 0.051996 | Val Acc: 0.664596 loss: 7.104071\n",
            "[220/3000] Train Acc: 0.962059 Loss: 0.053538 | Val Acc: 0.677019 loss: 7.114231\n",
            "[221/3000] Train Acc: 0.960728 Loss: 0.044172 | Val Acc: 0.661047 loss: 7.008902\n",
            "[222/3000] Train Acc: 0.960062 Loss: 0.046723 | Val Acc: 0.663709 loss: 7.097381\n",
            "[223/3000] Train Acc: 0.960062 Loss: 0.041092 | Val Acc: 0.675244 loss: 7.134408\n",
            "[224/3000] Train Acc: 0.966940 Loss: 0.036809 | Val Acc: 0.674357 loss: 7.077150\n",
            "[225/3000] Train Acc: 0.966718 Loss: 0.045443 | Val Acc: 0.661934 loss: 7.027431\n",
            "[226/3000] Train Acc: 0.966497 Loss: 0.043865 | Val Acc: 0.677906 loss: 7.201250\n",
            "[227/3000] Train Acc: 0.967384 Loss: 0.044483 | Val Acc: 0.683230 loss: 7.206937\n",
            "[228/3000] Train Acc: 0.969381 Loss: 0.046903 | Val Acc: 0.663709 loss: 7.094376\n",
            "[229/3000] Train Acc: 0.966718 Loss: 0.043330 | Val Acc: 0.674357 loss: 7.193886\n",
            "[230/3000] Train Acc: 0.966940 Loss: 0.048238 | Val Acc: 0.677019 loss: 7.155822\n",
            "[231/3000] Train Acc: 0.961837 Loss: 0.049861 | Val Acc: 0.672582 loss: 7.072817\n",
            "[232/3000] Train Acc: 0.970047 Loss: 0.046623 | Val Acc: 0.676131 loss: 7.092246\n",
            "[233/3000] Train Acc: 0.968050 Loss: 0.035283 | Val Acc: 0.678793 loss: 7.117856\n",
            "[234/3000] Train Acc: 0.973153 Loss: 0.047732 | Val Acc: 0.677906 loss: 7.153288\n",
            "[235/3000] Train Acc: 0.970268 Loss: 0.048234 | Val Acc: 0.669033 loss: 7.121096\n",
            "[236/3000] Train Acc: 0.968937 Loss: 0.038235 | Val Acc: 0.677906 loss: 7.188715\n",
            "[237/3000] Train Acc: 0.968493 Loss: 0.037236 | Val Acc: 0.669033 loss: 7.129039\n",
            "[238/3000] Train Acc: 0.970490 Loss: 0.037243 | Val Acc: 0.670807 loss: 7.142719\n",
            "[239/3000] Train Acc: 0.968050 Loss: 0.042666 | Val Acc: 0.680568 loss: 7.219071\n",
            "[240/3000] Train Acc: 0.969159 Loss: 0.037830 | Val Acc: 0.668146 loss: 7.093220\n",
            "[241/3000] Train Acc: 0.970047 Loss: 0.039245 | Val Acc: 0.675244 loss: 7.212446\n",
            "[242/3000] Train Acc: 0.971378 Loss: 0.038432 | Val Acc: 0.677906 loss: 7.250401\n",
            "[243/3000] Train Acc: 0.970268 Loss: 0.037567 | Val Acc: 0.674357 loss: 7.151609\n",
            "[244/3000] Train Acc: 0.968715 Loss: 0.038172 | Val Acc: 0.684117 loss: 7.351935\n",
            "[245/3000] Train Acc: 0.975372 Loss: 0.036118 | Val Acc: 0.662822 loss: 7.100178\n",
            "[246/3000] Train Acc: 0.972709 Loss: 0.042908 | Val Acc: 0.677906 loss: 7.232396\n",
            "[247/3000] Train Acc: 0.971822 Loss: 0.038831 | Val Acc: 0.681455 loss: 7.341983\n",
            "[248/3000] Train Acc: 0.970712 Loss: 0.037018 | Val Acc: 0.678793 loss: 7.338815\n",
            "[249/3000] Train Acc: 0.971822 Loss: 0.038689 | Val Acc: 0.669033 loss: 7.298592\n",
            "[250/3000] Train Acc: 0.972931 Loss: 0.032532 | Val Acc: 0.677906 loss: 7.243731\n",
            "[251/3000] Train Acc: 0.968050 Loss: 0.044966 | Val Acc: 0.674357 loss: 7.269615\n",
            "[252/3000] Train Acc: 0.967162 Loss: 0.034431 | Val Acc: 0.669033 loss: 7.173874\n",
            "[253/3000] Train Acc: 0.972265 Loss: 0.038434 | Val Acc: 0.676131 loss: 7.311350\n",
            "[254/3000] Train Acc: 0.971822 Loss: 0.032200 | Val Acc: 0.663709 loss: 7.170233\n",
            "[255/3000] Train Acc: 0.971822 Loss: 0.037746 | Val Acc: 0.664596 loss: 7.274171\n",
            "[256/3000] Train Acc: 0.972265 Loss: 0.038783 | Val Acc: 0.677019 loss: 7.273300\n",
            "[257/3000] Train Acc: 0.968493 Loss: 0.036771 | Val Acc: 0.670807 loss: 7.261379\n",
            "[258/3000] Train Acc: 0.972265 Loss: 0.034123 | Val Acc: 0.684117 loss: 7.372959\n",
            "[259/3000] Train Acc: 0.971822 Loss: 0.033697 | Val Acc: 0.679681 loss: 7.292705\n",
            "[260/3000] Train Acc: 0.971156 Loss: 0.032745 | Val Acc: 0.671695 loss: 7.319844\n",
            "[261/3000] Train Acc: 0.975815 Loss: 0.030454 | Val Acc: 0.672582 loss: 7.417719\n",
            "[262/3000] Train Acc: 0.973153 Loss: 0.044062 | Val Acc: 0.670807 loss: 7.329915\n",
            "[263/3000] Train Acc: 0.976703 Loss: 0.034843 | Val Acc: 0.685004 loss: 7.450376\n",
            "[264/3000] Train Acc: 0.971378 Loss: 0.036014 | Val Acc: 0.687666 loss: 7.485739\n",
            "saving model with acc 0.688\n",
            "[265/3000] Train Acc: 0.973153 Loss: 0.035735 | Val Acc: 0.677019 loss: 7.361257\n",
            "[266/3000] Train Acc: 0.973375 Loss: 0.030502 | Val Acc: 0.667258 loss: 7.216422\n",
            "[267/3000] Train Acc: 0.974262 Loss: 0.030575 | Val Acc: 0.677906 loss: 7.411344\n",
            "[268/3000] Train Acc: 0.975372 Loss: 0.033411 | Val Acc: 0.672582 loss: 7.435331\n",
            "[269/3000] Train Acc: 0.974040 Loss: 0.033750 | Val Acc: 0.680568 loss: 7.474886\n",
            "[270/3000] Train Acc: 0.977147 Loss: 0.030344 | Val Acc: 0.666371 loss: 7.334524\n",
            "[271/3000] Train Acc: 0.978478 Loss: 0.026321 | Val Acc: 0.674357 loss: 7.402403\n",
            "[272/3000] Train Acc: 0.978700 Loss: 0.027209 | Val Acc: 0.671695 loss: 7.354374\n",
            "[273/3000] Train Acc: 0.974262 Loss: 0.042259 | Val Acc: 0.671695 loss: 7.423266\n",
            "[274/3000] Train Acc: 0.972931 Loss: 0.044586 | Val Acc: 0.678793 loss: 7.533957\n",
            "[275/3000] Train Acc: 0.975594 Loss: 0.031265 | Val Acc: 0.685004 loss: 7.503425\n",
            "[276/3000] Train Acc: 0.976481 Loss: 0.027176 | Val Acc: 0.688554 loss: 7.570423\n",
            "saving model with acc 0.689\n",
            "[277/3000] Train Acc: 0.976481 Loss: 0.029992 | Val Acc: 0.680568 loss: 7.453534\n",
            "[278/3000] Train Acc: 0.979365 Loss: 0.034026 | Val Acc: 0.686779 loss: 7.476930\n",
            "[279/3000] Train Acc: 0.976259 Loss: 0.025740 | Val Acc: 0.685892 loss: 7.528021\n",
            "[280/3000] Train Acc: 0.982915 Loss: 0.025841 | Val Acc: 0.678793 loss: 7.578894\n",
            "[281/3000] Train Acc: 0.976037 Loss: 0.034774 | Val Acc: 0.685004 loss: 7.600008\n",
            "[282/3000] Train Acc: 0.980031 Loss: 0.030854 | Val Acc: 0.679681 loss: 7.641665\n",
            "[283/3000] Train Acc: 0.978700 Loss: 0.026642 | Val Acc: 0.672582 loss: 7.400559\n",
            "[284/3000] Train Acc: 0.976481 Loss: 0.033449 | Val Acc: 0.676131 loss: 7.445215\n",
            "[285/3000] Train Acc: 0.979587 Loss: 0.028924 | Val Acc: 0.681455 loss: 7.610910\n",
            "[286/3000] Train Acc: 0.976037 Loss: 0.040350 | Val Acc: 0.676131 loss: 7.460942\n",
            "[287/3000] Train Acc: 0.974928 Loss: 0.031839 | Val Acc: 0.685892 loss: 7.680176\n",
            "[288/3000] Train Acc: 0.976037 Loss: 0.035443 | Val Acc: 0.671695 loss: 7.354469\n",
            "[289/3000] Train Acc: 0.975594 Loss: 0.030559 | Val Acc: 0.677906 loss: 7.587100\n",
            "[290/3000] Train Acc: 0.975150 Loss: 0.029511 | Val Acc: 0.677019 loss: 7.567191\n",
            "[291/3000] Train Acc: 0.981140 Loss: 0.032398 | Val Acc: 0.683230 loss: 7.704911\n",
            "[292/3000] Train Acc: 0.978478 Loss: 0.023777 | Val Acc: 0.677906 loss: 7.609155\n",
            "[293/3000] Train Acc: 0.975815 Loss: 0.036141 | Val Acc: 0.674357 loss: 7.689886\n",
            "[294/3000] Train Acc: 0.976925 Loss: 0.034120 | Val Acc: 0.673469 loss: 7.467773\n",
            "[295/3000] Train Acc: 0.978700 Loss: 0.031344 | Val Acc: 0.670807 loss: 7.442540\n",
            "[296/3000] Train Acc: 0.979144 Loss: 0.037642 | Val Acc: 0.688554 loss: 7.725478\n",
            "[297/3000] Train Acc: 0.980475 Loss: 0.026699 | Val Acc: 0.682343 loss: 7.689886\n",
            "[298/3000] Train Acc: 0.976703 Loss: 0.030276 | Val Acc: 0.678793 loss: 7.652378\n",
            "[299/3000] Train Acc: 0.974484 Loss: 0.038997 | Val Acc: 0.667258 loss: 7.552747\n",
            "[300/3000] Train Acc: 0.978478 Loss: 0.031712 | Val Acc: 0.675244 loss: 7.544907\n",
            "[301/3000] Train Acc: 0.975150 Loss: 0.028442 | Val Acc: 0.680568 loss: 7.669844\n",
            "[302/3000] Train Acc: 0.979144 Loss: 0.029888 | Val Acc: 0.681455 loss: 7.587648\n",
            "[303/3000] Train Acc: 0.977590 Loss: 0.028221 | Val Acc: 0.676131 loss: 7.596869\n",
            "[304/3000] Train Acc: 0.977369 Loss: 0.036003 | Val Acc: 0.686779 loss: 7.803857\n",
            "[305/3000] Train Acc: 0.980031 Loss: 0.032778 | Val Acc: 0.677906 loss: 7.609950\n",
            "[306/3000] Train Acc: 0.978922 Loss: 0.030827 | Val Acc: 0.686779 loss: 7.679175\n",
            "[307/3000] Train Acc: 0.978478 Loss: 0.028379 | Val Acc: 0.685004 loss: 7.743939\n",
            "[308/3000] Train Acc: 0.976259 Loss: 0.030301 | Val Acc: 0.682343 loss: 7.654195\n",
            "[309/3000] Train Acc: 0.979365 Loss: 0.023548 | Val Acc: 0.677019 loss: 7.525134\n",
            "[310/3000] Train Acc: 0.978034 Loss: 0.025113 | Val Acc: 0.679681 loss: 7.629459\n",
            "[311/3000] Train Acc: 0.980919 Loss: 0.025337 | Val Acc: 0.681455 loss: 7.629108\n",
            "[312/3000] Train Acc: 0.978256 Loss: 0.024499 | Val Acc: 0.673469 loss: 7.646168\n",
            "[313/3000] Train Acc: 0.981806 Loss: 0.024452 | Val Acc: 0.685004 loss: 7.822849\n",
            "[314/3000] Train Acc: 0.978922 Loss: 0.029536 | Val Acc: 0.664596 loss: 7.468348\n",
            "[315/3000] Train Acc: 0.981362 Loss: 0.024749 | Val Acc: 0.672582 loss: 7.533080\n",
            "[316/3000] Train Acc: 0.977147 Loss: 0.030741 | Val Acc: 0.676131 loss: 7.710378\n",
            "[317/3000] Train Acc: 0.981362 Loss: 0.022709 | Val Acc: 0.677906 loss: 7.778881\n",
            "[318/3000] Train Acc: 0.976259 Loss: 0.028530 | Val Acc: 0.675244 loss: 7.610011\n",
            "[319/3000] Train Acc: 0.980919 Loss: 0.028121 | Val Acc: 0.677906 loss: 7.723078\n",
            "[320/3000] Train Acc: 0.981362 Loss: 0.020327 | Val Acc: 0.674357 loss: 7.697731\n",
            "[321/3000] Train Acc: 0.977147 Loss: 0.037044 | Val Acc: 0.676131 loss: 7.711159\n",
            "[322/3000] Train Acc: 0.980475 Loss: 0.027848 | Val Acc: 0.683230 loss: 7.677954\n",
            "[323/3000] Train Acc: 0.981806 Loss: 0.021852 | Val Acc: 0.685004 loss: 7.747352\n",
            "[324/3000] Train Acc: 0.980031 Loss: 0.026838 | Val Acc: 0.691216 loss: 7.799396\n",
            "saving model with acc 0.691\n",
            "[325/3000] Train Acc: 0.980919 Loss: 0.029201 | Val Acc: 0.677906 loss: 7.621806\n",
            "[326/3000] Train Acc: 0.980253 Loss: 0.024408 | Val Acc: 0.682343 loss: 7.811137\n",
            "[327/3000] Train Acc: 0.985578 Loss: 0.020816 | Val Acc: 0.677019 loss: 7.685353\n",
            "[328/3000] Train Acc: 0.979587 Loss: 0.028218 | Val Acc: 0.689441 loss: 7.788229\n",
            "[329/3000] Train Acc: 0.978034 Loss: 0.022785 | Val Acc: 0.688554 loss: 7.808298\n",
            "[330/3000] Train Acc: 0.979809 Loss: 0.030457 | Val Acc: 0.683230 loss: 7.761177\n",
            "[331/3000] Train Acc: 0.982472 Loss: 0.023480 | Val Acc: 0.673469 loss: 7.752171\n",
            "[332/3000] Train Acc: 0.982250 Loss: 0.023808 | Val Acc: 0.676131 loss: 7.656959\n",
            "[333/3000] Train Acc: 0.978034 Loss: 0.028200 | Val Acc: 0.676131 loss: 7.715802\n",
            "[334/3000] Train Acc: 0.981806 Loss: 0.023652 | Val Acc: 0.676131 loss: 7.761068\n",
            "[335/3000] Train Acc: 0.984469 Loss: 0.028029 | Val Acc: 0.669033 loss: 7.523847\n",
            "[336/3000] Train Acc: 0.980031 Loss: 0.033328 | Val Acc: 0.680568 loss: 7.788200\n",
            "[337/3000] Train Acc: 0.984025 Loss: 0.020284 | Val Acc: 0.677019 loss: 7.671118\n",
            "[338/3000] Train Acc: 0.981140 Loss: 0.020956 | Val Acc: 0.689441 loss: 7.719298\n",
            "[339/3000] Train Acc: 0.981140 Loss: 0.034016 | Val Acc: 0.690328 loss: 7.758389\n",
            "[340/3000] Train Acc: 0.981362 Loss: 0.022146 | Val Acc: 0.692990 loss: 7.852920\n",
            "saving model with acc 0.693\n",
            "[341/3000] Train Acc: 0.984690 Loss: 0.023778 | Val Acc: 0.685004 loss: 7.881800\n",
            "[342/3000] Train Acc: 0.979809 Loss: 0.028646 | Val Acc: 0.683230 loss: 7.728459\n",
            "[343/3000] Train Acc: 0.982472 Loss: 0.021675 | Val Acc: 0.680568 loss: 7.763046\n",
            "[344/3000] Train Acc: 0.978700 Loss: 0.022061 | Val Acc: 0.696539 loss: 7.856844\n",
            "saving model with acc 0.697\n",
            "[345/3000] Train Acc: 0.981140 Loss: 0.023275 | Val Acc: 0.685004 loss: 7.814809\n",
            "[346/3000] Train Acc: 0.980475 Loss: 0.024916 | Val Acc: 0.692990 loss: 7.790090\n",
            "[347/3000] Train Acc: 0.976925 Loss: 0.030380 | Val Acc: 0.683230 loss: 7.700674\n",
            "[348/3000] Train Acc: 0.983359 Loss: 0.024960 | Val Acc: 0.685892 loss: 7.841941\n",
            "[349/3000] Train Acc: 0.983137 Loss: 0.028010 | Val Acc: 0.687666 loss: 7.773309\n",
            "[350/3000] Train Acc: 0.981584 Loss: 0.026628 | Val Acc: 0.688554 loss: 7.815585\n",
            "[351/3000] Train Acc: 0.984469 Loss: 0.020982 | Val Acc: 0.683230 loss: 7.731063\n",
            "[352/3000] Train Acc: 0.978700 Loss: 0.028945 | Val Acc: 0.685892 loss: 7.790913\n",
            "[353/3000] Train Acc: 0.981584 Loss: 0.029769 | Val Acc: 0.697427 loss: 7.852899\n",
            "saving model with acc 0.697\n",
            "[354/3000] Train Acc: 0.984912 Loss: 0.020985 | Val Acc: 0.695652 loss: 7.945620\n",
            "[355/3000] Train Acc: 0.983581 Loss: 0.028294 | Val Acc: 0.688554 loss: 7.772685\n",
            "[356/3000] Train Acc: 0.981140 Loss: 0.033660 | Val Acc: 0.685004 loss: 7.782883\n",
            "[357/3000] Train Acc: 0.984247 Loss: 0.019478 | Val Acc: 0.696539 loss: 7.837502\n",
            "[358/3000] Train Acc: 0.982915 Loss: 0.024022 | Val Acc: 0.682343 loss: 7.825548\n",
            "[359/3000] Train Acc: 0.984469 Loss: 0.021465 | Val Acc: 0.686779 loss: 7.721569\n",
            "[360/3000] Train Acc: 0.979144 Loss: 0.025875 | Val Acc: 0.686779 loss: 7.799062\n",
            "[361/3000] Train Acc: 0.983581 Loss: 0.020900 | Val Acc: 0.688554 loss: 7.960909\n",
            "[362/3000] Train Acc: 0.982915 Loss: 0.022262 | Val Acc: 0.684117 loss: 7.797846\n",
            "[363/3000] Train Acc: 0.983137 Loss: 0.022139 | Val Acc: 0.690328 loss: 7.937408\n",
            "[364/3000] Train Acc: 0.984247 Loss: 0.020981 | Val Acc: 0.695652 loss: 7.886155\n",
            "[365/3000] Train Acc: 0.984247 Loss: 0.023578 | Val Acc: 0.695652 loss: 7.872540\n",
            "[366/3000] Train Acc: 0.986244 Loss: 0.016139 | Val Acc: 0.685892 loss: 7.804232\n",
            "[367/3000] Train Acc: 0.982694 Loss: 0.023210 | Val Acc: 0.691216 loss: 7.854595\n",
            "[368/3000] Train Acc: 0.984247 Loss: 0.023029 | Val Acc: 0.703638 loss: 7.973825\n",
            "saving model with acc 0.704\n",
            "[369/3000] Train Acc: 0.982472 Loss: 0.020328 | Val Acc: 0.687666 loss: 7.838357\n",
            "[370/3000] Train Acc: 0.984247 Loss: 0.023875 | Val Acc: 0.685004 loss: 7.888100\n",
            "[371/3000] Train Acc: 0.982028 Loss: 0.020331 | Val Acc: 0.684117 loss: 7.776580\n",
            "[372/3000] Train Acc: 0.983803 Loss: 0.023062 | Val Acc: 0.692103 loss: 7.916836\n",
            "[373/3000] Train Acc: 0.983359 Loss: 0.020997 | Val Acc: 0.692103 loss: 7.930005\n",
            "[374/3000] Train Acc: 0.979144 Loss: 0.025085 | Val Acc: 0.690328 loss: 7.900793\n",
            "[375/3000] Train Acc: 0.979809 Loss: 0.024320 | Val Acc: 0.691216 loss: 7.920808\n",
            "[376/3000] Train Acc: 0.986022 Loss: 0.023270 | Val Acc: 0.690328 loss: 7.943088\n",
            "[377/3000] Train Acc: 0.981362 Loss: 0.030008 | Val Acc: 0.694765 loss: 8.057493\n",
            "[378/3000] Train Acc: 0.988241 Loss: 0.017219 | Val Acc: 0.690328 loss: 7.985679\n",
            "[379/3000] Train Acc: 0.980919 Loss: 0.027301 | Val Acc: 0.702751 loss: 8.135083\n",
            "[380/3000] Train Acc: 0.982915 Loss: 0.026128 | Val Acc: 0.685004 loss: 7.903820\n",
            "[381/3000] Train Acc: 0.983137 Loss: 0.020138 | Val Acc: 0.690328 loss: 7.931048\n",
            "[382/3000] Train Acc: 0.984469 Loss: 0.025255 | Val Acc: 0.682343 loss: 7.960414\n",
            "[383/3000] Train Acc: 0.982028 Loss: 0.020333 | Val Acc: 0.686779 loss: 8.121580\n",
            "[384/3000] Train Acc: 0.984025 Loss: 0.018111 | Val Acc: 0.689441 loss: 8.037734\n",
            "[385/3000] Train Acc: 0.985578 Loss: 0.020403 | Val Acc: 0.698314 loss: 8.230906\n",
            "[386/3000] Train Acc: 0.983137 Loss: 0.025404 | Val Acc: 0.693878 loss: 8.083679\n",
            "[387/3000] Train Acc: 0.983137 Loss: 0.024253 | Val Acc: 0.687666 loss: 8.072596\n",
            "[388/3000] Train Acc: 0.981806 Loss: 0.028187 | Val Acc: 0.687666 loss: 8.013654\n",
            "[389/3000] Train Acc: 0.983581 Loss: 0.029054 | Val Acc: 0.688554 loss: 8.069845\n",
            "[390/3000] Train Acc: 0.984912 Loss: 0.021569 | Val Acc: 0.692103 loss: 7.976295\n",
            "[391/3000] Train Acc: 0.985134 Loss: 0.032406 | Val Acc: 0.690328 loss: 8.025989\n",
            "[392/3000] Train Acc: 0.984912 Loss: 0.024094 | Val Acc: 0.693878 loss: 8.049283\n",
            "[393/3000] Train Acc: 0.983803 Loss: 0.021456 | Val Acc: 0.695652 loss: 8.030638\n",
            "[394/3000] Train Acc: 0.984025 Loss: 0.020907 | Val Acc: 0.697427 loss: 8.003490\n",
            "[395/3000] Train Acc: 0.986022 Loss: 0.017573 | Val Acc: 0.688554 loss: 7.939062\n",
            "[396/3000] Train Acc: 0.983803 Loss: 0.025340 | Val Acc: 0.682343 loss: 7.901347\n",
            "[397/3000] Train Acc: 0.982250 Loss: 0.025317 | Val Acc: 0.689441 loss: 7.968834\n",
            "[398/3000] Train Acc: 0.981806 Loss: 0.022402 | Val Acc: 0.691216 loss: 7.937476\n",
            "[399/3000] Train Acc: 0.982472 Loss: 0.018771 | Val Acc: 0.689441 loss: 7.853302\n",
            "[400/3000] Train Acc: 0.980697 Loss: 0.027755 | Val Acc: 0.679681 loss: 7.966382\n",
            "[401/3000] Train Acc: 0.987575 Loss: 0.022888 | Val Acc: 0.686779 loss: 7.775570\n",
            "[402/3000] Train Acc: 0.982694 Loss: 0.024850 | Val Acc: 0.690328 loss: 7.927833\n",
            "[403/3000] Train Acc: 0.985134 Loss: 0.020929 | Val Acc: 0.681455 loss: 7.907000\n",
            "[404/3000] Train Acc: 0.982472 Loss: 0.017145 | Val Acc: 0.689441 loss: 7.886928\n",
            "[405/3000] Train Acc: 0.983137 Loss: 0.026026 | Val Acc: 0.678793 loss: 7.922408\n",
            "[406/3000] Train Acc: 0.982250 Loss: 0.026300 | Val Acc: 0.690328 loss: 7.976021\n",
            "[407/3000] Train Acc: 0.984469 Loss: 0.018675 | Val Acc: 0.687666 loss: 7.915095\n",
            "[408/3000] Train Acc: 0.984247 Loss: 0.021634 | Val Acc: 0.687666 loss: 7.923379\n",
            "[409/3000] Train Acc: 0.982472 Loss: 0.017473 | Val Acc: 0.690328 loss: 8.076801\n",
            "[410/3000] Train Acc: 0.981806 Loss: 0.021827 | Val Acc: 0.690328 loss: 7.891821\n",
            "[411/3000] Train Acc: 0.984690 Loss: 0.018087 | Val Acc: 0.691216 loss: 7.987314\n",
            "[412/3000] Train Acc: 0.986465 Loss: 0.017421 | Val Acc: 0.687666 loss: 7.915918\n",
            "[413/3000] Train Acc: 0.984469 Loss: 0.024056 | Val Acc: 0.691216 loss: 7.906439\n",
            "[414/3000] Train Acc: 0.984469 Loss: 0.019972 | Val Acc: 0.693878 loss: 8.067716\n",
            "[415/3000] Train Acc: 0.984690 Loss: 0.024503 | Val Acc: 0.693878 loss: 7.962722\n",
            "[416/3000] Train Acc: 0.985356 Loss: 0.017638 | Val Acc: 0.689441 loss: 7.884407\n",
            "[417/3000] Train Acc: 0.984247 Loss: 0.019085 | Val Acc: 0.695652 loss: 7.995320\n",
            "[418/3000] Train Acc: 0.985134 Loss: 0.018168 | Val Acc: 0.685892 loss: 7.885569\n",
            "[419/3000] Train Acc: 0.982250 Loss: 0.023426 | Val Acc: 0.685892 loss: 7.818926\n",
            "[420/3000] Train Acc: 0.983137 Loss: 0.020990 | Val Acc: 0.684117 loss: 7.788871\n",
            "[421/3000] Train Acc: 0.983137 Loss: 0.023423 | Val Acc: 0.696539 loss: 8.139153\n",
            "[422/3000] Train Acc: 0.982028 Loss: 0.022638 | Val Acc: 0.686779 loss: 7.891476\n",
            "[423/3000] Train Acc: 0.980475 Loss: 0.026635 | Val Acc: 0.686779 loss: 7.957917\n",
            "[424/3000] Train Acc: 0.986244 Loss: 0.016939 | Val Acc: 0.687666 loss: 7.910924\n",
            "[425/3000] Train Acc: 0.983581 Loss: 0.020970 | Val Acc: 0.689441 loss: 7.958569\n",
            "[426/3000] Train Acc: 0.980919 Loss: 0.021476 | Val Acc: 0.697427 loss: 8.100416\n",
            "[427/3000] Train Acc: 0.983803 Loss: 0.017110 | Val Acc: 0.693878 loss: 8.021064\n",
            "[428/3000] Train Acc: 0.987131 Loss: 0.017769 | Val Acc: 0.692103 loss: 8.047160\n",
            "[429/3000] Train Acc: 0.985800 Loss: 0.019810 | Val Acc: 0.692990 loss: 8.032715\n",
            "[430/3000] Train Acc: 0.984469 Loss: 0.023270 | Val Acc: 0.698314 loss: 8.129736\n",
            "[431/3000] Train Acc: 0.987131 Loss: 0.016587 | Val Acc: 0.689441 loss: 7.932239\n",
            "[432/3000] Train Acc: 0.987797 Loss: 0.018653 | Val Acc: 0.689441 loss: 7.942180\n",
            "[433/3000] Train Acc: 0.986022 Loss: 0.015980 | Val Acc: 0.696539 loss: 7.992642\n",
            "[434/3000] Train Acc: 0.983581 Loss: 0.023093 | Val Acc: 0.692990 loss: 7.964983\n",
            "[435/3000] Train Acc: 0.989794 Loss: 0.015529 | Val Acc: 0.690328 loss: 7.935607\n",
            "[436/3000] Train Acc: 0.985134 Loss: 0.021830 | Val Acc: 0.694765 loss: 7.945598\n",
            "[437/3000] Train Acc: 0.984912 Loss: 0.019599 | Val Acc: 0.689441 loss: 7.934422\n",
            "[438/3000] Train Acc: 0.985578 Loss: 0.021684 | Val Acc: 0.693878 loss: 8.037574\n",
            "[439/3000] Train Acc: 0.984025 Loss: 0.021849 | Val Acc: 0.684117 loss: 7.853251\n",
            "[440/3000] Train Acc: 0.984690 Loss: 0.021163 | Val Acc: 0.692990 loss: 7.914337\n",
            "[441/3000] Train Acc: 0.987131 Loss: 0.016002 | Val Acc: 0.693878 loss: 7.999766\n",
            "[442/3000] Train Acc: 0.984469 Loss: 0.021991 | Val Acc: 0.692990 loss: 8.018561\n",
            "[443/3000] Train Acc: 0.985134 Loss: 0.017822 | Val Acc: 0.693878 loss: 8.098186\n",
            "[444/3000] Train Acc: 0.984025 Loss: 0.022490 | Val Acc: 0.690328 loss: 7.941203\n",
            "[445/3000] Train Acc: 0.983803 Loss: 0.022389 | Val Acc: 0.685892 loss: 7.961658\n",
            "[446/3000] Train Acc: 0.982915 Loss: 0.024545 | Val Acc: 0.696539 loss: 8.046814\n",
            "[447/3000] Train Acc: 0.985356 Loss: 0.020410 | Val Acc: 0.685892 loss: 7.899379\n",
            "[448/3000] Train Acc: 0.985356 Loss: 0.017317 | Val Acc: 0.700976 loss: 8.187982\n",
            "[449/3000] Train Acc: 0.984912 Loss: 0.021890 | Val Acc: 0.688554 loss: 7.961947\n",
            "[450/3000] Train Acc: 0.984690 Loss: 0.019056 | Val Acc: 0.693878 loss: 7.930253\n",
            "[451/3000] Train Acc: 0.984912 Loss: 0.021032 | Val Acc: 0.691216 loss: 8.066925\n",
            "[452/3000] Train Acc: 0.985800 Loss: 0.019316 | Val Acc: 0.698314 loss: 8.138992\n",
            "[453/3000] Train Acc: 0.986022 Loss: 0.016909 | Val Acc: 0.695652 loss: 8.012810\n",
            "[454/3000] Train Acc: 0.984025 Loss: 0.019815 | Val Acc: 0.689441 loss: 7.951853\n",
            "[455/3000] Train Acc: 0.981584 Loss: 0.025224 | Val Acc: 0.694765 loss: 8.036249\n",
            "[456/3000] Train Acc: 0.985356 Loss: 0.024835 | Val Acc: 0.695652 loss: 8.149392\n",
            "[457/3000] Train Acc: 0.984025 Loss: 0.027295 | Val Acc: 0.699201 loss: 8.125739\n",
            "[458/3000] Train Acc: 0.982915 Loss: 0.019039 | Val Acc: 0.697427 loss: 8.060723\n",
            "[459/3000] Train Acc: 0.986687 Loss: 0.016644 | Val Acc: 0.690328 loss: 8.123863\n",
            "[460/3000] Train Acc: 0.987797 Loss: 0.018535 | Val Acc: 0.694765 loss: 7.958973\n",
            "[461/3000] Train Acc: 0.985134 Loss: 0.020761 | Val Acc: 0.689441 loss: 7.973134\n",
            "[462/3000] Train Acc: 0.988241 Loss: 0.019023 | Val Acc: 0.692990 loss: 7.942261\n",
            "[463/3000] Train Acc: 0.984247 Loss: 0.016829 | Val Acc: 0.693878 loss: 8.084731\n",
            "[464/3000] Train Acc: 0.981362 Loss: 0.019612 | Val Acc: 0.692103 loss: 8.055049\n",
            "[465/3000] Train Acc: 0.986909 Loss: 0.016723 | Val Acc: 0.693878 loss: 8.048947\n",
            "[466/3000] Train Acc: 0.986465 Loss: 0.017776 | Val Acc: 0.690328 loss: 8.079910\n",
            "[467/3000] Train Acc: 0.983359 Loss: 0.023216 | Val Acc: 0.691216 loss: 7.981713\n",
            "[468/3000] Train Acc: 0.986465 Loss: 0.017049 | Val Acc: 0.692990 loss: 8.005901\n",
            "[469/3000] Train Acc: 0.986909 Loss: 0.014824 | Val Acc: 0.685892 loss: 8.003459\n",
            "[470/3000] Train Acc: 0.983581 Loss: 0.018737 | Val Acc: 0.689441 loss: 8.114009\n",
            "[471/3000] Train Acc: 0.983581 Loss: 0.022021 | Val Acc: 0.689441 loss: 7.956969\n",
            "[472/3000] Train Acc: 0.988019 Loss: 0.016977 | Val Acc: 0.692990 loss: 8.101034\n",
            "[473/3000] Train Acc: 0.986022 Loss: 0.019063 | Val Acc: 0.689441 loss: 8.059574\n",
            "[474/3000] Train Acc: 0.984469 Loss: 0.021984 | Val Acc: 0.696539 loss: 8.217997\n",
            "[475/3000] Train Acc: 0.984690 Loss: 0.018030 | Val Acc: 0.696539 loss: 8.101807\n",
            "[476/3000] Train Acc: 0.988684 Loss: 0.017567 | Val Acc: 0.700089 loss: 8.175357\n",
            "[477/3000] Train Acc: 0.984912 Loss: 0.018666 | Val Acc: 0.697427 loss: 8.024830\n",
            "[478/3000] Train Acc: 0.988684 Loss: 0.015064 | Val Acc: 0.696539 loss: 8.094092\n",
            "[479/3000] Train Acc: 0.988241 Loss: 0.017674 | Val Acc: 0.696539 loss: 8.180722\n",
            "[480/3000] Train Acc: 0.986465 Loss: 0.019956 | Val Acc: 0.693878 loss: 8.146350\n",
            "[481/3000] Train Acc: 0.986909 Loss: 0.018013 | Val Acc: 0.695652 loss: 8.081028\n",
            "[482/3000] Train Acc: 0.984690 Loss: 0.017907 | Val Acc: 0.687666 loss: 7.947080\n",
            "[483/3000] Train Acc: 0.984912 Loss: 0.022283 | Val Acc: 0.692990 loss: 8.154618\n",
            "[484/3000] Train Acc: 0.987797 Loss: 0.018092 | Val Acc: 0.686779 loss: 7.880675\n",
            "[485/3000] Train Acc: 0.984247 Loss: 0.017995 | Val Acc: 0.689441 loss: 8.034715\n",
            "[486/3000] Train Acc: 0.989572 Loss: 0.013854 | Val Acc: 0.697427 loss: 8.187787\n",
            "[487/3000] Train Acc: 0.986465 Loss: 0.017955 | Val Acc: 0.696539 loss: 8.074678\n",
            "[488/3000] Train Acc: 0.984025 Loss: 0.016030 | Val Acc: 0.698314 loss: 8.178857\n",
            "[489/3000] Train Acc: 0.985800 Loss: 0.017855 | Val Acc: 0.692990 loss: 7.954675\n",
            "[490/3000] Train Acc: 0.986687 Loss: 0.016308 | Val Acc: 0.689441 loss: 8.012558\n",
            "[491/3000] Train Acc: 0.986022 Loss: 0.018382 | Val Acc: 0.696539 loss: 8.158802\n",
            "[492/3000] Train Acc: 0.985800 Loss: 0.021353 | Val Acc: 0.693878 loss: 8.057797\n",
            "[493/3000] Train Acc: 0.984247 Loss: 0.020893 | Val Acc: 0.696539 loss: 8.146245\n",
            "[494/3000] Train Acc: 0.988019 Loss: 0.012265 | Val Acc: 0.699201 loss: 8.176837\n",
            "[495/3000] Train Acc: 0.985134 Loss: 0.021615 | Val Acc: 0.692990 loss: 7.979440\n",
            "[496/3000] Train Acc: 0.983803 Loss: 0.025240 | Val Acc: 0.699201 loss: 8.117615\n",
            "[497/3000] Train Acc: 0.986687 Loss: 0.018903 | Val Acc: 0.691216 loss: 8.024913\n",
            "[498/3000] Train Acc: 0.985578 Loss: 0.016753 | Val Acc: 0.696539 loss: 8.137675\n",
            "[499/3000] Train Acc: 0.985356 Loss: 0.018103 | Val Acc: 0.701863 loss: 8.110483\n",
            "[500/3000] Train Acc: 0.984025 Loss: 0.020399 | Val Acc: 0.700976 loss: 8.187558\n",
            "[501/3000] Train Acc: 0.988684 Loss: 0.013326 | Val Acc: 0.692103 loss: 8.048904\n",
            "[502/3000] Train Acc: 0.982250 Loss: 0.025554 | Val Acc: 0.691216 loss: 8.000752\n",
            "[503/3000] Train Acc: 0.983803 Loss: 0.024425 | Val Acc: 0.703638 loss: 8.248487\n",
            "[504/3000] Train Acc: 0.986687 Loss: 0.019027 | Val Acc: 0.692990 loss: 8.022854\n",
            "[505/3000] Train Acc: 0.987353 Loss: 0.015416 | Val Acc: 0.696539 loss: 8.068059\n",
            "[506/3000] Train Acc: 0.987353 Loss: 0.020659 | Val Acc: 0.699201 loss: 8.028809\n",
            "[507/3000] Train Acc: 0.985578 Loss: 0.020474 | Val Acc: 0.700089 loss: 8.073232\n",
            "[508/3000] Train Acc: 0.988241 Loss: 0.018686 | Val Acc: 0.689441 loss: 8.101639\n",
            "[509/3000] Train Acc: 0.985134 Loss: 0.019186 | Val Acc: 0.696539 loss: 8.101780\n",
            "[510/3000] Train Acc: 0.985356 Loss: 0.019473 | Val Acc: 0.700089 loss: 8.188040\n",
            "[511/3000] Train Acc: 0.986465 Loss: 0.018858 | Val Acc: 0.695652 loss: 8.107413\n",
            "[512/3000] Train Acc: 0.986687 Loss: 0.017760 | Val Acc: 0.694765 loss: 8.181155\n",
            "[513/3000] Train Acc: 0.984912 Loss: 0.019160 | Val Acc: 0.694765 loss: 8.200318\n",
            "[514/3000] Train Acc: 0.985134 Loss: 0.020247 | Val Acc: 0.695652 loss: 8.239786\n",
            "[515/3000] Train Acc: 0.989794 Loss: 0.019276 | Val Acc: 0.700089 loss: 8.268378\n",
            "[516/3000] Train Acc: 0.985356 Loss: 0.026892 | Val Acc: 0.694765 loss: 8.102671\n",
            "[517/3000] Train Acc: 0.984025 Loss: 0.017483 | Val Acc: 0.689441 loss: 8.014316\n",
            "[518/3000] Train Acc: 0.984469 Loss: 0.019624 | Val Acc: 0.692103 loss: 8.000802\n",
            "[519/3000] Train Acc: 0.985356 Loss: 0.018210 | Val Acc: 0.701863 loss: 8.125771\n",
            "[520/3000] Train Acc: 0.982694 Loss: 0.027506 | Val Acc: 0.694765 loss: 8.055216\n",
            "[521/3000] Train Acc: 0.986022 Loss: 0.020465 | Val Acc: 0.695652 loss: 8.122967\n",
            "[522/3000] Train Acc: 0.987797 Loss: 0.017215 | Val Acc: 0.686779 loss: 8.108049\n",
            "[523/3000] Train Acc: 0.985578 Loss: 0.019869 | Val Acc: 0.685004 loss: 7.912464\n",
            "[524/3000] Train Acc: 0.984247 Loss: 0.023028 | Val Acc: 0.688554 loss: 8.019765\n",
            "[525/3000] Train Acc: 0.985578 Loss: 0.018776 | Val Acc: 0.691216 loss: 8.105232\n",
            "[526/3000] Train Acc: 0.983137 Loss: 0.020166 | Val Acc: 0.694765 loss: 8.100217\n",
            "[527/3000] Train Acc: 0.987575 Loss: 0.017709 | Val Acc: 0.691216 loss: 8.105094\n",
            "[528/3000] Train Acc: 0.988019 Loss: 0.017247 | Val Acc: 0.691216 loss: 8.151370\n",
            "[529/3000] Train Acc: 0.982694 Loss: 0.020268 | Val Acc: 0.685892 loss: 8.037092\n",
            "[530/3000] Train Acc: 0.985800 Loss: 0.017857 | Val Acc: 0.692990 loss: 8.147324\n",
            "[531/3000] Train Acc: 0.988241 Loss: 0.016750 | Val Acc: 0.693878 loss: 8.189787\n",
            "[532/3000] Train Acc: 0.985578 Loss: 0.023620 | Val Acc: 0.690328 loss: 8.061520\n",
            "[533/3000] Train Acc: 0.984690 Loss: 0.026139 | Val Acc: 0.692990 loss: 8.009033\n",
            "[534/3000] Train Acc: 0.984690 Loss: 0.022069 | Val Acc: 0.702751 loss: 8.192255\n",
            "[535/3000] Train Acc: 0.983581 Loss: 0.025889 | Val Acc: 0.695652 loss: 8.009303\n",
            "[536/3000] Train Acc: 0.982915 Loss: 0.020547 | Val Acc: 0.697427 loss: 8.096284\n",
            "[537/3000] Train Acc: 0.986687 Loss: 0.019837 | Val Acc: 0.693878 loss: 8.133856\n",
            "[538/3000] Train Acc: 0.985578 Loss: 0.017837 | Val Acc: 0.692990 loss: 8.106377\n",
            "[539/3000] Train Acc: 0.989350 Loss: 0.021758 | Val Acc: 0.693878 loss: 8.242264\n",
            "[540/3000] Train Acc: 0.984912 Loss: 0.016055 | Val Acc: 0.696539 loss: 8.242475\n",
            "[541/3000] Train Acc: 0.989350 Loss: 0.015241 | Val Acc: 0.690328 loss: 8.073377\n",
            "[542/3000] Train Acc: 0.982472 Loss: 0.021666 | Val Acc: 0.692990 loss: 8.058495\n",
            "[543/3000] Train Acc: 0.985578 Loss: 0.016734 | Val Acc: 0.694765 loss: 8.030335\n",
            "[544/3000] Train Acc: 0.986687 Loss: 0.022812 | Val Acc: 0.700089 loss: 8.174921\n",
            "[545/3000] Train Acc: 0.984469 Loss: 0.019044 | Val Acc: 0.684117 loss: 8.078481\n",
            "[546/3000] Train Acc: 0.985578 Loss: 0.016699 | Val Acc: 0.701863 loss: 8.116144\n",
            "[547/3000] Train Acc: 0.985134 Loss: 0.021472 | Val Acc: 0.695652 loss: 8.121574\n",
            "[548/3000] Train Acc: 0.985800 Loss: 0.016607 | Val Acc: 0.683230 loss: 8.068484\n",
            "[549/3000] Train Acc: 0.986909 Loss: 0.019594 | Val Acc: 0.700089 loss: 8.235409\n",
            "[550/3000] Train Acc: 0.986909 Loss: 0.019280 | Val Acc: 0.695652 loss: 8.023101\n",
            "[551/3000] Train Acc: 0.988462 Loss: 0.020281 | Val Acc: 0.690328 loss: 8.030903\n",
            "[552/3000] Train Acc: 0.987797 Loss: 0.015284 | Val Acc: 0.702751 loss: 8.212205\n",
            "[553/3000] Train Acc: 0.988684 Loss: 0.018615 | Val Acc: 0.690328 loss: 8.067631\n",
            "[554/3000] Train Acc: 0.986909 Loss: 0.015452 | Val Acc: 0.690328 loss: 8.042293\n",
            "[555/3000] Train Acc: 0.985800 Loss: 0.022421 | Val Acc: 0.695652 loss: 8.052903\n",
            "[556/3000] Train Acc: 0.986244 Loss: 0.017697 | Val Acc: 0.695652 loss: 8.007843\n",
            "[557/3000] Train Acc: 0.987797 Loss: 0.019793 | Val Acc: 0.704525 loss: 8.119591\n",
            "saving model with acc 0.705\n",
            "[558/3000] Train Acc: 0.983581 Loss: 0.025964 | Val Acc: 0.699201 loss: 8.169782\n",
            "[559/3000] Train Acc: 0.987575 Loss: 0.014144 | Val Acc: 0.696539 loss: 8.144299\n",
            "[560/3000] Train Acc: 0.986687 Loss: 0.022542 | Val Acc: 0.691216 loss: 8.148450\n",
            "[561/3000] Train Acc: 0.984912 Loss: 0.020053 | Val Acc: 0.698314 loss: 8.156249\n",
            "[562/3000] Train Acc: 0.984690 Loss: 0.020030 | Val Acc: 0.695652 loss: 8.044933\n",
            "[563/3000] Train Acc: 0.986687 Loss: 0.019512 | Val Acc: 0.700089 loss: 8.243200\n",
            "[564/3000] Train Acc: 0.986244 Loss: 0.020509 | Val Acc: 0.698314 loss: 8.294475\n",
            "[565/3000] Train Acc: 0.982028 Loss: 0.021622 | Val Acc: 0.686779 loss: 7.914611\n",
            "[566/3000] Train Acc: 0.984247 Loss: 0.018339 | Val Acc: 0.695652 loss: 8.004273\n",
            "[567/3000] Train Acc: 0.986022 Loss: 0.019746 | Val Acc: 0.703638 loss: 8.226250\n",
            "[568/3000] Train Acc: 0.986244 Loss: 0.024339 | Val Acc: 0.700089 loss: 8.177836\n",
            "[569/3000] Train Acc: 0.985356 Loss: 0.016618 | Val Acc: 0.692103 loss: 8.066094\n",
            "[570/3000] Train Acc: 0.988462 Loss: 0.020128 | Val Acc: 0.692103 loss: 8.032283\n",
            "[571/3000] Train Acc: 0.985800 Loss: 0.018191 | Val Acc: 0.692990 loss: 8.235275\n",
            "[572/3000] Train Acc: 0.985134 Loss: 0.015496 | Val Acc: 0.690328 loss: 8.087804\n",
            "[573/3000] Train Acc: 0.986687 Loss: 0.023405 | Val Acc: 0.692103 loss: 8.103099\n",
            "[574/3000] Train Acc: 0.989350 Loss: 0.012140 | Val Acc: 0.695652 loss: 8.218092\n",
            "[575/3000] Train Acc: 0.987353 Loss: 0.019101 | Val Acc: 0.700089 loss: 8.149940\n",
            "[576/3000] Train Acc: 0.985578 Loss: 0.013831 | Val Acc: 0.693878 loss: 8.081097\n",
            "[577/3000] Train Acc: 0.986909 Loss: 0.020298 | Val Acc: 0.695652 loss: 8.215679\n",
            "[578/3000] Train Acc: 0.985134 Loss: 0.015677 | Val Acc: 0.696539 loss: 8.127860\n",
            "[579/3000] Train Acc: 0.986909 Loss: 0.016008 | Val Acc: 0.696539 loss: 8.116400\n",
            "[580/3000] Train Acc: 0.986687 Loss: 0.017099 | Val Acc: 0.693878 loss: 8.148504\n",
            "[581/3000] Train Acc: 0.985134 Loss: 0.019642 | Val Acc: 0.685892 loss: 7.923645\n",
            "[582/3000] Train Acc: 0.986465 Loss: 0.022414 | Val Acc: 0.695652 loss: 8.182031\n",
            "[583/3000] Train Acc: 0.983581 Loss: 0.017404 | Val Acc: 0.692990 loss: 8.115370\n",
            "[584/3000] Train Acc: 0.986687 Loss: 0.018560 | Val Acc: 0.689441 loss: 8.108151\n",
            "[585/3000] Train Acc: 0.986022 Loss: 0.018780 | Val Acc: 0.695652 loss: 8.205046\n",
            "[586/3000] Train Acc: 0.984025 Loss: 0.023977 | Val Acc: 0.693878 loss: 8.116409\n",
            "[587/3000] Train Acc: 0.986909 Loss: 0.017722 | Val Acc: 0.699201 loss: 8.135174\n",
            "[588/3000] Train Acc: 0.985800 Loss: 0.019062 | Val Acc: 0.689441 loss: 7.986881\n",
            "[589/3000] Train Acc: 0.986022 Loss: 0.022983 | Val Acc: 0.698314 loss: 8.164408\n",
            "[590/3000] Train Acc: 0.987797 Loss: 0.014811 | Val Acc: 0.692103 loss: 8.118269\n",
            "[591/3000] Train Acc: 0.986909 Loss: 0.025422 | Val Acc: 0.697427 loss: 8.175273\n",
            "[592/3000] Train Acc: 0.987575 Loss: 0.016593 | Val Acc: 0.689441 loss: 7.985455\n",
            "[593/3000] Train Acc: 0.986909 Loss: 0.016585 | Val Acc: 0.695652 loss: 8.161664\n",
            "[594/3000] Train Acc: 0.985800 Loss: 0.021190 | Val Acc: 0.695652 loss: 8.229283\n",
            "[595/3000] Train Acc: 0.985578 Loss: 0.027905 | Val Acc: 0.692103 loss: 8.093499\n",
            "[596/3000] Train Acc: 0.985800 Loss: 0.016234 | Val Acc: 0.698314 loss: 8.041647\n",
            "[597/3000] Train Acc: 0.986022 Loss: 0.017453 | Val Acc: 0.690328 loss: 8.015761\n",
            "[598/3000] Train Acc: 0.987797 Loss: 0.014636 | Val Acc: 0.694765 loss: 8.117362\n",
            "[599/3000] Train Acc: 0.988462 Loss: 0.020584 | Val Acc: 0.688554 loss: 8.071037\n",
            "[600/3000] Train Acc: 0.986465 Loss: 0.017780 | Val Acc: 0.697427 loss: 8.100078\n",
            "[601/3000] Train Acc: 0.984469 Loss: 0.020918 | Val Acc: 0.696539 loss: 8.109040\n",
            "[602/3000] Train Acc: 0.983137 Loss: 0.019848 | Val Acc: 0.692103 loss: 8.090713\n",
            "[603/3000] Train Acc: 0.987131 Loss: 0.013893 | Val Acc: 0.693878 loss: 8.134498\n",
            "[604/3000] Train Acc: 0.986022 Loss: 0.017455 | Val Acc: 0.695652 loss: 8.093716\n",
            "[605/3000] Train Acc: 0.986909 Loss: 0.019068 | Val Acc: 0.700976 loss: 8.149176\n",
            "[606/3000] Train Acc: 0.989794 Loss: 0.013903 | Val Acc: 0.700089 loss: 8.163325\n",
            "[607/3000] Train Acc: 0.987797 Loss: 0.014359 | Val Acc: 0.695652 loss: 8.164246\n",
            "[608/3000] Train Acc: 0.988684 Loss: 0.014579 | Val Acc: 0.698314 loss: 8.172577\n",
            "[609/3000] Train Acc: 0.985356 Loss: 0.028830 | Val Acc: 0.697427 loss: 8.103298\n",
            "[610/3000] Train Acc: 0.988906 Loss: 0.015742 | Val Acc: 0.702751 loss: 8.201957\n",
            "[611/3000] Train Acc: 0.987575 Loss: 0.015702 | Val Acc: 0.700976 loss: 8.290924\n",
            "[612/3000] Train Acc: 0.988019 Loss: 0.016953 | Val Acc: 0.699201 loss: 8.252639\n",
            "[613/3000] Train Acc: 0.981362 Loss: 0.021828 | Val Acc: 0.691216 loss: 8.116151\n",
            "[614/3000] Train Acc: 0.986022 Loss: 0.015807 | Val Acc: 0.694765 loss: 8.221090\n",
            "[615/3000] Train Acc: 0.985800 Loss: 0.022058 | Val Acc: 0.694765 loss: 8.125161\n",
            "[616/3000] Train Acc: 0.986022 Loss: 0.022531 | Val Acc: 0.690328 loss: 8.079415\n",
            "[617/3000] Train Acc: 0.986909 Loss: 0.017327 | Val Acc: 0.699201 loss: 8.084172\n",
            "[618/3000] Train Acc: 0.985800 Loss: 0.017396 | Val Acc: 0.705413 loss: 8.159209\n",
            "saving model with acc 0.705\n",
            "[619/3000] Train Acc: 0.987131 Loss: 0.015334 | Val Acc: 0.693878 loss: 8.079409\n",
            "[620/3000] Train Acc: 0.988019 Loss: 0.017168 | Val Acc: 0.694765 loss: 8.183643\n",
            "[621/3000] Train Acc: 0.987575 Loss: 0.019174 | Val Acc: 0.693878 loss: 8.035261\n",
            "[622/3000] Train Acc: 0.988241 Loss: 0.019014 | Val Acc: 0.690328 loss: 8.057934\n",
            "[623/3000] Train Acc: 0.984912 Loss: 0.018325 | Val Acc: 0.693878 loss: 8.067557\n",
            "[624/3000] Train Acc: 0.986244 Loss: 0.019999 | Val Acc: 0.695652 loss: 8.158354\n",
            "[625/3000] Train Acc: 0.988906 Loss: 0.016249 | Val Acc: 0.686779 loss: 8.085077\n",
            "[626/3000] Train Acc: 0.986909 Loss: 0.019543 | Val Acc: 0.689441 loss: 8.069544\n",
            "[627/3000] Train Acc: 0.985800 Loss: 0.018233 | Val Acc: 0.689441 loss: 7.997593\n",
            "[628/3000] Train Acc: 0.986687 Loss: 0.027521 | Val Acc: 0.699201 loss: 8.258589\n",
            "[629/3000] Train Acc: 0.986244 Loss: 0.019365 | Val Acc: 0.698314 loss: 8.204405\n",
            "[630/3000] Train Acc: 0.987575 Loss: 0.019850 | Val Acc: 0.688554 loss: 7.988444\n",
            "[631/3000] Train Acc: 0.983359 Loss: 0.020963 | Val Acc: 0.695652 loss: 8.067404\n",
            "[632/3000] Train Acc: 0.985800 Loss: 0.030194 | Val Acc: 0.697427 loss: 8.194652\n",
            "[633/3000] Train Acc: 0.987131 Loss: 0.017199 | Val Acc: 0.699201 loss: 8.228644\n",
            "[634/3000] Train Acc: 0.986687 Loss: 0.017962 | Val Acc: 0.695652 loss: 8.085324\n",
            "[635/3000] Train Acc: 0.988241 Loss: 0.014802 | Val Acc: 0.698314 loss: 8.084165\n",
            "[636/3000] Train Acc: 0.984690 Loss: 0.021814 | Val Acc: 0.699201 loss: 8.237028\n",
            "[637/3000] Train Acc: 0.988241 Loss: 0.016931 | Val Acc: 0.692990 loss: 8.088147\n",
            "[638/3000] Train Acc: 0.988019 Loss: 0.016426 | Val Acc: 0.692990 loss: 8.141360\n",
            "[639/3000] Train Acc: 0.987575 Loss: 0.017433 | Val Acc: 0.693878 loss: 8.126780\n",
            "[640/3000] Train Acc: 0.986465 Loss: 0.020194 | Val Acc: 0.690328 loss: 7.969715\n",
            "[641/3000] Train Acc: 0.989128 Loss: 0.013564 | Val Acc: 0.694765 loss: 8.125445\n",
            "[642/3000] Train Acc: 0.988906 Loss: 0.015566 | Val Acc: 0.698314 loss: 8.121841\n",
            "[643/3000] Train Acc: 0.986022 Loss: 0.022587 | Val Acc: 0.694765 loss: 8.060999\n",
            "[644/3000] Train Acc: 0.987797 Loss: 0.021984 | Val Acc: 0.692103 loss: 8.117665\n",
            "[645/3000] Train Acc: 0.986687 Loss: 0.015414 | Val Acc: 0.697427 loss: 8.186553\n",
            "[646/3000] Train Acc: 0.986022 Loss: 0.016314 | Val Acc: 0.702751 loss: 8.178603\n",
            "[647/3000] Train Acc: 0.986687 Loss: 0.015882 | Val Acc: 0.700089 loss: 8.223536\n",
            "[648/3000] Train Acc: 0.982915 Loss: 0.019509 | Val Acc: 0.700976 loss: 8.192301\n",
            "[649/3000] Train Acc: 0.986909 Loss: 0.020113 | Val Acc: 0.708962 loss: 8.239705\n",
            "saving model with acc 0.709\n",
            "[650/3000] Train Acc: 0.984912 Loss: 0.019781 | Val Acc: 0.696539 loss: 8.116596\n",
            "[651/3000] Train Acc: 0.985800 Loss: 0.018467 | Val Acc: 0.699201 loss: 8.187022\n",
            "[652/3000] Train Acc: 0.986022 Loss: 0.016303 | Val Acc: 0.695652 loss: 8.092693\n",
            "[653/3000] Train Acc: 0.984025 Loss: 0.021160 | Val Acc: 0.699201 loss: 8.206240\n",
            "[654/3000] Train Acc: 0.984690 Loss: 0.022856 | Val Acc: 0.691216 loss: 8.132924\n",
            "[655/3000] Train Acc: 0.984469 Loss: 0.016178 | Val Acc: 0.696539 loss: 8.055193\n",
            "[656/3000] Train Acc: 0.988019 Loss: 0.017153 | Val Acc: 0.690328 loss: 8.081374\n",
            "[657/3000] Train Acc: 0.987353 Loss: 0.014860 | Val Acc: 0.698314 loss: 8.203461\n",
            "[658/3000] Train Acc: 0.986022 Loss: 0.014975 | Val Acc: 0.690328 loss: 8.008235\n",
            "[659/3000] Train Acc: 0.984247 Loss: 0.019863 | Val Acc: 0.691216 loss: 8.145807\n",
            "[660/3000] Train Acc: 0.988019 Loss: 0.015007 | Val Acc: 0.692103 loss: 8.018591\n",
            "[661/3000] Train Acc: 0.985356 Loss: 0.016124 | Val Acc: 0.696539 loss: 8.122120\n",
            "[662/3000] Train Acc: 0.986022 Loss: 0.018587 | Val Acc: 0.697427 loss: 8.106205\n",
            "[663/3000] Train Acc: 0.987131 Loss: 0.016934 | Val Acc: 0.695652 loss: 8.191313\n",
            "[664/3000] Train Acc: 0.983359 Loss: 0.019478 | Val Acc: 0.700089 loss: 8.177261\n",
            "[665/3000] Train Acc: 0.986244 Loss: 0.015026 | Val Acc: 0.698314 loss: 8.212040\n",
            "[666/3000] Train Acc: 0.985800 Loss: 0.017943 | Val Acc: 0.700976 loss: 8.204867\n",
            "[667/3000] Train Acc: 0.986909 Loss: 0.023511 | Val Acc: 0.689441 loss: 8.133159\n",
            "[668/3000] Train Acc: 0.988019 Loss: 0.017848 | Val Acc: 0.696539 loss: 8.124442\n",
            "[669/3000] Train Acc: 0.989128 Loss: 0.013753 | Val Acc: 0.695652 loss: 8.117174\n",
            "[670/3000] Train Acc: 0.986687 Loss: 0.021220 | Val Acc: 0.699201 loss: 8.170595\n",
            "[671/3000] Train Acc: 0.985578 Loss: 0.018483 | Val Acc: 0.693878 loss: 8.199468\n",
            "[672/3000] Train Acc: 0.986465 Loss: 0.017419 | Val Acc: 0.695652 loss: 8.260570\n",
            "[673/3000] Train Acc: 0.987575 Loss: 0.016338 | Val Acc: 0.688554 loss: 8.091485\n",
            "[674/3000] Train Acc: 0.983803 Loss: 0.025995 | Val Acc: 0.698314 loss: 8.096148\n",
            "[675/3000] Train Acc: 0.985578 Loss: 0.018842 | Val Acc: 0.694765 loss: 8.121646\n",
            "[676/3000] Train Acc: 0.985134 Loss: 0.019942 | Val Acc: 0.694765 loss: 8.064236\n",
            "[677/3000] Train Acc: 0.984025 Loss: 0.023589 | Val Acc: 0.692103 loss: 8.048834\n",
            "[678/3000] Train Acc: 0.986022 Loss: 0.020522 | Val Acc: 0.698314 loss: 8.104315\n",
            "[679/3000] Train Acc: 0.986244 Loss: 0.016303 | Val Acc: 0.698314 loss: 8.225333\n",
            "[680/3000] Train Acc: 0.986022 Loss: 0.029481 | Val Acc: 0.698314 loss: 8.221431\n",
            "[681/3000] Train Acc: 0.987797 Loss: 0.016947 | Val Acc: 0.695652 loss: 8.250062\n",
            "[682/3000] Train Acc: 0.986465 Loss: 0.015335 | Val Acc: 0.691216 loss: 8.114617\n",
            "[683/3000] Train Acc: 0.988019 Loss: 0.016707 | Val Acc: 0.694765 loss: 8.131844\n",
            "[684/3000] Train Acc: 0.989794 Loss: 0.014168 | Val Acc: 0.693878 loss: 8.140164\n",
            "[685/3000] Train Acc: 0.988684 Loss: 0.014598 | Val Acc: 0.699201 loss: 8.200562\n",
            "[686/3000] Train Acc: 0.983581 Loss: 0.017950 | Val Acc: 0.698314 loss: 8.207504\n",
            "[687/3000] Train Acc: 0.988019 Loss: 0.023426 | Val Acc: 0.689441 loss: 8.129636\n",
            "[688/3000] Train Acc: 0.989128 Loss: 0.014812 | Val Acc: 0.695652 loss: 8.245284\n",
            "[689/3000] Train Acc: 0.984025 Loss: 0.015837 | Val Acc: 0.697427 loss: 8.136872\n",
            "[690/3000] Train Acc: 0.983803 Loss: 0.019595 | Val Acc: 0.685892 loss: 8.158501\n",
            "[691/3000] Train Acc: 0.987131 Loss: 0.016160 | Val Acc: 0.698314 loss: 8.271026\n",
            "[692/3000] Train Acc: 0.986909 Loss: 0.017303 | Val Acc: 0.691216 loss: 8.090787\n",
            "[693/3000] Train Acc: 0.985578 Loss: 0.015829 | Val Acc: 0.700976 loss: 8.148270\n",
            "[694/3000] Train Acc: 0.987575 Loss: 0.024271 | Val Acc: 0.696539 loss: 8.170126\n",
            "[695/3000] Train Acc: 0.988241 Loss: 0.016501 | Val Acc: 0.688554 loss: 8.172041\n",
            "[696/3000] Train Acc: 0.985134 Loss: 0.023002 | Val Acc: 0.692103 loss: 8.062709\n",
            "[697/3000] Train Acc: 0.987575 Loss: 0.015441 | Val Acc: 0.691216 loss: 8.201592\n",
            "[698/3000] Train Acc: 0.985356 Loss: 0.018314 | Val Acc: 0.699201 loss: 8.157499\n",
            "[699/3000] Train Acc: 0.984690 Loss: 0.017524 | Val Acc: 0.699201 loss: 8.199001\n",
            "[700/3000] Train Acc: 0.987575 Loss: 0.017442 | Val Acc: 0.701863 loss: 8.247748\n",
            "[701/3000] Train Acc: 0.987575 Loss: 0.021688 | Val Acc: 0.698314 loss: 8.276455\n",
            "[702/3000] Train Acc: 0.986022 Loss: 0.017582 | Val Acc: 0.692103 loss: 8.105583\n",
            "[703/3000] Train Acc: 0.987797 Loss: 0.016774 | Val Acc: 0.698314 loss: 8.181672\n",
            "[704/3000] Train Acc: 0.987797 Loss: 0.017778 | Val Acc: 0.696539 loss: 8.144416\n",
            "[705/3000] Train Acc: 0.987131 Loss: 0.018958 | Val Acc: 0.694765 loss: 8.207832\n",
            "[706/3000] Train Acc: 0.988241 Loss: 0.030147 | Val Acc: 0.698314 loss: 8.171293\n",
            "[707/3000] Train Acc: 0.982472 Loss: 0.025649 | Val Acc: 0.697427 loss: 8.072307\n",
            "[708/3000] Train Acc: 0.985134 Loss: 0.024870 | Val Acc: 0.692990 loss: 8.095657\n",
            "[709/3000] Train Acc: 0.988241 Loss: 0.018180 | Val Acc: 0.697427 loss: 8.094273\n",
            "[710/3000] Train Acc: 0.986244 Loss: 0.014459 | Val Acc: 0.689441 loss: 8.042960\n",
            "[711/3000] Train Acc: 0.986244 Loss: 0.016659 | Val Acc: 0.694765 loss: 8.048087\n",
            "[712/3000] Train Acc: 0.986909 Loss: 0.016248 | Val Acc: 0.700976 loss: 8.078175\n",
            "[713/3000] Train Acc: 0.983359 Loss: 0.019431 | Val Acc: 0.697427 loss: 8.086538\n",
            "[714/3000] Train Acc: 0.985800 Loss: 0.021235 | Val Acc: 0.696539 loss: 8.213310\n",
            "[715/3000] Train Acc: 0.989128 Loss: 0.017807 | Val Acc: 0.698314 loss: 8.289284\n",
            "[716/3000] Train Acc: 0.984690 Loss: 0.019972 | Val Acc: 0.699201 loss: 8.235422\n",
            "[717/3000] Train Acc: 0.986687 Loss: 0.020997 | Val Acc: 0.695652 loss: 8.050651\n",
            "[718/3000] Train Acc: 0.986687 Loss: 0.021303 | Val Acc: 0.688554 loss: 8.045143\n",
            "[719/3000] Train Acc: 0.987131 Loss: 0.020967 | Val Acc: 0.701863 loss: 8.212378\n",
            "[720/3000] Train Acc: 0.984912 Loss: 0.026029 | Val Acc: 0.690328 loss: 8.115164\n",
            "[721/3000] Train Acc: 0.986022 Loss: 0.018155 | Val Acc: 0.693878 loss: 8.177799\n",
            "[722/3000] Train Acc: 0.987131 Loss: 0.016666 | Val Acc: 0.689441 loss: 8.133266\n",
            "[723/3000] Train Acc: 0.984912 Loss: 0.015863 | Val Acc: 0.699201 loss: 8.158673\n",
            "[724/3000] Train Acc: 0.987797 Loss: 0.021016 | Val Acc: 0.698314 loss: 8.181013\n",
            "[725/3000] Train Acc: 0.986465 Loss: 0.016656 | Val Acc: 0.693878 loss: 8.120139\n",
            "[726/3000] Train Acc: 0.988906 Loss: 0.018147 | Val Acc: 0.699201 loss: 8.203181\n",
            "[727/3000] Train Acc: 0.986244 Loss: 0.020073 | Val Acc: 0.692103 loss: 8.086382\n",
            "[728/3000] Train Acc: 0.985356 Loss: 0.025829 | Val Acc: 0.690328 loss: 8.082185\n",
            "[729/3000] Train Acc: 0.987797 Loss: 0.017429 | Val Acc: 0.699201 loss: 8.117519\n",
            "[730/3000] Train Acc: 0.984025 Loss: 0.020878 | Val Acc: 0.682343 loss: 7.994265\n",
            "[731/3000] Train Acc: 0.986244 Loss: 0.021192 | Val Acc: 0.694765 loss: 8.076688\n",
            "[732/3000] Train Acc: 0.987797 Loss: 0.018291 | Val Acc: 0.693878 loss: 8.067506\n",
            "[733/3000] Train Acc: 0.986022 Loss: 0.014690 | Val Acc: 0.697427 loss: 8.131223\n",
            "[734/3000] Train Acc: 0.988019 Loss: 0.012937 | Val Acc: 0.697427 loss: 8.236163\n",
            "[735/3000] Train Acc: 0.986909 Loss: 0.018265 | Val Acc: 0.694765 loss: 8.081803\n",
            "[736/3000] Train Acc: 0.989794 Loss: 0.016473 | Val Acc: 0.696539 loss: 8.184301\n",
            "[737/3000] Train Acc: 0.986909 Loss: 0.015955 | Val Acc: 0.700089 loss: 8.160914\n",
            "[738/3000] Train Acc: 0.988684 Loss: 0.015181 | Val Acc: 0.699201 loss: 8.265272\n",
            "[739/3000] Train Acc: 0.988906 Loss: 0.015285 | Val Acc: 0.701863 loss: 8.153570\n",
            "[740/3000] Train Acc: 0.985356 Loss: 0.019593 | Val Acc: 0.691216 loss: 8.156563\n",
            "[741/3000] Train Acc: 0.987353 Loss: 0.016276 | Val Acc: 0.690328 loss: 8.131036\n",
            "[742/3000] Train Acc: 0.989128 Loss: 0.015985 | Val Acc: 0.692990 loss: 8.025350\n",
            "[743/3000] Train Acc: 0.986909 Loss: 0.016141 | Val Acc: 0.690328 loss: 8.175258\n",
            "[744/3000] Train Acc: 0.985800 Loss: 0.021182 | Val Acc: 0.692103 loss: 8.030306\n",
            "[745/3000] Train Acc: 0.985356 Loss: 0.023797 | Val Acc: 0.689441 loss: 7.986341\n",
            "[746/3000] Train Acc: 0.984469 Loss: 0.017749 | Val Acc: 0.697427 loss: 8.220548\n",
            "[747/3000] Train Acc: 0.986909 Loss: 0.021313 | Val Acc: 0.701863 loss: 8.291513\n",
            "[748/3000] Train Acc: 0.984469 Loss: 0.014749 | Val Acc: 0.693878 loss: 8.123558\n",
            "[749/3000] Train Acc: 0.983581 Loss: 0.020632 | Val Acc: 0.699201 loss: 8.142848\n",
            "[750/3000] Train Acc: 0.982915 Loss: 0.019631 | Val Acc: 0.694765 loss: 8.116982\n",
            "[751/3000] Train Acc: 0.987797 Loss: 0.015235 | Val Acc: 0.689441 loss: 8.152303\n",
            "[752/3000] Train Acc: 0.986244 Loss: 0.017834 | Val Acc: 0.698314 loss: 8.207413\n",
            "[753/3000] Train Acc: 0.986022 Loss: 0.017798 | Val Acc: 0.690328 loss: 8.057542\n",
            "[754/3000] Train Acc: 0.986022 Loss: 0.021009 | Val Acc: 0.692103 loss: 8.060709\n",
            "[755/3000] Train Acc: 0.986022 Loss: 0.019829 | Val Acc: 0.700089 loss: 8.155881\n",
            "[756/3000] Train Acc: 0.984690 Loss: 0.024674 | Val Acc: 0.696539 loss: 8.173200\n",
            "[757/3000] Train Acc: 0.984469 Loss: 0.026148 | Val Acc: 0.687666 loss: 8.176768\n",
            "[758/3000] Train Acc: 0.988462 Loss: 0.014597 | Val Acc: 0.689441 loss: 7.990539\n",
            "[759/3000] Train Acc: 0.982915 Loss: 0.022399 | Val Acc: 0.690328 loss: 8.076460\n",
            "[760/3000] Train Acc: 0.986244 Loss: 0.018890 | Val Acc: 0.693878 loss: 8.177940\n",
            "[761/3000] Train Acc: 0.983359 Loss: 0.017555 | Val Acc: 0.694765 loss: 8.160695\n",
            "[762/3000] Train Acc: 0.983137 Loss: 0.017140 | Val Acc: 0.697427 loss: 8.306487\n",
            "[763/3000] Train Acc: 0.984247 Loss: 0.025649 | Val Acc: 0.700089 loss: 8.148897\n",
            "[764/3000] Train Acc: 0.985578 Loss: 0.019008 | Val Acc: 0.680568 loss: 7.986134\n",
            "[765/3000] Train Acc: 0.988462 Loss: 0.014778 | Val Acc: 0.694765 loss: 8.217114\n",
            "[766/3000] Train Acc: 0.983581 Loss: 0.018247 | Val Acc: 0.695652 loss: 8.240364\n",
            "[767/3000] Train Acc: 0.985356 Loss: 0.016482 | Val Acc: 0.696539 loss: 8.163571\n",
            "[768/3000] Train Acc: 0.986909 Loss: 0.015251 | Val Acc: 0.693878 loss: 8.116488\n",
            "[769/3000] Train Acc: 0.990237 Loss: 0.013618 | Val Acc: 0.697427 loss: 8.221023\n",
            "[770/3000] Train Acc: 0.983137 Loss: 0.025655 | Val Acc: 0.699201 loss: 8.195635\n",
            "[771/3000] Train Acc: 0.985134 Loss: 0.018905 | Val Acc: 0.699201 loss: 8.244138\n",
            "[772/3000] Train Acc: 0.987797 Loss: 0.016783 | Val Acc: 0.693878 loss: 8.062683\n",
            "[773/3000] Train Acc: 0.988019 Loss: 0.017023 | Val Acc: 0.704525 loss: 8.220720\n",
            "[774/3000] Train Acc: 0.985800 Loss: 0.014320 | Val Acc: 0.692990 loss: 8.166664\n",
            "[775/3000] Train Acc: 0.987797 Loss: 0.017260 | Val Acc: 0.700976 loss: 8.236004\n",
            "[776/3000] Train Acc: 0.983359 Loss: 0.017660 | Val Acc: 0.689441 loss: 8.065877\n",
            "[777/3000] Train Acc: 0.984690 Loss: 0.016972 | Val Acc: 0.685892 loss: 7.994285\n",
            "[778/3000] Train Acc: 0.985578 Loss: 0.022333 | Val Acc: 0.693878 loss: 8.127487\n",
            "[779/3000] Train Acc: 0.987131 Loss: 0.018802 | Val Acc: 0.699201 loss: 8.158516\n",
            "[780/3000] Train Acc: 0.989128 Loss: 0.018734 | Val Acc: 0.699201 loss: 8.179082\n",
            "[781/3000] Train Acc: 0.986909 Loss: 0.020779 | Val Acc: 0.694765 loss: 8.182069\n",
            "[782/3000] Train Acc: 0.983803 Loss: 0.018735 | Val Acc: 0.687666 loss: 8.098321\n",
            "[783/3000] Train Acc: 0.986687 Loss: 0.019841 | Val Acc: 0.691216 loss: 8.186620\n",
            "[784/3000] Train Acc: 0.988241 Loss: 0.014572 | Val Acc: 0.698314 loss: 8.198584\n",
            "[785/3000] Train Acc: 0.986022 Loss: 0.019523 | Val Acc: 0.694765 loss: 8.175518\n",
            "[786/3000] Train Acc: 0.987353 Loss: 0.016498 | Val Acc: 0.701863 loss: 8.178911\n",
            "[787/3000] Train Acc: 0.986687 Loss: 0.017707 | Val Acc: 0.703638 loss: 8.268142\n",
            "[788/3000] Train Acc: 0.987353 Loss: 0.017632 | Val Acc: 0.700089 loss: 8.239894\n",
            "[789/3000] Train Acc: 0.985800 Loss: 0.015864 | Val Acc: 0.691216 loss: 8.066251\n",
            "[790/3000] Train Acc: 0.985578 Loss: 0.022710 | Val Acc: 0.698314 loss: 8.091765\n",
            "[791/3000] Train Acc: 0.986022 Loss: 0.018853 | Val Acc: 0.691216 loss: 8.076915\n",
            "[792/3000] Train Acc: 0.985134 Loss: 0.018792 | Val Acc: 0.699201 loss: 8.257863\n",
            "[793/3000] Train Acc: 0.984690 Loss: 0.018006 | Val Acc: 0.694765 loss: 8.102118\n",
            "[794/3000] Train Acc: 0.984469 Loss: 0.020984 | Val Acc: 0.691216 loss: 8.153485\n",
            "[795/3000] Train Acc: 0.986909 Loss: 0.021793 | Val Acc: 0.693878 loss: 8.091690\n",
            "[796/3000] Train Acc: 0.987353 Loss: 0.017546 | Val Acc: 0.694765 loss: 8.261761\n",
            "[797/3000] Train Acc: 0.988019 Loss: 0.016532 | Val Acc: 0.698314 loss: 8.231779\n",
            "[798/3000] Train Acc: 0.986022 Loss: 0.021376 | Val Acc: 0.694765 loss: 8.250166\n",
            "[799/3000] Train Acc: 0.987575 Loss: 0.016180 | Val Acc: 0.694765 loss: 8.196348\n",
            "[800/3000] Train Acc: 0.988241 Loss: 0.021101 | Val Acc: 0.688554 loss: 8.129696\n",
            "[801/3000] Train Acc: 0.987131 Loss: 0.015768 | Val Acc: 0.699201 loss: 8.222301\n",
            "[802/3000] Train Acc: 0.985800 Loss: 0.023613 | Val Acc: 0.697427 loss: 8.216392\n",
            "[803/3000] Train Acc: 0.988019 Loss: 0.012941 | Val Acc: 0.695652 loss: 8.071898\n",
            "[804/3000] Train Acc: 0.987575 Loss: 0.019202 | Val Acc: 0.699201 loss: 8.164724\n",
            "[805/3000] Train Acc: 0.984025 Loss: 0.018555 | Val Acc: 0.691216 loss: 8.174671\n",
            "[806/3000] Train Acc: 0.984912 Loss: 0.018107 | Val Acc: 0.701863 loss: 8.238133\n",
            "[807/3000] Train Acc: 0.987797 Loss: 0.014603 | Val Acc: 0.693878 loss: 8.204232\n",
            "[808/3000] Train Acc: 0.986465 Loss: 0.023945 | Val Acc: 0.688554 loss: 8.128826\n",
            "[809/3000] Train Acc: 0.982694 Loss: 0.019502 | Val Acc: 0.695652 loss: 8.273274\n",
            "[810/3000] Train Acc: 0.985800 Loss: 0.016457 | Val Acc: 0.694765 loss: 8.184773\n",
            "[811/3000] Train Acc: 0.986465 Loss: 0.019736 | Val Acc: 0.699201 loss: 8.225553\n",
            "[812/3000] Train Acc: 0.987575 Loss: 0.015574 | Val Acc: 0.690328 loss: 8.059151\n",
            "[813/3000] Train Acc: 0.986244 Loss: 0.015908 | Val Acc: 0.685892 loss: 8.016780\n",
            "[814/3000] Train Acc: 0.984690 Loss: 0.019177 | Val Acc: 0.700089 loss: 8.230470\n",
            "[815/3000] Train Acc: 0.985356 Loss: 0.023088 | Val Acc: 0.695652 loss: 8.218025\n",
            "[816/3000] Train Acc: 0.987131 Loss: 0.018800 | Val Acc: 0.695652 loss: 8.068262\n",
            "[817/3000] Train Acc: 0.987131 Loss: 0.017818 | Val Acc: 0.698314 loss: 8.101006\n",
            "[818/3000] Train Acc: 0.987353 Loss: 0.019055 | Val Acc: 0.700976 loss: 8.320469\n",
            "[819/3000] Train Acc: 0.984247 Loss: 0.020583 | Val Acc: 0.692990 loss: 8.200716\n",
            "[820/3000] Train Acc: 0.986909 Loss: 0.019555 | Val Acc: 0.692103 loss: 8.106899\n",
            "[821/3000] Train Acc: 0.986687 Loss: 0.020755 | Val Acc: 0.690328 loss: 8.185604\n",
            "[822/3000] Train Acc: 0.985356 Loss: 0.015240 | Val Acc: 0.699201 loss: 8.168469\n",
            "[823/3000] Train Acc: 0.986909 Loss: 0.019274 | Val Acc: 0.694765 loss: 8.210106\n",
            "[824/3000] Train Acc: 0.985134 Loss: 0.020412 | Val Acc: 0.693878 loss: 8.136189\n",
            "[825/3000] Train Acc: 0.986022 Loss: 0.023659 | Val Acc: 0.695652 loss: 8.134720\n",
            "[826/3000] Train Acc: 0.984469 Loss: 0.017691 | Val Acc: 0.692990 loss: 8.014343\n",
            "[827/3000] Train Acc: 0.985134 Loss: 0.016996 | Val Acc: 0.696539 loss: 8.119241\n",
            "[828/3000] Train Acc: 0.988019 Loss: 0.017324 | Val Acc: 0.692990 loss: 8.082074\n",
            "[829/3000] Train Acc: 0.984690 Loss: 0.021765 | Val Acc: 0.693878 loss: 8.082577\n",
            "[830/3000] Train Acc: 0.987797 Loss: 0.021137 | Val Acc: 0.692990 loss: 8.089538\n",
            "[831/3000] Train Acc: 0.984690 Loss: 0.018688 | Val Acc: 0.697427 loss: 8.217030\n",
            "[832/3000] Train Acc: 0.986909 Loss: 0.019118 | Val Acc: 0.686779 loss: 8.061320\n",
            "[833/3000] Train Acc: 0.987131 Loss: 0.016448 | Val Acc: 0.695652 loss: 8.274333\n",
            "[834/3000] Train Acc: 0.987353 Loss: 0.015797 | Val Acc: 0.699201 loss: 8.258556\n",
            "[835/3000] Train Acc: 0.985800 Loss: 0.016935 | Val Acc: 0.690328 loss: 8.053285\n",
            "[836/3000] Train Acc: 0.986244 Loss: 0.020701 | Val Acc: 0.691216 loss: 8.070867\n",
            "[837/3000] Train Acc: 0.988462 Loss: 0.014845 | Val Acc: 0.686779 loss: 8.172069\n",
            "[838/3000] Train Acc: 0.988906 Loss: 0.019300 | Val Acc: 0.694765 loss: 8.217528\n",
            "[839/3000] Train Acc: 0.988906 Loss: 0.017580 | Val Acc: 0.696539 loss: 8.144514\n",
            "[840/3000] Train Acc: 0.989128 Loss: 0.019371 | Val Acc: 0.698314 loss: 8.196923\n",
            "[841/3000] Train Acc: 0.987353 Loss: 0.020059 | Val Acc: 0.698314 loss: 8.284925\n",
            "[842/3000] Train Acc: 0.985800 Loss: 0.017852 | Val Acc: 0.695652 loss: 8.116632\n",
            "[843/3000] Train Acc: 0.987575 Loss: 0.013956 | Val Acc: 0.703638 loss: 8.253921\n",
            "[844/3000] Train Acc: 0.983803 Loss: 0.021054 | Val Acc: 0.691216 loss: 8.081835\n",
            "[845/3000] Train Acc: 0.987575 Loss: 0.018656 | Val Acc: 0.689441 loss: 8.140767\n",
            "[846/3000] Train Acc: 0.987575 Loss: 0.015356 | Val Acc: 0.698314 loss: 8.135892\n",
            "[847/3000] Train Acc: 0.985578 Loss: 0.019193 | Val Acc: 0.694765 loss: 8.241028\n",
            "[848/3000] Train Acc: 0.987131 Loss: 0.014615 | Val Acc: 0.694765 loss: 8.227193\n",
            "[849/3000] Train Acc: 0.984025 Loss: 0.018233 | Val Acc: 0.697427 loss: 8.247287\n",
            "[850/3000] Train Acc: 0.985578 Loss: 0.019407 | Val Acc: 0.697427 loss: 8.257718\n",
            "[851/3000] Train Acc: 0.986465 Loss: 0.020661 | Val Acc: 0.694765 loss: 8.104403\n",
            "[852/3000] Train Acc: 0.988906 Loss: 0.016308 | Val Acc: 0.698314 loss: 8.115546\n",
            "[853/3000] Train Acc: 0.986022 Loss: 0.017532 | Val Acc: 0.697427 loss: 8.192220\n",
            "[854/3000] Train Acc: 0.983581 Loss: 0.017746 | Val Acc: 0.690328 loss: 8.223129\n",
            "[855/3000] Train Acc: 0.986909 Loss: 0.014966 | Val Acc: 0.698314 loss: 8.220298\n",
            "[856/3000] Train Acc: 0.986465 Loss: 0.019630 | Val Acc: 0.695652 loss: 8.209611\n",
            "[857/3000] Train Acc: 0.988019 Loss: 0.018852 | Val Acc: 0.695652 loss: 8.171079\n",
            "[858/3000] Train Acc: 0.984247 Loss: 0.021921 | Val Acc: 0.698314 loss: 8.114172\n",
            "[859/3000] Train Acc: 0.985800 Loss: 0.016611 | Val Acc: 0.698314 loss: 8.212038\n",
            "[860/3000] Train Acc: 0.986244 Loss: 0.019535 | Val Acc: 0.687666 loss: 7.975158\n",
            "[861/3000] Train Acc: 0.985356 Loss: 0.016051 | Val Acc: 0.700089 loss: 8.173495\n",
            "[862/3000] Train Acc: 0.986022 Loss: 0.019665 | Val Acc: 0.692103 loss: 8.115743\n",
            "[863/3000] Train Acc: 0.985800 Loss: 0.020385 | Val Acc: 0.692990 loss: 8.073584\n",
            "[864/3000] Train Acc: 0.988019 Loss: 0.016568 | Val Acc: 0.701863 loss: 8.208442\n",
            "[865/3000] Train Acc: 0.986465 Loss: 0.022496 | Val Acc: 0.697427 loss: 8.165752\n",
            "[866/3000] Train Acc: 0.984690 Loss: 0.024022 | Val Acc: 0.693878 loss: 8.072589\n",
            "[867/3000] Train Acc: 0.986909 Loss: 0.017316 | Val Acc: 0.702751 loss: 8.233778\n",
            "[868/3000] Train Acc: 0.987131 Loss: 0.015717 | Val Acc: 0.696539 loss: 8.153357\n",
            "[869/3000] Train Acc: 0.987797 Loss: 0.017037 | Val Acc: 0.696539 loss: 8.245554\n",
            "[870/3000] Train Acc: 0.989572 Loss: 0.016887 | Val Acc: 0.692990 loss: 8.086987\n",
            "[871/3000] Train Acc: 0.985800 Loss: 0.015262 | Val Acc: 0.696539 loss: 8.093959\n",
            "[872/3000] Train Acc: 0.988906 Loss: 0.016303 | Val Acc: 0.699201 loss: 8.201076\n",
            "[873/3000] Train Acc: 0.987575 Loss: 0.014958 | Val Acc: 0.694765 loss: 8.145247\n",
            "[874/3000] Train Acc: 0.984690 Loss: 0.018349 | Val Acc: 0.692990 loss: 8.083121\n",
            "[875/3000] Train Acc: 0.988684 Loss: 0.018067 | Val Acc: 0.691216 loss: 8.107840\n",
            "[876/3000] Train Acc: 0.985134 Loss: 0.018651 | Val Acc: 0.698314 loss: 8.140374\n",
            "[877/3000] Train Acc: 0.986022 Loss: 0.023778 | Val Acc: 0.698314 loss: 8.246357\n",
            "[878/3000] Train Acc: 0.984690 Loss: 0.022055 | Val Acc: 0.695652 loss: 8.196929\n",
            "[879/3000] Train Acc: 0.986022 Loss: 0.020592 | Val Acc: 0.697427 loss: 8.157854\n",
            "[880/3000] Train Acc: 0.988906 Loss: 0.014749 | Val Acc: 0.697427 loss: 8.160349\n",
            "[881/3000] Train Acc: 0.986244 Loss: 0.021855 | Val Acc: 0.700089 loss: 8.275211\n",
            "[882/3000] Train Acc: 0.988684 Loss: 0.017955 | Val Acc: 0.688554 loss: 8.150226\n",
            "[883/3000] Train Acc: 0.984912 Loss: 0.037526 | Val Acc: 0.696539 loss: 8.206964\n",
            "[884/3000] Train Acc: 0.987131 Loss: 0.018511 | Val Acc: 0.684117 loss: 8.044659\n",
            "[885/3000] Train Acc: 0.988462 Loss: 0.016379 | Val Acc: 0.692990 loss: 8.146951\n",
            "[886/3000] Train Acc: 0.985134 Loss: 0.022312 | Val Acc: 0.696539 loss: 8.211389\n",
            "[887/3000] Train Acc: 0.986022 Loss: 0.016123 | Val Acc: 0.695652 loss: 8.160513\n",
            "[888/3000] Train Acc: 0.987353 Loss: 0.016618 | Val Acc: 0.694765 loss: 8.111767\n",
            "[889/3000] Train Acc: 0.983803 Loss: 0.019505 | Val Acc: 0.703638 loss: 8.314254\n",
            "[890/3000] Train Acc: 0.989350 Loss: 0.011462 | Val Acc: 0.705413 loss: 8.143699\n",
            "[891/3000] Train Acc: 0.987575 Loss: 0.017395 | Val Acc: 0.692103 loss: 8.124977\n",
            "[892/3000] Train Acc: 0.988684 Loss: 0.014042 | Val Acc: 0.696539 loss: 8.233533\n",
            "[893/3000] Train Acc: 0.984469 Loss: 0.019879 | Val Acc: 0.693878 loss: 8.097863\n",
            "[894/3000] Train Acc: 0.986244 Loss: 0.022052 | Val Acc: 0.691216 loss: 8.145898\n",
            "[895/3000] Train Acc: 0.984025 Loss: 0.018032 | Val Acc: 0.695652 loss: 8.212312\n",
            "[896/3000] Train Acc: 0.985578 Loss: 0.022727 | Val Acc: 0.693878 loss: 8.103499\n",
            "[897/3000] Train Acc: 0.988684 Loss: 0.013275 | Val Acc: 0.700976 loss: 8.162560\n",
            "[898/3000] Train Acc: 0.986465 Loss: 0.019319 | Val Acc: 0.688554 loss: 8.133790\n",
            "[899/3000] Train Acc: 0.987575 Loss: 0.019553 | Val Acc: 0.692103 loss: 8.203000\n",
            "[900/3000] Train Acc: 0.985800 Loss: 0.022943 | Val Acc: 0.701863 loss: 8.200600\n",
            "[901/3000] Train Acc: 0.984912 Loss: 0.018275 | Val Acc: 0.695652 loss: 8.129345\n",
            "[902/3000] Train Acc: 0.985134 Loss: 0.022618 | Val Acc: 0.702751 loss: 8.304418\n",
            "[903/3000] Train Acc: 0.989572 Loss: 0.016939 | Val Acc: 0.693878 loss: 8.074906\n",
            "[904/3000] Train Acc: 0.984690 Loss: 0.020445 | Val Acc: 0.692103 loss: 8.192748\n",
            "[905/3000] Train Acc: 0.986244 Loss: 0.019895 | Val Acc: 0.701863 loss: 8.268163\n",
            "[906/3000] Train Acc: 0.987131 Loss: 0.018658 | Val Acc: 0.696539 loss: 8.144680\n",
            "[907/3000] Train Acc: 0.986022 Loss: 0.024530 | Val Acc: 0.686779 loss: 8.059147\n",
            "[908/3000] Train Acc: 0.987131 Loss: 0.016100 | Val Acc: 0.693878 loss: 8.123037\n",
            "[909/3000] Train Acc: 0.987131 Loss: 0.014901 | Val Acc: 0.699201 loss: 8.248400\n",
            "[910/3000] Train Acc: 0.988019 Loss: 0.017870 | Val Acc: 0.690328 loss: 8.119805\n",
            "[911/3000] Train Acc: 0.987797 Loss: 0.017214 | Val Acc: 0.696539 loss: 8.123763\n",
            "[912/3000] Train Acc: 0.986022 Loss: 0.018987 | Val Acc: 0.696539 loss: 8.180773\n",
            "[913/3000] Train Acc: 0.988241 Loss: 0.017129 | Val Acc: 0.689441 loss: 8.145244\n",
            "[914/3000] Train Acc: 0.986022 Loss: 0.021739 | Val Acc: 0.699201 loss: 8.130670\n",
            "[915/3000] Train Acc: 0.988241 Loss: 0.014736 | Val Acc: 0.694765 loss: 8.218743\n",
            "[916/3000] Train Acc: 0.984690 Loss: 0.018002 | Val Acc: 0.702751 loss: 8.307938\n",
            "[917/3000] Train Acc: 0.987131 Loss: 0.015467 | Val Acc: 0.697427 loss: 8.146903\n",
            "[918/3000] Train Acc: 0.985578 Loss: 0.017330 | Val Acc: 0.698314 loss: 8.151938\n",
            "[919/3000] Train Acc: 0.987353 Loss: 0.018414 | Val Acc: 0.697427 loss: 8.107256\n",
            "[920/3000] Train Acc: 0.986244 Loss: 0.025023 | Val Acc: 0.695652 loss: 8.175576\n",
            "[921/3000] Train Acc: 0.986022 Loss: 0.019318 | Val Acc: 0.696539 loss: 8.328742\n",
            "[922/3000] Train Acc: 0.985134 Loss: 0.024492 | Val Acc: 0.689441 loss: 8.066304\n",
            "[923/3000] Train Acc: 0.986465 Loss: 0.018581 | Val Acc: 0.696539 loss: 8.290986\n",
            "[924/3000] Train Acc: 0.980697 Loss: 0.023020 | Val Acc: 0.698314 loss: 8.277154\n",
            "[925/3000] Train Acc: 0.985800 Loss: 0.018505 | Val Acc: 0.681455 loss: 8.044051\n",
            "[926/3000] Train Acc: 0.985134 Loss: 0.015985 | Val Acc: 0.697427 loss: 8.130070\n",
            "[927/3000] Train Acc: 0.988462 Loss: 0.018322 | Val Acc: 0.686779 loss: 8.079319\n",
            "[928/3000] Train Acc: 0.985134 Loss: 0.015474 | Val Acc: 0.694765 loss: 8.184807\n",
            "[929/3000] Train Acc: 0.989128 Loss: 0.018360 | Val Acc: 0.700976 loss: 8.122673\n",
            "[930/3000] Train Acc: 0.985800 Loss: 0.022591 | Val Acc: 0.696539 loss: 8.103320\n",
            "[931/3000] Train Acc: 0.986909 Loss: 0.016852 | Val Acc: 0.689441 loss: 8.041809\n",
            "[932/3000] Train Acc: 0.985800 Loss: 0.016675 | Val Acc: 0.698314 loss: 8.271722\n",
            "[933/3000] Train Acc: 0.986687 Loss: 0.017797 | Val Acc: 0.698314 loss: 8.222306\n",
            "[934/3000] Train Acc: 0.986244 Loss: 0.022947 | Val Acc: 0.692990 loss: 8.097549\n",
            "[935/3000] Train Acc: 0.989128 Loss: 0.013900 | Val Acc: 0.698314 loss: 8.118269\n",
            "[936/3000] Train Acc: 0.985356 Loss: 0.020388 | Val Acc: 0.697427 loss: 8.324263\n",
            "[937/3000] Train Acc: 0.985356 Loss: 0.025897 | Val Acc: 0.693878 loss: 8.084651\n",
            "[938/3000] Train Acc: 0.985356 Loss: 0.022831 | Val Acc: 0.701863 loss: 8.190762\n",
            "[939/3000] Train Acc: 0.988019 Loss: 0.016308 | Val Acc: 0.697427 loss: 8.222899\n",
            "[940/3000] Train Acc: 0.989128 Loss: 0.013970 | Val Acc: 0.695652 loss: 8.162036\n",
            "[941/3000] Train Acc: 0.988906 Loss: 0.017428 | Val Acc: 0.698314 loss: 8.189737\n",
            "[942/3000] Train Acc: 0.986465 Loss: 0.019106 | Val Acc: 0.687666 loss: 8.024204\n",
            "[943/3000] Train Acc: 0.984469 Loss: 0.017792 | Val Acc: 0.695652 loss: 8.223902\n",
            "[944/3000] Train Acc: 0.986465 Loss: 0.015685 | Val Acc: 0.695652 loss: 8.117079\n",
            "[945/3000] Train Acc: 0.987131 Loss: 0.019135 | Val Acc: 0.692990 loss: 8.185995\n",
            "[946/3000] Train Acc: 0.988462 Loss: 0.015659 | Val Acc: 0.693878 loss: 8.124554\n",
            "[947/3000] Train Acc: 0.988462 Loss: 0.015596 | Val Acc: 0.695652 loss: 8.179992\n",
            "[948/3000] Train Acc: 0.987575 Loss: 0.016357 | Val Acc: 0.698314 loss: 8.209928\n",
            "[949/3000] Train Acc: 0.989350 Loss: 0.017378 | Val Acc: 0.697427 loss: 8.120601\n",
            "[950/3000] Train Acc: 0.985800 Loss: 0.021420 | Val Acc: 0.694765 loss: 8.099891\n",
            "[951/3000] Train Acc: 0.984025 Loss: 0.018536 | Val Acc: 0.694765 loss: 8.162974\n",
            "[952/3000] Train Acc: 0.986909 Loss: 0.017574 | Val Acc: 0.692990 loss: 8.110570\n",
            "[953/3000] Train Acc: 0.985356 Loss: 0.020320 | Val Acc: 0.688554 loss: 8.141110\n",
            "[954/3000] Train Acc: 0.984025 Loss: 0.015926 | Val Acc: 0.700976 loss: 8.200012\n",
            "[955/3000] Train Acc: 0.988684 Loss: 0.019168 | Val Acc: 0.689441 loss: 8.017294\n",
            "[956/3000] Train Acc: 0.988906 Loss: 0.016319 | Val Acc: 0.702751 loss: 8.278047\n",
            "[957/3000] Train Acc: 0.984469 Loss: 0.021017 | Val Acc: 0.691216 loss: 8.096399\n",
            "[958/3000] Train Acc: 0.986909 Loss: 0.017333 | Val Acc: 0.689441 loss: 8.043529\n",
            "[959/3000] Train Acc: 0.984912 Loss: 0.021393 | Val Acc: 0.695652 loss: 8.102120\n",
            "[960/3000] Train Acc: 0.986687 Loss: 0.017929 | Val Acc: 0.694765 loss: 8.168997\n",
            "[961/3000] Train Acc: 0.988019 Loss: 0.013581 | Val Acc: 0.696539 loss: 8.114463\n",
            "[962/3000] Train Acc: 0.987353 Loss: 0.017886 | Val Acc: 0.692990 loss: 8.045486\n",
            "[963/3000] Train Acc: 0.988462 Loss: 0.020261 | Val Acc: 0.692990 loss: 8.130159\n",
            "[964/3000] Train Acc: 0.989128 Loss: 0.016195 | Val Acc: 0.690328 loss: 8.112655\n",
            "[965/3000] Train Acc: 0.987575 Loss: 0.015032 | Val Acc: 0.697427 loss: 8.142399\n",
            "[966/3000] Train Acc: 0.985800 Loss: 0.018108 | Val Acc: 0.692990 loss: 8.208944\n",
            "[967/3000] Train Acc: 0.989128 Loss: 0.014936 | Val Acc: 0.689441 loss: 7.996867\n",
            "[968/3000] Train Acc: 0.986909 Loss: 0.022739 | Val Acc: 0.688554 loss: 8.056723\n",
            "[969/3000] Train Acc: 0.987131 Loss: 0.017432 | Val Acc: 0.691216 loss: 8.074508\n",
            "[970/3000] Train Acc: 0.984247 Loss: 0.016070 | Val Acc: 0.694765 loss: 8.189610\n",
            "[971/3000] Train Acc: 0.985578 Loss: 0.021337 | Val Acc: 0.700976 loss: 8.176741\n",
            "[972/3000] Train Acc: 0.986465 Loss: 0.016905 | Val Acc: 0.693878 loss: 8.091554\n",
            "[973/3000] Train Acc: 0.988462 Loss: 0.019745 | Val Acc: 0.693878 loss: 8.286299\n",
            "[974/3000] Train Acc: 0.986909 Loss: 0.017391 | Val Acc: 0.696539 loss: 8.054785\n",
            "[975/3000] Train Acc: 0.986022 Loss: 0.017244 | Val Acc: 0.693878 loss: 8.146029\n",
            "[976/3000] Train Acc: 0.989128 Loss: 0.013639 | Val Acc: 0.698314 loss: 8.090780\n",
            "[977/3000] Train Acc: 0.984912 Loss: 0.017834 | Val Acc: 0.701863 loss: 8.225475\n",
            "[978/3000] Train Acc: 0.984025 Loss: 0.019225 | Val Acc: 0.692990 loss: 8.137896\n",
            "[979/3000] Train Acc: 0.984912 Loss: 0.020187 | Val Acc: 0.683230 loss: 8.067117\n",
            "[980/3000] Train Acc: 0.985578 Loss: 0.018399 | Val Acc: 0.697427 loss: 8.130266\n",
            "[981/3000] Train Acc: 0.988462 Loss: 0.017348 | Val Acc: 0.697427 loss: 8.268235\n",
            "[982/3000] Train Acc: 0.986022 Loss: 0.016320 | Val Acc: 0.695652 loss: 8.095223\n",
            "[983/3000] Train Acc: 0.986687 Loss: 0.020282 | Val Acc: 0.694765 loss: 8.282378\n",
            "[984/3000] Train Acc: 0.988241 Loss: 0.016607 | Val Acc: 0.700089 loss: 8.287476\n",
            "[985/3000] Train Acc: 0.987353 Loss: 0.017389 | Val Acc: 0.686779 loss: 8.058163\n",
            "[986/3000] Train Acc: 0.985800 Loss: 0.014644 | Val Acc: 0.692990 loss: 8.057508\n",
            "[987/3000] Train Acc: 0.988906 Loss: 0.017331 | Val Acc: 0.692990 loss: 8.081949\n",
            "[988/3000] Train Acc: 0.986909 Loss: 0.018966 | Val Acc: 0.691216 loss: 8.093937\n",
            "[989/3000] Train Acc: 0.984247 Loss: 0.019700 | Val Acc: 0.692103 loss: 8.087007\n",
            "[990/3000] Train Acc: 0.986909 Loss: 0.024665 | Val Acc: 0.697427 loss: 8.144696\n",
            "[991/3000] Train Acc: 0.986465 Loss: 0.018814 | Val Acc: 0.700089 loss: 8.254162\n",
            "[992/3000] Train Acc: 0.987353 Loss: 0.016638 | Val Acc: 0.696539 loss: 8.046693\n",
            "[993/3000] Train Acc: 0.987797 Loss: 0.016173 | Val Acc: 0.695652 loss: 8.173489\n",
            "[994/3000] Train Acc: 0.989794 Loss: 0.015360 | Val Acc: 0.688554 loss: 7.979947\n",
            "[995/3000] Train Acc: 0.984025 Loss: 0.023196 | Val Acc: 0.685004 loss: 8.066049\n",
            "[996/3000] Train Acc: 0.988241 Loss: 0.021587 | Val Acc: 0.686779 loss: 8.210612\n",
            "[997/3000] Train Acc: 0.986244 Loss: 0.022202 | Val Acc: 0.694765 loss: 8.089597\n",
            "[998/3000] Train Acc: 0.985578 Loss: 0.021713 | Val Acc: 0.694765 loss: 8.244002\n",
            "[999/3000] Train Acc: 0.984469 Loss: 0.022063 | Val Acc: 0.697427 loss: 8.274913\n",
            "[1000/3000] Train Acc: 0.985356 Loss: 0.015888 | Val Acc: 0.695652 loss: 8.120334\n",
            "[1001/3000] Train Acc: 0.989350 Loss: 0.014496 | Val Acc: 0.697427 loss: 8.214806\n",
            "[1002/3000] Train Acc: 0.986022 Loss: 0.018368 | Val Acc: 0.700976 loss: 8.280019\n",
            "[1003/3000] Train Acc: 0.986465 Loss: 0.018619 | Val Acc: 0.690328 loss: 8.130652\n",
            "[1004/3000] Train Acc: 0.987797 Loss: 0.016349 | Val Acc: 0.687666 loss: 8.066037\n",
            "[1005/3000] Train Acc: 0.986244 Loss: 0.019760 | Val Acc: 0.697427 loss: 8.205446\n",
            "[1006/3000] Train Acc: 0.988241 Loss: 0.016568 | Val Acc: 0.698314 loss: 8.218521\n",
            "[1007/3000] Train Acc: 0.987575 Loss: 0.019358 | Val Acc: 0.692103 loss: 8.181224\n",
            "[1008/3000] Train Acc: 0.987797 Loss: 0.013808 | Val Acc: 0.694765 loss: 8.150680\n",
            "[1009/3000] Train Acc: 0.986244 Loss: 0.018670 | Val Acc: 0.704525 loss: 8.180991\n",
            "[1010/3000] Train Acc: 0.987353 Loss: 0.018579 | Val Acc: 0.689441 loss: 8.150915\n",
            "[1011/3000] Train Acc: 0.984469 Loss: 0.014856 | Val Acc: 0.701863 loss: 8.194591\n",
            "[1012/3000] Train Acc: 0.988684 Loss: 0.020960 | Val Acc: 0.699201 loss: 8.232573\n",
            "[1013/3000] Train Acc: 0.987353 Loss: 0.016370 | Val Acc: 0.692990 loss: 8.055161\n",
            "[1014/3000] Train Acc: 0.988462 Loss: 0.020120 | Val Acc: 0.689441 loss: 8.127476\n",
            "[1015/3000] Train Acc: 0.986909 Loss: 0.019202 | Val Acc: 0.692103 loss: 8.146755\n",
            "[1016/3000] Train Acc: 0.989128 Loss: 0.013240 | Val Acc: 0.695652 loss: 8.170871\n",
            "[1017/3000] Train Acc: 0.984469 Loss: 0.022479 | Val Acc: 0.692990 loss: 8.045185\n",
            "[1018/3000] Train Acc: 0.987575 Loss: 0.019947 | Val Acc: 0.695652 loss: 8.230241\n",
            "[1019/3000] Train Acc: 0.987131 Loss: 0.019919 | Val Acc: 0.695652 loss: 8.191315\n",
            "[1020/3000] Train Acc: 0.987131 Loss: 0.023284 | Val Acc: 0.693878 loss: 8.043146\n",
            "[1021/3000] Train Acc: 0.988019 Loss: 0.014509 | Val Acc: 0.692990 loss: 8.145672\n",
            "[1022/3000] Train Acc: 0.986022 Loss: 0.022853 | Val Acc: 0.695652 loss: 8.149427\n",
            "[1023/3000] Train Acc: 0.986022 Loss: 0.020430 | Val Acc: 0.686779 loss: 8.054472\n",
            "[1024/3000] Train Acc: 0.986687 Loss: 0.025000 | Val Acc: 0.689441 loss: 8.035961\n",
            "[1025/3000] Train Acc: 0.987131 Loss: 0.019903 | Val Acc: 0.692990 loss: 8.133519\n",
            "[1026/3000] Train Acc: 0.986687 Loss: 0.020011 | Val Acc: 0.695652 loss: 8.062462\n",
            "[1027/3000] Train Acc: 0.986022 Loss: 0.016083 | Val Acc: 0.689441 loss: 8.040889\n",
            "[1028/3000] Train Acc: 0.986909 Loss: 0.018989 | Val Acc: 0.697427 loss: 8.107766\n",
            "[1029/3000] Train Acc: 0.985800 Loss: 0.015650 | Val Acc: 0.697427 loss: 8.223046\n",
            "[1030/3000] Train Acc: 0.986022 Loss: 0.025659 | Val Acc: 0.702751 loss: 8.188035\n",
            "[1031/3000] Train Acc: 0.987797 Loss: 0.014854 | Val Acc: 0.697427 loss: 8.174166\n",
            "[1032/3000] Train Acc: 0.988906 Loss: 0.013262 | Val Acc: 0.694765 loss: 8.158816\n",
            "[1033/3000] Train Acc: 0.985134 Loss: 0.019929 | Val Acc: 0.698314 loss: 8.185317\n",
            "[1034/3000] Train Acc: 0.986022 Loss: 0.017932 | Val Acc: 0.697427 loss: 8.363630\n",
            "[1035/3000] Train Acc: 0.986244 Loss: 0.017587 | Val Acc: 0.696539 loss: 8.195684\n",
            "[1036/3000] Train Acc: 0.987797 Loss: 0.018002 | Val Acc: 0.698314 loss: 8.107291\n",
            "[1037/3000] Train Acc: 0.987353 Loss: 0.018045 | Val Acc: 0.698314 loss: 8.190073\n",
            "[1038/3000] Train Acc: 0.985800 Loss: 0.018531 | Val Acc: 0.692990 loss: 8.039332\n",
            "[1039/3000] Train Acc: 0.989128 Loss: 0.015357 | Val Acc: 0.694765 loss: 8.230914\n",
            "[1040/3000] Train Acc: 0.986244 Loss: 0.018553 | Val Acc: 0.685892 loss: 8.047287\n",
            "[1041/3000] Train Acc: 0.985578 Loss: 0.019923 | Val Acc: 0.700976 loss: 8.240005\n",
            "[1042/3000] Train Acc: 0.986687 Loss: 0.019397 | Val Acc: 0.695652 loss: 8.175666\n",
            "[1043/3000] Train Acc: 0.987353 Loss: 0.014972 | Val Acc: 0.693878 loss: 8.158397\n",
            "[1044/3000] Train Acc: 0.987575 Loss: 0.020052 | Val Acc: 0.702751 loss: 8.228347\n",
            "[1045/3000] Train Acc: 0.986687 Loss: 0.016472 | Val Acc: 0.692990 loss: 8.128533\n",
            "[1046/3000] Train Acc: 0.985578 Loss: 0.017946 | Val Acc: 0.693878 loss: 8.090699\n",
            "[1047/3000] Train Acc: 0.986022 Loss: 0.023686 | Val Acc: 0.694765 loss: 8.094789\n",
            "[1048/3000] Train Acc: 0.988019 Loss: 0.015963 | Val Acc: 0.693878 loss: 8.194799\n",
            "[1049/3000] Train Acc: 0.985134 Loss: 0.020272 | Val Acc: 0.699201 loss: 8.198849\n",
            "[1050/3000] Train Acc: 0.985578 Loss: 0.020893 | Val Acc: 0.700976 loss: 8.158471\n",
            "[1051/3000] Train Acc: 0.986465 Loss: 0.018354 | Val Acc: 0.700976 loss: 8.280722\n",
            "[1052/3000] Train Acc: 0.982472 Loss: 0.021222 | Val Acc: 0.699201 loss: 8.246045\n",
            "[1053/3000] Train Acc: 0.984025 Loss: 0.016524 | Val Acc: 0.697427 loss: 8.160765\n",
            "[1054/3000] Train Acc: 0.985800 Loss: 0.020148 | Val Acc: 0.696539 loss: 8.125495\n",
            "[1055/3000] Train Acc: 0.985800 Loss: 0.018835 | Val Acc: 0.699201 loss: 8.156565\n",
            "[1056/3000] Train Acc: 0.986022 Loss: 0.017130 | Val Acc: 0.692990 loss: 8.119213\n",
            "[1057/3000] Train Acc: 0.986022 Loss: 0.020010 | Val Acc: 0.695652 loss: 8.125516\n",
            "[1058/3000] Train Acc: 0.986909 Loss: 0.021959 | Val Acc: 0.699201 loss: 8.202997\n",
            "[1059/3000] Train Acc: 0.986909 Loss: 0.016399 | Val Acc: 0.707187 loss: 8.362116\n",
            "[1060/3000] Train Acc: 0.986909 Loss: 0.015984 | Val Acc: 0.699201 loss: 8.157107\n",
            "[1061/3000] Train Acc: 0.985356 Loss: 0.018860 | Val Acc: 0.699201 loss: 8.225181\n",
            "[1062/3000] Train Acc: 0.986909 Loss: 0.015789 | Val Acc: 0.690328 loss: 8.066744\n",
            "[1063/3000] Train Acc: 0.985578 Loss: 0.021239 | Val Acc: 0.701863 loss: 8.123318\n",
            "[1064/3000] Train Acc: 0.982694 Loss: 0.020325 | Val Acc: 0.692990 loss: 8.133604\n",
            "[1065/3000] Train Acc: 0.988684 Loss: 0.016264 | Val Acc: 0.688554 loss: 8.093347\n",
            "[1066/3000] Train Acc: 0.985800 Loss: 0.018867 | Val Acc: 0.698314 loss: 8.228683\n",
            "[1067/3000] Train Acc: 0.987131 Loss: 0.021605 | Val Acc: 0.699201 loss: 8.246773\n",
            "[1068/3000] Train Acc: 0.985800 Loss: 0.024473 | Val Acc: 0.689441 loss: 8.046250\n",
            "[1069/3000] Train Acc: 0.990459 Loss: 0.013486 | Val Acc: 0.692103 loss: 8.074927\n",
            "[1070/3000] Train Acc: 0.984025 Loss: 0.022921 | Val Acc: 0.698314 loss: 8.272924\n",
            "[1071/3000] Train Acc: 0.985356 Loss: 0.018173 | Val Acc: 0.688554 loss: 8.074257\n",
            "[1072/3000] Train Acc: 0.985356 Loss: 0.023638 | Val Acc: 0.689441 loss: 8.121332\n",
            "[1073/3000] Train Acc: 0.988462 Loss: 0.021197 | Val Acc: 0.692103 loss: 8.135780\n",
            "[1074/3000] Train Acc: 0.985356 Loss: 0.018895 | Val Acc: 0.694765 loss: 8.099531\n",
            "[1075/3000] Train Acc: 0.985356 Loss: 0.019709 | Val Acc: 0.694765 loss: 8.087465\n",
            "[1076/3000] Train Acc: 0.988906 Loss: 0.015838 | Val Acc: 0.695652 loss: 8.124529\n",
            "[1077/3000] Train Acc: 0.988019 Loss: 0.015035 | Val Acc: 0.694765 loss: 8.120981\n",
            "[1078/3000] Train Acc: 0.988241 Loss: 0.014850 | Val Acc: 0.700089 loss: 8.216413\n",
            "[1079/3000] Train Acc: 0.986909 Loss: 0.016632 | Val Acc: 0.687666 loss: 7.950448\n",
            "[1080/3000] Train Acc: 0.987353 Loss: 0.022696 | Val Acc: 0.688554 loss: 8.023913\n",
            "[1081/3000] Train Acc: 0.987131 Loss: 0.015809 | Val Acc: 0.690328 loss: 8.097583\n",
            "[1082/3000] Train Acc: 0.986244 Loss: 0.017958 | Val Acc: 0.696539 loss: 8.232598\n",
            "[1083/3000] Train Acc: 0.986465 Loss: 0.019670 | Val Acc: 0.692990 loss: 8.133105\n",
            "[1084/3000] Train Acc: 0.985356 Loss: 0.017723 | Val Acc: 0.690328 loss: 8.053806\n",
            "[1085/3000] Train Acc: 0.985578 Loss: 0.016861 | Val Acc: 0.694765 loss: 8.130240\n",
            "[1086/3000] Train Acc: 0.987575 Loss: 0.017102 | Val Acc: 0.696539 loss: 8.236316\n",
            "[1087/3000] Train Acc: 0.986465 Loss: 0.018777 | Val Acc: 0.690328 loss: 8.101590\n",
            "[1088/3000] Train Acc: 0.986465 Loss: 0.016743 | Val Acc: 0.698314 loss: 8.221627\n",
            "[1089/3000] Train Acc: 0.988906 Loss: 0.013425 | Val Acc: 0.704525 loss: 8.212702\n",
            "[1090/3000] Train Acc: 0.987353 Loss: 0.019610 | Val Acc: 0.692103 loss: 8.088531\n",
            "[1091/3000] Train Acc: 0.984469 Loss: 0.018603 | Val Acc: 0.694765 loss: 8.123665\n",
            "[1092/3000] Train Acc: 0.985800 Loss: 0.014931 | Val Acc: 0.690328 loss: 8.132396\n",
            "[1093/3000] Train Acc: 0.986909 Loss: 0.015120 | Val Acc: 0.692990 loss: 8.077465\n",
            "[1094/3000] Train Acc: 0.989572 Loss: 0.013093 | Val Acc: 0.699201 loss: 8.171414\n",
            "[1095/3000] Train Acc: 0.983137 Loss: 0.017856 | Val Acc: 0.696539 loss: 8.081583\n",
            "[1096/3000] Train Acc: 0.986022 Loss: 0.017119 | Val Acc: 0.692990 loss: 8.038299\n",
            "[1097/3000] Train Acc: 0.987797 Loss: 0.021714 | Val Acc: 0.690328 loss: 8.011810\n",
            "[1098/3000] Train Acc: 0.988241 Loss: 0.016498 | Val Acc: 0.693878 loss: 8.143462\n",
            "[1099/3000] Train Acc: 0.986244 Loss: 0.020674 | Val Acc: 0.697427 loss: 8.236308\n",
            "[1100/3000] Train Acc: 0.985134 Loss: 0.024854 | Val Acc: 0.698314 loss: 8.208060\n",
            "[1101/3000] Train Acc: 0.987575 Loss: 0.018060 | Val Acc: 0.701863 loss: 8.137468\n",
            "[1102/3000] Train Acc: 0.989794 Loss: 0.014473 | Val Acc: 0.700976 loss: 8.138334\n",
            "[1103/3000] Train Acc: 0.987575 Loss: 0.016318 | Val Acc: 0.697427 loss: 8.102846\n",
            "[1104/3000] Train Acc: 0.986022 Loss: 0.013323 | Val Acc: 0.694765 loss: 8.007628\n",
            "[1105/3000] Train Acc: 0.987797 Loss: 0.018251 | Val Acc: 0.694765 loss: 8.088950\n",
            "[1106/3000] Train Acc: 0.987131 Loss: 0.016433 | Val Acc: 0.695652 loss: 8.051443\n",
            "[1107/3000] Train Acc: 0.987353 Loss: 0.018787 | Val Acc: 0.692103 loss: 8.127024\n",
            "[1108/3000] Train Acc: 0.986022 Loss: 0.023178 | Val Acc: 0.700089 loss: 8.186589\n",
            "[1109/3000] Train Acc: 0.986022 Loss: 0.025819 | Val Acc: 0.690328 loss: 8.120402\n",
            "[1110/3000] Train Acc: 0.983359 Loss: 0.020047 | Val Acc: 0.695652 loss: 8.192503\n",
            "[1111/3000] Train Acc: 0.988462 Loss: 0.015462 | Val Acc: 0.685892 loss: 8.040837\n",
            "[1112/3000] Train Acc: 0.984912 Loss: 0.017137 | Val Acc: 0.689441 loss: 8.118458\n",
            "[1113/3000] Train Acc: 0.984912 Loss: 0.018777 | Val Acc: 0.692990 loss: 8.183129\n",
            "[1114/3000] Train Acc: 0.984025 Loss: 0.023087 | Val Acc: 0.695652 loss: 8.247666\n",
            "[1115/3000] Train Acc: 0.983803 Loss: 0.022765 | Val Acc: 0.691216 loss: 8.118591\n",
            "[1116/3000] Train Acc: 0.988462 Loss: 0.015801 | Val Acc: 0.691216 loss: 7.960866\n",
            "[1117/3000] Train Acc: 0.986244 Loss: 0.014242 | Val Acc: 0.694765 loss: 8.248152\n",
            "[1118/3000] Train Acc: 0.986687 Loss: 0.021039 | Val Acc: 0.697427 loss: 8.163366\n",
            "[1119/3000] Train Acc: 0.988906 Loss: 0.016482 | Val Acc: 0.696539 loss: 8.050247\n",
            "[1120/3000] Train Acc: 0.985800 Loss: 0.016328 | Val Acc: 0.693878 loss: 8.156347\n",
            "[1121/3000] Train Acc: 0.988019 Loss: 0.018123 | Val Acc: 0.696539 loss: 8.230040\n",
            "[1122/3000] Train Acc: 0.988019 Loss: 0.017819 | Val Acc: 0.697427 loss: 8.188782\n",
            "[1123/3000] Train Acc: 0.986022 Loss: 0.023472 | Val Acc: 0.696539 loss: 8.179278\n",
            "[1124/3000] Train Acc: 0.988684 Loss: 0.016229 | Val Acc: 0.697427 loss: 8.139534\n",
            "[1125/3000] Train Acc: 0.986244 Loss: 0.020815 | Val Acc: 0.699201 loss: 8.310455\n",
            "[1126/3000] Train Acc: 0.985134 Loss: 0.018736 | Val Acc: 0.697427 loss: 8.121219\n",
            "[1127/3000] Train Acc: 0.988241 Loss: 0.015689 | Val Acc: 0.695652 loss: 8.156342\n",
            "[1128/3000] Train Acc: 0.986465 Loss: 0.016802 | Val Acc: 0.696539 loss: 8.203313\n",
            "[1129/3000] Train Acc: 0.985356 Loss: 0.020031 | Val Acc: 0.690328 loss: 8.165652\n",
            "[1130/3000] Train Acc: 0.987797 Loss: 0.015854 | Val Acc: 0.695652 loss: 8.220371\n",
            "[1131/3000] Train Acc: 0.984690 Loss: 0.016316 | Val Acc: 0.696539 loss: 8.186029\n",
            "[1132/3000] Train Acc: 0.984247 Loss: 0.024188 | Val Acc: 0.699201 loss: 8.257411\n",
            "[1133/3000] Train Acc: 0.986022 Loss: 0.019602 | Val Acc: 0.700089 loss: 8.158858\n",
            "[1134/3000] Train Acc: 0.985356 Loss: 0.017815 | Val Acc: 0.692990 loss: 8.144994\n",
            "[1135/3000] Train Acc: 0.985578 Loss: 0.017082 | Val Acc: 0.691216 loss: 8.088099\n",
            "[1136/3000] Train Acc: 0.981362 Loss: 0.025380 | Val Acc: 0.699201 loss: 8.178536\n",
            "[1137/3000] Train Acc: 0.984247 Loss: 0.019574 | Val Acc: 0.694765 loss: 8.174207\n",
            "[1138/3000] Train Acc: 0.986244 Loss: 0.018479 | Val Acc: 0.694765 loss: 8.075975\n",
            "[1139/3000] Train Acc: 0.989350 Loss: 0.015634 | Val Acc: 0.700976 loss: 8.203250\n",
            "[1140/3000] Train Acc: 0.985578 Loss: 0.018816 | Val Acc: 0.692990 loss: 8.189650\n",
            "[1141/3000] Train Acc: 0.986687 Loss: 0.020595 | Val Acc: 0.699201 loss: 8.131378\n",
            "[1142/3000] Train Acc: 0.988019 Loss: 0.019458 | Val Acc: 0.692990 loss: 8.108940\n",
            "[1143/3000] Train Acc: 0.982472 Loss: 0.023292 | Val Acc: 0.692990 loss: 8.160014\n",
            "[1144/3000] Train Acc: 0.984469 Loss: 0.016836 | Val Acc: 0.697427 loss: 8.179414\n",
            "[1145/3000] Train Acc: 0.988462 Loss: 0.015223 | Val Acc: 0.696539 loss: 8.140829\n",
            "[1146/3000] Train Acc: 0.987575 Loss: 0.018278 | Val Acc: 0.685892 loss: 8.056516\n",
            "[1147/3000] Train Acc: 0.985578 Loss: 0.014843 | Val Acc: 0.694765 loss: 8.228599\n",
            "[1148/3000] Train Acc: 0.989572 Loss: 0.016716 | Val Acc: 0.694765 loss: 8.104019\n",
            "[1149/3000] Train Acc: 0.989350 Loss: 0.014401 | Val Acc: 0.687666 loss: 7.982086\n",
            "[1150/3000] Train Acc: 0.987575 Loss: 0.017243 | Val Acc: 0.695652 loss: 8.110553\n"
          ]
        }
      ]
    },
    {
      "cell_type": "code",
      "source": [
        "print(f'Training use {round(end_time - start_time, 3)}s')"
      ],
      "metadata": {
        "id": "NLnpYLpwYlop",
        "outputId": "8a7bd93c-4925-4493-c539-389a0fb63c45",
        "colab": {
          "base_uri": "https://localhost:8080/"
        }
      },
      "execution_count": 609,
      "outputs": [
        {
          "output_type": "stream",
          "name": "stdout",
          "text": [
            "Training use 315.767s\n"
          ]
        }
      ]
    },
    {
      "cell_type": "code",
      "source": [
        "def plot_learning_curve(train_record, valid_record, title=''):\n",
        "    total_steps = len(train_record)\n",
        "    x = range(total_steps)\n",
        "    plt.figure(figsize=(6, 4))\n",
        "    plt.plot(x, train_record, c='tab:red', label='train')\n",
        "    plt.plot(x, valid_record, c='tab:cyan', label='valid')\n",
        "    plt.ylim(0.0, max(valid_record) + 1)\n",
        "    plt.xlabel('Training epoch')\n",
        "    plt.ylabel(title)\n",
        "    plt.title('Learning curve of {}'.format(title))\n",
        "    plt.legend()\n",
        "    plt.show()"
      ],
      "metadata": {
        "id": "ZX4SmxBQIIcU"
      },
      "execution_count": 610,
      "outputs": []
    },
    {
      "cell_type": "code",
      "source": [
        "plot_learning_curve(train_acc_list, val_acc_list, 'Acc')"
      ],
      "metadata": {
        "id": "CukLL-yVJFdu",
        "outputId": "f811297b-573e-426f-a1f5-93e537dd5d85",
        "colab": {
          "base_uri": "https://localhost:8080/",
          "height": 295
        }
      },
      "execution_count": 611,
      "outputs": [
        {
          "output_type": "display_data",
          "data": {
            "image/png": "[encoded data removed]",
            "text/plain": [
              "<Figure size 432x288 with 1 Axes>"
            ]
          },
          "metadata": {
            "needs_background": "light"
          }
        }
      ]
    },
    {
      "cell_type": "code",
      "source": [
        "plot_learning_curve(train_loss_list, val_loss_list, 'Loss')"
      ],
      "metadata": {
        "id": "LUDXf-nKJQKU",
        "outputId": "e1a22d7a-3985-4df2-e6df-ca0074aaa318",
        "colab": {
          "base_uri": "https://localhost:8080/",
          "height": 295
        }
      },
      "execution_count": 612,
      "outputs": [
        {
          "output_type": "display_data",
          "data": {
            "image/png": "[encoded data removed]",
            "text/plain": [
              "<Figure size 432x288 with 1 Axes>"
            ]
          },
          "metadata": {
            "needs_background": "light"
          }
        }
      ]
    },
    {
      "cell_type": "code",
      "source": [
        "model = Classifier().to(device)\n",
        "model.load_state_dict(torch.load(model_path, map_location=device))\n",
        "\n",
        "model.eval() # set the model to evaluation mode\n",
        "train_predict = []\n",
        "err = 0\n",
        "for i, data in enumerate(train_loader):\n",
        "    inputs, labels = data\n",
        "    inputs, labels = inputs.to(device), labels.to(device)\n",
        "    outputs = model(inputs)\n",
        "    _, test_pred = torch.max(outputs, 1) # get the index of the class with the highest probability\n",
        "\n",
        "    for y in test_pred.cpu().numpy():\n",
        "        train_predict.append(y)\n",
        "\n",
        "Ein = np.mean(np.array(train_predict) != train_y)\n",
        "F1in = metrics.f1_score(train_y, train_predict, average='macro')  \n",
        "print(f'Ein = {round(Ein, 5)}')\n",
        "print(f'F1_in = {round(F1in, 5)}')\n",
        "\n",
        "val_predict = []\n",
        "for i, data in enumerate(val_loader):\n",
        "    inputs = data[0]\n",
        "    inputs = inputs.to(device)\n",
        "    outputs = model(inputs)\n",
        "    _, test_pred = torch.max(outputs, 1) # get the index of the class with the highest probability\n",
        "\n",
        "    for y in test_pred.cpu().numpy():\n",
        "        val_predict.append(y)\n",
        "\n",
        "Eval = np.mean(np.array(val_predict) != val_y)\n",
        "F1val = metrics.f1_score(val_y, val_predict, average='macro')  \n",
        "print(f'Eval = {round(Eval, 5)}')\n",
        "print(f'F1_val = {round(F1val, 5)}')"
      ],
      "metadata": {
        "colab": {
          "base_uri": "https://localhost:8080/"
        },
        "id": "zCQ8Si4Yg5nh",
        "outputId": "ed38387f-34fd-4738-83f9-ed514258a2e6"
      },
      "execution_count": 613,
      "outputs": [
        {
          "output_type": "stream",
          "name": "stdout",
          "text": [
            "Ein = 0.43954\n",
            "F1_in = 0.16634\n",
            "Eval = 0.29104\n",
            "F1_val = 0.21498\n"
          ]
        }
      ]
    },
    {
      "cell_type": "markdown",
      "source": [
        "# **Deep Neural Network Test**"
      ],
      "metadata": {
        "id": "ynT-KFltscT8"
      }
    },
    {
      "cell_type": "code",
      "source": [
        "sc = StandardScaler()\n",
        "ss = StandardScaler().fit(X_test)\n",
        "X_test_std = ss.transform(X_test)\n",
        "\n",
        "# create testing dataset\n",
        "test_set = IBMDataset(X_test_std, None)\n",
        "test_loader = DataLoader(test_set, batch_size=BATCH_SIZE, shuffle=False)\n",
        "\n",
        "# create model and load weights from checkpoint\n",
        "model = Classifier().to(device)\n",
        "model.load_state_dict(torch.load(model_path, map_location=device))"
      ],
      "metadata": {
        "id": "lukrC4MJWTjM",
        "outputId": "7b72b27d-6d10-405c-fa09-c2fdaf2a674c",
        "colab": {
          "base_uri": "https://localhost:8080/"
        }
      },
      "execution_count": 614,
      "outputs": [
        {
          "output_type": "execute_result",
          "data": {
            "text/plain": [
              "<All keys matched successfully>"
            ]
          },
          "metadata": {},
          "execution_count": 614
        }
      ]
    },
    {
      "cell_type": "code",
      "source": [
        "predict = []\n",
        "model.eval() # set the model to evaluation mode\n",
        "for i, data in enumerate(test_loader):\n",
        "    inputs = data\n",
        "    inputs = inputs.to(device)\n",
        "    outputs = model(inputs)\n",
        "    _, test_pred = torch.max(outputs, 1) # get the index of the class with the highest probability\n",
        "\n",
        "    for y in test_pred.cpu().numpy():\n",
        "        predict.append(y)\n",
        "\n",
        "print(encoder_map)\n",
        "print(np.bincount(predict))"
      ],
      "metadata": {
        "id": "OlQ1d1fdVt_V",
        "colab": {
          "base_uri": "https://localhost:8080/"
        },
        "outputId": "0d51e090-5dcd-495e-a50c-78e25f4a061a"
      },
      "execution_count": 615,
      "outputs": [
        {
          "output_type": "stream",
          "name": "stdout",
          "text": [
            "{'Attitude': 0, 'Competitor': 1, 'Dissatisfaction': 2, 'No Churn': 3, 'Other': 4, 'Price': 5}\n",
            "[  45  164   27 1140   20   13]\n"
          ]
        }
      ]
    },
    {
      "cell_type": "code",
      "source": [
        "submit_result = './dnn_result.csv'\n",
        "\n",
        "new_encoder_map = {'No Churn':0, 'Competitor': 1, 'Dissatisfaction':2, 'Attitude': 3, 'Price':4, 'Other':5}\n",
        "\n",
        "with open(submit_result, 'w') as f:\n",
        "    f.write('Customer ID,Churn Category\\n')\n",
        "    for i in range(len(df_test.values)):\n",
        "        id = str(df_test.values[i]).replace('[\\'', '')\n",
        "        id = id.replace('\\']', '')\n",
        "        pred = new_encoder_map.get(list(encoder_map.keys())[list(encoder_map.values()).index(predict[i])])\n",
        "        f.write(f'{id},{pred}\\n')"
      ],
      "metadata": {
        "id": "11ImkbPjn6qP"
      },
      "execution_count": 616,
      "outputs": []
    },
    {
      "cell_type": "code",
      "source": [
        "from google.colab import files\n",
        "\n",
        "files.download(submit_result)\n",
        "files.download(model_path)"
      ],
      "metadata": {
        "id": "YICyBRaGo43O",
        "outputId": "bbee8ce9-c755-4618-ec80-ae4b244f4ef1",
        "colab": {
          "base_uri": "https://localhost:8080/",
          "height": 17
        }
      },
      "execution_count": 617,
      "outputs": [
        {
          "output_type": "display_data",
          "data": {
            "application/javascript": [
              "\n",
              "    async function download(id, filename, size) {\n",
              "      if (!google.colab.kernel.accessAllowed) {\n",
              "        return;\n",
              "      }\n",
              "      const div = document.createElement('div');\n",
              "      const label = document.createElement('label');\n",
              "      label.textContent = `Downloading \"${filename}\": `;\n",
              "      div.appendChild(label);\n",
              "      const progress = document.createElement('progress');\n",
              "      progress.max = size;\n",
              "      div.appendChild(progress);\n",
              "      document.body.appendChild(div);\n",
              "\n",
              "      const buffers = [];\n",
              "      let downloaded = 0;\n",
              "\n",
              "      const channel = await google.colab.kernel.comms.open(id);\n",
              "      // Send a message to notify the kernel that we're ready.\n",
              "      channel.send({})\n",
              "\n",
              "      for await (const message of channel.messages) {\n",
              "        // Send a message to notify the kernel that we're ready.\n",
              "        channel.send({})\n",
              "        if (message.buffers) {\n",
              "          for (const buffer of message.buffers) {\n",
              "            buffers.push(buffer);\n",
              "            downloaded += buffer.byteLength;\n",
              "            progress.value = downloaded;\n",
              "          }\n",
              "        }\n",
              "      }\n",
              "      const blob = new Blob(buffers, {type: 'application/binary'});\n",
              "      const a = document.createElement('a');\n",
              "      a.href = window.URL.createObjectURL(blob);\n",
              "      a.download = filename;\n",
              "      div.appendChild(a);\n",
              "      a.click();\n",
              "      div.remove();\n",
              "    }\n",
              "  "
            ],
            "text/plain": [
              "<IPython.core.display.Javascript object>"
            ]
          },
          "metadata": {}
        },
        {
          "output_type": "display_data",
          "data": {
            "application/javascript": [
              "download(\"download_bb8ba545-fcc7-4b86-9f1c-4070d44e0656\", \"dnn_result.csv\", 18344)"
            ],
            "text/plain": [
              "<IPython.core.display.Javascript object>"
            ]
          },
          "metadata": {}
        },
        {
          "output_type": "display_data",
          "data": {
            "application/javascript": [
              "\n",
              "    async function download(id, filename, size) {\n",
              "      if (!google.colab.kernel.accessAllowed) {\n",
              "        return;\n",
              "      }\n",
              "      const div = document.createElement('div');\n",
              "      const label = document.createElement('label');\n",
              "      label.textContent = `Downloading \"${filename}\": `;\n",
              "      div.appendChild(label);\n",
              "      const progress = document.createElement('progress');\n",
              "      progress.max = size;\n",
              "      div.appendChild(progress);\n",
              "      document.body.appendChild(div);\n",
              "\n",
              "      const buffers = [];\n",
              "      let downloaded = 0;\n",
              "\n",
              "      const channel = await google.colab.kernel.comms.open(id);\n",
              "      // Send a message to notify the kernel that we're ready.\n",
              "      channel.send({})\n",
              "\n",
              "      for await (const message of channel.messages) {\n",
              "        // Send a message to notify the kernel that we're ready.\n",
              "        channel.send({})\n",
              "        if (message.buffers) {\n",
              "          for (const buffer of message.buffers) {\n",
              "            buffers.push(buffer);\n",
              "            downloaded += buffer.byteLength;\n",
              "            progress.value = downloaded;\n",
              "          }\n",
              "        }\n",
              "      }\n",
              "      const blob = new Blob(buffers, {type: 'application/binary'});\n",
              "      const a = document.createElement('a');\n",
              "      a.href = window.URL.createObjectURL(blob);\n",
              "      a.download = filename;\n",
              "      div.appendChild(a);\n",
              "      a.click();\n",
              "      div.remove();\n",
              "    }\n",
              "  "
            ],
            "text/plain": [
              "<IPython.core.display.Javascript object>"
            ]
          },
          "metadata": {}
        },
        {
          "output_type": "display_data",
          "data": {
            "application/javascript": [
              "download(\"download_084c7219-61fa-4946-aab3-e9d4c2f249b9\", \"best_model.ckpt\", 223776)"
            ],
            "text/plain": [
              "<IPython.core.display.Javascript object>"
            ]
          },
          "metadata": {}
        }
      ]
    },
    {
      "cell_type": "markdown",
      "source": [
        "# **XGBoost Train**"
      ],
      "metadata": {
        "id": "sahIvrRMTlTP"
      }
    },
    {
      "cell_type": "code",
      "source": [
        "pass"
      ],
      "metadata": {
        "id": "YkGN8Jq-TsPF"
      },
      "execution_count": 618,
      "outputs": []
    }
  ]
}