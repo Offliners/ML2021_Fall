{
  "nbformat": 4,
  "nbformat_minor": 0,
  "metadata": {
    "colab": {
      "name": "HTML2021_Fall.ipynb",
      "provenance": [],
      "include_colab_link": true
    },
    "kernelspec": {
      "name": "python3",
      "display_name": "Python 3"
    },
    "language_info": {
      "name": "python"
    },
    "accelerator": "GPU"
  },
  "cells": [
    {
      "cell_type": "markdown",
      "metadata": {
        "id": "view-in-github",
        "colab_type": "text"
      },
      "source": [
        "<a href=\"https://colab.research.google.com/github/Offliners/HTML_2021Fall/blob/main/Final%20Project/HTML2021_Fall_svm_dnn.ipynb\" target=\"_parent\"><img src=\"https://colab.research.google.com/assets/colab-badge.svg\" alt=\"Open In Colab\"/></a>"
      ]
    },
    {
      "cell_type": "markdown",
      "source": [
        "# **Directory**\n",
        "\n",
        "```\n",
        "data_dir\n",
        "    ├── data\n",
        "    │   ├── Test_IDs.csv\n",
        "    │   ├── ...\n",
        "    │   ├── status.csv\n",
        "    ├── statistics\n",
        "    │   ├── Churn Category_stat.png\n",
        "    │   ├── ...\n",
        "    │   ├── miss rate_stat.png\n",
        "```"
      ],
      "metadata": {
        "id": "PD40tT3p379e"
      }
    },
    {
      "cell_type": "markdown",
      "source": [
        "# **Display information of GPU**"
      ],
      "metadata": {
        "id": "ldW8_oif3EEr"
      }
    },
    {
      "cell_type": "code",
      "source": [
        "!nvidia-smi"
      ],
      "metadata": {
        "colab": {
          "base_uri": "https://localhost:8080/"
        },
        "id": "Qf0PLuNJf95W",
        "outputId": "407f1d5e-2802-4f40-93a4-4f3dfb43c5f0"
      },
      "execution_count": 1,
      "outputs": [
        {
          "output_type": "stream",
          "name": "stdout",
          "text": [
            "Thu Jan 13 02:00:07 2022       \n",
            "+-----------------------------------------------------------------------------+\n",
            "| NVIDIA-SMI 495.46       Driver Version: 460.32.03    CUDA Version: 11.2     |\n",
            "|-------------------------------+----------------------+----------------------+\n",
            "| GPU  Name        Persistence-M| Bus-Id        Disp.A | Volatile Uncorr. ECC |\n",
            "| Fan  Temp  Perf  Pwr:Usage/Cap|         Memory-Usage | GPU-Util  Compute M. |\n",
            "|                               |                      |               MIG M. |\n",
            "|===============================+======================+======================|\n",
            "|   0  Tesla T4            Off  | 00000000:00:04.0 Off |                    0 |\n",
            "| N/A   35C    P8     9W /  70W |      0MiB / 15109MiB |      0%      Default |\n",
            "|                               |                      |                  N/A |\n",
            "+-------------------------------+----------------------+----------------------+\n",
            "                                                                               \n",
            "+-----------------------------------------------------------------------------+\n",
            "| Processes:                                                                  |\n",
            "|  GPU   GI   CI        PID   Type   Process name                  GPU Memory |\n",
            "|        ID   ID                                                   Usage      |\n",
            "|=============================================================================|\n",
            "|  No running processes found                                                 |\n",
            "+-----------------------------------------------------------------------------+\n"
          ]
        }
      ]
    },
    {
      "cell_type": "markdown",
      "source": [
        "# **Download Dataset**"
      ],
      "metadata": {
        "id": "JxUhMWWmJPHv"
      }
    },
    {
      "cell_type": "code",
      "source": [
        "!mkdir \"./data\"\n",
        "!mkdir \"./statistics\"\n",
        "!gdown --id 1X5yz7QLAu4nttnCea4ALf6alae6Clv_o --output \"./data/dataset.zip\"\n",
        "!unzip -q \"./data/dataset.zip\" -d \"./data\"\n",
        "!rm \"./data/dataset.zip\""
      ],
      "metadata": {
        "colab": {
          "base_uri": "https://localhost:8080/"
        },
        "id": "zjX-fvNeKG3p",
        "outputId": "296c8f94-1de3-43e8-b6d8-c77a177adc31"
      },
      "execution_count": 2,
      "outputs": [
        {
          "output_type": "stream",
          "name": "stdout",
          "text": [
            "Downloading...\n",
            "From: https://drive.google.com/uc?id=1X5yz7QLAu4nttnCea4ALf6alae6Clv_o\n",
            "To: /content/data/dataset.zip\n",
            "\r  0% 0.00/660k [00:00<?, ?B/s]\r100% 660k/660k [00:00<00:00, 89.0MB/s]\n"
          ]
        }
      ]
    },
    {
      "cell_type": "markdown",
      "source": [
        "# **Import Some Packages**"
      ],
      "metadata": {
        "id": "hosMVZZWI_6B"
      }
    },
    {
      "cell_type": "code",
      "execution_count": 336,
      "metadata": {
        "id": "-lrHo2qeI-p9"
      },
      "outputs": [],
      "source": [
        "import time\n",
        "import numpy as np\n",
        "import pandas as pd\n",
        "from glob import glob\n",
        "from collections import Counter\n",
        "import matplotlib.pyplot as plt\n",
        "from sklearn.preprocessing import LabelEncoder\n",
        "from sklearn.svm import SVC\n",
        "from sklearn.preprocessing import StandardScaler, MinMaxScaler\n",
        "from sklearn import metrics\n",
        "from sklearn.metrics import plot_confusion_matrix, classification_report\n",
        "from sklearn.model_selection import train_test_split\n",
        "from imblearn.over_sampling import ADASYN\n",
        "import torch\n",
        "import torch.nn as nn\n",
        "from torch.utils.data import Dataset, DataLoader \n",
        "from torchsummary import summary\n",
        "from torch.optim.lr_scheduler import StepLR"
      ]
    },
    {
      "cell_type": "markdown",
      "source": [
        "# **Set a Random Seed**"
      ],
      "metadata": {
        "id": "HH36XbKB0P3c"
      }
    },
    {
      "cell_type": "code",
      "source": [
        "# Set a random seed for reproducibility\n",
        "seed = 0\n",
        "np.random.seed(seed)\n",
        "torch.manual_seed(seed)\n",
        "if torch.cuda.is_available():\n",
        "    torch.cuda.manual_seed(seed)\n",
        "    torch.cuda.manual_seed_all(seed)  \n",
        "torch.backends.cudnn.benchmark = False\n",
        "torch.backends.cudnn.deterministic = True"
      ],
      "metadata": {
        "id": "sM7IyXfL0ekd"
      },
      "execution_count": 337,
      "outputs": []
    },
    {
      "cell_type": "markdown",
      "source": [
        "# **CSV Files Combination**"
      ],
      "metadata": {
        "id": "Q69ecrSlJpyT"
      }
    },
    {
      "cell_type": "code",
      "source": [
        "train_path = './data/Train_IDs.csv'  # path to training data\n",
        "test_path = './data/Test_IDs.csv'    # path to testing data\n",
        "\n",
        "files = glob('./data/*.csv')\n",
        "data_csv = []\n",
        "data_csv.append(train_path)\n",
        "for csv in files:\n",
        "    if ('IDs' not in csv) and ('sample' not in csv) and ('population' not in csv) and ('result' not in csv):\n",
        "        data_csv.append(csv)\n",
        "  \n",
        "print(data_csv)\n",
        "df_list = [pd.read_csv(file) for file in data_csv]"
      ],
      "metadata": {
        "colab": {
          "base_uri": "https://localhost:8080/"
        },
        "id": "PubV0z-fNFWK",
        "outputId": "05b933dc-ceda-40db-d8d9-b16bcad00b01"
      },
      "execution_count": 338,
      "outputs": [
        {
          "output_type": "stream",
          "name": "stdout",
          "text": [
            "['./data/Train_IDs.csv', './data/location.csv', './data/services.csv', './data/demographics.csv', './data/status.csv', './data/satisfaction.csv']\n"
          ]
        }
      ]
    },
    {
      "cell_type": "code",
      "source": [
        "result_total = df_list[0]\n",
        "for df in df_list[1:]:\n",
        "    result_total = pd.merge(result_total, df, how='outer', on='Customer ID')\n",
        "\n",
        "result_total.to_csv('./data/result_total.csv') # Save combined all result to result_total.csv"
      ],
      "metadata": {
        "id": "gsRnzcD243J2"
      },
      "execution_count": 339,
      "outputs": []
    },
    {
      "cell_type": "code",
      "source": [
        "# There are 7043 total customer data\n",
        "print(result_total)"
      ],
      "metadata": {
        "id": "HmdXTPLLuLnc",
        "outputId": "c2c40a0a-85cb-4ee2-e153-255f48bbdac5",
        "colab": {
          "base_uri": "https://localhost:8080/"
        }
      },
      "execution_count": 340,
      "outputs": [
        {
          "output_type": "stream",
          "name": "stdout",
          "text": [
            "     Customer ID  Count_x  ... Churn Category Satisfaction Score\n",
            "0     0650-BWOZN      NaN  ...     Competitor                1.0\n",
            "1     0562-FGDCR      1.0  ...     Competitor                1.0\n",
            "2     6688-UZPWD      1.0  ...       No Churn                NaN\n",
            "3     2905-KFQUV      1.0  ...     Competitor                3.0\n",
            "4     9720-JJJOR      1.0  ...       No Churn                NaN\n",
            "...          ...      ...  ...            ...                ...\n",
            "7038  3426-NIYYL      NaN  ...            NaN                NaN\n",
            "7039  5666-CYCYZ      NaN  ...            NaN                3.0\n",
            "7040  8263-JQAIK      NaN  ...            NaN                3.0\n",
            "7041  2754-SDJRD      NaN  ...            NaN                1.0\n",
            "7042  3251-YMVWZ      NaN  ...            NaN                3.0\n",
            "\n",
            "[7043 rows x 48 columns]\n"
          ]
        }
      ]
    },
    {
      "cell_type": "code",
      "source": [
        "# Train_IDs has 5634 customer data\n",
        "result_train = df_list[0]\n",
        "for df in df_list[1:]:\n",
        "    result_train = pd.merge(result_train, df, how='left', on='Customer ID')\n",
        "\n",
        "print(result_train)"
      ],
      "metadata": {
        "id": "XC9OTia4vQyw",
        "outputId": "06ba9d7c-9799-4342-9f4f-68bf3249cfdf",
        "colab": {
          "base_uri": "https://localhost:8080/"
        }
      },
      "execution_count": 341,
      "outputs": [
        {
          "output_type": "stream",
          "name": "stdout",
          "text": [
            "     Customer ID  Count_x  ... Churn Category Satisfaction Score\n",
            "0     0650-BWOZN      NaN  ...     Competitor                1.0\n",
            "1     0562-FGDCR      1.0  ...     Competitor                1.0\n",
            "2     6688-UZPWD      1.0  ...       No Churn                NaN\n",
            "3     2905-KFQUV      1.0  ...     Competitor                3.0\n",
            "4     9720-JJJOR      1.0  ...       No Churn                NaN\n",
            "...          ...      ...  ...            ...                ...\n",
            "5629  1178-PZGAB      NaN  ...            NaN                3.0\n",
            "5630  4806-KEXQR      1.0  ...            NaN                3.0\n",
            "5631  8809-RIHDD      NaN  ...       No Churn                4.0\n",
            "5632  6663-JOCQO      NaN  ...       No Churn                NaN\n",
            "5633  7010-ZMVBF      1.0  ...       No Churn                4.0\n",
            "\n",
            "[5634 rows x 48 columns]\n"
          ]
        }
      ]
    },
    {
      "cell_type": "code",
      "source": [
        "# Test_Ids has 1409 customer data\n",
        "df_test = pd.read_csv(test_path)\n",
        "result_test = df_test\n",
        "for df in df_list[1:]:\n",
        "    result_test = pd.merge(result_test, df, how='left', on='Customer ID')\n",
        "\n",
        "print(result_test)"
      ],
      "metadata": {
        "id": "fE-wQXgit9JQ",
        "outputId": "fce9d02f-c0bd-4c38-f99c-4d10e56dcedc",
        "colab": {
          "base_uri": "https://localhost:8080/"
        }
      },
      "execution_count": 342,
      "outputs": [
        {
          "output_type": "stream",
          "name": "stdout",
          "text": [
            "     Customer ID  Count_x  ... Churn Category Satisfaction Score\n",
            "0     9938-EKRGF      1.0  ...            NaN                3.0\n",
            "1     7379-POKDZ      1.0  ...            NaN                4.0\n",
            "2     0654-HMSHN      1.0  ...            NaN                5.0\n",
            "3     2045-BMBTJ      NaN  ...            NaN                NaN\n",
            "4     0701-TJSEF      1.0  ...            NaN                NaN\n",
            "...          ...      ...  ...            ...                ...\n",
            "1404  4587-VVTOX      1.0  ...            NaN                4.0\n",
            "1405  7716-YTYHG      1.0  ...            NaN                NaN\n",
            "1406  7649-PHJVR      NaN  ...            NaN                1.0\n",
            "1407  7855-DIWPO      1.0  ...            NaN                NaN\n",
            "1408  8197-BFWVU      1.0  ...            NaN                3.0\n",
            "\n",
            "[1409 rows x 48 columns]\n"
          ]
        }
      ]
    },
    {
      "cell_type": "code",
      "source": [
        "print(result_total.dropna()) # Find customer with full data infomation"
      ],
      "metadata": {
        "colab": {
          "base_uri": "https://localhost:8080/"
        },
        "id": "7wbcLdCPLMBV",
        "outputId": "d37ef464-7948-48dc-f3d8-a1af77620fef"
      },
      "execution_count": 343,
      "outputs": [
        {
          "output_type": "stream",
          "name": "stdout",
          "text": [
            "     Customer ID  Count_x  ...   Churn Category Satisfaction Score\n",
            "666   0454-OKRCT      1.0  ...         No Churn                4.0\n",
            "678   1735-XMJVH      1.0  ...         No Churn                5.0\n",
            "1799  1245-HARPS      1.0  ...  Dissatisfaction                1.0\n",
            "2805  8445-DNBAE      1.0  ...       Competitor                1.0\n",
            "2883  8708-XPXHZ      1.0  ...         No Churn                3.0\n",
            "3062  9522-ZSINC      1.0  ...         No Churn                4.0\n",
            "4297  0836-SEYLU      1.0  ...         No Churn                3.0\n",
            "5146  7274-RTAPZ      1.0  ...         No Churn                5.0\n",
            "\n",
            "[8 rows x 48 columns]\n"
          ]
        }
      ]
    },
    {
      "cell_type": "code",
      "source": [
        "result_cols = result_total.columns\n",
        "print(result_cols)"
      ],
      "metadata": {
        "colab": {
          "base_uri": "https://localhost:8080/"
        },
        "id": "h42U-NQJkntr",
        "outputId": "62839c17-e08f-4767-8be1-fc03690efaa4"
      },
      "execution_count": 344,
      "outputs": [
        {
          "output_type": "stream",
          "name": "stdout",
          "text": [
            "Index(['Customer ID', 'Count_x', 'Country', 'State', 'City', 'Zip Code',\n",
            "       'Lat Long', 'Latitude', 'Longitude', 'Count_y', 'Quarter',\n",
            "       'Referred a Friend', 'Number of Referrals', 'Tenure in Months', 'Offer',\n",
            "       'Phone Service', 'Avg Monthly Long Distance Charges', 'Multiple Lines',\n",
            "       'Internet Service', 'Internet Type', 'Avg Monthly GB Download',\n",
            "       'Online Security', 'Online Backup', 'Device Protection Plan',\n",
            "       'Premium Tech Support', 'Streaming TV', 'Streaming Movies',\n",
            "       'Streaming Music', 'Unlimited Data', 'Contract', 'Paperless Billing',\n",
            "       'Payment Method', 'Monthly Charge', 'Total Charges', 'Total Refunds',\n",
            "       'Total Extra Data Charges', 'Total Long Distance Charges',\n",
            "       'Total Revenue', 'Count', 'Gender', 'Age', 'Under 30', 'Senior Citizen',\n",
            "       'Married', 'Dependents', 'Number of Dependents', 'Churn Category',\n",
            "       'Satisfaction Score'],\n",
            "      dtype='object')\n"
          ]
        }
      ]
    },
    {
      "cell_type": "code",
      "source": [
        "missing = result_train.isnull().sum().reset_index().rename(columns={0:'missNum'})\n",
        "missing['missRate'] = missing['missNum'] / result_train.shape[0]\n",
        "miss_analy = missing[missing.missRate > 0].sort_values(by='missRate', ascending=False)\n",
        "\n",
        "fig = plt.figure(figsize=(18, 6))\n",
        "plt.bar(np.arange(miss_analy.shape[0]), list(miss_analy.missRate.values), align='center')\n",
        "\n",
        "plt.title('Histogram of missing value of variables of training dataset')\n",
        "plt.xlabel('variables names')\n",
        "plt.ylabel('missing rate')\n",
        "plt.xticks(np.arange(miss_analy.shape[0]), list(miss_analy['index']))\n",
        "plt.xticks(rotation=90)\n",
        "for x, y in enumerate(list(miss_analy.missRate.values)):\n",
        "    plt.text(x, y + 0.12, '{:.2%}'.format(y), ha='center', rotation=90)    \n",
        "\n",
        "plt.ylim([0, 1.2])  \n",
        "plt.savefig(f'./statistics/miss rate_train_stat.png')  \n",
        "plt.show()\n",
        "plt.close()"
      ],
      "metadata": {
        "id": "HDjocf2IYbFs",
        "outputId": "0e6aa4f5-48b0-4700-b235-93c0a0d8f8fb",
        "colab": {
          "base_uri": "https://localhost:8080/",
          "height": 574
        }
      },
      "execution_count": 345,
      "outputs": [
        {
          "output_type": "display_data",
          "data": {
            "image/png": "[encoded data removed]",
            "text/plain": [
              "<Figure size 1296x432 with 1 Axes>"
            ]
          },
          "metadata": {
            "needs_background": "light"
          }
        }
      ]
    },
    {
      "cell_type": "code",
      "source": [
        "missing = result_test.isnull().sum().reset_index().rename(columns={0:'missNum'})\n",
        "missing['missRate'] = missing['missNum'] / result_test.shape[0]\n",
        "miss_analy = missing[missing.missRate > 0].sort_values(by='missRate', ascending=False)\n",
        "\n",
        "fig = plt.figure(figsize=(18, 6))\n",
        "plt.bar(np.arange(miss_analy.shape[0]), list(miss_analy.missRate.values), align='center')\n",
        "\n",
        "plt.title('Histogram of missing value of variables of test dataset')\n",
        "plt.xlabel('variables names')\n",
        "plt.ylabel('missing rate')\n",
        "plt.xticks(np.arange(miss_analy.shape[0]), list(miss_analy['index']))\n",
        "plt.xticks(rotation=90)\n",
        "for x, y in enumerate(list(miss_analy.missRate.values)):\n",
        "    plt.text(x, y + 0.12, '{:.2%}'.format(y), ha='center', rotation=90)    \n",
        "\n",
        "plt.ylim([0, 1.4])  \n",
        "plt.savefig(f'./statistics/miss rate_test_stat.png')  \n",
        "plt.show()\n",
        "plt.close()"
      ],
      "metadata": {
        "colab": {
          "base_uri": "https://localhost:8080/",
          "height": 574
        },
        "id": "BVN8BclJkD1J",
        "outputId": "39a692d4-e90b-45b3-fa84-9f88e4397069"
      },
      "execution_count": 346,
      "outputs": [
        {
          "output_type": "display_data",
          "data": {
            "image/png": "[encoded data removed]",
            "text/plain": [
              "<Figure size 1296x432 with 1 Axes>"
            ]
          },
          "metadata": {
            "needs_background": "light"
          }
        }
      ]
    },
    {
      "cell_type": "markdown",
      "source": [
        "# **Statistics and Data Preprocessing**"
      ],
      "metadata": {
        "id": "eYyJOoclqCFk"
      }
    },
    {
      "cell_type": "code",
      "source": [
        "result_train_copy = result_train.copy(deep=True)\n",
        "result_test_copy = result_test.copy(deep=True)\n",
        "def label_statistics(label):\n",
        "    freq = result_train.groupby(label).size() \n",
        "\n",
        "    names = [name for name, _ in freq.items()]\n",
        "    counts = [count for _, count in freq.items()]\n",
        "\n",
        "    fig = plt.figure(figsize=(8, 6))\n",
        "    x = np.arange(len(names))\n",
        "    plt.bar(x, counts)\n",
        "    plt.xticks(x, names, rotation=15)\n",
        "    plt.title(f'Statistics of {label}')\n",
        "    plt.savefig(f'./statistics/Statistics of {label}.png')\n",
        "    print(f'Statistics of {label}.png saved')\n",
        "    plt.close()\n",
        "\n",
        "    # Replace NaN with random choice label with the original distribution\n",
        "    probability = [p / np.sum(counts) for p in counts]\n",
        "    result_train_copy[label] = result_train_copy[label].apply(lambda x: np.random.choice(names, p=probability) if pd.isnull(x) else x)\n",
        "    result_test_copy[label] = result_test_copy[label].apply(lambda x: np.random.choice(names, p=probability) if pd.isnull(x) else x)"
      ],
      "metadata": {
        "id": "ho-LNzp4g_Eb"
      },
      "execution_count": 347,
      "outputs": []
    },
    {
      "cell_type": "code",
      "source": [
        "need_statistics_col = ['Churn Category', 'Satisfaction Score', \n",
        "       'Gender', 'Under 30', 'Senior Citizen', 'Married', 'Dependents',\n",
        "       'Number of Dependents', 'Country', 'State', 'City', 'Quarter',\n",
        "       'Referred a Friend', 'Number of Referrals', 'Offer',\n",
        "       'Phone Service', 'Multiple Lines', 'Internet Service', 'Internet Type',\n",
        "       'Online Security', 'Online Backup', 'Device Protection Plan',\n",
        "       'Premium Tech Support', 'Streaming TV', 'Streaming Movies',\n",
        "       'Streaming Music', 'Unlimited Data', 'Contract', 'Paperless Billing',\n",
        "       'Payment Method', 'Count_x', 'Count_y', 'Count', 'Zip Code']\n",
        "\n",
        "# Replace NaN with the most frequent label\n",
        "for need_col in need_statistics_col:\n",
        "    label_statistics(need_col)\n",
        "\n",
        "    # Encode target labels with value\n",
        "    le = LabelEncoder()\n",
        "    result_train_copy[need_col] = le.fit_transform(result_train_copy[need_col])\n",
        "    result_test_copy[need_col] = le.fit_transform(result_test_copy[need_col])\n",
        "\n",
        "    if need_col == 'Churn Category':\n",
        "        encoder_map = dict(zip(le.classes_, le.transform(le.classes_)))"
      ],
      "metadata": {
        "colab": {
          "base_uri": "https://localhost:8080/"
        },
        "id": "Pl4omt-mIGDW",
        "outputId": "fb4a5fc0-4d37-4dc6-a1f1-cf6d6b52d765"
      },
      "execution_count": 348,
      "outputs": [
        {
          "output_type": "stream",
          "name": "stdout",
          "text": [
            "Statistics of Churn Category.png saved\n",
            "Statistics of Satisfaction Score.png saved\n",
            "Statistics of Gender.png saved\n",
            "Statistics of Under 30.png saved\n",
            "Statistics of Senior Citizen.png saved\n",
            "Statistics of Married.png saved\n",
            "Statistics of Dependents.png saved\n",
            "Statistics of Number of Dependents.png saved\n",
            "Statistics of Country.png saved\n",
            "Statistics of State.png saved\n",
            "Statistics of City.png saved\n",
            "Statistics of Quarter.png saved\n",
            "Statistics of Referred a Friend.png saved\n",
            "Statistics of Number of Referrals.png saved\n",
            "Statistics of Offer.png saved\n",
            "Statistics of Phone Service.png saved\n",
            "Statistics of Multiple Lines.png saved\n",
            "Statistics of Internet Service.png saved\n",
            "Statistics of Internet Type.png saved\n",
            "Statistics of Online Security.png saved\n",
            "Statistics of Online Backup.png saved\n",
            "Statistics of Device Protection Plan.png saved\n",
            "Statistics of Premium Tech Support.png saved\n",
            "Statistics of Streaming TV.png saved\n",
            "Statistics of Streaming Movies.png saved\n",
            "Statistics of Streaming Music.png saved\n",
            "Statistics of Unlimited Data.png saved\n",
            "Statistics of Contract.png saved\n",
            "Statistics of Paperless Billing.png saved\n",
            "Statistics of Payment Method.png saved\n",
            "Statistics of Count_x.png saved\n",
            "Statistics of Count_y.png saved\n",
            "Statistics of Count.png saved\n",
            "Statistics of Zip Code.png saved\n"
          ]
        }
      ]
    },
    {
      "cell_type": "code",
      "source": [
        "need_avg_col = [item for item in result_cols if item not in need_statistics_col]\n",
        "\n",
        "# Replace NaN with median value or 0\n",
        "for avg_col in need_avg_col[1:]:\n",
        "    if avg_col == 'Lat Long':\n",
        "        continue\n",
        "    else:\n",
        "        result_train_copy[avg_col] = result_train_copy[avg_col].fillna(result_train_copy[avg_col].median()) \n",
        "        result_test_copy[avg_col] = result_test_copy[avg_col].fillna(result_train_copy[avg_col].median())\n",
        "\n",
        "population = pd.read_csv('./data/population.csv')\n",
        "population = population.drop('ID', axis=1)\n",
        "result_train_copy = pd.merge(result_train_copy, population, how='left', on='Zip Code')\n",
        "result_test_copy = pd.merge(result_test_copy, population, how='left', on='Zip Code')"
      ],
      "metadata": {
        "id": "hjvCj4CgJPoJ"
      },
      "execution_count": 349,
      "outputs": []
    },
    {
      "cell_type": "code",
      "source": [
        "# Find the correlation of columns\n",
        "cor_matrix = result_train_copy.corr().abs()\n",
        "print(cor_matrix['Churn Category'])"
      ],
      "metadata": {
        "id": "WdnuvMdMS7_L",
        "outputId": "fbb9ac17-e09c-4e69-840a-017d7b34b7a7",
        "colab": {
          "base_uri": "https://localhost:8080/"
        }
      },
      "execution_count": 350,
      "outputs": [
        {
          "output_type": "stream",
          "name": "stdout",
          "text": [
            "Count_x                                   NaN\n",
            "Country                                   NaN\n",
            "State                                     NaN\n",
            "City                                 0.001694\n",
            "Zip Code                             0.016175\n",
            "Latitude                             0.050255\n",
            "Longitude                            0.029237\n",
            "Count_y                                   NaN\n",
            "Quarter                                   NaN\n",
            "Referred a Friend                    0.039161\n",
            "Number of Referrals                  0.081623\n",
            "Tenure in Months                     0.124967\n",
            "Offer                                0.064084\n",
            "Phone Service                        0.007903\n",
            "Avg Monthly Long Distance Charges    0.012097\n",
            "Multiple Lines                       0.025724\n",
            "Internet Service                     0.093695\n",
            "Internet Type                        0.041499\n",
            "Avg Monthly GB Download              0.040774\n",
            "Online Security                      0.057228\n",
            "Online Backup                        0.013486\n",
            "Device Protection Plan               0.003886\n",
            "Premium Tech Support                 0.065226\n",
            "Streaming TV                         0.011442\n",
            "Streaming Movies                     0.038226\n",
            "Streaming Music                      0.020193\n",
            "Unlimited Data                       0.069493\n",
            "Contract                             0.137617\n",
            "Paperless Billing                    0.078954\n",
            "Payment Method                       0.035229\n",
            "Monthly Charge                       0.092739\n",
            "Total Charges                        0.058857\n",
            "Total Refunds                        0.014575\n",
            "Total Extra Data Charges             0.015636\n",
            "Total Long Distance Charges          0.092469\n",
            "Total Revenue                        0.080331\n",
            "Count                                     NaN\n",
            "Gender                               0.001889\n",
            "Age                                  0.046805\n",
            "Under 30                             0.024823\n",
            "Senior Citizen                       0.059089\n",
            "Married                              0.018871\n",
            "Dependents                           0.074275\n",
            "Number of Dependents                 0.053742\n",
            "Churn Category                       1.000000\n",
            "Satisfaction Score                   0.254697\n",
            "Population                                NaN\n",
            "Name: Churn Category, dtype: float64\n"
          ]
        }
      ]
    },
    {
      "cell_type": "code",
      "source": [
        "useless_feature = [index for index, value in cor_matrix['Churn Category'].items() if pd.isnull(value)]\n",
        "useless_feature.append('Lat Long')\n",
        "print(useless_feature)"
      ],
      "metadata": {
        "id": "EUWHiNXdKhGP",
        "outputId": "c64c38e8-a963-4c91-90ca-244d56183fc4",
        "colab": {
          "base_uri": "https://localhost:8080/"
        }
      },
      "execution_count": 351,
      "outputs": [
        {
          "output_type": "stream",
          "name": "stdout",
          "text": [
            "['Count_x', 'Country', 'State', 'Count_y', 'Quarter', 'Count', 'Population', 'Lat Long']\n"
          ]
        }
      ]
    },
    {
      "cell_type": "code",
      "source": [
        "def dropColumns(label):\n",
        "    global result_train_copy, result_test_copy\n",
        "    result_train_copy = result_train_copy.drop(label, axis=1)\n",
        "    result_test_copy = result_test_copy.drop(label, axis=1)"
      ],
      "metadata": {
        "id": "K5quNy8vHQzb"
      },
      "execution_count": 352,
      "outputs": []
    },
    {
      "cell_type": "code",
      "source": [
        "# Throw away the data columns whose correlation to Churn Category is less than 0.55\n",
        "for item in useless_feature:\n",
        "    dropColumns(item)"
      ],
      "metadata": {
        "id": "Cis3gTDOG9Im"
      },
      "execution_count": 353,
      "outputs": []
    },
    {
      "cell_type": "code",
      "source": [
        "result_train_copy.to_csv('./data/result_after_preprocessing.csv') # Save after preprocessing result to result_after_preprocessing.csv\n",
        "feature_amount = len(result_train_copy.columns)\n",
        "\n",
        "print(result_train_copy)\n",
        "print(result_test_copy)"
      ],
      "metadata": {
        "colab": {
          "base_uri": "https://localhost:8080/"
        },
        "id": "-DsDpzq_Lgp3",
        "outputId": "f7132886-bd34-4810-b933-fdebe7aa5093"
      },
      "execution_count": 354,
      "outputs": [
        {
          "output_type": "stream",
          "name": "stdout",
          "text": [
            "     Customer ID  City  ...  Churn Category  Satisfaction Score\n",
            "0     0650-BWOZN   388  ...               1                   0\n",
            "1     0562-FGDCR   816  ...               1                   0\n",
            "2     6688-UZPWD   426  ...               3                   2\n",
            "3     2905-KFQUV   846  ...               1                   2\n",
            "4     9720-JJJOR   136  ...               3                   2\n",
            "...          ...   ...  ...             ...                 ...\n",
            "5629  1178-PZGAB   823  ...               1                   2\n",
            "5630  4806-KEXQR   670  ...               0                   2\n",
            "5631  8809-RIHDD   680  ...               3                   3\n",
            "5632  6663-JOCQO   846  ...               3                   3\n",
            "5633  7010-ZMVBF   344  ...               3                   3\n",
            "\n",
            "[5634 rows x 41 columns]\n",
            "     Customer ID  City  ...  Churn Category  Satisfaction Score\n",
            "0     9938-EKRGF   185  ...               3                   2\n",
            "1     7379-POKDZ   392  ...               3                   3\n",
            "2     0654-HMSHN   522  ...               2                   4\n",
            "3     2045-BMBTJ   410  ...               3                   3\n",
            "4     0701-TJSEF   393  ...               3                   2\n",
            "...          ...   ...  ...             ...                 ...\n",
            "1404  4587-VVTOX    47  ...               5                   3\n",
            "1405  7716-YTYHG    15  ...               3                   3\n",
            "1406  7649-PHJVR   401  ...               3                   0\n",
            "1407  7855-DIWPO   273  ...               3                   4\n",
            "1408  8197-BFWVU   270  ...               1                   2\n",
            "\n",
            "[1409 rows x 41 columns]\n"
          ]
        }
      ]
    },
    {
      "cell_type": "markdown",
      "source": [
        "# **Balance Data**"
      ],
      "metadata": {
        "id": "bPTqADO2Ox2F"
      }
    },
    {
      "cell_type": "code",
      "source": [
        "y_train = result_train_copy['Churn Category'].values\n",
        "X_train = result_train_copy.drop('Customer ID', axis=1)\n",
        "X_train = X_train.drop('Churn Category', axis=1)"
      ],
      "metadata": {
        "id": "RiyIrSnaNq6F"
      },
      "execution_count": 355,
      "outputs": []
    },
    {
      "cell_type": "code",
      "source": [
        "print(f\"normal data distribution: {Counter(y_train)}\")\n",
        "\n",
        "class_weight = dict(Counter(y_train))\n",
        "\n",
        "smo = ADASYN(random_state=seed)\n",
        "X_train, y_train = smo.fit_resample(X_train, y_train)\n",
        "\n",
        "print(f\"SMOTE data distribution: {Counter(y_train)}\")"
      ],
      "metadata": {
        "id": "LmlxI28WQUG2",
        "outputId": "236a53f3-1709-4475-8873-806861b77bd2",
        "colab": {
          "base_uri": "https://localhost:8080/"
        }
      },
      "execution_count": 356,
      "outputs": [
        {
          "output_type": "stream",
          "name": "stdout",
          "text": [
            "normal data distribution: Counter({3: 4133, 1: 662, 0: 271, 2: 222, 4: 175, 5: 171})\n",
            "SMOTE data distribution: Counter({3: 4133, 5: 4100, 1: 4099, 4: 4096, 2: 4090, 0: 4090})\n"
          ]
        }
      ]
    },
    {
      "cell_type": "markdown",
      "source": [
        "# **SVM Train**"
      ],
      "metadata": {
        "id": "3HpyuY-RQEz1"
      }
    },
    {
      "cell_type": "code",
      "source": [
        "sc = StandardScaler()\n",
        "ss = StandardScaler().fit(X_train)\n",
        "X_train_std = ss.transform(X_train)\n",
        "\n",
        "train_x, val_x, train_y, val_y = train_test_split(X_train_std, y_train, test_size=0.2, random_state=seed)\n",
        "\n",
        "class_weight = {k: train_x.shape[0] / v for k, v in class_weight.items()}\n",
        "print(class_weight)\n",
        "\n",
        "# param_grid = {\n",
        "#     'C':  [1, 10, 100, 1000], 'gamma': [0.01, 0.001, 0.0001],\n",
        "#     'kernel': ['rbf'], 'class_weight':['balanced', class_weight]\n",
        "# }"
      ],
      "metadata": {
        "id": "euCLdtvkO-nO",
        "colab": {
          "base_uri": "https://localhost:8080/"
        },
        "outputId": "ecfcde4c-274c-4434-c0ab-98ec96839ba0"
      },
      "execution_count": 357,
      "outputs": [
        {
          "output_type": "stream",
          "name": "stdout",
          "text": [
            "{1: 29.73716012084592, 3: 4.763126058553109, 2: 88.67567567567568, 4: 112.49142857142857, 5: 115.12280701754386, 0: 72.64206642066421}\n"
          ]
        }
      ]
    },
    {
      "cell_type": "code",
      "source": [
        "svm = SVC(kernel='rbf', gamma=0.1, C=10, class_weight=class_weight)\n",
        "\n",
        "start_time = time.time()\n",
        "model = svm.fit(train_x, train_y)\n",
        "end_time = time.time()\n",
        "\n",
        "print(f'Training use {round(end_time - start_time, 3)}s')"
      ],
      "metadata": {
        "colab": {
          "base_uri": "https://localhost:8080/"
        },
        "id": "VXuL_lKqW_mD",
        "outputId": "a89cca5c-4cac-4e44-fdfd-464cd2319275"
      },
      "execution_count": 358,
      "outputs": [
        {
          "output_type": "stream",
          "name": "stdout",
          "text": [
            "Training use 52.555s\n"
          ]
        }
      ]
    },
    {
      "cell_type": "code",
      "source": [
        "y_train_predict = svm.predict(train_x)\n",
        "Ein = np.mean(np.array(y_train_predict) != train_y)\n",
        "F1in = metrics.f1_score(train_y, y_train_predict, average='macro')  \n",
        "print(f'Ein = {round(Ein, 5)}')\n",
        "print(f'F1_in = {round(F1in, 5)}')\n",
        "\n",
        "y_val_predict = svm.predict(val_x)\n",
        "Eval = np.mean(np.array(y_val_predict) != val_y)\n",
        "F1val = metrics.f1_score(val_y, y_val_predict, average='macro')  \n",
        "print(f'Eval = {round(Eval, 5)}')\n",
        "print(f'F1_val = {round(F1val, 5)}')"
      ],
      "metadata": {
        "colab": {
          "base_uri": "https://localhost:8080/"
        },
        "id": "WivcNevbY1lB",
        "outputId": "57006b25-a61e-4f80-cde2-26202909332b"
      },
      "execution_count": 359,
      "outputs": [
        {
          "output_type": "stream",
          "name": "stdout",
          "text": [
            "Ein = 0.0\n",
            "F1_in = 1.0\n",
            "Eval = 0.07273\n",
            "F1_val = 0.92803\n"
          ]
        }
      ]
    },
    {
      "cell_type": "code",
      "source": [
        "plot_confusion_matrix(model, train_x, train_y)\n",
        "plot_confusion_matrix(model, val_x, val_y)\n",
        "print(encoder_map)"
      ],
      "metadata": {
        "id": "yWM9fKw1MLr1",
        "outputId": "83bf475c-f8cf-4ddb-e816-5d553fefbc31",
        "colab": {
          "base_uri": "https://localhost:8080/",
          "height": 648
        }
      },
      "execution_count": 363,
      "outputs": [
        {
          "output_type": "stream",
          "name": "stderr",
          "text": [
            "/usr/local/lib/python3.7/dist-packages/sklearn/utils/deprecation.py:87: FutureWarning: Function plot_confusion_matrix is deprecated; Function `plot_confusion_matrix` is deprecated in 1.0 and will be removed in 1.2. Use one of the class methods: ConfusionMatrixDisplay.from_predictions or ConfusionMatrixDisplay.from_estimator.\n",
            "  warnings.warn(msg, category=FutureWarning)\n",
            "/usr/local/lib/python3.7/dist-packages/sklearn/utils/deprecation.py:87: FutureWarning: Function plot_confusion_matrix is deprecated; Function `plot_confusion_matrix` is deprecated in 1.0 and will be removed in 1.2. Use one of the class methods: ConfusionMatrixDisplay.from_predictions or ConfusionMatrixDisplay.from_estimator.\n",
            "  warnings.warn(msg, category=FutureWarning)\n"
          ]
        },
        {
          "output_type": "stream",
          "name": "stdout",
          "text": [
            "{'Attitude': 0, 'Competitor': 1, 'Dissatisfaction': 2, 'No Churn': 3, 'Other': 4, 'Price': 5}\n"
          ]
        },
        {
          "output_type": "display_data",
          "data": {
            "image/png": "[encoded data removed]",
            "text/plain": [
              "<Figure size 432x288 with 2 Axes>"
            ]
          },
          "metadata": {
            "needs_background": "light"
          }
        },
        {
          "output_type": "display_data",
          "data": {
            "image/png": "[encoded data removed]",
            "text/plain": [
              "<Figure size 432x288 with 2 Axes>"
            ]
          },
          "metadata": {
            "needs_background": "light"
          }
        }
      ]
    },
    {
      "cell_type": "code",
      "source": [
        "print(classification_report(train_y, y_train_predict))\n",
        "print(classification_report(val_y, y_val_predict))"
      ],
      "metadata": {
        "id": "LMiWePsbSW4Y",
        "outputId": "64c731a9-ac63-4cc2-e685-eb431942f1f3",
        "colab": {
          "base_uri": "https://localhost:8080/"
        }
      },
      "execution_count": 364,
      "outputs": [
        {
          "output_type": "stream",
          "name": "stdout",
          "text": [
            "              precision    recall  f1-score   support\n",
            "\n",
            "           0       1.00      1.00      1.00      3250\n",
            "           1       1.00      1.00      1.00      3289\n",
            "           2       1.00      1.00      1.00      3264\n",
            "           3       1.00      1.00      1.00      3329\n",
            "           4       1.00      1.00      1.00      3257\n",
            "           5       1.00      1.00      1.00      3297\n",
            "\n",
            "    accuracy                           1.00     19686\n",
            "   macro avg       1.00      1.00      1.00     19686\n",
            "weighted avg       1.00      1.00      1.00     19686\n",
            "\n",
            "              precision    recall  f1-score   support\n",
            "\n",
            "           0       0.96      0.93      0.95       840\n",
            "           1       0.93      0.81      0.87       810\n",
            "           2       0.98      0.95      0.97       826\n",
            "           3       0.77      0.96      0.85       804\n",
            "           4       0.98      0.95      0.96       839\n",
            "           5       0.98      0.96      0.97       803\n",
            "\n",
            "    accuracy                           0.93      4922\n",
            "   macro avg       0.93      0.93      0.93      4922\n",
            "weighted avg       0.93      0.93      0.93      4922\n",
            "\n"
          ]
        }
      ]
    },
    {
      "cell_type": "markdown",
      "source": [
        "# **SVM Test**"
      ],
      "metadata": {
        "id": "ViqMiLyMavbf"
      }
    },
    {
      "cell_type": "code",
      "source": [
        "X_test = result_test_copy.drop('Customer ID', axis=1)\n",
        "X_test = X_test.drop('Churn Category', axis=1)\n",
        "ss = StandardScaler().fit(X_test)\n",
        "X_test_std = ss.transform(X_test)\n",
        "y_test = svm.predict(X_test_std)"
      ],
      "metadata": {
        "id": "dxd93_hUauU5"
      },
      "execution_count": 365,
      "outputs": []
    },
    {
      "cell_type": "code",
      "source": [
        "plot_confusion_matrix(model, X_test_std, y_test)\n",
        "print(encoder_map)"
      ],
      "metadata": {
        "id": "098w16TfMkqn",
        "outputId": "b5679567-89e9-4b67-abf2-b3e06d6c9133",
        "colab": {
          "base_uri": "https://localhost:8080/",
          "height": 351
        }
      },
      "execution_count": 366,
      "outputs": [
        {
          "output_type": "stream",
          "name": "stderr",
          "text": [
            "/usr/local/lib/python3.7/dist-packages/sklearn/utils/deprecation.py:87: FutureWarning: Function plot_confusion_matrix is deprecated; Function `plot_confusion_matrix` is deprecated in 1.0 and will be removed in 1.2. Use one of the class methods: ConfusionMatrixDisplay.from_predictions or ConfusionMatrixDisplay.from_estimator.\n",
            "  warnings.warn(msg, category=FutureWarning)\n"
          ]
        },
        {
          "output_type": "stream",
          "name": "stdout",
          "text": [
            "{'Attitude': 0, 'Competitor': 1, 'Dissatisfaction': 2, 'No Churn': 3, 'Other': 4, 'Price': 5}\n"
          ]
        },
        {
          "output_type": "display_data",
          "data": {
            "image/png": "[encoded data removed]",
            "text/plain": [
              "<Figure size 432x288 with 2 Axes>"
            ]
          },
          "metadata": {
            "needs_background": "light"
          }
        }
      ]
    },
    {
      "cell_type": "code",
      "source": [
        "submit_result = './svm_result.csv'\n",
        "\n",
        "new_encoder_map = {'No Churn':0, 'Competitor': 1, 'Dissatisfaction':2, 'Attitude': 3, 'Price':4, 'Other':5}\n",
        "\n",
        "with open(submit_result, 'w') as f:\n",
        "    f.write('Customer ID,Churn Category\\n')\n",
        "    for i in range(len(df_test.values)):\n",
        "        id = str(df_test.values[i]).replace('[\\'', '')\n",
        "        id = id.replace('\\']', '')\n",
        "        pred = new_encoder_map.get(list(encoder_map.keys())[list(encoder_map.values()).index(y_test[i])])\n",
        "        f.write(f'{id},{pred}\\n')"
      ],
      "metadata": {
        "id": "6N35sOjrcpNd"
      },
      "execution_count": 367,
      "outputs": []
    },
    {
      "cell_type": "code",
      "source": [
        "from google.colab import files\n",
        "\n",
        "files.download(submit_result)"
      ],
      "metadata": {
        "colab": {
          "base_uri": "https://localhost:8080/",
          "height": 17
        },
        "id": "0tLUThI7nWnj",
        "outputId": "0658c393-a9c3-4b18-dfc3-fa968c055a72"
      },
      "execution_count": 368,
      "outputs": [
        {
          "output_type": "display_data",
          "data": {
            "application/javascript": [
              "\n",
              "    async function download(id, filename, size) {\n",
              "      if (!google.colab.kernel.accessAllowed) {\n",
              "        return;\n",
              "      }\n",
              "      const div = document.createElement('div');\n",
              "      const label = document.createElement('label');\n",
              "      label.textContent = `Downloading \"${filename}\": `;\n",
              "      div.appendChild(label);\n",
              "      const progress = document.createElement('progress');\n",
              "      progress.max = size;\n",
              "      div.appendChild(progress);\n",
              "      document.body.appendChild(div);\n",
              "\n",
              "      const buffers = [];\n",
              "      let downloaded = 0;\n",
              "\n",
              "      const channel = await google.colab.kernel.comms.open(id);\n",
              "      // Send a message to notify the kernel that we're ready.\n",
              "      channel.send({})\n",
              "\n",
              "      for await (const message of channel.messages) {\n",
              "        // Send a message to notify the kernel that we're ready.\n",
              "        channel.send({})\n",
              "        if (message.buffers) {\n",
              "          for (const buffer of message.buffers) {\n",
              "            buffers.push(buffer);\n",
              "            downloaded += buffer.byteLength;\n",
              "            progress.value = downloaded;\n",
              "          }\n",
              "        }\n",
              "      }\n",
              "      const blob = new Blob(buffers, {type: 'application/binary'});\n",
              "      const a = document.createElement('a');\n",
              "      a.href = window.URL.createObjectURL(blob);\n",
              "      a.download = filename;\n",
              "      div.appendChild(a);\n",
              "      a.click();\n",
              "      div.remove();\n",
              "    }\n",
              "  "
            ],
            "text/plain": [
              "<IPython.core.display.Javascript object>"
            ]
          },
          "metadata": {}
        },
        {
          "output_type": "display_data",
          "data": {
            "application/javascript": [
              "download(\"download_927da515-48e6-4d65-833b-6c1dee82f9ef\", \"svm_result.csv\", 18344)"
            ],
            "text/plain": [
              "<IPython.core.display.Javascript object>"
            ]
          },
          "metadata": {}
        }
      ]
    },
    {
      "cell_type": "markdown",
      "source": [
        "# **Deep Neural Network Train**"
      ],
      "metadata": {
        "id": "ZFjmDSVGQPwo"
      }
    },
    {
      "cell_type": "code",
      "source": [
        "class IBMDataset(Dataset):\n",
        "    def __init__(self, X, y=None):\n",
        "        self.data = torch.from_numpy(X).float()\n",
        "        if y is not None:\n",
        "            y = y.astype(np.int)\n",
        "            self.label = torch.LongTensor(y)\n",
        "        else:\n",
        "            self.label = None\n",
        "\n",
        "    def __getitem__(self, idx):\n",
        "        if self.label is not None:\n",
        "            return self.data[idx], self.label[idx]\n",
        "        else:\n",
        "            return self.data[idx]\n",
        "\n",
        "    def __len__(self):\n",
        "        return len(self.data)"
      ],
      "metadata": {
        "id": "G5F9W_RkSub3"
      },
      "execution_count": 369,
      "outputs": []
    },
    {
      "cell_type": "code",
      "source": [
        "class Classifier(nn.Module):\n",
        "    def __init__(self):\n",
        "        super(Classifier, self).__init__()\n",
        "        self.layer1 = nn.Linear(feature_amount - 2, 512)\n",
        "        self.layer2 = nn.Linear(512, 256)\n",
        "        self.layer3 = nn.Linear(256, 128)\n",
        "        self.bn1 = nn.BatchNorm1d(512)\n",
        "        self.bn2 = nn.BatchNorm1d(256)\n",
        "        self.bn3 = nn.BatchNorm1d(128)\n",
        "        self.out = nn.Linear(128, 6)\n",
        "        self.dp = nn.Dropout(0.1)\n",
        "        self.act_fn = nn.LeakyReLU()\n",
        "\n",
        "    def forward(self, x):\n",
        "        x = self.layer1(x)\n",
        "        x = self.act_fn(x)\n",
        "        x = self.bn1(x)\n",
        "        x = self.dp(x)\n",
        "\n",
        "        x = self.layer2(x)\n",
        "        x = self.act_fn(x)\n",
        "        x = self.bn2(x)\n",
        "        x = self.dp(x)\n",
        "\n",
        "        x = self.layer3(x)\n",
        "        x = self.act_fn(x)\n",
        "        x = self.bn3(x)\n",
        "        x = self.dp(x)\n",
        "        \n",
        "        x = self.out(x)\n",
        "        \n",
        "        return x\n",
        "\n",
        "# classifier = Classifier()\n",
        "# summary(classifier, X_train.shape, device=\"cpu\")"
      ],
      "metadata": {
        "id": "K_ofbzUUQdOX"
      },
      "execution_count": 370,
      "outputs": []
    },
    {
      "cell_type": "code",
      "source": [
        "VAL_RATIO = 0.2\n",
        "BATCH_SIZE = 256\n",
        "\n",
        "sc = StandardScaler()\n",
        "ss = StandardScaler().fit(X_train)\n",
        "X_train_std = ss.transform(X_train)\n",
        "\n",
        "percent = int(X_train_std.shape[0] * (1 - VAL_RATIO))\n",
        "train_x, train_y, val_x, val_y = X_train_std[:percent], y_train[:percent], X_train_std[percent:], y_train[percent:]\n",
        "print('Size of training set: {}'.format(train_x.shape))\n",
        "print('Size of validation set: {}'.format(val_x.shape))"
      ],
      "metadata": {
        "id": "3lDEMsTdTVd3",
        "outputId": "caab85f6-4bcc-4c6a-b2be-9b1bef291c3f",
        "colab": {
          "base_uri": "https://localhost:8080/"
        }
      },
      "execution_count": 371,
      "outputs": [
        {
          "output_type": "stream",
          "name": "stdout",
          "text": [
            "Size of training set: (19686, 39)\n",
            "Size of validation set: (4922, 39)\n"
          ]
        }
      ]
    },
    {
      "cell_type": "code",
      "source": [
        "train_set = IBMDataset(train_x, train_y)\n",
        "val_set = IBMDataset(val_x, val_y)\n",
        "train_loader = DataLoader(train_set, batch_size=BATCH_SIZE, shuffle=True) # only shuffle the training data\n",
        "val_loader = DataLoader(val_set, batch_size=BATCH_SIZE, shuffle=False)"
      ],
      "metadata": {
        "id": "RaPDAgDzTcrs"
      },
      "execution_count": 372,
      "outputs": []
    },
    {
      "cell_type": "code",
      "source": [
        "# get device \n",
        "device = 'cuda' if torch.cuda.is_available() else 'cpu'\n",
        "print(f'DEVICE: {device}')\n",
        "\n",
        "# training parameters\n",
        "num_epoch = 3000             # number of training epoch\n",
        "learning_rate = 0.001       # learning rate\n",
        "callback_num = 500\n",
        "\n",
        "# the path where checkpoint saved\n",
        "model_path = './best_model.ckpt'\n",
        "\n",
        "# create model, define a loss function, and optimizer\n",
        "model = Classifier().to(device)\n",
        "criterion = nn.CrossEntropyLoss() \n",
        "optimizer = torch.optim.Adam(model.parameters(), lr=learning_rate)\n",
        "scheduler = StepLR(optimizer, step_size=len(train_loader) * 200, gamma=0.1)"
      ],
      "metadata": {
        "id": "CMbU0r5fRwai",
        "outputId": "208d9143-8e21-42fe-b102-cdbc229a96fd",
        "colab": {
          "base_uri": "https://localhost:8080/"
        }
      },
      "execution_count": 373,
      "outputs": [
        {
          "output_type": "stream",
          "name": "stdout",
          "text": [
            "DEVICE: cuda\n"
          ]
        }
      ]
    },
    {
      "cell_type": "code",
      "source": [
        "best_acc = 0.0\n",
        "count = 0\n",
        "start_time = time.time()\n",
        "train_acc_list = []\n",
        "train_loss_list = []\n",
        "val_acc_list = []\n",
        "val_loss_list = []\n",
        "for epoch in range(num_epoch):\n",
        "    train_acc = 0.0\n",
        "    train_loss = 0.0\n",
        "    val_acc = 0.0\n",
        "    val_loss = 0.0\n",
        "\n",
        "    # training\n",
        "    model.train() # set the model to training mode\n",
        "    for i, data in enumerate(train_loader):\n",
        "        inputs, labels = data\n",
        "        inputs, labels = inputs.to(device), labels.to(device)\n",
        "        optimizer.zero_grad() \n",
        "        outputs = model(inputs) \n",
        "        batch_loss = criterion(outputs, labels)\n",
        "        _, train_pred = torch.max(outputs, 1) # get the index of the class with the highest probability\n",
        "        batch_loss.backward() \n",
        "        optimizer.step()\n",
        "        scheduler.step()\n",
        "\n",
        "        train_acc += (train_pred.cpu() == labels.cpu()).sum().item()\n",
        "        train_loss += batch_loss.item()\n",
        "\n",
        "    # validation\n",
        "    if len(val_set) > 0:\n",
        "        model.eval() # set the model to evaluation mode\n",
        "        with torch.no_grad():\n",
        "            for i, data in enumerate(val_loader):\n",
        "                inputs, labels = data\n",
        "                inputs, labels = inputs.to(device), labels.to(device)\n",
        "                outputs = model(inputs)\n",
        "                batch_loss = criterion(outputs, labels) \n",
        "                _, val_pred = torch.max(outputs, 1) \n",
        "            \n",
        "                val_acc += (val_pred.cpu() == labels.cpu()).sum().item() # get the index of the class with the highest probability\n",
        "                val_loss += batch_loss.item()\n",
        "\n",
        "            print('[{:03d}/{:03d}] Train Acc: {:3.6f} Loss: {:3.6f} | Val Acc: {:3.6f} loss: {:3.6f}'.format(\n",
        "                epoch + 1, num_epoch, train_acc/len(train_set), train_loss/len(train_loader), val_acc/len(val_set), val_loss/len(val_loader)\n",
        "            ))\n",
        "\n",
        "            # Record Training and validation info\n",
        "            train_acc_list.append(train_acc/len(train_set))\n",
        "            train_loss_list.append(train_loss/len(train_loader))\n",
        "            val_acc_list.append(val_acc/len(val_set))\n",
        "            val_loss_list.append(val_loss/len(val_loader))\n",
        "\n",
        "            # if the model improves, save a checkpoint at this epoch\n",
        "            count += 1\n",
        "            if val_acc > best_acc:\n",
        "                count = 0\n",
        "                best_acc = val_acc\n",
        "                torch.save(model.state_dict(), model_path)\n",
        "                print('saving model with acc {:.3f}'.format(best_acc/len(val_set)))\n",
        "    else:\n",
        "        print('[{:03d}/{:03d}] Train Acc: {:3.6f} Loss: {:3.6f}'.format(\n",
        "            epoch + 1, num_epoch, train_acc/len(train_set), train_loss/len(train_loader)\n",
        "        ))\n",
        "\n",
        "    if count > callback_num:\n",
        "        break\n",
        "\n",
        "# if not validating, save the last epoch\n",
        "if len(val_set) == 0:\n",
        "    torch.save(model.state_dict(), model_path)\n",
        "    print('saving model at last epoch')\n",
        "\n",
        "end_time = time.time()"
      ],
      "metadata": {
        "id": "zYGRiadPSNDo",
        "outputId": "8824dd4b-c7d2-438c-b256-9154a4dfbd2f",
        "colab": {
          "base_uri": "https://localhost:8080/"
        }
      },
      "execution_count": 374,
      "outputs": [
        {
          "output_type": "stream",
          "name": "stdout",
          "text": [
            "[001/3000] Train Acc: 0.572285 Loss: 1.173737 | Val Acc: 0.129825 loss: 2.636120\n",
            "saving model with acc 0.130\n",
            "[002/3000] Train Acc: 0.736462 Loss: 0.768704 | Val Acc: 0.130435 loss: 3.079130\n",
            "saving model with acc 0.130\n",
            "[003/3000] Train Acc: 0.802601 Loss: 0.575735 | Val Acc: 0.139171 loss: 3.494226\n",
            "saving model with acc 0.139\n",
            "[004/3000] Train Acc: 0.839988 Loss: 0.469466 | Val Acc: 0.147907 loss: 3.693192\n",
            "saving model with acc 0.148\n",
            "[005/3000] Train Acc: 0.869755 Loss: 0.381585 | Val Acc: 0.146485 loss: 3.949923\n",
            "[006/3000] Train Acc: 0.886620 Loss: 0.330344 | Val Acc: 0.152580 loss: 4.075287\n",
            "saving model with acc 0.153\n",
            "[007/3000] Train Acc: 0.902774 Loss: 0.291011 | Val Acc: 0.156237 loss: 4.216219\n",
            "saving model with acc 0.156\n",
            "[008/3000] Train Acc: 0.917200 Loss: 0.247740 | Val Acc: 0.160910 loss: 4.211045\n",
            "saving model with acc 0.161\n",
            "[009/3000] Train Acc: 0.923499 Loss: 0.227947 | Val Acc: 0.166599 loss: 4.167980\n",
            "saving model with acc 0.167\n",
            "[010/3000] Train Acc: 0.933354 Loss: 0.196018 | Val Acc: 0.162739 loss: 4.223177\n",
            "[011/3000] Train Acc: 0.939500 Loss: 0.179121 | Val Acc: 0.185697 loss: 4.311154\n",
            "saving model with acc 0.186\n",
            "[012/3000] Train Acc: 0.944580 Loss: 0.163699 | Val Acc: 0.185697 loss: 4.261728\n",
            "[013/3000] Train Acc: 0.946104 Loss: 0.152838 | Val Acc: 0.197278 loss: 4.337972\n",
            "saving model with acc 0.197\n",
            "[014/3000] Train Acc: 0.954181 Loss: 0.134543 | Val Acc: 0.193417 loss: 4.122129\n",
            "[015/3000] Train Acc: 0.953927 Loss: 0.129108 | Val Acc: 0.213328 loss: 4.201870\n",
            "saving model with acc 0.213\n",
            "[016/3000] Train Acc: 0.959667 Loss: 0.115313 | Val Acc: 0.232426 loss: 4.100673\n",
            "saving model with acc 0.232\n",
            "[017/3000] Train Acc: 0.962511 Loss: 0.109153 | Val Acc: 0.209468 loss: 4.299448\n",
            "[018/3000] Train Acc: 0.964493 Loss: 0.101203 | Val Acc: 0.211093 loss: 4.398198\n",
            "[019/3000] Train Acc: 0.966118 Loss: 0.099069 | Val Acc: 0.228769 loss: 4.213095\n",
            "[020/3000] Train Acc: 0.967236 Loss: 0.093019 | Val Acc: 0.232629 loss: 4.195816\n",
            "saving model with acc 0.233\n",
            "[021/3000] Train Acc: 0.970233 Loss: 0.085793 | Val Acc: 0.249898 loss: 4.057271\n",
            "saving model with acc 0.250\n",
            "[022/3000] Train Acc: 0.972722 Loss: 0.080376 | Val Acc: 0.261885 loss: 4.144404\n",
            "saving model with acc 0.262\n",
            "[023/3000] Train Acc: 0.975008 Loss: 0.074602 | Val Acc: 0.244616 loss: 4.299630\n",
            "[024/3000] Train Acc: 0.972519 Loss: 0.078242 | Val Acc: 0.269809 loss: 4.256223\n",
            "saving model with acc 0.270\n",
            "[025/3000] Train Acc: 0.975109 Loss: 0.072422 | Val Acc: 0.260260 loss: 4.438129\n",
            "[026/3000] Train Acc: 0.977395 Loss: 0.068059 | Val Acc: 0.264527 loss: 4.322691\n",
            "[027/3000] Train Acc: 0.976735 Loss: 0.066071 | Val Acc: 0.266761 loss: 4.293882\n",
            "[028/3000] Train Acc: 0.977852 Loss: 0.062816 | Val Acc: 0.261682 loss: 4.408027\n",
            "[029/3000] Train Acc: 0.976735 Loss: 0.067537 | Val Acc: 0.255181 loss: 4.509263\n",
            "[030/3000] Train Acc: 0.979529 Loss: 0.060461 | Val Acc: 0.248476 loss: 4.639258\n",
            "[031/3000] Train Acc: 0.977751 Loss: 0.063629 | Val Acc: 0.265746 loss: 4.604716\n",
            "[032/3000] Train Acc: 0.979021 Loss: 0.060484 | Val Acc: 0.270419 loss: 4.625447\n",
            "saving model with acc 0.270\n",
            "[033/3000] Train Acc: 0.981154 Loss: 0.054708 | Val Acc: 0.283218 loss: 4.444100\n",
            "saving model with acc 0.283\n",
            "[034/3000] Train Acc: 0.980138 Loss: 0.057829 | Val Acc: 0.278342 loss: 4.544338\n",
            "[035/3000] Train Acc: 0.979427 Loss: 0.059144 | Val Acc: 0.271841 loss: 4.431604\n",
            "[036/3000] Train Acc: 0.980900 Loss: 0.054044 | Val Acc: 0.275701 loss: 4.601300\n",
            "[037/3000] Train Acc: 0.981307 Loss: 0.052934 | Val Acc: 0.284031 loss: 4.528111\n",
            "saving model with acc 0.284\n",
            "[038/3000] Train Acc: 0.982526 Loss: 0.052196 | Val Acc: 0.278545 loss: 4.621872\n",
            "[039/3000] Train Acc: 0.983389 Loss: 0.047113 | Val Acc: 0.271841 loss: 4.782366\n",
            "[040/3000] Train Acc: 0.982068 Loss: 0.052336 | Val Acc: 0.282202 loss: 4.501512\n",
            "[041/3000] Train Acc: 0.983084 Loss: 0.050019 | Val Acc: 0.267777 loss: 4.747049\n",
            "[042/3000] Train Acc: 0.983034 Loss: 0.047431 | Val Acc: 0.295612 loss: 4.415381\n",
            "saving model with acc 0.296\n",
            "[043/3000] Train Acc: 0.984964 Loss: 0.044302 | Val Acc: 0.304957 loss: 4.493716\n",
            "saving model with acc 0.305\n",
            "[044/3000] Train Acc: 0.986742 Loss: 0.037344 | Val Acc: 0.280780 loss: 4.821557\n",
            "[045/3000] Train Acc: 0.983643 Loss: 0.049184 | Val Acc: 0.293580 loss: 4.726150\n",
            "[046/3000] Train Acc: 0.982221 Loss: 0.052066 | Val Acc: 0.309833 loss: 4.655536\n",
            "saving model with acc 0.310\n",
            "[047/3000] Train Acc: 0.984608 Loss: 0.043885 | Val Acc: 0.292158 loss: 4.662198\n",
            "[048/3000] Train Acc: 0.985574 Loss: 0.041518 | Val Acc: 0.296018 loss: 4.741498\n",
            "[049/3000] Train Acc: 0.987250 Loss: 0.039339 | Val Acc: 0.281593 loss: 4.826487\n",
            "[050/3000] Train Acc: 0.986691 Loss: 0.038602 | Val Acc: 0.290329 loss: 4.882878\n",
            "[051/3000] Train Acc: 0.986335 Loss: 0.038616 | Val Acc: 0.282609 loss: 4.976513\n",
            "[052/3000] Train Acc: 0.986031 Loss: 0.039551 | Val Acc: 0.308005 loss: 4.771447\n",
            "[053/3000] Train Acc: 0.986894 Loss: 0.037477 | Val Acc: 0.311459 loss: 4.591125\n",
            "saving model with acc 0.311\n",
            "[054/3000] Train Acc: 0.985574 Loss: 0.041550 | Val Acc: 0.297034 loss: 4.835917\n",
            "[055/3000] Train Acc: 0.987199 Loss: 0.036914 | Val Acc: 0.303738 loss: 4.869178\n",
            "[056/3000] Train Acc: 0.988367 Loss: 0.035358 | Val Acc: 0.290939 loss: 4.966102\n",
            "[057/3000] Train Acc: 0.986640 Loss: 0.037745 | Val Acc: 0.289720 loss: 4.936214\n",
            "[058/3000] Train Acc: 0.986640 Loss: 0.040388 | Val Acc: 0.278342 loss: 5.162965\n",
            "[059/3000] Train Acc: 0.986335 Loss: 0.038180 | Val Acc: 0.279561 loss: 5.194928\n",
            "[060/3000] Train Acc: 0.987402 Loss: 0.036026 | Val Acc: 0.286266 loss: 5.036776\n",
            "[061/3000] Train Acc: 0.988113 Loss: 0.032835 | Val Acc: 0.306583 loss: 4.974835\n",
            "[062/3000] Train Acc: 0.987758 Loss: 0.036112 | Val Acc: 0.292361 loss: 5.047136\n",
            "[063/3000] Train Acc: 0.988825 Loss: 0.033707 | Val Acc: 0.310849 loss: 4.987151\n",
            "[064/3000] Train Acc: 0.988571 Loss: 0.032913 | Val Acc: 0.294393 loss: 4.994143\n",
            "[065/3000] Train Acc: 0.987605 Loss: 0.035926 | Val Acc: 0.307395 loss: 4.987375\n",
            "[066/3000] Train Acc: 0.986945 Loss: 0.036317 | Val Acc: 0.318570 loss: 5.023316\n",
            "saving model with acc 0.319\n",
            "[067/3000] Train Acc: 0.988672 Loss: 0.032857 | Val Acc: 0.313490 loss: 4.910876\n",
            "[068/3000] Train Acc: 0.989231 Loss: 0.031012 | Val Acc: 0.311256 loss: 4.953620\n",
            "[069/3000] Train Acc: 0.990094 Loss: 0.029912 | Val Acc: 0.296831 loss: 5.010226\n",
            "[070/3000] Train Acc: 0.988875 Loss: 0.031025 | Val Acc: 0.305973 loss: 5.023942\n",
            "[071/3000] Train Acc: 0.989180 Loss: 0.030199 | Val Acc: 0.316944 loss: 5.021331\n",
            "[072/3000] Train Acc: 0.989282 Loss: 0.031527 | Val Acc: 0.315116 loss: 4.969976\n",
            "[073/3000] Train Acc: 0.989942 Loss: 0.029822 | Val Acc: 0.297846 loss: 5.045842\n",
            "[074/3000] Train Acc: 0.986742 Loss: 0.038148 | Val Acc: 0.293377 loss: 5.249356\n",
            "[075/3000] Train Acc: 0.988266 Loss: 0.034446 | Val Acc: 0.315116 loss: 4.966395\n",
            "[076/3000] Train Acc: 0.989180 Loss: 0.030930 | Val Acc: 0.306786 loss: 5.102170\n",
            "[077/3000] Train Acc: 0.990044 Loss: 0.028717 | Val Acc: 0.308411 loss: 4.941855\n",
            "[078/3000] Train Acc: 0.990755 Loss: 0.026375 | Val Acc: 0.324055 loss: 5.074874\n",
            "saving model with acc 0.324\n",
            "[079/3000] Train Acc: 0.992584 Loss: 0.023327 | Val Acc: 0.305770 loss: 5.304395\n",
            "[080/3000] Train Acc: 0.990704 Loss: 0.028488 | Val Acc: 0.306989 loss: 5.201364\n",
            "[081/3000] Train Acc: 0.990399 Loss: 0.028359 | Val Acc: 0.301707 loss: 5.258589\n",
            "[082/3000] Train Acc: 0.989739 Loss: 0.030040 | Val Acc: 0.310646 loss: 5.255176\n",
            "[083/3000] Train Acc: 0.990247 Loss: 0.026789 | Val Acc: 0.317351 loss: 5.170902\n",
            "[084/3000] Train Acc: 0.990501 Loss: 0.029076 | Val Acc: 0.314303 loss: 5.185467\n",
            "[085/3000] Train Acc: 0.990044 Loss: 0.030471 | Val Acc: 0.327712 loss: 5.178119\n",
            "saving model with acc 0.328\n",
            "[086/3000] Train Acc: 0.990552 Loss: 0.028489 | Val Acc: 0.307802 loss: 5.457210\n",
            "[087/3000] Train Acc: 0.990958 Loss: 0.024323 | Val Acc: 0.323243 loss: 5.185332\n",
            "[088/3000] Train Acc: 0.990399 Loss: 0.027923 | Val Acc: 0.318367 loss: 5.183107\n",
            "[089/3000] Train Acc: 0.992330 Loss: 0.022853 | Val Acc: 0.319179 loss: 5.169622\n",
            "[090/3000] Train Acc: 0.991669 Loss: 0.024269 | Val Acc: 0.331369 loss: 4.973200\n",
            "saving model with acc 0.331\n",
            "[091/3000] Train Acc: 0.991364 Loss: 0.025079 | Val Acc: 0.332385 loss: 5.144332\n",
            "saving model with acc 0.332\n",
            "[092/3000] Train Acc: 0.991009 Loss: 0.026981 | Val Acc: 0.319586 loss: 5.242394\n",
            "[093/3000] Train Acc: 0.990501 Loss: 0.026204 | Val Acc: 0.333604 loss: 4.977220\n",
            "saving model with acc 0.334\n",
            "[094/3000] Train Acc: 0.991364 Loss: 0.025621 | Val Acc: 0.321008 loss: 5.095792\n",
            "[095/3000] Train Acc: 0.990399 Loss: 0.027227 | Val Acc: 0.324055 loss: 5.172937\n",
            "[096/3000] Train Acc: 0.989485 Loss: 0.031007 | Val Acc: 0.311662 loss: 5.099366\n",
            "[097/3000] Train Acc: 0.991263 Loss: 0.023618 | Val Acc: 0.298050 loss: 5.387207\n",
            "[098/3000] Train Acc: 0.990552 Loss: 0.024994 | Val Acc: 0.312271 loss: 5.337585\n",
            "[099/3000] Train Acc: 0.991822 Loss: 0.023861 | Val Acc: 0.310849 loss: 5.401547\n",
            "[100/3000] Train Acc: 0.990755 Loss: 0.026464 | Val Acc: 0.325681 loss: 5.123496\n",
            "[101/3000] Train Acc: 0.992330 Loss: 0.022830 | Val Acc: 0.317757 loss: 5.542592\n",
            "[102/3000] Train Acc: 0.991110 Loss: 0.026991 | Val Acc: 0.321008 loss: 5.290377\n",
            "[103/3000] Train Acc: 0.990856 Loss: 0.026341 | Val Acc: 0.316335 loss: 5.306638\n",
            "[104/3000] Train Acc: 0.991415 Loss: 0.023423 | Val Acc: 0.320601 loss: 5.333536\n",
            "[105/3000] Train Acc: 0.991364 Loss: 0.024422 | Val Acc: 0.336449 loss: 5.034410\n",
            "saving model with acc 0.336\n",
            "[106/3000] Train Acc: 0.991415 Loss: 0.025324 | Val Acc: 0.343153 loss: 4.925437\n",
            "saving model with acc 0.343\n",
            "[107/3000] Train Acc: 0.991568 Loss: 0.023894 | Val Acc: 0.352296 loss: 4.882176\n",
            "saving model with acc 0.352\n",
            "[108/3000] Train Acc: 0.992431 Loss: 0.022694 | Val Acc: 0.324665 loss: 5.237120\n",
            "[109/3000] Train Acc: 0.990247 Loss: 0.027737 | Val Acc: 0.324868 loss: 4.990562\n",
            "[110/3000] Train Acc: 0.992279 Loss: 0.021101 | Val Acc: 0.313490 loss: 5.253976\n",
            "[111/3000] Train Acc: 0.993498 Loss: 0.020070 | Val Acc: 0.331573 loss: 5.158579\n",
            "[112/3000] Train Acc: 0.993346 Loss: 0.020832 | Val Acc: 0.310240 loss: 5.348873\n",
            "[113/3000] Train Acc: 0.993295 Loss: 0.018618 | Val Acc: 0.318976 loss: 5.327750\n",
            "[114/3000] Train Acc: 0.992177 Loss: 0.022448 | Val Acc: 0.336042 loss: 5.192669\n",
            "[115/3000] Train Acc: 0.991822 Loss: 0.024269 | Val Acc: 0.303129 loss: 5.553973\n",
            "[116/3000] Train Acc: 0.991923 Loss: 0.024057 | Val Acc: 0.324055 loss: 5.357623\n",
            "[117/3000] Train Acc: 0.993295 Loss: 0.020698 | Val Acc: 0.317960 loss: 5.464380\n",
            "[118/3000] Train Acc: 0.993092 Loss: 0.020768 | Val Acc: 0.298456 loss: 5.555686\n",
            "[119/3000] Train Acc: 0.993193 Loss: 0.021458 | Val Acc: 0.334214 loss: 5.197402\n",
            "[120/3000] Train Acc: 0.991568 Loss: 0.023865 | Val Acc: 0.319789 loss: 5.534629\n",
            "[121/3000] Train Acc: 0.992838 Loss: 0.022798 | Val Acc: 0.330963 loss: 5.359836\n",
            "[122/3000] Train Acc: 0.992126 Loss: 0.024248 | Val Acc: 0.303535 loss: 5.610155\n",
            "[123/3000] Train Acc: 0.991263 Loss: 0.024698 | Val Acc: 0.312475 loss: 5.638529\n",
            "[124/3000] Train Acc: 0.991364 Loss: 0.025056 | Val Acc: 0.322430 loss: 5.660763\n",
            "[125/3000] Train Acc: 0.991618 Loss: 0.027010 | Val Acc: 0.324665 loss: 5.570404\n",
            "[126/3000] Train Acc: 0.993295 Loss: 0.019016 | Val Acc: 0.329338 loss: 5.418178\n",
            "[127/3000] Train Acc: 0.993447 Loss: 0.019736 | Val Acc: 0.326696 loss: 5.321001\n",
            "[128/3000] Train Acc: 0.994209 Loss: 0.017583 | Val Acc: 0.322227 loss: 5.361308\n",
            "[129/3000] Train Acc: 0.994057 Loss: 0.018262 | Val Acc: 0.333807 loss: 5.285416\n",
            "[130/3000] Train Acc: 0.994311 Loss: 0.016153 | Val Acc: 0.333198 loss: 5.381982\n",
            "[131/3000] Train Acc: 0.993650 Loss: 0.017527 | Val Acc: 0.315522 loss: 5.540991\n",
            "[132/3000] Train Acc: 0.993752 Loss: 0.018927 | Val Acc: 0.327712 loss: 5.354853\n",
            "[133/3000] Train Acc: 0.994209 Loss: 0.016944 | Val Acc: 0.318570 loss: 5.388454\n",
            "[134/3000] Train Acc: 0.992939 Loss: 0.019001 | Val Acc: 0.327509 loss: 5.467352\n",
            "[135/3000] Train Acc: 0.993498 Loss: 0.017897 | Val Acc: 0.325477 loss: 5.436258\n",
            "[136/3000] Train Acc: 0.991974 Loss: 0.021792 | Val Acc: 0.338074 loss: 5.342019\n",
            "[137/3000] Train Acc: 0.993853 Loss: 0.019781 | Val Acc: 0.331776 loss: 5.535162\n",
            "[138/3000] Train Acc: 0.994412 Loss: 0.016484 | Val Acc: 0.334620 loss: 5.369637\n",
            "[139/3000] Train Acc: 0.993853 Loss: 0.017949 | Val Acc: 0.336652 loss: 5.359040\n",
            "[140/3000] Train Acc: 0.993396 Loss: 0.019039 | Val Acc: 0.313694 loss: 5.576388\n",
            "[141/3000] Train Acc: 0.994107 Loss: 0.016369 | Val Acc: 0.323039 loss: 5.448941\n",
            "[142/3000] Train Acc: 0.993600 Loss: 0.019765 | Val Acc: 0.328931 loss: 5.546033\n",
            "[143/3000] Train Acc: 0.993498 Loss: 0.018047 | Val Acc: 0.335839 loss: 5.406246\n",
            "[144/3000] Train Acc: 0.993752 Loss: 0.020069 | Val Acc: 0.330557 loss: 5.535386\n",
            "[145/3000] Train Acc: 0.993498 Loss: 0.018671 | Val Acc: 0.334011 loss: 5.355942\n",
            "[146/3000] Train Acc: 0.994006 Loss: 0.019338 | Val Acc: 0.337058 loss: 5.365376\n",
            "[147/3000] Train Acc: 0.993650 Loss: 0.018871 | Val Acc: 0.316132 loss: 5.490035\n",
            "[148/3000] Train Acc: 0.993701 Loss: 0.019697 | Val Acc: 0.323243 loss: 5.611540\n",
            "[149/3000] Train Acc: 0.994260 Loss: 0.017936 | Val Acc: 0.308818 loss: 5.721635\n",
            "[150/3000] Train Acc: 0.994107 Loss: 0.017869 | Val Acc: 0.321008 loss: 5.657354\n",
            "[151/3000] Train Acc: 0.994057 Loss: 0.017357 | Val Acc: 0.317351 loss: 5.684188\n",
            "[152/3000] Train Acc: 0.992838 Loss: 0.020431 | Val Acc: 0.335839 loss: 5.482505\n",
            "[153/3000] Train Acc: 0.993803 Loss: 0.019342 | Val Acc: 0.316741 loss: 5.608372\n",
            "[154/3000] Train Acc: 0.993803 Loss: 0.017719 | Val Acc: 0.331776 loss: 5.447379\n",
            "[155/3000] Train Acc: 0.994717 Loss: 0.016697 | Val Acc: 0.332182 loss: 5.350793\n",
            "[156/3000] Train Acc: 0.993244 Loss: 0.019583 | Val Acc: 0.322024 loss: 5.734108\n",
            "[157/3000] Train Acc: 0.992838 Loss: 0.018927 | Val Acc: 0.340512 loss: 5.440466\n",
            "[158/3000] Train Acc: 0.994412 Loss: 0.017867 | Val Acc: 0.335433 loss: 5.535164\n",
            "[159/3000] Train Acc: 0.995073 Loss: 0.015929 | Val Acc: 0.323649 loss: 5.840690\n",
            "[160/3000] Train Acc: 0.994463 Loss: 0.015160 | Val Acc: 0.324665 loss: 5.871468\n",
            "[161/3000] Train Acc: 0.994158 Loss: 0.016523 | Val Acc: 0.329338 loss: 5.651909\n",
            "[162/3000] Train Acc: 0.994260 Loss: 0.016343 | Val Acc: 0.328119 loss: 5.724236\n",
            "[163/3000] Train Acc: 0.995073 Loss: 0.016142 | Val Acc: 0.332182 loss: 5.611207\n",
            "[164/3000] Train Acc: 0.994463 Loss: 0.017318 | Val Acc: 0.341121 loss: 5.568705\n",
            "[165/3000] Train Acc: 0.994057 Loss: 0.019645 | Val Acc: 0.313287 loss: 5.693012\n",
            "[166/3000] Train Acc: 0.992685 Loss: 0.023232 | Val Acc: 0.319382 loss: 5.575704\n",
            "[167/3000] Train Acc: 0.993904 Loss: 0.018126 | Val Acc: 0.326900 loss: 5.615343\n",
            "[168/3000] Train Acc: 0.993701 Loss: 0.017394 | Val Acc: 0.330150 loss: 5.583812\n",
            "[169/3000] Train Acc: 0.994869 Loss: 0.015345 | Val Acc: 0.335839 loss: 5.533408\n",
            "[170/3000] Train Acc: 0.994057 Loss: 0.018666 | Val Acc: 0.347013 loss: 5.448267\n",
            "[171/3000] Train Acc: 0.993803 Loss: 0.017397 | Val Acc: 0.325274 loss: 5.702308\n",
            "[172/3000] Train Acc: 0.993752 Loss: 0.017423 | Val Acc: 0.319586 loss: 5.713300\n",
            "[173/3000] Train Acc: 0.993803 Loss: 0.018600 | Val Acc: 0.323852 loss: 5.691612\n",
            "[174/3000] Train Acc: 0.993396 Loss: 0.018451 | Val Acc: 0.341325 loss: 5.254816\n",
            "[175/3000] Train Acc: 0.993853 Loss: 0.019606 | Val Acc: 0.335026 loss: 5.434579\n",
            "[176/3000] Train Acc: 0.994920 Loss: 0.016523 | Val Acc: 0.329744 loss: 5.486039\n",
            "[177/3000] Train Acc: 0.994920 Loss: 0.015388 | Val Acc: 0.330760 loss: 5.623022\n",
            "[178/3000] Train Acc: 0.993396 Loss: 0.019091 | Val Acc: 0.345794 loss: 5.463430\n",
            "[179/3000] Train Acc: 0.993955 Loss: 0.018232 | Val Acc: 0.347623 loss: 5.350331\n",
            "[180/3000] Train Acc: 0.994006 Loss: 0.017613 | Val Acc: 0.349858 loss: 5.273842\n",
            "[181/3000] Train Acc: 0.994361 Loss: 0.016500 | Val Acc: 0.356969 loss: 5.173754\n",
            "saving model with acc 0.357\n",
            "[182/3000] Train Acc: 0.993396 Loss: 0.019042 | Val Acc: 0.339293 loss: 5.465918\n",
            "[183/3000] Train Acc: 0.994869 Loss: 0.015534 | Val Acc: 0.339293 loss: 5.500293\n",
            "[184/3000] Train Acc: 0.994615 Loss: 0.018554 | Val Acc: 0.344779 loss: 5.455232\n",
            "[185/3000] Train Acc: 0.994260 Loss: 0.015810 | Val Acc: 0.329947 loss: 5.486006\n",
            "[186/3000] Train Acc: 0.994666 Loss: 0.016575 | Val Acc: 0.323852 loss: 5.435810\n",
            "[187/3000] Train Acc: 0.994006 Loss: 0.017650 | Val Acc: 0.346404 loss: 5.147258\n",
            "[188/3000] Train Acc: 0.993904 Loss: 0.017087 | Val Acc: 0.335433 loss: 5.435139\n",
            "[189/3000] Train Acc: 0.994361 Loss: 0.016779 | Val Acc: 0.357985 loss: 5.314912\n",
            "saving model with acc 0.358\n",
            "[190/3000] Train Acc: 0.994412 Loss: 0.015579 | Val Acc: 0.331369 loss: 5.689281\n",
            "[191/3000] Train Acc: 0.993701 Loss: 0.017688 | Val Acc: 0.342747 loss: 5.314755\n",
            "[192/3000] Train Acc: 0.994920 Loss: 0.014927 | Val Acc: 0.339293 loss: 5.428642\n",
            "[193/3000] Train Acc: 0.995123 Loss: 0.014483 | Val Acc: 0.345388 loss: 5.443326\n",
            "[194/3000] Train Acc: 0.994565 Loss: 0.015678 | Val Acc: 0.326087 loss: 5.656591\n",
            "[195/3000] Train Acc: 0.994107 Loss: 0.018379 | Val Acc: 0.356562 loss: 5.199024\n",
            "[196/3000] Train Acc: 0.995631 Loss: 0.012998 | Val Acc: 0.354937 loss: 5.210828\n",
            "[197/3000] Train Acc: 0.994514 Loss: 0.015280 | Val Acc: 0.326493 loss: 5.539957\n",
            "[198/3000] Train Acc: 0.995936 Loss: 0.013365 | Val Acc: 0.331369 loss: 5.529894\n",
            "[199/3000] Train Acc: 0.995733 Loss: 0.012021 | Val Acc: 0.342950 loss: 5.382064\n",
            "[200/3000] Train Acc: 0.995225 Loss: 0.015440 | Val Acc: 0.365908 loss: 5.228358\n",
            "saving model with acc 0.366\n",
            "[201/3000] Train Acc: 0.996038 Loss: 0.012383 | Val Acc: 0.367737 loss: 5.161140\n",
            "saving model with acc 0.368\n",
            "[202/3000] Train Acc: 0.996749 Loss: 0.010207 | Val Acc: 0.361032 loss: 5.227176\n",
            "[203/3000] Train Acc: 0.996800 Loss: 0.008985 | Val Acc: 0.361032 loss: 5.284154\n",
            "[204/3000] Train Acc: 0.996800 Loss: 0.008027 | Val Acc: 0.361032 loss: 5.258911\n",
            "[205/3000] Train Acc: 0.997409 Loss: 0.007395 | Val Acc: 0.353312 loss: 5.320445\n",
            "[206/3000] Train Acc: 0.997105 Loss: 0.008289 | Val Acc: 0.358391 loss: 5.228162\n",
            "[207/3000] Train Acc: 0.998070 Loss: 0.006835 | Val Acc: 0.366315 loss: 5.188442\n",
            "[208/3000] Train Acc: 0.997562 Loss: 0.006742 | Val Acc: 0.364080 loss: 5.217317\n",
            "[209/3000] Train Acc: 0.997765 Loss: 0.006789 | Val Acc: 0.357172 loss: 5.293378\n",
            "[210/3000] Train Acc: 0.997816 Loss: 0.006409 | Val Acc: 0.361032 loss: 5.266977\n",
            "[211/3000] Train Acc: 0.998222 Loss: 0.005593 | Val Acc: 0.361032 loss: 5.219333\n",
            "[212/3000] Train Acc: 0.998374 Loss: 0.005119 | Val Acc: 0.356969 loss: 5.285575\n",
            "[213/3000] Train Acc: 0.998171 Loss: 0.004801 | Val Acc: 0.365705 loss: 5.150963\n",
            "[214/3000] Train Acc: 0.997562 Loss: 0.006403 | Val Acc: 0.365502 loss: 5.180412\n",
            "[215/3000] Train Acc: 0.998120 Loss: 0.005327 | Val Acc: 0.357578 loss: 5.311859\n",
            "[216/3000] Train Acc: 0.998324 Loss: 0.004273 | Val Acc: 0.364283 loss: 5.182898\n",
            "[217/3000] Train Acc: 0.998070 Loss: 0.005085 | Val Acc: 0.356562 loss: 5.284574\n",
            "[218/3000] Train Acc: 0.998476 Loss: 0.004487 | Val Acc: 0.357985 loss: 5.319983\n",
            "[219/3000] Train Acc: 0.998273 Loss: 0.004234 | Val Acc: 0.355140 loss: 5.294293\n",
            "[220/3000] Train Acc: 0.998781 Loss: 0.003946 | Val Acc: 0.358594 loss: 5.237583\n",
            "[221/3000] Train Acc: 0.998832 Loss: 0.003690 | Val Acc: 0.362454 loss: 5.220851\n",
            "[222/3000] Train Acc: 0.998933 Loss: 0.003588 | Val Acc: 0.357781 loss: 5.239919\n",
            "[223/3000] Train Acc: 0.998933 Loss: 0.003171 | Val Acc: 0.359813 loss: 5.241338\n",
            "[224/3000] Train Acc: 0.998730 Loss: 0.004461 | Val Acc: 0.357172 loss: 5.247286\n",
            "[225/3000] Train Acc: 0.998628 Loss: 0.004544 | Val Acc: 0.353312 loss: 5.326221\n",
            "[226/3000] Train Acc: 0.998832 Loss: 0.003007 | Val Acc: 0.361642 loss: 5.252872\n",
            "[227/3000] Train Acc: 0.998730 Loss: 0.003941 | Val Acc: 0.364283 loss: 5.258974\n",
            "[228/3000] Train Acc: 0.998476 Loss: 0.004744 | Val Acc: 0.365908 loss: 5.186550\n",
            "[229/3000] Train Acc: 0.999238 Loss: 0.002830 | Val Acc: 0.354531 loss: 5.335501\n",
            "[230/3000] Train Acc: 0.998476 Loss: 0.005210 | Val Acc: 0.356156 loss: 5.265707\n",
            "[231/3000] Train Acc: 0.999136 Loss: 0.003170 | Val Acc: 0.360829 loss: 5.287605\n",
            "[232/3000] Train Acc: 0.998781 Loss: 0.003248 | Val Acc: 0.362861 loss: 5.231373\n",
            "[233/3000] Train Acc: 0.999289 Loss: 0.002938 | Val Acc: 0.354734 loss: 5.309157\n",
            "[234/3000] Train Acc: 0.998984 Loss: 0.003040 | Val Acc: 0.352702 loss: 5.345402\n",
            "[235/3000] Train Acc: 0.998781 Loss: 0.003789 | Val Acc: 0.361032 loss: 5.209719\n",
            "[236/3000] Train Acc: 0.998933 Loss: 0.003902 | Val Acc: 0.365705 loss: 5.142391\n",
            "[237/3000] Train Acc: 0.999035 Loss: 0.003501 | Val Acc: 0.359813 loss: 5.224064\n",
            "[238/3000] Train Acc: 0.999340 Loss: 0.002447 | Val Acc: 0.353515 loss: 5.286457\n",
            "[239/3000] Train Acc: 0.998882 Loss: 0.003477 | Val Acc: 0.356969 loss: 5.261478\n",
            "[240/3000] Train Acc: 0.998984 Loss: 0.003543 | Val Acc: 0.353312 loss: 5.313744\n",
            "[241/3000] Train Acc: 0.998933 Loss: 0.002855 | Val Acc: 0.364486 loss: 5.105140\n",
            "[242/3000] Train Acc: 0.998933 Loss: 0.003300 | Val Acc: 0.369768 loss: 5.168386\n",
            "saving model with acc 0.370\n",
            "[243/3000] Train Acc: 0.998679 Loss: 0.003598 | Val Acc: 0.370784 loss: 5.106242\n",
            "saving model with acc 0.371\n",
            "[244/3000] Train Acc: 0.998781 Loss: 0.003778 | Val Acc: 0.369768 loss: 5.124157\n",
            "[245/3000] Train Acc: 0.998882 Loss: 0.003252 | Val Acc: 0.371191 loss: 5.138124\n",
            "saving model with acc 0.371\n",
            "[246/3000] Train Acc: 0.999289 Loss: 0.002806 | Val Acc: 0.362861 loss: 5.262123\n",
            "[247/3000] Train Acc: 0.999441 Loss: 0.002081 | Val Acc: 0.363267 loss: 5.226370\n",
            "[248/3000] Train Acc: 0.999086 Loss: 0.002663 | Val Acc: 0.367737 loss: 5.191516\n",
            "[249/3000] Train Acc: 0.998882 Loss: 0.003177 | Val Acc: 0.368753 loss: 5.141662\n",
            "[250/3000] Train Acc: 0.999289 Loss: 0.002535 | Val Acc: 0.371800 loss: 5.204908\n",
            "saving model with acc 0.372\n",
            "[251/3000] Train Acc: 0.999035 Loss: 0.003483 | Val Acc: 0.367330 loss: 5.256290\n",
            "[252/3000] Train Acc: 0.999238 Loss: 0.002453 | Val Acc: 0.366518 loss: 5.288314\n",
            "[253/3000] Train Acc: 0.999035 Loss: 0.002419 | Val Acc: 0.376879 loss: 5.138620\n",
            "saving model with acc 0.377\n",
            "[254/3000] Train Acc: 0.999136 Loss: 0.003288 | Val Acc: 0.368549 loss: 5.231507\n",
            "[255/3000] Train Acc: 0.998882 Loss: 0.003683 | Val Acc: 0.371597 loss: 5.137368\n",
            "[256/3000] Train Acc: 0.999594 Loss: 0.001906 | Val Acc: 0.374035 loss: 5.127144\n",
            "[257/3000] Train Acc: 0.998933 Loss: 0.002535 | Val Acc: 0.367940 loss: 5.236392\n",
            "[258/3000] Train Acc: 0.999086 Loss: 0.002839 | Val Acc: 0.364689 loss: 5.247718\n",
            "[259/3000] Train Acc: 0.999035 Loss: 0.002663 | Val Acc: 0.367940 loss: 5.267522\n",
            "[260/3000] Train Acc: 0.999136 Loss: 0.003192 | Val Acc: 0.368956 loss: 5.233482\n",
            "[261/3000] Train Acc: 0.999289 Loss: 0.002531 | Val Acc: 0.367737 loss: 5.282156\n",
            "[262/3000] Train Acc: 0.999340 Loss: 0.002306 | Val Acc: 0.368956 loss: 5.259896\n",
            "[263/3000] Train Acc: 0.999187 Loss: 0.002620 | Val Acc: 0.368956 loss: 5.218629\n",
            "[264/3000] Train Acc: 0.999492 Loss: 0.001949 | Val Acc: 0.366518 loss: 5.319287\n",
            "[265/3000] Train Acc: 0.999390 Loss: 0.001903 | Val Acc: 0.372410 loss: 5.209991\n",
            "[266/3000] Train Acc: 0.999492 Loss: 0.001899 | Val Acc: 0.369159 loss: 5.218480\n",
            "[267/3000] Train Acc: 0.999136 Loss: 0.002870 | Val Acc: 0.368753 loss: 5.250228\n",
            "[268/3000] Train Acc: 0.999543 Loss: 0.001791 | Val Acc: 0.368753 loss: 5.255603\n",
            "[269/3000] Train Acc: 0.999340 Loss: 0.002339 | Val Acc: 0.372003 loss: 5.206052\n",
            "[270/3000] Train Acc: 0.999441 Loss: 0.002132 | Val Acc: 0.372003 loss: 5.134406\n",
            "[271/3000] Train Acc: 0.999390 Loss: 0.002132 | Val Acc: 0.365299 loss: 5.276442\n",
            "[272/3000] Train Acc: 0.999289 Loss: 0.002436 | Val Acc: 0.364486 loss: 5.233118\n",
            "[273/3000] Train Acc: 0.999187 Loss: 0.002711 | Val Acc: 0.364486 loss: 5.263810\n",
            "[274/3000] Train Acc: 0.999238 Loss: 0.002061 | Val Acc: 0.370784 loss: 5.218559\n",
            "[275/3000] Train Acc: 0.999492 Loss: 0.002127 | Val Acc: 0.365908 loss: 5.305188\n",
            "[276/3000] Train Acc: 0.999340 Loss: 0.002532 | Val Acc: 0.366721 loss: 5.298658\n",
            "[277/3000] Train Acc: 0.999492 Loss: 0.002002 | Val Acc: 0.364080 loss: 5.295764\n",
            "[278/3000] Train Acc: 0.998882 Loss: 0.002709 | Val Acc: 0.366518 loss: 5.253820\n",
            "[279/3000] Train Acc: 0.998933 Loss: 0.003258 | Val Acc: 0.370784 loss: 5.237325\n",
            "[280/3000] Train Acc: 0.999340 Loss: 0.002427 | Val Acc: 0.364486 loss: 5.320069\n",
            "[281/3000] Train Acc: 0.999644 Loss: 0.001441 | Val Acc: 0.361032 loss: 5.350419\n",
            "[282/3000] Train Acc: 0.999238 Loss: 0.002111 | Val Acc: 0.364283 loss: 5.328867\n",
            "[283/3000] Train Acc: 0.999441 Loss: 0.002039 | Val Acc: 0.361235 loss: 5.360163\n",
            "[284/3000] Train Acc: 0.999238 Loss: 0.002125 | Val Acc: 0.360829 loss: 5.378010\n",
            "[285/3000] Train Acc: 0.999289 Loss: 0.002083 | Val Acc: 0.361235 loss: 5.427154\n",
            "[286/3000] Train Acc: 0.999441 Loss: 0.001914 | Val Acc: 0.364689 loss: 5.373981\n",
            "[287/3000] Train Acc: 0.999441 Loss: 0.001937 | Val Acc: 0.365705 loss: 5.329598\n",
            "[288/3000] Train Acc: 0.999289 Loss: 0.002750 | Val Acc: 0.361032 loss: 5.390142\n",
            "[289/3000] Train Acc: 0.999238 Loss: 0.002216 | Val Acc: 0.364892 loss: 5.352545\n",
            "[290/3000] Train Acc: 0.999289 Loss: 0.002235 | Val Acc: 0.368143 loss: 5.254909\n",
            "[291/3000] Train Acc: 0.999340 Loss: 0.001933 | Val Acc: 0.359610 loss: 5.449839\n",
            "[292/3000] Train Acc: 0.999390 Loss: 0.002092 | Val Acc: 0.364486 loss: 5.357587\n",
            "[293/3000] Train Acc: 0.999238 Loss: 0.003619 | Val Acc: 0.364283 loss: 5.355593\n",
            "[294/3000] Train Acc: 0.999136 Loss: 0.002685 | Val Acc: 0.367534 loss: 5.325376\n",
            "[295/3000] Train Acc: 0.999441 Loss: 0.002260 | Val Acc: 0.365502 loss: 5.343663\n",
            "[296/3000] Train Acc: 0.999492 Loss: 0.001808 | Val Acc: 0.366315 loss: 5.366164\n",
            "[297/3000] Train Acc: 0.999086 Loss: 0.002491 | Val Acc: 0.361032 loss: 5.370477\n",
            "[298/3000] Train Acc: 0.999238 Loss: 0.001925 | Val Acc: 0.362861 loss: 5.373960\n",
            "[299/3000] Train Acc: 0.999136 Loss: 0.002263 | Val Acc: 0.365095 loss: 5.248013\n",
            "[300/3000] Train Acc: 0.999187 Loss: 0.002058 | Val Acc: 0.361235 loss: 5.353047\n",
            "[301/3000] Train Acc: 0.999492 Loss: 0.001791 | Val Acc: 0.359610 loss: 5.353495\n",
            "[302/3000] Train Acc: 0.999390 Loss: 0.001913 | Val Acc: 0.360829 loss: 5.446455\n",
            "[303/3000] Train Acc: 0.999441 Loss: 0.001607 | Val Acc: 0.363267 loss: 5.411963\n",
            "[304/3000] Train Acc: 0.999594 Loss: 0.001755 | Val Acc: 0.366315 loss: 5.359248\n",
            "[305/3000] Train Acc: 0.999441 Loss: 0.001829 | Val Acc: 0.365299 loss: 5.361836\n",
            "[306/3000] Train Acc: 0.999441 Loss: 0.001966 | Val Acc: 0.371191 loss: 5.295417\n",
            "[307/3000] Train Acc: 0.999594 Loss: 0.001498 | Val Acc: 0.365095 loss: 5.436641\n",
            "[308/3000] Train Acc: 0.999390 Loss: 0.002070 | Val Acc: 0.366111 loss: 5.378681\n",
            "[309/3000] Train Acc: 0.999441 Loss: 0.001649 | Val Acc: 0.368143 loss: 5.394928\n",
            "[310/3000] Train Acc: 0.999441 Loss: 0.001836 | Val Acc: 0.366721 loss: 5.444121\n",
            "[311/3000] Train Acc: 0.999594 Loss: 0.001453 | Val Acc: 0.372816 loss: 5.329784\n",
            "[312/3000] Train Acc: 0.999441 Loss: 0.001738 | Val Acc: 0.367127 loss: 5.401990\n",
            "[313/3000] Train Acc: 0.999695 Loss: 0.001413 | Val Acc: 0.367127 loss: 5.376706\n",
            "[314/3000] Train Acc: 0.999340 Loss: 0.001826 | Val Acc: 0.371394 loss: 5.341227\n",
            "[315/3000] Train Acc: 0.999644 Loss: 0.001510 | Val Acc: 0.364486 loss: 5.402622\n",
            "[316/3000] Train Acc: 0.999695 Loss: 0.001586 | Val Acc: 0.364283 loss: 5.498965\n",
            "[317/3000] Train Acc: 0.999340 Loss: 0.001968 | Val Acc: 0.365502 loss: 5.473066\n",
            "[318/3000] Train Acc: 0.999594 Loss: 0.001727 | Val Acc: 0.369972 loss: 5.424673\n",
            "[319/3000] Train Acc: 0.999543 Loss: 0.001486 | Val Acc: 0.363673 loss: 5.445692\n",
            "[320/3000] Train Acc: 0.999492 Loss: 0.001624 | Val Acc: 0.363673 loss: 5.509739\n",
            "[321/3000] Train Acc: 0.999492 Loss: 0.001636 | Val Acc: 0.366721 loss: 5.460731\n",
            "[322/3000] Train Acc: 0.999289 Loss: 0.001794 | Val Acc: 0.365908 loss: 5.485995\n",
            "[323/3000] Train Acc: 0.999441 Loss: 0.001861 | Val Acc: 0.366111 loss: 5.458492\n",
            "[324/3000] Train Acc: 0.999695 Loss: 0.001344 | Val Acc: 0.365908 loss: 5.420196\n",
            "[325/3000] Train Acc: 0.999746 Loss: 0.001209 | Val Acc: 0.368753 loss: 5.443102\n",
            "[326/3000] Train Acc: 0.999644 Loss: 0.001489 | Val Acc: 0.363876 loss: 5.517030\n",
            "[327/3000] Train Acc: 0.999746 Loss: 0.001169 | Val Acc: 0.365299 loss: 5.437259\n",
            "[328/3000] Train Acc: 0.999644 Loss: 0.001527 | Val Acc: 0.363470 loss: 5.521823\n",
            "[329/3000] Train Acc: 0.999746 Loss: 0.001183 | Val Acc: 0.360626 loss: 5.506958\n",
            "[330/3000] Train Acc: 0.999390 Loss: 0.001728 | Val Acc: 0.366315 loss: 5.434251\n",
            "[331/3000] Train Acc: 0.999644 Loss: 0.001512 | Val Acc: 0.366721 loss: 5.518236\n",
            "[332/3000] Train Acc: 0.999695 Loss: 0.001375 | Val Acc: 0.369972 loss: 5.391300\n",
            "[333/3000] Train Acc: 0.999746 Loss: 0.001407 | Val Acc: 0.367940 loss: 5.378619\n",
            "[334/3000] Train Acc: 0.999543 Loss: 0.001525 | Val Acc: 0.362251 loss: 5.506358\n",
            "[335/3000] Train Acc: 0.999238 Loss: 0.001978 | Val Acc: 0.366111 loss: 5.447939\n",
            "[336/3000] Train Acc: 0.999441 Loss: 0.001591 | Val Acc: 0.369565 loss: 5.331486\n",
            "[337/3000] Train Acc: 0.999340 Loss: 0.001819 | Val Acc: 0.369159 loss: 5.391016\n",
            "[338/3000] Train Acc: 0.999238 Loss: 0.002327 | Val Acc: 0.367330 loss: 5.424158\n",
            "[339/3000] Train Acc: 0.999594 Loss: 0.001431 | Val Acc: 0.365502 loss: 5.464534\n",
            "[340/3000] Train Acc: 0.999543 Loss: 0.001689 | Val Acc: 0.365705 loss: 5.449415\n",
            "[341/3000] Train Acc: 0.999543 Loss: 0.001335 | Val Acc: 0.360219 loss: 5.463407\n",
            "[342/3000] Train Acc: 0.999594 Loss: 0.001541 | Val Acc: 0.359813 loss: 5.542741\n",
            "[343/3000] Train Acc: 0.999594 Loss: 0.001276 | Val Acc: 0.365908 loss: 5.474199\n",
            "[344/3000] Train Acc: 0.999848 Loss: 0.000907 | Val Acc: 0.368143 loss: 5.451228\n",
            "[345/3000] Train Acc: 0.999543 Loss: 0.001710 | Val Acc: 0.359204 loss: 5.574130\n",
            "[346/3000] Train Acc: 0.999289 Loss: 0.001780 | Val Acc: 0.356969 loss: 5.573775\n",
            "[347/3000] Train Acc: 0.999340 Loss: 0.002060 | Val Acc: 0.356969 loss: 5.593201\n",
            "[348/3000] Train Acc: 0.999238 Loss: 0.001873 | Val Acc: 0.362657 loss: 5.530414\n",
            "[349/3000] Train Acc: 0.999644 Loss: 0.001434 | Val Acc: 0.357985 loss: 5.611820\n",
            "[350/3000] Train Acc: 0.999543 Loss: 0.001457 | Val Acc: 0.363673 loss: 5.535178\n",
            "[351/3000] Train Acc: 0.999797 Loss: 0.001016 | Val Acc: 0.367940 loss: 5.423980\n",
            "[352/3000] Train Acc: 0.999644 Loss: 0.001298 | Val Acc: 0.365705 loss: 5.487255\n",
            "[353/3000] Train Acc: 0.999695 Loss: 0.001280 | Val Acc: 0.361642 loss: 5.599805\n",
            "[354/3000] Train Acc: 0.999695 Loss: 0.001163 | Val Acc: 0.369768 loss: 5.477742\n",
            "[355/3000] Train Acc: 0.999441 Loss: 0.001684 | Val Acc: 0.369362 loss: 5.423909\n",
            "[356/3000] Train Acc: 0.999644 Loss: 0.001324 | Val Acc: 0.375254 loss: 5.364401\n",
            "[357/3000] Train Acc: 0.999543 Loss: 0.001707 | Val Acc: 0.372206 loss: 5.400455\n",
            "[358/3000] Train Acc: 0.999644 Loss: 0.001245 | Val Acc: 0.370175 loss: 5.385817\n",
            "[359/3000] Train Acc: 0.999492 Loss: 0.001769 | Val Acc: 0.372410 loss: 5.408045\n",
            "[360/3000] Train Acc: 0.999289 Loss: 0.002206 | Val Acc: 0.367737 loss: 5.475719\n",
            "[361/3000] Train Acc: 0.999644 Loss: 0.001334 | Val Acc: 0.365908 loss: 5.480867\n",
            "[362/3000] Train Acc: 0.999390 Loss: 0.001601 | Val Acc: 0.368143 loss: 5.467213\n",
            "[363/3000] Train Acc: 0.999543 Loss: 0.001473 | Val Acc: 0.372206 loss: 5.393700\n",
            "[364/3000] Train Acc: 0.999644 Loss: 0.001254 | Val Acc: 0.366721 loss: 5.480693\n",
            "[365/3000] Train Acc: 0.999594 Loss: 0.001700 | Val Acc: 0.362861 loss: 5.579718\n",
            "[366/3000] Train Acc: 0.999594 Loss: 0.001713 | Val Acc: 0.363876 loss: 5.626859\n",
            "[367/3000] Train Acc: 0.999187 Loss: 0.002481 | Val Acc: 0.359407 loss: 5.642554\n",
            "[368/3000] Train Acc: 0.999492 Loss: 0.001275 | Val Acc: 0.369159 loss: 5.468782\n",
            "[369/3000] Train Acc: 0.999594 Loss: 0.001711 | Val Acc: 0.366924 loss: 5.483902\n",
            "[370/3000] Train Acc: 0.999644 Loss: 0.001338 | Val Acc: 0.366924 loss: 5.535931\n",
            "[371/3000] Train Acc: 0.999492 Loss: 0.001452 | Val Acc: 0.373222 loss: 5.473141\n",
            "[372/3000] Train Acc: 0.999492 Loss: 0.002014 | Val Acc: 0.370581 loss: 5.452871\n",
            "[373/3000] Train Acc: 0.999340 Loss: 0.001647 | Val Acc: 0.365095 loss: 5.555200\n",
            "[374/3000] Train Acc: 0.999390 Loss: 0.001575 | Val Acc: 0.371597 loss: 5.447197\n",
            "[375/3000] Train Acc: 0.999594 Loss: 0.001411 | Val Acc: 0.368753 loss: 5.453546\n",
            "[376/3000] Train Acc: 0.999594 Loss: 0.001215 | Val Acc: 0.376270 loss: 5.367487\n",
            "[377/3000] Train Acc: 0.999340 Loss: 0.001468 | Val Acc: 0.367737 loss: 5.489622\n",
            "[378/3000] Train Acc: 0.999695 Loss: 0.001539 | Val Acc: 0.375254 loss: 5.403143\n",
            "[379/3000] Train Acc: 0.999340 Loss: 0.001988 | Val Acc: 0.365705 loss: 5.485346\n",
            "[380/3000] Train Acc: 0.999543 Loss: 0.001219 | Val Acc: 0.376676 loss: 5.385770\n",
            "[381/3000] Train Acc: 0.999594 Loss: 0.001472 | Val Acc: 0.373629 loss: 5.426476\n",
            "[382/3000] Train Acc: 0.999492 Loss: 0.001645 | Val Acc: 0.373019 loss: 5.460021\n",
            "[383/3000] Train Acc: 0.999594 Loss: 0.001156 | Val Acc: 0.366315 loss: 5.570781\n",
            "[384/3000] Train Acc: 0.999492 Loss: 0.002068 | Val Acc: 0.369159 loss: 5.522694\n",
            "[385/3000] Train Acc: 0.999492 Loss: 0.001596 | Val Acc: 0.366721 loss: 5.554899\n",
            "[386/3000] Train Acc: 0.999644 Loss: 0.001615 | Val Acc: 0.369565 loss: 5.468027\n",
            "[387/3000] Train Acc: 0.999746 Loss: 0.000960 | Val Acc: 0.371191 loss: 5.473546\n",
            "[388/3000] Train Acc: 0.999441 Loss: 0.001904 | Val Acc: 0.364486 loss: 5.605062\n",
            "[389/3000] Train Acc: 0.999543 Loss: 0.001696 | Val Acc: 0.363470 loss: 5.602064\n",
            "[390/3000] Train Acc: 0.999543 Loss: 0.001141 | Val Acc: 0.365095 loss: 5.543947\n",
            "[391/3000] Train Acc: 0.999441 Loss: 0.001657 | Val Acc: 0.363064 loss: 5.578352\n",
            "[392/3000] Train Acc: 0.999797 Loss: 0.001049 | Val Acc: 0.366721 loss: 5.540933\n",
            "[393/3000] Train Acc: 0.999492 Loss: 0.001539 | Val Acc: 0.365299 loss: 5.547936\n",
            "[394/3000] Train Acc: 0.999695 Loss: 0.001234 | Val Acc: 0.365705 loss: 5.621815\n",
            "[395/3000] Train Acc: 0.999492 Loss: 0.001554 | Val Acc: 0.367330 loss: 5.567081\n",
            "[396/3000] Train Acc: 0.999390 Loss: 0.001508 | Val Acc: 0.368346 loss: 5.499541\n",
            "[397/3000] Train Acc: 0.999492 Loss: 0.001350 | Val Acc: 0.375457 loss: 5.418766\n",
            "[398/3000] Train Acc: 0.999594 Loss: 0.001114 | Val Acc: 0.370987 loss: 5.512542\n",
            "[399/3000] Train Acc: 0.999594 Loss: 0.001835 | Val Acc: 0.372003 loss: 5.534653\n",
            "[400/3000] Train Acc: 0.999441 Loss: 0.001655 | Val Acc: 0.364080 loss: 5.679257\n",
            "[401/3000] Train Acc: 0.999543 Loss: 0.001617 | Val Acc: 0.378098 loss: 5.463504\n",
            "saving model with acc 0.378\n",
            "[402/3000] Train Acc: 0.999492 Loss: 0.001653 | Val Acc: 0.380943 loss: 5.412603\n",
            "saving model with acc 0.381\n",
            "[403/3000] Train Acc: 0.999746 Loss: 0.000924 | Val Acc: 0.369972 loss: 5.604569\n",
            "[404/3000] Train Acc: 0.999390 Loss: 0.001449 | Val Acc: 0.369768 loss: 5.558195\n",
            "[405/3000] Train Acc: 0.999340 Loss: 0.001593 | Val Acc: 0.368549 loss: 5.576406\n",
            "[406/3000] Train Acc: 0.999695 Loss: 0.001528 | Val Acc: 0.369159 loss: 5.597273\n",
            "[407/3000] Train Acc: 0.999644 Loss: 0.001103 | Val Acc: 0.370987 loss: 5.584733\n",
            "[408/3000] Train Acc: 0.999644 Loss: 0.001091 | Val Acc: 0.377895 loss: 5.433022\n",
            "[409/3000] Train Acc: 0.999644 Loss: 0.001228 | Val Acc: 0.378911 loss: 5.466495\n",
            "[410/3000] Train Acc: 0.999746 Loss: 0.001029 | Val Acc: 0.368956 loss: 5.604431\n",
            "[411/3000] Train Acc: 0.999644 Loss: 0.001135 | Val Acc: 0.362657 loss: 5.693281\n",
            "[412/3000] Train Acc: 0.999746 Loss: 0.001274 | Val Acc: 0.372410 loss: 5.557941\n",
            "[413/3000] Train Acc: 0.999390 Loss: 0.002099 | Val Acc: 0.371191 loss: 5.564447\n",
            "[414/3000] Train Acc: 0.999543 Loss: 0.001083 | Val Acc: 0.374848 loss: 5.458052\n",
            "[415/3000] Train Acc: 0.999644 Loss: 0.001253 | Val Acc: 0.374035 loss: 5.502039\n",
            "[416/3000] Train Acc: 0.999644 Loss: 0.001317 | Val Acc: 0.372003 loss: 5.549731\n",
            "[417/3000] Train Acc: 0.999746 Loss: 0.000914 | Val Acc: 0.374035 loss: 5.495514\n",
            "[418/3000] Train Acc: 0.999594 Loss: 0.001608 | Val Acc: 0.371191 loss: 5.572397\n",
            "[419/3000] Train Acc: 0.999695 Loss: 0.001038 | Val Acc: 0.371597 loss: 5.546053\n",
            "[420/3000] Train Acc: 0.999746 Loss: 0.000987 | Val Acc: 0.377082 loss: 5.524553\n",
            "[421/3000] Train Acc: 0.999594 Loss: 0.001460 | Val Acc: 0.370378 loss: 5.531409\n",
            "[422/3000] Train Acc: 0.999644 Loss: 0.001173 | Val Acc: 0.367737 loss: 5.582947\n",
            "[423/3000] Train Acc: 0.999695 Loss: 0.001254 | Val Acc: 0.370378 loss: 5.547166\n",
            "[424/3000] Train Acc: 0.999594 Loss: 0.001352 | Val Acc: 0.366518 loss: 5.636099\n",
            "[425/3000] Train Acc: 0.999594 Loss: 0.001106 | Val Acc: 0.369768 loss: 5.572919\n",
            "[426/3000] Train Acc: 0.999594 Loss: 0.001322 | Val Acc: 0.374441 loss: 5.505745\n",
            "[427/3000] Train Acc: 0.999390 Loss: 0.001779 | Val Acc: 0.373222 loss: 5.530081\n",
            "[428/3000] Train Acc: 0.999848 Loss: 0.000739 | Val Acc: 0.369768 loss: 5.533568\n",
            "[429/3000] Train Acc: 0.999695 Loss: 0.001058 | Val Acc: 0.363673 loss: 5.644229\n",
            "[430/3000] Train Acc: 0.999746 Loss: 0.001018 | Val Acc: 0.372613 loss: 5.511371\n",
            "[431/3000] Train Acc: 0.999441 Loss: 0.001618 | Val Acc: 0.365502 loss: 5.643777\n",
            "[432/3000] Train Acc: 0.999644 Loss: 0.001166 | Val Acc: 0.368956 loss: 5.578099\n",
            "[433/3000] Train Acc: 0.999695 Loss: 0.001090 | Val Acc: 0.367330 loss: 5.527815\n",
            "[434/3000] Train Acc: 0.999543 Loss: 0.001451 | Val Acc: 0.376676 loss: 5.415631\n",
            "[435/3000] Train Acc: 0.999644 Loss: 0.001939 | Val Acc: 0.374238 loss: 5.493059\n",
            "[436/3000] Train Acc: 0.999594 Loss: 0.001442 | Val Acc: 0.369565 loss: 5.551997\n",
            "[437/3000] Train Acc: 0.999594 Loss: 0.001172 | Val Acc: 0.371191 loss: 5.511053\n",
            "[438/3000] Train Acc: 0.999797 Loss: 0.000919 | Val Acc: 0.376676 loss: 5.456377\n",
            "[439/3000] Train Acc: 0.999441 Loss: 0.001477 | Val Acc: 0.377692 loss: 5.427203\n",
            "[440/3000] Train Acc: 0.999543 Loss: 0.001448 | Val Acc: 0.370784 loss: 5.555299\n",
            "[441/3000] Train Acc: 0.999543 Loss: 0.001119 | Val Acc: 0.376270 loss: 5.493719\n",
            "[442/3000] Train Acc: 0.999441 Loss: 0.001389 | Val Acc: 0.375051 loss: 5.514268\n",
            "[443/3000] Train Acc: 0.999695 Loss: 0.001013 | Val Acc: 0.374644 loss: 5.484143\n",
            "[444/3000] Train Acc: 0.999644 Loss: 0.001197 | Val Acc: 0.370581 loss: 5.568158\n",
            "[445/3000] Train Acc: 0.999644 Loss: 0.001396 | Val Acc: 0.370987 loss: 5.501685\n",
            "[446/3000] Train Acc: 0.999746 Loss: 0.001162 | Val Acc: 0.373222 loss: 5.500578\n",
            "[447/3000] Train Acc: 0.999543 Loss: 0.001106 | Val Acc: 0.369768 loss: 5.534273\n",
            "[448/3000] Train Acc: 0.999594 Loss: 0.001322 | Val Acc: 0.369768 loss: 5.574963\n",
            "[449/3000] Train Acc: 0.999746 Loss: 0.001029 | Val Acc: 0.374644 loss: 5.510070\n",
            "[450/3000] Train Acc: 0.999594 Loss: 0.001359 | Val Acc: 0.374238 loss: 5.489642\n",
            "[451/3000] Train Acc: 0.999695 Loss: 0.001026 | Val Acc: 0.378098 loss: 5.429979\n",
            "[452/3000] Train Acc: 0.999848 Loss: 0.000897 | Val Acc: 0.375051 loss: 5.445874\n",
            "[453/3000] Train Acc: 0.999746 Loss: 0.001084 | Val Acc: 0.375254 loss: 5.425043\n",
            "[454/3000] Train Acc: 0.999594 Loss: 0.001167 | Val Acc: 0.377286 loss: 5.491662\n",
            "[455/3000] Train Acc: 0.999543 Loss: 0.002124 | Val Acc: 0.382162 loss: 5.321373\n",
            "saving model with acc 0.382\n",
            "[456/3000] Train Acc: 0.999695 Loss: 0.001242 | Val Acc: 0.367330 loss: 5.582816\n",
            "[457/3000] Train Acc: 0.999543 Loss: 0.001140 | Val Acc: 0.369565 loss: 5.541334\n",
            "[458/3000] Train Acc: 0.999594 Loss: 0.001270 | Val Acc: 0.372003 loss: 5.530402\n",
            "[459/3000] Train Acc: 0.999492 Loss: 0.001647 | Val Acc: 0.376473 loss: 5.500694\n",
            "[460/3000] Train Acc: 0.999695 Loss: 0.000989 | Val Acc: 0.371800 loss: 5.509402\n",
            "[461/3000] Train Acc: 0.999746 Loss: 0.000896 | Val Acc: 0.370987 loss: 5.515292\n",
            "[462/3000] Train Acc: 0.999441 Loss: 0.001130 | Val Acc: 0.374441 loss: 5.487197\n",
            "[463/3000] Train Acc: 0.999695 Loss: 0.001038 | Val Acc: 0.368753 loss: 5.550515\n",
            "[464/3000] Train Acc: 0.999594 Loss: 0.001191 | Val Acc: 0.375863 loss: 5.456364\n",
            "[465/3000] Train Acc: 0.999949 Loss: 0.000604 | Val Acc: 0.367127 loss: 5.593000\n",
            "[466/3000] Train Acc: 0.999492 Loss: 0.001726 | Val Acc: 0.376473 loss: 5.442047\n",
            "[467/3000] Train Acc: 0.999848 Loss: 0.000779 | Val Acc: 0.367534 loss: 5.566323\n",
            "[468/3000] Train Acc: 0.999797 Loss: 0.000791 | Val Acc: 0.383787 loss: 5.373440\n",
            "saving model with acc 0.384\n",
            "[469/3000] Train Acc: 0.999594 Loss: 0.001065 | Val Acc: 0.372613 loss: 5.476690\n",
            "[470/3000] Train Acc: 0.999695 Loss: 0.001095 | Val Acc: 0.380740 loss: 5.400320\n",
            "[471/3000] Train Acc: 0.999594 Loss: 0.001142 | Val Acc: 0.367737 loss: 5.542895\n",
            "[472/3000] Train Acc: 0.999594 Loss: 0.001100 | Val Acc: 0.372206 loss: 5.487403\n",
            "[473/3000] Train Acc: 0.999644 Loss: 0.001385 | Val Acc: 0.371800 loss: 5.498201\n",
            "[474/3000] Train Acc: 0.999543 Loss: 0.001707 | Val Acc: 0.376879 loss: 5.451829\n",
            "[475/3000] Train Acc: 0.999543 Loss: 0.001035 | Val Acc: 0.364689 loss: 5.586249\n",
            "[476/3000] Train Acc: 0.999746 Loss: 0.001132 | Val Acc: 0.376879 loss: 5.430865\n",
            "[477/3000] Train Acc: 0.999746 Loss: 0.000958 | Val Acc: 0.373629 loss: 5.502207\n",
            "[478/3000] Train Acc: 0.999746 Loss: 0.000924 | Val Acc: 0.364486 loss: 5.650591\n",
            "[479/3000] Train Acc: 0.999797 Loss: 0.000798 | Val Acc: 0.376676 loss: 5.432294\n",
            "[480/3000] Train Acc: 0.999695 Loss: 0.001076 | Val Acc: 0.379317 loss: 5.404834\n",
            "[481/3000] Train Acc: 0.999695 Loss: 0.001163 | Val Acc: 0.378302 loss: 5.425572\n",
            "[482/3000] Train Acc: 0.999492 Loss: 0.001644 | Val Acc: 0.378098 loss: 5.422827\n",
            "[483/3000] Train Acc: 0.999441 Loss: 0.001416 | Val Acc: 0.361235 loss: 5.703641\n",
            "[484/3000] Train Acc: 0.999594 Loss: 0.001388 | Val Acc: 0.374441 loss: 5.488908\n",
            "[485/3000] Train Acc: 0.999644 Loss: 0.001417 | Val Acc: 0.364283 loss: 5.645177\n",
            "[486/3000] Train Acc: 0.999644 Loss: 0.001524 | Val Acc: 0.363267 loss: 5.634301\n",
            "[487/3000] Train Acc: 0.999848 Loss: 0.000866 | Val Acc: 0.374441 loss: 5.466238\n",
            "[488/3000] Train Acc: 0.999644 Loss: 0.001156 | Val Acc: 0.375660 loss: 5.459784\n",
            "[489/3000] Train Acc: 0.999797 Loss: 0.000877 | Val Acc: 0.367127 loss: 5.564315\n",
            "[490/3000] Train Acc: 0.999492 Loss: 0.001931 | Val Acc: 0.367534 loss: 5.594701\n",
            "[491/3000] Train Acc: 0.999543 Loss: 0.001088 | Val Acc: 0.375051 loss: 5.488800\n",
            "[492/3000] Train Acc: 0.999746 Loss: 0.001245 | Val Acc: 0.370784 loss: 5.526336\n",
            "[493/3000] Train Acc: 0.999390 Loss: 0.001891 | Val Acc: 0.372410 loss: 5.484895\n",
            "[494/3000] Train Acc: 0.999594 Loss: 0.001591 | Val Acc: 0.369565 loss: 5.531996\n",
            "[495/3000] Train Acc: 0.999644 Loss: 0.001087 | Val Acc: 0.372206 loss: 5.504521\n",
            "[496/3000] Train Acc: 0.999746 Loss: 0.000901 | Val Acc: 0.368956 loss: 5.564594\n",
            "[497/3000] Train Acc: 0.999695 Loss: 0.001032 | Val Acc: 0.378098 loss: 5.380232\n",
            "[498/3000] Train Acc: 0.999746 Loss: 0.000955 | Val Acc: 0.375660 loss: 5.498135\n",
            "[499/3000] Train Acc: 0.999949 Loss: 0.000646 | Val Acc: 0.366315 loss: 5.563127\n",
            "[500/3000] Train Acc: 0.999543 Loss: 0.001181 | Val Acc: 0.365095 loss: 5.569154\n",
            "[501/3000] Train Acc: 0.999797 Loss: 0.001130 | Val Acc: 0.371394 loss: 5.510379\n",
            "[502/3000] Train Acc: 0.999695 Loss: 0.001352 | Val Acc: 0.377692 loss: 5.393282\n",
            "[503/3000] Train Acc: 0.999644 Loss: 0.001391 | Val Acc: 0.369159 loss: 5.524766\n",
            "[504/3000] Train Acc: 0.999390 Loss: 0.001589 | Val Acc: 0.369565 loss: 5.538259\n",
            "[505/3000] Train Acc: 0.999898 Loss: 0.000710 | Val Acc: 0.377692 loss: 5.412142\n",
            "[506/3000] Train Acc: 0.999492 Loss: 0.001043 | Val Acc: 0.374035 loss: 5.426652\n",
            "[507/3000] Train Acc: 0.999797 Loss: 0.000637 | Val Acc: 0.369972 loss: 5.553547\n",
            "[508/3000] Train Acc: 0.999390 Loss: 0.001690 | Val Acc: 0.376270 loss: 5.483578\n",
            "[509/3000] Train Acc: 0.999695 Loss: 0.001164 | Val Acc: 0.374644 loss: 5.445789\n",
            "[510/3000] Train Acc: 0.999390 Loss: 0.001622 | Val Acc: 0.372410 loss: 5.506753\n",
            "[511/3000] Train Acc: 0.999695 Loss: 0.001457 | Val Acc: 0.371597 loss: 5.469231\n",
            "[512/3000] Train Acc: 0.999492 Loss: 0.001254 | Val Acc: 0.379317 loss: 5.391205\n",
            "[513/3000] Train Acc: 0.999695 Loss: 0.000902 | Val Acc: 0.368143 loss: 5.555905\n",
            "[514/3000] Train Acc: 0.999543 Loss: 0.001112 | Val Acc: 0.374035 loss: 5.483832\n",
            "[515/3000] Train Acc: 0.999695 Loss: 0.001315 | Val Acc: 0.373832 loss: 5.453153\n",
            "[516/3000] Train Acc: 0.999746 Loss: 0.001054 | Val Acc: 0.370784 loss: 5.509069\n",
            "[517/3000] Train Acc: 0.999746 Loss: 0.001155 | Val Acc: 0.373629 loss: 5.425885\n",
            "[518/3000] Train Acc: 0.999594 Loss: 0.001511 | Val Acc: 0.364689 loss: 5.593297\n",
            "[519/3000] Train Acc: 0.999492 Loss: 0.001840 | Val Acc: 0.375254 loss: 5.460087\n",
            "[520/3000] Train Acc: 0.999340 Loss: 0.001513 | Val Acc: 0.374238 loss: 5.486919\n",
            "[521/3000] Train Acc: 0.999594 Loss: 0.001590 | Val Acc: 0.371597 loss: 5.477294\n",
            "[522/3000] Train Acc: 0.999644 Loss: 0.001001 | Val Acc: 0.376067 loss: 5.426928\n",
            "[523/3000] Train Acc: 0.999492 Loss: 0.001444 | Val Acc: 0.366924 loss: 5.567002\n",
            "[524/3000] Train Acc: 0.999848 Loss: 0.000917 | Val Acc: 0.373832 loss: 5.501239\n",
            "[525/3000] Train Acc: 0.999746 Loss: 0.001235 | Val Acc: 0.374035 loss: 5.485850\n",
            "[526/3000] Train Acc: 0.999543 Loss: 0.001235 | Val Acc: 0.370175 loss: 5.529817\n",
            "[527/3000] Train Acc: 0.999594 Loss: 0.001238 | Val Acc: 0.375863 loss: 5.482125\n",
            "[528/3000] Train Acc: 0.999594 Loss: 0.001074 | Val Acc: 0.372410 loss: 5.479469\n",
            "[529/3000] Train Acc: 0.999898 Loss: 0.000617 | Val Acc: 0.374035 loss: 5.477759\n",
            "[530/3000] Train Acc: 0.999695 Loss: 0.000843 | Val Acc: 0.367330 loss: 5.577486\n",
            "[531/3000] Train Acc: 0.999746 Loss: 0.000766 | Val Acc: 0.374848 loss: 5.427202\n",
            "[532/3000] Train Acc: 0.999746 Loss: 0.000948 | Val Acc: 0.371597 loss: 5.505300\n",
            "[533/3000] Train Acc: 0.999746 Loss: 0.001137 | Val Acc: 0.377286 loss: 5.489901\n",
            "[534/3000] Train Acc: 0.999797 Loss: 0.000874 | Val Acc: 0.376270 loss: 5.451636\n",
            "[535/3000] Train Acc: 0.999746 Loss: 0.000970 | Val Acc: 0.369362 loss: 5.563025\n",
            "[536/3000] Train Acc: 0.999746 Loss: 0.000880 | Val Acc: 0.374644 loss: 5.461173\n",
            "[537/3000] Train Acc: 0.999746 Loss: 0.000934 | Val Acc: 0.374644 loss: 5.459813\n",
            "[538/3000] Train Acc: 0.999644 Loss: 0.001141 | Val Acc: 0.369768 loss: 5.565391\n",
            "[539/3000] Train Acc: 0.999543 Loss: 0.001207 | Val Acc: 0.369768 loss: 5.566708\n",
            "[540/3000] Train Acc: 0.999797 Loss: 0.001034 | Val Acc: 0.370987 loss: 5.512461\n",
            "[541/3000] Train Acc: 0.999746 Loss: 0.000844 | Val Acc: 0.376270 loss: 5.472468\n",
            "[542/3000] Train Acc: 0.999441 Loss: 0.001525 | Val Acc: 0.377082 loss: 5.466055\n",
            "[543/3000] Train Acc: 0.999695 Loss: 0.001106 | Val Acc: 0.374238 loss: 5.455624\n",
            "[544/3000] Train Acc: 0.999695 Loss: 0.001425 | Val Acc: 0.376270 loss: 5.441607\n",
            "[545/3000] Train Acc: 0.999848 Loss: 0.000652 | Val Acc: 0.373629 loss: 5.518077\n",
            "[546/3000] Train Acc: 0.999797 Loss: 0.000776 | Val Acc: 0.369362 loss: 5.535357\n",
            "[547/3000] Train Acc: 0.999746 Loss: 0.000767 | Val Acc: 0.368143 loss: 5.592203\n",
            "[548/3000] Train Acc: 0.999848 Loss: 0.000726 | Val Acc: 0.370175 loss: 5.507216\n",
            "[549/3000] Train Acc: 0.999746 Loss: 0.000961 | Val Acc: 0.365095 loss: 5.612930\n",
            "[550/3000] Train Acc: 0.999644 Loss: 0.001552 | Val Acc: 0.375863 loss: 5.476366\n",
            "[551/3000] Train Acc: 0.999898 Loss: 0.000832 | Val Acc: 0.371597 loss: 5.494817\n",
            "[552/3000] Train Acc: 0.999492 Loss: 0.001158 | Val Acc: 0.367737 loss: 5.564943\n",
            "[553/3000] Train Acc: 0.999695 Loss: 0.001006 | Val Acc: 0.373629 loss: 5.518010\n",
            "[554/3000] Train Acc: 0.999746 Loss: 0.000839 | Val Acc: 0.377489 loss: 5.453667\n",
            "[555/3000] Train Acc: 0.999797 Loss: 0.000811 | Val Acc: 0.371597 loss: 5.549195\n",
            "[556/3000] Train Acc: 0.999949 Loss: 0.000532 | Val Acc: 0.368753 loss: 5.547063\n",
            "[557/3000] Train Acc: 0.999644 Loss: 0.001343 | Val Acc: 0.368956 loss: 5.553711\n",
            "[558/3000] Train Acc: 0.999441 Loss: 0.001675 | Val Acc: 0.370987 loss: 5.525244\n",
            "[559/3000] Train Acc: 0.999848 Loss: 0.000883 | Val Acc: 0.368549 loss: 5.546845\n",
            "[560/3000] Train Acc: 0.999644 Loss: 0.000929 | Val Acc: 0.369565 loss: 5.618647\n",
            "[561/3000] Train Acc: 0.999848 Loss: 0.000793 | Val Acc: 0.367330 loss: 5.560814\n",
            "[562/3000] Train Acc: 0.999695 Loss: 0.001037 | Val Acc: 0.370378 loss: 5.478471\n",
            "[563/3000] Train Acc: 0.999746 Loss: 0.000771 | Val Acc: 0.374441 loss: 5.447132\n",
            "[564/3000] Train Acc: 0.999695 Loss: 0.000898 | Val Acc: 0.369972 loss: 5.538590\n",
            "[565/3000] Train Acc: 0.999898 Loss: 0.000719 | Val Acc: 0.366315 loss: 5.575283\n",
            "[566/3000] Train Acc: 0.999695 Loss: 0.000993 | Val Acc: 0.376676 loss: 5.398112\n",
            "[567/3000] Train Acc: 0.999644 Loss: 0.000975 | Val Acc: 0.371394 loss: 5.486373\n",
            "[568/3000] Train Acc: 0.999644 Loss: 0.001468 | Val Acc: 0.368956 loss: 5.531308\n",
            "[569/3000] Train Acc: 0.999695 Loss: 0.000757 | Val Acc: 0.366111 loss: 5.573382\n",
            "[570/3000] Train Acc: 0.999695 Loss: 0.001378 | Val Acc: 0.367534 loss: 5.515470\n",
            "[571/3000] Train Acc: 0.999543 Loss: 0.001206 | Val Acc: 0.373222 loss: 5.501158\n",
            "[572/3000] Train Acc: 0.999949 Loss: 0.000534 | Val Acc: 0.370175 loss: 5.535818\n",
            "[573/3000] Train Acc: 0.999746 Loss: 0.001044 | Val Acc: 0.367534 loss: 5.539574\n",
            "[574/3000] Train Acc: 0.999543 Loss: 0.001059 | Val Acc: 0.369768 loss: 5.505420\n",
            "[575/3000] Train Acc: 0.999695 Loss: 0.000887 | Val Acc: 0.371394 loss: 5.492837\n",
            "[576/3000] Train Acc: 0.999797 Loss: 0.000769 | Val Acc: 0.369362 loss: 5.506843\n",
            "[577/3000] Train Acc: 0.999340 Loss: 0.001518 | Val Acc: 0.379521 loss: 5.365601\n",
            "[578/3000] Train Acc: 0.999594 Loss: 0.001058 | Val Acc: 0.367127 loss: 5.568710\n",
            "[579/3000] Train Acc: 0.999797 Loss: 0.000819 | Val Acc: 0.363470 loss: 5.619537\n",
            "[580/3000] Train Acc: 0.999644 Loss: 0.001010 | Val Acc: 0.373425 loss: 5.467714\n",
            "[581/3000] Train Acc: 0.999848 Loss: 0.000624 | Val Acc: 0.374035 loss: 5.458043\n",
            "[582/3000] Train Acc: 0.999746 Loss: 0.000974 | Val Acc: 0.368143 loss: 5.572811\n",
            "[583/3000] Train Acc: 0.999644 Loss: 0.001286 | Val Acc: 0.369972 loss: 5.491497\n",
            "[584/3000] Train Acc: 0.999492 Loss: 0.001407 | Val Acc: 0.369159 loss: 5.551800\n",
            "[585/3000] Train Acc: 0.999746 Loss: 0.001198 | Val Acc: 0.376879 loss: 5.385374\n",
            "[586/3000] Train Acc: 0.999848 Loss: 0.000854 | Val Acc: 0.367534 loss: 5.567348\n",
            "[587/3000] Train Acc: 0.999594 Loss: 0.001492 | Val Acc: 0.366924 loss: 5.609309\n",
            "[588/3000] Train Acc: 0.999848 Loss: 0.000788 | Val Acc: 0.366924 loss: 5.547895\n",
            "[589/3000] Train Acc: 0.999746 Loss: 0.000909 | Val Acc: 0.368956 loss: 5.510653\n",
            "[590/3000] Train Acc: 0.999644 Loss: 0.001120 | Val Acc: 0.364689 loss: 5.604706\n",
            "[591/3000] Train Acc: 0.999797 Loss: 0.000831 | Val Acc: 0.373019 loss: 5.514125\n",
            "[592/3000] Train Acc: 0.999746 Loss: 0.000881 | Val Acc: 0.373629 loss: 5.462738\n",
            "[593/3000] Train Acc: 0.999543 Loss: 0.001551 | Val Acc: 0.366111 loss: 5.563394\n",
            "[594/3000] Train Acc: 0.999644 Loss: 0.000971 | Val Acc: 0.376676 loss: 5.423632\n",
            "[595/3000] Train Acc: 0.999695 Loss: 0.001054 | Val Acc: 0.378098 loss: 5.394587\n",
            "[596/3000] Train Acc: 0.999695 Loss: 0.001060 | Val Acc: 0.376473 loss: 5.438902\n",
            "[597/3000] Train Acc: 0.999594 Loss: 0.001271 | Val Acc: 0.376473 loss: 5.402235\n",
            "[598/3000] Train Acc: 0.999695 Loss: 0.001489 | Val Acc: 0.366721 loss: 5.489000\n",
            "[599/3000] Train Acc: 0.999594 Loss: 0.001554 | Val Acc: 0.367737 loss: 5.538410\n",
            "[600/3000] Train Acc: 0.999746 Loss: 0.000934 | Val Acc: 0.376676 loss: 5.402298\n",
            "[601/3000] Train Acc: 0.999746 Loss: 0.000862 | Val Acc: 0.377692 loss: 5.432025\n",
            "[602/3000] Train Acc: 0.999797 Loss: 0.000631 | Val Acc: 0.376473 loss: 5.453612\n",
            "[603/3000] Train Acc: 0.999695 Loss: 0.001023 | Val Acc: 0.375457 loss: 5.459301\n",
            "[604/3000] Train Acc: 0.999797 Loss: 0.000756 | Val Acc: 0.367940 loss: 5.526842\n",
            "[605/3000] Train Acc: 0.999797 Loss: 0.000886 | Val Acc: 0.371394 loss: 5.472546\n",
            "[606/3000] Train Acc: 0.999746 Loss: 0.000734 | Val Acc: 0.365299 loss: 5.596558\n",
            "[607/3000] Train Acc: 0.999797 Loss: 0.001001 | Val Acc: 0.372613 loss: 5.448397\n",
            "[608/3000] Train Acc: 0.999746 Loss: 0.000735 | Val Acc: 0.378911 loss: 5.377434\n",
            "[609/3000] Train Acc: 0.999848 Loss: 0.000661 | Val Acc: 0.369972 loss: 5.539785\n",
            "[610/3000] Train Acc: 0.999644 Loss: 0.001414 | Val Acc: 0.368346 loss: 5.589323\n",
            "[611/3000] Train Acc: 0.999644 Loss: 0.001147 | Val Acc: 0.374441 loss: 5.424993\n",
            "[612/3000] Train Acc: 0.999797 Loss: 0.001149 | Val Acc: 0.368956 loss: 5.539216\n",
            "[613/3000] Train Acc: 0.999746 Loss: 0.000778 | Val Acc: 0.374238 loss: 5.458378\n",
            "[614/3000] Train Acc: 0.999644 Loss: 0.001151 | Val Acc: 0.373019 loss: 5.484406\n",
            "[615/3000] Train Acc: 0.999543 Loss: 0.001273 | Val Acc: 0.374035 loss: 5.476022\n",
            "[616/3000] Train Acc: 0.999644 Loss: 0.001482 | Val Acc: 0.367534 loss: 5.552350\n",
            "[617/3000] Train Acc: 0.999848 Loss: 0.000681 | Val Acc: 0.365908 loss: 5.605382\n",
            "[618/3000] Train Acc: 0.999644 Loss: 0.001453 | Val Acc: 0.373425 loss: 5.477360\n",
            "[619/3000] Train Acc: 0.999695 Loss: 0.000886 | Val Acc: 0.370378 loss: 5.537925\n",
            "[620/3000] Train Acc: 0.999746 Loss: 0.001119 | Val Acc: 0.366518 loss: 5.616431\n",
            "[621/3000] Train Acc: 0.999594 Loss: 0.001037 | Val Acc: 0.378098 loss: 5.452952\n",
            "[622/3000] Train Acc: 0.999746 Loss: 0.000858 | Val Acc: 0.375660 loss: 5.447891\n",
            "[623/3000] Train Acc: 0.999797 Loss: 0.000902 | Val Acc: 0.369972 loss: 5.565937\n",
            "[624/3000] Train Acc: 0.999594 Loss: 0.001066 | Val Acc: 0.372410 loss: 5.539988\n",
            "[625/3000] Train Acc: 0.999746 Loss: 0.000987 | Val Acc: 0.379927 loss: 5.377324\n",
            "[626/3000] Train Acc: 0.999797 Loss: 0.000840 | Val Acc: 0.375254 loss: 5.502887\n",
            "[627/3000] Train Acc: 0.999644 Loss: 0.001151 | Val Acc: 0.369768 loss: 5.549057\n",
            "[628/3000] Train Acc: 0.999695 Loss: 0.000909 | Val Acc: 0.374238 loss: 5.504975\n",
            "[629/3000] Train Acc: 0.999644 Loss: 0.001357 | Val Acc: 0.369768 loss: 5.530455\n",
            "[630/3000] Train Acc: 0.999797 Loss: 0.000748 | Val Acc: 0.370581 loss: 5.538096\n",
            "[631/3000] Train Acc: 0.999746 Loss: 0.000911 | Val Acc: 0.374035 loss: 5.470011\n",
            "[632/3000] Train Acc: 0.999797 Loss: 0.000668 | Val Acc: 0.378302 loss: 5.419642\n",
            "[633/3000] Train Acc: 0.999797 Loss: 0.000627 | Val Acc: 0.374441 loss: 5.481325\n",
            "[634/3000] Train Acc: 0.999695 Loss: 0.000899 | Val Acc: 0.376879 loss: 5.430950\n",
            "[635/3000] Train Acc: 0.999695 Loss: 0.000957 | Val Acc: 0.374644 loss: 5.426058\n",
            "[636/3000] Train Acc: 0.999594 Loss: 0.001166 | Val Acc: 0.370784 loss: 5.509887\n",
            "[637/3000] Train Acc: 0.999594 Loss: 0.000992 | Val Acc: 0.372206 loss: 5.524339\n",
            "[638/3000] Train Acc: 0.999746 Loss: 0.000982 | Val Acc: 0.373019 loss: 5.502376\n",
            "[639/3000] Train Acc: 0.999746 Loss: 0.000722 | Val Acc: 0.368753 loss: 5.535863\n",
            "[640/3000] Train Acc: 0.999594 Loss: 0.001016 | Val Acc: 0.370175 loss: 5.545599\n",
            "[641/3000] Train Acc: 0.999797 Loss: 0.000970 | Val Acc: 0.374238 loss: 5.496197\n",
            "[642/3000] Train Acc: 0.999949 Loss: 0.000586 | Val Acc: 0.374238 loss: 5.515139\n",
            "[643/3000] Train Acc: 0.999746 Loss: 0.000972 | Val Acc: 0.365705 loss: 5.560114\n",
            "[644/3000] Train Acc: 0.999695 Loss: 0.000893 | Val Acc: 0.377692 loss: 5.461728\n",
            "[645/3000] Train Acc: 0.999543 Loss: 0.001121 | Val Acc: 0.374644 loss: 5.440129\n",
            "[646/3000] Train Acc: 0.999797 Loss: 0.000920 | Val Acc: 0.364892 loss: 5.607367\n",
            "[647/3000] Train Acc: 0.999797 Loss: 0.000925 | Val Acc: 0.370175 loss: 5.567467\n",
            "[648/3000] Train Acc: 0.999644 Loss: 0.000873 | Val Acc: 0.375051 loss: 5.444245\n",
            "[649/3000] Train Acc: 0.999594 Loss: 0.001344 | Val Acc: 0.372206 loss: 5.560089\n",
            "[650/3000] Train Acc: 0.999594 Loss: 0.001291 | Val Acc: 0.373222 loss: 5.524957\n",
            "[651/3000] Train Acc: 0.999695 Loss: 0.001097 | Val Acc: 0.369972 loss: 5.558825\n",
            "[652/3000] Train Acc: 0.999594 Loss: 0.001567 | Val Acc: 0.371597 loss: 5.505851\n",
            "[653/3000] Train Acc: 0.999848 Loss: 0.000688 | Val Acc: 0.372613 loss: 5.506987\n",
            "[654/3000] Train Acc: 0.999695 Loss: 0.001243 | Val Acc: 0.376879 loss: 5.463974\n",
            "[655/3000] Train Acc: 0.999644 Loss: 0.001169 | Val Acc: 0.377286 loss: 5.422504\n",
            "[656/3000] Train Acc: 0.999441 Loss: 0.001460 | Val Acc: 0.376676 loss: 5.438061\n",
            "[657/3000] Train Acc: 0.999390 Loss: 0.001722 | Val Acc: 0.375863 loss: 5.463527\n",
            "[658/3000] Train Acc: 0.999746 Loss: 0.000964 | Val Acc: 0.374238 loss: 5.456132\n",
            "[659/3000] Train Acc: 0.999797 Loss: 0.000818 | Val Acc: 0.363470 loss: 5.642459\n",
            "[660/3000] Train Acc: 0.999340 Loss: 0.001551 | Val Acc: 0.375660 loss: 5.402364\n",
            "[661/3000] Train Acc: 0.999746 Loss: 0.001153 | Val Acc: 0.375457 loss: 5.458446\n",
            "[662/3000] Train Acc: 0.999695 Loss: 0.001195 | Val Acc: 0.372003 loss: 5.511995\n",
            "[663/3000] Train Acc: 0.999644 Loss: 0.001190 | Val Acc: 0.368549 loss: 5.562273\n",
            "[664/3000] Train Acc: 0.999644 Loss: 0.000746 | Val Acc: 0.374644 loss: 5.477194\n",
            "[665/3000] Train Acc: 0.999848 Loss: 0.000752 | Val Acc: 0.368346 loss: 5.586353\n",
            "[666/3000] Train Acc: 0.999949 Loss: 0.000619 | Val Acc: 0.373019 loss: 5.514491\n",
            "[667/3000] Train Acc: 0.999390 Loss: 0.001422 | Val Acc: 0.375660 loss: 5.459265\n",
            "[668/3000] Train Acc: 0.999594 Loss: 0.001118 | Val Acc: 0.376067 loss: 5.456031\n",
            "[669/3000] Train Acc: 0.999848 Loss: 0.000666 | Val Acc: 0.376270 loss: 5.453276\n",
            "[670/3000] Train Acc: 0.999746 Loss: 0.000848 | Val Acc: 0.369362 loss: 5.519102\n",
            "[671/3000] Train Acc: 0.999949 Loss: 0.000676 | Val Acc: 0.376067 loss: 5.430511\n",
            "[672/3000] Train Acc: 0.999797 Loss: 0.000897 | Val Acc: 0.372816 loss: 5.558682\n",
            "[673/3000] Train Acc: 0.999695 Loss: 0.001079 | Val Acc: 0.371394 loss: 5.520924\n",
            "[674/3000] Train Acc: 0.999695 Loss: 0.001117 | Val Acc: 0.370175 loss: 5.529558\n",
            "[675/3000] Train Acc: 0.999797 Loss: 0.000835 | Val Acc: 0.374035 loss: 5.455086\n",
            "[676/3000] Train Acc: 0.999492 Loss: 0.001535 | Val Acc: 0.374035 loss: 5.460682\n",
            "[677/3000] Train Acc: 0.999797 Loss: 0.000774 | Val Acc: 0.372206 loss: 5.559974\n",
            "[678/3000] Train Acc: 0.999848 Loss: 0.000768 | Val Acc: 0.374238 loss: 5.463425\n",
            "[679/3000] Train Acc: 0.999644 Loss: 0.001265 | Val Acc: 0.371597 loss: 5.505365\n",
            "[680/3000] Train Acc: 0.999797 Loss: 0.000883 | Val Acc: 0.369565 loss: 5.548281\n",
            "[681/3000] Train Acc: 0.999746 Loss: 0.001076 | Val Acc: 0.379114 loss: 5.426997\n",
            "[682/3000] Train Acc: 0.999746 Loss: 0.000821 | Val Acc: 0.372410 loss: 5.474845\n",
            "[683/3000] Train Acc: 0.999746 Loss: 0.000959 | Val Acc: 0.378302 loss: 5.443525\n",
            "[684/3000] Train Acc: 0.999695 Loss: 0.001137 | Val Acc: 0.368549 loss: 5.569756\n",
            "[685/3000] Train Acc: 0.999695 Loss: 0.000899 | Val Acc: 0.377286 loss: 5.442876\n",
            "[686/3000] Train Acc: 0.999797 Loss: 0.000941 | Val Acc: 0.368549 loss: 5.561780\n",
            "[687/3000] Train Acc: 0.999797 Loss: 0.000786 | Val Acc: 0.379114 loss: 5.400145\n",
            "[688/3000] Train Acc: 0.999441 Loss: 0.001507 | Val Acc: 0.378911 loss: 5.387144\n",
            "[689/3000] Train Acc: 0.999797 Loss: 0.001059 | Val Acc: 0.376676 loss: 5.472039\n",
            "[690/3000] Train Acc: 0.999695 Loss: 0.000905 | Val Acc: 0.371597 loss: 5.523364\n",
            "[691/3000] Train Acc: 0.999543 Loss: 0.001252 | Val Acc: 0.372003 loss: 5.510907\n",
            "[692/3000] Train Acc: 0.999441 Loss: 0.001700 | Val Acc: 0.370784 loss: 5.583342\n",
            "[693/3000] Train Acc: 0.999746 Loss: 0.000846 | Val Acc: 0.370175 loss: 5.537147\n",
            "[694/3000] Train Acc: 0.999695 Loss: 0.000837 | Val Acc: 0.377082 loss: 5.435685\n",
            "[695/3000] Train Acc: 0.999797 Loss: 0.000693 | Val Acc: 0.374035 loss: 5.474619\n",
            "[696/3000] Train Acc: 0.999797 Loss: 0.000867 | Val Acc: 0.374441 loss: 5.511708\n",
            "[697/3000] Train Acc: 0.999746 Loss: 0.000829 | Val Acc: 0.365502 loss: 5.609522\n",
            "[698/3000] Train Acc: 0.999898 Loss: 0.000778 | Val Acc: 0.376676 loss: 5.411169\n",
            "[699/3000] Train Acc: 0.999848 Loss: 0.000887 | Val Acc: 0.369565 loss: 5.550685\n",
            "[700/3000] Train Acc: 0.999797 Loss: 0.000773 | Val Acc: 0.371597 loss: 5.480525\n",
            "[701/3000] Train Acc: 0.999848 Loss: 0.000689 | Val Acc: 0.375660 loss: 5.490158\n",
            "[702/3000] Train Acc: 0.999898 Loss: 0.000714 | Val Acc: 0.372206 loss: 5.475240\n",
            "[703/3000] Train Acc: 0.999492 Loss: 0.001287 | Val Acc: 0.372410 loss: 5.515754\n",
            "[704/3000] Train Acc: 0.999594 Loss: 0.001020 | Val Acc: 0.373629 loss: 5.524375\n",
            "[705/3000] Train Acc: 0.999695 Loss: 0.001306 | Val Acc: 0.377082 loss: 5.432027\n",
            "[706/3000] Train Acc: 0.999543 Loss: 0.001287 | Val Acc: 0.376270 loss: 5.398128\n",
            "[707/3000] Train Acc: 0.999797 Loss: 0.000962 | Val Acc: 0.375457 loss: 5.478679\n",
            "[708/3000] Train Acc: 0.999543 Loss: 0.001131 | Val Acc: 0.370784 loss: 5.460987\n",
            "[709/3000] Train Acc: 0.999695 Loss: 0.000926 | Val Acc: 0.373019 loss: 5.500579\n",
            "[710/3000] Train Acc: 0.999695 Loss: 0.000836 | Val Acc: 0.369972 loss: 5.532199\n",
            "[711/3000] Train Acc: 0.999746 Loss: 0.001093 | Val Acc: 0.370175 loss: 5.517725\n",
            "[712/3000] Train Acc: 0.999594 Loss: 0.001445 | Val Acc: 0.371597 loss: 5.512268\n",
            "[713/3000] Train Acc: 0.999898 Loss: 0.000805 | Val Acc: 0.379724 loss: 5.407693\n",
            "[714/3000] Train Acc: 0.999492 Loss: 0.001526 | Val Acc: 0.368143 loss: 5.564131\n",
            "[715/3000] Train Acc: 0.999695 Loss: 0.001038 | Val Acc: 0.364486 loss: 5.606706\n",
            "[716/3000] Train Acc: 0.999797 Loss: 0.000982 | Val Acc: 0.378708 loss: 5.385268\n",
            "[717/3000] Train Acc: 0.999644 Loss: 0.000958 | Val Acc: 0.369972 loss: 5.574340\n",
            "[718/3000] Train Acc: 0.999848 Loss: 0.000510 | Val Acc: 0.372816 loss: 5.450475\n",
            "[719/3000] Train Acc: 0.999695 Loss: 0.000867 | Val Acc: 0.377489 loss: 5.438066\n",
            "[720/3000] Train Acc: 0.999949 Loss: 0.000651 | Val Acc: 0.377489 loss: 5.406605\n",
            "[721/3000] Train Acc: 0.999441 Loss: 0.001129 | Val Acc: 0.373222 loss: 5.464327\n",
            "[722/3000] Train Acc: 0.999848 Loss: 0.000875 | Val Acc: 0.372816 loss: 5.503948\n",
            "[723/3000] Train Acc: 0.999644 Loss: 0.001152 | Val Acc: 0.376270 loss: 5.427776\n",
            "[724/3000] Train Acc: 0.999644 Loss: 0.001150 | Val Acc: 0.375660 loss: 5.416807\n",
            "[725/3000] Train Acc: 0.999644 Loss: 0.001136 | Val Acc: 0.365502 loss: 5.588514\n",
            "[726/3000] Train Acc: 0.999797 Loss: 0.001000 | Val Acc: 0.377082 loss: 5.406509\n",
            "[727/3000] Train Acc: 0.999695 Loss: 0.000853 | Val Acc: 0.373425 loss: 5.476024\n",
            "[728/3000] Train Acc: 0.999644 Loss: 0.001118 | Val Acc: 0.373629 loss: 5.480299\n",
            "[729/3000] Train Acc: 0.999390 Loss: 0.001458 | Val Acc: 0.373832 loss: 5.499741\n",
            "[730/3000] Train Acc: 0.999949 Loss: 0.000663 | Val Acc: 0.373832 loss: 5.473740\n",
            "[731/3000] Train Acc: 0.999644 Loss: 0.001082 | Val Acc: 0.366111 loss: 5.545969\n",
            "[732/3000] Train Acc: 0.999848 Loss: 0.001037 | Val Acc: 0.371800 loss: 5.506881\n",
            "[733/3000] Train Acc: 0.999949 Loss: 0.000523 | Val Acc: 0.372206 loss: 5.536207\n",
            "[734/3000] Train Acc: 0.999746 Loss: 0.000808 | Val Acc: 0.376879 loss: 5.465521\n",
            "[735/3000] Train Acc: 0.999695 Loss: 0.000920 | Val Acc: 0.375863 loss: 5.445389\n",
            "[736/3000] Train Acc: 0.999594 Loss: 0.001266 | Val Acc: 0.375051 loss: 5.436593\n",
            "[737/3000] Train Acc: 0.999644 Loss: 0.001317 | Val Acc: 0.373019 loss: 5.513408\n",
            "[738/3000] Train Acc: 0.999797 Loss: 0.000992 | Val Acc: 0.369362 loss: 5.535386\n",
            "[739/3000] Train Acc: 0.999848 Loss: 0.000919 | Val Acc: 0.364892 loss: 5.608870\n",
            "[740/3000] Train Acc: 0.999441 Loss: 0.001663 | Val Acc: 0.373019 loss: 5.526927\n",
            "[741/3000] Train Acc: 0.999695 Loss: 0.000968 | Val Acc: 0.370987 loss: 5.529425\n",
            "[742/3000] Train Acc: 0.999746 Loss: 0.001021 | Val Acc: 0.367940 loss: 5.587104\n",
            "[743/3000] Train Acc: 0.999644 Loss: 0.000911 | Val Acc: 0.374035 loss: 5.485148\n",
            "[744/3000] Train Acc: 0.999644 Loss: 0.001080 | Val Acc: 0.369972 loss: 5.604908\n",
            "[745/3000] Train Acc: 0.999594 Loss: 0.001411 | Val Acc: 0.379114 loss: 5.402508\n",
            "[746/3000] Train Acc: 0.999848 Loss: 0.000811 | Val Acc: 0.371597 loss: 5.527250\n",
            "[747/3000] Train Acc: 0.999644 Loss: 0.000958 | Val Acc: 0.368956 loss: 5.523625\n",
            "[748/3000] Train Acc: 0.999695 Loss: 0.001389 | Val Acc: 0.367330 loss: 5.585106\n",
            "[749/3000] Train Acc: 0.999695 Loss: 0.000803 | Val Acc: 0.382162 loss: 5.344440\n",
            "[750/3000] Train Acc: 0.999797 Loss: 0.000859 | Val Acc: 0.370378 loss: 5.559635\n",
            "[751/3000] Train Acc: 0.999594 Loss: 0.001251 | Val Acc: 0.363470 loss: 5.665570\n",
            "[752/3000] Train Acc: 0.999594 Loss: 0.001350 | Val Acc: 0.373019 loss: 5.522877\n",
            "[753/3000] Train Acc: 0.999746 Loss: 0.000938 | Val Acc: 0.373222 loss: 5.516259\n",
            "[754/3000] Train Acc: 0.999594 Loss: 0.000947 | Val Acc: 0.370784 loss: 5.514562\n",
            "[755/3000] Train Acc: 0.999746 Loss: 0.000724 | Val Acc: 0.370581 loss: 5.514060\n",
            "[756/3000] Train Acc: 0.999644 Loss: 0.001004 | Val Acc: 0.366721 loss: 5.620797\n",
            "[757/3000] Train Acc: 0.999797 Loss: 0.001232 | Val Acc: 0.368753 loss: 5.596841\n",
            "[758/3000] Train Acc: 0.999644 Loss: 0.001250 | Val Acc: 0.367737 loss: 5.558142\n",
            "[759/3000] Train Acc: 0.999898 Loss: 0.000656 | Val Acc: 0.377286 loss: 5.456569\n",
            "[760/3000] Train Acc: 0.999848 Loss: 0.000708 | Val Acc: 0.369362 loss: 5.559131\n",
            "[761/3000] Train Acc: 0.999644 Loss: 0.001139 | Val Acc: 0.363673 loss: 5.616197\n",
            "[762/3000] Train Acc: 0.999695 Loss: 0.000810 | Val Acc: 0.366721 loss: 5.576548\n",
            "[763/3000] Train Acc: 0.999492 Loss: 0.001141 | Val Acc: 0.369565 loss: 5.572244\n",
            "[764/3000] Train Acc: 0.999441 Loss: 0.002424 | Val Acc: 0.377895 loss: 5.431471\n",
            "[765/3000] Train Acc: 0.999695 Loss: 0.001078 | Val Acc: 0.370581 loss: 5.568597\n",
            "[766/3000] Train Acc: 0.999644 Loss: 0.001085 | Val Acc: 0.373832 loss: 5.499052\n",
            "[767/3000] Train Acc: 0.999746 Loss: 0.001095 | Val Acc: 0.371800 loss: 5.557069\n",
            "[768/3000] Train Acc: 0.999644 Loss: 0.001051 | Val Acc: 0.375660 loss: 5.466585\n",
            "[769/3000] Train Acc: 0.999797 Loss: 0.000824 | Val Acc: 0.376879 loss: 5.402386\n",
            "[770/3000] Train Acc: 0.999797 Loss: 0.000853 | Val Acc: 0.372410 loss: 5.436036\n",
            "[771/3000] Train Acc: 0.999543 Loss: 0.001013 | Val Acc: 0.369972 loss: 5.572113\n",
            "[772/3000] Train Acc: 0.999797 Loss: 0.000788 | Val Acc: 0.375051 loss: 5.494042\n",
            "[773/3000] Train Acc: 0.999644 Loss: 0.001430 | Val Acc: 0.380943 loss: 5.407613\n",
            "[774/3000] Train Acc: 0.999797 Loss: 0.000815 | Val Acc: 0.368753 loss: 5.623526\n",
            "[775/3000] Train Acc: 0.999797 Loss: 0.000922 | Val Acc: 0.373019 loss: 5.539233\n",
            "[776/3000] Train Acc: 0.999594 Loss: 0.001203 | Val Acc: 0.368549 loss: 5.597563\n",
            "[777/3000] Train Acc: 0.999543 Loss: 0.001692 | Val Acc: 0.369972 loss: 5.587759\n",
            "[778/3000] Train Acc: 0.999746 Loss: 0.000877 | Val Acc: 0.369362 loss: 5.538014\n",
            "[779/3000] Train Acc: 0.999695 Loss: 0.000874 | Val Acc: 0.371597 loss: 5.549681\n",
            "[780/3000] Train Acc: 0.999797 Loss: 0.000825 | Val Acc: 0.368956 loss: 5.581330\n",
            "[781/3000] Train Acc: 0.999695 Loss: 0.000786 | Val Acc: 0.378911 loss: 5.388966\n",
            "[782/3000] Train Acc: 0.999594 Loss: 0.001178 | Val Acc: 0.379317 loss: 5.439483\n",
            "[783/3000] Train Acc: 0.999238 Loss: 0.001521 | Val Acc: 0.366518 loss: 5.596768\n",
            "[784/3000] Train Acc: 0.999848 Loss: 0.000642 | Val Acc: 0.370784 loss: 5.546441\n",
            "[785/3000] Train Acc: 0.999644 Loss: 0.001333 | Val Acc: 0.368956 loss: 5.563354\n",
            "[786/3000] Train Acc: 0.999797 Loss: 0.001036 | Val Acc: 0.367534 loss: 5.542872\n",
            "[787/3000] Train Acc: 0.999594 Loss: 0.001397 | Val Acc: 0.373425 loss: 5.537445\n",
            "[788/3000] Train Acc: 0.999797 Loss: 0.000827 | Val Acc: 0.369362 loss: 5.526232\n",
            "[789/3000] Train Acc: 0.999594 Loss: 0.001193 | Val Acc: 0.368753 loss: 5.568743\n",
            "[790/3000] Train Acc: 0.999644 Loss: 0.000991 | Val Acc: 0.372003 loss: 5.539930\n",
            "[791/3000] Train Acc: 0.999695 Loss: 0.000929 | Val Acc: 0.374644 loss: 5.441072\n",
            "[792/3000] Train Acc: 0.999644 Loss: 0.001218 | Val Acc: 0.375660 loss: 5.493351\n",
            "[793/3000] Train Acc: 0.999695 Loss: 0.000861 | Val Acc: 0.379114 loss: 5.396356\n",
            "[794/3000] Train Acc: 0.999594 Loss: 0.001119 | Val Acc: 0.372206 loss: 5.533249\n",
            "[795/3000] Train Acc: 0.999797 Loss: 0.000836 | Val Acc: 0.365705 loss: 5.620381\n",
            "[796/3000] Train Acc: 0.999695 Loss: 0.000834 | Val Acc: 0.377692 loss: 5.458987\n",
            "[797/3000] Train Acc: 0.999594 Loss: 0.001180 | Val Acc: 0.370987 loss: 5.531333\n",
            "[798/3000] Train Acc: 0.999797 Loss: 0.000741 | Val Acc: 0.369565 loss: 5.554945\n",
            "[799/3000] Train Acc: 0.999644 Loss: 0.001154 | Val Acc: 0.371394 loss: 5.532199\n",
            "[800/3000] Train Acc: 0.999797 Loss: 0.000761 | Val Acc: 0.375457 loss: 5.463014\n",
            "[801/3000] Train Acc: 0.999644 Loss: 0.001310 | Val Acc: 0.372613 loss: 5.520759\n",
            "[802/3000] Train Acc: 0.999797 Loss: 0.000808 | Val Acc: 0.373222 loss: 5.487633\n",
            "[803/3000] Train Acc: 0.999746 Loss: 0.001036 | Val Acc: 0.367940 loss: 5.565038\n",
            "[804/3000] Train Acc: 0.999695 Loss: 0.000766 | Val Acc: 0.370784 loss: 5.547598\n",
            "[805/3000] Train Acc: 0.999594 Loss: 0.001277 | Val Acc: 0.375660 loss: 5.440356\n",
            "[806/3000] Train Acc: 0.999746 Loss: 0.000857 | Val Acc: 0.372816 loss: 5.447806\n",
            "[807/3000] Train Acc: 0.999543 Loss: 0.001437 | Val Acc: 0.369159 loss: 5.527653\n",
            "[808/3000] Train Acc: 0.999797 Loss: 0.000999 | Val Acc: 0.369565 loss: 5.531798\n",
            "[809/3000] Train Acc: 0.999594 Loss: 0.001417 | Val Acc: 0.366518 loss: 5.552835\n",
            "[810/3000] Train Acc: 0.999644 Loss: 0.001026 | Val Acc: 0.368346 loss: 5.596883\n",
            "[811/3000] Train Acc: 0.999746 Loss: 0.001135 | Val Acc: 0.368956 loss: 5.565218\n",
            "[812/3000] Train Acc: 0.999746 Loss: 0.001054 | Val Acc: 0.381959 loss: 5.362149\n",
            "[813/3000] Train Acc: 0.999594 Loss: 0.001141 | Val Acc: 0.374644 loss: 5.465996\n",
            "[814/3000] Train Acc: 0.999898 Loss: 0.000842 | Val Acc: 0.376270 loss: 5.432565\n",
            "[815/3000] Train Acc: 0.999746 Loss: 0.001144 | Val Acc: 0.379724 loss: 5.386101\n",
            "[816/3000] Train Acc: 0.999848 Loss: 0.000783 | Val Acc: 0.375051 loss: 5.459457\n",
            "[817/3000] Train Acc: 0.999695 Loss: 0.000877 | Val Acc: 0.372613 loss: 5.520417\n",
            "[818/3000] Train Acc: 0.999746 Loss: 0.001155 | Val Acc: 0.375863 loss: 5.461333\n",
            "[819/3000] Train Acc: 0.999390 Loss: 0.001271 | Val Acc: 0.365299 loss: 5.641376\n",
            "[820/3000] Train Acc: 0.999594 Loss: 0.001302 | Val Acc: 0.372613 loss: 5.501861\n",
            "[821/3000] Train Acc: 0.999746 Loss: 0.000751 | Val Acc: 0.365299 loss: 5.629787\n",
            "[822/3000] Train Acc: 0.999492 Loss: 0.001163 | Val Acc: 0.366518 loss: 5.632107\n",
            "[823/3000] Train Acc: 0.999695 Loss: 0.000763 | Val Acc: 0.379114 loss: 5.400513\n",
            "[824/3000] Train Acc: 0.999644 Loss: 0.001393 | Val Acc: 0.371191 loss: 5.564793\n",
            "[825/3000] Train Acc: 0.999746 Loss: 0.000688 | Val Acc: 0.368956 loss: 5.565215\n",
            "[826/3000] Train Acc: 0.999644 Loss: 0.000951 | Val Acc: 0.373629 loss: 5.448550\n",
            "[827/3000] Train Acc: 0.999797 Loss: 0.000897 | Val Acc: 0.375051 loss: 5.510452\n",
            "[828/3000] Train Acc: 0.999848 Loss: 0.000848 | Val Acc: 0.368956 loss: 5.515843\n",
            "[829/3000] Train Acc: 0.999441 Loss: 0.001434 | Val Acc: 0.370175 loss: 5.497740\n",
            "[830/3000] Train Acc: 0.999695 Loss: 0.000929 | Val Acc: 0.375051 loss: 5.473600\n",
            "[831/3000] Train Acc: 0.999746 Loss: 0.000778 | Val Acc: 0.371800 loss: 5.524766\n",
            "[832/3000] Train Acc: 0.999594 Loss: 0.001184 | Val Acc: 0.366518 loss: 5.592265\n",
            "[833/3000] Train Acc: 0.999848 Loss: 0.000897 | Val Acc: 0.372410 loss: 5.489877\n",
            "[834/3000] Train Acc: 0.999644 Loss: 0.001039 | Val Acc: 0.372206 loss: 5.538487\n",
            "[835/3000] Train Acc: 0.999543 Loss: 0.001391 | Val Acc: 0.369362 loss: 5.568606\n",
            "[836/3000] Train Acc: 0.999543 Loss: 0.001520 | Val Acc: 0.373222 loss: 5.502854\n",
            "[837/3000] Train Acc: 0.999695 Loss: 0.001044 | Val Acc: 0.368549 loss: 5.566643\n",
            "[838/3000] Train Acc: 0.999644 Loss: 0.000982 | Val Acc: 0.369159 loss: 5.550600\n",
            "[839/3000] Train Acc: 0.999797 Loss: 0.000758 | Val Acc: 0.367534 loss: 5.570680\n",
            "[840/3000] Train Acc: 0.999746 Loss: 0.000928 | Val Acc: 0.377082 loss: 5.420601\n",
            "[841/3000] Train Acc: 0.999797 Loss: 0.000857 | Val Acc: 0.368143 loss: 5.535809\n",
            "[842/3000] Train Acc: 0.999797 Loss: 0.000887 | Val Acc: 0.368549 loss: 5.523714\n",
            "[843/3000] Train Acc: 0.999695 Loss: 0.001074 | Val Acc: 0.372613 loss: 5.481587\n",
            "[844/3000] Train Acc: 0.999848 Loss: 0.000887 | Val Acc: 0.369972 loss: 5.577626\n",
            "[845/3000] Train Acc: 0.999594 Loss: 0.001176 | Val Acc: 0.371597 loss: 5.497890\n",
            "[846/3000] Train Acc: 0.999543 Loss: 0.001446 | Val Acc: 0.369972 loss: 5.510815\n",
            "[847/3000] Train Acc: 0.999797 Loss: 0.000947 | Val Acc: 0.376473 loss: 5.445225\n",
            "[848/3000] Train Acc: 0.999594 Loss: 0.001242 | Val Acc: 0.369159 loss: 5.563122\n",
            "[849/3000] Train Acc: 0.999797 Loss: 0.000623 | Val Acc: 0.366111 loss: 5.632461\n",
            "[850/3000] Train Acc: 0.999492 Loss: 0.001089 | Val Acc: 0.373019 loss: 5.456126\n",
            "[851/3000] Train Acc: 0.999848 Loss: 0.000732 | Val Acc: 0.368346 loss: 5.600061\n",
            "[852/3000] Train Acc: 0.999746 Loss: 0.000973 | Val Acc: 0.379724 loss: 5.421097\n",
            "[853/3000] Train Acc: 0.999644 Loss: 0.001122 | Val Acc: 0.365095 loss: 5.607330\n",
            "[854/3000] Train Acc: 0.999848 Loss: 0.000680 | Val Acc: 0.373629 loss: 5.509368\n",
            "[855/3000] Train Acc: 0.999797 Loss: 0.000938 | Val Acc: 0.372816 loss: 5.454262\n",
            "[856/3000] Train Acc: 0.999746 Loss: 0.001156 | Val Acc: 0.372816 loss: 5.428682\n",
            "[857/3000] Train Acc: 0.999492 Loss: 0.001385 | Val Acc: 0.376270 loss: 5.465065\n",
            "[858/3000] Train Acc: 0.999898 Loss: 0.000578 | Val Acc: 0.370175 loss: 5.525895\n",
            "[859/3000] Train Acc: 0.999797 Loss: 0.000736 | Val Acc: 0.371394 loss: 5.582372\n",
            "[860/3000] Train Acc: 0.999746 Loss: 0.000841 | Val Acc: 0.369362 loss: 5.521446\n",
            "[861/3000] Train Acc: 0.999797 Loss: 0.000851 | Val Acc: 0.367737 loss: 5.567513\n",
            "[862/3000] Train Acc: 0.999848 Loss: 0.000556 | Val Acc: 0.375254 loss: 5.441695\n",
            "[863/3000] Train Acc: 0.999594 Loss: 0.001176 | Val Acc: 0.374644 loss: 5.494457\n",
            "[864/3000] Train Acc: 0.999746 Loss: 0.000772 | Val Acc: 0.371800 loss: 5.529836\n",
            "[865/3000] Train Acc: 0.999644 Loss: 0.001257 | Val Acc: 0.369565 loss: 5.568089\n",
            "[866/3000] Train Acc: 0.999644 Loss: 0.001259 | Val Acc: 0.373222 loss: 5.545195\n",
            "[867/3000] Train Acc: 0.999746 Loss: 0.000817 | Val Acc: 0.380536 loss: 5.364078\n",
            "[868/3000] Train Acc: 0.999644 Loss: 0.001091 | Val Acc: 0.376879 loss: 5.500484\n",
            "[869/3000] Train Acc: 0.999746 Loss: 0.001119 | Val Acc: 0.382974 loss: 5.341925\n",
            "[870/3000] Train Acc: 0.999898 Loss: 0.000863 | Val Acc: 0.375863 loss: 5.388041\n",
            "[871/3000] Train Acc: 0.999441 Loss: 0.001600 | Val Acc: 0.374035 loss: 5.465468\n",
            "[872/3000] Train Acc: 0.999746 Loss: 0.000760 | Val Acc: 0.379927 loss: 5.422314\n",
            "[873/3000] Train Acc: 0.999644 Loss: 0.001120 | Val Acc: 0.376067 loss: 5.458621\n",
            "[874/3000] Train Acc: 0.999848 Loss: 0.000598 | Val Acc: 0.369768 loss: 5.538768\n",
            "[875/3000] Train Acc: 0.999441 Loss: 0.001516 | Val Acc: 0.372613 loss: 5.510359\n",
            "[876/3000] Train Acc: 0.999695 Loss: 0.000811 | Val Acc: 0.372206 loss: 5.481542\n",
            "[877/3000] Train Acc: 0.999695 Loss: 0.000984 | Val Acc: 0.377692 loss: 5.406123\n",
            "[878/3000] Train Acc: 0.999848 Loss: 0.000667 | Val Acc: 0.372816 loss: 5.487144\n",
            "[879/3000] Train Acc: 0.999746 Loss: 0.000918 | Val Acc: 0.369972 loss: 5.536261\n",
            "[880/3000] Train Acc: 0.999695 Loss: 0.001319 | Val Acc: 0.376270 loss: 5.472738\n",
            "[881/3000] Train Acc: 0.999492 Loss: 0.001506 | Val Acc: 0.371191 loss: 5.525885\n",
            "[882/3000] Train Acc: 0.999695 Loss: 0.000959 | Val Acc: 0.373019 loss: 5.463287\n",
            "[883/3000] Train Acc: 0.999797 Loss: 0.000948 | Val Acc: 0.376473 loss: 5.421949\n",
            "[884/3000] Train Acc: 0.999695 Loss: 0.000857 | Val Acc: 0.372206 loss: 5.502794\n",
            "[885/3000] Train Acc: 0.999848 Loss: 0.000775 | Val Acc: 0.369768 loss: 5.551881\n",
            "[886/3000] Train Acc: 0.999543 Loss: 0.001680 | Val Acc: 0.369768 loss: 5.487341\n",
            "[887/3000] Train Acc: 0.999695 Loss: 0.001027 | Val Acc: 0.373832 loss: 5.465871\n",
            "[888/3000] Train Acc: 0.999492 Loss: 0.001463 | Val Acc: 0.372003 loss: 5.543633\n",
            "[889/3000] Train Acc: 0.999848 Loss: 0.000581 | Val Acc: 0.372613 loss: 5.451935\n",
            "[890/3000] Train Acc: 0.999746 Loss: 0.001058 | Val Acc: 0.374644 loss: 5.502075\n",
            "[891/3000] Train Acc: 0.999695 Loss: 0.001015 | Val Acc: 0.372613 loss: 5.505990\n",
            "[892/3000] Train Acc: 0.999644 Loss: 0.001078 | Val Acc: 0.368143 loss: 5.545395\n",
            "[893/3000] Train Acc: 0.999644 Loss: 0.001217 | Val Acc: 0.366721 loss: 5.563534\n",
            "[894/3000] Train Acc: 0.999797 Loss: 0.001174 | Val Acc: 0.366518 loss: 5.628063\n",
            "[895/3000] Train Acc: 0.999695 Loss: 0.000908 | Val Acc: 0.376270 loss: 5.510970\n",
            "[896/3000] Train Acc: 0.999594 Loss: 0.001692 | Val Acc: 0.375254 loss: 5.460399\n",
            "[897/3000] Train Acc: 0.999644 Loss: 0.001087 | Val Acc: 0.377692 loss: 5.431896\n",
            "[898/3000] Train Acc: 0.999644 Loss: 0.000912 | Val Acc: 0.373832 loss: 5.519358\n",
            "[899/3000] Train Acc: 0.999594 Loss: 0.001033 | Val Acc: 0.367330 loss: 5.548570\n",
            "[900/3000] Train Acc: 0.999797 Loss: 0.000663 | Val Acc: 0.372410 loss: 5.519936\n",
            "[901/3000] Train Acc: 0.999441 Loss: 0.001339 | Val Acc: 0.368753 loss: 5.586203\n",
            "[902/3000] Train Acc: 0.999746 Loss: 0.000913 | Val Acc: 0.372410 loss: 5.519858\n",
            "[903/3000] Train Acc: 0.999746 Loss: 0.000969 | Val Acc: 0.374644 loss: 5.478108\n",
            "[904/3000] Train Acc: 0.999848 Loss: 0.000675 | Val Acc: 0.377692 loss: 5.409456\n",
            "[905/3000] Train Acc: 0.999797 Loss: 0.000922 | Val Acc: 0.373629 loss: 5.538270\n",
            "[906/3000] Train Acc: 0.999644 Loss: 0.000906 | Val Acc: 0.375051 loss: 5.483638\n",
            "[907/3000] Train Acc: 0.999594 Loss: 0.000994 | Val Acc: 0.375457 loss: 5.511548\n",
            "[908/3000] Train Acc: 0.999746 Loss: 0.001036 | Val Acc: 0.370784 loss: 5.542350\n",
            "[909/3000] Train Acc: 0.999543 Loss: 0.001344 | Val Acc: 0.373629 loss: 5.520967\n",
            "[910/3000] Train Acc: 0.999797 Loss: 0.001056 | Val Acc: 0.368346 loss: 5.588471\n",
            "[911/3000] Train Acc: 0.999695 Loss: 0.000937 | Val Acc: 0.371394 loss: 5.530015\n",
            "[912/3000] Train Acc: 0.999441 Loss: 0.001241 | Val Acc: 0.366518 loss: 5.590492\n",
            "[913/3000] Train Acc: 0.999644 Loss: 0.001098 | Val Acc: 0.372613 loss: 5.492427\n",
            "[914/3000] Train Acc: 0.999898 Loss: 0.000459 | Val Acc: 0.372003 loss: 5.529884\n",
            "[915/3000] Train Acc: 0.999543 Loss: 0.001644 | Val Acc: 0.364689 loss: 5.651205\n",
            "[916/3000] Train Acc: 0.999644 Loss: 0.001115 | Val Acc: 0.368549 loss: 5.520438\n",
            "[917/3000] Train Acc: 0.999746 Loss: 0.000836 | Val Acc: 0.375457 loss: 5.438716\n",
            "[918/3000] Train Acc: 0.999898 Loss: 0.000710 | Val Acc: 0.376067 loss: 5.474826\n",
            "[919/3000] Train Acc: 0.999797 Loss: 0.000782 | Val Acc: 0.369159 loss: 5.538055\n",
            "[920/3000] Train Acc: 0.999695 Loss: 0.000924 | Val Acc: 0.376879 loss: 5.466509\n",
            "[921/3000] Train Acc: 0.999594 Loss: 0.001186 | Val Acc: 0.368549 loss: 5.560946\n",
            "[922/3000] Train Acc: 0.999797 Loss: 0.000926 | Val Acc: 0.375254 loss: 5.438626\n",
            "[923/3000] Train Acc: 0.999797 Loss: 0.000914 | Val Acc: 0.370987 loss: 5.565455\n",
            "[924/3000] Train Acc: 0.999695 Loss: 0.000966 | Val Acc: 0.366518 loss: 5.646720\n",
            "[925/3000] Train Acc: 0.999797 Loss: 0.000806 | Val Acc: 0.375051 loss: 5.470691\n",
            "[926/3000] Train Acc: 0.999797 Loss: 0.000639 | Val Acc: 0.374441 loss: 5.481681\n",
            "[927/3000] Train Acc: 0.999746 Loss: 0.000856 | Val Acc: 0.381349 loss: 5.410712\n",
            "[928/3000] Train Acc: 0.999441 Loss: 0.001609 | Val Acc: 0.375457 loss: 5.492937\n",
            "[929/3000] Train Acc: 0.999848 Loss: 0.000536 | Val Acc: 0.372206 loss: 5.496581\n",
            "[930/3000] Train Acc: 0.999695 Loss: 0.001413 | Val Acc: 0.372003 loss: 5.463762\n",
            "[931/3000] Train Acc: 0.999492 Loss: 0.001500 | Val Acc: 0.369159 loss: 5.587911\n",
            "[932/3000] Train Acc: 0.999492 Loss: 0.001218 | Val Acc: 0.375254 loss: 5.442230\n",
            "[933/3000] Train Acc: 0.999746 Loss: 0.000744 | Val Acc: 0.368753 loss: 5.553321\n",
            "[934/3000] Train Acc: 0.999390 Loss: 0.002303 | Val Acc: 0.372410 loss: 5.530297\n",
            "[935/3000] Train Acc: 0.999543 Loss: 0.001318 | Val Acc: 0.373425 loss: 5.466642\n",
            "[936/3000] Train Acc: 0.999695 Loss: 0.000912 | Val Acc: 0.367940 loss: 5.575701\n",
            "[937/3000] Train Acc: 0.999543 Loss: 0.001068 | Val Acc: 0.373832 loss: 5.523580\n",
            "[938/3000] Train Acc: 0.999594 Loss: 0.001454 | Val Acc: 0.373222 loss: 5.476431\n",
            "[939/3000] Train Acc: 0.999848 Loss: 0.000763 | Val Acc: 0.371394 loss: 5.494356\n",
            "[940/3000] Train Acc: 0.999644 Loss: 0.001084 | Val Acc: 0.367534 loss: 5.609655\n",
            "[941/3000] Train Acc: 0.999644 Loss: 0.000830 | Val Acc: 0.377692 loss: 5.447432\n",
            "[942/3000] Train Acc: 0.999797 Loss: 0.000707 | Val Acc: 0.368549 loss: 5.550483\n",
            "[943/3000] Train Acc: 0.999695 Loss: 0.000799 | Val Acc: 0.378708 loss: 5.420481\n",
            "[944/3000] Train Acc: 0.999797 Loss: 0.000879 | Val Acc: 0.364892 loss: 5.668979\n",
            "[945/3000] Train Acc: 0.999644 Loss: 0.001380 | Val Acc: 0.368753 loss: 5.528088\n",
            "[946/3000] Train Acc: 0.999746 Loss: 0.001104 | Val Acc: 0.376473 loss: 5.466025\n",
            "[947/3000] Train Acc: 0.999543 Loss: 0.001639 | Val Acc: 0.379114 loss: 5.385117\n",
            "[948/3000] Train Acc: 0.999644 Loss: 0.001239 | Val Acc: 0.367737 loss: 5.593266\n",
            "[949/3000] Train Acc: 0.999543 Loss: 0.001088 | Val Acc: 0.369159 loss: 5.562426\n",
            "[950/3000] Train Acc: 0.999543 Loss: 0.001391 | Val Acc: 0.367127 loss: 5.601282\n",
            "[951/3000] Train Acc: 0.999746 Loss: 0.001224 | Val Acc: 0.382162 loss: 5.362875\n",
            "[952/3000] Train Acc: 0.999797 Loss: 0.000893 | Val Acc: 0.368956 loss: 5.561107\n",
            "[953/3000] Train Acc: 0.999695 Loss: 0.001177 | Val Acc: 0.369768 loss: 5.590143\n",
            "[954/3000] Train Acc: 0.999644 Loss: 0.001140 | Val Acc: 0.376676 loss: 5.443412\n",
            "[955/3000] Train Acc: 0.999695 Loss: 0.001124 | Val Acc: 0.375457 loss: 5.457450\n",
            "[956/3000] Train Acc: 0.999492 Loss: 0.000950 | Val Acc: 0.367737 loss: 5.517835\n",
            "[957/3000] Train Acc: 0.999848 Loss: 0.000664 | Val Acc: 0.372816 loss: 5.500298\n",
            "[958/3000] Train Acc: 0.999594 Loss: 0.001533 | Val Acc: 0.379927 loss: 5.353095\n",
            "[959/3000] Train Acc: 0.999848 Loss: 0.000771 | Val Acc: 0.377489 loss: 5.456343\n",
            "[960/3000] Train Acc: 0.999848 Loss: 0.000954 | Val Acc: 0.368549 loss: 5.535164\n",
            "[961/3000] Train Acc: 0.999797 Loss: 0.000785 | Val Acc: 0.374441 loss: 5.476092\n",
            "[962/3000] Train Acc: 0.999594 Loss: 0.001156 | Val Acc: 0.368753 loss: 5.555099\n",
            "[963/3000] Train Acc: 0.999594 Loss: 0.001176 | Val Acc: 0.371800 loss: 5.543675\n",
            "[964/3000] Train Acc: 0.999746 Loss: 0.000730 | Val Acc: 0.372410 loss: 5.547343\n",
            "[965/3000] Train Acc: 0.999644 Loss: 0.000891 | Val Acc: 0.368549 loss: 5.539680\n",
            "[966/3000] Train Acc: 0.999746 Loss: 0.000832 | Val Acc: 0.376676 loss: 5.453177\n",
            "[967/3000] Train Acc: 0.999695 Loss: 0.001077 | Val Acc: 0.374441 loss: 5.485817\n",
            "[968/3000] Train Acc: 0.999644 Loss: 0.000796 | Val Acc: 0.376067 loss: 5.439609\n",
            "[969/3000] Train Acc: 0.999644 Loss: 0.000948 | Val Acc: 0.371597 loss: 5.557241\n"
          ]
        }
      ]
    },
    {
      "cell_type": "code",
      "source": [
        "print(f'Training use {round(end_time - start_time, 3)}s')"
      ],
      "metadata": {
        "id": "NLnpYLpwYlop",
        "outputId": "c9d274e1-1016-4269-d011-648abae014f9",
        "colab": {
          "base_uri": "https://localhost:8080/"
        }
      },
      "execution_count": 375,
      "outputs": [
        {
          "output_type": "stream",
          "name": "stdout",
          "text": [
            "Training use 454.592s\n"
          ]
        }
      ]
    },
    {
      "cell_type": "code",
      "source": [
        "def plot_learning_curve(train_record, valid_record, title=''):\n",
        "    total_steps = len(train_record)\n",
        "    x = range(total_steps)\n",
        "    plt.figure(figsize=(6, 4))\n",
        "    plt.plot(x, train_record, c='tab:red', label='train')\n",
        "    plt.plot(x, valid_record, c='tab:cyan', label='valid')\n",
        "    plt.ylim(0.0, max(valid_record) + 1)\n",
        "    plt.xlabel('Training epoch')\n",
        "    plt.ylabel(title)\n",
        "    plt.title('Learning curve of {}'.format(title))\n",
        "    plt.legend()\n",
        "    plt.show()"
      ],
      "metadata": {
        "id": "ZX4SmxBQIIcU"
      },
      "execution_count": 376,
      "outputs": []
    },
    {
      "cell_type": "code",
      "source": [
        "plot_learning_curve(train_acc_list, val_acc_list, 'Acc')"
      ],
      "metadata": {
        "id": "CukLL-yVJFdu",
        "outputId": "6bd3b08c-058d-4ea0-985b-fd47173fae0f",
        "colab": {
          "base_uri": "https://localhost:8080/",
          "height": 295
        }
      },
      "execution_count": 377,
      "outputs": [
        {
          "output_type": "display_data",
          "data": {
            "image/png": "[encoded data removed]",
            "text/plain": [
              "<Figure size 432x288 with 1 Axes>"
            ]
          },
          "metadata": {
            "needs_background": "light"
          }
        }
      ]
    },
    {
      "cell_type": "code",
      "source": [
        "plot_learning_curve(train_loss_list, val_loss_list, 'Loss')"
      ],
      "metadata": {
        "id": "LUDXf-nKJQKU",
        "outputId": "d7be47e9-5ba9-4be2-88f5-75c274d00638",
        "colab": {
          "base_uri": "https://localhost:8080/",
          "height": 295
        }
      },
      "execution_count": 378,
      "outputs": [
        {
          "output_type": "display_data",
          "data": {
            "image/png": "[encoded data removed]",
            "text/plain": [
              "<Figure size 432x288 with 1 Axes>"
            ]
          },
          "metadata": {
            "needs_background": "light"
          }
        }
      ]
    },
    {
      "cell_type": "code",
      "source": [
        "model = Classifier().to(device)\n",
        "model.load_state_dict(torch.load(model_path, map_location=device))\n",
        "\n",
        "model.eval() # set the model to evaluation mode\n",
        "train_predict = []\n",
        "err = 0\n",
        "for i, data in enumerate(train_loader):\n",
        "    inputs, labels = data\n",
        "    inputs, labels = inputs.to(device), labels.to(device)\n",
        "    outputs = model(inputs)\n",
        "    _, test_pred = torch.max(outputs, 1) # get the index of the class with the highest probability\n",
        "\n",
        "    for y in test_pred.cpu().numpy():\n",
        "        train_predict.append(y)\n",
        "\n",
        "Ein = np.mean(np.array(train_predict) != train_y)\n",
        "F1in = metrics.f1_score(train_y, train_predict, average='macro')  \n",
        "print(f'Ein = {round(Ein, 5)}')\n",
        "print(f'F1_in = {round(F1in, 5)}')\n",
        "\n",
        "val_predict = []\n",
        "for i, data in enumerate(val_loader):\n",
        "    inputs = data[0]\n",
        "    inputs = inputs.to(device)\n",
        "    outputs = model(inputs)\n",
        "    _, test_pred = torch.max(outputs, 1) # get the index of the class with the highest probability\n",
        "\n",
        "    for y in test_pred.cpu().numpy():\n",
        "        val_predict.append(y)\n",
        "\n",
        "Eval = np.mean(np.array(val_predict) != val_y)\n",
        "F1val = metrics.f1_score(val_y, val_predict, average='macro')  \n",
        "print(f'Eval = {round(Eval, 5)}')\n",
        "print(f'F1_val = {round(F1val, 5)}')"
      ],
      "metadata": {
        "id": "zCQ8Si4Yg5nh",
        "outputId": "501cf8a5-4085-46de-9b2b-12ca5954a320",
        "colab": {
          "base_uri": "https://localhost:8080/"
        }
      },
      "execution_count": 379,
      "outputs": [
        {
          "output_type": "stream",
          "name": "stdout",
          "text": [
            "Ein = 0.79828\n",
            "F1_in = 0.17025\n",
            "Eval = 0.61621\n",
            "F1_val = 0.20056\n"
          ]
        }
      ]
    },
    {
      "cell_type": "markdown",
      "source": [
        "# **Deep Neural Network Test**"
      ],
      "metadata": {
        "id": "ynT-KFltscT8"
      }
    },
    {
      "cell_type": "code",
      "source": [
        "sc = StandardScaler()\n",
        "ss = StandardScaler().fit(X_test)\n",
        "X_test_std = ss.transform(X_test)\n",
        "\n",
        "# create testing dataset\n",
        "test_set = IBMDataset(X_test_std, None)\n",
        "test_loader = DataLoader(test_set, batch_size=BATCH_SIZE, shuffle=False)\n",
        "\n",
        "# create model and load weights from checkpoint\n",
        "model = Classifier().to(device)\n",
        "model.load_state_dict(torch.load(model_path, map_location=device))"
      ],
      "metadata": {
        "id": "lukrC4MJWTjM",
        "outputId": "c3ed3683-49b7-4241-d68e-091787437689",
        "colab": {
          "base_uri": "https://localhost:8080/"
        }
      },
      "execution_count": 380,
      "outputs": [
        {
          "output_type": "execute_result",
          "data": {
            "text/plain": [
              "<All keys matched successfully>"
            ]
          },
          "metadata": {},
          "execution_count": 380
        }
      ]
    },
    {
      "cell_type": "code",
      "source": [
        "predict = []\n",
        "model.eval() # set the model to evaluation mode\n",
        "for i, data in enumerate(test_loader):\n",
        "    inputs = data\n",
        "    inputs = inputs.to(device)\n",
        "    outputs = model(inputs)\n",
        "    _, test_pred = torch.max(outputs, 1) # get the index of the class with the highest probability\n",
        "\n",
        "    for y in test_pred.cpu().numpy():\n",
        "        predict.append(y)\n",
        "\n",
        "print(encoder_map)\n",
        "print(np.bincount(predict))"
      ],
      "metadata": {
        "id": "OlQ1d1fdVt_V",
        "colab": {
          "base_uri": "https://localhost:8080/"
        },
        "outputId": "a2742e31-367c-4fd3-faa4-b9fc0604a02e"
      },
      "execution_count": 381,
      "outputs": [
        {
          "output_type": "stream",
          "name": "stdout",
          "text": [
            "{'Attitude': 0, 'Competitor': 1, 'Dissatisfaction': 2, 'No Churn': 3, 'Other': 4, 'Price': 5}\n",
            "[150 439 140 602  67  11]\n"
          ]
        }
      ]
    },
    {
      "cell_type": "code",
      "source": [
        "submit_result = './dnn_result.csv'\n",
        "\n",
        "new_encoder_map = {'No Churn':0, 'Competitor': 1, 'Dissatisfaction':2, 'Attitude': 3, 'Price':4, 'Other':5}\n",
        "\n",
        "with open(submit_result, 'w') as f:\n",
        "    f.write('Customer ID,Churn Category\\n')\n",
        "    for i in range(len(df_test.values)):\n",
        "        id = str(df_test.values[i]).replace('[\\'', '')\n",
        "        id = id.replace('\\']', '')\n",
        "        pred = new_encoder_map.get(list(encoder_map.keys())[list(encoder_map.values()).index(predict[i])])\n",
        "        f.write(f'{id},{pred}\\n')"
      ],
      "metadata": {
        "id": "11ImkbPjn6qP"
      },
      "execution_count": 382,
      "outputs": []
    },
    {
      "cell_type": "code",
      "source": [
        "files.download(submit_result)\n",
        "files.download(model_path)"
      ],
      "metadata": {
        "id": "YICyBRaGo43O",
        "outputId": "e653df48-ea4f-4693-e231-27e09f519286",
        "colab": {
          "base_uri": "https://localhost:8080/",
          "height": 17
        }
      },
      "execution_count": 383,
      "outputs": [
        {
          "output_type": "display_data",
          "data": {
            "application/javascript": [
              "\n",
              "    async function download(id, filename, size) {\n",
              "      if (!google.colab.kernel.accessAllowed) {\n",
              "        return;\n",
              "      }\n",
              "      const div = document.createElement('div');\n",
              "      const label = document.createElement('label');\n",
              "      label.textContent = `Downloading \"${filename}\": `;\n",
              "      div.appendChild(label);\n",
              "      const progress = document.createElement('progress');\n",
              "      progress.max = size;\n",
              "      div.appendChild(progress);\n",
              "      document.body.appendChild(div);\n",
              "\n",
              "      const buffers = [];\n",
              "      let downloaded = 0;\n",
              "\n",
              "      const channel = await google.colab.kernel.comms.open(id);\n",
              "      // Send a message to notify the kernel that we're ready.\n",
              "      channel.send({})\n",
              "\n",
              "      for await (const message of channel.messages) {\n",
              "        // Send a message to notify the kernel that we're ready.\n",
              "        channel.send({})\n",
              "        if (message.buffers) {\n",
              "          for (const buffer of message.buffers) {\n",
              "            buffers.push(buffer);\n",
              "            downloaded += buffer.byteLength;\n",
              "            progress.value = downloaded;\n",
              "          }\n",
              "        }\n",
              "      }\n",
              "      const blob = new Blob(buffers, {type: 'application/binary'});\n",
              "      const a = document.createElement('a');\n",
              "      a.href = window.URL.createObjectURL(blob);\n",
              "      a.download = filename;\n",
              "      div.appendChild(a);\n",
              "      a.click();\n",
              "      div.remove();\n",
              "    }\n",
              "  "
            ],
            "text/plain": [
              "<IPython.core.display.Javascript object>"
            ]
          },
          "metadata": {}
        },
        {
          "output_type": "display_data",
          "data": {
            "application/javascript": [
              "download(\"download_0ce0dfc9-df76-428f-9d97-f0f21409a826\", \"dnn_result.csv\", 18344)"
            ],
            "text/plain": [
              "<IPython.core.display.Javascript object>"
            ]
          },
          "metadata": {}
        },
        {
          "output_type": "display_data",
          "data": {
            "application/javascript": [
              "\n",
              "    async function download(id, filename, size) {\n",
              "      if (!google.colab.kernel.accessAllowed) {\n",
              "        return;\n",
              "      }\n",
              "      const div = document.createElement('div');\n",
              "      const label = document.createElement('label');\n",
              "      label.textContent = `Downloading \"${filename}\": `;\n",
              "      div.appendChild(label);\n",
              "      const progress = document.createElement('progress');\n",
              "      progress.max = size;\n",
              "      div.appendChild(progress);\n",
              "      document.body.appendChild(div);\n",
              "\n",
              "      const buffers = [];\n",
              "      let downloaded = 0;\n",
              "\n",
              "      const channel = await google.colab.kernel.comms.open(id);\n",
              "      // Send a message to notify the kernel that we're ready.\n",
              "      channel.send({})\n",
              "\n",
              "      for await (const message of channel.messages) {\n",
              "        // Send a message to notify the kernel that we're ready.\n",
              "        channel.send({})\n",
              "        if (message.buffers) {\n",
              "          for (const buffer of message.buffers) {\n",
              "            buffers.push(buffer);\n",
              "            downloaded += buffer.byteLength;\n",
              "            progress.value = downloaded;\n",
              "          }\n",
              "        }\n",
              "      }\n",
              "      const blob = new Blob(buffers, {type: 'application/binary'});\n",
              "      const a = document.createElement('a');\n",
              "      a.href = window.URL.createObjectURL(blob);\n",
              "      a.download = filename;\n",
              "      div.appendChild(a);\n",
              "      a.click();\n",
              "      div.remove();\n",
              "    }\n",
              "  "
            ],
            "text/plain": [
              "<IPython.core.display.Javascript object>"
            ]
          },
          "metadata": {}
        },
        {
          "output_type": "display_data",
          "data": {
            "application/javascript": [
              "download(\"download_d35f7255-6897-40ce-94aa-6d14c8a74037\", \"best_model.ckpt\", 762656)"
            ],
            "text/plain": [
              "<IPython.core.display.Javascript object>"
            ]
          },
          "metadata": {}
        }
      ]
    },
    {
      "cell_type": "markdown",
      "source": [
        "# **XGBoost Train**"
      ],
      "metadata": {
        "id": "sahIvrRMTlTP"
      }
    },
    {
      "cell_type": "code",
      "source": [
        "pass"
      ],
      "metadata": {
        "id": "YkGN8Jq-TsPF"
      },
      "execution_count": 384,
      "outputs": []
    }
  ]
}