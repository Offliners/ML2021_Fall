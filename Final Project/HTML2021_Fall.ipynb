{
  "nbformat": 4,
  "nbformat_minor": 0,
  "metadata": {
    "colab": {
      "name": "HTML2021_Fall.ipynb",
      "provenance": [],
      "authorship_tag": "ABX9TyOmcnwmjqJTW8nVYTb3zSx2",
      "include_colab_link": true
    },
    "kernelspec": {
      "name": "python3",
      "display_name": "Python 3"
    },
    "language_info": {
      "name": "python"
    },
    "accelerator": "GPU"
  },
  "cells": [
    {
      "cell_type": "markdown",
      "metadata": {
        "id": "view-in-github",
        "colab_type": "text"
      },
      "source": [
        "<a href=\"https://colab.research.google.com/github/Offliners/HTML_2021Fall/blob/main/Final%20Project/HTML2021_Fall.ipynb\" target=\"_parent\"><img src=\"https://colab.research.google.com/assets/colab-badge.svg\" alt=\"Open In Colab\"/></a>"
      ]
    },
    {
      "cell_type": "markdown",
      "source": [
        "# **Directory**\n",
        "\n",
        "```\n",
        "data_dir\n",
        "        ├── data\n",
        "        │   ├── Test_IDs.csv\n",
        "        │   ├── ...\n",
        "        │   ├── status.csv\n",
        "        ├── statistics\n",
        "        │   ├── Churn Category.png\n",
        "        │   ├── ...\n",
        "        │   ├── Under 30.png\n",
        "```"
      ],
      "metadata": {
        "id": "PD40tT3p379e"
      }
    },
    {
      "cell_type": "markdown",
      "source": [
        "# **Display information of GPU**"
      ],
      "metadata": {
        "id": "ldW8_oif3EEr"
      }
    },
    {
      "cell_type": "code",
      "source": [
        "!nvidia-smi"
      ],
      "metadata": {
        "colab": {
          "base_uri": "https://localhost:8080/"
        },
        "id": "Qf0PLuNJf95W",
        "outputId": "aec6c911-30f3-4805-fa0c-1e1f696af5ef"
      },
      "execution_count": 1,
      "outputs": [
        {
          "output_type": "stream",
          "name": "stdout",
          "text": [
            "Sun Jan  9 15:42:13 2022       \n",
            "+-----------------------------------------------------------------------------+\n",
            "| NVIDIA-SMI 495.44       Driver Version: 460.32.03    CUDA Version: 11.2     |\n",
            "|-------------------------------+----------------------+----------------------+\n",
            "| GPU  Name        Persistence-M| Bus-Id        Disp.A | Volatile Uncorr. ECC |\n",
            "| Fan  Temp  Perf  Pwr:Usage/Cap|         Memory-Usage | GPU-Util  Compute M. |\n",
            "|                               |                      |               MIG M. |\n",
            "|===============================+======================+======================|\n",
            "|   0  Tesla K80           Off  | 00000000:00:04.0 Off |                    0 |\n",
            "| N/A   40C    P8    27W / 149W |      0MiB / 11441MiB |      0%      Default |\n",
            "|                               |                      |                  N/A |\n",
            "+-------------------------------+----------------------+----------------------+\n",
            "                                                                               \n",
            "+-----------------------------------------------------------------------------+\n",
            "| Processes:                                                                  |\n",
            "|  GPU   GI   CI        PID   Type   Process name                  GPU Memory |\n",
            "|        ID   ID                                                   Usage      |\n",
            "|=============================================================================|\n",
            "|  No running processes found                                                 |\n",
            "+-----------------------------------------------------------------------------+\n"
          ]
        }
      ]
    },
    {
      "cell_type": "markdown",
      "source": [
        "# **Download Dataset**"
      ],
      "metadata": {
        "id": "JxUhMWWmJPHv"
      }
    },
    {
      "cell_type": "code",
      "source": [
        "!mkdir \"./data\"\n",
        "!mkdir \"./statistics\"\n",
        "!gdown --id 1X5yz7QLAu4nttnCea4ALf6alae6Clv_o --output \"./data/dataset.zip\"\n",
        "!unzip -q \"./data/dataset.zip\" -d \"./data\"\n",
        "!rm \"./data/dataset.zip\""
      ],
      "metadata": {
        "colab": {
          "base_uri": "https://localhost:8080/"
        },
        "id": "zjX-fvNeKG3p",
        "outputId": "a9950da9-58e6-4b06-8a7e-3917222ca308"
      },
      "execution_count": 2,
      "outputs": [
        {
          "output_type": "stream",
          "name": "stdout",
          "text": [
            "Downloading...\n",
            "From: https://drive.google.com/uc?id=1X5yz7QLAu4nttnCea4ALf6alae6Clv_o\n",
            "To: /content/data/dataset.zip\n",
            "\r  0% 0.00/660k [00:00<?, ?B/s]\r100% 660k/660k [00:00<00:00, 44.3MB/s]\n"
          ]
        }
      ]
    },
    {
      "cell_type": "markdown",
      "source": [
        "# **Import Some Packages**"
      ],
      "metadata": {
        "id": "hosMVZZWI_6B"
      }
    },
    {
      "cell_type": "code",
      "execution_count": 115,
      "metadata": {
        "id": "-lrHo2qeI-p9"
      },
      "outputs": [],
      "source": [
        "import time\n",
        "import numpy as np\n",
        "import pandas as pd\n",
        "from glob import glob\n",
        "import matplotlib.pyplot as plt\n",
        "from sklearn.preprocessing import LabelEncoder\n",
        "from sklearn.svm import SVC\n",
        "from sklearn.preprocessing import StandardScaler, MinMaxScaler"
      ]
    },
    {
      "cell_type": "markdown",
      "source": [
        "# **CSV Files Combination**"
      ],
      "metadata": {
        "id": "Q69ecrSlJpyT"
      }
    },
    {
      "cell_type": "code",
      "source": [
        "train_path = './data/Train_IDs.csv'  # path to training data\n",
        "test_path = './data/Test_IDs.csv'    # path to testing data\n",
        "\n",
        "files = glob('./data/*.csv')\n",
        "data_csv = []\n",
        "data_csv.append(train_path)\n",
        "for csv in files:\n",
        "    if ('IDs' not in csv) and ('sample' not in csv) and ('population' not in csv) and ('result' not in csv):\n",
        "        data_csv.append(csv)\n",
        "  \n",
        "print(data_csv)\n",
        "df_list = [pd.read_csv(file) for file in data_csv]"
      ],
      "metadata": {
        "colab": {
          "base_uri": "https://localhost:8080/"
        },
        "id": "PubV0z-fNFWK",
        "outputId": "82618634-7311-4d95-80d1-c0aeee61bfa8"
      },
      "execution_count": 116,
      "outputs": [
        {
          "output_type": "stream",
          "name": "stdout",
          "text": [
            "['./data/Train_IDs.csv', './data/demographics.csv', './data/location.csv', './data/status.csv', './data/services.csv', './data/satisfaction.csv']\n"
          ]
        }
      ]
    },
    {
      "cell_type": "code",
      "source": [
        "print(df_list[0]) # Train IDs"
      ],
      "metadata": {
        "colab": {
          "base_uri": "https://localhost:8080/"
        },
        "id": "Vq9lboomB_ie",
        "outputId": "f61f7fe4-9cce-42d3-8ad9-869eb6b70ca6"
      },
      "execution_count": 117,
      "outputs": [
        {
          "output_type": "stream",
          "name": "stdout",
          "text": [
            "     Customer ID\n",
            "0     0650-BWOZN\n",
            "1     0562-FGDCR\n",
            "2     6688-UZPWD\n",
            "3     2905-KFQUV\n",
            "4     9720-JJJOR\n",
            "...          ...\n",
            "5629  1178-PZGAB\n",
            "5630  4806-KEXQR\n",
            "5631  8809-RIHDD\n",
            "5632  6663-JOCQO\n",
            "5633  7010-ZMVBF\n",
            "\n",
            "[5634 rows x 1 columns]\n"
          ]
        }
      ]
    },
    {
      "cell_type": "code",
      "source": [
        "result = df_list[0]\n",
        "for df in df_list[1:]:\n",
        "    result = pd.merge(result, df, how='outer', on='Customer ID')\n",
        "\n",
        "result.to_csv('./data/result.csv') # Save combined result to result.csv\n",
        "\n",
        "# There are 7043 total customer data\n",
        "# Train_IDs has 5634 customer data\n",
        "# Test_Ids has 1409 customer data\n",
        "print(result)"
      ],
      "metadata": {
        "colab": {
          "base_uri": "https://localhost:8080/"
        },
        "id": "gsRnzcD243J2",
        "outputId": "c76710eb-f821-4016-e733-c44f9fcc26e7"
      },
      "execution_count": 118,
      "outputs": [
        {
          "output_type": "stream",
          "name": "stdout",
          "text": [
            "     Customer ID  Count_x  ... Total Revenue  Satisfaction Score\n",
            "0     0650-BWOZN      1.0  ...       3923.45                 1.0\n",
            "1     0562-FGDCR      1.0  ...         35.90                 1.0\n",
            "2     6688-UZPWD      1.0  ...       2182.45                 NaN\n",
            "3     2905-KFQUV      1.0  ...        705.61                 3.0\n",
            "4     9720-JJJOR      1.0  ...       3075.66                 NaN\n",
            "...          ...      ...  ...           ...                 ...\n",
            "7038  8049-WJCLQ      NaN  ...        291.39                 5.0\n",
            "7039  7016-NVRIC      NaN  ...       3867.41                 5.0\n",
            "7040  8263-JQAIK      NaN  ...           NaN                 3.0\n",
            "7041  2754-SDJRD      NaN  ...           NaN                 1.0\n",
            "7042  3251-YMVWZ      NaN  ...           NaN                 3.0\n",
            "\n",
            "[7043 rows x 48 columns]\n"
          ]
        }
      ]
    },
    {
      "cell_type": "code",
      "source": [
        "print(result.dropna()) # Find customer with full data info"
      ],
      "metadata": {
        "colab": {
          "base_uri": "https://localhost:8080/"
        },
        "id": "7wbcLdCPLMBV",
        "outputId": "ffdf44cf-af62-4ae0-98ab-70969c40d5c4"
      },
      "execution_count": 119,
      "outputs": [
        {
          "output_type": "stream",
          "name": "stdout",
          "text": [
            "     Customer ID  Count_x  ... Total Revenue  Satisfaction Score\n",
            "666   0454-OKRCT      1.0  ...       2264.50                 4.0\n",
            "678   1735-XMJVH      1.0  ...       4641.10                 5.0\n",
            "1799  1245-HARPS      1.0  ...         98.35                 1.0\n",
            "2805  8445-DNBAE      1.0  ...        712.85                 1.0\n",
            "2883  8708-XPXHZ      1.0  ...       9825.79                 3.0\n",
            "3062  9522-ZSINC      1.0  ...       4663.77                 4.0\n",
            "4297  0836-SEYLU      1.0  ...        865.29                 3.0\n",
            "5146  7274-RTAPZ      1.0  ...       7605.44                 5.0\n",
            "\n",
            "[8 rows x 48 columns]\n"
          ]
        }
      ]
    },
    {
      "cell_type": "code",
      "source": [
        "result_cols = result.columns\n",
        "print(result_cols)"
      ],
      "metadata": {
        "colab": {
          "base_uri": "https://localhost:8080/"
        },
        "id": "h42U-NQJkntr",
        "outputId": "9af7e355-afde-43e6-e858-ad3dfc2097b9"
      },
      "execution_count": 120,
      "outputs": [
        {
          "output_type": "stream",
          "name": "stdout",
          "text": [
            "Index(['Customer ID', 'Count_x', 'Gender', 'Age', 'Under 30', 'Senior Citizen',\n",
            "       'Married', 'Dependents', 'Number of Dependents', 'Count_y', 'Country',\n",
            "       'State', 'City', 'Zip Code', 'Lat Long', 'Latitude', 'Longitude',\n",
            "       'Churn Category', 'Count', 'Quarter', 'Referred a Friend',\n",
            "       'Number of Referrals', 'Tenure in Months', 'Offer', 'Phone Service',\n",
            "       'Avg Monthly Long Distance Charges', 'Multiple Lines',\n",
            "       'Internet Service', 'Internet Type', 'Avg Monthly GB Download',\n",
            "       'Online Security', 'Online Backup', 'Device Protection Plan',\n",
            "       'Premium Tech Support', 'Streaming TV', 'Streaming Movies',\n",
            "       'Streaming Music', 'Unlimited Data', 'Contract', 'Paperless Billing',\n",
            "       'Payment Method', 'Monthly Charge', 'Total Charges', 'Total Refunds',\n",
            "       'Total Extra Data Charges', 'Total Long Distance Charges',\n",
            "       'Total Revenue', 'Satisfaction Score'],\n",
            "      dtype='object')\n"
          ]
        }
      ]
    },
    {
      "cell_type": "code",
      "source": [
        "missing=result.isnull().sum().reset_index().rename(columns={0:'missNum'})\n",
        "missing['missRate'] = missing['missNum'] / result.shape[0]\n",
        "miss_analy = missing[missing.missRate>0].sort_values(by='missRate',ascending=False)\n",
        "\n",
        "fig = plt.figure(figsize=(18,6))\n",
        "plt.bar(np.arange(miss_analy.shape[0]), list(miss_analy.missRate.values), align = 'center')\n",
        "\n",
        "plt.title('Histogram of missing value of variables')\n",
        "plt.xlabel('variables names')\n",
        "plt.ylabel('missing rate')\n",
        "plt.xticks(np.arange(miss_analy.shape[0]),list(miss_analy['index']))\n",
        "plt.xticks(rotation=90)\n",
        "for x, y in enumerate(list(miss_analy.missRate.values)):\n",
        "    plt.text(x, y + 0.12, '{:.2%}'.format(y), ha='center', rotation=90)    \n",
        "\n",
        "plt.ylim([0, 0.7])  \n",
        "plt.savefig(f'./statistics/missRate.png')  \n",
        "plt.show()\n",
        "plt.close()"
      ],
      "metadata": {
        "colab": {
          "base_uri": "https://localhost:8080/",
          "height": 574
        },
        "id": "BVN8BclJkD1J",
        "outputId": "8dcbb9c5-ddbc-4e4e-8deb-eea57e07ca5b"
      },
      "execution_count": 121,
      "outputs": [
        {
          "output_type": "display_data",
          "data": {
            "image/png": "[encoded data removed]",
            "text/plain": [
              "<Figure size 1296x432 with 1 Axes>"
            ]
          },
          "metadata": {
            "needs_background": "light"
          }
        }
      ]
    },
    {
      "cell_type": "markdown",
      "source": [
        "# **Statistics and Data Preprocessing**"
      ],
      "metadata": {
        "id": "eYyJOoclqCFk"
      }
    },
    {
      "cell_type": "code",
      "source": [
        "result_copy = result.copy(deep=True)\n",
        "def label_statistics(label):\n",
        "    freq = result.groupby(label).size() \n",
        "    # print(freq)\n",
        "\n",
        "    names = [name for name, _ in freq.items()]\n",
        "    counts = [count for _, count in freq.items()]\n",
        "\n",
        "    x = np.arange(len(names))\n",
        "    plt.bar(x, counts)\n",
        "    plt.xticks(x, names, rotation=15)\n",
        "    plt.title(label)\n",
        "    plt.savefig(f'./statistics/{label}.png')\n",
        "    print(f'{label} saved')\n",
        "    plt.close()\n",
        "\n",
        "    # Replace NaN with the most frequent label\n",
        "    result_copy[label] = result_copy[label].fillna(names[counts.index(max(counts))])"
      ],
      "metadata": {
        "id": "ho-LNzp4g_Eb"
      },
      "execution_count": 122,
      "outputs": []
    },
    {
      "cell_type": "code",
      "source": [
        "need_statistics_col = ['Churn Category', 'Satisfaction Score', \n",
        "       'Gender', 'Under 30', 'Senior Citizen', 'Married', 'Dependents',\n",
        "       'Number of Dependents', 'Country', 'State', 'City', 'Quarter',\n",
        "       'Referred a Friend', 'Number of Referrals', 'Offer',\n",
        "       'Phone Service', 'Multiple Lines', 'Internet Service', 'Internet Type',\n",
        "       'Online Security', 'Online Backup', 'Device Protection Plan',\n",
        "       'Premium Tech Support', 'Streaming TV', 'Streaming Movies',\n",
        "       'Streaming Music', 'Unlimited Data', 'Contract', 'Paperless Billing',\n",
        "       'Payment Method']\n",
        "\n",
        "# Replace NaN with the most frequent label\n",
        "for need_col in need_statistics_col:\n",
        "    label_statistics(need_col)\n",
        "\n",
        "    # Encode target labels with value\n",
        "    le = LabelEncoder()\n",
        "    result_copy[need_col] = le.fit_transform(result_copy[need_col])\n",
        "\n",
        "    if need_col == 'Churn Category':\n",
        "        encoder_map = dict(zip(le.classes_, le.transform(le.classes_)))"
      ],
      "metadata": {
        "colab": {
          "base_uri": "https://localhost:8080/"
        },
        "id": "Pl4omt-mIGDW",
        "outputId": "d681283b-c220-456b-ccbf-8f2715f19fd4"
      },
      "execution_count": 123,
      "outputs": [
        {
          "output_type": "stream",
          "name": "stdout",
          "text": [
            "Churn Category saved\n",
            "Satisfaction Score saved\n",
            "Gender saved\n",
            "Under 30 saved\n",
            "Senior Citizen saved\n",
            "Married saved\n",
            "Dependents saved\n",
            "Number of Dependents saved\n",
            "Country saved\n",
            "State saved\n",
            "City saved\n",
            "Quarter saved\n",
            "Referred a Friend saved\n",
            "Number of Referrals saved\n",
            "Offer saved\n",
            "Phone Service saved\n",
            "Multiple Lines saved\n",
            "Internet Service saved\n",
            "Internet Type saved\n",
            "Online Security saved\n",
            "Online Backup saved\n",
            "Device Protection Plan saved\n",
            "Premium Tech Support saved\n",
            "Streaming TV saved\n",
            "Streaming Movies saved\n",
            "Streaming Music saved\n",
            "Unlimited Data saved\n",
            "Contract saved\n",
            "Paperless Billing saved\n",
            "Payment Method saved\n"
          ]
        }
      ]
    },
    {
      "cell_type": "code",
      "source": [
        "need_avg_col = [item for item in result_cols if item not in need_statistics_col]\n",
        "\n",
        "# Replace NaN with average value or 0\n",
        "for avg_col in need_avg_col[1:]:\n",
        "    if avg_col == 'Zip Code' or avg_col == 'Lat Long':\n",
        "        continue\n",
        "    elif 'Count' in avg_col:\n",
        "        result_copy[avg_col] = result_copy[avg_col].fillna(0)\n",
        "    else:\n",
        "        result_copy[avg_col] = result_copy[avg_col].fillna(result_copy[avg_col].mean())\n",
        "\n",
        "# Throw away the data columns I think is useless\n",
        "result_copy = result_copy.drop('Count_x', axis=1)\n",
        "result_copy = result_copy.drop('Count_y', axis=1)\n",
        "result_copy = result_copy.drop('Country', axis=1)\n",
        "result_copy = result_copy.drop('State', axis=1)\n",
        "result_copy = result_copy.drop('City', axis=1)\n",
        "result_copy = result_copy.drop('Zip Code', axis=1)\n",
        "result_copy = result_copy.drop('Lat Long', axis=1)\n",
        "result_copy = result_copy.drop('Latitude', axis=1)\n",
        "result_copy = result_copy.drop('Longitude', axis=1)\n",
        "result_copy = result_copy.drop('Count', axis=1)\n",
        "result_copy = result_copy.drop('Quarter', axis=1)"
      ],
      "metadata": {
        "id": "hjvCj4CgJPoJ"
      },
      "execution_count": 124,
      "outputs": []
    },
    {
      "cell_type": "code",
      "source": [
        "result_copy.to_csv('./data/result_after_preprocessing.csv') # Save after preprocessing result to result_after_preprocessing.csv\n",
        "\n",
        "print(result_copy)"
      ],
      "metadata": {
        "colab": {
          "base_uri": "https://localhost:8080/"
        },
        "id": "-DsDpzq_Lgp3",
        "outputId": "877dee94-b031-4856-c7e6-0413a8e1c808"
      },
      "execution_count": 125,
      "outputs": [
        {
          "output_type": "stream",
          "name": "stdout",
          "text": [
            "     Customer ID  Gender  ...  Total Revenue  Satisfaction Score\n",
            "0     0650-BWOZN       1  ...    3923.450000                   0\n",
            "1     0562-FGDCR       1  ...      35.900000                   0\n",
            "2     6688-UZPWD       1  ...    2182.450000                   2\n",
            "3     2905-KFQUV       1  ...     705.610000                   2\n",
            "4     9720-JJJOR       0  ...    3075.660000                   2\n",
            "...          ...     ...  ...            ...                 ...\n",
            "7038  8049-WJCLQ       1  ...     291.390000                   4\n",
            "7039  7016-NVRIC       1  ...    3867.410000                   4\n",
            "7040  8263-JQAIK       1  ...    3044.441077                   2\n",
            "7041  2754-SDJRD       1  ...    3044.441077                   0\n",
            "7042  3251-YMVWZ       1  ...    3044.441077                   2\n",
            "\n",
            "[7043 rows x 37 columns]\n"
          ]
        }
      ]
    },
    {
      "cell_type": "markdown",
      "source": [
        "# **Train**"
      ],
      "metadata": {
        "id": "bPTqADO2Ox2F"
      }
    },
    {
      "cell_type": "code",
      "source": [
        "sc = StandardScaler()\n",
        "\n",
        "y_train = result_copy['Churn Category'].values\n",
        "X_train = result_copy.drop('Customer ID', axis=1)\n",
        "X_train = X_train.drop('Churn Category', axis=1)\n",
        "\n",
        "ss = StandardScaler().fit(X_train)\n",
        "X_train_std = ss.transform(X_train)\n",
        "mms = MinMaxScaler(feature_range=(0, 1)).fit(X_train_std)\n",
        "X_train_std = mms.transform(X_train_std)"
      ],
      "metadata": {
        "id": "euCLdtvkO-nO"
      },
      "execution_count": 126,
      "outputs": []
    },
    {
      "cell_type": "code",
      "source": [
        "svm = SVC(kernel='rbf',  gamma=0.7, C=10)\n",
        "\n",
        "start_time = time.time()\n",
        "svm.fit(X_train_std, y_train)\n",
        "end_time = time.time()\n",
        "\n",
        "print(f'Training use {round(end_time - start_time, 3)}s')"
      ],
      "metadata": {
        "colab": {
          "base_uri": "https://localhost:8080/"
        },
        "id": "VXuL_lKqW_mD",
        "outputId": "468ffb80-bcca-48b5-ca24-978d92c9cf82"
      },
      "execution_count": 127,
      "outputs": [
        {
          "output_type": "stream",
          "name": "stdout",
          "text": [
            "Training use 5.244s\n"
          ]
        }
      ]
    },
    {
      "cell_type": "code",
      "source": [
        "y_train_predict = svm.predict(X_train)\n",
        "Ein = np.mean(np.array(y_train_predict) != y_train)\n",
        "print(f'Ein = {round(Ein, 5)}')"
      ],
      "metadata": {
        "colab": {
          "base_uri": "https://localhost:8080/"
        },
        "id": "WivcNevbY1lB",
        "outputId": "a22f89e1-5f47-41d6-dd47-079c9f3e22ba"
      },
      "execution_count": 128,
      "outputs": [
        {
          "output_type": "stream",
          "name": "stderr",
          "text": [
            "/usr/local/lib/python3.7/dist-packages/sklearn/base.py:439: UserWarning: X has feature names, but SVC was fitted without feature names\n",
            "  f\"X has feature names, but {self.__class__.__name__} was fitted without\"\n"
          ]
        },
        {
          "output_type": "stream",
          "name": "stdout",
          "text": [
            "Ein = 0.15732\n"
          ]
        }
      ]
    },
    {
      "cell_type": "markdown",
      "source": [
        "# **Test**"
      ],
      "metadata": {
        "id": "ViqMiLyMavbf"
      }
    },
    {
      "cell_type": "code",
      "source": [
        "df_test = pd.read_csv(test_path)\n",
        "\n",
        "test_result = pd.merge(df_test, result_copy, how='inner', on='Customer ID')\n",
        "\n",
        "X_test = test_result.drop('Customer ID', axis=1)\n",
        "X_test = X_test.drop('Churn Category', axis=1)\n",
        "ss = StandardScaler().fit(X_test)\n",
        "X_test_std = ss.transform(X_test)\n",
        "mms = MinMaxScaler(feature_range=(0, 1)).fit(X_test_std)\n",
        "X_test_std = mms.transform(X_test_std)\n",
        "y_test = svm.predict(X_test_std)"
      ],
      "metadata": {
        "id": "dxd93_hUauU5"
      },
      "execution_count": 129,
      "outputs": []
    },
    {
      "cell_type": "code",
      "source": [
        "submit_result = './result.csv'\n",
        "\n",
        "new_encoder_map = {'No Churn':0, 'Competitor': 1, 'Dissatisfaction':2, 'Attitude': 3, 'Price':4, 'Other':5}\n",
        "\n",
        "with open(submit_result, 'w') as f:\n",
        "    f.write('Customer ID,Churn Category\\n')\n",
        "    for i in range(len(df_test.values)):\n",
        "        id = str(df_test.values[i]).replace('[\\'', '')\n",
        "        id = id.replace('\\']', '')\n",
        "        pred = new_encoder_map.get(list(encoder_map.keys())[list(encoder_map.values()).index(y_test[i])])\n",
        "        f.write(f'{id},{pred}\\n')"
      ],
      "metadata": {
        "id": "6N35sOjrcpNd"
      },
      "execution_count": 130,
      "outputs": []
    },
    {
      "cell_type": "code",
      "source": [
        "from google.colab import files\n",
        "\n",
        "files.download(submit_result)"
      ],
      "metadata": {
        "colab": {
          "base_uri": "https://localhost:8080/",
          "height": 17
        },
        "id": "0tLUThI7nWnj",
        "outputId": "ca3e84dd-16cb-45f6-ab95-4dc0310b6806"
      },
      "execution_count": 131,
      "outputs": [
        {
          "output_type": "display_data",
          "data": {
            "application/javascript": [
              "\n",
              "    async function download(id, filename, size) {\n",
              "      if (!google.colab.kernel.accessAllowed) {\n",
              "        return;\n",
              "      }\n",
              "      const div = document.createElement('div');\n",
              "      const label = document.createElement('label');\n",
              "      label.textContent = `Downloading \"${filename}\": `;\n",
              "      div.appendChild(label);\n",
              "      const progress = document.createElement('progress');\n",
              "      progress.max = size;\n",
              "      div.appendChild(progress);\n",
              "      document.body.appendChild(div);\n",
              "\n",
              "      const buffers = [];\n",
              "      let downloaded = 0;\n",
              "\n",
              "      const channel = await google.colab.kernel.comms.open(id);\n",
              "      // Send a message to notify the kernel that we're ready.\n",
              "      channel.send({})\n",
              "\n",
              "      for await (const message of channel.messages) {\n",
              "        // Send a message to notify the kernel that we're ready.\n",
              "        channel.send({})\n",
              "        if (message.buffers) {\n",
              "          for (const buffer of message.buffers) {\n",
              "            buffers.push(buffer);\n",
              "            downloaded += buffer.byteLength;\n",
              "            progress.value = downloaded;\n",
              "          }\n",
              "        }\n",
              "      }\n",
              "      const blob = new Blob(buffers, {type: 'application/binary'});\n",
              "      const a = document.createElement('a');\n",
              "      a.href = window.URL.createObjectURL(blob);\n",
              "      a.download = filename;\n",
              "      div.appendChild(a);\n",
              "      a.click();\n",
              "      div.remove();\n",
              "    }\n",
              "  "
            ],
            "text/plain": [
              "<IPython.core.display.Javascript object>"
            ]
          },
          "metadata": {}
        },
        {
          "output_type": "display_data",
          "data": {
            "application/javascript": [
              "download(\"download_96a3bb2b-a31c-4709-96ed-9259f4dcf716\", \"result.csv\", 18344)"
            ],
            "text/plain": [
              "<IPython.core.display.Javascript object>"
            ]
          },
          "metadata": {}
        }
      ]
    }
  ]
}