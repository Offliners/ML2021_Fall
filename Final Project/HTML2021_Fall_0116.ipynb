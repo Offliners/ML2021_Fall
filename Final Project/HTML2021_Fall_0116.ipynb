{
  "nbformat": 4,
  "nbformat_minor": 0,
  "metadata": {
    "colab": {
      "name": "HTML2021_Fall.ipynb",
      "provenance": [],
      "include_colab_link": true
    },
    "kernelspec": {
      "name": "python3",
      "display_name": "Python 3"
    },
    "language_info": {
      "name": "python"
    },
    "accelerator": "GPU"
  },
  "cells": [
    {
      "cell_type": "markdown",
      "metadata": {
        "id": "view-in-github",
        "colab_type": "text"
      },
      "source": [
        "<a href=\"https://colab.research.google.com/github/Offliners/HTML_2021Fall/blob/main/Final%20Project/HTML2021_Fall_0116.ipynb\" target=\"_parent\"><img src=\"https://colab.research.google.com/assets/colab-badge.svg\" alt=\"Open In Colab\"/></a>"
      ]
    },
    {
      "cell_type": "markdown",
      "source": [
        "# **Directory**\n",
        "\n",
        "```\n",
        "data_dir\n",
        "    ├── data\n",
        "    │   ├── Test_IDs.csv\n",
        "    │   ├── ...\n",
        "    │   ├── status.csv\n",
        "    ├── statistics\n",
        "    │   ├── Churn Category_stat.png\n",
        "    │   ├── ...\n",
        "    │   ├── miss rate_stat.png\n",
        "```"
      ],
      "metadata": {
        "id": "PD40tT3p379e"
      }
    },
    {
      "cell_type": "markdown",
      "source": [
        "# **Display information of GPU**"
      ],
      "metadata": {
        "id": "ldW8_oif3EEr"
      }
    },
    {
      "cell_type": "code",
      "source": [
        "!nvidia-smi"
      ],
      "metadata": {
        "colab": {
          "base_uri": "https://localhost:8080/"
        },
        "id": "Qf0PLuNJf95W",
        "outputId": "5d87dd4a-cf25-487c-caac-fdb82d6078c0"
      },
      "execution_count": 1,
      "outputs": [
        {
          "output_type": "stream",
          "name": "stdout",
          "text": [
            "Sun Jan 16 13:06:08 2022       \n",
            "+-----------------------------------------------------------------------------+\n",
            "| NVIDIA-SMI 495.46       Driver Version: 460.32.03    CUDA Version: 11.2     |\n",
            "|-------------------------------+----------------------+----------------------+\n",
            "| GPU  Name        Persistence-M| Bus-Id        Disp.A | Volatile Uncorr. ECC |\n",
            "| Fan  Temp  Perf  Pwr:Usage/Cap|         Memory-Usage | GPU-Util  Compute M. |\n",
            "|                               |                      |               MIG M. |\n",
            "|===============================+======================+======================|\n",
            "|   0  Tesla T4            Off  | 00000000:00:04.0 Off |                    0 |\n",
            "| N/A   35C    P8     9W /  70W |      0MiB / 15109MiB |      0%      Default |\n",
            "|                               |                      |                  N/A |\n",
            "+-------------------------------+----------------------+----------------------+\n",
            "                                                                               \n",
            "+-----------------------------------------------------------------------------+\n",
            "| Processes:                                                                  |\n",
            "|  GPU   GI   CI        PID   Type   Process name                  GPU Memory |\n",
            "|        ID   ID                                                   Usage      |\n",
            "|=============================================================================|\n",
            "|  No running processes found                                                 |\n",
            "+-----------------------------------------------------------------------------+\n"
          ]
        }
      ]
    },
    {
      "cell_type": "markdown",
      "source": [
        "# **Download Dataset**"
      ],
      "metadata": {
        "id": "JxUhMWWmJPHv"
      }
    },
    {
      "cell_type": "code",
      "source": [
        "!mkdir \"./data\"\n",
        "!mkdir \"./statistics\"\n",
        "!gdown --id 1X5yz7QLAu4nttnCea4ALf6alae6Clv_o --output \"./data/dataset.zip\"\n",
        "!unzip -q \"./data/dataset.zip\" -d \"./data\"\n",
        "!rm \"./data/dataset.zip\""
      ],
      "metadata": {
        "colab": {
          "base_uri": "https://localhost:8080/"
        },
        "id": "zjX-fvNeKG3p",
        "outputId": "53c6ed1a-56c4-4a77-dc19-00e4e8906afa"
      },
      "execution_count": 2,
      "outputs": [
        {
          "output_type": "stream",
          "name": "stdout",
          "text": [
            "Downloading...\n",
            "From: https://drive.google.com/uc?id=1X5yz7QLAu4nttnCea4ALf6alae6Clv_o\n",
            "To: /content/data/dataset.zip\n",
            "\r  0% 0.00/660k [00:00<?, ?B/s]\r100% 660k/660k [00:00<00:00, 87.3MB/s]\n"
          ]
        }
      ]
    },
    {
      "cell_type": "markdown",
      "source": [
        "# **Import Some Packages**"
      ],
      "metadata": {
        "id": "hosMVZZWI_6B"
      }
    },
    {
      "cell_type": "code",
      "execution_count": 265,
      "metadata": {
        "id": "-lrHo2qeI-p9"
      },
      "outputs": [],
      "source": [
        "import time\n",
        "import numpy as np\n",
        "import pandas as pd\n",
        "from glob import glob\n",
        "from collections import Counter\n",
        "import collections\n",
        "import matplotlib.pyplot as plt\n",
        "import seaborn as sns\n",
        "\n",
        "from sklearn.preprocessing import LabelEncoder\n",
        "from sklearn.preprocessing import StandardScaler\n",
        "from sklearn import metrics\n",
        "from sklearn.model_selection import train_test_split\n",
        "from sklearn.metrics import precision_score, recall_score, f1_score, roc_auc_score, accuracy_score, classification_report, plot_confusion_matrix\n",
        "from sklearn.experimental import enable_iterative_imputer\n",
        "from sklearn.impute import IterativeImputer\n",
        "\n",
        "# SMOTE\n",
        "from imblearn.over_sampling import SMOTE\n",
        "\n",
        "# SVM\n",
        "from sklearn.svm import SVC\n",
        "\n",
        "# DNN\n",
        "import torch\n",
        "import torch.nn as nn\n",
        "from torch.utils.data import ConcatDataset, DataLoader, Subset, Dataset\n",
        "from torchsummary import summary\n",
        "from torch.optim.lr_scheduler import StepLR\n",
        "\n",
        "# XGBoost\n",
        "from xgboost import XGBClassifier"
      ]
    },
    {
      "cell_type": "markdown",
      "source": [
        "# **Set a Random Seed**"
      ],
      "metadata": {
        "id": "HH36XbKB0P3c"
      }
    },
    {
      "cell_type": "code",
      "source": [
        "# Set a random seed for reproducibility\n",
        "seed = 0\n",
        "np.random.seed(seed)\n",
        "torch.manual_seed(seed)\n",
        "if torch.cuda.is_available():\n",
        "    torch.cuda.manual_seed(seed)\n",
        "    torch.cuda.manual_seed_all(seed)  \n",
        "torch.backends.cudnn.benchmark = False\n",
        "torch.backends.cudnn.deterministic = True"
      ],
      "metadata": {
        "id": "sM7IyXfL0ekd"
      },
      "execution_count": 266,
      "outputs": []
    },
    {
      "cell_type": "markdown",
      "source": [
        "# **CSV Files Combination**"
      ],
      "metadata": {
        "id": "Q69ecrSlJpyT"
      }
    },
    {
      "cell_type": "code",
      "source": [
        "train_path = './data/Train_IDs.csv'  # path to training data\n",
        "test_path = './data/Test_IDs.csv'    # path to testing data\n",
        "\n",
        "files = glob('./data/*.csv')\n",
        "data_csv = []\n",
        "data_csv.append(train_path)\n",
        "for csv in files:\n",
        "    if ('IDs' not in csv) and ('sample' not in csv) and ('population' not in csv) and ('result' not in csv):\n",
        "        data_csv.append(csv)\n",
        "  \n",
        "print(data_csv)\n",
        "df_list = [pd.read_csv(file) for file in data_csv]"
      ],
      "metadata": {
        "colab": {
          "base_uri": "https://localhost:8080/"
        },
        "id": "PubV0z-fNFWK",
        "outputId": "9b469685-c907-4546-af55-16194951ab02"
      },
      "execution_count": 267,
      "outputs": [
        {
          "output_type": "stream",
          "name": "stdout",
          "text": [
            "['./data/Train_IDs.csv', './data/services.csv', './data/location.csv', './data/satisfaction.csv', './data/demographics.csv', './data/status.csv']\n"
          ]
        }
      ]
    },
    {
      "cell_type": "code",
      "source": [
        "result_total = df_list[0]\n",
        "for df in df_list[1:]:\n",
        "    result_total = pd.merge(result_total, df, how='outer', on='Customer ID')\n",
        "\n",
        "result_total.to_csv('./data/result_total.csv') # Save combined all result to result_total.csv"
      ],
      "metadata": {
        "id": "gsRnzcD243J2"
      },
      "execution_count": 268,
      "outputs": []
    },
    {
      "cell_type": "code",
      "source": [
        "# There are 7043 total customer data\n",
        "print(result_total)"
      ],
      "metadata": {
        "id": "HmdXTPLLuLnc",
        "outputId": "547b7ff9-810e-47cc-f6c1-27dd181eb1ee",
        "colab": {
          "base_uri": "https://localhost:8080/"
        }
      },
      "execution_count": 269,
      "outputs": [
        {
          "output_type": "stream",
          "name": "stdout",
          "text": [
            "     Customer ID  Count_x  ... Number of Dependents Churn Category\n",
            "0     0650-BWOZN      1.0  ...                  0.0     Competitor\n",
            "1     0562-FGDCR      1.0  ...                  0.0     Competitor\n",
            "2     6688-UZPWD      1.0  ...                  NaN       No Churn\n",
            "3     2905-KFQUV      1.0  ...                  0.0     Competitor\n",
            "4     9720-JJJOR      1.0  ...                  0.0       No Churn\n",
            "...          ...      ...  ...                  ...            ...\n",
            "7038  6778-EICRF      NaN  ...                  0.0            NaN\n",
            "7039  0772-GYEQQ      NaN  ...                  2.0            NaN\n",
            "7040  5666-CYCYZ      NaN  ...                  0.0            NaN\n",
            "7041  4893-GYUJU      NaN  ...                  0.0            NaN\n",
            "7042  3426-NIYYL      NaN  ...                  2.0            NaN\n",
            "\n",
            "[7043 rows x 48 columns]\n"
          ]
        }
      ]
    },
    {
      "cell_type": "code",
      "source": [
        "# Train_IDs has 5634 customer data\n",
        "result_train_total = df_list[0]\n",
        "for df in df_list[1:]:\n",
        "    result_train_total = pd.merge(result_train_total, df, how='left', on='Customer ID')\n",
        "\n",
        "print(result_train_total)"
      ],
      "metadata": {
        "id": "NZaWPORIXIDp",
        "outputId": "e4b9a377-3901-41eb-809c-fa31f6016589",
        "colab": {
          "base_uri": "https://localhost:8080/"
        }
      },
      "execution_count": 270,
      "outputs": [
        {
          "output_type": "stream",
          "name": "stdout",
          "text": [
            "     Customer ID  Count_x  ... Number of Dependents Churn Category\n",
            "0     0650-BWOZN      1.0  ...                  0.0     Competitor\n",
            "1     0562-FGDCR      1.0  ...                  0.0     Competitor\n",
            "2     6688-UZPWD      1.0  ...                  NaN       No Churn\n",
            "3     2905-KFQUV      1.0  ...                  0.0     Competitor\n",
            "4     9720-JJJOR      1.0  ...                  0.0       No Churn\n",
            "...          ...      ...  ...                  ...            ...\n",
            "5629  1178-PZGAB      1.0  ...                  0.0            NaN\n",
            "5630  4806-KEXQR      1.0  ...                  0.0            NaN\n",
            "5631  8809-RIHDD      1.0  ...                  2.0       No Churn\n",
            "5632  6663-JOCQO      1.0  ...                  3.0       No Churn\n",
            "5633  7010-ZMVBF      1.0  ...                  0.0       No Churn\n",
            "\n",
            "[5634 rows x 48 columns]\n"
          ]
        }
      ]
    },
    {
      "cell_type": "code",
      "source": [
        "# Train_IDs has 4226 customer data with label\n",
        "result_train = df_list[0]\n",
        "for df in df_list[1:]:\n",
        "    result_train = pd.merge(result_train, df, how='right', on='Customer ID')\n",
        "\n",
        "print(result_train)"
      ],
      "metadata": {
        "id": "XC9OTia4vQyw",
        "outputId": "fd47078b-9e0a-49c1-f90f-7f41f78c829d",
        "colab": {
          "base_uri": "https://localhost:8080/"
        }
      },
      "execution_count": 271,
      "outputs": [
        {
          "output_type": "stream",
          "name": "stdout",
          "text": [
            "     Customer ID  Count_x  ... Number of Dependents Churn Category\n",
            "0     0650-BWOZN      NaN  ...                  0.0     Competitor\n",
            "1     0562-FGDCR      1.0  ...                  0.0     Competitor\n",
            "2     6688-UZPWD      1.0  ...                  NaN       No Churn\n",
            "3     2905-KFQUV      1.0  ...                  0.0     Competitor\n",
            "4     9720-JJJOR      NaN  ...                  0.0       No Churn\n",
            "...          ...      ...  ...                  ...            ...\n",
            "4221  3313-QKNKB      NaN  ...                  NaN       No Churn\n",
            "4222  8668-KNZTI      NaN  ...                  NaN       No Churn\n",
            "4223  8809-RIHDD      NaN  ...                  2.0       No Churn\n",
            "4224  6663-JOCQO      NaN  ...                  3.0       No Churn\n",
            "4225  7010-ZMVBF      1.0  ...                  0.0       No Churn\n",
            "\n",
            "[4226 rows x 48 columns]\n"
          ]
        }
      ]
    },
    {
      "cell_type": "code",
      "source": [
        "# Train_IDs has 1408 customer data without label\n",
        "result_train_miss = df_list[0]\n",
        "for df in df_list[1:]:\n",
        "    result_train_miss = pd.merge(result_train_miss, df, how='left', on='Customer ID')\n",
        "\n",
        "result_train_miss = result_train_miss[result_train_miss['Churn Category'].isna()]\n",
        "\n",
        "print(result_train_miss)"
      ],
      "metadata": {
        "id": "PNP-ViR3XR3O",
        "outputId": "83a08744-ba42-4360-cce6-e0e1187e0db2",
        "colab": {
          "base_uri": "https://localhost:8080/"
        }
      },
      "execution_count": 272,
      "outputs": [
        {
          "output_type": "stream",
          "name": "stdout",
          "text": [
            "     Customer ID  Count_x  ... Number of Dependents Churn Category\n",
            "6     0394-YONDK      1.0  ...                  NaN            NaN\n",
            "7     0396-HUJBP      1.0  ...                  0.0            NaN\n",
            "11    0684-AOSIH      1.0  ...                  2.0            NaN\n",
            "14    1679-JRFBR      1.0  ...                  0.0            NaN\n",
            "18    5533-NHFRF      NaN  ...                  0.0            NaN\n",
            "...          ...      ...  ...                  ...            ...\n",
            "5603  6330-JKLPC      1.0  ...                  NaN            NaN\n",
            "5618  4549-ZDQYY      NaN  ...                  0.0            NaN\n",
            "5622  9127-QRZMH      1.0  ...                  0.0            NaN\n",
            "5629  1178-PZGAB      1.0  ...                  0.0            NaN\n",
            "5630  4806-KEXQR      1.0  ...                  0.0            NaN\n",
            "\n",
            "[1408 rows x 48 columns]\n"
          ]
        }
      ]
    },
    {
      "cell_type": "code",
      "source": [
        "# Test_Ids has 1409 customer data\n",
        "df_test = pd.read_csv(test_path)\n",
        "result_test = df_test\n",
        "for df in df_list[1:]:\n",
        "    result_test = pd.merge(result_test, df, how='left', on='Customer ID')\n",
        "\n",
        "print(result_test)"
      ],
      "metadata": {
        "id": "fE-wQXgit9JQ",
        "outputId": "9020ec3d-0510-44da-87bf-75d33f675fad",
        "colab": {
          "base_uri": "https://localhost:8080/"
        }
      },
      "execution_count": 273,
      "outputs": [
        {
          "output_type": "stream",
          "name": "stdout",
          "text": [
            "     Customer ID  Count_x  ... Number of Dependents Churn Category\n",
            "0     9938-EKRGF      1.0  ...                  0.0            NaN\n",
            "1     7379-POKDZ      1.0  ...                  0.0            NaN\n",
            "2     0654-HMSHN      1.0  ...                  NaN            NaN\n",
            "3     2045-BMBTJ      1.0  ...                  3.0            NaN\n",
            "4     0701-TJSEF      1.0  ...                  0.0            NaN\n",
            "...          ...      ...  ...                  ...            ...\n",
            "1404  4587-VVTOX      1.0  ...                  NaN            NaN\n",
            "1405  7716-YTYHG      NaN  ...                  0.0            NaN\n",
            "1406  7649-PHJVR      NaN  ...                  0.0            NaN\n",
            "1407  7855-DIWPO      1.0  ...                  3.0            NaN\n",
            "1408  8197-BFWVU      1.0  ...                  NaN            NaN\n",
            "\n",
            "[1409 rows x 48 columns]\n"
          ]
        }
      ]
    },
    {
      "cell_type": "code",
      "source": [
        "print(result_total.dropna()) # Find customer with full data infomation"
      ],
      "metadata": {
        "colab": {
          "base_uri": "https://localhost:8080/"
        },
        "id": "7wbcLdCPLMBV",
        "outputId": "b2578b54-1c76-4277-ae3c-27f04ab4a38f"
      },
      "execution_count": 274,
      "outputs": [
        {
          "output_type": "stream",
          "name": "stdout",
          "text": [
            "     Customer ID  Count_x  ... Number of Dependents   Churn Category\n",
            "666   0454-OKRCT      1.0  ...                  2.0         No Churn\n",
            "678   1735-XMJVH      1.0  ...                  0.0         No Churn\n",
            "1799  1245-HARPS      1.0  ...                  0.0  Dissatisfaction\n",
            "2805  8445-DNBAE      1.0  ...                  0.0       Competitor\n",
            "2883  8708-XPXHZ      1.0  ...                  0.0         No Churn\n",
            "3062  9522-ZSINC      1.0  ...                  0.0         No Churn\n",
            "4297  0836-SEYLU      1.0  ...                  0.0         No Churn\n",
            "5146  7274-RTAPZ      1.0  ...                  1.0         No Churn\n",
            "\n",
            "[8 rows x 48 columns]\n"
          ]
        }
      ]
    },
    {
      "cell_type": "code",
      "source": [
        "result_cols = result_total.columns\n",
        "print(result_cols)"
      ],
      "metadata": {
        "colab": {
          "base_uri": "https://localhost:8080/"
        },
        "id": "h42U-NQJkntr",
        "outputId": "650f98a8-1740-4e66-c918-2c1814f5f2b9"
      },
      "execution_count": 275,
      "outputs": [
        {
          "output_type": "stream",
          "name": "stdout",
          "text": [
            "Index(['Customer ID', 'Count_x', 'Quarter', 'Referred a Friend',\n",
            "       'Number of Referrals', 'Tenure in Months', 'Offer', 'Phone Service',\n",
            "       'Avg Monthly Long Distance Charges', 'Multiple Lines',\n",
            "       'Internet Service', 'Internet Type', 'Avg Monthly GB Download',\n",
            "       'Online Security', 'Online Backup', 'Device Protection Plan',\n",
            "       'Premium Tech Support', 'Streaming TV', 'Streaming Movies',\n",
            "       'Streaming Music', 'Unlimited Data', 'Contract', 'Paperless Billing',\n",
            "       'Payment Method', 'Monthly Charge', 'Total Charges', 'Total Refunds',\n",
            "       'Total Extra Data Charges', 'Total Long Distance Charges',\n",
            "       'Total Revenue', 'Count_y', 'Country', 'State', 'City', 'Zip Code',\n",
            "       'Lat Long', 'Latitude', 'Longitude', 'Satisfaction Score', 'Count',\n",
            "       'Gender', 'Age', 'Under 30', 'Senior Citizen', 'Married', 'Dependents',\n",
            "       'Number of Dependents', 'Churn Category'],\n",
            "      dtype='object')\n"
          ]
        }
      ]
    },
    {
      "cell_type": "code",
      "source": [
        "missing = result_train_total.isnull().sum().reset_index().rename(columns={0:'missNum'})\n",
        "missing['missRate'] = missing['missNum'] / result_train_total.shape[0]\n",
        "miss_analy = missing[missing.missRate > 0].sort_values(by='missRate', ascending=False)\n",
        "\n",
        "fig = plt.figure(figsize=(18, 6))\n",
        "plt.bar(np.arange(miss_analy.shape[0]), list(miss_analy.missRate.values), align='center')\n",
        "\n",
        "plt.title('Histogram of missing value of variables of training dataset')\n",
        "plt.xlabel('variables names')\n",
        "plt.ylabel('missing rate')\n",
        "plt.xticks(np.arange(miss_analy.shape[0]), list(miss_analy['index']))\n",
        "plt.xticks(rotation=90)\n",
        "for x, y in enumerate(list(miss_analy.missRate.values)):\n",
        "    plt.text(x, y + 0.12, '{:.2%}'.format(y), ha='center', rotation=90)    \n",
        "\n",
        "plt.ylim([0, 0.8])  \n",
        "plt.savefig(f'./statistics/miss rate_train_stat.png')  \n",
        "plt.show()\n",
        "plt.close()"
      ],
      "metadata": {
        "id": "HDjocf2IYbFs",
        "outputId": "9a2e447e-1ca8-4956-a402-8b6c59e97a2c",
        "colab": {
          "base_uri": "https://localhost:8080/",
          "height": 574
        }
      },
      "execution_count": 276,
      "outputs": [
        {
          "output_type": "display_data",
          "data": {
            "image/png": "[encoded data removed]",
            "text/plain": [
              "<Figure size 1296x432 with 1 Axes>"
            ]
          },
          "metadata": {
            "needs_background": "light"
          }
        }
      ]
    },
    {
      "cell_type": "code",
      "source": [
        "missing = result_train.isnull().sum().reset_index().rename(columns={0:'missNum'})\n",
        "missing['missRate'] = missing['missNum'] / result_train.shape[0]\n",
        "miss_analy = missing[missing.missRate > 0].sort_values(by='missRate', ascending=False)\n",
        "\n",
        "fig = plt.figure(figsize=(18, 6))\n",
        "plt.bar(np.arange(miss_analy.shape[0]), list(miss_analy.missRate.values), align='center')\n",
        "\n",
        "plt.title('Histogram of missing value of variables of training dataset with label')\n",
        "plt.xlabel('variables names')\n",
        "plt.ylabel('missing rate')\n",
        "plt.xticks(np.arange(miss_analy.shape[0]), list(miss_analy['index']))\n",
        "plt.xticks(rotation=90)\n",
        "for x, y in enumerate(list(miss_analy.missRate.values)):\n",
        "    plt.text(x, y + 0.12, '{:.2%}'.format(y), ha='center', rotation=90)    \n",
        "\n",
        "plt.ylim([0, 0.8])  \n",
        "plt.savefig(f'./statistics/miss rate_train_stat.png')  \n",
        "plt.show()\n",
        "plt.close()"
      ],
      "metadata": {
        "colab": {
          "base_uri": "https://localhost:8080/",
          "height": 574
        },
        "id": "IkqLkqWstyE-",
        "outputId": "7bd51f60-0416-4403-c421-a68d66945336"
      },
      "execution_count": 277,
      "outputs": [
        {
          "output_type": "display_data",
          "data": {
            "image/png": "[encoded data removed]",
            "text/plain": [
              "<Figure size 1296x432 with 1 Axes>"
            ]
          },
          "metadata": {
            "needs_background": "light"
          }
        }
      ]
    },
    {
      "cell_type": "code",
      "source": [
        "missing = result_train_miss.isnull().sum().reset_index().rename(columns={0:'missNum'})\n",
        "missing['missRate'] = missing['missNum'] / result_train_miss.shape[0]\n",
        "miss_analy = missing[missing.missRate > 0].sort_values(by='missRate', ascending=False)\n",
        "\n",
        "fig = plt.figure(figsize=(18, 6))\n",
        "plt.bar(np.arange(miss_analy.shape[0]), list(miss_analy.missRate.values), align='center')\n",
        "\n",
        "plt.title('Histogram of missing value of variables of training dataset without label')\n",
        "plt.xlabel('variables names')\n",
        "plt.ylabel('missing rate')\n",
        "plt.xticks(np.arange(miss_analy.shape[0]), list(miss_analy['index']))\n",
        "plt.xticks(rotation=90)\n",
        "for x, y in enumerate(list(miss_analy.missRate.values)):\n",
        "    plt.text(x, y + 0.12, '{:.2%}'.format(y), ha='center', rotation=90)    \n",
        "\n",
        "plt.ylim([0, 1.4])  \n",
        "plt.savefig(f'./statistics/miss rate_train_stat.png')  \n",
        "plt.show()\n",
        "plt.close()"
      ],
      "metadata": {
        "colab": {
          "base_uri": "https://localhost:8080/",
          "height": 574
        },
        "id": "8zfPtzuwt7hA",
        "outputId": "df05b464-da0b-4497-aa73-3b0af891423e"
      },
      "execution_count": 278,
      "outputs": [
        {
          "output_type": "display_data",
          "data": {
            "image/png": "[encoded data removed]",
            "text/plain": [
              "<Figure size 1296x432 with 1 Axes>"
            ]
          },
          "metadata": {
            "needs_background": "light"
          }
        }
      ]
    },
    {
      "cell_type": "code",
      "source": [
        "missing = result_test.isnull().sum().reset_index().rename(columns={0:'missNum'})\n",
        "missing['missRate'] = missing['missNum'] / result_test.shape[0]\n",
        "miss_analy = missing[missing.missRate > 0].sort_values(by='missRate', ascending=False)\n",
        "\n",
        "fig = plt.figure(figsize=(18, 6))\n",
        "plt.bar(np.arange(miss_analy.shape[0]), list(miss_analy.missRate.values), align='center')\n",
        "\n",
        "plt.title('Histogram of missing value of variables of test dataset')\n",
        "plt.xlabel('variables names')\n",
        "plt.ylabel('missing rate')\n",
        "plt.xticks(np.arange(miss_analy.shape[0]), list(miss_analy['index']))\n",
        "plt.xticks(rotation=90)\n",
        "for x, y in enumerate(list(miss_analy.missRate.values)):\n",
        "    plt.text(x, y + 0.12, '{:.2%}'.format(y), ha='center', rotation=90)    \n",
        "\n",
        "plt.ylim([0, 1.4])  \n",
        "plt.savefig(f'./statistics/miss rate_test_stat.png')  \n",
        "plt.show()\n",
        "plt.close()"
      ],
      "metadata": {
        "colab": {
          "base_uri": "https://localhost:8080/",
          "height": 574
        },
        "id": "BVN8BclJkD1J",
        "outputId": "42fe7d5a-cb2b-47b6-bd31-f7a908829572"
      },
      "execution_count": 279,
      "outputs": [
        {
          "output_type": "display_data",
          "data": {
            "image/png": "[encoded data removed]",
            "text/plain": [
              "<Figure size 1296x432 with 1 Axes>"
            ]
          },
          "metadata": {
            "needs_background": "light"
          }
        }
      ]
    },
    {
      "cell_type": "markdown",
      "source": [
        "# **Statistics and Data Preprocessing**"
      ],
      "metadata": {
        "id": "eYyJOoclqCFk"
      }
    },
    {
      "cell_type": "code",
      "source": [
        "result_train_total_copy = result_train_total.copy(deep=True)\n",
        "result_train_copy = result_train.copy(deep=True) # TODO\n",
        "result_train_miss_copy = result_train_miss.copy(deep=True)\n",
        "result_test_copy = result_test.copy(deep=True)\n",
        "def label_statistics(label):\n",
        "    freq = result_train_total.groupby(label).size()\n",
        "\n",
        "    names = [name for name, _ in freq.items()]\n",
        "    names.append('Nan')\n",
        "    counts = [count for _, count in freq.items()]\n",
        "    counts.append(len(result_train[label]) - sum(counts))\n",
        "\n",
        "    fig = plt.figure(figsize=(8, 6))\n",
        "    x = np.arange(len(names))\n",
        "    plt.bar(x, counts)\n",
        "    plt.xticks(x, names, rotation=15)\n",
        "    plt.title(f'Statistics of {label}')\n",
        "    plt.savefig(f'./statistics/Statistics of {label}.png')\n",
        "    print(f'Statistics of {label}.png saved')\n",
        "    plt.close()"
      ],
      "metadata": {
        "id": "ho-LNzp4g_Eb"
      },
      "execution_count": 280,
      "outputs": []
    },
    {
      "cell_type": "code",
      "source": [
        "need_statistics_col = ['Churn Category', 'Satisfaction Score', \n",
        "       'Gender', 'Under 30', 'Senior Citizen', 'Married', 'Dependents',\n",
        "       'Number of Dependents', 'Country', 'State', 'City', 'Quarter',\n",
        "       'Referred a Friend', 'Number of Referrals', 'Offer',\n",
        "       'Phone Service', 'Multiple Lines', 'Internet Service', 'Internet Type',\n",
        "       'Online Security', 'Online Backup', 'Device Protection Plan',\n",
        "       'Premium Tech Support', 'Streaming TV', 'Streaming Movies',\n",
        "       'Streaming Music', 'Unlimited Data', 'Contract', 'Paperless Billing',\n",
        "       'Payment Method', 'Zip Code']\n",
        "\n",
        "# Replace NaN with the most frequent label\n",
        "for need_col in need_statistics_col:\n",
        "    label_statistics(need_col)\n",
        "\n",
        "    # Encode target labels with value\n",
        "    le = LabelEncoder()\n",
        "    result_train_copy[need_col] = le.fit_transform(result_train_copy[need_col])\n",
        "\n",
        "    if need_col == 'Churn Category':\n",
        "        encoder_map = dict(zip(le.classes_, le.transform(le.classes_)))\n",
        "    \n",
        "    result_train_miss_copy[need_col] = le.fit_transform(result_train_miss_copy[need_col])\n",
        "    result_test_copy[need_col] = le.fit_transform(result_test_copy[need_col])"
      ],
      "metadata": {
        "colab": {
          "base_uri": "https://localhost:8080/"
        },
        "id": "Pl4omt-mIGDW",
        "outputId": "131c1d66-8623-44fb-ea06-113ab1a3facc"
      },
      "execution_count": 281,
      "outputs": [
        {
          "output_type": "stream",
          "name": "stdout",
          "text": [
            "Statistics of Churn Category.png saved\n",
            "Statistics of Satisfaction Score.png saved\n",
            "Statistics of Gender.png saved\n",
            "Statistics of Under 30.png saved\n",
            "Statistics of Senior Citizen.png saved\n",
            "Statistics of Married.png saved\n",
            "Statistics of Dependents.png saved\n",
            "Statistics of Number of Dependents.png saved\n",
            "Statistics of Country.png saved\n",
            "Statistics of State.png saved\n",
            "Statistics of City.png saved\n",
            "Statistics of Quarter.png saved\n",
            "Statistics of Referred a Friend.png saved\n",
            "Statistics of Number of Referrals.png saved\n",
            "Statistics of Offer.png saved\n",
            "Statistics of Phone Service.png saved\n",
            "Statistics of Multiple Lines.png saved\n",
            "Statistics of Internet Service.png saved\n",
            "Statistics of Internet Type.png saved\n",
            "Statistics of Online Security.png saved\n",
            "Statistics of Online Backup.png saved\n",
            "Statistics of Device Protection Plan.png saved\n",
            "Statistics of Premium Tech Support.png saved\n",
            "Statistics of Streaming TV.png saved\n",
            "Statistics of Streaming Movies.png saved\n",
            "Statistics of Streaming Music.png saved\n",
            "Statistics of Unlimited Data.png saved\n",
            "Statistics of Contract.png saved\n",
            "Statistics of Paperless Billing.png saved\n",
            "Statistics of Payment Method.png saved\n",
            "Statistics of Zip Code.png saved\n"
          ]
        }
      ]
    },
    {
      "cell_type": "code",
      "source": [
        "population = pd.read_csv('./data/population.csv')\n",
        "population = population.drop('Zip Code', axis=1)\n",
        "population.rename({'ID':'Zip Code'}, axis=1, inplace=True)\n",
        "result_train_copy = pd.merge(result_train_copy, population, how='left', on='Zip Code')\n",
        "result_train_miss_copy = pd.merge(result_train_miss_copy, population, how='left', on='Zip Code')\n",
        "result_test_copy = pd.merge(result_test_copy, population, how='left', on='Zip Code')\n",
        "\n",
        "need_avg_col = [item for item in result_cols if item not in need_statistics_col]\n",
        "need_avg_col.append('Population')\n",
        "\n",
        "def data_imputation(train_dataset, miss_dataset, test_dataset, target):\n",
        "    imputer = IterativeImputer(max_iter=10, initial_strategy='median', imputation_order='descending', random_state=seed)\n",
        "    imputer.fit(train_dataset)\n",
        "    train_dataset = imputer.transform(train_dataset)\n",
        "    miss_dataset = imputer.transform(miss_dataset)\n",
        "    test_dataset = imputer.transform(test_dataset)\n",
        "\n",
        "    train_dataset = pd.DataFrame(train_dataset, columns=target)\n",
        "    miss_dataset = pd.DataFrame(miss_dataset, columns=target)\n",
        "    test_dataset = pd.DataFrame(test_dataset, columns=target)\n",
        "\n",
        "    return train_dataset, miss_dataset, test_dataset\n",
        "\n",
        "col_names = list(result_cols.values)\n",
        "col_names.remove('Customer ID')\n",
        "col_names.remove('Lat Long')\n",
        "col_names.remove('Churn Category')\n",
        "col_names.append('Population')\n",
        "\n",
        "for label in col_names:\n",
        "    target = [label, 'Churn Category']\n",
        "    result_train_copy[target], result_train_miss_copy[target], result_test_copy[target] = data_imputation(result_train_copy[target], result_train_miss_copy[target], result_test_copy[target], target)"
      ],
      "metadata": {
        "id": "hjvCj4CgJPoJ"
      },
      "execution_count": 282,
      "outputs": []
    },
    {
      "cell_type": "code",
      "source": [
        "result_train_copy = result_train_copy.drop('Customer ID', axis=1)\n",
        "result_train_copy = result_train_copy.drop('Lat Long', axis=1)\n",
        "result_train_miss_copy = result_train_miss_copy.drop('Customer ID', axis=1)\n",
        "result_train_miss_copy = result_train_miss_copy.drop('Lat Long', axis=1)\n",
        "result_test_copy = result_test_copy.drop('Customer ID', axis=1)\n",
        "result_test_copy = result_test_copy.drop('Lat Long', axis=1)\n",
        "\n",
        "print(result_train_copy)"
      ],
      "metadata": {
        "colab": {
          "base_uri": "https://localhost:8080/"
        },
        "id": "KD6rjC0Yr7cW",
        "outputId": "ba86b37a-e516-45b3-85ae-016203138dca"
      },
      "execution_count": 283,
      "outputs": [
        {
          "output_type": "stream",
          "name": "stdout",
          "text": [
            "      Count_x  Quarter  ...  Churn Category  Population\n",
            "0         1.0      1.0  ...             1.0       660.0\n",
            "1         1.0      0.0  ...             1.0     37280.0\n",
            "2         1.0      0.0  ...             3.0      2899.0\n",
            "3         1.0      0.0  ...             1.0     26831.0\n",
            "4         1.0      1.0  ...             3.0       660.0\n",
            "...       ...      ...  ...             ...         ...\n",
            "4221      1.0      1.0  ...             3.0       660.0\n",
            "4222      1.0      1.0  ...             3.0       660.0\n",
            "4223      1.0      1.0  ...             3.0       660.0\n",
            "4224      1.0      1.0  ...             3.0       660.0\n",
            "4225      1.0      0.0  ...             3.0     27047.0\n",
            "\n",
            "[4226 rows x 47 columns]\n"
          ]
        }
      ]
    },
    {
      "cell_type": "code",
      "source": [
        "# Find the correlation of columns\n",
        "cor_matrix = result_train_copy.corr().abs()\n",
        "print(cor_matrix['Churn Category'])"
      ],
      "metadata": {
        "id": "WdnuvMdMS7_L",
        "outputId": "6c9acea9-cef6-48e1-eca7-3428ab10a72a",
        "colab": {
          "base_uri": "https://localhost:8080/"
        }
      },
      "execution_count": 284,
      "outputs": [
        {
          "output_type": "stream",
          "name": "stdout",
          "text": [
            "Count_x                                   NaN\n",
            "Quarter                              0.026687\n",
            "Referred a Friend                    0.034992\n",
            "Number of Referrals                  0.065368\n",
            "Tenure in Months                     0.294675\n",
            "Offer                                0.035282\n",
            "Phone Service                        0.004287\n",
            "Avg Monthly Long Distance Charges    0.006149\n",
            "Multiple Lines                       0.021953\n",
            "Internet Service                     0.021609\n",
            "Internet Type                        0.038484\n",
            "Avg Monthly GB Download              0.071765\n",
            "Online Security                      0.061089\n",
            "Online Backup                        0.031315\n",
            "Device Protection Plan               0.028059\n",
            "Premium Tech Support                 0.053844\n",
            "Streaming TV                         0.008534\n",
            "Streaming Movies                     0.000321\n",
            "Streaming Music                      0.015176\n",
            "Unlimited Data                       0.013768\n",
            "Contract                             0.111203\n",
            "Paperless Billing                    0.009588\n",
            "Payment Method                       0.048995\n",
            "Monthly Charge                       0.179517\n",
            "Total Charges                        0.169301\n",
            "Total Refunds                        0.015231\n",
            "Total Extra Data Charges             0.023206\n",
            "Total Long Distance Charges          0.197107\n",
            "Total Revenue                        0.198301\n",
            "Count_y                                   NaN\n",
            "Country                              0.043073\n",
            "State                                0.054701\n",
            "City                                 0.035223\n",
            "Zip Code                             0.045957\n",
            "Latitude                             0.109684\n",
            "Longitude                            0.074582\n",
            "Satisfaction Score                   0.248098\n",
            "Count                                     NaN\n",
            "Gender                               0.005451\n",
            "Age                                  0.082006\n",
            "Under 30                             0.043659\n",
            "Senior Citizen                       0.004644\n",
            "Married                              0.037126\n",
            "Dependents                           0.087645\n",
            "Number of Dependents                 0.052063\n",
            "Churn Category                       1.000000\n",
            "Population                           0.014290\n",
            "Name: Churn Category, dtype: float64\n"
          ]
        }
      ]
    },
    {
      "cell_type": "code",
      "source": [
        "plt.figure(figsize=(17, 13))\n",
        "cor_matrix_copy = cor_matrix.copy(deep=True)\n",
        "cor_matrix_copy.dropna()\n",
        "ax = sns.heatmap(cor_matrix_copy, xticklabels=cor_matrix_copy.columns, yticklabels=cor_matrix_copy.columns, \n",
        "                 linewidths=0.2, cmap=\"RdYlGn_r\", fmt=\"s\")\n",
        "\n",
        "plt.title(\"Correlation between variables\")\n",
        "plt.show()"
      ],
      "metadata": {
        "id": "cqoSHlGbvcVZ",
        "outputId": "2c667b67-de14-44d8-9246-6b6d9c9e4804",
        "colab": {
          "base_uri": "https://localhost:8080/",
          "height": 941
        }
      },
      "execution_count": 285,
      "outputs": [
        {
          "output_type": "display_data",
          "data": {
            "image/png": "[encoded data removed]",
            "text/plain": [
              "<Figure size 1224x936 with 2 Axes>"
            ]
          },
          "metadata": {
            "needs_background": "light"
          }
        }
      ]
    },
    {
      "cell_type": "code",
      "source": [
        "useless_feature = [index for index, value in cor_matrix['Churn Category'].items() if value < 0.05 or pd.isnull(value)]\n",
        "print(useless_feature)"
      ],
      "metadata": {
        "id": "EUWHiNXdKhGP",
        "outputId": "d7787c4d-5080-48fb-b850-09203b4bd079",
        "colab": {
          "base_uri": "https://localhost:8080/"
        }
      },
      "execution_count": 286,
      "outputs": [
        {
          "output_type": "stream",
          "name": "stdout",
          "text": [
            "['Count_x', 'Quarter', 'Referred a Friend', 'Offer', 'Phone Service', 'Avg Monthly Long Distance Charges', 'Multiple Lines', 'Internet Service', 'Internet Type', 'Online Backup', 'Device Protection Plan', 'Streaming TV', 'Streaming Movies', 'Streaming Music', 'Unlimited Data', 'Paperless Billing', 'Payment Method', 'Total Refunds', 'Total Extra Data Charges', 'Count_y', 'Country', 'City', 'Zip Code', 'Count', 'Gender', 'Under 30', 'Senior Citizen', 'Married', 'Population']\n"
          ]
        }
      ]
    },
    {
      "cell_type": "code",
      "source": [
        "def dropColumns(label):\n",
        "    global result_train_copy, result_train_miss_copy, result_test_copy\n",
        "    result_train_copy = result_train_copy.drop(label, axis=1)\n",
        "    result_train_miss_copy = result_train_miss_copy.drop(label, axis=1)\n",
        "    result_test_copy = result_test_copy.drop(label, axis=1)"
      ],
      "metadata": {
        "id": "K5quNy8vHQzb"
      },
      "execution_count": 287,
      "outputs": []
    },
    {
      "cell_type": "code",
      "source": [
        "# Throw away the data columns whose correlation to Churn Category is less than 0.05\n",
        "for item in useless_feature:\n",
        "    dropColumns(item)"
      ],
      "metadata": {
        "id": "Cis3gTDOG9Im"
      },
      "execution_count": 288,
      "outputs": []
    },
    {
      "cell_type": "code",
      "source": [
        "result_train_copy.to_csv('./data/result_after_preprocessing.csv') # Save after preprocessing result to result_after_preprocessing.csv\n",
        "feature_amount = len(result_train_copy.columns)\n",
        "\n",
        "print(result_train_copy)\n",
        "print(result_train_miss_copy)\n",
        "print(result_test_copy)"
      ],
      "metadata": {
        "colab": {
          "base_uri": "https://localhost:8080/"
        },
        "id": "-DsDpzq_Lgp3",
        "outputId": "1f5928d4-0001-43b1-e5d7-54cbbc841007"
      },
      "execution_count": 289,
      "outputs": [
        {
          "output_type": "stream",
          "name": "stdout",
          "text": [
            "      Number of Referrals  ...  Churn Category\n",
            "0                    11.0  ...             1.0\n",
            "1                     0.0  ...             1.0\n",
            "2                     4.0  ...             3.0\n",
            "3                     0.0  ...             1.0\n",
            "4                    11.0  ...             3.0\n",
            "...                   ...  ...             ...\n",
            "4221                 11.0  ...             3.0\n",
            "4222                 11.0  ...             3.0\n",
            "4223                 11.0  ...             3.0\n",
            "4224                 11.0  ...             3.0\n",
            "4225                  8.0  ...             3.0\n",
            "\n",
            "[4226 rows x 18 columns]\n",
            "      Number of Referrals  ...  Churn Category\n",
            "0                     0.0  ...             0.0\n",
            "1                     2.0  ...             0.0\n",
            "2                     1.0  ...             0.0\n",
            "3                    10.0  ...             0.0\n",
            "4                     0.0  ...             0.0\n",
            "...                   ...  ...             ...\n",
            "1403                  0.0  ...             0.0\n",
            "1404                 12.0  ...             0.0\n",
            "1405                  9.0  ...             0.0\n",
            "1406                  0.0  ...             0.0\n",
            "1407                  0.0  ...             0.0\n",
            "\n",
            "[1408 rows x 18 columns]\n",
            "      Number of Referrals  ...  Churn Category\n",
            "0                     1.0  ...             0.0\n",
            "1                     0.0  ...             0.0\n",
            "2                     9.0  ...             0.0\n",
            "3                     1.0  ...             0.0\n",
            "4                     1.0  ...             0.0\n",
            "...                   ...  ...             ...\n",
            "1404                  0.0  ...             0.0\n",
            "1405                 11.0  ...             0.0\n",
            "1406                  1.0  ...             0.0\n",
            "1407                  1.0  ...             0.0\n",
            "1408                  0.0  ...             0.0\n",
            "\n",
            "[1409 rows x 18 columns]\n"
          ]
        }
      ]
    },
    {
      "cell_type": "markdown",
      "source": [
        "# **Balance Data**"
      ],
      "metadata": {
        "id": "bPTqADO2Ox2F"
      }
    },
    {
      "cell_type": "code",
      "source": [
        "y_train = result_train_copy['Churn Category'].values\n",
        "X_train = result_train_copy.drop('Churn Category', axis=1)\n",
        "\n",
        "X_train_miss = result_train_miss_copy.drop('Churn Category', axis=1)"
      ],
      "metadata": {
        "id": "RiyIrSnaNq6F"
      },
      "execution_count": 290,
      "outputs": []
    },
    {
      "cell_type": "code",
      "source": [
        "print(f\"normal data distribution: {Counter(y_train)}\")\n",
        "\n",
        "class_weight = dict(Counter(y_train))\n",
        "\n",
        "smo = SMOTE(random_state=seed)\n",
        "X_train, y_train = smo.fit_resample(X_train, y_train)\n",
        "\n",
        "print(f\"SMOTE data distribution: {Counter(y_train)}\")"
      ],
      "metadata": {
        "id": "LmlxI28WQUG2",
        "outputId": "fcb71146-e2af-4d6a-90d8-888c78e14cc9",
        "colab": {
          "base_uri": "https://localhost:8080/"
        }
      },
      "execution_count": 291,
      "outputs": [
        {
          "output_type": "stream",
          "name": "stdout",
          "text": [
            "normal data distribution: Counter({3.0: 3118, 1.0: 490, 0.0: 201, 2.0: 177, 5.0: 124, 4.0: 116})\n",
            "ADASYN data distribution: Counter({1.0: 3118, 3.0: 3118, 2.0: 3118, 4.0: 3118, 5.0: 3118, 0.0: 3118})\n"
          ]
        }
      ]
    },
    {
      "cell_type": "markdown",
      "source": [
        "# **Split and Standardize Data**"
      ],
      "metadata": {
        "id": "UXGFeitBu5sI"
      }
    },
    {
      "cell_type": "code",
      "source": [
        "train_x, val_x, train_y, val_y = train_test_split(X_train, y_train, test_size=0.2, random_state=seed)\n",
        "\n",
        "ss = StandardScaler().fit(train_x)\n",
        "train_x = ss.transform(train_x)\n",
        "val_x = ss.transform(val_x)\n",
        "miss_x = ss.transform(X_train_miss)\n",
        "\n",
        "X_test = result_test_copy.drop('Churn Category', axis=1)\n",
        "X_test_std = ss.transform(X_test)\n",
        "\n",
        "class_weight = {k: train_x.shape[0] / v for k, v in class_weight.items()}\n",
        "class_weight = collections.OrderedDict(sorted(class_weight.items()))\n",
        "print(class_weight)"
      ],
      "metadata": {
        "id": "euCLdtvkO-nO",
        "colab": {
          "base_uri": "https://localhost:8080/"
        },
        "outputId": "e1f5de5c-464a-47d7-8ea8-099b2260ab39"
      },
      "execution_count": 292,
      "outputs": [
        {
          "output_type": "stream",
          "name": "stdout",
          "text": [
            "OrderedDict([(0.0, 74.45771144278606), (1.0, 30.542857142857144), (2.0, 84.55367231638418), (3.0, 4.799871712636305), (4.0, 129.01724137931035), (5.0, 120.69354838709677)])\n"
          ]
        }
      ]
    },
    {
      "cell_type": "markdown",
      "source": [
        "# **SVM Train**"
      ],
      "metadata": {
        "id": "3HpyuY-RQEz1"
      }
    },
    {
      "cell_type": "code",
      "source": [
        "svm = SVC(kernel='rbf', gamma=0.1, C=10, class_weight=class_weight)\n",
        "\n",
        "start_time = time.time()\n",
        "model = svm.fit(train_x, train_y)\n",
        "end_time = time.time()\n",
        "\n",
        "print(f'Training use {round(end_time - start_time, 3)}s')"
      ],
      "metadata": {
        "colab": {
          "base_uri": "https://localhost:8080/"
        },
        "id": "VXuL_lKqW_mD",
        "outputId": "32850dea-1f31-429d-a516-9c473f0c174c"
      },
      "execution_count": 293,
      "outputs": [
        {
          "output_type": "stream",
          "name": "stdout",
          "text": [
            "Training use 5.476s\n"
          ]
        }
      ]
    },
    {
      "cell_type": "code",
      "source": [
        "y_train_predict = svm.predict(train_x)\n",
        "Ein = np.mean(np.array(y_train_predict) != train_y)\n",
        "F1in = metrics.f1_score(train_y, y_train_predict, average='macro')  \n",
        "print(f'Ein = {round(Ein, 5)}')\n",
        "print(f'F1_in = {round(F1in, 5)}')\n",
        "\n",
        "y_val_predict = svm.predict(val_x)\n",
        "Eval = np.mean(np.array(y_val_predict) != val_y)\n",
        "F1val = metrics.f1_score(val_y, y_val_predict, average='macro')  \n",
        "print(f'Eval = {round(Eval, 5)}')\n",
        "print(f'F1_val = {round(F1val, 5)}')"
      ],
      "metadata": {
        "colab": {
          "base_uri": "https://localhost:8080/"
        },
        "id": "WivcNevbY1lB",
        "outputId": "597b1d39-c80c-48eb-ac2c-9c0e629f7844"
      },
      "execution_count": 294,
      "outputs": [
        {
          "output_type": "stream",
          "name": "stdout",
          "text": [
            "Ein = 0.0\n",
            "F1_in = 1.0\n",
            "Eval = 0.02084\n",
            "F1_val = 0.97883\n"
          ]
        }
      ]
    },
    {
      "cell_type": "code",
      "source": [
        "plot_confusion_matrix(model, train_x, train_y)\n",
        "plot_confusion_matrix(model, val_x, val_y)\n",
        "print(encoder_map)"
      ],
      "metadata": {
        "id": "yWM9fKw1MLr1",
        "outputId": "e2a3faaf-11cb-4014-883c-ca8e4b7c83cd",
        "colab": {
          "base_uri": "https://localhost:8080/",
          "height": 650
        }
      },
      "execution_count": 295,
      "outputs": [
        {
          "output_type": "stream",
          "name": "stderr",
          "text": [
            "/usr/local/lib/python3.7/dist-packages/sklearn/utils/deprecation.py:87: FutureWarning: Function plot_confusion_matrix is deprecated; Function `plot_confusion_matrix` is deprecated in 1.0 and will be removed in 1.2. Use one of the class methods: ConfusionMatrixDisplay.from_predictions or ConfusionMatrixDisplay.from_estimator.\n",
            "  warnings.warn(msg, category=FutureWarning)\n",
            "/usr/local/lib/python3.7/dist-packages/sklearn/utils/deprecation.py:87: FutureWarning: Function plot_confusion_matrix is deprecated; Function `plot_confusion_matrix` is deprecated in 1.0 and will be removed in 1.2. Use one of the class methods: ConfusionMatrixDisplay.from_predictions or ConfusionMatrixDisplay.from_estimator.\n",
            "  warnings.warn(msg, category=FutureWarning)\n"
          ]
        },
        {
          "output_type": "stream",
          "name": "stdout",
          "text": [
            "{'Attitude': 0, 'Competitor': 1, 'Dissatisfaction': 2, 'No Churn': 3, 'Other': 4, 'Price': 5}\n"
          ]
        },
        {
          "output_type": "display_data",
          "data": {
            "image/png": "[encoded data removed]",
            "text/plain": [
              "<Figure size 432x288 with 2 Axes>"
            ]
          },
          "metadata": {
            "needs_background": "light"
          }
        },
        {
          "output_type": "display_data",
          "data": {
            "image/png": "[encoded data removed]",
            "text/plain": [
              "<Figure size 432x288 with 2 Axes>"
            ]
          },
          "metadata": {
            "needs_background": "light"
          }
        }
      ]
    },
    {
      "cell_type": "code",
      "source": [
        "print(classification_report(train_y, y_train_predict))\n",
        "print(classification_report(val_y, y_val_predict))"
      ],
      "metadata": {
        "id": "LMiWePsbSW4Y",
        "outputId": "7c1f82c5-c41f-4e25-c772-cf1327a554e2",
        "colab": {
          "base_uri": "https://localhost:8080/"
        }
      },
      "execution_count": 296,
      "outputs": [
        {
          "output_type": "stream",
          "name": "stdout",
          "text": [
            "              precision    recall  f1-score   support\n",
            "\n",
            "         0.0       1.00      1.00      1.00      2485\n",
            "         1.0       1.00      1.00      1.00      2514\n",
            "         2.0       1.00      1.00      1.00      2456\n",
            "         3.0       1.00      1.00      1.00      2502\n",
            "         4.0       1.00      1.00      1.00      2523\n",
            "         5.0       1.00      1.00      1.00      2486\n",
            "\n",
            "    accuracy                           1.00     14966\n",
            "   macro avg       1.00      1.00      1.00     14966\n",
            "weighted avg       1.00      1.00      1.00     14966\n",
            "\n",
            "              precision    recall  f1-score   support\n",
            "\n",
            "         0.0       0.97      0.99      0.98       633\n",
            "         1.0       0.98      0.96      0.97       604\n",
            "         2.0       0.97      1.00      0.99       662\n",
            "         3.0       0.99      0.93      0.95       616\n",
            "         4.0       0.98      1.00      0.99       595\n",
            "         5.0       0.99      1.00      0.99       632\n",
            "\n",
            "    accuracy                           0.98      3742\n",
            "   macro avg       0.98      0.98      0.98      3742\n",
            "weighted avg       0.98      0.98      0.98      3742\n",
            "\n"
          ]
        }
      ]
    },
    {
      "cell_type": "markdown",
      "source": [
        "# **SVM Test**"
      ],
      "metadata": {
        "id": "ViqMiLyMavbf"
      }
    },
    {
      "cell_type": "code",
      "source": [
        "y_test = svm.predict(X_test_std)\n",
        "plot_confusion_matrix(model, X_test_std, y_test)\n",
        "print(encoder_map)"
      ],
      "metadata": {
        "id": "098w16TfMkqn",
        "colab": {
          "base_uri": "https://localhost:8080/",
          "height": 351
        },
        "outputId": "d562de39-cb3b-48cd-e83d-3e17a643b808"
      },
      "execution_count": 297,
      "outputs": [
        {
          "output_type": "stream",
          "name": "stderr",
          "text": [
            "/usr/local/lib/python3.7/dist-packages/sklearn/utils/deprecation.py:87: FutureWarning: Function plot_confusion_matrix is deprecated; Function `plot_confusion_matrix` is deprecated in 1.0 and will be removed in 1.2. Use one of the class methods: ConfusionMatrixDisplay.from_predictions or ConfusionMatrixDisplay.from_estimator.\n",
            "  warnings.warn(msg, category=FutureWarning)\n"
          ]
        },
        {
          "output_type": "stream",
          "name": "stdout",
          "text": [
            "{'Attitude': 0, 'Competitor': 1, 'Dissatisfaction': 2, 'No Churn': 3, 'Other': 4, 'Price': 5}\n"
          ]
        },
        {
          "output_type": "display_data",
          "data": {
            "image/png": "[encoded data removed]",
            "text/plain": [
              "<Figure size 432x288 with 2 Axes>"
            ]
          },
          "metadata": {
            "needs_background": "light"
          }
        }
      ]
    },
    {
      "cell_type": "code",
      "source": [
        "svm_submit_result = './svm_result.csv'\n",
        "\n",
        "new_encoder_map = {'No Churn':0, 'Competitor': 1, 'Dissatisfaction':2, 'Attitude': 3, 'Price':4, 'Other':5}\n",
        "\n",
        "with open(svm_submit_result, 'w') as f:\n",
        "    f.write('Customer ID,Churn Category\\n')\n",
        "    for i in range(len(df_test.values)):\n",
        "        id = str(df_test.values[i]).replace('[\\'', '')\n",
        "        id = id.replace('\\']', '')\n",
        "        pred = new_encoder_map.get(list(encoder_map.keys())[list(encoder_map.values()).index(y_test[i])])\n",
        "        f.write(f'{id},{pred}\\n')"
      ],
      "metadata": {
        "id": "6N35sOjrcpNd"
      },
      "execution_count": 298,
      "outputs": []
    },
    {
      "cell_type": "code",
      "source": [
        "from google.colab import files\n",
        "\n",
        "files.download(svm_submit_result)"
      ],
      "metadata": {
        "id": "0tLUThI7nWnj",
        "colab": {
          "base_uri": "https://localhost:8080/",
          "height": 17
        },
        "outputId": "3915704b-52de-4d4a-d409-0bb013330bd2"
      },
      "execution_count": 299,
      "outputs": [
        {
          "output_type": "display_data",
          "data": {
            "application/javascript": [
              "\n",
              "    async function download(id, filename, size) {\n",
              "      if (!google.colab.kernel.accessAllowed) {\n",
              "        return;\n",
              "      }\n",
              "      const div = document.createElement('div');\n",
              "      const label = document.createElement('label');\n",
              "      label.textContent = `Downloading \"${filename}\": `;\n",
              "      div.appendChild(label);\n",
              "      const progress = document.createElement('progress');\n",
              "      progress.max = size;\n",
              "      div.appendChild(progress);\n",
              "      document.body.appendChild(div);\n",
              "\n",
              "      const buffers = [];\n",
              "      let downloaded = 0;\n",
              "\n",
              "      const channel = await google.colab.kernel.comms.open(id);\n",
              "      // Send a message to notify the kernel that we're ready.\n",
              "      channel.send({})\n",
              "\n",
              "      for await (const message of channel.messages) {\n",
              "        // Send a message to notify the kernel that we're ready.\n",
              "        channel.send({})\n",
              "        if (message.buffers) {\n",
              "          for (const buffer of message.buffers) {\n",
              "            buffers.push(buffer);\n",
              "            downloaded += buffer.byteLength;\n",
              "            progress.value = downloaded;\n",
              "          }\n",
              "        }\n",
              "      }\n",
              "      const blob = new Blob(buffers, {type: 'application/binary'});\n",
              "      const a = document.createElement('a');\n",
              "      a.href = window.URL.createObjectURL(blob);\n",
              "      a.download = filename;\n",
              "      div.appendChild(a);\n",
              "      a.click();\n",
              "      div.remove();\n",
              "    }\n",
              "  "
            ],
            "text/plain": [
              "<IPython.core.display.Javascript object>"
            ]
          },
          "metadata": {}
        },
        {
          "output_type": "display_data",
          "data": {
            "application/javascript": [
              "download(\"download_1913f6c7-12bf-48de-b814-d336ec9cf003\", \"svm_result.csv\", 18344)"
            ],
            "text/plain": [
              "<IPython.core.display.Javascript object>"
            ]
          },
          "metadata": {}
        }
      ]
    },
    {
      "cell_type": "markdown",
      "source": [
        "# **Deep Neural Network Train**"
      ],
      "metadata": {
        "id": "ZFjmDSVGQPwo"
      }
    },
    {
      "cell_type": "code",
      "source": [
        "class IBMDataset(Dataset):\n",
        "    def __init__(self, X, y=None):\n",
        "        self.data = torch.from_numpy(X).float()\n",
        "        if y is not None:\n",
        "            y = y.astype(np.int)\n",
        "            self.label = torch.LongTensor(y)\n",
        "        else:\n",
        "            self.label = None\n",
        "\n",
        "    def __getitem__(self, idx):\n",
        "        if self.label is not None:\n",
        "            return self.data[idx], self.label[idx]\n",
        "        else:\n",
        "            return self.data[idx]\n",
        "\n",
        "    def __len__(self):\n",
        "        return len(self.data)"
      ],
      "metadata": {
        "id": "G5F9W_RkSub3"
      },
      "execution_count": 300,
      "outputs": []
    },
    {
      "cell_type": "code",
      "source": [
        "class Classifier(nn.Module):\n",
        "    def __init__(self):\n",
        "        super(Classifier, self).__init__()\n",
        "        self.layer1 = nn.Linear(feature_amount - 1, 256)\n",
        "        self.layer2 = nn.Linear(256, 128)\n",
        "        self.bn1 = nn.BatchNorm1d(256)\n",
        "        self.bn2 = nn.BatchNorm1d(128)\n",
        "        self.out = nn.Linear(128, 6)\n",
        "        self.dp = nn.Dropout(0.2)\n",
        "        self.act_fn = nn.LeakyReLU()\n",
        "\n",
        "    def forward(self, x):\n",
        "        x = self.layer1(x)\n",
        "        x = self.act_fn(x)\n",
        "        x = self.bn1(x)\n",
        "        x = self.dp(x)\n",
        "\n",
        "        x = self.layer2(x)\n",
        "        x = self.act_fn(x)\n",
        "        x = self.bn2(x)\n",
        "        x = self.dp(x)\n",
        "        \n",
        "        x = self.out(x)\n",
        "        \n",
        "        return x\n",
        "\n",
        "# classifier = Classifier()\n",
        "# summary(classifier, X_train.shape, device=\"cpu\")"
      ],
      "metadata": {
        "id": "K_ofbzUUQdOX"
      },
      "execution_count": 301,
      "outputs": []
    },
    {
      "cell_type": "code",
      "source": [
        "def get_pseudo_labels(dataset, model, batch_size, threshold=0.95):\n",
        "    device = \"cuda\" if torch.cuda.is_available() else \"cpu\"\n",
        "\n",
        "    data_loader = DataLoader(dataset, batch_size=batch_size, shuffle=False)\n",
        "\n",
        "    model.eval()\n",
        "    softmax = nn.Softmax(dim=-1)\n",
        "\n",
        "    pseudo_x = []\n",
        "    pseudo_y = []\n",
        "    for i, data in enumerate(data_loader):\n",
        "        inputs = data\n",
        "\n",
        "        with torch.no_grad():\n",
        "            logits = model(inputs.to(device))\n",
        "\n",
        "        probs = softmax(logits)\n",
        "        label = torch.where(torch.max(probs, dim=1)[0] > threshold, torch.argmax(probs,dim=1), -1)\n",
        "        label = label.cpu()\n",
        "        for j in range(len(label)):\n",
        "            if label[j] != -1:\n",
        "                pseudo_x.append(data[j])\n",
        "                pseudo_y.append(label[j])\n",
        "\n",
        "    model.train()\n",
        "    print(f\"Pseudo Labeling : {len(pseudo_x)}\")\n",
        "    if len(pseudo_x) > 0:\n",
        "        flag = 1\n",
        "        pseudo_dataset = IBMDataset(torch.stack(pseudo_x, dim=0).numpy(), np.array(pseudo_y))\n",
        "        return pseudo_dataset, len(pseudo_x), flag\n",
        "    else:\n",
        "        flag = 0\n",
        "        return None, 0, flag\n",
        "    "
      ],
      "metadata": {
        "id": "Qh3PCk2FdEkf"
      },
      "execution_count": 302,
      "outputs": []
    },
    {
      "cell_type": "code",
      "source": [
        "VAL_RATIO = 0.2\n",
        "BATCH_SIZE = 64\n",
        "\n",
        "percent = int(X_train.shape[0] * (1 - VAL_RATIO))\n",
        "train_x, train_y, val_x, val_y = X_train[:percent], y_train[:percent], X_train[percent:], y_train[percent:]\n",
        "\n",
        "ss = StandardScaler().fit(train_x)\n",
        "train_x = ss.transform(train_x)\n",
        "miss_x = ss.transform(X_train_miss)\n",
        "val_x = ss.transform(val_x)\n",
        "X_test_std = ss.transform(X_test)\n",
        "\n",
        "print('Size of training set: {}'.format(train_x.shape))\n",
        "print('Size of training set: {}'.format(miss_x.shape))\n",
        "print('Size of validation set: {}'.format(val_x.shape))"
      ],
      "metadata": {
        "id": "3lDEMsTdTVd3",
        "outputId": "20f4f3a0-bdf6-4511-9179-66fa5bb034a9",
        "colab": {
          "base_uri": "https://localhost:8080/"
        }
      },
      "execution_count": 303,
      "outputs": [
        {
          "output_type": "stream",
          "name": "stdout",
          "text": [
            "Size of training set: (14966, 17)\n",
            "Size of training set: (1408, 17)\n",
            "Size of validation set: (3742, 17)\n"
          ]
        }
      ]
    },
    {
      "cell_type": "code",
      "source": [
        "train_set = IBMDataset(train_x, train_y)\n",
        "miss_set = IBMDataset(miss_x, None)\n",
        "val_set = IBMDataset(val_x, val_y)\n",
        "train_loader = DataLoader(train_set, batch_size=BATCH_SIZE, shuffle=True) # only shuffle the training data\n",
        "val_loader = DataLoader(val_set, batch_size=BATCH_SIZE, shuffle=False)"
      ],
      "metadata": {
        "id": "RaPDAgDzTcrs"
      },
      "execution_count": 304,
      "outputs": []
    },
    {
      "cell_type": "code",
      "source": [
        "# get device \n",
        "device = 'cuda' if torch.cuda.is_available() else 'cpu'\n",
        "print(f'DEVICE: {device}')\n",
        "\n",
        "# training parameters\n",
        "num_epoch = 3000             # number of training epoch\n",
        "learning_rate = 0.001       # learning rate\n",
        "callback_num = 400\n",
        "\n",
        "# the path where checkpoint saved\n",
        "model_path = './best_model.ckpt'\n",
        "\n",
        "# create model, define a loss function, and optimizer\n",
        "model = Classifier().to(device)\n",
        "class_weight = [v for k, v in class_weight.items()]\n",
        "criterion = nn.CrossEntropyLoss(weight=torch.FloatTensor(class_weight).to(device))\n",
        "optimizer = torch.optim.Adam(model.parameters(), weight_decay=5e-4, lr=learning_rate)\n",
        "scheduler = StepLR(optimizer, step_size=len(train_loader) * 200, gamma=0.1)"
      ],
      "metadata": {
        "id": "CMbU0r5fRwai",
        "outputId": "cc655ee0-6fc3-4137-dc37-7516fe93aae8",
        "colab": {
          "base_uri": "https://localhost:8080/"
        }
      },
      "execution_count": 305,
      "outputs": [
        {
          "output_type": "stream",
          "name": "stdout",
          "text": [
            "DEVICE: cuda\n"
          ]
        }
      ]
    },
    {
      "cell_type": "code",
      "source": [
        "best_acc = 0.0\n",
        "count = 0\n",
        "start_time = time.time()\n",
        "train_acc_list = []\n",
        "train_loss_list = []\n",
        "val_acc_list = []\n",
        "val_loss_list = []\n",
        "for epoch in range(num_epoch):\n",
        "    train_acc = 0.0\n",
        "    train_loss = 0.0\n",
        "    val_acc = 0.0\n",
        "    val_loss = 0.0\n",
        "\n",
        "    # Pseudo Label\n",
        "    pseudo_set, add_num, flag = get_pseudo_labels(miss_set, model, BATCH_SIZE)\n",
        "    if flag:\n",
        "        concat_dataset = ConcatDataset([train_set, pseudo_set])\n",
        "        train_loader_semi = DataLoader(concat_dataset, batch_size=BATCH_SIZE, shuffle=True, drop_last=True)\n",
        "    else:\n",
        "        train_loader_semi = train_loader\n",
        "\n",
        "    # training\n",
        "    model.train() # set the model to training mode\n",
        "    for i, data in enumerate(train_loader_semi):\n",
        "        inputs, labels = data\n",
        "        inputs, labels = inputs.to(device), labels.to(device)\n",
        "        optimizer.zero_grad() \n",
        "        outputs = model(inputs) \n",
        "        batch_loss = criterion(outputs, labels)\n",
        "        _, train_pred = torch.max(outputs, 1) # get the index of the class with the highest probability\n",
        "        batch_loss.backward() \n",
        "        optimizer.step()\n",
        "        scheduler.step()\n",
        "\n",
        "        train_acc += (train_pred.cpu() == labels.cpu()).sum().item()\n",
        "        train_loss += batch_loss.item()\n",
        "\n",
        "    # validation\n",
        "    if len(val_set) > 0:\n",
        "        model.eval() # set the model to evaluation mode\n",
        "        with torch.no_grad():\n",
        "            for i, data in enumerate(val_loader):\n",
        "                inputs, labels = data\n",
        "                inputs, labels = inputs.to(device), labels.to(device)\n",
        "                outputs = model(inputs)\n",
        "                batch_loss = criterion(outputs, labels) \n",
        "                _, val_pred = torch.max(outputs, 1) \n",
        "            \n",
        "                val_acc += (val_pred.cpu() == labels.cpu()).sum().item() # get the index of the class with the highest probability\n",
        "                val_loss += batch_loss.item()\n",
        "\n",
        "            print('[{:03d}/{:03d}] Train Acc: {:3.6f} Loss: {:3.6f} | Val Acc: {:3.6f} loss: {:3.6f}'.format(\n",
        "                epoch + 1, num_epoch, train_acc/(len(train_set) + add_num), train_loss/len(train_loader_semi), val_acc/len(val_set), val_loss/len(val_loader)\n",
        "            ))\n",
        "\n",
        "            # Record Training and validation info\n",
        "            train_acc_list.append(train_acc/(len(train_set) + add_num))\n",
        "            train_loss_list.append(train_loss/len(train_loader_semi))\n",
        "            val_acc_list.append(val_acc/len(val_set))\n",
        "            val_loss_list.append(val_loss/len(val_loader))\n",
        "\n",
        "            # if the model improves, save a checkpoint at this epoch\n",
        "            count += 1\n",
        "            if val_acc > best_acc:\n",
        "                count = 0\n",
        "                best_acc = val_acc\n",
        "                torch.save(model.state_dict(), model_path)\n",
        "                print('saving model with acc {:.3f}'.format(best_acc/len(val_set)))\n",
        "    else:\n",
        "        print('[{:03d}/{:03d}] Train Acc: {:3.6f} Loss: {:3.6f}'.format(\n",
        "            epoch + 1, num_epoch, train_acc/(len(train_set) + add_num), train_loss/len(train_loader_semi)\n",
        "        ))\n",
        "\n",
        "    if count > callback_num:\n",
        "        break\n",
        "\n",
        "# if not validating, save the last epoch\n",
        "if len(val_set) == 0:\n",
        "    torch.save(model.state_dict(), model_path)\n",
        "    print('saving model at last epoch')\n",
        "\n",
        "end_time = time.time()"
      ],
      "metadata": {
        "id": "zYGRiadPSNDo",
        "outputId": "89ac3317-7596-4c56-cb01-c5906526352d",
        "colab": {
          "base_uri": "https://localhost:8080/"
        }
      },
      "execution_count": 306,
      "outputs": [
        {
          "output_type": "stream",
          "name": "stdout",
          "text": [
            "Pseudo Labeling : 0\n",
            "[001/3000] Train Acc: 0.487037 Loss: 0.970381 | Val Acc: 0.211919 loss: 2.427743\n",
            "saving model with acc 0.212\n",
            "Pseudo Labeling : 52\n",
            "[002/3000] Train Acc: 0.600013 Loss: 0.594832 | Val Acc: 0.241849 loss: 2.517253\n",
            "saving model with acc 0.242\n",
            "Pseudo Labeling : 123\n",
            "[003/3000] Train Acc: 0.653125 Loss: 0.475301 | Val Acc: 0.287012 loss: 1.987803\n",
            "saving model with acc 0.287\n",
            "Pseudo Labeling : 168\n",
            "[004/3000] Train Acc: 0.694793 Loss: 0.400781 | Val Acc: 0.260823 loss: 2.301067\n",
            "Pseudo Labeling : 228\n",
            "[005/3000] Train Acc: 0.726932 Loss: 0.345852 | Val Acc: 0.334046 loss: 1.694017\n",
            "saving model with acc 0.334\n",
            "Pseudo Labeling : 205\n",
            "[006/3000] Train Acc: 0.752093 Loss: 0.306709 | Val Acc: 0.477819 loss: 1.624171\n",
            "saving model with acc 0.478\n",
            "Pseudo Labeling : 242\n",
            "[007/3000] Train Acc: 0.773080 Loss: 0.274819 | Val Acc: 0.383485 loss: 1.459423\n",
            "Pseudo Labeling : 241\n",
            "[008/3000] Train Acc: 0.788058 Loss: 0.261023 | Val Acc: 0.345270 loss: 1.657483\n",
            "Pseudo Labeling : 278\n",
            "[009/3000] Train Acc: 0.800971 Loss: 0.247031 | Val Acc: 0.361571 loss: 1.519814\n",
            "Pseudo Labeling : 276\n",
            "[010/3000] Train Acc: 0.810524 Loss: 0.227459 | Val Acc: 0.592464 loss: 1.171395\n",
            "saving model with acc 0.592\n",
            "Pseudo Labeling : 277\n",
            "[011/3000] Train Acc: 0.817424 Loss: 0.216376 | Val Acc: 0.524586 loss: 1.387395\n",
            "Pseudo Labeling : 311\n",
            "[012/3000] Train Acc: 0.825686 Loss: 0.205043 | Val Acc: 0.384821 loss: 1.734959\n",
            "Pseudo Labeling : 343\n",
            "[013/3000] Train Acc: 0.829839 Loss: 0.201232 | Val Acc: 0.483966 loss: 1.196072\n",
            "Pseudo Labeling : 313\n",
            "[014/3000] Train Acc: 0.838209 Loss: 0.191296 | Val Acc: 0.626670 loss: 1.009131\n",
            "saving model with acc 0.627\n",
            "Pseudo Labeling : 358\n",
            "[015/3000] Train Acc: 0.843383 Loss: 0.179568 | Val Acc: 0.574025 loss: 1.155654\n",
            "Pseudo Labeling : 348\n",
            "[016/3000] Train Acc: 0.841779 Loss: 0.176926 | Val Acc: 0.701497 loss: 0.851325\n",
            "saving model with acc 0.701\n",
            "Pseudo Labeling : 360\n",
            "[017/3000] Train Acc: 0.849732 Loss: 0.169538 | Val Acc: 0.659006 loss: 0.899712\n",
            "Pseudo Labeling : 378\n",
            "[018/3000] Train Acc: 0.849648 Loss: 0.169596 | Val Acc: 0.674773 loss: 0.871380\n",
            "Pseudo Labeling : 377\n",
            "[019/3000] Train Acc: 0.857068 Loss: 0.157575 | Val Acc: 0.752806 loss: 0.720720\n",
            "saving model with acc 0.753\n",
            "Pseudo Labeling : 374\n",
            "[020/3000] Train Acc: 0.859257 Loss: 0.158583 | Val Acc: 0.470337 loss: 1.165800\n",
            "Pseudo Labeling : 350\n",
            "[021/3000] Train Acc: 0.858449 Loss: 0.150280 | Val Acc: 0.676644 loss: 0.891277\n",
            "Pseudo Labeling : 383\n",
            "[022/3000] Train Acc: 0.859470 Loss: 0.152723 | Val Acc: 0.723677 loss: 0.794159\n",
            "Pseudo Labeling : 401\n",
            "[023/3000] Train Acc: 0.862432 Loss: 0.149641 | Val Acc: 0.681721 loss: 0.878968\n",
            "Pseudo Labeling : 422\n",
            "[024/3000] Train Acc: 0.861710 Loss: 0.159757 | Val Acc: 0.557723 loss: 1.255544\n",
            "Pseudo Labeling : 448\n",
            "[025/3000] Train Acc: 0.873686 Loss: 0.137712 | Val Acc: 0.601283 loss: 1.059496\n",
            "Pseudo Labeling : 450\n",
            "[026/3000] Train Acc: 0.869746 Loss: 0.142817 | Val Acc: 0.512293 loss: 1.227804\n",
            "Pseudo Labeling : 419\n",
            "[027/3000] Train Acc: 0.868768 Loss: 0.152191 | Val Acc: 0.766702 loss: 0.656056\n",
            "saving model with acc 0.767\n",
            "Pseudo Labeling : 453\n",
            "[028/3000] Train Acc: 0.867371 Loss: 0.139033 | Val Acc: 0.641368 loss: 1.020610\n",
            "Pseudo Labeling : 444\n",
            "[029/3000] Train Acc: 0.873264 Loss: 0.131718 | Val Acc: 0.537413 loss: 1.326798\n",
            "Pseudo Labeling : 464\n",
            "[030/3000] Train Acc: 0.876669 Loss: 0.136957 | Val Acc: 0.770711 loss: 0.710719\n",
            "saving model with acc 0.771\n",
            "Pseudo Labeling : 425\n",
            "[031/3000] Train Acc: 0.877266 Loss: 0.127799 | Val Acc: 0.750401 loss: 0.715535\n",
            "Pseudo Labeling : 453\n",
            "[032/3000] Train Acc: 0.878851 Loss: 0.127227 | Val Acc: 0.737039 loss: 0.715056\n",
            "Pseudo Labeling : 444\n",
            "[033/3000] Train Acc: 0.872550 Loss: 0.134229 | Val Acc: 0.777926 loss: 0.697395\n",
            "saving model with acc 0.778\n",
            "Pseudo Labeling : 469\n",
            "[034/3000] Train Acc: 0.880596 Loss: 0.128086 | Val Acc: 0.708177 loss: 0.860709\n",
            "Pseudo Labeling : 441\n",
            "[035/3000] Train Acc: 0.880898 Loss: 0.121348 | Val Acc: 0.743453 loss: 0.774282\n",
            "Pseudo Labeling : 468\n",
            "[036/3000] Train Acc: 0.884800 Loss: 0.121636 | Val Acc: 0.711652 loss: 0.836440\n",
            "Pseudo Labeling : 490\n",
            "[037/3000] Train Acc: 0.884252 Loss: 0.121739 | Val Acc: 0.793426 loss: 0.622116\n",
            "saving model with acc 0.793\n",
            "Pseudo Labeling : 502\n",
            "[038/3000] Train Acc: 0.886734 Loss: 0.117701 | Val Acc: 0.823089 loss: 0.596619\n",
            "saving model with acc 0.823\n",
            "Pseudo Labeling : 492\n",
            "[039/3000] Train Acc: 0.884526 Loss: 0.119054 | Val Acc: 0.734099 loss: 0.778327\n",
            "Pseudo Labeling : 502\n",
            "[040/3000] Train Acc: 0.883437 Loss: 0.116827 | Val Acc: 0.799572 loss: 0.620066\n",
            "Pseudo Labeling : 498\n",
            "[041/3000] Train Acc: 0.883277 Loss: 0.123002 | Val Acc: 0.796633 loss: 0.618514\n",
            "Pseudo Labeling : 566\n",
            "[042/3000] Train Acc: 0.887780 Loss: 0.113282 | Val Acc: 0.704436 loss: 0.861089\n",
            "Pseudo Labeling : 533\n",
            "[043/3000] Train Acc: 0.882444 Loss: 0.127903 | Val Acc: 0.797167 loss: 0.684463\n",
            "Pseudo Labeling : 557\n",
            "[044/3000] Train Acc: 0.883528 Loss: 0.120086 | Val Acc: 0.811331 loss: 0.617789\n",
            "Pseudo Labeling : 493\n",
            "[045/3000] Train Acc: 0.882981 Loss: 0.117175 | Val Acc: 0.829770 loss: 0.556332\n",
            "saving model with acc 0.830\n",
            "Pseudo Labeling : 545\n",
            "[046/3000] Train Acc: 0.884920 Loss: 0.116058 | Val Acc: 0.747461 loss: 0.682832\n",
            "Pseudo Labeling : 544\n",
            "[047/3000] Train Acc: 0.880658 Loss: 0.119391 | Val Acc: 0.800909 loss: 0.622271\n",
            "Pseudo Labeling : 554\n",
            "[048/3000] Train Acc: 0.884987 Loss: 0.112341 | Val Acc: 0.784073 loss: 0.698704\n",
            "Pseudo Labeling : 564\n",
            "[049/3000] Train Acc: 0.884224 Loss: 0.111009 | Val Acc: 0.805184 loss: 0.607956\n",
            "Pseudo Labeling : 540\n",
            "[050/3000] Train Acc: 0.883722 Loss: 0.113227 | Val Acc: 0.779797 loss: 0.673480\n",
            "Pseudo Labeling : 547\n",
            "[051/3000] Train Acc: 0.888287 Loss: 0.106984 | Val Acc: 0.792892 loss: 0.625819\n",
            "Pseudo Labeling : 568\n",
            "[052/3000] Train Acc: 0.887923 Loss: 0.111113 | Val Acc: 0.821219 loss: 0.561542\n",
            "Pseudo Labeling : 522\n",
            "[053/3000] Train Acc: 0.888494 Loss: 0.114378 | Val Acc: 0.770711 loss: 0.704404\n",
            "Pseudo Labeling : 544\n",
            "[054/3000] Train Acc: 0.884720 Loss: 0.116144 | Val Acc: 0.826563 loss: 0.597598\n",
            "Pseudo Labeling : 552\n",
            "[055/3000] Train Acc: 0.888517 Loss: 0.109684 | Val Acc: 0.811331 loss: 0.581139\n",
            "Pseudo Labeling : 560\n",
            "[056/3000] Train Acc: 0.886320 Loss: 0.111500 | Val Acc: 0.687333 loss: 0.895989\n",
            "Pseudo Labeling : 570\n",
            "[057/3000] Train Acc: 0.881372 Loss: 0.118082 | Val Acc: 0.814805 loss: 0.604523\n",
            "Pseudo Labeling : 576\n",
            "[058/3000] Train Acc: 0.888303 Loss: 0.105060 | Val Acc: 0.828701 loss: 0.567489\n",
            "Pseudo Labeling : 567\n",
            "[059/3000] Train Acc: 0.894933 Loss: 0.101112 | Val Acc: 0.832443 loss: 0.560264\n",
            "saving model with acc 0.832\n",
            "Pseudo Labeling : 576\n",
            "[060/3000] Train Acc: 0.887080 Loss: 0.115509 | Val Acc: 0.751203 loss: 0.690910\n",
            "Pseudo Labeling : 580\n",
            "[061/3000] Train Acc: 0.884215 Loss: 0.116112 | Val Acc: 0.750935 loss: 0.666104\n",
            "Pseudo Labeling : 549\n",
            "[062/3000] Train Acc: 0.889913 Loss: 0.110531 | Val Acc: 0.825494 loss: 0.568035\n",
            "Pseudo Labeling : 524\n",
            "[063/3000] Train Acc: 0.891607 Loss: 0.110742 | Val Acc: 0.785409 loss: 0.593739\n",
            "Pseudo Labeling : 545\n",
            "[064/3000] Train Acc: 0.892012 Loss: 0.104205 | Val Acc: 0.763228 loss: 0.723692\n",
            "Pseudo Labeling : 575\n",
            "[065/3000] Train Acc: 0.886558 Loss: 0.112366 | Val Acc: 0.792624 loss: 0.603463\n",
            "Pseudo Labeling : 571\n",
            "[066/3000] Train Acc: 0.893416 Loss: 0.112856 | Val Acc: 0.715660 loss: 0.801788\n",
            "Pseudo Labeling : 568\n",
            "[067/3000] Train Acc: 0.883868 Loss: 0.111748 | Val Acc: 0.821753 loss: 0.585575\n",
            "Pseudo Labeling : 572\n",
            "[068/3000] Train Acc: 0.888724 Loss: 0.106983 | Val Acc: 0.793693 loss: 0.641417\n",
            "Pseudo Labeling : 577\n",
            "[069/3000] Train Acc: 0.888052 Loss: 0.111188 | Val Acc: 0.827098 loss: 0.553642\n",
            "Pseudo Labeling : 557\n",
            "[070/3000] Train Acc: 0.888939 Loss: 0.111925 | Val Acc: 0.786211 loss: 0.654814\n",
            "Pseudo Labeling : 598\n",
            "[071/3000] Train Acc: 0.890838 Loss: 0.104874 | Val Acc: 0.824158 loss: 0.562401\n",
            "Pseudo Labeling : 611\n",
            "[072/3000] Train Acc: 0.893754 Loss: 0.104185 | Val Acc: 0.811331 loss: 0.619700\n",
            "Pseudo Labeling : 567\n",
            "[073/3000] Train Acc: 0.889139 Loss: 0.107679 | Val Acc: 0.819882 loss: 0.574960\n",
            "Pseudo Labeling : 582\n",
            "[074/3000] Train Acc: 0.886030 Loss: 0.108782 | Val Acc: 0.835917 loss: 0.517453\n",
            "saving model with acc 0.836\n",
            "Pseudo Labeling : 613\n",
            "[075/3000] Train Acc: 0.893254 Loss: 0.102744 | Val Acc: 0.817210 loss: 0.574398\n",
            "Pseudo Labeling : 598\n",
            "[076/3000] Train Acc: 0.893472 Loss: 0.103727 | Val Acc: 0.784073 loss: 0.641920\n",
            "Pseudo Labeling : 573\n",
            "[077/3000] Train Acc: 0.897098 Loss: 0.096862 | Val Acc: 0.838055 loss: 0.513783\n",
            "saving model with acc 0.838\n",
            "Pseudo Labeling : 591\n",
            "[078/3000] Train Acc: 0.899659 Loss: 0.098767 | Val Acc: 0.825227 loss: 0.573295\n",
            "Pseudo Labeling : 577\n",
            "[079/3000] Train Acc: 0.891848 Loss: 0.103970 | Val Acc: 0.847675 loss: 0.562198\n",
            "saving model with acc 0.848\n",
            "Pseudo Labeling : 573\n",
            "[080/3000] Train Acc: 0.889182 Loss: 0.100763 | Val Acc: 0.838856 loss: 0.520291\n",
            "Pseudo Labeling : 617\n",
            "[081/3000] Train Acc: 0.894757 Loss: 0.101598 | Val Acc: 0.811598 loss: 0.576059\n",
            "Pseudo Labeling : 609\n",
            "[082/3000] Train Acc: 0.898427 Loss: 0.091660 | Val Acc: 0.815339 loss: 0.601817\n",
            "Pseudo Labeling : 624\n",
            "[083/3000] Train Acc: 0.888069 Loss: 0.111229 | Val Acc: 0.807857 loss: 0.656156\n",
            "Pseudo Labeling : 581\n",
            "[084/3000] Train Acc: 0.892134 Loss: 0.098241 | Val Acc: 0.835917 loss: 0.523649\n",
            "Pseudo Labeling : 642\n",
            "[085/3000] Train Acc: 0.892491 Loss: 0.102273 | Val Acc: 0.849011 loss: 0.484012\n",
            "saving model with acc 0.849\n",
            "Pseudo Labeling : 634\n",
            "[086/3000] Train Acc: 0.893013 Loss: 0.106080 | Val Acc: 0.826563 loss: 0.552384\n",
            "Pseudo Labeling : 643\n",
            "[087/3000] Train Acc: 0.891153 Loss: 0.100585 | Val Acc: 0.839925 loss: 0.520424\n",
            "Pseudo Labeling : 590\n",
            "[088/3000] Train Acc: 0.899653 Loss: 0.093103 | Val Acc: 0.808391 loss: 0.597416\n",
            "Pseudo Labeling : 601\n",
            "[089/3000] Train Acc: 0.899338 Loss: 0.094446 | Val Acc: 0.826029 loss: 0.576006\n",
            "Pseudo Labeling : 582\n",
            "[090/3000] Train Acc: 0.899730 Loss: 0.095212 | Val Acc: 0.836451 loss: 0.541442\n",
            "Pseudo Labeling : 603\n",
            "[091/3000] Train Acc: 0.900957 Loss: 0.099046 | Val Acc: 0.818012 loss: 0.597822\n",
            "Pseudo Labeling : 585\n",
            "[092/3000] Train Acc: 0.898399 Loss: 0.099886 | Val Acc: 0.835649 loss: 0.558826\n",
            "Pseudo Labeling : 606\n",
            "[093/3000] Train Acc: 0.895132 Loss: 0.094504 | Val Acc: 0.762694 loss: 0.742449\n",
            "Pseudo Labeling : 617\n",
            "[094/3000] Train Acc: 0.894821 Loss: 0.101983 | Val Acc: 0.834046 loss: 0.507646\n",
            "Pseudo Labeling : 608\n",
            "[095/3000] Train Acc: 0.896751 Loss: 0.103933 | Val Acc: 0.836184 loss: 0.511563\n",
            "Pseudo Labeling : 636\n",
            "[096/3000] Train Acc: 0.893860 Loss: 0.100216 | Val Acc: 0.824158 loss: 0.555106\n",
            "Pseudo Labeling : 626\n",
            "[097/3000] Train Acc: 0.892958 Loss: 0.099992 | Val Acc: 0.851684 loss: 0.487039\n",
            "saving model with acc 0.852\n",
            "Pseudo Labeling : 606\n",
            "[098/3000] Train Acc: 0.898215 Loss: 0.101313 | Val Acc: 0.821486 loss: 0.625646\n",
            "Pseudo Labeling : 628\n",
            "[099/3000] Train Acc: 0.894767 Loss: 0.101859 | Val Acc: 0.821753 loss: 0.593022\n",
            "Pseudo Labeling : 595\n",
            "[100/3000] Train Acc: 0.900135 Loss: 0.099690 | Val Acc: 0.822288 loss: 0.604048\n",
            "Pseudo Labeling : 642\n",
            "[101/3000] Train Acc: 0.900884 Loss: 0.092716 | Val Acc: 0.820951 loss: 0.570279\n",
            "Pseudo Labeling : 640\n",
            "[102/3000] Train Acc: 0.900295 Loss: 0.098270 | Val Acc: 0.818279 loss: 0.582521\n",
            "Pseudo Labeling : 683\n",
            "[103/3000] Train Acc: 0.903956 Loss: 0.094419 | Val Acc: 0.822555 loss: 0.595094\n",
            "Pseudo Labeling : 634\n",
            "[104/3000] Train Acc: 0.899551 Loss: 0.097761 | Val Acc: 0.840727 loss: 0.523164\n",
            "Pseudo Labeling : 656\n",
            "[105/3000] Train Acc: 0.901869 Loss: 0.092794 | Val Acc: 0.826563 loss: 0.581113\n",
            "Pseudo Labeling : 640\n",
            "[106/3000] Train Acc: 0.894720 Loss: 0.102730 | Val Acc: 0.837253 loss: 0.511875\n",
            "Pseudo Labeling : 624\n",
            "[107/3000] Train Acc: 0.895831 Loss: 0.096347 | Val Acc: 0.808926 loss: 0.604924\n",
            "Pseudo Labeling : 598\n",
            "[108/3000] Train Acc: 0.901375 Loss: 0.090414 | Val Acc: 0.830037 loss: 0.587030\n",
            "Pseudo Labeling : 604\n",
            "[109/3000] Train Acc: 0.898844 Loss: 0.089677 | Val Acc: 0.807857 loss: 0.642475\n",
            "Pseudo Labeling : 613\n",
            "[110/3000] Train Acc: 0.901342 Loss: 0.091172 | Val Acc: 0.815874 loss: 0.652851\n",
            "Pseudo Labeling : 609\n",
            "[111/3000] Train Acc: 0.896116 Loss: 0.105930 | Val Acc: 0.822555 loss: 0.650292\n",
            "Pseudo Labeling : 626\n",
            "[112/3000] Train Acc: 0.898281 Loss: 0.100388 | Val Acc: 0.839658 loss: 0.541040\n",
            "Pseudo Labeling : 603\n",
            "[113/3000] Train Acc: 0.900957 Loss: 0.090520 | Val Acc: 0.822822 loss: 0.607528\n",
            "Pseudo Labeling : 617\n",
            "[114/3000] Train Acc: 0.897581 Loss: 0.100277 | Val Acc: 0.835917 loss: 0.541213\n",
            "Pseudo Labeling : 656\n",
            "[115/3000] Train Acc: 0.899117 Loss: 0.098789 | Val Acc: 0.836986 loss: 0.546187\n",
            "Pseudo Labeling : 641\n",
            "[116/3000] Train Acc: 0.895239 Loss: 0.104620 | Val Acc: 0.819882 loss: 0.597328\n",
            "Pseudo Labeling : 630\n",
            "[117/3000] Train Acc: 0.897794 Loss: 0.090014 | Val Acc: 0.863442 loss: 0.484778\n",
            "saving model with acc 0.863\n",
            "Pseudo Labeling : 612\n",
            "[118/3000] Train Acc: 0.899538 Loss: 0.095126 | Val Acc: 0.832710 loss: 0.552594\n",
            "Pseudo Labeling : 625\n",
            "[119/3000] Train Acc: 0.892246 Loss: 0.103018 | Val Acc: 0.854089 loss: 0.475876\n",
            "Pseudo Labeling : 609\n",
            "[120/3000] Train Acc: 0.894061 Loss: 0.099772 | Val Acc: 0.814538 loss: 0.634142\n",
            "Pseudo Labeling : 629\n",
            "[121/3000] Train Acc: 0.901956 Loss: 0.093283 | Val Acc: 0.827632 loss: 0.559156\n",
            "Pseudo Labeling : 620\n",
            "[122/3000] Train Acc: 0.902027 Loss: 0.093546 | Val Acc: 0.852753 loss: 0.509829\n",
            "Pseudo Labeling : 633\n",
            "[123/3000] Train Acc: 0.899609 Loss: 0.094319 | Val Acc: 0.827900 loss: 0.552087\n",
            "Pseudo Labeling : 636\n",
            "[124/3000] Train Acc: 0.900205 Loss: 0.096140 | Val Acc: 0.615446 loss: 1.064720\n",
            "Pseudo Labeling : 613\n",
            "[125/3000] Train Acc: 0.895950 Loss: 0.095053 | Val Acc: 0.830839 loss: 0.631926\n",
            "Pseudo Labeling : 634\n",
            "[126/3000] Train Acc: 0.900449 Loss: 0.091750 | Val Acc: 0.813201 loss: 0.626500\n",
            "Pseudo Labeling : 638\n",
            "[127/3000] Train Acc: 0.893809 Loss: 0.101033 | Val Acc: 0.845537 loss: 0.557691\n",
            "Pseudo Labeling : 576\n",
            "[128/3000] Train Acc: 0.902007 Loss: 0.087280 | Val Acc: 0.855692 loss: 0.489867\n",
            "Pseudo Labeling : 584\n",
            "[129/3000] Train Acc: 0.902701 Loss: 0.092257 | Val Acc: 0.827632 loss: 0.570327\n",
            "Pseudo Labeling : 609\n",
            "[130/3000] Train Acc: 0.897657 Loss: 0.093106 | Val Acc: 0.805452 loss: 0.702077\n",
            "Pseudo Labeling : 634\n",
            "[131/3000] Train Acc: 0.899551 Loss: 0.095435 | Val Acc: 0.828968 loss: 0.584437\n",
            "Pseudo Labeling : 629\n",
            "[132/3000] Train Acc: 0.900224 Loss: 0.095106 | Val Acc: 0.703367 loss: 0.673791\n",
            "Pseudo Labeling : 624\n",
            "[133/3000] Train Acc: 0.900834 Loss: 0.093659 | Val Acc: 0.851951 loss: 0.489405\n",
            "Pseudo Labeling : 638\n",
            "[134/3000] Train Acc: 0.904319 Loss: 0.092821 | Val Acc: 0.829503 loss: 0.581962\n",
            "Pseudo Labeling : 609\n",
            "[135/3000] Train Acc: 0.897849 Loss: 0.097194 | Val Acc: 0.845003 loss: 0.528748\n",
            "Pseudo Labeling : 619\n",
            "[136/3000] Train Acc: 0.905679 Loss: 0.086566 | Val Acc: 0.816943 loss: 0.598563\n",
            "Pseudo Labeling : 640\n",
            "[137/3000] Train Acc: 0.893823 Loss: 0.096811 | Val Acc: 0.852218 loss: 0.457670\n",
            "Pseudo Labeling : 608\n",
            "[138/3000] Train Acc: 0.898292 Loss: 0.092768 | Val Acc: 0.798236 loss: 0.614345\n",
            "Pseudo Labeling : 649\n",
            "[139/3000] Train Acc: 0.897022 Loss: 0.095114 | Val Acc: 0.830037 loss: 0.544269\n",
            "Pseudo Labeling : 693\n",
            "[140/3000] Train Acc: 0.897375 Loss: 0.095618 | Val Acc: 0.835382 loss: 0.573694\n",
            "Pseudo Labeling : 656\n",
            "[141/3000] Train Acc: 0.900717 Loss: 0.093582 | Val Acc: 0.846873 loss: 0.536835\n",
            "Pseudo Labeling : 624\n",
            "[142/3000] Train Acc: 0.896344 Loss: 0.094764 | Val Acc: 0.796098 loss: 0.710603\n",
            "Pseudo Labeling : 668\n",
            "[143/3000] Train Acc: 0.903352 Loss: 0.091677 | Val Acc: 0.832710 loss: 0.563652\n",
            "Pseudo Labeling : 669\n",
            "[144/3000] Train Acc: 0.902462 Loss: 0.089225 | Val Acc: 0.853554 loss: 0.499710\n",
            "Pseudo Labeling : 644\n",
            "[145/3000] Train Acc: 0.896797 Loss: 0.090543 | Val Acc: 0.795297 loss: 0.650656\n",
            "Pseudo Labeling : 677\n",
            "[146/3000] Train Acc: 0.902704 Loss: 0.093379 | Val Acc: 0.834580 loss: 0.567898\n",
            "Pseudo Labeling : 688\n",
            "[147/3000] Train Acc: 0.897854 Loss: 0.099003 | Val Acc: 0.834046 loss: 0.534344\n",
            "Pseudo Labeling : 637\n",
            "[148/3000] Train Acc: 0.901878 Loss: 0.091504 | Val Acc: 0.812934 loss: 0.597195\n",
            "Pseudo Labeling : 689\n",
            "[149/3000] Train Acc: 0.900735 Loss: 0.095558 | Val Acc: 0.840994 loss: 0.529591\n",
            "Pseudo Labeling : 629\n",
            "[150/3000] Train Acc: 0.905034 Loss: 0.085422 | Val Acc: 0.824960 loss: 0.588685\n",
            "Pseudo Labeling : 675\n",
            "[151/3000] Train Acc: 0.901733 Loss: 0.089008 | Val Acc: 0.835917 loss: 0.564674\n",
            "Pseudo Labeling : 648\n",
            "[152/3000] Train Acc: 0.899769 Loss: 0.092166 | Val Acc: 0.845270 loss: 0.535214\n",
            "Pseudo Labeling : 633\n",
            "[153/3000] Train Acc: 0.903327 Loss: 0.088153 | Val Acc: 0.831374 loss: 0.557706\n",
            "Pseudo Labeling : 663\n",
            "[154/3000] Train Acc: 0.899290 Loss: 0.095625 | Val Acc: 0.845003 loss: 0.521850\n",
            "Pseudo Labeling : 644\n",
            "[155/3000] Train Acc: 0.894555 Loss: 0.099338 | Val Acc: 0.805452 loss: 0.638823\n",
            "Pseudo Labeling : 659\n",
            "[156/3000] Train Acc: 0.900864 Loss: 0.093693 | Val Acc: 0.820951 loss: 0.602926\n",
            "Pseudo Labeling : 649\n",
            "[157/3000] Train Acc: 0.900544 Loss: 0.084717 | Val Acc: 0.840460 loss: 0.574529\n",
            "Pseudo Labeling : 655\n",
            "[158/3000] Train Acc: 0.906152 Loss: 0.087170 | Val Acc: 0.839925 loss: 0.566312\n",
            "Pseudo Labeling : 671\n",
            "[159/3000] Train Acc: 0.897423 Loss: 0.095200 | Val Acc: 0.835382 loss: 0.571792\n",
            "Pseudo Labeling : 628\n",
            "[160/3000] Train Acc: 0.900923 Loss: 0.091556 | Val Acc: 0.822555 loss: 0.608245\n",
            "Pseudo Labeling : 679\n",
            "[161/3000] Train Acc: 0.899201 Loss: 0.095604 | Val Acc: 0.831374 loss: 0.577408\n",
            "Pseudo Labeling : 662\n",
            "[162/3000] Train Acc: 0.901331 Loss: 0.098034 | Val Acc: 0.780599 loss: 0.631050\n",
            "Pseudo Labeling : 666\n",
            "[163/3000] Train Acc: 0.898222 Loss: 0.096254 | Val Acc: 0.841529 loss: 0.516291\n",
            "Pseudo Labeling : 674\n",
            "[164/3000] Train Acc: 0.898465 Loss: 0.095397 | Val Acc: 0.827632 loss: 0.595992\n",
            "Pseudo Labeling : 695\n",
            "[165/3000] Train Acc: 0.899815 Loss: 0.090022 | Val Acc: 0.856227 loss: 0.492764\n",
            "Pseudo Labeling : 684\n",
            "[166/3000] Train Acc: 0.901853 Loss: 0.088291 | Val Acc: 0.822822 loss: 0.612637\n",
            "Pseudo Labeling : 689\n",
            "[167/3000] Train Acc: 0.904120 Loss: 0.086575 | Val Acc: 0.824693 loss: 0.581962\n",
            "Pseudo Labeling : 669\n",
            "[168/3000] Train Acc: 0.896770 Loss: 0.095907 | Val Acc: 0.851951 loss: 0.491486\n",
            "Pseudo Labeling : 666\n",
            "[169/3000] Train Acc: 0.900716 Loss: 0.095095 | Val Acc: 0.836986 loss: 0.536458\n",
            "Pseudo Labeling : 690\n",
            "[170/3000] Train Acc: 0.896653 Loss: 0.097947 | Val Acc: 0.841796 loss: 0.496554\n",
            "Pseudo Labeling : 664\n",
            "[171/3000] Train Acc: 0.899552 Loss: 0.096694 | Val Acc: 0.815607 loss: 0.618717\n",
            "Pseudo Labeling : 666\n",
            "[172/3000] Train Acc: 0.901356 Loss: 0.089186 | Val Acc: 0.832977 loss: 0.498055\n",
            "Pseudo Labeling : 660\n",
            "[173/3000] Train Acc: 0.899974 Loss: 0.097397 | Val Acc: 0.824425 loss: 0.601361\n",
            "Pseudo Labeling : 656\n",
            "[174/3000] Train Acc: 0.902829 Loss: 0.093826 | Val Acc: 0.835115 loss: 0.526286\n",
            "Pseudo Labeling : 665\n",
            "[175/3000] Train Acc: 0.904869 Loss: 0.084070 | Val Acc: 0.854356 loss: 0.477983\n",
            "Pseudo Labeling : 619\n",
            "[176/3000] Train Acc: 0.903689 Loss: 0.089798 | Val Acc: 0.853020 loss: 0.476084\n",
            "Pseudo Labeling : 707\n",
            "[177/3000] Train Acc: 0.900019 Loss: 0.091138 | Val Acc: 0.826831 loss: 0.578676\n",
            "Pseudo Labeling : 682\n",
            "[178/3000] Train Acc: 0.904844 Loss: 0.086038 | Val Acc: 0.870657 loss: 0.413238\n",
            "saving model with acc 0.871\n",
            "Pseudo Labeling : 661\n",
            "[179/3000] Train Acc: 0.902540 Loss: 0.092398 | Val Acc: 0.838322 loss: 0.559392\n",
            "Pseudo Labeling : 690\n",
            "[180/3000] Train Acc: 0.896717 Loss: 0.094329 | Val Acc: 0.866382 loss: 0.434222\n",
            "Pseudo Labeling : 698\n",
            "[181/3000] Train Acc: 0.897536 Loss: 0.094365 | Val Acc: 0.841261 loss: 0.522687\n",
            "Pseudo Labeling : 664\n",
            "[182/3000] Train Acc: 0.899872 Loss: 0.090448 | Val Acc: 0.835115 loss: 0.572482\n",
            "Pseudo Labeling : 680\n",
            "[183/3000] Train Acc: 0.900422 Loss: 0.089409 | Val Acc: 0.798236 loss: 0.634317\n",
            "Pseudo Labeling : 691\n",
            "[184/3000] Train Acc: 0.900683 Loss: 0.091519 | Val Acc: 0.849011 loss: 0.506930\n",
            "Pseudo Labeling : 662\n",
            "[185/3000] Train Acc: 0.905170 Loss: 0.089853 | Val Acc: 0.841796 loss: 0.565030\n",
            "Pseudo Labeling : 693\n",
            "[186/3000] Train Acc: 0.899930 Loss: 0.089001 | Val Acc: 0.845003 loss: 0.507709\n",
            "Pseudo Labeling : 666\n",
            "[187/3000] Train Acc: 0.903595 Loss: 0.085918 | Val Acc: 0.839658 loss: 0.544784\n",
            "Pseudo Labeling : 687\n",
            "[188/3000] Train Acc: 0.903852 Loss: 0.085134 | Val Acc: 0.863175 loss: 0.460054\n",
            "Pseudo Labeling : 693\n",
            "[189/3000] Train Acc: 0.902548 Loss: 0.089409 | Val Acc: 0.838589 loss: 0.521372\n",
            "Pseudo Labeling : 708\n",
            "[190/3000] Train Acc: 0.900089 Loss: 0.087286 | Val Acc: 0.836986 loss: 0.544656\n",
            "Pseudo Labeling : 700\n",
            "[191/3000] Train Acc: 0.898315 Loss: 0.092131 | Val Acc: 0.846873 loss: 0.523849\n",
            "Pseudo Labeling : 722\n",
            "[192/3000] Train Acc: 0.898840 Loss: 0.094846 | Val Acc: 0.822555 loss: 0.628982\n",
            "Pseudo Labeling : 735\n",
            "[193/3000] Train Acc: 0.894720 Loss: 0.098203 | Val Acc: 0.854623 loss: 0.493262\n",
            "Pseudo Labeling : 677\n",
            "[194/3000] Train Acc: 0.902832 Loss: 0.082991 | Val Acc: 0.840727 loss: 0.534335\n",
            "Pseudo Labeling : 734\n",
            "[195/3000] Train Acc: 0.915541 Loss: 0.067706 | Val Acc: 0.840994 loss: 0.531673\n",
            "Pseudo Labeling : 706\n",
            "[196/3000] Train Acc: 0.912902 Loss: 0.067165 | Val Acc: 0.853821 loss: 0.498967\n",
            "Pseudo Labeling : 748\n",
            "[197/3000] Train Acc: 0.915617 Loss: 0.064716 | Val Acc: 0.849813 loss: 0.504287\n",
            "Pseudo Labeling : 732\n",
            "[198/3000] Train Acc: 0.918907 Loss: 0.059895 | Val Acc: 0.857830 loss: 0.472893\n",
            "Pseudo Labeling : 732\n",
            "[199/3000] Train Acc: 0.923685 Loss: 0.057025 | Val Acc: 0.858632 loss: 0.458531\n",
            "Pseudo Labeling : 749\n",
            "[200/3000] Train Acc: 0.923703 Loss: 0.057382 | Val Acc: 0.850882 loss: 0.473958\n",
            "Pseudo Labeling : 769\n",
            "[201/3000] Train Acc: 0.923483 Loss: 0.057653 | Val Acc: 0.863976 loss: 0.442345\n",
            "Pseudo Labeling : 752\n",
            "[202/3000] Train Acc: 0.925945 Loss: 0.050834 | Val Acc: 0.855158 loss: 0.481151\n",
            "Pseudo Labeling : 754\n",
            "[203/3000] Train Acc: 0.924809 Loss: 0.052021 | Val Acc: 0.851951 loss: 0.498823\n",
            "Pseudo Labeling : 755\n",
            "[204/3000] Train Acc: 0.927231 Loss: 0.054636 | Val Acc: 0.861037 loss: 0.451456\n",
            "Pseudo Labeling : 765\n",
            "[205/3000] Train Acc: 0.927150 Loss: 0.053882 | Val Acc: 0.855959 loss: 0.467102\n",
            "Pseudo Labeling : 767\n",
            "[206/3000] Train Acc: 0.923346 Loss: 0.053789 | Val Acc: 0.857830 loss: 0.487623\n",
            "Pseudo Labeling : 752\n",
            "[207/3000] Train Acc: 0.926645 Loss: 0.051849 | Val Acc: 0.868787 loss: 0.441136\n",
            "Pseudo Labeling : 747\n",
            "[208/3000] Train Acc: 0.928276 Loss: 0.050222 | Val Acc: 0.862640 loss: 0.454550\n",
            "Pseudo Labeling : 780\n",
            "[209/3000] Train Acc: 0.932745 Loss: 0.049688 | Val Acc: 0.865580 loss: 0.445682\n",
            "Pseudo Labeling : 761\n",
            "[210/3000] Train Acc: 0.928976 Loss: 0.049225 | Val Acc: 0.870657 loss: 0.419535\n",
            "Pseudo Labeling : 762\n",
            "[211/3000] Train Acc: 0.929362 Loss: 0.048718 | Val Acc: 0.874399 loss: 0.407420\n",
            "saving model with acc 0.874\n",
            "Pseudo Labeling : 740\n",
            "[212/3000] Train Acc: 0.930345 Loss: 0.047745 | Val Acc: 0.869054 loss: 0.433425\n",
            "Pseudo Labeling : 772\n",
            "[213/3000] Train Acc: 0.931376 Loss: 0.047245 | Val Acc: 0.877071 loss: 0.404113\n",
            "saving model with acc 0.877\n",
            "Pseudo Labeling : 760\n",
            "[214/3000] Train Acc: 0.930434 Loss: 0.049839 | Val Acc: 0.862106 loss: 0.460119\n",
            "Pseudo Labeling : 783\n",
            "[215/3000] Train Acc: 0.929138 Loss: 0.049335 | Val Acc: 0.867718 loss: 0.439568\n",
            "Pseudo Labeling : 749\n",
            "[216/3000] Train Acc: 0.931785 Loss: 0.048995 | Val Acc: 0.873063 loss: 0.410134\n",
            "Pseudo Labeling : 802\n",
            "[217/3000] Train Acc: 0.932458 Loss: 0.048536 | Val Acc: 0.857830 loss: 0.452368\n",
            "Pseudo Labeling : 776\n",
            "[218/3000] Train Acc: 0.929297 Loss: 0.046430 | Val Acc: 0.864778 loss: 0.446252\n",
            "Pseudo Labeling : 779\n",
            "[219/3000] Train Acc: 0.934392 Loss: 0.047851 | Val Acc: 0.859433 loss: 0.464327\n",
            "Pseudo Labeling : 784\n",
            "[220/3000] Train Acc: 0.936508 Loss: 0.045480 | Val Acc: 0.861839 loss: 0.439920\n",
            "Pseudo Labeling : 769\n",
            "[221/3000] Train Acc: 0.930473 Loss: 0.047837 | Val Acc: 0.866916 loss: 0.437182\n",
            "Pseudo Labeling : 798\n",
            "[222/3000] Train Acc: 0.934852 Loss: 0.046056 | Val Acc: 0.876804 loss: 0.405972\n",
            "Pseudo Labeling : 786\n",
            "[223/3000] Train Acc: 0.934992 Loss: 0.047960 | Val Acc: 0.870657 loss: 0.426139\n",
            "Pseudo Labeling : 782\n",
            "[224/3000] Train Acc: 0.935357 Loss: 0.044333 | Val Acc: 0.867183 loss: 0.449421\n",
            "Pseudo Labeling : 787\n",
            "[225/3000] Train Acc: 0.938805 Loss: 0.046973 | Val Acc: 0.869321 loss: 0.429783\n",
            "Pseudo Labeling : 784\n",
            "[226/3000] Train Acc: 0.935111 Loss: 0.045340 | Val Acc: 0.869856 loss: 0.413817\n",
            "Pseudo Labeling : 789\n",
            "[227/3000] Train Acc: 0.935893 Loss: 0.045042 | Val Acc: 0.870123 loss: 0.428281\n",
            "Pseudo Labeling : 768\n",
            "[228/3000] Train Acc: 0.933456 Loss: 0.046063 | Val Acc: 0.867985 loss: 0.428399\n",
            "Pseudo Labeling : 771\n",
            "[229/3000] Train Acc: 0.933278 Loss: 0.043271 | Val Acc: 0.869054 loss: 0.431595\n",
            "Pseudo Labeling : 790\n",
            "[230/3000] Train Acc: 0.937294 Loss: 0.045687 | Val Acc: 0.871192 loss: 0.436059\n",
            "Pseudo Labeling : 782\n",
            "[231/3000] Train Acc: 0.936754 Loss: 0.045306 | Val Acc: 0.867451 loss: 0.446511\n",
            "Pseudo Labeling : 777\n",
            "[232/3000] Train Acc: 0.935845 Loss: 0.043477 | Val Acc: 0.872795 loss: 0.422681\n",
            "Pseudo Labeling : 777\n",
            "[233/3000] Train Acc: 0.933939 Loss: 0.043983 | Val Acc: 0.871459 loss: 0.426906\n",
            "Pseudo Labeling : 773\n",
            "[234/3000] Train Acc: 0.935002 Loss: 0.042238 | Val Acc: 0.863175 loss: 0.461889\n",
            "Pseudo Labeling : 786\n",
            "[235/3000] Train Acc: 0.939055 Loss: 0.042369 | Val Acc: 0.869588 loss: 0.436736\n",
            "Pseudo Labeling : 772\n",
            "[236/3000] Train Acc: 0.934363 Loss: 0.047163 | Val Acc: 0.867985 loss: 0.442038\n",
            "Pseudo Labeling : 751\n",
            "[237/3000] Train Acc: 0.936438 Loss: 0.043140 | Val Acc: 0.869588 loss: 0.431711\n",
            "Pseudo Labeling : 788\n",
            "[238/3000] Train Acc: 0.938365 Loss: 0.042614 | Val Acc: 0.868787 loss: 0.438750\n",
            "Pseudo Labeling : 770\n",
            "[239/3000] Train Acc: 0.937214 Loss: 0.042406 | Val Acc: 0.868520 loss: 0.433218\n",
            "Pseudo Labeling : 777\n",
            "[240/3000] Train Acc: 0.933812 Loss: 0.042639 | Val Acc: 0.875200 loss: 0.414448\n",
            "Pseudo Labeling : 792\n",
            "[241/3000] Train Acc: 0.939904 Loss: 0.044208 | Val Acc: 0.863976 loss: 0.463609\n",
            "Pseudo Labeling : 784\n",
            "[242/3000] Train Acc: 0.938984 Loss: 0.042324 | Val Acc: 0.870657 loss: 0.424945\n",
            "Pseudo Labeling : 795\n",
            "[243/3000] Train Acc: 0.940169 Loss: 0.039654 | Val Acc: 0.861839 loss: 0.458866\n",
            "Pseudo Labeling : 802\n",
            "[244/3000] Train Acc: 0.939307 Loss: 0.043193 | Val Acc: 0.868520 loss: 0.429728\n",
            "Pseudo Labeling : 805\n",
            "[245/3000] Train Acc: 0.942299 Loss: 0.041780 | Val Acc: 0.877873 loss: 0.409413\n",
            "saving model with acc 0.878\n",
            "Pseudo Labeling : 826\n",
            "[246/3000] Train Acc: 0.938070 Loss: 0.042137 | Val Acc: 0.867183 loss: 0.439875\n",
            "Pseudo Labeling : 783\n",
            "[247/3000] Train Acc: 0.940631 Loss: 0.041064 | Val Acc: 0.867718 loss: 0.439628\n",
            "Pseudo Labeling : 795\n",
            "[248/3000] Train Acc: 0.939852 Loss: 0.040482 | Val Acc: 0.862106 loss: 0.466201\n",
            "Pseudo Labeling : 808\n",
            "[249/3000] Train Acc: 0.939204 Loss: 0.042113 | Val Acc: 0.863175 loss: 0.452586\n",
            "Pseudo Labeling : 797\n",
            "[250/3000] Train Acc: 0.939542 Loss: 0.040418 | Val Acc: 0.860770 loss: 0.445359\n",
            "Pseudo Labeling : 792\n",
            "[251/3000] Train Acc: 0.939396 Loss: 0.043347 | Val Acc: 0.871994 loss: 0.411327\n",
            "Pseudo Labeling : 785\n",
            "[252/3000] Train Acc: 0.940512 Loss: 0.041169 | Val Acc: 0.871726 loss: 0.430876\n",
            "Pseudo Labeling : 782\n",
            "[253/3000] Train Acc: 0.940945 Loss: 0.041094 | Val Acc: 0.864511 loss: 0.438806\n",
            "Pseudo Labeling : 777\n",
            "[254/3000] Train Acc: 0.937051 Loss: 0.042699 | Val Acc: 0.870390 loss: 0.419069\n",
            "Pseudo Labeling : 790\n",
            "[255/3000] Train Acc: 0.942688 Loss: 0.039330 | Val Acc: 0.869588 loss: 0.426737\n",
            "Pseudo Labeling : 811\n",
            "[256/3000] Train Acc: 0.941244 Loss: 0.038201 | Val Acc: 0.871459 loss: 0.430308\n",
            "Pseudo Labeling : 811\n",
            "[257/3000] Train Acc: 0.941877 Loss: 0.040664 | Val Acc: 0.871726 loss: 0.426094\n",
            "Pseudo Labeling : 786\n",
            "[258/3000] Train Acc: 0.939563 Loss: 0.041705 | Val Acc: 0.876269 loss: 0.394606\n",
            "Pseudo Labeling : 792\n",
            "[259/3000] Train Acc: 0.942505 Loss: 0.038102 | Val Acc: 0.869856 loss: 0.429631\n",
            "Pseudo Labeling : 809\n",
            "[260/3000] Train Acc: 0.940919 Loss: 0.042866 | Val Acc: 0.871726 loss: 0.428277\n",
            "Pseudo Labeling : 807\n",
            "[261/3000] Train Acc: 0.940912 Loss: 0.041081 | Val Acc: 0.874399 loss: 0.407678\n",
            "Pseudo Labeling : 813\n",
            "[262/3000] Train Acc: 0.940617 Loss: 0.037656 | Val Acc: 0.878140 loss: 0.391854\n",
            "saving model with acc 0.878\n",
            "Pseudo Labeling : 801\n",
            "[263/3000] Train Acc: 0.938479 Loss: 0.042482 | Val Acc: 0.876537 loss: 0.411646\n",
            "Pseudo Labeling : 793\n",
            "[264/3000] Train Acc: 0.943969 Loss: 0.040395 | Val Acc: 0.880812 loss: 0.387338\n",
            "saving model with acc 0.881\n",
            "Pseudo Labeling : 801\n",
            "[265/3000] Train Acc: 0.940382 Loss: 0.041109 | Val Acc: 0.873330 loss: 0.419897\n",
            "Pseudo Labeling : 800\n",
            "[266/3000] Train Acc: 0.939871 Loss: 0.042638 | Val Acc: 0.869054 loss: 0.424129\n",
            "Pseudo Labeling : 802\n",
            "[267/3000] Train Acc: 0.939751 Loss: 0.041620 | Val Acc: 0.863175 loss: 0.448591\n",
            "Pseudo Labeling : 805\n",
            "[268/3000] Train Acc: 0.941285 Loss: 0.040793 | Val Acc: 0.867183 loss: 0.439531\n",
            "Pseudo Labeling : 800\n",
            "[269/3000] Train Acc: 0.942344 Loss: 0.039150 | Val Acc: 0.871459 loss: 0.419001\n",
            "Pseudo Labeling : 806\n",
            "[270/3000] Train Acc: 0.940845 Loss: 0.041851 | Val Acc: 0.875735 loss: 0.400951\n",
            "Pseudo Labeling : 826\n",
            "[271/3000] Train Acc: 0.939653 Loss: 0.041229 | Val Acc: 0.873864 loss: 0.407898\n",
            "Pseudo Labeling : 829\n",
            "[272/3000] Train Acc: 0.941247 Loss: 0.041608 | Val Acc: 0.874399 loss: 0.424522\n",
            "Pseudo Labeling : 806\n",
            "[273/3000] Train Acc: 0.941415 Loss: 0.040712 | Val Acc: 0.869856 loss: 0.424778\n",
            "Pseudo Labeling : 812\n",
            "[274/3000] Train Acc: 0.941944 Loss: 0.040955 | Val Acc: 0.874933 loss: 0.423549\n",
            "Pseudo Labeling : 797\n",
            "[275/3000] Train Acc: 0.941762 Loss: 0.038829 | Val Acc: 0.871726 loss: 0.432646\n",
            "Pseudo Labeling : 796\n",
            "[276/3000] Train Acc: 0.940109 Loss: 0.043024 | Val Acc: 0.874399 loss: 0.423821\n",
            "Pseudo Labeling : 799\n",
            "[277/3000] Train Acc: 0.942150 Loss: 0.037906 | Val Acc: 0.865847 loss: 0.448669\n",
            "Pseudo Labeling : 817\n",
            "[278/3000] Train Acc: 0.940379 Loss: 0.040128 | Val Acc: 0.870657 loss: 0.436657\n",
            "Pseudo Labeling : 797\n",
            "[279/3000] Train Acc: 0.941572 Loss: 0.040357 | Val Acc: 0.870123 loss: 0.435429\n",
            "Pseudo Labeling : 793\n",
            "[280/3000] Train Acc: 0.940415 Loss: 0.040208 | Val Acc: 0.874399 loss: 0.423424\n",
            "Pseudo Labeling : 795\n",
            "[281/3000] Train Acc: 0.945308 Loss: 0.040204 | Val Acc: 0.870925 loss: 0.427888\n",
            "Pseudo Labeling : 804\n",
            "[282/3000] Train Acc: 0.940774 Loss: 0.040333 | Val Acc: 0.879209 loss: 0.412320\n",
            "Pseudo Labeling : 781\n",
            "[283/3000] Train Acc: 0.944688 Loss: 0.038458 | Val Acc: 0.882683 loss: 0.384041\n",
            "saving model with acc 0.883\n",
            "Pseudo Labeling : 790\n",
            "[284/3000] Train Acc: 0.943387 Loss: 0.040580 | Val Acc: 0.879476 loss: 0.400315\n",
            "Pseudo Labeling : 805\n",
            "[285/3000] Train Acc: 0.943440 Loss: 0.038696 | Val Acc: 0.880278 loss: 0.408694\n",
            "Pseudo Labeling : 798\n",
            "[286/3000] Train Acc: 0.943859 Loss: 0.039476 | Val Acc: 0.872795 loss: 0.414593\n",
            "Pseudo Labeling : 802\n",
            "[287/3000] Train Acc: 0.941654 Loss: 0.040068 | Val Acc: 0.874666 loss: 0.426168\n",
            "Pseudo Labeling : 811\n",
            "[288/3000] Train Acc: 0.941497 Loss: 0.038279 | Val Acc: 0.874399 loss: 0.424755\n",
            "Pseudo Labeling : 810\n",
            "[289/3000] Train Acc: 0.940986 Loss: 0.039875 | Val Acc: 0.876537 loss: 0.432922\n",
            "Pseudo Labeling : 800\n",
            "[290/3000] Train Acc: 0.943993 Loss: 0.040023 | Val Acc: 0.872528 loss: 0.439508\n",
            "Pseudo Labeling : 789\n",
            "[291/3000] Train Acc: 0.941479 Loss: 0.038060 | Val Acc: 0.868252 loss: 0.438633\n",
            "Pseudo Labeling : 821\n",
            "[292/3000] Train Acc: 0.942738 Loss: 0.037863 | Val Acc: 0.875735 loss: 0.422969\n",
            "Pseudo Labeling : 816\n",
            "[293/3000] Train Acc: 0.943290 Loss: 0.039326 | Val Acc: 0.876269 loss: 0.416725\n",
            "Pseudo Labeling : 814\n",
            "[294/3000] Train Acc: 0.941825 Loss: 0.040676 | Val Acc: 0.886692 loss: 0.380597\n",
            "saving model with acc 0.887\n",
            "Pseudo Labeling : 816\n",
            "[295/3000] Train Acc: 0.944494 Loss: 0.037332 | Val Acc: 0.874131 loss: 0.426291\n",
            "Pseudo Labeling : 819\n",
            "[296/3000] Train Acc: 0.942857 Loss: 0.040135 | Val Acc: 0.871459 loss: 0.421651\n",
            "Pseudo Labeling : 821\n",
            "[297/3000] Train Acc: 0.941154 Loss: 0.037434 | Val Acc: 0.875735 loss: 0.415600\n",
            "Pseudo Labeling : 814\n",
            "[298/3000] Train Acc: 0.940811 Loss: 0.040080 | Val Acc: 0.881614 loss: 0.401529\n",
            "Pseudo Labeling : 803\n",
            "[299/3000] Train Acc: 0.943116 Loss: 0.036679 | Val Acc: 0.870123 loss: 0.443050\n",
            "Pseudo Labeling : 816\n",
            "[300/3000] Train Acc: 0.942593 Loss: 0.040251 | Val Acc: 0.879476 loss: 0.403385\n",
            "Pseudo Labeling : 809\n",
            "[301/3000] Train Acc: 0.944089 Loss: 0.036598 | Val Acc: 0.873597 loss: 0.433385\n",
            "Pseudo Labeling : 798\n",
            "[302/3000] Train Acc: 0.943352 Loss: 0.039732 | Val Acc: 0.873330 loss: 0.434478\n",
            "Pseudo Labeling : 808\n",
            "[303/3000] Train Acc: 0.943705 Loss: 0.037004 | Val Acc: 0.870657 loss: 0.443289\n",
            "Pseudo Labeling : 820\n",
            "[304/3000] Train Acc: 0.941214 Loss: 0.039130 | Val Acc: 0.877873 loss: 0.416544\n",
            "Pseudo Labeling : 800\n",
            "[305/3000] Train Acc: 0.944311 Loss: 0.038455 | Val Acc: 0.880812 loss: 0.406118\n",
            "Pseudo Labeling : 814\n",
            "[306/3000] Train Acc: 0.943156 Loss: 0.040079 | Val Acc: 0.882416 loss: 0.401499\n",
            "Pseudo Labeling : 801\n",
            "[307/3000] Train Acc: 0.944885 Loss: 0.037041 | Val Acc: 0.863709 loss: 0.457323\n",
            "Pseudo Labeling : 824\n",
            "[308/3000] Train Acc: 0.942305 Loss: 0.038226 | Val Acc: 0.873597 loss: 0.428588\n",
            "Pseudo Labeling : 813\n",
            "[309/3000] Train Acc: 0.944800 Loss: 0.037244 | Val Acc: 0.876269 loss: 0.433217\n",
            "Pseudo Labeling : 812\n",
            "[310/3000] Train Acc: 0.945304 Loss: 0.037344 | Val Acc: 0.877338 loss: 0.407667\n",
            "Pseudo Labeling : 808\n",
            "[311/3000] Train Acc: 0.944783 Loss: 0.037462 | Val Acc: 0.883752 loss: 0.387125\n",
            "Pseudo Labeling : 808\n",
            "[312/3000] Train Acc: 0.945226 Loss: 0.038536 | Val Acc: 0.871994 loss: 0.428944\n",
            "Pseudo Labeling : 799\n",
            "[313/3000] Train Acc: 0.943292 Loss: 0.039153 | Val Acc: 0.871459 loss: 0.418208\n",
            "Pseudo Labeling : 830\n",
            "[314/3000] Train Acc: 0.942264 Loss: 0.038273 | Val Acc: 0.874131 loss: 0.423804\n",
            "Pseudo Labeling : 819\n",
            "[315/3000] Train Acc: 0.945074 Loss: 0.038500 | Val Acc: 0.883752 loss: 0.380901\n",
            "Pseudo Labeling : 839\n",
            "[316/3000] Train Acc: 0.942233 Loss: 0.037853 | Val Acc: 0.872795 loss: 0.415326\n",
            "Pseudo Labeling : 806\n",
            "[317/3000] Train Acc: 0.943888 Loss: 0.037747 | Val Acc: 0.873864 loss: 0.438703\n",
            "Pseudo Labeling : 828\n",
            "[318/3000] Train Acc: 0.945549 Loss: 0.036342 | Val Acc: 0.879209 loss: 0.415144\n",
            "Pseudo Labeling : 834\n",
            "[319/3000] Train Acc: 0.942215 Loss: 0.038706 | Val Acc: 0.881881 loss: 0.403746\n",
            "Pseudo Labeling : 806\n",
            "[320/3000] Train Acc: 0.945093 Loss: 0.037915 | Val Acc: 0.871192 loss: 0.435461\n",
            "Pseudo Labeling : 822\n",
            "[321/3000] Train Acc: 0.943945 Loss: 0.038185 | Val Acc: 0.874666 loss: 0.423004\n",
            "Pseudo Labeling : 802\n",
            "[322/3000] Train Acc: 0.945079 Loss: 0.037147 | Val Acc: 0.874666 loss: 0.426550\n",
            "Pseudo Labeling : 804\n",
            "[323/3000] Train Acc: 0.944832 Loss: 0.036401 | Val Acc: 0.870925 loss: 0.435276\n",
            "Pseudo Labeling : 820\n",
            "[324/3000] Train Acc: 0.942671 Loss: 0.037791 | Val Acc: 0.875735 loss: 0.419982\n",
            "Pseudo Labeling : 827\n",
            "[325/3000] Train Acc: 0.943773 Loss: 0.038880 | Val Acc: 0.881614 loss: 0.406491\n",
            "Pseudo Labeling : 827\n",
            "[326/3000] Train Acc: 0.943203 Loss: 0.038812 | Val Acc: 0.873864 loss: 0.426293\n",
            "Pseudo Labeling : 831\n",
            "[327/3000] Train Acc: 0.945433 Loss: 0.038625 | Val Acc: 0.881080 loss: 0.410138\n",
            "Pseudo Labeling : 809\n",
            "[328/3000] Train Acc: 0.944659 Loss: 0.039533 | Val Acc: 0.876804 loss: 0.416345\n",
            "Pseudo Labeling : 810\n",
            "[329/3000] Train Acc: 0.946818 Loss: 0.036717 | Val Acc: 0.871726 loss: 0.425907\n",
            "Pseudo Labeling : 835\n",
            "[330/3000] Train Acc: 0.945193 Loss: 0.037063 | Val Acc: 0.879743 loss: 0.415251\n",
            "Pseudo Labeling : 818\n",
            "[331/3000] Train Acc: 0.945641 Loss: 0.035779 | Val Acc: 0.876269 loss: 0.427914\n",
            "Pseudo Labeling : 829\n",
            "[332/3000] Train Acc: 0.943716 Loss: 0.036455 | Val Acc: 0.885088 loss: 0.391535\n",
            "Pseudo Labeling : 827\n",
            "[333/3000] Train Acc: 0.945229 Loss: 0.034764 | Val Acc: 0.884286 loss: 0.404287\n",
            "Pseudo Labeling : 839\n",
            "[334/3000] Train Acc: 0.943309 Loss: 0.035897 | Val Acc: 0.880545 loss: 0.417160\n",
            "Pseudo Labeling : 814\n",
            "[335/3000] Train Acc: 0.943916 Loss: 0.036084 | Val Acc: 0.871994 loss: 0.438165\n",
            "Pseudo Labeling : 847\n",
            "[336/3000] Train Acc: 0.948144 Loss: 0.037829 | Val Acc: 0.874131 loss: 0.420494\n",
            "Pseudo Labeling : 824\n",
            "[337/3000] Train Acc: 0.944839 Loss: 0.038255 | Val Acc: 0.886959 loss: 0.383180\n",
            "saving model with acc 0.887\n",
            "Pseudo Labeling : 830\n",
            "[338/3000] Train Acc: 0.945176 Loss: 0.036502 | Val Acc: 0.886157 loss: 0.401960\n",
            "Pseudo Labeling : 823\n",
            "[339/3000] Train Acc: 0.946862 Loss: 0.036866 | Val Acc: 0.889631 loss: 0.396552\n",
            "saving model with acc 0.890\n",
            "Pseudo Labeling : 814\n",
            "[340/3000] Train Acc: 0.945944 Loss: 0.037287 | Val Acc: 0.883485 loss: 0.400680\n",
            "Pseudo Labeling : 832\n",
            "[341/3000] Train Acc: 0.944613 Loss: 0.035222 | Val Acc: 0.877338 loss: 0.433301\n",
            "Pseudo Labeling : 822\n",
            "[342/3000] Train Acc: 0.946605 Loss: 0.034076 | Val Acc: 0.874933 loss: 0.408805\n",
            "Pseudo Labeling : 845\n",
            "[343/3000] Train Acc: 0.949213 Loss: 0.036115 | Val Acc: 0.865313 loss: 0.450514\n",
            "Pseudo Labeling : 852\n",
            "[344/3000] Train Acc: 0.945568 Loss: 0.037268 | Val Acc: 0.870925 loss: 0.440893\n",
            "Pseudo Labeling : 838\n",
            "[345/3000] Train Acc: 0.943938 Loss: 0.037197 | Val Acc: 0.877338 loss: 0.417205\n",
            "Pseudo Labeling : 832\n",
            "[346/3000] Train Acc: 0.942841 Loss: 0.037997 | Val Acc: 0.877338 loss: 0.412119\n",
            "Pseudo Labeling : 835\n",
            "[347/3000] Train Acc: 0.944560 Loss: 0.035470 | Val Acc: 0.885623 loss: 0.396546\n",
            "Pseudo Labeling : 826\n",
            "[348/3000] Train Acc: 0.943896 Loss: 0.036532 | Val Acc: 0.872528 loss: 0.437762\n",
            "Pseudo Labeling : 839\n",
            "[349/3000] Train Acc: 0.944891 Loss: 0.037757 | Val Acc: 0.881614 loss: 0.397184\n",
            "Pseudo Labeling : 829\n",
            "[350/3000] Train Acc: 0.944919 Loss: 0.034798 | Val Acc: 0.873597 loss: 0.429127\n",
            "Pseudo Labeling : 821\n",
            "[351/3000] Train Acc: 0.946095 Loss: 0.034900 | Val Acc: 0.874131 loss: 0.436776\n",
            "Pseudo Labeling : 846\n",
            "[352/3000] Train Acc: 0.947382 Loss: 0.039161 | Val Acc: 0.877338 loss: 0.408776\n",
            "Pseudo Labeling : 827\n",
            "[353/3000] Train Acc: 0.943773 Loss: 0.036557 | Val Acc: 0.879476 loss: 0.401113\n",
            "Pseudo Labeling : 827\n",
            "[354/3000] Train Acc: 0.944026 Loss: 0.036004 | Val Acc: 0.880011 loss: 0.400298\n",
            "Pseudo Labeling : 831\n",
            "[355/3000] Train Acc: 0.945496 Loss: 0.035979 | Val Acc: 0.875468 loss: 0.407234\n",
            "Pseudo Labeling : 820\n",
            "[356/3000] Train Acc: 0.943874 Loss: 0.038078 | Val Acc: 0.873063 loss: 0.412812\n",
            "Pseudo Labeling : 813\n",
            "[357/3000] Train Acc: 0.946384 Loss: 0.036980 | Val Acc: 0.874131 loss: 0.421484\n",
            "Pseudo Labeling : 820\n",
            "[358/3000] Train Acc: 0.946535 Loss: 0.036580 | Val Acc: 0.881080 loss: 0.413803\n",
            "Pseudo Labeling : 821\n",
            "[359/3000] Train Acc: 0.945018 Loss: 0.037317 | Val Acc: 0.878140 loss: 0.400925\n",
            "Pseudo Labeling : 822\n",
            "[360/3000] Train Acc: 0.945655 Loss: 0.037054 | Val Acc: 0.870925 loss: 0.426629\n",
            "Pseudo Labeling : 819\n",
            "[361/3000] Train Acc: 0.944694 Loss: 0.034990 | Val Acc: 0.863976 loss: 0.453319\n",
            "Pseudo Labeling : 830\n",
            "[362/3000] Train Acc: 0.945746 Loss: 0.036808 | Val Acc: 0.867451 loss: 0.445963\n",
            "Pseudo Labeling : 822\n",
            "[363/3000] Train Acc: 0.943881 Loss: 0.037268 | Val Acc: 0.869588 loss: 0.424330\n",
            "Pseudo Labeling : 845\n",
            "[364/3000] Train Acc: 0.949023 Loss: 0.039041 | Val Acc: 0.872528 loss: 0.436989\n",
            "Pseudo Labeling : 852\n",
            "[365/3000] Train Acc: 0.949109 Loss: 0.035073 | Val Acc: 0.874131 loss: 0.437939\n",
            "Pseudo Labeling : 823\n",
            "[366/3000] Train Acc: 0.946735 Loss: 0.036184 | Val Acc: 0.878942 loss: 0.415665\n",
            "Pseudo Labeling : 864\n",
            "[367/3000] Train Acc: 0.944599 Loss: 0.037107 | Val Acc: 0.874666 loss: 0.432703\n",
            "Pseudo Labeling : 821\n",
            "[368/3000] Train Acc: 0.946222 Loss: 0.036899 | Val Acc: 0.870123 loss: 0.451001\n",
            "Pseudo Labeling : 820\n",
            "[369/3000] Train Acc: 0.946788 Loss: 0.037992 | Val Acc: 0.884019 loss: 0.384246\n",
            "Pseudo Labeling : 850\n",
            "[370/3000] Train Acc: 0.945941 Loss: 0.035365 | Val Acc: 0.866114 loss: 0.457831\n",
            "Pseudo Labeling : 833\n",
            "[371/3000] Train Acc: 0.946199 Loss: 0.037861 | Val Acc: 0.872261 loss: 0.416824\n",
            "Pseudo Labeling : 862\n",
            "[372/3000] Train Acc: 0.943960 Loss: 0.036420 | Val Acc: 0.865580 loss: 0.454906\n",
            "Pseudo Labeling : 849\n",
            "[373/3000] Train Acc: 0.951755 Loss: 0.035143 | Val Acc: 0.867718 loss: 0.437205\n",
            "Pseudo Labeling : 844\n",
            "[374/3000] Train Acc: 0.948703 Loss: 0.035100 | Val Acc: 0.882416 loss: 0.400638\n",
            "Pseudo Labeling : 835\n",
            "[375/3000] Train Acc: 0.944181 Loss: 0.036035 | Val Acc: 0.878407 loss: 0.415952\n",
            "Pseudo Labeling : 845\n",
            "[376/3000] Train Acc: 0.947758 Loss: 0.037828 | Val Acc: 0.885890 loss: 0.372493\n",
            "Pseudo Labeling : 840\n",
            "[377/3000] Train Acc: 0.944072 Loss: 0.035589 | Val Acc: 0.874666 loss: 0.426563\n",
            "Pseudo Labeling : 822\n",
            "[378/3000] Train Acc: 0.945718 Loss: 0.036300 | Val Acc: 0.873063 loss: 0.434458\n",
            "Pseudo Labeling : 819\n",
            "[379/3000] Train Acc: 0.946468 Loss: 0.034724 | Val Acc: 0.882950 loss: 0.389890\n",
            "Pseudo Labeling : 836\n",
            "[380/3000] Train Acc: 0.942792 Loss: 0.038020 | Val Acc: 0.877873 loss: 0.419583\n",
            "Pseudo Labeling : 840\n",
            "[381/3000] Train Acc: 0.945084 Loss: 0.038442 | Val Acc: 0.878140 loss: 0.428790\n",
            "Pseudo Labeling : 836\n",
            "[382/3000] Train Acc: 0.943172 Loss: 0.035254 | Val Acc: 0.877873 loss: 0.438995\n",
            "Pseudo Labeling : 833\n",
            "[383/3000] Train Acc: 0.947275 Loss: 0.034561 | Val Acc: 0.871726 loss: 0.438881\n",
            "Pseudo Labeling : 851\n",
            "[384/3000] Train Acc: 0.948536 Loss: 0.036768 | Val Acc: 0.869588 loss: 0.454438\n",
            "Pseudo Labeling : 833\n",
            "[385/3000] Train Acc: 0.947592 Loss: 0.036568 | Val Acc: 0.875468 loss: 0.442532\n",
            "Pseudo Labeling : 825\n",
            "[386/3000] Train Acc: 0.945665 Loss: 0.036028 | Val Acc: 0.873330 loss: 0.431938\n",
            "Pseudo Labeling : 836\n",
            "[387/3000] Train Acc: 0.945513 Loss: 0.034941 | Val Acc: 0.872528 loss: 0.435124\n",
            "Pseudo Labeling : 843\n",
            "[388/3000] Train Acc: 0.947055 Loss: 0.033516 | Val Acc: 0.871192 loss: 0.448332\n",
            "Pseudo Labeling : 840\n",
            "[389/3000] Train Acc: 0.945654 Loss: 0.034342 | Val Acc: 0.876537 loss: 0.425471\n",
            "Pseudo Labeling : 856\n",
            "[390/3000] Train Acc: 0.950070 Loss: 0.034859 | Val Acc: 0.878140 loss: 0.425186\n",
            "Pseudo Labeling : 852\n",
            "[391/3000] Train Acc: 0.951068 Loss: 0.033338 | Val Acc: 0.871192 loss: 0.429279\n",
            "Pseudo Labeling : 856\n",
            "[392/3000] Train Acc: 0.949374 Loss: 0.035371 | Val Acc: 0.876269 loss: 0.421296\n",
            "Pseudo Labeling : 836\n",
            "[393/3000] Train Acc: 0.947538 Loss: 0.032683 | Val Acc: 0.874666 loss: 0.424591\n",
            "Pseudo Labeling : 857\n",
            "[394/3000] Train Acc: 0.950578 Loss: 0.031795 | Val Acc: 0.873063 loss: 0.434072\n",
            "Pseudo Labeling : 850\n",
            "[395/3000] Train Acc: 0.953275 Loss: 0.031693 | Val Acc: 0.876804 loss: 0.424231\n",
            "Pseudo Labeling : 848\n",
            "[396/3000] Train Acc: 0.951182 Loss: 0.035304 | Val Acc: 0.875200 loss: 0.434419\n",
            "Pseudo Labeling : 823\n",
            "[397/3000] Train Acc: 0.949395 Loss: 0.034738 | Val Acc: 0.880545 loss: 0.412738\n",
            "Pseudo Labeling : 862\n",
            "[398/3000] Train Acc: 0.948130 Loss: 0.034358 | Val Acc: 0.878407 loss: 0.417145\n",
            "Pseudo Labeling : 852\n",
            "[399/3000] Train Acc: 0.948919 Loss: 0.032341 | Val Acc: 0.875735 loss: 0.423809\n",
            "Pseudo Labeling : 862\n",
            "[400/3000] Train Acc: 0.950720 Loss: 0.033059 | Val Acc: 0.874399 loss: 0.425986\n",
            "Pseudo Labeling : 840\n",
            "[401/3000] Train Acc: 0.947235 Loss: 0.033449 | Val Acc: 0.875468 loss: 0.419405\n",
            "Pseudo Labeling : 830\n",
            "[402/3000] Train Acc: 0.949164 Loss: 0.034469 | Val Acc: 0.875200 loss: 0.430936\n",
            "Pseudo Labeling : 850\n",
            "[403/3000] Train Acc: 0.952327 Loss: 0.033375 | Val Acc: 0.876537 loss: 0.419382\n",
            "Pseudo Labeling : 855\n",
            "[404/3000] Train Acc: 0.951647 Loss: 0.032200 | Val Acc: 0.876002 loss: 0.424414\n",
            "Pseudo Labeling : 841\n",
            "[405/3000] Train Acc: 0.948694 Loss: 0.034354 | Val Acc: 0.874399 loss: 0.429259\n",
            "Pseudo Labeling : 846\n",
            "[406/3000] Train Acc: 0.949406 Loss: 0.032858 | Val Acc: 0.876537 loss: 0.421803\n",
            "Pseudo Labeling : 845\n",
            "[407/3000] Train Acc: 0.952312 Loss: 0.032857 | Val Acc: 0.878942 loss: 0.422478\n",
            "Pseudo Labeling : 834\n",
            "[408/3000] Train Acc: 0.951392 Loss: 0.032315 | Val Acc: 0.871459 loss: 0.432221\n",
            "Pseudo Labeling : 858\n",
            "[409/3000] Train Acc: 0.951087 Loss: 0.032662 | Val Acc: 0.879476 loss: 0.427901\n",
            "Pseudo Labeling : 838\n",
            "[410/3000] Train Acc: 0.947545 Loss: 0.031418 | Val Acc: 0.877606 loss: 0.421292\n",
            "Pseudo Labeling : 846\n",
            "[411/3000] Train Acc: 0.953706 Loss: 0.031363 | Val Acc: 0.883218 loss: 0.406306\n",
            "Pseudo Labeling : 866\n",
            "[412/3000] Train Acc: 0.950291 Loss: 0.030241 | Val Acc: 0.876804 loss: 0.416201\n",
            "Pseudo Labeling : 857\n",
            "[413/3000] Train Acc: 0.952348 Loss: 0.031507 | Val Acc: 0.872261 loss: 0.433474\n",
            "Pseudo Labeling : 835\n",
            "[414/3000] Train Acc: 0.949117 Loss: 0.031759 | Val Acc: 0.876002 loss: 0.433218\n",
            "Pseudo Labeling : 845\n",
            "[415/3000] Train Acc: 0.952881 Loss: 0.030957 | Val Acc: 0.877606 loss: 0.432841\n",
            "Pseudo Labeling : 829\n",
            "[416/3000] Train Acc: 0.947958 Loss: 0.032550 | Val Acc: 0.877338 loss: 0.421235\n",
            "Pseudo Labeling : 865\n",
            "[417/3000] Train Acc: 0.953130 Loss: 0.031576 | Val Acc: 0.880545 loss: 0.410821\n",
            "Pseudo Labeling : 857\n",
            "[418/3000] Train Acc: 0.952411 Loss: 0.031391 | Val Acc: 0.868520 loss: 0.463235\n",
            "Pseudo Labeling : 832\n",
            "[419/3000] Train Acc: 0.946829 Loss: 0.033351 | Val Acc: 0.874933 loss: 0.435799\n",
            "Pseudo Labeling : 852\n",
            "[420/3000] Train Acc: 0.954862 Loss: 0.031209 | Val Acc: 0.863709 loss: 0.466332\n",
            "Pseudo Labeling : 818\n",
            "[421/3000] Train Acc: 0.950710 Loss: 0.032070 | Val Acc: 0.872528 loss: 0.431078\n",
            "Pseudo Labeling : 844\n",
            "[422/3000] Train Acc: 0.953257 Loss: 0.031344 | Val Acc: 0.871192 loss: 0.432886\n",
            "Pseudo Labeling : 847\n",
            "[423/3000] Train Acc: 0.953519 Loss: 0.033865 | Val Acc: 0.876804 loss: 0.419972\n",
            "Pseudo Labeling : 847\n",
            "[424/3000] Train Acc: 0.955416 Loss: 0.030489 | Val Acc: 0.876269 loss: 0.429691\n",
            "Pseudo Labeling : 839\n",
            "[425/3000] Train Acc: 0.950206 Loss: 0.032418 | Val Acc: 0.883485 loss: 0.400591\n",
            "Pseudo Labeling : 852\n",
            "[426/3000] Train Acc: 0.948666 Loss: 0.034955 | Val Acc: 0.873597 loss: 0.424896\n",
            "Pseudo Labeling : 859\n",
            "[427/3000] Train Acc: 0.952733 Loss: 0.031687 | Val Acc: 0.881614 loss: 0.404648\n",
            "Pseudo Labeling : 851\n",
            "[428/3000] Train Acc: 0.951950 Loss: 0.032083 | Val Acc: 0.885088 loss: 0.399597\n",
            "Pseudo Labeling : 847\n",
            "[429/3000] Train Acc: 0.952571 Loss: 0.032024 | Val Acc: 0.870925 loss: 0.433619\n",
            "Pseudo Labeling : 853\n",
            "[430/3000] Train Acc: 0.951704 Loss: 0.033560 | Val Acc: 0.874933 loss: 0.428791\n",
            "Pseudo Labeling : 853\n",
            "[431/3000] Train Acc: 0.951451 Loss: 0.033104 | Val Acc: 0.886959 loss: 0.390323\n",
            "Pseudo Labeling : 862\n",
            "[432/3000] Train Acc: 0.951984 Loss: 0.031260 | Val Acc: 0.877873 loss: 0.421596\n",
            "Pseudo Labeling : 858\n",
            "[433/3000] Train Acc: 0.951782 Loss: 0.031930 | Val Acc: 0.874933 loss: 0.423419\n",
            "Pseudo Labeling : 867\n",
            "[434/3000] Train Acc: 0.951557 Loss: 0.032473 | Val Acc: 0.873330 loss: 0.431981\n",
            "Pseudo Labeling : 851\n",
            "[435/3000] Train Acc: 0.951255 Loss: 0.031559 | Val Acc: 0.881347 loss: 0.418645\n",
            "Pseudo Labeling : 856\n",
            "[436/3000] Train Acc: 0.954304 Loss: 0.033670 | Val Acc: 0.883485 loss: 0.401480\n",
            "Pseudo Labeling : 851\n",
            "[437/3000] Train Acc: 0.952583 Loss: 0.032246 | Val Acc: 0.880812 loss: 0.421333\n",
            "Pseudo Labeling : 839\n",
            "[438/3000] Train Acc: 0.950522 Loss: 0.031249 | Val Acc: 0.880011 loss: 0.402459\n",
            "Pseudo Labeling : 853\n",
            "[439/3000] Train Acc: 0.950882 Loss: 0.033724 | Val Acc: 0.881614 loss: 0.411987\n",
            "Pseudo Labeling : 848\n",
            "[440/3000] Train Acc: 0.951878 Loss: 0.031904 | Val Acc: 0.876537 loss: 0.420073\n",
            "Pseudo Labeling : 854\n",
            "[441/3000] Train Acc: 0.953350 Loss: 0.031186 | Val Acc: 0.878140 loss: 0.410016\n",
            "Pseudo Labeling : 844\n",
            "[442/3000] Train Acc: 0.952498 Loss: 0.032234 | Val Acc: 0.885088 loss: 0.404599\n",
            "Pseudo Labeling : 849\n",
            "[443/3000] Train Acc: 0.951628 Loss: 0.033295 | Val Acc: 0.876269 loss: 0.425855\n",
            "Pseudo Labeling : 853\n",
            "[444/3000] Train Acc: 0.950755 Loss: 0.032744 | Val Acc: 0.878675 loss: 0.416668\n",
            "Pseudo Labeling : 843\n",
            "[445/3000] Train Acc: 0.954330 Loss: 0.032477 | Val Acc: 0.881347 loss: 0.411834\n",
            "Pseudo Labeling : 862\n",
            "[446/3000] Train Acc: 0.953311 Loss: 0.029692 | Val Acc: 0.873597 loss: 0.438639\n",
            "Pseudo Labeling : 846\n",
            "[447/3000] Train Acc: 0.953327 Loss: 0.032408 | Val Acc: 0.881614 loss: 0.401581\n",
            "Pseudo Labeling : 845\n",
            "[448/3000] Train Acc: 0.954968 Loss: 0.031158 | Val Acc: 0.878675 loss: 0.408469\n",
            "Pseudo Labeling : 841\n",
            "[449/3000] Train Acc: 0.947871 Loss: 0.035193 | Val Acc: 0.877338 loss: 0.404571\n",
            "Pseudo Labeling : 849\n",
            "[450/3000] Train Acc: 0.953778 Loss: 0.032950 | Val Acc: 0.873864 loss: 0.428841\n",
            "Pseudo Labeling : 856\n",
            "[451/3000] Train Acc: 0.951902 Loss: 0.031725 | Val Acc: 0.876269 loss: 0.427527\n",
            "Pseudo Labeling : 834\n",
            "[452/3000] Train Acc: 0.949114 Loss: 0.031910 | Val Acc: 0.876269 loss: 0.420383\n",
            "Pseudo Labeling : 842\n",
            "[453/3000] Train Acc: 0.954327 Loss: 0.030697 | Val Acc: 0.874131 loss: 0.423699\n",
            "Pseudo Labeling : 836\n",
            "[454/3000] Train Acc: 0.948677 Loss: 0.031576 | Val Acc: 0.873063 loss: 0.425015\n",
            "Pseudo Labeling : 863\n",
            "[455/3000] Train Acc: 0.953250 Loss: 0.031354 | Val Acc: 0.880011 loss: 0.410333\n",
            "Pseudo Labeling : 875\n",
            "[456/3000] Train Acc: 0.951139 Loss: 0.032820 | Val Acc: 0.874933 loss: 0.419166\n",
            "Pseudo Labeling : 859\n",
            "[457/3000] Train Acc: 0.954818 Loss: 0.030868 | Val Acc: 0.881080 loss: 0.410691\n",
            "Pseudo Labeling : 851\n",
            "[458/3000] Train Acc: 0.954922 Loss: 0.030522 | Val Acc: 0.883218 loss: 0.402614\n",
            "Pseudo Labeling : 851\n",
            "[459/3000] Train Acc: 0.952267 Loss: 0.031559 | Val Acc: 0.881080 loss: 0.400225\n",
            "Pseudo Labeling : 845\n",
            "[460/3000] Train Acc: 0.955031 Loss: 0.031899 | Val Acc: 0.882950 loss: 0.400792\n",
            "Pseudo Labeling : 861\n",
            "[461/3000] Train Acc: 0.953181 Loss: 0.030127 | Val Acc: 0.869856 loss: 0.438200\n",
            "Pseudo Labeling : 858\n",
            "[462/3000] Train Acc: 0.952793 Loss: 0.031288 | Val Acc: 0.884286 loss: 0.407197\n",
            "Pseudo Labeling : 837\n",
            "[463/3000] Train Acc: 0.949313 Loss: 0.031987 | Val Acc: 0.872261 loss: 0.424442\n",
            "Pseudo Labeling : 857\n",
            "[464/3000] Train Acc: 0.954244 Loss: 0.031170 | Val Acc: 0.872528 loss: 0.424929\n",
            "Pseudo Labeling : 852\n",
            "[465/3000] Train Acc: 0.952965 Loss: 0.031487 | Val Acc: 0.877606 loss: 0.416489\n",
            "Pseudo Labeling : 849\n",
            "[466/3000] Train Acc: 0.953019 Loss: 0.030101 | Val Acc: 0.879476 loss: 0.412678\n",
            "Pseudo Labeling : 838\n",
            "[467/3000] Train Acc: 0.949949 Loss: 0.032302 | Val Acc: 0.868520 loss: 0.452659\n",
            "Pseudo Labeling : 851\n",
            "[468/3000] Train Acc: 0.954290 Loss: 0.032829 | Val Acc: 0.879476 loss: 0.409884\n",
            "Pseudo Labeling : 836\n",
            "[469/3000] Train Acc: 0.949627 Loss: 0.030635 | Val Acc: 0.878407 loss: 0.411605\n",
            "Pseudo Labeling : 841\n",
            "[470/3000] Train Acc: 0.947934 Loss: 0.031405 | Val Acc: 0.878675 loss: 0.416955\n",
            "Pseudo Labeling : 851\n",
            "[471/3000] Train Acc: 0.954226 Loss: 0.029374 | Val Acc: 0.876804 loss: 0.410247\n",
            "Pseudo Labeling : 858\n",
            "[472/3000] Train Acc: 0.951529 Loss: 0.031349 | Val Acc: 0.875468 loss: 0.413937\n",
            "Pseudo Labeling : 858\n",
            "[473/3000] Train Acc: 0.951150 Loss: 0.031781 | Val Acc: 0.874399 loss: 0.422120\n",
            "Pseudo Labeling : 864\n",
            "[474/3000] Train Acc: 0.950347 Loss: 0.033922 | Val Acc: 0.875200 loss: 0.429380\n",
            "Pseudo Labeling : 864\n",
            "[475/3000] Train Acc: 0.950158 Loss: 0.033658 | Val Acc: 0.881614 loss: 0.415350\n",
            "Pseudo Labeling : 850\n",
            "[476/3000] Train Acc: 0.952327 Loss: 0.032912 | Val Acc: 0.877071 loss: 0.416278\n",
            "Pseudo Labeling : 843\n",
            "[477/3000] Train Acc: 0.954899 Loss: 0.031775 | Val Acc: 0.882416 loss: 0.402632\n",
            "Pseudo Labeling : 841\n",
            "[478/3000] Train Acc: 0.949516 Loss: 0.032183 | Val Acc: 0.885623 loss: 0.395587\n",
            "Pseudo Labeling : 855\n",
            "[479/3000] Train Acc: 0.953290 Loss: 0.030185 | Val Acc: 0.881614 loss: 0.402780\n",
            "Pseudo Labeling : 856\n",
            "[480/3000] Train Acc: 0.951713 Loss: 0.030318 | Val Acc: 0.883485 loss: 0.395250\n",
            "Pseudo Labeling : 861\n",
            "[481/3000] Train Acc: 0.952676 Loss: 0.032929 | Val Acc: 0.882149 loss: 0.404086\n",
            "Pseudo Labeling : 862\n",
            "[482/3000] Train Acc: 0.953374 Loss: 0.031810 | Val Acc: 0.880011 loss: 0.417306\n",
            "Pseudo Labeling : 840\n",
            "[483/3000] Train Acc: 0.948754 Loss: 0.031383 | Val Acc: 0.876537 loss: 0.417210\n",
            "Pseudo Labeling : 865\n",
            "[484/3000] Train Acc: 0.951740 Loss: 0.031340 | Val Acc: 0.880011 loss: 0.419802\n",
            "Pseudo Labeling : 843\n",
            "[485/3000] Train Acc: 0.955595 Loss: 0.029057 | Val Acc: 0.871994 loss: 0.440188\n",
            "Pseudo Labeling : 851\n",
            "[486/3000] Train Acc: 0.950686 Loss: 0.034325 | Val Acc: 0.880545 loss: 0.416295\n",
            "Pseudo Labeling : 846\n",
            "[487/3000] Train Acc: 0.951935 Loss: 0.032352 | Val Acc: 0.881347 loss: 0.409577\n",
            "Pseudo Labeling : 868\n",
            "[488/3000] Train Acc: 0.953202 Loss: 0.029574 | Val Acc: 0.883485 loss: 0.406932\n",
            "Pseudo Labeling : 834\n",
            "[489/3000] Train Acc: 0.952722 Loss: 0.030433 | Val Acc: 0.882149 loss: 0.397669\n",
            "Pseudo Labeling : 862\n",
            "[490/3000] Train Acc: 0.952805 Loss: 0.030890 | Val Acc: 0.880011 loss: 0.409439\n",
            "Pseudo Labeling : 853\n",
            "[491/3000] Train Acc: 0.955180 Loss: 0.029361 | Val Acc: 0.872261 loss: 0.439975\n",
            "Pseudo Labeling : 856\n",
            "[492/3000] Train Acc: 0.953799 Loss: 0.030875 | Val Acc: 0.884286 loss: 0.390108\n",
            "Pseudo Labeling : 853\n",
            "[493/3000] Train Acc: 0.953284 Loss: 0.031995 | Val Acc: 0.878675 loss: 0.414446\n",
            "Pseudo Labeling : 858\n",
            "[494/3000] Train Acc: 0.951656 Loss: 0.029772 | Val Acc: 0.880545 loss: 0.405817\n",
            "Pseudo Labeling : 877\n",
            "[495/3000] Train Acc: 0.952029 Loss: 0.033060 | Val Acc: 0.881347 loss: 0.408362\n",
            "Pseudo Labeling : 850\n",
            "[496/3000] Train Acc: 0.951252 Loss: 0.032149 | Val Acc: 0.883485 loss: 0.402691\n",
            "Pseudo Labeling : 841\n",
            "[497/3000] Train Acc: 0.953881 Loss: 0.028892 | Val Acc: 0.877071 loss: 0.431567\n",
            "Pseudo Labeling : 863\n",
            "[498/3000] Train Acc: 0.953503 Loss: 0.030049 | Val Acc: 0.878407 loss: 0.427600\n",
            "Pseudo Labeling : 860\n",
            "[499/3000] Train Acc: 0.952167 Loss: 0.032175 | Val Acc: 0.885890 loss: 0.398459\n",
            "Pseudo Labeling : 848\n",
            "[500/3000] Train Acc: 0.955482 Loss: 0.027739 | Val Acc: 0.874131 loss: 0.433317\n",
            "Pseudo Labeling : 851\n",
            "[501/3000] Train Acc: 0.955554 Loss: 0.030322 | Val Acc: 0.881614 loss: 0.398795\n",
            "Pseudo Labeling : 870\n",
            "[502/3000] Train Acc: 0.953082 Loss: 0.029535 | Val Acc: 0.874666 loss: 0.420648\n",
            "Pseudo Labeling : 862\n",
            "[503/3000] Train Acc: 0.953500 Loss: 0.029306 | Val Acc: 0.872261 loss: 0.433356\n",
            "Pseudo Labeling : 840\n",
            "[504/3000] Train Acc: 0.951221 Loss: 0.032561 | Val Acc: 0.878942 loss: 0.416553\n",
            "Pseudo Labeling : 858\n",
            "[505/3000] Train Acc: 0.953994 Loss: 0.028782 | Val Acc: 0.876269 loss: 0.425299\n",
            "Pseudo Labeling : 857\n",
            "[506/3000] Train Acc: 0.955761 Loss: 0.030409 | Val Acc: 0.870925 loss: 0.433983\n",
            "Pseudo Labeling : 846\n",
            "[507/3000] Train Acc: 0.954718 Loss: 0.031925 | Val Acc: 0.880011 loss: 0.412267\n",
            "Pseudo Labeling : 861\n",
            "[508/3000] Train Acc: 0.952044 Loss: 0.031450 | Val Acc: 0.873330 loss: 0.427403\n",
            "Pseudo Labeling : 858\n",
            "[509/3000] Train Acc: 0.953046 Loss: 0.031982 | Val Acc: 0.874933 loss: 0.439664\n",
            "Pseudo Labeling : 854\n",
            "[510/3000] Train Acc: 0.952655 Loss: 0.031314 | Val Acc: 0.877873 loss: 0.416620\n",
            "Pseudo Labeling : 853\n",
            "[511/3000] Train Acc: 0.954232 Loss: 0.030886 | Val Acc: 0.880011 loss: 0.415491\n",
            "Pseudo Labeling : 863\n",
            "[512/3000] Train Acc: 0.952619 Loss: 0.033436 | Val Acc: 0.883218 loss: 0.402281\n",
            "Pseudo Labeling : 844\n",
            "[513/3000] Train Acc: 0.953384 Loss: 0.033143 | Val Acc: 0.880278 loss: 0.408177\n",
            "Pseudo Labeling : 859\n",
            "[514/3000] Train Acc: 0.954692 Loss: 0.030370 | Val Acc: 0.884286 loss: 0.403479\n",
            "Pseudo Labeling : 858\n",
            "[515/3000] Train Acc: 0.953425 Loss: 0.030675 | Val Acc: 0.878140 loss: 0.417421\n",
            "Pseudo Labeling : 845\n",
            "[516/3000] Train Acc: 0.955474 Loss: 0.031944 | Val Acc: 0.873330 loss: 0.434129\n",
            "Pseudo Labeling : 852\n",
            "[517/3000] Train Acc: 0.950942 Loss: 0.032270 | Val Acc: 0.880011 loss: 0.403349\n",
            "Pseudo Labeling : 855\n",
            "[518/3000] Train Acc: 0.954554 Loss: 0.030709 | Val Acc: 0.880545 loss: 0.399601\n",
            "Pseudo Labeling : 870\n",
            "[519/3000] Train Acc: 0.951124 Loss: 0.031222 | Val Acc: 0.876804 loss: 0.414325\n",
            "Pseudo Labeling : 851\n",
            "[520/3000] Train Acc: 0.955238 Loss: 0.030075 | Val Acc: 0.878140 loss: 0.419218\n",
            "Pseudo Labeling : 857\n",
            "[521/3000] Train Acc: 0.954181 Loss: 0.030678 | Val Acc: 0.876804 loss: 0.416317\n",
            "Pseudo Labeling : 849\n",
            "[522/3000] Train Acc: 0.953272 Loss: 0.030613 | Val Acc: 0.878140 loss: 0.417488\n",
            "Pseudo Labeling : 870\n",
            "[523/3000] Train Acc: 0.951819 Loss: 0.032911 | Val Acc: 0.876002 loss: 0.414655\n",
            "Pseudo Labeling : 854\n",
            "[524/3000] Train Acc: 0.954172 Loss: 0.031563 | Val Acc: 0.877338 loss: 0.416693\n",
            "Pseudo Labeling : 854\n",
            "[525/3000] Train Acc: 0.952655 Loss: 0.032041 | Val Acc: 0.876804 loss: 0.416620\n",
            "Pseudo Labeling : 858\n",
            "[526/3000] Train Acc: 0.952288 Loss: 0.030268 | Val Acc: 0.883485 loss: 0.402311\n",
            "Pseudo Labeling : 853\n",
            "[527/3000] Train Acc: 0.953221 Loss: 0.031775 | Val Acc: 0.872261 loss: 0.445393\n",
            "Pseudo Labeling : 855\n",
            "[528/3000] Train Acc: 0.954617 Loss: 0.030860 | Val Acc: 0.878942 loss: 0.419932\n",
            "Pseudo Labeling : 841\n",
            "[529/3000] Train Acc: 0.953185 Loss: 0.028829 | Val Acc: 0.877873 loss: 0.416717\n",
            "Pseudo Labeling : 848\n",
            "[530/3000] Train Acc: 0.953775 Loss: 0.032550 | Val Acc: 0.878942 loss: 0.413151\n",
            "Pseudo Labeling : 852\n",
            "[531/3000] Train Acc: 0.952965 Loss: 0.031971 | Val Acc: 0.876002 loss: 0.428645\n",
            "Pseudo Labeling : 837\n",
            "[532/3000] Train Acc: 0.950959 Loss: 0.032011 | Val Acc: 0.869321 loss: 0.438195\n",
            "Pseudo Labeling : 858\n",
            "[533/3000] Train Acc: 0.953236 Loss: 0.030738 | Val Acc: 0.878942 loss: 0.402451\n",
            "Pseudo Labeling : 859\n",
            "[534/3000] Train Acc: 0.955134 Loss: 0.029734 | Val Acc: 0.882950 loss: 0.396842\n",
            "Pseudo Labeling : 850\n",
            "[535/3000] Train Acc: 0.952959 Loss: 0.031618 | Val Acc: 0.875468 loss: 0.427389\n",
            "Pseudo Labeling : 849\n",
            "[536/3000] Train Acc: 0.954474 Loss: 0.032440 | Val Acc: 0.887493 loss: 0.396827\n",
            "Pseudo Labeling : 845\n",
            "[537/3000] Train Acc: 0.955980 Loss: 0.030740 | Val Acc: 0.872261 loss: 0.431670\n",
            "Pseudo Labeling : 862\n",
            "[538/3000] Train Acc: 0.954006 Loss: 0.029278 | Val Acc: 0.882149 loss: 0.412700\n",
            "Pseudo Labeling : 842\n",
            "[539/3000] Train Acc: 0.953947 Loss: 0.031304 | Val Acc: 0.880278 loss: 0.398778\n",
            "Pseudo Labeling : 842\n",
            "[540/3000] Train Acc: 0.956604 Loss: 0.030721 | Val Acc: 0.875468 loss: 0.417183\n",
            "Pseudo Labeling : 843\n",
            "[541/3000] Train Acc: 0.955532 Loss: 0.029500 | Val Acc: 0.874933 loss: 0.428526\n",
            "Pseudo Labeling : 850\n",
            "[542/3000] Train Acc: 0.953338 Loss: 0.031205 | Val Acc: 0.875735 loss: 0.411294\n",
            "Pseudo Labeling : 877\n",
            "[543/3000] Train Acc: 0.954302 Loss: 0.030039 | Val Acc: 0.879743 loss: 0.405058\n",
            "Pseudo Labeling : 846\n",
            "[544/3000] Train Acc: 0.953200 Loss: 0.030647 | Val Acc: 0.874131 loss: 0.423235\n",
            "Pseudo Labeling : 865\n",
            "[545/3000] Train Acc: 0.951930 Loss: 0.030608 | Val Acc: 0.878942 loss: 0.413577\n",
            "Pseudo Labeling : 844\n",
            "[546/3000] Train Acc: 0.951044 Loss: 0.033306 | Val Acc: 0.876269 loss: 0.414747\n",
            "Pseudo Labeling : 855\n",
            "[547/3000] Train Acc: 0.954617 Loss: 0.029362 | Val Acc: 0.877338 loss: 0.412458\n",
            "Pseudo Labeling : 864\n",
            "[548/3000] Train Acc: 0.954454 Loss: 0.028261 | Val Acc: 0.879209 loss: 0.405305\n",
            "Pseudo Labeling : 870\n",
            "[549/3000] Train Acc: 0.952892 Loss: 0.030518 | Val Acc: 0.881080 loss: 0.401772\n",
            "Pseudo Labeling : 854\n",
            "[550/3000] Train Acc: 0.953161 Loss: 0.030105 | Val Acc: 0.877071 loss: 0.412383\n",
            "Pseudo Labeling : 854\n",
            "[551/3000] Train Acc: 0.951770 Loss: 0.030910 | Val Acc: 0.874666 loss: 0.418396\n",
            "Pseudo Labeling : 851\n",
            "[552/3000] Train Acc: 0.955554 Loss: 0.030821 | Val Acc: 0.882683 loss: 0.411355\n",
            "Pseudo Labeling : 837\n",
            "[553/3000] Train Acc: 0.952034 Loss: 0.032418 | Val Acc: 0.873597 loss: 0.426726\n",
            "Pseudo Labeling : 861\n",
            "[554/3000] Train Acc: 0.953687 Loss: 0.031241 | Val Acc: 0.868787 loss: 0.444744\n",
            "Pseudo Labeling : 855\n",
            "[555/3000] Train Acc: 0.954048 Loss: 0.028557 | Val Acc: 0.873330 loss: 0.422672\n",
            "Pseudo Labeling : 854\n",
            "[556/3000] Train Acc: 0.952465 Loss: 0.031778 | Val Acc: 0.874666 loss: 0.426608\n",
            "Pseudo Labeling : 829\n",
            "[557/3000] Train Acc: 0.950807 Loss: 0.029702 | Val Acc: 0.878407 loss: 0.402904\n",
            "Pseudo Labeling : 871\n",
            "[558/3000] Train Acc: 0.954347 Loss: 0.030153 | Val Acc: 0.884821 loss: 0.387442\n",
            "Pseudo Labeling : 845\n",
            "[559/3000] Train Acc: 0.956549 Loss: 0.029909 | Val Acc: 0.878675 loss: 0.400457\n",
            "Pseudo Labeling : 864\n",
            "[560/3000] Train Acc: 0.951990 Loss: 0.031648 | Val Acc: 0.884821 loss: 0.390097\n",
            "Pseudo Labeling : 843\n",
            "[561/3000] Train Acc: 0.953191 Loss: 0.030900 | Val Acc: 0.879476 loss: 0.406006\n",
            "Pseudo Labeling : 843\n",
            "[562/3000] Train Acc: 0.955026 Loss: 0.032185 | Val Acc: 0.884821 loss: 0.400432\n",
            "Pseudo Labeling : 842\n",
            "[563/3000] Train Acc: 0.953378 Loss: 0.029569 | Val Acc: 0.872261 loss: 0.437206\n",
            "Pseudo Labeling : 840\n",
            "[564/3000] Train Acc: 0.950905 Loss: 0.032885 | Val Acc: 0.876804 loss: 0.416291\n",
            "Pseudo Labeling : 867\n",
            "[565/3000] Train Acc: 0.953704 Loss: 0.031055 | Val Acc: 0.885623 loss: 0.390984\n",
            "Pseudo Labeling : 849\n",
            "[566/3000] Train Acc: 0.953905 Loss: 0.030731 | Val Acc: 0.876804 loss: 0.415786\n",
            "Pseudo Labeling : 872\n",
            "[567/3000] Train Acc: 0.954603 Loss: 0.030403 | Val Acc: 0.883218 loss: 0.388902\n",
            "Pseudo Labeling : 869\n",
            "[568/3000] Train Acc: 0.952068 Loss: 0.031564 | Val Acc: 0.882950 loss: 0.402008\n",
            "Pseudo Labeling : 865\n",
            "[569/3000] Train Acc: 0.952056 Loss: 0.032360 | Val Acc: 0.886424 loss: 0.385526\n",
            "Pseudo Labeling : 862\n",
            "[570/3000] Train Acc: 0.952868 Loss: 0.029168 | Val Acc: 0.877873 loss: 0.412584\n",
            "Pseudo Labeling : 849\n",
            "[571/3000] Train Acc: 0.954347 Loss: 0.029308 | Val Acc: 0.882950 loss: 0.399454\n",
            "Pseudo Labeling : 847\n",
            "[572/3000] Train Acc: 0.954784 Loss: 0.030845 | Val Acc: 0.878407 loss: 0.415943\n",
            "Pseudo Labeling : 861\n",
            "[573/3000] Train Acc: 0.955014 Loss: 0.029664 | Val Acc: 0.882950 loss: 0.400461\n",
            "Pseudo Labeling : 854\n",
            "[574/3000] Train Acc: 0.953350 Loss: 0.031782 | Val Acc: 0.873864 loss: 0.429915\n",
            "Pseudo Labeling : 851\n",
            "[575/3000] Train Acc: 0.952583 Loss: 0.031112 | Val Acc: 0.878942 loss: 0.409266\n",
            "Pseudo Labeling : 853\n",
            "[576/3000] Train Acc: 0.953853 Loss: 0.031026 | Val Acc: 0.876269 loss: 0.415214\n",
            "Pseudo Labeling : 873\n",
            "[577/3000] Train Acc: 0.953154 Loss: 0.032509 | Val Acc: 0.875200 loss: 0.428678\n",
            "Pseudo Labeling : 837\n",
            "[578/3000] Train Acc: 0.952161 Loss: 0.032021 | Val Acc: 0.883218 loss: 0.393248\n",
            "Pseudo Labeling : 875\n",
            "[579/3000] Train Acc: 0.952591 Loss: 0.031441 | Val Acc: 0.880545 loss: 0.412896\n",
            "Pseudo Labeling : 844\n",
            "[580/3000] Train Acc: 0.953827 Loss: 0.030290 | Val Acc: 0.880011 loss: 0.407039\n",
            "Pseudo Labeling : 848\n",
            "[581/3000] Train Acc: 0.953965 Loss: 0.031343 | Val Acc: 0.880545 loss: 0.411023\n",
            "Pseudo Labeling : 880\n",
            "[582/3000] Train Acc: 0.953174 Loss: 0.028844 | Val Acc: 0.882683 loss: 0.397650\n",
            "Pseudo Labeling : 878\n",
            "[583/3000] Train Acc: 0.956640 Loss: 0.028749 | Val Acc: 0.876804 loss: 0.409364\n",
            "Pseudo Labeling : 835\n",
            "[584/3000] Train Acc: 0.950573 Loss: 0.030416 | Val Acc: 0.878675 loss: 0.412479\n",
            "Pseudo Labeling : 870\n",
            "[585/3000] Train Acc: 0.954218 Loss: 0.030517 | Val Acc: 0.880545 loss: 0.405941\n",
            "Pseudo Labeling : 851\n",
            "[586/3000] Train Acc: 0.955554 Loss: 0.031614 | Val Acc: 0.882416 loss: 0.404213\n",
            "Pseudo Labeling : 847\n",
            "[587/3000] Train Acc: 0.957061 Loss: 0.028872 | Val Acc: 0.878140 loss: 0.417711\n",
            "Pseudo Labeling : 863\n",
            "[588/3000] Train Acc: 0.954640 Loss: 0.031141 | Val Acc: 0.883752 loss: 0.393454\n",
            "Pseudo Labeling : 849\n",
            "[589/3000] Train Acc: 0.955801 Loss: 0.030908 | Val Acc: 0.876269 loss: 0.411832\n",
            "Pseudo Labeling : 865\n",
            "[590/3000] Train Acc: 0.954077 Loss: 0.030956 | Val Acc: 0.877071 loss: 0.411899\n",
            "Pseudo Labeling : 849\n",
            "[591/3000] Train Acc: 0.955675 Loss: 0.031636 | Val Acc: 0.885623 loss: 0.391773\n",
            "Pseudo Labeling : 864\n",
            "[592/3000] Train Acc: 0.954454 Loss: 0.031194 | Val Acc: 0.878675 loss: 0.411861\n",
            "Pseudo Labeling : 850\n",
            "[593/3000] Train Acc: 0.953655 Loss: 0.030416 | Val Acc: 0.880812 loss: 0.404743\n",
            "Pseudo Labeling : 865\n",
            "[594/3000] Train Acc: 0.953951 Loss: 0.032489 | Val Acc: 0.877071 loss: 0.414675\n",
            "Pseudo Labeling : 853\n",
            "[595/3000] Train Acc: 0.953790 Loss: 0.030461 | Val Acc: 0.880278 loss: 0.399008\n",
            "Pseudo Labeling : 859\n",
            "[596/3000] Train Acc: 0.954566 Loss: 0.030027 | Val Acc: 0.885355 loss: 0.396579\n",
            "Pseudo Labeling : 855\n",
            "[597/3000] Train Acc: 0.953669 Loss: 0.031488 | Val Acc: 0.882416 loss: 0.400377\n",
            "Pseudo Labeling : 856\n",
            "[598/3000] Train Acc: 0.953672 Loss: 0.030230 | Val Acc: 0.880011 loss: 0.410407\n",
            "Pseudo Labeling : 843\n",
            "[599/3000] Train Acc: 0.953697 Loss: 0.030320 | Val Acc: 0.882149 loss: 0.397930\n",
            "Pseudo Labeling : 864\n",
            "[600/3000] Train Acc: 0.953569 Loss: 0.029274 | Val Acc: 0.884821 loss: 0.397206\n",
            "Pseudo Labeling : 853\n",
            "[601/3000] Train Acc: 0.954675 Loss: 0.030779 | Val Acc: 0.878407 loss: 0.407390\n",
            "Pseudo Labeling : 881\n",
            "[602/3000] Train Acc: 0.952988 Loss: 0.031530 | Val Acc: 0.873330 loss: 0.439118\n",
            "Pseudo Labeling : 837\n",
            "[603/3000] Train Acc: 0.952920 Loss: 0.029263 | Val Acc: 0.886157 loss: 0.375930\n",
            "Pseudo Labeling : 869\n",
            "[604/3000] Train Acc: 0.954973 Loss: 0.029775 | Val Acc: 0.877071 loss: 0.419810\n",
            "Pseudo Labeling : 855\n",
            "[605/3000] Train Acc: 0.955313 Loss: 0.030488 | Val Acc: 0.881080 loss: 0.402761\n",
            "Pseudo Labeling : 857\n",
            "[606/3000] Train Acc: 0.956140 Loss: 0.031704 | Val Acc: 0.884019 loss: 0.403819\n",
            "Pseudo Labeling : 852\n",
            "[607/3000] Train Acc: 0.955620 Loss: 0.029754 | Val Acc: 0.883752 loss: 0.395803\n",
            "Pseudo Labeling : 853\n",
            "[608/3000] Train Acc: 0.952968 Loss: 0.029601 | Val Acc: 0.875468 loss: 0.417421\n",
            "Pseudo Labeling : 899\n",
            "[609/3000] Train Acc: 0.951276 Loss: 0.030602 | Val Acc: 0.878675 loss: 0.419659\n",
            "Pseudo Labeling : 845\n",
            "[610/3000] Train Acc: 0.955031 Loss: 0.031590 | Val Acc: 0.879476 loss: 0.407110\n",
            "Pseudo Labeling : 874\n",
            "[611/3000] Train Acc: 0.954672 Loss: 0.029776 | Val Acc: 0.881614 loss: 0.400353\n",
            "Pseudo Labeling : 868\n",
            "[612/3000] Train Acc: 0.950865 Loss: 0.032323 | Val Acc: 0.881080 loss: 0.403754\n",
            "Pseudo Labeling : 861\n",
            "[613/3000] Train Acc: 0.954824 Loss: 0.031011 | Val Acc: 0.878140 loss: 0.419127\n",
            "Pseudo Labeling : 835\n",
            "[614/3000] Train Acc: 0.953357 Loss: 0.030125 | Val Acc: 0.882683 loss: 0.388162\n",
            "Pseudo Labeling : 858\n",
            "[615/3000] Train Acc: 0.954373 Loss: 0.029873 | Val Acc: 0.882950 loss: 0.398154\n",
            "Pseudo Labeling : 843\n",
            "[616/3000] Train Acc: 0.956227 Loss: 0.029548 | Val Acc: 0.884286 loss: 0.400817\n",
            "Pseudo Labeling : 861\n",
            "[617/3000] Train Acc: 0.952802 Loss: 0.031094 | Val Acc: 0.879209 loss: 0.409185\n",
            "Pseudo Labeling : 834\n",
            "[618/3000] Train Acc: 0.950886 Loss: 0.030658 | Val Acc: 0.884821 loss: 0.405108\n",
            "Pseudo Labeling : 853\n",
            "[619/3000] Train Acc: 0.952905 Loss: 0.029140 | Val Acc: 0.878407 loss: 0.402343\n",
            "Pseudo Labeling : 865\n",
            "[620/3000] Train Acc: 0.953067 Loss: 0.032327 | Val Acc: 0.882149 loss: 0.396991\n",
            "Pseudo Labeling : 845\n",
            "[621/3000] Train Acc: 0.955601 Loss: 0.029567 | Val Acc: 0.881080 loss: 0.405298\n",
            "Pseudo Labeling : 863\n",
            "[622/3000] Train Acc: 0.954135 Loss: 0.030156 | Val Acc: 0.878407 loss: 0.423768\n",
            "Pseudo Labeling : 836\n",
            "[623/3000] Train Acc: 0.951778 Loss: 0.032828 | Val Acc: 0.876002 loss: 0.414788\n",
            "Pseudo Labeling : 870\n",
            "[624/3000] Train Acc: 0.950682 Loss: 0.032106 | Val Acc: 0.885088 loss: 0.383749\n",
            "Pseudo Labeling : 899\n",
            "[625/3000] Train Acc: 0.952789 Loss: 0.029729 | Val Acc: 0.875735 loss: 0.419225\n",
            "Pseudo Labeling : 857\n",
            "[626/3000] Train Acc: 0.951021 Loss: 0.033944 | Val Acc: 0.882416 loss: 0.402327\n",
            "Pseudo Labeling : 859\n",
            "[627/3000] Train Acc: 0.952101 Loss: 0.030739 | Val Acc: 0.883218 loss: 0.403142\n",
            "Pseudo Labeling : 842\n",
            "[628/3000] Train Acc: 0.954896 Loss: 0.031535 | Val Acc: 0.881347 loss: 0.403170\n",
            "Pseudo Labeling : 868\n",
            "[629/3000] Train Acc: 0.951181 Loss: 0.031676 | Val Acc: 0.877873 loss: 0.412929\n",
            "Pseudo Labeling : 859\n",
            "[630/3000] Train Acc: 0.953175 Loss: 0.029770 | Val Acc: 0.880812 loss: 0.403070\n",
            "Pseudo Labeling : 869\n",
            "[631/3000] Train Acc: 0.953079 Loss: 0.029644 | Val Acc: 0.876002 loss: 0.418161\n",
            "Pseudo Labeling : 868\n",
            "[632/3000] Train Acc: 0.954023 Loss: 0.028483 | Val Acc: 0.882416 loss: 0.392437\n",
            "Pseudo Labeling : 844\n",
            "[633/3000] Train Acc: 0.954902 Loss: 0.029784 | Val Acc: 0.879476 loss: 0.405082\n",
            "Pseudo Labeling : 870\n",
            "[634/3000] Train Acc: 0.954660 Loss: 0.029644 | Val Acc: 0.877338 loss: 0.418520\n",
            "Pseudo Labeling : 851\n",
            "[635/3000] Train Acc: 0.955933 Loss: 0.029412 | Val Acc: 0.883218 loss: 0.392896\n",
            "Pseudo Labeling : 853\n",
            "[636/3000] Train Acc: 0.954422 Loss: 0.031219 | Val Acc: 0.888028 loss: 0.390760\n",
            "Pseudo Labeling : 864\n",
            "[637/3000] Train Acc: 0.954959 Loss: 0.028831 | Val Acc: 0.876537 loss: 0.428733\n",
            "Pseudo Labeling : 858\n",
            "[638/3000] Train Acc: 0.953678 Loss: 0.030685 | Val Acc: 0.881080 loss: 0.401388\n",
            "Pseudo Labeling : 839\n",
            "[639/3000] Train Acc: 0.950395 Loss: 0.031624 | Val Acc: 0.880278 loss: 0.403441\n",
            "Pseudo Labeling : 853\n",
            "[640/3000] Train Acc: 0.952525 Loss: 0.032282 | Val Acc: 0.879743 loss: 0.414758\n",
            "Pseudo Labeling : 849\n",
            "[641/3000] Train Acc: 0.955169 Loss: 0.028706 | Val Acc: 0.877338 loss: 0.413318\n",
            "Pseudo Labeling : 855\n",
            "[642/3000] Train Acc: 0.954112 Loss: 0.031865 | Val Acc: 0.880011 loss: 0.407605\n",
            "Pseudo Labeling : 850\n",
            "[643/3000] Train Acc: 0.955362 Loss: 0.029224 | Val Acc: 0.873597 loss: 0.425727\n",
            "Pseudo Labeling : 834\n",
            "[644/3000] Train Acc: 0.952595 Loss: 0.028903 | Val Acc: 0.878140 loss: 0.412160\n",
            "Pseudo Labeling : 864\n",
            "[645/3000] Train Acc: 0.954011 Loss: 0.029108 | Val Acc: 0.880011 loss: 0.409845\n",
            "Pseudo Labeling : 854\n",
            "[646/3000] Train Acc: 0.955563 Loss: 0.029113 | Val Acc: 0.880278 loss: 0.406722\n",
            "Pseudo Labeling : 876\n",
            "[647/3000] Train Acc: 0.952153 Loss: 0.031281 | Val Acc: 0.881347 loss: 0.395048\n",
            "Pseudo Labeling : 845\n",
            "[648/3000] Train Acc: 0.954209 Loss: 0.029267 | Val Acc: 0.880545 loss: 0.400221\n",
            "Pseudo Labeling : 860\n",
            "[649/3000] Train Acc: 0.956464 Loss: 0.030153 | Val Acc: 0.874399 loss: 0.428782\n",
            "Pseudo Labeling : 854\n",
            "[650/3000] Train Acc: 0.953729 Loss: 0.030700 | Val Acc: 0.879476 loss: 0.410062\n",
            "Pseudo Labeling : 878\n",
            "[651/3000] Train Acc: 0.951527 Loss: 0.032523 | Val Acc: 0.884286 loss: 0.396876\n",
            "Pseudo Labeling : 877\n",
            "[652/3000] Train Acc: 0.954175 Loss: 0.029598 | Val Acc: 0.877606 loss: 0.421774\n",
            "Pseudo Labeling : 836\n",
            "[653/3000] Train Acc: 0.952854 Loss: 0.029482 | Val Acc: 0.880545 loss: 0.410108\n",
            "Pseudo Labeling : 850\n",
            "[654/3000] Train Acc: 0.956120 Loss: 0.029909 | Val Acc: 0.883218 loss: 0.397633\n",
            "Pseudo Labeling : 860\n",
            "[655/3000] Train Acc: 0.953242 Loss: 0.031165 | Val Acc: 0.884554 loss: 0.390836\n",
            "Pseudo Labeling : 852\n",
            "[656/3000] Train Acc: 0.951890 Loss: 0.031093 | Val Acc: 0.885623 loss: 0.399489\n",
            "Pseudo Labeling : 860\n",
            "[657/3000] Train Acc: 0.954632 Loss: 0.027792 | Val Acc: 0.881614 loss: 0.410112\n",
            "Pseudo Labeling : 850\n",
            "[658/3000] Train Acc: 0.954919 Loss: 0.029534 | Val Acc: 0.882950 loss: 0.394833\n",
            "Pseudo Labeling : 874\n",
            "[659/3000] Train Acc: 0.952083 Loss: 0.031155 | Val Acc: 0.877071 loss: 0.411804\n",
            "Pseudo Labeling : 879\n",
            "[660/3000] Train Acc: 0.952351 Loss: 0.031402 | Val Acc: 0.879476 loss: 0.404621\n",
            "Pseudo Labeling : 859\n",
            "[661/3000] Train Acc: 0.953365 Loss: 0.032691 | Val Acc: 0.877071 loss: 0.410347\n",
            "Pseudo Labeling : 869\n",
            "[662/3000] Train Acc: 0.955036 Loss: 0.030821 | Val Acc: 0.873330 loss: 0.433715\n",
            "Pseudo Labeling : 866\n",
            "[663/3000] Train Acc: 0.953322 Loss: 0.030490 | Val Acc: 0.885890 loss: 0.397456\n",
            "Pseudo Labeling : 842\n",
            "[664/3000] Train Acc: 0.955972 Loss: 0.029102 | Val Acc: 0.879743 loss: 0.399072\n",
            "Pseudo Labeling : 887\n",
            "[665/3000] Train Acc: 0.952690 Loss: 0.029545 | Val Acc: 0.881614 loss: 0.412395\n",
            "Pseudo Labeling : 877\n",
            "[666/3000] Train Acc: 0.953102 Loss: 0.030356 | Val Acc: 0.882950 loss: 0.412259\n",
            "Pseudo Labeling : 839\n",
            "[667/3000] Train Acc: 0.954128 Loss: 0.028912 | Val Acc: 0.874933 loss: 0.422897\n",
            "Pseudo Labeling : 849\n",
            "[668/3000] Train Acc: 0.953841 Loss: 0.030708 | Val Acc: 0.882416 loss: 0.404799\n",
            "Pseudo Labeling : 839\n",
            "[669/3000] Train Acc: 0.952483 Loss: 0.030499 | Val Acc: 0.869321 loss: 0.444151\n",
            "Pseudo Labeling : 852\n",
            "[670/3000] Train Acc: 0.953850 Loss: 0.031010 | Val Acc: 0.882149 loss: 0.403140\n",
            "Pseudo Labeling : 867\n",
            "[671/3000] Train Acc: 0.954967 Loss: 0.031148 | Val Acc: 0.881614 loss: 0.403249\n",
            "Pseudo Labeling : 847\n",
            "[672/3000] Train Acc: 0.956239 Loss: 0.029411 | Val Acc: 0.876537 loss: 0.426875\n",
            "Pseudo Labeling : 860\n",
            "[673/3000] Train Acc: 0.954442 Loss: 0.031259 | Val Acc: 0.870657 loss: 0.437392\n",
            "Pseudo Labeling : 865\n",
            "[674/3000] Train Acc: 0.952561 Loss: 0.029997 | Val Acc: 0.877338 loss: 0.417351\n",
            "Pseudo Labeling : 857\n",
            "[675/3000] Train Acc: 0.954054 Loss: 0.028829 | Val Acc: 0.882950 loss: 0.407169\n",
            "Pseudo Labeling : 846\n",
            "[676/3000] Train Acc: 0.955920 Loss: 0.030366 | Val Acc: 0.887493 loss: 0.381802\n",
            "Pseudo Labeling : 873\n",
            "[677/3000] Train Acc: 0.954164 Loss: 0.030540 | Val Acc: 0.876269 loss: 0.411747\n",
            "Pseudo Labeling : 865\n",
            "[678/3000] Train Acc: 0.951803 Loss: 0.031700 | Val Acc: 0.882149 loss: 0.395901\n",
            "Pseudo Labeling : 861\n",
            "[679/3000] Train Acc: 0.954255 Loss: 0.029849 | Val Acc: 0.878942 loss: 0.407904\n",
            "Pseudo Labeling : 846\n",
            "[680/3000] Train Acc: 0.954086 Loss: 0.031670 | Val Acc: 0.880545 loss: 0.410145\n",
            "Pseudo Labeling : 863\n",
            "[681/3000] Train Acc: 0.954324 Loss: 0.031100 | Val Acc: 0.884821 loss: 0.385166\n",
            "Pseudo Labeling : 858\n",
            "[682/3000] Train Acc: 0.954120 Loss: 0.029677 | Val Acc: 0.884821 loss: 0.385958\n",
            "Pseudo Labeling : 880\n",
            "[683/3000] Train Acc: 0.953616 Loss: 0.031548 | Val Acc: 0.880545 loss: 0.400465\n",
            "Pseudo Labeling : 885\n",
            "[684/3000] Train Acc: 0.951107 Loss: 0.032417 | Val Acc: 0.880278 loss: 0.410817\n",
            "Pseudo Labeling : 842\n",
            "[685/3000] Train Acc: 0.954264 Loss: 0.030908 | Val Acc: 0.881347 loss: 0.408119\n",
            "Pseudo Labeling : 853\n",
            "[686/3000] Train Acc: 0.953474 Loss: 0.031499 | Val Acc: 0.873864 loss: 0.428627\n",
            "Pseudo Labeling : 852\n",
            "[687/3000] Train Acc: 0.955431 Loss: 0.029827 | Val Acc: 0.870390 loss: 0.434508\n",
            "Pseudo Labeling : 845\n",
            "[688/3000] Train Acc: 0.953830 Loss: 0.033413 | Val Acc: 0.881881 loss: 0.398715\n",
            "Pseudo Labeling : 861\n",
            "[689/3000] Train Acc: 0.953876 Loss: 0.030414 | Val Acc: 0.882416 loss: 0.385129\n",
            "Pseudo Labeling : 862\n",
            "[690/3000] Train Acc: 0.954574 Loss: 0.030308 | Val Acc: 0.879476 loss: 0.418275\n",
            "Pseudo Labeling : 835\n",
            "[691/3000] Train Acc: 0.953927 Loss: 0.029522 | Val Acc: 0.878140 loss: 0.404323\n",
            "Pseudo Labeling : 878\n",
            "[692/3000] Train Acc: 0.951780 Loss: 0.031752 | Val Acc: 0.874666 loss: 0.416707\n",
            "Pseudo Labeling : 859\n",
            "[693/3000] Train Acc: 0.954818 Loss: 0.029604 | Val Acc: 0.880812 loss: 0.397868\n",
            "Pseudo Labeling : 852\n",
            "[694/3000] Train Acc: 0.956568 Loss: 0.028476 | Val Acc: 0.879743 loss: 0.413472\n",
            "Pseudo Labeling : 855\n",
            "[695/3000] Train Acc: 0.956008 Loss: 0.029876 | Val Acc: 0.880812 loss: 0.394817\n",
            "Pseudo Labeling : 879\n",
            "[696/3000] Train Acc: 0.952035 Loss: 0.030681 | Val Acc: 0.875735 loss: 0.428042\n",
            "Pseudo Labeling : 841\n",
            "[697/3000] Train Acc: 0.951540 Loss: 0.030949 | Val Acc: 0.879476 loss: 0.412529\n",
            "Pseudo Labeling : 854\n",
            "[698/3000] Train Acc: 0.955183 Loss: 0.030734 | Val Acc: 0.880278 loss: 0.404971\n",
            "Pseudo Labeling : 850\n",
            "[699/3000] Train Acc: 0.951947 Loss: 0.029877 | Val Acc: 0.880278 loss: 0.405990\n",
            "Pseudo Labeling : 870\n",
            "[700/3000] Train Acc: 0.952892 Loss: 0.031317 | Val Acc: 0.882416 loss: 0.404529\n",
            "Pseudo Labeling : 873\n",
            "[701/3000] Train Acc: 0.953532 Loss: 0.031483 | Val Acc: 0.878140 loss: 0.412954\n",
            "Pseudo Labeling : 845\n",
            "[702/3000] Train Acc: 0.955601 Loss: 0.029734 | Val Acc: 0.885088 loss: 0.382960\n",
            "Pseudo Labeling : 877\n",
            "[703/3000] Train Acc: 0.953923 Loss: 0.029360 | Val Acc: 0.877071 loss: 0.423544\n",
            "Pseudo Labeling : 861\n",
            "[704/3000] Train Acc: 0.956088 Loss: 0.030682 | Val Acc: 0.881347 loss: 0.411215\n",
            "Pseudo Labeling : 847\n",
            "[705/3000] Train Acc: 0.955290 Loss: 0.029048 | Val Acc: 0.876804 loss: 0.421472\n",
            "Pseudo Labeling : 862\n",
            "[706/3000] Train Acc: 0.953879 Loss: 0.029663 | Val Acc: 0.875468 loss: 0.426596\n",
            "Pseudo Labeling : 853\n",
            "[707/3000] Train Acc: 0.955244 Loss: 0.028955 | Val Acc: 0.877606 loss: 0.409288\n",
            "Pseudo Labeling : 850\n",
            "[708/3000] Train Acc: 0.954729 Loss: 0.031378 | Val Acc: 0.880812 loss: 0.401054\n",
            "Pseudo Labeling : 872\n",
            "[709/3000] Train Acc: 0.952961 Loss: 0.029980 | Val Acc: 0.883485 loss: 0.398274\n",
            "Pseudo Labeling : 856\n",
            "[710/3000] Train Acc: 0.955315 Loss: 0.030780 | Val Acc: 0.879743 loss: 0.412364\n",
            "Pseudo Labeling : 851\n",
            "[711/3000] Train Acc: 0.954163 Loss: 0.029966 | Val Acc: 0.877071 loss: 0.409611\n",
            "Pseudo Labeling : 832\n",
            "[712/3000] Train Acc: 0.951766 Loss: 0.029997 | Val Acc: 0.881080 loss: 0.406143\n",
            "Pseudo Labeling : 863\n",
            "[713/3000] Train Acc: 0.953440 Loss: 0.031985 | Val Acc: 0.876002 loss: 0.427134\n",
            "Pseudo Labeling : 856\n",
            "[714/3000] Train Acc: 0.954747 Loss: 0.029508 | Val Acc: 0.879743 loss: 0.408167\n",
            "Pseudo Labeling : 867\n",
            "[715/3000] Train Acc: 0.953831 Loss: 0.032068 | Val Acc: 0.878407 loss: 0.408671\n",
            "Pseudo Labeling : 861\n",
            "[716/3000] Train Acc: 0.955140 Loss: 0.028630 | Val Acc: 0.872528 loss: 0.428941\n",
            "Pseudo Labeling : 856\n",
            "[717/3000] Train Acc: 0.953546 Loss: 0.029487 | Val Acc: 0.876002 loss: 0.424608\n",
            "Pseudo Labeling : 859\n",
            "[718/3000] Train Acc: 0.955324 Loss: 0.031471 | Val Acc: 0.883485 loss: 0.394712\n",
            "Pseudo Labeling : 860\n",
            "[719/3000] Train Acc: 0.954252 Loss: 0.029089 | Val Acc: 0.874666 loss: 0.426553\n",
            "Pseudo Labeling : 842\n",
            "[720/3000] Train Acc: 0.956161 Loss: 0.029788 | Val Acc: 0.881881 loss: 0.407752\n",
            "Pseudo Labeling : 848\n",
            "[721/3000] Train Acc: 0.956937 Loss: 0.029531 | Val Acc: 0.876537 loss: 0.419086\n",
            "Pseudo Labeling : 876\n",
            "[722/3000] Train Acc: 0.951206 Loss: 0.029521 | Val Acc: 0.882149 loss: 0.398589\n",
            "Pseudo Labeling : 859\n",
            "[723/3000] Train Acc: 0.955703 Loss: 0.029611 | Val Acc: 0.883485 loss: 0.406613\n",
            "Pseudo Labeling : 853\n",
            "[724/3000] Train Acc: 0.955876 Loss: 0.029079 | Val Acc: 0.880278 loss: 0.404807\n",
            "Pseudo Labeling : 843\n",
            "[725/3000] Train Acc: 0.955658 Loss: 0.031836 | Val Acc: 0.878675 loss: 0.408442\n",
            "Pseudo Labeling : 860\n",
            "[726/3000] Train Acc: 0.953431 Loss: 0.032554 | Val Acc: 0.886959 loss: 0.388024\n",
            "Pseudo Labeling : 844\n",
            "[727/3000] Train Acc: 0.956104 Loss: 0.028471 | Val Acc: 0.878942 loss: 0.414055\n",
            "Pseudo Labeling : 860\n",
            "[728/3000] Train Acc: 0.954189 Loss: 0.031937 | Val Acc: 0.871459 loss: 0.431408\n",
            "Pseudo Labeling : 859\n",
            "[729/3000] Train Acc: 0.954566 Loss: 0.030788 | Val Acc: 0.880545 loss: 0.395297\n",
            "Pseudo Labeling : 842\n",
            "[730/3000] Train Acc: 0.956035 Loss: 0.030684 | Val Acc: 0.888295 loss: 0.391704\n",
            "Pseudo Labeling : 857\n",
            "[731/3000] Train Acc: 0.954370 Loss: 0.030023 | Val Acc: 0.875735 loss: 0.423557\n",
            "Pseudo Labeling : 858\n",
            "[732/3000] Train Acc: 0.955763 Loss: 0.030126 | Val Acc: 0.874131 loss: 0.424690\n",
            "Pseudo Labeling : 856\n",
            "[733/3000] Train Acc: 0.954431 Loss: 0.032381 | Val Acc: 0.880545 loss: 0.413285\n",
            "Pseudo Labeling : 842\n",
            "[734/3000] Train Acc: 0.956035 Loss: 0.030083 | Val Acc: 0.881614 loss: 0.409288\n",
            "Pseudo Labeling : 864\n",
            "[735/3000] Train Acc: 0.955780 Loss: 0.028647 | Val Acc: 0.880011 loss: 0.406806\n",
            "Pseudo Labeling : 848\n",
            "[736/3000] Train Acc: 0.956431 Loss: 0.031232 | Val Acc: 0.883752 loss: 0.388627\n",
            "Pseudo Labeling : 866\n",
            "[737/3000] Train Acc: 0.954207 Loss: 0.030532 | Val Acc: 0.870925 loss: 0.436931\n",
            "Pseudo Labeling : 829\n",
            "[738/3000] Train Acc: 0.954099 Loss: 0.029561 | Val Acc: 0.875735 loss: 0.408460\n",
            "Pseudo Labeling : 871\n",
            "[739/3000] Train Acc: 0.952201 Loss: 0.032407 | Val Acc: 0.878942 loss: 0.409761\n",
            "Pseudo Labeling : 855\n",
            "[740/3000] Train Acc: 0.953227 Loss: 0.031282 | Val Acc: 0.879743 loss: 0.399932\n"
          ]
        }
      ]
    },
    {
      "cell_type": "code",
      "source": [
        "print(f'Training use {round(end_time - start_time, 3)}s')"
      ],
      "metadata": {
        "id": "NLnpYLpwYlop",
        "outputId": "6a41f4ff-3610-4bf2-debb-0ab5fe3dfb80",
        "colab": {
          "base_uri": "https://localhost:8080/"
        }
      },
      "execution_count": 307,
      "outputs": [
        {
          "output_type": "stream",
          "name": "stdout",
          "text": [
            "Training use 656.511s\n"
          ]
        }
      ]
    },
    {
      "cell_type": "code",
      "source": [
        "def plot_learning_curve(train_record, valid_record, title=''):\n",
        "    total_steps = len(train_record)\n",
        "    x = range(total_steps)\n",
        "    plt.figure(figsize=(6, 4))\n",
        "    plt.plot(x, train_record, c='tab:red', label='train')\n",
        "    plt.plot(x, valid_record, c='tab:cyan', label='valid')\n",
        "    plt.ylim(0.0, max(valid_record) + 1)\n",
        "    plt.xlabel('Training epoch')\n",
        "    plt.ylabel(title)\n",
        "    plt.title('Learning curve of {}'.format(title))\n",
        "    plt.legend()\n",
        "    plt.show()"
      ],
      "metadata": {
        "id": "ZX4SmxBQIIcU"
      },
      "execution_count": 308,
      "outputs": []
    },
    {
      "cell_type": "code",
      "source": [
        "plot_learning_curve(train_acc_list, val_acc_list, 'Acc')"
      ],
      "metadata": {
        "id": "CukLL-yVJFdu",
        "outputId": "138c567c-1a3b-47b7-caeb-e330c73a947e",
        "colab": {
          "base_uri": "https://localhost:8080/",
          "height": 295
        }
      },
      "execution_count": 309,
      "outputs": [
        {
          "output_type": "display_data",
          "data": {
            "image/png": "[encoded data removed]",
            "text/plain": [
              "<Figure size 432x288 with 1 Axes>"
            ]
          },
          "metadata": {
            "needs_background": "light"
          }
        }
      ]
    },
    {
      "cell_type": "code",
      "source": [
        "plot_learning_curve(train_loss_list, val_loss_list, 'Loss')"
      ],
      "metadata": {
        "id": "LUDXf-nKJQKU",
        "outputId": "d18a14be-6138-4ee3-98ea-c6131aff171b",
        "colab": {
          "base_uri": "https://localhost:8080/",
          "height": 295
        }
      },
      "execution_count": 310,
      "outputs": [
        {
          "output_type": "display_data",
          "data": {
            "image/png": "[encoded data removed]",
            "text/plain": [
              "<Figure size 432x288 with 1 Axes>"
            ]
          },
          "metadata": {
            "needs_background": "light"
          }
        }
      ]
    },
    {
      "cell_type": "code",
      "source": [
        "model = Classifier().to(device)\n",
        "model.load_state_dict(torch.load(model_path, map_location=device))\n",
        "\n",
        "model.eval() # set the model to evaluation mode\n",
        "train_predict = []\n",
        "err = 0\n",
        "for i, data in enumerate(train_loader):\n",
        "    inputs, labels = data\n",
        "    inputs, labels = inputs.to(device), labels.to(device)\n",
        "    outputs = model(inputs)\n",
        "    _, test_pred = torch.max(outputs, 1) # get the index of the class with the highest probability\n",
        "\n",
        "    for y in test_pred.cpu().numpy():\n",
        "        train_predict.append(y)\n",
        "\n",
        "Ein = np.mean(np.array(train_predict) != train_y)\n",
        "F1in = metrics.f1_score(train_y, train_predict, average='macro')  \n",
        "print(f'Ein = {round(Ein, 5)}')\n",
        "print(f'F1_in = {round(F1in, 5)}')\n",
        "\n",
        "val_predict = []\n",
        "for i, data in enumerate(val_loader):\n",
        "    inputs = data[0]\n",
        "    inputs = inputs.to(device)\n",
        "    outputs = model(inputs)\n",
        "    _, test_pred = torch.max(outputs, 1) # get the index of the class with the highest probability\n",
        "\n",
        "    for y in test_pred.cpu().numpy():\n",
        "        val_predict.append(y)\n",
        "\n",
        "Eval = np.mean(np.array(val_predict) != val_y)\n",
        "F1val = metrics.f1_score(val_y, val_predict, average='macro')  \n",
        "print(f'Eval = {round(Eval, 5)}')\n",
        "print(f'F1_val = {round(F1val, 5)}')"
      ],
      "metadata": {
        "id": "zCQ8Si4Yg5nh",
        "outputId": "0c99cbc6-970e-497a-b8fe-4720330e4890",
        "colab": {
          "base_uri": "https://localhost:8080/"
        }
      },
      "execution_count": 311,
      "outputs": [
        {
          "output_type": "stream",
          "name": "stdout",
          "text": [
            "Ein = 0.80536\n",
            "F1_in = 0.16485\n",
            "Eval = 0.11037\n",
            "F1_val = 0.30967\n"
          ]
        }
      ]
    },
    {
      "cell_type": "markdown",
      "source": [
        "# **Deep Neural Network Test**"
      ],
      "metadata": {
        "id": "ynT-KFltscT8"
      }
    },
    {
      "cell_type": "code",
      "source": [
        "# create testing dataset\n",
        "test_set = IBMDataset(X_test_std, None)\n",
        "test_loader = DataLoader(test_set, batch_size=BATCH_SIZE, shuffle=False)\n",
        "\n",
        "# create model and load weights from checkpoint\n",
        "model = Classifier().to(device)\n",
        "model.load_state_dict(torch.load(model_path, map_location=device))"
      ],
      "metadata": {
        "id": "lukrC4MJWTjM",
        "outputId": "7d9c6544-da4c-4d68-9961-c973cf96ba5b",
        "colab": {
          "base_uri": "https://localhost:8080/"
        }
      },
      "execution_count": 312,
      "outputs": [
        {
          "output_type": "execute_result",
          "data": {
            "text/plain": [
              "<All keys matched successfully>"
            ]
          },
          "metadata": {},
          "execution_count": 312
        }
      ]
    },
    {
      "cell_type": "code",
      "source": [
        "predict = []\n",
        "model.eval() # set the model to evaluation mode\n",
        "for i, data in enumerate(test_loader):\n",
        "    inputs = data\n",
        "    inputs = inputs.to(device)\n",
        "    outputs = model(inputs)\n",
        "    _, test_pred = torch.max(outputs, 1) # get the index of the class with the highest probability\n",
        "\n",
        "    for y in test_pred.cpu().numpy():\n",
        "        predict.append(y)\n",
        "\n",
        "print(encoder_map)\n",
        "print(np.bincount(predict))"
      ],
      "metadata": {
        "id": "OlQ1d1fdVt_V",
        "outputId": "b0ad465e-3260-4fac-dfcd-3d3eca6edf24",
        "colab": {
          "base_uri": "https://localhost:8080/"
        }
      },
      "execution_count": 313,
      "outputs": [
        {
          "output_type": "stream",
          "name": "stdout",
          "text": [
            "{'Attitude': 0, 'Competitor': 1, 'Dissatisfaction': 2, 'No Churn': 3, 'Other': 4, 'Price': 5}\n",
            "[311 243 111 421 239  84]\n"
          ]
        }
      ]
    },
    {
      "cell_type": "code",
      "source": [
        "dnn_submit_result = './dnn_result.csv'\n",
        "\n",
        "new_encoder_map = {'No Churn':0, 'Competitor': 1, 'Dissatisfaction':2, 'Attitude': 3, 'Price':4, 'Other':5}\n",
        "\n",
        "with open(dnn_submit_result, 'w') as f:\n",
        "    f.write('Customer ID,Churn Category\\n')\n",
        "    for i in range(len(df_test.values)):\n",
        "        id = str(df_test.values[i]).replace('[\\'', '')\n",
        "        id = id.replace('\\']', '')\n",
        "        pred = new_encoder_map.get(list(encoder_map.keys())[list(encoder_map.values()).index(predict[i])])\n",
        "        f.write(f'{id},{pred}\\n')"
      ],
      "metadata": {
        "id": "11ImkbPjn6qP"
      },
      "execution_count": 314,
      "outputs": []
    },
    {
      "cell_type": "code",
      "source": [
        "from google.colab import files\n",
        "\n",
        "files.download(dnn_submit_result)\n",
        "files.download(model_path)"
      ],
      "metadata": {
        "id": "YICyBRaGo43O",
        "outputId": "ac4f64d0-0a6e-49fa-febc-9ba48ca94d7a",
        "colab": {
          "base_uri": "https://localhost:8080/",
          "height": 17
        }
      },
      "execution_count": 315,
      "outputs": [
        {
          "output_type": "display_data",
          "data": {
            "application/javascript": [
              "\n",
              "    async function download(id, filename, size) {\n",
              "      if (!google.colab.kernel.accessAllowed) {\n",
              "        return;\n",
              "      }\n",
              "      const div = document.createElement('div');\n",
              "      const label = document.createElement('label');\n",
              "      label.textContent = `Downloading \"${filename}\": `;\n",
              "      div.appendChild(label);\n",
              "      const progress = document.createElement('progress');\n",
              "      progress.max = size;\n",
              "      div.appendChild(progress);\n",
              "      document.body.appendChild(div);\n",
              "\n",
              "      const buffers = [];\n",
              "      let downloaded = 0;\n",
              "\n",
              "      const channel = await google.colab.kernel.comms.open(id);\n",
              "      // Send a message to notify the kernel that we're ready.\n",
              "      channel.send({})\n",
              "\n",
              "      for await (const message of channel.messages) {\n",
              "        // Send a message to notify the kernel that we're ready.\n",
              "        channel.send({})\n",
              "        if (message.buffers) {\n",
              "          for (const buffer of message.buffers) {\n",
              "            buffers.push(buffer);\n",
              "            downloaded += buffer.byteLength;\n",
              "            progress.value = downloaded;\n",
              "          }\n",
              "        }\n",
              "      }\n",
              "      const blob = new Blob(buffers, {type: 'application/binary'});\n",
              "      const a = document.createElement('a');\n",
              "      a.href = window.URL.createObjectURL(blob);\n",
              "      a.download = filename;\n",
              "      div.appendChild(a);\n",
              "      a.click();\n",
              "      div.remove();\n",
              "    }\n",
              "  "
            ],
            "text/plain": [
              "<IPython.core.display.Javascript object>"
            ]
          },
          "metadata": {}
        },
        {
          "output_type": "display_data",
          "data": {
            "application/javascript": [
              "download(\"download_be0ec2a4-1fea-4f78-9950-0efbfad5f361\", \"dnn_result.csv\", 18344)"
            ],
            "text/plain": [
              "<IPython.core.display.Javascript object>"
            ]
          },
          "metadata": {}
        },
        {
          "output_type": "display_data",
          "data": {
            "application/javascript": [
              "\n",
              "    async function download(id, filename, size) {\n",
              "      if (!google.colab.kernel.accessAllowed) {\n",
              "        return;\n",
              "      }\n",
              "      const div = document.createElement('div');\n",
              "      const label = document.createElement('label');\n",
              "      label.textContent = `Downloading \"${filename}\": `;\n",
              "      div.appendChild(label);\n",
              "      const progress = document.createElement('progress');\n",
              "      progress.max = size;\n",
              "      div.appendChild(progress);\n",
              "      document.body.appendChild(div);\n",
              "\n",
              "      const buffers = [];\n",
              "      let downloaded = 0;\n",
              "\n",
              "      const channel = await google.colab.kernel.comms.open(id);\n",
              "      // Send a message to notify the kernel that we're ready.\n",
              "      channel.send({})\n",
              "\n",
              "      for await (const message of channel.messages) {\n",
              "        // Send a message to notify the kernel that we're ready.\n",
              "        channel.send({})\n",
              "        if (message.buffers) {\n",
              "          for (const buffer of message.buffers) {\n",
              "            buffers.push(buffer);\n",
              "            downloaded += buffer.byteLength;\n",
              "            progress.value = downloaded;\n",
              "          }\n",
              "        }\n",
              "      }\n",
              "      const blob = new Blob(buffers, {type: 'application/binary'});\n",
              "      const a = document.createElement('a');\n",
              "      a.href = window.URL.createObjectURL(blob);\n",
              "      a.download = filename;\n",
              "      div.appendChild(a);\n",
              "      a.click();\n",
              "      div.remove();\n",
              "    }\n",
              "  "
            ],
            "text/plain": [
              "<IPython.core.display.Javascript object>"
            ]
          },
          "metadata": {}
        },
        {
          "output_type": "display_data",
          "data": {
            "application/javascript": [
              "download(\"download_79bf77b9-22a5-44d9-a0df-4148d7b5da0c\", \"best_model.ckpt\", 163829)"
            ],
            "text/plain": [
              "<IPython.core.display.Javascript object>"
            ]
          },
          "metadata": {}
        }
      ]
    },
    {
      "cell_type": "markdown",
      "source": [
        "# **XGBoost Train**"
      ],
      "metadata": {
        "id": "I--nvDfv2IDM"
      }
    },
    {
      "cell_type": "code",
      "source": [
        "train_x, train_y, val_x, val_y = X_train[:percent], y_train[:percent], X_train[percent:], y_train[percent:]\n",
        "\n",
        "ss = StandardScaler().fit(train_x)\n",
        "train_x = ss.transform(train_x)\n",
        "miss_x = ss.transform(X_train_miss)\n",
        "val_x = ss.transform(val_x)\n",
        "X_test_std = ss.transform(X_test)"
      ],
      "metadata": {
        "id": "gtCWGNOQ9Mw2"
      },
      "execution_count": 316,
      "outputs": []
    },
    {
      "cell_type": "code",
      "source": [
        "classifier = XGBClassifier(\n",
        "    learning_rate =0.3,\n",
        "    n_estimators=20,\n",
        "    max_depth=10,\n",
        "    min_child_weight=1,\n",
        "    gamma=0,\n",
        "    subsample=0.5,\n",
        "    colsample_bytree=0.8,\n",
        "    scale_pos_weight=1,\n",
        "    use_label_encoder =False,\n",
        "    eval_metric='mlogloss') "
      ],
      "metadata": {
        "id": "zF-JV_to2MxL"
      },
      "execution_count": 317,
      "outputs": []
    },
    {
      "cell_type": "code",
      "source": [
        "start_time = time.time()\n",
        "model = classifier.fit(train_x, train_y)\n",
        "end_time = time.time()\n",
        "\n",
        "train_predict = model.predict(train_x)\n",
        "val_predict = model.predict(val_x)"
      ],
      "metadata": {
        "id": "zFY-5azh2r3d"
      },
      "execution_count": 318,
      "outputs": []
    },
    {
      "cell_type": "code",
      "source": [
        "print(f'Training use {round(end_time - start_time, 3)}s')"
      ],
      "metadata": {
        "id": "GfBSn9HV4u06",
        "outputId": "5542172b-3c1e-4a92-fbca-1170e1e67b91",
        "colab": {
          "base_uri": "https://localhost:8080/"
        }
      },
      "execution_count": 319,
      "outputs": [
        {
          "output_type": "stream",
          "name": "stdout",
          "text": [
            "Training use 3.603s\n"
          ]
        }
      ]
    },
    {
      "cell_type": "code",
      "source": [
        "Ein = np.mean(np.array(train_predict) != train_y)\n",
        "F1in = metrics.f1_score(train_y, train_predict, average='macro')  \n",
        "print(f'Ein = {round(Ein, 5)}')\n",
        "print(f'F1_in = {round(F1in, 5)}')\n",
        "print('XGBoost Train Score {}'.format(model.score(train_x, train_y)))\n",
        "print()\n",
        "\n",
        "Eval = np.mean(np.array(val_predict) != val_y)\n",
        "F1val = metrics.f1_score(val_y, val_predict, average='macro')  \n",
        "print(f'Eval = {round(Eval, 5)}')\n",
        "print(f'F1_val = {round(F1val, 5)}')\n",
        "print('XGBoost Valid Score {}'.format(model.score(val_x, val_y)))"
      ],
      "metadata": {
        "id": "dV4vriv-3oTN",
        "outputId": "f1fba4e2-3d08-457e-918e-833ca8f93f65",
        "colab": {
          "base_uri": "https://localhost:8080/"
        }
      },
      "execution_count": 320,
      "outputs": [
        {
          "output_type": "stream",
          "name": "stdout",
          "text": [
            "Ein = 0.00234\n",
            "F1_in = 0.98629\n",
            "XGBoost Train Score 0.9976613657623947\n",
            "\n",
            "Eval = 0.35863\n",
            "F1_val = 0.26292\n",
            "XGBoost Valid Score 0.6413682522715125\n"
          ]
        }
      ]
    },
    {
      "cell_type": "markdown",
      "source": [
        "# **XGBoost Test**"
      ],
      "metadata": {
        "id": "gAqchC5z5SCq"
      }
    },
    {
      "cell_type": "code",
      "source": [
        "predict = model.predict(X_test_std)\n",
        "predict = np.array(predict, dtype=np.int64)\n",
        "\n",
        "print(encoder_map)\n",
        "print(np.bincount(predict))"
      ],
      "metadata": {
        "id": "NiwmuhY14HUx",
        "outputId": "4f74d3ba-fc1b-4ae5-faa4-67ac791525e2",
        "colab": {
          "base_uri": "https://localhost:8080/"
        }
      },
      "execution_count": 321,
      "outputs": [
        {
          "output_type": "stream",
          "name": "stdout",
          "text": [
            "{'Attitude': 0, 'Competitor': 1, 'Dissatisfaction': 2, 'No Churn': 3, 'Other': 4, 'Price': 5}\n",
            "[347 147  32 870  13]\n"
          ]
        }
      ]
    },
    {
      "cell_type": "code",
      "source": [
        "xgboost_submit_result = './xgboost_result.csv'\n",
        "\n",
        "new_encoder_map = {'No Churn':0, 'Competitor': 1, 'Dissatisfaction':2, 'Attitude': 3, 'Price':4, 'Other':5}\n",
        "\n",
        "with open(xgboost_submit_result, 'w') as f:\n",
        "    f.write('Customer ID,Churn Category\\n')\n",
        "    for i in range(len(df_test.values)):\n",
        "        id = str(df_test.values[i]).replace('[\\'', '')\n",
        "        id = id.replace('\\']', '')\n",
        "        pred = new_encoder_map.get(list(encoder_map.keys())[list(encoder_map.values()).index(predict[i])])\n",
        "        f.write(f'{id},{pred}\\n')"
      ],
      "metadata": {
        "id": "7-83hh885x4r"
      },
      "execution_count": 322,
      "outputs": []
    },
    {
      "cell_type": "code",
      "source": [
        "from google.colab import files\n",
        "\n",
        "files.download(xgboost_submit_result)"
      ],
      "metadata": {
        "id": "ja3UsNE-6Rri",
        "outputId": "e6027c5b-3760-4e04-d9c4-e41b622493eb",
        "colab": {
          "base_uri": "https://localhost:8080/",
          "height": 17
        }
      },
      "execution_count": 323,
      "outputs": [
        {
          "output_type": "display_data",
          "data": {
            "application/javascript": [
              "\n",
              "    async function download(id, filename, size) {\n",
              "      if (!google.colab.kernel.accessAllowed) {\n",
              "        return;\n",
              "      }\n",
              "      const div = document.createElement('div');\n",
              "      const label = document.createElement('label');\n",
              "      label.textContent = `Downloading \"${filename}\": `;\n",
              "      div.appendChild(label);\n",
              "      const progress = document.createElement('progress');\n",
              "      progress.max = size;\n",
              "      div.appendChild(progress);\n",
              "      document.body.appendChild(div);\n",
              "\n",
              "      const buffers = [];\n",
              "      let downloaded = 0;\n",
              "\n",
              "      const channel = await google.colab.kernel.comms.open(id);\n",
              "      // Send a message to notify the kernel that we're ready.\n",
              "      channel.send({})\n",
              "\n",
              "      for await (const message of channel.messages) {\n",
              "        // Send a message to notify the kernel that we're ready.\n",
              "        channel.send({})\n",
              "        if (message.buffers) {\n",
              "          for (const buffer of message.buffers) {\n",
              "            buffers.push(buffer);\n",
              "            downloaded += buffer.byteLength;\n",
              "            progress.value = downloaded;\n",
              "          }\n",
              "        }\n",
              "      }\n",
              "      const blob = new Blob(buffers, {type: 'application/binary'});\n",
              "      const a = document.createElement('a');\n",
              "      a.href = window.URL.createObjectURL(blob);\n",
              "      a.download = filename;\n",
              "      div.appendChild(a);\n",
              "      a.click();\n",
              "      div.remove();\n",
              "    }\n",
              "  "
            ],
            "text/plain": [
              "<IPython.core.display.Javascript object>"
            ]
          },
          "metadata": {}
        },
        {
          "output_type": "display_data",
          "data": {
            "application/javascript": [
              "download(\"download_bb892be4-edc8-4381-a643-51667ed20559\", \"xgboost_result.csv\", 18344)"
            ],
            "text/plain": [
              "<IPython.core.display.Javascript object>"
            ]
          },
          "metadata": {}
        }
      ]
    },
    {
      "cell_type": "markdown",
      "source": [
        "# **Test Data Analysis**"
      ],
      "metadata": {
        "id": "1dE9W_Gh6wyj"
      }
    },
    {
      "cell_type": "code",
      "source": [
        "svm_test = pd.read_csv(svm_submit_result)\n",
        "dnn_test = pd.read_csv(dnn_submit_result)\n",
        "xgboost_test = pd.read_csv(xgboost_submit_result)"
      ],
      "metadata": {
        "id": "QO4s3Wf76wRi"
      },
      "execution_count": 324,
      "outputs": []
    },
    {
      "cell_type": "code",
      "source": [
        "def plotResult(dataset1, dataset2, dataset3, method):\n",
        "    fig, ax = plt.subplots(1, 3, figsize=(16, 8))\n",
        "    fig.suptitle('Test Data Statistics')\n",
        "\n",
        "    counts = []\n",
        "    iter = 0\n",
        "    for dataset in [dataset1, dataset2, dataset3]:\n",
        "        freq = dataset.groupby('Churn Category').size()\n",
        "        print(f'====== {method[iter]} ======')\n",
        "        print(freq)\n",
        "        print()\n",
        "\n",
        "        counts = [count for _, count in freq.items()]\n",
        "        x = np.arange(len(counts))\n",
        "        ax[iter].bar(x, counts)\n",
        "        ax[iter].set_xticks([0, 1, 2, 3, 4, 5])\n",
        "        ax[iter].set_xticklabels(['No Churn', 'Competitor', 'Dissatisfaction', 'Attitude', 'Price', 'Other'], rotation=90)\n",
        "        ax[iter].set_title(f'{method[iter]}')\n",
        "        iter += 1\n",
        "\n",
        "    plt.show()"
      ],
      "metadata": {
        "id": "EkC9pH9c7pP6"
      },
      "execution_count": 325,
      "outputs": []
    },
    {
      "cell_type": "code",
      "source": [
        "plotResult(svm_test, dnn_test, xgboost_test, ['SVM', 'DNN', 'XGBoost'])"
      ],
      "metadata": {
        "id": "eEJrLSXg8YsC",
        "outputId": "e843c946-8017-46a3-a3f1-d376240ec652",
        "colab": {
          "base_uri": "https://localhost:8080/",
          "height": 1000
        }
      },
      "execution_count": 326,
      "outputs": [
        {
          "output_type": "stream",
          "name": "stdout",
          "text": [
            "====== SVM ======\n",
            "Churn Category\n",
            "0    910\n",
            "1    213\n",
            "2     40\n",
            "3    211\n",
            "4     21\n",
            "5     14\n",
            "dtype: int64\n",
            "\n",
            "====== DNN ======\n",
            "Churn Category\n",
            "0    421\n",
            "1    243\n",
            "2    111\n",
            "3    311\n",
            "4     84\n",
            "5    239\n",
            "dtype: int64\n",
            "\n",
            "====== XGBoost ======\n",
            "Churn Category\n",
            "0    870\n",
            "1    147\n",
            "2     32\n",
            "3    347\n",
            "5     13\n",
            "dtype: int64\n",
            "\n"
          ]
        },
        {
          "output_type": "display_data",
          "data": {
            "image/png": "[encoded data removed]",
            "text/plain": [
              "<Figure size 1152x576 with 3 Axes>"
            ]
          },
          "metadata": {
            "needs_background": "light"
          }
        }
      ]
    }
  ]
}