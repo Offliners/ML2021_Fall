{
  "nbformat": 4,
  "nbformat_minor": 0,
  "metadata": {
    "colab": {
      "name": "HTML2021_Fall.ipynb",
      "provenance": [],
      "include_colab_link": true
    },
    "kernelspec": {
      "name": "python3",
      "display_name": "Python 3"
    },
    "language_info": {
      "name": "python"
    },
    "accelerator": "GPU"
  },
  "cells": [
    {
      "cell_type": "markdown",
      "metadata": {
        "id": "view-in-github",
        "colab_type": "text"
      },
      "source": [
        "<a href=\"https://colab.research.google.com/github/Offliners/HTML_2021Fall/blob/main/Final%20Project/final_project_test3_private.ipynb\" target=\"_parent\"><img src=\"https://colab.research.google.com/assets/colab-badge.svg\" alt=\"Open In Colab\"/></a>"
      ]
    },
    {
      "cell_type": "markdown",
      "source": [
        "# **Directory**\n",
        "\n",
        "```\n",
        "data_dir\n",
        "    ├── data\n",
        "    │   ├── Test_IDs.csv\n",
        "    │   ├── ...\n",
        "    │   ├── status.csv\n",
        "    ├── statistics\n",
        "    │   ├── Churn Category_stat.png\n",
        "    │   ├── ...\n",
        "    │   ├── miss rate_stat.png\n",
        "```"
      ],
      "metadata": {
        "id": "PD40tT3p379e"
      }
    },
    {
      "cell_type": "markdown",
      "source": [
        "# **Display information of GPU**"
      ],
      "metadata": {
        "id": "ldW8_oif3EEr"
      }
    },
    {
      "cell_type": "code",
      "source": [
        "!nvidia-smi"
      ],
      "metadata": {
        "colab": {
          "base_uri": "https://localhost:8080/"
        },
        "id": "Qf0PLuNJf95W",
        "outputId": "d3b3847f-f3be-413b-ec1f-d458df808851"
      },
      "execution_count": 1,
      "outputs": [
        {
          "output_type": "stream",
          "name": "stdout",
          "text": [
            "Mon Jan 17 06:58:47 2022       \n",
            "+-----------------------------------------------------------------------------+\n",
            "| NVIDIA-SMI 495.46       Driver Version: 460.32.03    CUDA Version: 11.2     |\n",
            "|-------------------------------+----------------------+----------------------+\n",
            "| GPU  Name        Persistence-M| Bus-Id        Disp.A | Volatile Uncorr. ECC |\n",
            "| Fan  Temp  Perf  Pwr:Usage/Cap|         Memory-Usage | GPU-Util  Compute M. |\n",
            "|                               |                      |               MIG M. |\n",
            "|===============================+======================+======================|\n",
            "|   0  Tesla T4            Off  | 00000000:00:04.0 Off |                    0 |\n",
            "| N/A   54C    P8    10W /  70W |      0MiB / 15109MiB |      0%      Default |\n",
            "|                               |                      |                  N/A |\n",
            "+-------------------------------+----------------------+----------------------+\n",
            "                                                                               \n",
            "+-----------------------------------------------------------------------------+\n",
            "| Processes:                                                                  |\n",
            "|  GPU   GI   CI        PID   Type   Process name                  GPU Memory |\n",
            "|        ID   ID                                                   Usage      |\n",
            "|=============================================================================|\n",
            "|  No running processes found                                                 |\n",
            "+-----------------------------------------------------------------------------+\n"
          ]
        }
      ]
    },
    {
      "cell_type": "markdown",
      "source": [
        "# **Download Dataset**"
      ],
      "metadata": {
        "id": "JxUhMWWmJPHv"
      }
    },
    {
      "cell_type": "code",
      "source": [
        "!mkdir \"./data\"\n",
        "!mkdir \"./statistics\"\n",
        "!gdown --id 1X5yz7QLAu4nttnCea4ALf6alae6Clv_o --output \"./data/dataset.zip\"\n",
        "!unzip -q \"./data/dataset.zip\" -d \"./data\"\n",
        "!rm \"./data/dataset.zip\""
      ],
      "metadata": {
        "colab": {
          "base_uri": "https://localhost:8080/"
        },
        "id": "zjX-fvNeKG3p",
        "outputId": "4c8c99d9-e75a-4bb1-ad35-893dbfdc2f28"
      },
      "execution_count": 2,
      "outputs": [
        {
          "output_type": "stream",
          "name": "stdout",
          "text": [
            "Downloading...\n",
            "From: https://drive.google.com/uc?id=1X5yz7QLAu4nttnCea4ALf6alae6Clv_o\n",
            "To: /content/data/dataset.zip\n",
            "\r  0% 0.00/660k [00:00<?, ?B/s]\r100% 660k/660k [00:00<00:00, 97.4MB/s]\n"
          ]
        }
      ]
    },
    {
      "cell_type": "markdown",
      "source": [
        "# **Import Some Packages**"
      ],
      "metadata": {
        "id": "hosMVZZWI_6B"
      }
    },
    {
      "cell_type": "code",
      "execution_count": 428,
      "metadata": {
        "id": "-lrHo2qeI-p9"
      },
      "outputs": [],
      "source": [
        "import time\n",
        "import numpy as np\n",
        "import pandas as pd\n",
        "from glob import glob\n",
        "from collections import Counter\n",
        "import collections\n",
        "import matplotlib.pyplot as plt\n",
        "import seaborn as sns\n",
        "\n",
        "from sklearn.preprocessing import LabelEncoder\n",
        "from sklearn.preprocessing import StandardScaler\n",
        "from sklearn import metrics\n",
        "from sklearn.model_selection import train_test_split\n",
        "from sklearn.metrics import precision_score, recall_score, f1_score, roc_auc_score, accuracy_score, classification_report, plot_confusion_matrix\n",
        "from sklearn.experimental import enable_iterative_imputer\n",
        "from sklearn.impute import IterativeImputer, KNNImputer\n",
        "\n",
        "# SMOTE\n",
        "from imblearn.over_sampling import SMOTE, ADASYN, SVMSMOTE\n",
        "\n",
        "# SVM\n",
        "from sklearn.svm import SVC\n",
        "\n",
        "# DNN\n",
        "import torch\n",
        "import torch.nn as nn\n",
        "from torch.utils.data import ConcatDataset, DataLoader, Subset, Dataset\n",
        "from torchsummary import summary\n",
        "from torch.optim.lr_scheduler import StepLR\n",
        "\n",
        "# XGBoost\n",
        "from xgboost import XGBClassifier"
      ]
    },
    {
      "cell_type": "markdown",
      "source": [
        "# **Set a Random Seed**"
      ],
      "metadata": {
        "id": "HH36XbKB0P3c"
      }
    },
    {
      "cell_type": "code",
      "source": [
        "# Set a random seed for reproducibility\n",
        "seed = 0\n",
        "np.random.seed(seed)\n",
        "torch.manual_seed(seed)\n",
        "if torch.cuda.is_available():\n",
        "    torch.cuda.manual_seed(seed)\n",
        "    torch.cuda.manual_seed_all(seed)  \n",
        "torch.backends.cudnn.benchmark = False\n",
        "torch.backends.cudnn.deterministic = True"
      ],
      "metadata": {
        "id": "sM7IyXfL0ekd"
      },
      "execution_count": 429,
      "outputs": []
    },
    {
      "cell_type": "markdown",
      "source": [
        "# **CSV Files Combination**"
      ],
      "metadata": {
        "id": "Q69ecrSlJpyT"
      }
    },
    {
      "cell_type": "code",
      "source": [
        "train_path = './data/Train_IDs.csv'  # path to training data\n",
        "test_path = './data/Test_IDs.csv'    # path to testing data\n",
        "\n",
        "files = glob('./data/*.csv')\n",
        "data_csv = []\n",
        "data_csv.append(train_path)\n",
        "for csv in files:\n",
        "    if ('IDs' not in csv) and ('sample' not in csv) and ('population' not in csv) and ('result' not in csv):\n",
        "        data_csv.append(csv)\n",
        "  \n",
        "print(data_csv)\n",
        "df_list = [pd.read_csv(file) for file in data_csv]"
      ],
      "metadata": {
        "colab": {
          "base_uri": "https://localhost:8080/"
        },
        "id": "PubV0z-fNFWK",
        "outputId": "52f793b9-596e-4a50-e5d6-724e02eacd77"
      },
      "execution_count": 430,
      "outputs": [
        {
          "output_type": "stream",
          "name": "stdout",
          "text": [
            "['./data/Train_IDs.csv', './data/services.csv', './data/location.csv', './data/satisfaction.csv', './data/demographics.csv', './data/status.csv']\n"
          ]
        }
      ]
    },
    {
      "cell_type": "code",
      "source": [
        "result_total = df_list[0]\n",
        "for df in df_list[1:]:\n",
        "    result_total = pd.merge(result_total, df, how='outer', on='Customer ID')\n",
        "\n",
        "result_total.to_csv('./data/result_total.csv') # Save combined all result to result_total.csv"
      ],
      "metadata": {
        "id": "gsRnzcD243J2"
      },
      "execution_count": 431,
      "outputs": []
    },
    {
      "cell_type": "code",
      "source": [
        "# There are 7043 total customer data\n",
        "print(result_total)"
      ],
      "metadata": {
        "id": "HmdXTPLLuLnc",
        "outputId": "0cab3bf0-6507-440b-c2e7-e7c58a1ba447",
        "colab": {
          "base_uri": "https://localhost:8080/"
        }
      },
      "execution_count": 432,
      "outputs": [
        {
          "output_type": "stream",
          "name": "stdout",
          "text": [
            "     Customer ID  Count_x  ... Number of Dependents Churn Category\n",
            "0     0650-BWOZN      1.0  ...                  0.0     Competitor\n",
            "1     0562-FGDCR      1.0  ...                  0.0     Competitor\n",
            "2     6688-UZPWD      1.0  ...                  NaN       No Churn\n",
            "3     2905-KFQUV      1.0  ...                  0.0     Competitor\n",
            "4     9720-JJJOR      1.0  ...                  0.0       No Churn\n",
            "...          ...      ...  ...                  ...            ...\n",
            "7038  6778-EICRF      NaN  ...                  0.0            NaN\n",
            "7039  0772-GYEQQ      NaN  ...                  2.0            NaN\n",
            "7040  5666-CYCYZ      NaN  ...                  0.0            NaN\n",
            "7041  4893-GYUJU      NaN  ...                  0.0            NaN\n",
            "7042  3426-NIYYL      NaN  ...                  2.0            NaN\n",
            "\n",
            "[7043 rows x 48 columns]\n"
          ]
        }
      ]
    },
    {
      "cell_type": "code",
      "source": [
        "# Train_IDs has 5634 customer data\n",
        "result_train_total = df_list[0]\n",
        "for df in df_list[1:]:\n",
        "    result_train_total = pd.merge(result_train_total, df, how='left', on='Customer ID')\n",
        "\n",
        "print(result_train_total)"
      ],
      "metadata": {
        "id": "NZaWPORIXIDp",
        "outputId": "3a876964-0d9d-4fd3-a64c-7cbe7729aa5a",
        "colab": {
          "base_uri": "https://localhost:8080/"
        }
      },
      "execution_count": 433,
      "outputs": [
        {
          "output_type": "stream",
          "name": "stdout",
          "text": [
            "     Customer ID  Count_x  ... Number of Dependents Churn Category\n",
            "0     0650-BWOZN      1.0  ...                  0.0     Competitor\n",
            "1     0562-FGDCR      1.0  ...                  0.0     Competitor\n",
            "2     6688-UZPWD      1.0  ...                  NaN       No Churn\n",
            "3     2905-KFQUV      1.0  ...                  0.0     Competitor\n",
            "4     9720-JJJOR      1.0  ...                  0.0       No Churn\n",
            "...          ...      ...  ...                  ...            ...\n",
            "5629  1178-PZGAB      1.0  ...                  0.0            NaN\n",
            "5630  4806-KEXQR      1.0  ...                  0.0            NaN\n",
            "5631  8809-RIHDD      1.0  ...                  2.0       No Churn\n",
            "5632  6663-JOCQO      1.0  ...                  3.0       No Churn\n",
            "5633  7010-ZMVBF      1.0  ...                  0.0       No Churn\n",
            "\n",
            "[5634 rows x 48 columns]\n"
          ]
        }
      ]
    },
    {
      "cell_type": "code",
      "source": [
        "# Train_IDs has 4226 customer data with label\n",
        "result_train = df_list[0]\n",
        "for df in df_list[1:]:\n",
        "    result_train = pd.merge(result_train, df, how='right', on='Customer ID')\n",
        "\n",
        "print(result_train)"
      ],
      "metadata": {
        "id": "XC9OTia4vQyw",
        "outputId": "3ab46d9a-945c-446d-fa41-43a88d777315",
        "colab": {
          "base_uri": "https://localhost:8080/"
        }
      },
      "execution_count": 434,
      "outputs": [
        {
          "output_type": "stream",
          "name": "stdout",
          "text": [
            "     Customer ID  Count_x  ... Number of Dependents Churn Category\n",
            "0     0650-BWOZN      NaN  ...                  0.0     Competitor\n",
            "1     0562-FGDCR      1.0  ...                  0.0     Competitor\n",
            "2     6688-UZPWD      1.0  ...                  NaN       No Churn\n",
            "3     2905-KFQUV      1.0  ...                  0.0     Competitor\n",
            "4     9720-JJJOR      NaN  ...                  0.0       No Churn\n",
            "...          ...      ...  ...                  ...            ...\n",
            "4221  3313-QKNKB      NaN  ...                  NaN       No Churn\n",
            "4222  8668-KNZTI      NaN  ...                  NaN       No Churn\n",
            "4223  8809-RIHDD      NaN  ...                  2.0       No Churn\n",
            "4224  6663-JOCQO      NaN  ...                  3.0       No Churn\n",
            "4225  7010-ZMVBF      1.0  ...                  0.0       No Churn\n",
            "\n",
            "[4226 rows x 48 columns]\n"
          ]
        }
      ]
    },
    {
      "cell_type": "code",
      "source": [
        "# Train_IDs has 1408 customer data without label\n",
        "result_train_miss = df_list[0]\n",
        "for df in df_list[1:]:\n",
        "    result_train_miss = pd.merge(result_train_miss, df, how='left', on='Customer ID')\n",
        "\n",
        "result_train_miss = result_train_miss[result_train_miss['Churn Category'].isna()]\n",
        "\n",
        "print(result_train_miss)"
      ],
      "metadata": {
        "id": "PNP-ViR3XR3O",
        "outputId": "0c280d48-d6de-4be3-eda2-63b429f2623c",
        "colab": {
          "base_uri": "https://localhost:8080/"
        }
      },
      "execution_count": 435,
      "outputs": [
        {
          "output_type": "stream",
          "name": "stdout",
          "text": [
            "     Customer ID  Count_x  ... Number of Dependents Churn Category\n",
            "6     0394-YONDK      1.0  ...                  NaN            NaN\n",
            "7     0396-HUJBP      1.0  ...                  0.0            NaN\n",
            "11    0684-AOSIH      1.0  ...                  2.0            NaN\n",
            "14    1679-JRFBR      1.0  ...                  0.0            NaN\n",
            "18    5533-NHFRF      NaN  ...                  0.0            NaN\n",
            "...          ...      ...  ...                  ...            ...\n",
            "5603  6330-JKLPC      1.0  ...                  NaN            NaN\n",
            "5618  4549-ZDQYY      NaN  ...                  0.0            NaN\n",
            "5622  9127-QRZMH      1.0  ...                  0.0            NaN\n",
            "5629  1178-PZGAB      1.0  ...                  0.0            NaN\n",
            "5630  4806-KEXQR      1.0  ...                  0.0            NaN\n",
            "\n",
            "[1408 rows x 48 columns]\n"
          ]
        }
      ]
    },
    {
      "cell_type": "code",
      "source": [
        "# Test_Ids has 1409 customer data\n",
        "df_test = pd.read_csv(test_path)\n",
        "result_test = df_test\n",
        "for df in df_list[1:]:\n",
        "    result_test = pd.merge(result_test, df, how='left', on='Customer ID')\n",
        "\n",
        "print(result_test)"
      ],
      "metadata": {
        "id": "fE-wQXgit9JQ",
        "outputId": "bef67ebb-1b9c-4e2c-aaa6-5857d77972be",
        "colab": {
          "base_uri": "https://localhost:8080/"
        }
      },
      "execution_count": 436,
      "outputs": [
        {
          "output_type": "stream",
          "name": "stdout",
          "text": [
            "     Customer ID  Count_x  ... Number of Dependents Churn Category\n",
            "0     9938-EKRGF      1.0  ...                  0.0            NaN\n",
            "1     7379-POKDZ      1.0  ...                  0.0            NaN\n",
            "2     0654-HMSHN      1.0  ...                  NaN            NaN\n",
            "3     2045-BMBTJ      1.0  ...                  3.0            NaN\n",
            "4     0701-TJSEF      1.0  ...                  0.0            NaN\n",
            "...          ...      ...  ...                  ...            ...\n",
            "1404  4587-VVTOX      1.0  ...                  NaN            NaN\n",
            "1405  7716-YTYHG      NaN  ...                  0.0            NaN\n",
            "1406  7649-PHJVR      NaN  ...                  0.0            NaN\n",
            "1407  7855-DIWPO      1.0  ...                  3.0            NaN\n",
            "1408  8197-BFWVU      1.0  ...                  NaN            NaN\n",
            "\n",
            "[1409 rows x 48 columns]\n"
          ]
        }
      ]
    },
    {
      "cell_type": "code",
      "source": [
        "print(result_total.dropna()) # Find customer with full data infomation"
      ],
      "metadata": {
        "colab": {
          "base_uri": "https://localhost:8080/"
        },
        "id": "7wbcLdCPLMBV",
        "outputId": "dce2c86a-2294-4ff5-a6b8-bf0a0d18afe6"
      },
      "execution_count": 437,
      "outputs": [
        {
          "output_type": "stream",
          "name": "stdout",
          "text": [
            "     Customer ID  Count_x  ... Number of Dependents   Churn Category\n",
            "666   0454-OKRCT      1.0  ...                  2.0         No Churn\n",
            "678   1735-XMJVH      1.0  ...                  0.0         No Churn\n",
            "1799  1245-HARPS      1.0  ...                  0.0  Dissatisfaction\n",
            "2805  8445-DNBAE      1.0  ...                  0.0       Competitor\n",
            "2883  8708-XPXHZ      1.0  ...                  0.0         No Churn\n",
            "3062  9522-ZSINC      1.0  ...                  0.0         No Churn\n",
            "4297  0836-SEYLU      1.0  ...                  0.0         No Churn\n",
            "5146  7274-RTAPZ      1.0  ...                  1.0         No Churn\n",
            "\n",
            "[8 rows x 48 columns]\n"
          ]
        }
      ]
    },
    {
      "cell_type": "code",
      "source": [
        "result_cols = result_total.columns\n",
        "print(result_cols)"
      ],
      "metadata": {
        "colab": {
          "base_uri": "https://localhost:8080/"
        },
        "id": "h42U-NQJkntr",
        "outputId": "44b3ab73-616b-4bbe-e898-384a2c9c333f"
      },
      "execution_count": 438,
      "outputs": [
        {
          "output_type": "stream",
          "name": "stdout",
          "text": [
            "Index(['Customer ID', 'Count_x', 'Quarter', 'Referred a Friend',\n",
            "       'Number of Referrals', 'Tenure in Months', 'Offer', 'Phone Service',\n",
            "       'Avg Monthly Long Distance Charges', 'Multiple Lines',\n",
            "       'Internet Service', 'Internet Type', 'Avg Monthly GB Download',\n",
            "       'Online Security', 'Online Backup', 'Device Protection Plan',\n",
            "       'Premium Tech Support', 'Streaming TV', 'Streaming Movies',\n",
            "       'Streaming Music', 'Unlimited Data', 'Contract', 'Paperless Billing',\n",
            "       'Payment Method', 'Monthly Charge', 'Total Charges', 'Total Refunds',\n",
            "       'Total Extra Data Charges', 'Total Long Distance Charges',\n",
            "       'Total Revenue', 'Count_y', 'Country', 'State', 'City', 'Zip Code',\n",
            "       'Lat Long', 'Latitude', 'Longitude', 'Satisfaction Score', 'Count',\n",
            "       'Gender', 'Age', 'Under 30', 'Senior Citizen', 'Married', 'Dependents',\n",
            "       'Number of Dependents', 'Churn Category'],\n",
            "      dtype='object')\n"
          ]
        }
      ]
    },
    {
      "cell_type": "code",
      "source": [
        "missing = result_train_total.isnull().sum().reset_index().rename(columns={0:'missNum'})\n",
        "missing['missRate'] = missing['missNum'] / result_train_total.shape[0]\n",
        "miss_analy = missing[missing.missRate > 0].sort_values(by='missRate', ascending=False)\n",
        "\n",
        "fig = plt.figure(figsize=(18, 6))\n",
        "plt.bar(np.arange(miss_analy.shape[0]), list(miss_analy.missRate.values), align='center')\n",
        "\n",
        "plt.title('Histogram of missing value of variables of training dataset')\n",
        "plt.xlabel('variables names')\n",
        "plt.ylabel('missing rate')\n",
        "plt.xticks(np.arange(miss_analy.shape[0]), list(miss_analy['index']))\n",
        "plt.xticks(rotation=90)\n",
        "for x, y in enumerate(list(miss_analy.missRate.values)):\n",
        "    plt.text(x, y + 0.12, '{:.2%}'.format(y), ha='center', rotation=90)    \n",
        "\n",
        "plt.ylim([0, 0.8])  \n",
        "plt.savefig(f'./statistics/miss rate_train_stat.png')  \n",
        "plt.show()\n",
        "plt.close()"
      ],
      "metadata": {
        "id": "HDjocf2IYbFs",
        "outputId": "854ab41b-3750-4130-e2f9-9356e602349a",
        "colab": {
          "base_uri": "https://localhost:8080/",
          "height": 574
        }
      },
      "execution_count": 439,
      "outputs": [
        {
          "output_type": "display_data",
          "data": {
            "image/png": "[encoded data removed]",
            "text/plain": [
              "<Figure size 1296x432 with 1 Axes>"
            ]
          },
          "metadata": {
            "needs_background": "light"
          }
        }
      ]
    },
    {
      "cell_type": "code",
      "source": [
        "missing = result_train.isnull().sum().reset_index().rename(columns={0:'missNum'})\n",
        "missing['missRate'] = missing['missNum'] / result_train.shape[0]\n",
        "miss_analy = missing[missing.missRate > 0].sort_values(by='missRate', ascending=False)\n",
        "\n",
        "fig = plt.figure(figsize=(18, 6))\n",
        "plt.bar(np.arange(miss_analy.shape[0]), list(miss_analy.missRate.values), align='center')\n",
        "\n",
        "plt.title('Histogram of missing value of variables of training dataset with label')\n",
        "plt.xlabel('variables names')\n",
        "plt.ylabel('missing rate')\n",
        "plt.xticks(np.arange(miss_analy.shape[0]), list(miss_analy['index']))\n",
        "plt.xticks(rotation=90)\n",
        "for x, y in enumerate(list(miss_analy.missRate.values)):\n",
        "    plt.text(x, y + 0.12, '{:.2%}'.format(y), ha='center', rotation=90)    \n",
        "\n",
        "plt.ylim([0, 0.8])  \n",
        "plt.savefig(f'./statistics/miss rate_train_stat.png')  \n",
        "plt.show()\n",
        "plt.close()"
      ],
      "metadata": {
        "colab": {
          "base_uri": "https://localhost:8080/",
          "height": 574
        },
        "id": "IkqLkqWstyE-",
        "outputId": "6934decf-0640-4363-9ecf-1bec7b91ffcf"
      },
      "execution_count": 440,
      "outputs": [
        {
          "output_type": "display_data",
          "data": {
            "image/png": "[encoded data removed]",
            "text/plain": [
              "<Figure size 1296x432 with 1 Axes>"
            ]
          },
          "metadata": {
            "needs_background": "light"
          }
        }
      ]
    },
    {
      "cell_type": "code",
      "source": [
        "missing = result_train_miss.isnull().sum().reset_index().rename(columns={0:'missNum'})\n",
        "missing['missRate'] = missing['missNum'] / result_train_miss.shape[0]\n",
        "miss_analy = missing[missing.missRate > 0].sort_values(by='missRate', ascending=False)\n",
        "\n",
        "fig = plt.figure(figsize=(18, 6))\n",
        "plt.bar(np.arange(miss_analy.shape[0]), list(miss_analy.missRate.values), align='center')\n",
        "\n",
        "plt.title('Histogram of missing value of variables of training dataset without label')\n",
        "plt.xlabel('variables names')\n",
        "plt.ylabel('missing rate')\n",
        "plt.xticks(np.arange(miss_analy.shape[0]), list(miss_analy['index']))\n",
        "plt.xticks(rotation=90)\n",
        "for x, y in enumerate(list(miss_analy.missRate.values)):\n",
        "    plt.text(x, y + 0.12, '{:.2%}'.format(y), ha='center', rotation=90)    \n",
        "\n",
        "plt.ylim([0, 1.4])  \n",
        "plt.savefig(f'./statistics/miss rate_train_stat.png')  \n",
        "plt.show()\n",
        "plt.close()"
      ],
      "metadata": {
        "colab": {
          "base_uri": "https://localhost:8080/",
          "height": 574
        },
        "id": "8zfPtzuwt7hA",
        "outputId": "462d2c8d-fa5a-4beb-e048-3106068ac1bf"
      },
      "execution_count": 441,
      "outputs": [
        {
          "output_type": "display_data",
          "data": {
            "image/png": "[encoded data removed]",
            "text/plain": [
              "<Figure size 1296x432 with 1 Axes>"
            ]
          },
          "metadata": {
            "needs_background": "light"
          }
        }
      ]
    },
    {
      "cell_type": "code",
      "source": [
        "missing = result_test.isnull().sum().reset_index().rename(columns={0:'missNum'})\n",
        "missing['missRate'] = missing['missNum'] / result_test.shape[0]\n",
        "miss_analy = missing[missing.missRate > 0].sort_values(by='missRate', ascending=False)\n",
        "\n",
        "fig = plt.figure(figsize=(18, 6))\n",
        "plt.bar(np.arange(miss_analy.shape[0]), list(miss_analy.missRate.values), align='center')\n",
        "\n",
        "plt.title('Histogram of missing value of variables of test dataset')\n",
        "plt.xlabel('variables names')\n",
        "plt.ylabel('missing rate')\n",
        "plt.xticks(np.arange(miss_analy.shape[0]), list(miss_analy['index']))\n",
        "plt.xticks(rotation=90)\n",
        "for x, y in enumerate(list(miss_analy.missRate.values)):\n",
        "    plt.text(x, y + 0.12, '{:.2%}'.format(y), ha='center', rotation=90)    \n",
        "\n",
        "plt.ylim([0, 1.4])  \n",
        "plt.savefig(f'./statistics/miss rate_test_stat.png')  \n",
        "plt.show()\n",
        "plt.close()"
      ],
      "metadata": {
        "colab": {
          "base_uri": "https://localhost:8080/",
          "height": 574
        },
        "id": "BVN8BclJkD1J",
        "outputId": "8bf894f6-18a6-46df-b467-b08bc0944be2"
      },
      "execution_count": 442,
      "outputs": [
        {
          "output_type": "display_data",
          "data": {
            "image/png": "[encoded data removed]",
            "text/plain": [
              "<Figure size 1296x432 with 1 Axes>"
            ]
          },
          "metadata": {
            "needs_background": "light"
          }
        }
      ]
    },
    {
      "cell_type": "markdown",
      "source": [
        "# **Statistics and Data Preprocessing**"
      ],
      "metadata": {
        "id": "eYyJOoclqCFk"
      }
    },
    {
      "cell_type": "code",
      "source": [
        "result_train_total_copy = result_train_total.copy(deep=True)\n",
        "result_train_copy = result_train.copy(deep=True)\n",
        "result_train_miss_copy = result_train_miss.copy(deep=True)\n",
        "result_test_copy = result_test.copy(deep=True)\n",
        "def label_statistics(label):\n",
        "    freq = result_train_total.groupby(label).size()\n",
        "\n",
        "    names = [name for name, _ in freq.items()]\n",
        "    names.append('Nan')\n",
        "    counts = [count for _, count in freq.items()]\n",
        "    counts.append(len(result_train[label]) - sum(counts))\n",
        "\n",
        "    fig = plt.figure(figsize=(8, 6))\n",
        "    x = np.arange(len(names))\n",
        "    plt.bar(x, counts)\n",
        "    plt.xticks(x, names, rotation=15)\n",
        "    plt.title(f'Statistics of {label}')\n",
        "    plt.savefig(f'./statistics/Statistics of {label}.png')\n",
        "    print(f'Statistics of {label}.png saved')\n",
        "    plt.close()"
      ],
      "metadata": {
        "id": "ho-LNzp4g_Eb"
      },
      "execution_count": 443,
      "outputs": []
    },
    {
      "cell_type": "code",
      "source": [
        "need_statistics_col = ['Churn Category', 'Satisfaction Score', \n",
        "       'Gender', 'Under 30', 'Senior Citizen', 'Married', 'Dependents',\n",
        "       'Number of Dependents', 'Country', 'State', 'City', 'Quarter',\n",
        "       'Referred a Friend', 'Number of Referrals', 'Offer',\n",
        "       'Phone Service', 'Multiple Lines', 'Internet Service', 'Internet Type',\n",
        "       'Online Security', 'Online Backup', 'Device Protection Plan',\n",
        "       'Premium Tech Support', 'Streaming TV', 'Streaming Movies',\n",
        "       'Streaming Music', 'Unlimited Data', 'Contract', 'Paperless Billing',\n",
        "       'Payment Method', 'Zip Code']\n",
        "\n",
        "# Replace NaN with the most frequent label\n",
        "for need_col in need_statistics_col:\n",
        "    label_statistics(need_col)\n",
        "\n",
        "    # Encode target labels with value\n",
        "    le = LabelEncoder()\n",
        "    result_train_copy[need_col] = le.fit_transform(result_train_copy[need_col])\n",
        "\n",
        "    if need_col == 'Churn Category':\n",
        "        encoder_map = dict(zip(le.classes_, le.transform(le.classes_)))\n",
        "    \n",
        "    result_train_miss_copy[need_col] = le.fit_transform(result_train_miss_copy[need_col])\n",
        "    result_test_copy[need_col] = le.fit_transform(result_test_copy[need_col])"
      ],
      "metadata": {
        "colab": {
          "base_uri": "https://localhost:8080/"
        },
        "id": "Pl4omt-mIGDW",
        "outputId": "ba667e53-a808-4a65-8650-7a3638fad74c"
      },
      "execution_count": 444,
      "outputs": [
        {
          "output_type": "stream",
          "name": "stdout",
          "text": [
            "Statistics of Churn Category.png saved\n",
            "Statistics of Satisfaction Score.png saved\n",
            "Statistics of Gender.png saved\n",
            "Statistics of Under 30.png saved\n",
            "Statistics of Senior Citizen.png saved\n",
            "Statistics of Married.png saved\n",
            "Statistics of Dependents.png saved\n",
            "Statistics of Number of Dependents.png saved\n",
            "Statistics of Country.png saved\n",
            "Statistics of State.png saved\n",
            "Statistics of City.png saved\n",
            "Statistics of Quarter.png saved\n",
            "Statistics of Referred a Friend.png saved\n",
            "Statistics of Number of Referrals.png saved\n",
            "Statistics of Offer.png saved\n",
            "Statistics of Phone Service.png saved\n",
            "Statistics of Multiple Lines.png saved\n",
            "Statistics of Internet Service.png saved\n",
            "Statistics of Internet Type.png saved\n",
            "Statistics of Online Security.png saved\n",
            "Statistics of Online Backup.png saved\n",
            "Statistics of Device Protection Plan.png saved\n",
            "Statistics of Premium Tech Support.png saved\n",
            "Statistics of Streaming TV.png saved\n",
            "Statistics of Streaming Movies.png saved\n",
            "Statistics of Streaming Music.png saved\n",
            "Statistics of Unlimited Data.png saved\n",
            "Statistics of Contract.png saved\n",
            "Statistics of Paperless Billing.png saved\n",
            "Statistics of Payment Method.png saved\n",
            "Statistics of Zip Code.png saved\n"
          ]
        }
      ]
    },
    {
      "cell_type": "code",
      "source": [
        "population = pd.read_csv('./data/population.csv')\n",
        "population = population.drop('Zip Code', axis=1)\n",
        "population.rename({'ID':'Zip Code'}, axis=1, inplace=True)\n",
        "result_train_copy = pd.merge(result_train_copy, population, how='left', on='Zip Code')\n",
        "result_train_miss_copy = pd.merge(result_train_miss_copy, population, how='left', on='Zip Code')\n",
        "result_test_copy = pd.merge(result_test_copy, population, how='left', on='Zip Code')\n",
        "\n",
        "need_avg_col = [item for item in result_cols if item not in need_statistics_col]\n",
        "need_avg_col.append('Population')\n",
        "\n",
        "def data_imputation(train_dataset, miss_dataset, test_dataset, target):\n",
        "    imputer = IterativeImputer(max_iter=10, initial_strategy='median', random_state=seed)\n",
        "    # imputer = KNNImputer(n_neighbors=5, weights='distance')\n",
        "    imputer.fit(train_dataset)\n",
        "    train_dataset = imputer.transform(train_dataset)\n",
        "    miss_dataset = imputer.transform(miss_dataset)\n",
        "    test_dataset = imputer.transform(test_dataset)\n",
        "\n",
        "    train_dataset = pd.DataFrame(train_dataset, columns=target)\n",
        "    miss_dataset = pd.DataFrame(miss_dataset, columns=target)\n",
        "    test_dataset = pd.DataFrame(test_dataset, columns=target)\n",
        "\n",
        "    return train_dataset, miss_dataset, test_dataset\n",
        "\n",
        "col_names = list(result_cols.values)\n",
        "col_names.remove('Customer ID')\n",
        "col_names.remove('Lat Long')\n",
        "col_names.remove('Churn Category')\n",
        "col_names.append('Population')\n",
        "\n",
        "result_train_copy[col_names], result_train_miss_copy[col_names], result_test_copy[col_names] = data_imputation(result_train_copy[col_names], result_train_miss_copy[col_names], result_test_copy[col_names], col_names)"
      ],
      "metadata": {
        "id": "hjvCj4CgJPoJ"
      },
      "execution_count": 445,
      "outputs": []
    },
    {
      "cell_type": "code",
      "source": [
        "result_train_copy = result_train_copy.drop('Customer ID', axis=1)\n",
        "result_train_copy = result_train_copy.drop('Lat Long', axis=1)\n",
        "result_train_miss_copy = result_train_miss_copy.drop('Customer ID', axis=1)\n",
        "result_train_miss_copy = result_train_miss_copy.drop('Lat Long', axis=1)\n",
        "result_test_copy = result_test_copy.drop('Customer ID', axis=1)\n",
        "result_test_copy = result_test_copy.drop('Lat Long', axis=1)\n",
        "\n",
        "print(result_train_copy)"
      ],
      "metadata": {
        "colab": {
          "base_uri": "https://localhost:8080/"
        },
        "id": "KD6rjC0Yr7cW",
        "outputId": "0775e338-53ab-46cb-b327-82f8c1418fa1"
      },
      "execution_count": 446,
      "outputs": [
        {
          "output_type": "stream",
          "name": "stdout",
          "text": [
            "      Count_x  Quarter  ...  Churn Category  Population\n",
            "0         1.0      1.0  ...               1       660.0\n",
            "1         1.0      0.0  ...               1     37280.0\n",
            "2         1.0      0.0  ...               3      2899.0\n",
            "3         1.0      0.0  ...               1     26831.0\n",
            "4         1.0      1.0  ...               3       660.0\n",
            "...       ...      ...  ...             ...         ...\n",
            "4221      1.0      1.0  ...               3       660.0\n",
            "4222      1.0      1.0  ...               3       660.0\n",
            "4223      1.0      1.0  ...               3       660.0\n",
            "4224      1.0      1.0  ...               3       660.0\n",
            "4225      1.0      0.0  ...               3     27047.0\n",
            "\n",
            "[4226 rows x 47 columns]\n"
          ]
        }
      ]
    },
    {
      "cell_type": "code",
      "source": [
        "# Find the correlation of columns\n",
        "cor_matrix = result_train_copy.corr().abs()\n",
        "print(cor_matrix['Churn Category'])"
      ],
      "metadata": {
        "id": "WdnuvMdMS7_L",
        "outputId": "57f2f794-9b7e-42e3-ebc0-f8ce76f05ddd",
        "colab": {
          "base_uri": "https://localhost:8080/"
        }
      },
      "execution_count": 447,
      "outputs": [
        {
          "output_type": "stream",
          "name": "stdout",
          "text": [
            "Count_x                                   NaN\n",
            "Quarter                              0.026687\n",
            "Referred a Friend                    0.034992\n",
            "Number of Referrals                  0.065368\n",
            "Tenure in Months                     0.150018\n",
            "Offer                                0.035282\n",
            "Phone Service                        0.004287\n",
            "Avg Monthly Long Distance Charges    0.010180\n",
            "Multiple Lines                       0.021953\n",
            "Internet Service                     0.021609\n",
            "Internet Type                        0.038484\n",
            "Avg Monthly GB Download              0.024364\n",
            "Online Security                      0.061089\n",
            "Online Backup                        0.031315\n",
            "Device Protection Plan               0.028059\n",
            "Premium Tech Support                 0.053844\n",
            "Streaming TV                         0.008534\n",
            "Streaming Movies                     0.000321\n",
            "Streaming Music                      0.015176\n",
            "Unlimited Data                       0.013768\n",
            "Contract                             0.111203\n",
            "Paperless Billing                    0.009588\n",
            "Payment Method                       0.048995\n",
            "Monthly Charge                       0.050043\n",
            "Total Charges                        0.098140\n",
            "Total Refunds                        0.017651\n",
            "Total Extra Data Charges             0.024630\n",
            "Total Long Distance Charges          0.110037\n",
            "Total Revenue                        0.110460\n",
            "Count_y                                   NaN\n",
            "Country                              0.043073\n",
            "State                                0.054701\n",
            "City                                 0.035223\n",
            "Zip Code                             0.045957\n",
            "Latitude                             0.088238\n",
            "Longitude                            0.062988\n",
            "Satisfaction Score                   0.248098\n",
            "Count                                     NaN\n",
            "Gender                               0.005451\n",
            "Age                                  0.068289\n",
            "Under 30                             0.043659\n",
            "Senior Citizen                       0.004644\n",
            "Married                              0.037126\n",
            "Dependents                           0.087645\n",
            "Number of Dependents                 0.052063\n",
            "Churn Category                       1.000000\n",
            "Population                           0.014188\n",
            "Name: Churn Category, dtype: float64\n"
          ]
        }
      ]
    },
    {
      "cell_type": "code",
      "source": [
        "plt.figure(figsize=(17, 13))\n",
        "cor_matrix_copy = cor_matrix.copy(deep=True)\n",
        "cor_matrix_copy.dropna()\n",
        "ax = sns.heatmap(cor_matrix_copy, xticklabels=cor_matrix_copy.columns, yticklabels=cor_matrix_copy.columns, \n",
        "                 linewidths=0.2, cmap=\"RdYlGn_r\", fmt=\"s\")\n",
        "\n",
        "plt.title(\"Correlation between variables\")\n",
        "plt.show()"
      ],
      "metadata": {
        "id": "cqoSHlGbvcVZ",
        "outputId": "da069be3-54e4-4e0f-bd74-fe8f21665317",
        "colab": {
          "base_uri": "https://localhost:8080/",
          "height": 941
        }
      },
      "execution_count": 448,
      "outputs": [
        {
          "output_type": "display_data",
          "data": {
            "image/png": "[encoded data removed]",
            "text/plain": [
              "<Figure size 1224x936 with 2 Axes>"
            ]
          },
          "metadata": {
            "needs_background": "light"
          }
        }
      ]
    },
    {
      "cell_type": "code",
      "source": [
        "useless_feature = [index for index, value in cor_matrix['Churn Category'].items() if value < 0.05 or pd.isnull(value)]\n",
        "print(useless_feature)"
      ],
      "metadata": {
        "id": "EUWHiNXdKhGP",
        "outputId": "f624d0c4-3d93-4505-a35b-99fc48019528",
        "colab": {
          "base_uri": "https://localhost:8080/"
        }
      },
      "execution_count": 449,
      "outputs": [
        {
          "output_type": "stream",
          "name": "stdout",
          "text": [
            "['Count_x', 'Quarter', 'Referred a Friend', 'Offer', 'Phone Service', 'Avg Monthly Long Distance Charges', 'Multiple Lines', 'Internet Service', 'Internet Type', 'Avg Monthly GB Download', 'Online Backup', 'Device Protection Plan', 'Streaming TV', 'Streaming Movies', 'Streaming Music', 'Unlimited Data', 'Paperless Billing', 'Payment Method', 'Total Refunds', 'Total Extra Data Charges', 'Count_y', 'Country', 'City', 'Zip Code', 'Count', 'Gender', 'Under 30', 'Senior Citizen', 'Married', 'Population']\n"
          ]
        }
      ]
    },
    {
      "cell_type": "code",
      "source": [
        "def dropColumns(label):\n",
        "    global result_train_copy, result_train_miss_copy, result_test_copy\n",
        "    result_train_copy = result_train_copy.drop(label, axis=1)\n",
        "    result_train_miss_copy = result_train_miss_copy.drop(label, axis=1)\n",
        "    result_test_copy = result_test_copy.drop(label, axis=1)"
      ],
      "metadata": {
        "id": "K5quNy8vHQzb"
      },
      "execution_count": 450,
      "outputs": []
    },
    {
      "cell_type": "code",
      "source": [
        "# Throw away the data columns whose correlation to Churn Category is less than 0.05\n",
        "for item in useless_feature:\n",
        "    dropColumns(item)"
      ],
      "metadata": {
        "id": "Cis3gTDOG9Im"
      },
      "execution_count": 451,
      "outputs": []
    },
    {
      "cell_type": "code",
      "source": [
        "result_train_copy.to_csv('./data/result_after_preprocessing.csv') # Save after preprocessing result to result_after_preprocessing.csv\n",
        "feature_amount = len(result_train_copy.columns)\n",
        "\n",
        "print(result_train_copy)\n",
        "print(result_train_miss_copy)\n",
        "print(result_test_copy)"
      ],
      "metadata": {
        "colab": {
          "base_uri": "https://localhost:8080/"
        },
        "id": "-DsDpzq_Lgp3",
        "outputId": "50c52855-f509-4743-fe56-806608586bc7"
      },
      "execution_count": 452,
      "outputs": [
        {
          "output_type": "stream",
          "name": "stdout",
          "text": [
            "      Number of Referrals  ...  Churn Category\n",
            "0                    11.0  ...               1\n",
            "1                     0.0  ...               1\n",
            "2                     4.0  ...               3\n",
            "3                     0.0  ...               1\n",
            "4                    11.0  ...               3\n",
            "...                   ...  ...             ...\n",
            "4221                 11.0  ...               3\n",
            "4222                 11.0  ...               3\n",
            "4223                 11.0  ...               3\n",
            "4224                 11.0  ...               3\n",
            "4225                  8.0  ...               3\n",
            "\n",
            "[4226 rows x 17 columns]\n",
            "      Number of Referrals  ...  Churn Category\n",
            "0                     0.0  ...               0\n",
            "1                     2.0  ...               0\n",
            "2                     1.0  ...               0\n",
            "3                    10.0  ...               0\n",
            "4                     0.0  ...               0\n",
            "...                   ...  ...             ...\n",
            "1403                  0.0  ...               0\n",
            "1404                 12.0  ...               0\n",
            "1405                  9.0  ...               0\n",
            "1406                  0.0  ...               0\n",
            "1407                  0.0  ...               0\n",
            "\n",
            "[1408 rows x 17 columns]\n",
            "      Number of Referrals  ...  Churn Category\n",
            "0                     1.0  ...               0\n",
            "1                     0.0  ...               0\n",
            "2                     9.0  ...               0\n",
            "3                     1.0  ...               0\n",
            "4                     1.0  ...               0\n",
            "...                   ...  ...             ...\n",
            "1404                  0.0  ...               0\n",
            "1405                 11.0  ...               0\n",
            "1406                  1.0  ...               0\n",
            "1407                  1.0  ...               0\n",
            "1408                  0.0  ...               0\n",
            "\n",
            "[1409 rows x 17 columns]\n"
          ]
        }
      ]
    },
    {
      "cell_type": "markdown",
      "source": [
        "# **Balance Data**"
      ],
      "metadata": {
        "id": "bPTqADO2Ox2F"
      }
    },
    {
      "cell_type": "code",
      "source": [
        "y_train = result_train_copy['Churn Category'].values\n",
        "X_train = result_train_copy.drop('Churn Category', axis=1)\n",
        "\n",
        "X_train_miss = result_train_miss_copy.drop('Churn Category', axis=1)"
      ],
      "metadata": {
        "id": "RiyIrSnaNq6F"
      },
      "execution_count": 453,
      "outputs": []
    },
    {
      "cell_type": "code",
      "source": [
        "print(f\"normal data distribution: {Counter(y_train)}\")\n",
        "\n",
        "smo = SVMSMOTE(random_state=seed)\n",
        "X_train, y_train = smo.fit_resample(X_train, y_train)\n",
        "\n",
        "print(f\"SVMSMOTE data distribution: {Counter(y_train)}\")\n",
        "\n",
        "# ada = ADASYN(random_state=seed)\n",
        "# X_train, y_train = ada.fit_resample(X_train, y_train)\n",
        "\n",
        "# print(f\"ADASYN data distribution: {Counter(y_train)}\")\n",
        "\n",
        "class_weight = dict(Counter(y_train))"
      ],
      "metadata": {
        "id": "LmlxI28WQUG2",
        "outputId": "f4d06431-9d2c-4538-9d45-0c290ba3da0a",
        "colab": {
          "base_uri": "https://localhost:8080/"
        }
      },
      "execution_count": 454,
      "outputs": [
        {
          "output_type": "stream",
          "name": "stdout",
          "text": [
            "normal data distribution: Counter({3: 3118, 1: 490, 0: 201, 2: 177, 5: 124, 4: 116})\n",
            "SVMSMOTE data distribution: Counter({1: 3118, 3: 3118, 2: 3118, 0: 1943, 4: 1764, 5: 1646})\n"
          ]
        }
      ]
    },
    {
      "cell_type": "markdown",
      "source": [
        "# **Split and Standardize Data**"
      ],
      "metadata": {
        "id": "UXGFeitBu5sI"
      }
    },
    {
      "cell_type": "code",
      "source": [
        "train_x, val_x, train_y, val_y = train_test_split(X_train, y_train, test_size=0.2, random_state=seed)\n",
        "\n",
        "ss = StandardScaler().fit(train_x)\n",
        "train_x = ss.transform(train_x)\n",
        "val_x = ss.transform(val_x)\n",
        "miss_x = ss.transform(X_train_miss)\n",
        "\n",
        "X_test = result_test_copy.drop('Churn Category', axis=1)\n",
        "X_test_std = ss.transform(X_test)\n",
        "\n",
        "class_weight = {k: train_x.shape[0] / v for k, v in class_weight.items()}\n",
        "class_weight = collections.OrderedDict(sorted(class_weight.items()))\n",
        "print(class_weight)"
      ],
      "metadata": {
        "id": "euCLdtvkO-nO",
        "colab": {
          "base_uri": "https://localhost:8080/"
        },
        "outputId": "b63e6f38-a77b-40fb-9001-999ed4dca551"
      },
      "execution_count": 455,
      "outputs": [
        {
          "output_type": "stream",
          "name": "stdout",
          "text": [
            "OrderedDict([(0, 6.0550694801852805), (1, 3.77325208466966), (2, 3.77325208466966), (3, 3.77325208466966), (4, 6.669501133786848), (5, 7.147630619684082)])\n"
          ]
        }
      ]
    },
    {
      "cell_type": "markdown",
      "source": [
        "# **SVM Train**"
      ],
      "metadata": {
        "id": "3HpyuY-RQEz1"
      }
    },
    {
      "cell_type": "code",
      "source": [
        "svm = SVC(kernel='rbf', gamma=0.1, C=10, class_weight=class_weight)\n",
        "\n",
        "start_time = time.time()\n",
        "model = svm.fit(train_x, train_y)\n",
        "end_time = time.time()\n",
        "\n",
        "print(f'Training use {round(end_time - start_time, 3)}s')"
      ],
      "metadata": {
        "colab": {
          "base_uri": "https://localhost:8080/"
        },
        "id": "VXuL_lKqW_mD",
        "outputId": "b2cd4538-7576-49e4-d944-5744908ee5d4"
      },
      "execution_count": 456,
      "outputs": [
        {
          "output_type": "stream",
          "name": "stdout",
          "text": [
            "Training use 5.505s\n"
          ]
        }
      ]
    },
    {
      "cell_type": "code",
      "source": [
        "y_train_predict = svm.predict(train_x)\n",
        "Ein = np.mean(np.array(y_train_predict) != train_y)\n",
        "F1in = metrics.f1_score(train_y, y_train_predict, average='macro')  \n",
        "print(f'Ein = {round(Ein, 5)}')\n",
        "print(f'F1_in = {round(F1in, 5)}')\n",
        "\n",
        "y_val_predict = svm.predict(val_x)\n",
        "Eval = np.mean(np.array(y_val_predict) != val_y)\n",
        "F1val = metrics.f1_score(val_y, y_val_predict, average='macro')  \n",
        "print(f'Eval = {round(Eval, 5)}')\n",
        "print(f'F1_val = {round(F1val, 5)}')"
      ],
      "metadata": {
        "colab": {
          "base_uri": "https://localhost:8080/"
        },
        "id": "WivcNevbY1lB",
        "outputId": "b07dd40d-972c-4a39-e9ca-13a9ca6e5065"
      },
      "execution_count": 457,
      "outputs": [
        {
          "output_type": "stream",
          "name": "stdout",
          "text": [
            "Ein = 0.10854\n",
            "F1_in = 0.89503\n",
            "Eval = 0.14378\n",
            "F1_val = 0.86083\n"
          ]
        }
      ]
    },
    {
      "cell_type": "code",
      "source": [
        "plot_confusion_matrix(model, train_x, train_y)\n",
        "plot_confusion_matrix(model, val_x, val_y)\n",
        "print(encoder_map)"
      ],
      "metadata": {
        "id": "yWM9fKw1MLr1",
        "outputId": "5867f3eb-0e6b-455a-924a-1634c2deea8c",
        "colab": {
          "base_uri": "https://localhost:8080/",
          "height": 648
        }
      },
      "execution_count": 458,
      "outputs": [
        {
          "output_type": "stream",
          "name": "stderr",
          "text": [
            "/usr/local/lib/python3.7/dist-packages/sklearn/utils/deprecation.py:87: FutureWarning: Function plot_confusion_matrix is deprecated; Function `plot_confusion_matrix` is deprecated in 1.0 and will be removed in 1.2. Use one of the class methods: ConfusionMatrixDisplay.from_predictions or ConfusionMatrixDisplay.from_estimator.\n",
            "  warnings.warn(msg, category=FutureWarning)\n",
            "/usr/local/lib/python3.7/dist-packages/sklearn/utils/deprecation.py:87: FutureWarning: Function plot_confusion_matrix is deprecated; Function `plot_confusion_matrix` is deprecated in 1.0 and will be removed in 1.2. Use one of the class methods: ConfusionMatrixDisplay.from_predictions or ConfusionMatrixDisplay.from_estimator.\n",
            "  warnings.warn(msg, category=FutureWarning)\n"
          ]
        },
        {
          "output_type": "stream",
          "name": "stdout",
          "text": [
            "{'Attitude': 0, 'Competitor': 1, 'Dissatisfaction': 2, 'No Churn': 3, 'Other': 4, 'Price': 5}\n"
          ]
        },
        {
          "output_type": "display_data",
          "data": {
            "image/png": "[encoded data removed]",
            "text/plain": [
              "<Figure size 432x288 with 2 Axes>"
            ]
          },
          "metadata": {
            "needs_background": "light"
          }
        },
        {
          "output_type": "display_data",
          "data": {
            "image/png": "[encoded data removed]",
            "text/plain": [
              "<Figure size 432x288 with 2 Axes>"
            ]
          },
          "metadata": {
            "needs_background": "light"
          }
        }
      ]
    },
    {
      "cell_type": "code",
      "source": [
        "print(classification_report(train_y, y_train_predict))\n",
        "print(classification_report(val_y, y_val_predict))"
      ],
      "metadata": {
        "id": "LMiWePsbSW4Y",
        "outputId": "76523947-4eb5-4308-bbbd-13c41db5c436",
        "colab": {
          "base_uri": "https://localhost:8080/"
        }
      },
      "execution_count": 459,
      "outputs": [
        {
          "output_type": "stream",
          "name": "stdout",
          "text": [
            "              precision    recall  f1-score   support\n",
            "\n",
            "           0       0.93      0.93      0.93      1552\n",
            "           1       0.92      0.87      0.89      2452\n",
            "           2       0.84      0.94      0.89      2545\n",
            "           3       0.95      0.79      0.86      2504\n",
            "           4       0.82      0.97      0.89      1390\n",
            "           5       0.92      0.90      0.91      1322\n",
            "\n",
            "    accuracy                           0.89     11765\n",
            "   macro avg       0.90      0.90      0.90     11765\n",
            "weighted avg       0.90      0.89      0.89     11765\n",
            "\n",
            "              precision    recall  f1-score   support\n",
            "\n",
            "           0       0.89      0.92      0.91       391\n",
            "           1       0.87      0.84      0.86       666\n",
            "           2       0.79      0.92      0.85       573\n",
            "           3       0.91      0.70      0.79       614\n",
            "           4       0.83      0.95      0.89       374\n",
            "           5       0.85      0.89      0.87       324\n",
            "\n",
            "    accuracy                           0.86      2942\n",
            "   macro avg       0.86      0.87      0.86      2942\n",
            "weighted avg       0.86      0.86      0.85      2942\n",
            "\n"
          ]
        }
      ]
    },
    {
      "cell_type": "markdown",
      "source": [
        "# **SVM Test**"
      ],
      "metadata": {
        "id": "ViqMiLyMavbf"
      }
    },
    {
      "cell_type": "code",
      "source": [
        "y_test = svm.predict(X_test_std)\n",
        "plot_confusion_matrix(model, X_test_std, y_test)\n",
        "print(encoder_map)"
      ],
      "metadata": {
        "id": "098w16TfMkqn",
        "colab": {
          "base_uri": "https://localhost:8080/",
          "height": 351
        },
        "outputId": "e6522fc8-3173-43bd-888f-a7525bfb6e0e"
      },
      "execution_count": 460,
      "outputs": [
        {
          "output_type": "stream",
          "name": "stderr",
          "text": [
            "/usr/local/lib/python3.7/dist-packages/sklearn/utils/deprecation.py:87: FutureWarning: Function plot_confusion_matrix is deprecated; Function `plot_confusion_matrix` is deprecated in 1.0 and will be removed in 1.2. Use one of the class methods: ConfusionMatrixDisplay.from_predictions or ConfusionMatrixDisplay.from_estimator.\n",
            "  warnings.warn(msg, category=FutureWarning)\n"
          ]
        },
        {
          "output_type": "stream",
          "name": "stdout",
          "text": [
            "{'Attitude': 0, 'Competitor': 1, 'Dissatisfaction': 2, 'No Churn': 3, 'Other': 4, 'Price': 5}\n"
          ]
        },
        {
          "output_type": "display_data",
          "data": {
            "image/png": "[encoded data removed]",
            "text/plain": [
              "<Figure size 432x288 with 2 Axes>"
            ]
          },
          "metadata": {
            "needs_background": "light"
          }
        }
      ]
    },
    {
      "cell_type": "code",
      "source": [
        "svm_submit_result = './svm_result.csv'\n",
        "\n",
        "new_encoder_map = {'No Churn':0, 'Competitor': 1, 'Dissatisfaction':2, 'Attitude': 3, 'Price':4, 'Other':5}\n",
        "\n",
        "with open(svm_submit_result, 'w') as f:\n",
        "    f.write('Customer ID,Churn Category\\n')\n",
        "    for i in range(len(df_test.values)):\n",
        "        id = str(df_test.values[i]).replace('[\\'', '')\n",
        "        id = id.replace('\\']', '')\n",
        "        pred = new_encoder_map.get(list(encoder_map.keys())[list(encoder_map.values()).index(y_test[i])])\n",
        "        f.write(f'{id},{pred}\\n')"
      ],
      "metadata": {
        "id": "6N35sOjrcpNd"
      },
      "execution_count": 461,
      "outputs": []
    },
    {
      "cell_type": "code",
      "source": [
        "from google.colab import files\n",
        "\n",
        "files.download(svm_submit_result)"
      ],
      "metadata": {
        "id": "0tLUThI7nWnj",
        "colab": {
          "base_uri": "https://localhost:8080/",
          "height": 17
        },
        "outputId": "7371deb4-ab59-4d86-fb55-dccc1b3be154"
      },
      "execution_count": 462,
      "outputs": [
        {
          "output_type": "display_data",
          "data": {
            "application/javascript": [
              "\n",
              "    async function download(id, filename, size) {\n",
              "      if (!google.colab.kernel.accessAllowed) {\n",
              "        return;\n",
              "      }\n",
              "      const div = document.createElement('div');\n",
              "      const label = document.createElement('label');\n",
              "      label.textContent = `Downloading \"${filename}\": `;\n",
              "      div.appendChild(label);\n",
              "      const progress = document.createElement('progress');\n",
              "      progress.max = size;\n",
              "      div.appendChild(progress);\n",
              "      document.body.appendChild(div);\n",
              "\n",
              "      const buffers = [];\n",
              "      let downloaded = 0;\n",
              "\n",
              "      const channel = await google.colab.kernel.comms.open(id);\n",
              "      // Send a message to notify the kernel that we're ready.\n",
              "      channel.send({})\n",
              "\n",
              "      for await (const message of channel.messages) {\n",
              "        // Send a message to notify the kernel that we're ready.\n",
              "        channel.send({})\n",
              "        if (message.buffers) {\n",
              "          for (const buffer of message.buffers) {\n",
              "            buffers.push(buffer);\n",
              "            downloaded += buffer.byteLength;\n",
              "            progress.value = downloaded;\n",
              "          }\n",
              "        }\n",
              "      }\n",
              "      const blob = new Blob(buffers, {type: 'application/binary'});\n",
              "      const a = document.createElement('a');\n",
              "      a.href = window.URL.createObjectURL(blob);\n",
              "      a.download = filename;\n",
              "      div.appendChild(a);\n",
              "      a.click();\n",
              "      div.remove();\n",
              "    }\n",
              "  "
            ],
            "text/plain": [
              "<IPython.core.display.Javascript object>"
            ]
          },
          "metadata": {}
        },
        {
          "output_type": "display_data",
          "data": {
            "application/javascript": [
              "download(\"download_a718e736-53c3-4f5e-96e5-2fc7643beb1d\", \"svm_result.csv\", 18344)"
            ],
            "text/plain": [
              "<IPython.core.display.Javascript object>"
            ]
          },
          "metadata": {}
        }
      ]
    },
    {
      "cell_type": "markdown",
      "source": [
        "# **Deep Neural Network Train**"
      ],
      "metadata": {
        "id": "ZFjmDSVGQPwo"
      }
    },
    {
      "cell_type": "code",
      "source": [
        "class IBMDataset(Dataset):\n",
        "    def __init__(self, X, y=None):\n",
        "        self.data = torch.from_numpy(X).float()\n",
        "        if y is not None:\n",
        "            y = y.astype(np.int)\n",
        "            self.label = torch.LongTensor(y)\n",
        "        else:\n",
        "            self.label = None\n",
        "\n",
        "    def __getitem__(self, idx):\n",
        "        if self.label is not None:\n",
        "            return self.data[idx], self.label[idx]\n",
        "        else:\n",
        "            return self.data[idx]\n",
        "\n",
        "    def __len__(self):\n",
        "        return len(self.data)"
      ],
      "metadata": {
        "id": "G5F9W_RkSub3"
      },
      "execution_count": 463,
      "outputs": []
    },
    {
      "cell_type": "code",
      "source": [
        "class Classifier(nn.Module):\n",
        "    def __init__(self):\n",
        "        super(Classifier, self).__init__()\n",
        "        self.layer1 = nn.Linear(feature_amount - 1, 256)\n",
        "        self.layer2 = nn.Linear(256, 64)\n",
        "        self.bn1 = nn.BatchNorm1d(256)\n",
        "        self.bn2 = nn.BatchNorm1d(64)\n",
        "        self.out = nn.Linear(64, 6)\n",
        "        self.dp = nn.Dropout(0.1)\n",
        "        self.act_fn = nn.LeakyReLU()\n",
        "\n",
        "    def forward(self, x):\n",
        "        x = self.layer1(x)\n",
        "        x = self.act_fn(x)\n",
        "        x = self.bn1(x)\n",
        "        x = self.dp(x)\n",
        "\n",
        "        x = self.layer2(x)\n",
        "        x = self.act_fn(x)\n",
        "        x = self.bn2(x)\n",
        "        x = self.dp(x)\n",
        "        \n",
        "        x = self.out(x)\n",
        "        \n",
        "        return x\n",
        "\n",
        "# classifier = Classifier()\n",
        "# summary(classifier, X_train.shape, device=\"cpu\")"
      ],
      "metadata": {
        "id": "K_ofbzUUQdOX"
      },
      "execution_count": 464,
      "outputs": []
    },
    {
      "cell_type": "code",
      "source": [
        "def get_pseudo_labels(dataset, model, batch_size, threshold=0.99):\n",
        "    device = \"cuda\" if torch.cuda.is_available() else \"cpu\"\n",
        "\n",
        "    data_loader = DataLoader(dataset, batch_size=batch_size, shuffle=False)\n",
        "\n",
        "    model.eval()\n",
        "    softmax = nn.Softmax(dim=-1)\n",
        "\n",
        "    pseudo_x = []\n",
        "    pseudo_y = []\n",
        "    for i, data in enumerate(data_loader):\n",
        "        inputs = data\n",
        "\n",
        "        with torch.no_grad():\n",
        "            logits = model(inputs.to(device))\n",
        "\n",
        "        probs = softmax(logits)\n",
        "        label = torch.where(torch.max(probs, dim=1)[0] > threshold, torch.argmax(probs,dim=1), -1)\n",
        "        label = label.cpu()\n",
        "        for j in range(len(label)):\n",
        "            if label[j] != -1:\n",
        "                pseudo_x.append(data[j])\n",
        "                pseudo_y.append(label[j])\n",
        "\n",
        "    model.train()\n",
        "    print(f\"Pseudo Labeling : {len(pseudo_x)}\")\n",
        "    if len(pseudo_x) > 0:\n",
        "        flag = 1\n",
        "        pseudo_dataset = IBMDataset(torch.stack(pseudo_x, dim=0).numpy(), np.array(pseudo_y))\n",
        "        return pseudo_dataset, len(pseudo_x), flag\n",
        "    else:\n",
        "        flag = 0\n",
        "        return None, 0, flag\n",
        "    "
      ],
      "metadata": {
        "id": "Qh3PCk2FdEkf"
      },
      "execution_count": 465,
      "outputs": []
    },
    {
      "cell_type": "code",
      "source": [
        "VAL_RATIO = 0.2\n",
        "BATCH_SIZE = 64\n",
        "\n",
        "percent = int(X_train.shape[0] * (1 - VAL_RATIO))\n",
        "train_x, train_y, val_x, val_y = X_train[:percent], y_train[:percent], X_train[percent:], y_train[percent:]\n",
        "\n",
        "ss = StandardScaler().fit(train_x)\n",
        "train_x = ss.transform(train_x)\n",
        "miss_x = ss.transform(X_train_miss)\n",
        "val_x = ss.transform(val_x)\n",
        "X_test_std = ss.transform(X_test)\n",
        "\n",
        "print('Size of training set: {}'.format(train_x.shape))\n",
        "print('Size of training set: {}'.format(miss_x.shape))\n",
        "print('Size of validation set: {}'.format(val_x.shape))"
      ],
      "metadata": {
        "id": "3lDEMsTdTVd3",
        "outputId": "bfec5353-47ee-48a0-e284-00700c495662",
        "colab": {
          "base_uri": "https://localhost:8080/"
        }
      },
      "execution_count": 466,
      "outputs": [
        {
          "output_type": "stream",
          "name": "stdout",
          "text": [
            "Size of training set: (11765, 16)\n",
            "Size of training set: (1408, 16)\n",
            "Size of validation set: (2942, 16)\n"
          ]
        }
      ]
    },
    {
      "cell_type": "code",
      "source": [
        "train_set = IBMDataset(train_x, train_y)\n",
        "miss_set = IBMDataset(miss_x, None)\n",
        "val_set = IBMDataset(val_x, val_y)\n",
        "train_loader = DataLoader(train_set, batch_size=BATCH_SIZE, shuffle=True) # only shuffle the training data\n",
        "val_loader = DataLoader(val_set, batch_size=BATCH_SIZE, shuffle=False)"
      ],
      "metadata": {
        "id": "RaPDAgDzTcrs"
      },
      "execution_count": 467,
      "outputs": []
    },
    {
      "cell_type": "code",
      "source": [
        "# get device \n",
        "device = 'cuda' if torch.cuda.is_available() else 'cpu'\n",
        "print(f'DEVICE: {device}')\n",
        "\n",
        "# training parameters\n",
        "num_epoch = 3000             # number of training epoch\n",
        "learning_rate = 0.001       # learning rate\n",
        "callback_num = 200\n",
        "\n",
        "# the path where checkpoint saved\n",
        "model_path = './best_model.ckpt'\n",
        "\n",
        "# create model, define a loss function, and optimizer\n",
        "model = Classifier().to(device)\n",
        "class_weight = [v for k, v in class_weight.items()]\n",
        "criterion = nn.CrossEntropyLoss(weight=torch.FloatTensor(class_weight).to(device))\n",
        "optimizer = torch.optim.Adam(model.parameters(), weight_decay=5e-4, lr=learning_rate)\n",
        "scheduler = StepLR(optimizer, step_size=len(train_loader) * 100, gamma=0.1)"
      ],
      "metadata": {
        "id": "CMbU0r5fRwai",
        "outputId": "170a78ba-8337-48ea-80c5-13d06ce63113",
        "colab": {
          "base_uri": "https://localhost:8080/"
        }
      },
      "execution_count": 468,
      "outputs": [
        {
          "output_type": "stream",
          "name": "stdout",
          "text": [
            "DEVICE: cuda\n"
          ]
        }
      ]
    },
    {
      "cell_type": "code",
      "source": [
        "best_acc = 0.0\n",
        "count = 0\n",
        "start_time = time.time()\n",
        "train_acc_list = []\n",
        "train_loss_list = []\n",
        "val_acc_list = []\n",
        "val_loss_list = []\n",
        "for epoch in range(num_epoch):\n",
        "    train_acc = 0.0\n",
        "    train_loss = 0.0\n",
        "    val_acc = 0.0\n",
        "    val_loss = 0.0\n",
        "\n",
        "    # Pseudo Label\n",
        "    pseudo_set, add_num, flag = get_pseudo_labels(miss_set, model, BATCH_SIZE)\n",
        "    if flag:\n",
        "        concat_dataset = ConcatDataset([train_set, pseudo_set])\n",
        "        train_loader_semi = DataLoader(concat_dataset, batch_size=BATCH_SIZE, shuffle=True, drop_last=True)\n",
        "    else:\n",
        "        train_loader_semi = train_loader\n",
        "    # train_loader_semi = train_loader\n",
        "    # training\n",
        "    model.train() # set the model to training mode\n",
        "    for i, data in enumerate(train_loader_semi):\n",
        "        inputs, labels = data\n",
        "        inputs, labels = inputs.to(device), labels.to(device)\n",
        "        optimizer.zero_grad() \n",
        "        outputs = model(inputs) \n",
        "        batch_loss = criterion(outputs, labels)\n",
        "        _, train_pred = torch.max(outputs, 1) # get the index of the class with the highest probability\n",
        "        batch_loss.backward() \n",
        "        optimizer.step()\n",
        "        scheduler.step()\n",
        "\n",
        "        train_acc += (train_pred.cpu() == labels.cpu()).sum().item()\n",
        "        train_loss += batch_loss.item()\n",
        "\n",
        "    # validation\n",
        "    if len(val_set) > 0:\n",
        "        model.eval() # set the model to evaluation mode\n",
        "        with torch.no_grad():\n",
        "            for i, data in enumerate(val_loader):\n",
        "                inputs, labels = data\n",
        "                inputs, labels = inputs.to(device), labels.to(device)\n",
        "                outputs = model(inputs)\n",
        "                batch_loss = criterion(outputs, labels) \n",
        "                _, val_pred = torch.max(outputs, 1) \n",
        "            \n",
        "                val_acc += (val_pred.cpu() == labels.cpu()).sum().item() # get the index of the class with the highest probability\n",
        "                val_loss += batch_loss.item()\n",
        "\n",
        "            print('[{:03d}/{:03d}] Train Acc: {:3.6f} Loss: {:3.6f} | Val Acc: {:3.6f} loss: {:3.6f}'.format(\n",
        "                epoch + 1, num_epoch, train_acc/(len(train_set) + add_num), train_loss/len(train_loader_semi), val_acc/len(val_set), val_loss/len(val_loader)\n",
        "            ))\n",
        "\n",
        "            # Record Training and validation info\n",
        "            train_acc_list.append(train_acc/(len(train_set) + add_num))\n",
        "            train_loss_list.append(train_loss/len(train_loader_semi))\n",
        "            val_acc_list.append(val_acc/len(val_set))\n",
        "            val_loss_list.append(val_loss/len(val_loader))\n",
        "\n",
        "            # if the model improves, save a checkpoint at this epoch\n",
        "            count += 1\n",
        "            if val_acc > best_acc:\n",
        "                count = 0\n",
        "                best_acc = val_acc\n",
        "                torch.save(model.state_dict(), model_path)\n",
        "                print('saving model with acc {:.3f}'.format(best_acc/len(val_set)))\n",
        "    else:\n",
        "        print('[{:03d}/{:03d}] Train Acc: {:3.6f} Loss: {:3.6f}'.format(\n",
        "            epoch + 1, num_epoch, train_acc/(len(train_set) + add_num), train_loss/len(train_loader_semi)\n",
        "        ))\n",
        "\n",
        "    if count > callback_num:\n",
        "        break\n",
        "\n",
        "# if not validating, save the last epoch\n",
        "if len(val_set) == 0:\n",
        "    torch.save(model.state_dict(), model_path)\n",
        "    print('saving model at last epoch')\n",
        "\n",
        "end_time = time.time()"
      ],
      "metadata": {
        "id": "zYGRiadPSNDo",
        "outputId": "93603a91-5c06-47cd-b340-f91b3a0036a3",
        "colab": {
          "base_uri": "https://localhost:8080/"
        }
      },
      "execution_count": 469,
      "outputs": [
        {
          "output_type": "stream",
          "name": "stdout",
          "text": [
            "Pseudo Labeling : 0\n",
            "[001/3000] Train Acc: 0.610030 Loss: 1.155584 | Val Acc: 0.020394 loss: 2.411524\n",
            "saving model with acc 0.020\n",
            "Pseudo Labeling : 8\n",
            "[002/3000] Train Acc: 0.673235 Loss: 0.958018 | Val Acc: 0.053025 loss: 2.548651\n",
            "saving model with acc 0.053\n",
            "Pseudo Labeling : 31\n",
            "[003/3000] Train Acc: 0.693964 Loss: 0.876927 | Val Acc: 0.079198 loss: 2.574259\n",
            "saving model with acc 0.079\n",
            "Pseudo Labeling : 35\n",
            "[004/3000] Train Acc: 0.718644 Loss: 0.825731 | Val Acc: 0.198165 loss: 2.451906\n",
            "saving model with acc 0.198\n",
            "Pseudo Labeling : 43\n",
            "[005/3000] Train Acc: 0.728997 Loss: 0.788227 | Val Acc: 0.149218 loss: 2.418261\n",
            "Pseudo Labeling : 99\n",
            "[006/3000] Train Acc: 0.735165 Loss: 0.752655 | Val Acc: 0.204963 loss: 2.238061\n",
            "saving model with acc 0.205\n",
            "Pseudo Labeling : 147\n",
            "[007/3000] Train Acc: 0.751343 Loss: 0.729935 | Val Acc: 0.229436 loss: 2.205296\n",
            "saving model with acc 0.229\n",
            "Pseudo Labeling : 116\n",
            "[008/3000] Train Acc: 0.753724 Loss: 0.715543 | Val Acc: 0.242012 loss: 2.242701\n",
            "saving model with acc 0.242\n",
            "Pseudo Labeling : 143\n",
            "[009/3000] Train Acc: 0.764360 Loss: 0.696742 | Val Acc: 0.247791 loss: 2.314489\n",
            "saving model with acc 0.248\n",
            "Pseudo Labeling : 234\n",
            "[010/3000] Train Acc: 0.764064 Loss: 0.679401 | Val Acc: 0.338885 loss: 2.100201\n",
            "saving model with acc 0.339\n",
            "Pseudo Labeling : 170\n",
            "[011/3000] Train Acc: 0.770758 Loss: 0.665502 | Val Acc: 0.291638 loss: 2.133085\n",
            "Pseudo Labeling : 144\n",
            "[012/3000] Train Acc: 0.776891 Loss: 0.651281 | Val Acc: 0.316791 loss: 2.126849\n",
            "Pseudo Labeling : 239\n",
            "[013/3000] Train Acc: 0.780906 Loss: 0.636305 | Val Acc: 0.272604 loss: 2.162486\n",
            "Pseudo Labeling : 201\n",
            "[014/3000] Train Acc: 0.780796 Loss: 0.627458 | Val Acc: 0.271924 loss: 2.076665\n",
            "Pseudo Labeling : 218\n",
            "[015/3000] Train Acc: 0.788116 Loss: 0.619949 | Val Acc: 0.394290 loss: 1.879068\n",
            "saving model with acc 0.394\n",
            "Pseudo Labeling : 289\n",
            "[016/3000] Train Acc: 0.788037 Loss: 0.613313 | Val Acc: 0.392590 loss: 1.878507\n",
            "Pseudo Labeling : 266\n",
            "[017/3000] Train Acc: 0.788879 Loss: 0.596503 | Val Acc: 0.335146 loss: 2.001608\n",
            "Pseudo Labeling : 247\n",
            "[018/3000] Train Acc: 0.795621 Loss: 0.593646 | Val Acc: 0.364378 loss: 1.889123\n",
            "Pseudo Labeling : 298\n",
            "[019/3000] Train Acc: 0.796236 Loss: 0.582485 | Val Acc: 0.348742 loss: 1.979824\n",
            "Pseudo Labeling : 243\n",
            "[020/3000] Train Acc: 0.797302 Loss: 0.585672 | Val Acc: 0.382393 loss: 1.922133\n",
            "Pseudo Labeling : 330\n",
            "[021/3000] Train Acc: 0.803886 Loss: 0.567546 | Val Acc: 0.380693 loss: 1.904555\n",
            "Pseudo Labeling : 258\n",
            "[022/3000] Train Acc: 0.799634 Loss: 0.574109 | Val Acc: 0.350102 loss: 1.850501\n",
            "Pseudo Labeling : 320\n",
            "[023/3000] Train Acc: 0.803062 Loss: 0.558346 | Val Acc: 0.342964 loss: 1.901781\n",
            "Pseudo Labeling : 302\n",
            "[024/3000] Train Acc: 0.805668 Loss: 0.557186 | Val Acc: 0.400068 loss: 1.889520\n",
            "saving model with acc 0.400\n",
            "Pseudo Labeling : 373\n",
            "[025/3000] Train Acc: 0.809524 Loss: 0.553103 | Val Acc: 0.357240 loss: 1.857325\n",
            "Pseudo Labeling : 337\n",
            "[026/3000] Train Acc: 0.813089 Loss: 0.545824 | Val Acc: 0.430659 loss: 1.788541\n",
            "saving model with acc 0.431\n",
            "Pseudo Labeling : 311\n",
            "[027/3000] Train Acc: 0.812189 Loss: 0.543721 | Val Acc: 0.387152 loss: 1.747508\n",
            "Pseudo Labeling : 361\n",
            "[028/3000] Train Acc: 0.810490 Loss: 0.535899 | Val Acc: 0.384432 loss: 1.893722\n",
            "Pseudo Labeling : 370\n",
            "[029/3000] Train Acc: 0.814256 Loss: 0.531225 | Val Acc: 0.430320 loss: 1.676071\n",
            "Pseudo Labeling : 407\n",
            "[030/3000] Train Acc: 0.813342 Loss: 0.535831 | Val Acc: 0.452413 loss: 1.680831\n",
            "saving model with acc 0.452\n",
            "Pseudo Labeling : 330\n",
            "[031/3000] Train Acc: 0.808681 Loss: 0.537259 | Val Acc: 0.444256 loss: 1.627138\n",
            "Pseudo Labeling : 370\n",
            "[032/3000] Train Acc: 0.819778 Loss: 0.519807 | Val Acc: 0.513256 loss: 1.595508\n",
            "saving model with acc 0.513\n",
            "Pseudo Labeling : 405\n",
            "[033/3000] Train Acc: 0.821693 Loss: 0.523649 | Val Acc: 0.441536 loss: 1.731772\n",
            "Pseudo Labeling : 349\n",
            "[034/3000] Train Acc: 0.821199 Loss: 0.521350 | Val Acc: 0.492182 loss: 1.572565\n",
            "Pseudo Labeling : 356\n",
            "[035/3000] Train Acc: 0.816187 Loss: 0.526464 | Val Acc: 0.405167 loss: 1.719184\n",
            "Pseudo Labeling : 384\n",
            "[036/3000] Train Acc: 0.820150 Loss: 0.510054 | Val Acc: 0.352481 loss: 1.958679\n",
            "Pseudo Labeling : 342\n",
            "[037/3000] Train Acc: 0.826134 Loss: 0.506628 | Val Acc: 0.486064 loss: 1.650719\n",
            "Pseudo Labeling : 455\n",
            "[038/3000] Train Acc: 0.817594 Loss: 0.512515 | Val Acc: 0.402787 loss: 1.938307\n",
            "Pseudo Labeling : 434\n",
            "[039/3000] Train Acc: 0.822199 Loss: 0.505582 | Val Acc: 0.372876 loss: 1.823205\n",
            "Pseudo Labeling : 426\n",
            "[040/3000] Train Acc: 0.823476 Loss: 0.503113 | Val Acc: 0.393610 loss: 1.723442\n",
            "Pseudo Labeling : 413\n",
            "[041/3000] Train Acc: 0.828872 Loss: 0.498570 | Val Acc: 0.516315 loss: 1.523848\n",
            "saving model with acc 0.516\n",
            "Pseudo Labeling : 444\n",
            "[042/3000] Train Acc: 0.825539 Loss: 0.498989 | Val Acc: 0.451734 loss: 1.619797\n",
            "Pseudo Labeling : 414\n",
            "[043/3000] Train Acc: 0.827983 Loss: 0.494297 | Val Acc: 0.385792 loss: 1.828541\n",
            "Pseudo Labeling : 386\n",
            "[044/3000] Train Acc: 0.825611 Loss: 0.498311 | Val Acc: 0.447655 loss: 1.801570\n",
            "Pseudo Labeling : 397\n",
            "[045/3000] Train Acc: 0.828893 Loss: 0.491937 | Val Acc: 0.495241 loss: 1.594806\n",
            "Pseudo Labeling : 424\n",
            "[046/3000] Train Acc: 0.836328 Loss: 0.476983 | Val Acc: 0.448334 loss: 1.659376\n",
            "Pseudo Labeling : 403\n",
            "[047/3000] Train Acc: 0.834484 Loss: 0.490449 | Val Acc: 0.477906 loss: 1.590314\n",
            "Pseudo Labeling : 437\n",
            "[048/3000] Train Acc: 0.828553 Loss: 0.486799 | Val Acc: 0.495921 loss: 1.625220\n",
            "Pseudo Labeling : 385\n",
            "[049/3000] Train Acc: 0.826091 Loss: 0.491918 | Val Acc: 0.509857 loss: 1.588068\n",
            "Pseudo Labeling : 383\n",
            "[050/3000] Train Acc: 0.828120 Loss: 0.484551 | Val Acc: 0.450714 loss: 1.648378\n",
            "Pseudo Labeling : 446\n",
            "[051/3000] Train Acc: 0.831054 Loss: 0.481036 | Val Acc: 0.467029 loss: 1.631351\n",
            "Pseudo Labeling : 438\n",
            "[052/3000] Train Acc: 0.832746 Loss: 0.481178 | Val Acc: 0.497621 loss: 1.628009\n",
            "Pseudo Labeling : 495\n",
            "[053/3000] Train Acc: 0.834258 Loss: 0.479725 | Val Acc: 0.467029 loss: 1.560261\n",
            "Pseudo Labeling : 459\n",
            "[054/3000] Train Acc: 0.834915 Loss: 0.482053 | Val Acc: 0.427600 loss: 1.717565\n",
            "Pseudo Labeling : 486\n",
            "[055/3000] Train Acc: 0.836177 Loss: 0.479473 | Val Acc: 0.514276 loss: 1.454831\n",
            "Pseudo Labeling : 504\n",
            "[056/3000] Train Acc: 0.832668 Loss: 0.477292 | Val Acc: 0.447995 loss: 1.592757\n",
            "Pseudo Labeling : 485\n",
            "[057/3000] Train Acc: 0.835102 Loss: 0.475462 | Val Acc: 0.460231 loss: 1.679805\n",
            "Pseudo Labeling : 429\n",
            "[058/3000] Train Acc: 0.834591 Loss: 0.481030 | Val Acc: 0.465330 loss: 1.560082\n",
            "Pseudo Labeling : 436\n",
            "[059/3000] Train Acc: 0.835095 Loss: 0.468710 | Val Acc: 0.442216 loss: 1.668640\n",
            "Pseudo Labeling : 463\n",
            "[060/3000] Train Acc: 0.838731 Loss: 0.467915 | Val Acc: 0.448334 loss: 1.713214\n",
            "Pseudo Labeling : 431\n",
            "[061/3000] Train Acc: 0.836094 Loss: 0.462106 | Val Acc: 0.472808 loss: 1.710355\n",
            "Pseudo Labeling : 397\n",
            "[062/3000] Train Acc: 0.839089 Loss: 0.468109 | Val Acc: 0.495241 loss: 1.561310\n",
            "Pseudo Labeling : 447\n",
            "[063/3000] Train Acc: 0.837373 Loss: 0.463847 | Val Acc: 0.483345 loss: 1.674173\n",
            "Pseudo Labeling : 379\n",
            "[064/3000] Train Acc: 0.833169 Loss: 0.467100 | Val Acc: 0.542828 loss: 1.445519\n",
            "saving model with acc 0.543\n",
            "Pseudo Labeling : 417\n",
            "[065/3000] Train Acc: 0.836480 Loss: 0.469443 | Val Acc: 0.464310 loss: 1.641658\n",
            "Pseudo Labeling : 449\n",
            "[066/3000] Train Acc: 0.836499 Loss: 0.463544 | Val Acc: 0.486744 loss: 1.648136\n",
            "Pseudo Labeling : 433\n",
            "[067/3000] Train Acc: 0.843745 Loss: 0.455566 | Val Acc: 0.499320 loss: 1.562725\n",
            "Pseudo Labeling : 459\n",
            "[068/3000] Train Acc: 0.845386 Loss: 0.450157 | Val Acc: 0.531271 loss: 1.471539\n",
            "Pseudo Labeling : 484\n",
            "[069/3000] Train Acc: 0.845212 Loss: 0.450745 | Val Acc: 0.465330 loss: 1.617988\n",
            "Pseudo Labeling : 517\n",
            "[070/3000] Train Acc: 0.842534 Loss: 0.450073 | Val Acc: 0.470088 loss: 1.592251\n",
            "Pseudo Labeling : 521\n",
            "[071/3000] Train Acc: 0.841446 Loss: 0.445975 | Val Acc: 0.489123 loss: 1.553729\n",
            "Pseudo Labeling : 459\n",
            "[072/3000] Train Acc: 0.846450 Loss: 0.454364 | Val Acc: 0.499320 loss: 1.532522\n",
            "Pseudo Labeling : 577\n",
            "[073/3000] Train Acc: 0.839248 Loss: 0.457135 | Val Acc: 0.488103 loss: 1.590391\n",
            "Pseudo Labeling : 499\n",
            "[074/3000] Train Acc: 0.840264 Loss: 0.455919 | Val Acc: 0.475867 loss: 1.560381\n",
            "Pseudo Labeling : 454\n",
            "[075/3000] Train Acc: 0.838530 Loss: 0.458739 | Val Acc: 0.450374 loss: 1.604971\n",
            "Pseudo Labeling : 444\n",
            "[076/3000] Train Acc: 0.840446 Loss: 0.458306 | Val Acc: 0.436438 loss: 1.674511\n",
            "Pseudo Labeling : 486\n",
            "[077/3000] Train Acc: 0.842135 Loss: 0.449402 | Val Acc: 0.439497 loss: 1.635626\n",
            "Pseudo Labeling : 475\n",
            "[078/3000] Train Acc: 0.842157 Loss: 0.454495 | Val Acc: 0.468049 loss: 1.658921\n",
            "Pseudo Labeling : 473\n",
            "[079/3000] Train Acc: 0.845481 Loss: 0.447092 | Val Acc: 0.473487 loss: 1.564196\n",
            "Pseudo Labeling : 551\n",
            "[080/3000] Train Acc: 0.840695 Loss: 0.450732 | Val Acc: 0.480965 loss: 1.516266\n",
            "Pseudo Labeling : 510\n",
            "[081/3000] Train Acc: 0.842525 Loss: 0.454149 | Val Acc: 0.453773 loss: 1.590626\n",
            "Pseudo Labeling : 506\n",
            "[082/3000] Train Acc: 0.843289 Loss: 0.445760 | Val Acc: 0.521754 loss: 1.506760\n",
            "Pseudo Labeling : 494\n",
            "[083/3000] Train Acc: 0.845093 Loss: 0.444839 | Val Acc: 0.503059 loss: 1.526114\n",
            "Pseudo Labeling : 513\n",
            "[084/3000] Train Acc: 0.843297 Loss: 0.448939 | Val Acc: 0.540449 loss: 1.404984\n",
            "Pseudo Labeling : 520\n",
            "[085/3000] Train Acc: 0.840781 Loss: 0.449028 | Val Acc: 0.459891 loss: 1.587128\n",
            "Pseudo Labeling : 510\n",
            "[086/3000] Train Acc: 0.841792 Loss: 0.443794 | Val Acc: 0.514956 loss: 1.495241\n",
            "Pseudo Labeling : 508\n",
            "[087/3000] Train Acc: 0.840300 Loss: 0.453736 | Val Acc: 0.449694 loss: 1.600039\n",
            "Pseudo Labeling : 499\n",
            "[088/3000] Train Acc: 0.846298 Loss: 0.444179 | Val Acc: 0.507818 loss: 1.543910\n",
            "Pseudo Labeling : 498\n",
            "[089/3000] Train Acc: 0.845470 Loss: 0.436256 | Val Acc: 0.538069 loss: 1.498277\n",
            "Pseudo Labeling : 538\n",
            "[090/3000] Train Acc: 0.851175 Loss: 0.438913 | Val Acc: 0.447995 loss: 1.607328\n",
            "Pseudo Labeling : 493\n",
            "[091/3000] Train Acc: 0.846304 Loss: 0.437738 | Val Acc: 0.531611 loss: 1.506132\n",
            "Pseudo Labeling : 487\n",
            "[092/3000] Train Acc: 0.847780 Loss: 0.439461 | Val Acc: 0.537050 loss: 1.521445\n",
            "Pseudo Labeling : 527\n",
            "[093/3000] Train Acc: 0.849414 Loss: 0.433578 | Val Acc: 0.439157 loss: 1.691443\n",
            "Pseudo Labeling : 516\n",
            "[094/3000] Train Acc: 0.845697 Loss: 0.435430 | Val Acc: 0.449694 loss: 1.618386\n",
            "Pseudo Labeling : 536\n",
            "[095/3000] Train Acc: 0.847899 Loss: 0.433286 | Val Acc: 0.530591 loss: 1.487749\n",
            "Pseudo Labeling : 543\n",
            "[096/3000] Train Acc: 0.846685 Loss: 0.441399 | Val Acc: 0.442896 loss: 1.657765\n",
            "Pseudo Labeling : 564\n",
            "[097/3000] Train Acc: 0.847595 Loss: 0.443430 | Val Acc: 0.532971 loss: 1.457628\n",
            "Pseudo Labeling : 461\n",
            "[098/3000] Train Acc: 0.858253 Loss: 0.418466 | Val Acc: 0.514276 loss: 1.561911\n",
            "Pseudo Labeling : 525\n",
            "[099/3000] Train Acc: 0.864117 Loss: 0.393064 | Val Acc: 0.559143 loss: 1.437690\n",
            "saving model with acc 0.559\n",
            "Pseudo Labeling : 550\n",
            "[100/3000] Train Acc: 0.865611 Loss: 0.392827 | Val Acc: 0.529572 loss: 1.468833\n",
            "Pseudo Labeling : 526\n",
            "[101/3000] Train Acc: 0.867871 Loss: 0.391725 | Val Acc: 0.548946 loss: 1.437899\n",
            "Pseudo Labeling : 510\n",
            "[102/3000] Train Acc: 0.870468 Loss: 0.388585 | Val Acc: 0.516315 loss: 1.525441\n",
            "Pseudo Labeling : 578\n",
            "[103/3000] Train Acc: 0.865835 Loss: 0.389478 | Val Acc: 0.539429 loss: 1.456993\n",
            "Pseudo Labeling : 463\n",
            "[104/3000] Train Acc: 0.870379 Loss: 0.380260 | Val Acc: 0.558124 loss: 1.401208\n",
            "Pseudo Labeling : 574\n",
            "[105/3000] Train Acc: 0.871302 Loss: 0.374068 | Val Acc: 0.542828 loss: 1.459770\n",
            "Pseudo Labeling : 551\n",
            "[106/3000] Train Acc: 0.873254 Loss: 0.373490 | Val Acc: 0.548606 loss: 1.441361\n",
            "Pseudo Labeling : 536\n",
            "[107/3000] Train Acc: 0.872693 Loss: 0.374014 | Val Acc: 0.520734 loss: 1.472953\n",
            "Pseudo Labeling : 562\n",
            "[108/3000] Train Acc: 0.868987 Loss: 0.377402 | Val Acc: 0.519035 loss: 1.470014\n",
            "Pseudo Labeling : 582\n",
            "[109/3000] Train Acc: 0.870981 Loss: 0.368532 | Val Acc: 0.538069 loss: 1.477630\n",
            "Pseudo Labeling : 594\n",
            "[110/3000] Train Acc: 0.871025 Loss: 0.373501 | Val Acc: 0.545547 loss: 1.458453\n",
            "Pseudo Labeling : 605\n",
            "[111/3000] Train Acc: 0.873727 Loss: 0.366473 | Val Acc: 0.547247 loss: 1.439888\n",
            "Pseudo Labeling : 569\n",
            "[112/3000] Train Acc: 0.871737 Loss: 0.371383 | Val Acc: 0.555744 loss: 1.431258\n",
            "Pseudo Labeling : 629\n",
            "[113/3000] Train Acc: 0.869130 Loss: 0.372006 | Val Acc: 0.537729 loss: 1.482815\n",
            "Pseudo Labeling : 616\n",
            "[114/3000] Train Acc: 0.871658 Loss: 0.367188 | Val Acc: 0.559483 loss: 1.405548\n",
            "saving model with acc 0.559\n",
            "Pseudo Labeling : 576\n",
            "[115/3000] Train Acc: 0.871566 Loss: 0.369104 | Val Acc: 0.565262 loss: 1.401768\n",
            "saving model with acc 0.565\n",
            "Pseudo Labeling : 565\n",
            "[116/3000] Train Acc: 0.870479 Loss: 0.372072 | Val Acc: 0.548606 loss: 1.448989\n",
            "Pseudo Labeling : 569\n",
            "[117/3000] Train Acc: 0.868980 Loss: 0.369830 | Val Acc: 0.547927 loss: 1.455442\n",
            "Pseudo Labeling : 618\n",
            "[118/3000] Train Acc: 0.878462 Loss: 0.359310 | Val Acc: 0.545547 loss: 1.429041\n",
            "Pseudo Labeling : 591\n",
            "[119/3000] Train Acc: 0.875445 Loss: 0.367312 | Val Acc: 0.555065 loss: 1.429484\n",
            "Pseudo Labeling : 587\n",
            "[120/3000] Train Acc: 0.878481 Loss: 0.362385 | Val Acc: 0.547927 loss: 1.444083\n",
            "Pseudo Labeling : 636\n",
            "[121/3000] Train Acc: 0.872591 Loss: 0.370490 | Val Acc: 0.535010 loss: 1.479817\n",
            "Pseudo Labeling : 568\n",
            "[122/3000] Train Acc: 0.869780 Loss: 0.365028 | Val Acc: 0.556424 loss: 1.413591\n",
            "Pseudo Labeling : 589\n",
            "[123/3000] Train Acc: 0.879068 Loss: 0.358816 | Val Acc: 0.528892 loss: 1.433016\n",
            "Pseudo Labeling : 560\n",
            "[124/3000] Train Acc: 0.872292 Loss: 0.366937 | Val Acc: 0.553365 loss: 1.442463\n",
            "Pseudo Labeling : 614\n",
            "[125/3000] Train Acc: 0.873899 Loss: 0.365835 | Val Acc: 0.534670 loss: 1.454151\n",
            "Pseudo Labeling : 612\n",
            "[126/3000] Train Acc: 0.876868 Loss: 0.361276 | Val Acc: 0.513596 loss: 1.469352\n",
            "Pseudo Labeling : 617\n",
            "[127/3000] Train Acc: 0.873930 Loss: 0.365668 | Val Acc: 0.570020 loss: 1.406301\n",
            "saving model with acc 0.570\n",
            "Pseudo Labeling : 625\n",
            "[128/3000] Train Acc: 0.878128 Loss: 0.358263 | Val Acc: 0.530931 loss: 1.476300\n",
            "Pseudo Labeling : 631\n",
            "[129/3000] Train Acc: 0.874234 Loss: 0.358863 | Val Acc: 0.552005 loss: 1.451112\n",
            "Pseudo Labeling : 617\n",
            "[130/3000] Train Acc: 0.878776 Loss: 0.358895 | Val Acc: 0.548606 loss: 1.446114\n",
            "Pseudo Labeling : 564\n",
            "[131/3000] Train Acc: 0.872820 Loss: 0.361255 | Val Acc: 0.574779 loss: 1.365677\n",
            "saving model with acc 0.575\n",
            "Pseudo Labeling : 610\n",
            "[132/3000] Train Acc: 0.878545 Loss: 0.359521 | Val Acc: 0.544528 loss: 1.450866\n",
            "Pseudo Labeling : 629\n",
            "[133/3000] Train Acc: 0.876230 Loss: 0.360732 | Val Acc: 0.545207 loss: 1.441209\n",
            "Pseudo Labeling : 633\n",
            "[134/3000] Train Acc: 0.876109 Loss: 0.359060 | Val Acc: 0.562542 loss: 1.401845\n",
            "Pseudo Labeling : 638\n",
            "[135/3000] Train Acc: 0.875917 Loss: 0.354105 | Val Acc: 0.532631 loss: 1.459936\n",
            "Pseudo Labeling : 582\n",
            "[136/3000] Train Acc: 0.871791 Loss: 0.361701 | Val Acc: 0.561523 loss: 1.410461\n",
            "Pseudo Labeling : 601\n",
            "[137/3000] Train Acc: 0.877891 Loss: 0.350853 | Val Acc: 0.538069 loss: 1.421855\n",
            "Pseudo Labeling : 581\n",
            "[138/3000] Train Acc: 0.870889 Loss: 0.364865 | Val Acc: 0.568661 loss: 1.386140\n",
            "Pseudo Labeling : 647\n",
            "[139/3000] Train Acc: 0.876732 Loss: 0.358287 | Val Acc: 0.564242 loss: 1.396371\n",
            "Pseudo Labeling : 665\n",
            "[140/3000] Train Acc: 0.881335 Loss: 0.358288 | Val Acc: 0.563222 loss: 1.425588\n",
            "Pseudo Labeling : 615\n",
            "[141/3000] Train Acc: 0.876656 Loss: 0.356849 | Val Acc: 0.583277 loss: 1.389655\n",
            "saving model with acc 0.583\n",
            "Pseudo Labeling : 628\n",
            "[142/3000] Train Acc: 0.874042 Loss: 0.363002 | Val Acc: 0.558464 loss: 1.416517\n",
            "Pseudo Labeling : 674\n",
            "[143/3000] Train Acc: 0.879653 Loss: 0.356698 | Val Acc: 0.582597 loss: 1.399732\n",
            "Pseudo Labeling : 630\n",
            "[144/3000] Train Acc: 0.874869 Loss: 0.353304 | Val Acc: 0.546227 loss: 1.427107\n",
            "Pseudo Labeling : 585\n",
            "[145/3000] Train Acc: 0.875789 Loss: 0.356950 | Val Acc: 0.538749 loss: 1.481745\n",
            "Pseudo Labeling : 620\n",
            "[146/3000] Train Acc: 0.878482 Loss: 0.358410 | Val Acc: 0.569001 loss: 1.413501\n",
            "Pseudo Labeling : 621\n",
            "[147/3000] Train Acc: 0.875666 Loss: 0.361886 | Val Acc: 0.520054 loss: 1.467794\n",
            "Pseudo Labeling : 649\n",
            "[148/3000] Train Acc: 0.875947 Loss: 0.352141 | Val Acc: 0.556424 loss: 1.433317\n",
            "Pseudo Labeling : 615\n",
            "[149/3000] Train Acc: 0.876171 Loss: 0.356991 | Val Acc: 0.575119 loss: 1.418467\n",
            "Pseudo Labeling : 669\n",
            "[150/3000] Train Acc: 0.877513 Loss: 0.358151 | Val Acc: 0.560843 loss: 1.444010\n",
            "Pseudo Labeling : 640\n",
            "[151/3000] Train Acc: 0.876098 Loss: 0.354235 | Val Acc: 0.589735 loss: 1.351093\n",
            "saving model with acc 0.590\n",
            "Pseudo Labeling : 621\n",
            "[152/3000] Train Acc: 0.877281 Loss: 0.361053 | Val Acc: 0.576139 loss: 1.418267\n",
            "Pseudo Labeling : 635\n",
            "[153/3000] Train Acc: 0.875968 Loss: 0.354059 | Val Acc: 0.578178 loss: 1.375135\n",
            "Pseudo Labeling : 640\n",
            "[154/3000] Train Acc: 0.876663 Loss: 0.354816 | Val Acc: 0.560163 loss: 1.471494\n",
            "Pseudo Labeling : 628\n",
            "[155/3000] Train Acc: 0.877431 Loss: 0.354863 | Val Acc: 0.566621 loss: 1.450034\n",
            "Pseudo Labeling : 621\n",
            "[156/3000] Train Acc: 0.881398 Loss: 0.349264 | Val Acc: 0.540789 loss: 1.464461\n",
            "Pseudo Labeling : 613\n",
            "[157/3000] Train Acc: 0.877686 Loss: 0.356199 | Val Acc: 0.555744 loss: 1.454911\n",
            "Pseudo Labeling : 598\n",
            "[158/3000] Train Acc: 0.877780 Loss: 0.355006 | Val Acc: 0.563222 loss: 1.426330\n",
            "Pseudo Labeling : 653\n",
            "[159/3000] Train Acc: 0.879530 Loss: 0.352100 | Val Acc: 0.581917 loss: 1.396135\n",
            "Pseudo Labeling : 681\n",
            "[160/3000] Train Acc: 0.877953 Loss: 0.354404 | Val Acc: 0.556084 loss: 1.461579\n",
            "Pseudo Labeling : 647\n",
            "[161/3000] Train Acc: 0.879391 Loss: 0.348418 | Val Acc: 0.591094 loss: 1.333323\n",
            "saving model with acc 0.591\n",
            "Pseudo Labeling : 640\n",
            "[162/3000] Train Acc: 0.876582 Loss: 0.355293 | Val Acc: 0.586336 loss: 1.395529\n",
            "Pseudo Labeling : 703\n",
            "[163/3000] Train Acc: 0.875281 Loss: 0.355245 | Val Acc: 0.572400 loss: 1.379203\n",
            "Pseudo Labeling : 594\n",
            "[164/3000] Train Acc: 0.880249 Loss: 0.351664 | Val Acc: 0.565602 loss: 1.415570\n",
            "Pseudo Labeling : 623\n",
            "[165/3000] Train Acc: 0.874152 Loss: 0.356596 | Val Acc: 0.568661 loss: 1.439988\n",
            "Pseudo Labeling : 647\n",
            "[166/3000] Train Acc: 0.876249 Loss: 0.353083 | Val Acc: 0.563562 loss: 1.410887\n",
            "Pseudo Labeling : 623\n",
            "[167/3000] Train Acc: 0.880449 Loss: 0.348997 | Val Acc: 0.565942 loss: 1.423597\n",
            "Pseudo Labeling : 622\n",
            "[168/3000] Train Acc: 0.878986 Loss: 0.355000 | Val Acc: 0.558804 loss: 1.448055\n",
            "Pseudo Labeling : 635\n",
            "[169/3000] Train Acc: 0.879274 Loss: 0.348462 | Val Acc: 0.555065 loss: 1.452621\n",
            "Pseudo Labeling : 661\n",
            "[170/3000] Train Acc: 0.877595 Loss: 0.353546 | Val Acc: 0.573080 loss: 1.448239\n",
            "Pseudo Labeling : 668\n",
            "[171/3000] Train Acc: 0.880077 Loss: 0.350945 | Val Acc: 0.567981 loss: 1.389557\n",
            "Pseudo Labeling : 615\n",
            "[172/3000] Train Acc: 0.877141 Loss: 0.358422 | Val Acc: 0.553705 loss: 1.440587\n",
            "Pseudo Labeling : 672\n",
            "[173/3000] Train Acc: 0.879312 Loss: 0.353361 | Val Acc: 0.575459 loss: 1.386107\n",
            "Pseudo Labeling : 635\n",
            "[174/3000] Train Acc: 0.875242 Loss: 0.357089 | Val Acc: 0.580557 loss: 1.374609\n",
            "Pseudo Labeling : 632\n",
            "[175/3000] Train Acc: 0.876341 Loss: 0.350214 | Val Acc: 0.572740 loss: 1.415726\n",
            "Pseudo Labeling : 643\n",
            "[176/3000] Train Acc: 0.876289 Loss: 0.352048 | Val Acc: 0.556084 loss: 1.429837\n",
            "Pseudo Labeling : 626\n",
            "[177/3000] Train Acc: 0.878622 Loss: 0.351208 | Val Acc: 0.594833 loss: 1.406818\n",
            "saving model with acc 0.595\n",
            "Pseudo Labeling : 700\n",
            "[178/3000] Train Acc: 0.877016 Loss: 0.353633 | Val Acc: 0.581237 loss: 1.366493\n",
            "Pseudo Labeling : 649\n",
            "[179/3000] Train Acc: 0.877719 Loss: 0.349067 | Val Acc: 0.557784 loss: 1.435115\n",
            "Pseudo Labeling : 677\n",
            "[180/3000] Train Acc: 0.880566 Loss: 0.343895 | Val Acc: 0.557444 loss: 1.427788\n",
            "Pseudo Labeling : 684\n",
            "[181/3000] Train Acc: 0.881918 Loss: 0.349823 | Val Acc: 0.569001 loss: 1.404887\n",
            "Pseudo Labeling : 641\n",
            "[182/3000] Train Acc: 0.878527 Loss: 0.345483 | Val Acc: 0.584976 loss: 1.388594\n",
            "Pseudo Labeling : 646\n",
            "[183/3000] Train Acc: 0.878173 Loss: 0.346579 | Val Acc: 0.574779 loss: 1.366137\n",
            "Pseudo Labeling : 642\n",
            "[184/3000] Train Acc: 0.877166 Loss: 0.348519 | Val Acc: 0.542828 loss: 1.454315\n",
            "Pseudo Labeling : 638\n",
            "[185/3000] Train Acc: 0.877449 Loss: 0.351243 | Val Acc: 0.576479 loss: 1.415307\n",
            "Pseudo Labeling : 664\n",
            "[186/3000] Train Acc: 0.880441 Loss: 0.352354 | Val Acc: 0.570360 loss: 1.445164\n",
            "Pseudo Labeling : 694\n",
            "[187/3000] Train Acc: 0.878642 Loss: 0.351113 | Val Acc: 0.576139 loss: 1.435163\n",
            "Pseudo Labeling : 640\n",
            "[188/3000] Train Acc: 0.878194 Loss: 0.346384 | Val Acc: 0.540449 loss: 1.486786\n",
            "Pseudo Labeling : 610\n",
            "[189/3000] Train Acc: 0.879434 Loss: 0.352137 | Val Acc: 0.590755 loss: 1.351392\n",
            "Pseudo Labeling : 650\n",
            "[190/3000] Train Acc: 0.877487 Loss: 0.349757 | Val Acc: 0.578858 loss: 1.420300\n",
            "Pseudo Labeling : 641\n",
            "[191/3000] Train Acc: 0.879010 Loss: 0.351672 | Val Acc: 0.573759 loss: 1.415081\n",
            "Pseudo Labeling : 659\n",
            "[192/3000] Train Acc: 0.877495 Loss: 0.356352 | Val Acc: 0.564582 loss: 1.398556\n",
            "Pseudo Labeling : 647\n",
            "[193/3000] Train Acc: 0.877377 Loss: 0.347506 | Val Acc: 0.564922 loss: 1.407724\n",
            "Pseudo Labeling : 635\n",
            "[194/3000] Train Acc: 0.875323 Loss: 0.350382 | Val Acc: 0.585996 loss: 1.381873\n",
            "Pseudo Labeling : 641\n",
            "[195/3000] Train Acc: 0.878123 Loss: 0.343587 | Val Acc: 0.573419 loss: 1.457651\n",
            "Pseudo Labeling : 654\n",
            "[196/3000] Train Acc: 0.884854 Loss: 0.343412 | Val Acc: 0.555744 loss: 1.460658\n",
            "Pseudo Labeling : 695\n",
            "[197/3000] Train Acc: 0.882183 Loss: 0.341988 | Val Acc: 0.556084 loss: 1.440537\n",
            "Pseudo Labeling : 651\n",
            "[198/3000] Train Acc: 0.882893 Loss: 0.343563 | Val Acc: 0.576139 loss: 1.419409\n",
            "Pseudo Labeling : 687\n",
            "[199/3000] Train Acc: 0.879859 Loss: 0.339681 | Val Acc: 0.593474 loss: 1.357399\n",
            "Pseudo Labeling : 653\n",
            "[200/3000] Train Acc: 0.881785 Loss: 0.345034 | Val Acc: 0.574099 loss: 1.404119\n",
            "Pseudo Labeling : 645\n",
            "[201/3000] Train Acc: 0.875665 Loss: 0.351543 | Val Acc: 0.551666 loss: 1.450751\n",
            "Pseudo Labeling : 641\n",
            "[202/3000] Train Acc: 0.878446 Loss: 0.346301 | Val Acc: 0.562882 loss: 1.434721\n",
            "Pseudo Labeling : 668\n",
            "[203/3000] Train Acc: 0.883294 Loss: 0.339647 | Val Acc: 0.576818 loss: 1.394160\n",
            "Pseudo Labeling : 644\n",
            "[204/3000] Train Acc: 0.882505 Loss: 0.343127 | Val Acc: 0.563902 loss: 1.376371\n",
            "Pseudo Labeling : 626\n",
            "[205/3000] Train Acc: 0.877976 Loss: 0.346518 | Val Acc: 0.564242 loss: 1.424932\n",
            "Pseudo Labeling : 647\n",
            "[206/3000] Train Acc: 0.880035 Loss: 0.337404 | Val Acc: 0.587695 loss: 1.397958\n",
            "Pseudo Labeling : 645\n",
            "[207/3000] Train Acc: 0.875907 Loss: 0.344903 | Val Acc: 0.580557 loss: 1.418475\n",
            "Pseudo Labeling : 637\n",
            "[208/3000] Train Acc: 0.883567 Loss: 0.340860 | Val Acc: 0.572400 loss: 1.422545\n",
            "Pseudo Labeling : 692\n",
            "[209/3000] Train Acc: 0.881272 Loss: 0.344393 | Val Acc: 0.574439 loss: 1.384597\n",
            "Pseudo Labeling : 673\n",
            "[210/3000] Train Acc: 0.882618 Loss: 0.343759 | Val Acc: 0.574779 loss: 1.415865\n",
            "Pseudo Labeling : 678\n",
            "[211/3000] Train Acc: 0.882263 Loss: 0.339117 | Val Acc: 0.574099 loss: 1.412477\n",
            "Pseudo Labeling : 630\n",
            "[212/3000] Train Acc: 0.879548 Loss: 0.340592 | Val Acc: 0.576479 loss: 1.438441\n",
            "Pseudo Labeling : 626\n",
            "[213/3000] Train Acc: 0.885078 Loss: 0.335949 | Val Acc: 0.578518 loss: 1.375085\n",
            "Pseudo Labeling : 665\n",
            "[214/3000] Train Acc: 0.880451 Loss: 0.344377 | Val Acc: 0.577158 loss: 1.400390\n",
            "Pseudo Labeling : 668\n",
            "[215/3000] Train Acc: 0.884179 Loss: 0.338091 | Val Acc: 0.545547 loss: 1.444507\n",
            "Pseudo Labeling : 664\n",
            "[216/3000] Train Acc: 0.883176 Loss: 0.339441 | Val Acc: 0.577158 loss: 1.401259\n",
            "Pseudo Labeling : 685\n",
            "[217/3000] Train Acc: 0.882088 Loss: 0.342111 | Val Acc: 0.567641 loss: 1.407685\n",
            "Pseudo Labeling : 670\n",
            "[218/3000] Train Acc: 0.883796 Loss: 0.340068 | Val Acc: 0.585656 loss: 1.398711\n",
            "Pseudo Labeling : 658\n",
            "[219/3000] Train Acc: 0.887306 Loss: 0.340684 | Val Acc: 0.561183 loss: 1.418746\n",
            "Pseudo Labeling : 614\n",
            "[220/3000] Train Acc: 0.881978 Loss: 0.337569 | Val Acc: 0.589395 loss: 1.369305\n",
            "Pseudo Labeling : 671\n",
            "[221/3000] Train Acc: 0.883403 Loss: 0.340357 | Val Acc: 0.573419 loss: 1.398696\n",
            "Pseudo Labeling : 708\n",
            "[222/3000] Train Acc: 0.878618 Loss: 0.343721 | Val Acc: 0.550986 loss: 1.457678\n",
            "Pseudo Labeling : 665\n",
            "[223/3000] Train Acc: 0.880451 Loss: 0.348139 | Val Acc: 0.589055 loss: 1.404792\n",
            "Pseudo Labeling : 672\n",
            "[224/3000] Train Acc: 0.886066 Loss: 0.338010 | Val Acc: 0.570360 loss: 1.418942\n",
            "Pseudo Labeling : 656\n",
            "[225/3000] Train Acc: 0.884631 Loss: 0.342895 | Val Acc: 0.550646 loss: 1.437796\n",
            "Pseudo Labeling : 659\n",
            "[226/3000] Train Acc: 0.883854 Loss: 0.343140 | Val Acc: 0.565262 loss: 1.417458\n",
            "Pseudo Labeling : 680\n",
            "[227/3000] Train Acc: 0.881237 Loss: 0.346032 | Val Acc: 0.549626 loss: 1.443885\n",
            "Pseudo Labeling : 668\n",
            "[228/3000] Train Acc: 0.882892 Loss: 0.339044 | Val Acc: 0.579878 loss: 1.391258\n",
            "Pseudo Labeling : 664\n",
            "[229/3000] Train Acc: 0.884625 Loss: 0.339382 | Val Acc: 0.565602 loss: 1.424633\n",
            "Pseudo Labeling : 660\n",
            "[230/3000] Train Acc: 0.883219 Loss: 0.340926 | Val Acc: 0.583956 loss: 1.396527\n",
            "Pseudo Labeling : 676\n",
            "[231/3000] Train Acc: 0.885299 Loss: 0.338906 | Val Acc: 0.579538 loss: 1.417509\n",
            "Pseudo Labeling : 694\n",
            "[232/3000] Train Acc: 0.881692 Loss: 0.338716 | Val Acc: 0.566961 loss: 1.423458\n",
            "Pseudo Labeling : 695\n",
            "[233/3000] Train Acc: 0.880337 Loss: 0.338431 | Val Acc: 0.577158 loss: 1.389234\n",
            "Pseudo Labeling : 613\n",
            "[234/3000] Train Acc: 0.879544 Loss: 0.340574 | Val Acc: 0.558804 loss: 1.441643\n",
            "Pseudo Labeling : 626\n",
            "[235/3000] Train Acc: 0.883625 Loss: 0.338357 | Val Acc: 0.584976 loss: 1.381564\n",
            "Pseudo Labeling : 711\n",
            "[236/3000] Train Acc: 0.880090 Loss: 0.343527 | Val Acc: 0.573419 loss: 1.428714\n",
            "Pseudo Labeling : 640\n",
            "[237/3000] Train Acc: 0.877227 Loss: 0.346706 | Val Acc: 0.564242 loss: 1.422982\n",
            "Pseudo Labeling : 668\n",
            "[238/3000] Train Acc: 0.882812 Loss: 0.346274 | Val Acc: 0.584636 loss: 1.410090\n",
            "Pseudo Labeling : 675\n",
            "[239/3000] Train Acc: 0.884486 Loss: 0.340846 | Val Acc: 0.566621 loss: 1.440152\n",
            "Pseudo Labeling : 697\n",
            "[240/3000] Train Acc: 0.881399 Loss: 0.339959 | Val Acc: 0.570020 loss: 1.444793\n",
            "Pseudo Labeling : 663\n",
            "[241/3000] Train Acc: 0.885500 Loss: 0.339161 | Val Acc: 0.596873 loss: 1.365877\n",
            "saving model with acc 0.597\n",
            "Pseudo Labeling : 656\n",
            "[242/3000] Train Acc: 0.883745 Loss: 0.346123 | Val Acc: 0.578518 loss: 1.395720\n",
            "Pseudo Labeling : 667\n",
            "[243/3000] Train Acc: 0.884170 Loss: 0.340426 | Val Acc: 0.582937 loss: 1.417004\n",
            "Pseudo Labeling : 659\n",
            "[244/3000] Train Acc: 0.883693 Loss: 0.338629 | Val Acc: 0.553705 loss: 1.464160\n",
            "Pseudo Labeling : 671\n",
            "[245/3000] Train Acc: 0.885252 Loss: 0.336901 | Val Acc: 0.593134 loss: 1.378642\n",
            "Pseudo Labeling : 651\n",
            "[246/3000] Train Acc: 0.883054 Loss: 0.339983 | Val Acc: 0.569680 loss: 1.425609\n",
            "Pseudo Labeling : 679\n",
            "[247/3000] Train Acc: 0.881308 Loss: 0.343672 | Val Acc: 0.570700 loss: 1.431333\n",
            "Pseudo Labeling : 678\n",
            "[248/3000] Train Acc: 0.883308 Loss: 0.340199 | Val Acc: 0.567301 loss: 1.432950\n",
            "Pseudo Labeling : 651\n",
            "[249/3000] Train Acc: 0.882651 Loss: 0.339371 | Val Acc: 0.563222 loss: 1.440314\n",
            "Pseudo Labeling : 643\n",
            "[250/3000] Train Acc: 0.881689 Loss: 0.338578 | Val Acc: 0.549626 loss: 1.437922\n",
            "Pseudo Labeling : 687\n",
            "[251/3000] Train Acc: 0.878333 Loss: 0.344692 | Val Acc: 0.549286 loss: 1.448987\n",
            "Pseudo Labeling : 644\n",
            "[252/3000] Train Acc: 0.878556 Loss: 0.342870 | Val Acc: 0.561523 loss: 1.443443\n",
            "Pseudo Labeling : 685\n",
            "[253/3000] Train Acc: 0.882249 Loss: 0.344918 | Val Acc: 0.582597 loss: 1.391590\n",
            "Pseudo Labeling : 664\n",
            "[254/3000] Train Acc: 0.881648 Loss: 0.342106 | Val Acc: 0.565602 loss: 1.426791\n",
            "Pseudo Labeling : 670\n",
            "[255/3000] Train Acc: 0.885645 Loss: 0.338168 | Val Acc: 0.592114 loss: 1.351020\n",
            "Pseudo Labeling : 695\n",
            "[256/3000] Train Acc: 0.882424 Loss: 0.341819 | Val Acc: 0.570700 loss: 1.410288\n",
            "Pseudo Labeling : 655\n",
            "[257/3000] Train Acc: 0.886634 Loss: 0.337791 | Val Acc: 0.585656 loss: 1.392779\n",
            "Pseudo Labeling : 675\n",
            "[258/3000] Train Acc: 0.883360 Loss: 0.338990 | Val Acc: 0.569341 loss: 1.401877\n",
            "Pseudo Labeling : 658\n",
            "[259/3000] Train Acc: 0.882396 Loss: 0.342932 | Val Acc: 0.571040 loss: 1.389935\n",
            "Pseudo Labeling : 687\n",
            "[260/3000] Train Acc: 0.883071 Loss: 0.338780 | Val Acc: 0.581237 loss: 1.377871\n",
            "Pseudo Labeling : 633\n",
            "[261/3000] Train Acc: 0.876512 Loss: 0.348983 | Val Acc: 0.592454 loss: 1.386852\n",
            "Pseudo Labeling : 667\n",
            "[262/3000] Train Acc: 0.882722 Loss: 0.343880 | Val Acc: 0.573080 loss: 1.398212\n",
            "Pseudo Labeling : 686\n",
            "[263/3000] Train Acc: 0.884025 Loss: 0.338508 | Val Acc: 0.582937 loss: 1.388297\n",
            "Pseudo Labeling : 671\n",
            "[264/3000] Train Acc: 0.882277 Loss: 0.346669 | Val Acc: 0.582597 loss: 1.395059\n",
            "Pseudo Labeling : 671\n",
            "[265/3000] Train Acc: 0.883885 Loss: 0.336290 | Val Acc: 0.563222 loss: 1.420980\n",
            "Pseudo Labeling : 657\n",
            "[266/3000] Train Acc: 0.882467 Loss: 0.340061 | Val Acc: 0.579538 loss: 1.390206\n",
            "Pseudo Labeling : 669\n",
            "[267/3000] Train Acc: 0.883545 Loss: 0.340001 | Val Acc: 0.555404 loss: 1.421875\n",
            "Pseudo Labeling : 636\n",
            "[268/3000] Train Acc: 0.881622 Loss: 0.344157 | Val Acc: 0.581577 loss: 1.382657\n",
            "Pseudo Labeling : 668\n",
            "[269/3000] Train Acc: 0.882571 Loss: 0.339074 | Val Acc: 0.591434 loss: 1.372676\n",
            "Pseudo Labeling : 679\n",
            "[270/3000] Train Acc: 0.884041 Loss: 0.334517 | Val Acc: 0.578178 loss: 1.386551\n",
            "Pseudo Labeling : 660\n",
            "[271/3000] Train Acc: 0.883622 Loss: 0.340245 | Val Acc: 0.550306 loss: 1.444889\n",
            "Pseudo Labeling : 674\n",
            "[272/3000] Train Acc: 0.885200 Loss: 0.338517 | Val Acc: 0.576818 loss: 1.392969\n",
            "Pseudo Labeling : 689\n",
            "[273/3000] Train Acc: 0.880360 Loss: 0.341955 | Val Acc: 0.581237 loss: 1.395629\n",
            "Pseudo Labeling : 676\n",
            "[274/3000] Train Acc: 0.882164 Loss: 0.339698 | Val Acc: 0.583277 loss: 1.398880\n",
            "Pseudo Labeling : 659\n",
            "[275/3000] Train Acc: 0.884659 Loss: 0.337633 | Val Acc: 0.566281 loss: 1.405754\n",
            "Pseudo Labeling : 666\n",
            "[276/3000] Train Acc: 0.883517 Loss: 0.337563 | Val Acc: 0.588715 loss: 1.382247\n",
            "Pseudo Labeling : 632\n",
            "[277/3000] Train Acc: 0.882472 Loss: 0.336966 | Val Acc: 0.593814 loss: 1.372982\n",
            "Pseudo Labeling : 686\n",
            "[278/3000] Train Acc: 0.881134 Loss: 0.341743 | Val Acc: 0.560843 loss: 1.436974\n",
            "Pseudo Labeling : 703\n",
            "[279/3000] Train Acc: 0.884103 Loss: 0.330573 | Val Acc: 0.564582 loss: 1.421388\n",
            "Pseudo Labeling : 659\n",
            "[280/3000] Train Acc: 0.885383 Loss: 0.337931 | Val Acc: 0.599252 loss: 1.354923\n",
            "saving model with acc 0.599\n",
            "Pseudo Labeling : 679\n",
            "[281/3000] Train Acc: 0.880264 Loss: 0.343743 | Val Acc: 0.572400 loss: 1.411605\n",
            "Pseudo Labeling : 653\n",
            "[282/3000] Train Acc: 0.881865 Loss: 0.343119 | Val Acc: 0.570700 loss: 1.390283\n",
            "Pseudo Labeling : 702\n",
            "[283/3000] Train Acc: 0.883051 Loss: 0.333346 | Val Acc: 0.570700 loss: 1.440932\n",
            "Pseudo Labeling : 683\n",
            "[284/3000] Train Acc: 0.881346 Loss: 0.336952 | Val Acc: 0.567301 loss: 1.406303\n",
            "Pseudo Labeling : 671\n",
            "[285/3000] Train Acc: 0.882518 Loss: 0.338514 | Val Acc: 0.576818 loss: 1.397881\n",
            "Pseudo Labeling : 713\n",
            "[286/3000] Train Acc: 0.881071 Loss: 0.340912 | Val Acc: 0.579878 loss: 1.364927\n",
            "Pseudo Labeling : 648\n",
            "[287/3000] Train Acc: 0.882865 Loss: 0.336137 | Val Acc: 0.587356 loss: 1.400892\n",
            "Pseudo Labeling : 701\n",
            "[288/3000] Train Acc: 0.879512 Loss: 0.340968 | Val Acc: 0.566281 loss: 1.426873\n",
            "Pseudo Labeling : 670\n",
            "[289/3000] Train Acc: 0.882348 Loss: 0.341760 | Val Acc: 0.571720 loss: 1.426633\n",
            "Pseudo Labeling : 687\n",
            "[290/3000] Train Acc: 0.882910 Loss: 0.338362 | Val Acc: 0.594154 loss: 1.352970\n",
            "Pseudo Labeling : 654\n",
            "[291/3000] Train Acc: 0.886384 Loss: 0.340163 | Val Acc: 0.578178 loss: 1.395110\n",
            "Pseudo Labeling : 644\n",
            "[292/3000] Train Acc: 0.881215 Loss: 0.337295 | Val Acc: 0.591434 loss: 1.401599\n",
            "Pseudo Labeling : 663\n",
            "[293/3000] Train Acc: 0.886386 Loss: 0.335527 | Val Acc: 0.578178 loss: 1.425176\n",
            "Pseudo Labeling : 679\n",
            "[294/3000] Train Acc: 0.882514 Loss: 0.338697 | Val Acc: 0.586676 loss: 1.384533\n",
            "Pseudo Labeling : 679\n",
            "[295/3000] Train Acc: 0.883558 Loss: 0.343273 | Val Acc: 0.570360 loss: 1.406811\n",
            "Pseudo Labeling : 634\n",
            "[296/3000] Train Acc: 0.880071 Loss: 0.336331 | Val Acc: 0.571380 loss: 1.400973\n",
            "Pseudo Labeling : 668\n",
            "[297/3000] Train Acc: 0.882892 Loss: 0.342146 | Val Acc: 0.570700 loss: 1.441279\n",
            "Pseudo Labeling : 687\n",
            "[298/3000] Train Acc: 0.881304 Loss: 0.339338 | Val Acc: 0.570020 loss: 1.429651\n",
            "Pseudo Labeling : 643\n",
            "[299/3000] Train Acc: 0.881689 Loss: 0.342950 | Val Acc: 0.564922 loss: 1.411470\n",
            "Pseudo Labeling : 685\n",
            "[300/3000] Train Acc: 0.882731 Loss: 0.339301 | Val Acc: 0.574779 loss: 1.417440\n",
            "Pseudo Labeling : 649\n",
            "[301/3000] Train Acc: 0.881746 Loss: 0.338346 | Val Acc: 0.588035 loss: 1.389919\n",
            "Pseudo Labeling : 657\n",
            "[302/3000] Train Acc: 0.883433 Loss: 0.339296 | Val Acc: 0.588715 loss: 1.354354\n",
            "Pseudo Labeling : 644\n",
            "[303/3000] Train Acc: 0.882182 Loss: 0.339041 | Val Acc: 0.552345 loss: 1.410080\n",
            "Pseudo Labeling : 648\n",
            "[304/3000] Train Acc: 0.880609 Loss: 0.339917 | Val Acc: 0.580897 loss: 1.402896\n",
            "Pseudo Labeling : 652\n",
            "[305/3000] Train Acc: 0.882258 Loss: 0.344555 | Val Acc: 0.584976 loss: 1.397230\n",
            "Pseudo Labeling : 665\n",
            "[306/3000] Train Acc: 0.884714 Loss: 0.339584 | Val Acc: 0.581577 loss: 1.391294\n",
            "Pseudo Labeling : 636\n",
            "[307/3000] Train Acc: 0.880816 Loss: 0.341937 | Val Acc: 0.564582 loss: 1.421471\n",
            "Pseudo Labeling : 692\n",
            "[308/3000] Train Acc: 0.881593 Loss: 0.344539 | Val Acc: 0.576479 loss: 1.413752\n",
            "Pseudo Labeling : 677\n",
            "[309/3000] Train Acc: 0.886594 Loss: 0.338157 | Val Acc: 0.571720 loss: 1.401313\n",
            "Pseudo Labeling : 656\n",
            "[310/3000] Train Acc: 0.882377 Loss: 0.340675 | Val Acc: 0.596533 loss: 1.361958\n",
            "Pseudo Labeling : 659\n",
            "[311/3000] Train Acc: 0.884900 Loss: 0.341538 | Val Acc: 0.573419 loss: 1.435831\n",
            "Pseudo Labeling : 684\n",
            "[312/3000] Train Acc: 0.879428 Loss: 0.340200 | Val Acc: 0.580218 loss: 1.391553\n",
            "Pseudo Labeling : 664\n",
            "[313/3000] Train Acc: 0.881648 Loss: 0.339840 | Val Acc: 0.562882 loss: 1.423496\n",
            "Pseudo Labeling : 666\n",
            "[314/3000] Train Acc: 0.885528 Loss: 0.341091 | Val Acc: 0.540449 loss: 1.459407\n",
            "Pseudo Labeling : 644\n",
            "[315/3000] Train Acc: 0.880409 Loss: 0.338202 | Val Acc: 0.574099 loss: 1.401683\n",
            "Pseudo Labeling : 701\n",
            "[316/3000] Train Acc: 0.882561 Loss: 0.339368 | Val Acc: 0.589055 loss: 1.371196\n",
            "Pseudo Labeling : 661\n",
            "[317/3000] Train Acc: 0.879527 Loss: 0.348293 | Val Acc: 0.584636 loss: 1.404116\n",
            "Pseudo Labeling : 686\n",
            "[318/3000] Train Acc: 0.882981 Loss: 0.343579 | Val Acc: 0.568661 loss: 1.430698\n",
            "Pseudo Labeling : 727\n",
            "[319/3000] Train Acc: 0.885927 Loss: 0.333000 | Val Acc: 0.587356 loss: 1.392166\n",
            "Pseudo Labeling : 687\n",
            "[320/3000] Train Acc: 0.880742 Loss: 0.342134 | Val Acc: 0.566281 loss: 1.410912\n",
            "Pseudo Labeling : 676\n",
            "[321/3000] Train Acc: 0.886987 Loss: 0.337347 | Val Acc: 0.585656 loss: 1.393856\n",
            "Pseudo Labeling : 679\n",
            "[322/3000] Train Acc: 0.881790 Loss: 0.342107 | Val Acc: 0.587695 loss: 1.370127\n",
            "Pseudo Labeling : 666\n",
            "[323/3000] Train Acc: 0.883195 Loss: 0.341659 | Val Acc: 0.575799 loss: 1.381779\n",
            "Pseudo Labeling : 701\n",
            "[324/3000] Train Acc: 0.883523 Loss: 0.339557 | Val Acc: 0.563902 loss: 1.418538\n",
            "Pseudo Labeling : 669\n",
            "[325/3000] Train Acc: 0.885797 Loss: 0.335541 | Val Acc: 0.595173 loss: 1.365972\n",
            "Pseudo Labeling : 649\n",
            "[326/3000] Train Acc: 0.880377 Loss: 0.338617 | Val Acc: 0.578518 loss: 1.414119\n",
            "Pseudo Labeling : 635\n",
            "[327/3000] Train Acc: 0.882661 Loss: 0.341874 | Val Acc: 0.583956 loss: 1.375465\n",
            "Pseudo Labeling : 693\n",
            "[328/3000] Train Acc: 0.879435 Loss: 0.343678 | Val Acc: 0.577158 loss: 1.410474\n",
            "Pseudo Labeling : 681\n",
            "[329/3000] Train Acc: 0.880604 Loss: 0.337192 | Val Acc: 0.557104 loss: 1.415495\n",
            "Pseudo Labeling : 635\n",
            "[330/3000] Train Acc: 0.882500 Loss: 0.334289 | Val Acc: 0.561523 loss: 1.442950\n",
            "Pseudo Labeling : 699\n",
            "[331/3000] Train Acc: 0.884066 Loss: 0.338917 | Val Acc: 0.586676 loss: 1.388093\n",
            "Pseudo Labeling : 650\n",
            "[332/3000] Train Acc: 0.876762 Loss: 0.341801 | Val Acc: 0.569001 loss: 1.435851\n",
            "Pseudo Labeling : 666\n",
            "[333/3000] Train Acc: 0.880299 Loss: 0.343498 | Val Acc: 0.580897 loss: 1.395695\n",
            "Pseudo Labeling : 686\n",
            "[334/3000] Train Acc: 0.884588 Loss: 0.336255 | Val Acc: 0.571380 loss: 1.414234\n",
            "Pseudo Labeling : 645\n",
            "[335/3000] Train Acc: 0.880419 Loss: 0.337610 | Val Acc: 0.573080 loss: 1.417991\n",
            "Pseudo Labeling : 672\n",
            "[336/3000] Train Acc: 0.882528 Loss: 0.339178 | Val Acc: 0.569341 loss: 1.455376\n",
            "Pseudo Labeling : 656\n",
            "[337/3000] Train Acc: 0.884711 Loss: 0.338527 | Val Acc: 0.562882 loss: 1.431971\n",
            "Pseudo Labeling : 713\n",
            "[338/3000] Train Acc: 0.882834 Loss: 0.335895 | Val Acc: 0.565262 loss: 1.411209\n",
            "Pseudo Labeling : 652\n",
            "[339/3000] Train Acc: 0.882500 Loss: 0.339012 | Val Acc: 0.583277 loss: 1.388835\n",
            "Pseudo Labeling : 662\n",
            "[340/3000] Train Acc: 0.885733 Loss: 0.338290 | Val Acc: 0.573419 loss: 1.402056\n",
            "Pseudo Labeling : 634\n",
            "[341/3000] Train Acc: 0.879668 Loss: 0.342172 | Val Acc: 0.568321 loss: 1.426250\n",
            "Pseudo Labeling : 711\n",
            "[342/3000] Train Acc: 0.880410 Loss: 0.340732 | Val Acc: 0.553365 loss: 1.460121\n",
            "Pseudo Labeling : 665\n",
            "[343/3000] Train Acc: 0.886887 Loss: 0.335248 | Val Acc: 0.591094 loss: 1.376111\n",
            "Pseudo Labeling : 670\n",
            "[344/3000] Train Acc: 0.882831 Loss: 0.342709 | Val Acc: 0.542828 loss: 1.437017\n",
            "Pseudo Labeling : 638\n",
            "[345/3000] Train Acc: 0.880513 Loss: 0.341790 | Val Acc: 0.565942 loss: 1.440696\n",
            "Pseudo Labeling : 690\n",
            "[346/3000] Train Acc: 0.881734 Loss: 0.336973 | Val Acc: 0.576818 loss: 1.410198\n",
            "Pseudo Labeling : 631\n",
            "[347/3000] Train Acc: 0.881171 Loss: 0.344062 | Val Acc: 0.583277 loss: 1.384354\n",
            "Pseudo Labeling : 639\n",
            "[348/3000] Train Acc: 0.883505 Loss: 0.335263 | Val Acc: 0.549966 loss: 1.451051\n",
            "Pseudo Labeling : 662\n",
            "[349/3000] Train Acc: 0.882353 Loss: 0.336743 | Val Acc: 0.577498 loss: 1.399661\n",
            "Pseudo Labeling : 715\n",
            "[350/3000] Train Acc: 0.881891 Loss: 0.344222 | Val Acc: 0.593814 loss: 1.367131\n",
            "Pseudo Labeling : 628\n",
            "[351/3000] Train Acc: 0.883241 Loss: 0.330598 | Val Acc: 0.584636 loss: 1.369107\n",
            "Pseudo Labeling : 666\n",
            "[352/3000] Train Acc: 0.886574 Loss: 0.336271 | Val Acc: 0.582257 loss: 1.394553\n",
            "Pseudo Labeling : 677\n",
            "[353/3000] Train Acc: 0.879923 Loss: 0.340713 | Val Acc: 0.580557 loss: 1.406791\n",
            "Pseudo Labeling : 651\n",
            "[354/3000] Train Acc: 0.886517 Loss: 0.333172 | Val Acc: 0.591774 loss: 1.359703\n",
            "Pseudo Labeling : 673\n",
            "[355/3000] Train Acc: 0.886477 Loss: 0.334501 | Val Acc: 0.572060 loss: 1.392679\n",
            "Pseudo Labeling : 646\n",
            "[356/3000] Train Acc: 0.877931 Loss: 0.343544 | Val Acc: 0.570700 loss: 1.452007\n",
            "Pseudo Labeling : 656\n",
            "[357/3000] Train Acc: 0.881411 Loss: 0.340392 | Val Acc: 0.581917 loss: 1.384369\n",
            "Pseudo Labeling : 659\n",
            "[358/3000] Train Acc: 0.885222 Loss: 0.342197 | Val Acc: 0.578518 loss: 1.391995\n",
            "Pseudo Labeling : 654\n",
            "[359/3000] Train Acc: 0.886384 Loss: 0.338660 | Val Acc: 0.591774 loss: 1.376029\n",
            "Pseudo Labeling : 681\n",
            "[360/3000] Train Acc: 0.879399 Loss: 0.346003 | Val Acc: 0.580557 loss: 1.413626\n",
            "Pseudo Labeling : 660\n",
            "[361/3000] Train Acc: 0.882093 Loss: 0.339281 | Val Acc: 0.556424 loss: 1.404044\n",
            "Pseudo Labeling : 641\n",
            "[362/3000] Train Acc: 0.880380 Loss: 0.342852 | Val Acc: 0.580218 loss: 1.379005\n",
            "Pseudo Labeling : 684\n",
            "[363/3000] Train Acc: 0.882320 Loss: 0.338106 | Val Acc: 0.577838 loss: 1.422944\n",
            "Pseudo Labeling : 687\n",
            "[364/3000] Train Acc: 0.883713 Loss: 0.333824 | Val Acc: 0.571380 loss: 1.415852\n",
            "Pseudo Labeling : 650\n",
            "[365/3000] Train Acc: 0.879742 Loss: 0.340536 | Val Acc: 0.569341 loss: 1.390859\n",
            "Pseudo Labeling : 656\n",
            "[366/3000] Train Acc: 0.882940 Loss: 0.341405 | Val Acc: 0.562203 loss: 1.412459\n",
            "Pseudo Labeling : 641\n",
            "[367/3000] Train Acc: 0.880219 Loss: 0.337784 | Val Acc: 0.583617 loss: 1.411492\n",
            "Pseudo Labeling : 687\n",
            "[368/3000] Train Acc: 0.880983 Loss: 0.339886 | Val Acc: 0.566961 loss: 1.390395\n",
            "Pseudo Labeling : 687\n",
            "[369/3000] Train Acc: 0.880742 Loss: 0.342026 | Val Acc: 0.563562 loss: 1.393848\n",
            "Pseudo Labeling : 660\n",
            "[370/3000] Train Acc: 0.883622 Loss: 0.337897 | Val Acc: 0.580218 loss: 1.375255\n",
            "Pseudo Labeling : 689\n",
            "[371/3000] Train Acc: 0.883090 Loss: 0.339636 | Val Acc: 0.561183 loss: 1.440222\n",
            "Pseudo Labeling : 650\n",
            "[372/3000] Train Acc: 0.879259 Loss: 0.340153 | Val Acc: 0.589735 loss: 1.396999\n",
            "Pseudo Labeling : 655\n",
            "[373/3000] Train Acc: 0.885588 Loss: 0.336864 | Val Acc: 0.566621 loss: 1.440586\n",
            "Pseudo Labeling : 645\n",
            "[374/3000] Train Acc: 0.882514 Loss: 0.335572 | Val Acc: 0.579538 loss: 1.392178\n",
            "Pseudo Labeling : 654\n",
            "[375/3000] Train Acc: 0.884210 Loss: 0.338427 | Val Acc: 0.588375 loss: 1.389932\n",
            "Pseudo Labeling : 663\n",
            "[376/3000] Train Acc: 0.884454 Loss: 0.342577 | Val Acc: 0.563562 loss: 1.424034\n",
            "Pseudo Labeling : 687\n",
            "[377/3000] Train Acc: 0.882268 Loss: 0.336664 | Val Acc: 0.584296 loss: 1.362600\n",
            "Pseudo Labeling : 689\n",
            "[378/3000] Train Acc: 0.885900 Loss: 0.334200 | Val Acc: 0.578178 loss: 1.399859\n",
            "Pseudo Labeling : 646\n",
            "[379/3000] Train Acc: 0.878898 Loss: 0.341771 | Val Acc: 0.589735 loss: 1.354475\n",
            "Pseudo Labeling : 693\n",
            "[380/3000] Train Acc: 0.883288 Loss: 0.336494 | Val Acc: 0.568661 loss: 1.435169\n",
            "Pseudo Labeling : 678\n",
            "[381/3000] Train Acc: 0.883308 Loss: 0.340411 | Val Acc: 0.567301 loss: 1.420211\n",
            "Pseudo Labeling : 691\n",
            "[382/3000] Train Acc: 0.884072 Loss: 0.334531 | Val Acc: 0.582257 loss: 1.372417\n",
            "Pseudo Labeling : 685\n",
            "[383/3000] Train Acc: 0.886586 Loss: 0.336147 | Val Acc: 0.596533 loss: 1.366533\n",
            "Pseudo Labeling : 691\n",
            "[384/3000] Train Acc: 0.884393 Loss: 0.336936 | Val Acc: 0.555065 loss: 1.410139\n",
            "Pseudo Labeling : 648\n",
            "[385/3000] Train Acc: 0.878837 Loss: 0.340696 | Val Acc: 0.585656 loss: 1.392665\n",
            "Pseudo Labeling : 652\n",
            "[386/3000] Train Acc: 0.882258 Loss: 0.343068 | Val Acc: 0.573080 loss: 1.422368\n",
            "Pseudo Labeling : 670\n",
            "[387/3000] Train Acc: 0.882429 Loss: 0.341751 | Val Acc: 0.576818 loss: 1.397164\n",
            "Pseudo Labeling : 695\n",
            "[388/3000] Train Acc: 0.879936 Loss: 0.345387 | Val Acc: 0.573080 loss: 1.407300\n",
            "Pseudo Labeling : 698\n",
            "[389/3000] Train Acc: 0.881569 Loss: 0.343209 | Val Acc: 0.584976 loss: 1.386777\n",
            "Pseudo Labeling : 629\n",
            "[390/3000] Train Acc: 0.884460 Loss: 0.334903 | Val Acc: 0.584636 loss: 1.401645\n",
            "Pseudo Labeling : 652\n",
            "[391/3000] Train Acc: 0.884594 Loss: 0.336525 | Val Acc: 0.582597 loss: 1.369281\n",
            "Pseudo Labeling : 639\n",
            "[392/3000] Train Acc: 0.882054 Loss: 0.333804 | Val Acc: 0.589395 loss: 1.385859\n",
            "Pseudo Labeling : 678\n",
            "[393/3000] Train Acc: 0.884674 Loss: 0.336665 | Val Acc: 0.584296 loss: 1.375415\n",
            "Pseudo Labeling : 652\n",
            "[394/3000] Train Acc: 0.887251 Loss: 0.334708 | Val Acc: 0.589395 loss: 1.377316\n",
            "Pseudo Labeling : 650\n",
            "[395/3000] Train Acc: 0.878373 Loss: 0.340252 | Val Acc: 0.581577 loss: 1.403241\n",
            "Pseudo Labeling : 689\n",
            "[396/3000] Train Acc: 0.882287 Loss: 0.337033 | Val Acc: 0.574779 loss: 1.370027\n",
            "Pseudo Labeling : 671\n",
            "[397/3000] Train Acc: 0.882116 Loss: 0.346559 | Val Acc: 0.585996 loss: 1.395026\n",
            "Pseudo Labeling : 669\n",
            "[398/3000] Train Acc: 0.883223 Loss: 0.339610 | Val Acc: 0.574779 loss: 1.413329\n",
            "Pseudo Labeling : 719\n",
            "[399/3000] Train Acc: 0.885614 Loss: 0.334594 | Val Acc: 0.566621 loss: 1.410474\n",
            "Pseudo Labeling : 647\n",
            "[400/3000] Train Acc: 0.881566 Loss: 0.339590 | Val Acc: 0.603671 loss: 1.340937\n",
            "saving model with acc 0.604\n",
            "Pseudo Labeling : 655\n",
            "[401/3000] Train Acc: 0.885024 Loss: 0.341052 | Val Acc: 0.588375 loss: 1.374004\n",
            "Pseudo Labeling : 661\n",
            "[402/3000] Train Acc: 0.885884 Loss: 0.333646 | Val Acc: 0.587356 loss: 1.390973\n",
            "Pseudo Labeling : 708\n",
            "[403/3000] Train Acc: 0.882626 Loss: 0.336813 | Val Acc: 0.574779 loss: 1.401770\n",
            "Pseudo Labeling : 647\n",
            "[404/3000] Train Acc: 0.879955 Loss: 0.339369 | Val Acc: 0.567301 loss: 1.438891\n",
            "Pseudo Labeling : 641\n",
            "[405/3000] Train Acc: 0.878527 Loss: 0.340414 | Val Acc: 0.587695 loss: 1.377934\n",
            "Pseudo Labeling : 670\n",
            "[406/3000] Train Acc: 0.883394 Loss: 0.339402 | Val Acc: 0.581237 loss: 1.384163\n",
            "Pseudo Labeling : 675\n",
            "[407/3000] Train Acc: 0.884084 Loss: 0.339314 | Val Acc: 0.563222 loss: 1.437137\n",
            "Pseudo Labeling : 675\n",
            "[408/3000] Train Acc: 0.886495 Loss: 0.329905 | Val Acc: 0.590075 loss: 1.389940\n",
            "Pseudo Labeling : 648\n",
            "[409/3000] Train Acc: 0.880126 Loss: 0.341427 | Val Acc: 0.574439 loss: 1.407168\n",
            "Pseudo Labeling : 688\n",
            "[410/3000] Train Acc: 0.882599 Loss: 0.339652 | Val Acc: 0.585316 loss: 1.394527\n",
            "Pseudo Labeling : 669\n",
            "[411/3000] Train Acc: 0.883465 Loss: 0.336725 | Val Acc: 0.581577 loss: 1.378865\n",
            "Pseudo Labeling : 668\n",
            "[412/3000] Train Acc: 0.880640 Loss: 0.343368 | Val Acc: 0.577498 loss: 1.417629\n",
            "Pseudo Labeling : 684\n",
            "[413/3000] Train Acc: 0.883043 Loss: 0.339669 | Val Acc: 0.592114 loss: 1.377919\n",
            "Pseudo Labeling : 704\n",
            "[414/3000] Train Acc: 0.881626 Loss: 0.337769 | Val Acc: 0.590755 loss: 1.384240\n",
            "Pseudo Labeling : 674\n",
            "[415/3000] Train Acc: 0.884959 Loss: 0.337471 | Val Acc: 0.578178 loss: 1.398934\n",
            "Pseudo Labeling : 699\n",
            "[416/3000] Train Acc: 0.880616 Loss: 0.338415 | Val Acc: 0.577158 loss: 1.411269\n",
            "Pseudo Labeling : 653\n",
            "[417/3000] Train Acc: 0.887583 Loss: 0.332515 | Val Acc: 0.583956 loss: 1.404821\n",
            "Pseudo Labeling : 743\n",
            "[418/3000] Train Acc: 0.881036 Loss: 0.339228 | Val Acc: 0.594154 loss: 1.383473\n",
            "Pseudo Labeling : 677\n",
            "[419/3000] Train Acc: 0.881370 Loss: 0.339729 | Val Acc: 0.567301 loss: 1.431773\n",
            "Pseudo Labeling : 689\n",
            "[420/3000] Train Acc: 0.880922 Loss: 0.336700 | Val Acc: 0.569680 loss: 1.403334\n",
            "Pseudo Labeling : 629\n",
            "[421/3000] Train Acc: 0.882282 Loss: 0.336756 | Val Acc: 0.566281 loss: 1.408626\n",
            "Pseudo Labeling : 658\n",
            "[422/3000] Train Acc: 0.886581 Loss: 0.337553 | Val Acc: 0.578858 loss: 1.415485\n",
            "Pseudo Labeling : 695\n",
            "[423/3000] Train Acc: 0.884671 Loss: 0.336014 | Val Acc: 0.565942 loss: 1.400306\n",
            "Pseudo Labeling : 628\n",
            "[424/3000] Train Acc: 0.883967 Loss: 0.338143 | Val Acc: 0.570700 loss: 1.374690\n",
            "Pseudo Labeling : 687\n",
            "[425/3000] Train Acc: 0.880903 Loss: 0.335621 | Val Acc: 0.577158 loss: 1.391824\n",
            "Pseudo Labeling : 638\n",
            "[426/3000] Train Acc: 0.879303 Loss: 0.342320 | Val Acc: 0.582937 loss: 1.383200\n",
            "Pseudo Labeling : 654\n",
            "[427/3000] Train Acc: 0.887431 Loss: 0.333810 | Val Acc: 0.568661 loss: 1.456974\n",
            "Pseudo Labeling : 701\n",
            "[428/3000] Train Acc: 0.881518 Loss: 0.335461 | Val Acc: 0.571040 loss: 1.410939\n",
            "Pseudo Labeling : 709\n",
            "[429/3000] Train Acc: 0.881995 Loss: 0.337156 | Val Acc: 0.566961 loss: 1.438730\n",
            "Pseudo Labeling : 708\n",
            "[430/3000] Train Acc: 0.885272 Loss: 0.339090 | Val Acc: 0.586676 loss: 1.385497\n",
            "Pseudo Labeling : 686\n",
            "[431/3000] Train Acc: 0.884668 Loss: 0.338555 | Val Acc: 0.584976 loss: 1.382943\n",
            "Pseudo Labeling : 669\n",
            "[432/3000] Train Acc: 0.883706 Loss: 0.342466 | Val Acc: 0.590075 loss: 1.382645\n",
            "Pseudo Labeling : 648\n",
            "[433/3000] Train Acc: 0.883670 Loss: 0.336888 | Val Acc: 0.569341 loss: 1.425654\n",
            "Pseudo Labeling : 697\n",
            "[434/3000] Train Acc: 0.878270 Loss: 0.349165 | Val Acc: 0.583277 loss: 1.387775\n",
            "Pseudo Labeling : 680\n",
            "[435/3000] Train Acc: 0.884371 Loss: 0.333704 | Val Acc: 0.581577 loss: 1.404543\n",
            "Pseudo Labeling : 670\n",
            "[436/3000] Train Acc: 0.884278 Loss: 0.340910 | Val Acc: 0.565262 loss: 1.399946\n",
            "Pseudo Labeling : 699\n",
            "[437/3000] Train Acc: 0.882221 Loss: 0.344726 | Val Acc: 0.599932 loss: 1.347246\n",
            "Pseudo Labeling : 661\n",
            "[438/3000] Train Acc: 0.881941 Loss: 0.344019 | Val Acc: 0.590075 loss: 1.355716\n",
            "Pseudo Labeling : 644\n",
            "[439/3000] Train Acc: 0.878717 Loss: 0.345051 | Val Acc: 0.581917 loss: 1.405012\n",
            "Pseudo Labeling : 698\n",
            "[440/3000] Train Acc: 0.879483 Loss: 0.339371 | Val Acc: 0.583617 loss: 1.396149\n",
            "Pseudo Labeling : 628\n",
            "[441/3000] Train Acc: 0.882434 Loss: 0.340251 | Val Acc: 0.560163 loss: 1.425323\n",
            "Pseudo Labeling : 718\n",
            "[442/3000] Train Acc: 0.882640 Loss: 0.342618 | Val Acc: 0.576479 loss: 1.427190\n",
            "Pseudo Labeling : 658\n",
            "[443/3000] Train Acc: 0.885052 Loss: 0.335666 | Val Acc: 0.578178 loss: 1.392547\n",
            "Pseudo Labeling : 648\n",
            "[444/3000] Train Acc: 0.884315 Loss: 0.334429 | Val Acc: 0.578518 loss: 1.401185\n",
            "Pseudo Labeling : 637\n",
            "[445/3000] Train Acc: 0.881551 Loss: 0.341647 | Val Acc: 0.590755 loss: 1.386494\n",
            "Pseudo Labeling : 710\n",
            "[446/3000] Train Acc: 0.883607 Loss: 0.335082 | Val Acc: 0.557784 loss: 1.400425\n",
            "Pseudo Labeling : 632\n",
            "[447/3000] Train Acc: 0.880697 Loss: 0.342659 | Val Acc: 0.583956 loss: 1.370649\n",
            "Pseudo Labeling : 669\n",
            "[448/3000] Train Acc: 0.886199 Loss: 0.338053 | Val Acc: 0.585656 loss: 1.413503\n",
            "Pseudo Labeling : 679\n",
            "[449/3000] Train Acc: 0.883799 Loss: 0.339444 | Val Acc: 0.589055 loss: 1.403023\n",
            "Pseudo Labeling : 675\n",
            "[450/3000] Train Acc: 0.880145 Loss: 0.338934 | Val Acc: 0.578858 loss: 1.408204\n",
            "Pseudo Labeling : 649\n",
            "[451/3000] Train Acc: 0.879169 Loss: 0.336806 | Val Acc: 0.585316 loss: 1.384389\n",
            "Pseudo Labeling : 638\n",
            "[452/3000] Train Acc: 0.880110 Loss: 0.343068 | Val Acc: 0.575799 loss: 1.418252\n",
            "Pseudo Labeling : 647\n",
            "[453/3000] Train Acc: 0.881808 Loss: 0.336241 | Val Acc: 0.577838 loss: 1.449262\n",
            "Pseudo Labeling : 669\n",
            "[454/3000] Train Acc: 0.884671 Loss: 0.336065 | Val Acc: 0.569001 loss: 1.414877\n",
            "Pseudo Labeling : 648\n",
            "[455/3000] Train Acc: 0.879884 Loss: 0.341515 | Val Acc: 0.584636 loss: 1.407280\n",
            "Pseudo Labeling : 669\n",
            "[456/3000] Train Acc: 0.885234 Loss: 0.333888 | Val Acc: 0.588375 loss: 1.386281\n",
            "Pseudo Labeling : 666\n",
            "[457/3000] Train Acc: 0.883276 Loss: 0.343159 | Val Acc: 0.579538 loss: 1.369817\n",
            "Pseudo Labeling : 660\n",
            "[458/3000] Train Acc: 0.886680 Loss: 0.336417 | Val Acc: 0.571720 loss: 1.401444\n",
            "Pseudo Labeling : 629\n",
            "[459/3000] Train Acc: 0.882927 Loss: 0.340002 | Val Acc: 0.570360 loss: 1.430706\n",
            "Pseudo Labeling : 664\n",
            "[460/3000] Train Acc: 0.884142 Loss: 0.337463 | Val Acc: 0.583617 loss: 1.370914\n",
            "Pseudo Labeling : 668\n",
            "[461/3000] Train Acc: 0.884501 Loss: 0.339448 | Val Acc: 0.560503 loss: 1.420172\n",
            "Pseudo Labeling : 660\n",
            "[462/3000] Train Acc: 0.882656 Loss: 0.340878 | Val Acc: 0.577158 loss: 1.413288\n",
            "Pseudo Labeling : 637\n",
            "[463/3000] Train Acc: 0.881471 Loss: 0.339328 | Val Acc: 0.566621 loss: 1.449233\n",
            "Pseudo Labeling : 684\n",
            "[464/3000] Train Acc: 0.883525 Loss: 0.343858 | Val Acc: 0.577158 loss: 1.397225\n",
            "Pseudo Labeling : 670\n",
            "[465/3000] Train Acc: 0.883876 Loss: 0.337101 | Val Acc: 0.571380 loss: 1.414788\n",
            "Pseudo Labeling : 664\n",
            "[466/3000] Train Acc: 0.883901 Loss: 0.336247 | Val Acc: 0.570020 loss: 1.402836\n",
            "Pseudo Labeling : 670\n",
            "[467/3000] Train Acc: 0.882992 Loss: 0.341374 | Val Acc: 0.580218 loss: 1.432377\n",
            "Pseudo Labeling : 711\n",
            "[468/3000] Train Acc: 0.881933 Loss: 0.340081 | Val Acc: 0.587016 loss: 1.399128\n",
            "Pseudo Labeling : 677\n",
            "[469/3000] Train Acc: 0.884424 Loss: 0.334082 | Val Acc: 0.558124 loss: 1.453975\n",
            "Pseudo Labeling : 673\n",
            "[470/3000] Train Acc: 0.881492 Loss: 0.343041 | Val Acc: 0.563222 loss: 1.426752\n",
            "Pseudo Labeling : 679\n",
            "[471/3000] Train Acc: 0.885889 Loss: 0.336004 | Val Acc: 0.590415 loss: 1.386426\n",
            "Pseudo Labeling : 692\n",
            "[472/3000] Train Acc: 0.882476 Loss: 0.341542 | Val Acc: 0.576479 loss: 1.398241\n",
            "Pseudo Labeling : 660\n",
            "[473/3000] Train Acc: 0.884507 Loss: 0.341658 | Val Acc: 0.571040 loss: 1.417523\n",
            "Pseudo Labeling : 700\n",
            "[474/3000] Train Acc: 0.879021 Loss: 0.341670 | Val Acc: 0.588715 loss: 1.357330\n",
            "Pseudo Labeling : 663\n",
            "[475/3000] Train Acc: 0.883650 Loss: 0.342567 | Val Acc: 0.585996 loss: 1.365070\n",
            "Pseudo Labeling : 629\n",
            "[476/3000] Train Acc: 0.881152 Loss: 0.342174 | Val Acc: 0.585316 loss: 1.394481\n",
            "Pseudo Labeling : 715\n",
            "[477/3000] Train Acc: 0.888141 Loss: 0.332559 | Val Acc: 0.584976 loss: 1.385934\n",
            "Pseudo Labeling : 677\n",
            "[478/3000] Train Acc: 0.883218 Loss: 0.338671 | Val Acc: 0.585316 loss: 1.391440\n",
            "Pseudo Labeling : 660\n",
            "[479/3000] Train Acc: 0.885875 Loss: 0.335841 | Val Acc: 0.580897 loss: 1.416329\n",
            "Pseudo Labeling : 671\n",
            "[480/3000] Train Acc: 0.882518 Loss: 0.340869 | Val Acc: 0.588035 loss: 1.349367\n",
            "Pseudo Labeling : 658\n",
            "[481/3000] Train Acc: 0.884971 Loss: 0.335958 | Val Acc: 0.573759 loss: 1.428960\n",
            "Pseudo Labeling : 672\n",
            "[482/3000] Train Acc: 0.883332 Loss: 0.338861 | Val Acc: 0.572740 loss: 1.395372\n",
            "Pseudo Labeling : 694\n",
            "[483/3000] Train Acc: 0.883458 Loss: 0.339667 | Val Acc: 0.576139 loss: 1.389531\n",
            "Pseudo Labeling : 650\n",
            "[484/3000] Train Acc: 0.881514 Loss: 0.334137 | Val Acc: 0.559143 loss: 1.435381\n",
            "Pseudo Labeling : 697\n",
            "[485/3000] Train Acc: 0.884529 Loss: 0.336318 | Val Acc: 0.589395 loss: 1.394722\n",
            "Pseudo Labeling : 646\n",
            "[486/3000] Train Acc: 0.878656 Loss: 0.339869 | Val Acc: 0.585656 loss: 1.405675\n",
            "Pseudo Labeling : 669\n",
            "[487/3000] Train Acc: 0.883063 Loss: 0.339098 | Val Acc: 0.575119 loss: 1.374043\n",
            "Pseudo Labeling : 680\n",
            "[488/3000] Train Acc: 0.884050 Loss: 0.336724 | Val Acc: 0.590755 loss: 1.364127\n",
            "Pseudo Labeling : 665\n",
            "[489/3000] Train Acc: 0.886163 Loss: 0.333128 | Val Acc: 0.566961 loss: 1.416707\n",
            "Pseudo Labeling : 624\n",
            "[490/3000] Train Acc: 0.878683 Loss: 0.344901 | Val Acc: 0.566621 loss: 1.442836\n",
            "Pseudo Labeling : 669\n",
            "[491/3000] Train Acc: 0.884349 Loss: 0.345828 | Val Acc: 0.579198 loss: 1.417232\n",
            "Pseudo Labeling : 693\n",
            "[492/3000] Train Acc: 0.881682 Loss: 0.340013 | Val Acc: 0.591094 loss: 1.364206\n",
            "Pseudo Labeling : 673\n",
            "[493/3000] Train Acc: 0.883261 Loss: 0.342684 | Val Acc: 0.562882 loss: 1.414131\n",
            "Pseudo Labeling : 718\n",
            "[494/3000] Train Acc: 0.885284 Loss: 0.337894 | Val Acc: 0.592114 loss: 1.356434\n",
            "Pseudo Labeling : 653\n",
            "[495/3000] Train Acc: 0.883798 Loss: 0.340784 | Val Acc: 0.576479 loss: 1.410670\n",
            "Pseudo Labeling : 693\n",
            "[496/3000] Train Acc: 0.881682 Loss: 0.335604 | Val Acc: 0.589735 loss: 1.382287\n",
            "Pseudo Labeling : 682\n",
            "[497/3000] Train Acc: 0.882944 Loss: 0.335621 | Val Acc: 0.581917 loss: 1.405533\n",
            "Pseudo Labeling : 629\n",
            "[498/3000] Train Acc: 0.879942 Loss: 0.345095 | Val Acc: 0.573419 loss: 1.406932\n",
            "Pseudo Labeling : 648\n",
            "[499/3000] Train Acc: 0.880851 Loss: 0.340764 | Val Acc: 0.576139 loss: 1.423537\n",
            "Pseudo Labeling : 697\n",
            "[500/3000] Train Acc: 0.881801 Loss: 0.336279 | Val Acc: 0.582937 loss: 1.380602\n",
            "Pseudo Labeling : 653\n",
            "[501/3000] Train Acc: 0.885167 Loss: 0.334623 | Val Acc: 0.570700 loss: 1.430197\n",
            "Pseudo Labeling : 659\n",
            "[502/3000] Train Acc: 0.884095 Loss: 0.341295 | Val Acc: 0.575799 loss: 1.396644\n",
            "Pseudo Labeling : 693\n",
            "[503/3000] Train Acc: 0.881442 Loss: 0.342938 | Val Acc: 0.576818 loss: 1.391236\n",
            "Pseudo Labeling : 656\n",
            "[504/3000] Train Acc: 0.887207 Loss: 0.335272 | Val Acc: 0.585316 loss: 1.393515\n",
            "Pseudo Labeling : 657\n",
            "[505/3000] Train Acc: 0.885767 Loss: 0.336089 | Val Acc: 0.589735 loss: 1.382401\n",
            "Pseudo Labeling : 660\n",
            "[506/3000] Train Acc: 0.885151 Loss: 0.338889 | Val Acc: 0.571720 loss: 1.422825\n",
            "Pseudo Labeling : 668\n",
            "[507/3000] Train Acc: 0.883214 Loss: 0.339225 | Val Acc: 0.585656 loss: 1.367568\n",
            "Pseudo Labeling : 681\n",
            "[508/3000] Train Acc: 0.884541 Loss: 0.343179 | Val Acc: 0.587695 loss: 1.379667\n",
            "Pseudo Labeling : 655\n",
            "[509/3000] Train Acc: 0.884138 Loss: 0.340134 | Val Acc: 0.597213 loss: 1.385593\n",
            "Pseudo Labeling : 712\n",
            "[510/3000] Train Acc: 0.881302 Loss: 0.337144 | Val Acc: 0.580218 loss: 1.426952\n",
            "Pseudo Labeling : 670\n",
            "[511/3000] Train Acc: 0.884037 Loss: 0.336307 | Val Acc: 0.593474 loss: 1.391114\n",
            "Pseudo Labeling : 668\n",
            "[512/3000] Train Acc: 0.881525 Loss: 0.340288 | Val Acc: 0.582257 loss: 1.409244\n",
            "Pseudo Labeling : 664\n",
            "[513/3000] Train Acc: 0.881004 Loss: 0.343635 | Val Acc: 0.571040 loss: 1.406044\n",
            "Pseudo Labeling : 672\n",
            "[514/3000] Train Acc: 0.885583 Loss: 0.338559 | Val Acc: 0.575119 loss: 1.401825\n",
            "Pseudo Labeling : 671\n",
            "[515/3000] Train Acc: 0.884529 Loss: 0.337458 | Val Acc: 0.580897 loss: 1.408031\n",
            "Pseudo Labeling : 694\n",
            "[516/3000] Train Acc: 0.884180 Loss: 0.334485 | Val Acc: 0.576479 loss: 1.408507\n",
            "Pseudo Labeling : 692\n",
            "[517/3000] Train Acc: 0.883840 Loss: 0.335180 | Val Acc: 0.570020 loss: 1.412888\n",
            "Pseudo Labeling : 671\n",
            "[518/3000] Train Acc: 0.883162 Loss: 0.341714 | Val Acc: 0.583277 loss: 1.371606\n",
            "Pseudo Labeling : 688\n",
            "[519/3000] Train Acc: 0.883241 Loss: 0.339556 | Val Acc: 0.575459 loss: 1.428542\n",
            "Pseudo Labeling : 661\n",
            "[520/3000] Train Acc: 0.881700 Loss: 0.338489 | Val Acc: 0.559143 loss: 1.430014\n",
            "Pseudo Labeling : 654\n",
            "[521/3000] Train Acc: 0.884693 Loss: 0.338649 | Val Acc: 0.579878 loss: 1.427938\n",
            "Pseudo Labeling : 674\n",
            "[522/3000] Train Acc: 0.881743 Loss: 0.338438 | Val Acc: 0.604691 loss: 1.331924\n",
            "saving model with acc 0.605\n",
            "Pseudo Labeling : 682\n",
            "[523/3000] Train Acc: 0.883265 Loss: 0.338340 | Val Acc: 0.574099 loss: 1.407545\n",
            "Pseudo Labeling : 720\n",
            "[524/3000] Train Acc: 0.882018 Loss: 0.338487 | Val Acc: 0.591094 loss: 1.363717\n",
            "Pseudo Labeling : 672\n",
            "[525/3000] Train Acc: 0.885101 Loss: 0.337990 | Val Acc: 0.573759 loss: 1.410603\n",
            "Pseudo Labeling : 658\n",
            "[526/3000] Train Acc: 0.885454 Loss: 0.340953 | Val Acc: 0.571040 loss: 1.433334\n",
            "Pseudo Labeling : 693\n",
            "[527/3000] Train Acc: 0.879595 Loss: 0.341812 | Val Acc: 0.586676 loss: 1.400145\n",
            "Pseudo Labeling : 640\n",
            "[528/3000] Train Acc: 0.880935 Loss: 0.339166 | Val Acc: 0.565262 loss: 1.410943\n",
            "Pseudo Labeling : 734\n",
            "[529/3000] Train Acc: 0.883351 Loss: 0.337278 | Val Acc: 0.570700 loss: 1.416109\n",
            "Pseudo Labeling : 648\n",
            "[530/3000] Train Acc: 0.881737 Loss: 0.337740 | Val Acc: 0.590075 loss: 1.368113\n",
            "Pseudo Labeling : 662\n",
            "[531/3000] Train Acc: 0.882112 Loss: 0.346877 | Val Acc: 0.582937 loss: 1.416220\n",
            "Pseudo Labeling : 679\n",
            "[532/3000] Train Acc: 0.883639 Loss: 0.335589 | Val Acc: 0.561183 loss: 1.443826\n",
            "Pseudo Labeling : 664\n",
            "[533/3000] Train Acc: 0.883096 Loss: 0.338004 | Val Acc: 0.555065 loss: 1.432424\n",
            "Pseudo Labeling : 694\n",
            "[534/3000] Train Acc: 0.884742 Loss: 0.335725 | Val Acc: 0.586336 loss: 1.398425\n",
            "Pseudo Labeling : 675\n",
            "[535/3000] Train Acc: 0.881752 Loss: 0.341307 | Val Acc: 0.568661 loss: 1.416828\n",
            "Pseudo Labeling : 688\n",
            "[536/3000] Train Acc: 0.879467 Loss: 0.338920 | Val Acc: 0.566281 loss: 1.431455\n",
            "Pseudo Labeling : 686\n",
            "[537/3000] Train Acc: 0.880652 Loss: 0.343091 | Val Acc: 0.557784 loss: 1.430317\n",
            "Pseudo Labeling : 665\n",
            "[538/3000] Train Acc: 0.880129 Loss: 0.346015 | Val Acc: 0.566281 loss: 1.423117\n",
            "Pseudo Labeling : 685\n",
            "[539/3000] Train Acc: 0.884980 Loss: 0.337995 | Val Acc: 0.573419 loss: 1.400092\n",
            "Pseudo Labeling : 636\n",
            "[540/3000] Train Acc: 0.880413 Loss: 0.341414 | Val Acc: 0.594833 loss: 1.374932\n",
            "Pseudo Labeling : 674\n",
            "[541/3000] Train Acc: 0.883029 Loss: 0.341713 | Val Acc: 0.602311 loss: 1.350843\n",
            "Pseudo Labeling : 686\n",
            "[542/3000] Train Acc: 0.882499 Loss: 0.337845 | Val Acc: 0.558804 loss: 1.455804\n",
            "Pseudo Labeling : 660\n",
            "[543/3000] Train Acc: 0.883783 Loss: 0.339679 | Val Acc: 0.562203 loss: 1.441602\n",
            "Pseudo Labeling : 679\n",
            "[544/3000] Train Acc: 0.881710 Loss: 0.339295 | Val Acc: 0.578858 loss: 1.373929\n",
            "Pseudo Labeling : 664\n",
            "[545/3000] Train Acc: 0.882452 Loss: 0.341447 | Val Acc: 0.569001 loss: 1.440447\n",
            "Pseudo Labeling : 665\n",
            "[546/3000] Train Acc: 0.884553 Loss: 0.336170 | Val Acc: 0.569001 loss: 1.429954\n",
            "Pseudo Labeling : 694\n",
            "[547/3000] Train Acc: 0.882414 Loss: 0.333096 | Val Acc: 0.584296 loss: 1.396905\n",
            "Pseudo Labeling : 671\n",
            "[548/3000] Train Acc: 0.882197 Loss: 0.341099 | Val Acc: 0.579198 loss: 1.389173\n",
            "Pseudo Labeling : 674\n",
            "[549/3000] Train Acc: 0.885039 Loss: 0.336454 | Val Acc: 0.590415 loss: 1.375658\n",
            "Pseudo Labeling : 680\n",
            "[550/3000] Train Acc: 0.879550 Loss: 0.345361 | Val Acc: 0.576139 loss: 1.399822\n",
            "Pseudo Labeling : 706\n",
            "[551/3000] Train Acc: 0.882127 Loss: 0.339683 | Val Acc: 0.564582 loss: 1.429658\n",
            "Pseudo Labeling : 636\n",
            "[552/3000] Train Acc: 0.880494 Loss: 0.340433 | Val Acc: 0.572400 loss: 1.424448\n",
            "Pseudo Labeling : 605\n",
            "[553/3000] Train Acc: 0.885206 Loss: 0.338806 | Val Acc: 0.584976 loss: 1.390522\n",
            "Pseudo Labeling : 680\n",
            "[554/3000] Train Acc: 0.879871 Loss: 0.339639 | Val Acc: 0.560163 loss: 1.418212\n",
            "Pseudo Labeling : 662\n",
            "[555/3000] Train Acc: 0.882514 Loss: 0.345246 | Val Acc: 0.555744 loss: 1.404319\n",
            "Pseudo Labeling : 657\n",
            "[556/3000] Train Acc: 0.883835 Loss: 0.340243 | Val Acc: 0.585316 loss: 1.350115\n",
            "Pseudo Labeling : 643\n",
            "[557/3000] Train Acc: 0.881528 Loss: 0.338386 | Val Acc: 0.574099 loss: 1.409431\n",
            "Pseudo Labeling : 683\n",
            "[558/3000] Train Acc: 0.880784 Loss: 0.341452 | Val Acc: 0.582597 loss: 1.376765\n",
            "Pseudo Labeling : 645\n",
            "[559/3000] Train Acc: 0.880016 Loss: 0.342655 | Val Acc: 0.585656 loss: 1.384797\n",
            "Pseudo Labeling : 724\n",
            "[560/3000] Train Acc: 0.885900 Loss: 0.335123 | Val Acc: 0.584976 loss: 1.396058\n",
            "Pseudo Labeling : 681\n",
            "[561/3000] Train Acc: 0.883175 Loss: 0.338080 | Val Acc: 0.583277 loss: 1.392145\n",
            "Pseudo Labeling : 661\n",
            "[562/3000] Train Acc: 0.882746 Loss: 0.343441 | Val Acc: 0.593134 loss: 1.388060\n",
            "Pseudo Labeling : 679\n",
            "[563/3000] Train Acc: 0.883237 Loss: 0.340195 | Val Acc: 0.569341 loss: 1.390927\n",
            "Pseudo Labeling : 644\n",
            "[564/3000] Train Acc: 0.881296 Loss: 0.339793 | Val Acc: 0.571720 loss: 1.393667\n",
            "Pseudo Labeling : 671\n",
            "[565/3000] Train Acc: 0.883725 Loss: 0.334897 | Val Acc: 0.564242 loss: 1.433947\n",
            "Pseudo Labeling : 684\n",
            "[566/3000] Train Acc: 0.881597 Loss: 0.339911 | Val Acc: 0.583956 loss: 1.379409\n",
            "Pseudo Labeling : 660\n",
            "[567/3000] Train Acc: 0.882173 Loss: 0.343031 | Val Acc: 0.566961 loss: 1.413755\n",
            "Pseudo Labeling : 656\n",
            "[568/3000] Train Acc: 0.882618 Loss: 0.340962 | Val Acc: 0.585316 loss: 1.390992\n",
            "Pseudo Labeling : 643\n",
            "[569/3000] Train Acc: 0.880561 Loss: 0.339658 | Val Acc: 0.573419 loss: 1.390837\n",
            "Pseudo Labeling : 681\n",
            "[570/3000] Train Acc: 0.882452 Loss: 0.338830 | Val Acc: 0.590755 loss: 1.404611\n",
            "Pseudo Labeling : 698\n",
            "[571/3000] Train Acc: 0.883254 Loss: 0.340304 | Val Acc: 0.576139 loss: 1.386891\n",
            "Pseudo Labeling : 647\n",
            "[572/3000] Train Acc: 0.884144 Loss: 0.337608 | Val Acc: 0.575119 loss: 1.430015\n",
            "Pseudo Labeling : 677\n",
            "[573/3000] Train Acc: 0.883700 Loss: 0.336680 | Val Acc: 0.579538 loss: 1.410928\n",
            "Pseudo Labeling : 664\n",
            "[574/3000] Train Acc: 0.884383 Loss: 0.338383 | Val Acc: 0.581917 loss: 1.380056\n",
            "Pseudo Labeling : 656\n",
            "[575/3000] Train Acc: 0.885516 Loss: 0.338722 | Val Acc: 0.584296 loss: 1.373542\n",
            "Pseudo Labeling : 686\n",
            "[576/3000] Train Acc: 0.882339 Loss: 0.337470 | Val Acc: 0.575119 loss: 1.396355\n",
            "Pseudo Labeling : 669\n",
            "[577/3000] Train Acc: 0.886360 Loss: 0.334550 | Val Acc: 0.576139 loss: 1.421743\n",
            "Pseudo Labeling : 654\n",
            "[578/3000] Train Acc: 0.883163 Loss: 0.342931 | Val Acc: 0.581917 loss: 1.381368\n",
            "Pseudo Labeling : 654\n",
            "[579/3000] Train Acc: 0.886142 Loss: 0.335222 | Val Acc: 0.573759 loss: 1.407015\n",
            "Pseudo Labeling : 652\n",
            "[580/3000] Train Acc: 0.885238 Loss: 0.340474 | Val Acc: 0.590755 loss: 1.383613\n",
            "Pseudo Labeling : 684\n",
            "[581/3000] Train Acc: 0.884730 Loss: 0.332995 | Val Acc: 0.578858 loss: 1.395927\n",
            "Pseudo Labeling : 649\n",
            "[582/3000] Train Acc: 0.884082 Loss: 0.336145 | Val Acc: 0.595173 loss: 1.381681\n",
            "Pseudo Labeling : 669\n",
            "[583/3000] Train Acc: 0.883867 Loss: 0.336612 | Val Acc: 0.572740 loss: 1.399495\n",
            "Pseudo Labeling : 641\n",
            "[584/3000] Train Acc: 0.881912 Loss: 0.341844 | Val Acc: 0.569341 loss: 1.438821\n",
            "Pseudo Labeling : 710\n",
            "[585/3000] Train Acc: 0.882164 Loss: 0.335933 | Val Acc: 0.571380 loss: 1.401650\n",
            "Pseudo Labeling : 658\n",
            "[586/3000] Train Acc: 0.881591 Loss: 0.345910 | Val Acc: 0.557444 loss: 1.479543\n",
            "Pseudo Labeling : 698\n",
            "[587/3000] Train Acc: 0.881810 Loss: 0.332998 | Val Acc: 0.576139 loss: 1.400702\n",
            "Pseudo Labeling : 677\n",
            "[588/3000] Train Acc: 0.880887 Loss: 0.339732 | Val Acc: 0.594154 loss: 1.392791\n",
            "Pseudo Labeling : 722\n",
            "[589/3000] Train Acc: 0.886762 Loss: 0.335573 | Val Acc: 0.582597 loss: 1.383356\n",
            "Pseudo Labeling : 651\n",
            "[590/3000] Train Acc: 0.881927 Loss: 0.345128 | Val Acc: 0.574439 loss: 1.394363\n",
            "Pseudo Labeling : 668\n",
            "[591/3000] Train Acc: 0.886351 Loss: 0.332752 | Val Acc: 0.591094 loss: 1.395311\n",
            "Pseudo Labeling : 670\n",
            "[592/3000] Train Acc: 0.884439 Loss: 0.335109 | Val Acc: 0.596193 loss: 1.359185\n",
            "Pseudo Labeling : 704\n",
            "[593/3000] Train Acc: 0.877376 Loss: 0.342873 | Val Acc: 0.576818 loss: 1.402406\n",
            "Pseudo Labeling : 666\n",
            "[594/3000] Train Acc: 0.885448 Loss: 0.340586 | Val Acc: 0.578518 loss: 1.403543\n",
            "Pseudo Labeling : 657\n",
            "[595/3000] Train Acc: 0.882869 Loss: 0.339698 | Val Acc: 0.563222 loss: 1.432040\n",
            "Pseudo Labeling : 695\n",
            "[596/3000] Train Acc: 0.881621 Loss: 0.338341 | Val Acc: 0.560163 loss: 1.394570\n",
            "Pseudo Labeling : 657\n",
            "[597/3000] Train Acc: 0.885043 Loss: 0.340252 | Val Acc: 0.580897 loss: 1.400636\n",
            "Pseudo Labeling : 702\n",
            "[598/3000] Train Acc: 0.886982 Loss: 0.331171 | Val Acc: 0.587016 loss: 1.379579\n",
            "Pseudo Labeling : 641\n",
            "[599/3000] Train Acc: 0.880300 Loss: 0.341352 | Val Acc: 0.568321 loss: 1.424110\n",
            "Pseudo Labeling : 680\n",
            "[600/3000] Train Acc: 0.883005 Loss: 0.339407 | Val Acc: 0.582257 loss: 1.362358\n",
            "Pseudo Labeling : 667\n",
            "[601/3000] Train Acc: 0.880952 Loss: 0.345056 | Val Acc: 0.584296 loss: 1.386775\n",
            "Pseudo Labeling : 671\n",
            "[602/3000] Train Acc: 0.882921 Loss: 0.340029 | Val Acc: 0.573080 loss: 1.409897\n",
            "Pseudo Labeling : 693\n",
            "[603/3000] Train Acc: 0.878151 Loss: 0.346207 | Val Acc: 0.566961 loss: 1.419945\n",
            "Pseudo Labeling : 683\n",
            "[604/3000] Train Acc: 0.883194 Loss: 0.335900 | Val Acc: 0.586676 loss: 1.359555\n",
            "Pseudo Labeling : 623\n",
            "[605/3000] Train Acc: 0.883355 Loss: 0.340149 | Val Acc: 0.583277 loss: 1.388217\n",
            "Pseudo Labeling : 674\n",
            "[606/3000] Train Acc: 0.881904 Loss: 0.339990 | Val Acc: 0.558124 loss: 1.427860\n",
            "Pseudo Labeling : 659\n",
            "[607/3000] Train Acc: 0.883129 Loss: 0.339372 | Val Acc: 0.574779 loss: 1.410587\n",
            "Pseudo Labeling : 687\n",
            "[608/3000] Train Acc: 0.881224 Loss: 0.341345 | Val Acc: 0.569001 loss: 1.435119\n",
            "Pseudo Labeling : 673\n",
            "[609/3000] Train Acc: 0.882055 Loss: 0.338931 | Val Acc: 0.588715 loss: 1.376250\n",
            "Pseudo Labeling : 684\n",
            "[610/3000] Train Acc: 0.879669 Loss: 0.342996 | Val Acc: 0.577838 loss: 1.388488\n",
            "Pseudo Labeling : 722\n",
            "[611/3000] Train Acc: 0.885401 Loss: 0.338701 | Val Acc: 0.580557 loss: 1.403973\n",
            "Pseudo Labeling : 675\n",
            "[612/3000] Train Acc: 0.881190 Loss: 0.341076 | Val Acc: 0.590415 loss: 1.388133\n",
            "Pseudo Labeling : 702\n",
            "[613/3000] Train Acc: 0.880725 Loss: 0.334291 | Val Acc: 0.592794 loss: 1.381629\n",
            "Pseudo Labeling : 690\n",
            "[614/3000] Train Acc: 0.886792 Loss: 0.334723 | Val Acc: 0.586336 loss: 1.384102\n",
            "Pseudo Labeling : 683\n",
            "[615/3000] Train Acc: 0.883114 Loss: 0.334516 | Val Acc: 0.568321 loss: 1.438914\n",
            "Pseudo Labeling : 663\n",
            "[616/3000] Train Acc: 0.880673 Loss: 0.343366 | Val Acc: 0.580218 loss: 1.373325\n",
            "Pseudo Labeling : 665\n",
            "[617/3000] Train Acc: 0.883910 Loss: 0.336050 | Val Acc: 0.561863 loss: 1.408029\n",
            "Pseudo Labeling : 645\n",
            "[618/3000] Train Acc: 0.880338 Loss: 0.339694 | Val Acc: 0.578518 loss: 1.395726\n",
            "Pseudo Labeling : 654\n",
            "[619/3000] Train Acc: 0.883968 Loss: 0.341148 | Val Acc: 0.580218 loss: 1.370886\n",
            "Pseudo Labeling : 690\n",
            "[620/3000] Train Acc: 0.884143 Loss: 0.333986 | Val Acc: 0.587695 loss: 1.390194\n",
            "Pseudo Labeling : 665\n",
            "[621/3000] Train Acc: 0.884875 Loss: 0.337745 | Val Acc: 0.569001 loss: 1.412151\n",
            "Pseudo Labeling : 636\n",
            "[622/3000] Train Acc: 0.883235 Loss: 0.335763 | Val Acc: 0.570700 loss: 1.429907\n",
            "Pseudo Labeling : 682\n",
            "[623/3000] Train Acc: 0.883506 Loss: 0.333263 | Val Acc: 0.570020 loss: 1.438293\n",
            "Pseudo Labeling : 679\n",
            "[624/3000] Train Acc: 0.885808 Loss: 0.332095 | Val Acc: 0.566961 loss: 1.404574\n",
            "Pseudo Labeling : 670\n",
            "[625/3000] Train Acc: 0.886289 Loss: 0.335647 | Val Acc: 0.570360 loss: 1.417069\n",
            "Pseudo Labeling : 666\n",
            "[626/3000] Train Acc: 0.884965 Loss: 0.336669 | Val Acc: 0.581237 loss: 1.380087\n",
            "Pseudo Labeling : 728\n",
            "[627/3000] Train Acc: 0.884255 Loss: 0.339404 | Val Acc: 0.580897 loss: 1.400855\n",
            "Pseudo Labeling : 662\n",
            "[628/3000] Train Acc: 0.884284 Loss: 0.337189 | Val Acc: 0.556764 loss: 1.434854\n",
            "Pseudo Labeling : 672\n",
            "[629/3000] Train Acc: 0.884538 Loss: 0.332521 | Val Acc: 0.584296 loss: 1.390806\n",
            "Pseudo Labeling : 687\n",
            "[630/3000] Train Acc: 0.882429 Loss: 0.336052 | Val Acc: 0.590415 loss: 1.379405\n",
            "Pseudo Labeling : 642\n",
            "[631/3000] Train Acc: 0.877892 Loss: 0.340667 | Val Acc: 0.583617 loss: 1.394597\n",
            "Pseudo Labeling : 634\n",
            "[632/3000] Train Acc: 0.878861 Loss: 0.346393 | Val Acc: 0.575799 loss: 1.432829\n",
            "Pseudo Labeling : 716\n",
            "[633/3000] Train Acc: 0.887269 Loss: 0.337013 | Val Acc: 0.581917 loss: 1.408308\n",
            "Pseudo Labeling : 646\n",
            "[634/3000] Train Acc: 0.880751 Loss: 0.338453 | Val Acc: 0.576479 loss: 1.385238\n",
            "Pseudo Labeling : 651\n",
            "[635/3000] Train Acc: 0.888289 Loss: 0.335353 | Val Acc: 0.577838 loss: 1.394443\n",
            "Pseudo Labeling : 690\n",
            "[636/3000] Train Acc: 0.886471 Loss: 0.331121 | Val Acc: 0.573080 loss: 1.427588\n",
            "Pseudo Labeling : 646\n",
            "[637/3000] Train Acc: 0.883088 Loss: 0.332992 | Val Acc: 0.593814 loss: 1.376340\n",
            "Pseudo Labeling : 704\n",
            "[638/3000] Train Acc: 0.883792 Loss: 0.334752 | Val Acc: 0.553025 loss: 1.468351\n",
            "Pseudo Labeling : 691\n",
            "[639/3000] Train Acc: 0.883671 Loss: 0.336314 | Val Acc: 0.578858 loss: 1.407340\n",
            "Pseudo Labeling : 650\n",
            "[640/3000] Train Acc: 0.878534 Loss: 0.337356 | Val Acc: 0.590415 loss: 1.360708\n",
            "Pseudo Labeling : 662\n",
            "[641/3000] Train Acc: 0.883238 Loss: 0.339283 | Val Acc: 0.599592 loss: 1.374498\n",
            "Pseudo Labeling : 703\n",
            "[642/3000] Train Acc: 0.878810 Loss: 0.341034 | Val Acc: 0.585656 loss: 1.397701\n",
            "Pseudo Labeling : 672\n",
            "[643/3000] Train Acc: 0.880196 Loss: 0.344662 | Val Acc: 0.590415 loss: 1.377910\n",
            "Pseudo Labeling : 683\n",
            "[644/3000] Train Acc: 0.884078 Loss: 0.333687 | Val Acc: 0.591094 loss: 1.352513\n",
            "Pseudo Labeling : 688\n",
            "[645/3000] Train Acc: 0.886935 Loss: 0.331024 | Val Acc: 0.589395 loss: 1.348795\n",
            "Pseudo Labeling : 680\n",
            "[646/3000] Train Acc: 0.882845 Loss: 0.336083 | Val Acc: 0.587356 loss: 1.359640\n",
            "Pseudo Labeling : 707\n",
            "[647/3000] Train Acc: 0.882056 Loss: 0.334487 | Val Acc: 0.577838 loss: 1.400192\n",
            "Pseudo Labeling : 668\n",
            "[648/3000] Train Acc: 0.880158 Loss: 0.342805 | Val Acc: 0.584636 loss: 1.392093\n",
            "Pseudo Labeling : 668\n",
            "[649/3000] Train Acc: 0.884581 Loss: 0.339408 | Val Acc: 0.563222 loss: 1.427187\n",
            "Pseudo Labeling : 654\n",
            "[650/3000] Train Acc: 0.884934 Loss: 0.344405 | Val Acc: 0.583617 loss: 1.391829\n",
            "Pseudo Labeling : 718\n",
            "[651/3000] Train Acc: 0.884082 Loss: 0.336793 | Val Acc: 0.579538 loss: 1.400861\n",
            "Pseudo Labeling : 675\n",
            "[652/3000] Train Acc: 0.884084 Loss: 0.336017 | Val Acc: 0.585656 loss: 1.388041\n",
            "Pseudo Labeling : 648\n",
            "[653/3000] Train Acc: 0.880448 Loss: 0.340736 | Val Acc: 0.591774 loss: 1.360166\n",
            "Pseudo Labeling : 648\n",
            "[654/3000] Train Acc: 0.879803 Loss: 0.341806 | Val Acc: 0.584976 loss: 1.342088\n",
            "Pseudo Labeling : 643\n",
            "[655/3000] Train Acc: 0.881689 Loss: 0.335857 | Val Acc: 0.574779 loss: 1.409279\n",
            "Pseudo Labeling : 677\n",
            "[656/3000] Train Acc: 0.883540 Loss: 0.336504 | Val Acc: 0.580557 loss: 1.394354\n",
            "Pseudo Labeling : 692\n",
            "[657/3000] Train Acc: 0.880228 Loss: 0.340784 | Val Acc: 0.567641 loss: 1.405165\n",
            "Pseudo Labeling : 685\n",
            "[658/3000] Train Acc: 0.882169 Loss: 0.336527 | Val Acc: 0.543848 loss: 1.439129\n",
            "Pseudo Labeling : 689\n",
            "[659/3000] Train Acc: 0.881484 Loss: 0.338040 | Val Acc: 0.579198 loss: 1.415182\n",
            "Pseudo Labeling : 654\n",
            "[660/3000] Train Acc: 0.887028 Loss: 0.335179 | Val Acc: 0.573080 loss: 1.424515\n",
            "Pseudo Labeling : 663\n",
            "[661/3000] Train Acc: 0.883891 Loss: 0.337474 | Val Acc: 0.585316 loss: 1.387539\n",
            "Pseudo Labeling : 656\n",
            "[662/3000] Train Acc: 0.885275 Loss: 0.336197 | Val Acc: 0.575459 loss: 1.389973\n",
            "Pseudo Labeling : 643\n",
            "[663/3000] Train Acc: 0.880480 Loss: 0.337192 | Val Acc: 0.579878 loss: 1.387575\n",
            "Pseudo Labeling : 671\n",
            "[664/3000] Train Acc: 0.881473 Loss: 0.347032 | Val Acc: 0.572740 loss: 1.419702\n",
            "Pseudo Labeling : 667\n",
            "[665/3000] Train Acc: 0.882642 Loss: 0.340826 | Val Acc: 0.568661 loss: 1.407470\n",
            "Pseudo Labeling : 671\n",
            "[666/3000] Train Acc: 0.885172 Loss: 0.336920 | Val Acc: 0.577158 loss: 1.422734\n",
            "Pseudo Labeling : 674\n",
            "[667/3000] Train Acc: 0.882225 Loss: 0.338342 | Val Acc: 0.564582 loss: 1.422123\n",
            "Pseudo Labeling : 685\n",
            "[668/3000] Train Acc: 0.881446 Loss: 0.344948 | Val Acc: 0.588035 loss: 1.362106\n",
            "Pseudo Labeling : 693\n",
            "[669/3000] Train Acc: 0.879997 Loss: 0.343183 | Val Acc: 0.571380 loss: 1.429070\n",
            "Pseudo Labeling : 718\n",
            "[670/3000] Train Acc: 0.883842 Loss: 0.343399 | Val Acc: 0.556424 loss: 1.447232\n",
            "Pseudo Labeling : 671\n",
            "[671/3000] Train Acc: 0.882438 Loss: 0.344942 | Val Acc: 0.573080 loss: 1.390676\n",
            "Pseudo Labeling : 668\n",
            "[672/3000] Train Acc: 0.885305 Loss: 0.336607 | Val Acc: 0.596533 loss: 1.354483\n",
            "Pseudo Labeling : 669\n",
            "[673/3000] Train Acc: 0.885556 Loss: 0.337589 | Val Acc: 0.565942 loss: 1.394452\n",
            "Pseudo Labeling : 654\n",
            "[674/3000] Train Acc: 0.883163 Loss: 0.338771 | Val Acc: 0.575459 loss: 1.421167\n",
            "Pseudo Labeling : 685\n",
            "[675/3000] Train Acc: 0.880643 Loss: 0.341447 | Val Acc: 0.554045 loss: 1.423507\n",
            "Pseudo Labeling : 674\n",
            "[676/3000] Train Acc: 0.883994 Loss: 0.341767 | Val Acc: 0.578178 loss: 1.429895\n",
            "Pseudo Labeling : 667\n",
            "[677/3000] Train Acc: 0.883607 Loss: 0.343758 | Val Acc: 0.580218 loss: 1.402966\n",
            "Pseudo Labeling : 682\n",
            "[678/3000] Train Acc: 0.883667 Loss: 0.339534 | Val Acc: 0.589055 loss: 1.397548\n",
            "Pseudo Labeling : 707\n",
            "[679/3000] Train Acc: 0.882537 Loss: 0.336712 | Val Acc: 0.585656 loss: 1.415712\n",
            "Pseudo Labeling : 660\n",
            "[680/3000] Train Acc: 0.883863 Loss: 0.341924 | Val Acc: 0.570020 loss: 1.449068\n",
            "Pseudo Labeling : 675\n",
            "[681/3000] Train Acc: 0.883601 Loss: 0.341908 | Val Acc: 0.587016 loss: 1.391965\n",
            "Pseudo Labeling : 670\n",
            "[682/3000] Train Acc: 0.884359 Loss: 0.333708 | Val Acc: 0.575119 loss: 1.384526\n",
            "Pseudo Labeling : 690\n",
            "[683/3000] Train Acc: 0.884063 Loss: 0.337768 | Val Acc: 0.547587 loss: 1.450931\n",
            "Pseudo Labeling : 702\n",
            "[684/3000] Train Acc: 0.879602 Loss: 0.344375 | Val Acc: 0.569680 loss: 1.418018\n",
            "Pseudo Labeling : 687\n",
            "[685/3000] Train Acc: 0.881224 Loss: 0.341392 | Val Acc: 0.590415 loss: 1.396233\n",
            "Pseudo Labeling : 652\n",
            "[686/3000] Train Acc: 0.886204 Loss: 0.341832 | Val Acc: 0.578518 loss: 1.396696\n",
            "Pseudo Labeling : 652\n",
            "[687/3000] Train Acc: 0.884996 Loss: 0.340391 | Val Acc: 0.579878 loss: 1.379509\n",
            "Pseudo Labeling : 661\n",
            "[688/3000] Train Acc: 0.884275 Loss: 0.339898 | Val Acc: 0.558464 loss: 1.424942\n",
            "Pseudo Labeling : 678\n",
            "[689/3000] Train Acc: 0.886040 Loss: 0.331846 | Val Acc: 0.578858 loss: 1.410037\n",
            "Pseudo Labeling : 677\n",
            "[690/3000] Train Acc: 0.881932 Loss: 0.338710 | Val Acc: 0.563562 loss: 1.435680\n",
            "Pseudo Labeling : 645\n",
            "[691/3000] Train Acc: 0.879130 Loss: 0.342926 | Val Acc: 0.597553 loss: 1.362316\n",
            "Pseudo Labeling : 689\n",
            "[692/3000] Train Acc: 0.878995 Loss: 0.340958 | Val Acc: 0.585996 loss: 1.375106\n",
            "Pseudo Labeling : 651\n",
            "[693/3000] Train Acc: 0.883698 Loss: 0.343194 | Val Acc: 0.577838 loss: 1.385641\n",
            "Pseudo Labeling : 676\n",
            "[694/3000] Train Acc: 0.884254 Loss: 0.337208 | Val Acc: 0.581237 loss: 1.390093\n",
            "Pseudo Labeling : 648\n",
            "[695/3000] Train Acc: 0.883670 Loss: 0.336334 | Val Acc: 0.578518 loss: 1.402422\n",
            "Pseudo Labeling : 650\n",
            "[696/3000] Train Acc: 0.881273 Loss: 0.340513 | Val Acc: 0.584976 loss: 1.379054\n",
            "Pseudo Labeling : 703\n",
            "[697/3000] Train Acc: 0.882900 Loss: 0.337970 | Val Acc: 0.569001 loss: 1.423153\n",
            "Pseudo Labeling : 630\n",
            "[698/3000] Train Acc: 0.880678 Loss: 0.336530 | Val Acc: 0.573419 loss: 1.407261\n",
            "Pseudo Labeling : 669\n",
            "[699/3000] Train Acc: 0.881937 Loss: 0.344238 | Val Acc: 0.593134 loss: 1.380340\n",
            "Pseudo Labeling : 663\n",
            "[700/3000] Train Acc: 0.880995 Loss: 0.339473 | Val Acc: 0.571380 loss: 1.417764\n",
            "Pseudo Labeling : 660\n",
            "[701/3000] Train Acc: 0.884748 Loss: 0.337331 | Val Acc: 0.560843 loss: 1.420350\n",
            "Pseudo Labeling : 679\n",
            "[702/3000] Train Acc: 0.882433 Loss: 0.338265 | Val Acc: 0.556084 loss: 1.420404\n",
            "Pseudo Labeling : 705\n",
            "[703/3000] Train Acc: 0.879471 Loss: 0.343687 | Val Acc: 0.578858 loss: 1.377249\n",
            "Pseudo Labeling : 684\n",
            "[704/3000] Train Acc: 0.881838 Loss: 0.341160 | Val Acc: 0.580897 loss: 1.391566\n",
            "Pseudo Labeling : 656\n",
            "[705/3000] Train Acc: 0.884711 Loss: 0.338505 | Val Acc: 0.594154 loss: 1.368089\n",
            "Pseudo Labeling : 689\n",
            "[706/3000] Train Acc: 0.884374 Loss: 0.334072 | Val Acc: 0.580897 loss: 1.383912\n",
            "Pseudo Labeling : 626\n",
            "[707/3000] Train Acc: 0.880397 Loss: 0.341823 | Val Acc: 0.586336 loss: 1.392065\n",
            "Pseudo Labeling : 689\n",
            "[708/3000] Train Acc: 0.881725 Loss: 0.337623 | Val Acc: 0.581237 loss: 1.391551\n",
            "Pseudo Labeling : 679\n",
            "[709/3000] Train Acc: 0.882273 Loss: 0.340632 | Val Acc: 0.581577 loss: 1.411142\n",
            "Pseudo Labeling : 677\n",
            "[710/3000] Train Acc: 0.885790 Loss: 0.334483 | Val Acc: 0.596533 loss: 1.368450\n",
            "Pseudo Labeling : 657\n",
            "[711/3000] Train Acc: 0.883513 Loss: 0.341031 | Val Acc: 0.566621 loss: 1.432071\n",
            "Pseudo Labeling : 677\n",
            "[712/3000] Train Acc: 0.885710 Loss: 0.335722 | Val Acc: 0.578178 loss: 1.408208\n",
            "Pseudo Labeling : 711\n",
            "[713/3000] Train Acc: 0.881372 Loss: 0.336042 | Val Acc: 0.584636 loss: 1.409183\n",
            "Pseudo Labeling : 673\n",
            "[714/3000] Train Acc: 0.882296 Loss: 0.340308 | Val Acc: 0.582937 loss: 1.398444\n",
            "Pseudo Labeling : 647\n",
            "[715/3000] Train Acc: 0.880197 Loss: 0.342627 | Val Acc: 0.562542 loss: 1.426646\n",
            "Pseudo Labeling : 701\n",
            "[716/3000] Train Acc: 0.879352 Loss: 0.339911 | Val Acc: 0.594494 loss: 1.386670\n",
            "Pseudo Labeling : 650\n",
            "[717/3000] Train Acc: 0.881756 Loss: 0.332685 | Val Acc: 0.559143 loss: 1.426415\n",
            "Pseudo Labeling : 614\n",
            "[718/3000] Train Acc: 0.883108 Loss: 0.341027 | Val Acc: 0.563562 loss: 1.425661\n",
            "Pseudo Labeling : 669\n",
            "[719/3000] Train Acc: 0.882902 Loss: 0.341053 | Val Acc: 0.588715 loss: 1.405984\n",
            "Pseudo Labeling : 665\n",
            "[720/3000] Train Acc: 0.886887 Loss: 0.336577 | Val Acc: 0.577838 loss: 1.395419\n",
            "Pseudo Labeling : 684\n",
            "[721/3000] Train Acc: 0.883926 Loss: 0.338132 | Val Acc: 0.575459 loss: 1.390183\n",
            "Pseudo Labeling : 636\n",
            "[722/3000] Train Acc: 0.883316 Loss: 0.339255 | Val Acc: 0.583277 loss: 1.409521\n",
            "Pseudo Labeling : 693\n",
            "[723/3000] Train Acc: 0.883609 Loss: 0.336592 | Val Acc: 0.570700 loss: 1.403395\n"
          ]
        }
      ]
    },
    {
      "cell_type": "code",
      "source": [
        "print(f'Training use {round(end_time - start_time, 3)}s')"
      ],
      "metadata": {
        "id": "NLnpYLpwYlop",
        "colab": {
          "base_uri": "https://localhost:8080/"
        },
        "outputId": "342131dc-66b5-473d-ac1c-8aadd082a453"
      },
      "execution_count": 470,
      "outputs": [
        {
          "output_type": "stream",
          "name": "stdout",
          "text": [
            "Training use 475.99s\n"
          ]
        }
      ]
    },
    {
      "cell_type": "code",
      "source": [
        "def plot_learning_curve(train_record, valid_record, title=''):\n",
        "    total_steps = len(train_record)\n",
        "    x = range(total_steps)\n",
        "    plt.figure(figsize=(6, 4))\n",
        "    plt.plot(x, train_record, c='tab:red', label='train')\n",
        "    plt.plot(x, valid_record, c='tab:cyan', label='valid')\n",
        "    plt.ylim(0.0, max(valid_record) + 1)\n",
        "    plt.xlabel('Training epoch')\n",
        "    plt.ylabel(title)\n",
        "    plt.title('Learning curve of {}'.format(title))\n",
        "    plt.legend()\n",
        "    plt.show()"
      ],
      "metadata": {
        "id": "ZX4SmxBQIIcU"
      },
      "execution_count": 471,
      "outputs": []
    },
    {
      "cell_type": "code",
      "source": [
        "plot_learning_curve(train_acc_list, val_acc_list, 'Acc')"
      ],
      "metadata": {
        "id": "CukLL-yVJFdu",
        "colab": {
          "base_uri": "https://localhost:8080/",
          "height": 295
        },
        "outputId": "c8985099-9087-4f45-8518-026a8bf39b39"
      },
      "execution_count": 472,
      "outputs": [
        {
          "output_type": "display_data",
          "data": {
            "image/png": "[encoded data removed]",
            "text/plain": [
              "<Figure size 432x288 with 1 Axes>"
            ]
          },
          "metadata": {
            "needs_background": "light"
          }
        }
      ]
    },
    {
      "cell_type": "code",
      "source": [
        "plot_learning_curve(train_loss_list, val_loss_list, 'Loss')"
      ],
      "metadata": {
        "id": "LUDXf-nKJQKU",
        "colab": {
          "base_uri": "https://localhost:8080/",
          "height": 295
        },
        "outputId": "7fe9052a-3a82-491a-ba4c-2ac6ee0c9e15"
      },
      "execution_count": 473,
      "outputs": [
        {
          "output_type": "display_data",
          "data": {
            "image/png": "[encoded data removed]",
            "text/plain": [
              "<Figure size 432x288 with 1 Axes>"
            ]
          },
          "metadata": {
            "needs_background": "light"
          }
        }
      ]
    },
    {
      "cell_type": "code",
      "source": [
        "model = Classifier().to(device)\n",
        "model.load_state_dict(torch.load(model_path, map_location=device))\n",
        "\n",
        "model.eval() # set the model to evaluation mode\n",
        "train_predict = []\n",
        "err = 0\n",
        "for i, data in enumerate(train_loader):\n",
        "    inputs, labels = data\n",
        "    inputs, labels = inputs.to(device), labels.to(device)\n",
        "    outputs = model(inputs)\n",
        "    _, test_pred = torch.max(outputs, 1) # get the index of the class with the highest probability\n",
        "\n",
        "    for y in test_pred.cpu().numpy():\n",
        "        train_predict.append(y)\n",
        "\n",
        "Ein = np.mean(np.array(train_predict) != train_y)\n",
        "F1in = metrics.f1_score(train_y, train_predict, average='macro')  \n",
        "print(f'Ein = {round(Ein, 5)}')\n",
        "print(f'F1_in = {round(F1in, 5)}')\n",
        "\n",
        "val_predict = []\n",
        "for i, data in enumerate(val_loader):\n",
        "    inputs = data[0]\n",
        "    inputs = inputs.to(device)\n",
        "    outputs = model(inputs)\n",
        "    _, test_pred = torch.max(outputs, 1) # get the index of the class with the highest probability\n",
        "\n",
        "    for y in test_pred.cpu().numpy():\n",
        "        val_predict.append(y)\n",
        "\n",
        "Eval = np.mean(np.array(val_predict) != val_y)\n",
        "F1val = metrics.f1_score(val_y, val_predict, average='macro')  \n",
        "print(f'Eval = {round(Eval, 5)}')\n",
        "print(f'F1_val = {round(F1val, 5)}')"
      ],
      "metadata": {
        "id": "zCQ8Si4Yg5nh",
        "colab": {
          "base_uri": "https://localhost:8080/"
        },
        "outputId": "174f856f-51bc-4c13-9fcf-78018b3c1864"
      },
      "execution_count": 474,
      "outputs": [
        {
          "output_type": "stream",
          "name": "stdout",
          "text": [
            "Ein = 0.76685\n",
            "F1_in = 0.162\n",
            "Eval = 0.39531\n",
            "F1_val = 0.23803\n"
          ]
        }
      ]
    },
    {
      "cell_type": "markdown",
      "source": [
        "# **Deep Neural Network Test**"
      ],
      "metadata": {
        "id": "ynT-KFltscT8"
      }
    },
    {
      "cell_type": "code",
      "source": [
        "# create testing dataset\n",
        "test_set = IBMDataset(X_test_std, None)\n",
        "test_loader = DataLoader(test_set, batch_size=BATCH_SIZE, shuffle=False)\n",
        "\n",
        "# create model and load weights from checkpoint\n",
        "model = Classifier().to(device)\n",
        "model.load_state_dict(torch.load(model_path, map_location=device))"
      ],
      "metadata": {
        "id": "lukrC4MJWTjM",
        "colab": {
          "base_uri": "https://localhost:8080/"
        },
        "outputId": "2610d747-c0d2-4d30-b304-e449b6a9b1f9"
      },
      "execution_count": 475,
      "outputs": [
        {
          "output_type": "execute_result",
          "data": {
            "text/plain": [
              "<All keys matched successfully>"
            ]
          },
          "metadata": {},
          "execution_count": 475
        }
      ]
    },
    {
      "cell_type": "code",
      "source": [
        "predict = []\n",
        "model.eval() # set the model to evaluation mode\n",
        "for i, data in enumerate(test_loader):\n",
        "    inputs = data\n",
        "    inputs = inputs.to(device)\n",
        "    outputs = model(inputs)\n",
        "    _, test_pred = torch.max(outputs, 1) # get the index of the class with the highest probability\n",
        "\n",
        "    for y in test_pred.cpu().numpy():\n",
        "        predict.append(y)\n",
        "\n",
        "print(encoder_map)\n",
        "print(np.bincount(predict))"
      ],
      "metadata": {
        "id": "OlQ1d1fdVt_V",
        "colab": {
          "base_uri": "https://localhost:8080/"
        },
        "outputId": "03134a28-0d1d-45ce-ac03-f52225320462"
      },
      "execution_count": 476,
      "outputs": [
        {
          "output_type": "stream",
          "name": "stdout",
          "text": [
            "{'Attitude': 0, 'Competitor': 1, 'Dissatisfaction': 2, 'No Churn': 3, 'Other': 4, 'Price': 5}\n",
            "[  69  180   63 1041   22   34]\n"
          ]
        }
      ]
    },
    {
      "cell_type": "code",
      "source": [
        "dnn_submit_result = './dnn_result.csv'\n",
        "\n",
        "new_encoder_map = {'No Churn':0, 'Competitor': 1, 'Dissatisfaction':2, 'Attitude': 3, 'Price':4, 'Other':5}\n",
        "\n",
        "with open(dnn_submit_result, 'w') as f:\n",
        "    f.write('Customer ID,Churn Category\\n')\n",
        "    for i in range(len(df_test.values)):\n",
        "        id = str(df_test.values[i]).replace('[\\'', '')\n",
        "        id = id.replace('\\']', '')\n",
        "        pred = new_encoder_map.get(list(encoder_map.keys())[list(encoder_map.values()).index(predict[i])])\n",
        "        f.write(f'{id},{pred}\\n')"
      ],
      "metadata": {
        "id": "11ImkbPjn6qP"
      },
      "execution_count": 477,
      "outputs": []
    },
    {
      "cell_type": "code",
      "source": [
        "from google.colab import files\n",
        "\n",
        "files.download(dnn_submit_result)\n",
        "files.download(model_path)"
      ],
      "metadata": {
        "id": "YICyBRaGo43O",
        "colab": {
          "base_uri": "https://localhost:8080/",
          "height": 17
        },
        "outputId": "eb3be50e-a5fc-4904-ecf2-e8adba42ad7d"
      },
      "execution_count": 478,
      "outputs": [
        {
          "output_type": "display_data",
          "data": {
            "application/javascript": [
              "\n",
              "    async function download(id, filename, size) {\n",
              "      if (!google.colab.kernel.accessAllowed) {\n",
              "        return;\n",
              "      }\n",
              "      const div = document.createElement('div');\n",
              "      const label = document.createElement('label');\n",
              "      label.textContent = `Downloading \"${filename}\": `;\n",
              "      div.appendChild(label);\n",
              "      const progress = document.createElement('progress');\n",
              "      progress.max = size;\n",
              "      div.appendChild(progress);\n",
              "      document.body.appendChild(div);\n",
              "\n",
              "      const buffers = [];\n",
              "      let downloaded = 0;\n",
              "\n",
              "      const channel = await google.colab.kernel.comms.open(id);\n",
              "      // Send a message to notify the kernel that we're ready.\n",
              "      channel.send({})\n",
              "\n",
              "      for await (const message of channel.messages) {\n",
              "        // Send a message to notify the kernel that we're ready.\n",
              "        channel.send({})\n",
              "        if (message.buffers) {\n",
              "          for (const buffer of message.buffers) {\n",
              "            buffers.push(buffer);\n",
              "            downloaded += buffer.byteLength;\n",
              "            progress.value = downloaded;\n",
              "          }\n",
              "        }\n",
              "      }\n",
              "      const blob = new Blob(buffers, {type: 'application/binary'});\n",
              "      const a = document.createElement('a');\n",
              "      a.href = window.URL.createObjectURL(blob);\n",
              "      a.download = filename;\n",
              "      div.appendChild(a);\n",
              "      a.click();\n",
              "      div.remove();\n",
              "    }\n",
              "  "
            ],
            "text/plain": [
              "<IPython.core.display.Javascript object>"
            ]
          },
          "metadata": {}
        },
        {
          "output_type": "display_data",
          "data": {
            "application/javascript": [
              "download(\"download_2dffb794-312e-47f1-9c9f-80841e54af35\", \"dnn_result.csv\", 18344)"
            ],
            "text/plain": [
              "<IPython.core.display.Javascript object>"
            ]
          },
          "metadata": {}
        },
        {
          "output_type": "display_data",
          "data": {
            "application/javascript": [
              "\n",
              "    async function download(id, filename, size) {\n",
              "      if (!google.colab.kernel.accessAllowed) {\n",
              "        return;\n",
              "      }\n",
              "      const div = document.createElement('div');\n",
              "      const label = document.createElement('label');\n",
              "      label.textContent = `Downloading \"${filename}\": `;\n",
              "      div.appendChild(label);\n",
              "      const progress = document.createElement('progress');\n",
              "      progress.max = size;\n",
              "      div.appendChild(progress);\n",
              "      document.body.appendChild(div);\n",
              "\n",
              "      const buffers = [];\n",
              "      let downloaded = 0;\n",
              "\n",
              "      const channel = await google.colab.kernel.comms.open(id);\n",
              "      // Send a message to notify the kernel that we're ready.\n",
              "      channel.send({})\n",
              "\n",
              "      for await (const message of channel.messages) {\n",
              "        // Send a message to notify the kernel that we're ready.\n",
              "        channel.send({})\n",
              "        if (message.buffers) {\n",
              "          for (const buffer of message.buffers) {\n",
              "            buffers.push(buffer);\n",
              "            downloaded += buffer.byteLength;\n",
              "            progress.value = downloaded;\n",
              "          }\n",
              "        }\n",
              "      }\n",
              "      const blob = new Blob(buffers, {type: 'application/binary'});\n",
              "      const a = document.createElement('a');\n",
              "      a.href = window.URL.createObjectURL(blob);\n",
              "      a.download = filename;\n",
              "      div.appendChild(a);\n",
              "      a.click();\n",
              "      div.remove();\n",
              "    }\n",
              "  "
            ],
            "text/plain": [
              "<IPython.core.display.Javascript object>"
            ]
          },
          "metadata": {}
        },
        {
          "output_type": "display_data",
          "data": {
            "application/javascript": [
              "download(\"download_1df94d92-fb04-4c9c-b2e5-d5b6de148064\", \"best_model.ckpt\", 94453)"
            ],
            "text/plain": [
              "<IPython.core.display.Javascript object>"
            ]
          },
          "metadata": {}
        }
      ]
    },
    {
      "cell_type": "markdown",
      "source": [
        "# **XGBoost Train**"
      ],
      "metadata": {
        "id": "I--nvDfv2IDM"
      }
    },
    {
      "cell_type": "code",
      "source": [
        "train_x, train_y, val_x, val_y = X_train[:percent], y_train[:percent], X_train[percent:], y_train[percent:]\n",
        "\n",
        "ss = StandardScaler().fit(train_x)\n",
        "train_x = ss.transform(train_x)\n",
        "miss_x = ss.transform(X_train_miss)\n",
        "val_x = ss.transform(val_x)\n",
        "X_test_std = ss.transform(X_test)"
      ],
      "metadata": {
        "id": "gtCWGNOQ9Mw2"
      },
      "execution_count": 479,
      "outputs": []
    },
    {
      "cell_type": "code",
      "source": [
        "classifier = XGBClassifier(\n",
        "    learning_rate =0.3,\n",
        "    n_estimators=20,\n",
        "    max_depth=10,\n",
        "    min_child_weight=1,\n",
        "    gamma=0,\n",
        "    subsample=0.5,\n",
        "    colsample_bytree=0.8,\n",
        "    scale_pos_weight=1,\n",
        "    use_label_encoder =False,\n",
        "    eval_metric='mlogloss') "
      ],
      "metadata": {
        "id": "zF-JV_to2MxL"
      },
      "execution_count": 480,
      "outputs": []
    },
    {
      "cell_type": "code",
      "source": [
        "start_time = time.time()\n",
        "model = classifier.fit(train_x, train_y)\n",
        "end_time = time.time()\n",
        "\n",
        "train_predict = model.predict(train_x)\n",
        "val_predict = model.predict(val_x)"
      ],
      "metadata": {
        "id": "zFY-5azh2r3d"
      },
      "execution_count": 481,
      "outputs": []
    },
    {
      "cell_type": "code",
      "source": [
        "print(f'Training use {round(end_time - start_time, 3)}s')"
      ],
      "metadata": {
        "id": "GfBSn9HV4u06",
        "colab": {
          "base_uri": "https://localhost:8080/"
        },
        "outputId": "b34b76dd-0e6a-46b7-be00-3df5e70d3abe"
      },
      "execution_count": 482,
      "outputs": [
        {
          "output_type": "stream",
          "name": "stdout",
          "text": [
            "Training use 2.982s\n"
          ]
        }
      ]
    },
    {
      "cell_type": "code",
      "source": [
        "Ein = np.mean(np.array(train_predict) != train_y)\n",
        "F1in = metrics.f1_score(train_y, train_predict, average='macro')  \n",
        "print(f'Ein = {round(Ein, 5)}')\n",
        "print(f'F1_in = {round(F1in, 5)}')\n",
        "print('XGBoost Train Score {}'.format(model.score(train_x, train_y)))\n",
        "print()\n",
        "\n",
        "Eval = np.mean(np.array(val_predict) != val_y)\n",
        "F1val = metrics.f1_score(val_y, val_predict, average='macro')  \n",
        "print(f'Eval = {round(Eval, 5)}')\n",
        "print(f'F1_val = {round(F1val, 5)}')\n",
        "print('XGBoost Valid Score {}'.format(model.score(val_x, val_y)))"
      ],
      "metadata": {
        "id": "dV4vriv-3oTN",
        "colab": {
          "base_uri": "https://localhost:8080/"
        },
        "outputId": "5edc80ae-c76f-42f6-d159-76d7009952bf"
      },
      "execution_count": 483,
      "outputs": [
        {
          "output_type": "stream",
          "name": "stdout",
          "text": [
            "Ein = 0.06196\n",
            "F1_in = 0.87483\n",
            "XGBoost Train Score 0.9380365490862729\n",
            "\n",
            "Eval = 0.54657\n",
            "F1_val = 0.18123\n",
            "XGBoost Valid Score 0.45343303874915025\n"
          ]
        }
      ]
    },
    {
      "cell_type": "markdown",
      "source": [
        "# **XGBoost Test**"
      ],
      "metadata": {
        "id": "gAqchC5z5SCq"
      }
    },
    {
      "cell_type": "code",
      "source": [
        "predict = model.predict(X_test_std)\n",
        "predict = np.array(predict, dtype=np.int64)\n",
        "\n",
        "print(encoder_map)\n",
        "print(np.bincount(predict))"
      ],
      "metadata": {
        "id": "NiwmuhY14HUx",
        "colab": {
          "base_uri": "https://localhost:8080/"
        },
        "outputId": "c59d6e20-5eff-4c6e-a834-42b5c0380cad"
      },
      "execution_count": 484,
      "outputs": [
        {
          "output_type": "stream",
          "name": "stdout",
          "text": [
            "{'Attitude': 0, 'Competitor': 1, 'Dissatisfaction': 2, 'No Churn': 3, 'Other': 4, 'Price': 5}\n",
            "[  50  220   29 1102    3    5]\n"
          ]
        }
      ]
    },
    {
      "cell_type": "code",
      "source": [
        "xgboost_submit_result = './xgboost_result.csv'\n",
        "\n",
        "new_encoder_map = {'No Churn':0, 'Competitor': 1, 'Dissatisfaction':2, 'Attitude': 3, 'Price':4, 'Other':5}\n",
        "\n",
        "with open(xgboost_submit_result, 'w') as f:\n",
        "    f.write('Customer ID,Churn Category\\n')\n",
        "    for i in range(len(df_test.values)):\n",
        "        id = str(df_test.values[i]).replace('[\\'', '')\n",
        "        id = id.replace('\\']', '')\n",
        "        pred = new_encoder_map.get(list(encoder_map.keys())[list(encoder_map.values()).index(predict[i])])\n",
        "        f.write(f'{id},{pred}\\n')"
      ],
      "metadata": {
        "id": "7-83hh885x4r"
      },
      "execution_count": 485,
      "outputs": []
    },
    {
      "cell_type": "code",
      "source": [
        "from google.colab import files\n",
        "\n",
        "files.download(xgboost_submit_result)"
      ],
      "metadata": {
        "id": "ja3UsNE-6Rri",
        "colab": {
          "base_uri": "https://localhost:8080/",
          "height": 17
        },
        "outputId": "9ca63548-fb35-4dbc-821e-08e04f29b618"
      },
      "execution_count": 486,
      "outputs": [
        {
          "output_type": "display_data",
          "data": {
            "application/javascript": [
              "\n",
              "    async function download(id, filename, size) {\n",
              "      if (!google.colab.kernel.accessAllowed) {\n",
              "        return;\n",
              "      }\n",
              "      const div = document.createElement('div');\n",
              "      const label = document.createElement('label');\n",
              "      label.textContent = `Downloading \"${filename}\": `;\n",
              "      div.appendChild(label);\n",
              "      const progress = document.createElement('progress');\n",
              "      progress.max = size;\n",
              "      div.appendChild(progress);\n",
              "      document.body.appendChild(div);\n",
              "\n",
              "      const buffers = [];\n",
              "      let downloaded = 0;\n",
              "\n",
              "      const channel = await google.colab.kernel.comms.open(id);\n",
              "      // Send a message to notify the kernel that we're ready.\n",
              "      channel.send({})\n",
              "\n",
              "      for await (const message of channel.messages) {\n",
              "        // Send a message to notify the kernel that we're ready.\n",
              "        channel.send({})\n",
              "        if (message.buffers) {\n",
              "          for (const buffer of message.buffers) {\n",
              "            buffers.push(buffer);\n",
              "            downloaded += buffer.byteLength;\n",
              "            progress.value = downloaded;\n",
              "          }\n",
              "        }\n",
              "      }\n",
              "      const blob = new Blob(buffers, {type: 'application/binary'});\n",
              "      const a = document.createElement('a');\n",
              "      a.href = window.URL.createObjectURL(blob);\n",
              "      a.download = filename;\n",
              "      div.appendChild(a);\n",
              "      a.click();\n",
              "      div.remove();\n",
              "    }\n",
              "  "
            ],
            "text/plain": [
              "<IPython.core.display.Javascript object>"
            ]
          },
          "metadata": {}
        },
        {
          "output_type": "display_data",
          "data": {
            "application/javascript": [
              "download(\"download_9090958f-2fa1-4a8a-9c4e-e033d690710d\", \"xgboost_result.csv\", 18344)"
            ],
            "text/plain": [
              "<IPython.core.display.Javascript object>"
            ]
          },
          "metadata": {}
        }
      ]
    },
    {
      "cell_type": "markdown",
      "source": [
        "# **Test Data Analysis**"
      ],
      "metadata": {
        "id": "1dE9W_Gh6wyj"
      }
    },
    {
      "cell_type": "code",
      "source": [
        "svm_test = pd.read_csv(svm_submit_result)\n",
        "dnn_test = pd.read_csv(dnn_submit_result)\n",
        "xgboost_test = pd.read_csv(xgboost_submit_result)"
      ],
      "metadata": {
        "id": "QO4s3Wf76wRi"
      },
      "execution_count": 487,
      "outputs": []
    },
    {
      "cell_type": "code",
      "source": [
        "def plotResult(dataset1, dataset2, dataset3, method):\n",
        "    fig, ax = plt.subplots(1, 3, figsize=(16, 6))\n",
        "    fig.suptitle('Test Data Statistics')\n",
        "\n",
        "    counts = []\n",
        "    iter = 0\n",
        "    for dataset in [dataset1, dataset2, dataset3]:\n",
        "        freq = dataset.groupby('Churn Category').size()\n",
        "        print(f'====== {method[iter]} ======')\n",
        "        print(freq)\n",
        "        print()\n",
        "\n",
        "        counts = [count for _, count in freq.items()]\n",
        "        x = np.arange(len(counts))\n",
        "        ax[iter].bar(x, counts)\n",
        "        ax[iter].set_xticks([0, 1, 2, 3, 4, 5])\n",
        "        ax[iter].set_xticklabels(['No Churn', 'Competitor', 'Dissatisfaction', 'Attitude', 'Price', 'Other'], rotation=90)\n",
        "        ax[iter].set_title(f'{method[iter]}')\n",
        "        iter += 1\n",
        "\n",
        "    plt.show()"
      ],
      "metadata": {
        "id": "EkC9pH9c7pP6"
      },
      "execution_count": 488,
      "outputs": []
    },
    {
      "cell_type": "code",
      "source": [
        "plotResult(svm_test, dnn_test, xgboost_test, ['SVM', 'DNN', 'XGBoost'])"
      ],
      "metadata": {
        "id": "eEJrLSXg8YsC",
        "colab": {
          "base_uri": "https://localhost:8080/",
          "height": 1000
        },
        "outputId": "3dfa3ba2-45b2-45d9-8501-15eec44517d7"
      },
      "execution_count": 489,
      "outputs": [
        {
          "output_type": "stream",
          "name": "stdout",
          "text": [
            "====== SVM ======\n",
            "Churn Category\n",
            "0    980\n",
            "1    223\n",
            "2     72\n",
            "3     93\n",
            "4     25\n",
            "5     16\n",
            "dtype: int64\n",
            "\n",
            "====== DNN ======\n",
            "Churn Category\n",
            "0    1041\n",
            "1     180\n",
            "2      63\n",
            "3      69\n",
            "4      34\n",
            "5      22\n",
            "dtype: int64\n",
            "\n",
            "====== XGBoost ======\n",
            "Churn Category\n",
            "0    1102\n",
            "1     220\n",
            "2      29\n",
            "3      50\n",
            "4       5\n",
            "5       3\n",
            "dtype: int64\n",
            "\n"
          ]
        },
        {
          "output_type": "display_data",
          "data": {
            "image/png": "[encoded data removed]",
            "text/plain": [
              "<Figure size 1152x432 with 3 Axes>"
            ]
          },
          "metadata": {
            "needs_background": "light"
          }
        }
      ]
    }
  ]
}