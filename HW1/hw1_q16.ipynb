{
 "cells": [
  {
   "cell_type": "code",
   "execution_count": 13,
   "metadata": {},
   "outputs": [],
   "source": [
    "import numpy as np"
   ]
  },
  {
   "cell_type": "code",
   "execution_count": 14,
   "metadata": {},
   "outputs": [],
   "source": [
    "filePath = 'hw1_train.dat'"
   ]
  },
  {
   "cell_type": "code",
   "execution_count": 15,
   "metadata": {},
   "outputs": [
    {
     "name": "stdout",
     "output_type": "stream",
     "text": [
      "(100, 11)\n",
      "(100,)\n"
     ]
    }
   ],
   "source": [
    "def readFile(path):\n",
    "    X = []\n",
    "    y = []\n",
    "    for line in open(path).readlines():\n",
    "        data = line.strip().split('\\t')\n",
    "        y.append(float(data[-1]))\n",
    "        X.append(list(map(float, data[:-1])))\n",
    "\n",
    "    return np.array(X), np.array(y)\n",
    "\n",
    "X, y = readFile(filePath)\n",
    "X = np.insert(X, 0, np.zeros(X.shape[0]), 1)\n",
    "\n",
    "print(X.shape)\n",
    "print(y.shape)"
   ]
  },
  {
   "cell_type": "code",
   "execution_count": 16,
   "metadata": {},
   "outputs": [
    {
     "name": "stdout",
     "output_type": "stream",
     "text": [
      "541.4407857585562\n"
     ]
    }
   ],
   "source": [
    "wpla_norm = 0\n",
    "expTimes = 1000\n",
    "for expTime in range(expTimes):\n",
    "    np.random.seed(expTime)\n",
    "\n",
    "    w = np.zeros(X.shape[1])\n",
    "    noMistakeTime = 0\n",
    "    while True:\n",
    "        index = np.random.randint(0, X.shape[0])\n",
    "        \n",
    "        if np.sign(w.T.dot(X[index])) == 0:\n",
    "            sign = -1\n",
    "        else:\n",
    "            sign = np.sign(w.T.dot(X[index]))\n",
    "\n",
    "        if sign != y[index]:\n",
    "            noMistakeTime = 0\n",
    "            w += y[index] * X[index]\n",
    "        else:\n",
    "            noMistakeTime += 1\n",
    "\n",
    "        if noMistakeTime == 5 * X.shape[0]:\n",
    "            break\n",
    "\n",
    "    wpla_norm += sum([e ** 2 for e in w])\n",
    "\n",
    "print(wpla_norm / expTimes)"
   ]
  }
 ],
 "metadata": {
  "interpreter": {
   "hash": "b3140c15f8c543afaecd51f7585697eb95506ea7acc11748be6f09d14f5b0914"
  },
  "kernelspec": {
   "display_name": "Python 3.6.7 64-bit ('ML': conda)",
   "name": "python3"
  },
  "language_info": {
   "codemirror_mode": {
    "name": "ipython",
    "version": 3
   },
   "file_extension": ".py",
   "mimetype": "text/x-python",
   "name": "python",
   "nbconvert_exporter": "python",
   "pygments_lexer": "ipython3",
   "version": "3.6.7"
  },
  "orig_nbformat": 4
 },
 "nbformat": 4,
 "nbformat_minor": 2
}
