{
 "cells": [
  {
   "cell_type": "code",
   "execution_count": 1,
   "metadata": {},
   "outputs": [],
   "source": [
    "import numpy as np\n",
    "from libsvm.svmutil import *"
   ]
  },
  {
   "cell_type": "code",
   "execution_count": 2,
   "metadata": {},
   "outputs": [],
   "source": [
    "def relabel(dataset, target):\n",
    "    new_dataset = []\n",
    "\n",
    "    for item in dataset:\n",
    "        new_dataset.append(1 if item == target else -1)\n",
    "    \n",
    "    return new_dataset"
   ]
  },
  {
   "cell_type": "code",
   "execution_count": 3,
   "metadata": {},
   "outputs": [
    {
     "name": "stdout",
     "output_type": "stream",
     "text": [
      "Accuracy = 76.95% (1539/2000) (classification)\n",
      "C = 0.01 : Eout = 23.049999999999997\n",
      "Accuracy = 79.25% (1585/2000) (classification)\n",
      "C = 0.1 : Eout = 20.75\n",
      "Accuracy = 89.05% (1781/2000) (classification)\n",
      "C = 1 : Eout = 10.950000000000003\n",
      "Accuracy = 89.95% (1799/2000) (classification)\n",
      "C = 10 : Eout = 10.049999999999997\n",
      "Accuracy = 89.95% (1799/2000) (classification)\n",
      "C = 100 : Eout = 10.049999999999997\n",
      "=============================\n",
      "C = 10 reaches the min Eout\n"
     ]
    }
   ],
   "source": [
    "train_filePath = 'satimage.scale'\n",
    "test_filePath = 'satimage.scale.t'\n",
    "\n",
    "y_train, X_train = svm_read_problem(train_filePath)\n",
    "y_test, X_test = svm_read_problem(test_filePath)\n",
    "\n",
    "minEout = np.inf\n",
    "ans = 0\n",
    "for exp in range(5):\n",
    "    new_y_train = relabel(y_train, 1)\n",
    "    new_y_test = relabel(y_test, 1)\n",
    "    c = 10 ** (exp - 2)\n",
    "    model = svm_train(new_y_train, X_train, f'-s 0 -c {c} -t 2 -g 10')\n",
    "    p_label, p_acc, p_val = svm_predict(new_y_test, X_test, model)\n",
    "\n",
    "    Eout = 100 - p_acc[0]\n",
    "    print(f'C = {c} : Eout = {Eout}')\n",
    "    if Eout < minEout:\n",
    "        minEout = Eout\n",
    "        ans = c\n",
    "\n",
    "print('=============================')\n",
    "print(f'C = {ans} reaches the min Eout')"
   ]
  }
 ],
 "metadata": {
  "interpreter": {
   "hash": "b3140c15f8c543afaecd51f7585697eb95506ea7acc11748be6f09d14f5b0914"
  },
  "kernelspec": {
   "display_name": "Python 3.6.7 64-bit ('ML': conda)",
   "language": "python",
   "name": "python3"
  },
  "language_info": {
   "codemirror_mode": {
    "name": "ipython",
    "version": 3
   },
   "file_extension": ".py",
   "mimetype": "text/x-python",
   "name": "python",
   "nbconvert_exporter": "python",
   "pygments_lexer": "ipython3",
   "version": "3.6.7"
  },
  "orig_nbformat": 4
 },
 "nbformat": 4,
 "nbformat_minor": 2
}
