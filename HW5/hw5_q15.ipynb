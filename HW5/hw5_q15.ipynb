{
 "cells": [
  {
   "cell_type": "code",
   "execution_count": 4,
   "metadata": {},
   "outputs": [],
   "source": [
    "import numpy as np\n",
    "from libsvm.svmutil import *"
   ]
  },
  {
   "cell_type": "code",
   "execution_count": 5,
   "metadata": {},
   "outputs": [],
   "source": [
    "def relabel(dataset, target):\n",
    "    new_dataset = []\n",
    "\n",
    "    for item in dataset:\n",
    "        new_dataset.append(1 if item == target else -1)\n",
    "    \n",
    "    return new_dataset"
   ]
  },
  {
   "cell_type": "code",
   "execution_count": 6,
   "metadata": {},
   "outputs": [
    {
     "name": "stdout",
     "output_type": "stream",
     "text": [
      "Accuracy = 98.75% (1975/2000) (classification)\n",
      "Gamma = 0.1 : Eout = 1.25\n",
      "Accuracy = 98.8% (1976/2000) (classification)\n",
      "Gamma = 1 : Eout = 1.2000000000000028\n",
      "Accuracy = 79.25% (1585/2000) (classification)\n",
      "Gamma = 10 : Eout = 20.75\n",
      "Accuracy = 76.95% (1539/2000) (classification)\n",
      "Gamma = 100 : Eout = 23.049999999999997\n",
      "Accuracy = 76.95% (1539/2000) (classification)\n",
      "Gamma = 1000 : Eout = 23.049999999999997\n",
      "=============================\n",
      "Gamma = 1 reaches the min Eout\n"
     ]
    }
   ],
   "source": [
    "train_filePath = 'satimage.scale'\n",
    "test_filePath = 'satimage.scale.t'\n",
    "\n",
    "y_train, X_train = svm_read_problem(train_filePath)\n",
    "y_test, X_test = svm_read_problem(test_filePath)\n",
    "\n",
    "minEout = np.inf\n",
    "ans = 0\n",
    "for gamma in range(5):\n",
    "    new_y_train = relabel(y_train, 1)\n",
    "    new_y_test = relabel(y_test, 1)\n",
    "    g = 10 ** (gamma - 1)\n",
    "    model = svm_train(new_y_train, X_train, f'-s 0 -c 0.1 -t 2 -g {g}')\n",
    "    p_label, p_acc, p_val = svm_predict(new_y_test, X_test, model)\n",
    "\n",
    "    Eout = 100 - p_acc[0]\n",
    "    print(f'Gamma = {g} : Eout = {Eout}')\n",
    "    if Eout < minEout:\n",
    "        minEout = Eout\n",
    "        ans = g\n",
    "\n",
    "print('=============================')\n",
    "print(f'Gamma = {ans} reaches the min Eout')"
   ]
  }
 ],
 "metadata": {
  "interpreter": {
   "hash": "b3140c15f8c543afaecd51f7585697eb95506ea7acc11748be6f09d14f5b0914"
  },
  "kernelspec": {
   "display_name": "Python 3.6.7 64-bit ('ML': conda)",
   "language": "python",
   "name": "python3"
  },
  "language_info": {
   "codemirror_mode": {
    "name": "ipython",
    "version": 3
   },
   "file_extension": ".py",
   "mimetype": "text/x-python",
   "name": "python",
   "nbconvert_exporter": "python",
   "pygments_lexer": "ipython3",
   "version": "3.6.7"
  },
  "orig_nbformat": 4
 },
 "nbformat": 4,
 "nbformat_minor": 2
}
