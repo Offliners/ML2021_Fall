{
 "cells": [
  {
   "cell_type": "code",
   "execution_count": 1,
   "metadata": {},
   "outputs": [],
   "source": [
    "import numpy as np\n",
    "from libsvm.svmutil import *"
   ]
  },
  {
   "cell_type": "code",
   "execution_count": 2,
   "metadata": {},
   "outputs": [],
   "source": [
    "def relabel(dataset, target):\n",
    "    new_dataset = []\n",
    "\n",
    "    for item in dataset:\n",
    "        new_dataset.append(1 if item == target else -1)\n",
    "    \n",
    "    return new_dataset"
   ]
  },
  {
   "cell_type": "code",
   "execution_count": 3,
   "metadata": {},
   "outputs": [
    {
     "name": "stdout",
     "output_type": "stream",
     "text": [
      "4.644563442139905\n"
     ]
    }
   ],
   "source": [
    "train_filePath = 'satimage.scale'\n",
    "\n",
    "y_train, X_train = svm_read_problem(train_filePath)\n",
    "X_upper = max(X_train[0].keys())\n",
    "X_lower = min(X_train[0].keys())\n",
    "new_y_train = relabel(y_train, 5)\n",
    "\n",
    "model = svm_train(new_y_train, X_train, '-s 0 -c 10 -t 0')\n",
    "w = np.zeros(X_upper)\n",
    "for i in range(len(model.get_sv_coef())):\n",
    "    support_vector = [model.get_SV()[i].get(item) for item in range(X_lower, X_upper + 1)]\n",
    "    support_vector = np.array([0 if item == None else item for item in support_vector])\n",
    "\n",
    "    w += model.get_sv_coef()[i][0] * support_vector\n",
    "\n",
    "print(np.linalg.norm(w))"
   ]
  }
 ],
 "metadata": {
  "interpreter": {
   "hash": "b3140c15f8c543afaecd51f7585697eb95506ea7acc11748be6f09d14f5b0914"
  },
  "kernelspec": {
   "display_name": "Python 3.6.7 64-bit ('ML': conda)",
   "language": "python",
   "name": "python3"
  },
  "language_info": {
   "codemirror_mode": {
    "name": "ipython",
    "version": 3
   },
   "file_extension": ".py",
   "mimetype": "text/x-python",
   "name": "python",
   "nbconvert_exporter": "python",
   "pygments_lexer": "ipython3",
   "version": "3.6.7"
  },
  "orig_nbformat": 4
 },
 "nbformat": 4,
 "nbformat_minor": 2
}
