{
 "cells": [
  {
   "cell_type": "code",
   "execution_count": 90,
   "metadata": {},
   "outputs": [],
   "source": [
    "import numpy as np\n",
    "from libsvm.svmutil import *"
   ]
  },
  {
   "cell_type": "code",
   "execution_count": 91,
   "metadata": {},
   "outputs": [],
   "source": [
    "def relabel(dataset, target):\n",
    "    new_dataset = []\n",
    "\n",
    "    for item in dataset:\n",
    "        new_dataset.append(1 if item == target else -1)\n",
    "    \n",
    "    return new_dataset\n",
    "\n",
    "def sparse_matrix_dense(dataset, lower, upper):\n",
    "    dense = [dataset.get(item) for item in range(lower, upper + 1)]\n",
    "    return np.array([0 if item == None else item for item in dense])"
   ]
  },
  {
   "cell_type": "code",
   "execution_count": 92,
   "metadata": {},
   "outputs": [
    {
     "name": "stdout",
     "output_type": "stream",
     "text": [
      "4.644563442139905\n"
     ]
    }
   ],
   "source": [
    "train_filePath = 'satimage.scale'\n",
    "\n",
    "y_train, X_train = svm_read_problem(train_filePath)\n",
    "upper = max(X_train[0].keys())\n",
    "lower = min(X_train[0].keys())\n",
    "new_y_train = relabel(y_train, 5)\n",
    "\n",
    "model = svm_train(new_y_train, X_train, '-c 10 -t 0')\n",
    "w = np.zeros(upper)\n",
    "for i in range(model.l):\n",
    "    w += model.sv_coef[0][i] * sparse_matrix_dense(X_train[model.sv_indices[i] - 1], lower, upper)\n",
    "\n",
    "print(np.linalg.norm(w))"
   ]
  }
 ],
 "metadata": {
  "interpreter": {
   "hash": "b3140c15f8c543afaecd51f7585697eb95506ea7acc11748be6f09d14f5b0914"
  },
  "kernelspec": {
   "display_name": "Python 3.6.7 64-bit ('ML': conda)",
   "language": "python",
   "name": "python3"
  },
  "language_info": {
   "codemirror_mode": {
    "name": "ipython",
    "version": 3
   },
   "file_extension": ".py",
   "mimetype": "text/x-python",
   "name": "python",
   "nbconvert_exporter": "python",
   "pygments_lexer": "ipython3",
   "version": "3.6.7"
  },
  "orig_nbformat": 4
 },
 "nbformat": 4,
 "nbformat_minor": 2
}
