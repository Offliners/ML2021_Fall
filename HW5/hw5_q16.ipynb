{
 "cells": [
  {
   "cell_type": "code",
   "execution_count": 4,
   "metadata": {},
   "outputs": [],
   "source": [
    "import numpy as np\n",
    "from libsvm.svmutil import *"
   ]
  },
  {
   "cell_type": "code",
   "execution_count": 5,
   "metadata": {},
   "outputs": [],
   "source": [
    "def relabel(dataset, target):\n",
    "    new_dataset = []\n",
    "\n",
    "    for item in dataset:\n",
    "        new_dataset.append(1 if item == target else -1)\n",
    "    \n",
    "    return new_dataset\n",
    "\n",
    "def shuffle(x, y, N):\n",
    "    p = np.random.permutation(len(y))\n",
    "    X_shuffle = np.array(x)[p]\n",
    "    y_shuffle = np.array(y)[p]\n",
    "    return X_shuffle[N:], y_shuffle[N:], X_shuffle[:N], y_shuffle[:N]"
   ]
  },
  {
   "cell_type": "code",
   "execution_count": 6,
   "metadata": {},
   "outputs": [
    {
     "name": "stdout",
     "output_type": "stream",
     "text": [
      "{0.1: 766, 1: 234, 10: 0, 100: 0, 1000: 0}\n",
      "=============================\n",
      "Gamma selected the most number of times is 0.1\n"
     ]
    }
   ],
   "source": [
    "train_filePath = 'satimage.scale'\n",
    "\n",
    "y_train, X_train = svm_read_problem(train_filePath)\n",
    "\n",
    "minEout = np.inf\n",
    "ans = 0\n",
    "expTimes = 1000\n",
    "best_gamma_list = {0.1:0, 1:0, 10:0, 100:0, 1000:0}\n",
    "for expTime in range(expTimes):\n",
    "    np.random.seed(expTime)\n",
    "    new_y_train = relabel(y_train, 1)\n",
    "    X_train_shuffle, y_train_shuffle, X_val, y_val = shuffle(X_train, new_y_train, 200)\n",
    "\n",
    "    minEval = np.inf\n",
    "    best_g = 0\n",
    "    for gamma in range(5):\n",
    "        g = 10 ** (gamma - 1)\n",
    "        model = svm_train(y_train_shuffle, X_train_shuffle, f'-s 0 -c 0.1 -t 2 -g {g} -q')\n",
    "        p_label, p_acc, p_val = svm_predict(y_val, X_val, model, '-q')\n",
    "\n",
    "        Eval = 100 - p_acc[0]\n",
    "        if Eval < minEval:\n",
    "            minEval = Eval\n",
    "            best_g = g\n",
    "    \n",
    "    best_gamma_list[best_g] += 1\n",
    "\n",
    "print(best_gamma_list)\n",
    "maxTimes = 0\n",
    "best_gamma = 0\n",
    "for g, times in best_gamma_list.items():\n",
    "    if times > maxTimes:\n",
    "        maxTimes = times\n",
    "        best_gamma = g\n",
    "\n",
    "print('=============================')\n",
    "print(f'Gamma selected the most number of times is {best_gamma}')"
   ]
  }
 ],
 "metadata": {
  "interpreter": {
   "hash": "b3140c15f8c543afaecd51f7585697eb95506ea7acc11748be6f09d14f5b0914"
  },
  "kernelspec": {
   "display_name": "Python 3.6.7 64-bit ('ML': conda)",
   "language": "python",
   "name": "python3"
  },
  "language_info": {
   "codemirror_mode": {
    "name": "ipython",
    "version": 3
   },
   "file_extension": ".py",
   "mimetype": "text/x-python",
   "name": "python",
   "nbconvert_exporter": "python",
   "pygments_lexer": "ipython3",
   "version": "3.6.7"
  },
  "orig_nbformat": 4
 },
 "nbformat": 4,
 "nbformat_minor": 2
}
