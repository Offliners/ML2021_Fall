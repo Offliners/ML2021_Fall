{
 "cells": [
  {
   "cell_type": "code",
   "execution_count": 7,
   "metadata": {},
   "outputs": [],
   "source": [
    "import numpy as np\n",
    "from libsvm.svmutil import *"
   ]
  },
  {
   "cell_type": "code",
   "execution_count": 8,
   "metadata": {},
   "outputs": [],
   "source": [
    "def relabel(dataset, target):\n",
    "    new_dataset = []\n",
    "\n",
    "    for item in dataset:\n",
    "        new_dataset.append(1 if item == target else -1)\n",
    "    \n",
    "    return new_dataset"
   ]
  },
  {
   "cell_type": "code",
   "execution_count": 9,
   "metadata": {},
   "outputs": [
    {
     "name": "stdout",
     "output_type": "stream",
     "text": [
      "=============================\n",
      "4 has the max number (659) of support vectors\n"
     ]
    }
   ],
   "source": [
    "train_filePath = 'satimage.scale'\n",
    "\n",
    "y_train, X_train = svm_read_problem(train_filePath)\n",
    "X_upper = max(X_train[0].keys())\n",
    "X_lower = min(X_train[0].keys())\n",
    "\n",
    "max_num_sv = 0\n",
    "ans = 0\n",
    "for target in range(2, 7):\n",
    "    new_y_train = relabel(y_train, target)\n",
    "\n",
    "    model = svm_train(new_y_train, X_train, '-s 0 -c 10 -d 3 -t 1 -g 1 -r 1')\n",
    "    num_sv = len(model.get_SV())\n",
    "\n",
    "    if num_sv > max_num_sv:\n",
    "        max_num_sv = num_sv\n",
    "        ans = target\n",
    "    \n",
    "print('=============================')\n",
    "print(f'{ans} has the max number ({max_num_sv}) of support vectors')"
   ]
  }
 ],
 "metadata": {
  "language_info": {
   "name": "python"
  },
  "orig_nbformat": 4
 },
 "nbformat": 4,
 "nbformat_minor": 2
}
