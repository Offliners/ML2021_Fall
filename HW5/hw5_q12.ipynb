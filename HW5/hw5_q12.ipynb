{
 "cells": [
  {
   "cell_type": "code",
   "execution_count": 1,
   "metadata": {},
   "outputs": [],
   "source": [
    "import numpy as np\n",
    "from libsvm.svmutil import *"
   ]
  },
  {
   "cell_type": "code",
   "execution_count": 2,
   "metadata": {},
   "outputs": [],
   "source": [
    "def relabel(dataset, target):\n",
    "    new_dataset = []\n",
    "\n",
    "    for item in dataset:\n",
    "        new_dataset.append(1 if item == target else -1)\n",
    "    \n",
    "    return new_dataset"
   ]
  },
  {
   "cell_type": "code",
   "execution_count": 3,
   "metadata": {},
   "outputs": [
    {
     "name": "stdout",
     "output_type": "stream",
     "text": [
      "Accuracy = 100% (4435/4435) (classification)\n",
      "(100.0, 0.0, 1.0)\n",
      "\"2\" versus \"not 2\" : Ein = 0.0\n",
      "Accuracy = 99.7294% (4423/4435) (classification)\n",
      "(99.72942502818489, 0.010822998872604284, 0.9841734986966887)\n",
      "\"3\" versus \"not 3\" : Ein = 0.27057497181510826\n",
      "Accuracy = 99.1657% (4398/4435) (classification)\n",
      "(99.16572717023675, 0.03337091319052988, 0.9039585433862588)\n",
      "\"4\" versus \"not 4\" : Ein = 0.8342728297632505\n",
      "Accuracy = 100% (4435/4435) (classification)\n",
      "(100.0, 0.0, 1.0)\n",
      "\"5\" versus \"not 5\" : Ein = 0.0\n",
      "Accuracy = 99.7069% (4422/4435) (classification)\n",
      "(99.70687711386697, 0.011724915445321308, 0.9836984374076272)\n",
      "\"6\" versus \"not 6\" : Ein = 0.29312288613303394\n",
      "=============================\n",
      "4 reaches the max Ein\n"
     ]
    }
   ],
   "source": [
    "train_filePath = 'satimage.scale'\n",
    "\n",
    "y_train, X_train = svm_read_problem(train_filePath)\n",
    "\n",
    "maxEin = 0\n",
    "ans = 0\n",
    "for target in range(2, 7):\n",
    "    new_y_train = relabel(y_train, target)\n",
    "\n",
    "    model = svm_train(new_y_train, X_train, '-s 0 -c 10 -d 3 -t 1 -g 1 -r 1')\n",
    "    p_label, p_acc, p_val = svm_predict(new_y_train, X_train, model)\n",
    "    print(p_acc)\n",
    "    Ein = 100 - p_acc[0]\n",
    "    print(f'\\\"{target}\\\" versus \\\"not {target}\\\" : Ein = {Ein}')\n",
    "\n",
    "    if Ein > maxEin:\n",
    "        maxEin = Ein\n",
    "        ans = target\n",
    "\n",
    "print('=============================')\n",
    "print(f'{ans} reaches the max Ein')"
   ]
  }
 ],
 "metadata": {
  "interpreter": {
   "hash": "b3140c15f8c543afaecd51f7585697eb95506ea7acc11748be6f09d14f5b0914"
  },
  "kernelspec": {
   "display_name": "Python 3.6.7 64-bit ('ML': conda)",
   "language": "python",
   "name": "python3"
  },
  "language_info": {
   "codemirror_mode": {
    "name": "ipython",
    "version": 3
   },
   "file_extension": ".py",
   "mimetype": "text/x-python",
   "name": "python",
   "nbconvert_exporter": "python",
   "pygments_lexer": "ipython3",
   "version": "3.6.7"
  },
  "orig_nbformat": 4
 },
 "nbformat": 4,
 "nbformat_minor": 2
}
