{
 "cells": [
  {
   "cell_type": "code",
   "execution_count": 1,
   "metadata": {},
   "outputs": [],
   "source": [
    "import numpy as np"
   ]
  },
  {
   "cell_type": "code",
   "execution_count": 2,
   "metadata": {},
   "outputs": [],
   "source": [
    "def readFile(path):\n",
    "    X = []\n",
    "    y = []\n",
    "    for line in open(path).readlines():\n",
    "        data = line.strip().split(' ')\n",
    "        y.append(float(data[-1]))\n",
    "        X.append(list(map(float, data[:-1])))\n",
    "\n",
    "    return np.array(X), np.array(y)\n",
    "\n",
    "def decisionStump(X, y, u):\n",
    "    X_sorted = np.sort(X)\n",
    "    thetas = [(X_sorted[i-1] + X_sorted[i]) / 2 if i != 0 else -np.inf for i in range(X.shape[0])]\n",
    "\n",
    "    pocket_s = 1\n",
    "    pocket_t = 1\n",
    "    pocket_err = 1\n",
    "    for t in thetas:\n",
    "        s = 1\n",
    "        y_pred = np.sign(X - t)\n",
    "        err1 = np.sum(u * (y != y_pred)) / X.shape[0]\n",
    "        err2 = np.sum(u * (y != -1 * y_pred)) / X.shape[0]\n",
    "\n",
    "        if err1 > err2:\n",
    "            err1 = err2\n",
    "            s = -1\n",
    "        \n",
    "        if err1 < pocket_err:\n",
    "            pocket_s = s\n",
    "            pocket_t = t\n",
    "            pocket_err = err1\n",
    "    \n",
    "    return pocket_s, pocket_t, pocket_err\n",
    "\n",
    "def getBest_s_theta(X, y, u):\n",
    "    pocket_s = 1\n",
    "    pocket_t = 1\n",
    "    pocket_err = 1\n",
    "    pocket_feature = 0\n",
    "    for i in range(X.shape[1]):\n",
    "        s, t, err = decisionStump(X[:, i], y, u)\n",
    "\n",
    "        if err < pocket_err:\n",
    "            pocket_s = s\n",
    "            pocket_t = t\n",
    "            pocket_err = err\n",
    "            pocket_feature = i\n",
    "    \n",
    "    return pocket_s, pocket_t, pocket_err, pocket_feature\n",
    "\n",
    "def calGt(X, y, alpha, param, isUniform):\n",
    "    vote = 0\n",
    "    for i in range(len(alpha)):\n",
    "        p_s, p_t, _, p_feature = param[i]\n",
    "        y_predict = p_s * np.sign(X[:, p_feature] - p_t)\n",
    "\n",
    "        if isUniform == True:\n",
    "            a = 1\n",
    "        else:\n",
    "            a = alpha[i]\n",
    "\n",
    "        vote += a * y_predict\n",
    "    \n",
    "    return np.sum(y != np.sign(vote)) / y.shape[0]"
   ]
  },
  {
   "cell_type": "code",
   "execution_count": 3,
   "metadata": {},
   "outputs": [
    {
     "name": "stdout",
     "output_type": "stream",
     "text": [
      "(1000, 10)\n",
      "(1000, 10)\n"
     ]
    }
   ],
   "source": [
    "train_filePath = 'hw6_train.dat'\n",
    "test_filePath = 'hw6_test.dat'\n",
    "\n",
    "X_train, y_train = readFile(train_filePath)\n",
    "X_test, y_test = readFile(test_filePath)\n",
    "\n",
    "print(X_train.shape)\n",
    "print(X_test.shape)"
   ]
  },
  {
   "cell_type": "code",
   "execution_count": 4,
   "metadata": {},
   "outputs": [],
   "source": [
    "u = np.ones(X_train.shape[0]) / X_train.shape[0]\n",
    "Ein_gts = []\n",
    "Ein_Gts = []\n",
    "Alphas = []\n",
    "Params = []\n",
    "expTimes = 500\n",
    "for expTime in range(expTimes):\n",
    "    best_s, best_t, err, select_feature = getBest_s_theta(X_train, y_train, u)\n",
    "    Params.append([best_s, best_t, err, select_feature])\n",
    "    y_pred = best_s * np.sign(X_train[:, select_feature] - best_t)\n",
    "    et = err * X_train.shape[0] / np.sum(u)\n",
    "    dt = np.sqrt((1 - et) / et)\n",
    "    Alphas.append(np.log(dt))\n",
    "    u = np.where(y_train != y_pred, u * dt, u / dt)\n",
    "    Ein_gts.append(np.sum(y_train != y_pred) / X_train.shape[0])\n",
    "    Ein_Gts.append(calGt(X_train, y_train, Alphas[:expTime], Params[:expTime], False))"
   ]
  },
  {
   "cell_type": "markdown",
   "metadata": {},
   "source": [
    "# Q11"
   ]
  },
  {
   "cell_type": "code",
   "execution_count": 5,
   "metadata": {},
   "outputs": [
    {
     "name": "stdout",
     "output_type": "stream",
     "text": [
      "Q11 : 0.374\n"
     ]
    }
   ],
   "source": [
    "print(f'Q11 : {Ein_gts[0]}')"
   ]
  },
  {
   "cell_type": "markdown",
   "metadata": {},
   "source": [
    "# Q12"
   ]
  },
  {
   "cell_type": "code",
   "execution_count": 6,
   "metadata": {},
   "outputs": [
    {
     "name": "stdout",
     "output_type": "stream",
     "text": [
      "Q12 : 0.591\n"
     ]
    }
   ],
   "source": [
    "print(f'Q12 : {max(Ein_gts)}')"
   ]
  },
  {
   "cell_type": "markdown",
   "metadata": {},
   "source": [
    "# Q13"
   ]
  },
  {
   "cell_type": "code",
   "execution_count": 7,
   "metadata": {},
   "outputs": [
    {
     "name": "stdout",
     "output_type": "stream",
     "text": [
      "Q13 : 356\n"
     ]
    }
   ],
   "source": [
    "t = 0\n",
    "for i in range(len(Ein_Gts)):\n",
    "    if Ein_Gts[i] <= 0.05:\n",
    "        t = i\n",
    "        break\n",
    "\n",
    "print(f'Q13 : {t + 1}')"
   ]
  },
  {
   "cell_type": "markdown",
   "metadata": {},
   "source": [
    "# Q14"
   ]
  },
  {
   "cell_type": "code",
   "execution_count": 8,
   "metadata": {},
   "outputs": [
    {
     "name": "stdout",
     "output_type": "stream",
     "text": [
      "Q14 : 0.455\n"
     ]
    }
   ],
   "source": [
    "Eout_gt = []\n",
    "Eout_Gt = []\n",
    "Eout_Gt_uniform = []\n",
    "for i in range(len(Alphas)):\n",
    "    p_s, p_t, p_err, p_feature = Params[i]\n",
    "    y_predict = p_s * np.sign(X_test[:, p_feature] - p_t)\n",
    "    Eout = np.sum(y_test != y_predict) / y_test.shape[0]\n",
    "    Eout_gt.append(Eout)\n",
    "    Eout_Gt.append(calGt(X_test, y_test, Alphas[:i], Params[:i], False))\n",
    "    Eout_Gt_uniform.append(calGt(X_test, y_test, Alphas[:i], Params[:i], True))\n",
    "\n",
    "print(f'Q14 : {Eout_gt[0]}')"
   ]
  },
  {
   "cell_type": "markdown",
   "metadata": {},
   "source": [
    "# Q15"
   ]
  },
  {
   "cell_type": "code",
   "execution_count": 9,
   "metadata": {},
   "outputs": [
    {
     "name": "stdout",
     "output_type": "stream",
     "text": [
      "Q15 : 0.225\n"
     ]
    }
   ],
   "source": [
    "print(f'Q15 : {Eout_Gt_uniform[-1]}')"
   ]
  },
  {
   "cell_type": "markdown",
   "metadata": {},
   "source": [
    "# Q16"
   ]
  },
  {
   "cell_type": "code",
   "execution_count": 10,
   "metadata": {},
   "outputs": [
    {
     "name": "stdout",
     "output_type": "stream",
     "text": [
      "Q16 : 0.185\n"
     ]
    }
   ],
   "source": [
    "print(f'Q16 : {Eout_Gt[-1]}')"
   ]
  }
 ],
 "metadata": {
  "interpreter": {
   "hash": "b3140c15f8c543afaecd51f7585697eb95506ea7acc11748be6f09d14f5b0914"
  },
  "kernelspec": {
   "display_name": "Python 3.6.7 64-bit ('ML': conda)",
   "language": "python",
   "name": "python3"
  },
  "language_info": {
   "codemirror_mode": {
    "name": "ipython",
    "version": 3
   },
   "file_extension": ".py",
   "mimetype": "text/x-python",
   "name": "python",
   "nbconvert_exporter": "python",
   "pygments_lexer": "ipython3",
   "version": "3.6.7"
  },
  "orig_nbformat": 4
 },
 "nbformat": 4,
 "nbformat_minor": 2
}
