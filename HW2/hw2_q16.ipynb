{
 "cells": [
  {
   "cell_type": "code",
   "execution_count": 4,
   "metadata": {},
   "outputs": [],
   "source": [
    "import numpy as np"
   ]
  },
  {
   "cell_type": "code",
   "execution_count": 5,
   "metadata": {},
   "outputs": [],
   "source": [
    "def flipCoin(dataNum, seed):\n",
    "    np.random.seed(seed)\n",
    "\n",
    "    coin = np.random.randint(0, 2, dataNum)\n",
    "    coin = coin * 2 - 1\n",
    "    data = np.empty((dataNum, 4))\n",
    "    for i in range(dataNum):\n",
    "        data[i][0] = 1\n",
    "        if coin[i] == 1:\n",
    "            data[i][1:3] = np.random.multivariate_normal(mean=[2, 3], cov=[[0.6, 0], [0, 0.6]], size=1)\n",
    "            data[i][3] = 1\n",
    "        else:\n",
    "            data[i][1:3] = np.random.multivariate_normal(mean=[0, 4], cov=[[0.4, 0], [0, 0.4]], size=1)\n",
    "            data[i][3] = -1\n",
    "\n",
    "    return data\n",
    "\n",
    "def sigmoid(x):\n",
    "    return 1 / (1 + np.exp(-x))\n",
    "\n",
    "def SGD(X, y, learning_rate, weight, epoch):\n",
    "    for i in range(epoch):\n",
    "        grad = 0\n",
    "        for i in range(X.shape[0]):\n",
    "            grad += sigmoid(-1 * y[i] * np.dot(weight.T, X[i])) * (y[i] * X[i]) \n",
    "        weight += learning_rate * grad / X.shape[0]\n",
    "    \n",
    "    return weight\n",
    "\n",
    "def genearteOutlier(dataNum, seed):\n",
    "    data = np.empty((dataNum, 4))\n",
    "    \n",
    "    for i in range(dataNum):\n",
    "        data[i][0] = 1\n",
    "        data[i][1:3] = np.random.multivariate_normal(mean=[6, 0], cov=[[0.3, 0], [0, 0.1]], size=1)\n",
    "        data[i][3] = 1\n",
    "    \n",
    "    return data"
   ]
  },
  {
   "cell_type": "code",
   "execution_count": 6,
   "metadata": {},
   "outputs": [
    {
     "name": "stdout",
     "output_type": "stream",
     "text": [
      "0.09270599999999998\n",
      "0.058842000000000026\n"
     ]
    }
   ],
   "source": [
    "Eout_linear_regression = []\n",
    "Eout_logistic_regression = []\n",
    "expTimes = 100\n",
    "for i in range(expTimes):\n",
    "    coinData_train = flipCoin(200, i)\n",
    "    coinData_outlier = genearteOutlier(20, i)\n",
    "    coinData_train = np.concatenate((coinData_train, coinData_outlier), axis=0)\n",
    "    coinData_test = flipCoin(5000, i)\n",
    "    X_train, y_train = coinData_train[:, :3], coinData_train[:, 3]\n",
    "    X_test, y_test = coinData_test[:, :3], coinData_test[:, 3]\n",
    "\n",
    "    dagger = np.linalg.pinv(X_train)\n",
    "    wlin = np.matmul(dagger, y_train)\n",
    "    Pred_train = np.matmul(X_train, wlin)\n",
    "    Pred_test = np.matmul(X_test, wlin)\n",
    "    Pred_test = [np.sign(e) for e in Pred_test]\n",
    "    Eout = np.mean(Pred_test != y_test)\n",
    "    Eout_linear_regression.append(Eout)\n",
    "\n",
    "    w = np.zeros(3)\n",
    "    w = SGD(X_train, y_train, 0.1, w, 500)\n",
    "    Pred_test = np.sign(sigmoid(np.dot(X_test, w)) - 0.5)\n",
    "    Eout = np.mean(Pred_test != y_test)\n",
    "    Eout_logistic_regression.append(Eout)\n",
    "\n",
    "print(sum(Eout_linear_regression) / expTimes)\n",
    "print(sum(Eout_logistic_regression) / expTimes)"
   ]
  }
 ],
 "metadata": {
  "interpreter": {
   "hash": "b3140c15f8c543afaecd51f7585697eb95506ea7acc11748be6f09d14f5b0914"
  },
  "kernelspec": {
   "display_name": "Python 3.6.7 64-bit ('ML': conda)",
   "language": "python",
   "name": "python3"
  },
  "language_info": {
   "codemirror_mode": {
    "name": "ipython",
    "version": 3
   },
   "file_extension": ".py",
   "mimetype": "text/x-python",
   "name": "python",
   "nbconvert_exporter": "python",
   "pygments_lexer": "ipython3",
   "version": "3.6.7"
  },
  "orig_nbformat": 4
 },
 "nbformat": 4,
 "nbformat_minor": 2
}
